{
 "cells": [
  {
   "cell_type": "markdown",
   "metadata": {},
   "source": [
    "### Working with Date and Time"
   ]
  },
  {
   "cell_type": "markdown",
   "metadata": {},
   "source": [
    "Dates.Time\n",
    "Dates.Date\n",
    "Dates.Datetime"
   ]
  },
  {
   "cell_type": "code",
   "execution_count": 1,
   "metadata": {},
   "outputs": [],
   "source": [
    "using Dates # import"
   ]
  },
  {
   "cell_type": "code",
   "execution_count": 2,
   "metadata": {},
   "outputs": [
    {
     "data": {
      "text/plain": [
       "2021-12-30T22:25:54.878"
      ]
     },
     "execution_count": 2,
     "metadata": {},
     "output_type": "execute_result"
    }
   ],
   "source": [
    "now() # current date and time"
   ]
  },
  {
   "cell_type": "code",
   "execution_count": 3,
   "metadata": {},
   "outputs": [
    {
     "data": {
      "text/plain": [
       "2021-12-30"
      ]
     },
     "execution_count": 3,
     "metadata": {},
     "output_type": "execute_result"
    }
   ],
   "source": [
    "today() # current date"
   ]
  },
  {
   "cell_type": "code",
   "execution_count": 4,
   "metadata": {},
   "outputs": [
    {
     "data": {
      "text/plain": [
       "2000-05-01"
      ]
     },
     "execution_count": 4,
     "metadata": {},
     "output_type": "execute_result"
    }
   ],
   "source": [
    "birthdate1 = Date(2000,5,1) #yyyy,mm,dd"
   ]
  },
  {
   "cell_type": "code",
   "execution_count": 5,
   "metadata": {},
   "outputs": [
    {
     "data": {
      "text/plain": [
       "2000-05-01T10:15:25"
      ]
     },
     "execution_count": 5,
     "metadata": {},
     "output_type": "execute_result"
    }
   ],
   "source": [
    "birthdate=DateTime(2000,5,1,10,15,25) "
   ]
  },
  {
   "cell_type": "code",
   "execution_count": 6,
   "metadata": {},
   "outputs": [
    {
     "data": {
      "text/plain": [
       "2021-12-30T16:55:57.238"
      ]
     },
     "execution_count": 6,
     "metadata": {},
     "output_type": "execute_result"
    }
   ],
   "source": [
    "now(UTC) # different time zone"
   ]
  },
  {
   "cell_type": "code",
   "execution_count": 7,
   "metadata": {},
   "outputs": [
    {
     "data": {
      "text/plain": [
       "2000"
      ]
     },
     "execution_count": 7,
     "metadata": {},
     "output_type": "execute_result"
    }
   ],
   "source": [
    "year(birthdate) #extract year"
   ]
  },
  {
   "cell_type": "code",
   "execution_count": 8,
   "metadata": {},
   "outputs": [
    {
     "data": {
      "text/plain": [
       "5"
      ]
     },
     "execution_count": 8,
     "metadata": {},
     "output_type": "execute_result"
    }
   ],
   "source": [
    "month(birthdate) #extract month"
   ]
  },
  {
   "cell_type": "code",
   "execution_count": 9,
   "metadata": {},
   "outputs": [
    {
     "data": {
      "text/plain": [
       "1"
      ]
     },
     "execution_count": 9,
     "metadata": {},
     "output_type": "execute_result"
    }
   ],
   "source": [
    "day(birthdate) #extrect day"
   ]
  },
  {
   "cell_type": "code",
   "execution_count": 10,
   "metadata": {},
   "outputs": [
    {
     "data": {
      "text/plain": [
       "2021"
      ]
     },
     "execution_count": 10,
     "metadata": {},
     "output_type": "execute_result"
    }
   ],
   "source": [
    "year(now()) # current year"
   ]
  },
  {
   "cell_type": "code",
   "execution_count": 11,
   "metadata": {},
   "outputs": [
    {
     "data": {
      "text/plain": [
       "22"
      ]
     },
     "execution_count": 11,
     "metadata": {},
     "output_type": "execute_result"
    }
   ],
   "source": [
    "hour(now()) # current hrs"
   ]
  },
  {
   "cell_type": "code",
   "execution_count": 12,
   "metadata": {},
   "outputs": [
    {
     "data": {
      "text/plain": [
       "1"
      ]
     },
     "execution_count": 12,
     "metadata": {},
     "output_type": "execute_result"
    }
   ],
   "source": [
    "dayofweek(birthdate) #extract day of week"
   ]
  },
  {
   "cell_type": "code",
   "execution_count": 13,
   "metadata": {},
   "outputs": [
    {
     "data": {
      "text/plain": [
       "\"Monday\""
      ]
     },
     "execution_count": 13,
     "metadata": {},
     "output_type": "execute_result"
    }
   ],
   "source": [
    "dayname(birthdate) # exctract day name"
   ]
  },
  {
   "cell_type": "code",
   "execution_count": 14,
   "metadata": {},
   "outputs": [
    {
     "data": {
      "text/plain": [
       "31"
      ]
     },
     "execution_count": 14,
     "metadata": {},
     "output_type": "execute_result"
    }
   ],
   "source": [
    "dayofquarter(birthdate)"
   ]
  },
  {
   "cell_type": "code",
   "execution_count": 15,
   "metadata": {},
   "outputs": [
    {
     "data": {
      "text/plain": [
       "31"
      ]
     },
     "execution_count": 15,
     "metadata": {},
     "output_type": "execute_result"
    }
   ],
   "source": [
    "daysinmonth(birthdate) # extract days in month"
   ]
  },
  {
   "cell_type": "code",
   "execution_count": 16,
   "metadata": {},
   "outputs": [
    {
     "data": {
      "text/plain": [
       "7913 days"
      ]
     },
     "execution_count": 16,
     "metadata": {},
     "output_type": "execute_result"
    }
   ],
   "source": [
    "today() - birthdate1 #arithematic operations"
   ]
  },
  {
   "cell_type": "code",
   "execution_count": 17,
   "metadata": {},
   "outputs": [
    {
     "data": {
      "text/plain": [
       "2022-05-30"
      ]
     },
     "execution_count": 17,
     "metadata": {},
     "output_type": "execute_result"
    }
   ],
   "source": [
    "today() + Month(5) #adding months"
   ]
  },
  {
   "cell_type": "code",
   "execution_count": 18,
   "metadata": {},
   "outputs": [
    {
     "data": {
      "text/plain": [
       "dateformat\"dd-mm-yyyy\""
      ]
     },
     "execution_count": 18,
     "metadata": {},
     "output_type": "execute_result"
    }
   ],
   "source": [
    "date_format= DateFormat(\"dd-mm-yyyy\")"
   ]
  },
  {
   "cell_type": "code",
   "execution_count": 19,
   "metadata": {},
   "outputs": [
    {
     "data": {
      "text/plain": [
       "\"01-05-2000\""
      ]
     },
     "execution_count": 19,
     "metadata": {},
     "output_type": "execute_result"
    }
   ],
   "source": [
    "Dates.format(birthdate,date_format)"
   ]
  },
  {
   "cell_type": "markdown",
   "metadata": {},
   "source": [
    "### Conditional statements"
   ]
  },
  {
   "cell_type": "code",
   "execution_count": 20,
   "metadata": {},
   "outputs": [
    {
     "data": {
      "text/plain": [
       "10"
      ]
     },
     "execution_count": 20,
     "metadata": {},
     "output_type": "execute_result"
    }
   ],
   "source": [
    "a = 10"
   ]
  },
  {
   "cell_type": "code",
   "execution_count": 21,
   "metadata": {},
   "outputs": [
    {
     "data": {
      "text/plain": [
       "\"no\""
      ]
     },
     "execution_count": 21,
     "metadata": {},
     "output_type": "execute_result"
    }
   ],
   "source": [
    "a > 10 ? \"yes\" : \"no\""
   ]
  },
  {
   "cell_type": "code",
   "execution_count": 22,
   "metadata": {},
   "outputs": [
    {
     "data": {
      "text/plain": [
       "\"No\""
      ]
     },
     "execution_count": 22,
     "metadata": {},
     "output_type": "execute_result"
    }
   ],
   "source": [
    "a < 10 ? \"Yes\" : \"No\""
   ]
  },
  {
   "cell_type": "code",
   "execution_count": 23,
   "metadata": {},
   "outputs": [
    {
     "data": {
      "text/plain": [
       "\"Yes\""
      ]
     },
     "execution_count": 23,
     "metadata": {},
     "output_type": "execute_result"
    }
   ],
   "source": [
    "a <= 10 ? \"Yes\" : \"No\""
   ]
  },
  {
   "cell_type": "code",
   "execution_count": 24,
   "metadata": {},
   "outputs": [
    {
     "data": {
      "text/plain": [
       "20"
      ]
     },
     "execution_count": 24,
     "metadata": {},
     "output_type": "execute_result"
    }
   ],
   "source": [
    "b =20"
   ]
  },
  {
   "cell_type": "markdown",
   "metadata": {},
   "source": [
    "- It will give false only when both the conditions are false\n"
   ]
  },
  {
   "cell_type": "code",
   "execution_count": 25,
   "metadata": {},
   "outputs": [
    {
     "data": {
      "text/plain": [
       "true"
      ]
     },
     "execution_count": 25,
     "metadata": {},
     "output_type": "execute_result"
    }
   ],
   "source": [
    "a >= 10 || b<20 #logical operators #or condition"
   ]
  },
  {
   "cell_type": "code",
   "execution_count": 26,
   "metadata": {},
   "outputs": [
    {
     "data": {
      "text/plain": [
       "false"
      ]
     },
     "execution_count": 26,
     "metadata": {},
     "output_type": "execute_result"
    }
   ],
   "source": [
    "a > 10 || b< 20 # both statements are false"
   ]
  },
  {
   "cell_type": "markdown",
   "metadata": {},
   "source": [
    "- Both the conditions needs to be true."
   ]
  },
  {
   "cell_type": "code",
   "execution_count": 27,
   "metadata": {},
   "outputs": [
    {
     "data": {
      "text/plain": [
       "false"
      ]
     },
     "execution_count": 27,
     "metadata": {},
     "output_type": "execute_result"
    }
   ],
   "source": [
    "# and operator \n",
    "a >= 10 && b < 20 "
   ]
  },
  {
   "cell_type": "code",
   "execution_count": 28,
   "metadata": {},
   "outputs": [
    {
     "data": {
      "text/plain": [
       "true"
      ]
     },
     "execution_count": 28,
     "metadata": {},
     "output_type": "execute_result"
    }
   ],
   "source": [
    "a >= 10 && b <=20"
   ]
  },
  {
   "cell_type": "code",
   "execution_count": 29,
   "metadata": {},
   "outputs": [
    {
     "name": "stdout",
     "output_type": "stream",
     "text": [
      " a is equal to 10"
     ]
    }
   ],
   "source": [
    "# if condition\n",
    "if a > 10\n",
    "    print(\"a is grater thnan 10\")\n",
    "elseif a < 10\n",
    "    print(\"a is less than 10\")\n",
    "else\n",
    "    print(\" a is equal to 10\")\n",
    "end"
   ]
  },
  {
   "cell_type": "code",
   "execution_count": 30,
   "metadata": {},
   "outputs": [
    {
     "data": {
      "text/plain": [
       "\"United States\""
      ]
     },
     "execution_count": 30,
     "metadata": {},
     "output_type": "execute_result"
    }
   ],
   "source": [
    "country = \"United States\""
   ]
  },
  {
   "cell_type": "code",
   "execution_count": 31,
   "metadata": {},
   "outputs": [
    {
     "name": "stdout",
     "output_type": "stream",
     "text": [
      "you mention United State"
     ]
    }
   ],
   "source": [
    "if country == \"United States\"\n",
    "    print(\"you mention United State\")\n",
    "else\n",
    "    print(\"other country\")\n",
    "end"
   ]
  },
  {
   "cell_type": "markdown",
   "metadata": {},
   "source": [
    "### Loops"
   ]
  },
  {
   "cell_type": "code",
   "execution_count": 32,
   "metadata": {},
   "outputs": [
    {
     "name": "stdout",
     "output_type": "stream",
     "text": [
      "Adidas Nike Puma "
     ]
    }
   ],
   "source": [
    "for i in [\"Adidas\",\"Nike\",\"Puma\"] #array\n",
    "    print(i, \" \")\n",
    "end"
   ]
  },
  {
   "cell_type": "code",
   "execution_count": 33,
   "metadata": {},
   "outputs": [
    {
     "name": "stdout",
     "output_type": "stream",
     "text": [
      "Adidas\n",
      "Nike\n",
      "Puma\n"
     ]
    }
   ],
   "source": [
    "for i in [\"Adidas\",\"Nike\",\"Puma\"]\n",
    "    println(i)\n",
    "end"
   ]
  },
  {
   "cell_type": "code",
   "execution_count": 34,
   "metadata": {},
   "outputs": [
    {
     "name": "stdout",
     "output_type": "stream",
     "text": [
      "A\n",
      "d\n",
      "i\n",
      "d\n",
      "a\n",
      "s\n"
     ]
    }
   ],
   "source": [
    "for i in \"Adidas\"\n",
    "    println(i)\n",
    "end"
   ]
  },
  {
   "cell_type": "code",
   "execution_count": 35,
   "metadata": {},
   "outputs": [
    {
     "name": "stdout",
     "output_type": "stream",
     "text": [
      "1 2 3 4 5 "
     ]
    }
   ],
   "source": [
    "for t in (1,2,3,4,5) #tuple\n",
    "    print(t,\" \")\n",
    "end\n"
   ]
  },
  {
   "cell_type": "code",
   "execution_count": 36,
   "metadata": {},
   "outputs": [
    {
     "name": "stdout",
     "output_type": "stream",
     "text": [
      "1\n",
      "2\n",
      "3\n",
      "4\n",
      "5\n"
     ]
    }
   ],
   "source": [
    "for t in (1,2,3,4,5)\n",
    "    println(t)\n",
    "end\n"
   ]
  },
  {
   "cell_type": "code",
   "execution_count": 37,
   "metadata": {},
   "outputs": [
    {
     "name": "stdout",
     "output_type": "stream",
     "text": [
      ":car2 => 200 :car1 => 100 "
     ]
    }
   ],
   "source": [
    "for d in Dict(:car1 =>100, :car2 => 200)#dictonary\n",
    "    print(d, \" \")\n",
    "end\n"
   ]
  },
  {
   "cell_type": "code",
   "execution_count": 38,
   "metadata": {},
   "outputs": [
    {
     "data": {
      "text/plain": [
       "Dict{Symbol, Int64} with 2 entries:\n",
       "  :car2 => 200\n",
       "  :car1 => 100"
      ]
     },
     "execution_count": 38,
     "metadata": {},
     "output_type": "execute_result"
    }
   ],
   "source": [
    "d1= Dict(:car1 =>100, :car2 => 200)"
   ]
  },
  {
   "cell_type": "code",
   "execution_count": 39,
   "metadata": {},
   "outputs": [
    {
     "name": "stdout",
     "output_type": "stream",
     "text": [
      ":car2 => 200 :car1 => 100 "
     ]
    }
   ],
   "source": [
    "for d in d1\n",
    "    print(d, \" \")\n",
    "end\n"
   ]
  },
  {
   "cell_type": "code",
   "execution_count": 40,
   "metadata": {},
   "outputs": [
    {
     "name": "stdout",
     "output_type": "stream",
     "text": [
      "54231"
     ]
    }
   ],
   "source": [
    "for s in Set([1,2,3,4,5]) #set\n",
    "    print(s)\n",
    "end\n"
   ]
  },
  {
   "cell_type": "code",
   "execution_count": 41,
   "metadata": {},
   "outputs": [
    {
     "name": "stdout",
     "output_type": "stream",
     "text": [
      "1 2 3 4 5 "
     ]
    }
   ],
   "source": [
    "for range in 1:5 #range\n",
    "    print(range, \" \")\n",
    "end"
   ]
  },
  {
   "cell_type": "code",
   "execution_count": 42,
   "metadata": {},
   "outputs": [
    {
     "name": "stdout",
     "output_type": "stream",
     "text": [
      "range = 1\n",
      "range = 2\n",
      "range = 3\n",
      "range = 4\n",
      "range = 5\n"
     ]
    }
   ],
   "source": [
    "for range in 1:5 #range\n",
    "    @show range #relation of variable\n",
    "end"
   ]
  },
  {
   "cell_type": "code",
   "execution_count": 43,
   "metadata": {},
   "outputs": [
    {
     "name": "stdout",
     "output_type": "stream",
     "text": [
      "2 4 6 8 10 "
     ]
    }
   ],
   "source": [
    "for x in 1:10 # even number\n",
    "    if x % 2==0\n",
    "        print(x, \" \")\n",
    "    end\n",
    "end"
   ]
  },
  {
   "cell_type": "code",
   "execution_count": 44,
   "metadata": {},
   "outputs": [
    {
     "name": "stdout",
     "output_type": "stream",
     "text": [
      "10 is multiplication between 1 and 10\n",
      "20 is multiplication between 2 and 10\n",
      "30 is multiplication between 3 and 10\n",
      "40 is multiplication between 4 and 10\n",
      "50 is multiplication between 5 and 10\n",
      "60 is multiplication between 6 and 10\n",
      "70 is multiplication between 7 and 10\n",
      "80 is multiplication between 8 and 10\n",
      "90 is multiplication between 9 and 10\n",
      "100 is multiplication between 10 and 10\n"
     ]
    }
   ],
   "source": [
    "for i in 1:10\n",
    "    j = i * 10\n",
    "    println(\"$(j) is multiplication between $(i) and 10\")\n",
    "end\n"
   ]
  },
  {
   "cell_type": "code",
   "execution_count": 45,
   "metadata": {},
   "outputs": [
    {
     "name": "stdout",
     "output_type": "stream",
     "text": [
      "1\n",
      "3\n",
      "5\n",
      "7\n",
      "9\n"
     ]
    }
   ],
   "source": [
    "for i in 1:10\n",
    "    if i % 2 ==0\n",
    "        continue # it will ignore even number and print odd number\n",
    "    end\n",
    "    println(i)\n",
    "end\n"
   ]
  },
  {
   "cell_type": "code",
   "execution_count": 46,
   "metadata": {},
   "outputs": [
    {
     "data": {
      "text/plain": [
       "1"
      ]
     },
     "execution_count": 46,
     "metadata": {},
     "output_type": "execute_result"
    }
   ],
   "source": [
    "a = 1"
   ]
  },
  {
   "cell_type": "code",
   "execution_count": 47,
   "metadata": {},
   "outputs": [
    {
     "name": "stdout",
     "output_type": "stream",
     "text": [
      "1\n",
      "2\n",
      "3\n",
      "4\n",
      "5\n",
      "6\n",
      "7\n",
      "8\n",
      "9\n"
     ]
    }
   ],
   "source": [
    "while a < 10 \n",
    "    println(a)\n",
    "    a += 1 \n",
    "end"
   ]
  },
  {
   "cell_type": "markdown",
   "metadata": {},
   "source": [
    "### Comprehensions"
   ]
  },
  {
   "cell_type": "code",
   "execution_count": 48,
   "metadata": {},
   "outputs": [
    {
     "data": {
      "text/plain": [
       "10-element Vector{Int64}:\n",
       "  1\n",
       "  2\n",
       "  3\n",
       "  4\n",
       "  5\n",
       "  6\n",
       "  7\n",
       "  8\n",
       "  9\n",
       " 10"
      ]
     },
     "execution_count": 48,
     "metadata": {},
     "output_type": "execute_result"
    }
   ],
   "source": [
    "x = [i for i in 1:10]"
   ]
  },
  {
   "cell_type": "code",
   "execution_count": 49,
   "metadata": {},
   "outputs": [
    {
     "data": {
      "text/plain": [
       "10-element Vector{Int64}:\n",
       "  2\n",
       "  4\n",
       "  6\n",
       "  8\n",
       " 10\n",
       " 12\n",
       " 14\n",
       " 16\n",
       " 18\n",
       " 20"
      ]
     },
     "execution_count": 49,
     "metadata": {},
     "output_type": "execute_result"
    }
   ],
   "source": [
    "x = [i*2 for i in 1:10]"
   ]
  },
  {
   "cell_type": "code",
   "execution_count": 50,
   "metadata": {},
   "outputs": [
    {
     "data": {
      "text/plain": [
       "10-element Vector{Int64}:\n",
       "   1\n",
       "   4\n",
       "   9\n",
       "  16\n",
       "  25\n",
       "  36\n",
       "  49\n",
       "  64\n",
       "  81\n",
       " 100"
      ]
     },
     "execution_count": 50,
     "metadata": {},
     "output_type": "execute_result"
    }
   ],
   "source": [
    "x = [i^2 for i in 1:10]"
   ]
  },
  {
   "cell_type": "code",
   "execution_count": 51,
   "metadata": {},
   "outputs": [
    {
     "data": {
      "text/plain": [
       "Set{Int64} with 10 elements:\n",
       "  5\n",
       "  4\n",
       "  6\n",
       "  7\n",
       "  2\n",
       "  10\n",
       "  9\n",
       "  8\n",
       "  3\n",
       "  1"
      ]
     },
     "execution_count": 51,
     "metadata": {},
     "output_type": "execute_result"
    }
   ],
   "source": [
    "s = Set([i for i in 1:10]) # unordered set"
   ]
  },
  {
   "cell_type": "code",
   "execution_count": 52,
   "metadata": {},
   "outputs": [
    {
     "data": {
      "text/plain": [
       "Dict{String, Int64} with 26 entries:\n",
       "  \"Z\" => 26\n",
       "  \"Q\" => 17\n",
       "  \"W\" => 23\n",
       "  \"T\" => 20\n",
       "  \"C\" => 3\n",
       "  \"P\" => 16\n",
       "  \"V\" => 22\n",
       "  \"L\" => 12\n",
       "  \"O\" => 15\n",
       "  \"B\" => 2\n",
       "  \"M\" => 13\n",
       "  \"N\" => 14\n",
       "  \"H\" => 8\n",
       "  \"A\" => 1\n",
       "  \"X\" => 24\n",
       "  \"D\" => 4\n",
       "  \"G\" => 7\n",
       "  \"E\" => 5\n",
       "  \"Y\" => 25\n",
       "  \"I\" => 9\n",
       "  \"J\" => 10\n",
       "  \"S\" => 19\n",
       "  \"U\" => 21\n",
       "  \"K\" => 11\n",
       "  \"R\" => 18\n",
       "  \"F\" => 6"
      ]
     },
     "execution_count": 52,
     "metadata": {},
     "output_type": "execute_result"
    }
   ],
   "source": [
    "alphabet = Dict(string(Char(x_ + 64))=> x_ for x_ in 1:26) # dict comprehension"
   ]
  },
  {
   "cell_type": "code",
   "execution_count": 53,
   "metadata": {},
   "outputs": [
    {
     "data": {
      "text/plain": [
       "3×2 Matrix{Tuple{Int64, Int64}}:\n",
       " (1, 1)  (1, 2)\n",
       " (2, 1)  (2, 2)\n",
       " (3, 1)  (3, 2)"
      ]
     },
     "execution_count": 53,
     "metadata": {},
     "output_type": "execute_result"
    }
   ],
   "source": [
    "[(x,y) for x in 1:3, y in 1:2] #2d array within it has tuple"
   ]
  },
  {
   "cell_type": "code",
   "execution_count": 54,
   "metadata": {},
   "outputs": [
    {
     "data": {
      "text/plain": [
       "5-element Vector{Int64}:\n",
       "  2\n",
       "  4\n",
       "  6\n",
       "  8\n",
       " 10"
      ]
     },
     "execution_count": 54,
     "metadata": {},
     "output_type": "execute_result"
    }
   ],
   "source": [
    "[x for x in 1:10 if x%2 ==0] #even number "
   ]
  },
  {
   "cell_type": "code",
   "execution_count": 55,
   "metadata": {},
   "outputs": [
    {
     "data": {
      "text/plain": [
       "5-element Vector{Int64}:\n",
       " 1\n",
       " 3\n",
       " 5\n",
       " 7\n",
       " 9"
      ]
     },
     "execution_count": 55,
     "metadata": {},
     "output_type": "execute_result"
    }
   ],
   "source": [
    "[x for x in 1:10 if x%2 ==1] #odd number"
   ]
  },
  {
   "cell_type": "markdown",
   "metadata": {},
   "source": [
    "### Working with strings"
   ]
  },
  {
   "cell_type": "code",
   "execution_count": 56,
   "metadata": {},
   "outputs": [
    {
     "data": {
      "text/plain": [
       "\"I love Julia\""
      ]
     },
     "execution_count": 56,
     "metadata": {},
     "output_type": "execute_result"
    }
   ],
   "source": [
    "s1 = \"I love Julia\""
   ]
  },
  {
   "cell_type": "code",
   "execution_count": 57,
   "metadata": {},
   "outputs": [
    {
     "data": {
      "text/plain": [
       "12"
      ]
     },
     "execution_count": 57,
     "metadata": {},
     "output_type": "execute_result"
    }
   ],
   "source": [
    "length(s1) # length of the string"
   ]
  },
  {
   "cell_type": "code",
   "execution_count": 58,
   "metadata": {},
   "outputs": [
    {
     "data": {
      "text/plain": [
       "12"
      ]
     },
     "execution_count": 58,
     "metadata": {},
     "output_type": "execute_result"
    }
   ],
   "source": [
    "lastindex(s1) # last index number"
   ]
  },
  {
   "cell_type": "code",
   "execution_count": 59,
   "metadata": {},
   "outputs": [
    {
     "data": {
      "text/plain": [
       "'o': ASCII/Unicode U+006F (category Ll: Letter, lowercase)"
      ]
     },
     "execution_count": 59,
     "metadata": {},
     "output_type": "execute_result"
    }
   ],
   "source": [
    "s1[4] # indexsing"
   ]
  },
  {
   "cell_type": "code",
   "execution_count": 60,
   "metadata": {},
   "outputs": [
    {
     "data": {
      "text/plain": [
       "\"lo\""
      ]
     },
     "execution_count": 60,
     "metadata": {},
     "output_type": "execute_result"
    }
   ],
   "source": [
    "s1[3:4]"
   ]
  },
  {
   "cell_type": "code",
   "execution_count": 61,
   "metadata": {},
   "outputs": [
    {
     "data": {
      "text/plain": [
       "true"
      ]
     },
     "execution_count": 61,
     "metadata": {},
     "output_type": "execute_result"
    }
   ],
   "source": [
    "isascii(s1) #does string contains ascii charaters or not"
   ]
  },
  {
   "cell_type": "code",
   "execution_count": 62,
   "metadata": {},
   "outputs": [
    {
     "data": {
      "text/plain": [
       "\"juliajuliajuliajuliajulia\""
      ]
     },
     "execution_count": 62,
     "metadata": {},
     "output_type": "execute_result"
    }
   ],
   "source": [
    "\"julia\" ^ 5 # write word in n number of times"
   ]
  },
  {
   "cell_type": "code",
   "execution_count": 63,
   "metadata": {},
   "outputs": [
    {
     "data": {
      "text/plain": [
       "\"Julia python\""
      ]
     },
     "execution_count": 63,
     "metadata": {},
     "output_type": "execute_result"
    }
   ],
   "source": [
    "string(\"Julia\",\" python\") # combining string"
   ]
  },
  {
   "cell_type": "code",
   "execution_count": 64,
   "metadata": {},
   "outputs": [
    {
     "data": {
      "text/plain": [
       "3-element Vector{SubString{String}}:\n",
       " \"I\"\n",
       " \"love\"\n",
       " \"Julia\""
      ]
     },
     "execution_count": 64,
     "metadata": {},
     "output_type": "execute_result"
    }
   ],
   "source": [
    "split(s1) # splitting"
   ]
  },
  {
   "cell_type": "code",
   "execution_count": 65,
   "metadata": {},
   "outputs": [
    {
     "data": {
      "text/plain": [
       "3-element Vector{SubString{String}}:\n",
       " \"I \"\n",
       " \"ove Ju\"\n",
       " \"ia\""
      ]
     },
     "execution_count": 65,
     "metadata": {},
     "output_type": "execute_result"
    }
   ],
   "source": [
    "split(s1,\"l\")"
   ]
  },
  {
   "cell_type": "code",
   "execution_count": 66,
   "metadata": {},
   "outputs": [
    {
     "data": {
      "text/plain": [
       "12-element Vector{SubString{String}}:\n",
       " \"I\"\n",
       " \" \"\n",
       " \"l\"\n",
       " \"o\"\n",
       " \"v\"\n",
       " \"e\"\n",
       " \" \"\n",
       " \"J\"\n",
       " \"u\"\n",
       " \"l\"\n",
       " \"i\"\n",
       " \"a\""
      ]
     },
     "execution_count": 66,
     "metadata": {},
     "output_type": "execute_result"
    }
   ],
   "source": [
    "split(s1,\"\") # splitting one one char"
   ]
  },
  {
   "cell_type": "code",
   "execution_count": 67,
   "metadata": {},
   "outputs": [
    {
     "data": {
      "text/plain": [
       "100"
      ]
     },
     "execution_count": 67,
     "metadata": {},
     "output_type": "execute_result"
    }
   ],
   "source": [
    "parse(Int64, \"100\") #convert string to int as we can do float"
   ]
  },
  {
   "cell_type": "code",
   "execution_count": 68,
   "metadata": {},
   "outputs": [
    {
     "data": {
      "text/plain": [
       "true"
      ]
     },
     "execution_count": 68,
     "metadata": {},
     "output_type": "execute_result"
    }
   ],
   "source": [
    "in('I',s1) #finding an char is present or not"
   ]
  },
  {
   "cell_type": "code",
   "execution_count": 69,
   "metadata": {},
   "outputs": [
    {
     "data": {
      "text/plain": [
       "true"
      ]
     },
     "execution_count": 69,
     "metadata": {},
     "output_type": "execute_result"
    }
   ],
   "source": [
    "occursin(\"Julia\",s1) #finding word  "
   ]
  },
  {
   "cell_type": "code",
   "execution_count": 70,
   "metadata": {},
   "outputs": [
    {
     "data": {
      "text/plain": [
       "3:3"
      ]
     },
     "execution_count": 70,
     "metadata": {},
     "output_type": "execute_result"
    }
   ],
   "source": [
    "findfirst(\"l\",s1) #when the char is occured first"
   ]
  },
  {
   "cell_type": "code",
   "execution_count": 71,
   "metadata": {},
   "outputs": [
    {
     "data": {
      "text/plain": [
       "3:6"
      ]
     },
     "execution_count": 71,
     "metadata": {},
     "output_type": "execute_result"
    }
   ],
   "source": [
    "findfirst(\"love\",s1)"
   ]
  },
  {
   "cell_type": "code",
   "execution_count": 72,
   "metadata": {},
   "outputs": [
    {
     "data": {
      "text/plain": [
       "\"I adore Julia\""
      ]
     },
     "execution_count": 72,
     "metadata": {},
     "output_type": "execute_result"
    }
   ],
   "source": [
    "s1 = replace(s1,\"love\" => \"adore\") # replace word"
   ]
  },
  {
   "cell_type": "code",
   "execution_count": 73,
   "metadata": {},
   "outputs": [
    {
     "data": {
      "text/plain": [
       "\"I adore Julia\""
      ]
     },
     "execution_count": 73,
     "metadata": {},
     "output_type": "execute_result"
    }
   ],
   "source": [
    "s1"
   ]
  },
  {
   "cell_type": "markdown",
   "metadata": {},
   "source": [
    "### Functions"
   ]
  },
  {
   "cell_type": "code",
   "execution_count": 74,
   "metadata": {},
   "outputs": [
    {
     "data": {
      "text/plain": [
       "f (generic function with 1 method)"
      ]
     },
     "execution_count": 74,
     "metadata": {},
     "output_type": "execute_result"
    }
   ],
   "source": [
    "f(x) = x + x"
   ]
  },
  {
   "cell_type": "code",
   "execution_count": 75,
   "metadata": {},
   "outputs": [
    {
     "data": {
      "text/plain": [
       "4"
      ]
     },
     "execution_count": 75,
     "metadata": {},
     "output_type": "execute_result"
    }
   ],
   "source": [
    "f(2)"
   ]
  },
  {
   "cell_type": "code",
   "execution_count": 76,
   "metadata": {},
   "outputs": [
    {
     "data": {
      "text/plain": [
       "f (generic function with 2 methods)"
      ]
     },
     "execution_count": 76,
     "metadata": {},
     "output_type": "execute_result"
    }
   ],
   "source": [
    "f(x,y) = x*2 - y"
   ]
  },
  {
   "cell_type": "code",
   "execution_count": 77,
   "metadata": {},
   "outputs": [
    {
     "data": {
      "text/plain": [
       "1"
      ]
     },
     "execution_count": 77,
     "metadata": {},
     "output_type": "execute_result"
    }
   ],
   "source": [
    "f(2,3)"
   ]
  },
  {
   "cell_type": "code",
   "execution_count": 78,
   "metadata": {},
   "outputs": [
    {
     "data": {
      "text/plain": [
       "multiply (generic function with 1 method)"
      ]
     },
     "execution_count": 78,
     "metadata": {},
     "output_type": "execute_result"
    }
   ],
   "source": [
    "function multiply(x,y) # standrd way of writing function\n",
    "    return x*y \n",
    "end"
   ]
  },
  {
   "cell_type": "code",
   "execution_count": 79,
   "metadata": {},
   "outputs": [
    {
     "data": {
      "text/plain": [
       "9"
      ]
     },
     "execution_count": 79,
     "metadata": {},
     "output_type": "execute_result"
    }
   ],
   "source": [
    "multiply(3,3)"
   ]
  },
  {
   "cell_type": "code",
   "execution_count": 80,
   "metadata": {},
   "outputs": [
    {
     "data": {
      "text/plain": [
       "convert_meter_to_inch (generic function with 1 method)"
      ]
     },
     "execution_count": 80,
     "metadata": {},
     "output_type": "execute_result"
    }
   ],
   "source": [
    "function convert_meter_to_inch(val)\n",
    "    return val * 39.37\n",
    "end"
   ]
  },
  {
   "cell_type": "code",
   "execution_count": 81,
   "metadata": {},
   "outputs": [
    {
     "data": {
      "text/plain": [
       "59.05499999999999"
      ]
     },
     "execution_count": 81,
     "metadata": {},
     "output_type": "execute_result"
    }
   ],
   "source": [
    "convert_meter_to_inch(1.5)"
   ]
  },
  {
   "cell_type": "code",
   "execution_count": 82,
   "metadata": {},
   "outputs": [
    {
     "data": {
      "text/plain": [
       "bmi (generic function with 1 method)"
      ]
     },
     "execution_count": 82,
     "metadata": {},
     "output_type": "execute_result"
    }
   ],
   "source": [
    "function bmi(kg,m)\n",
    "    return kg/m^2\n",
    "end"
   ]
  },
  {
   "cell_type": "code",
   "execution_count": 83,
   "metadata": {},
   "outputs": [
    {
     "data": {
      "text/plain": [
       "0.0020284798571950182"
      ]
     },
     "execution_count": 83,
     "metadata": {},
     "output_type": "execute_result"
    }
   ],
   "source": [
    "bmi(50,157)"
   ]
  },
  {
   "cell_type": "code",
   "execution_count": 84,
   "metadata": {},
   "outputs": [
    {
     "data": {
      "text/plain": [
       "convert_meter_to_inch (generic function with 2 methods)"
      ]
     },
     "execution_count": 84,
     "metadata": {},
     "output_type": "execute_result"
    }
   ],
   "source": [
    "function convert_meter_to_inch(val, name= \"Patron\")\n",
    "    if name == \"Patron\"\n",
    "        println(\"value for name is not supplied\")\n",
    "    else\n",
    "        println(\"Hi \",name,\" the conversetion values is \")\n",
    "    end\n",
    "        return val * 39.37\n",
    "end\n"
   ]
  },
  {
   "cell_type": "code",
   "execution_count": 85,
   "metadata": {},
   "outputs": [
    {
     "name": "stdout",
     "output_type": "stream",
     "text": [
      "value for name is not supplied\n"
     ]
    },
    {
     "data": {
      "text/plain": [
       "90.55099999999999"
      ]
     },
     "execution_count": 85,
     "metadata": {},
     "output_type": "execute_result"
    }
   ],
   "source": [
    "convert_meter_to_inch(2.3)"
   ]
  },
  {
   "cell_type": "code",
   "execution_count": 86,
   "metadata": {},
   "outputs": [
    {
     "name": "stdout",
     "output_type": "stream",
     "text": [
      "Hi ABC the conversetion values is \n"
     ]
    },
    {
     "data": {
      "text/plain": [
       "90.55099999999999"
      ]
     },
     "execution_count": 86,
     "metadata": {},
     "output_type": "execute_result"
    }
   ],
   "source": [
    "convert_meter_to_inch(2.3, \"ABC\")"
   ]
  },
  {
   "cell_type": "markdown",
   "metadata": {},
   "source": [
    "### Formatting numbers and string"
   ]
  },
  {
   "cell_type": "code",
   "execution_count": 87,
   "metadata": {},
   "outputs": [],
   "source": [
    "using Printf"
   ]
  },
  {
   "cell_type": "code",
   "execution_count": 88,
   "metadata": {},
   "outputs": [],
   "source": [
    "name =\"Abc\" ; #semocolen will not print the name but will sotre it"
   ]
  },
  {
   "cell_type": "code",
   "execution_count": 89,
   "metadata": {},
   "outputs": [
    {
     "name": "stdout",
     "output_type": "stream",
     "text": [
      "Hello Abc"
     ]
    }
   ],
   "source": [
    "@printf(\"Hello %s\", name)"
   ]
  },
  {
   "cell_type": "code",
   "execution_count": 90,
   "metadata": {},
   "outputs": [
    {
     "data": {
      "text/plain": [
       "\"Hello Abc\""
      ]
     },
     "execution_count": 90,
     "metadata": {},
     "output_type": "execute_result"
    }
   ],
   "source": [
    "@sprintf(\"Hello %s\", name) #pure string based output"
   ]
  },
  {
   "cell_type": "code",
   "execution_count": 91,
   "metadata": {},
   "outputs": [
    {
     "name": "stdout",
     "output_type": "stream",
     "text": [
      "i"
     ]
    }
   ],
   "source": [
    "ch = 'i' #character format\n",
    "@printf(\"%c\",ch) # c belong to character"
   ]
  },
  {
   "cell_type": "code",
   "execution_count": 92,
   "metadata": {},
   "outputs": [
    {
     "name": "stdout",
     "output_type": "stream",
     "text": [
      "Value of x is 100"
     ]
    }
   ],
   "source": [
    "x = 100\n",
    "@printf(\"Value of x is %d\",x) #d belongs to integer"
   ]
  },
  {
   "cell_type": "code",
   "execution_count": 93,
   "metadata": {},
   "outputs": [
    {
     "name": "stdout",
     "output_type": "stream",
     "text": [
      "Value of y is 100.050000"
     ]
    }
   ],
   "source": [
    "y = 100.05\n",
    "@printf(\"Value of y is %f\",y) # f belongs to float"
   ]
  },
  {
   "cell_type": "code",
   "execution_count": 94,
   "metadata": {},
   "outputs": [
    {
     "name": "stdout",
     "output_type": "stream",
     "text": [
      "Value of y is 100.05"
     ]
    }
   ],
   "source": [
    "@printf(\"Value of y is %.2f\",y) #just two number after decimal"
   ]
  },
  {
   "cell_type": "markdown",
   "metadata": {},
   "source": [
    "### Working with real data files"
   ]
  },
  {
   "cell_type": "code",
   "execution_count": 95,
   "metadata": {},
   "outputs": [
    {
     "name": "stderr",
     "output_type": "stream",
     "text": [
      "\u001b[32m\u001b[1m    Updating\u001b[22m\u001b[39m registry at `C:\\Users\\SIDDHESH\\.julia\\registries\\General.toml`\n",
      "\u001b[32m\u001b[1m   Resolving\u001b[22m\u001b[39m package versions...\n",
      "\u001b[32m\u001b[1m  No Changes\u001b[22m\u001b[39m to `C:\\Users\\SIDDHESH\\.julia\\environments\\v1.7\\Project.toml`\n",
      "\u001b[32m\u001b[1m  No Changes\u001b[22m\u001b[39m to `C:\\Users\\SIDDHESH\\.julia\\environments\\v1.7\\Manifest.toml`\n"
     ]
    }
   ],
   "source": [
    "using Pkg  # importing csv package\n",
    "Pkg.add(\"CSV\")"
   ]
  },
  {
   "cell_type": "code",
   "execution_count": 96,
   "metadata": {},
   "outputs": [
    {
     "name": "stderr",
     "output_type": "stream",
     "text": [
      "\u001b[32m\u001b[1m   Resolving\u001b[22m\u001b[39m package versions...\n",
      "\u001b[32m\u001b[1m  No Changes\u001b[22m\u001b[39m to `C:\\Users\\SIDDHESH\\.julia\\environments\\v1.7\\Project.toml`\n",
      "\u001b[32m\u001b[1m  No Changes\u001b[22m\u001b[39m to `C:\\Users\\SIDDHESH\\.julia\\environments\\v1.7\\Manifest.toml`\n"
     ]
    }
   ],
   "source": [
    "Pkg.add(\"DataFrames\")\n",
    "# importing package data frames"
   ]
  },
  {
   "cell_type": "code",
   "execution_count": 97,
   "metadata": {},
   "outputs": [],
   "source": [
    "using CSV \n",
    "using DataFrames"
   ]
  },
  {
   "cell_type": "code",
   "execution_count": 98,
   "metadata": {},
   "outputs": [],
   "source": [
    "iris = CSV.read(\"iris.csv\",DataFrame, normalizenames = true); # reading data file "
   ]
  },
  {
   "cell_type": "code",
   "execution_count": 99,
   "metadata": {},
   "outputs": [
    {
     "data": {
      "text/plain": [
       "DataFrame"
      ]
     },
     "execution_count": 99,
     "metadata": {},
     "output_type": "execute_result"
    }
   ],
   "source": [
    "typeof(iris)"
   ]
  },
  {
   "cell_type": "code",
   "execution_count": 100,
   "metadata": {},
   "outputs": [
    {
     "data": {
      "text/plain": [
       "6-element Vector{String}:\n",
       " \"Column1\"\n",
       " \"Sepal_Length\"\n",
       " \"Sepal_Width\"\n",
       " \"Petal_Length\"\n",
       " \"Petal_Width\"\n",
       " \"Species\""
      ]
     },
     "execution_count": 100,
     "metadata": {},
     "output_type": "execute_result"
    }
   ],
   "source": [
    "names(iris) #column names "
   ]
  },
  {
   "cell_type": "code",
   "execution_count": 101,
   "metadata": {},
   "outputs": [
    {
     "data": {
      "text/plain": [
       "(150, 6)"
      ]
     },
     "execution_count": 101,
     "metadata": {},
     "output_type": "execute_result"
    }
   ],
   "source": [
    "size(iris) # number of rows and cols"
   ]
  },
  {
   "cell_type": "code",
   "execution_count": 102,
   "metadata": {},
   "outputs": [
    {
     "data": {
      "text/html": [
       "<div class=\"data-frame\"><p>5 rows × 6 columns</p><table class=\"data-frame\"><thead><tr><th></th><th>Column1</th><th>Sepal_Length</th><th>Sepal_Width</th><th>Petal_Length</th><th>Petal_Width</th><th>Species</th></tr><tr><th></th><th title=\"Int64\">Int64</th><th title=\"Float64\">Float64</th><th title=\"Float64\">Float64</th><th title=\"Float64\">Float64</th><th title=\"Float64\">Float64</th><th title=\"String15\">String15</th></tr></thead><tbody><tr><th>1</th><td>1</td><td>5.1</td><td>3.5</td><td>1.4</td><td>0.2</td><td>setosa</td></tr><tr><th>2</th><td>2</td><td>4.9</td><td>3.0</td><td>1.4</td><td>0.2</td><td>setosa</td></tr><tr><th>3</th><td>3</td><td>4.7</td><td>3.2</td><td>1.3</td><td>0.2</td><td>setosa</td></tr><tr><th>4</th><td>4</td><td>4.6</td><td>3.1</td><td>1.5</td><td>0.2</td><td>setosa</td></tr><tr><th>5</th><td>5</td><td>5.0</td><td>3.6</td><td>1.4</td><td>0.2</td><td>setosa</td></tr></tbody></table></div>"
      ],
      "text/latex": [
       "\\begin{tabular}{r|cccccc}\n",
       "\t& Column1 & Sepal\\_Length & Sepal\\_Width & Petal\\_Length & Petal\\_Width & Species\\\\\n",
       "\t\\hline\n",
       "\t& Int64 & Float64 & Float64 & Float64 & Float64 & String15\\\\\n",
       "\t\\hline\n",
       "\t1 & 1 & 5.1 & 3.5 & 1.4 & 0.2 & setosa \\\\\n",
       "\t2 & 2 & 4.9 & 3.0 & 1.4 & 0.2 & setosa \\\\\n",
       "\t3 & 3 & 4.7 & 3.2 & 1.3 & 0.2 & setosa \\\\\n",
       "\t4 & 4 & 4.6 & 3.1 & 1.5 & 0.2 & setosa \\\\\n",
       "\t5 & 5 & 5.0 & 3.6 & 1.4 & 0.2 & setosa \\\\\n",
       "\\end{tabular}\n"
      ],
      "text/plain": [
       "\u001b[1m5×6 DataFrame\u001b[0m\n",
       "\u001b[1m Row \u001b[0m│\u001b[1m Column1 \u001b[0m\u001b[1m Sepal_Length \u001b[0m\u001b[1m Sepal_Width \u001b[0m\u001b[1m Petal_Length \u001b[0m\u001b[1m Petal_Width \u001b[0m\u001b[1m Species \u001b[0m ⋯\n",
       "\u001b[1m     \u001b[0m│\u001b[90m Int64   \u001b[0m\u001b[90m Float64      \u001b[0m\u001b[90m Float64     \u001b[0m\u001b[90m Float64      \u001b[0m\u001b[90m Float64     \u001b[0m\u001b[90m String15\u001b[0m ⋯\n",
       "─────┼──────────────────────────────────────────────────────────────────────────\n",
       "   1 │       1           5.1          3.5           1.4          0.2  setosa   ⋯\n",
       "   2 │       2           4.9          3.0           1.4          0.2  setosa\n",
       "   3 │       3           4.7          3.2           1.3          0.2  setosa\n",
       "   4 │       4           4.6          3.1           1.5          0.2  setosa\n",
       "   5 │       5           5.0          3.6           1.4          0.2  setosa   ⋯"
      ]
     },
     "execution_count": 102,
     "metadata": {},
     "output_type": "execute_result"
    }
   ],
   "source": [
    "first(iris, 5) # display first 5 rows of data frame"
   ]
  },
  {
   "cell_type": "code",
   "execution_count": 103,
   "metadata": {},
   "outputs": [
    {
     "data": {
      "text/html": [
       "<div class=\"data-frame\"><p>6 rows × 7 columns</p><table class=\"data-frame\"><thead><tr><th></th><th>variable</th><th>mean</th><th>min</th><th>median</th><th>max</th><th>nmissing</th><th>eltype</th></tr><tr><th></th><th title=\"Symbol\">Symbol</th><th title=\"Union{Nothing, Float64}\">Union…</th><th title=\"Any\">Any</th><th title=\"Union{Nothing, Float64}\">Union…</th><th title=\"Any\">Any</th><th title=\"Int64\">Int64</th><th title=\"DataType\">DataType</th></tr></thead><tbody><tr><th>1</th><td>Column1</td><td>75.5</td><td>1</td><td>75.5</td><td>150</td><td>0</td><td>Int64</td></tr><tr><th>2</th><td>Sepal_Length</td><td>5.84333</td><td>4.3</td><td>5.8</td><td>7.9</td><td>0</td><td>Float64</td></tr><tr><th>3</th><td>Sepal_Width</td><td>3.05733</td><td>2.0</td><td>3.0</td><td>4.4</td><td>0</td><td>Float64</td></tr><tr><th>4</th><td>Petal_Length</td><td>3.758</td><td>1.0</td><td>4.35</td><td>6.9</td><td>0</td><td>Float64</td></tr><tr><th>5</th><td>Petal_Width</td><td>1.19933</td><td>0.1</td><td>1.3</td><td>2.5</td><td>0</td><td>Float64</td></tr><tr><th>6</th><td>Species</td><td></td><td>setosa</td><td></td><td>virginica</td><td>0</td><td>String15</td></tr></tbody></table></div>"
      ],
      "text/latex": [
       "\\begin{tabular}{r|ccccccc}\n",
       "\t& variable & mean & min & median & max & nmissing & eltype\\\\\n",
       "\t\\hline\n",
       "\t& Symbol & Union… & Any & Union… & Any & Int64 & DataType\\\\\n",
       "\t\\hline\n",
       "\t1 & Column1 & 75.5 & 1 & 75.5 & 150 & 0 & Int64 \\\\\n",
       "\t2 & Sepal\\_Length & 5.84333 & 4.3 & 5.8 & 7.9 & 0 & Float64 \\\\\n",
       "\t3 & Sepal\\_Width & 3.05733 & 2.0 & 3.0 & 4.4 & 0 & Float64 \\\\\n",
       "\t4 & Petal\\_Length & 3.758 & 1.0 & 4.35 & 6.9 & 0 & Float64 \\\\\n",
       "\t5 & Petal\\_Width & 1.19933 & 0.1 & 1.3 & 2.5 & 0 & Float64 \\\\\n",
       "\t6 & Species &  & setosa &  & virginica & 0 & String15 \\\\\n",
       "\\end{tabular}\n"
      ],
      "text/plain": [
       "\u001b[1m6×7 DataFrame\u001b[0m\n",
       "\u001b[1m Row \u001b[0m│\u001b[1m variable     \u001b[0m\u001b[1m mean    \u001b[0m\u001b[1m min    \u001b[0m\u001b[1m median \u001b[0m\u001b[1m max       \u001b[0m\u001b[1m nmissing \u001b[0m\u001b[1m eltype   \u001b[0m\n",
       "\u001b[1m     \u001b[0m│\u001b[90m Symbol       \u001b[0m\u001b[90m Union…  \u001b[0m\u001b[90m Any    \u001b[0m\u001b[90m Union… \u001b[0m\u001b[90m Any       \u001b[0m\u001b[90m Int64    \u001b[0m\u001b[90m DataType \u001b[0m\n",
       "─────┼──────────────────────────────────────────────────────────────────────\n",
       "   1 │ Column1       75.5     1       75.5    150               0  Int64\n",
       "   2 │ Sepal_Length  5.84333  4.3     5.8     7.9               0  Float64\n",
       "   3 │ Sepal_Width   3.05733  2.0     3.0     4.4               0  Float64\n",
       "   4 │ Petal_Length  3.758    1.0     4.35    6.9               0  Float64\n",
       "   5 │ Petal_Width   1.19933  0.1     1.3     2.5               0  Float64\n",
       "   6 │ Species      \u001b[90m         \u001b[0m setosa \u001b[90m        \u001b[0m virginica         0  String15"
      ]
     },
     "execution_count": 103,
     "metadata": {},
     "output_type": "execute_result"
    }
   ],
   "source": [
    "describe(iris) # descriptive statistical values"
   ]
  },
  {
   "cell_type": "code",
   "execution_count": 104,
   "metadata": {},
   "outputs": [
    {
     "data": {
      "text/plain": [
       "150-element PooledArrays.PooledVector{String15, UInt32, Vector{UInt32}}:\n",
       " \"setosa\"\n",
       " \"setosa\"\n",
       " \"setosa\"\n",
       " \"setosa\"\n",
       " \"setosa\"\n",
       " \"setosa\"\n",
       " \"setosa\"\n",
       " \"setosa\"\n",
       " \"setosa\"\n",
       " \"setosa\"\n",
       " \"setosa\"\n",
       " \"setosa\"\n",
       " \"setosa\"\n",
       " ⋮\n",
       " \"virginica\"\n",
       " \"virginica\"\n",
       " \"virginica\"\n",
       " \"virginica\"\n",
       " \"virginica\"\n",
       " \"virginica\"\n",
       " \"virginica\"\n",
       " \"virginica\"\n",
       " \"virginica\"\n",
       " \"virginica\"\n",
       " \"virginica\"\n",
       " \"virginica\""
      ]
     },
     "execution_count": 104,
     "metadata": {},
     "output_type": "execute_result"
    }
   ],
   "source": [
    "iris.Species "
   ]
  },
  {
   "cell_type": "code",
   "execution_count": 105,
   "metadata": {},
   "outputs": [
    {
     "data": {
      "text/plain": [
       "150-element Vector{Float64}:\n",
       " 3.5\n",
       " 3.0\n",
       " 3.2\n",
       " 3.1\n",
       " 3.6\n",
       " 3.9\n",
       " 3.4\n",
       " 3.4\n",
       " 2.9\n",
       " 3.1\n",
       " 3.7\n",
       " 3.4\n",
       " 3.0\n",
       " ⋮\n",
       " 3.0\n",
       " 3.1\n",
       " 3.1\n",
       " 3.1\n",
       " 2.7\n",
       " 3.2\n",
       " 3.3\n",
       " 3.0\n",
       " 2.5\n",
       " 3.0\n",
       " 3.4\n",
       " 3.0"
      ]
     },
     "execution_count": 105,
     "metadata": {},
     "output_type": "execute_result"
    }
   ],
   "source": [
    "iris[:,3] #slicling"
   ]
  },
  {
   "cell_type": "code",
   "execution_count": 106,
   "metadata": {},
   "outputs": [
    {
     "data": {
      "text/html": [
       "<div class=\"data-frame\"><p>5 rows × 6 columns</p><table class=\"data-frame\"><thead><tr><th></th><th>Column1</th><th>Sepal_Length</th><th>Sepal_Width</th><th>Petal_Length</th><th>Petal_Width</th><th>Species</th></tr><tr><th></th><th title=\"Int64\">Int64</th><th title=\"Float64\">Float64</th><th title=\"Float64\">Float64</th><th title=\"Float64\">Float64</th><th title=\"Float64\">Float64</th><th title=\"String15\">String15</th></tr></thead><tbody><tr><th>1</th><td>1</td><td>5.1</td><td>3.5</td><td>1.4</td><td>0.2</td><td>setosa</td></tr><tr><th>2</th><td>2</td><td>4.9</td><td>3.0</td><td>1.4</td><td>0.2</td><td>setosa</td></tr><tr><th>3</th><td>3</td><td>4.7</td><td>3.2</td><td>1.3</td><td>0.2</td><td>setosa</td></tr><tr><th>4</th><td>4</td><td>4.6</td><td>3.1</td><td>1.5</td><td>0.2</td><td>setosa</td></tr><tr><th>5</th><td>5</td><td>5.0</td><td>3.6</td><td>1.4</td><td>0.2</td><td>setosa</td></tr></tbody></table></div>"
      ],
      "text/latex": [
       "\\begin{tabular}{r|cccccc}\n",
       "\t& Column1 & Sepal\\_Length & Sepal\\_Width & Petal\\_Length & Petal\\_Width & Species\\\\\n",
       "\t\\hline\n",
       "\t& Int64 & Float64 & Float64 & Float64 & Float64 & String15\\\\\n",
       "\t\\hline\n",
       "\t1 & 1 & 5.1 & 3.5 & 1.4 & 0.2 & setosa \\\\\n",
       "\t2 & 2 & 4.9 & 3.0 & 1.4 & 0.2 & setosa \\\\\n",
       "\t3 & 3 & 4.7 & 3.2 & 1.3 & 0.2 & setosa \\\\\n",
       "\t4 & 4 & 4.6 & 3.1 & 1.5 & 0.2 & setosa \\\\\n",
       "\t5 & 5 & 5.0 & 3.6 & 1.4 & 0.2 & setosa \\\\\n",
       "\\end{tabular}\n"
      ],
      "text/plain": [
       "\u001b[1m5×6 DataFrame\u001b[0m\n",
       "\u001b[1m Row \u001b[0m│\u001b[1m Column1 \u001b[0m\u001b[1m Sepal_Length \u001b[0m\u001b[1m Sepal_Width \u001b[0m\u001b[1m Petal_Length \u001b[0m\u001b[1m Petal_Width \u001b[0m\u001b[1m Species \u001b[0m ⋯\n",
       "\u001b[1m     \u001b[0m│\u001b[90m Int64   \u001b[0m\u001b[90m Float64      \u001b[0m\u001b[90m Float64     \u001b[0m\u001b[90m Float64      \u001b[0m\u001b[90m Float64     \u001b[0m\u001b[90m String15\u001b[0m ⋯\n",
       "─────┼──────────────────────────────────────────────────────────────────────────\n",
       "   1 │       1           5.1          3.5           1.4          0.2  setosa   ⋯\n",
       "   2 │       2           4.9          3.0           1.4          0.2  setosa\n",
       "   3 │       3           4.7          3.2           1.3          0.2  setosa\n",
       "   4 │       4           4.6          3.1           1.5          0.2  setosa\n",
       "   5 │       5           5.0          3.6           1.4          0.2  setosa   ⋯"
      ]
     },
     "execution_count": 106,
     "metadata": {},
     "output_type": "execute_result"
    }
   ],
   "source": [
    "iris[1:5,:] #head"
   ]
  },
  {
   "cell_type": "markdown",
   "metadata": {},
   "source": [
    "### Data Visualization "
   ]
  },
  {
   "cell_type": "code",
   "execution_count": 107,
   "metadata": {},
   "outputs": [
    {
     "name": "stderr",
     "output_type": "stream",
     "text": [
      "\u001b[32m\u001b[1m   Resolving\u001b[22m\u001b[39m package versions...\n",
      "\u001b[32m\u001b[1m  No Changes\u001b[22m\u001b[39m to `C:\\Users\\SIDDHESH\\.julia\\environments\\v1.7\\Project.toml`\n",
      "\u001b[32m\u001b[1m  No Changes\u001b[22m\u001b[39m to `C:\\Users\\SIDDHESH\\.julia\\environments\\v1.7\\Manifest.toml`\n"
     ]
    }
   ],
   "source": [
    "Pkg.add(\"Plots\")"
   ]
  },
  {
   "cell_type": "code",
   "execution_count": 108,
   "metadata": {},
   "outputs": [],
   "source": [
    "using Plots"
   ]
  },
  {
   "cell_type": "code",
   "execution_count": 109,
   "metadata": {},
   "outputs": [],
   "source": [
    "x = 1:15;  y= rand(15) ;"
   ]
  },
  {
   "cell_type": "code",
   "execution_count": 110,
   "metadata": {},
   "outputs": [
    {
     "data": {
      "image/svg+xml": [
       "<?xml version=\"1.0\" encoding=\"utf-8\"?>\n",
       "<svg xmlns=\"http://www.w3.org/2000/svg\" xmlns:xlink=\"http://www.w3.org/1999/xlink\" width=\"600\" height=\"400\" viewBox=\"0 0 2400 1600\">\n",
       "<defs>\n",
       "  <clipPath id=\"clip450\">\n",
       "    <rect x=\"0\" y=\"0\" width=\"2400\" height=\"1600\"/>\n",
       "  </clipPath>\n",
       "</defs>\n",
       "<path clip-path=\"url(#clip450)\" d=\"\n",
       "M0 1600 L2400 1600 L2400 0 L0 0  Z\n",
       "  \" fill=\"#ffffff\" fill-rule=\"evenodd\" fill-opacity=\"1\"/>\n",
       "<defs>\n",
       "  <clipPath id=\"clip451\">\n",
       "    <rect x=\"480\" y=\"0\" width=\"1681\" height=\"1600\"/>\n",
       "  </clipPath>\n",
       "</defs>\n",
       "<path clip-path=\"url(#clip450)\" d=\"\n",
       "M186.274 1486.45 L2352.76 1486.45 L2352.76 47.2441 L186.274 47.2441  Z\n",
       "  \" fill=\"#ffffff\" fill-rule=\"evenodd\" fill-opacity=\"1\"/>\n",
       "<defs>\n",
       "  <clipPath id=\"clip452\">\n",
       "    <rect x=\"186\" y=\"47\" width=\"2167\" height=\"1440\"/>\n",
       "  </clipPath>\n",
       "</defs>\n",
       "<polyline clip-path=\"url(#clip452)\" style=\"stroke:#000000; stroke-linecap:butt; stroke-linejoin:round; stroke-width:2; stroke-opacity:0.1; fill:none\" points=\"\n",
       "  393.579,1486.45 393.579,47.2441 \n",
       "  \"/>\n",
       "<polyline clip-path=\"url(#clip452)\" style=\"stroke:#000000; stroke-linecap:butt; stroke-linejoin:round; stroke-width:2; stroke-opacity:0.1; fill:none\" points=\"\n",
       "  685.558,1486.45 685.558,47.2441 \n",
       "  \"/>\n",
       "<polyline clip-path=\"url(#clip452)\" style=\"stroke:#000000; stroke-linecap:butt; stroke-linejoin:round; stroke-width:2; stroke-opacity:0.1; fill:none\" points=\"\n",
       "  977.536,1486.45 977.536,47.2441 \n",
       "  \"/>\n",
       "<polyline clip-path=\"url(#clip452)\" style=\"stroke:#000000; stroke-linecap:butt; stroke-linejoin:round; stroke-width:2; stroke-opacity:0.1; fill:none\" points=\"\n",
       "  1269.51,1486.45 1269.51,47.2441 \n",
       "  \"/>\n",
       "<polyline clip-path=\"url(#clip452)\" style=\"stroke:#000000; stroke-linecap:butt; stroke-linejoin:round; stroke-width:2; stroke-opacity:0.1; fill:none\" points=\"\n",
       "  1561.49,1486.45 1561.49,47.2441 \n",
       "  \"/>\n",
       "<polyline clip-path=\"url(#clip452)\" style=\"stroke:#000000; stroke-linecap:butt; stroke-linejoin:round; stroke-width:2; stroke-opacity:0.1; fill:none\" points=\"\n",
       "  1853.47,1486.45 1853.47,47.2441 \n",
       "  \"/>\n",
       "<polyline clip-path=\"url(#clip452)\" style=\"stroke:#000000; stroke-linecap:butt; stroke-linejoin:round; stroke-width:2; stroke-opacity:0.1; fill:none\" points=\"\n",
       "  2145.45,1486.45 2145.45,47.2441 \n",
       "  \"/>\n",
       "<polyline clip-path=\"url(#clip450)\" style=\"stroke:#000000; stroke-linecap:butt; stroke-linejoin:round; stroke-width:4; stroke-opacity:1; fill:none\" points=\"\n",
       "  186.274,1486.45 2352.76,1486.45 \n",
       "  \"/>\n",
       "<polyline clip-path=\"url(#clip450)\" style=\"stroke:#000000; stroke-linecap:butt; stroke-linejoin:round; stroke-width:4; stroke-opacity:1; fill:none\" points=\"\n",
       "  393.579,1486.45 393.579,1467.55 \n",
       "  \"/>\n",
       "<polyline clip-path=\"url(#clip450)\" style=\"stroke:#000000; stroke-linecap:butt; stroke-linejoin:round; stroke-width:4; stroke-opacity:1; fill:none\" points=\"\n",
       "  685.558,1486.45 685.558,1467.55 \n",
       "  \"/>\n",
       "<polyline clip-path=\"url(#clip450)\" style=\"stroke:#000000; stroke-linecap:butt; stroke-linejoin:round; stroke-width:4; stroke-opacity:1; fill:none\" points=\"\n",
       "  977.536,1486.45 977.536,1467.55 \n",
       "  \"/>\n",
       "<polyline clip-path=\"url(#clip450)\" style=\"stroke:#000000; stroke-linecap:butt; stroke-linejoin:round; stroke-width:4; stroke-opacity:1; fill:none\" points=\"\n",
       "  1269.51,1486.45 1269.51,1467.55 \n",
       "  \"/>\n",
       "<polyline clip-path=\"url(#clip450)\" style=\"stroke:#000000; stroke-linecap:butt; stroke-linejoin:round; stroke-width:4; stroke-opacity:1; fill:none\" points=\"\n",
       "  1561.49,1486.45 1561.49,1467.55 \n",
       "  \"/>\n",
       "<polyline clip-path=\"url(#clip450)\" style=\"stroke:#000000; stroke-linecap:butt; stroke-linejoin:round; stroke-width:4; stroke-opacity:1; fill:none\" points=\"\n",
       "  1853.47,1486.45 1853.47,1467.55 \n",
       "  \"/>\n",
       "<polyline clip-path=\"url(#clip450)\" style=\"stroke:#000000; stroke-linecap:butt; stroke-linejoin:round; stroke-width:4; stroke-opacity:1; fill:none\" points=\"\n",
       "  2145.45,1486.45 2145.45,1467.55 \n",
       "  \"/>\n",
       "<path clip-path=\"url(#clip450)\" d=\"M388.232 1544.91 L404.551 1544.91 L404.551 1548.85 L382.607 1548.85 L382.607 1544.91 Q385.269 1542.16 389.852 1537.53 Q394.458 1532.88 395.639 1531.53 Q397.884 1529.01 398.764 1527.27 Q399.667 1525.51 399.667 1523.82 Q399.667 1521.07 397.722 1519.33 Q395.801 1517.6 392.699 1517.6 Q390.5 1517.6 388.046 1518.36 Q385.616 1519.13 382.838 1520.68 L382.838 1515.95 Q385.662 1514.82 388.116 1514.24 Q390.57 1513.66 392.607 1513.66 Q397.977 1513.66 401.171 1516.35 Q404.366 1519.03 404.366 1523.52 Q404.366 1525.65 403.556 1527.57 Q402.769 1529.47 400.662 1532.07 Q400.083 1532.74 396.982 1535.95 Q393.88 1539.15 388.232 1544.91 Z\" fill=\"#000000\" fill-rule=\"evenodd\" fill-opacity=\"1\" /><path clip-path=\"url(#clip450)\" d=\"M688.567 1518.36 L676.761 1536.81 L688.567 1536.81 L688.567 1518.36 M687.34 1514.29 L693.22 1514.29 L693.22 1536.81 L698.15 1536.81 L698.15 1540.7 L693.22 1540.7 L693.22 1548.85 L688.567 1548.85 L688.567 1540.7 L672.965 1540.7 L672.965 1536.19 L687.34 1514.29 Z\" fill=\"#000000\" fill-rule=\"evenodd\" fill-opacity=\"1\" /><path clip-path=\"url(#clip450)\" d=\"M977.941 1529.7 Q974.793 1529.7 972.941 1531.86 Q971.113 1534.01 971.113 1537.76 Q971.113 1541.49 972.941 1543.66 Q974.793 1545.82 977.941 1545.82 Q981.089 1545.82 982.918 1543.66 Q984.77 1541.49 984.77 1537.76 Q984.77 1534.01 982.918 1531.86 Q981.089 1529.7 977.941 1529.7 M987.224 1515.05 L987.224 1519.31 Q985.464 1518.48 983.659 1518.04 Q981.877 1517.6 980.117 1517.6 Q975.488 1517.6 973.034 1520.72 Q970.603 1523.85 970.256 1530.17 Q971.622 1528.15 973.682 1527.09 Q975.742 1526 978.219 1526 Q983.427 1526 986.437 1529.17 Q989.469 1532.32 989.469 1537.76 Q989.469 1543.08 986.321 1546.3 Q983.173 1549.52 977.941 1549.52 Q971.946 1549.52 968.775 1544.94 Q965.603 1540.33 965.603 1531.6 Q965.603 1523.41 969.492 1518.55 Q973.381 1513.66 979.932 1513.66 Q981.691 1513.66 983.474 1514.01 Q985.279 1514.36 987.224 1515.05 Z\" fill=\"#000000\" fill-rule=\"evenodd\" fill-opacity=\"1\" /><path clip-path=\"url(#clip450)\" d=\"M1269.51 1532.44 Q1266.18 1532.44 1264.26 1534.22 Q1262.36 1536 1262.36 1539.13 Q1262.36 1542.25 1264.26 1544.03 Q1266.18 1545.82 1269.51 1545.82 Q1272.85 1545.82 1274.77 1544.03 Q1276.69 1542.23 1276.69 1539.13 Q1276.69 1536 1274.77 1534.22 Q1272.87 1532.44 1269.51 1532.44 M1264.84 1530.45 Q1261.83 1529.7 1260.14 1527.64 Q1258.47 1525.58 1258.47 1522.62 Q1258.47 1518.48 1261.41 1516.07 Q1264.38 1513.66 1269.51 1513.66 Q1274.68 1513.66 1277.62 1516.07 Q1280.56 1518.48 1280.56 1522.62 Q1280.56 1525.58 1278.87 1527.64 Q1277.2 1529.7 1274.21 1530.45 Q1277.59 1531.23 1279.47 1533.52 Q1281.37 1535.82 1281.37 1539.13 Q1281.37 1544.15 1278.29 1546.83 Q1275.23 1549.52 1269.51 1549.52 Q1263.8 1549.52 1260.72 1546.83 Q1257.66 1544.15 1257.66 1539.13 Q1257.66 1535.82 1259.56 1533.52 Q1261.46 1531.23 1264.84 1530.45 M1263.13 1523.06 Q1263.13 1525.75 1264.79 1527.25 Q1266.48 1528.76 1269.51 1528.76 Q1272.52 1528.76 1274.21 1527.25 Q1275.93 1525.75 1275.93 1523.06 Q1275.93 1520.38 1274.21 1518.87 Q1272.52 1517.37 1269.51 1517.37 Q1266.48 1517.37 1264.79 1518.87 Q1263.13 1520.38 1263.13 1523.06 Z\" fill=\"#000000\" fill-rule=\"evenodd\" fill-opacity=\"1\" /><path clip-path=\"url(#clip450)\" d=\"M1536.18 1544.91 L1543.82 1544.91 L1543.82 1518.55 L1535.51 1520.21 L1535.51 1515.95 L1543.77 1514.29 L1548.45 1514.29 L1548.45 1544.91 L1556.09 1544.91 L1556.09 1548.85 L1536.18 1548.85 L1536.18 1544.91 Z\" fill=\"#000000\" fill-rule=\"evenodd\" fill-opacity=\"1\" /><path clip-path=\"url(#clip450)\" d=\"M1575.53 1517.37 Q1571.92 1517.37 1570.09 1520.93 Q1568.29 1524.47 1568.29 1531.6 Q1568.29 1538.71 1570.09 1542.27 Q1571.92 1545.82 1575.53 1545.82 Q1579.17 1545.82 1580.97 1542.27 Q1582.8 1538.71 1582.8 1531.6 Q1582.8 1524.47 1580.97 1520.93 Q1579.17 1517.37 1575.53 1517.37 M1575.53 1513.66 Q1581.34 1513.66 1584.4 1518.27 Q1587.48 1522.85 1587.48 1531.6 Q1587.48 1540.33 1584.4 1544.94 Q1581.34 1549.52 1575.53 1549.52 Q1569.72 1549.52 1566.64 1544.94 Q1563.59 1540.33 1563.59 1531.6 Q1563.59 1522.85 1566.64 1518.27 Q1569.72 1513.66 1575.53 1513.66 Z\" fill=\"#000000\" fill-rule=\"evenodd\" fill-opacity=\"1\" /><path clip-path=\"url(#clip450)\" d=\"M1828.96 1544.91 L1836.6 1544.91 L1836.6 1518.55 L1828.29 1520.21 L1828.29 1515.95 L1836.55 1514.29 L1841.23 1514.29 L1841.23 1544.91 L1848.87 1544.91 L1848.87 1548.85 L1828.96 1548.85 L1828.96 1544.91 Z\" fill=\"#000000\" fill-rule=\"evenodd\" fill-opacity=\"1\" /><path clip-path=\"url(#clip450)\" d=\"M1862.34 1544.91 L1878.66 1544.91 L1878.66 1548.85 L1856.71 1548.85 L1856.71 1544.91 Q1859.38 1542.16 1863.96 1537.53 Q1868.56 1532.88 1869.75 1531.53 Q1871.99 1529.01 1872.87 1527.27 Q1873.77 1525.51 1873.77 1523.82 Q1873.77 1521.07 1871.83 1519.33 Q1869.91 1517.6 1866.81 1517.6 Q1864.61 1517.6 1862.15 1518.36 Q1859.72 1519.13 1856.94 1520.68 L1856.94 1515.95 Q1859.77 1514.82 1862.22 1514.24 Q1864.68 1513.66 1866.71 1513.66 Q1872.08 1513.66 1875.28 1516.35 Q1878.47 1519.03 1878.47 1523.52 Q1878.47 1525.65 1877.66 1527.57 Q1876.87 1529.47 1874.77 1532.07 Q1874.19 1532.74 1871.09 1535.95 Q1867.99 1539.15 1862.34 1544.91 Z\" fill=\"#000000\" fill-rule=\"evenodd\" fill-opacity=\"1\" /><path clip-path=\"url(#clip450)\" d=\"M2119.9 1544.91 L2127.53 1544.91 L2127.53 1518.55 L2119.22 1520.21 L2119.22 1515.95 L2127.49 1514.29 L2132.16 1514.29 L2132.16 1544.91 L2139.8 1544.91 L2139.8 1548.85 L2119.9 1548.85 L2119.9 1544.91 Z\" fill=\"#000000\" fill-rule=\"evenodd\" fill-opacity=\"1\" /><path clip-path=\"url(#clip450)\" d=\"M2162.09 1518.36 L2150.29 1536.81 L2162.09 1536.81 L2162.09 1518.36 M2160.87 1514.29 L2166.75 1514.29 L2166.75 1536.81 L2171.68 1536.81 L2171.68 1540.7 L2166.75 1540.7 L2166.75 1548.85 L2162.09 1548.85 L2162.09 1540.7 L2146.49 1540.7 L2146.49 1536.19 L2160.87 1514.29 Z\" fill=\"#000000\" fill-rule=\"evenodd\" fill-opacity=\"1\" /><polyline clip-path=\"url(#clip452)\" style=\"stroke:#000000; stroke-linecap:butt; stroke-linejoin:round; stroke-width:2; stroke-opacity:0.1; fill:none\" points=\"\n",
       "  186.274,1483.59 2352.76,1483.59 \n",
       "  \"/>\n",
       "<polyline clip-path=\"url(#clip452)\" style=\"stroke:#000000; stroke-linecap:butt; stroke-linejoin:round; stroke-width:2; stroke-opacity:0.1; fill:none\" points=\"\n",
       "  186.274,1126.5 2352.76,1126.5 \n",
       "  \"/>\n",
       "<polyline clip-path=\"url(#clip452)\" style=\"stroke:#000000; stroke-linecap:butt; stroke-linejoin:round; stroke-width:2; stroke-opacity:0.1; fill:none\" points=\"\n",
       "  186.274,769.403 2352.76,769.403 \n",
       "  \"/>\n",
       "<polyline clip-path=\"url(#clip452)\" style=\"stroke:#000000; stroke-linecap:butt; stroke-linejoin:round; stroke-width:2; stroke-opacity:0.1; fill:none\" points=\"\n",
       "  186.274,412.309 2352.76,412.309 \n",
       "  \"/>\n",
       "<polyline clip-path=\"url(#clip452)\" style=\"stroke:#000000; stroke-linecap:butt; stroke-linejoin:round; stroke-width:2; stroke-opacity:0.1; fill:none\" points=\"\n",
       "  186.274,55.2153 2352.76,55.2153 \n",
       "  \"/>\n",
       "<polyline clip-path=\"url(#clip450)\" style=\"stroke:#000000; stroke-linecap:butt; stroke-linejoin:round; stroke-width:4; stroke-opacity:1; fill:none\" points=\"\n",
       "  186.274,1486.45 186.274,47.2441 \n",
       "  \"/>\n",
       "<polyline clip-path=\"url(#clip450)\" style=\"stroke:#000000; stroke-linecap:butt; stroke-linejoin:round; stroke-width:4; stroke-opacity:1; fill:none\" points=\"\n",
       "  186.274,1483.59 205.172,1483.59 \n",
       "  \"/>\n",
       "<polyline clip-path=\"url(#clip450)\" style=\"stroke:#000000; stroke-linecap:butt; stroke-linejoin:round; stroke-width:4; stroke-opacity:1; fill:none\" points=\"\n",
       "  186.274,1126.5 205.172,1126.5 \n",
       "  \"/>\n",
       "<polyline clip-path=\"url(#clip450)\" style=\"stroke:#000000; stroke-linecap:butt; stroke-linejoin:round; stroke-width:4; stroke-opacity:1; fill:none\" points=\"\n",
       "  186.274,769.403 205.172,769.403 \n",
       "  \"/>\n",
       "<polyline clip-path=\"url(#clip450)\" style=\"stroke:#000000; stroke-linecap:butt; stroke-linejoin:round; stroke-width:4; stroke-opacity:1; fill:none\" points=\"\n",
       "  186.274,412.309 205.172,412.309 \n",
       "  \"/>\n",
       "<polyline clip-path=\"url(#clip450)\" style=\"stroke:#000000; stroke-linecap:butt; stroke-linejoin:round; stroke-width:4; stroke-opacity:1; fill:none\" points=\"\n",
       "  186.274,55.2153 205.172,55.2153 \n",
       "  \"/>\n",
       "<path clip-path=\"url(#clip450)\" d=\"M62.9365 1469.39 Q59.3254 1469.39 57.4967 1472.95 Q55.6912 1476.5 55.6912 1483.62 Q55.6912 1490.73 57.4967 1494.3 Q59.3254 1497.84 62.9365 1497.84 Q66.5707 1497.84 68.3763 1494.3 Q70.205 1490.73 70.205 1483.62 Q70.205 1476.5 68.3763 1472.95 Q66.5707 1469.39 62.9365 1469.39 M62.9365 1465.69 Q68.7467 1465.69 71.8022 1470.29 Q74.8809 1474.87 74.8809 1483.62 Q74.8809 1492.35 71.8022 1496.96 Q68.7467 1501.54 62.9365 1501.54 Q57.1264 1501.54 54.0477 1496.96 Q50.9921 1492.35 50.9921 1483.62 Q50.9921 1474.87 54.0477 1470.29 Q57.1264 1465.69 62.9365 1465.69 Z\" fill=\"#000000\" fill-rule=\"evenodd\" fill-opacity=\"1\" /><path clip-path=\"url(#clip450)\" d=\"M83.0984 1494.99 L87.9827 1494.99 L87.9827 1500.87 L83.0984 1500.87 L83.0984 1494.99 Z\" fill=\"#000000\" fill-rule=\"evenodd\" fill-opacity=\"1\" /><path clip-path=\"url(#clip450)\" d=\"M108.168 1469.39 Q104.557 1469.39 102.728 1472.95 Q100.922 1476.5 100.922 1483.62 Q100.922 1490.73 102.728 1494.3 Q104.557 1497.84 108.168 1497.84 Q111.802 1497.84 113.608 1494.3 Q115.436 1490.73 115.436 1483.62 Q115.436 1476.5 113.608 1472.95 Q111.802 1469.39 108.168 1469.39 M108.168 1465.69 Q113.978 1465.69 117.033 1470.29 Q120.112 1474.87 120.112 1483.62 Q120.112 1492.35 117.033 1496.96 Q113.978 1501.54 108.168 1501.54 Q102.358 1501.54 99.2789 1496.96 Q96.2234 1492.35 96.2234 1483.62 Q96.2234 1474.87 99.2789 1470.29 Q102.358 1465.69 108.168 1465.69 Z\" fill=\"#000000\" fill-rule=\"evenodd\" fill-opacity=\"1\" /><path clip-path=\"url(#clip450)\" d=\"M138.33 1469.39 Q134.719 1469.39 132.89 1472.95 Q131.084 1476.5 131.084 1483.62 Q131.084 1490.73 132.89 1494.3 Q134.719 1497.84 138.33 1497.84 Q141.964 1497.84 143.769 1494.3 Q145.598 1490.73 145.598 1483.62 Q145.598 1476.5 143.769 1472.95 Q141.964 1469.39 138.33 1469.39 M138.33 1465.69 Q144.14 1465.69 147.195 1470.29 Q150.274 1474.87 150.274 1483.62 Q150.274 1492.35 147.195 1496.96 Q144.14 1501.54 138.33 1501.54 Q132.519 1501.54 129.441 1496.96 Q126.385 1492.35 126.385 1483.62 Q126.385 1474.87 129.441 1470.29 Q132.519 1465.69 138.33 1465.69 Z\" fill=\"#000000\" fill-rule=\"evenodd\" fill-opacity=\"1\" /><path clip-path=\"url(#clip450)\" d=\"M63.9319 1112.3 Q60.3208 1112.3 58.4921 1115.86 Q56.6865 1119.4 56.6865 1126.53 Q56.6865 1133.64 58.4921 1137.2 Q60.3208 1140.74 63.9319 1140.74 Q67.5661 1140.74 69.3717 1137.2 Q71.2004 1133.64 71.2004 1126.53 Q71.2004 1119.4 69.3717 1115.86 Q67.5661 1112.3 63.9319 1112.3 M63.9319 1108.59 Q69.742 1108.59 72.7976 1113.2 Q75.8763 1117.78 75.8763 1126.53 Q75.8763 1135.26 72.7976 1139.86 Q69.742 1144.45 63.9319 1144.45 Q58.1217 1144.45 55.043 1139.86 Q51.9875 1135.26 51.9875 1126.53 Q51.9875 1117.78 55.043 1113.2 Q58.1217 1108.59 63.9319 1108.59 Z\" fill=\"#000000\" fill-rule=\"evenodd\" fill-opacity=\"1\" /><path clip-path=\"url(#clip450)\" d=\"M84.0938 1137.9 L88.978 1137.9 L88.978 1143.78 L84.0938 1143.78 L84.0938 1137.9 Z\" fill=\"#000000\" fill-rule=\"evenodd\" fill-opacity=\"1\" /><path clip-path=\"url(#clip450)\" d=\"M103.191 1139.84 L119.51 1139.84 L119.51 1143.78 L97.566 1143.78 L97.566 1139.84 Q100.228 1137.09 104.811 1132.46 Q109.418 1127.8 110.598 1126.46 Q112.844 1123.94 113.723 1122.2 Q114.626 1120.44 114.626 1118.75 Q114.626 1116 112.682 1114.26 Q110.76 1112.53 107.658 1112.53 Q105.459 1112.53 103.006 1113.29 Q100.575 1114.05 97.7974 1115.61 L97.7974 1110.88 Q100.621 1109.75 103.075 1109.17 Q105.529 1108.59 107.566 1108.59 Q112.936 1108.59 116.131 1111.28 Q119.325 1113.96 119.325 1118.45 Q119.325 1120.58 118.515 1122.5 Q117.728 1124.4 115.621 1126.99 Q115.043 1127.67 111.941 1130.88 Q108.839 1134.08 103.191 1139.84 Z\" fill=\"#000000\" fill-rule=\"evenodd\" fill-opacity=\"1\" /><path clip-path=\"url(#clip450)\" d=\"M129.371 1109.22 L147.728 1109.22 L147.728 1113.15 L133.654 1113.15 L133.654 1121.62 Q134.672 1121.28 135.691 1121.11 Q136.709 1120.93 137.728 1120.93 Q143.515 1120.93 146.894 1124.1 Q150.274 1127.27 150.274 1132.69 Q150.274 1138.27 146.802 1141.37 Q143.33 1144.45 137.01 1144.45 Q134.834 1144.45 132.566 1144.08 Q130.32 1143.71 127.913 1142.97 L127.913 1138.27 Q129.996 1139.4 132.219 1139.96 Q134.441 1140.51 136.918 1140.51 Q140.922 1140.51 143.26 1138.41 Q145.598 1136.3 145.598 1132.69 Q145.598 1129.08 143.26 1126.97 Q140.922 1124.86 136.918 1124.86 Q135.043 1124.86 133.168 1125.28 Q131.316 1125.7 129.371 1126.58 L129.371 1109.22 Z\" fill=\"#000000\" fill-rule=\"evenodd\" fill-opacity=\"1\" /><path clip-path=\"url(#clip450)\" d=\"M62.9365 755.201 Q59.3254 755.201 57.4967 758.766 Q55.6912 762.308 55.6912 769.437 Q55.6912 776.544 57.4967 780.109 Q59.3254 783.65 62.9365 783.65 Q66.5707 783.65 68.3763 780.109 Q70.205 776.544 70.205 769.437 Q70.205 762.308 68.3763 758.766 Q66.5707 755.201 62.9365 755.201 M62.9365 751.498 Q68.7467 751.498 71.8022 756.104 Q74.8809 760.688 74.8809 769.437 Q74.8809 778.164 71.8022 782.771 Q68.7467 787.354 62.9365 787.354 Q57.1264 787.354 54.0477 782.771 Q50.9921 778.164 50.9921 769.437 Q50.9921 760.688 54.0477 756.104 Q57.1264 751.498 62.9365 751.498 Z\" fill=\"#000000\" fill-rule=\"evenodd\" fill-opacity=\"1\" /><path clip-path=\"url(#clip450)\" d=\"M83.0984 780.803 L87.9827 780.803 L87.9827 786.683 L83.0984 786.683 L83.0984 780.803 Z\" fill=\"#000000\" fill-rule=\"evenodd\" fill-opacity=\"1\" /><path clip-path=\"url(#clip450)\" d=\"M98.2141 752.123 L116.57 752.123 L116.57 756.058 L102.496 756.058 L102.496 764.53 Q103.515 764.183 104.534 764.021 Q105.552 763.836 106.571 763.836 Q112.358 763.836 115.737 767.007 Q119.117 770.178 119.117 775.595 Q119.117 781.174 115.645 784.275 Q112.172 787.354 105.853 787.354 Q103.677 787.354 101.409 786.984 Q99.1632 786.613 96.7558 785.873 L96.7558 781.174 Q98.8391 782.308 101.061 782.863 Q103.284 783.419 105.76 783.419 Q109.765 783.419 112.103 781.312 Q114.441 779.206 114.441 775.595 Q114.441 771.984 112.103 769.877 Q109.765 767.771 105.76 767.771 Q103.885 767.771 102.01 768.187 Q100.159 768.604 98.2141 769.484 L98.2141 752.123 Z\" fill=\"#000000\" fill-rule=\"evenodd\" fill-opacity=\"1\" /><path clip-path=\"url(#clip450)\" d=\"M138.33 755.201 Q134.719 755.201 132.89 758.766 Q131.084 762.308 131.084 769.437 Q131.084 776.544 132.89 780.109 Q134.719 783.65 138.33 783.65 Q141.964 783.65 143.769 780.109 Q145.598 776.544 145.598 769.437 Q145.598 762.308 143.769 758.766 Q141.964 755.201 138.33 755.201 M138.33 751.498 Q144.14 751.498 147.195 756.104 Q150.274 760.688 150.274 769.437 Q150.274 778.164 147.195 782.771 Q144.14 787.354 138.33 787.354 Q132.519 787.354 129.441 782.771 Q126.385 778.164 126.385 769.437 Q126.385 760.688 129.441 756.104 Q132.519 751.498 138.33 751.498 Z\" fill=\"#000000\" fill-rule=\"evenodd\" fill-opacity=\"1\" /><path clip-path=\"url(#clip450)\" d=\"M63.9319 398.108 Q60.3208 398.108 58.4921 401.672 Q56.6865 405.214 56.6865 412.344 Q56.6865 419.45 58.4921 423.015 Q60.3208 426.557 63.9319 426.557 Q67.5661 426.557 69.3717 423.015 Q71.2004 419.45 71.2004 412.344 Q71.2004 405.214 69.3717 401.672 Q67.5661 398.108 63.9319 398.108 M63.9319 394.404 Q69.742 394.404 72.7976 399.01 Q75.8763 403.594 75.8763 412.344 Q75.8763 421.071 72.7976 425.677 Q69.742 430.26 63.9319 430.26 Q58.1217 430.26 55.043 425.677 Q51.9875 421.071 51.9875 412.344 Q51.9875 403.594 55.043 399.01 Q58.1217 394.404 63.9319 394.404 Z\" fill=\"#000000\" fill-rule=\"evenodd\" fill-opacity=\"1\" /><path clip-path=\"url(#clip450)\" d=\"M84.0938 423.709 L88.978 423.709 L88.978 429.589 L84.0938 429.589 L84.0938 423.709 Z\" fill=\"#000000\" fill-rule=\"evenodd\" fill-opacity=\"1\" /><path clip-path=\"url(#clip450)\" d=\"M97.9826 395.029 L120.205 395.029 L120.205 397.02 L107.658 429.589 L102.774 429.589 L114.58 398.964 L97.9826 398.964 L97.9826 395.029 Z\" fill=\"#000000\" fill-rule=\"evenodd\" fill-opacity=\"1\" /><path clip-path=\"url(#clip450)\" d=\"M129.371 395.029 L147.728 395.029 L147.728 398.964 L133.654 398.964 L133.654 407.436 Q134.672 407.089 135.691 406.927 Q136.709 406.742 137.728 406.742 Q143.515 406.742 146.894 409.913 Q150.274 413.084 150.274 418.501 Q150.274 424.08 146.802 427.182 Q143.33 430.26 137.01 430.26 Q134.834 430.26 132.566 429.89 Q130.32 429.52 127.913 428.779 L127.913 424.08 Q129.996 425.214 132.219 425.77 Q134.441 426.325 136.918 426.325 Q140.922 426.325 143.26 424.219 Q145.598 422.112 145.598 418.501 Q145.598 414.89 143.26 412.784 Q140.922 410.677 136.918 410.677 Q135.043 410.677 133.168 411.094 Q131.316 411.51 129.371 412.39 L129.371 395.029 Z\" fill=\"#000000\" fill-rule=\"evenodd\" fill-opacity=\"1\" /><path clip-path=\"url(#clip450)\" d=\"M53.7467 68.5601 L61.3856 68.5601 L61.3856 42.1945 L53.0754 43.8612 L53.0754 39.6019 L61.3393 37.9353 L66.0152 37.9353 L66.0152 68.5601 L73.654 68.5601 L73.654 72.4953 L53.7467 72.4953 L53.7467 68.5601 Z\" fill=\"#000000\" fill-rule=\"evenodd\" fill-opacity=\"1\" /><path clip-path=\"url(#clip450)\" d=\"M83.0984 66.6157 L87.9827 66.6157 L87.9827 72.4953 L83.0984 72.4953 L83.0984 66.6157 Z\" fill=\"#000000\" fill-rule=\"evenodd\" fill-opacity=\"1\" /><path clip-path=\"url(#clip450)\" d=\"M108.168 41.014 Q104.557 41.014 102.728 44.5788 Q100.922 48.1204 100.922 55.25 Q100.922 62.3565 102.728 65.9212 Q104.557 69.4629 108.168 69.4629 Q111.802 69.4629 113.608 65.9212 Q115.436 62.3565 115.436 55.25 Q115.436 48.1204 113.608 44.5788 Q111.802 41.014 108.168 41.014 M108.168 37.3103 Q113.978 37.3103 117.033 41.9167 Q120.112 46.5001 120.112 55.25 Q120.112 63.9768 117.033 68.5833 Q113.978 73.1666 108.168 73.1666 Q102.358 73.1666 99.2789 68.5833 Q96.2234 63.9768 96.2234 55.25 Q96.2234 46.5001 99.2789 41.9167 Q102.358 37.3103 108.168 37.3103 Z\" fill=\"#000000\" fill-rule=\"evenodd\" fill-opacity=\"1\" /><path clip-path=\"url(#clip450)\" d=\"M138.33 41.014 Q134.719 41.014 132.89 44.5788 Q131.084 48.1204 131.084 55.25 Q131.084 62.3565 132.89 65.9212 Q134.719 69.4629 138.33 69.4629 Q141.964 69.4629 143.769 65.9212 Q145.598 62.3565 145.598 55.25 Q145.598 48.1204 143.769 44.5788 Q141.964 41.014 138.33 41.014 M138.33 37.3103 Q144.14 37.3103 147.195 41.9167 Q150.274 46.5001 150.274 55.25 Q150.274 63.9768 147.195 68.5833 Q144.14 73.1666 138.33 73.1666 Q132.519 73.1666 129.441 68.5833 Q126.385 63.9768 126.385 55.25 Q126.385 46.5001 129.441 41.9167 Q132.519 37.3103 138.33 37.3103 Z\" fill=\"#000000\" fill-rule=\"evenodd\" fill-opacity=\"1\" /><polyline clip-path=\"url(#clip452)\" style=\"stroke:#009af9; stroke-linecap:butt; stroke-linejoin:round; stroke-width:4; stroke-opacity:1; fill:none\" points=\"\n",
       "  247.59,1295.11 393.579,1298.68 539.568,487.249 685.558,194.12 831.547,115.625 977.536,502.204 1123.53,1407.97 1269.51,1445.72 1415.5,1019.61 1561.49,1078.94 \n",
       "  1707.48,884.797 1853.47,394.654 1999.46,687.825 2145.45,87.9763 2291.44,685.915 \n",
       "  \"/>\n",
       "<path clip-path=\"url(#clip450)\" d=\"\n",
       "M1987.39 198.898 L2280.54 198.898 L2280.54 95.2176 L1987.39 95.2176  Z\n",
       "  \" fill=\"#ffffff\" fill-rule=\"evenodd\" fill-opacity=\"1\"/>\n",
       "<polyline clip-path=\"url(#clip450)\" style=\"stroke:#000000; stroke-linecap:butt; stroke-linejoin:round; stroke-width:4; stroke-opacity:1; fill:none\" points=\"\n",
       "  1987.39,198.898 2280.54,198.898 2280.54,95.2176 1987.39,95.2176 1987.39,198.898 \n",
       "  \"/>\n",
       "<polyline clip-path=\"url(#clip450)\" style=\"stroke:#009af9; stroke-linecap:butt; stroke-linejoin:round; stroke-width:4; stroke-opacity:1; fill:none\" points=\"\n",
       "  2011.46,147.058 2155.89,147.058 \n",
       "  \"/>\n",
       "<path clip-path=\"url(#clip450)\" d=\"M2193.81 166.745 Q2192 171.375 2190.29 172.787 Q2188.58 174.199 2185.71 174.199 L2182.3 174.199 L2182.3 170.634 L2184.8 170.634 Q2186.56 170.634 2187.53 169.8 Q2188.51 168.967 2189.69 165.865 L2190.45 163.921 L2179.97 138.412 L2184.48 138.412 L2192.58 158.689 L2200.68 138.412 L2205.2 138.412 L2193.81 166.745 Z\" fill=\"#000000\" fill-rule=\"evenodd\" fill-opacity=\"1\" /><path clip-path=\"url(#clip450)\" d=\"M2212.49 160.402 L2220.13 160.402 L2220.13 134.037 L2211.82 135.703 L2211.82 131.444 L2220.08 129.778 L2224.76 129.778 L2224.76 160.402 L2232.4 160.402 L2232.4 164.338 L2212.49 164.338 L2212.49 160.402 Z\" fill=\"#000000\" fill-rule=\"evenodd\" fill-opacity=\"1\" /></svg>\n"
      ]
     },
     "execution_count": 110,
     "metadata": {},
     "output_type": "execute_result"
    }
   ],
   "source": [
    "plot(x, y) # random plot"
   ]
  },
  {
   "cell_type": "code",
   "execution_count": 111,
   "metadata": {},
   "outputs": [],
   "source": [
    "z = rand(15);"
   ]
  },
  {
   "cell_type": "code",
   "execution_count": 112,
   "metadata": {},
   "outputs": [
    {
     "data": {
      "image/svg+xml": [
       "<?xml version=\"1.0\" encoding=\"utf-8\"?>\n",
       "<svg xmlns=\"http://www.w3.org/2000/svg\" xmlns:xlink=\"http://www.w3.org/1999/xlink\" width=\"600\" height=\"400\" viewBox=\"0 0 2400 1600\">\n",
       "<defs>\n",
       "  <clipPath id=\"clip490\">\n",
       "    <rect x=\"0\" y=\"0\" width=\"2400\" height=\"1600\"/>\n",
       "  </clipPath>\n",
       "</defs>\n",
       "<path clip-path=\"url(#clip490)\" d=\"\n",
       "M0 1600 L2400 1600 L2400 0 L0 0  Z\n",
       "  \" fill=\"#ffffff\" fill-rule=\"evenodd\" fill-opacity=\"1\"/>\n",
       "<defs>\n",
       "  <clipPath id=\"clip491\">\n",
       "    <rect x=\"480\" y=\"0\" width=\"1681\" height=\"1600\"/>\n",
       "  </clipPath>\n",
       "</defs>\n",
       "<path clip-path=\"url(#clip490)\" d=\"\n",
       "M186.274 1486.45 L2352.76 1486.45 L2352.76 47.2441 L186.274 47.2441  Z\n",
       "  \" fill=\"#ffffff\" fill-rule=\"evenodd\" fill-opacity=\"1\"/>\n",
       "<defs>\n",
       "  <clipPath id=\"clip492\">\n",
       "    <rect x=\"186\" y=\"47\" width=\"2167\" height=\"1440\"/>\n",
       "  </clipPath>\n",
       "</defs>\n",
       "<polyline clip-path=\"url(#clip492)\" style=\"stroke:#000000; stroke-linecap:butt; stroke-linejoin:round; stroke-width:2; stroke-opacity:0.1; fill:none\" points=\"\n",
       "  393.579,1486.45 393.579,47.2441 \n",
       "  \"/>\n",
       "<polyline clip-path=\"url(#clip492)\" style=\"stroke:#000000; stroke-linecap:butt; stroke-linejoin:round; stroke-width:2; stroke-opacity:0.1; fill:none\" points=\"\n",
       "  685.558,1486.45 685.558,47.2441 \n",
       "  \"/>\n",
       "<polyline clip-path=\"url(#clip492)\" style=\"stroke:#000000; stroke-linecap:butt; stroke-linejoin:round; stroke-width:2; stroke-opacity:0.1; fill:none\" points=\"\n",
       "  977.536,1486.45 977.536,47.2441 \n",
       "  \"/>\n",
       "<polyline clip-path=\"url(#clip492)\" style=\"stroke:#000000; stroke-linecap:butt; stroke-linejoin:round; stroke-width:2; stroke-opacity:0.1; fill:none\" points=\"\n",
       "  1269.51,1486.45 1269.51,47.2441 \n",
       "  \"/>\n",
       "<polyline clip-path=\"url(#clip492)\" style=\"stroke:#000000; stroke-linecap:butt; stroke-linejoin:round; stroke-width:2; stroke-opacity:0.1; fill:none\" points=\"\n",
       "  1561.49,1486.45 1561.49,47.2441 \n",
       "  \"/>\n",
       "<polyline clip-path=\"url(#clip492)\" style=\"stroke:#000000; stroke-linecap:butt; stroke-linejoin:round; stroke-width:2; stroke-opacity:0.1; fill:none\" points=\"\n",
       "  1853.47,1486.45 1853.47,47.2441 \n",
       "  \"/>\n",
       "<polyline clip-path=\"url(#clip492)\" style=\"stroke:#000000; stroke-linecap:butt; stroke-linejoin:round; stroke-width:2; stroke-opacity:0.1; fill:none\" points=\"\n",
       "  2145.45,1486.45 2145.45,47.2441 \n",
       "  \"/>\n",
       "<polyline clip-path=\"url(#clip490)\" style=\"stroke:#000000; stroke-linecap:butt; stroke-linejoin:round; stroke-width:4; stroke-opacity:1; fill:none\" points=\"\n",
       "  186.274,1486.45 2352.76,1486.45 \n",
       "  \"/>\n",
       "<polyline clip-path=\"url(#clip490)\" style=\"stroke:#000000; stroke-linecap:butt; stroke-linejoin:round; stroke-width:4; stroke-opacity:1; fill:none\" points=\"\n",
       "  393.579,1486.45 393.579,1467.55 \n",
       "  \"/>\n",
       "<polyline clip-path=\"url(#clip490)\" style=\"stroke:#000000; stroke-linecap:butt; stroke-linejoin:round; stroke-width:4; stroke-opacity:1; fill:none\" points=\"\n",
       "  685.558,1486.45 685.558,1467.55 \n",
       "  \"/>\n",
       "<polyline clip-path=\"url(#clip490)\" style=\"stroke:#000000; stroke-linecap:butt; stroke-linejoin:round; stroke-width:4; stroke-opacity:1; fill:none\" points=\"\n",
       "  977.536,1486.45 977.536,1467.55 \n",
       "  \"/>\n",
       "<polyline clip-path=\"url(#clip490)\" style=\"stroke:#000000; stroke-linecap:butt; stroke-linejoin:round; stroke-width:4; stroke-opacity:1; fill:none\" points=\"\n",
       "  1269.51,1486.45 1269.51,1467.55 \n",
       "  \"/>\n",
       "<polyline clip-path=\"url(#clip490)\" style=\"stroke:#000000; stroke-linecap:butt; stroke-linejoin:round; stroke-width:4; stroke-opacity:1; fill:none\" points=\"\n",
       "  1561.49,1486.45 1561.49,1467.55 \n",
       "  \"/>\n",
       "<polyline clip-path=\"url(#clip490)\" style=\"stroke:#000000; stroke-linecap:butt; stroke-linejoin:round; stroke-width:4; stroke-opacity:1; fill:none\" points=\"\n",
       "  1853.47,1486.45 1853.47,1467.55 \n",
       "  \"/>\n",
       "<polyline clip-path=\"url(#clip490)\" style=\"stroke:#000000; stroke-linecap:butt; stroke-linejoin:round; stroke-width:4; stroke-opacity:1; fill:none\" points=\"\n",
       "  2145.45,1486.45 2145.45,1467.55 \n",
       "  \"/>\n",
       "<path clip-path=\"url(#clip490)\" d=\"M388.232 1544.91 L404.551 1544.91 L404.551 1548.85 L382.607 1548.85 L382.607 1544.91 Q385.269 1542.16 389.852 1537.53 Q394.458 1532.88 395.639 1531.53 Q397.884 1529.01 398.764 1527.27 Q399.667 1525.51 399.667 1523.82 Q399.667 1521.07 397.722 1519.33 Q395.801 1517.6 392.699 1517.6 Q390.5 1517.6 388.046 1518.36 Q385.616 1519.13 382.838 1520.68 L382.838 1515.95 Q385.662 1514.82 388.116 1514.24 Q390.57 1513.66 392.607 1513.66 Q397.977 1513.66 401.171 1516.35 Q404.366 1519.03 404.366 1523.52 Q404.366 1525.65 403.556 1527.57 Q402.769 1529.47 400.662 1532.07 Q400.083 1532.74 396.982 1535.95 Q393.88 1539.15 388.232 1544.91 Z\" fill=\"#000000\" fill-rule=\"evenodd\" fill-opacity=\"1\" /><path clip-path=\"url(#clip490)\" d=\"M688.567 1518.36 L676.761 1536.81 L688.567 1536.81 L688.567 1518.36 M687.34 1514.29 L693.22 1514.29 L693.22 1536.81 L698.15 1536.81 L698.15 1540.7 L693.22 1540.7 L693.22 1548.85 L688.567 1548.85 L688.567 1540.7 L672.965 1540.7 L672.965 1536.19 L687.34 1514.29 Z\" fill=\"#000000\" fill-rule=\"evenodd\" fill-opacity=\"1\" /><path clip-path=\"url(#clip490)\" d=\"M977.941 1529.7 Q974.793 1529.7 972.941 1531.86 Q971.113 1534.01 971.113 1537.76 Q971.113 1541.49 972.941 1543.66 Q974.793 1545.82 977.941 1545.82 Q981.089 1545.82 982.918 1543.66 Q984.77 1541.49 984.77 1537.76 Q984.77 1534.01 982.918 1531.86 Q981.089 1529.7 977.941 1529.7 M987.224 1515.05 L987.224 1519.31 Q985.464 1518.48 983.659 1518.04 Q981.877 1517.6 980.117 1517.6 Q975.488 1517.6 973.034 1520.72 Q970.603 1523.85 970.256 1530.17 Q971.622 1528.15 973.682 1527.09 Q975.742 1526 978.219 1526 Q983.427 1526 986.437 1529.17 Q989.469 1532.32 989.469 1537.76 Q989.469 1543.08 986.321 1546.3 Q983.173 1549.52 977.941 1549.52 Q971.946 1549.52 968.775 1544.94 Q965.603 1540.33 965.603 1531.6 Q965.603 1523.41 969.492 1518.55 Q973.381 1513.66 979.932 1513.66 Q981.691 1513.66 983.474 1514.01 Q985.279 1514.36 987.224 1515.05 Z\" fill=\"#000000\" fill-rule=\"evenodd\" fill-opacity=\"1\" /><path clip-path=\"url(#clip490)\" d=\"M1269.51 1532.44 Q1266.18 1532.44 1264.26 1534.22 Q1262.36 1536 1262.36 1539.13 Q1262.36 1542.25 1264.26 1544.03 Q1266.18 1545.82 1269.51 1545.82 Q1272.85 1545.82 1274.77 1544.03 Q1276.69 1542.23 1276.69 1539.13 Q1276.69 1536 1274.77 1534.22 Q1272.87 1532.44 1269.51 1532.44 M1264.84 1530.45 Q1261.83 1529.7 1260.14 1527.64 Q1258.47 1525.58 1258.47 1522.62 Q1258.47 1518.48 1261.41 1516.07 Q1264.38 1513.66 1269.51 1513.66 Q1274.68 1513.66 1277.62 1516.07 Q1280.56 1518.48 1280.56 1522.62 Q1280.56 1525.58 1278.87 1527.64 Q1277.2 1529.7 1274.21 1530.45 Q1277.59 1531.23 1279.47 1533.52 Q1281.37 1535.82 1281.37 1539.13 Q1281.37 1544.15 1278.29 1546.83 Q1275.23 1549.52 1269.51 1549.52 Q1263.8 1549.52 1260.72 1546.83 Q1257.66 1544.15 1257.66 1539.13 Q1257.66 1535.82 1259.56 1533.52 Q1261.46 1531.23 1264.84 1530.45 M1263.13 1523.06 Q1263.13 1525.75 1264.79 1527.25 Q1266.48 1528.76 1269.51 1528.76 Q1272.52 1528.76 1274.21 1527.25 Q1275.93 1525.75 1275.93 1523.06 Q1275.93 1520.38 1274.21 1518.87 Q1272.52 1517.37 1269.51 1517.37 Q1266.48 1517.37 1264.79 1518.87 Q1263.13 1520.38 1263.13 1523.06 Z\" fill=\"#000000\" fill-rule=\"evenodd\" fill-opacity=\"1\" /><path clip-path=\"url(#clip490)\" d=\"M1536.18 1544.91 L1543.82 1544.91 L1543.82 1518.55 L1535.51 1520.21 L1535.51 1515.95 L1543.77 1514.29 L1548.45 1514.29 L1548.45 1544.91 L1556.09 1544.91 L1556.09 1548.85 L1536.18 1548.85 L1536.18 1544.91 Z\" fill=\"#000000\" fill-rule=\"evenodd\" fill-opacity=\"1\" /><path clip-path=\"url(#clip490)\" d=\"M1575.53 1517.37 Q1571.92 1517.37 1570.09 1520.93 Q1568.29 1524.47 1568.29 1531.6 Q1568.29 1538.71 1570.09 1542.27 Q1571.92 1545.82 1575.53 1545.82 Q1579.17 1545.82 1580.97 1542.27 Q1582.8 1538.71 1582.8 1531.6 Q1582.8 1524.47 1580.97 1520.93 Q1579.17 1517.37 1575.53 1517.37 M1575.53 1513.66 Q1581.34 1513.66 1584.4 1518.27 Q1587.48 1522.85 1587.48 1531.6 Q1587.48 1540.33 1584.4 1544.94 Q1581.34 1549.52 1575.53 1549.52 Q1569.72 1549.52 1566.64 1544.94 Q1563.59 1540.33 1563.59 1531.6 Q1563.59 1522.85 1566.64 1518.27 Q1569.72 1513.66 1575.53 1513.66 Z\" fill=\"#000000\" fill-rule=\"evenodd\" fill-opacity=\"1\" /><path clip-path=\"url(#clip490)\" d=\"M1828.96 1544.91 L1836.6 1544.91 L1836.6 1518.55 L1828.29 1520.21 L1828.29 1515.95 L1836.55 1514.29 L1841.23 1514.29 L1841.23 1544.91 L1848.87 1544.91 L1848.87 1548.85 L1828.96 1548.85 L1828.96 1544.91 Z\" fill=\"#000000\" fill-rule=\"evenodd\" fill-opacity=\"1\" /><path clip-path=\"url(#clip490)\" d=\"M1862.34 1544.91 L1878.66 1544.91 L1878.66 1548.85 L1856.71 1548.85 L1856.71 1544.91 Q1859.38 1542.16 1863.96 1537.53 Q1868.56 1532.88 1869.75 1531.53 Q1871.99 1529.01 1872.87 1527.27 Q1873.77 1525.51 1873.77 1523.82 Q1873.77 1521.07 1871.83 1519.33 Q1869.91 1517.6 1866.81 1517.6 Q1864.61 1517.6 1862.15 1518.36 Q1859.72 1519.13 1856.94 1520.68 L1856.94 1515.95 Q1859.77 1514.82 1862.22 1514.24 Q1864.68 1513.66 1866.71 1513.66 Q1872.08 1513.66 1875.28 1516.35 Q1878.47 1519.03 1878.47 1523.52 Q1878.47 1525.65 1877.66 1527.57 Q1876.87 1529.47 1874.77 1532.07 Q1874.19 1532.74 1871.09 1535.95 Q1867.99 1539.15 1862.34 1544.91 Z\" fill=\"#000000\" fill-rule=\"evenodd\" fill-opacity=\"1\" /><path clip-path=\"url(#clip490)\" d=\"M2119.9 1544.91 L2127.53 1544.91 L2127.53 1518.55 L2119.22 1520.21 L2119.22 1515.95 L2127.49 1514.29 L2132.16 1514.29 L2132.16 1544.91 L2139.8 1544.91 L2139.8 1548.85 L2119.9 1548.85 L2119.9 1544.91 Z\" fill=\"#000000\" fill-rule=\"evenodd\" fill-opacity=\"1\" /><path clip-path=\"url(#clip490)\" d=\"M2162.09 1518.36 L2150.29 1536.81 L2162.09 1536.81 L2162.09 1518.36 M2160.87 1514.29 L2166.75 1514.29 L2166.75 1536.81 L2171.68 1536.81 L2171.68 1540.7 L2166.75 1540.7 L2166.75 1548.85 L2162.09 1548.85 L2162.09 1540.7 L2146.49 1540.7 L2146.49 1536.19 L2160.87 1514.29 Z\" fill=\"#000000\" fill-rule=\"evenodd\" fill-opacity=\"1\" /><polyline clip-path=\"url(#clip492)\" style=\"stroke:#000000; stroke-linecap:butt; stroke-linejoin:round; stroke-width:2; stroke-opacity:0.1; fill:none\" points=\"\n",
       "  186.274,1483.59 2352.76,1483.59 \n",
       "  \"/>\n",
       "<polyline clip-path=\"url(#clip492)\" style=\"stroke:#000000; stroke-linecap:butt; stroke-linejoin:round; stroke-width:2; stroke-opacity:0.1; fill:none\" points=\"\n",
       "  186.274,1126.5 2352.76,1126.5 \n",
       "  \"/>\n",
       "<polyline clip-path=\"url(#clip492)\" style=\"stroke:#000000; stroke-linecap:butt; stroke-linejoin:round; stroke-width:2; stroke-opacity:0.1; fill:none\" points=\"\n",
       "  186.274,769.403 2352.76,769.403 \n",
       "  \"/>\n",
       "<polyline clip-path=\"url(#clip492)\" style=\"stroke:#000000; stroke-linecap:butt; stroke-linejoin:round; stroke-width:2; stroke-opacity:0.1; fill:none\" points=\"\n",
       "  186.274,412.309 2352.76,412.309 \n",
       "  \"/>\n",
       "<polyline clip-path=\"url(#clip492)\" style=\"stroke:#000000; stroke-linecap:butt; stroke-linejoin:round; stroke-width:2; stroke-opacity:0.1; fill:none\" points=\"\n",
       "  186.274,55.2153 2352.76,55.2153 \n",
       "  \"/>\n",
       "<polyline clip-path=\"url(#clip490)\" style=\"stroke:#000000; stroke-linecap:butt; stroke-linejoin:round; stroke-width:4; stroke-opacity:1; fill:none\" points=\"\n",
       "  186.274,1486.45 186.274,47.2441 \n",
       "  \"/>\n",
       "<polyline clip-path=\"url(#clip490)\" style=\"stroke:#000000; stroke-linecap:butt; stroke-linejoin:round; stroke-width:4; stroke-opacity:1; fill:none\" points=\"\n",
       "  186.274,1483.59 205.172,1483.59 \n",
       "  \"/>\n",
       "<polyline clip-path=\"url(#clip490)\" style=\"stroke:#000000; stroke-linecap:butt; stroke-linejoin:round; stroke-width:4; stroke-opacity:1; fill:none\" points=\"\n",
       "  186.274,1126.5 205.172,1126.5 \n",
       "  \"/>\n",
       "<polyline clip-path=\"url(#clip490)\" style=\"stroke:#000000; stroke-linecap:butt; stroke-linejoin:round; stroke-width:4; stroke-opacity:1; fill:none\" points=\"\n",
       "  186.274,769.403 205.172,769.403 \n",
       "  \"/>\n",
       "<polyline clip-path=\"url(#clip490)\" style=\"stroke:#000000; stroke-linecap:butt; stroke-linejoin:round; stroke-width:4; stroke-opacity:1; fill:none\" points=\"\n",
       "  186.274,412.309 205.172,412.309 \n",
       "  \"/>\n",
       "<polyline clip-path=\"url(#clip490)\" style=\"stroke:#000000; stroke-linecap:butt; stroke-linejoin:round; stroke-width:4; stroke-opacity:1; fill:none\" points=\"\n",
       "  186.274,55.2153 205.172,55.2153 \n",
       "  \"/>\n",
       "<path clip-path=\"url(#clip490)\" d=\"M62.9365 1469.39 Q59.3254 1469.39 57.4967 1472.95 Q55.6912 1476.5 55.6912 1483.62 Q55.6912 1490.73 57.4967 1494.3 Q59.3254 1497.84 62.9365 1497.84 Q66.5707 1497.84 68.3763 1494.3 Q70.205 1490.73 70.205 1483.62 Q70.205 1476.5 68.3763 1472.95 Q66.5707 1469.39 62.9365 1469.39 M62.9365 1465.69 Q68.7467 1465.69 71.8022 1470.29 Q74.8809 1474.87 74.8809 1483.62 Q74.8809 1492.35 71.8022 1496.96 Q68.7467 1501.54 62.9365 1501.54 Q57.1264 1501.54 54.0477 1496.96 Q50.9921 1492.35 50.9921 1483.62 Q50.9921 1474.87 54.0477 1470.29 Q57.1264 1465.69 62.9365 1465.69 Z\" fill=\"#000000\" fill-rule=\"evenodd\" fill-opacity=\"1\" /><path clip-path=\"url(#clip490)\" d=\"M83.0984 1494.99 L87.9827 1494.99 L87.9827 1500.87 L83.0984 1500.87 L83.0984 1494.99 Z\" fill=\"#000000\" fill-rule=\"evenodd\" fill-opacity=\"1\" /><path clip-path=\"url(#clip490)\" d=\"M108.168 1469.39 Q104.557 1469.39 102.728 1472.95 Q100.922 1476.5 100.922 1483.62 Q100.922 1490.73 102.728 1494.3 Q104.557 1497.84 108.168 1497.84 Q111.802 1497.84 113.608 1494.3 Q115.436 1490.73 115.436 1483.62 Q115.436 1476.5 113.608 1472.95 Q111.802 1469.39 108.168 1469.39 M108.168 1465.69 Q113.978 1465.69 117.033 1470.29 Q120.112 1474.87 120.112 1483.62 Q120.112 1492.35 117.033 1496.96 Q113.978 1501.54 108.168 1501.54 Q102.358 1501.54 99.2789 1496.96 Q96.2234 1492.35 96.2234 1483.62 Q96.2234 1474.87 99.2789 1470.29 Q102.358 1465.69 108.168 1465.69 Z\" fill=\"#000000\" fill-rule=\"evenodd\" fill-opacity=\"1\" /><path clip-path=\"url(#clip490)\" d=\"M138.33 1469.39 Q134.719 1469.39 132.89 1472.95 Q131.084 1476.5 131.084 1483.62 Q131.084 1490.73 132.89 1494.3 Q134.719 1497.84 138.33 1497.84 Q141.964 1497.84 143.769 1494.3 Q145.598 1490.73 145.598 1483.62 Q145.598 1476.5 143.769 1472.95 Q141.964 1469.39 138.33 1469.39 M138.33 1465.69 Q144.14 1465.69 147.195 1470.29 Q150.274 1474.87 150.274 1483.62 Q150.274 1492.35 147.195 1496.96 Q144.14 1501.54 138.33 1501.54 Q132.519 1501.54 129.441 1496.96 Q126.385 1492.35 126.385 1483.62 Q126.385 1474.87 129.441 1470.29 Q132.519 1465.69 138.33 1465.69 Z\" fill=\"#000000\" fill-rule=\"evenodd\" fill-opacity=\"1\" /><path clip-path=\"url(#clip490)\" d=\"M63.9319 1112.3 Q60.3208 1112.3 58.4921 1115.86 Q56.6865 1119.4 56.6865 1126.53 Q56.6865 1133.64 58.4921 1137.2 Q60.3208 1140.74 63.9319 1140.74 Q67.5661 1140.74 69.3717 1137.2 Q71.2004 1133.64 71.2004 1126.53 Q71.2004 1119.4 69.3717 1115.86 Q67.5661 1112.3 63.9319 1112.3 M63.9319 1108.59 Q69.742 1108.59 72.7976 1113.2 Q75.8763 1117.78 75.8763 1126.53 Q75.8763 1135.26 72.7976 1139.86 Q69.742 1144.45 63.9319 1144.45 Q58.1217 1144.45 55.043 1139.86 Q51.9875 1135.26 51.9875 1126.53 Q51.9875 1117.78 55.043 1113.2 Q58.1217 1108.59 63.9319 1108.59 Z\" fill=\"#000000\" fill-rule=\"evenodd\" fill-opacity=\"1\" /><path clip-path=\"url(#clip490)\" d=\"M84.0938 1137.9 L88.978 1137.9 L88.978 1143.78 L84.0938 1143.78 L84.0938 1137.9 Z\" fill=\"#000000\" fill-rule=\"evenodd\" fill-opacity=\"1\" /><path clip-path=\"url(#clip490)\" d=\"M103.191 1139.84 L119.51 1139.84 L119.51 1143.78 L97.566 1143.78 L97.566 1139.84 Q100.228 1137.09 104.811 1132.46 Q109.418 1127.8 110.598 1126.46 Q112.844 1123.94 113.723 1122.2 Q114.626 1120.44 114.626 1118.75 Q114.626 1116 112.682 1114.26 Q110.76 1112.53 107.658 1112.53 Q105.459 1112.53 103.006 1113.29 Q100.575 1114.05 97.7974 1115.61 L97.7974 1110.88 Q100.621 1109.75 103.075 1109.17 Q105.529 1108.59 107.566 1108.59 Q112.936 1108.59 116.131 1111.28 Q119.325 1113.96 119.325 1118.45 Q119.325 1120.58 118.515 1122.5 Q117.728 1124.4 115.621 1126.99 Q115.043 1127.67 111.941 1130.88 Q108.839 1134.08 103.191 1139.84 Z\" fill=\"#000000\" fill-rule=\"evenodd\" fill-opacity=\"1\" /><path clip-path=\"url(#clip490)\" d=\"M129.371 1109.22 L147.728 1109.22 L147.728 1113.15 L133.654 1113.15 L133.654 1121.62 Q134.672 1121.28 135.691 1121.11 Q136.709 1120.93 137.728 1120.93 Q143.515 1120.93 146.894 1124.1 Q150.274 1127.27 150.274 1132.69 Q150.274 1138.27 146.802 1141.37 Q143.33 1144.45 137.01 1144.45 Q134.834 1144.45 132.566 1144.08 Q130.32 1143.71 127.913 1142.97 L127.913 1138.27 Q129.996 1139.4 132.219 1139.96 Q134.441 1140.51 136.918 1140.51 Q140.922 1140.51 143.26 1138.41 Q145.598 1136.3 145.598 1132.69 Q145.598 1129.08 143.26 1126.97 Q140.922 1124.86 136.918 1124.86 Q135.043 1124.86 133.168 1125.28 Q131.316 1125.7 129.371 1126.58 L129.371 1109.22 Z\" fill=\"#000000\" fill-rule=\"evenodd\" fill-opacity=\"1\" /><path clip-path=\"url(#clip490)\" d=\"M62.9365 755.201 Q59.3254 755.201 57.4967 758.766 Q55.6912 762.308 55.6912 769.437 Q55.6912 776.544 57.4967 780.109 Q59.3254 783.65 62.9365 783.65 Q66.5707 783.65 68.3763 780.109 Q70.205 776.544 70.205 769.437 Q70.205 762.308 68.3763 758.766 Q66.5707 755.201 62.9365 755.201 M62.9365 751.498 Q68.7467 751.498 71.8022 756.104 Q74.8809 760.688 74.8809 769.437 Q74.8809 778.164 71.8022 782.771 Q68.7467 787.354 62.9365 787.354 Q57.1264 787.354 54.0477 782.771 Q50.9921 778.164 50.9921 769.437 Q50.9921 760.688 54.0477 756.104 Q57.1264 751.498 62.9365 751.498 Z\" fill=\"#000000\" fill-rule=\"evenodd\" fill-opacity=\"1\" /><path clip-path=\"url(#clip490)\" d=\"M83.0984 780.803 L87.9827 780.803 L87.9827 786.683 L83.0984 786.683 L83.0984 780.803 Z\" fill=\"#000000\" fill-rule=\"evenodd\" fill-opacity=\"1\" /><path clip-path=\"url(#clip490)\" d=\"M98.2141 752.123 L116.57 752.123 L116.57 756.058 L102.496 756.058 L102.496 764.53 Q103.515 764.183 104.534 764.021 Q105.552 763.836 106.571 763.836 Q112.358 763.836 115.737 767.007 Q119.117 770.178 119.117 775.595 Q119.117 781.174 115.645 784.275 Q112.172 787.354 105.853 787.354 Q103.677 787.354 101.409 786.984 Q99.1632 786.613 96.7558 785.873 L96.7558 781.174 Q98.8391 782.308 101.061 782.863 Q103.284 783.419 105.76 783.419 Q109.765 783.419 112.103 781.312 Q114.441 779.206 114.441 775.595 Q114.441 771.984 112.103 769.877 Q109.765 767.771 105.76 767.771 Q103.885 767.771 102.01 768.187 Q100.159 768.604 98.2141 769.484 L98.2141 752.123 Z\" fill=\"#000000\" fill-rule=\"evenodd\" fill-opacity=\"1\" /><path clip-path=\"url(#clip490)\" d=\"M138.33 755.201 Q134.719 755.201 132.89 758.766 Q131.084 762.308 131.084 769.437 Q131.084 776.544 132.89 780.109 Q134.719 783.65 138.33 783.65 Q141.964 783.65 143.769 780.109 Q145.598 776.544 145.598 769.437 Q145.598 762.308 143.769 758.766 Q141.964 755.201 138.33 755.201 M138.33 751.498 Q144.14 751.498 147.195 756.104 Q150.274 760.688 150.274 769.437 Q150.274 778.164 147.195 782.771 Q144.14 787.354 138.33 787.354 Q132.519 787.354 129.441 782.771 Q126.385 778.164 126.385 769.437 Q126.385 760.688 129.441 756.104 Q132.519 751.498 138.33 751.498 Z\" fill=\"#000000\" fill-rule=\"evenodd\" fill-opacity=\"1\" /><path clip-path=\"url(#clip490)\" d=\"M63.9319 398.108 Q60.3208 398.108 58.4921 401.672 Q56.6865 405.214 56.6865 412.344 Q56.6865 419.45 58.4921 423.015 Q60.3208 426.557 63.9319 426.557 Q67.5661 426.557 69.3717 423.015 Q71.2004 419.45 71.2004 412.344 Q71.2004 405.214 69.3717 401.672 Q67.5661 398.108 63.9319 398.108 M63.9319 394.404 Q69.742 394.404 72.7976 399.01 Q75.8763 403.594 75.8763 412.344 Q75.8763 421.071 72.7976 425.677 Q69.742 430.26 63.9319 430.26 Q58.1217 430.26 55.043 425.677 Q51.9875 421.071 51.9875 412.344 Q51.9875 403.594 55.043 399.01 Q58.1217 394.404 63.9319 394.404 Z\" fill=\"#000000\" fill-rule=\"evenodd\" fill-opacity=\"1\" /><path clip-path=\"url(#clip490)\" d=\"M84.0938 423.709 L88.978 423.709 L88.978 429.589 L84.0938 429.589 L84.0938 423.709 Z\" fill=\"#000000\" fill-rule=\"evenodd\" fill-opacity=\"1\" /><path clip-path=\"url(#clip490)\" d=\"M97.9826 395.029 L120.205 395.029 L120.205 397.02 L107.658 429.589 L102.774 429.589 L114.58 398.964 L97.9826 398.964 L97.9826 395.029 Z\" fill=\"#000000\" fill-rule=\"evenodd\" fill-opacity=\"1\" /><path clip-path=\"url(#clip490)\" d=\"M129.371 395.029 L147.728 395.029 L147.728 398.964 L133.654 398.964 L133.654 407.436 Q134.672 407.089 135.691 406.927 Q136.709 406.742 137.728 406.742 Q143.515 406.742 146.894 409.913 Q150.274 413.084 150.274 418.501 Q150.274 424.08 146.802 427.182 Q143.33 430.26 137.01 430.26 Q134.834 430.26 132.566 429.89 Q130.32 429.52 127.913 428.779 L127.913 424.08 Q129.996 425.214 132.219 425.77 Q134.441 426.325 136.918 426.325 Q140.922 426.325 143.26 424.219 Q145.598 422.112 145.598 418.501 Q145.598 414.89 143.26 412.784 Q140.922 410.677 136.918 410.677 Q135.043 410.677 133.168 411.094 Q131.316 411.51 129.371 412.39 L129.371 395.029 Z\" fill=\"#000000\" fill-rule=\"evenodd\" fill-opacity=\"1\" /><path clip-path=\"url(#clip490)\" d=\"M53.7467 68.5601 L61.3856 68.5601 L61.3856 42.1945 L53.0754 43.8612 L53.0754 39.6019 L61.3393 37.9353 L66.0152 37.9353 L66.0152 68.5601 L73.654 68.5601 L73.654 72.4953 L53.7467 72.4953 L53.7467 68.5601 Z\" fill=\"#000000\" fill-rule=\"evenodd\" fill-opacity=\"1\" /><path clip-path=\"url(#clip490)\" d=\"M83.0984 66.6157 L87.9827 66.6157 L87.9827 72.4953 L83.0984 72.4953 L83.0984 66.6157 Z\" fill=\"#000000\" fill-rule=\"evenodd\" fill-opacity=\"1\" /><path clip-path=\"url(#clip490)\" d=\"M108.168 41.014 Q104.557 41.014 102.728 44.5788 Q100.922 48.1204 100.922 55.25 Q100.922 62.3565 102.728 65.9212 Q104.557 69.4629 108.168 69.4629 Q111.802 69.4629 113.608 65.9212 Q115.436 62.3565 115.436 55.25 Q115.436 48.1204 113.608 44.5788 Q111.802 41.014 108.168 41.014 M108.168 37.3103 Q113.978 37.3103 117.033 41.9167 Q120.112 46.5001 120.112 55.25 Q120.112 63.9768 117.033 68.5833 Q113.978 73.1666 108.168 73.1666 Q102.358 73.1666 99.2789 68.5833 Q96.2234 63.9768 96.2234 55.25 Q96.2234 46.5001 99.2789 41.9167 Q102.358 37.3103 108.168 37.3103 Z\" fill=\"#000000\" fill-rule=\"evenodd\" fill-opacity=\"1\" /><path clip-path=\"url(#clip490)\" d=\"M138.33 41.014 Q134.719 41.014 132.89 44.5788 Q131.084 48.1204 131.084 55.25 Q131.084 62.3565 132.89 65.9212 Q134.719 69.4629 138.33 69.4629 Q141.964 69.4629 143.769 65.9212 Q145.598 62.3565 145.598 55.25 Q145.598 48.1204 143.769 44.5788 Q141.964 41.014 138.33 41.014 M138.33 37.3103 Q144.14 37.3103 147.195 41.9167 Q150.274 46.5001 150.274 55.25 Q150.274 63.9768 147.195 68.5833 Q144.14 73.1666 138.33 73.1666 Q132.519 73.1666 129.441 68.5833 Q126.385 63.9768 126.385 55.25 Q126.385 46.5001 129.441 41.9167 Q132.519 37.3103 138.33 37.3103 Z\" fill=\"#000000\" fill-rule=\"evenodd\" fill-opacity=\"1\" /><polyline clip-path=\"url(#clip492)\" style=\"stroke:#009af9; stroke-linecap:butt; stroke-linejoin:round; stroke-width:4; stroke-opacity:1; fill:none\" points=\"\n",
       "  247.59,1295.11 393.579,1298.68 539.568,487.249 685.558,194.12 831.547,115.625 977.536,502.204 1123.53,1407.97 1269.51,1445.72 1415.5,1019.61 1561.49,1078.94 \n",
       "  1707.48,884.797 1853.47,394.654 1999.46,687.825 2145.45,87.9763 2291.44,685.915 \n",
       "  \"/>\n",
       "<polyline clip-path=\"url(#clip492)\" style=\"stroke:#e26f46; stroke-linecap:butt; stroke-linejoin:round; stroke-width:4; stroke-opacity:1; fill:none\" points=\"\n",
       "  247.59,985.386 393.579,966.819 539.568,260.741 685.558,532.981 831.547,644.22 977.536,964.423 1123.53,1080.2 1269.51,811.662 1415.5,520.187 1561.49,180.06 \n",
       "  1707.48,1068.41 1853.47,258.99 1999.46,1162.96 2145.45,1172.44 2291.44,1259.76 \n",
       "  \"/>\n",
       "<path clip-path=\"url(#clip490)\" d=\"\n",
       "M1987.39 250.738 L2280.54 250.738 L2280.54 95.2176 L1987.39 95.2176  Z\n",
       "  \" fill=\"#ffffff\" fill-rule=\"evenodd\" fill-opacity=\"1\"/>\n",
       "<polyline clip-path=\"url(#clip490)\" style=\"stroke:#000000; stroke-linecap:butt; stroke-linejoin:round; stroke-width:4; stroke-opacity:1; fill:none\" points=\"\n",
       "  1987.39,250.738 2280.54,250.738 2280.54,95.2176 1987.39,95.2176 1987.39,250.738 \n",
       "  \"/>\n",
       "<polyline clip-path=\"url(#clip490)\" style=\"stroke:#009af9; stroke-linecap:butt; stroke-linejoin:round; stroke-width:4; stroke-opacity:1; fill:none\" points=\"\n",
       "  2011.46,147.058 2155.89,147.058 \n",
       "  \"/>\n",
       "<path clip-path=\"url(#clip490)\" d=\"M2193.81 166.745 Q2192 171.375 2190.29 172.787 Q2188.58 174.199 2185.71 174.199 L2182.3 174.199 L2182.3 170.634 L2184.8 170.634 Q2186.56 170.634 2187.53 169.8 Q2188.51 168.967 2189.69 165.865 L2190.45 163.921 L2179.97 138.412 L2184.48 138.412 L2192.58 158.689 L2200.68 138.412 L2205.2 138.412 L2193.81 166.745 Z\" fill=\"#000000\" fill-rule=\"evenodd\" fill-opacity=\"1\" /><path clip-path=\"url(#clip490)\" d=\"M2212.49 160.402 L2220.13 160.402 L2220.13 134.037 L2211.82 135.703 L2211.82 131.444 L2220.08 129.778 L2224.76 129.778 L2224.76 160.402 L2232.4 160.402 L2232.4 164.338 L2212.49 164.338 L2212.49 160.402 Z\" fill=\"#000000\" fill-rule=\"evenodd\" fill-opacity=\"1\" /><polyline clip-path=\"url(#clip490)\" style=\"stroke:#e26f46; stroke-linecap:butt; stroke-linejoin:round; stroke-width:4; stroke-opacity:1; fill:none\" points=\"\n",
       "  2011.46,198.898 2155.89,198.898 \n",
       "  \"/>\n",
       "<path clip-path=\"url(#clip490)\" d=\"M2193.81 218.585 Q2192 223.215 2190.29 224.627 Q2188.58 226.039 2185.71 226.039 L2182.3 226.039 L2182.3 222.474 L2184.8 222.474 Q2186.56 222.474 2187.53 221.64 Q2188.51 220.807 2189.69 217.705 L2190.45 215.761 L2179.97 190.252 L2184.48 190.252 L2192.58 210.529 L2200.68 190.252 L2205.2 190.252 L2193.81 218.585 Z\" fill=\"#000000\" fill-rule=\"evenodd\" fill-opacity=\"1\" /><path clip-path=\"url(#clip490)\" d=\"M2215.71 212.242 L2232.03 212.242 L2232.03 216.178 L2210.08 216.178 L2210.08 212.242 Q2212.74 209.488 2217.33 204.858 Q2221.93 200.205 2223.11 198.863 Q2225.36 196.34 2226.24 194.604 Q2227.14 192.844 2227.14 191.155 Q2227.14 188.4 2225.2 186.664 Q2223.28 184.928 2220.17 184.928 Q2217.97 184.928 2215.52 185.692 Q2213.09 186.455 2210.31 188.006 L2210.31 183.284 Q2213.14 182.15 2215.59 181.571 Q2218.04 180.993 2220.08 180.993 Q2225.45 180.993 2228.65 183.678 Q2231.84 186.363 2231.84 190.854 Q2231.84 192.983 2231.03 194.905 Q2230.24 196.803 2228.14 199.395 Q2227.56 200.067 2224.46 203.284 Q2221.35 206.479 2215.71 212.242 Z\" fill=\"#000000\" fill-rule=\"evenodd\" fill-opacity=\"1\" /></svg>\n"
      ]
     },
     "execution_count": 112,
     "metadata": {},
     "output_type": "execute_result"
    }
   ],
   "source": [
    "plot!(x, z)"
   ]
  },
  {
   "cell_type": "code",
   "execution_count": 113,
   "metadata": {},
   "outputs": [
    {
     "data": {
      "image/svg+xml": [
       "<?xml version=\"1.0\" encoding=\"utf-8\"?>\n",
       "<svg xmlns=\"http://www.w3.org/2000/svg\" xmlns:xlink=\"http://www.w3.org/1999/xlink\" width=\"600\" height=\"400\" viewBox=\"0 0 2400 1600\">\n",
       "<defs>\n",
       "  <clipPath id=\"clip530\">\n",
       "    <rect x=\"0\" y=\"0\" width=\"2400\" height=\"1600\"/>\n",
       "  </clipPath>\n",
       "</defs>\n",
       "<path clip-path=\"url(#clip530)\" d=\"\n",
       "M0 1600 L2400 1600 L2400 0 L0 0  Z\n",
       "  \" fill=\"#ffffff\" fill-rule=\"evenodd\" fill-opacity=\"1\"/>\n",
       "<defs>\n",
       "  <clipPath id=\"clip531\">\n",
       "    <rect x=\"480\" y=\"0\" width=\"1681\" height=\"1600\"/>\n",
       "  </clipPath>\n",
       "</defs>\n",
       "<path clip-path=\"url(#clip530)\" d=\"\n",
       "M186.274 1486.45 L2352.76 1486.45 L2352.76 47.2441 L186.274 47.2441  Z\n",
       "  \" fill=\"#ffffff\" fill-rule=\"evenodd\" fill-opacity=\"1\"/>\n",
       "<defs>\n",
       "  <clipPath id=\"clip532\">\n",
       "    <rect x=\"186\" y=\"47\" width=\"2167\" height=\"1440\"/>\n",
       "  </clipPath>\n",
       "</defs>\n",
       "<polyline clip-path=\"url(#clip532)\" style=\"stroke:#000000; stroke-linecap:butt; stroke-linejoin:round; stroke-width:2; stroke-opacity:0.1; fill:none\" points=\"\n",
       "  393.579,1486.45 393.579,47.2441 \n",
       "  \"/>\n",
       "<polyline clip-path=\"url(#clip532)\" style=\"stroke:#000000; stroke-linecap:butt; stroke-linejoin:round; stroke-width:2; stroke-opacity:0.1; fill:none\" points=\"\n",
       "  685.558,1486.45 685.558,47.2441 \n",
       "  \"/>\n",
       "<polyline clip-path=\"url(#clip532)\" style=\"stroke:#000000; stroke-linecap:butt; stroke-linejoin:round; stroke-width:2; stroke-opacity:0.1; fill:none\" points=\"\n",
       "  977.536,1486.45 977.536,47.2441 \n",
       "  \"/>\n",
       "<polyline clip-path=\"url(#clip532)\" style=\"stroke:#000000; stroke-linecap:butt; stroke-linejoin:round; stroke-width:2; stroke-opacity:0.1; fill:none\" points=\"\n",
       "  1269.51,1486.45 1269.51,47.2441 \n",
       "  \"/>\n",
       "<polyline clip-path=\"url(#clip532)\" style=\"stroke:#000000; stroke-linecap:butt; stroke-linejoin:round; stroke-width:2; stroke-opacity:0.1; fill:none\" points=\"\n",
       "  1561.49,1486.45 1561.49,47.2441 \n",
       "  \"/>\n",
       "<polyline clip-path=\"url(#clip532)\" style=\"stroke:#000000; stroke-linecap:butt; stroke-linejoin:round; stroke-width:2; stroke-opacity:0.1; fill:none\" points=\"\n",
       "  1853.47,1486.45 1853.47,47.2441 \n",
       "  \"/>\n",
       "<polyline clip-path=\"url(#clip532)\" style=\"stroke:#000000; stroke-linecap:butt; stroke-linejoin:round; stroke-width:2; stroke-opacity:0.1; fill:none\" points=\"\n",
       "  2145.45,1486.45 2145.45,47.2441 \n",
       "  \"/>\n",
       "<polyline clip-path=\"url(#clip530)\" style=\"stroke:#000000; stroke-linecap:butt; stroke-linejoin:round; stroke-width:4; stroke-opacity:1; fill:none\" points=\"\n",
       "  186.274,1486.45 2352.76,1486.45 \n",
       "  \"/>\n",
       "<polyline clip-path=\"url(#clip530)\" style=\"stroke:#000000; stroke-linecap:butt; stroke-linejoin:round; stroke-width:4; stroke-opacity:1; fill:none\" points=\"\n",
       "  393.579,1486.45 393.579,1467.55 \n",
       "  \"/>\n",
       "<polyline clip-path=\"url(#clip530)\" style=\"stroke:#000000; stroke-linecap:butt; stroke-linejoin:round; stroke-width:4; stroke-opacity:1; fill:none\" points=\"\n",
       "  685.558,1486.45 685.558,1467.55 \n",
       "  \"/>\n",
       "<polyline clip-path=\"url(#clip530)\" style=\"stroke:#000000; stroke-linecap:butt; stroke-linejoin:round; stroke-width:4; stroke-opacity:1; fill:none\" points=\"\n",
       "  977.536,1486.45 977.536,1467.55 \n",
       "  \"/>\n",
       "<polyline clip-path=\"url(#clip530)\" style=\"stroke:#000000; stroke-linecap:butt; stroke-linejoin:round; stroke-width:4; stroke-opacity:1; fill:none\" points=\"\n",
       "  1269.51,1486.45 1269.51,1467.55 \n",
       "  \"/>\n",
       "<polyline clip-path=\"url(#clip530)\" style=\"stroke:#000000; stroke-linecap:butt; stroke-linejoin:round; stroke-width:4; stroke-opacity:1; fill:none\" points=\"\n",
       "  1561.49,1486.45 1561.49,1467.55 \n",
       "  \"/>\n",
       "<polyline clip-path=\"url(#clip530)\" style=\"stroke:#000000; stroke-linecap:butt; stroke-linejoin:round; stroke-width:4; stroke-opacity:1; fill:none\" points=\"\n",
       "  1853.47,1486.45 1853.47,1467.55 \n",
       "  \"/>\n",
       "<polyline clip-path=\"url(#clip530)\" style=\"stroke:#000000; stroke-linecap:butt; stroke-linejoin:round; stroke-width:4; stroke-opacity:1; fill:none\" points=\"\n",
       "  2145.45,1486.45 2145.45,1467.55 \n",
       "  \"/>\n",
       "<path clip-path=\"url(#clip530)\" d=\"M388.232 1544.91 L404.551 1544.91 L404.551 1548.85 L382.607 1548.85 L382.607 1544.91 Q385.269 1542.16 389.852 1537.53 Q394.458 1532.88 395.639 1531.53 Q397.884 1529.01 398.764 1527.27 Q399.667 1525.51 399.667 1523.82 Q399.667 1521.07 397.722 1519.33 Q395.801 1517.6 392.699 1517.6 Q390.5 1517.6 388.046 1518.36 Q385.616 1519.13 382.838 1520.68 L382.838 1515.95 Q385.662 1514.82 388.116 1514.24 Q390.57 1513.66 392.607 1513.66 Q397.977 1513.66 401.171 1516.35 Q404.366 1519.03 404.366 1523.52 Q404.366 1525.65 403.556 1527.57 Q402.769 1529.47 400.662 1532.07 Q400.083 1532.74 396.982 1535.95 Q393.88 1539.15 388.232 1544.91 Z\" fill=\"#000000\" fill-rule=\"evenodd\" fill-opacity=\"1\" /><path clip-path=\"url(#clip530)\" d=\"M688.567 1518.36 L676.761 1536.81 L688.567 1536.81 L688.567 1518.36 M687.34 1514.29 L693.22 1514.29 L693.22 1536.81 L698.15 1536.81 L698.15 1540.7 L693.22 1540.7 L693.22 1548.85 L688.567 1548.85 L688.567 1540.7 L672.965 1540.7 L672.965 1536.19 L687.34 1514.29 Z\" fill=\"#000000\" fill-rule=\"evenodd\" fill-opacity=\"1\" /><path clip-path=\"url(#clip530)\" d=\"M977.941 1529.7 Q974.793 1529.7 972.941 1531.86 Q971.113 1534.01 971.113 1537.76 Q971.113 1541.49 972.941 1543.66 Q974.793 1545.82 977.941 1545.82 Q981.089 1545.82 982.918 1543.66 Q984.77 1541.49 984.77 1537.76 Q984.77 1534.01 982.918 1531.86 Q981.089 1529.7 977.941 1529.7 M987.224 1515.05 L987.224 1519.31 Q985.464 1518.48 983.659 1518.04 Q981.877 1517.6 980.117 1517.6 Q975.488 1517.6 973.034 1520.72 Q970.603 1523.85 970.256 1530.17 Q971.622 1528.15 973.682 1527.09 Q975.742 1526 978.219 1526 Q983.427 1526 986.437 1529.17 Q989.469 1532.32 989.469 1537.76 Q989.469 1543.08 986.321 1546.3 Q983.173 1549.52 977.941 1549.52 Q971.946 1549.52 968.775 1544.94 Q965.603 1540.33 965.603 1531.6 Q965.603 1523.41 969.492 1518.55 Q973.381 1513.66 979.932 1513.66 Q981.691 1513.66 983.474 1514.01 Q985.279 1514.36 987.224 1515.05 Z\" fill=\"#000000\" fill-rule=\"evenodd\" fill-opacity=\"1\" /><path clip-path=\"url(#clip530)\" d=\"M1269.51 1532.44 Q1266.18 1532.44 1264.26 1534.22 Q1262.36 1536 1262.36 1539.13 Q1262.36 1542.25 1264.26 1544.03 Q1266.18 1545.82 1269.51 1545.82 Q1272.85 1545.82 1274.77 1544.03 Q1276.69 1542.23 1276.69 1539.13 Q1276.69 1536 1274.77 1534.22 Q1272.87 1532.44 1269.51 1532.44 M1264.84 1530.45 Q1261.83 1529.7 1260.14 1527.64 Q1258.47 1525.58 1258.47 1522.62 Q1258.47 1518.48 1261.41 1516.07 Q1264.38 1513.66 1269.51 1513.66 Q1274.68 1513.66 1277.62 1516.07 Q1280.56 1518.48 1280.56 1522.62 Q1280.56 1525.58 1278.87 1527.64 Q1277.2 1529.7 1274.21 1530.45 Q1277.59 1531.23 1279.47 1533.52 Q1281.37 1535.82 1281.37 1539.13 Q1281.37 1544.15 1278.29 1546.83 Q1275.23 1549.52 1269.51 1549.52 Q1263.8 1549.52 1260.72 1546.83 Q1257.66 1544.15 1257.66 1539.13 Q1257.66 1535.82 1259.56 1533.52 Q1261.46 1531.23 1264.84 1530.45 M1263.13 1523.06 Q1263.13 1525.75 1264.79 1527.25 Q1266.48 1528.76 1269.51 1528.76 Q1272.52 1528.76 1274.21 1527.25 Q1275.93 1525.75 1275.93 1523.06 Q1275.93 1520.38 1274.21 1518.87 Q1272.52 1517.37 1269.51 1517.37 Q1266.48 1517.37 1264.79 1518.87 Q1263.13 1520.38 1263.13 1523.06 Z\" fill=\"#000000\" fill-rule=\"evenodd\" fill-opacity=\"1\" /><path clip-path=\"url(#clip530)\" d=\"M1536.18 1544.91 L1543.82 1544.91 L1543.82 1518.55 L1535.51 1520.21 L1535.51 1515.95 L1543.77 1514.29 L1548.45 1514.29 L1548.45 1544.91 L1556.09 1544.91 L1556.09 1548.85 L1536.18 1548.85 L1536.18 1544.91 Z\" fill=\"#000000\" fill-rule=\"evenodd\" fill-opacity=\"1\" /><path clip-path=\"url(#clip530)\" d=\"M1575.53 1517.37 Q1571.92 1517.37 1570.09 1520.93 Q1568.29 1524.47 1568.29 1531.6 Q1568.29 1538.71 1570.09 1542.27 Q1571.92 1545.82 1575.53 1545.82 Q1579.17 1545.82 1580.97 1542.27 Q1582.8 1538.71 1582.8 1531.6 Q1582.8 1524.47 1580.97 1520.93 Q1579.17 1517.37 1575.53 1517.37 M1575.53 1513.66 Q1581.34 1513.66 1584.4 1518.27 Q1587.48 1522.85 1587.48 1531.6 Q1587.48 1540.33 1584.4 1544.94 Q1581.34 1549.52 1575.53 1549.52 Q1569.72 1549.52 1566.64 1544.94 Q1563.59 1540.33 1563.59 1531.6 Q1563.59 1522.85 1566.64 1518.27 Q1569.72 1513.66 1575.53 1513.66 Z\" fill=\"#000000\" fill-rule=\"evenodd\" fill-opacity=\"1\" /><path clip-path=\"url(#clip530)\" d=\"M1828.96 1544.91 L1836.6 1544.91 L1836.6 1518.55 L1828.29 1520.21 L1828.29 1515.95 L1836.55 1514.29 L1841.23 1514.29 L1841.23 1544.91 L1848.87 1544.91 L1848.87 1548.85 L1828.96 1548.85 L1828.96 1544.91 Z\" fill=\"#000000\" fill-rule=\"evenodd\" fill-opacity=\"1\" /><path clip-path=\"url(#clip530)\" d=\"M1862.34 1544.91 L1878.66 1544.91 L1878.66 1548.85 L1856.71 1548.85 L1856.71 1544.91 Q1859.38 1542.16 1863.96 1537.53 Q1868.56 1532.88 1869.75 1531.53 Q1871.99 1529.01 1872.87 1527.27 Q1873.77 1525.51 1873.77 1523.82 Q1873.77 1521.07 1871.83 1519.33 Q1869.91 1517.6 1866.81 1517.6 Q1864.61 1517.6 1862.15 1518.36 Q1859.72 1519.13 1856.94 1520.68 L1856.94 1515.95 Q1859.77 1514.82 1862.22 1514.24 Q1864.68 1513.66 1866.71 1513.66 Q1872.08 1513.66 1875.28 1516.35 Q1878.47 1519.03 1878.47 1523.52 Q1878.47 1525.65 1877.66 1527.57 Q1876.87 1529.47 1874.77 1532.07 Q1874.19 1532.74 1871.09 1535.95 Q1867.99 1539.15 1862.34 1544.91 Z\" fill=\"#000000\" fill-rule=\"evenodd\" fill-opacity=\"1\" /><path clip-path=\"url(#clip530)\" d=\"M2119.9 1544.91 L2127.53 1544.91 L2127.53 1518.55 L2119.22 1520.21 L2119.22 1515.95 L2127.49 1514.29 L2132.16 1514.29 L2132.16 1544.91 L2139.8 1544.91 L2139.8 1548.85 L2119.9 1548.85 L2119.9 1544.91 Z\" fill=\"#000000\" fill-rule=\"evenodd\" fill-opacity=\"1\" /><path clip-path=\"url(#clip530)\" d=\"M2162.09 1518.36 L2150.29 1536.81 L2162.09 1536.81 L2162.09 1518.36 M2160.87 1514.29 L2166.75 1514.29 L2166.75 1536.81 L2171.68 1536.81 L2171.68 1540.7 L2166.75 1540.7 L2166.75 1548.85 L2162.09 1548.85 L2162.09 1540.7 L2146.49 1540.7 L2146.49 1536.19 L2160.87 1514.29 Z\" fill=\"#000000\" fill-rule=\"evenodd\" fill-opacity=\"1\" /><polyline clip-path=\"url(#clip532)\" style=\"stroke:#000000; stroke-linecap:butt; stroke-linejoin:round; stroke-width:2; stroke-opacity:0.1; fill:none\" points=\"\n",
       "  186.274,1483.59 2352.76,1483.59 \n",
       "  \"/>\n",
       "<polyline clip-path=\"url(#clip532)\" style=\"stroke:#000000; stroke-linecap:butt; stroke-linejoin:round; stroke-width:2; stroke-opacity:0.1; fill:none\" points=\"\n",
       "  186.274,1126.5 2352.76,1126.5 \n",
       "  \"/>\n",
       "<polyline clip-path=\"url(#clip532)\" style=\"stroke:#000000; stroke-linecap:butt; stroke-linejoin:round; stroke-width:2; stroke-opacity:0.1; fill:none\" points=\"\n",
       "  186.274,769.403 2352.76,769.403 \n",
       "  \"/>\n",
       "<polyline clip-path=\"url(#clip532)\" style=\"stroke:#000000; stroke-linecap:butt; stroke-linejoin:round; stroke-width:2; stroke-opacity:0.1; fill:none\" points=\"\n",
       "  186.274,412.309 2352.76,412.309 \n",
       "  \"/>\n",
       "<polyline clip-path=\"url(#clip532)\" style=\"stroke:#000000; stroke-linecap:butt; stroke-linejoin:round; stroke-width:2; stroke-opacity:0.1; fill:none\" points=\"\n",
       "  186.274,55.2153 2352.76,55.2153 \n",
       "  \"/>\n",
       "<polyline clip-path=\"url(#clip530)\" style=\"stroke:#000000; stroke-linecap:butt; stroke-linejoin:round; stroke-width:4; stroke-opacity:1; fill:none\" points=\"\n",
       "  186.274,1486.45 186.274,47.2441 \n",
       "  \"/>\n",
       "<polyline clip-path=\"url(#clip530)\" style=\"stroke:#000000; stroke-linecap:butt; stroke-linejoin:round; stroke-width:4; stroke-opacity:1; fill:none\" points=\"\n",
       "  186.274,1483.59 205.172,1483.59 \n",
       "  \"/>\n",
       "<polyline clip-path=\"url(#clip530)\" style=\"stroke:#000000; stroke-linecap:butt; stroke-linejoin:round; stroke-width:4; stroke-opacity:1; fill:none\" points=\"\n",
       "  186.274,1126.5 205.172,1126.5 \n",
       "  \"/>\n",
       "<polyline clip-path=\"url(#clip530)\" style=\"stroke:#000000; stroke-linecap:butt; stroke-linejoin:round; stroke-width:4; stroke-opacity:1; fill:none\" points=\"\n",
       "  186.274,769.403 205.172,769.403 \n",
       "  \"/>\n",
       "<polyline clip-path=\"url(#clip530)\" style=\"stroke:#000000; stroke-linecap:butt; stroke-linejoin:round; stroke-width:4; stroke-opacity:1; fill:none\" points=\"\n",
       "  186.274,412.309 205.172,412.309 \n",
       "  \"/>\n",
       "<polyline clip-path=\"url(#clip530)\" style=\"stroke:#000000; stroke-linecap:butt; stroke-linejoin:round; stroke-width:4; stroke-opacity:1; fill:none\" points=\"\n",
       "  186.274,55.2153 205.172,55.2153 \n",
       "  \"/>\n",
       "<path clip-path=\"url(#clip530)\" d=\"M62.9365 1469.39 Q59.3254 1469.39 57.4967 1472.95 Q55.6912 1476.5 55.6912 1483.62 Q55.6912 1490.73 57.4967 1494.3 Q59.3254 1497.84 62.9365 1497.84 Q66.5707 1497.84 68.3763 1494.3 Q70.205 1490.73 70.205 1483.62 Q70.205 1476.5 68.3763 1472.95 Q66.5707 1469.39 62.9365 1469.39 M62.9365 1465.69 Q68.7467 1465.69 71.8022 1470.29 Q74.8809 1474.87 74.8809 1483.62 Q74.8809 1492.35 71.8022 1496.96 Q68.7467 1501.54 62.9365 1501.54 Q57.1264 1501.54 54.0477 1496.96 Q50.9921 1492.35 50.9921 1483.62 Q50.9921 1474.87 54.0477 1470.29 Q57.1264 1465.69 62.9365 1465.69 Z\" fill=\"#000000\" fill-rule=\"evenodd\" fill-opacity=\"1\" /><path clip-path=\"url(#clip530)\" d=\"M83.0984 1494.99 L87.9827 1494.99 L87.9827 1500.87 L83.0984 1500.87 L83.0984 1494.99 Z\" fill=\"#000000\" fill-rule=\"evenodd\" fill-opacity=\"1\" /><path clip-path=\"url(#clip530)\" d=\"M108.168 1469.39 Q104.557 1469.39 102.728 1472.95 Q100.922 1476.5 100.922 1483.62 Q100.922 1490.73 102.728 1494.3 Q104.557 1497.84 108.168 1497.84 Q111.802 1497.84 113.608 1494.3 Q115.436 1490.73 115.436 1483.62 Q115.436 1476.5 113.608 1472.95 Q111.802 1469.39 108.168 1469.39 M108.168 1465.69 Q113.978 1465.69 117.033 1470.29 Q120.112 1474.87 120.112 1483.62 Q120.112 1492.35 117.033 1496.96 Q113.978 1501.54 108.168 1501.54 Q102.358 1501.54 99.2789 1496.96 Q96.2234 1492.35 96.2234 1483.62 Q96.2234 1474.87 99.2789 1470.29 Q102.358 1465.69 108.168 1465.69 Z\" fill=\"#000000\" fill-rule=\"evenodd\" fill-opacity=\"1\" /><path clip-path=\"url(#clip530)\" d=\"M138.33 1469.39 Q134.719 1469.39 132.89 1472.95 Q131.084 1476.5 131.084 1483.62 Q131.084 1490.73 132.89 1494.3 Q134.719 1497.84 138.33 1497.84 Q141.964 1497.84 143.769 1494.3 Q145.598 1490.73 145.598 1483.62 Q145.598 1476.5 143.769 1472.95 Q141.964 1469.39 138.33 1469.39 M138.33 1465.69 Q144.14 1465.69 147.195 1470.29 Q150.274 1474.87 150.274 1483.62 Q150.274 1492.35 147.195 1496.96 Q144.14 1501.54 138.33 1501.54 Q132.519 1501.54 129.441 1496.96 Q126.385 1492.35 126.385 1483.62 Q126.385 1474.87 129.441 1470.29 Q132.519 1465.69 138.33 1465.69 Z\" fill=\"#000000\" fill-rule=\"evenodd\" fill-opacity=\"1\" /><path clip-path=\"url(#clip530)\" d=\"M63.9319 1112.3 Q60.3208 1112.3 58.4921 1115.86 Q56.6865 1119.4 56.6865 1126.53 Q56.6865 1133.64 58.4921 1137.2 Q60.3208 1140.74 63.9319 1140.74 Q67.5661 1140.74 69.3717 1137.2 Q71.2004 1133.64 71.2004 1126.53 Q71.2004 1119.4 69.3717 1115.86 Q67.5661 1112.3 63.9319 1112.3 M63.9319 1108.59 Q69.742 1108.59 72.7976 1113.2 Q75.8763 1117.78 75.8763 1126.53 Q75.8763 1135.26 72.7976 1139.86 Q69.742 1144.45 63.9319 1144.45 Q58.1217 1144.45 55.043 1139.86 Q51.9875 1135.26 51.9875 1126.53 Q51.9875 1117.78 55.043 1113.2 Q58.1217 1108.59 63.9319 1108.59 Z\" fill=\"#000000\" fill-rule=\"evenodd\" fill-opacity=\"1\" /><path clip-path=\"url(#clip530)\" d=\"M84.0938 1137.9 L88.978 1137.9 L88.978 1143.78 L84.0938 1143.78 L84.0938 1137.9 Z\" fill=\"#000000\" fill-rule=\"evenodd\" fill-opacity=\"1\" /><path clip-path=\"url(#clip530)\" d=\"M103.191 1139.84 L119.51 1139.84 L119.51 1143.78 L97.566 1143.78 L97.566 1139.84 Q100.228 1137.09 104.811 1132.46 Q109.418 1127.8 110.598 1126.46 Q112.844 1123.94 113.723 1122.2 Q114.626 1120.44 114.626 1118.75 Q114.626 1116 112.682 1114.26 Q110.76 1112.53 107.658 1112.53 Q105.459 1112.53 103.006 1113.29 Q100.575 1114.05 97.7974 1115.61 L97.7974 1110.88 Q100.621 1109.75 103.075 1109.17 Q105.529 1108.59 107.566 1108.59 Q112.936 1108.59 116.131 1111.28 Q119.325 1113.96 119.325 1118.45 Q119.325 1120.58 118.515 1122.5 Q117.728 1124.4 115.621 1126.99 Q115.043 1127.67 111.941 1130.88 Q108.839 1134.08 103.191 1139.84 Z\" fill=\"#000000\" fill-rule=\"evenodd\" fill-opacity=\"1\" /><path clip-path=\"url(#clip530)\" d=\"M129.371 1109.22 L147.728 1109.22 L147.728 1113.15 L133.654 1113.15 L133.654 1121.62 Q134.672 1121.28 135.691 1121.11 Q136.709 1120.93 137.728 1120.93 Q143.515 1120.93 146.894 1124.1 Q150.274 1127.27 150.274 1132.69 Q150.274 1138.27 146.802 1141.37 Q143.33 1144.45 137.01 1144.45 Q134.834 1144.45 132.566 1144.08 Q130.32 1143.71 127.913 1142.97 L127.913 1138.27 Q129.996 1139.4 132.219 1139.96 Q134.441 1140.51 136.918 1140.51 Q140.922 1140.51 143.26 1138.41 Q145.598 1136.3 145.598 1132.69 Q145.598 1129.08 143.26 1126.97 Q140.922 1124.86 136.918 1124.86 Q135.043 1124.86 133.168 1125.28 Q131.316 1125.7 129.371 1126.58 L129.371 1109.22 Z\" fill=\"#000000\" fill-rule=\"evenodd\" fill-opacity=\"1\" /><path clip-path=\"url(#clip530)\" d=\"M62.9365 755.201 Q59.3254 755.201 57.4967 758.766 Q55.6912 762.308 55.6912 769.437 Q55.6912 776.544 57.4967 780.109 Q59.3254 783.65 62.9365 783.65 Q66.5707 783.65 68.3763 780.109 Q70.205 776.544 70.205 769.437 Q70.205 762.308 68.3763 758.766 Q66.5707 755.201 62.9365 755.201 M62.9365 751.498 Q68.7467 751.498 71.8022 756.104 Q74.8809 760.688 74.8809 769.437 Q74.8809 778.164 71.8022 782.771 Q68.7467 787.354 62.9365 787.354 Q57.1264 787.354 54.0477 782.771 Q50.9921 778.164 50.9921 769.437 Q50.9921 760.688 54.0477 756.104 Q57.1264 751.498 62.9365 751.498 Z\" fill=\"#000000\" fill-rule=\"evenodd\" fill-opacity=\"1\" /><path clip-path=\"url(#clip530)\" d=\"M83.0984 780.803 L87.9827 780.803 L87.9827 786.683 L83.0984 786.683 L83.0984 780.803 Z\" fill=\"#000000\" fill-rule=\"evenodd\" fill-opacity=\"1\" /><path clip-path=\"url(#clip530)\" d=\"M98.2141 752.123 L116.57 752.123 L116.57 756.058 L102.496 756.058 L102.496 764.53 Q103.515 764.183 104.534 764.021 Q105.552 763.836 106.571 763.836 Q112.358 763.836 115.737 767.007 Q119.117 770.178 119.117 775.595 Q119.117 781.174 115.645 784.275 Q112.172 787.354 105.853 787.354 Q103.677 787.354 101.409 786.984 Q99.1632 786.613 96.7558 785.873 L96.7558 781.174 Q98.8391 782.308 101.061 782.863 Q103.284 783.419 105.76 783.419 Q109.765 783.419 112.103 781.312 Q114.441 779.206 114.441 775.595 Q114.441 771.984 112.103 769.877 Q109.765 767.771 105.76 767.771 Q103.885 767.771 102.01 768.187 Q100.159 768.604 98.2141 769.484 L98.2141 752.123 Z\" fill=\"#000000\" fill-rule=\"evenodd\" fill-opacity=\"1\" /><path clip-path=\"url(#clip530)\" d=\"M138.33 755.201 Q134.719 755.201 132.89 758.766 Q131.084 762.308 131.084 769.437 Q131.084 776.544 132.89 780.109 Q134.719 783.65 138.33 783.65 Q141.964 783.65 143.769 780.109 Q145.598 776.544 145.598 769.437 Q145.598 762.308 143.769 758.766 Q141.964 755.201 138.33 755.201 M138.33 751.498 Q144.14 751.498 147.195 756.104 Q150.274 760.688 150.274 769.437 Q150.274 778.164 147.195 782.771 Q144.14 787.354 138.33 787.354 Q132.519 787.354 129.441 782.771 Q126.385 778.164 126.385 769.437 Q126.385 760.688 129.441 756.104 Q132.519 751.498 138.33 751.498 Z\" fill=\"#000000\" fill-rule=\"evenodd\" fill-opacity=\"1\" /><path clip-path=\"url(#clip530)\" d=\"M63.9319 398.108 Q60.3208 398.108 58.4921 401.672 Q56.6865 405.214 56.6865 412.344 Q56.6865 419.45 58.4921 423.015 Q60.3208 426.557 63.9319 426.557 Q67.5661 426.557 69.3717 423.015 Q71.2004 419.45 71.2004 412.344 Q71.2004 405.214 69.3717 401.672 Q67.5661 398.108 63.9319 398.108 M63.9319 394.404 Q69.742 394.404 72.7976 399.01 Q75.8763 403.594 75.8763 412.344 Q75.8763 421.071 72.7976 425.677 Q69.742 430.26 63.9319 430.26 Q58.1217 430.26 55.043 425.677 Q51.9875 421.071 51.9875 412.344 Q51.9875 403.594 55.043 399.01 Q58.1217 394.404 63.9319 394.404 Z\" fill=\"#000000\" fill-rule=\"evenodd\" fill-opacity=\"1\" /><path clip-path=\"url(#clip530)\" d=\"M84.0938 423.709 L88.978 423.709 L88.978 429.589 L84.0938 429.589 L84.0938 423.709 Z\" fill=\"#000000\" fill-rule=\"evenodd\" fill-opacity=\"1\" /><path clip-path=\"url(#clip530)\" d=\"M97.9826 395.029 L120.205 395.029 L120.205 397.02 L107.658 429.589 L102.774 429.589 L114.58 398.964 L97.9826 398.964 L97.9826 395.029 Z\" fill=\"#000000\" fill-rule=\"evenodd\" fill-opacity=\"1\" /><path clip-path=\"url(#clip530)\" d=\"M129.371 395.029 L147.728 395.029 L147.728 398.964 L133.654 398.964 L133.654 407.436 Q134.672 407.089 135.691 406.927 Q136.709 406.742 137.728 406.742 Q143.515 406.742 146.894 409.913 Q150.274 413.084 150.274 418.501 Q150.274 424.08 146.802 427.182 Q143.33 430.26 137.01 430.26 Q134.834 430.26 132.566 429.89 Q130.32 429.52 127.913 428.779 L127.913 424.08 Q129.996 425.214 132.219 425.77 Q134.441 426.325 136.918 426.325 Q140.922 426.325 143.26 424.219 Q145.598 422.112 145.598 418.501 Q145.598 414.89 143.26 412.784 Q140.922 410.677 136.918 410.677 Q135.043 410.677 133.168 411.094 Q131.316 411.51 129.371 412.39 L129.371 395.029 Z\" fill=\"#000000\" fill-rule=\"evenodd\" fill-opacity=\"1\" /><path clip-path=\"url(#clip530)\" d=\"M53.7467 68.5601 L61.3856 68.5601 L61.3856 42.1945 L53.0754 43.8612 L53.0754 39.6019 L61.3393 37.9353 L66.0152 37.9353 L66.0152 68.5601 L73.654 68.5601 L73.654 72.4953 L53.7467 72.4953 L53.7467 68.5601 Z\" fill=\"#000000\" fill-rule=\"evenodd\" fill-opacity=\"1\" /><path clip-path=\"url(#clip530)\" d=\"M83.0984 66.6157 L87.9827 66.6157 L87.9827 72.4953 L83.0984 72.4953 L83.0984 66.6157 Z\" fill=\"#000000\" fill-rule=\"evenodd\" fill-opacity=\"1\" /><path clip-path=\"url(#clip530)\" d=\"M108.168 41.014 Q104.557 41.014 102.728 44.5788 Q100.922 48.1204 100.922 55.25 Q100.922 62.3565 102.728 65.9212 Q104.557 69.4629 108.168 69.4629 Q111.802 69.4629 113.608 65.9212 Q115.436 62.3565 115.436 55.25 Q115.436 48.1204 113.608 44.5788 Q111.802 41.014 108.168 41.014 M108.168 37.3103 Q113.978 37.3103 117.033 41.9167 Q120.112 46.5001 120.112 55.25 Q120.112 63.9768 117.033 68.5833 Q113.978 73.1666 108.168 73.1666 Q102.358 73.1666 99.2789 68.5833 Q96.2234 63.9768 96.2234 55.25 Q96.2234 46.5001 99.2789 41.9167 Q102.358 37.3103 108.168 37.3103 Z\" fill=\"#000000\" fill-rule=\"evenodd\" fill-opacity=\"1\" /><path clip-path=\"url(#clip530)\" d=\"M138.33 41.014 Q134.719 41.014 132.89 44.5788 Q131.084 48.1204 131.084 55.25 Q131.084 62.3565 132.89 65.9212 Q134.719 69.4629 138.33 69.4629 Q141.964 69.4629 143.769 65.9212 Q145.598 62.3565 145.598 55.25 Q145.598 48.1204 143.769 44.5788 Q141.964 41.014 138.33 41.014 M138.33 37.3103 Q144.14 37.3103 147.195 41.9167 Q150.274 46.5001 150.274 55.25 Q150.274 63.9768 147.195 68.5833 Q144.14 73.1666 138.33 73.1666 Q132.519 73.1666 129.441 68.5833 Q126.385 63.9768 126.385 55.25 Q126.385 46.5001 129.441 41.9167 Q132.519 37.3103 138.33 37.3103 Z\" fill=\"#000000\" fill-rule=\"evenodd\" fill-opacity=\"1\" /><polyline clip-path=\"url(#clip532)\" style=\"stroke:#009af9; stroke-linecap:butt; stroke-linejoin:round; stroke-width:4; stroke-opacity:1; fill:none\" points=\"\n",
       "  247.59,1295.11 393.579,1298.68 539.568,487.249 685.558,194.12 831.547,115.625 977.536,502.204 1123.53,1407.97 1269.51,1445.72 1415.5,1019.61 1561.49,1078.94 \n",
       "  1707.48,884.797 1853.47,394.654 1999.46,687.825 2145.45,87.9763 2291.44,685.915 \n",
       "  \"/>\n",
       "<polyline clip-path=\"url(#clip532)\" style=\"stroke:#e26f46; stroke-linecap:butt; stroke-linejoin:round; stroke-width:4; stroke-opacity:1; fill:none\" points=\"\n",
       "  247.59,985.386 393.579,966.819 539.568,260.741 685.558,532.981 831.547,644.22 977.536,964.423 1123.53,1080.2 1269.51,811.662 1415.5,520.187 1561.49,180.06 \n",
       "  1707.48,1068.41 1853.47,258.99 1999.46,1162.96 2145.45,1172.44 2291.44,1259.76 \n",
       "  \"/>\n",
       "<path clip-path=\"url(#clip530)\" d=\"\n",
       "M1987.39 250.738 L2280.54 250.738 L2280.54 95.2176 L1987.39 95.2176  Z\n",
       "  \" fill=\"#ffffff\" fill-rule=\"evenodd\" fill-opacity=\"1\"/>\n",
       "<polyline clip-path=\"url(#clip530)\" style=\"stroke:#000000; stroke-linecap:butt; stroke-linejoin:round; stroke-width:4; stroke-opacity:1; fill:none\" points=\"\n",
       "  1987.39,250.738 2280.54,250.738 2280.54,95.2176 1987.39,95.2176 1987.39,250.738 \n",
       "  \"/>\n",
       "<polyline clip-path=\"url(#clip530)\" style=\"stroke:#009af9; stroke-linecap:butt; stroke-linejoin:round; stroke-width:4; stroke-opacity:1; fill:none\" points=\"\n",
       "  2011.46,147.058 2155.89,147.058 \n",
       "  \"/>\n",
       "<path clip-path=\"url(#clip530)\" d=\"M2193.81 166.745 Q2192 171.375 2190.29 172.787 Q2188.58 174.199 2185.71 174.199 L2182.3 174.199 L2182.3 170.634 L2184.8 170.634 Q2186.56 170.634 2187.53 169.8 Q2188.51 168.967 2189.69 165.865 L2190.45 163.921 L2179.97 138.412 L2184.48 138.412 L2192.58 158.689 L2200.68 138.412 L2205.2 138.412 L2193.81 166.745 Z\" fill=\"#000000\" fill-rule=\"evenodd\" fill-opacity=\"1\" /><path clip-path=\"url(#clip530)\" d=\"M2212.49 160.402 L2220.13 160.402 L2220.13 134.037 L2211.82 135.703 L2211.82 131.444 L2220.08 129.778 L2224.76 129.778 L2224.76 160.402 L2232.4 160.402 L2232.4 164.338 L2212.49 164.338 L2212.49 160.402 Z\" fill=\"#000000\" fill-rule=\"evenodd\" fill-opacity=\"1\" /><polyline clip-path=\"url(#clip530)\" style=\"stroke:#e26f46; stroke-linecap:butt; stroke-linejoin:round; stroke-width:4; stroke-opacity:1; fill:none\" points=\"\n",
       "  2011.46,198.898 2155.89,198.898 \n",
       "  \"/>\n",
       "<path clip-path=\"url(#clip530)\" d=\"M2193.81 218.585 Q2192 223.215 2190.29 224.627 Q2188.58 226.039 2185.71 226.039 L2182.3 226.039 L2182.3 222.474 L2184.8 222.474 Q2186.56 222.474 2187.53 221.64 Q2188.51 220.807 2189.69 217.705 L2190.45 215.761 L2179.97 190.252 L2184.48 190.252 L2192.58 210.529 L2200.68 190.252 L2205.2 190.252 L2193.81 218.585 Z\" fill=\"#000000\" fill-rule=\"evenodd\" fill-opacity=\"1\" /><path clip-path=\"url(#clip530)\" d=\"M2215.71 212.242 L2232.03 212.242 L2232.03 216.178 L2210.08 216.178 L2210.08 212.242 Q2212.74 209.488 2217.33 204.858 Q2221.93 200.205 2223.11 198.863 Q2225.36 196.34 2226.24 194.604 Q2227.14 192.844 2227.14 191.155 Q2227.14 188.4 2225.2 186.664 Q2223.28 184.928 2220.17 184.928 Q2217.97 184.928 2215.52 185.692 Q2213.09 186.455 2210.31 188.006 L2210.31 183.284 Q2213.14 182.15 2215.59 181.571 Q2218.04 180.993 2220.08 180.993 Q2225.45 180.993 2228.65 183.678 Q2231.84 186.363 2231.84 190.854 Q2231.84 192.983 2231.03 194.905 Q2230.24 196.803 2228.14 199.395 Q2227.56 200.067 2224.46 203.284 Q2221.35 206.479 2215.71 212.242 Z\" fill=\"#000000\" fill-rule=\"evenodd\" fill-opacity=\"1\" /></svg>\n"
      ]
     },
     "execution_count": 113,
     "metadata": {},
     "output_type": "execute_result"
    }
   ],
   "source": [
    "p = plot(x, y)\n",
    "plot!(p,x,z)"
   ]
  },
  {
   "cell_type": "code",
   "execution_count": 114,
   "metadata": {},
   "outputs": [
    {
     "data": {
      "image/svg+xml": [
       "<?xml version=\"1.0\" encoding=\"utf-8\"?>\n",
       "<svg xmlns=\"http://www.w3.org/2000/svg\" xmlns:xlink=\"http://www.w3.org/1999/xlink\" width=\"600\" height=\"400\" viewBox=\"0 0 2400 1600\">\n",
       "<defs>\n",
       "  <clipPath id=\"clip570\">\n",
       "    <rect x=\"0\" y=\"0\" width=\"2400\" height=\"1600\"/>\n",
       "  </clipPath>\n",
       "</defs>\n",
       "<path clip-path=\"url(#clip570)\" d=\"\n",
       "M0 1600 L2400 1600 L2400 0 L0 0  Z\n",
       "  \" fill=\"#ffffff\" fill-rule=\"evenodd\" fill-opacity=\"1\"/>\n",
       "<defs>\n",
       "  <clipPath id=\"clip571\">\n",
       "    <rect x=\"480\" y=\"0\" width=\"1681\" height=\"1600\"/>\n",
       "  </clipPath>\n",
       "</defs>\n",
       "<path clip-path=\"url(#clip570)\" d=\"\n",
       "M186.274 1486.45 L2352.76 1486.45 L2352.76 123.472 L186.274 123.472  Z\n",
       "  \" fill=\"#ffffff\" fill-rule=\"evenodd\" fill-opacity=\"1\"/>\n",
       "<defs>\n",
       "  <clipPath id=\"clip572\">\n",
       "    <rect x=\"186\" y=\"123\" width=\"2167\" height=\"1364\"/>\n",
       "  </clipPath>\n",
       "</defs>\n",
       "<polyline clip-path=\"url(#clip572)\" style=\"stroke:#000000; stroke-linecap:butt; stroke-linejoin:round; stroke-width:2; stroke-opacity:0.1; fill:none\" points=\"\n",
       "  393.579,1486.45 393.579,123.472 \n",
       "  \"/>\n",
       "<polyline clip-path=\"url(#clip572)\" style=\"stroke:#000000; stroke-linecap:butt; stroke-linejoin:round; stroke-width:2; stroke-opacity:0.1; fill:none\" points=\"\n",
       "  685.558,1486.45 685.558,123.472 \n",
       "  \"/>\n",
       "<polyline clip-path=\"url(#clip572)\" style=\"stroke:#000000; stroke-linecap:butt; stroke-linejoin:round; stroke-width:2; stroke-opacity:0.1; fill:none\" points=\"\n",
       "  977.536,1486.45 977.536,123.472 \n",
       "  \"/>\n",
       "<polyline clip-path=\"url(#clip572)\" style=\"stroke:#000000; stroke-linecap:butt; stroke-linejoin:round; stroke-width:2; stroke-opacity:0.1; fill:none\" points=\"\n",
       "  1269.51,1486.45 1269.51,123.472 \n",
       "  \"/>\n",
       "<polyline clip-path=\"url(#clip572)\" style=\"stroke:#000000; stroke-linecap:butt; stroke-linejoin:round; stroke-width:2; stroke-opacity:0.1; fill:none\" points=\"\n",
       "  1561.49,1486.45 1561.49,123.472 \n",
       "  \"/>\n",
       "<polyline clip-path=\"url(#clip572)\" style=\"stroke:#000000; stroke-linecap:butt; stroke-linejoin:round; stroke-width:2; stroke-opacity:0.1; fill:none\" points=\"\n",
       "  1853.47,1486.45 1853.47,123.472 \n",
       "  \"/>\n",
       "<polyline clip-path=\"url(#clip572)\" style=\"stroke:#000000; stroke-linecap:butt; stroke-linejoin:round; stroke-width:2; stroke-opacity:0.1; fill:none\" points=\"\n",
       "  2145.45,1486.45 2145.45,123.472 \n",
       "  \"/>\n",
       "<polyline clip-path=\"url(#clip570)\" style=\"stroke:#000000; stroke-linecap:butt; stroke-linejoin:round; stroke-width:4; stroke-opacity:1; fill:none\" points=\"\n",
       "  186.274,1486.45 2352.76,1486.45 \n",
       "  \"/>\n",
       "<polyline clip-path=\"url(#clip570)\" style=\"stroke:#000000; stroke-linecap:butt; stroke-linejoin:round; stroke-width:4; stroke-opacity:1; fill:none\" points=\"\n",
       "  393.579,1486.45 393.579,1467.55 \n",
       "  \"/>\n",
       "<polyline clip-path=\"url(#clip570)\" style=\"stroke:#000000; stroke-linecap:butt; stroke-linejoin:round; stroke-width:4; stroke-opacity:1; fill:none\" points=\"\n",
       "  685.558,1486.45 685.558,1467.55 \n",
       "  \"/>\n",
       "<polyline clip-path=\"url(#clip570)\" style=\"stroke:#000000; stroke-linecap:butt; stroke-linejoin:round; stroke-width:4; stroke-opacity:1; fill:none\" points=\"\n",
       "  977.536,1486.45 977.536,1467.55 \n",
       "  \"/>\n",
       "<polyline clip-path=\"url(#clip570)\" style=\"stroke:#000000; stroke-linecap:butt; stroke-linejoin:round; stroke-width:4; stroke-opacity:1; fill:none\" points=\"\n",
       "  1269.51,1486.45 1269.51,1467.55 \n",
       "  \"/>\n",
       "<polyline clip-path=\"url(#clip570)\" style=\"stroke:#000000; stroke-linecap:butt; stroke-linejoin:round; stroke-width:4; stroke-opacity:1; fill:none\" points=\"\n",
       "  1561.49,1486.45 1561.49,1467.55 \n",
       "  \"/>\n",
       "<polyline clip-path=\"url(#clip570)\" style=\"stroke:#000000; stroke-linecap:butt; stroke-linejoin:round; stroke-width:4; stroke-opacity:1; fill:none\" points=\"\n",
       "  1853.47,1486.45 1853.47,1467.55 \n",
       "  \"/>\n",
       "<polyline clip-path=\"url(#clip570)\" style=\"stroke:#000000; stroke-linecap:butt; stroke-linejoin:round; stroke-width:4; stroke-opacity:1; fill:none\" points=\"\n",
       "  2145.45,1486.45 2145.45,1467.55 \n",
       "  \"/>\n",
       "<path clip-path=\"url(#clip570)\" d=\"M388.232 1544.91 L404.551 1544.91 L404.551 1548.85 L382.607 1548.85 L382.607 1544.91 Q385.269 1542.16 389.852 1537.53 Q394.458 1532.88 395.639 1531.53 Q397.884 1529.01 398.764 1527.27 Q399.667 1525.51 399.667 1523.82 Q399.667 1521.07 397.722 1519.33 Q395.801 1517.6 392.699 1517.6 Q390.5 1517.6 388.046 1518.36 Q385.616 1519.13 382.838 1520.68 L382.838 1515.95 Q385.662 1514.82 388.116 1514.24 Q390.57 1513.66 392.607 1513.66 Q397.977 1513.66 401.171 1516.35 Q404.366 1519.03 404.366 1523.52 Q404.366 1525.65 403.556 1527.57 Q402.769 1529.47 400.662 1532.07 Q400.083 1532.74 396.982 1535.95 Q393.88 1539.15 388.232 1544.91 Z\" fill=\"#000000\" fill-rule=\"evenodd\" fill-opacity=\"1\" /><path clip-path=\"url(#clip570)\" d=\"M688.567 1518.36 L676.761 1536.81 L688.567 1536.81 L688.567 1518.36 M687.34 1514.29 L693.22 1514.29 L693.22 1536.81 L698.15 1536.81 L698.15 1540.7 L693.22 1540.7 L693.22 1548.85 L688.567 1548.85 L688.567 1540.7 L672.965 1540.7 L672.965 1536.19 L687.34 1514.29 Z\" fill=\"#000000\" fill-rule=\"evenodd\" fill-opacity=\"1\" /><path clip-path=\"url(#clip570)\" d=\"M977.941 1529.7 Q974.793 1529.7 972.941 1531.86 Q971.113 1534.01 971.113 1537.76 Q971.113 1541.49 972.941 1543.66 Q974.793 1545.82 977.941 1545.82 Q981.089 1545.82 982.918 1543.66 Q984.77 1541.49 984.77 1537.76 Q984.77 1534.01 982.918 1531.86 Q981.089 1529.7 977.941 1529.7 M987.224 1515.05 L987.224 1519.31 Q985.464 1518.48 983.659 1518.04 Q981.877 1517.6 980.117 1517.6 Q975.488 1517.6 973.034 1520.72 Q970.603 1523.85 970.256 1530.17 Q971.622 1528.15 973.682 1527.09 Q975.742 1526 978.219 1526 Q983.427 1526 986.437 1529.17 Q989.469 1532.32 989.469 1537.76 Q989.469 1543.08 986.321 1546.3 Q983.173 1549.52 977.941 1549.52 Q971.946 1549.52 968.775 1544.94 Q965.603 1540.33 965.603 1531.6 Q965.603 1523.41 969.492 1518.55 Q973.381 1513.66 979.932 1513.66 Q981.691 1513.66 983.474 1514.01 Q985.279 1514.36 987.224 1515.05 Z\" fill=\"#000000\" fill-rule=\"evenodd\" fill-opacity=\"1\" /><path clip-path=\"url(#clip570)\" d=\"M1269.51 1532.44 Q1266.18 1532.44 1264.26 1534.22 Q1262.36 1536 1262.36 1539.13 Q1262.36 1542.25 1264.26 1544.03 Q1266.18 1545.82 1269.51 1545.82 Q1272.85 1545.82 1274.77 1544.03 Q1276.69 1542.23 1276.69 1539.13 Q1276.69 1536 1274.77 1534.22 Q1272.87 1532.44 1269.51 1532.44 M1264.84 1530.45 Q1261.83 1529.7 1260.14 1527.64 Q1258.47 1525.58 1258.47 1522.62 Q1258.47 1518.48 1261.41 1516.07 Q1264.38 1513.66 1269.51 1513.66 Q1274.68 1513.66 1277.62 1516.07 Q1280.56 1518.48 1280.56 1522.62 Q1280.56 1525.58 1278.87 1527.64 Q1277.2 1529.7 1274.21 1530.45 Q1277.59 1531.23 1279.47 1533.52 Q1281.37 1535.82 1281.37 1539.13 Q1281.37 1544.15 1278.29 1546.83 Q1275.23 1549.52 1269.51 1549.52 Q1263.8 1549.52 1260.72 1546.83 Q1257.66 1544.15 1257.66 1539.13 Q1257.66 1535.82 1259.56 1533.52 Q1261.46 1531.23 1264.84 1530.45 M1263.13 1523.06 Q1263.13 1525.75 1264.79 1527.25 Q1266.48 1528.76 1269.51 1528.76 Q1272.52 1528.76 1274.21 1527.25 Q1275.93 1525.75 1275.93 1523.06 Q1275.93 1520.38 1274.21 1518.87 Q1272.52 1517.37 1269.51 1517.37 Q1266.48 1517.37 1264.79 1518.87 Q1263.13 1520.38 1263.13 1523.06 Z\" fill=\"#000000\" fill-rule=\"evenodd\" fill-opacity=\"1\" /><path clip-path=\"url(#clip570)\" d=\"M1536.18 1544.91 L1543.82 1544.91 L1543.82 1518.55 L1535.51 1520.21 L1535.51 1515.95 L1543.77 1514.29 L1548.45 1514.29 L1548.45 1544.91 L1556.09 1544.91 L1556.09 1548.85 L1536.18 1548.85 L1536.18 1544.91 Z\" fill=\"#000000\" fill-rule=\"evenodd\" fill-opacity=\"1\" /><path clip-path=\"url(#clip570)\" d=\"M1575.53 1517.37 Q1571.92 1517.37 1570.09 1520.93 Q1568.29 1524.47 1568.29 1531.6 Q1568.29 1538.71 1570.09 1542.27 Q1571.92 1545.82 1575.53 1545.82 Q1579.17 1545.82 1580.97 1542.27 Q1582.8 1538.71 1582.8 1531.6 Q1582.8 1524.47 1580.97 1520.93 Q1579.17 1517.37 1575.53 1517.37 M1575.53 1513.66 Q1581.34 1513.66 1584.4 1518.27 Q1587.48 1522.85 1587.48 1531.6 Q1587.48 1540.33 1584.4 1544.94 Q1581.34 1549.52 1575.53 1549.52 Q1569.72 1549.52 1566.64 1544.94 Q1563.59 1540.33 1563.59 1531.6 Q1563.59 1522.85 1566.64 1518.27 Q1569.72 1513.66 1575.53 1513.66 Z\" fill=\"#000000\" fill-rule=\"evenodd\" fill-opacity=\"1\" /><path clip-path=\"url(#clip570)\" d=\"M1828.96 1544.91 L1836.6 1544.91 L1836.6 1518.55 L1828.29 1520.21 L1828.29 1515.95 L1836.55 1514.29 L1841.23 1514.29 L1841.23 1544.91 L1848.87 1544.91 L1848.87 1548.85 L1828.96 1548.85 L1828.96 1544.91 Z\" fill=\"#000000\" fill-rule=\"evenodd\" fill-opacity=\"1\" /><path clip-path=\"url(#clip570)\" d=\"M1862.34 1544.91 L1878.66 1544.91 L1878.66 1548.85 L1856.71 1548.85 L1856.71 1544.91 Q1859.38 1542.16 1863.96 1537.53 Q1868.56 1532.88 1869.75 1531.53 Q1871.99 1529.01 1872.87 1527.27 Q1873.77 1525.51 1873.77 1523.82 Q1873.77 1521.07 1871.83 1519.33 Q1869.91 1517.6 1866.81 1517.6 Q1864.61 1517.6 1862.15 1518.36 Q1859.72 1519.13 1856.94 1520.68 L1856.94 1515.95 Q1859.77 1514.82 1862.22 1514.24 Q1864.68 1513.66 1866.71 1513.66 Q1872.08 1513.66 1875.28 1516.35 Q1878.47 1519.03 1878.47 1523.52 Q1878.47 1525.65 1877.66 1527.57 Q1876.87 1529.47 1874.77 1532.07 Q1874.19 1532.74 1871.09 1535.95 Q1867.99 1539.15 1862.34 1544.91 Z\" fill=\"#000000\" fill-rule=\"evenodd\" fill-opacity=\"1\" /><path clip-path=\"url(#clip570)\" d=\"M2119.9 1544.91 L2127.53 1544.91 L2127.53 1518.55 L2119.22 1520.21 L2119.22 1515.95 L2127.49 1514.29 L2132.16 1514.29 L2132.16 1544.91 L2139.8 1544.91 L2139.8 1548.85 L2119.9 1548.85 L2119.9 1544.91 Z\" fill=\"#000000\" fill-rule=\"evenodd\" fill-opacity=\"1\" /><path clip-path=\"url(#clip570)\" d=\"M2162.09 1518.36 L2150.29 1536.81 L2162.09 1536.81 L2162.09 1518.36 M2160.87 1514.29 L2166.75 1514.29 L2166.75 1536.81 L2171.68 1536.81 L2171.68 1540.7 L2166.75 1540.7 L2166.75 1548.85 L2162.09 1548.85 L2162.09 1540.7 L2146.49 1540.7 L2146.49 1536.19 L2160.87 1514.29 Z\" fill=\"#000000\" fill-rule=\"evenodd\" fill-opacity=\"1\" /><polyline clip-path=\"url(#clip572)\" style=\"stroke:#000000; stroke-linecap:butt; stroke-linejoin:round; stroke-width:2; stroke-opacity:0.1; fill:none\" points=\"\n",
       "  186.274,1483.74 2352.76,1483.74 \n",
       "  \"/>\n",
       "<polyline clip-path=\"url(#clip572)\" style=\"stroke:#000000; stroke-linecap:butt; stroke-linejoin:round; stroke-width:2; stroke-opacity:0.1; fill:none\" points=\"\n",
       "  186.274,1145.56 2352.76,1145.56 \n",
       "  \"/>\n",
       "<polyline clip-path=\"url(#clip572)\" style=\"stroke:#000000; stroke-linecap:butt; stroke-linejoin:round; stroke-width:2; stroke-opacity:0.1; fill:none\" points=\"\n",
       "  186.274,807.381 2352.76,807.381 \n",
       "  \"/>\n",
       "<polyline clip-path=\"url(#clip572)\" style=\"stroke:#000000; stroke-linecap:butt; stroke-linejoin:round; stroke-width:2; stroke-opacity:0.1; fill:none\" points=\"\n",
       "  186.274,469.201 2352.76,469.201 \n",
       "  \"/>\n",
       "<polyline clip-path=\"url(#clip572)\" style=\"stroke:#000000; stroke-linecap:butt; stroke-linejoin:round; stroke-width:2; stroke-opacity:0.1; fill:none\" points=\"\n",
       "  186.274,131.021 2352.76,131.021 \n",
       "  \"/>\n",
       "<polyline clip-path=\"url(#clip570)\" style=\"stroke:#000000; stroke-linecap:butt; stroke-linejoin:round; stroke-width:4; stroke-opacity:1; fill:none\" points=\"\n",
       "  186.274,1486.45 186.274,123.472 \n",
       "  \"/>\n",
       "<polyline clip-path=\"url(#clip570)\" style=\"stroke:#000000; stroke-linecap:butt; stroke-linejoin:round; stroke-width:4; stroke-opacity:1; fill:none\" points=\"\n",
       "  186.274,1483.74 205.172,1483.74 \n",
       "  \"/>\n",
       "<polyline clip-path=\"url(#clip570)\" style=\"stroke:#000000; stroke-linecap:butt; stroke-linejoin:round; stroke-width:4; stroke-opacity:1; fill:none\" points=\"\n",
       "  186.274,1145.56 205.172,1145.56 \n",
       "  \"/>\n",
       "<polyline clip-path=\"url(#clip570)\" style=\"stroke:#000000; stroke-linecap:butt; stroke-linejoin:round; stroke-width:4; stroke-opacity:1; fill:none\" points=\"\n",
       "  186.274,807.381 205.172,807.381 \n",
       "  \"/>\n",
       "<polyline clip-path=\"url(#clip570)\" style=\"stroke:#000000; stroke-linecap:butt; stroke-linejoin:round; stroke-width:4; stroke-opacity:1; fill:none\" points=\"\n",
       "  186.274,469.201 205.172,469.201 \n",
       "  \"/>\n",
       "<polyline clip-path=\"url(#clip570)\" style=\"stroke:#000000; stroke-linecap:butt; stroke-linejoin:round; stroke-width:4; stroke-opacity:1; fill:none\" points=\"\n",
       "  186.274,131.021 205.172,131.021 \n",
       "  \"/>\n",
       "<path clip-path=\"url(#clip570)\" d=\"M62.9365 1469.54 Q59.3254 1469.54 57.4967 1473.11 Q55.6912 1476.65 55.6912 1483.78 Q55.6912 1490.88 57.4967 1494.45 Q59.3254 1497.99 62.9365 1497.99 Q66.5707 1497.99 68.3763 1494.45 Q70.205 1490.88 70.205 1483.78 Q70.205 1476.65 68.3763 1473.11 Q66.5707 1469.54 62.9365 1469.54 M62.9365 1465.84 Q68.7467 1465.84 71.8022 1470.44 Q74.8809 1475.03 74.8809 1483.78 Q74.8809 1492.5 71.8022 1497.11 Q68.7467 1501.69 62.9365 1501.69 Q57.1264 1501.69 54.0477 1497.11 Q50.9921 1492.5 50.9921 1483.78 Q50.9921 1475.03 54.0477 1470.44 Q57.1264 1465.84 62.9365 1465.84 Z\" fill=\"#000000\" fill-rule=\"evenodd\" fill-opacity=\"1\" /><path clip-path=\"url(#clip570)\" d=\"M83.0984 1495.14 L87.9827 1495.14 L87.9827 1501.02 L83.0984 1501.02 L83.0984 1495.14 Z\" fill=\"#000000\" fill-rule=\"evenodd\" fill-opacity=\"1\" /><path clip-path=\"url(#clip570)\" d=\"M108.168 1469.54 Q104.557 1469.54 102.728 1473.11 Q100.922 1476.65 100.922 1483.78 Q100.922 1490.88 102.728 1494.45 Q104.557 1497.99 108.168 1497.99 Q111.802 1497.99 113.608 1494.45 Q115.436 1490.88 115.436 1483.78 Q115.436 1476.65 113.608 1473.11 Q111.802 1469.54 108.168 1469.54 M108.168 1465.84 Q113.978 1465.84 117.033 1470.44 Q120.112 1475.03 120.112 1483.78 Q120.112 1492.5 117.033 1497.11 Q113.978 1501.69 108.168 1501.69 Q102.358 1501.69 99.2789 1497.11 Q96.2234 1492.5 96.2234 1483.78 Q96.2234 1475.03 99.2789 1470.44 Q102.358 1465.84 108.168 1465.84 Z\" fill=\"#000000\" fill-rule=\"evenodd\" fill-opacity=\"1\" /><path clip-path=\"url(#clip570)\" d=\"M138.33 1469.54 Q134.719 1469.54 132.89 1473.11 Q131.084 1476.65 131.084 1483.78 Q131.084 1490.88 132.89 1494.45 Q134.719 1497.99 138.33 1497.99 Q141.964 1497.99 143.769 1494.45 Q145.598 1490.88 145.598 1483.78 Q145.598 1476.65 143.769 1473.11 Q141.964 1469.54 138.33 1469.54 M138.33 1465.84 Q144.14 1465.84 147.195 1470.44 Q150.274 1475.03 150.274 1483.78 Q150.274 1492.5 147.195 1497.11 Q144.14 1501.69 138.33 1501.69 Q132.519 1501.69 129.441 1497.11 Q126.385 1492.5 126.385 1483.78 Q126.385 1475.03 129.441 1470.44 Q132.519 1465.84 138.33 1465.84 Z\" fill=\"#000000\" fill-rule=\"evenodd\" fill-opacity=\"1\" /><path clip-path=\"url(#clip570)\" d=\"M63.9319 1131.36 Q60.3208 1131.36 58.4921 1134.92 Q56.6865 1138.47 56.6865 1145.6 Q56.6865 1152.7 58.4921 1156.27 Q60.3208 1159.81 63.9319 1159.81 Q67.5661 1159.81 69.3717 1156.27 Q71.2004 1152.7 71.2004 1145.6 Q71.2004 1138.47 69.3717 1134.92 Q67.5661 1131.36 63.9319 1131.36 M63.9319 1127.66 Q69.742 1127.66 72.7976 1132.26 Q75.8763 1136.85 75.8763 1145.6 Q75.8763 1154.32 72.7976 1158.93 Q69.742 1163.51 63.9319 1163.51 Q58.1217 1163.51 55.043 1158.93 Q51.9875 1154.32 51.9875 1145.6 Q51.9875 1136.85 55.043 1132.26 Q58.1217 1127.66 63.9319 1127.66 Z\" fill=\"#000000\" fill-rule=\"evenodd\" fill-opacity=\"1\" /><path clip-path=\"url(#clip570)\" d=\"M84.0938 1156.96 L88.978 1156.96 L88.978 1162.84 L84.0938 1162.84 L84.0938 1156.96 Z\" fill=\"#000000\" fill-rule=\"evenodd\" fill-opacity=\"1\" /><path clip-path=\"url(#clip570)\" d=\"M103.191 1158.91 L119.51 1158.91 L119.51 1162.84 L97.566 1162.84 L97.566 1158.91 Q100.228 1156.15 104.811 1151.52 Q109.418 1146.87 110.598 1145.53 Q112.844 1143 113.723 1141.27 Q114.626 1139.51 114.626 1137.82 Q114.626 1135.06 112.682 1133.33 Q110.76 1131.59 107.658 1131.59 Q105.459 1131.59 103.006 1132.36 Q100.575 1133.12 97.7974 1134.67 L97.7974 1129.95 Q100.621 1128.81 103.075 1128.24 Q105.529 1127.66 107.566 1127.66 Q112.936 1127.66 116.131 1130.34 Q119.325 1133.03 119.325 1137.52 Q119.325 1139.65 118.515 1141.57 Q117.728 1143.47 115.621 1146.06 Q115.043 1146.73 111.941 1149.95 Q108.839 1153.14 103.191 1158.91 Z\" fill=\"#000000\" fill-rule=\"evenodd\" fill-opacity=\"1\" /><path clip-path=\"url(#clip570)\" d=\"M129.371 1128.28 L147.728 1128.28 L147.728 1132.22 L133.654 1132.22 L133.654 1140.69 Q134.672 1140.34 135.691 1140.18 Q136.709 1139.99 137.728 1139.99 Q143.515 1139.99 146.894 1143.17 Q150.274 1146.34 150.274 1151.75 Q150.274 1157.33 146.802 1160.43 Q143.33 1163.51 137.01 1163.51 Q134.834 1163.51 132.566 1163.14 Q130.32 1162.77 127.913 1162.03 L127.913 1157.33 Q129.996 1158.47 132.219 1159.02 Q134.441 1159.58 136.918 1159.58 Q140.922 1159.58 143.26 1157.47 Q145.598 1155.36 145.598 1151.75 Q145.598 1148.14 143.26 1146.04 Q140.922 1143.93 136.918 1143.93 Q135.043 1143.93 133.168 1144.35 Q131.316 1144.76 129.371 1145.64 L129.371 1128.28 Z\" fill=\"#000000\" fill-rule=\"evenodd\" fill-opacity=\"1\" /><path clip-path=\"url(#clip570)\" d=\"M62.9365 793.18 Q59.3254 793.18 57.4967 796.745 Q55.6912 800.286 55.6912 807.416 Q55.6912 814.522 57.4967 818.087 Q59.3254 821.629 62.9365 821.629 Q66.5707 821.629 68.3763 818.087 Q70.205 814.522 70.205 807.416 Q70.205 800.286 68.3763 796.745 Q66.5707 793.18 62.9365 793.18 M62.9365 789.476 Q68.7467 789.476 71.8022 794.083 Q74.8809 798.666 74.8809 807.416 Q74.8809 816.143 71.8022 820.749 Q68.7467 825.333 62.9365 825.333 Q57.1264 825.333 54.0477 820.749 Q50.9921 816.143 50.9921 807.416 Q50.9921 798.666 54.0477 794.083 Q57.1264 789.476 62.9365 789.476 Z\" fill=\"#000000\" fill-rule=\"evenodd\" fill-opacity=\"1\" /><path clip-path=\"url(#clip570)\" d=\"M83.0984 818.782 L87.9827 818.782 L87.9827 824.661 L83.0984 824.661 L83.0984 818.782 Z\" fill=\"#000000\" fill-rule=\"evenodd\" fill-opacity=\"1\" /><path clip-path=\"url(#clip570)\" d=\"M98.2141 790.101 L116.57 790.101 L116.57 794.036 L102.496 794.036 L102.496 802.509 Q103.515 802.161 104.534 801.999 Q105.552 801.814 106.571 801.814 Q112.358 801.814 115.737 804.986 Q119.117 808.157 119.117 813.573 Q119.117 819.152 115.645 822.254 Q112.172 825.333 105.853 825.333 Q103.677 825.333 101.409 824.962 Q99.1632 824.592 96.7558 823.851 L96.7558 819.152 Q98.8391 820.286 101.061 820.842 Q103.284 821.397 105.76 821.397 Q109.765 821.397 112.103 819.291 Q114.441 817.185 114.441 813.573 Q114.441 809.962 112.103 807.856 Q109.765 805.749 105.76 805.749 Q103.885 805.749 102.01 806.166 Q100.159 806.583 98.2141 807.462 L98.2141 790.101 Z\" fill=\"#000000\" fill-rule=\"evenodd\" fill-opacity=\"1\" /><path clip-path=\"url(#clip570)\" d=\"M138.33 793.18 Q134.719 793.18 132.89 796.745 Q131.084 800.286 131.084 807.416 Q131.084 814.522 132.89 818.087 Q134.719 821.629 138.33 821.629 Q141.964 821.629 143.769 818.087 Q145.598 814.522 145.598 807.416 Q145.598 800.286 143.769 796.745 Q141.964 793.18 138.33 793.18 M138.33 789.476 Q144.14 789.476 147.195 794.083 Q150.274 798.666 150.274 807.416 Q150.274 816.143 147.195 820.749 Q144.14 825.333 138.33 825.333 Q132.519 825.333 129.441 820.749 Q126.385 816.143 126.385 807.416 Q126.385 798.666 129.441 794.083 Q132.519 789.476 138.33 789.476 Z\" fill=\"#000000\" fill-rule=\"evenodd\" fill-opacity=\"1\" /><path clip-path=\"url(#clip570)\" d=\"M63.9319 455 Q60.3208 455 58.4921 458.565 Q56.6865 462.106 56.6865 469.236 Q56.6865 476.342 58.4921 479.907 Q60.3208 483.449 63.9319 483.449 Q67.5661 483.449 69.3717 479.907 Q71.2004 476.342 71.2004 469.236 Q71.2004 462.106 69.3717 458.565 Q67.5661 455 63.9319 455 M63.9319 451.296 Q69.742 451.296 72.7976 455.903 Q75.8763 460.486 75.8763 469.236 Q75.8763 477.963 72.7976 482.569 Q69.742 487.153 63.9319 487.153 Q58.1217 487.153 55.043 482.569 Q51.9875 477.963 51.9875 469.236 Q51.9875 460.486 55.043 455.903 Q58.1217 451.296 63.9319 451.296 Z\" fill=\"#000000\" fill-rule=\"evenodd\" fill-opacity=\"1\" /><path clip-path=\"url(#clip570)\" d=\"M84.0938 480.602 L88.978 480.602 L88.978 486.481 L84.0938 486.481 L84.0938 480.602 Z\" fill=\"#000000\" fill-rule=\"evenodd\" fill-opacity=\"1\" /><path clip-path=\"url(#clip570)\" d=\"M97.9826 451.921 L120.205 451.921 L120.205 453.912 L107.658 486.481 L102.774 486.481 L114.58 455.856 L97.9826 455.856 L97.9826 451.921 Z\" fill=\"#000000\" fill-rule=\"evenodd\" fill-opacity=\"1\" /><path clip-path=\"url(#clip570)\" d=\"M129.371 451.921 L147.728 451.921 L147.728 455.856 L133.654 455.856 L133.654 464.329 Q134.672 463.981 135.691 463.819 Q136.709 463.634 137.728 463.634 Q143.515 463.634 146.894 466.805 Q150.274 469.977 150.274 475.393 Q150.274 480.972 146.802 484.074 Q143.33 487.153 137.01 487.153 Q134.834 487.153 132.566 486.782 Q130.32 486.412 127.913 485.671 L127.913 480.972 Q129.996 482.106 132.219 482.662 Q134.441 483.217 136.918 483.217 Q140.922 483.217 143.26 481.111 Q145.598 479.004 145.598 475.393 Q145.598 471.782 143.26 469.676 Q140.922 467.569 136.918 467.569 Q135.043 467.569 133.168 467.986 Q131.316 468.403 129.371 469.282 L129.371 451.921 Z\" fill=\"#000000\" fill-rule=\"evenodd\" fill-opacity=\"1\" /><path clip-path=\"url(#clip570)\" d=\"M53.7467 144.366 L61.3856 144.366 L61.3856 118 L53.0754 119.667 L53.0754 115.408 L61.3393 113.741 L66.0152 113.741 L66.0152 144.366 L73.654 144.366 L73.654 148.301 L53.7467 148.301 L53.7467 144.366 Z\" fill=\"#000000\" fill-rule=\"evenodd\" fill-opacity=\"1\" /><path clip-path=\"url(#clip570)\" d=\"M83.0984 142.422 L87.9827 142.422 L87.9827 148.301 L83.0984 148.301 L83.0984 142.422 Z\" fill=\"#000000\" fill-rule=\"evenodd\" fill-opacity=\"1\" /><path clip-path=\"url(#clip570)\" d=\"M108.168 116.82 Q104.557 116.82 102.728 120.385 Q100.922 123.926 100.922 131.056 Q100.922 138.162 102.728 141.727 Q104.557 145.269 108.168 145.269 Q111.802 145.269 113.608 141.727 Q115.436 138.162 115.436 131.056 Q115.436 123.926 113.608 120.385 Q111.802 116.82 108.168 116.82 M108.168 113.116 Q113.978 113.116 117.033 117.723 Q120.112 122.306 120.112 131.056 Q120.112 139.783 117.033 144.389 Q113.978 148.972 108.168 148.972 Q102.358 148.972 99.2789 144.389 Q96.2234 139.783 96.2234 131.056 Q96.2234 122.306 99.2789 117.723 Q102.358 113.116 108.168 113.116 Z\" fill=\"#000000\" fill-rule=\"evenodd\" fill-opacity=\"1\" /><path clip-path=\"url(#clip570)\" d=\"M138.33 116.82 Q134.719 116.82 132.89 120.385 Q131.084 123.926 131.084 131.056 Q131.084 138.162 132.89 141.727 Q134.719 145.269 138.33 145.269 Q141.964 145.269 143.769 141.727 Q145.598 138.162 145.598 131.056 Q145.598 123.926 143.769 120.385 Q141.964 116.82 138.33 116.82 M138.33 113.116 Q144.14 113.116 147.195 117.723 Q150.274 122.306 150.274 131.056 Q150.274 139.783 147.195 144.389 Q144.14 148.972 138.33 148.972 Q132.519 148.972 129.441 144.389 Q126.385 139.783 126.385 131.056 Q126.385 122.306 129.441 117.723 Q132.519 113.116 138.33 113.116 Z\" fill=\"#000000\" fill-rule=\"evenodd\" fill-opacity=\"1\" /><path clip-path=\"url(#clip570)\" d=\"M1004.34 44.2197 Q1006.98 45.1109 1009.45 48.0275 Q1011.96 50.9442 1014.47 56.0483 L1022.77 72.576 L1013.98 72.576 L1006.25 57.061 Q1003.25 50.9847 1000.41 48.9997 Q997.618 47.0148 992.757 47.0148 L983.845 47.0148 L983.845 72.576 L975.662 72.576 L975.662 12.096 L994.134 12.096 Q1004.5 12.096 1009.61 16.4305 Q1014.71 20.7649 1014.71 29.5149 Q1014.71 35.2267 1012.04 38.994 Q1009.41 42.7613 1004.34 44.2197 M983.845 18.8205 L983.845 40.2903 L994.134 40.2903 Q1000.05 40.2903 1003.05 37.5762 Q1006.08 34.8216 1006.08 29.5149 Q1006.08 24.2082 1003.05 21.5346 Q1000.05 18.8205 994.134 18.8205 L983.845 18.8205 Z\" fill=\"#000000\" fill-rule=\"evenodd\" fill-opacity=\"1\" /><path clip-path=\"url(#clip570)\" d=\"M1051.78 49.7694 Q1042.75 49.7694 1039.26 51.8354 Q1035.78 53.9013 1035.78 58.8839 Q1035.78 62.8538 1038.37 65.2034 Q1041 67.5124 1045.5 67.5124 Q1051.7 67.5124 1055.42 63.1374 Q1059.19 58.7219 1059.19 51.4303 L1059.19 49.7694 L1051.78 49.7694 M1066.65 46.6907 L1066.65 72.576 L1059.19 72.576 L1059.19 65.6895 Q1056.64 69.8214 1052.83 71.8063 Q1049.02 73.7508 1043.52 73.7508 Q1036.55 73.7508 1032.42 69.8619 Q1028.32 65.9325 1028.32 59.3701 Q1028.32 51.7138 1033.43 47.825 Q1038.57 43.9361 1048.74 43.9361 L1059.19 43.9361 L1059.19 43.2069 Q1059.19 38.0623 1055.79 35.2672 Q1052.43 32.4315 1046.31 32.4315 Q1042.42 32.4315 1038.73 33.3632 Q1035.05 34.295 1031.65 36.1584 L1031.65 29.2718 Q1035.74 27.692 1039.59 26.9223 Q1043.43 26.1121 1047.08 26.1121 Q1056.92 26.1121 1061.78 31.2163 Q1066.65 36.3204 1066.65 46.6907 Z\" fill=\"#000000\" fill-rule=\"evenodd\" fill-opacity=\"1\" /><path clip-path=\"url(#clip570)\" d=\"M1119.71 45.1919 L1119.71 72.576 L1112.26 72.576 L1112.26 45.4349 Q1112.26 38.994 1109.75 35.7938 Q1107.24 32.5936 1102.21 32.5936 Q1096.18 32.5936 1092.69 36.4419 Q1089.21 40.2903 1089.21 46.9338 L1089.21 72.576 L1081.72 72.576 L1081.72 27.2059 L1089.21 27.2059 L1089.21 34.2544 Q1091.88 30.163 1095.49 28.1376 Q1099.13 26.1121 1103.87 26.1121 Q1111.69 26.1121 1115.7 30.9732 Q1119.71 35.7938 1119.71 45.1919 Z\" fill=\"#000000\" fill-rule=\"evenodd\" fill-opacity=\"1\" /><path clip-path=\"url(#clip570)\" d=\"M1164.43 34.0924 L1164.43 9.54393 L1171.89 9.54393 L1171.89 72.576 L1164.43 72.576 L1164.43 65.7705 Q1162.08 69.8214 1158.48 71.8063 Q1154.91 73.7508 1149.89 73.7508 Q1141.67 73.7508 1136.48 67.1883 Q1131.34 60.6258 1131.34 49.9314 Q1131.34 39.2371 1136.48 32.6746 Q1141.67 26.1121 1149.89 26.1121 Q1154.91 26.1121 1158.48 28.0971 Q1162.08 30.0415 1164.43 34.0924 M1139.04 49.9314 Q1139.04 58.1548 1142.4 62.8538 Q1145.8 67.5124 1151.71 67.5124 Q1157.63 67.5124 1161.03 62.8538 Q1164.43 58.1548 1164.43 49.9314 Q1164.43 41.7081 1161.03 37.0496 Q1157.63 32.3505 1151.71 32.3505 Q1145.8 32.3505 1142.4 37.0496 Q1139.04 41.7081 1139.04 49.9314 Z\" fill=\"#000000\" fill-rule=\"evenodd\" fill-opacity=\"1\" /><path clip-path=\"url(#clip570)\" d=\"M1204.82 32.4315 Q1198.83 32.4315 1195.34 37.1306 Q1191.86 41.7891 1191.86 49.9314 Q1191.86 58.0738 1195.3 62.7728 Q1198.79 67.4314 1204.82 67.4314 Q1210.78 67.4314 1214.26 62.7323 Q1217.74 58.0333 1217.74 49.9314 Q1217.74 41.8701 1214.26 37.1711 Q1210.78 32.4315 1204.82 32.4315 M1204.82 26.1121 Q1214.54 26.1121 1220.09 32.4315 Q1225.64 38.7509 1225.64 49.9314 Q1225.64 61.0714 1220.09 67.4314 Q1214.54 73.7508 1204.82 73.7508 Q1195.06 73.7508 1189.51 67.4314 Q1184 61.0714 1184 49.9314 Q1184 38.7509 1189.51 32.4315 Q1195.06 26.1121 1204.82 26.1121 Z\" fill=\"#000000\" fill-rule=\"evenodd\" fill-opacity=\"1\" /><path clip-path=\"url(#clip570)\" d=\"M1273.32 35.9153 Q1276.12 30.8922 1280.01 28.5022 Q1283.9 26.1121 1289.16 26.1121 Q1296.25 26.1121 1300.1 31.0947 Q1303.95 36.0368 1303.95 45.1919 L1303.95 72.576 L1296.45 72.576 L1296.45 45.4349 Q1296.45 38.913 1294.14 35.7533 Q1291.84 32.5936 1287.1 32.5936 Q1281.3 32.5936 1277.94 36.4419 Q1274.58 40.2903 1274.58 46.9338 L1274.58 72.576 L1267.08 72.576 L1267.08 45.4349 Q1267.08 38.8725 1264.78 35.7533 Q1262.47 32.5936 1257.65 32.5936 Q1251.93 32.5936 1248.57 36.4824 Q1245.21 40.3308 1245.21 46.9338 L1245.21 72.576 L1237.72 72.576 L1237.72 27.2059 L1245.21 27.2059 L1245.21 34.2544 Q1247.76 30.082 1251.33 28.0971 Q1254.89 26.1121 1259.79 26.1121 Q1264.73 26.1121 1268.18 28.6237 Q1271.66 31.1352 1273.32 35.9153 Z\" fill=\"#000000\" fill-rule=\"evenodd\" fill-opacity=\"1\" /><path clip-path=\"url(#clip570)\" d=\"M1390.8 16.7545 L1390.8 25.383 Q1386.67 21.5346 1381.97 19.6307 Q1377.31 17.7268 1372.04 17.7268 Q1361.67 17.7268 1356.16 24.0867 Q1350.65 30.4061 1350.65 42.3968 Q1350.65 54.3469 1356.16 60.7069 Q1361.67 67.0263 1372.04 67.0263 Q1377.31 67.0263 1381.97 65.1223 Q1386.67 63.2184 1390.8 59.3701 L1390.8 67.9175 Q1386.51 70.8341 1381.68 72.2924 Q1376.9 73.7508 1371.56 73.7508 Q1357.82 73.7508 1349.93 65.3654 Q1342.03 56.9395 1342.03 42.3968 Q1342.03 27.8135 1349.93 19.4281 Q1357.82 11.0023 1371.56 11.0023 Q1376.99 11.0023 1381.77 12.4606 Q1386.59 13.8784 1390.8 16.7545 Z\" fill=\"#000000\" fill-rule=\"evenodd\" fill-opacity=\"1\" /><path clip-path=\"url(#clip570)\" d=\"M1440.83 45.1919 L1440.83 72.576 L1433.37 72.576 L1433.37 45.4349 Q1433.37 38.994 1430.86 35.7938 Q1428.35 32.5936 1423.33 32.5936 Q1417.29 32.5936 1413.81 36.4419 Q1410.32 40.2903 1410.32 46.9338 L1410.32 72.576 L1402.83 72.576 L1402.83 9.54393 L1410.32 9.54393 L1410.32 34.2544 Q1413 30.163 1416.6 28.1376 Q1420.25 26.1121 1424.99 26.1121 Q1432.81 26.1121 1436.82 30.9732 Q1440.83 35.7938 1440.83 45.1919 Z\" fill=\"#000000\" fill-rule=\"evenodd\" fill-opacity=\"1\" /><path clip-path=\"url(#clip570)\" d=\"M1476.31 49.7694 Q1467.28 49.7694 1463.8 51.8354 Q1460.31 53.9013 1460.31 58.8839 Q1460.31 62.8538 1462.91 65.2034 Q1465.54 67.5124 1470.03 67.5124 Q1476.23 67.5124 1479.96 63.1374 Q1483.73 58.7219 1483.73 51.4303 L1483.73 49.7694 L1476.31 49.7694 M1491.18 46.6907 L1491.18 72.576 L1483.73 72.576 L1483.73 65.6895 Q1481.17 69.8214 1477.37 71.8063 Q1473.56 73.7508 1468.05 73.7508 Q1461.08 73.7508 1456.95 69.8619 Q1452.86 65.9325 1452.86 59.3701 Q1452.86 51.7138 1457.96 47.825 Q1463.11 43.9361 1473.28 43.9361 L1483.73 43.9361 L1483.73 43.2069 Q1483.73 38.0623 1480.32 35.2672 Q1476.96 32.4315 1470.84 32.4315 Q1466.96 32.4315 1463.27 33.3632 Q1459.58 34.295 1456.18 36.1584 L1456.18 29.2718 Q1460.27 27.692 1464.12 26.9223 Q1467.97 26.1121 1471.61 26.1121 Q1481.46 26.1121 1486.32 31.2163 Q1491.18 36.3204 1491.18 46.6907 Z\" fill=\"#000000\" fill-rule=\"evenodd\" fill-opacity=\"1\" /><path clip-path=\"url(#clip570)\" d=\"M1532.82 34.1734 Q1531.57 33.4443 1530.07 33.1202 Q1528.61 32.7556 1526.83 32.7556 Q1520.51 32.7556 1517.11 36.8875 Q1513.74 40.9789 1513.74 48.6757 L1513.74 72.576 L1506.25 72.576 L1506.25 27.2059 L1513.74 27.2059 L1513.74 34.2544 Q1516.09 30.1225 1519.86 28.1376 Q1523.63 26.1121 1529.02 26.1121 Q1529.79 26.1121 1530.72 26.2337 Q1531.65 26.3147 1532.78 26.5172 L1532.82 34.1734 Z\" fill=\"#000000\" fill-rule=\"evenodd\" fill-opacity=\"1\" /><path clip-path=\"url(#clip570)\" d=\"M1548.01 14.324 L1548.01 27.2059 L1563.37 27.2059 L1563.37 32.9987 L1548.01 32.9987 L1548.01 57.6282 Q1548.01 63.1779 1549.51 64.7578 Q1551.05 66.3376 1555.71 66.3376 L1563.37 66.3376 L1563.37 72.576 L1555.71 72.576 Q1547.08 72.576 1543.8 69.3758 Q1540.52 66.1351 1540.52 57.6282 L1540.52 32.9987 L1535.05 32.9987 L1535.05 27.2059 L1540.52 27.2059 L1540.52 14.324 L1548.01 14.324 Z\" fill=\"#000000\" fill-rule=\"evenodd\" fill-opacity=\"1\" /><polyline clip-path=\"url(#clip572)\" style=\"stroke:#009af9; stroke-linecap:butt; stroke-linejoin:round; stroke-width:4; stroke-opacity:1; fill:none\" points=\"\n",
       "  247.59,1305.24 393.579,1308.62 539.568,540.172 685.558,262.569 831.547,188.231 977.536,554.335 1123.53,1412.12 1269.51,1447.87 1415.5,1044.33 1561.49,1100.52 \n",
       "  1707.48,916.664 1853.47,452.482 1999.46,730.124 2145.45,162.047 2291.44,728.316 \n",
       "  \"/>\n",
       "<path clip-path=\"url(#clip570)\" d=\"\n",
       "M1987.39 272.585 L2280.54 272.585 L2280.54 168.905 L1987.39 168.905  Z\n",
       "  \" fill=\"#ffffff\" fill-rule=\"evenodd\" fill-opacity=\"1\"/>\n",
       "<polyline clip-path=\"url(#clip570)\" style=\"stroke:#000000; stroke-linecap:butt; stroke-linejoin:round; stroke-width:4; stroke-opacity:1; fill:none\" points=\"\n",
       "  1987.39,272.585 2280.54,272.585 2280.54,168.905 1987.39,168.905 1987.39,272.585 \n",
       "  \"/>\n",
       "<polyline clip-path=\"url(#clip570)\" style=\"stroke:#009af9; stroke-linecap:butt; stroke-linejoin:round; stroke-width:4; stroke-opacity:1; fill:none\" points=\"\n",
       "  2011.46,220.745 2155.89,220.745 \n",
       "  \"/>\n",
       "<path clip-path=\"url(#clip570)\" d=\"M2193.81 240.432 Q2192 245.062 2190.29 246.474 Q2188.58 247.886 2185.71 247.886 L2182.3 247.886 L2182.3 244.321 L2184.8 244.321 Q2186.56 244.321 2187.53 243.488 Q2188.51 242.654 2189.69 239.552 L2190.45 237.608 L2179.97 212.099 L2184.48 212.099 L2192.58 232.377 L2200.68 212.099 L2205.2 212.099 L2193.81 240.432 Z\" fill=\"#000000\" fill-rule=\"evenodd\" fill-opacity=\"1\" /><path clip-path=\"url(#clip570)\" d=\"M2212.49 234.089 L2220.13 234.089 L2220.13 207.724 L2211.82 209.391 L2211.82 205.131 L2220.08 203.465 L2224.76 203.465 L2224.76 234.089 L2232.4 234.089 L2232.4 238.025 L2212.49 238.025 L2212.49 234.089 Z\" fill=\"#000000\" fill-rule=\"evenodd\" fill-opacity=\"1\" /></svg>\n"
      ]
     },
     "execution_count": 114,
     "metadata": {},
     "output_type": "execute_result"
    }
   ],
   "source": [
    "plot(x, y, title=\"Random Chart\")"
   ]
  },
  {
   "cell_type": "code",
   "execution_count": 115,
   "metadata": {},
   "outputs": [
    {
     "data": {
      "image/svg+xml": [
       "<?xml version=\"1.0\" encoding=\"utf-8\"?>\n",
       "<svg xmlns=\"http://www.w3.org/2000/svg\" xmlns:xlink=\"http://www.w3.org/1999/xlink\" width=\"600\" height=\"400\" viewBox=\"0 0 2400 1600\">\n",
       "<defs>\n",
       "  <clipPath id=\"clip610\">\n",
       "    <rect x=\"0\" y=\"0\" width=\"2400\" height=\"1600\"/>\n",
       "  </clipPath>\n",
       "</defs>\n",
       "<path clip-path=\"url(#clip610)\" d=\"\n",
       "M0 1600 L2400 1600 L2400 0 L0 0  Z\n",
       "  \" fill=\"#ffffff\" fill-rule=\"evenodd\" fill-opacity=\"1\"/>\n",
       "<defs>\n",
       "  <clipPath id=\"clip611\">\n",
       "    <rect x=\"480\" y=\"0\" width=\"1681\" height=\"1600\"/>\n",
       "  </clipPath>\n",
       "</defs>\n",
       "<path clip-path=\"url(#clip610)\" d=\"\n",
       "M186.274 1486.45 L2352.76 1486.45 L2352.76 123.472 L186.274 123.472  Z\n",
       "  \" fill=\"#ffffff\" fill-rule=\"evenodd\" fill-opacity=\"1\"/>\n",
       "<defs>\n",
       "  <clipPath id=\"clip612\">\n",
       "    <rect x=\"186\" y=\"123\" width=\"2167\" height=\"1364\"/>\n",
       "  </clipPath>\n",
       "</defs>\n",
       "<polyline clip-path=\"url(#clip612)\" style=\"stroke:#000000; stroke-linecap:butt; stroke-linejoin:round; stroke-width:2; stroke-opacity:0.1; fill:none\" points=\"\n",
       "  393.579,1486.45 393.579,123.472 \n",
       "  \"/>\n",
       "<polyline clip-path=\"url(#clip612)\" style=\"stroke:#000000; stroke-linecap:butt; stroke-linejoin:round; stroke-width:2; stroke-opacity:0.1; fill:none\" points=\"\n",
       "  685.558,1486.45 685.558,123.472 \n",
       "  \"/>\n",
       "<polyline clip-path=\"url(#clip612)\" style=\"stroke:#000000; stroke-linecap:butt; stroke-linejoin:round; stroke-width:2; stroke-opacity:0.1; fill:none\" points=\"\n",
       "  977.536,1486.45 977.536,123.472 \n",
       "  \"/>\n",
       "<polyline clip-path=\"url(#clip612)\" style=\"stroke:#000000; stroke-linecap:butt; stroke-linejoin:round; stroke-width:2; stroke-opacity:0.1; fill:none\" points=\"\n",
       "  1269.51,1486.45 1269.51,123.472 \n",
       "  \"/>\n",
       "<polyline clip-path=\"url(#clip612)\" style=\"stroke:#000000; stroke-linecap:butt; stroke-linejoin:round; stroke-width:2; stroke-opacity:0.1; fill:none\" points=\"\n",
       "  1561.49,1486.45 1561.49,123.472 \n",
       "  \"/>\n",
       "<polyline clip-path=\"url(#clip612)\" style=\"stroke:#000000; stroke-linecap:butt; stroke-linejoin:round; stroke-width:2; stroke-opacity:0.1; fill:none\" points=\"\n",
       "  1853.47,1486.45 1853.47,123.472 \n",
       "  \"/>\n",
       "<polyline clip-path=\"url(#clip612)\" style=\"stroke:#000000; stroke-linecap:butt; stroke-linejoin:round; stroke-width:2; stroke-opacity:0.1; fill:none\" points=\"\n",
       "  2145.45,1486.45 2145.45,123.472 \n",
       "  \"/>\n",
       "<polyline clip-path=\"url(#clip610)\" style=\"stroke:#000000; stroke-linecap:butt; stroke-linejoin:round; stroke-width:4; stroke-opacity:1; fill:none\" points=\"\n",
       "  186.274,1486.45 2352.76,1486.45 \n",
       "  \"/>\n",
       "<polyline clip-path=\"url(#clip610)\" style=\"stroke:#000000; stroke-linecap:butt; stroke-linejoin:round; stroke-width:4; stroke-opacity:1; fill:none\" points=\"\n",
       "  393.579,1486.45 393.579,1467.55 \n",
       "  \"/>\n",
       "<polyline clip-path=\"url(#clip610)\" style=\"stroke:#000000; stroke-linecap:butt; stroke-linejoin:round; stroke-width:4; stroke-opacity:1; fill:none\" points=\"\n",
       "  685.558,1486.45 685.558,1467.55 \n",
       "  \"/>\n",
       "<polyline clip-path=\"url(#clip610)\" style=\"stroke:#000000; stroke-linecap:butt; stroke-linejoin:round; stroke-width:4; stroke-opacity:1; fill:none\" points=\"\n",
       "  977.536,1486.45 977.536,1467.55 \n",
       "  \"/>\n",
       "<polyline clip-path=\"url(#clip610)\" style=\"stroke:#000000; stroke-linecap:butt; stroke-linejoin:round; stroke-width:4; stroke-opacity:1; fill:none\" points=\"\n",
       "  1269.51,1486.45 1269.51,1467.55 \n",
       "  \"/>\n",
       "<polyline clip-path=\"url(#clip610)\" style=\"stroke:#000000; stroke-linecap:butt; stroke-linejoin:round; stroke-width:4; stroke-opacity:1; fill:none\" points=\"\n",
       "  1561.49,1486.45 1561.49,1467.55 \n",
       "  \"/>\n",
       "<polyline clip-path=\"url(#clip610)\" style=\"stroke:#000000; stroke-linecap:butt; stroke-linejoin:round; stroke-width:4; stroke-opacity:1; fill:none\" points=\"\n",
       "  1853.47,1486.45 1853.47,1467.55 \n",
       "  \"/>\n",
       "<polyline clip-path=\"url(#clip610)\" style=\"stroke:#000000; stroke-linecap:butt; stroke-linejoin:round; stroke-width:4; stroke-opacity:1; fill:none\" points=\"\n",
       "  2145.45,1486.45 2145.45,1467.55 \n",
       "  \"/>\n",
       "<path clip-path=\"url(#clip610)\" d=\"M388.232 1544.91 L404.551 1544.91 L404.551 1548.85 L382.607 1548.85 L382.607 1544.91 Q385.269 1542.16 389.852 1537.53 Q394.458 1532.88 395.639 1531.53 Q397.884 1529.01 398.764 1527.27 Q399.667 1525.51 399.667 1523.82 Q399.667 1521.07 397.722 1519.33 Q395.801 1517.6 392.699 1517.6 Q390.5 1517.6 388.046 1518.36 Q385.616 1519.13 382.838 1520.68 L382.838 1515.95 Q385.662 1514.82 388.116 1514.24 Q390.57 1513.66 392.607 1513.66 Q397.977 1513.66 401.171 1516.35 Q404.366 1519.03 404.366 1523.52 Q404.366 1525.65 403.556 1527.57 Q402.769 1529.47 400.662 1532.07 Q400.083 1532.74 396.982 1535.95 Q393.88 1539.15 388.232 1544.91 Z\" fill=\"#000000\" fill-rule=\"evenodd\" fill-opacity=\"1\" /><path clip-path=\"url(#clip610)\" d=\"M688.567 1518.36 L676.761 1536.81 L688.567 1536.81 L688.567 1518.36 M687.34 1514.29 L693.22 1514.29 L693.22 1536.81 L698.15 1536.81 L698.15 1540.7 L693.22 1540.7 L693.22 1548.85 L688.567 1548.85 L688.567 1540.7 L672.965 1540.7 L672.965 1536.19 L687.34 1514.29 Z\" fill=\"#000000\" fill-rule=\"evenodd\" fill-opacity=\"1\" /><path clip-path=\"url(#clip610)\" d=\"M977.941 1529.7 Q974.793 1529.7 972.941 1531.86 Q971.113 1534.01 971.113 1537.76 Q971.113 1541.49 972.941 1543.66 Q974.793 1545.82 977.941 1545.82 Q981.089 1545.82 982.918 1543.66 Q984.77 1541.49 984.77 1537.76 Q984.77 1534.01 982.918 1531.86 Q981.089 1529.7 977.941 1529.7 M987.224 1515.05 L987.224 1519.31 Q985.464 1518.48 983.659 1518.04 Q981.877 1517.6 980.117 1517.6 Q975.488 1517.6 973.034 1520.72 Q970.603 1523.85 970.256 1530.17 Q971.622 1528.15 973.682 1527.09 Q975.742 1526 978.219 1526 Q983.427 1526 986.437 1529.17 Q989.469 1532.32 989.469 1537.76 Q989.469 1543.08 986.321 1546.3 Q983.173 1549.52 977.941 1549.52 Q971.946 1549.52 968.775 1544.94 Q965.603 1540.33 965.603 1531.6 Q965.603 1523.41 969.492 1518.55 Q973.381 1513.66 979.932 1513.66 Q981.691 1513.66 983.474 1514.01 Q985.279 1514.36 987.224 1515.05 Z\" fill=\"#000000\" fill-rule=\"evenodd\" fill-opacity=\"1\" /><path clip-path=\"url(#clip610)\" d=\"M1269.51 1532.44 Q1266.18 1532.44 1264.26 1534.22 Q1262.36 1536 1262.36 1539.13 Q1262.36 1542.25 1264.26 1544.03 Q1266.18 1545.82 1269.51 1545.82 Q1272.85 1545.82 1274.77 1544.03 Q1276.69 1542.23 1276.69 1539.13 Q1276.69 1536 1274.77 1534.22 Q1272.87 1532.44 1269.51 1532.44 M1264.84 1530.45 Q1261.83 1529.7 1260.14 1527.64 Q1258.47 1525.58 1258.47 1522.62 Q1258.47 1518.48 1261.41 1516.07 Q1264.38 1513.66 1269.51 1513.66 Q1274.68 1513.66 1277.62 1516.07 Q1280.56 1518.48 1280.56 1522.62 Q1280.56 1525.58 1278.87 1527.64 Q1277.2 1529.7 1274.21 1530.45 Q1277.59 1531.23 1279.47 1533.52 Q1281.37 1535.82 1281.37 1539.13 Q1281.37 1544.15 1278.29 1546.83 Q1275.23 1549.52 1269.51 1549.52 Q1263.8 1549.52 1260.72 1546.83 Q1257.66 1544.15 1257.66 1539.13 Q1257.66 1535.82 1259.56 1533.52 Q1261.46 1531.23 1264.84 1530.45 M1263.13 1523.06 Q1263.13 1525.75 1264.79 1527.25 Q1266.48 1528.76 1269.51 1528.76 Q1272.52 1528.76 1274.21 1527.25 Q1275.93 1525.75 1275.93 1523.06 Q1275.93 1520.38 1274.21 1518.87 Q1272.52 1517.37 1269.51 1517.37 Q1266.48 1517.37 1264.79 1518.87 Q1263.13 1520.38 1263.13 1523.06 Z\" fill=\"#000000\" fill-rule=\"evenodd\" fill-opacity=\"1\" /><path clip-path=\"url(#clip610)\" d=\"M1536.18 1544.91 L1543.82 1544.91 L1543.82 1518.55 L1535.51 1520.21 L1535.51 1515.95 L1543.77 1514.29 L1548.45 1514.29 L1548.45 1544.91 L1556.09 1544.91 L1556.09 1548.85 L1536.18 1548.85 L1536.18 1544.91 Z\" fill=\"#000000\" fill-rule=\"evenodd\" fill-opacity=\"1\" /><path clip-path=\"url(#clip610)\" d=\"M1575.53 1517.37 Q1571.92 1517.37 1570.09 1520.93 Q1568.29 1524.47 1568.29 1531.6 Q1568.29 1538.71 1570.09 1542.27 Q1571.92 1545.82 1575.53 1545.82 Q1579.17 1545.82 1580.97 1542.27 Q1582.8 1538.71 1582.8 1531.6 Q1582.8 1524.47 1580.97 1520.93 Q1579.17 1517.37 1575.53 1517.37 M1575.53 1513.66 Q1581.34 1513.66 1584.4 1518.27 Q1587.48 1522.85 1587.48 1531.6 Q1587.48 1540.33 1584.4 1544.94 Q1581.34 1549.52 1575.53 1549.52 Q1569.72 1549.52 1566.64 1544.94 Q1563.59 1540.33 1563.59 1531.6 Q1563.59 1522.85 1566.64 1518.27 Q1569.72 1513.66 1575.53 1513.66 Z\" fill=\"#000000\" fill-rule=\"evenodd\" fill-opacity=\"1\" /><path clip-path=\"url(#clip610)\" d=\"M1828.96 1544.91 L1836.6 1544.91 L1836.6 1518.55 L1828.29 1520.21 L1828.29 1515.95 L1836.55 1514.29 L1841.23 1514.29 L1841.23 1544.91 L1848.87 1544.91 L1848.87 1548.85 L1828.96 1548.85 L1828.96 1544.91 Z\" fill=\"#000000\" fill-rule=\"evenodd\" fill-opacity=\"1\" /><path clip-path=\"url(#clip610)\" d=\"M1862.34 1544.91 L1878.66 1544.91 L1878.66 1548.85 L1856.71 1548.85 L1856.71 1544.91 Q1859.38 1542.16 1863.96 1537.53 Q1868.56 1532.88 1869.75 1531.53 Q1871.99 1529.01 1872.87 1527.27 Q1873.77 1525.51 1873.77 1523.82 Q1873.77 1521.07 1871.83 1519.33 Q1869.91 1517.6 1866.81 1517.6 Q1864.61 1517.6 1862.15 1518.36 Q1859.72 1519.13 1856.94 1520.68 L1856.94 1515.95 Q1859.77 1514.82 1862.22 1514.24 Q1864.68 1513.66 1866.71 1513.66 Q1872.08 1513.66 1875.28 1516.35 Q1878.47 1519.03 1878.47 1523.52 Q1878.47 1525.65 1877.66 1527.57 Q1876.87 1529.47 1874.77 1532.07 Q1874.19 1532.74 1871.09 1535.95 Q1867.99 1539.15 1862.34 1544.91 Z\" fill=\"#000000\" fill-rule=\"evenodd\" fill-opacity=\"1\" /><path clip-path=\"url(#clip610)\" d=\"M2119.9 1544.91 L2127.53 1544.91 L2127.53 1518.55 L2119.22 1520.21 L2119.22 1515.95 L2127.49 1514.29 L2132.16 1514.29 L2132.16 1544.91 L2139.8 1544.91 L2139.8 1548.85 L2119.9 1548.85 L2119.9 1544.91 Z\" fill=\"#000000\" fill-rule=\"evenodd\" fill-opacity=\"1\" /><path clip-path=\"url(#clip610)\" d=\"M2162.09 1518.36 L2150.29 1536.81 L2162.09 1536.81 L2162.09 1518.36 M2160.87 1514.29 L2166.75 1514.29 L2166.75 1536.81 L2171.68 1536.81 L2171.68 1540.7 L2166.75 1540.7 L2166.75 1548.85 L2162.09 1548.85 L2162.09 1540.7 L2146.49 1540.7 L2146.49 1536.19 L2160.87 1514.29 Z\" fill=\"#000000\" fill-rule=\"evenodd\" fill-opacity=\"1\" /><polyline clip-path=\"url(#clip612)\" style=\"stroke:#000000; stroke-linecap:butt; stroke-linejoin:round; stroke-width:2; stroke-opacity:0.1; fill:none\" points=\"\n",
       "  186.274,1483.74 2352.76,1483.74 \n",
       "  \"/>\n",
       "<polyline clip-path=\"url(#clip612)\" style=\"stroke:#000000; stroke-linecap:butt; stroke-linejoin:round; stroke-width:2; stroke-opacity:0.1; fill:none\" points=\"\n",
       "  186.274,1145.56 2352.76,1145.56 \n",
       "  \"/>\n",
       "<polyline clip-path=\"url(#clip612)\" style=\"stroke:#000000; stroke-linecap:butt; stroke-linejoin:round; stroke-width:2; stroke-opacity:0.1; fill:none\" points=\"\n",
       "  186.274,807.381 2352.76,807.381 \n",
       "  \"/>\n",
       "<polyline clip-path=\"url(#clip612)\" style=\"stroke:#000000; stroke-linecap:butt; stroke-linejoin:round; stroke-width:2; stroke-opacity:0.1; fill:none\" points=\"\n",
       "  186.274,469.201 2352.76,469.201 \n",
       "  \"/>\n",
       "<polyline clip-path=\"url(#clip612)\" style=\"stroke:#000000; stroke-linecap:butt; stroke-linejoin:round; stroke-width:2; stroke-opacity:0.1; fill:none\" points=\"\n",
       "  186.274,131.021 2352.76,131.021 \n",
       "  \"/>\n",
       "<polyline clip-path=\"url(#clip610)\" style=\"stroke:#000000; stroke-linecap:butt; stroke-linejoin:round; stroke-width:4; stroke-opacity:1; fill:none\" points=\"\n",
       "  186.274,1486.45 186.274,123.472 \n",
       "  \"/>\n",
       "<polyline clip-path=\"url(#clip610)\" style=\"stroke:#000000; stroke-linecap:butt; stroke-linejoin:round; stroke-width:4; stroke-opacity:1; fill:none\" points=\"\n",
       "  186.274,1483.74 205.172,1483.74 \n",
       "  \"/>\n",
       "<polyline clip-path=\"url(#clip610)\" style=\"stroke:#000000; stroke-linecap:butt; stroke-linejoin:round; stroke-width:4; stroke-opacity:1; fill:none\" points=\"\n",
       "  186.274,1145.56 205.172,1145.56 \n",
       "  \"/>\n",
       "<polyline clip-path=\"url(#clip610)\" style=\"stroke:#000000; stroke-linecap:butt; stroke-linejoin:round; stroke-width:4; stroke-opacity:1; fill:none\" points=\"\n",
       "  186.274,807.381 205.172,807.381 \n",
       "  \"/>\n",
       "<polyline clip-path=\"url(#clip610)\" style=\"stroke:#000000; stroke-linecap:butt; stroke-linejoin:round; stroke-width:4; stroke-opacity:1; fill:none\" points=\"\n",
       "  186.274,469.201 205.172,469.201 \n",
       "  \"/>\n",
       "<polyline clip-path=\"url(#clip610)\" style=\"stroke:#000000; stroke-linecap:butt; stroke-linejoin:round; stroke-width:4; stroke-opacity:1; fill:none\" points=\"\n",
       "  186.274,131.021 205.172,131.021 \n",
       "  \"/>\n",
       "<path clip-path=\"url(#clip610)\" d=\"M62.9365 1469.54 Q59.3254 1469.54 57.4967 1473.11 Q55.6912 1476.65 55.6912 1483.78 Q55.6912 1490.88 57.4967 1494.45 Q59.3254 1497.99 62.9365 1497.99 Q66.5707 1497.99 68.3763 1494.45 Q70.205 1490.88 70.205 1483.78 Q70.205 1476.65 68.3763 1473.11 Q66.5707 1469.54 62.9365 1469.54 M62.9365 1465.84 Q68.7467 1465.84 71.8022 1470.44 Q74.8809 1475.03 74.8809 1483.78 Q74.8809 1492.5 71.8022 1497.11 Q68.7467 1501.69 62.9365 1501.69 Q57.1264 1501.69 54.0477 1497.11 Q50.9921 1492.5 50.9921 1483.78 Q50.9921 1475.03 54.0477 1470.44 Q57.1264 1465.84 62.9365 1465.84 Z\" fill=\"#000000\" fill-rule=\"evenodd\" fill-opacity=\"1\" /><path clip-path=\"url(#clip610)\" d=\"M83.0984 1495.14 L87.9827 1495.14 L87.9827 1501.02 L83.0984 1501.02 L83.0984 1495.14 Z\" fill=\"#000000\" fill-rule=\"evenodd\" fill-opacity=\"1\" /><path clip-path=\"url(#clip610)\" d=\"M108.168 1469.54 Q104.557 1469.54 102.728 1473.11 Q100.922 1476.65 100.922 1483.78 Q100.922 1490.88 102.728 1494.45 Q104.557 1497.99 108.168 1497.99 Q111.802 1497.99 113.608 1494.45 Q115.436 1490.88 115.436 1483.78 Q115.436 1476.65 113.608 1473.11 Q111.802 1469.54 108.168 1469.54 M108.168 1465.84 Q113.978 1465.84 117.033 1470.44 Q120.112 1475.03 120.112 1483.78 Q120.112 1492.5 117.033 1497.11 Q113.978 1501.69 108.168 1501.69 Q102.358 1501.69 99.2789 1497.11 Q96.2234 1492.5 96.2234 1483.78 Q96.2234 1475.03 99.2789 1470.44 Q102.358 1465.84 108.168 1465.84 Z\" fill=\"#000000\" fill-rule=\"evenodd\" fill-opacity=\"1\" /><path clip-path=\"url(#clip610)\" d=\"M138.33 1469.54 Q134.719 1469.54 132.89 1473.11 Q131.084 1476.65 131.084 1483.78 Q131.084 1490.88 132.89 1494.45 Q134.719 1497.99 138.33 1497.99 Q141.964 1497.99 143.769 1494.45 Q145.598 1490.88 145.598 1483.78 Q145.598 1476.65 143.769 1473.11 Q141.964 1469.54 138.33 1469.54 M138.33 1465.84 Q144.14 1465.84 147.195 1470.44 Q150.274 1475.03 150.274 1483.78 Q150.274 1492.5 147.195 1497.11 Q144.14 1501.69 138.33 1501.69 Q132.519 1501.69 129.441 1497.11 Q126.385 1492.5 126.385 1483.78 Q126.385 1475.03 129.441 1470.44 Q132.519 1465.84 138.33 1465.84 Z\" fill=\"#000000\" fill-rule=\"evenodd\" fill-opacity=\"1\" /><path clip-path=\"url(#clip610)\" d=\"M63.9319 1131.36 Q60.3208 1131.36 58.4921 1134.92 Q56.6865 1138.47 56.6865 1145.6 Q56.6865 1152.7 58.4921 1156.27 Q60.3208 1159.81 63.9319 1159.81 Q67.5661 1159.81 69.3717 1156.27 Q71.2004 1152.7 71.2004 1145.6 Q71.2004 1138.47 69.3717 1134.92 Q67.5661 1131.36 63.9319 1131.36 M63.9319 1127.66 Q69.742 1127.66 72.7976 1132.26 Q75.8763 1136.85 75.8763 1145.6 Q75.8763 1154.32 72.7976 1158.93 Q69.742 1163.51 63.9319 1163.51 Q58.1217 1163.51 55.043 1158.93 Q51.9875 1154.32 51.9875 1145.6 Q51.9875 1136.85 55.043 1132.26 Q58.1217 1127.66 63.9319 1127.66 Z\" fill=\"#000000\" fill-rule=\"evenodd\" fill-opacity=\"1\" /><path clip-path=\"url(#clip610)\" d=\"M84.0938 1156.96 L88.978 1156.96 L88.978 1162.84 L84.0938 1162.84 L84.0938 1156.96 Z\" fill=\"#000000\" fill-rule=\"evenodd\" fill-opacity=\"1\" /><path clip-path=\"url(#clip610)\" d=\"M103.191 1158.91 L119.51 1158.91 L119.51 1162.84 L97.566 1162.84 L97.566 1158.91 Q100.228 1156.15 104.811 1151.52 Q109.418 1146.87 110.598 1145.53 Q112.844 1143 113.723 1141.27 Q114.626 1139.51 114.626 1137.82 Q114.626 1135.06 112.682 1133.33 Q110.76 1131.59 107.658 1131.59 Q105.459 1131.59 103.006 1132.36 Q100.575 1133.12 97.7974 1134.67 L97.7974 1129.95 Q100.621 1128.81 103.075 1128.24 Q105.529 1127.66 107.566 1127.66 Q112.936 1127.66 116.131 1130.34 Q119.325 1133.03 119.325 1137.52 Q119.325 1139.65 118.515 1141.57 Q117.728 1143.47 115.621 1146.06 Q115.043 1146.73 111.941 1149.95 Q108.839 1153.14 103.191 1158.91 Z\" fill=\"#000000\" fill-rule=\"evenodd\" fill-opacity=\"1\" /><path clip-path=\"url(#clip610)\" d=\"M129.371 1128.28 L147.728 1128.28 L147.728 1132.22 L133.654 1132.22 L133.654 1140.69 Q134.672 1140.34 135.691 1140.18 Q136.709 1139.99 137.728 1139.99 Q143.515 1139.99 146.894 1143.17 Q150.274 1146.34 150.274 1151.75 Q150.274 1157.33 146.802 1160.43 Q143.33 1163.51 137.01 1163.51 Q134.834 1163.51 132.566 1163.14 Q130.32 1162.77 127.913 1162.03 L127.913 1157.33 Q129.996 1158.47 132.219 1159.02 Q134.441 1159.58 136.918 1159.58 Q140.922 1159.58 143.26 1157.47 Q145.598 1155.36 145.598 1151.75 Q145.598 1148.14 143.26 1146.04 Q140.922 1143.93 136.918 1143.93 Q135.043 1143.93 133.168 1144.35 Q131.316 1144.76 129.371 1145.64 L129.371 1128.28 Z\" fill=\"#000000\" fill-rule=\"evenodd\" fill-opacity=\"1\" /><path clip-path=\"url(#clip610)\" d=\"M62.9365 793.18 Q59.3254 793.18 57.4967 796.745 Q55.6912 800.286 55.6912 807.416 Q55.6912 814.522 57.4967 818.087 Q59.3254 821.629 62.9365 821.629 Q66.5707 821.629 68.3763 818.087 Q70.205 814.522 70.205 807.416 Q70.205 800.286 68.3763 796.745 Q66.5707 793.18 62.9365 793.18 M62.9365 789.476 Q68.7467 789.476 71.8022 794.083 Q74.8809 798.666 74.8809 807.416 Q74.8809 816.143 71.8022 820.749 Q68.7467 825.333 62.9365 825.333 Q57.1264 825.333 54.0477 820.749 Q50.9921 816.143 50.9921 807.416 Q50.9921 798.666 54.0477 794.083 Q57.1264 789.476 62.9365 789.476 Z\" fill=\"#000000\" fill-rule=\"evenodd\" fill-opacity=\"1\" /><path clip-path=\"url(#clip610)\" d=\"M83.0984 818.782 L87.9827 818.782 L87.9827 824.661 L83.0984 824.661 L83.0984 818.782 Z\" fill=\"#000000\" fill-rule=\"evenodd\" fill-opacity=\"1\" /><path clip-path=\"url(#clip610)\" d=\"M98.2141 790.101 L116.57 790.101 L116.57 794.036 L102.496 794.036 L102.496 802.509 Q103.515 802.161 104.534 801.999 Q105.552 801.814 106.571 801.814 Q112.358 801.814 115.737 804.986 Q119.117 808.157 119.117 813.573 Q119.117 819.152 115.645 822.254 Q112.172 825.333 105.853 825.333 Q103.677 825.333 101.409 824.962 Q99.1632 824.592 96.7558 823.851 L96.7558 819.152 Q98.8391 820.286 101.061 820.842 Q103.284 821.397 105.76 821.397 Q109.765 821.397 112.103 819.291 Q114.441 817.185 114.441 813.573 Q114.441 809.962 112.103 807.856 Q109.765 805.749 105.76 805.749 Q103.885 805.749 102.01 806.166 Q100.159 806.583 98.2141 807.462 L98.2141 790.101 Z\" fill=\"#000000\" fill-rule=\"evenodd\" fill-opacity=\"1\" /><path clip-path=\"url(#clip610)\" d=\"M138.33 793.18 Q134.719 793.18 132.89 796.745 Q131.084 800.286 131.084 807.416 Q131.084 814.522 132.89 818.087 Q134.719 821.629 138.33 821.629 Q141.964 821.629 143.769 818.087 Q145.598 814.522 145.598 807.416 Q145.598 800.286 143.769 796.745 Q141.964 793.18 138.33 793.18 M138.33 789.476 Q144.14 789.476 147.195 794.083 Q150.274 798.666 150.274 807.416 Q150.274 816.143 147.195 820.749 Q144.14 825.333 138.33 825.333 Q132.519 825.333 129.441 820.749 Q126.385 816.143 126.385 807.416 Q126.385 798.666 129.441 794.083 Q132.519 789.476 138.33 789.476 Z\" fill=\"#000000\" fill-rule=\"evenodd\" fill-opacity=\"1\" /><path clip-path=\"url(#clip610)\" d=\"M63.9319 455 Q60.3208 455 58.4921 458.565 Q56.6865 462.106 56.6865 469.236 Q56.6865 476.342 58.4921 479.907 Q60.3208 483.449 63.9319 483.449 Q67.5661 483.449 69.3717 479.907 Q71.2004 476.342 71.2004 469.236 Q71.2004 462.106 69.3717 458.565 Q67.5661 455 63.9319 455 M63.9319 451.296 Q69.742 451.296 72.7976 455.903 Q75.8763 460.486 75.8763 469.236 Q75.8763 477.963 72.7976 482.569 Q69.742 487.153 63.9319 487.153 Q58.1217 487.153 55.043 482.569 Q51.9875 477.963 51.9875 469.236 Q51.9875 460.486 55.043 455.903 Q58.1217 451.296 63.9319 451.296 Z\" fill=\"#000000\" fill-rule=\"evenodd\" fill-opacity=\"1\" /><path clip-path=\"url(#clip610)\" d=\"M84.0938 480.602 L88.978 480.602 L88.978 486.481 L84.0938 486.481 L84.0938 480.602 Z\" fill=\"#000000\" fill-rule=\"evenodd\" fill-opacity=\"1\" /><path clip-path=\"url(#clip610)\" d=\"M97.9826 451.921 L120.205 451.921 L120.205 453.912 L107.658 486.481 L102.774 486.481 L114.58 455.856 L97.9826 455.856 L97.9826 451.921 Z\" fill=\"#000000\" fill-rule=\"evenodd\" fill-opacity=\"1\" /><path clip-path=\"url(#clip610)\" d=\"M129.371 451.921 L147.728 451.921 L147.728 455.856 L133.654 455.856 L133.654 464.329 Q134.672 463.981 135.691 463.819 Q136.709 463.634 137.728 463.634 Q143.515 463.634 146.894 466.805 Q150.274 469.977 150.274 475.393 Q150.274 480.972 146.802 484.074 Q143.33 487.153 137.01 487.153 Q134.834 487.153 132.566 486.782 Q130.32 486.412 127.913 485.671 L127.913 480.972 Q129.996 482.106 132.219 482.662 Q134.441 483.217 136.918 483.217 Q140.922 483.217 143.26 481.111 Q145.598 479.004 145.598 475.393 Q145.598 471.782 143.26 469.676 Q140.922 467.569 136.918 467.569 Q135.043 467.569 133.168 467.986 Q131.316 468.403 129.371 469.282 L129.371 451.921 Z\" fill=\"#000000\" fill-rule=\"evenodd\" fill-opacity=\"1\" /><path clip-path=\"url(#clip610)\" d=\"M53.7467 144.366 L61.3856 144.366 L61.3856 118 L53.0754 119.667 L53.0754 115.408 L61.3393 113.741 L66.0152 113.741 L66.0152 144.366 L73.654 144.366 L73.654 148.301 L53.7467 148.301 L53.7467 144.366 Z\" fill=\"#000000\" fill-rule=\"evenodd\" fill-opacity=\"1\" /><path clip-path=\"url(#clip610)\" d=\"M83.0984 142.422 L87.9827 142.422 L87.9827 148.301 L83.0984 148.301 L83.0984 142.422 Z\" fill=\"#000000\" fill-rule=\"evenodd\" fill-opacity=\"1\" /><path clip-path=\"url(#clip610)\" d=\"M108.168 116.82 Q104.557 116.82 102.728 120.385 Q100.922 123.926 100.922 131.056 Q100.922 138.162 102.728 141.727 Q104.557 145.269 108.168 145.269 Q111.802 145.269 113.608 141.727 Q115.436 138.162 115.436 131.056 Q115.436 123.926 113.608 120.385 Q111.802 116.82 108.168 116.82 M108.168 113.116 Q113.978 113.116 117.033 117.723 Q120.112 122.306 120.112 131.056 Q120.112 139.783 117.033 144.389 Q113.978 148.972 108.168 148.972 Q102.358 148.972 99.2789 144.389 Q96.2234 139.783 96.2234 131.056 Q96.2234 122.306 99.2789 117.723 Q102.358 113.116 108.168 113.116 Z\" fill=\"#000000\" fill-rule=\"evenodd\" fill-opacity=\"1\" /><path clip-path=\"url(#clip610)\" d=\"M138.33 116.82 Q134.719 116.82 132.89 120.385 Q131.084 123.926 131.084 131.056 Q131.084 138.162 132.89 141.727 Q134.719 145.269 138.33 145.269 Q141.964 145.269 143.769 141.727 Q145.598 138.162 145.598 131.056 Q145.598 123.926 143.769 120.385 Q141.964 116.82 138.33 116.82 M138.33 113.116 Q144.14 113.116 147.195 117.723 Q150.274 122.306 150.274 131.056 Q150.274 139.783 147.195 144.389 Q144.14 148.972 138.33 148.972 Q132.519 148.972 129.441 144.389 Q126.385 139.783 126.385 131.056 Q126.385 122.306 129.441 117.723 Q132.519 113.116 138.33 113.116 Z\" fill=\"#000000\" fill-rule=\"evenodd\" fill-opacity=\"1\" /><path clip-path=\"url(#clip610)\" d=\"M1134.05 44.2197 Q1136.69 45.1109 1139.16 48.0275 Q1141.67 50.9442 1144.18 56.0483 L1152.48 72.576 L1143.69 72.576 L1135.96 57.061 Q1132.96 50.9847 1130.12 48.9997 Q1127.33 47.0148 1122.47 47.0148 L1113.56 47.0148 L1113.56 72.576 L1105.37 72.576 L1105.37 12.096 L1123.84 12.096 Q1134.21 12.096 1139.32 16.4305 Q1144.42 20.7649 1144.42 29.5149 Q1144.42 35.2267 1141.75 38.994 Q1139.12 42.7613 1134.05 44.2197 M1113.56 18.8205 L1113.56 40.2903 L1123.84 40.2903 Q1129.76 40.2903 1132.76 37.5762 Q1135.79 34.8216 1135.79 29.5149 Q1135.79 24.2082 1132.76 21.5346 Q1129.76 18.8205 1123.84 18.8205 L1113.56 18.8205 Z\" fill=\"#000000\" fill-rule=\"evenodd\" fill-opacity=\"1\" /><path clip-path=\"url(#clip610)\" d=\"M1181.49 49.7694 Q1172.46 49.7694 1168.97 51.8354 Q1165.49 53.9013 1165.49 58.8839 Q1165.49 62.8538 1168.08 65.2034 Q1170.71 67.5124 1175.21 67.5124 Q1181.41 67.5124 1185.13 63.1374 Q1188.9 58.7219 1188.9 51.4303 L1188.9 49.7694 L1181.49 49.7694 M1196.36 46.6907 L1196.36 72.576 L1188.9 72.576 L1188.9 65.6895 Q1186.35 69.8214 1182.54 71.8063 Q1178.73 73.7508 1173.22 73.7508 Q1166.26 73.7508 1162.13 69.8619 Q1158.03 65.9325 1158.03 59.3701 Q1158.03 51.7138 1163.14 47.825 Q1168.28 43.9361 1178.45 43.9361 L1188.9 43.9361 L1188.9 43.2069 Q1188.9 38.0623 1185.5 35.2672 Q1182.14 32.4315 1176.02 32.4315 Q1172.13 32.4315 1168.44 33.3632 Q1164.76 34.295 1161.36 36.1584 L1161.36 29.2718 Q1165.45 27.692 1169.3 26.9223 Q1173.14 26.1121 1176.79 26.1121 Q1186.63 26.1121 1191.49 31.2163 Q1196.36 36.3204 1196.36 46.6907 Z\" fill=\"#000000\" fill-rule=\"evenodd\" fill-opacity=\"1\" /><path clip-path=\"url(#clip610)\" d=\"M1249.42 45.1919 L1249.42 72.576 L1241.97 72.576 L1241.97 45.4349 Q1241.97 38.994 1239.46 35.7938 Q1236.95 32.5936 1231.92 32.5936 Q1225.89 32.5936 1222.4 36.4419 Q1218.92 40.2903 1218.92 46.9338 L1218.92 72.576 L1211.42 72.576 L1211.42 27.2059 L1218.92 27.2059 L1218.92 34.2544 Q1221.59 30.163 1225.2 28.1376 Q1228.84 26.1121 1233.58 26.1121 Q1241.4 26.1121 1245.41 30.9732 Q1249.42 35.7938 1249.42 45.1919 Z\" fill=\"#000000\" fill-rule=\"evenodd\" fill-opacity=\"1\" /><path clip-path=\"url(#clip610)\" d=\"M1294.14 34.0924 L1294.14 9.54393 L1301.6 9.54393 L1301.6 72.576 L1294.14 72.576 L1294.14 65.7705 Q1291.79 69.8214 1288.19 71.8063 Q1284.62 73.7508 1279.6 73.7508 Q1271.38 73.7508 1266.19 67.1883 Q1261.05 60.6258 1261.05 49.9314 Q1261.05 39.2371 1266.19 32.6746 Q1271.38 26.1121 1279.6 26.1121 Q1284.62 26.1121 1288.19 28.0971 Q1291.79 30.0415 1294.14 34.0924 M1268.75 49.9314 Q1268.75 58.1548 1272.11 62.8538 Q1275.51 67.5124 1281.42 67.5124 Q1287.34 67.5124 1290.74 62.8538 Q1294.14 58.1548 1294.14 49.9314 Q1294.14 41.7081 1290.74 37.0496 Q1287.34 32.3505 1281.42 32.3505 Q1275.51 32.3505 1272.11 37.0496 Q1268.75 41.7081 1268.75 49.9314 Z\" fill=\"#000000\" fill-rule=\"evenodd\" fill-opacity=\"1\" /><path clip-path=\"url(#clip610)\" d=\"M1334.53 32.4315 Q1328.54 32.4315 1325.05 37.1306 Q1321.57 41.7891 1321.57 49.9314 Q1321.57 58.0738 1325.01 62.7728 Q1328.5 67.4314 1334.53 67.4314 Q1340.49 67.4314 1343.97 62.7323 Q1347.45 58.0333 1347.45 49.9314 Q1347.45 41.8701 1343.97 37.1711 Q1340.49 32.4315 1334.53 32.4315 M1334.53 26.1121 Q1344.25 26.1121 1349.8 32.4315 Q1355.35 38.7509 1355.35 49.9314 Q1355.35 61.0714 1349.8 67.4314 Q1344.25 73.7508 1334.53 73.7508 Q1324.77 73.7508 1319.22 67.4314 Q1313.71 61.0714 1313.71 49.9314 Q1313.71 38.7509 1319.22 32.4315 Q1324.77 26.1121 1334.53 26.1121 Z\" fill=\"#000000\" fill-rule=\"evenodd\" fill-opacity=\"1\" /><path clip-path=\"url(#clip610)\" d=\"M1403.03 35.9153 Q1405.83 30.8922 1409.72 28.5022 Q1413.61 26.1121 1418.87 26.1121 Q1425.96 26.1121 1429.81 31.0947 Q1433.66 36.0368 1433.66 45.1919 L1433.66 72.576 L1426.16 72.576 L1426.16 45.4349 Q1426.16 38.913 1423.85 35.7533 Q1421.55 32.5936 1416.81 32.5936 Q1411.01 32.5936 1407.65 36.4419 Q1404.29 40.2903 1404.29 46.9338 L1404.29 72.576 L1396.79 72.576 L1396.79 45.4349 Q1396.79 38.8725 1394.49 35.7533 Q1392.18 32.5936 1387.36 32.5936 Q1381.64 32.5936 1378.28 36.4824 Q1374.92 40.3308 1374.92 46.9338 L1374.92 72.576 L1367.43 72.576 L1367.43 27.2059 L1374.92 27.2059 L1374.92 34.2544 Q1377.47 30.082 1381.04 28.0971 Q1384.6 26.1121 1389.5 26.1121 Q1394.44 26.1121 1397.89 28.6237 Q1401.37 31.1352 1403.03 35.9153 Z\" fill=\"#000000\" fill-rule=\"evenodd\" fill-opacity=\"1\" /><polyline clip-path=\"url(#clip612)\" style=\"stroke:#009af9; stroke-linecap:butt; stroke-linejoin:round; stroke-width:4; stroke-opacity:1; fill:none\" points=\"\n",
       "  247.59,1305.24 393.579,1308.62 539.568,540.172 685.558,262.569 831.547,188.231 977.536,554.335 1123.53,1412.12 1269.51,1447.87 1415.5,1044.33 1561.49,1100.52 \n",
       "  1707.48,916.664 1853.47,452.482 1999.46,730.124 2145.45,162.047 2291.44,728.316 \n",
       "  \"/>\n",
       "<path clip-path=\"url(#clip610)\" d=\"\n",
       "M1808.5 272.585 L2280.54 272.585 L2280.54 168.905 L1808.5 168.905  Z\n",
       "  \" fill=\"#ffffff\" fill-rule=\"evenodd\" fill-opacity=\"1\"/>\n",
       "<polyline clip-path=\"url(#clip610)\" style=\"stroke:#000000; stroke-linecap:butt; stroke-linejoin:round; stroke-width:4; stroke-opacity:1; fill:none\" points=\"\n",
       "  1808.5,272.585 2280.54,272.585 2280.54,168.905 1808.5,168.905 1808.5,272.585 \n",
       "  \"/>\n",
       "<polyline clip-path=\"url(#clip610)\" style=\"stroke:#009af9; stroke-linecap:butt; stroke-linejoin:round; stroke-width:4; stroke-opacity:1; fill:none\" points=\"\n",
       "  1832.57,220.745 1977.01,220.745 \n",
       "  \"/>\n",
       "<path clip-path=\"url(#clip610)\" d=\"M2001.08 203.465 L2005.75 203.465 L2005.75 234.089 L2022.58 234.089 L2022.58 238.025 L2001.08 238.025 L2001.08 203.465 Z\" fill=\"#000000\" fill-rule=\"evenodd\" fill-opacity=\"1\" /><path clip-path=\"url(#clip610)\" d=\"M2027.3 212.099 L2031.56 212.099 L2031.56 238.025 L2027.3 238.025 L2027.3 212.099 M2027.3 202.006 L2031.56 202.006 L2031.56 207.4 L2027.3 207.4 L2027.3 202.006 Z\" fill=\"#000000\" fill-rule=\"evenodd\" fill-opacity=\"1\" /><path clip-path=\"url(#clip610)\" d=\"M2062.03 222.377 L2062.03 238.025 L2057.77 238.025 L2057.77 222.515 Q2057.77 218.835 2056.33 217.006 Q2054.9 215.178 2052.03 215.178 Q2048.58 215.178 2046.59 217.377 Q2044.6 219.576 2044.6 223.372 L2044.6 238.025 L2040.31 238.025 L2040.31 212.099 L2044.6 212.099 L2044.6 216.127 Q2046.12 213.789 2048.18 212.631 Q2050.27 211.474 2052.98 211.474 Q2057.44 211.474 2059.73 214.252 Q2062.03 217.006 2062.03 222.377 Z\" fill=\"#000000\" fill-rule=\"evenodd\" fill-opacity=\"1\" /><path clip-path=\"url(#clip610)\" d=\"M2092.7 223.997 L2092.7 226.08 L2073.11 226.08 Q2073.39 230.478 2075.75 232.793 Q2078.14 235.085 2082.37 235.085 Q2084.83 235.085 2087.12 234.483 Q2089.43 233.881 2091.7 232.677 L2091.7 236.705 Q2089.41 237.677 2087 238.187 Q2084.6 238.696 2082.12 238.696 Q2075.92 238.696 2072.28 235.085 Q2068.67 231.474 2068.67 225.316 Q2068.67 218.951 2072.1 215.224 Q2075.54 211.474 2081.38 211.474 Q2086.61 211.474 2089.64 214.853 Q2092.7 218.21 2092.7 223.997 M2088.44 222.747 Q2088.39 219.252 2086.47 217.168 Q2084.57 215.085 2081.42 215.085 Q2077.86 215.085 2075.71 217.099 Q2073.58 219.113 2073.25 222.77 L2088.44 222.747 Z\" fill=\"#000000\" fill-rule=\"evenodd\" fill-opacity=\"1\" /><path clip-path=\"url(#clip610)\" d=\"M2133.41 213.094 L2133.41 217.076 Q2131.61 216.08 2129.78 215.594 Q2127.98 215.085 2126.12 215.085 Q2121.98 215.085 2119.69 217.724 Q2117.4 220.34 2117.4 225.085 Q2117.4 229.83 2119.69 232.469 Q2121.98 235.085 2126.12 235.085 Q2127.98 235.085 2129.78 234.599 Q2131.61 234.089 2133.41 233.094 L2133.41 237.029 Q2131.63 237.863 2129.71 238.279 Q2127.81 238.696 2125.66 238.696 Q2119.8 238.696 2116.35 235.015 Q2112.91 231.335 2112.91 225.085 Q2112.91 218.742 2116.38 215.108 Q2119.87 211.474 2125.94 211.474 Q2127.91 211.474 2129.78 211.891 Q2131.66 212.284 2133.41 213.094 Z\" fill=\"#000000\" fill-rule=\"evenodd\" fill-opacity=\"1\" /><path clip-path=\"url(#clip610)\" d=\"M2162.37 222.377 L2162.37 238.025 L2158.11 238.025 L2158.11 222.515 Q2158.11 218.835 2156.68 217.006 Q2155.24 215.178 2152.37 215.178 Q2148.92 215.178 2146.93 217.377 Q2144.94 219.576 2144.94 223.372 L2144.94 238.025 L2140.66 238.025 L2140.66 202.006 L2144.94 202.006 L2144.94 216.127 Q2146.47 213.789 2148.53 212.631 Q2150.61 211.474 2153.32 211.474 Q2157.79 211.474 2160.08 214.252 Q2162.37 217.006 2162.37 222.377 Z\" fill=\"#000000\" fill-rule=\"evenodd\" fill-opacity=\"1\" /><path clip-path=\"url(#clip610)\" d=\"M2182.65 224.992 Q2177.49 224.992 2175.5 226.173 Q2173.51 227.353 2173.51 230.201 Q2173.51 232.469 2174.99 233.812 Q2176.49 235.131 2179.06 235.131 Q2182.6 235.131 2184.73 232.631 Q2186.89 230.108 2186.89 225.941 L2186.89 224.992 L2182.65 224.992 M2191.15 223.233 L2191.15 238.025 L2186.89 238.025 L2186.89 234.089 Q2185.43 236.451 2183.25 237.585 Q2181.08 238.696 2177.93 238.696 Q2173.95 238.696 2171.59 236.474 Q2169.25 234.228 2169.25 230.478 Q2169.25 226.103 2172.16 223.881 Q2175.1 221.659 2180.91 221.659 L2186.89 221.659 L2186.89 221.242 Q2186.89 218.303 2184.94 216.705 Q2183.02 215.085 2179.53 215.085 Q2177.3 215.085 2175.2 215.617 Q2173.09 216.15 2171.15 217.215 L2171.15 213.279 Q2173.48 212.377 2175.68 211.937 Q2177.88 211.474 2179.97 211.474 Q2185.59 211.474 2188.37 214.391 Q2191.15 217.307 2191.15 223.233 Z\" fill=\"#000000\" fill-rule=\"evenodd\" fill-opacity=\"1\" /><path clip-path=\"url(#clip610)\" d=\"M2214.94 216.08 Q2214.22 215.664 2213.37 215.478 Q2212.53 215.27 2211.52 215.27 Q2207.91 215.27 2205.96 217.631 Q2204.04 219.969 2204.04 224.367 L2204.04 238.025 L2199.76 238.025 L2199.76 212.099 L2204.04 212.099 L2204.04 216.127 Q2205.38 213.766 2207.53 212.631 Q2209.69 211.474 2212.77 211.474 Q2213.21 211.474 2213.74 211.543 Q2214.27 211.59 2214.92 211.705 L2214.94 216.08 Z\" fill=\"#000000\" fill-rule=\"evenodd\" fill-opacity=\"1\" /><path clip-path=\"url(#clip610)\" d=\"M2223.62 204.738 L2223.62 212.099 L2232.4 212.099 L2232.4 215.409 L2223.62 215.409 L2223.62 229.483 Q2223.62 232.654 2224.48 233.557 Q2225.36 234.46 2228.02 234.46 L2232.4 234.46 L2232.4 238.025 L2228.02 238.025 Q2223.09 238.025 2221.22 236.196 Q2219.34 234.344 2219.34 229.483 L2219.34 215.409 L2216.22 215.409 L2216.22 212.099 L2219.34 212.099 L2219.34 204.738 L2223.62 204.738 Z\" fill=\"#000000\" fill-rule=\"evenodd\" fill-opacity=\"1\" /></svg>\n"
      ]
     },
     "execution_count": 115,
     "metadata": {},
     "output_type": "execute_result"
    }
   ],
   "source": [
    "plot(x, y, title=\"Random\" , label = \"Line chart\")"
   ]
  },
  {
   "cell_type": "code",
   "execution_count": 116,
   "metadata": {},
   "outputs": [
    {
     "data": {
      "image/svg+xml": [
       "<?xml version=\"1.0\" encoding=\"utf-8\"?>\n",
       "<svg xmlns=\"http://www.w3.org/2000/svg\" xmlns:xlink=\"http://www.w3.org/1999/xlink\" width=\"600\" height=\"400\" viewBox=\"0 0 2400 1600\">\n",
       "<defs>\n",
       "  <clipPath id=\"clip650\">\n",
       "    <rect x=\"0\" y=\"0\" width=\"2400\" height=\"1600\"/>\n",
       "  </clipPath>\n",
       "</defs>\n",
       "<path clip-path=\"url(#clip650)\" d=\"\n",
       "M0 1600 L2400 1600 L2400 0 L0 0  Z\n",
       "  \" fill=\"#ffffff\" fill-rule=\"evenodd\" fill-opacity=\"1\"/>\n",
       "<defs>\n",
       "  <clipPath id=\"clip651\">\n",
       "    <rect x=\"480\" y=\"0\" width=\"1681\" height=\"1600\"/>\n",
       "  </clipPath>\n",
       "</defs>\n",
       "<path clip-path=\"url(#clip650)\" d=\"\n",
       "M249.542 1423.18 L2352.76 1423.18 L2352.76 47.2441 L249.542 47.2441  Z\n",
       "  \" fill=\"#ffffff\" fill-rule=\"evenodd\" fill-opacity=\"1\"/>\n",
       "<defs>\n",
       "  <clipPath id=\"clip652\">\n",
       "    <rect x=\"249\" y=\"47\" width=\"2104\" height=\"1377\"/>\n",
       "  </clipPath>\n",
       "</defs>\n",
       "<polyline clip-path=\"url(#clip652)\" style=\"stroke:#000000; stroke-linecap:butt; stroke-linejoin:round; stroke-width:2; stroke-opacity:0.1; fill:none\" points=\"\n",
       "  450.793,1423.18 450.793,47.2441 \n",
       "  \"/>\n",
       "<polyline clip-path=\"url(#clip652)\" style=\"stroke:#000000; stroke-linecap:butt; stroke-linejoin:round; stroke-width:2; stroke-opacity:0.1; fill:none\" points=\"\n",
       "  734.245,1423.18 734.245,47.2441 \n",
       "  \"/>\n",
       "<polyline clip-path=\"url(#clip652)\" style=\"stroke:#000000; stroke-linecap:butt; stroke-linejoin:round; stroke-width:2; stroke-opacity:0.1; fill:none\" points=\"\n",
       "  1017.7,1423.18 1017.7,47.2441 \n",
       "  \"/>\n",
       "<polyline clip-path=\"url(#clip652)\" style=\"stroke:#000000; stroke-linecap:butt; stroke-linejoin:round; stroke-width:2; stroke-opacity:0.1; fill:none\" points=\"\n",
       "  1301.15,1423.18 1301.15,47.2441 \n",
       "  \"/>\n",
       "<polyline clip-path=\"url(#clip652)\" style=\"stroke:#000000; stroke-linecap:butt; stroke-linejoin:round; stroke-width:2; stroke-opacity:0.1; fill:none\" points=\"\n",
       "  1584.6,1423.18 1584.6,47.2441 \n",
       "  \"/>\n",
       "<polyline clip-path=\"url(#clip652)\" style=\"stroke:#000000; stroke-linecap:butt; stroke-linejoin:round; stroke-width:2; stroke-opacity:0.1; fill:none\" points=\"\n",
       "  1868.05,1423.18 1868.05,47.2441 \n",
       "  \"/>\n",
       "<polyline clip-path=\"url(#clip652)\" style=\"stroke:#000000; stroke-linecap:butt; stroke-linejoin:round; stroke-width:2; stroke-opacity:0.1; fill:none\" points=\"\n",
       "  2151.5,1423.18 2151.5,47.2441 \n",
       "  \"/>\n",
       "<polyline clip-path=\"url(#clip650)\" style=\"stroke:#000000; stroke-linecap:butt; stroke-linejoin:round; stroke-width:4; stroke-opacity:1; fill:none\" points=\"\n",
       "  249.542,1423.18 2352.76,1423.18 \n",
       "  \"/>\n",
       "<polyline clip-path=\"url(#clip650)\" style=\"stroke:#000000; stroke-linecap:butt; stroke-linejoin:round; stroke-width:4; stroke-opacity:1; fill:none\" points=\"\n",
       "  450.793,1423.18 450.793,1404.28 \n",
       "  \"/>\n",
       "<polyline clip-path=\"url(#clip650)\" style=\"stroke:#000000; stroke-linecap:butt; stroke-linejoin:round; stroke-width:4; stroke-opacity:1; fill:none\" points=\"\n",
       "  734.245,1423.18 734.245,1404.28 \n",
       "  \"/>\n",
       "<polyline clip-path=\"url(#clip650)\" style=\"stroke:#000000; stroke-linecap:butt; stroke-linejoin:round; stroke-width:4; stroke-opacity:1; fill:none\" points=\"\n",
       "  1017.7,1423.18 1017.7,1404.28 \n",
       "  \"/>\n",
       "<polyline clip-path=\"url(#clip650)\" style=\"stroke:#000000; stroke-linecap:butt; stroke-linejoin:round; stroke-width:4; stroke-opacity:1; fill:none\" points=\"\n",
       "  1301.15,1423.18 1301.15,1404.28 \n",
       "  \"/>\n",
       "<polyline clip-path=\"url(#clip650)\" style=\"stroke:#000000; stroke-linecap:butt; stroke-linejoin:round; stroke-width:4; stroke-opacity:1; fill:none\" points=\"\n",
       "  1584.6,1423.18 1584.6,1404.28 \n",
       "  \"/>\n",
       "<polyline clip-path=\"url(#clip650)\" style=\"stroke:#000000; stroke-linecap:butt; stroke-linejoin:round; stroke-width:4; stroke-opacity:1; fill:none\" points=\"\n",
       "  1868.05,1423.18 1868.05,1404.28 \n",
       "  \"/>\n",
       "<polyline clip-path=\"url(#clip650)\" style=\"stroke:#000000; stroke-linecap:butt; stroke-linejoin:round; stroke-width:4; stroke-opacity:1; fill:none\" points=\"\n",
       "  2151.5,1423.18 2151.5,1404.28 \n",
       "  \"/>\n",
       "<path clip-path=\"url(#clip650)\" d=\"M445.446 1481.64 L461.765 1481.64 L461.765 1485.58 L439.821 1485.58 L439.821 1481.64 Q442.483 1478.89 447.066 1474.26 Q451.673 1469.61 452.853 1468.27 Q455.098 1465.74 455.978 1464.01 Q456.881 1462.25 456.881 1460.56 Q456.881 1457.8 454.936 1456.07 Q453.015 1454.33 449.913 1454.33 Q447.714 1454.33 445.261 1455.09 Q442.83 1455.86 440.052 1457.41 L440.052 1452.69 Q442.876 1451.55 445.33 1450.97 Q447.784 1450.39 449.821 1450.39 Q455.191 1450.39 458.386 1453.08 Q461.58 1455.77 461.58 1460.26 Q461.58 1462.39 460.77 1464.31 Q459.983 1466.2 457.876 1468.8 Q457.298 1469.47 454.196 1472.69 Q451.094 1475.88 445.446 1481.64 Z\" fill=\"#000000\" fill-rule=\"evenodd\" fill-opacity=\"1\" /><path clip-path=\"url(#clip650)\" d=\"M737.254 1455.09 L725.449 1473.54 L737.254 1473.54 L737.254 1455.09 M736.027 1451.02 L741.907 1451.02 L741.907 1473.54 L746.837 1473.54 L746.837 1477.43 L741.907 1477.43 L741.907 1485.58 L737.254 1485.58 L737.254 1477.43 L721.652 1477.43 L721.652 1472.92 L736.027 1451.02 Z\" fill=\"#000000\" fill-rule=\"evenodd\" fill-opacity=\"1\" /><path clip-path=\"url(#clip650)\" d=\"M1018.1 1466.44 Q1014.95 1466.44 1013.1 1468.59 Q1011.27 1470.74 1011.27 1474.49 Q1011.27 1478.22 1013.1 1480.39 Q1014.95 1482.55 1018.1 1482.55 Q1021.25 1482.55 1023.08 1480.39 Q1024.93 1478.22 1024.93 1474.49 Q1024.93 1470.74 1023.08 1468.59 Q1021.25 1466.44 1018.1 1466.44 M1027.38 1451.78 L1027.38 1456.04 Q1025.63 1455.21 1023.82 1454.77 Q1022.04 1454.33 1020.28 1454.33 Q1015.65 1454.33 1013.19 1457.45 Q1010.76 1460.58 1010.42 1466.9 Q1011.78 1464.89 1013.84 1463.82 Q1015.9 1462.73 1018.38 1462.73 Q1023.59 1462.73 1026.6 1465.9 Q1029.63 1469.05 1029.63 1474.49 Q1029.63 1479.82 1026.48 1483.03 Q1023.33 1486.25 1018.1 1486.25 Q1012.11 1486.25 1008.94 1481.67 Q1005.76 1477.06 1005.76 1468.33 Q1005.76 1460.14 1009.65 1455.28 Q1013.54 1450.39 1020.09 1450.39 Q1021.85 1450.39 1023.63 1450.74 Q1025.44 1451.09 1027.38 1451.78 Z\" fill=\"#000000\" fill-rule=\"evenodd\" fill-opacity=\"1\" /><path clip-path=\"url(#clip650)\" d=\"M1301.15 1469.17 Q1297.82 1469.17 1295.89 1470.95 Q1294 1472.73 1294 1475.86 Q1294 1478.98 1295.89 1480.77 Q1297.82 1482.55 1301.15 1482.55 Q1304.48 1482.55 1306.4 1480.77 Q1308.32 1478.96 1308.32 1475.86 Q1308.32 1472.73 1306.4 1470.95 Q1304.51 1469.17 1301.15 1469.17 M1296.47 1467.18 Q1293.46 1466.44 1291.77 1464.38 Q1290.11 1462.32 1290.11 1459.35 Q1290.11 1455.21 1293.05 1452.8 Q1296.01 1450.39 1301.15 1450.39 Q1306.31 1450.39 1309.25 1452.8 Q1312.19 1455.21 1312.19 1459.35 Q1312.19 1462.32 1310.5 1464.38 Q1308.83 1466.44 1305.85 1467.18 Q1309.23 1467.96 1311.1 1470.26 Q1313 1472.55 1313 1475.86 Q1313 1480.88 1309.92 1483.57 Q1306.87 1486.25 1301.15 1486.25 Q1295.43 1486.25 1292.35 1483.57 Q1289.3 1480.88 1289.3 1475.86 Q1289.3 1472.55 1291.2 1470.26 Q1293.09 1467.96 1296.47 1467.18 M1294.76 1459.79 Q1294.76 1462.48 1296.43 1463.98 Q1298.12 1465.49 1301.15 1465.49 Q1304.16 1465.49 1305.85 1463.98 Q1307.56 1462.48 1307.56 1459.79 Q1307.56 1457.11 1305.85 1455.6 Q1304.16 1454.1 1301.15 1454.1 Q1298.12 1454.1 1296.43 1455.6 Q1294.76 1457.11 1294.76 1459.79 Z\" fill=\"#000000\" fill-rule=\"evenodd\" fill-opacity=\"1\" /><path clip-path=\"url(#clip650)\" d=\"M1559.29 1481.64 L1566.93 1481.64 L1566.93 1455.28 L1558.62 1456.95 L1558.62 1452.69 L1566.88 1451.02 L1571.56 1451.02 L1571.56 1481.64 L1579.2 1481.64 L1579.2 1485.58 L1559.29 1485.58 L1559.29 1481.64 Z\" fill=\"#000000\" fill-rule=\"evenodd\" fill-opacity=\"1\" /><path clip-path=\"url(#clip650)\" d=\"M1598.64 1454.1 Q1595.03 1454.1 1593.2 1457.66 Q1591.39 1461.2 1591.39 1468.33 Q1591.39 1475.44 1593.2 1479.01 Q1595.03 1482.55 1598.64 1482.55 Q1602.27 1482.55 1604.08 1479.01 Q1605.91 1475.44 1605.91 1468.33 Q1605.91 1461.2 1604.08 1457.66 Q1602.27 1454.1 1598.64 1454.1 M1598.64 1450.39 Q1604.45 1450.39 1607.51 1455 Q1610.58 1459.58 1610.58 1468.33 Q1610.58 1477.06 1607.51 1481.67 Q1604.45 1486.25 1598.64 1486.25 Q1592.83 1486.25 1589.75 1481.67 Q1586.7 1477.06 1586.7 1468.33 Q1586.7 1459.58 1589.75 1455 Q1592.83 1450.39 1598.64 1450.39 Z\" fill=\"#000000\" fill-rule=\"evenodd\" fill-opacity=\"1\" /><path clip-path=\"url(#clip650)\" d=\"M1843.54 1481.64 L1851.18 1481.64 L1851.18 1455.28 L1842.87 1456.95 L1842.87 1452.69 L1851.13 1451.02 L1855.81 1451.02 L1855.81 1481.64 L1863.45 1481.64 L1863.45 1485.58 L1843.54 1485.58 L1843.54 1481.64 Z\" fill=\"#000000\" fill-rule=\"evenodd\" fill-opacity=\"1\" /><path clip-path=\"url(#clip650)\" d=\"M1876.92 1481.64 L1893.24 1481.64 L1893.24 1485.58 L1871.29 1485.58 L1871.29 1481.64 Q1873.96 1478.89 1878.54 1474.26 Q1883.15 1469.61 1884.33 1468.27 Q1886.57 1465.74 1887.45 1464.01 Q1888.35 1462.25 1888.35 1460.56 Q1888.35 1457.8 1886.41 1456.07 Q1884.49 1454.33 1881.39 1454.33 Q1879.19 1454.33 1876.73 1455.09 Q1874.3 1455.86 1871.53 1457.41 L1871.53 1452.69 Q1874.35 1451.55 1876.8 1450.97 Q1879.26 1450.39 1881.29 1450.39 Q1886.66 1450.39 1889.86 1453.08 Q1893.05 1455.77 1893.05 1460.26 Q1893.05 1462.39 1892.24 1464.31 Q1891.46 1466.2 1889.35 1468.8 Q1888.77 1469.47 1885.67 1472.69 Q1882.57 1475.88 1876.92 1481.64 Z\" fill=\"#000000\" fill-rule=\"evenodd\" fill-opacity=\"1\" /><path clip-path=\"url(#clip650)\" d=\"M2125.95 1481.64 L2133.59 1481.64 L2133.59 1455.28 L2125.28 1456.95 L2125.28 1452.69 L2133.54 1451.02 L2138.22 1451.02 L2138.22 1481.64 L2145.86 1481.64 L2145.86 1485.58 L2125.95 1485.58 L2125.95 1481.64 Z\" fill=\"#000000\" fill-rule=\"evenodd\" fill-opacity=\"1\" /><path clip-path=\"url(#clip650)\" d=\"M2168.15 1455.09 L2156.34 1473.54 L2168.15 1473.54 L2168.15 1455.09 M2166.92 1451.02 L2172.8 1451.02 L2172.8 1473.54 L2177.73 1473.54 L2177.73 1477.43 L2172.8 1477.43 L2172.8 1485.58 L2168.15 1485.58 L2168.15 1477.43 L2152.55 1477.43 L2152.55 1472.92 L2166.92 1451.02 Z\" fill=\"#000000\" fill-rule=\"evenodd\" fill-opacity=\"1\" /><path clip-path=\"url(#clip650)\" d=\"M1195.83 1520.52 L1202.74 1520.52 L1214.54 1538.19 L1226.42 1520.52 L1233.32 1520.52 L1218.04 1543.34 L1234.34 1568.04 L1227.43 1568.04 L1214.07 1547.83 L1200.6 1568.04 L1193.66 1568.04 L1210.63 1542.68 L1195.83 1520.52 Z\" fill=\"#000000\" fill-rule=\"evenodd\" fill-opacity=\"1\" /><path clip-path=\"url(#clip650)\" d=\"M1263.24 1518.52 L1269.1 1518.52 L1269.1 1568.04 L1263.24 1568.04 L1263.24 1518.52 Z\" fill=\"#000000\" fill-rule=\"evenodd\" fill-opacity=\"1\" /><path clip-path=\"url(#clip650)\" d=\"M1297.55 1550.12 Q1290.45 1550.12 1287.72 1551.75 Q1284.98 1553.37 1284.98 1557.29 Q1284.98 1560.4 1287.02 1562.25 Q1289.09 1564.07 1292.62 1564.07 Q1297.49 1564.07 1300.42 1560.63 Q1303.38 1557.16 1303.38 1551.43 L1303.38 1550.12 L1297.55 1550.12 M1309.23 1547.71 L1309.23 1568.04 L1303.38 1568.04 L1303.38 1562.63 Q1301.37 1565.88 1298.38 1567.44 Q1295.39 1568.97 1291.06 1568.97 Q1285.58 1568.97 1282.34 1565.91 Q1279.12 1562.82 1279.12 1557.67 Q1279.12 1551.65 1283.13 1548.6 Q1287.18 1545.54 1295.17 1545.54 L1303.38 1545.54 L1303.38 1544.97 Q1303.38 1540.93 1300.7 1538.73 Q1298.06 1536.5 1293.26 1536.5 Q1290.2 1536.5 1287.3 1537.23 Q1284.41 1537.97 1281.73 1539.43 L1281.73 1534.02 Q1284.95 1532.78 1287.97 1532.17 Q1291 1531.54 1293.86 1531.54 Q1301.59 1531.54 1305.41 1535.55 Q1309.23 1539.56 1309.23 1547.71 Z\" fill=\"#000000\" fill-rule=\"evenodd\" fill-opacity=\"1\" /><path clip-path=\"url(#clip650)\" d=\"M1346.89 1550.25 Q1346.89 1543.79 1344.21 1540.13 Q1341.57 1536.44 1336.92 1536.44 Q1332.28 1536.44 1329.6 1540.13 Q1326.96 1543.79 1326.96 1550.25 Q1326.96 1556.71 1329.6 1560.4 Q1332.28 1564.07 1336.92 1564.07 Q1341.57 1564.07 1344.21 1560.4 Q1346.89 1556.71 1346.89 1550.25 M1326.96 1537.81 Q1328.81 1534.62 1331.61 1533.1 Q1334.44 1531.54 1338.36 1531.54 Q1344.85 1531.54 1348.89 1536.69 Q1352.97 1541.85 1352.97 1550.25 Q1352.97 1558.65 1348.89 1563.81 Q1344.85 1568.97 1338.36 1568.97 Q1334.44 1568.97 1331.61 1567.44 Q1328.81 1565.88 1326.96 1562.7 L1326.96 1568.04 L1321.07 1568.04 L1321.07 1518.52 L1326.96 1518.52 L1326.96 1537.81 Z\" fill=\"#000000\" fill-rule=\"evenodd\" fill-opacity=\"1\" /><path clip-path=\"url(#clip650)\" d=\"M1393.17 1548.76 L1393.17 1551.62 L1366.24 1551.62 Q1366.62 1557.67 1369.87 1560.85 Q1373.15 1564 1378.97 1564 Q1382.34 1564 1385.49 1563.17 Q1388.68 1562.35 1391.8 1560.69 L1391.8 1566.23 Q1388.65 1567.57 1385.34 1568.27 Q1382.03 1568.97 1378.62 1568.97 Q1370.09 1568.97 1365.09 1564 Q1360.13 1559.04 1360.13 1550.57 Q1360.13 1541.82 1364.84 1536.69 Q1369.58 1531.54 1377.6 1531.54 Q1384.79 1531.54 1388.96 1536.18 Q1393.17 1540.8 1393.17 1548.76 M1387.31 1547.04 Q1387.25 1542.23 1384.6 1539.37 Q1381.99 1536.5 1377.66 1536.5 Q1372.76 1536.5 1369.8 1539.27 Q1366.87 1542.04 1366.43 1547.07 L1387.31 1547.04 Z\" fill=\"#000000\" fill-rule=\"evenodd\" fill-opacity=\"1\" /><path clip-path=\"url(#clip650)\" d=\"M1402.78 1518.52 L1408.63 1518.52 L1408.63 1568.04 L1402.78 1568.04 L1402.78 1518.52 Z\" fill=\"#000000\" fill-rule=\"evenodd\" fill-opacity=\"1\" /><polyline clip-path=\"url(#clip652)\" style=\"stroke:#000000; stroke-linecap:butt; stroke-linejoin:round; stroke-width:2; stroke-opacity:0.1; fill:none\" points=\"\n",
       "  249.542,1420.45 2352.76,1420.45 \n",
       "  \"/>\n",
       "<polyline clip-path=\"url(#clip652)\" style=\"stroke:#000000; stroke-linecap:butt; stroke-linejoin:round; stroke-width:2; stroke-opacity:0.1; fill:none\" points=\"\n",
       "  249.542,1079.05 2352.76,1079.05 \n",
       "  \"/>\n",
       "<polyline clip-path=\"url(#clip652)\" style=\"stroke:#000000; stroke-linecap:butt; stroke-linejoin:round; stroke-width:2; stroke-opacity:0.1; fill:none\" points=\"\n",
       "  249.542,737.656 2352.76,737.656 \n",
       "  \"/>\n",
       "<polyline clip-path=\"url(#clip652)\" style=\"stroke:#000000; stroke-linecap:butt; stroke-linejoin:round; stroke-width:2; stroke-opacity:0.1; fill:none\" points=\"\n",
       "  249.542,396.261 2352.76,396.261 \n",
       "  \"/>\n",
       "<polyline clip-path=\"url(#clip652)\" style=\"stroke:#000000; stroke-linecap:butt; stroke-linejoin:round; stroke-width:2; stroke-opacity:0.1; fill:none\" points=\"\n",
       "  249.542,54.8649 2352.76,54.8649 \n",
       "  \"/>\n",
       "<polyline clip-path=\"url(#clip650)\" style=\"stroke:#000000; stroke-linecap:butt; stroke-linejoin:round; stroke-width:4; stroke-opacity:1; fill:none\" points=\"\n",
       "  249.542,1423.18 249.542,47.2441 \n",
       "  \"/>\n",
       "<polyline clip-path=\"url(#clip650)\" style=\"stroke:#000000; stroke-linecap:butt; stroke-linejoin:round; stroke-width:4; stroke-opacity:1; fill:none\" points=\"\n",
       "  249.542,1420.45 268.44,1420.45 \n",
       "  \"/>\n",
       "<polyline clip-path=\"url(#clip650)\" style=\"stroke:#000000; stroke-linecap:butt; stroke-linejoin:round; stroke-width:4; stroke-opacity:1; fill:none\" points=\"\n",
       "  249.542,1079.05 268.44,1079.05 \n",
       "  \"/>\n",
       "<polyline clip-path=\"url(#clip650)\" style=\"stroke:#000000; stroke-linecap:butt; stroke-linejoin:round; stroke-width:4; stroke-opacity:1; fill:none\" points=\"\n",
       "  249.542,737.656 268.44,737.656 \n",
       "  \"/>\n",
       "<polyline clip-path=\"url(#clip650)\" style=\"stroke:#000000; stroke-linecap:butt; stroke-linejoin:round; stroke-width:4; stroke-opacity:1; fill:none\" points=\"\n",
       "  249.542,396.261 268.44,396.261 \n",
       "  \"/>\n",
       "<polyline clip-path=\"url(#clip650)\" style=\"stroke:#000000; stroke-linecap:butt; stroke-linejoin:round; stroke-width:4; stroke-opacity:1; fill:none\" points=\"\n",
       "  249.542,54.8649 268.44,54.8649 \n",
       "  \"/>\n",
       "<path clip-path=\"url(#clip650)\" d=\"M126.205 1406.25 Q122.593 1406.25 120.765 1409.81 Q118.959 1413.35 118.959 1420.48 Q118.959 1427.59 120.765 1431.15 Q122.593 1434.7 126.205 1434.7 Q129.839 1434.7 131.644 1431.15 Q133.473 1427.59 133.473 1420.48 Q133.473 1413.35 131.644 1409.81 Q129.839 1406.25 126.205 1406.25 M126.205 1402.54 Q132.015 1402.54 135.07 1407.15 Q138.149 1411.73 138.149 1420.48 Q138.149 1429.21 135.07 1433.82 Q132.015 1438.4 126.205 1438.4 Q120.394 1438.4 117.316 1433.82 Q114.26 1429.21 114.26 1420.48 Q114.26 1411.73 117.316 1407.15 Q120.394 1402.54 126.205 1402.54 Z\" fill=\"#000000\" fill-rule=\"evenodd\" fill-opacity=\"1\" /><path clip-path=\"url(#clip650)\" d=\"M146.366 1431.85 L151.251 1431.85 L151.251 1437.73 L146.366 1437.73 L146.366 1431.85 Z\" fill=\"#000000\" fill-rule=\"evenodd\" fill-opacity=\"1\" /><path clip-path=\"url(#clip650)\" d=\"M171.436 1406.25 Q167.825 1406.25 165.996 1409.81 Q164.19 1413.35 164.19 1420.48 Q164.19 1427.59 165.996 1431.15 Q167.825 1434.7 171.436 1434.7 Q175.07 1434.7 176.876 1431.15 Q178.704 1427.59 178.704 1420.48 Q178.704 1413.35 176.876 1409.81 Q175.07 1406.25 171.436 1406.25 M171.436 1402.54 Q177.246 1402.54 180.301 1407.15 Q183.38 1411.73 183.38 1420.48 Q183.38 1429.21 180.301 1433.82 Q177.246 1438.4 171.436 1438.4 Q165.626 1438.4 162.547 1433.82 Q159.491 1429.21 159.491 1420.48 Q159.491 1411.73 162.547 1407.15 Q165.626 1402.54 171.436 1402.54 Z\" fill=\"#000000\" fill-rule=\"evenodd\" fill-opacity=\"1\" /><path clip-path=\"url(#clip650)\" d=\"M201.598 1406.25 Q197.987 1406.25 196.158 1409.81 Q194.352 1413.35 194.352 1420.48 Q194.352 1427.59 196.158 1431.15 Q197.987 1434.7 201.598 1434.7 Q205.232 1434.7 207.037 1431.15 Q208.866 1427.59 208.866 1420.48 Q208.866 1413.35 207.037 1409.81 Q205.232 1406.25 201.598 1406.25 M201.598 1402.54 Q207.408 1402.54 210.463 1407.15 Q213.542 1411.73 213.542 1420.48 Q213.542 1429.21 210.463 1433.82 Q207.408 1438.4 201.598 1438.4 Q195.787 1438.4 192.709 1433.82 Q189.653 1429.21 189.653 1420.48 Q189.653 1411.73 192.709 1407.15 Q195.787 1402.54 201.598 1402.54 Z\" fill=\"#000000\" fill-rule=\"evenodd\" fill-opacity=\"1\" /><path clip-path=\"url(#clip650)\" d=\"M127.2 1064.85 Q123.589 1064.85 121.76 1068.42 Q119.955 1071.96 119.955 1079.09 Q119.955 1086.19 121.76 1089.76 Q123.589 1093.3 127.2 1093.3 Q130.834 1093.3 132.64 1089.76 Q134.468 1086.19 134.468 1079.09 Q134.468 1071.96 132.64 1068.42 Q130.834 1064.85 127.2 1064.85 M127.2 1061.15 Q133.01 1061.15 136.066 1065.75 Q139.144 1070.34 139.144 1079.09 Q139.144 1087.81 136.066 1092.42 Q133.01 1097 127.2 1097 Q121.39 1097 118.311 1092.42 Q115.256 1087.81 115.256 1079.09 Q115.256 1070.34 118.311 1065.75 Q121.39 1061.15 127.2 1061.15 Z\" fill=\"#000000\" fill-rule=\"evenodd\" fill-opacity=\"1\" /><path clip-path=\"url(#clip650)\" d=\"M147.362 1090.45 L152.246 1090.45 L152.246 1096.33 L147.362 1096.33 L147.362 1090.45 Z\" fill=\"#000000\" fill-rule=\"evenodd\" fill-opacity=\"1\" /><path clip-path=\"url(#clip650)\" d=\"M166.459 1092.4 L182.778 1092.4 L182.778 1096.33 L160.834 1096.33 L160.834 1092.4 Q163.496 1089.64 168.079 1085.01 Q172.686 1080.36 173.866 1079.02 Q176.112 1076.49 176.991 1074.76 Q177.894 1073 177.894 1071.31 Q177.894 1068.55 175.95 1066.82 Q174.028 1065.08 170.927 1065.08 Q168.727 1065.08 166.274 1065.85 Q163.843 1066.61 161.065 1068.16 L161.065 1063.44 Q163.89 1062.3 166.343 1061.73 Q168.797 1061.15 170.834 1061.15 Q176.204 1061.15 179.399 1063.83 Q182.593 1066.52 182.593 1071.01 Q182.593 1073.14 181.783 1075.06 Q180.996 1076.96 178.889 1079.55 Q178.311 1080.22 175.209 1083.44 Q172.107 1086.63 166.459 1092.4 Z\" fill=\"#000000\" fill-rule=\"evenodd\" fill-opacity=\"1\" /><path clip-path=\"url(#clip650)\" d=\"M192.639 1061.77 L210.996 1061.77 L210.996 1065.71 L196.922 1065.71 L196.922 1074.18 Q197.94 1073.83 198.959 1073.67 Q199.977 1073.48 200.996 1073.48 Q206.783 1073.48 210.162 1076.66 Q213.542 1079.83 213.542 1085.24 Q213.542 1090.82 210.07 1093.92 Q206.598 1097 200.278 1097 Q198.102 1097 195.834 1096.63 Q193.588 1096.26 191.181 1095.52 L191.181 1090.82 Q193.264 1091.96 195.487 1092.51 Q197.709 1093.07 200.186 1093.07 Q204.19 1093.07 206.528 1090.96 Q208.866 1088.86 208.866 1085.24 Q208.866 1081.63 206.528 1079.53 Q204.19 1077.42 200.186 1077.42 Q198.311 1077.42 196.436 1077.84 Q194.584 1078.25 192.639 1079.13 L192.639 1061.77 Z\" fill=\"#000000\" fill-rule=\"evenodd\" fill-opacity=\"1\" /><path clip-path=\"url(#clip650)\" d=\"M126.205 723.455 Q122.593 723.455 120.765 727.02 Q118.959 730.561 118.959 737.691 Q118.959 744.797 120.765 748.362 Q122.593 751.904 126.205 751.904 Q129.839 751.904 131.644 748.362 Q133.473 744.797 133.473 737.691 Q133.473 730.561 131.644 727.02 Q129.839 723.455 126.205 723.455 M126.205 719.751 Q132.015 719.751 135.07 724.358 Q138.149 728.941 138.149 737.691 Q138.149 746.418 135.07 751.024 Q132.015 755.608 126.205 755.608 Q120.394 755.608 117.316 751.024 Q114.26 746.418 114.26 737.691 Q114.26 728.941 117.316 724.358 Q120.394 719.751 126.205 719.751 Z\" fill=\"#000000\" fill-rule=\"evenodd\" fill-opacity=\"1\" /><path clip-path=\"url(#clip650)\" d=\"M146.366 749.057 L151.251 749.057 L151.251 754.936 L146.366 754.936 L146.366 749.057 Z\" fill=\"#000000\" fill-rule=\"evenodd\" fill-opacity=\"1\" /><path clip-path=\"url(#clip650)\" d=\"M161.482 720.376 L179.839 720.376 L179.839 724.311 L165.765 724.311 L165.765 732.784 Q166.783 732.436 167.802 732.274 Q168.82 732.089 169.839 732.089 Q175.626 732.089 179.005 735.261 Q182.385 738.432 182.385 743.848 Q182.385 749.427 178.913 752.529 Q175.44 755.608 169.121 755.608 Q166.945 755.608 164.677 755.237 Q162.431 754.867 160.024 754.126 L160.024 749.427 Q162.107 750.561 164.329 751.117 Q166.552 751.672 169.028 751.672 Q173.033 751.672 175.371 749.566 Q177.709 747.46 177.709 743.848 Q177.709 740.237 175.371 738.131 Q173.033 736.024 169.028 736.024 Q167.153 736.024 165.278 736.441 Q163.427 736.858 161.482 737.737 L161.482 720.376 Z\" fill=\"#000000\" fill-rule=\"evenodd\" fill-opacity=\"1\" /><path clip-path=\"url(#clip650)\" d=\"M201.598 723.455 Q197.987 723.455 196.158 727.02 Q194.352 730.561 194.352 737.691 Q194.352 744.797 196.158 748.362 Q197.987 751.904 201.598 751.904 Q205.232 751.904 207.037 748.362 Q208.866 744.797 208.866 737.691 Q208.866 730.561 207.037 727.02 Q205.232 723.455 201.598 723.455 M201.598 719.751 Q207.408 719.751 210.463 724.358 Q213.542 728.941 213.542 737.691 Q213.542 746.418 210.463 751.024 Q207.408 755.608 201.598 755.608 Q195.787 755.608 192.709 751.024 Q189.653 746.418 189.653 737.691 Q189.653 728.941 192.709 724.358 Q195.787 719.751 201.598 719.751 Z\" fill=\"#000000\" fill-rule=\"evenodd\" fill-opacity=\"1\" /><path clip-path=\"url(#clip650)\" d=\"M127.2 382.059 Q123.589 382.059 121.76 385.624 Q119.955 389.166 119.955 396.295 Q119.955 403.402 121.76 406.967 Q123.589 410.508 127.2 410.508 Q130.834 410.508 132.64 406.967 Q134.468 403.402 134.468 396.295 Q134.468 389.166 132.64 385.624 Q130.834 382.059 127.2 382.059 M127.2 378.356 Q133.01 378.356 136.066 382.962 Q139.144 387.545 139.144 396.295 Q139.144 405.022 136.066 409.629 Q133.01 414.212 127.2 414.212 Q121.39 414.212 118.311 409.629 Q115.256 405.022 115.256 396.295 Q115.256 387.545 118.311 382.962 Q121.39 378.356 127.2 378.356 Z\" fill=\"#000000\" fill-rule=\"evenodd\" fill-opacity=\"1\" /><path clip-path=\"url(#clip650)\" d=\"M147.362 407.661 L152.246 407.661 L152.246 413.541 L147.362 413.541 L147.362 407.661 Z\" fill=\"#000000\" fill-rule=\"evenodd\" fill-opacity=\"1\" /><path clip-path=\"url(#clip650)\" d=\"M161.251 378.981 L183.473 378.981 L183.473 380.971 L170.927 413.541 L166.042 413.541 L177.848 382.916 L161.251 382.916 L161.251 378.981 Z\" fill=\"#000000\" fill-rule=\"evenodd\" fill-opacity=\"1\" /><path clip-path=\"url(#clip650)\" d=\"M192.639 378.981 L210.996 378.981 L210.996 382.916 L196.922 382.916 L196.922 391.388 Q197.94 391.041 198.959 390.879 Q199.977 390.693 200.996 390.693 Q206.783 390.693 210.162 393.865 Q213.542 397.036 213.542 402.453 Q213.542 408.031 210.07 411.133 Q206.598 414.212 200.278 414.212 Q198.102 414.212 195.834 413.842 Q193.588 413.471 191.181 412.73 L191.181 408.031 Q193.264 409.166 195.487 409.721 Q197.709 410.277 200.186 410.277 Q204.19 410.277 206.528 408.17 Q208.866 406.064 208.866 402.453 Q208.866 398.842 206.528 396.735 Q204.19 394.629 200.186 394.629 Q198.311 394.629 196.436 395.045 Q194.584 395.462 192.639 396.342 L192.639 378.981 Z\" fill=\"#000000\" fill-rule=\"evenodd\" fill-opacity=\"1\" /><path clip-path=\"url(#clip650)\" d=\"M117.015 68.2097 L124.654 68.2097 L124.654 41.8441 L116.343 43.5108 L116.343 39.2515 L124.607 37.5849 L129.283 37.5849 L129.283 68.2097 L136.922 68.2097 L136.922 72.1449 L117.015 72.1449 L117.015 68.2097 Z\" fill=\"#000000\" fill-rule=\"evenodd\" fill-opacity=\"1\" /><path clip-path=\"url(#clip650)\" d=\"M146.366 66.2653 L151.251 66.2653 L151.251 72.1449 L146.366 72.1449 L146.366 66.2653 Z\" fill=\"#000000\" fill-rule=\"evenodd\" fill-opacity=\"1\" /><path clip-path=\"url(#clip650)\" d=\"M171.436 40.6636 Q167.825 40.6636 165.996 44.2284 Q164.19 47.77 164.19 54.8996 Q164.19 62.006 165.996 65.5708 Q167.825 69.1125 171.436 69.1125 Q175.07 69.1125 176.876 65.5708 Q178.704 62.006 178.704 54.8996 Q178.704 47.77 176.876 44.2284 Q175.07 40.6636 171.436 40.6636 M171.436 36.9599 Q177.246 36.9599 180.301 41.5663 Q183.38 46.1496 183.38 54.8996 Q183.38 63.6264 180.301 68.2329 Q177.246 72.8162 171.436 72.8162 Q165.626 72.8162 162.547 68.2329 Q159.491 63.6264 159.491 54.8996 Q159.491 46.1496 162.547 41.5663 Q165.626 36.9599 171.436 36.9599 Z\" fill=\"#000000\" fill-rule=\"evenodd\" fill-opacity=\"1\" /><path clip-path=\"url(#clip650)\" d=\"M201.598 40.6636 Q197.987 40.6636 196.158 44.2284 Q194.352 47.77 194.352 54.8996 Q194.352 62.006 196.158 65.5708 Q197.987 69.1125 201.598 69.1125 Q205.232 69.1125 207.037 65.5708 Q208.866 62.006 208.866 54.8996 Q208.866 47.77 207.037 44.2284 Q205.232 40.6636 201.598 40.6636 M201.598 36.9599 Q207.408 36.9599 210.463 41.5663 Q213.542 46.1496 213.542 54.8996 Q213.542 63.6264 210.463 68.2329 Q207.408 72.8162 201.598 72.8162 Q195.787 72.8162 192.709 68.2329 Q189.653 63.6264 189.653 54.8996 Q189.653 46.1496 192.709 41.5663 Q195.787 36.9599 201.598 36.9599 Z\" fill=\"#000000\" fill-rule=\"evenodd\" fill-opacity=\"1\" /><path clip-path=\"url(#clip650)\" d=\"M67.3143 820.624 Q73.68 823.106 75.6216 825.462 Q77.5631 827.817 77.5631 831.764 L77.5631 836.443 L72.6615 836.443 L72.6615 833.005 Q72.6615 830.586 71.5157 829.249 Q70.3699 827.913 66.1048 826.289 L63.4312 825.239 L28.3562 839.657 L28.3562 833.451 L56.238 822.311 L28.3562 811.171 L28.3562 804.964 L67.3143 820.624 Z\" fill=\"#000000\" fill-rule=\"evenodd\" fill-opacity=\"1\" /><path clip-path=\"url(#clip650)\" d=\"M14.479 776.159 L14.479 770.303 L64.0042 770.303 L64.0042 776.159 L14.479 776.159 Z\" fill=\"#000000\" fill-rule=\"evenodd\" fill-opacity=\"1\" /><path clip-path=\"url(#clip650)\" d=\"M46.0847 741.848 Q46.0847 748.946 47.7079 751.683 Q49.3312 754.42 53.2461 754.42 Q56.3653 754.42 58.2114 752.383 Q60.0256 750.315 60.0256 746.782 Q60.0256 741.912 56.5881 738.984 Q53.1188 736.024 47.3897 736.024 L46.0847 736.024 L46.0847 741.848 M43.6657 730.167 L64.0042 730.167 L64.0042 736.024 L58.5933 736.024 Q61.8398 738.029 63.3994 741.021 Q64.9272 744.013 64.9272 748.341 Q64.9272 753.816 61.8716 757.062 Q58.7843 760.277 53.6281 760.277 Q47.6125 760.277 44.5569 756.267 Q41.5014 752.224 41.5014 744.235 L41.5014 736.024 L40.9285 736.024 Q36.8862 736.024 34.6901 738.697 Q32.4621 741.339 32.4621 746.145 Q32.4621 749.201 33.1941 752.097 Q33.9262 754.993 35.3903 757.667 L29.9795 757.667 Q28.7381 754.452 28.1334 751.429 Q27.4968 748.405 27.4968 745.54 Q27.4968 737.806 31.5072 733.987 Q35.5176 730.167 43.6657 730.167 Z\" fill=\"#000000\" fill-rule=\"evenodd\" fill-opacity=\"1\" /><path clip-path=\"url(#clip650)\" d=\"M46.212 692.514 Q39.7508 692.514 36.0905 695.188 Q32.3984 697.829 32.3984 702.476 Q32.3984 707.123 36.0905 709.797 Q39.7508 712.439 46.212 712.439 Q52.6732 712.439 56.3653 709.797 Q60.0256 707.123 60.0256 702.476 Q60.0256 697.829 56.3653 695.188 Q52.6732 692.514 46.212 692.514 M33.7671 712.439 Q30.5842 710.593 29.0564 707.792 Q27.4968 704.959 27.4968 701.044 Q27.4968 694.551 32.6531 690.509 Q37.8093 686.435 46.212 686.435 Q54.6147 686.435 59.771 690.509 Q64.9272 694.551 64.9272 701.044 Q64.9272 704.959 63.3994 707.792 Q61.8398 710.593 58.657 712.439 L64.0042 712.439 L64.0042 718.327 L14.479 718.327 L14.479 712.439 L33.7671 712.439 Z\" fill=\"#000000\" fill-rule=\"evenodd\" fill-opacity=\"1\" /><path clip-path=\"url(#clip650)\" d=\"M44.7161 646.235 L47.5806 646.235 L47.5806 673.162 Q53.6281 672.78 56.8109 669.534 Q59.9619 666.255 59.9619 660.431 Q59.9619 657.057 59.1344 653.906 Q58.3069 650.723 56.6518 647.604 L62.1899 647.604 Q63.5267 650.755 64.227 654.065 Q64.9272 657.375 64.9272 660.781 Q64.9272 669.311 59.9619 674.308 Q54.9967 679.273 46.5303 679.273 Q37.7774 679.273 32.6531 674.563 Q27.4968 669.82 27.4968 661.799 Q27.4968 654.606 32.1438 650.437 Q36.7589 646.235 44.7161 646.235 M42.9973 652.092 Q38.1912 652.155 35.3266 654.797 Q32.4621 657.407 32.4621 661.736 Q32.4621 666.637 35.2312 669.597 Q38.0002 672.526 43.0292 672.971 L42.9973 652.092 Z\" fill=\"#000000\" fill-rule=\"evenodd\" fill-opacity=\"1\" /><path clip-path=\"url(#clip650)\" d=\"M14.479 636.623 L14.479 630.767 L64.0042 630.767 L64.0042 636.623 L14.479 636.623 Z\" fill=\"#000000\" fill-rule=\"evenodd\" fill-opacity=\"1\" /><polyline clip-path=\"url(#clip652)\" style=\"stroke:#009af9; stroke-linecap:butt; stroke-linejoin:round; stroke-width:4; stroke-opacity:1; fill:none\" points=\"\n",
       "  309.067,1240.25 450.793,1243.66 592.519,467.906 734.245,187.663 875.971,112.619 1017.7,482.204 1159.42,1348.15 1301.15,1384.24 1442.87,976.863 1584.6,1033.58 \n",
       "  1726.33,847.978 1868.05,379.382 2009.78,659.665 2151.5,86.1857 2293.23,657.839 \n",
       "  \"/>\n",
       "<path clip-path=\"url(#clip650)\" d=\"\n",
       "M1996.53 196.789 L2282.65 196.789 L2282.65 93.1086 L1996.53 93.1086  Z\n",
       "  \" fill=\"#ffffff\" fill-rule=\"evenodd\" fill-opacity=\"1\"/>\n",
       "<polyline clip-path=\"url(#clip650)\" style=\"stroke:#000000; stroke-linecap:butt; stroke-linejoin:round; stroke-width:4; stroke-opacity:1; fill:none\" points=\"\n",
       "  1996.53,196.789 2282.65,196.789 2282.65,93.1086 1996.53,93.1086 1996.53,196.789 \n",
       "  \"/>\n",
       "<polyline clip-path=\"url(#clip650)\" style=\"stroke:#009af9; stroke-linecap:butt; stroke-linejoin:round; stroke-width:4; stroke-opacity:1; fill:none\" points=\"\n",
       "  2019.9,144.949 2160.11,144.949 \n",
       "  \"/>\n",
       "<path clip-path=\"url(#clip650)\" d=\"M2197.32 164.636 Q2195.52 169.266 2193.8 170.678 Q2192.09 172.09 2189.22 172.09 L2185.82 172.09 L2185.82 168.525 L2188.32 168.525 Q2190.08 168.525 2191.05 167.692 Q2192.02 166.858 2193.2 163.756 L2193.97 161.812 L2183.48 136.303 L2187.99 136.303 L2196.1 156.581 L2204.2 136.303 L2208.71 136.303 L2197.32 164.636 Z\" fill=\"#000000\" fill-rule=\"evenodd\" fill-opacity=\"1\" /><path clip-path=\"url(#clip650)\" d=\"M2216 158.293 L2223.64 158.293 L2223.64 131.928 L2215.33 133.595 L2215.33 129.335 L2223.6 127.669 L2228.27 127.669 L2228.27 158.293 L2235.91 158.293 L2235.91 162.229 L2216 162.229 L2216 158.293 Z\" fill=\"#000000\" fill-rule=\"evenodd\" fill-opacity=\"1\" /></svg>\n"
      ]
     },
     "execution_count": 116,
     "metadata": {},
     "output_type": "execute_result"
    }
   ],
   "source": [
    "plot(x, y, xlabel=\"X label\", ylabel=\"y label\")"
   ]
  },
  {
   "cell_type": "code",
   "execution_count": 117,
   "metadata": {},
   "outputs": [
    {
     "data": {
      "image/svg+xml": [
       "<?xml version=\"1.0\" encoding=\"utf-8\"?>\n",
       "<svg xmlns=\"http://www.w3.org/2000/svg\" xmlns:xlink=\"http://www.w3.org/1999/xlink\" width=\"600\" height=\"400\" viewBox=\"0 0 2400 1600\">\n",
       "<defs>\n",
       "  <clipPath id=\"clip690\">\n",
       "    <rect x=\"0\" y=\"0\" width=\"2400\" height=\"1600\"/>\n",
       "  </clipPath>\n",
       "</defs>\n",
       "<path clip-path=\"url(#clip690)\" d=\"\n",
       "M0 1600 L2400 1600 L2400 0 L0 0  Z\n",
       "  \" fill=\"#ffffff\" fill-rule=\"evenodd\" fill-opacity=\"1\"/>\n",
       "<defs>\n",
       "  <clipPath id=\"clip691\">\n",
       "    <rect x=\"480\" y=\"0\" width=\"1681\" height=\"1600\"/>\n",
       "  </clipPath>\n",
       "</defs>\n",
       "<path clip-path=\"url(#clip690)\" d=\"\n",
       "M186.274 1486.45 L2352.76 1486.45 L2352.76 47.2441 L186.274 47.2441  Z\n",
       "  \" fill=\"#ffffff\" fill-rule=\"evenodd\" fill-opacity=\"1\"/>\n",
       "<defs>\n",
       "  <clipPath id=\"clip692\">\n",
       "    <rect x=\"186\" y=\"47\" width=\"2167\" height=\"1440\"/>\n",
       "  </clipPath>\n",
       "</defs>\n",
       "<polyline clip-path=\"url(#clip692)\" style=\"stroke:#000000; stroke-linecap:butt; stroke-linejoin:round; stroke-width:2; stroke-opacity:0.1; fill:none\" points=\"\n",
       "  393.579,1486.45 393.579,47.2441 \n",
       "  \"/>\n",
       "<polyline clip-path=\"url(#clip692)\" style=\"stroke:#000000; stroke-linecap:butt; stroke-linejoin:round; stroke-width:2; stroke-opacity:0.1; fill:none\" points=\"\n",
       "  685.558,1486.45 685.558,47.2441 \n",
       "  \"/>\n",
       "<polyline clip-path=\"url(#clip692)\" style=\"stroke:#000000; stroke-linecap:butt; stroke-linejoin:round; stroke-width:2; stroke-opacity:0.1; fill:none\" points=\"\n",
       "  977.536,1486.45 977.536,47.2441 \n",
       "  \"/>\n",
       "<polyline clip-path=\"url(#clip692)\" style=\"stroke:#000000; stroke-linecap:butt; stroke-linejoin:round; stroke-width:2; stroke-opacity:0.1; fill:none\" points=\"\n",
       "  1269.51,1486.45 1269.51,47.2441 \n",
       "  \"/>\n",
       "<polyline clip-path=\"url(#clip692)\" style=\"stroke:#000000; stroke-linecap:butt; stroke-linejoin:round; stroke-width:2; stroke-opacity:0.1; fill:none\" points=\"\n",
       "  1561.49,1486.45 1561.49,47.2441 \n",
       "  \"/>\n",
       "<polyline clip-path=\"url(#clip692)\" style=\"stroke:#000000; stroke-linecap:butt; stroke-linejoin:round; stroke-width:2; stroke-opacity:0.1; fill:none\" points=\"\n",
       "  1853.47,1486.45 1853.47,47.2441 \n",
       "  \"/>\n",
       "<polyline clip-path=\"url(#clip692)\" style=\"stroke:#000000; stroke-linecap:butt; stroke-linejoin:round; stroke-width:2; stroke-opacity:0.1; fill:none\" points=\"\n",
       "  2145.45,1486.45 2145.45,47.2441 \n",
       "  \"/>\n",
       "<polyline clip-path=\"url(#clip690)\" style=\"stroke:#000000; stroke-linecap:butt; stroke-linejoin:round; stroke-width:4; stroke-opacity:1; fill:none\" points=\"\n",
       "  186.274,1486.45 2352.76,1486.45 \n",
       "  \"/>\n",
       "<polyline clip-path=\"url(#clip690)\" style=\"stroke:#000000; stroke-linecap:butt; stroke-linejoin:round; stroke-width:4; stroke-opacity:1; fill:none\" points=\"\n",
       "  393.579,1486.45 393.579,1467.55 \n",
       "  \"/>\n",
       "<polyline clip-path=\"url(#clip690)\" style=\"stroke:#000000; stroke-linecap:butt; stroke-linejoin:round; stroke-width:4; stroke-opacity:1; fill:none\" points=\"\n",
       "  685.558,1486.45 685.558,1467.55 \n",
       "  \"/>\n",
       "<polyline clip-path=\"url(#clip690)\" style=\"stroke:#000000; stroke-linecap:butt; stroke-linejoin:round; stroke-width:4; stroke-opacity:1; fill:none\" points=\"\n",
       "  977.536,1486.45 977.536,1467.55 \n",
       "  \"/>\n",
       "<polyline clip-path=\"url(#clip690)\" style=\"stroke:#000000; stroke-linecap:butt; stroke-linejoin:round; stroke-width:4; stroke-opacity:1; fill:none\" points=\"\n",
       "  1269.51,1486.45 1269.51,1467.55 \n",
       "  \"/>\n",
       "<polyline clip-path=\"url(#clip690)\" style=\"stroke:#000000; stroke-linecap:butt; stroke-linejoin:round; stroke-width:4; stroke-opacity:1; fill:none\" points=\"\n",
       "  1561.49,1486.45 1561.49,1467.55 \n",
       "  \"/>\n",
       "<polyline clip-path=\"url(#clip690)\" style=\"stroke:#000000; stroke-linecap:butt; stroke-linejoin:round; stroke-width:4; stroke-opacity:1; fill:none\" points=\"\n",
       "  1853.47,1486.45 1853.47,1467.55 \n",
       "  \"/>\n",
       "<polyline clip-path=\"url(#clip690)\" style=\"stroke:#000000; stroke-linecap:butt; stroke-linejoin:round; stroke-width:4; stroke-opacity:1; fill:none\" points=\"\n",
       "  2145.45,1486.45 2145.45,1467.55 \n",
       "  \"/>\n",
       "<path clip-path=\"url(#clip690)\" d=\"M388.232 1544.91 L404.551 1544.91 L404.551 1548.85 L382.607 1548.85 L382.607 1544.91 Q385.269 1542.16 389.852 1537.53 Q394.458 1532.88 395.639 1531.53 Q397.884 1529.01 398.764 1527.27 Q399.667 1525.51 399.667 1523.82 Q399.667 1521.07 397.722 1519.33 Q395.801 1517.6 392.699 1517.6 Q390.5 1517.6 388.046 1518.36 Q385.616 1519.13 382.838 1520.68 L382.838 1515.95 Q385.662 1514.82 388.116 1514.24 Q390.57 1513.66 392.607 1513.66 Q397.977 1513.66 401.171 1516.35 Q404.366 1519.03 404.366 1523.52 Q404.366 1525.65 403.556 1527.57 Q402.769 1529.47 400.662 1532.07 Q400.083 1532.74 396.982 1535.95 Q393.88 1539.15 388.232 1544.91 Z\" fill=\"#000000\" fill-rule=\"evenodd\" fill-opacity=\"1\" /><path clip-path=\"url(#clip690)\" d=\"M688.567 1518.36 L676.761 1536.81 L688.567 1536.81 L688.567 1518.36 M687.34 1514.29 L693.22 1514.29 L693.22 1536.81 L698.15 1536.81 L698.15 1540.7 L693.22 1540.7 L693.22 1548.85 L688.567 1548.85 L688.567 1540.7 L672.965 1540.7 L672.965 1536.19 L687.34 1514.29 Z\" fill=\"#000000\" fill-rule=\"evenodd\" fill-opacity=\"1\" /><path clip-path=\"url(#clip690)\" d=\"M977.941 1529.7 Q974.793 1529.7 972.941 1531.86 Q971.113 1534.01 971.113 1537.76 Q971.113 1541.49 972.941 1543.66 Q974.793 1545.82 977.941 1545.82 Q981.089 1545.82 982.918 1543.66 Q984.77 1541.49 984.77 1537.76 Q984.77 1534.01 982.918 1531.86 Q981.089 1529.7 977.941 1529.7 M987.224 1515.05 L987.224 1519.31 Q985.464 1518.48 983.659 1518.04 Q981.877 1517.6 980.117 1517.6 Q975.488 1517.6 973.034 1520.72 Q970.603 1523.85 970.256 1530.17 Q971.622 1528.15 973.682 1527.09 Q975.742 1526 978.219 1526 Q983.427 1526 986.437 1529.17 Q989.469 1532.32 989.469 1537.76 Q989.469 1543.08 986.321 1546.3 Q983.173 1549.52 977.941 1549.52 Q971.946 1549.52 968.775 1544.94 Q965.603 1540.33 965.603 1531.6 Q965.603 1523.41 969.492 1518.55 Q973.381 1513.66 979.932 1513.66 Q981.691 1513.66 983.474 1514.01 Q985.279 1514.36 987.224 1515.05 Z\" fill=\"#000000\" fill-rule=\"evenodd\" fill-opacity=\"1\" /><path clip-path=\"url(#clip690)\" d=\"M1269.51 1532.44 Q1266.18 1532.44 1264.26 1534.22 Q1262.36 1536 1262.36 1539.13 Q1262.36 1542.25 1264.26 1544.03 Q1266.18 1545.82 1269.51 1545.82 Q1272.85 1545.82 1274.77 1544.03 Q1276.69 1542.23 1276.69 1539.13 Q1276.69 1536 1274.77 1534.22 Q1272.87 1532.44 1269.51 1532.44 M1264.84 1530.45 Q1261.83 1529.7 1260.14 1527.64 Q1258.47 1525.58 1258.47 1522.62 Q1258.47 1518.48 1261.41 1516.07 Q1264.38 1513.66 1269.51 1513.66 Q1274.68 1513.66 1277.62 1516.07 Q1280.56 1518.48 1280.56 1522.62 Q1280.56 1525.58 1278.87 1527.64 Q1277.2 1529.7 1274.21 1530.45 Q1277.59 1531.23 1279.47 1533.52 Q1281.37 1535.82 1281.37 1539.13 Q1281.37 1544.15 1278.29 1546.83 Q1275.23 1549.52 1269.51 1549.52 Q1263.8 1549.52 1260.72 1546.83 Q1257.66 1544.15 1257.66 1539.13 Q1257.66 1535.82 1259.56 1533.52 Q1261.46 1531.23 1264.84 1530.45 M1263.13 1523.06 Q1263.13 1525.75 1264.79 1527.25 Q1266.48 1528.76 1269.51 1528.76 Q1272.52 1528.76 1274.21 1527.25 Q1275.93 1525.75 1275.93 1523.06 Q1275.93 1520.38 1274.21 1518.87 Q1272.52 1517.37 1269.51 1517.37 Q1266.48 1517.37 1264.79 1518.87 Q1263.13 1520.38 1263.13 1523.06 Z\" fill=\"#000000\" fill-rule=\"evenodd\" fill-opacity=\"1\" /><path clip-path=\"url(#clip690)\" d=\"M1536.18 1544.91 L1543.82 1544.91 L1543.82 1518.55 L1535.51 1520.21 L1535.51 1515.95 L1543.77 1514.29 L1548.45 1514.29 L1548.45 1544.91 L1556.09 1544.91 L1556.09 1548.85 L1536.18 1548.85 L1536.18 1544.91 Z\" fill=\"#000000\" fill-rule=\"evenodd\" fill-opacity=\"1\" /><path clip-path=\"url(#clip690)\" d=\"M1575.53 1517.37 Q1571.92 1517.37 1570.09 1520.93 Q1568.29 1524.47 1568.29 1531.6 Q1568.29 1538.71 1570.09 1542.27 Q1571.92 1545.82 1575.53 1545.82 Q1579.17 1545.82 1580.97 1542.27 Q1582.8 1538.71 1582.8 1531.6 Q1582.8 1524.47 1580.97 1520.93 Q1579.17 1517.37 1575.53 1517.37 M1575.53 1513.66 Q1581.34 1513.66 1584.4 1518.27 Q1587.48 1522.85 1587.48 1531.6 Q1587.48 1540.33 1584.4 1544.94 Q1581.34 1549.52 1575.53 1549.52 Q1569.72 1549.52 1566.64 1544.94 Q1563.59 1540.33 1563.59 1531.6 Q1563.59 1522.85 1566.64 1518.27 Q1569.72 1513.66 1575.53 1513.66 Z\" fill=\"#000000\" fill-rule=\"evenodd\" fill-opacity=\"1\" /><path clip-path=\"url(#clip690)\" d=\"M1828.96 1544.91 L1836.6 1544.91 L1836.6 1518.55 L1828.29 1520.21 L1828.29 1515.95 L1836.55 1514.29 L1841.23 1514.29 L1841.23 1544.91 L1848.87 1544.91 L1848.87 1548.85 L1828.96 1548.85 L1828.96 1544.91 Z\" fill=\"#000000\" fill-rule=\"evenodd\" fill-opacity=\"1\" /><path clip-path=\"url(#clip690)\" d=\"M1862.34 1544.91 L1878.66 1544.91 L1878.66 1548.85 L1856.71 1548.85 L1856.71 1544.91 Q1859.38 1542.16 1863.96 1537.53 Q1868.56 1532.88 1869.75 1531.53 Q1871.99 1529.01 1872.87 1527.27 Q1873.77 1525.51 1873.77 1523.82 Q1873.77 1521.07 1871.83 1519.33 Q1869.91 1517.6 1866.81 1517.6 Q1864.61 1517.6 1862.15 1518.36 Q1859.72 1519.13 1856.94 1520.68 L1856.94 1515.95 Q1859.77 1514.82 1862.22 1514.24 Q1864.68 1513.66 1866.71 1513.66 Q1872.08 1513.66 1875.28 1516.35 Q1878.47 1519.03 1878.47 1523.52 Q1878.47 1525.65 1877.66 1527.57 Q1876.87 1529.47 1874.77 1532.07 Q1874.19 1532.74 1871.09 1535.95 Q1867.99 1539.15 1862.34 1544.91 Z\" fill=\"#000000\" fill-rule=\"evenodd\" fill-opacity=\"1\" /><path clip-path=\"url(#clip690)\" d=\"M2119.9 1544.91 L2127.53 1544.91 L2127.53 1518.55 L2119.22 1520.21 L2119.22 1515.95 L2127.49 1514.29 L2132.16 1514.29 L2132.16 1544.91 L2139.8 1544.91 L2139.8 1548.85 L2119.9 1548.85 L2119.9 1544.91 Z\" fill=\"#000000\" fill-rule=\"evenodd\" fill-opacity=\"1\" /><path clip-path=\"url(#clip690)\" d=\"M2162.09 1518.36 L2150.29 1536.81 L2162.09 1536.81 L2162.09 1518.36 M2160.87 1514.29 L2166.75 1514.29 L2166.75 1536.81 L2171.68 1536.81 L2171.68 1540.7 L2166.75 1540.7 L2166.75 1548.85 L2162.09 1548.85 L2162.09 1540.7 L2146.49 1540.7 L2146.49 1536.19 L2160.87 1514.29 Z\" fill=\"#000000\" fill-rule=\"evenodd\" fill-opacity=\"1\" /><polyline clip-path=\"url(#clip692)\" style=\"stroke:#000000; stroke-linecap:butt; stroke-linejoin:round; stroke-width:2; stroke-opacity:0.1; fill:none\" points=\"\n",
       "  186.274,1483.59 2352.76,1483.59 \n",
       "  \"/>\n",
       "<polyline clip-path=\"url(#clip692)\" style=\"stroke:#000000; stroke-linecap:butt; stroke-linejoin:round; stroke-width:2; stroke-opacity:0.1; fill:none\" points=\"\n",
       "  186.274,1126.5 2352.76,1126.5 \n",
       "  \"/>\n",
       "<polyline clip-path=\"url(#clip692)\" style=\"stroke:#000000; stroke-linecap:butt; stroke-linejoin:round; stroke-width:2; stroke-opacity:0.1; fill:none\" points=\"\n",
       "  186.274,769.403 2352.76,769.403 \n",
       "  \"/>\n",
       "<polyline clip-path=\"url(#clip692)\" style=\"stroke:#000000; stroke-linecap:butt; stroke-linejoin:round; stroke-width:2; stroke-opacity:0.1; fill:none\" points=\"\n",
       "  186.274,412.309 2352.76,412.309 \n",
       "  \"/>\n",
       "<polyline clip-path=\"url(#clip692)\" style=\"stroke:#000000; stroke-linecap:butt; stroke-linejoin:round; stroke-width:2; stroke-opacity:0.1; fill:none\" points=\"\n",
       "  186.274,55.2153 2352.76,55.2153 \n",
       "  \"/>\n",
       "<polyline clip-path=\"url(#clip690)\" style=\"stroke:#000000; stroke-linecap:butt; stroke-linejoin:round; stroke-width:4; stroke-opacity:1; fill:none\" points=\"\n",
       "  186.274,1486.45 186.274,47.2441 \n",
       "  \"/>\n",
       "<polyline clip-path=\"url(#clip690)\" style=\"stroke:#000000; stroke-linecap:butt; stroke-linejoin:round; stroke-width:4; stroke-opacity:1; fill:none\" points=\"\n",
       "  186.274,1483.59 205.172,1483.59 \n",
       "  \"/>\n",
       "<polyline clip-path=\"url(#clip690)\" style=\"stroke:#000000; stroke-linecap:butt; stroke-linejoin:round; stroke-width:4; stroke-opacity:1; fill:none\" points=\"\n",
       "  186.274,1126.5 205.172,1126.5 \n",
       "  \"/>\n",
       "<polyline clip-path=\"url(#clip690)\" style=\"stroke:#000000; stroke-linecap:butt; stroke-linejoin:round; stroke-width:4; stroke-opacity:1; fill:none\" points=\"\n",
       "  186.274,769.403 205.172,769.403 \n",
       "  \"/>\n",
       "<polyline clip-path=\"url(#clip690)\" style=\"stroke:#000000; stroke-linecap:butt; stroke-linejoin:round; stroke-width:4; stroke-opacity:1; fill:none\" points=\"\n",
       "  186.274,412.309 205.172,412.309 \n",
       "  \"/>\n",
       "<polyline clip-path=\"url(#clip690)\" style=\"stroke:#000000; stroke-linecap:butt; stroke-linejoin:round; stroke-width:4; stroke-opacity:1; fill:none\" points=\"\n",
       "  186.274,55.2153 205.172,55.2153 \n",
       "  \"/>\n",
       "<path clip-path=\"url(#clip690)\" d=\"M62.9365 1469.39 Q59.3254 1469.39 57.4967 1472.95 Q55.6912 1476.5 55.6912 1483.62 Q55.6912 1490.73 57.4967 1494.3 Q59.3254 1497.84 62.9365 1497.84 Q66.5707 1497.84 68.3763 1494.3 Q70.205 1490.73 70.205 1483.62 Q70.205 1476.5 68.3763 1472.95 Q66.5707 1469.39 62.9365 1469.39 M62.9365 1465.69 Q68.7467 1465.69 71.8022 1470.29 Q74.8809 1474.87 74.8809 1483.62 Q74.8809 1492.35 71.8022 1496.96 Q68.7467 1501.54 62.9365 1501.54 Q57.1264 1501.54 54.0477 1496.96 Q50.9921 1492.35 50.9921 1483.62 Q50.9921 1474.87 54.0477 1470.29 Q57.1264 1465.69 62.9365 1465.69 Z\" fill=\"#000000\" fill-rule=\"evenodd\" fill-opacity=\"1\" /><path clip-path=\"url(#clip690)\" d=\"M83.0984 1494.99 L87.9827 1494.99 L87.9827 1500.87 L83.0984 1500.87 L83.0984 1494.99 Z\" fill=\"#000000\" fill-rule=\"evenodd\" fill-opacity=\"1\" /><path clip-path=\"url(#clip690)\" d=\"M108.168 1469.39 Q104.557 1469.39 102.728 1472.95 Q100.922 1476.5 100.922 1483.62 Q100.922 1490.73 102.728 1494.3 Q104.557 1497.84 108.168 1497.84 Q111.802 1497.84 113.608 1494.3 Q115.436 1490.73 115.436 1483.62 Q115.436 1476.5 113.608 1472.95 Q111.802 1469.39 108.168 1469.39 M108.168 1465.69 Q113.978 1465.69 117.033 1470.29 Q120.112 1474.87 120.112 1483.62 Q120.112 1492.35 117.033 1496.96 Q113.978 1501.54 108.168 1501.54 Q102.358 1501.54 99.2789 1496.96 Q96.2234 1492.35 96.2234 1483.62 Q96.2234 1474.87 99.2789 1470.29 Q102.358 1465.69 108.168 1465.69 Z\" fill=\"#000000\" fill-rule=\"evenodd\" fill-opacity=\"1\" /><path clip-path=\"url(#clip690)\" d=\"M138.33 1469.39 Q134.719 1469.39 132.89 1472.95 Q131.084 1476.5 131.084 1483.62 Q131.084 1490.73 132.89 1494.3 Q134.719 1497.84 138.33 1497.84 Q141.964 1497.84 143.769 1494.3 Q145.598 1490.73 145.598 1483.62 Q145.598 1476.5 143.769 1472.95 Q141.964 1469.39 138.33 1469.39 M138.33 1465.69 Q144.14 1465.69 147.195 1470.29 Q150.274 1474.87 150.274 1483.62 Q150.274 1492.35 147.195 1496.96 Q144.14 1501.54 138.33 1501.54 Q132.519 1501.54 129.441 1496.96 Q126.385 1492.35 126.385 1483.62 Q126.385 1474.87 129.441 1470.29 Q132.519 1465.69 138.33 1465.69 Z\" fill=\"#000000\" fill-rule=\"evenodd\" fill-opacity=\"1\" /><path clip-path=\"url(#clip690)\" d=\"M63.9319 1112.3 Q60.3208 1112.3 58.4921 1115.86 Q56.6865 1119.4 56.6865 1126.53 Q56.6865 1133.64 58.4921 1137.2 Q60.3208 1140.74 63.9319 1140.74 Q67.5661 1140.74 69.3717 1137.2 Q71.2004 1133.64 71.2004 1126.53 Q71.2004 1119.4 69.3717 1115.86 Q67.5661 1112.3 63.9319 1112.3 M63.9319 1108.59 Q69.742 1108.59 72.7976 1113.2 Q75.8763 1117.78 75.8763 1126.53 Q75.8763 1135.26 72.7976 1139.86 Q69.742 1144.45 63.9319 1144.45 Q58.1217 1144.45 55.043 1139.86 Q51.9875 1135.26 51.9875 1126.53 Q51.9875 1117.78 55.043 1113.2 Q58.1217 1108.59 63.9319 1108.59 Z\" fill=\"#000000\" fill-rule=\"evenodd\" fill-opacity=\"1\" /><path clip-path=\"url(#clip690)\" d=\"M84.0938 1137.9 L88.978 1137.9 L88.978 1143.78 L84.0938 1143.78 L84.0938 1137.9 Z\" fill=\"#000000\" fill-rule=\"evenodd\" fill-opacity=\"1\" /><path clip-path=\"url(#clip690)\" d=\"M103.191 1139.84 L119.51 1139.84 L119.51 1143.78 L97.566 1143.78 L97.566 1139.84 Q100.228 1137.09 104.811 1132.46 Q109.418 1127.8 110.598 1126.46 Q112.844 1123.94 113.723 1122.2 Q114.626 1120.44 114.626 1118.75 Q114.626 1116 112.682 1114.26 Q110.76 1112.53 107.658 1112.53 Q105.459 1112.53 103.006 1113.29 Q100.575 1114.05 97.7974 1115.61 L97.7974 1110.88 Q100.621 1109.75 103.075 1109.17 Q105.529 1108.59 107.566 1108.59 Q112.936 1108.59 116.131 1111.28 Q119.325 1113.96 119.325 1118.45 Q119.325 1120.58 118.515 1122.5 Q117.728 1124.4 115.621 1126.99 Q115.043 1127.67 111.941 1130.88 Q108.839 1134.08 103.191 1139.84 Z\" fill=\"#000000\" fill-rule=\"evenodd\" fill-opacity=\"1\" /><path clip-path=\"url(#clip690)\" d=\"M129.371 1109.22 L147.728 1109.22 L147.728 1113.15 L133.654 1113.15 L133.654 1121.62 Q134.672 1121.28 135.691 1121.11 Q136.709 1120.93 137.728 1120.93 Q143.515 1120.93 146.894 1124.1 Q150.274 1127.27 150.274 1132.69 Q150.274 1138.27 146.802 1141.37 Q143.33 1144.45 137.01 1144.45 Q134.834 1144.45 132.566 1144.08 Q130.32 1143.71 127.913 1142.97 L127.913 1138.27 Q129.996 1139.4 132.219 1139.96 Q134.441 1140.51 136.918 1140.51 Q140.922 1140.51 143.26 1138.41 Q145.598 1136.3 145.598 1132.69 Q145.598 1129.08 143.26 1126.97 Q140.922 1124.86 136.918 1124.86 Q135.043 1124.86 133.168 1125.28 Q131.316 1125.7 129.371 1126.58 L129.371 1109.22 Z\" fill=\"#000000\" fill-rule=\"evenodd\" fill-opacity=\"1\" /><path clip-path=\"url(#clip690)\" d=\"M62.9365 755.201 Q59.3254 755.201 57.4967 758.766 Q55.6912 762.308 55.6912 769.437 Q55.6912 776.544 57.4967 780.109 Q59.3254 783.65 62.9365 783.65 Q66.5707 783.65 68.3763 780.109 Q70.205 776.544 70.205 769.437 Q70.205 762.308 68.3763 758.766 Q66.5707 755.201 62.9365 755.201 M62.9365 751.498 Q68.7467 751.498 71.8022 756.104 Q74.8809 760.688 74.8809 769.437 Q74.8809 778.164 71.8022 782.771 Q68.7467 787.354 62.9365 787.354 Q57.1264 787.354 54.0477 782.771 Q50.9921 778.164 50.9921 769.437 Q50.9921 760.688 54.0477 756.104 Q57.1264 751.498 62.9365 751.498 Z\" fill=\"#000000\" fill-rule=\"evenodd\" fill-opacity=\"1\" /><path clip-path=\"url(#clip690)\" d=\"M83.0984 780.803 L87.9827 780.803 L87.9827 786.683 L83.0984 786.683 L83.0984 780.803 Z\" fill=\"#000000\" fill-rule=\"evenodd\" fill-opacity=\"1\" /><path clip-path=\"url(#clip690)\" d=\"M98.2141 752.123 L116.57 752.123 L116.57 756.058 L102.496 756.058 L102.496 764.53 Q103.515 764.183 104.534 764.021 Q105.552 763.836 106.571 763.836 Q112.358 763.836 115.737 767.007 Q119.117 770.178 119.117 775.595 Q119.117 781.174 115.645 784.275 Q112.172 787.354 105.853 787.354 Q103.677 787.354 101.409 786.984 Q99.1632 786.613 96.7558 785.873 L96.7558 781.174 Q98.8391 782.308 101.061 782.863 Q103.284 783.419 105.76 783.419 Q109.765 783.419 112.103 781.312 Q114.441 779.206 114.441 775.595 Q114.441 771.984 112.103 769.877 Q109.765 767.771 105.76 767.771 Q103.885 767.771 102.01 768.187 Q100.159 768.604 98.2141 769.484 L98.2141 752.123 Z\" fill=\"#000000\" fill-rule=\"evenodd\" fill-opacity=\"1\" /><path clip-path=\"url(#clip690)\" d=\"M138.33 755.201 Q134.719 755.201 132.89 758.766 Q131.084 762.308 131.084 769.437 Q131.084 776.544 132.89 780.109 Q134.719 783.65 138.33 783.65 Q141.964 783.65 143.769 780.109 Q145.598 776.544 145.598 769.437 Q145.598 762.308 143.769 758.766 Q141.964 755.201 138.33 755.201 M138.33 751.498 Q144.14 751.498 147.195 756.104 Q150.274 760.688 150.274 769.437 Q150.274 778.164 147.195 782.771 Q144.14 787.354 138.33 787.354 Q132.519 787.354 129.441 782.771 Q126.385 778.164 126.385 769.437 Q126.385 760.688 129.441 756.104 Q132.519 751.498 138.33 751.498 Z\" fill=\"#000000\" fill-rule=\"evenodd\" fill-opacity=\"1\" /><path clip-path=\"url(#clip690)\" d=\"M63.9319 398.108 Q60.3208 398.108 58.4921 401.672 Q56.6865 405.214 56.6865 412.344 Q56.6865 419.45 58.4921 423.015 Q60.3208 426.557 63.9319 426.557 Q67.5661 426.557 69.3717 423.015 Q71.2004 419.45 71.2004 412.344 Q71.2004 405.214 69.3717 401.672 Q67.5661 398.108 63.9319 398.108 M63.9319 394.404 Q69.742 394.404 72.7976 399.01 Q75.8763 403.594 75.8763 412.344 Q75.8763 421.071 72.7976 425.677 Q69.742 430.26 63.9319 430.26 Q58.1217 430.26 55.043 425.677 Q51.9875 421.071 51.9875 412.344 Q51.9875 403.594 55.043 399.01 Q58.1217 394.404 63.9319 394.404 Z\" fill=\"#000000\" fill-rule=\"evenodd\" fill-opacity=\"1\" /><path clip-path=\"url(#clip690)\" d=\"M84.0938 423.709 L88.978 423.709 L88.978 429.589 L84.0938 429.589 L84.0938 423.709 Z\" fill=\"#000000\" fill-rule=\"evenodd\" fill-opacity=\"1\" /><path clip-path=\"url(#clip690)\" d=\"M97.9826 395.029 L120.205 395.029 L120.205 397.02 L107.658 429.589 L102.774 429.589 L114.58 398.964 L97.9826 398.964 L97.9826 395.029 Z\" fill=\"#000000\" fill-rule=\"evenodd\" fill-opacity=\"1\" /><path clip-path=\"url(#clip690)\" d=\"M129.371 395.029 L147.728 395.029 L147.728 398.964 L133.654 398.964 L133.654 407.436 Q134.672 407.089 135.691 406.927 Q136.709 406.742 137.728 406.742 Q143.515 406.742 146.894 409.913 Q150.274 413.084 150.274 418.501 Q150.274 424.08 146.802 427.182 Q143.33 430.26 137.01 430.26 Q134.834 430.26 132.566 429.89 Q130.32 429.52 127.913 428.779 L127.913 424.08 Q129.996 425.214 132.219 425.77 Q134.441 426.325 136.918 426.325 Q140.922 426.325 143.26 424.219 Q145.598 422.112 145.598 418.501 Q145.598 414.89 143.26 412.784 Q140.922 410.677 136.918 410.677 Q135.043 410.677 133.168 411.094 Q131.316 411.51 129.371 412.39 L129.371 395.029 Z\" fill=\"#000000\" fill-rule=\"evenodd\" fill-opacity=\"1\" /><path clip-path=\"url(#clip690)\" d=\"M53.7467 68.5601 L61.3856 68.5601 L61.3856 42.1945 L53.0754 43.8612 L53.0754 39.6019 L61.3393 37.9353 L66.0152 37.9353 L66.0152 68.5601 L73.654 68.5601 L73.654 72.4953 L53.7467 72.4953 L53.7467 68.5601 Z\" fill=\"#000000\" fill-rule=\"evenodd\" fill-opacity=\"1\" /><path clip-path=\"url(#clip690)\" d=\"M83.0984 66.6157 L87.9827 66.6157 L87.9827 72.4953 L83.0984 72.4953 L83.0984 66.6157 Z\" fill=\"#000000\" fill-rule=\"evenodd\" fill-opacity=\"1\" /><path clip-path=\"url(#clip690)\" d=\"M108.168 41.014 Q104.557 41.014 102.728 44.5788 Q100.922 48.1204 100.922 55.25 Q100.922 62.3565 102.728 65.9212 Q104.557 69.4629 108.168 69.4629 Q111.802 69.4629 113.608 65.9212 Q115.436 62.3565 115.436 55.25 Q115.436 48.1204 113.608 44.5788 Q111.802 41.014 108.168 41.014 M108.168 37.3103 Q113.978 37.3103 117.033 41.9167 Q120.112 46.5001 120.112 55.25 Q120.112 63.9768 117.033 68.5833 Q113.978 73.1666 108.168 73.1666 Q102.358 73.1666 99.2789 68.5833 Q96.2234 63.9768 96.2234 55.25 Q96.2234 46.5001 99.2789 41.9167 Q102.358 37.3103 108.168 37.3103 Z\" fill=\"#000000\" fill-rule=\"evenodd\" fill-opacity=\"1\" /><path clip-path=\"url(#clip690)\" d=\"M138.33 41.014 Q134.719 41.014 132.89 44.5788 Q131.084 48.1204 131.084 55.25 Q131.084 62.3565 132.89 65.9212 Q134.719 69.4629 138.33 69.4629 Q141.964 69.4629 143.769 65.9212 Q145.598 62.3565 145.598 55.25 Q145.598 48.1204 143.769 44.5788 Q141.964 41.014 138.33 41.014 M138.33 37.3103 Q144.14 37.3103 147.195 41.9167 Q150.274 46.5001 150.274 55.25 Q150.274 63.9768 147.195 68.5833 Q144.14 73.1666 138.33 73.1666 Q132.519 73.1666 129.441 68.5833 Q126.385 63.9768 126.385 55.25 Q126.385 46.5001 129.441 41.9167 Q132.519 37.3103 138.33 37.3103 Z\" fill=\"#000000\" fill-rule=\"evenodd\" fill-opacity=\"1\" /><circle clip-path=\"url(#clip692)\" cx=\"247.59\" cy=\"1295.11\" r=\"14\" fill=\"#009af9\" fill-rule=\"evenodd\" fill-opacity=\"1\" stroke=\"#000000\" stroke-opacity=\"1\" stroke-width=\"3.2\"/>\n",
       "<circle clip-path=\"url(#clip692)\" cx=\"393.579\" cy=\"1298.68\" r=\"14\" fill=\"#009af9\" fill-rule=\"evenodd\" fill-opacity=\"1\" stroke=\"#000000\" stroke-opacity=\"1\" stroke-width=\"3.2\"/>\n",
       "<circle clip-path=\"url(#clip692)\" cx=\"539.568\" cy=\"487.249\" r=\"14\" fill=\"#009af9\" fill-rule=\"evenodd\" fill-opacity=\"1\" stroke=\"#000000\" stroke-opacity=\"1\" stroke-width=\"3.2\"/>\n",
       "<circle clip-path=\"url(#clip692)\" cx=\"685.558\" cy=\"194.12\" r=\"14\" fill=\"#009af9\" fill-rule=\"evenodd\" fill-opacity=\"1\" stroke=\"#000000\" stroke-opacity=\"1\" stroke-width=\"3.2\"/>\n",
       "<circle clip-path=\"url(#clip692)\" cx=\"831.547\" cy=\"115.625\" r=\"14\" fill=\"#009af9\" fill-rule=\"evenodd\" fill-opacity=\"1\" stroke=\"#000000\" stroke-opacity=\"1\" stroke-width=\"3.2\"/>\n",
       "<circle clip-path=\"url(#clip692)\" cx=\"977.536\" cy=\"502.204\" r=\"14\" fill=\"#009af9\" fill-rule=\"evenodd\" fill-opacity=\"1\" stroke=\"#000000\" stroke-opacity=\"1\" stroke-width=\"3.2\"/>\n",
       "<circle clip-path=\"url(#clip692)\" cx=\"1123.53\" cy=\"1407.97\" r=\"14\" fill=\"#009af9\" fill-rule=\"evenodd\" fill-opacity=\"1\" stroke=\"#000000\" stroke-opacity=\"1\" stroke-width=\"3.2\"/>\n",
       "<circle clip-path=\"url(#clip692)\" cx=\"1269.51\" cy=\"1445.72\" r=\"14\" fill=\"#009af9\" fill-rule=\"evenodd\" fill-opacity=\"1\" stroke=\"#000000\" stroke-opacity=\"1\" stroke-width=\"3.2\"/>\n",
       "<circle clip-path=\"url(#clip692)\" cx=\"1415.5\" cy=\"1019.61\" r=\"14\" fill=\"#009af9\" fill-rule=\"evenodd\" fill-opacity=\"1\" stroke=\"#000000\" stroke-opacity=\"1\" stroke-width=\"3.2\"/>\n",
       "<circle clip-path=\"url(#clip692)\" cx=\"1561.49\" cy=\"1078.94\" r=\"14\" fill=\"#009af9\" fill-rule=\"evenodd\" fill-opacity=\"1\" stroke=\"#000000\" stroke-opacity=\"1\" stroke-width=\"3.2\"/>\n",
       "<circle clip-path=\"url(#clip692)\" cx=\"1707.48\" cy=\"884.797\" r=\"14\" fill=\"#009af9\" fill-rule=\"evenodd\" fill-opacity=\"1\" stroke=\"#000000\" stroke-opacity=\"1\" stroke-width=\"3.2\"/>\n",
       "<circle clip-path=\"url(#clip692)\" cx=\"1853.47\" cy=\"394.654\" r=\"14\" fill=\"#009af9\" fill-rule=\"evenodd\" fill-opacity=\"1\" stroke=\"#000000\" stroke-opacity=\"1\" stroke-width=\"3.2\"/>\n",
       "<circle clip-path=\"url(#clip692)\" cx=\"1999.46\" cy=\"687.825\" r=\"14\" fill=\"#009af9\" fill-rule=\"evenodd\" fill-opacity=\"1\" stroke=\"#000000\" stroke-opacity=\"1\" stroke-width=\"3.2\"/>\n",
       "<circle clip-path=\"url(#clip692)\" cx=\"2145.45\" cy=\"87.9763\" r=\"14\" fill=\"#009af9\" fill-rule=\"evenodd\" fill-opacity=\"1\" stroke=\"#000000\" stroke-opacity=\"1\" stroke-width=\"3.2\"/>\n",
       "<circle clip-path=\"url(#clip692)\" cx=\"2291.44\" cy=\"685.915\" r=\"14\" fill=\"#009af9\" fill-rule=\"evenodd\" fill-opacity=\"1\" stroke=\"#000000\" stroke-opacity=\"1\" stroke-width=\"3.2\"/>\n",
       "<path clip-path=\"url(#clip690)\" d=\"\n",
       "M1987.39 198.898 L2280.54 198.898 L2280.54 95.2176 L1987.39 95.2176  Z\n",
       "  \" fill=\"#ffffff\" fill-rule=\"evenodd\" fill-opacity=\"1\"/>\n",
       "<polyline clip-path=\"url(#clip690)\" style=\"stroke:#000000; stroke-linecap:butt; stroke-linejoin:round; stroke-width:4; stroke-opacity:1; fill:none\" points=\"\n",
       "  1987.39,198.898 2280.54,198.898 2280.54,95.2176 1987.39,95.2176 1987.39,198.898 \n",
       "  \"/>\n",
       "<circle clip-path=\"url(#clip690)\" cx=\"2083.68\" cy=\"147.058\" r=\"23\" fill=\"#009af9\" fill-rule=\"evenodd\" fill-opacity=\"1\" stroke=\"#000000\" stroke-opacity=\"1\" stroke-width=\"5.12\"/>\n",
       "<path clip-path=\"url(#clip690)\" d=\"M2193.81 166.745 Q2192 171.375 2190.29 172.787 Q2188.58 174.199 2185.71 174.199 L2182.3 174.199 L2182.3 170.634 L2184.8 170.634 Q2186.56 170.634 2187.53 169.8 Q2188.51 168.967 2189.69 165.865 L2190.45 163.921 L2179.97 138.412 L2184.48 138.412 L2192.58 158.689 L2200.68 138.412 L2205.2 138.412 L2193.81 166.745 Z\" fill=\"#000000\" fill-rule=\"evenodd\" fill-opacity=\"1\" /><path clip-path=\"url(#clip690)\" d=\"M2212.49 160.402 L2220.13 160.402 L2220.13 134.037 L2211.82 135.703 L2211.82 131.444 L2220.08 129.778 L2224.76 129.778 L2224.76 160.402 L2232.4 160.402 L2232.4 164.338 L2212.49 164.338 L2212.49 160.402 Z\" fill=\"#000000\" fill-rule=\"evenodd\" fill-opacity=\"1\" /></svg>\n"
      ]
     },
     "execution_count": 117,
     "metadata": {},
     "output_type": "execute_result"
    }
   ],
   "source": [
    "scatter(x, y) # scatter chart"
   ]
  },
  {
   "cell_type": "code",
   "execution_count": 118,
   "metadata": {},
   "outputs": [
    {
     "data": {
      "image/svg+xml": [
       "<?xml version=\"1.0\" encoding=\"utf-8\"?>\n",
       "<svg xmlns=\"http://www.w3.org/2000/svg\" xmlns:xlink=\"http://www.w3.org/1999/xlink\" width=\"600\" height=\"400\" viewBox=\"0 0 2400 1600\">\n",
       "<defs>\n",
       "  <clipPath id=\"clip730\">\n",
       "    <rect x=\"0\" y=\"0\" width=\"2400\" height=\"1600\"/>\n",
       "  </clipPath>\n",
       "</defs>\n",
       "<path clip-path=\"url(#clip730)\" d=\"\n",
       "M0 1600 L2400 1600 L2400 0 L0 0  Z\n",
       "  \" fill=\"#ffffff\" fill-rule=\"evenodd\" fill-opacity=\"1\"/>\n",
       "<defs>\n",
       "  <clipPath id=\"clip731\">\n",
       "    <rect x=\"480\" y=\"0\" width=\"1681\" height=\"1600\"/>\n",
       "  </clipPath>\n",
       "</defs>\n",
       "<path clip-path=\"url(#clip730)\" d=\"\n",
       "M186.274 1486.45 L2352.76 1486.45 L2352.76 47.2441 L186.274 47.2441  Z\n",
       "  \" fill=\"#ffffff\" fill-rule=\"evenodd\" fill-opacity=\"1\"/>\n",
       "<defs>\n",
       "  <clipPath id=\"clip732\">\n",
       "    <rect x=\"186\" y=\"47\" width=\"2167\" height=\"1440\"/>\n",
       "  </clipPath>\n",
       "</defs>\n",
       "<polyline clip-path=\"url(#clip732)\" style=\"stroke:#000000; stroke-linecap:butt; stroke-linejoin:round; stroke-width:2; stroke-opacity:0.1; fill:none\" points=\"\n",
       "  227.266,1486.45 227.266,47.2441 \n",
       "  \"/>\n",
       "<polyline clip-path=\"url(#clip732)\" style=\"stroke:#000000; stroke-linecap:butt; stroke-linejoin:round; stroke-width:2; stroke-opacity:0.1; fill:none\" points=\"\n",
       "  878.671,1486.45 878.671,47.2441 \n",
       "  \"/>\n",
       "<polyline clip-path=\"url(#clip732)\" style=\"stroke:#000000; stroke-linecap:butt; stroke-linejoin:round; stroke-width:2; stroke-opacity:0.1; fill:none\" points=\"\n",
       "  1530.08,1486.45 1530.08,47.2441 \n",
       "  \"/>\n",
       "<polyline clip-path=\"url(#clip732)\" style=\"stroke:#000000; stroke-linecap:butt; stroke-linejoin:round; stroke-width:2; stroke-opacity:0.1; fill:none\" points=\"\n",
       "  2181.48,1486.45 2181.48,47.2441 \n",
       "  \"/>\n",
       "<polyline clip-path=\"url(#clip730)\" style=\"stroke:#000000; stroke-linecap:butt; stroke-linejoin:round; stroke-width:4; stroke-opacity:1; fill:none\" points=\"\n",
       "  186.274,1486.45 2352.76,1486.45 \n",
       "  \"/>\n",
       "<polyline clip-path=\"url(#clip730)\" style=\"stroke:#000000; stroke-linecap:butt; stroke-linejoin:round; stroke-width:4; stroke-opacity:1; fill:none\" points=\"\n",
       "  227.266,1486.45 227.266,1467.55 \n",
       "  \"/>\n",
       "<polyline clip-path=\"url(#clip730)\" style=\"stroke:#000000; stroke-linecap:butt; stroke-linejoin:round; stroke-width:4; stroke-opacity:1; fill:none\" points=\"\n",
       "  878.671,1486.45 878.671,1467.55 \n",
       "  \"/>\n",
       "<polyline clip-path=\"url(#clip730)\" style=\"stroke:#000000; stroke-linecap:butt; stroke-linejoin:round; stroke-width:4; stroke-opacity:1; fill:none\" points=\"\n",
       "  1530.08,1486.45 1530.08,1467.55 \n",
       "  \"/>\n",
       "<polyline clip-path=\"url(#clip730)\" style=\"stroke:#000000; stroke-linecap:butt; stroke-linejoin:round; stroke-width:4; stroke-opacity:1; fill:none\" points=\"\n",
       "  2181.48,1486.45 2181.48,1467.55 \n",
       "  \"/>\n",
       "<path clip-path=\"url(#clip730)\" d=\"M227.266 1517.37 Q223.655 1517.37 221.826 1520.93 Q220.02 1524.47 220.02 1531.6 Q220.02 1538.71 221.826 1542.27 Q223.655 1545.82 227.266 1545.82 Q230.9 1545.82 232.705 1542.27 Q234.534 1538.71 234.534 1531.6 Q234.534 1524.47 232.705 1520.93 Q230.9 1517.37 227.266 1517.37 M227.266 1513.66 Q233.076 1513.66 236.131 1518.27 Q239.21 1522.85 239.21 1531.6 Q239.21 1540.33 236.131 1544.94 Q233.076 1549.52 227.266 1549.52 Q221.456 1549.52 218.377 1544.94 Q215.321 1540.33 215.321 1531.6 Q215.321 1522.85 218.377 1518.27 Q221.456 1513.66 227.266 1513.66 Z\" fill=\"#000000\" fill-rule=\"evenodd\" fill-opacity=\"1\" /><path clip-path=\"url(#clip730)\" d=\"M868.949 1514.29 L887.306 1514.29 L887.306 1518.22 L873.232 1518.22 L873.232 1526.7 Q874.25 1526.35 875.269 1526.19 Q876.287 1526 877.306 1526 Q883.093 1526 886.472 1529.17 Q889.852 1532.34 889.852 1537.76 Q889.852 1543.34 886.38 1546.44 Q882.908 1549.52 876.588 1549.52 Q874.412 1549.52 872.144 1549.15 Q869.898 1548.78 867.491 1548.04 L867.491 1543.34 Q869.574 1544.47 871.797 1545.03 Q874.019 1545.58 876.496 1545.58 Q880.5 1545.58 882.838 1543.48 Q885.176 1541.37 885.176 1537.76 Q885.176 1534.15 882.838 1532.04 Q880.5 1529.94 876.496 1529.94 Q874.621 1529.94 872.746 1530.35 Q870.894 1530.77 868.949 1531.65 L868.949 1514.29 Z\" fill=\"#000000\" fill-rule=\"evenodd\" fill-opacity=\"1\" /><path clip-path=\"url(#clip730)\" d=\"M1504.76 1544.91 L1512.4 1544.91 L1512.4 1518.55 L1504.09 1520.21 L1504.09 1515.95 L1512.36 1514.29 L1517.03 1514.29 L1517.03 1544.91 L1524.67 1544.91 L1524.67 1548.85 L1504.76 1548.85 L1504.76 1544.91 Z\" fill=\"#000000\" fill-rule=\"evenodd\" fill-opacity=\"1\" /><path clip-path=\"url(#clip730)\" d=\"M1544.12 1517.37 Q1540.51 1517.37 1538.68 1520.93 Q1536.87 1524.47 1536.87 1531.6 Q1536.87 1538.71 1538.68 1542.27 Q1540.51 1545.82 1544.12 1545.82 Q1547.75 1545.82 1549.56 1542.27 Q1551.39 1538.71 1551.39 1531.6 Q1551.39 1524.47 1549.56 1520.93 Q1547.75 1517.37 1544.12 1517.37 M1544.12 1513.66 Q1549.93 1513.66 1552.98 1518.27 Q1556.06 1522.85 1556.06 1531.6 Q1556.06 1540.33 1552.98 1544.94 Q1549.93 1549.52 1544.12 1549.52 Q1538.31 1549.52 1535.23 1544.94 Q1532.17 1540.33 1532.17 1531.6 Q1532.17 1522.85 1535.23 1518.27 Q1538.31 1513.66 1544.12 1513.66 Z\" fill=\"#000000\" fill-rule=\"evenodd\" fill-opacity=\"1\" /><path clip-path=\"url(#clip730)\" d=\"M2156.67 1544.91 L2164.31 1544.91 L2164.31 1518.55 L2156 1520.21 L2156 1515.95 L2164.26 1514.29 L2168.94 1514.29 L2168.94 1544.91 L2176.58 1544.91 L2176.58 1548.85 L2156.67 1548.85 L2156.67 1544.91 Z\" fill=\"#000000\" fill-rule=\"evenodd\" fill-opacity=\"1\" /><path clip-path=\"url(#clip730)\" d=\"M2186.07 1514.29 L2204.42 1514.29 L2204.42 1518.22 L2190.35 1518.22 L2190.35 1526.7 Q2191.37 1526.35 2192.39 1526.19 Q2193.4 1526 2194.42 1526 Q2200.21 1526 2203.59 1529.17 Q2206.97 1532.34 2206.97 1537.76 Q2206.97 1543.34 2203.5 1546.44 Q2200.02 1549.52 2193.71 1549.52 Q2191.53 1549.52 2189.26 1549.15 Q2187.02 1548.78 2184.61 1548.04 L2184.61 1543.34 Q2186.69 1544.47 2188.91 1545.03 Q2191.14 1545.58 2193.61 1545.58 Q2197.62 1545.58 2199.96 1543.48 Q2202.29 1541.37 2202.29 1537.76 Q2202.29 1534.15 2199.96 1532.04 Q2197.62 1529.94 2193.61 1529.94 Q2191.74 1529.94 2189.86 1530.35 Q2188.01 1530.77 2186.07 1531.65 L2186.07 1514.29 Z\" fill=\"#000000\" fill-rule=\"evenodd\" fill-opacity=\"1\" /><polyline clip-path=\"url(#clip732)\" style=\"stroke:#000000; stroke-linecap:butt; stroke-linejoin:round; stroke-width:2; stroke-opacity:0.1; fill:none\" points=\"\n",
       "  186.274,1445.72 2352.76,1445.72 \n",
       "  \"/>\n",
       "<polyline clip-path=\"url(#clip732)\" style=\"stroke:#000000; stroke-linecap:butt; stroke-linejoin:round; stroke-width:2; stroke-opacity:0.1; fill:none\" points=\"\n",
       "  186.274,1098.31 2352.76,1098.31 \n",
       "  \"/>\n",
       "<polyline clip-path=\"url(#clip732)\" style=\"stroke:#000000; stroke-linecap:butt; stroke-linejoin:round; stroke-width:2; stroke-opacity:0.1; fill:none\" points=\"\n",
       "  186.274,750.91 2352.76,750.91 \n",
       "  \"/>\n",
       "<polyline clip-path=\"url(#clip732)\" style=\"stroke:#000000; stroke-linecap:butt; stroke-linejoin:round; stroke-width:2; stroke-opacity:0.1; fill:none\" points=\"\n",
       "  186.274,403.507 2352.76,403.507 \n",
       "  \"/>\n",
       "<polyline clip-path=\"url(#clip732)\" style=\"stroke:#000000; stroke-linecap:butt; stroke-linejoin:round; stroke-width:2; stroke-opacity:0.1; fill:none\" points=\"\n",
       "  186.274,56.1044 2352.76,56.1044 \n",
       "  \"/>\n",
       "<polyline clip-path=\"url(#clip730)\" style=\"stroke:#000000; stroke-linecap:butt; stroke-linejoin:round; stroke-width:4; stroke-opacity:1; fill:none\" points=\"\n",
       "  186.274,1486.45 186.274,47.2441 \n",
       "  \"/>\n",
       "<polyline clip-path=\"url(#clip730)\" style=\"stroke:#000000; stroke-linecap:butt; stroke-linejoin:round; stroke-width:4; stroke-opacity:1; fill:none\" points=\"\n",
       "  186.274,1445.72 205.172,1445.72 \n",
       "  \"/>\n",
       "<polyline clip-path=\"url(#clip730)\" style=\"stroke:#000000; stroke-linecap:butt; stroke-linejoin:round; stroke-width:4; stroke-opacity:1; fill:none\" points=\"\n",
       "  186.274,1098.31 205.172,1098.31 \n",
       "  \"/>\n",
       "<polyline clip-path=\"url(#clip730)\" style=\"stroke:#000000; stroke-linecap:butt; stroke-linejoin:round; stroke-width:4; stroke-opacity:1; fill:none\" points=\"\n",
       "  186.274,750.91 205.172,750.91 \n",
       "  \"/>\n",
       "<polyline clip-path=\"url(#clip730)\" style=\"stroke:#000000; stroke-linecap:butt; stroke-linejoin:round; stroke-width:4; stroke-opacity:1; fill:none\" points=\"\n",
       "  186.274,403.507 205.172,403.507 \n",
       "  \"/>\n",
       "<polyline clip-path=\"url(#clip730)\" style=\"stroke:#000000; stroke-linecap:butt; stroke-linejoin:round; stroke-width:4; stroke-opacity:1; fill:none\" points=\"\n",
       "  186.274,56.1044 205.172,56.1044 \n",
       "  \"/>\n",
       "<path clip-path=\"url(#clip730)\" d=\"M62.9365 1431.51 Q59.3254 1431.51 57.4967 1435.08 Q55.6912 1438.62 55.6912 1445.75 Q55.6912 1452.86 57.4967 1456.42 Q59.3254 1459.96 62.9365 1459.96 Q66.5707 1459.96 68.3763 1456.42 Q70.205 1452.86 70.205 1445.75 Q70.205 1438.62 68.3763 1435.08 Q66.5707 1431.51 62.9365 1431.51 M62.9365 1427.81 Q68.7467 1427.81 71.8022 1432.42 Q74.8809 1437 74.8809 1445.75 Q74.8809 1454.48 71.8022 1459.08 Q68.7467 1463.67 62.9365 1463.67 Q57.1264 1463.67 54.0477 1459.08 Q50.9921 1454.48 50.9921 1445.75 Q50.9921 1437 54.0477 1432.42 Q57.1264 1427.81 62.9365 1427.81 Z\" fill=\"#000000\" fill-rule=\"evenodd\" fill-opacity=\"1\" /><path clip-path=\"url(#clip730)\" d=\"M83.0984 1457.12 L87.9827 1457.12 L87.9827 1463 L83.0984 1463 L83.0984 1457.12 Z\" fill=\"#000000\" fill-rule=\"evenodd\" fill-opacity=\"1\" /><path clip-path=\"url(#clip730)\" d=\"M108.168 1431.51 Q104.557 1431.51 102.728 1435.08 Q100.922 1438.62 100.922 1445.75 Q100.922 1452.86 102.728 1456.42 Q104.557 1459.96 108.168 1459.96 Q111.802 1459.96 113.608 1456.42 Q115.436 1452.86 115.436 1445.75 Q115.436 1438.62 113.608 1435.08 Q111.802 1431.51 108.168 1431.51 M108.168 1427.81 Q113.978 1427.81 117.033 1432.42 Q120.112 1437 120.112 1445.75 Q120.112 1454.48 117.033 1459.08 Q113.978 1463.67 108.168 1463.67 Q102.358 1463.67 99.2789 1459.08 Q96.2234 1454.48 96.2234 1445.75 Q96.2234 1437 99.2789 1432.42 Q102.358 1427.81 108.168 1427.81 Z\" fill=\"#000000\" fill-rule=\"evenodd\" fill-opacity=\"1\" /><path clip-path=\"url(#clip730)\" d=\"M138.33 1431.51 Q134.719 1431.51 132.89 1435.08 Q131.084 1438.62 131.084 1445.75 Q131.084 1452.86 132.89 1456.42 Q134.719 1459.96 138.33 1459.96 Q141.964 1459.96 143.769 1456.42 Q145.598 1452.86 145.598 1445.75 Q145.598 1438.62 143.769 1435.08 Q141.964 1431.51 138.33 1431.51 M138.33 1427.81 Q144.14 1427.81 147.195 1432.42 Q150.274 1437 150.274 1445.75 Q150.274 1454.48 147.195 1459.08 Q144.14 1463.67 138.33 1463.67 Q132.519 1463.67 129.441 1459.08 Q126.385 1454.48 126.385 1445.75 Q126.385 1437 129.441 1432.42 Q132.519 1427.81 138.33 1427.81 Z\" fill=\"#000000\" fill-rule=\"evenodd\" fill-opacity=\"1\" /><path clip-path=\"url(#clip730)\" d=\"M63.9319 1084.11 Q60.3208 1084.11 58.4921 1087.68 Q56.6865 1091.22 56.6865 1098.35 Q56.6865 1105.45 58.4921 1109.02 Q60.3208 1112.56 63.9319 1112.56 Q67.5661 1112.56 69.3717 1109.02 Q71.2004 1105.45 71.2004 1098.35 Q71.2004 1091.22 69.3717 1087.68 Q67.5661 1084.11 63.9319 1084.11 M63.9319 1080.41 Q69.742 1080.41 72.7976 1085.01 Q75.8763 1089.6 75.8763 1098.35 Q75.8763 1107.07 72.7976 1111.68 Q69.742 1116.26 63.9319 1116.26 Q58.1217 1116.26 55.043 1111.68 Q51.9875 1107.07 51.9875 1098.35 Q51.9875 1089.6 55.043 1085.01 Q58.1217 1080.41 63.9319 1080.41 Z\" fill=\"#000000\" fill-rule=\"evenodd\" fill-opacity=\"1\" /><path clip-path=\"url(#clip730)\" d=\"M84.0938 1109.71 L88.978 1109.71 L88.978 1115.59 L84.0938 1115.59 L84.0938 1109.71 Z\" fill=\"#000000\" fill-rule=\"evenodd\" fill-opacity=\"1\" /><path clip-path=\"url(#clip730)\" d=\"M103.191 1111.66 L119.51 1111.66 L119.51 1115.59 L97.566 1115.59 L97.566 1111.66 Q100.228 1108.9 104.811 1104.27 Q109.418 1099.62 110.598 1098.28 Q112.844 1095.76 113.723 1094.02 Q114.626 1092.26 114.626 1090.57 Q114.626 1087.82 112.682 1086.08 Q110.76 1084.34 107.658 1084.34 Q105.459 1084.34 103.006 1085.11 Q100.575 1085.87 97.7974 1087.42 L97.7974 1082.7 Q100.621 1081.57 103.075 1080.99 Q105.529 1080.41 107.566 1080.41 Q112.936 1080.41 116.131 1083.09 Q119.325 1085.78 119.325 1090.27 Q119.325 1092.4 118.515 1094.32 Q117.728 1096.22 115.621 1098.81 Q115.043 1099.48 111.941 1102.7 Q108.839 1105.89 103.191 1111.66 Z\" fill=\"#000000\" fill-rule=\"evenodd\" fill-opacity=\"1\" /><path clip-path=\"url(#clip730)\" d=\"M129.371 1081.03 L147.728 1081.03 L147.728 1084.97 L133.654 1084.97 L133.654 1093.44 Q134.672 1093.09 135.691 1092.93 Q136.709 1092.75 137.728 1092.75 Q143.515 1092.75 146.894 1095.92 Q150.274 1099.09 150.274 1104.5 Q150.274 1110.08 146.802 1113.19 Q143.33 1116.26 137.01 1116.26 Q134.834 1116.26 132.566 1115.89 Q130.32 1115.52 127.913 1114.78 L127.913 1110.08 Q129.996 1111.22 132.219 1111.77 Q134.441 1112.33 136.918 1112.33 Q140.922 1112.33 143.26 1110.22 Q145.598 1108.12 145.598 1104.5 Q145.598 1100.89 143.26 1098.79 Q140.922 1096.68 136.918 1096.68 Q135.043 1096.68 133.168 1097.1 Q131.316 1097.51 129.371 1098.39 L129.371 1081.03 Z\" fill=\"#000000\" fill-rule=\"evenodd\" fill-opacity=\"1\" /><path clip-path=\"url(#clip730)\" d=\"M62.9365 736.709 Q59.3254 736.709 57.4967 740.274 Q55.6912 743.815 55.6912 750.945 Q55.6912 758.051 57.4967 761.616 Q59.3254 765.158 62.9365 765.158 Q66.5707 765.158 68.3763 761.616 Q70.205 758.051 70.205 750.945 Q70.205 743.815 68.3763 740.274 Q66.5707 736.709 62.9365 736.709 M62.9365 733.005 Q68.7467 733.005 71.8022 737.611 Q74.8809 742.195 74.8809 750.945 Q74.8809 759.672 71.8022 764.278 Q68.7467 768.861 62.9365 768.861 Q57.1264 768.861 54.0477 764.278 Q50.9921 759.672 50.9921 750.945 Q50.9921 742.195 54.0477 737.611 Q57.1264 733.005 62.9365 733.005 Z\" fill=\"#000000\" fill-rule=\"evenodd\" fill-opacity=\"1\" /><path clip-path=\"url(#clip730)\" d=\"M83.0984 762.31 L87.9827 762.31 L87.9827 768.19 L83.0984 768.19 L83.0984 762.31 Z\" fill=\"#000000\" fill-rule=\"evenodd\" fill-opacity=\"1\" /><path clip-path=\"url(#clip730)\" d=\"M98.2141 733.63 L116.57 733.63 L116.57 737.565 L102.496 737.565 L102.496 746.037 Q103.515 745.69 104.534 745.528 Q105.552 745.343 106.571 745.343 Q112.358 745.343 115.737 748.514 Q119.117 751.685 119.117 757.102 Q119.117 762.681 115.645 765.783 Q112.172 768.861 105.853 768.861 Q103.677 768.861 101.409 768.491 Q99.1632 768.121 96.7558 767.38 L96.7558 762.681 Q98.8391 763.815 101.061 764.371 Q103.284 764.926 105.76 764.926 Q109.765 764.926 112.103 762.82 Q114.441 760.713 114.441 757.102 Q114.441 753.491 112.103 751.385 Q109.765 749.278 105.76 749.278 Q103.885 749.278 102.01 749.695 Q100.159 750.111 98.2141 750.991 L98.2141 733.63 Z\" fill=\"#000000\" fill-rule=\"evenodd\" fill-opacity=\"1\" /><path clip-path=\"url(#clip730)\" d=\"M138.33 736.709 Q134.719 736.709 132.89 740.274 Q131.084 743.815 131.084 750.945 Q131.084 758.051 132.89 761.616 Q134.719 765.158 138.33 765.158 Q141.964 765.158 143.769 761.616 Q145.598 758.051 145.598 750.945 Q145.598 743.815 143.769 740.274 Q141.964 736.709 138.33 736.709 M138.33 733.005 Q144.14 733.005 147.195 737.611 Q150.274 742.195 150.274 750.945 Q150.274 759.672 147.195 764.278 Q144.14 768.861 138.33 768.861 Q132.519 768.861 129.441 764.278 Q126.385 759.672 126.385 750.945 Q126.385 742.195 129.441 737.611 Q132.519 733.005 138.33 733.005 Z\" fill=\"#000000\" fill-rule=\"evenodd\" fill-opacity=\"1\" /><path clip-path=\"url(#clip730)\" d=\"M63.9319 389.306 Q60.3208 389.306 58.4921 392.871 Q56.6865 396.412 56.6865 403.542 Q56.6865 410.648 58.4921 414.213 Q60.3208 417.755 63.9319 417.755 Q67.5661 417.755 69.3717 414.213 Q71.2004 410.648 71.2004 403.542 Q71.2004 396.412 69.3717 392.871 Q67.5661 389.306 63.9319 389.306 M63.9319 385.602 Q69.742 385.602 72.7976 390.209 Q75.8763 394.792 75.8763 403.542 Q75.8763 412.269 72.7976 416.875 Q69.742 421.458 63.9319 421.458 Q58.1217 421.458 55.043 416.875 Q51.9875 412.269 51.9875 403.542 Q51.9875 394.792 55.043 390.209 Q58.1217 385.602 63.9319 385.602 Z\" fill=\"#000000\" fill-rule=\"evenodd\" fill-opacity=\"1\" /><path clip-path=\"url(#clip730)\" d=\"M84.0938 414.908 L88.978 414.908 L88.978 420.787 L84.0938 420.787 L84.0938 414.908 Z\" fill=\"#000000\" fill-rule=\"evenodd\" fill-opacity=\"1\" /><path clip-path=\"url(#clip730)\" d=\"M97.9826 386.227 L120.205 386.227 L120.205 388.218 L107.658 420.787 L102.774 420.787 L114.58 390.162 L97.9826 390.162 L97.9826 386.227 Z\" fill=\"#000000\" fill-rule=\"evenodd\" fill-opacity=\"1\" /><path clip-path=\"url(#clip730)\" d=\"M129.371 386.227 L147.728 386.227 L147.728 390.162 L133.654 390.162 L133.654 398.635 Q134.672 398.287 135.691 398.125 Q136.709 397.94 137.728 397.94 Q143.515 397.94 146.894 401.111 Q150.274 404.283 150.274 409.699 Q150.274 415.278 146.802 418.38 Q143.33 421.458 137.01 421.458 Q134.834 421.458 132.566 421.088 Q130.32 420.718 127.913 419.977 L127.913 415.278 Q129.996 416.412 132.219 416.968 Q134.441 417.523 136.918 417.523 Q140.922 417.523 143.26 415.417 Q145.598 413.31 145.598 409.699 Q145.598 406.088 143.26 403.982 Q140.922 401.875 136.918 401.875 Q135.043 401.875 133.168 402.292 Q131.316 402.709 129.371 403.588 L129.371 386.227 Z\" fill=\"#000000\" fill-rule=\"evenodd\" fill-opacity=\"1\" /><path clip-path=\"url(#clip730)\" d=\"M53.7467 69.4492 L61.3856 69.4492 L61.3856 43.0836 L53.0754 44.7503 L53.0754 40.491 L61.3393 38.8244 L66.0152 38.8244 L66.0152 69.4492 L73.654 69.4492 L73.654 73.3844 L53.7467 73.3844 L53.7467 69.4492 Z\" fill=\"#000000\" fill-rule=\"evenodd\" fill-opacity=\"1\" /><path clip-path=\"url(#clip730)\" d=\"M83.0984 67.5048 L87.9827 67.5048 L87.9827 73.3844 L83.0984 73.3844 L83.0984 67.5048 Z\" fill=\"#000000\" fill-rule=\"evenodd\" fill-opacity=\"1\" /><path clip-path=\"url(#clip730)\" d=\"M108.168 41.903 Q104.557 41.903 102.728 45.4678 Q100.922 49.0095 100.922 56.1391 Q100.922 63.2455 102.728 66.8103 Q104.557 70.352 108.168 70.352 Q111.802 70.352 113.608 66.8103 Q115.436 63.2455 115.436 56.1391 Q115.436 49.0095 113.608 45.4678 Q111.802 41.903 108.168 41.903 M108.168 38.1994 Q113.978 38.1994 117.033 42.8058 Q120.112 47.3891 120.112 56.1391 Q120.112 64.8659 117.033 69.4723 Q113.978 74.0557 108.168 74.0557 Q102.358 74.0557 99.2789 69.4723 Q96.2234 64.8659 96.2234 56.1391 Q96.2234 47.3891 99.2789 42.8058 Q102.358 38.1994 108.168 38.1994 Z\" fill=\"#000000\" fill-rule=\"evenodd\" fill-opacity=\"1\" /><path clip-path=\"url(#clip730)\" d=\"M138.33 41.903 Q134.719 41.903 132.89 45.4678 Q131.084 49.0095 131.084 56.1391 Q131.084 63.2455 132.89 66.8103 Q134.719 70.352 138.33 70.352 Q141.964 70.352 143.769 66.8103 Q145.598 63.2455 145.598 56.1391 Q145.598 49.0095 143.769 45.4678 Q141.964 41.903 138.33 41.903 M138.33 38.1994 Q144.14 38.1994 147.195 42.8058 Q150.274 47.3891 150.274 56.1391 Q150.274 64.8659 147.195 69.4723 Q144.14 74.0557 138.33 74.0557 Q132.519 74.0557 129.441 69.4723 Q126.385 64.8659 126.385 56.1391 Q126.385 47.3891 129.441 42.8058 Q132.519 38.1994 138.33 38.1994 Z\" fill=\"#000000\" fill-rule=\"evenodd\" fill-opacity=\"1\" /><path clip-path=\"url(#clip732)\" d=\"\n",
       "M305.434 1262.35 L305.434 1445.72 L409.659 1445.72 L409.659 1262.35 L305.434 1262.35 L305.434 1262.35  Z\n",
       "  \" fill=\"#009af9\" fill-rule=\"evenodd\" fill-opacity=\"1\"/>\n",
       "<polyline clip-path=\"url(#clip732)\" style=\"stroke:#000000; stroke-linecap:butt; stroke-linejoin:round; stroke-width:4; stroke-opacity:1; fill:none\" points=\"\n",
       "  305.434,1262.35 305.434,1445.72 409.659,1445.72 409.659,1262.35 305.434,1262.35 \n",
       "  \"/>\n",
       "<path clip-path=\"url(#clip732)\" d=\"\n",
       "M435.716 1265.82 L435.716 1445.72 L539.94 1445.72 L539.94 1265.82 L435.716 1265.82 L435.716 1265.82  Z\n",
       "  \" fill=\"#009af9\" fill-rule=\"evenodd\" fill-opacity=\"1\"/>\n",
       "<polyline clip-path=\"url(#clip732)\" style=\"stroke:#000000; stroke-linecap:butt; stroke-linejoin:round; stroke-width:4; stroke-opacity:1; fill:none\" points=\"\n",
       "  435.716,1265.82 435.716,1445.72 539.94,1445.72 539.94,1265.82 435.716,1265.82 \n",
       "  \"/>\n",
       "<path clip-path=\"url(#clip732)\" d=\"\n",
       "M565.997 476.413 L565.997 1445.72 L670.222 1445.72 L670.222 476.413 L565.997 476.413 L565.997 476.413  Z\n",
       "  \" fill=\"#009af9\" fill-rule=\"evenodd\" fill-opacity=\"1\"/>\n",
       "<polyline clip-path=\"url(#clip732)\" style=\"stroke:#000000; stroke-linecap:butt; stroke-linejoin:round; stroke-width:4; stroke-opacity:1; fill:none\" points=\"\n",
       "  565.997,476.413 565.997,1445.72 670.222,1445.72 670.222,476.413 565.997,476.413 \n",
       "  \"/>\n",
       "<path clip-path=\"url(#clip732)\" d=\"\n",
       "M696.278 191.24 L696.278 1445.72 L800.503 1445.72 L800.503 191.24 L696.278 191.24 L696.278 191.24  Z\n",
       "  \" fill=\"#009af9\" fill-rule=\"evenodd\" fill-opacity=\"1\"/>\n",
       "<polyline clip-path=\"url(#clip732)\" style=\"stroke:#000000; stroke-linecap:butt; stroke-linejoin:round; stroke-width:4; stroke-opacity:1; fill:none\" points=\"\n",
       "  696.278,191.24 696.278,1445.72 800.503,1445.72 800.503,191.24 696.278,191.24 \n",
       "  \"/>\n",
       "<path clip-path=\"url(#clip732)\" d=\"\n",
       "M826.559 114.874 L826.559 1445.72 L930.784 1445.72 L930.784 114.874 L826.559 114.874 L826.559 114.874  Z\n",
       "  \" fill=\"#009af9\" fill-rule=\"evenodd\" fill-opacity=\"1\"/>\n",
       "<polyline clip-path=\"url(#clip732)\" style=\"stroke:#000000; stroke-linecap:butt; stroke-linejoin:round; stroke-width:4; stroke-opacity:1; fill:none\" points=\"\n",
       "  826.559,114.874 826.559,1445.72 930.784,1445.72 930.784,114.874 826.559,114.874 \n",
       "  \"/>\n",
       "<path clip-path=\"url(#clip732)\" d=\"\n",
       "M956.84 490.963 L956.84 1445.72 L1061.07 1445.72 L1061.07 490.963 L956.84 490.963 L956.84 490.963  Z\n",
       "  \" fill=\"#009af9\" fill-rule=\"evenodd\" fill-opacity=\"1\"/>\n",
       "<polyline clip-path=\"url(#clip732)\" style=\"stroke:#000000; stroke-linecap:butt; stroke-linejoin:round; stroke-width:4; stroke-opacity:1; fill:none\" points=\"\n",
       "  956.84,490.963 956.84,1445.72 1061.07,1445.72 1061.07,490.963 956.84,490.963 \n",
       "  \"/>\n",
       "<path clip-path=\"url(#clip732)\" d=\"\n",
       "M1087.12 1372.14 L1087.12 1445.72 L1191.35 1445.72 L1191.35 1372.14 L1087.12 1372.14 L1087.12 1372.14  Z\n",
       "  \" fill=\"#009af9\" fill-rule=\"evenodd\" fill-opacity=\"1\"/>\n",
       "<polyline clip-path=\"url(#clip732)\" style=\"stroke:#000000; stroke-linecap:butt; stroke-linejoin:round; stroke-width:4; stroke-opacity:1; fill:none\" points=\"\n",
       "  1087.12,1372.14 1087.12,1445.72 1191.35,1445.72 1191.35,1372.14 1087.12,1372.14 \n",
       "  \"/>\n",
       "<path clip-path=\"url(#clip732)\" d=\"\n",
       "M1217.4 1408.87 L1217.4 1445.72 L1321.63 1445.72 L1321.63 1408.87 L1217.4 1408.87 L1217.4 1408.87  Z\n",
       "  \" fill=\"#009af9\" fill-rule=\"evenodd\" fill-opacity=\"1\"/>\n",
       "<polyline clip-path=\"url(#clip732)\" style=\"stroke:#000000; stroke-linecap:butt; stroke-linejoin:round; stroke-width:4; stroke-opacity:1; fill:none\" points=\"\n",
       "  1217.4,1408.87 1217.4,1445.72 1321.63,1445.72 1321.63,1408.87 1217.4,1408.87 \n",
       "  \"/>\n",
       "<path clip-path=\"url(#clip732)\" d=\"\n",
       "M1347.68 994.325 L1347.68 1445.72 L1451.91 1445.72 L1451.91 994.325 L1347.68 994.325 L1347.68 994.325  Z\n",
       "  \" fill=\"#009af9\" fill-rule=\"evenodd\" fill-opacity=\"1\"/>\n",
       "<polyline clip-path=\"url(#clip732)\" style=\"stroke:#000000; stroke-linecap:butt; stroke-linejoin:round; stroke-width:4; stroke-opacity:1; fill:none\" points=\"\n",
       "  1347.68,994.325 1347.68,1445.72 1451.91,1445.72 1451.91,994.325 1347.68,994.325 \n",
       "  \"/>\n",
       "<path clip-path=\"url(#clip732)\" d=\"\n",
       "M1477.96 1052.04 L1477.96 1445.72 L1582.19 1445.72 L1582.19 1052.04 L1477.96 1052.04 L1477.96 1052.04  Z\n",
       "  \" fill=\"#009af9\" fill-rule=\"evenodd\" fill-opacity=\"1\"/>\n",
       "<polyline clip-path=\"url(#clip732)\" style=\"stroke:#000000; stroke-linecap:butt; stroke-linejoin:round; stroke-width:4; stroke-opacity:1; fill:none\" points=\"\n",
       "  1477.96,1052.04 1477.96,1445.72 1582.19,1445.72 1582.19,1052.04 1477.96,1052.04 \n",
       "  \"/>\n",
       "<path clip-path=\"url(#clip732)\" d=\"\n",
       "M1608.25 863.173 L1608.25 1445.72 L1712.47 1445.72 L1712.47 863.173 L1608.25 863.173 L1608.25 863.173  Z\n",
       "  \" fill=\"#009af9\" fill-rule=\"evenodd\" fill-opacity=\"1\"/>\n",
       "<polyline clip-path=\"url(#clip732)\" style=\"stroke:#000000; stroke-linecap:butt; stroke-linejoin:round; stroke-width:4; stroke-opacity:1; fill:none\" points=\"\n",
       "  1608.25,863.173 1608.25,1445.72 1712.47,1445.72 1712.47,863.173 1608.25,863.173 \n",
       "  \"/>\n",
       "<path clip-path=\"url(#clip732)\" d=\"\n",
       "M1738.53 386.332 L1738.53 1445.72 L1842.75 1445.72 L1842.75 386.332 L1738.53 386.332 L1738.53 386.332  Z\n",
       "  \" fill=\"#009af9\" fill-rule=\"evenodd\" fill-opacity=\"1\"/>\n",
       "<polyline clip-path=\"url(#clip732)\" style=\"stroke:#000000; stroke-linecap:butt; stroke-linejoin:round; stroke-width:4; stroke-opacity:1; fill:none\" points=\"\n",
       "  1738.53,386.332 1738.53,1445.72 1842.75,1445.72 1842.75,386.332 1738.53,386.332 \n",
       "  \"/>\n",
       "<path clip-path=\"url(#clip732)\" d=\"\n",
       "M1868.81 671.546 L1868.81 1445.72 L1973.03 1445.72 L1973.03 671.546 L1868.81 671.546 L1868.81 671.546  Z\n",
       "  \" fill=\"#009af9\" fill-rule=\"evenodd\" fill-opacity=\"1\"/>\n",
       "<polyline clip-path=\"url(#clip732)\" style=\"stroke:#000000; stroke-linecap:butt; stroke-linejoin:round; stroke-width:4; stroke-opacity:1; fill:none\" points=\"\n",
       "  1868.81,671.546 1868.81,1445.72 1973.03,1445.72 1973.03,671.546 1868.81,671.546 \n",
       "  \"/>\n",
       "<path clip-path=\"url(#clip732)\" d=\"\n",
       "M1999.09 87.9763 L1999.09 1445.72 L2103.31 1445.72 L2103.31 87.9763 L1999.09 87.9763 L1999.09 87.9763  Z\n",
       "  \" fill=\"#009af9\" fill-rule=\"evenodd\" fill-opacity=\"1\"/>\n",
       "<polyline clip-path=\"url(#clip732)\" style=\"stroke:#000000; stroke-linecap:butt; stroke-linejoin:round; stroke-width:4; stroke-opacity:1; fill:none\" points=\"\n",
       "  1999.09,87.9763 1999.09,1445.72 2103.31,1445.72 2103.31,87.9763 1999.09,87.9763 \n",
       "  \"/>\n",
       "<path clip-path=\"url(#clip732)\" d=\"\n",
       "M2129.37 669.688 L2129.37 1445.72 L2233.6 1445.72 L2233.6 669.688 L2129.37 669.688 L2129.37 669.688  Z\n",
       "  \" fill=\"#009af9\" fill-rule=\"evenodd\" fill-opacity=\"1\"/>\n",
       "<polyline clip-path=\"url(#clip732)\" style=\"stroke:#000000; stroke-linecap:butt; stroke-linejoin:round; stroke-width:4; stroke-opacity:1; fill:none\" points=\"\n",
       "  2129.37,669.688 2129.37,1445.72 2233.6,1445.72 2233.6,669.688 2129.37,669.688 \n",
       "  \"/>\n",
       "<circle clip-path=\"url(#clip732)\" style=\"fill:#009af9; stroke:none; fill-opacity:0\" cx=\"357.547\" cy=\"1262.35\" r=\"2\"/>\n",
       "<circle clip-path=\"url(#clip732)\" style=\"fill:#009af9; stroke:none; fill-opacity:0\" cx=\"487.828\" cy=\"1265.82\" r=\"2\"/>\n",
       "<circle clip-path=\"url(#clip732)\" style=\"fill:#009af9; stroke:none; fill-opacity:0\" cx=\"618.109\" cy=\"476.413\" r=\"2\"/>\n",
       "<circle clip-path=\"url(#clip732)\" style=\"fill:#009af9; stroke:none; fill-opacity:0\" cx=\"748.39\" cy=\"191.24\" r=\"2\"/>\n",
       "<circle clip-path=\"url(#clip732)\" style=\"fill:#009af9; stroke:none; fill-opacity:0\" cx=\"878.671\" cy=\"114.874\" r=\"2\"/>\n",
       "<circle clip-path=\"url(#clip732)\" style=\"fill:#009af9; stroke:none; fill-opacity:0\" cx=\"1008.95\" cy=\"490.963\" r=\"2\"/>\n",
       "<circle clip-path=\"url(#clip732)\" style=\"fill:#009af9; stroke:none; fill-opacity:0\" cx=\"1139.23\" cy=\"1372.14\" r=\"2\"/>\n",
       "<circle clip-path=\"url(#clip732)\" style=\"fill:#009af9; stroke:none; fill-opacity:0\" cx=\"1269.51\" cy=\"1408.87\" r=\"2\"/>\n",
       "<circle clip-path=\"url(#clip732)\" style=\"fill:#009af9; stroke:none; fill-opacity:0\" cx=\"1399.8\" cy=\"994.325\" r=\"2\"/>\n",
       "<circle clip-path=\"url(#clip732)\" style=\"fill:#009af9; stroke:none; fill-opacity:0\" cx=\"1530.08\" cy=\"1052.04\" r=\"2\"/>\n",
       "<circle clip-path=\"url(#clip732)\" style=\"fill:#009af9; stroke:none; fill-opacity:0\" cx=\"1660.36\" cy=\"863.173\" r=\"2\"/>\n",
       "<circle clip-path=\"url(#clip732)\" style=\"fill:#009af9; stroke:none; fill-opacity:0\" cx=\"1790.64\" cy=\"386.332\" r=\"2\"/>\n",
       "<circle clip-path=\"url(#clip732)\" style=\"fill:#009af9; stroke:none; fill-opacity:0\" cx=\"1920.92\" cy=\"671.546\" r=\"2\"/>\n",
       "<circle clip-path=\"url(#clip732)\" style=\"fill:#009af9; stroke:none; fill-opacity:0\" cx=\"2051.2\" cy=\"87.9763\" r=\"2\"/>\n",
       "<circle clip-path=\"url(#clip732)\" style=\"fill:#009af9; stroke:none; fill-opacity:0\" cx=\"2181.48\" cy=\"669.688\" r=\"2\"/>\n",
       "<path clip-path=\"url(#clip730)\" d=\"\n",
       "M1987.39 198.898 L2280.54 198.898 L2280.54 95.2176 L1987.39 95.2176  Z\n",
       "  \" fill=\"#ffffff\" fill-rule=\"evenodd\" fill-opacity=\"1\"/>\n",
       "<polyline clip-path=\"url(#clip730)\" style=\"stroke:#000000; stroke-linecap:butt; stroke-linejoin:round; stroke-width:4; stroke-opacity:1; fill:none\" points=\"\n",
       "  1987.39,198.898 2280.54,198.898 2280.54,95.2176 1987.39,95.2176 1987.39,198.898 \n",
       "  \"/>\n",
       "<path clip-path=\"url(#clip730)\" d=\"\n",
       "M2011.46 167.794 L2155.89 167.794 L2155.89 126.322 L2011.46 126.322 L2011.46 167.794  Z\n",
       "  \" fill=\"#009af9\" fill-rule=\"evenodd\" fill-opacity=\"1\"/>\n",
       "<polyline clip-path=\"url(#clip730)\" style=\"stroke:#000000; stroke-linecap:butt; stroke-linejoin:round; stroke-width:4; stroke-opacity:1; fill:none\" points=\"\n",
       "  2011.46,167.794 2155.89,167.794 2155.89,126.322 2011.46,126.322 2011.46,167.794 \n",
       "  \"/>\n",
       "<path clip-path=\"url(#clip730)\" d=\"M2193.81 166.745 Q2192 171.375 2190.29 172.787 Q2188.58 174.199 2185.71 174.199 L2182.3 174.199 L2182.3 170.634 L2184.8 170.634 Q2186.56 170.634 2187.53 169.8 Q2188.51 168.967 2189.69 165.865 L2190.45 163.921 L2179.97 138.412 L2184.48 138.412 L2192.58 158.689 L2200.68 138.412 L2205.2 138.412 L2193.81 166.745 Z\" fill=\"#000000\" fill-rule=\"evenodd\" fill-opacity=\"1\" /><path clip-path=\"url(#clip730)\" d=\"M2212.49 160.402 L2220.13 160.402 L2220.13 134.037 L2211.82 135.703 L2211.82 131.444 L2220.08 129.778 L2224.76 129.778 L2224.76 160.402 L2232.4 160.402 L2232.4 164.338 L2212.49 164.338 L2212.49 160.402 Z\" fill=\"#000000\" fill-rule=\"evenodd\" fill-opacity=\"1\" /></svg>\n"
      ]
     },
     "execution_count": 118,
     "metadata": {},
     "output_type": "execute_result"
    }
   ],
   "source": [
    "bar(x, y) #bar chart"
   ]
  },
  {
   "cell_type": "code",
   "execution_count": 119,
   "metadata": {},
   "outputs": [
    {
     "data": {
      "image/svg+xml": [
       "<?xml version=\"1.0\" encoding=\"utf-8\"?>\n",
       "<svg xmlns=\"http://www.w3.org/2000/svg\" xmlns:xlink=\"http://www.w3.org/1999/xlink\" width=\"600\" height=\"400\" viewBox=\"0 0 2400 1600\">\n",
       "<defs>\n",
       "  <clipPath id=\"clip770\">\n",
       "    <rect x=\"0\" y=\"0\" width=\"2400\" height=\"1600\"/>\n",
       "  </clipPath>\n",
       "</defs>\n",
       "<path clip-path=\"url(#clip770)\" d=\"\n",
       "M0 1600 L2400 1600 L2400 0 L0 0  Z\n",
       "  \" fill=\"#ffffff\" fill-rule=\"evenodd\" fill-opacity=\"1\"/>\n",
       "<defs>\n",
       "  <clipPath id=\"clip771\">\n",
       "    <rect x=\"480\" y=\"0\" width=\"1681\" height=\"1600\"/>\n",
       "  </clipPath>\n",
       "</defs>\n",
       "<path clip-path=\"url(#clip770)\" d=\"\n",
       "M112.177 1486.45 L2352.76 1486.45 L2352.76 47.2441 L112.177 47.2441  Z\n",
       "  \" fill=\"#ffffff\" fill-rule=\"evenodd\" fill-opacity=\"1\"/>\n",
       "<defs>\n",
       "  <clipPath id=\"clip772\">\n",
       "    <rect x=\"112\" y=\"47\" width=\"2242\" height=\"1440\"/>\n",
       "  </clipPath>\n",
       "</defs>\n",
       "<polyline clip-path=\"url(#clip772)\" style=\"stroke:#000000; stroke-linecap:butt; stroke-linejoin:round; stroke-width:2; stroke-opacity:0.1; fill:none\" points=\"\n",
       "  235.413,1486.45 235.413,47.2441 \n",
       "  \"/>\n",
       "<polyline clip-path=\"url(#clip772)\" style=\"stroke:#000000; stroke-linecap:butt; stroke-linejoin:round; stroke-width:2; stroke-opacity:0.1; fill:none\" points=\"\n",
       "  733.94,1486.45 733.94,47.2441 \n",
       "  \"/>\n",
       "<polyline clip-path=\"url(#clip772)\" style=\"stroke:#000000; stroke-linecap:butt; stroke-linejoin:round; stroke-width:2; stroke-opacity:0.1; fill:none\" points=\"\n",
       "  1232.47,1486.45 1232.47,47.2441 \n",
       "  \"/>\n",
       "<polyline clip-path=\"url(#clip772)\" style=\"stroke:#000000; stroke-linecap:butt; stroke-linejoin:round; stroke-width:2; stroke-opacity:0.1; fill:none\" points=\"\n",
       "  1730.99,1486.45 1730.99,47.2441 \n",
       "  \"/>\n",
       "<polyline clip-path=\"url(#clip772)\" style=\"stroke:#000000; stroke-linecap:butt; stroke-linejoin:round; stroke-width:2; stroke-opacity:0.1; fill:none\" points=\"\n",
       "  2229.52,1486.45 2229.52,47.2441 \n",
       "  \"/>\n",
       "<polyline clip-path=\"url(#clip770)\" style=\"stroke:#000000; stroke-linecap:butt; stroke-linejoin:round; stroke-width:4; stroke-opacity:1; fill:none\" points=\"\n",
       "  112.177,1486.45 2352.76,1486.45 \n",
       "  \"/>\n",
       "<polyline clip-path=\"url(#clip770)\" style=\"stroke:#000000; stroke-linecap:butt; stroke-linejoin:round; stroke-width:4; stroke-opacity:1; fill:none\" points=\"\n",
       "  235.413,1486.45 235.413,1467.55 \n",
       "  \"/>\n",
       "<polyline clip-path=\"url(#clip770)\" style=\"stroke:#000000; stroke-linecap:butt; stroke-linejoin:round; stroke-width:4; stroke-opacity:1; fill:none\" points=\"\n",
       "  733.94,1486.45 733.94,1467.55 \n",
       "  \"/>\n",
       "<polyline clip-path=\"url(#clip770)\" style=\"stroke:#000000; stroke-linecap:butt; stroke-linejoin:round; stroke-width:4; stroke-opacity:1; fill:none\" points=\"\n",
       "  1232.47,1486.45 1232.47,1467.55 \n",
       "  \"/>\n",
       "<polyline clip-path=\"url(#clip770)\" style=\"stroke:#000000; stroke-linecap:butt; stroke-linejoin:round; stroke-width:4; stroke-opacity:1; fill:none\" points=\"\n",
       "  1730.99,1486.45 1730.99,1467.55 \n",
       "  \"/>\n",
       "<polyline clip-path=\"url(#clip770)\" style=\"stroke:#000000; stroke-linecap:butt; stroke-linejoin:round; stroke-width:4; stroke-opacity:1; fill:none\" points=\"\n",
       "  2229.52,1486.45 2229.52,1467.55 \n",
       "  \"/>\n",
       "<path clip-path=\"url(#clip770)\" d=\"M197.716 1517.37 Q194.105 1517.37 192.277 1520.93 Q190.471 1524.47 190.471 1531.6 Q190.471 1538.71 192.277 1542.27 Q194.105 1545.82 197.716 1545.82 Q201.351 1545.82 203.156 1542.27 Q204.985 1538.71 204.985 1531.6 Q204.985 1524.47 203.156 1520.93 Q201.351 1517.37 197.716 1517.37 M197.716 1513.66 Q203.527 1513.66 206.582 1518.27 Q209.661 1522.85 209.661 1531.6 Q209.661 1540.33 206.582 1544.94 Q203.527 1549.52 197.716 1549.52 Q191.906 1549.52 188.828 1544.94 Q185.772 1540.33 185.772 1531.6 Q185.772 1522.85 188.828 1518.27 Q191.906 1513.66 197.716 1513.66 Z\" fill=\"#000000\" fill-rule=\"evenodd\" fill-opacity=\"1\" /><path clip-path=\"url(#clip770)\" d=\"M217.878 1542.97 L222.763 1542.97 L222.763 1548.85 L217.878 1548.85 L217.878 1542.97 Z\" fill=\"#000000\" fill-rule=\"evenodd\" fill-opacity=\"1\" /><path clip-path=\"url(#clip770)\" d=\"M242.948 1517.37 Q239.337 1517.37 237.508 1520.93 Q235.702 1524.47 235.702 1531.6 Q235.702 1538.71 237.508 1542.27 Q239.337 1545.82 242.948 1545.82 Q246.582 1545.82 248.387 1542.27 Q250.216 1538.71 250.216 1531.6 Q250.216 1524.47 248.387 1520.93 Q246.582 1517.37 242.948 1517.37 M242.948 1513.66 Q248.758 1513.66 251.813 1518.27 Q254.892 1522.85 254.892 1531.6 Q254.892 1540.33 251.813 1544.94 Q248.758 1549.52 242.948 1549.52 Q237.138 1549.52 234.059 1544.94 Q231.003 1540.33 231.003 1531.6 Q231.003 1522.85 234.059 1518.27 Q237.138 1513.66 242.948 1513.66 Z\" fill=\"#000000\" fill-rule=\"evenodd\" fill-opacity=\"1\" /><path clip-path=\"url(#clip770)\" d=\"M273.11 1517.37 Q269.498 1517.37 267.67 1520.93 Q265.864 1524.47 265.864 1531.6 Q265.864 1538.71 267.67 1542.27 Q269.498 1545.82 273.11 1545.82 Q276.744 1545.82 278.549 1542.27 Q280.378 1538.71 280.378 1531.6 Q280.378 1524.47 278.549 1520.93 Q276.744 1517.37 273.11 1517.37 M273.11 1513.66 Q278.92 1513.66 281.975 1518.27 Q285.054 1522.85 285.054 1531.6 Q285.054 1540.33 281.975 1544.94 Q278.92 1549.52 273.11 1549.52 Q267.299 1549.52 264.221 1544.94 Q261.165 1540.33 261.165 1531.6 Q261.165 1522.85 264.221 1518.27 Q267.299 1513.66 273.11 1513.66 Z\" fill=\"#000000\" fill-rule=\"evenodd\" fill-opacity=\"1\" /><path clip-path=\"url(#clip770)\" d=\"M696.741 1517.37 Q693.13 1517.37 691.301 1520.93 Q689.496 1524.47 689.496 1531.6 Q689.496 1538.71 691.301 1542.27 Q693.13 1545.82 696.741 1545.82 Q700.375 1545.82 702.181 1542.27 Q704.009 1538.71 704.009 1531.6 Q704.009 1524.47 702.181 1520.93 Q700.375 1517.37 696.741 1517.37 M696.741 1513.66 Q702.551 1513.66 705.607 1518.27 Q708.685 1522.85 708.685 1531.6 Q708.685 1540.33 705.607 1544.94 Q702.551 1549.52 696.741 1549.52 Q690.931 1549.52 687.852 1544.94 Q684.797 1540.33 684.797 1531.6 Q684.797 1522.85 687.852 1518.27 Q690.931 1513.66 696.741 1513.66 Z\" fill=\"#000000\" fill-rule=\"evenodd\" fill-opacity=\"1\" /><path clip-path=\"url(#clip770)\" d=\"M716.903 1542.97 L721.787 1542.97 L721.787 1548.85 L716.903 1548.85 L716.903 1542.97 Z\" fill=\"#000000\" fill-rule=\"evenodd\" fill-opacity=\"1\" /><path clip-path=\"url(#clip770)\" d=\"M736 1544.91 L752.319 1544.91 L752.319 1548.85 L730.375 1548.85 L730.375 1544.91 Q733.037 1542.16 737.62 1537.53 Q742.227 1532.88 743.407 1531.53 Q745.653 1529.01 746.532 1527.27 Q747.435 1525.51 747.435 1523.82 Q747.435 1521.07 745.491 1519.33 Q743.569 1517.6 740.468 1517.6 Q738.268 1517.6 735.815 1518.36 Q733.384 1519.13 730.606 1520.68 L730.606 1515.95 Q733.431 1514.82 735.884 1514.24 Q738.338 1513.66 740.375 1513.66 Q745.745 1513.66 748.94 1516.35 Q752.134 1519.03 752.134 1523.52 Q752.134 1525.65 751.324 1527.57 Q750.537 1529.47 748.43 1532.07 Q747.852 1532.74 744.75 1535.95 Q741.648 1539.15 736 1544.91 Z\" fill=\"#000000\" fill-rule=\"evenodd\" fill-opacity=\"1\" /><path clip-path=\"url(#clip770)\" d=\"M762.18 1514.29 L780.537 1514.29 L780.537 1518.22 L766.463 1518.22 L766.463 1526.7 Q767.481 1526.35 768.5 1526.19 Q769.518 1526 770.537 1526 Q776.324 1526 779.703 1529.17 Q783.083 1532.34 783.083 1537.76 Q783.083 1543.34 779.611 1546.44 Q776.139 1549.52 769.819 1549.52 Q767.643 1549.52 765.375 1549.15 Q763.129 1548.78 760.722 1548.04 L760.722 1543.34 Q762.805 1544.47 765.028 1545.03 Q767.25 1545.58 769.727 1545.58 Q773.731 1545.58 776.069 1543.48 Q778.407 1541.37 778.407 1537.76 Q778.407 1534.15 776.069 1532.04 Q773.731 1529.94 769.727 1529.94 Q767.852 1529.94 765.977 1530.35 Q764.125 1530.77 762.18 1531.65 L762.18 1514.29 Z\" fill=\"#000000\" fill-rule=\"evenodd\" fill-opacity=\"1\" /><path clip-path=\"url(#clip770)\" d=\"M1194.77 1517.37 Q1191.16 1517.37 1189.33 1520.93 Q1187.52 1524.47 1187.52 1531.6 Q1187.52 1538.71 1189.33 1542.27 Q1191.16 1545.82 1194.77 1545.82 Q1198.4 1545.82 1200.21 1542.27 Q1202.04 1538.71 1202.04 1531.6 Q1202.04 1524.47 1200.21 1520.93 Q1198.4 1517.37 1194.77 1517.37 M1194.77 1513.66 Q1200.58 1513.66 1203.64 1518.27 Q1206.71 1522.85 1206.71 1531.6 Q1206.71 1540.33 1203.64 1544.94 Q1200.58 1549.52 1194.77 1549.52 Q1188.96 1549.52 1185.88 1544.94 Q1182.83 1540.33 1182.83 1531.6 Q1182.83 1522.85 1185.88 1518.27 Q1188.96 1513.66 1194.77 1513.66 Z\" fill=\"#000000\" fill-rule=\"evenodd\" fill-opacity=\"1\" /><path clip-path=\"url(#clip770)\" d=\"M1214.93 1542.97 L1219.82 1542.97 L1219.82 1548.85 L1214.93 1548.85 L1214.93 1542.97 Z\" fill=\"#000000\" fill-rule=\"evenodd\" fill-opacity=\"1\" /><path clip-path=\"url(#clip770)\" d=\"M1230.05 1514.29 L1248.4 1514.29 L1248.4 1518.22 L1234.33 1518.22 L1234.33 1526.7 Q1235.35 1526.35 1236.37 1526.19 Q1237.39 1526 1238.4 1526 Q1244.19 1526 1247.57 1529.17 Q1250.95 1532.34 1250.95 1537.76 Q1250.95 1543.34 1247.48 1546.44 Q1244.01 1549.52 1237.69 1549.52 Q1235.51 1549.52 1233.24 1549.15 Q1231 1548.78 1228.59 1548.04 L1228.59 1543.34 Q1230.67 1544.47 1232.89 1545.03 Q1235.12 1545.58 1237.59 1545.58 Q1241.6 1545.58 1243.94 1543.48 Q1246.27 1541.37 1246.27 1537.76 Q1246.27 1534.15 1243.94 1532.04 Q1241.6 1529.94 1237.59 1529.94 Q1235.72 1529.94 1233.84 1530.35 Q1231.99 1530.77 1230.05 1531.65 L1230.05 1514.29 Z\" fill=\"#000000\" fill-rule=\"evenodd\" fill-opacity=\"1\" /><path clip-path=\"url(#clip770)\" d=\"M1270.16 1517.37 Q1266.55 1517.37 1264.72 1520.93 Q1262.92 1524.47 1262.92 1531.6 Q1262.92 1538.71 1264.72 1542.27 Q1266.55 1545.82 1270.16 1545.82 Q1273.8 1545.82 1275.6 1542.27 Q1277.43 1538.71 1277.43 1531.6 Q1277.43 1524.47 1275.6 1520.93 Q1273.8 1517.37 1270.16 1517.37 M1270.16 1513.66 Q1275.97 1513.66 1279.03 1518.27 Q1282.11 1522.85 1282.11 1531.6 Q1282.11 1540.33 1279.03 1544.94 Q1275.97 1549.52 1270.16 1549.52 Q1264.35 1549.52 1261.27 1544.94 Q1258.22 1540.33 1258.22 1531.6 Q1258.22 1522.85 1261.27 1518.27 Q1264.35 1513.66 1270.16 1513.66 Z\" fill=\"#000000\" fill-rule=\"evenodd\" fill-opacity=\"1\" /><path clip-path=\"url(#clip770)\" d=\"M1693.79 1517.37 Q1690.18 1517.37 1688.35 1520.93 Q1686.55 1524.47 1686.55 1531.6 Q1686.55 1538.71 1688.35 1542.27 Q1690.18 1545.82 1693.79 1545.82 Q1697.43 1545.82 1699.23 1542.27 Q1701.06 1538.71 1701.06 1531.6 Q1701.06 1524.47 1699.23 1520.93 Q1697.43 1517.37 1693.79 1517.37 M1693.79 1513.66 Q1699.6 1513.66 1702.66 1518.27 Q1705.74 1522.85 1705.74 1531.6 Q1705.74 1540.33 1702.66 1544.94 Q1699.6 1549.52 1693.79 1549.52 Q1687.98 1549.52 1684.91 1544.94 Q1681.85 1540.33 1681.85 1531.6 Q1681.85 1522.85 1684.91 1518.27 Q1687.98 1513.66 1693.79 1513.66 Z\" fill=\"#000000\" fill-rule=\"evenodd\" fill-opacity=\"1\" /><path clip-path=\"url(#clip770)\" d=\"M1713.96 1542.97 L1718.84 1542.97 L1718.84 1548.85 L1713.96 1548.85 L1713.96 1542.97 Z\" fill=\"#000000\" fill-rule=\"evenodd\" fill-opacity=\"1\" /><path clip-path=\"url(#clip770)\" d=\"M1727.85 1514.29 L1750.07 1514.29 L1750.07 1516.28 L1737.52 1548.85 L1732.64 1548.85 L1744.44 1518.22 L1727.85 1518.22 L1727.85 1514.29 Z\" fill=\"#000000\" fill-rule=\"evenodd\" fill-opacity=\"1\" /><path clip-path=\"url(#clip770)\" d=\"M1759.23 1514.29 L1777.59 1514.29 L1777.59 1518.22 L1763.52 1518.22 L1763.52 1526.7 Q1764.53 1526.35 1765.55 1526.19 Q1766.57 1526 1767.59 1526 Q1773.38 1526 1776.76 1529.17 Q1780.14 1532.34 1780.14 1537.76 Q1780.14 1543.34 1776.66 1546.44 Q1773.19 1549.52 1766.87 1549.52 Q1764.7 1549.52 1762.43 1549.15 Q1760.18 1548.78 1757.78 1548.04 L1757.78 1543.34 Q1759.86 1544.47 1762.08 1545.03 Q1764.3 1545.58 1766.78 1545.58 Q1770.78 1545.58 1773.12 1543.48 Q1775.46 1541.37 1775.46 1537.76 Q1775.46 1534.15 1773.12 1532.04 Q1770.78 1529.94 1766.78 1529.94 Q1764.91 1529.94 1763.03 1530.35 Q1761.18 1530.77 1759.23 1531.65 L1759.23 1514.29 Z\" fill=\"#000000\" fill-rule=\"evenodd\" fill-opacity=\"1\" /><path clip-path=\"url(#clip770)\" d=\"M2181.59 1544.91 L2189.23 1544.91 L2189.23 1518.55 L2180.92 1520.21 L2180.92 1515.95 L2189.18 1514.29 L2193.86 1514.29 L2193.86 1544.91 L2201.5 1544.91 L2201.5 1548.85 L2181.59 1548.85 L2181.59 1544.91 Z\" fill=\"#000000\" fill-rule=\"evenodd\" fill-opacity=\"1\" /><path clip-path=\"url(#clip770)\" d=\"M2210.94 1542.97 L2215.83 1542.97 L2215.83 1548.85 L2210.94 1548.85 L2210.94 1542.97 Z\" fill=\"#000000\" fill-rule=\"evenodd\" fill-opacity=\"1\" /><path clip-path=\"url(#clip770)\" d=\"M2236.01 1517.37 Q2232.4 1517.37 2230.57 1520.93 Q2228.77 1524.47 2228.77 1531.6 Q2228.77 1538.71 2230.57 1542.27 Q2232.4 1545.82 2236.01 1545.82 Q2239.65 1545.82 2241.45 1542.27 Q2243.28 1538.71 2243.28 1531.6 Q2243.28 1524.47 2241.45 1520.93 Q2239.65 1517.37 2236.01 1517.37 M2236.01 1513.66 Q2241.82 1513.66 2244.88 1518.27 Q2247.96 1522.85 2247.96 1531.6 Q2247.96 1540.33 2244.88 1544.94 Q2241.82 1549.52 2236.01 1549.52 Q2230.2 1549.52 2227.12 1544.94 Q2224.07 1540.33 2224.07 1531.6 Q2224.07 1522.85 2227.12 1518.27 Q2230.2 1513.66 2236.01 1513.66 Z\" fill=\"#000000\" fill-rule=\"evenodd\" fill-opacity=\"1\" /><path clip-path=\"url(#clip770)\" d=\"M2266.17 1517.37 Q2262.56 1517.37 2260.74 1520.93 Q2258.93 1524.47 2258.93 1531.6 Q2258.93 1538.71 2260.74 1542.27 Q2262.56 1545.82 2266.17 1545.82 Q2269.81 1545.82 2271.61 1542.27 Q2273.44 1538.71 2273.44 1531.6 Q2273.44 1524.47 2271.61 1520.93 Q2269.81 1517.37 2266.17 1517.37 M2266.17 1513.66 Q2271.99 1513.66 2275.04 1518.27 Q2278.12 1522.85 2278.12 1531.6 Q2278.12 1540.33 2275.04 1544.94 Q2271.99 1549.52 2266.17 1549.52 Q2260.36 1549.52 2257.29 1544.94 Q2254.23 1540.33 2254.23 1531.6 Q2254.23 1522.85 2257.29 1518.27 Q2260.36 1513.66 2266.17 1513.66 Z\" fill=\"#000000\" fill-rule=\"evenodd\" fill-opacity=\"1\" /><polyline clip-path=\"url(#clip772)\" style=\"stroke:#000000; stroke-linecap:butt; stroke-linejoin:round; stroke-width:2; stroke-opacity:0.1; fill:none\" points=\"\n",
       "  112.177,1445.72 2352.76,1445.72 \n",
       "  \"/>\n",
       "<polyline clip-path=\"url(#clip772)\" style=\"stroke:#000000; stroke-linecap:butt; stroke-linejoin:round; stroke-width:2; stroke-opacity:0.1; fill:none\" points=\"\n",
       "  112.177,1106.28 2352.76,1106.28 \n",
       "  \"/>\n",
       "<polyline clip-path=\"url(#clip772)\" style=\"stroke:#000000; stroke-linecap:butt; stroke-linejoin:round; stroke-width:2; stroke-opacity:0.1; fill:none\" points=\"\n",
       "  112.177,766.846 2352.76,766.846 \n",
       "  \"/>\n",
       "<polyline clip-path=\"url(#clip772)\" style=\"stroke:#000000; stroke-linecap:butt; stroke-linejoin:round; stroke-width:2; stroke-opacity:0.1; fill:none\" points=\"\n",
       "  112.177,427.411 2352.76,427.411 \n",
       "  \"/>\n",
       "<polyline clip-path=\"url(#clip772)\" style=\"stroke:#000000; stroke-linecap:butt; stroke-linejoin:round; stroke-width:2; stroke-opacity:0.1; fill:none\" points=\"\n",
       "  112.177,87.9763 2352.76,87.9763 \n",
       "  \"/>\n",
       "<polyline clip-path=\"url(#clip770)\" style=\"stroke:#000000; stroke-linecap:butt; stroke-linejoin:round; stroke-width:4; stroke-opacity:1; fill:none\" points=\"\n",
       "  112.177,1486.45 112.177,47.2441 \n",
       "  \"/>\n",
       "<polyline clip-path=\"url(#clip770)\" style=\"stroke:#000000; stroke-linecap:butt; stroke-linejoin:round; stroke-width:4; stroke-opacity:1; fill:none\" points=\"\n",
       "  112.177,1445.72 131.075,1445.72 \n",
       "  \"/>\n",
       "<polyline clip-path=\"url(#clip770)\" style=\"stroke:#000000; stroke-linecap:butt; stroke-linejoin:round; stroke-width:4; stroke-opacity:1; fill:none\" points=\"\n",
       "  112.177,1106.28 131.075,1106.28 \n",
       "  \"/>\n",
       "<polyline clip-path=\"url(#clip770)\" style=\"stroke:#000000; stroke-linecap:butt; stroke-linejoin:round; stroke-width:4; stroke-opacity:1; fill:none\" points=\"\n",
       "  112.177,766.846 131.075,766.846 \n",
       "  \"/>\n",
       "<polyline clip-path=\"url(#clip770)\" style=\"stroke:#000000; stroke-linecap:butt; stroke-linejoin:round; stroke-width:4; stroke-opacity:1; fill:none\" points=\"\n",
       "  112.177,427.411 131.075,427.411 \n",
       "  \"/>\n",
       "<polyline clip-path=\"url(#clip770)\" style=\"stroke:#000000; stroke-linecap:butt; stroke-linejoin:round; stroke-width:4; stroke-opacity:1; fill:none\" points=\"\n",
       "  112.177,87.9763 131.075,87.9763 \n",
       "  \"/>\n",
       "<path clip-path=\"url(#clip770)\" d=\"M64.2328 1431.51 Q60.6217 1431.51 58.793 1435.08 Q56.9875 1438.62 56.9875 1445.75 Q56.9875 1452.86 58.793 1456.42 Q60.6217 1459.96 64.2328 1459.96 Q67.867 1459.96 69.6726 1456.42 Q71.5013 1452.86 71.5013 1445.75 Q71.5013 1438.62 69.6726 1435.08 Q67.867 1431.51 64.2328 1431.51 M64.2328 1427.81 Q70.0429 1427.81 73.0985 1432.42 Q76.1772 1437 76.1772 1445.75 Q76.1772 1454.48 73.0985 1459.08 Q70.0429 1463.67 64.2328 1463.67 Q58.4226 1463.67 55.344 1459.08 Q52.2884 1454.48 52.2884 1445.75 Q52.2884 1437 55.344 1432.42 Q58.4226 1427.81 64.2328 1427.81 Z\" fill=\"#000000\" fill-rule=\"evenodd\" fill-opacity=\"1\" /><path clip-path=\"url(#clip770)\" d=\"M59.8578 1119.63 L76.1772 1119.63 L76.1772 1123.56 L54.2328 1123.56 L54.2328 1119.63 Q56.8949 1116.87 61.4782 1112.24 Q66.0846 1107.59 67.2652 1106.25 Q69.5105 1103.72 70.3902 1101.99 Q71.2929 1100.23 71.2929 1098.54 Q71.2929 1095.78 69.3485 1094.05 Q67.4272 1092.31 64.3254 1092.31 Q62.1263 1092.31 59.6726 1093.07 Q57.2421 1093.84 54.4643 1095.39 L54.4643 1090.67 Q57.2884 1089.53 59.7421 1088.95 Q62.1958 1088.38 64.2328 1088.38 Q69.6031 1088.38 72.7976 1091.06 Q75.992 1093.75 75.992 1098.24 Q75.992 1100.37 75.1818 1102.29 Q74.3948 1104.19 72.2883 1106.78 Q71.7096 1107.45 68.6078 1110.67 Q65.5059 1113.86 59.8578 1119.63 Z\" fill=\"#000000\" fill-rule=\"evenodd\" fill-opacity=\"1\" /><path clip-path=\"url(#clip770)\" d=\"M66.5939 753.64 L54.7884 772.089 L66.5939 772.089 L66.5939 753.64 M65.367 749.566 L71.2466 749.566 L71.2466 772.089 L76.1772 772.089 L76.1772 775.978 L71.2466 775.978 L71.2466 784.126 L66.5939 784.126 L66.5939 775.978 L50.9921 775.978 L50.9921 771.464 L65.367 749.566 Z\" fill=\"#000000\" fill-rule=\"evenodd\" fill-opacity=\"1\" /><path clip-path=\"url(#clip770)\" d=\"M64.6495 425.548 Q61.5013 425.548 59.6495 427.7 Q57.8208 429.853 57.8208 433.603 Q57.8208 437.33 59.6495 439.506 Q61.5013 441.659 64.6495 441.659 Q67.7976 441.659 69.6263 439.506 Q71.4781 437.33 71.4781 433.603 Q71.4781 429.853 69.6263 427.7 Q67.7976 425.548 64.6495 425.548 M73.9318 410.895 L73.9318 415.154 Q72.1726 414.321 70.367 413.881 Q68.5846 413.441 66.8254 413.441 Q62.1958 413.441 59.7421 416.566 Q57.3115 419.691 56.9643 426.011 Q58.33 423.997 60.3902 422.932 Q62.4504 421.844 64.9272 421.844 Q70.1355 421.844 73.1448 425.015 Q76.1772 428.163 76.1772 433.603 Q76.1772 438.927 73.029 442.145 Q69.8809 445.362 64.6495 445.362 Q58.6541 445.362 55.4828 440.779 Q52.3116 436.173 52.3116 427.446 Q52.3116 419.251 56.2004 414.39 Q60.0893 409.506 66.6402 409.506 Q68.3994 409.506 70.1818 409.853 Q71.9874 410.201 73.9318 410.895 Z\" fill=\"#000000\" fill-rule=\"evenodd\" fill-opacity=\"1\" /><path clip-path=\"url(#clip770)\" d=\"M64.3254 88.8443 Q60.9921 88.8443 59.0708 90.6267 Q57.1726 92.4091 57.1726 95.5341 Q57.1726 98.6591 59.0708 100.441 Q60.9921 102.224 64.3254 102.224 Q67.6587 102.224 69.58 100.441 Q71.5013 98.6359 71.5013 95.5341 Q71.5013 92.4091 69.58 90.6267 Q67.6819 88.8443 64.3254 88.8443 M59.6495 86.8536 Q56.6402 86.1129 54.9504 84.0527 Q53.2838 81.9925 53.2838 79.0296 Q53.2838 74.8861 56.2236 72.4787 Q59.1865 70.0713 64.3254 70.0713 Q69.4874 70.0713 72.4272 72.4787 Q75.367 74.8861 75.367 79.0296 Q75.367 81.9925 73.6772 84.0527 Q72.0105 86.1129 69.0244 86.8536 Q72.404 87.6406 74.279 89.9323 Q76.1772 92.2239 76.1772 95.5341 Q76.1772 100.557 73.0985 103.242 Q70.0429 105.928 64.3254 105.928 Q58.6078 105.928 55.5291 103.242 Q52.4736 100.557 52.4736 95.5341 Q52.4736 92.2239 54.3717 89.9323 Q56.2699 87.6406 59.6495 86.8536 M57.9365 79.4694 Q57.9365 82.1545 59.6032 83.6592 Q61.293 85.1638 64.3254 85.1638 Q67.3346 85.1638 69.0244 83.6592 Q70.7374 82.1545 70.7374 79.4694 Q70.7374 76.7842 69.0244 75.2796 Q67.3346 73.775 64.3254 73.775 Q61.293 73.775 59.6032 75.2796 Q57.9365 76.7842 57.9365 79.4694 Z\" fill=\"#000000\" fill-rule=\"evenodd\" fill-opacity=\"1\" /><path clip-path=\"url(#clip772)\" d=\"\n",
       "M235.413 257.694 L235.413 1445.72 L1232.47 1445.72 L1232.47 257.694 L235.413 257.694 L235.413 257.694  Z\n",
       "  \" fill=\"#009af9\" fill-rule=\"evenodd\" fill-opacity=\"1\"/>\n",
       "<polyline clip-path=\"url(#clip772)\" style=\"stroke:#000000; stroke-linecap:butt; stroke-linejoin:round; stroke-width:4; stroke-opacity:1; fill:none\" points=\"\n",
       "  235.413,257.694 235.413,1445.72 1232.47,1445.72 1232.47,257.694 235.413,257.694 \n",
       "  \"/>\n",
       "<path clip-path=\"url(#clip772)\" d=\"\n",
       "M1232.47 87.9763 L1232.47 1445.72 L2229.52 1445.72 L2229.52 87.9763 L1232.47 87.9763 L1232.47 87.9763  Z\n",
       "  \" fill=\"#009af9\" fill-rule=\"evenodd\" fill-opacity=\"1\"/>\n",
       "<polyline clip-path=\"url(#clip772)\" style=\"stroke:#000000; stroke-linecap:butt; stroke-linejoin:round; stroke-width:4; stroke-opacity:1; fill:none\" points=\"\n",
       "  1232.47,87.9763 1232.47,1445.72 2229.52,1445.72 2229.52,87.9763 1232.47,87.9763 \n",
       "  \"/>\n",
       "<circle clip-path=\"url(#clip772)\" style=\"fill:#009af9; stroke:none; fill-opacity:0\" cx=\"733.94\" cy=\"257.694\" r=\"2\"/>\n",
       "<circle clip-path=\"url(#clip772)\" style=\"fill:#009af9; stroke:none; fill-opacity:0\" cx=\"1730.99\" cy=\"87.9763\" r=\"2\"/>\n",
       "<path clip-path=\"url(#clip770)\" d=\"\n",
       "M1976.69 198.898 L2278.07 198.898 L2278.07 95.2176 L1976.69 95.2176  Z\n",
       "  \" fill=\"#ffffff\" fill-rule=\"evenodd\" fill-opacity=\"1\"/>\n",
       "<polyline clip-path=\"url(#clip770)\" style=\"stroke:#000000; stroke-linecap:butt; stroke-linejoin:round; stroke-width:4; stroke-opacity:1; fill:none\" points=\"\n",
       "  1976.69,198.898 2278.07,198.898 2278.07,95.2176 1976.69,95.2176 1976.69,198.898 \n",
       "  \"/>\n",
       "<path clip-path=\"url(#clip770)\" d=\"\n",
       "M2001.58 167.794 L2150.95 167.794 L2150.95 126.322 L2001.58 126.322 L2001.58 167.794  Z\n",
       "  \" fill=\"#009af9\" fill-rule=\"evenodd\" fill-opacity=\"1\"/>\n",
       "<polyline clip-path=\"url(#clip770)\" style=\"stroke:#000000; stroke-linecap:butt; stroke-linejoin:round; stroke-width:4; stroke-opacity:1; fill:none\" points=\"\n",
       "  2001.58,167.794 2150.95,167.794 2150.95,126.322 2001.58,126.322 2001.58,167.794 \n",
       "  \"/>\n",
       "<path clip-path=\"url(#clip770)\" d=\"M2189.69 166.745 Q2187.89 171.375 2186.17 172.787 Q2184.46 174.199 2181.59 174.199 L2178.19 174.199 L2178.19 170.634 L2180.69 170.634 Q2182.45 170.634 2183.42 169.8 Q2184.39 168.967 2185.57 165.865 L2186.34 163.921 L2175.85 138.412 L2180.36 138.412 L2188.46 158.689 L2196.57 138.412 L2201.08 138.412 L2189.69 166.745 Z\" fill=\"#000000\" fill-rule=\"evenodd\" fill-opacity=\"1\" /><path clip-path=\"url(#clip770)\" d=\"M2208.37 160.402 L2216.01 160.402 L2216.01 134.037 L2207.7 135.703 L2207.7 131.444 L2215.96 129.778 L2220.64 129.778 L2220.64 160.402 L2228.28 160.402 L2228.28 164.338 L2208.37 164.338 L2208.37 160.402 Z\" fill=\"#000000\" fill-rule=\"evenodd\" fill-opacity=\"1\" /></svg>\n"
      ]
     },
     "execution_count": 119,
     "metadata": {},
     "output_type": "execute_result"
    }
   ],
   "source": [
    "histogram(y) #histogram"
   ]
  },
  {
   "cell_type": "code",
   "execution_count": 120,
   "metadata": {},
   "outputs": [
    {
     "data": {
      "image/svg+xml": [
       "<?xml version=\"1.0\" encoding=\"utf-8\"?>\n",
       "<svg xmlns=\"http://www.w3.org/2000/svg\" xmlns:xlink=\"http://www.w3.org/1999/xlink\" width=\"600\" height=\"400\" viewBox=\"0 0 2400 1600\">\n",
       "<defs>\n",
       "  <clipPath id=\"clip810\">\n",
       "    <rect x=\"0\" y=\"0\" width=\"2400\" height=\"1600\"/>\n",
       "  </clipPath>\n",
       "</defs>\n",
       "<path clip-path=\"url(#clip810)\" d=\"\n",
       "M0 1600 L2400 1600 L2400 0 L0 0  Z\n",
       "  \" fill=\"#ffffff\" fill-rule=\"evenodd\" fill-opacity=\"1\"/>\n",
       "<defs>\n",
       "  <clipPath id=\"clip811\">\n",
       "    <rect x=\"480\" y=\"0\" width=\"1681\" height=\"1600\"/>\n",
       "  </clipPath>\n",
       "</defs>\n",
       "<path clip-path=\"url(#clip810)\" d=\"\n",
       "M186.274 686.448 L1152.76 686.448 L1152.76 47.2441 L186.274 47.2441  Z\n",
       "  \" fill=\"#ffffff\" fill-rule=\"evenodd\" fill-opacity=\"1\"/>\n",
       "<defs>\n",
       "  <clipPath id=\"clip812\">\n",
       "    <rect x=\"186\" y=\"47\" width=\"967\" height=\"640\"/>\n",
       "  </clipPath>\n",
       "</defs>\n",
       "<polyline clip-path=\"url(#clip812)\" style=\"stroke:#000000; stroke-linecap:butt; stroke-linejoin:round; stroke-width:2; stroke-opacity:0.1; fill:none\" points=\"\n",
       "  278.754,686.448 278.754,47.2441 \n",
       "  \"/>\n",
       "<polyline clip-path=\"url(#clip812)\" style=\"stroke:#000000; stroke-linecap:butt; stroke-linejoin:round; stroke-width:2; stroke-opacity:0.1; fill:none\" points=\"\n",
       "  409.008,686.448 409.008,47.2441 \n",
       "  \"/>\n",
       "<polyline clip-path=\"url(#clip812)\" style=\"stroke:#000000; stroke-linecap:butt; stroke-linejoin:round; stroke-width:2; stroke-opacity:0.1; fill:none\" points=\"\n",
       "  539.261,686.448 539.261,47.2441 \n",
       "  \"/>\n",
       "<polyline clip-path=\"url(#clip812)\" style=\"stroke:#000000; stroke-linecap:butt; stroke-linejoin:round; stroke-width:2; stroke-opacity:0.1; fill:none\" points=\"\n",
       "  669.515,686.448 669.515,47.2441 \n",
       "  \"/>\n",
       "<polyline clip-path=\"url(#clip812)\" style=\"stroke:#000000; stroke-linecap:butt; stroke-linejoin:round; stroke-width:2; stroke-opacity:0.1; fill:none\" points=\"\n",
       "  799.769,686.448 799.769,47.2441 \n",
       "  \"/>\n",
       "<polyline clip-path=\"url(#clip812)\" style=\"stroke:#000000; stroke-linecap:butt; stroke-linejoin:round; stroke-width:2; stroke-opacity:0.1; fill:none\" points=\"\n",
       "  930.022,686.448 930.022,47.2441 \n",
       "  \"/>\n",
       "<polyline clip-path=\"url(#clip812)\" style=\"stroke:#000000; stroke-linecap:butt; stroke-linejoin:round; stroke-width:2; stroke-opacity:0.1; fill:none\" points=\"\n",
       "  1060.28,686.448 1060.28,47.2441 \n",
       "  \"/>\n",
       "<polyline clip-path=\"url(#clip810)\" style=\"stroke:#000000; stroke-linecap:butt; stroke-linejoin:round; stroke-width:4; stroke-opacity:1; fill:none\" points=\"\n",
       "  186.274,686.448 1152.76,686.448 \n",
       "  \"/>\n",
       "<polyline clip-path=\"url(#clip810)\" style=\"stroke:#000000; stroke-linecap:butt; stroke-linejoin:round; stroke-width:4; stroke-opacity:1; fill:none\" points=\"\n",
       "  278.754,686.448 278.754,667.55 \n",
       "  \"/>\n",
       "<polyline clip-path=\"url(#clip810)\" style=\"stroke:#000000; stroke-linecap:butt; stroke-linejoin:round; stroke-width:4; stroke-opacity:1; fill:none\" points=\"\n",
       "  409.008,686.448 409.008,667.55 \n",
       "  \"/>\n",
       "<polyline clip-path=\"url(#clip810)\" style=\"stroke:#000000; stroke-linecap:butt; stroke-linejoin:round; stroke-width:4; stroke-opacity:1; fill:none\" points=\"\n",
       "  539.261,686.448 539.261,667.55 \n",
       "  \"/>\n",
       "<polyline clip-path=\"url(#clip810)\" style=\"stroke:#000000; stroke-linecap:butt; stroke-linejoin:round; stroke-width:4; stroke-opacity:1; fill:none\" points=\"\n",
       "  669.515,686.448 669.515,667.55 \n",
       "  \"/>\n",
       "<polyline clip-path=\"url(#clip810)\" style=\"stroke:#000000; stroke-linecap:butt; stroke-linejoin:round; stroke-width:4; stroke-opacity:1; fill:none\" points=\"\n",
       "  799.769,686.448 799.769,667.55 \n",
       "  \"/>\n",
       "<polyline clip-path=\"url(#clip810)\" style=\"stroke:#000000; stroke-linecap:butt; stroke-linejoin:round; stroke-width:4; stroke-opacity:1; fill:none\" points=\"\n",
       "  930.022,686.448 930.022,667.55 \n",
       "  \"/>\n",
       "<polyline clip-path=\"url(#clip810)\" style=\"stroke:#000000; stroke-linecap:butt; stroke-linejoin:round; stroke-width:4; stroke-opacity:1; fill:none\" points=\"\n",
       "  1060.28,686.448 1060.28,667.55 \n",
       "  \"/>\n",
       "<path clip-path=\"url(#clip810)\" d=\"M273.407 744.913 L289.726 744.913 L289.726 748.848 L267.782 748.848 L267.782 744.913 Q270.444 742.158 275.027 737.528 Q279.634 732.876 280.814 731.533 Q283.06 729.01 283.939 727.274 Q284.842 725.515 284.842 723.825 Q284.842 721.07 282.898 719.334 Q280.976 717.598 277.874 717.598 Q275.675 717.598 273.222 718.362 Q270.791 719.126 268.013 720.677 L268.013 715.955 Q270.837 714.82 273.291 714.242 Q275.745 713.663 277.782 713.663 Q283.152 713.663 286.347 716.348 Q289.541 719.033 289.541 723.524 Q289.541 725.654 288.731 727.575 Q287.944 729.473 285.837 732.066 Q285.259 732.737 282.157 735.954 Q279.055 739.149 273.407 744.913 Z\" fill=\"#000000\" fill-rule=\"evenodd\" fill-opacity=\"1\" /><path clip-path=\"url(#clip810)\" d=\"M412.017 718.362 L400.211 736.811 L412.017 736.811 L412.017 718.362 M410.79 714.288 L416.67 714.288 L416.67 736.811 L421.6 736.811 L421.6 740.7 L416.67 740.7 L416.67 748.848 L412.017 748.848 L412.017 740.7 L396.415 740.7 L396.415 736.186 L410.79 714.288 Z\" fill=\"#000000\" fill-rule=\"evenodd\" fill-opacity=\"1\" /><path clip-path=\"url(#clip810)\" d=\"M539.666 729.704 Q536.518 729.704 534.666 731.857 Q532.838 734.01 532.838 737.76 Q532.838 741.487 534.666 743.663 Q536.518 745.815 539.666 745.815 Q542.815 745.815 544.643 743.663 Q546.495 741.487 546.495 737.76 Q546.495 734.01 544.643 731.857 Q542.815 729.704 539.666 729.704 M548.949 715.052 L548.949 719.311 Q547.19 718.478 545.384 718.038 Q543.602 717.598 541.842 717.598 Q537.213 717.598 534.759 720.723 Q532.328 723.848 531.981 730.167 Q533.347 728.154 535.407 727.089 Q537.467 726.001 539.944 726.001 Q545.152 726.001 548.162 729.172 Q551.194 732.32 551.194 737.76 Q551.194 743.084 548.046 746.302 Q544.898 749.519 539.666 749.519 Q533.671 749.519 530.5 744.936 Q527.329 740.329 527.329 731.603 Q527.329 723.408 531.217 718.547 Q535.106 713.663 541.657 713.663 Q543.416 713.663 545.199 714.01 Q547.004 714.357 548.949 715.052 Z\" fill=\"#000000\" fill-rule=\"evenodd\" fill-opacity=\"1\" /><path clip-path=\"url(#clip810)\" d=\"M669.515 732.436 Q666.182 732.436 664.26 734.218 Q662.362 736.001 662.362 739.126 Q662.362 742.251 664.26 744.033 Q666.182 745.815 669.515 745.815 Q672.848 745.815 674.77 744.033 Q676.691 742.228 676.691 739.126 Q676.691 736.001 674.77 734.218 Q672.871 732.436 669.515 732.436 M664.839 730.445 Q661.83 729.704 660.14 727.644 Q658.473 725.584 658.473 722.621 Q658.473 718.478 661.413 716.07 Q664.376 713.663 669.515 713.663 Q674.677 713.663 677.617 716.07 Q680.557 718.478 680.557 722.621 Q680.557 725.584 678.867 727.644 Q677.2 729.704 674.214 730.445 Q677.594 731.232 679.469 733.524 Q681.367 735.816 681.367 739.126 Q681.367 744.149 678.288 746.834 Q675.233 749.519 669.515 749.519 Q663.797 749.519 660.719 746.834 Q657.663 744.149 657.663 739.126 Q657.663 735.816 659.561 733.524 Q661.459 731.232 664.839 730.445 M663.126 723.061 Q663.126 725.746 664.793 727.251 Q666.483 728.755 669.515 728.755 Q672.524 728.755 674.214 727.251 Q675.927 725.746 675.927 723.061 Q675.927 720.376 674.214 718.871 Q672.524 717.367 669.515 717.367 Q666.483 717.367 664.793 718.871 Q663.126 720.376 663.126 723.061 Z\" fill=\"#000000\" fill-rule=\"evenodd\" fill-opacity=\"1\" /><path clip-path=\"url(#clip810)\" d=\"M774.456 744.913 L782.095 744.913 L782.095 718.547 L773.785 720.214 L773.785 715.955 L782.049 714.288 L786.725 714.288 L786.725 744.913 L794.364 744.913 L794.364 748.848 L774.456 748.848 L774.456 744.913 Z\" fill=\"#000000\" fill-rule=\"evenodd\" fill-opacity=\"1\" /><path clip-path=\"url(#clip810)\" d=\"M813.808 717.367 Q810.197 717.367 808.368 720.931 Q806.563 724.473 806.563 731.603 Q806.563 738.709 808.368 742.274 Q810.197 745.815 813.808 745.815 Q817.442 745.815 819.248 742.274 Q821.076 738.709 821.076 731.603 Q821.076 724.473 819.248 720.931 Q817.442 717.367 813.808 717.367 M813.808 713.663 Q819.618 713.663 822.674 718.269 Q825.752 722.853 825.752 731.603 Q825.752 740.329 822.674 744.936 Q819.618 749.519 813.808 749.519 Q807.998 749.519 804.919 744.936 Q801.863 740.329 801.863 731.603 Q801.863 722.853 804.919 718.269 Q807.998 713.663 813.808 713.663 Z\" fill=\"#000000\" fill-rule=\"evenodd\" fill-opacity=\"1\" /><path clip-path=\"url(#clip810)\" d=\"M905.508 744.913 L913.147 744.913 L913.147 718.547 L904.837 720.214 L904.837 715.955 L913.101 714.288 L917.777 714.288 L917.777 744.913 L925.416 744.913 L925.416 748.848 L905.508 748.848 L905.508 744.913 Z\" fill=\"#000000\" fill-rule=\"evenodd\" fill-opacity=\"1\" /><path clip-path=\"url(#clip810)\" d=\"M938.888 744.913 L955.207 744.913 L955.207 748.848 L933.263 748.848 L933.263 744.913 Q935.925 742.158 940.508 737.528 Q945.115 732.876 946.295 731.533 Q948.541 729.01 949.42 727.274 Q950.323 725.515 950.323 723.825 Q950.323 721.07 948.379 719.334 Q946.457 717.598 943.355 717.598 Q941.156 717.598 938.703 718.362 Q936.272 719.126 933.494 720.677 L933.494 715.955 Q936.318 714.82 938.772 714.242 Q941.226 713.663 943.263 713.663 Q948.633 713.663 951.828 716.348 Q955.022 719.033 955.022 723.524 Q955.022 725.654 954.212 727.575 Q953.425 729.473 951.318 732.066 Q950.74 732.737 947.638 735.954 Q944.536 739.149 938.888 744.913 Z\" fill=\"#000000\" fill-rule=\"evenodd\" fill-opacity=\"1\" /><path clip-path=\"url(#clip810)\" d=\"M1034.72 744.913 L1042.36 744.913 L1042.36 718.547 L1034.05 720.214 L1034.05 715.955 L1042.31 714.288 L1046.99 714.288 L1046.99 744.913 L1054.63 744.913 L1054.63 748.848 L1034.72 748.848 L1034.72 744.913 Z\" fill=\"#000000\" fill-rule=\"evenodd\" fill-opacity=\"1\" /><path clip-path=\"url(#clip810)\" d=\"M1076.92 718.362 L1065.11 736.811 L1076.92 736.811 L1076.92 718.362 M1075.69 714.288 L1081.57 714.288 L1081.57 736.811 L1086.5 736.811 L1086.5 740.7 L1081.57 740.7 L1081.57 748.848 L1076.92 748.848 L1076.92 740.7 L1061.32 740.7 L1061.32 736.186 L1075.69 714.288 Z\" fill=\"#000000\" fill-rule=\"evenodd\" fill-opacity=\"1\" /><polyline clip-path=\"url(#clip812)\" style=\"stroke:#000000; stroke-linecap:butt; stroke-linejoin:round; stroke-width:2; stroke-opacity:0.1; fill:none\" points=\"\n",
       "  186.274,685.179 1152.76,685.179 \n",
       "  \"/>\n",
       "<polyline clip-path=\"url(#clip812)\" style=\"stroke:#000000; stroke-linecap:butt; stroke-linejoin:round; stroke-width:2; stroke-opacity:0.1; fill:none\" points=\"\n",
       "  186.274,526.58 1152.76,526.58 \n",
       "  \"/>\n",
       "<polyline clip-path=\"url(#clip812)\" style=\"stroke:#000000; stroke-linecap:butt; stroke-linejoin:round; stroke-width:2; stroke-opacity:0.1; fill:none\" points=\"\n",
       "  186.274,367.982 1152.76,367.982 \n",
       "  \"/>\n",
       "<polyline clip-path=\"url(#clip812)\" style=\"stroke:#000000; stroke-linecap:butt; stroke-linejoin:round; stroke-width:2; stroke-opacity:0.1; fill:none\" points=\"\n",
       "  186.274,209.383 1152.76,209.383 \n",
       "  \"/>\n",
       "<polyline clip-path=\"url(#clip812)\" style=\"stroke:#000000; stroke-linecap:butt; stroke-linejoin:round; stroke-width:2; stroke-opacity:0.1; fill:none\" points=\"\n",
       "  186.274,50.7844 1152.76,50.7844 \n",
       "  \"/>\n",
       "<polyline clip-path=\"url(#clip810)\" style=\"stroke:#000000; stroke-linecap:butt; stroke-linejoin:round; stroke-width:4; stroke-opacity:1; fill:none\" points=\"\n",
       "  186.274,686.448 186.274,47.2441 \n",
       "  \"/>\n",
       "<polyline clip-path=\"url(#clip810)\" style=\"stroke:#000000; stroke-linecap:butt; stroke-linejoin:round; stroke-width:4; stroke-opacity:1; fill:none\" points=\"\n",
       "  186.274,685.179 205.172,685.179 \n",
       "  \"/>\n",
       "<polyline clip-path=\"url(#clip810)\" style=\"stroke:#000000; stroke-linecap:butt; stroke-linejoin:round; stroke-width:4; stroke-opacity:1; fill:none\" points=\"\n",
       "  186.274,526.58 205.172,526.58 \n",
       "  \"/>\n",
       "<polyline clip-path=\"url(#clip810)\" style=\"stroke:#000000; stroke-linecap:butt; stroke-linejoin:round; stroke-width:4; stroke-opacity:1; fill:none\" points=\"\n",
       "  186.274,367.982 205.172,367.982 \n",
       "  \"/>\n",
       "<polyline clip-path=\"url(#clip810)\" style=\"stroke:#000000; stroke-linecap:butt; stroke-linejoin:round; stroke-width:4; stroke-opacity:1; fill:none\" points=\"\n",
       "  186.274,209.383 205.172,209.383 \n",
       "  \"/>\n",
       "<polyline clip-path=\"url(#clip810)\" style=\"stroke:#000000; stroke-linecap:butt; stroke-linejoin:round; stroke-width:4; stroke-opacity:1; fill:none\" points=\"\n",
       "  186.274,50.7844 205.172,50.7844 \n",
       "  \"/>\n",
       "<path clip-path=\"url(#clip810)\" d=\"M62.9365 670.977 Q59.3254 670.977 57.4967 674.542 Q55.6912 678.084 55.6912 685.213 Q55.6912 692.32 57.4967 695.885 Q59.3254 699.426 62.9365 699.426 Q66.5707 699.426 68.3763 695.885 Q70.205 692.32 70.205 685.213 Q70.205 678.084 68.3763 674.542 Q66.5707 670.977 62.9365 670.977 M62.9365 667.274 Q68.7467 667.274 71.8022 671.88 Q74.8809 676.463 74.8809 685.213 Q74.8809 693.94 71.8022 698.547 Q68.7467 703.13 62.9365 703.13 Q57.1264 703.13 54.0477 698.547 Q50.9921 693.94 50.9921 685.213 Q50.9921 676.463 54.0477 671.88 Q57.1264 667.274 62.9365 667.274 Z\" fill=\"#000000\" fill-rule=\"evenodd\" fill-opacity=\"1\" /><path clip-path=\"url(#clip810)\" d=\"M83.0984 696.579 L87.9827 696.579 L87.9827 702.459 L83.0984 702.459 L83.0984 696.579 Z\" fill=\"#000000\" fill-rule=\"evenodd\" fill-opacity=\"1\" /><path clip-path=\"url(#clip810)\" d=\"M108.168 670.977 Q104.557 670.977 102.728 674.542 Q100.922 678.084 100.922 685.213 Q100.922 692.32 102.728 695.885 Q104.557 699.426 108.168 699.426 Q111.802 699.426 113.608 695.885 Q115.436 692.32 115.436 685.213 Q115.436 678.084 113.608 674.542 Q111.802 670.977 108.168 670.977 M108.168 667.274 Q113.978 667.274 117.033 671.88 Q120.112 676.463 120.112 685.213 Q120.112 693.94 117.033 698.547 Q113.978 703.13 108.168 703.13 Q102.358 703.13 99.2789 698.547 Q96.2234 693.94 96.2234 685.213 Q96.2234 676.463 99.2789 671.88 Q102.358 667.274 108.168 667.274 Z\" fill=\"#000000\" fill-rule=\"evenodd\" fill-opacity=\"1\" /><path clip-path=\"url(#clip810)\" d=\"M138.33 670.977 Q134.719 670.977 132.89 674.542 Q131.084 678.084 131.084 685.213 Q131.084 692.32 132.89 695.885 Q134.719 699.426 138.33 699.426 Q141.964 699.426 143.769 695.885 Q145.598 692.32 145.598 685.213 Q145.598 678.084 143.769 674.542 Q141.964 670.977 138.33 670.977 M138.33 667.274 Q144.14 667.274 147.195 671.88 Q150.274 676.463 150.274 685.213 Q150.274 693.94 147.195 698.547 Q144.14 703.13 138.33 703.13 Q132.519 703.13 129.441 698.547 Q126.385 693.94 126.385 685.213 Q126.385 676.463 129.441 671.88 Q132.519 667.274 138.33 667.274 Z\" fill=\"#000000\" fill-rule=\"evenodd\" fill-opacity=\"1\" /><path clip-path=\"url(#clip810)\" d=\"M63.9319 512.379 Q60.3208 512.379 58.4921 515.944 Q56.6865 519.485 56.6865 526.615 Q56.6865 533.721 58.4921 537.286 Q60.3208 540.828 63.9319 540.828 Q67.5661 540.828 69.3717 537.286 Q71.2004 533.721 71.2004 526.615 Q71.2004 519.485 69.3717 515.944 Q67.5661 512.379 63.9319 512.379 M63.9319 508.675 Q69.742 508.675 72.7976 513.282 Q75.8763 517.865 75.8763 526.615 Q75.8763 535.342 72.7976 539.948 Q69.742 544.531 63.9319 544.531 Q58.1217 544.531 55.043 539.948 Q51.9875 535.342 51.9875 526.615 Q51.9875 517.865 55.043 513.282 Q58.1217 508.675 63.9319 508.675 Z\" fill=\"#000000\" fill-rule=\"evenodd\" fill-opacity=\"1\" /><path clip-path=\"url(#clip810)\" d=\"M84.0938 537.981 L88.978 537.981 L88.978 543.86 L84.0938 543.86 L84.0938 537.981 Z\" fill=\"#000000\" fill-rule=\"evenodd\" fill-opacity=\"1\" /><path clip-path=\"url(#clip810)\" d=\"M103.191 539.925 L119.51 539.925 L119.51 543.86 L97.566 543.86 L97.566 539.925 Q100.228 537.17 104.811 532.541 Q109.418 527.888 110.598 526.545 Q112.844 524.022 113.723 522.286 Q114.626 520.527 114.626 518.837 Q114.626 516.082 112.682 514.346 Q110.76 512.61 107.658 512.61 Q105.459 512.61 103.006 513.374 Q100.575 514.138 97.7974 515.689 L97.7974 510.967 Q100.621 509.833 103.075 509.254 Q105.529 508.675 107.566 508.675 Q112.936 508.675 116.131 511.36 Q119.325 514.045 119.325 518.536 Q119.325 520.666 118.515 522.587 Q117.728 524.485 115.621 527.078 Q115.043 527.749 111.941 530.967 Q108.839 534.161 103.191 539.925 Z\" fill=\"#000000\" fill-rule=\"evenodd\" fill-opacity=\"1\" /><path clip-path=\"url(#clip810)\" d=\"M129.371 509.3 L147.728 509.3 L147.728 513.235 L133.654 513.235 L133.654 521.707 Q134.672 521.36 135.691 521.198 Q136.709 521.013 137.728 521.013 Q143.515 521.013 146.894 524.184 Q150.274 527.356 150.274 532.772 Q150.274 538.351 146.802 541.453 Q143.33 544.531 137.01 544.531 Q134.834 544.531 132.566 544.161 Q130.32 543.791 127.913 543.05 L127.913 538.351 Q129.996 539.485 132.219 540.041 Q134.441 540.596 136.918 540.596 Q140.922 540.596 143.26 538.49 Q145.598 536.383 145.598 532.772 Q145.598 529.161 143.26 527.055 Q140.922 524.948 136.918 524.948 Q135.043 524.948 133.168 525.365 Q131.316 525.781 129.371 526.661 L129.371 509.3 Z\" fill=\"#000000\" fill-rule=\"evenodd\" fill-opacity=\"1\" /><path clip-path=\"url(#clip810)\" d=\"M62.9365 353.78 Q59.3254 353.78 57.4967 357.345 Q55.6912 360.887 55.6912 368.016 Q55.6912 375.123 57.4967 378.687 Q59.3254 382.229 62.9365 382.229 Q66.5707 382.229 68.3763 378.687 Q70.205 375.123 70.205 368.016 Q70.205 360.887 68.3763 357.345 Q66.5707 353.78 62.9365 353.78 M62.9365 350.077 Q68.7467 350.077 71.8022 354.683 Q74.8809 359.266 74.8809 368.016 Q74.8809 376.743 71.8022 381.35 Q68.7467 385.933 62.9365 385.933 Q57.1264 385.933 54.0477 381.35 Q50.9921 376.743 50.9921 368.016 Q50.9921 359.266 54.0477 354.683 Q57.1264 350.077 62.9365 350.077 Z\" fill=\"#000000\" fill-rule=\"evenodd\" fill-opacity=\"1\" /><path clip-path=\"url(#clip810)\" d=\"M83.0984 379.382 L87.9827 379.382 L87.9827 385.262 L83.0984 385.262 L83.0984 379.382 Z\" fill=\"#000000\" fill-rule=\"evenodd\" fill-opacity=\"1\" /><path clip-path=\"url(#clip810)\" d=\"M98.2141 350.702 L116.57 350.702 L116.57 354.637 L102.496 354.637 L102.496 363.109 Q103.515 362.762 104.534 362.6 Q105.552 362.414 106.571 362.414 Q112.358 362.414 115.737 365.586 Q119.117 368.757 119.117 374.174 Q119.117 379.752 115.645 382.854 Q112.172 385.933 105.853 385.933 Q103.677 385.933 101.409 385.562 Q99.1632 385.192 96.7558 384.451 L96.7558 379.752 Q98.8391 380.887 101.061 381.442 Q103.284 381.998 105.76 381.998 Q109.765 381.998 112.103 379.891 Q114.441 377.785 114.441 374.174 Q114.441 370.563 112.103 368.456 Q109.765 366.35 105.76 366.35 Q103.885 366.35 102.01 366.766 Q100.159 367.183 98.2141 368.063 L98.2141 350.702 Z\" fill=\"#000000\" fill-rule=\"evenodd\" fill-opacity=\"1\" /><path clip-path=\"url(#clip810)\" d=\"M138.33 353.78 Q134.719 353.78 132.89 357.345 Q131.084 360.887 131.084 368.016 Q131.084 375.123 132.89 378.687 Q134.719 382.229 138.33 382.229 Q141.964 382.229 143.769 378.687 Q145.598 375.123 145.598 368.016 Q145.598 360.887 143.769 357.345 Q141.964 353.78 138.33 353.78 M138.33 350.077 Q144.14 350.077 147.195 354.683 Q150.274 359.266 150.274 368.016 Q150.274 376.743 147.195 381.35 Q144.14 385.933 138.33 385.933 Q132.519 385.933 129.441 381.35 Q126.385 376.743 126.385 368.016 Q126.385 359.266 129.441 354.683 Q132.519 350.077 138.33 350.077 Z\" fill=\"#000000\" fill-rule=\"evenodd\" fill-opacity=\"1\" /><path clip-path=\"url(#clip810)\" d=\"M63.9319 195.182 Q60.3208 195.182 58.4921 198.746 Q56.6865 202.288 56.6865 209.418 Q56.6865 216.524 58.4921 220.089 Q60.3208 223.631 63.9319 223.631 Q67.5661 223.631 69.3717 220.089 Q71.2004 216.524 71.2004 209.418 Q71.2004 202.288 69.3717 198.746 Q67.5661 195.182 63.9319 195.182 M63.9319 191.478 Q69.742 191.478 72.7976 196.084 Q75.8763 200.668 75.8763 209.418 Q75.8763 218.144 72.7976 222.751 Q69.742 227.334 63.9319 227.334 Q58.1217 227.334 55.043 222.751 Q51.9875 218.144 51.9875 209.418 Q51.9875 200.668 55.043 196.084 Q58.1217 191.478 63.9319 191.478 Z\" fill=\"#000000\" fill-rule=\"evenodd\" fill-opacity=\"1\" /><path clip-path=\"url(#clip810)\" d=\"M84.0938 220.783 L88.978 220.783 L88.978 226.663 L84.0938 226.663 L84.0938 220.783 Z\" fill=\"#000000\" fill-rule=\"evenodd\" fill-opacity=\"1\" /><path clip-path=\"url(#clip810)\" d=\"M97.9826 192.103 L120.205 192.103 L120.205 194.094 L107.658 226.663 L102.774 226.663 L114.58 196.038 L97.9826 196.038 L97.9826 192.103 Z\" fill=\"#000000\" fill-rule=\"evenodd\" fill-opacity=\"1\" /><path clip-path=\"url(#clip810)\" d=\"M129.371 192.103 L147.728 192.103 L147.728 196.038 L133.654 196.038 L133.654 204.51 Q134.672 204.163 135.691 204.001 Q136.709 203.816 137.728 203.816 Q143.515 203.816 146.894 206.987 Q150.274 210.158 150.274 215.575 Q150.274 221.154 146.802 224.256 Q143.33 227.334 137.01 227.334 Q134.834 227.334 132.566 226.964 Q130.32 226.594 127.913 225.853 L127.913 221.154 Q129.996 222.288 132.219 222.844 Q134.441 223.399 136.918 223.399 Q140.922 223.399 143.26 221.293 Q145.598 219.186 145.598 215.575 Q145.598 211.964 143.26 209.857 Q140.922 207.751 136.918 207.751 Q135.043 207.751 133.168 208.168 Q131.316 208.584 129.371 209.464 L129.371 192.103 Z\" fill=\"#000000\" fill-rule=\"evenodd\" fill-opacity=\"1\" /><path clip-path=\"url(#clip810)\" d=\"M53.7467 64.1292 L61.3856 64.1292 L61.3856 37.7636 L53.0754 39.4303 L53.0754 35.1711 L61.3393 33.5044 L66.0152 33.5044 L66.0152 64.1292 L73.654 64.1292 L73.654 68.0644 L53.7467 68.0644 L53.7467 64.1292 Z\" fill=\"#000000\" fill-rule=\"evenodd\" fill-opacity=\"1\" /><path clip-path=\"url(#clip810)\" d=\"M83.0984 62.1848 L87.9827 62.1848 L87.9827 68.0644 L83.0984 68.0644 L83.0984 62.1848 Z\" fill=\"#000000\" fill-rule=\"evenodd\" fill-opacity=\"1\" /><path clip-path=\"url(#clip810)\" d=\"M108.168 36.5831 Q104.557 36.5831 102.728 40.1479 Q100.922 43.6895 100.922 50.8191 Q100.922 57.9256 102.728 61.4904 Q104.557 65.032 108.168 65.032 Q111.802 65.032 113.608 61.4904 Q115.436 57.9256 115.436 50.8191 Q115.436 43.6895 113.608 40.1479 Q111.802 36.5831 108.168 36.5831 M108.168 32.8794 Q113.978 32.8794 117.033 37.4859 Q120.112 42.0692 120.112 50.8191 Q120.112 59.5459 117.033 64.1524 Q113.978 68.7357 108.168 68.7357 Q102.358 68.7357 99.2789 64.1524 Q96.2234 59.5459 96.2234 50.8191 Q96.2234 42.0692 99.2789 37.4859 Q102.358 32.8794 108.168 32.8794 Z\" fill=\"#000000\" fill-rule=\"evenodd\" fill-opacity=\"1\" /><path clip-path=\"url(#clip810)\" d=\"M138.33 36.5831 Q134.719 36.5831 132.89 40.1479 Q131.084 43.6895 131.084 50.8191 Q131.084 57.9256 132.89 61.4904 Q134.719 65.032 138.33 65.032 Q141.964 65.032 143.769 61.4904 Q145.598 57.9256 145.598 50.8191 Q145.598 43.6895 143.769 40.1479 Q141.964 36.5831 138.33 36.5831 M138.33 32.8794 Q144.14 32.8794 147.195 37.4859 Q150.274 42.0692 150.274 50.8191 Q150.274 59.5459 147.195 64.1524 Q144.14 68.7357 138.33 68.7357 Q132.519 68.7357 129.441 64.1524 Q126.385 59.5459 126.385 50.8191 Q126.385 42.0692 129.441 37.4859 Q132.519 32.8794 138.33 32.8794 Z\" fill=\"#000000\" fill-rule=\"evenodd\" fill-opacity=\"1\" /><polyline clip-path=\"url(#clip812)\" style=\"stroke:#009af9; stroke-linecap:butt; stroke-linejoin:round; stroke-width:4; stroke-opacity:1; fill:none\" points=\"\n",
       "  213.627,601.466 278.754,603.053 343.881,242.666 409.008,112.477 474.135,77.6144 539.261,249.309 604.388,651.591 669.515,668.357 734.642,479.107 799.769,505.456 \n",
       "  864.895,419.233 930.022,201.542 995.149,331.75 1060.28,65.3348 1125.4,330.902 \n",
       "  \"/>\n",
       "<path clip-path=\"url(#clip810)\" d=\"\n",
       "M960.723 172.231 L1120.54 172.231 L1120.54 68.5509 L960.723 68.5509  Z\n",
       "  \" fill=\"#ffffff\" fill-rule=\"evenodd\" fill-opacity=\"1\"/>\n",
       "<polyline clip-path=\"url(#clip810)\" style=\"stroke:#000000; stroke-linecap:butt; stroke-linejoin:round; stroke-width:4; stroke-opacity:1; fill:none\" points=\"\n",
       "  960.723,172.231 1120.54,172.231 1120.54,68.5509 960.723,68.5509 960.723,172.231 \n",
       "  \"/>\n",
       "<polyline clip-path=\"url(#clip810)\" style=\"stroke:#009af9; stroke-linecap:butt; stroke-linejoin:round; stroke-width:4; stroke-opacity:1; fill:none\" points=\"\n",
       "  971.461,120.391 1035.89,120.391 \n",
       "  \"/>\n",
       "<path clip-path=\"url(#clip810)\" d=\"M1060.47 140.078 Q1058.67 144.708 1056.96 146.12 Q1055.24 147.532 1052.37 147.532 L1048.97 147.532 L1048.97 143.967 L1051.47 143.967 Q1053.23 143.967 1054.2 143.134 Q1055.17 142.3 1056.35 139.199 L1057.12 137.254 L1046.63 111.745 L1051.15 111.745 L1059.25 132.023 L1067.35 111.745 L1071.86 111.745 L1060.47 140.078 Z\" fill=\"#000000\" fill-rule=\"evenodd\" fill-opacity=\"1\" /><path clip-path=\"url(#clip810)\" d=\"M1079.16 133.736 L1086.79 133.736 L1086.79 107.37 L1078.48 109.037 L1078.48 104.778 L1086.75 103.111 L1091.42 103.111 L1091.42 133.736 L1099.06 133.736 L1099.06 137.671 L1079.16 137.671 L1079.16 133.736 Z\" fill=\"#000000\" fill-rule=\"evenodd\" fill-opacity=\"1\" /><path clip-path=\"url(#clip810)\" d=\"\n",
       "M1386.27 686.448 L2352.76 686.448 L2352.76 47.2441 L1386.27 47.2441  Z\n",
       "  \" fill=\"#ffffff\" fill-rule=\"evenodd\" fill-opacity=\"1\"/>\n",
       "<defs>\n",
       "  <clipPath id=\"clip813\">\n",
       "    <rect x=\"1386\" y=\"47\" width=\"967\" height=\"640\"/>\n",
       "  </clipPath>\n",
       "</defs>\n",
       "<polyline clip-path=\"url(#clip813)\" style=\"stroke:#000000; stroke-linecap:butt; stroke-linejoin:round; stroke-width:2; stroke-opacity:0.1; fill:none\" points=\"\n",
       "  1478.75,686.448 1478.75,47.2441 \n",
       "  \"/>\n",
       "<polyline clip-path=\"url(#clip813)\" style=\"stroke:#000000; stroke-linecap:butt; stroke-linejoin:round; stroke-width:2; stroke-opacity:0.1; fill:none\" points=\"\n",
       "  1609.01,686.448 1609.01,47.2441 \n",
       "  \"/>\n",
       "<polyline clip-path=\"url(#clip813)\" style=\"stroke:#000000; stroke-linecap:butt; stroke-linejoin:round; stroke-width:2; stroke-opacity:0.1; fill:none\" points=\"\n",
       "  1739.26,686.448 1739.26,47.2441 \n",
       "  \"/>\n",
       "<polyline clip-path=\"url(#clip813)\" style=\"stroke:#000000; stroke-linecap:butt; stroke-linejoin:round; stroke-width:2; stroke-opacity:0.1; fill:none\" points=\"\n",
       "  1869.51,686.448 1869.51,47.2441 \n",
       "  \"/>\n",
       "<polyline clip-path=\"url(#clip813)\" style=\"stroke:#000000; stroke-linecap:butt; stroke-linejoin:round; stroke-width:2; stroke-opacity:0.1; fill:none\" points=\"\n",
       "  1999.77,686.448 1999.77,47.2441 \n",
       "  \"/>\n",
       "<polyline clip-path=\"url(#clip813)\" style=\"stroke:#000000; stroke-linecap:butt; stroke-linejoin:round; stroke-width:2; stroke-opacity:0.1; fill:none\" points=\"\n",
       "  2130.02,686.448 2130.02,47.2441 \n",
       "  \"/>\n",
       "<polyline clip-path=\"url(#clip813)\" style=\"stroke:#000000; stroke-linecap:butt; stroke-linejoin:round; stroke-width:2; stroke-opacity:0.1; fill:none\" points=\"\n",
       "  2260.28,686.448 2260.28,47.2441 \n",
       "  \"/>\n",
       "<polyline clip-path=\"url(#clip810)\" style=\"stroke:#000000; stroke-linecap:butt; stroke-linejoin:round; stroke-width:4; stroke-opacity:1; fill:none\" points=\"\n",
       "  1386.27,686.448 2352.76,686.448 \n",
       "  \"/>\n",
       "<polyline clip-path=\"url(#clip810)\" style=\"stroke:#000000; stroke-linecap:butt; stroke-linejoin:round; stroke-width:4; stroke-opacity:1; fill:none\" points=\"\n",
       "  1478.75,686.448 1478.75,667.55 \n",
       "  \"/>\n",
       "<polyline clip-path=\"url(#clip810)\" style=\"stroke:#000000; stroke-linecap:butt; stroke-linejoin:round; stroke-width:4; stroke-opacity:1; fill:none\" points=\"\n",
       "  1609.01,686.448 1609.01,667.55 \n",
       "  \"/>\n",
       "<polyline clip-path=\"url(#clip810)\" style=\"stroke:#000000; stroke-linecap:butt; stroke-linejoin:round; stroke-width:4; stroke-opacity:1; fill:none\" points=\"\n",
       "  1739.26,686.448 1739.26,667.55 \n",
       "  \"/>\n",
       "<polyline clip-path=\"url(#clip810)\" style=\"stroke:#000000; stroke-linecap:butt; stroke-linejoin:round; stroke-width:4; stroke-opacity:1; fill:none\" points=\"\n",
       "  1869.51,686.448 1869.51,667.55 \n",
       "  \"/>\n",
       "<polyline clip-path=\"url(#clip810)\" style=\"stroke:#000000; stroke-linecap:butt; stroke-linejoin:round; stroke-width:4; stroke-opacity:1; fill:none\" points=\"\n",
       "  1999.77,686.448 1999.77,667.55 \n",
       "  \"/>\n",
       "<polyline clip-path=\"url(#clip810)\" style=\"stroke:#000000; stroke-linecap:butt; stroke-linejoin:round; stroke-width:4; stroke-opacity:1; fill:none\" points=\"\n",
       "  2130.02,686.448 2130.02,667.55 \n",
       "  \"/>\n",
       "<polyline clip-path=\"url(#clip810)\" style=\"stroke:#000000; stroke-linecap:butt; stroke-linejoin:round; stroke-width:4; stroke-opacity:1; fill:none\" points=\"\n",
       "  2260.28,686.448 2260.28,667.55 \n",
       "  \"/>\n",
       "<path clip-path=\"url(#clip810)\" d=\"M1473.41 744.913 L1489.73 744.913 L1489.73 748.848 L1467.78 748.848 L1467.78 744.913 Q1470.44 742.158 1475.03 737.528 Q1479.63 732.876 1480.81 731.533 Q1483.06 729.01 1483.94 727.274 Q1484.84 725.515 1484.84 723.825 Q1484.84 721.07 1482.9 719.334 Q1480.98 717.598 1477.87 717.598 Q1475.68 717.598 1473.22 718.362 Q1470.79 719.126 1468.01 720.677 L1468.01 715.955 Q1470.84 714.82 1473.29 714.242 Q1475.74 713.663 1477.78 713.663 Q1483.15 713.663 1486.35 716.348 Q1489.54 719.033 1489.54 723.524 Q1489.54 725.654 1488.73 727.575 Q1487.94 729.473 1485.84 732.066 Q1485.26 732.737 1482.16 735.954 Q1479.06 739.149 1473.41 744.913 Z\" fill=\"#000000\" fill-rule=\"evenodd\" fill-opacity=\"1\" /><path clip-path=\"url(#clip810)\" d=\"M1612.02 718.362 L1600.21 736.811 L1612.02 736.811 L1612.02 718.362 M1610.79 714.288 L1616.67 714.288 L1616.67 736.811 L1621.6 736.811 L1621.6 740.7 L1616.67 740.7 L1616.67 748.848 L1612.02 748.848 L1612.02 740.7 L1596.42 740.7 L1596.42 736.186 L1610.79 714.288 Z\" fill=\"#000000\" fill-rule=\"evenodd\" fill-opacity=\"1\" /><path clip-path=\"url(#clip810)\" d=\"M1739.67 729.704 Q1736.52 729.704 1734.67 731.857 Q1732.84 734.01 1732.84 737.76 Q1732.84 741.487 1734.67 743.663 Q1736.52 745.815 1739.67 745.815 Q1742.81 745.815 1744.64 743.663 Q1746.5 741.487 1746.5 737.76 Q1746.5 734.01 1744.64 731.857 Q1742.81 729.704 1739.67 729.704 M1748.95 715.052 L1748.95 719.311 Q1747.19 718.478 1745.38 718.038 Q1743.6 717.598 1741.84 717.598 Q1737.21 717.598 1734.76 720.723 Q1732.33 723.848 1731.98 730.167 Q1733.35 728.154 1735.41 727.089 Q1737.47 726.001 1739.94 726.001 Q1745.15 726.001 1748.16 729.172 Q1751.19 732.32 1751.19 737.76 Q1751.19 743.084 1748.05 746.302 Q1744.9 749.519 1739.67 749.519 Q1733.67 749.519 1730.5 744.936 Q1727.33 740.329 1727.33 731.603 Q1727.33 723.408 1731.22 718.547 Q1735.11 713.663 1741.66 713.663 Q1743.42 713.663 1745.2 714.01 Q1747 714.357 1748.95 715.052 Z\" fill=\"#000000\" fill-rule=\"evenodd\" fill-opacity=\"1\" /><path clip-path=\"url(#clip810)\" d=\"M1869.51 732.436 Q1866.18 732.436 1864.26 734.218 Q1862.36 736.001 1862.36 739.126 Q1862.36 742.251 1864.26 744.033 Q1866.18 745.815 1869.51 745.815 Q1872.85 745.815 1874.77 744.033 Q1876.69 742.228 1876.69 739.126 Q1876.69 736.001 1874.77 734.218 Q1872.87 732.436 1869.51 732.436 M1864.84 730.445 Q1861.83 729.704 1860.14 727.644 Q1858.47 725.584 1858.47 722.621 Q1858.47 718.478 1861.41 716.07 Q1864.38 713.663 1869.51 713.663 Q1874.68 713.663 1877.62 716.07 Q1880.56 718.478 1880.56 722.621 Q1880.56 725.584 1878.87 727.644 Q1877.2 729.704 1874.21 730.445 Q1877.59 731.232 1879.47 733.524 Q1881.37 735.816 1881.37 739.126 Q1881.37 744.149 1878.29 746.834 Q1875.23 749.519 1869.51 749.519 Q1863.8 749.519 1860.72 746.834 Q1857.66 744.149 1857.66 739.126 Q1857.66 735.816 1859.56 733.524 Q1861.46 731.232 1864.84 730.445 M1863.13 723.061 Q1863.13 725.746 1864.79 727.251 Q1866.48 728.755 1869.51 728.755 Q1872.52 728.755 1874.21 727.251 Q1875.93 725.746 1875.93 723.061 Q1875.93 720.376 1874.21 718.871 Q1872.52 717.367 1869.51 717.367 Q1866.48 717.367 1864.79 718.871 Q1863.13 720.376 1863.13 723.061 Z\" fill=\"#000000\" fill-rule=\"evenodd\" fill-opacity=\"1\" /><path clip-path=\"url(#clip810)\" d=\"M1974.46 744.913 L1982.1 744.913 L1982.1 718.547 L1973.78 720.214 L1973.78 715.955 L1982.05 714.288 L1986.72 714.288 L1986.72 744.913 L1994.36 744.913 L1994.36 748.848 L1974.46 748.848 L1974.46 744.913 Z\" fill=\"#000000\" fill-rule=\"evenodd\" fill-opacity=\"1\" /><path clip-path=\"url(#clip810)\" d=\"M2013.81 717.367 Q2010.2 717.367 2008.37 720.931 Q2006.56 724.473 2006.56 731.603 Q2006.56 738.709 2008.37 742.274 Q2010.2 745.815 2013.81 745.815 Q2017.44 745.815 2019.25 742.274 Q2021.08 738.709 2021.08 731.603 Q2021.08 724.473 2019.25 720.931 Q2017.44 717.367 2013.81 717.367 M2013.81 713.663 Q2019.62 713.663 2022.67 718.269 Q2025.75 722.853 2025.75 731.603 Q2025.75 740.329 2022.67 744.936 Q2019.62 749.519 2013.81 749.519 Q2008 749.519 2004.92 744.936 Q2001.86 740.329 2001.86 731.603 Q2001.86 722.853 2004.92 718.269 Q2008 713.663 2013.81 713.663 Z\" fill=\"#000000\" fill-rule=\"evenodd\" fill-opacity=\"1\" /><path clip-path=\"url(#clip810)\" d=\"M2105.51 744.913 L2113.15 744.913 L2113.15 718.547 L2104.84 720.214 L2104.84 715.955 L2113.1 714.288 L2117.78 714.288 L2117.78 744.913 L2125.42 744.913 L2125.42 748.848 L2105.51 748.848 L2105.51 744.913 Z\" fill=\"#000000\" fill-rule=\"evenodd\" fill-opacity=\"1\" /><path clip-path=\"url(#clip810)\" d=\"M2138.89 744.913 L2155.21 744.913 L2155.21 748.848 L2133.26 748.848 L2133.26 744.913 Q2135.92 742.158 2140.51 737.528 Q2145.11 732.876 2146.3 731.533 Q2148.54 729.01 2149.42 727.274 Q2150.32 725.515 2150.32 723.825 Q2150.32 721.07 2148.38 719.334 Q2146.46 717.598 2143.36 717.598 Q2141.16 717.598 2138.7 718.362 Q2136.27 719.126 2133.49 720.677 L2133.49 715.955 Q2136.32 714.82 2138.77 714.242 Q2141.23 713.663 2143.26 713.663 Q2148.63 713.663 2151.83 716.348 Q2155.02 719.033 2155.02 723.524 Q2155.02 725.654 2154.21 727.575 Q2153.42 729.473 2151.32 732.066 Q2150.74 732.737 2147.64 735.954 Q2144.54 739.149 2138.89 744.913 Z\" fill=\"#000000\" fill-rule=\"evenodd\" fill-opacity=\"1\" /><path clip-path=\"url(#clip810)\" d=\"M2234.72 744.913 L2242.36 744.913 L2242.36 718.547 L2234.05 720.214 L2234.05 715.955 L2242.31 714.288 L2246.99 714.288 L2246.99 744.913 L2254.63 744.913 L2254.63 748.848 L2234.72 748.848 L2234.72 744.913 Z\" fill=\"#000000\" fill-rule=\"evenodd\" fill-opacity=\"1\" /><path clip-path=\"url(#clip810)\" d=\"M2276.92 718.362 L2265.11 736.811 L2276.92 736.811 L2276.92 718.362 M2275.69 714.288 L2281.57 714.288 L2281.57 736.811 L2286.5 736.811 L2286.5 740.7 L2281.57 740.7 L2281.57 748.848 L2276.92 748.848 L2276.92 740.7 L2261.32 740.7 L2261.32 736.186 L2275.69 714.288 Z\" fill=\"#000000\" fill-rule=\"evenodd\" fill-opacity=\"1\" /><polyline clip-path=\"url(#clip813)\" style=\"stroke:#000000; stroke-linecap:butt; stroke-linejoin:round; stroke-width:2; stroke-opacity:0.1; fill:none\" points=\"\n",
       "  1386.27,685.179 2352.76,685.179 \n",
       "  \"/>\n",
       "<polyline clip-path=\"url(#clip813)\" style=\"stroke:#000000; stroke-linecap:butt; stroke-linejoin:round; stroke-width:2; stroke-opacity:0.1; fill:none\" points=\"\n",
       "  1386.27,526.58 2352.76,526.58 \n",
       "  \"/>\n",
       "<polyline clip-path=\"url(#clip813)\" style=\"stroke:#000000; stroke-linecap:butt; stroke-linejoin:round; stroke-width:2; stroke-opacity:0.1; fill:none\" points=\"\n",
       "  1386.27,367.982 2352.76,367.982 \n",
       "  \"/>\n",
       "<polyline clip-path=\"url(#clip813)\" style=\"stroke:#000000; stroke-linecap:butt; stroke-linejoin:round; stroke-width:2; stroke-opacity:0.1; fill:none\" points=\"\n",
       "  1386.27,209.383 2352.76,209.383 \n",
       "  \"/>\n",
       "<polyline clip-path=\"url(#clip813)\" style=\"stroke:#000000; stroke-linecap:butt; stroke-linejoin:round; stroke-width:2; stroke-opacity:0.1; fill:none\" points=\"\n",
       "  1386.27,50.7844 2352.76,50.7844 \n",
       "  \"/>\n",
       "<polyline clip-path=\"url(#clip810)\" style=\"stroke:#000000; stroke-linecap:butt; stroke-linejoin:round; stroke-width:4; stroke-opacity:1; fill:none\" points=\"\n",
       "  1386.27,686.448 1386.27,47.2441 \n",
       "  \"/>\n",
       "<polyline clip-path=\"url(#clip810)\" style=\"stroke:#000000; stroke-linecap:butt; stroke-linejoin:round; stroke-width:4; stroke-opacity:1; fill:none\" points=\"\n",
       "  1386.27,685.179 1405.17,685.179 \n",
       "  \"/>\n",
       "<polyline clip-path=\"url(#clip810)\" style=\"stroke:#000000; stroke-linecap:butt; stroke-linejoin:round; stroke-width:4; stroke-opacity:1; fill:none\" points=\"\n",
       "  1386.27,526.58 1405.17,526.58 \n",
       "  \"/>\n",
       "<polyline clip-path=\"url(#clip810)\" style=\"stroke:#000000; stroke-linecap:butt; stroke-linejoin:round; stroke-width:4; stroke-opacity:1; fill:none\" points=\"\n",
       "  1386.27,367.982 1405.17,367.982 \n",
       "  \"/>\n",
       "<polyline clip-path=\"url(#clip810)\" style=\"stroke:#000000; stroke-linecap:butt; stroke-linejoin:round; stroke-width:4; stroke-opacity:1; fill:none\" points=\"\n",
       "  1386.27,209.383 1405.17,209.383 \n",
       "  \"/>\n",
       "<polyline clip-path=\"url(#clip810)\" style=\"stroke:#000000; stroke-linecap:butt; stroke-linejoin:round; stroke-width:4; stroke-opacity:1; fill:none\" points=\"\n",
       "  1386.27,50.7844 1405.17,50.7844 \n",
       "  \"/>\n",
       "<path clip-path=\"url(#clip810)\" d=\"M1262.94 670.977 Q1259.33 670.977 1257.5 674.542 Q1255.69 678.084 1255.69 685.213 Q1255.69 692.32 1257.5 695.885 Q1259.33 699.426 1262.94 699.426 Q1266.57 699.426 1268.38 695.885 Q1270.2 692.32 1270.2 685.213 Q1270.2 678.084 1268.38 674.542 Q1266.57 670.977 1262.94 670.977 M1262.94 667.274 Q1268.75 667.274 1271.8 671.88 Q1274.88 676.463 1274.88 685.213 Q1274.88 693.94 1271.8 698.547 Q1268.75 703.13 1262.94 703.13 Q1257.13 703.13 1254.05 698.547 Q1250.99 693.94 1250.99 685.213 Q1250.99 676.463 1254.05 671.88 Q1257.13 667.274 1262.94 667.274 Z\" fill=\"#000000\" fill-rule=\"evenodd\" fill-opacity=\"1\" /><path clip-path=\"url(#clip810)\" d=\"M1283.1 696.579 L1287.98 696.579 L1287.98 702.459 L1283.1 702.459 L1283.1 696.579 Z\" fill=\"#000000\" fill-rule=\"evenodd\" fill-opacity=\"1\" /><path clip-path=\"url(#clip810)\" d=\"M1308.17 670.977 Q1304.56 670.977 1302.73 674.542 Q1300.92 678.084 1300.92 685.213 Q1300.92 692.32 1302.73 695.885 Q1304.56 699.426 1308.17 699.426 Q1311.8 699.426 1313.61 695.885 Q1315.44 692.32 1315.44 685.213 Q1315.44 678.084 1313.61 674.542 Q1311.8 670.977 1308.17 670.977 M1308.17 667.274 Q1313.98 667.274 1317.03 671.88 Q1320.11 676.463 1320.11 685.213 Q1320.11 693.94 1317.03 698.547 Q1313.98 703.13 1308.17 703.13 Q1302.36 703.13 1299.28 698.547 Q1296.22 693.94 1296.22 685.213 Q1296.22 676.463 1299.28 671.88 Q1302.36 667.274 1308.17 667.274 Z\" fill=\"#000000\" fill-rule=\"evenodd\" fill-opacity=\"1\" /><path clip-path=\"url(#clip810)\" d=\"M1338.33 670.977 Q1334.72 670.977 1332.89 674.542 Q1331.08 678.084 1331.08 685.213 Q1331.08 692.32 1332.89 695.885 Q1334.72 699.426 1338.33 699.426 Q1341.96 699.426 1343.77 695.885 Q1345.6 692.32 1345.6 685.213 Q1345.6 678.084 1343.77 674.542 Q1341.96 670.977 1338.33 670.977 M1338.33 667.274 Q1344.14 667.274 1347.2 671.88 Q1350.27 676.463 1350.27 685.213 Q1350.27 693.94 1347.2 698.547 Q1344.14 703.13 1338.33 703.13 Q1332.52 703.13 1329.44 698.547 Q1326.39 693.94 1326.39 685.213 Q1326.39 676.463 1329.44 671.88 Q1332.52 667.274 1338.33 667.274 Z\" fill=\"#000000\" fill-rule=\"evenodd\" fill-opacity=\"1\" /><path clip-path=\"url(#clip810)\" d=\"M1263.93 512.379 Q1260.32 512.379 1258.49 515.944 Q1256.69 519.485 1256.69 526.615 Q1256.69 533.721 1258.49 537.286 Q1260.32 540.828 1263.93 540.828 Q1267.57 540.828 1269.37 537.286 Q1271.2 533.721 1271.2 526.615 Q1271.2 519.485 1269.37 515.944 Q1267.57 512.379 1263.93 512.379 M1263.93 508.675 Q1269.74 508.675 1272.8 513.282 Q1275.88 517.865 1275.88 526.615 Q1275.88 535.342 1272.8 539.948 Q1269.74 544.531 1263.93 544.531 Q1258.12 544.531 1255.04 539.948 Q1251.99 535.342 1251.99 526.615 Q1251.99 517.865 1255.04 513.282 Q1258.12 508.675 1263.93 508.675 Z\" fill=\"#000000\" fill-rule=\"evenodd\" fill-opacity=\"1\" /><path clip-path=\"url(#clip810)\" d=\"M1284.09 537.981 L1288.98 537.981 L1288.98 543.86 L1284.09 543.86 L1284.09 537.981 Z\" fill=\"#000000\" fill-rule=\"evenodd\" fill-opacity=\"1\" /><path clip-path=\"url(#clip810)\" d=\"M1303.19 539.925 L1319.51 539.925 L1319.51 543.86 L1297.57 543.86 L1297.57 539.925 Q1300.23 537.17 1304.81 532.541 Q1309.42 527.888 1310.6 526.545 Q1312.84 524.022 1313.72 522.286 Q1314.63 520.527 1314.63 518.837 Q1314.63 516.082 1312.68 514.346 Q1310.76 512.61 1307.66 512.61 Q1305.46 512.61 1303.01 513.374 Q1300.58 514.138 1297.8 515.689 L1297.8 510.967 Q1300.62 509.833 1303.08 509.254 Q1305.53 508.675 1307.57 508.675 Q1312.94 508.675 1316.13 511.36 Q1319.33 514.045 1319.33 518.536 Q1319.33 520.666 1318.51 522.587 Q1317.73 524.485 1315.62 527.078 Q1315.04 527.749 1311.94 530.967 Q1308.84 534.161 1303.19 539.925 Z\" fill=\"#000000\" fill-rule=\"evenodd\" fill-opacity=\"1\" /><path clip-path=\"url(#clip810)\" d=\"M1329.37 509.3 L1347.73 509.3 L1347.73 513.235 L1333.65 513.235 L1333.65 521.707 Q1334.67 521.36 1335.69 521.198 Q1336.71 521.013 1337.73 521.013 Q1343.51 521.013 1346.89 524.184 Q1350.27 527.356 1350.27 532.772 Q1350.27 538.351 1346.8 541.453 Q1343.33 544.531 1337.01 544.531 Q1334.83 544.531 1332.57 544.161 Q1330.32 543.791 1327.91 543.05 L1327.91 538.351 Q1330 539.485 1332.22 540.041 Q1334.44 540.596 1336.92 540.596 Q1340.92 540.596 1343.26 538.49 Q1345.6 536.383 1345.6 532.772 Q1345.6 529.161 1343.26 527.055 Q1340.92 524.948 1336.92 524.948 Q1335.04 524.948 1333.17 525.365 Q1331.32 525.781 1329.37 526.661 L1329.37 509.3 Z\" fill=\"#000000\" fill-rule=\"evenodd\" fill-opacity=\"1\" /><path clip-path=\"url(#clip810)\" d=\"M1262.94 353.78 Q1259.33 353.78 1257.5 357.345 Q1255.69 360.887 1255.69 368.016 Q1255.69 375.123 1257.5 378.687 Q1259.33 382.229 1262.94 382.229 Q1266.57 382.229 1268.38 378.687 Q1270.2 375.123 1270.2 368.016 Q1270.2 360.887 1268.38 357.345 Q1266.57 353.78 1262.94 353.78 M1262.94 350.077 Q1268.75 350.077 1271.8 354.683 Q1274.88 359.266 1274.88 368.016 Q1274.88 376.743 1271.8 381.35 Q1268.75 385.933 1262.94 385.933 Q1257.13 385.933 1254.05 381.35 Q1250.99 376.743 1250.99 368.016 Q1250.99 359.266 1254.05 354.683 Q1257.13 350.077 1262.94 350.077 Z\" fill=\"#000000\" fill-rule=\"evenodd\" fill-opacity=\"1\" /><path clip-path=\"url(#clip810)\" d=\"M1283.1 379.382 L1287.98 379.382 L1287.98 385.262 L1283.1 385.262 L1283.1 379.382 Z\" fill=\"#000000\" fill-rule=\"evenodd\" fill-opacity=\"1\" /><path clip-path=\"url(#clip810)\" d=\"M1298.21 350.702 L1316.57 350.702 L1316.57 354.637 L1302.5 354.637 L1302.5 363.109 Q1303.51 362.762 1304.53 362.6 Q1305.55 362.414 1306.57 362.414 Q1312.36 362.414 1315.74 365.586 Q1319.12 368.757 1319.12 374.174 Q1319.12 379.752 1315.64 382.854 Q1312.17 385.933 1305.85 385.933 Q1303.68 385.933 1301.41 385.562 Q1299.16 385.192 1296.76 384.451 L1296.76 379.752 Q1298.84 380.887 1301.06 381.442 Q1303.28 381.998 1305.76 381.998 Q1309.76 381.998 1312.1 379.891 Q1314.44 377.785 1314.44 374.174 Q1314.44 370.563 1312.1 368.456 Q1309.76 366.35 1305.76 366.35 Q1303.89 366.35 1302.01 366.766 Q1300.16 367.183 1298.21 368.063 L1298.21 350.702 Z\" fill=\"#000000\" fill-rule=\"evenodd\" fill-opacity=\"1\" /><path clip-path=\"url(#clip810)\" d=\"M1338.33 353.78 Q1334.72 353.78 1332.89 357.345 Q1331.08 360.887 1331.08 368.016 Q1331.08 375.123 1332.89 378.687 Q1334.72 382.229 1338.33 382.229 Q1341.96 382.229 1343.77 378.687 Q1345.6 375.123 1345.6 368.016 Q1345.6 360.887 1343.77 357.345 Q1341.96 353.78 1338.33 353.78 M1338.33 350.077 Q1344.14 350.077 1347.2 354.683 Q1350.27 359.266 1350.27 368.016 Q1350.27 376.743 1347.2 381.35 Q1344.14 385.933 1338.33 385.933 Q1332.52 385.933 1329.44 381.35 Q1326.39 376.743 1326.39 368.016 Q1326.39 359.266 1329.44 354.683 Q1332.52 350.077 1338.33 350.077 Z\" fill=\"#000000\" fill-rule=\"evenodd\" fill-opacity=\"1\" /><path clip-path=\"url(#clip810)\" d=\"M1263.93 195.182 Q1260.32 195.182 1258.49 198.746 Q1256.69 202.288 1256.69 209.418 Q1256.69 216.524 1258.49 220.089 Q1260.32 223.631 1263.93 223.631 Q1267.57 223.631 1269.37 220.089 Q1271.2 216.524 1271.2 209.418 Q1271.2 202.288 1269.37 198.746 Q1267.57 195.182 1263.93 195.182 M1263.93 191.478 Q1269.74 191.478 1272.8 196.084 Q1275.88 200.668 1275.88 209.418 Q1275.88 218.144 1272.8 222.751 Q1269.74 227.334 1263.93 227.334 Q1258.12 227.334 1255.04 222.751 Q1251.99 218.144 1251.99 209.418 Q1251.99 200.668 1255.04 196.084 Q1258.12 191.478 1263.93 191.478 Z\" fill=\"#000000\" fill-rule=\"evenodd\" fill-opacity=\"1\" /><path clip-path=\"url(#clip810)\" d=\"M1284.09 220.783 L1288.98 220.783 L1288.98 226.663 L1284.09 226.663 L1284.09 220.783 Z\" fill=\"#000000\" fill-rule=\"evenodd\" fill-opacity=\"1\" /><path clip-path=\"url(#clip810)\" d=\"M1297.98 192.103 L1320.2 192.103 L1320.2 194.094 L1307.66 226.663 L1302.77 226.663 L1314.58 196.038 L1297.98 196.038 L1297.98 192.103 Z\" fill=\"#000000\" fill-rule=\"evenodd\" fill-opacity=\"1\" /><path clip-path=\"url(#clip810)\" d=\"M1329.37 192.103 L1347.73 192.103 L1347.73 196.038 L1333.65 196.038 L1333.65 204.51 Q1334.67 204.163 1335.69 204.001 Q1336.71 203.816 1337.73 203.816 Q1343.51 203.816 1346.89 206.987 Q1350.27 210.158 1350.27 215.575 Q1350.27 221.154 1346.8 224.256 Q1343.33 227.334 1337.01 227.334 Q1334.83 227.334 1332.57 226.964 Q1330.32 226.594 1327.91 225.853 L1327.91 221.154 Q1330 222.288 1332.22 222.844 Q1334.44 223.399 1336.92 223.399 Q1340.92 223.399 1343.26 221.293 Q1345.6 219.186 1345.6 215.575 Q1345.6 211.964 1343.26 209.857 Q1340.92 207.751 1336.92 207.751 Q1335.04 207.751 1333.17 208.168 Q1331.32 208.584 1329.37 209.464 L1329.37 192.103 Z\" fill=\"#000000\" fill-rule=\"evenodd\" fill-opacity=\"1\" /><path clip-path=\"url(#clip810)\" d=\"M1253.75 64.1292 L1261.39 64.1292 L1261.39 37.7636 L1253.08 39.4303 L1253.08 35.1711 L1261.34 33.5044 L1266.02 33.5044 L1266.02 64.1292 L1273.65 64.1292 L1273.65 68.0644 L1253.75 68.0644 L1253.75 64.1292 Z\" fill=\"#000000\" fill-rule=\"evenodd\" fill-opacity=\"1\" /><path clip-path=\"url(#clip810)\" d=\"M1283.1 62.1848 L1287.98 62.1848 L1287.98 68.0644 L1283.1 68.0644 L1283.1 62.1848 Z\" fill=\"#000000\" fill-rule=\"evenodd\" fill-opacity=\"1\" /><path clip-path=\"url(#clip810)\" d=\"M1308.17 36.5831 Q1304.56 36.5831 1302.73 40.1479 Q1300.92 43.6895 1300.92 50.8191 Q1300.92 57.9256 1302.73 61.4904 Q1304.56 65.032 1308.17 65.032 Q1311.8 65.032 1313.61 61.4904 Q1315.44 57.9256 1315.44 50.8191 Q1315.44 43.6895 1313.61 40.1479 Q1311.8 36.5831 1308.17 36.5831 M1308.17 32.8794 Q1313.98 32.8794 1317.03 37.4859 Q1320.11 42.0692 1320.11 50.8191 Q1320.11 59.5459 1317.03 64.1524 Q1313.98 68.7357 1308.17 68.7357 Q1302.36 68.7357 1299.28 64.1524 Q1296.22 59.5459 1296.22 50.8191 Q1296.22 42.0692 1299.28 37.4859 Q1302.36 32.8794 1308.17 32.8794 Z\" fill=\"#000000\" fill-rule=\"evenodd\" fill-opacity=\"1\" /><path clip-path=\"url(#clip810)\" d=\"M1338.33 36.5831 Q1334.72 36.5831 1332.89 40.1479 Q1331.08 43.6895 1331.08 50.8191 Q1331.08 57.9256 1332.89 61.4904 Q1334.72 65.032 1338.33 65.032 Q1341.96 65.032 1343.77 61.4904 Q1345.6 57.9256 1345.6 50.8191 Q1345.6 43.6895 1343.77 40.1479 Q1341.96 36.5831 1338.33 36.5831 M1338.33 32.8794 Q1344.14 32.8794 1347.2 37.4859 Q1350.27 42.0692 1350.27 50.8191 Q1350.27 59.5459 1347.2 64.1524 Q1344.14 68.7357 1338.33 68.7357 Q1332.52 68.7357 1329.44 64.1524 Q1326.39 59.5459 1326.39 50.8191 Q1326.39 42.0692 1329.44 37.4859 Q1332.52 32.8794 1338.33 32.8794 Z\" fill=\"#000000\" fill-rule=\"evenodd\" fill-opacity=\"1\" /><circle clip-path=\"url(#clip813)\" cx=\"1413.63\" cy=\"601.466\" r=\"14\" fill=\"#009af9\" fill-rule=\"evenodd\" fill-opacity=\"1\" stroke=\"#000000\" stroke-opacity=\"1\" stroke-width=\"3.2\"/>\n",
       "<circle clip-path=\"url(#clip813)\" cx=\"1478.75\" cy=\"603.053\" r=\"14\" fill=\"#009af9\" fill-rule=\"evenodd\" fill-opacity=\"1\" stroke=\"#000000\" stroke-opacity=\"1\" stroke-width=\"3.2\"/>\n",
       "<circle clip-path=\"url(#clip813)\" cx=\"1543.88\" cy=\"242.666\" r=\"14\" fill=\"#009af9\" fill-rule=\"evenodd\" fill-opacity=\"1\" stroke=\"#000000\" stroke-opacity=\"1\" stroke-width=\"3.2\"/>\n",
       "<circle clip-path=\"url(#clip813)\" cx=\"1609.01\" cy=\"112.477\" r=\"14\" fill=\"#009af9\" fill-rule=\"evenodd\" fill-opacity=\"1\" stroke=\"#000000\" stroke-opacity=\"1\" stroke-width=\"3.2\"/>\n",
       "<circle clip-path=\"url(#clip813)\" cx=\"1674.13\" cy=\"77.6144\" r=\"14\" fill=\"#009af9\" fill-rule=\"evenodd\" fill-opacity=\"1\" stroke=\"#000000\" stroke-opacity=\"1\" stroke-width=\"3.2\"/>\n",
       "<circle clip-path=\"url(#clip813)\" cx=\"1739.26\" cy=\"249.309\" r=\"14\" fill=\"#009af9\" fill-rule=\"evenodd\" fill-opacity=\"1\" stroke=\"#000000\" stroke-opacity=\"1\" stroke-width=\"3.2\"/>\n",
       "<circle clip-path=\"url(#clip813)\" cx=\"1804.39\" cy=\"651.591\" r=\"14\" fill=\"#009af9\" fill-rule=\"evenodd\" fill-opacity=\"1\" stroke=\"#000000\" stroke-opacity=\"1\" stroke-width=\"3.2\"/>\n",
       "<circle clip-path=\"url(#clip813)\" cx=\"1869.51\" cy=\"668.357\" r=\"14\" fill=\"#009af9\" fill-rule=\"evenodd\" fill-opacity=\"1\" stroke=\"#000000\" stroke-opacity=\"1\" stroke-width=\"3.2\"/>\n",
       "<circle clip-path=\"url(#clip813)\" cx=\"1934.64\" cy=\"479.107\" r=\"14\" fill=\"#009af9\" fill-rule=\"evenodd\" fill-opacity=\"1\" stroke=\"#000000\" stroke-opacity=\"1\" stroke-width=\"3.2\"/>\n",
       "<circle clip-path=\"url(#clip813)\" cx=\"1999.77\" cy=\"505.456\" r=\"14\" fill=\"#009af9\" fill-rule=\"evenodd\" fill-opacity=\"1\" stroke=\"#000000\" stroke-opacity=\"1\" stroke-width=\"3.2\"/>\n",
       "<circle clip-path=\"url(#clip813)\" cx=\"2064.9\" cy=\"419.233\" r=\"14\" fill=\"#009af9\" fill-rule=\"evenodd\" fill-opacity=\"1\" stroke=\"#000000\" stroke-opacity=\"1\" stroke-width=\"3.2\"/>\n",
       "<circle clip-path=\"url(#clip813)\" cx=\"2130.02\" cy=\"201.542\" r=\"14\" fill=\"#009af9\" fill-rule=\"evenodd\" fill-opacity=\"1\" stroke=\"#000000\" stroke-opacity=\"1\" stroke-width=\"3.2\"/>\n",
       "<circle clip-path=\"url(#clip813)\" cx=\"2195.15\" cy=\"331.75\" r=\"14\" fill=\"#009af9\" fill-rule=\"evenodd\" fill-opacity=\"1\" stroke=\"#000000\" stroke-opacity=\"1\" stroke-width=\"3.2\"/>\n",
       "<circle clip-path=\"url(#clip813)\" cx=\"2260.28\" cy=\"65.3348\" r=\"14\" fill=\"#009af9\" fill-rule=\"evenodd\" fill-opacity=\"1\" stroke=\"#000000\" stroke-opacity=\"1\" stroke-width=\"3.2\"/>\n",
       "<circle clip-path=\"url(#clip813)\" cx=\"2325.4\" cy=\"330.902\" r=\"14\" fill=\"#009af9\" fill-rule=\"evenodd\" fill-opacity=\"1\" stroke=\"#000000\" stroke-opacity=\"1\" stroke-width=\"3.2\"/>\n",
       "<path clip-path=\"url(#clip810)\" d=\"\n",
       "M2160.72 172.231 L2320.54 172.231 L2320.54 68.5509 L2160.72 68.5509  Z\n",
       "  \" fill=\"#ffffff\" fill-rule=\"evenodd\" fill-opacity=\"1\"/>\n",
       "<polyline clip-path=\"url(#clip810)\" style=\"stroke:#000000; stroke-linecap:butt; stroke-linejoin:round; stroke-width:4; stroke-opacity:1; fill:none\" points=\"\n",
       "  2160.72,172.231 2320.54,172.231 2320.54,68.5509 2160.72,68.5509 2160.72,172.231 \n",
       "  \"/>\n",
       "<circle clip-path=\"url(#clip810)\" cx=\"2203.68\" cy=\"120.391\" r=\"23\" fill=\"#009af9\" fill-rule=\"evenodd\" fill-opacity=\"1\" stroke=\"#000000\" stroke-opacity=\"1\" stroke-width=\"5.12\"/>\n",
       "<path clip-path=\"url(#clip810)\" d=\"M2260.47 140.078 Q2258.67 144.708 2256.96 146.12 Q2255.24 147.532 2252.37 147.532 L2248.97 147.532 L2248.97 143.967 L2251.47 143.967 Q2253.23 143.967 2254.2 143.134 Q2255.17 142.3 2256.35 139.199 L2257.12 137.254 L2246.63 111.745 L2251.15 111.745 L2259.25 132.023 L2267.35 111.745 L2271.86 111.745 L2260.47 140.078 Z\" fill=\"#000000\" fill-rule=\"evenodd\" fill-opacity=\"1\" /><path clip-path=\"url(#clip810)\" d=\"M2279.16 133.736 L2286.79 133.736 L2286.79 107.37 L2278.48 109.037 L2278.48 104.778 L2286.75 103.111 L2291.42 103.111 L2291.42 133.736 L2299.06 133.736 L2299.06 137.671 L2279.16 137.671 L2279.16 133.736 Z\" fill=\"#000000\" fill-rule=\"evenodd\" fill-opacity=\"1\" /><path clip-path=\"url(#clip810)\" d=\"\n",
       "M186.274 1486.45 L1152.76 1486.45 L1152.76 847.244 L186.274 847.244  Z\n",
       "  \" fill=\"#ffffff\" fill-rule=\"evenodd\" fill-opacity=\"1\"/>\n",
       "<defs>\n",
       "  <clipPath id=\"clip814\">\n",
       "    <rect x=\"186\" y=\"847\" width=\"967\" height=\"640\"/>\n",
       "  </clipPath>\n",
       "</defs>\n",
       "<polyline clip-path=\"url(#clip814)\" style=\"stroke:#000000; stroke-linecap:butt; stroke-linejoin:round; stroke-width:2; stroke-opacity:0.1; fill:none\" points=\"\n",
       "  204.561,1486.45 204.561,847.244 \n",
       "  \"/>\n",
       "<polyline clip-path=\"url(#clip814)\" style=\"stroke:#000000; stroke-linecap:butt; stroke-linejoin:round; stroke-width:2; stroke-opacity:0.1; fill:none\" points=\"\n",
       "  495.157,1486.45 495.157,847.244 \n",
       "  \"/>\n",
       "<polyline clip-path=\"url(#clip814)\" style=\"stroke:#000000; stroke-linecap:butt; stroke-linejoin:round; stroke-width:2; stroke-opacity:0.1; fill:none\" points=\"\n",
       "  785.754,1486.45 785.754,847.244 \n",
       "  \"/>\n",
       "<polyline clip-path=\"url(#clip814)\" style=\"stroke:#000000; stroke-linecap:butt; stroke-linejoin:round; stroke-width:2; stroke-opacity:0.1; fill:none\" points=\"\n",
       "  1076.35,1486.45 1076.35,847.244 \n",
       "  \"/>\n",
       "<polyline clip-path=\"url(#clip810)\" style=\"stroke:#000000; stroke-linecap:butt; stroke-linejoin:round; stroke-width:4; stroke-opacity:1; fill:none\" points=\"\n",
       "  186.274,1486.45 1152.76,1486.45 \n",
       "  \"/>\n",
       "<polyline clip-path=\"url(#clip810)\" style=\"stroke:#000000; stroke-linecap:butt; stroke-linejoin:round; stroke-width:4; stroke-opacity:1; fill:none\" points=\"\n",
       "  204.561,1486.45 204.561,1467.55 \n",
       "  \"/>\n",
       "<polyline clip-path=\"url(#clip810)\" style=\"stroke:#000000; stroke-linecap:butt; stroke-linejoin:round; stroke-width:4; stroke-opacity:1; fill:none\" points=\"\n",
       "  495.157,1486.45 495.157,1467.55 \n",
       "  \"/>\n",
       "<polyline clip-path=\"url(#clip810)\" style=\"stroke:#000000; stroke-linecap:butt; stroke-linejoin:round; stroke-width:4; stroke-opacity:1; fill:none\" points=\"\n",
       "  785.754,1486.45 785.754,1467.55 \n",
       "  \"/>\n",
       "<polyline clip-path=\"url(#clip810)\" style=\"stroke:#000000; stroke-linecap:butt; stroke-linejoin:round; stroke-width:4; stroke-opacity:1; fill:none\" points=\"\n",
       "  1076.35,1486.45 1076.35,1467.55 \n",
       "  \"/>\n",
       "<path clip-path=\"url(#clip810)\" d=\"M204.561 1517.37 Q200.95 1517.37 199.121 1520.93 Q197.315 1524.47 197.315 1531.6 Q197.315 1538.71 199.121 1542.27 Q200.95 1545.82 204.561 1545.82 Q208.195 1545.82 210 1542.27 Q211.829 1538.71 211.829 1531.6 Q211.829 1524.47 210 1520.93 Q208.195 1517.37 204.561 1517.37 M204.561 1513.66 Q210.371 1513.66 213.426 1518.27 Q216.505 1522.85 216.505 1531.6 Q216.505 1540.33 213.426 1544.94 Q210.371 1549.52 204.561 1549.52 Q198.75 1549.52 195.672 1544.94 Q192.616 1540.33 192.616 1531.6 Q192.616 1522.85 195.672 1518.27 Q198.75 1513.66 204.561 1513.66 Z\" fill=\"#000000\" fill-rule=\"evenodd\" fill-opacity=\"1\" /><path clip-path=\"url(#clip810)\" d=\"M485.435 1514.29 L503.791 1514.29 L503.791 1518.22 L489.717 1518.22 L489.717 1526.7 Q490.736 1526.35 491.754 1526.19 Q492.773 1526 493.791 1526 Q499.578 1526 502.958 1529.17 Q506.338 1532.34 506.338 1537.76 Q506.338 1543.34 502.865 1546.44 Q499.393 1549.52 493.074 1549.52 Q490.898 1549.52 488.629 1549.15 Q486.384 1548.78 483.977 1548.04 L483.977 1543.34 Q486.06 1544.47 488.282 1545.03 Q490.504 1545.58 492.981 1545.58 Q496.986 1545.58 499.324 1543.48 Q501.662 1541.37 501.662 1537.76 Q501.662 1534.15 499.324 1532.04 Q496.986 1529.94 492.981 1529.94 Q491.106 1529.94 489.231 1530.35 Q487.379 1530.77 485.435 1531.65 L485.435 1514.29 Z\" fill=\"#000000\" fill-rule=\"evenodd\" fill-opacity=\"1\" /><path clip-path=\"url(#clip810)\" d=\"M760.441 1544.91 L768.08 1544.91 L768.08 1518.55 L759.77 1520.21 L759.77 1515.95 L768.034 1514.29 L772.71 1514.29 L772.71 1544.91 L780.348 1544.91 L780.348 1548.85 L760.441 1548.85 L760.441 1544.91 Z\" fill=\"#000000\" fill-rule=\"evenodd\" fill-opacity=\"1\" /><path clip-path=\"url(#clip810)\" d=\"M799.793 1517.37 Q796.182 1517.37 794.353 1520.93 Q792.547 1524.47 792.547 1531.6 Q792.547 1538.71 794.353 1542.27 Q796.182 1545.82 799.793 1545.82 Q803.427 1545.82 805.233 1542.27 Q807.061 1538.71 807.061 1531.6 Q807.061 1524.47 805.233 1520.93 Q803.427 1517.37 799.793 1517.37 M799.793 1513.66 Q805.603 1513.66 808.658 1518.27 Q811.737 1522.85 811.737 1531.6 Q811.737 1540.33 808.658 1544.94 Q805.603 1549.52 799.793 1549.52 Q793.983 1549.52 790.904 1544.94 Q787.848 1540.33 787.848 1531.6 Q787.848 1522.85 790.904 1518.27 Q793.983 1513.66 799.793 1513.66 Z\" fill=\"#000000\" fill-rule=\"evenodd\" fill-opacity=\"1\" /><path clip-path=\"url(#clip810)\" d=\"M1051.54 1544.91 L1059.17 1544.91 L1059.17 1518.55 L1050.86 1520.21 L1050.86 1515.95 L1059.13 1514.29 L1063.8 1514.29 L1063.8 1544.91 L1071.44 1544.91 L1071.44 1548.85 L1051.54 1548.85 L1051.54 1544.91 Z\" fill=\"#000000\" fill-rule=\"evenodd\" fill-opacity=\"1\" /><path clip-path=\"url(#clip810)\" d=\"M1080.93 1514.29 L1099.29 1514.29 L1099.29 1518.22 L1085.22 1518.22 L1085.22 1526.7 Q1086.23 1526.35 1087.25 1526.19 Q1088.27 1526 1089.29 1526 Q1095.08 1526 1098.46 1529.17 Q1101.84 1532.34 1101.84 1537.76 Q1101.84 1543.34 1098.36 1546.44 Q1094.89 1549.52 1088.57 1549.52 Q1086.4 1549.52 1084.13 1549.15 Q1081.88 1548.78 1079.47 1548.04 L1079.47 1543.34 Q1081.56 1544.47 1083.78 1545.03 Q1086 1545.58 1088.48 1545.58 Q1092.48 1545.58 1094.82 1543.48 Q1097.16 1541.37 1097.16 1537.76 Q1097.16 1534.15 1094.82 1532.04 Q1092.48 1529.94 1088.48 1529.94 Q1086.6 1529.94 1084.73 1530.35 Q1082.88 1530.77 1080.93 1531.65 L1080.93 1514.29 Z\" fill=\"#000000\" fill-rule=\"evenodd\" fill-opacity=\"1\" /><polyline clip-path=\"url(#clip814)\" style=\"stroke:#000000; stroke-linecap:butt; stroke-linejoin:round; stroke-width:2; stroke-opacity:0.1; fill:none\" points=\"\n",
       "  186.274,1468.36 1152.76,1468.36 \n",
       "  \"/>\n",
       "<polyline clip-path=\"url(#clip814)\" style=\"stroke:#000000; stroke-linecap:butt; stroke-linejoin:round; stroke-width:2; stroke-opacity:0.1; fill:none\" points=\"\n",
       "  186.274,1314.06 1152.76,1314.06 \n",
       "  \"/>\n",
       "<polyline clip-path=\"url(#clip814)\" style=\"stroke:#000000; stroke-linecap:butt; stroke-linejoin:round; stroke-width:2; stroke-opacity:0.1; fill:none\" points=\"\n",
       "  186.274,1159.77 1152.76,1159.77 \n",
       "  \"/>\n",
       "<polyline clip-path=\"url(#clip814)\" style=\"stroke:#000000; stroke-linecap:butt; stroke-linejoin:round; stroke-width:2; stroke-opacity:0.1; fill:none\" points=\"\n",
       "  186.274,1005.47 1152.76,1005.47 \n",
       "  \"/>\n",
       "<polyline clip-path=\"url(#clip814)\" style=\"stroke:#000000; stroke-linecap:butt; stroke-linejoin:round; stroke-width:2; stroke-opacity:0.1; fill:none\" points=\"\n",
       "  186.274,851.179 1152.76,851.179 \n",
       "  \"/>\n",
       "<polyline clip-path=\"url(#clip810)\" style=\"stroke:#000000; stroke-linecap:butt; stroke-linejoin:round; stroke-width:4; stroke-opacity:1; fill:none\" points=\"\n",
       "  186.274,1486.45 186.274,847.244 \n",
       "  \"/>\n",
       "<polyline clip-path=\"url(#clip810)\" style=\"stroke:#000000; stroke-linecap:butt; stroke-linejoin:round; stroke-width:4; stroke-opacity:1; fill:none\" points=\"\n",
       "  186.274,1468.36 205.172,1468.36 \n",
       "  \"/>\n",
       "<polyline clip-path=\"url(#clip810)\" style=\"stroke:#000000; stroke-linecap:butt; stroke-linejoin:round; stroke-width:4; stroke-opacity:1; fill:none\" points=\"\n",
       "  186.274,1314.06 205.172,1314.06 \n",
       "  \"/>\n",
       "<polyline clip-path=\"url(#clip810)\" style=\"stroke:#000000; stroke-linecap:butt; stroke-linejoin:round; stroke-width:4; stroke-opacity:1; fill:none\" points=\"\n",
       "  186.274,1159.77 205.172,1159.77 \n",
       "  \"/>\n",
       "<polyline clip-path=\"url(#clip810)\" style=\"stroke:#000000; stroke-linecap:butt; stroke-linejoin:round; stroke-width:4; stroke-opacity:1; fill:none\" points=\"\n",
       "  186.274,1005.47 205.172,1005.47 \n",
       "  \"/>\n",
       "<polyline clip-path=\"url(#clip810)\" style=\"stroke:#000000; stroke-linecap:butt; stroke-linejoin:round; stroke-width:4; stroke-opacity:1; fill:none\" points=\"\n",
       "  186.274,851.179 205.172,851.179 \n",
       "  \"/>\n",
       "<path clip-path=\"url(#clip810)\" d=\"M62.9365 1454.16 Q59.3254 1454.16 57.4967 1457.72 Q55.6912 1461.26 55.6912 1468.39 Q55.6912 1475.5 57.4967 1479.06 Q59.3254 1482.6 62.9365 1482.6 Q66.5707 1482.6 68.3763 1479.06 Q70.205 1475.5 70.205 1468.39 Q70.205 1461.26 68.3763 1457.72 Q66.5707 1454.16 62.9365 1454.16 M62.9365 1450.45 Q68.7467 1450.45 71.8022 1455.06 Q74.8809 1459.64 74.8809 1468.39 Q74.8809 1477.12 71.8022 1481.73 Q68.7467 1486.31 62.9365 1486.31 Q57.1264 1486.31 54.0477 1481.73 Q50.9921 1477.12 50.9921 1468.39 Q50.9921 1459.64 54.0477 1455.06 Q57.1264 1450.45 62.9365 1450.45 Z\" fill=\"#000000\" fill-rule=\"evenodd\" fill-opacity=\"1\" /><path clip-path=\"url(#clip810)\" d=\"M83.0984 1479.76 L87.9827 1479.76 L87.9827 1485.64 L83.0984 1485.64 L83.0984 1479.76 Z\" fill=\"#000000\" fill-rule=\"evenodd\" fill-opacity=\"1\" /><path clip-path=\"url(#clip810)\" d=\"M108.168 1454.16 Q104.557 1454.16 102.728 1457.72 Q100.922 1461.26 100.922 1468.39 Q100.922 1475.5 102.728 1479.06 Q104.557 1482.6 108.168 1482.6 Q111.802 1482.6 113.608 1479.06 Q115.436 1475.5 115.436 1468.39 Q115.436 1461.26 113.608 1457.72 Q111.802 1454.16 108.168 1454.16 M108.168 1450.45 Q113.978 1450.45 117.033 1455.06 Q120.112 1459.64 120.112 1468.39 Q120.112 1477.12 117.033 1481.73 Q113.978 1486.31 108.168 1486.31 Q102.358 1486.31 99.2789 1481.73 Q96.2234 1477.12 96.2234 1468.39 Q96.2234 1459.64 99.2789 1455.06 Q102.358 1450.45 108.168 1450.45 Z\" fill=\"#000000\" fill-rule=\"evenodd\" fill-opacity=\"1\" /><path clip-path=\"url(#clip810)\" d=\"M138.33 1454.16 Q134.719 1454.16 132.89 1457.72 Q131.084 1461.26 131.084 1468.39 Q131.084 1475.5 132.89 1479.06 Q134.719 1482.6 138.33 1482.6 Q141.964 1482.6 143.769 1479.06 Q145.598 1475.5 145.598 1468.39 Q145.598 1461.26 143.769 1457.72 Q141.964 1454.16 138.33 1454.16 M138.33 1450.45 Q144.14 1450.45 147.195 1455.06 Q150.274 1459.64 150.274 1468.39 Q150.274 1477.12 147.195 1481.73 Q144.14 1486.31 138.33 1486.31 Q132.519 1486.31 129.441 1481.73 Q126.385 1477.12 126.385 1468.39 Q126.385 1459.64 129.441 1455.06 Q132.519 1450.45 138.33 1450.45 Z\" fill=\"#000000\" fill-rule=\"evenodd\" fill-opacity=\"1\" /><path clip-path=\"url(#clip810)\" d=\"M63.9319 1299.86 Q60.3208 1299.86 58.4921 1303.43 Q56.6865 1306.97 56.6865 1314.1 Q56.6865 1321.2 58.4921 1324.77 Q60.3208 1328.31 63.9319 1328.31 Q67.5661 1328.31 69.3717 1324.77 Q71.2004 1321.2 71.2004 1314.1 Q71.2004 1306.97 69.3717 1303.43 Q67.5661 1299.86 63.9319 1299.86 M63.9319 1296.16 Q69.742 1296.16 72.7976 1300.76 Q75.8763 1305.35 75.8763 1314.1 Q75.8763 1322.82 72.7976 1327.43 Q69.742 1332.01 63.9319 1332.01 Q58.1217 1332.01 55.043 1327.43 Q51.9875 1322.82 51.9875 1314.1 Q51.9875 1305.35 55.043 1300.76 Q58.1217 1296.16 63.9319 1296.16 Z\" fill=\"#000000\" fill-rule=\"evenodd\" fill-opacity=\"1\" /><path clip-path=\"url(#clip810)\" d=\"M84.0938 1325.46 L88.978 1325.46 L88.978 1331.34 L84.0938 1331.34 L84.0938 1325.46 Z\" fill=\"#000000\" fill-rule=\"evenodd\" fill-opacity=\"1\" /><path clip-path=\"url(#clip810)\" d=\"M103.191 1327.41 L119.51 1327.41 L119.51 1331.34 L97.566 1331.34 L97.566 1327.41 Q100.228 1324.65 104.811 1320.02 Q109.418 1315.37 110.598 1314.03 Q112.844 1311.5 113.723 1309.77 Q114.626 1308.01 114.626 1306.32 Q114.626 1303.57 112.682 1301.83 Q110.76 1300.09 107.658 1300.09 Q105.459 1300.09 103.006 1300.86 Q100.575 1301.62 97.7974 1303.17 L97.7974 1298.45 Q100.621 1297.32 103.075 1296.74 Q105.529 1296.16 107.566 1296.16 Q112.936 1296.16 116.131 1298.84 Q119.325 1301.53 119.325 1306.02 Q119.325 1308.15 118.515 1310.07 Q117.728 1311.97 115.621 1314.56 Q115.043 1315.23 111.941 1318.45 Q108.839 1321.64 103.191 1327.41 Z\" fill=\"#000000\" fill-rule=\"evenodd\" fill-opacity=\"1\" /><path clip-path=\"url(#clip810)\" d=\"M129.371 1296.78 L147.728 1296.78 L147.728 1300.72 L133.654 1300.72 L133.654 1309.19 Q134.672 1308.84 135.691 1308.68 Q136.709 1308.5 137.728 1308.5 Q143.515 1308.5 146.894 1311.67 Q150.274 1314.84 150.274 1320.25 Q150.274 1325.83 146.802 1328.94 Q143.33 1332.01 137.01 1332.01 Q134.834 1332.01 132.566 1331.64 Q130.32 1331.27 127.913 1330.53 L127.913 1325.83 Q129.996 1326.97 132.219 1327.52 Q134.441 1328.08 136.918 1328.08 Q140.922 1328.08 143.26 1325.97 Q145.598 1323.87 145.598 1320.25 Q145.598 1316.64 143.26 1314.54 Q140.922 1312.43 136.918 1312.43 Q135.043 1312.43 133.168 1312.85 Q131.316 1313.26 129.371 1314.14 L129.371 1296.78 Z\" fill=\"#000000\" fill-rule=\"evenodd\" fill-opacity=\"1\" /><path clip-path=\"url(#clip810)\" d=\"M62.9365 1145.57 Q59.3254 1145.57 57.4967 1149.13 Q55.6912 1152.67 55.6912 1159.8 Q55.6912 1166.91 57.4967 1170.47 Q59.3254 1174.02 62.9365 1174.02 Q66.5707 1174.02 68.3763 1170.47 Q70.205 1166.91 70.205 1159.8 Q70.205 1152.67 68.3763 1149.13 Q66.5707 1145.57 62.9365 1145.57 M62.9365 1141.86 Q68.7467 1141.86 71.8022 1146.47 Q74.8809 1151.05 74.8809 1159.8 Q74.8809 1168.53 71.8022 1173.14 Q68.7467 1177.72 62.9365 1177.72 Q57.1264 1177.72 54.0477 1173.14 Q50.9921 1168.53 50.9921 1159.8 Q50.9921 1151.05 54.0477 1146.47 Q57.1264 1141.86 62.9365 1141.86 Z\" fill=\"#000000\" fill-rule=\"evenodd\" fill-opacity=\"1\" /><path clip-path=\"url(#clip810)\" d=\"M83.0984 1171.17 L87.9827 1171.17 L87.9827 1177.05 L83.0984 1177.05 L83.0984 1171.17 Z\" fill=\"#000000\" fill-rule=\"evenodd\" fill-opacity=\"1\" /><path clip-path=\"url(#clip810)\" d=\"M98.2141 1142.49 L116.57 1142.49 L116.57 1146.42 L102.496 1146.42 L102.496 1154.9 Q103.515 1154.55 104.534 1154.39 Q105.552 1154.2 106.571 1154.2 Q112.358 1154.2 115.737 1157.37 Q119.117 1160.54 119.117 1165.96 Q119.117 1171.54 115.645 1174.64 Q112.172 1177.72 105.853 1177.72 Q103.677 1177.72 101.409 1177.35 Q99.1632 1176.98 96.7558 1176.24 L96.7558 1171.54 Q98.8391 1172.67 101.061 1173.23 Q103.284 1173.78 105.76 1173.78 Q109.765 1173.78 112.103 1171.68 Q114.441 1169.57 114.441 1165.96 Q114.441 1162.35 112.103 1160.24 Q109.765 1158.14 105.76 1158.14 Q103.885 1158.14 102.01 1158.55 Q100.159 1158.97 98.2141 1159.85 L98.2141 1142.49 Z\" fill=\"#000000\" fill-rule=\"evenodd\" fill-opacity=\"1\" /><path clip-path=\"url(#clip810)\" d=\"M138.33 1145.57 Q134.719 1145.57 132.89 1149.13 Q131.084 1152.67 131.084 1159.8 Q131.084 1166.91 132.89 1170.47 Q134.719 1174.02 138.33 1174.02 Q141.964 1174.02 143.769 1170.47 Q145.598 1166.91 145.598 1159.8 Q145.598 1152.67 143.769 1149.13 Q141.964 1145.57 138.33 1145.57 M138.33 1141.86 Q144.14 1141.86 147.195 1146.47 Q150.274 1151.05 150.274 1159.8 Q150.274 1168.53 147.195 1173.14 Q144.14 1177.72 138.33 1177.72 Q132.519 1177.72 129.441 1173.14 Q126.385 1168.53 126.385 1159.8 Q126.385 1151.05 129.441 1146.47 Q132.519 1141.86 138.33 1141.86 Z\" fill=\"#000000\" fill-rule=\"evenodd\" fill-opacity=\"1\" /><path clip-path=\"url(#clip810)\" d=\"M63.9319 991.272 Q60.3208 991.272 58.4921 994.837 Q56.6865 998.379 56.6865 1005.51 Q56.6865 1012.61 58.4921 1016.18 Q60.3208 1019.72 63.9319 1019.72 Q67.5661 1019.72 69.3717 1016.18 Q71.2004 1012.61 71.2004 1005.51 Q71.2004 998.379 69.3717 994.837 Q67.5661 991.272 63.9319 991.272 M63.9319 987.569 Q69.742 987.569 72.7976 992.175 Q75.8763 996.759 75.8763 1005.51 Q75.8763 1014.24 72.7976 1018.84 Q69.742 1023.43 63.9319 1023.43 Q58.1217 1023.43 55.043 1018.84 Q51.9875 1014.24 51.9875 1005.51 Q51.9875 996.759 55.043 992.175 Q58.1217 987.569 63.9319 987.569 Z\" fill=\"#000000\" fill-rule=\"evenodd\" fill-opacity=\"1\" /><path clip-path=\"url(#clip810)\" d=\"M84.0938 1016.87 L88.978 1016.87 L88.978 1022.75 L84.0938 1022.75 L84.0938 1016.87 Z\" fill=\"#000000\" fill-rule=\"evenodd\" fill-opacity=\"1\" /><path clip-path=\"url(#clip810)\" d=\"M97.9826 988.194 L120.205 988.194 L120.205 990.184 L107.658 1022.75 L102.774 1022.75 L114.58 992.129 L97.9826 992.129 L97.9826 988.194 Z\" fill=\"#000000\" fill-rule=\"evenodd\" fill-opacity=\"1\" /><path clip-path=\"url(#clip810)\" d=\"M129.371 988.194 L147.728 988.194 L147.728 992.129 L133.654 992.129 L133.654 1000.6 Q134.672 1000.25 135.691 1000.09 Q136.709 999.907 137.728 999.907 Q143.515 999.907 146.894 1003.08 Q150.274 1006.25 150.274 1011.67 Q150.274 1017.24 146.802 1020.35 Q143.33 1023.43 137.01 1023.43 Q134.834 1023.43 132.566 1023.05 Q130.32 1022.68 127.913 1021.94 L127.913 1017.24 Q129.996 1018.38 132.219 1018.93 Q134.441 1019.49 136.918 1019.49 Q140.922 1019.49 143.26 1017.38 Q145.598 1015.28 145.598 1011.67 Q145.598 1008.05 143.26 1005.95 Q140.922 1003.84 136.918 1003.84 Q135.043 1003.84 133.168 1004.26 Q131.316 1004.68 129.371 1005.55 L129.371 988.194 Z\" fill=\"#000000\" fill-rule=\"evenodd\" fill-opacity=\"1\" /><path clip-path=\"url(#clip810)\" d=\"M53.7467 864.524 L61.3856 864.524 L61.3856 838.159 L53.0754 839.825 L53.0754 835.566 L61.3393 833.899 L66.0152 833.899 L66.0152 864.524 L73.654 864.524 L73.654 868.459 L53.7467 868.459 L53.7467 864.524 Z\" fill=\"#000000\" fill-rule=\"evenodd\" fill-opacity=\"1\" /><path clip-path=\"url(#clip810)\" d=\"M83.0984 862.58 L87.9827 862.58 L87.9827 868.459 L83.0984 868.459 L83.0984 862.58 Z\" fill=\"#000000\" fill-rule=\"evenodd\" fill-opacity=\"1\" /><path clip-path=\"url(#clip810)\" d=\"M108.168 836.978 Q104.557 836.978 102.728 840.543 Q100.922 844.084 100.922 851.214 Q100.922 858.32 102.728 861.885 Q104.557 865.427 108.168 865.427 Q111.802 865.427 113.608 861.885 Q115.436 858.32 115.436 851.214 Q115.436 844.084 113.608 840.543 Q111.802 836.978 108.168 836.978 M108.168 833.274 Q113.978 833.274 117.033 837.881 Q120.112 842.464 120.112 851.214 Q120.112 859.941 117.033 864.547 Q113.978 869.131 108.168 869.131 Q102.358 869.131 99.2789 864.547 Q96.2234 859.941 96.2234 851.214 Q96.2234 842.464 99.2789 837.881 Q102.358 833.274 108.168 833.274 Z\" fill=\"#000000\" fill-rule=\"evenodd\" fill-opacity=\"1\" /><path clip-path=\"url(#clip810)\" d=\"M138.33 836.978 Q134.719 836.978 132.89 840.543 Q131.084 844.084 131.084 851.214 Q131.084 858.32 132.89 861.885 Q134.719 865.427 138.33 865.427 Q141.964 865.427 143.769 861.885 Q145.598 858.32 145.598 851.214 Q145.598 844.084 143.769 840.543 Q141.964 836.978 138.33 836.978 M138.33 833.274 Q144.14 833.274 147.195 837.881 Q150.274 842.464 150.274 851.214 Q150.274 859.941 147.195 864.547 Q144.14 869.131 138.33 869.131 Q132.519 869.131 129.441 864.547 Q126.385 859.941 126.385 851.214 Q126.385 842.464 129.441 837.881 Q132.519 833.274 138.33 833.274 Z\" fill=\"#000000\" fill-rule=\"evenodd\" fill-opacity=\"1\" /><path clip-path=\"url(#clip814)\" d=\"\n",
       "M239.432 1386.92 L239.432 1468.36 L285.928 1468.36 L285.928 1386.92 L239.432 1386.92 L239.432 1386.92  Z\n",
       "  \" fill=\"#009af9\" fill-rule=\"evenodd\" fill-opacity=\"1\"/>\n",
       "<polyline clip-path=\"url(#clip814)\" style=\"stroke:#000000; stroke-linecap:butt; stroke-linejoin:round; stroke-width:4; stroke-opacity:1; fill:none\" points=\"\n",
       "  239.432,1386.92 239.432,1468.36 285.928,1468.36 285.928,1386.92 239.432,1386.92 \n",
       "  \"/>\n",
       "<path clip-path=\"url(#clip814)\" d=\"\n",
       "M297.552 1388.46 L297.552 1468.36 L344.047 1468.36 L344.047 1388.46 L297.552 1388.46 L297.552 1388.46  Z\n",
       "  \" fill=\"#009af9\" fill-rule=\"evenodd\" fill-opacity=\"1\"/>\n",
       "<polyline clip-path=\"url(#clip814)\" style=\"stroke:#000000; stroke-linecap:butt; stroke-linejoin:round; stroke-width:4; stroke-opacity:1; fill:none\" points=\"\n",
       "  297.552,1388.46 297.552,1468.36 344.047,1468.36 344.047,1388.46 297.552,1388.46 \n",
       "  \"/>\n",
       "<path clip-path=\"url(#clip814)\" d=\"\n",
       "M355.671 1037.85 L355.671 1468.36 L402.166 1468.36 L402.166 1037.85 L355.671 1037.85 L355.671 1037.85  Z\n",
       "  \" fill=\"#009af9\" fill-rule=\"evenodd\" fill-opacity=\"1\"/>\n",
       "<polyline clip-path=\"url(#clip814)\" style=\"stroke:#000000; stroke-linecap:butt; stroke-linejoin:round; stroke-width:4; stroke-opacity:1; fill:none\" points=\"\n",
       "  355.671,1037.85 355.671,1468.36 402.166,1468.36 402.166,1037.85 355.671,1037.85 \n",
       "  \"/>\n",
       "<path clip-path=\"url(#clip814)\" d=\"\n",
       "M413.79 911.198 L413.79 1468.36 L460.286 1468.36 L460.286 911.198 L413.79 911.198 L413.79 911.198  Z\n",
       "  \" fill=\"#009af9\" fill-rule=\"evenodd\" fill-opacity=\"1\"/>\n",
       "<polyline clip-path=\"url(#clip814)\" style=\"stroke:#000000; stroke-linecap:butt; stroke-linejoin:round; stroke-width:4; stroke-opacity:1; fill:none\" points=\"\n",
       "  413.79,911.198 413.79,1468.36 460.286,1468.36 460.286,911.198 413.79,911.198 \n",
       "  \"/>\n",
       "<path clip-path=\"url(#clip814)\" d=\"\n",
       "M471.909 877.281 L471.909 1468.36 L518.405 1468.36 L518.405 877.281 L471.909 877.281 L471.909 877.281  Z\n",
       "  \" fill=\"#009af9\" fill-rule=\"evenodd\" fill-opacity=\"1\"/>\n",
       "<polyline clip-path=\"url(#clip814)\" style=\"stroke:#000000; stroke-linecap:butt; stroke-linejoin:round; stroke-width:4; stroke-opacity:1; fill:none\" points=\"\n",
       "  471.909,877.281 471.909,1468.36 518.405,1468.36 518.405,877.281 471.909,877.281 \n",
       "  \"/>\n",
       "<path clip-path=\"url(#clip814)\" d=\"\n",
       "M530.029 1044.32 L530.029 1468.36 L576.524 1468.36 L576.524 1044.32 L530.029 1044.32 L530.029 1044.32  Z\n",
       "  \" fill=\"#009af9\" fill-rule=\"evenodd\" fill-opacity=\"1\"/>\n",
       "<polyline clip-path=\"url(#clip814)\" style=\"stroke:#000000; stroke-linecap:butt; stroke-linejoin:round; stroke-width:4; stroke-opacity:1; fill:none\" points=\"\n",
       "  530.029,1044.32 530.029,1468.36 576.524,1468.36 576.524,1044.32 530.029,1044.32 \n",
       "  \"/>\n",
       "<path clip-path=\"url(#clip814)\" d=\"\n",
       "M588.148 1435.68 L588.148 1468.36 L634.643 1468.36 L634.643 1435.68 L588.148 1435.68 L588.148 1435.68  Z\n",
       "  \" fill=\"#009af9\" fill-rule=\"evenodd\" fill-opacity=\"1\"/>\n",
       "<polyline clip-path=\"url(#clip814)\" style=\"stroke:#000000; stroke-linecap:butt; stroke-linejoin:round; stroke-width:4; stroke-opacity:1; fill:none\" points=\"\n",
       "  588.148,1435.68 588.148,1468.36 634.643,1468.36 634.643,1435.68 588.148,1435.68 \n",
       "  \"/>\n",
       "<path clip-path=\"url(#clip814)\" d=\"\n",
       "M646.267 1451.99 L646.267 1468.36 L692.763 1468.36 L692.763 1451.99 L646.267 1451.99 L646.267 1451.99  Z\n",
       "  \" fill=\"#009af9\" fill-rule=\"evenodd\" fill-opacity=\"1\"/>\n",
       "<polyline clip-path=\"url(#clip814)\" style=\"stroke:#000000; stroke-linecap:butt; stroke-linejoin:round; stroke-width:4; stroke-opacity:1; fill:none\" points=\"\n",
       "  646.267,1451.99 646.267,1468.36 692.763,1468.36 692.763,1451.99 646.267,1451.99 \n",
       "  \"/>\n",
       "<path clip-path=\"url(#clip814)\" d=\"\n",
       "M704.387 1267.88 L704.387 1468.36 L750.882 1468.36 L750.882 1267.88 L704.387 1267.88 L704.387 1267.88  Z\n",
       "  \" fill=\"#009af9\" fill-rule=\"evenodd\" fill-opacity=\"1\"/>\n",
       "<polyline clip-path=\"url(#clip814)\" style=\"stroke:#000000; stroke-linecap:butt; stroke-linejoin:round; stroke-width:4; stroke-opacity:1; fill:none\" points=\"\n",
       "  704.387,1267.88 704.387,1468.36 750.882,1468.36 750.882,1267.88 704.387,1267.88 \n",
       "  \"/>\n",
       "<path clip-path=\"url(#clip814)\" d=\"\n",
       "M762.506 1293.51 L762.506 1468.36 L809.001 1468.36 L809.001 1293.51 L762.506 1293.51 L762.506 1293.51  Z\n",
       "  \" fill=\"#009af9\" fill-rule=\"evenodd\" fill-opacity=\"1\"/>\n",
       "<polyline clip-path=\"url(#clip814)\" style=\"stroke:#000000; stroke-linecap:butt; stroke-linejoin:round; stroke-width:4; stroke-opacity:1; fill:none\" points=\"\n",
       "  762.506,1293.51 762.506,1468.36 809.001,1468.36 809.001,1293.51 762.506,1293.51 \n",
       "  \"/>\n",
       "<path clip-path=\"url(#clip814)\" d=\"\n",
       "M820.625 1209.63 L820.625 1468.36 L867.121 1468.36 L867.121 1209.63 L820.625 1209.63 L820.625 1209.63  Z\n",
       "  \" fill=\"#009af9\" fill-rule=\"evenodd\" fill-opacity=\"1\"/>\n",
       "<polyline clip-path=\"url(#clip814)\" style=\"stroke:#000000; stroke-linecap:butt; stroke-linejoin:round; stroke-width:4; stroke-opacity:1; fill:none\" points=\"\n",
       "  820.625,1209.63 820.625,1468.36 867.121,1468.36 867.121,1209.63 820.625,1209.63 \n",
       "  \"/>\n",
       "<path clip-path=\"url(#clip814)\" d=\"\n",
       "M878.744 997.845 L878.744 1468.36 L925.24 1468.36 L925.24 997.845 L878.744 997.845 L878.744 997.845  Z\n",
       "  \" fill=\"#009af9\" fill-rule=\"evenodd\" fill-opacity=\"1\"/>\n",
       "<polyline clip-path=\"url(#clip814)\" style=\"stroke:#000000; stroke-linecap:butt; stroke-linejoin:round; stroke-width:4; stroke-opacity:1; fill:none\" points=\"\n",
       "  878.744,997.845 878.744,1468.36 925.24,1468.36 925.24,997.845 878.744,997.845 \n",
       "  \"/>\n",
       "<path clip-path=\"url(#clip814)\" d=\"\n",
       "M936.864 1124.52 L936.864 1468.36 L983.359 1468.36 L983.359 1124.52 L936.864 1124.52 L936.864 1124.52  Z\n",
       "  \" fill=\"#009af9\" fill-rule=\"evenodd\" fill-opacity=\"1\"/>\n",
       "<polyline clip-path=\"url(#clip814)\" style=\"stroke:#000000; stroke-linecap:butt; stroke-linejoin:round; stroke-width:4; stroke-opacity:1; fill:none\" points=\"\n",
       "  936.864,1124.52 936.864,1468.36 983.359,1468.36 983.359,1124.52 936.864,1124.52 \n",
       "  \"/>\n",
       "<path clip-path=\"url(#clip814)\" d=\"\n",
       "M994.983 865.335 L994.983 1468.36 L1041.48 1468.36 L1041.48 865.335 L994.983 865.335 L994.983 865.335  Z\n",
       "  \" fill=\"#009af9\" fill-rule=\"evenodd\" fill-opacity=\"1\"/>\n",
       "<polyline clip-path=\"url(#clip814)\" style=\"stroke:#000000; stroke-linecap:butt; stroke-linejoin:round; stroke-width:4; stroke-opacity:1; fill:none\" points=\"\n",
       "  994.983,865.335 994.983,1468.36 1041.48,1468.36 1041.48,865.335 994.983,865.335 \n",
       "  \"/>\n",
       "<path clip-path=\"url(#clip814)\" d=\"\n",
       "M1053.1 1123.69 L1053.1 1468.36 L1099.6 1468.36 L1099.6 1123.69 L1053.1 1123.69 L1053.1 1123.69  Z\n",
       "  \" fill=\"#009af9\" fill-rule=\"evenodd\" fill-opacity=\"1\"/>\n",
       "<polyline clip-path=\"url(#clip814)\" style=\"stroke:#000000; stroke-linecap:butt; stroke-linejoin:round; stroke-width:4; stroke-opacity:1; fill:none\" points=\"\n",
       "  1053.1,1123.69 1053.1,1468.36 1099.6,1468.36 1099.6,1123.69 1053.1,1123.69 \n",
       "  \"/>\n",
       "<circle clip-path=\"url(#clip814)\" style=\"fill:#009af9; stroke:none; fill-opacity:0\" cx=\"262.68\" cy=\"1386.92\" r=\"2\"/>\n",
       "<circle clip-path=\"url(#clip814)\" style=\"fill:#009af9; stroke:none; fill-opacity:0\" cx=\"320.799\" cy=\"1388.46\" r=\"2\"/>\n",
       "<circle clip-path=\"url(#clip814)\" style=\"fill:#009af9; stroke:none; fill-opacity:0\" cx=\"378.919\" cy=\"1037.85\" r=\"2\"/>\n",
       "<circle clip-path=\"url(#clip814)\" style=\"fill:#009af9; stroke:none; fill-opacity:0\" cx=\"437.038\" cy=\"911.198\" r=\"2\"/>\n",
       "<circle clip-path=\"url(#clip814)\" style=\"fill:#009af9; stroke:none; fill-opacity:0\" cx=\"495.157\" cy=\"877.281\" r=\"2\"/>\n",
       "<circle clip-path=\"url(#clip814)\" style=\"fill:#009af9; stroke:none; fill-opacity:0\" cx=\"553.276\" cy=\"1044.32\" r=\"2\"/>\n",
       "<circle clip-path=\"url(#clip814)\" style=\"fill:#009af9; stroke:none; fill-opacity:0\" cx=\"611.396\" cy=\"1435.68\" r=\"2\"/>\n",
       "<circle clip-path=\"url(#clip814)\" style=\"fill:#009af9; stroke:none; fill-opacity:0\" cx=\"669.515\" cy=\"1451.99\" r=\"2\"/>\n",
       "<circle clip-path=\"url(#clip814)\" style=\"fill:#009af9; stroke:none; fill-opacity:0\" cx=\"727.634\" cy=\"1267.88\" r=\"2\"/>\n",
       "<circle clip-path=\"url(#clip814)\" style=\"fill:#009af9; stroke:none; fill-opacity:0\" cx=\"785.754\" cy=\"1293.51\" r=\"2\"/>\n",
       "<circle clip-path=\"url(#clip814)\" style=\"fill:#009af9; stroke:none; fill-opacity:0\" cx=\"843.873\" cy=\"1209.63\" r=\"2\"/>\n",
       "<circle clip-path=\"url(#clip814)\" style=\"fill:#009af9; stroke:none; fill-opacity:0\" cx=\"901.992\" cy=\"997.845\" r=\"2\"/>\n",
       "<circle clip-path=\"url(#clip814)\" style=\"fill:#009af9; stroke:none; fill-opacity:0\" cx=\"960.111\" cy=\"1124.52\" r=\"2\"/>\n",
       "<circle clip-path=\"url(#clip814)\" style=\"fill:#009af9; stroke:none; fill-opacity:0\" cx=\"1018.23\" cy=\"865.335\" r=\"2\"/>\n",
       "<circle clip-path=\"url(#clip814)\" style=\"fill:#009af9; stroke:none; fill-opacity:0\" cx=\"1076.35\" cy=\"1123.69\" r=\"2\"/>\n",
       "<path clip-path=\"url(#clip810)\" d=\"\n",
       "M960.723 972.231 L1120.54 972.231 L1120.54 868.551 L960.723 868.551  Z\n",
       "  \" fill=\"#ffffff\" fill-rule=\"evenodd\" fill-opacity=\"1\"/>\n",
       "<polyline clip-path=\"url(#clip810)\" style=\"stroke:#000000; stroke-linecap:butt; stroke-linejoin:round; stroke-width:4; stroke-opacity:1; fill:none\" points=\"\n",
       "  960.723,972.231 1120.54,972.231 1120.54,868.551 960.723,868.551 960.723,972.231 \n",
       "  \"/>\n",
       "<path clip-path=\"url(#clip810)\" d=\"\n",
       "M971.461 941.127 L1035.89 941.127 L1035.89 899.655 L971.461 899.655 L971.461 941.127  Z\n",
       "  \" fill=\"#009af9\" fill-rule=\"evenodd\" fill-opacity=\"1\"/>\n",
       "<polyline clip-path=\"url(#clip810)\" style=\"stroke:#000000; stroke-linecap:butt; stroke-linejoin:round; stroke-width:4; stroke-opacity:1; fill:none\" points=\"\n",
       "  971.461,941.127 1035.89,941.127 1035.89,899.655 971.461,899.655 971.461,941.127 \n",
       "  \"/>\n",
       "<path clip-path=\"url(#clip810)\" d=\"M1060.47 940.078 Q1058.67 944.708 1056.96 946.12 Q1055.24 947.532 1052.37 947.532 L1048.97 947.532 L1048.97 943.967 L1051.47 943.967 Q1053.23 943.967 1054.2 943.134 Q1055.17 942.3 1056.35 939.199 L1057.12 937.254 L1046.63 911.745 L1051.15 911.745 L1059.25 932.023 L1067.35 911.745 L1071.86 911.745 L1060.47 940.078 Z\" fill=\"#000000\" fill-rule=\"evenodd\" fill-opacity=\"1\" /><path clip-path=\"url(#clip810)\" d=\"M1079.16 933.736 L1086.79 933.736 L1086.79 907.37 L1078.48 909.037 L1078.48 904.778 L1086.75 903.111 L1091.42 903.111 L1091.42 933.736 L1099.06 933.736 L1099.06 937.671 L1079.16 937.671 L1079.16 933.736 Z\" fill=\"#000000\" fill-rule=\"evenodd\" fill-opacity=\"1\" /><path clip-path=\"url(#clip810)\" d=\"\n",
       "M1386.27 1486.45 L2352.76 1486.45 L2352.76 847.244 L1386.27 847.244  Z\n",
       "  \" fill=\"#ffffff\" fill-rule=\"evenodd\" fill-opacity=\"1\"/>\n",
       "<defs>\n",
       "  <clipPath id=\"clip815\">\n",
       "    <rect x=\"1386\" y=\"847\" width=\"967\" height=\"640\"/>\n",
       "  </clipPath>\n",
       "</defs>\n",
       "<polyline clip-path=\"url(#clip815)\" style=\"stroke:#000000; stroke-linecap:butt; stroke-linejoin:round; stroke-width:2; stroke-opacity:0.1; fill:none\" points=\"\n",
       "  1439.43,1486.45 1439.43,847.244 \n",
       "  \"/>\n",
       "<polyline clip-path=\"url(#clip815)\" style=\"stroke:#000000; stroke-linecap:butt; stroke-linejoin:round; stroke-width:2; stroke-opacity:0.1; fill:none\" points=\"\n",
       "  1654.47,1486.45 1654.47,847.244 \n",
       "  \"/>\n",
       "<polyline clip-path=\"url(#clip815)\" style=\"stroke:#000000; stroke-linecap:butt; stroke-linejoin:round; stroke-width:2; stroke-opacity:0.1; fill:none\" points=\"\n",
       "  1869.51,1486.45 1869.51,847.244 \n",
       "  \"/>\n",
       "<polyline clip-path=\"url(#clip815)\" style=\"stroke:#000000; stroke-linecap:butt; stroke-linejoin:round; stroke-width:2; stroke-opacity:0.1; fill:none\" points=\"\n",
       "  2084.56,1486.45 2084.56,847.244 \n",
       "  \"/>\n",
       "<polyline clip-path=\"url(#clip815)\" style=\"stroke:#000000; stroke-linecap:butt; stroke-linejoin:round; stroke-width:2; stroke-opacity:0.1; fill:none\" points=\"\n",
       "  2299.6,1486.45 2299.6,847.244 \n",
       "  \"/>\n",
       "<polyline clip-path=\"url(#clip810)\" style=\"stroke:#000000; stroke-linecap:butt; stroke-linejoin:round; stroke-width:4; stroke-opacity:1; fill:none\" points=\"\n",
       "  1386.27,1486.45 2352.76,1486.45 \n",
       "  \"/>\n",
       "<polyline clip-path=\"url(#clip810)\" style=\"stroke:#000000; stroke-linecap:butt; stroke-linejoin:round; stroke-width:4; stroke-opacity:1; fill:none\" points=\"\n",
       "  1439.43,1486.45 1439.43,1467.55 \n",
       "  \"/>\n",
       "<polyline clip-path=\"url(#clip810)\" style=\"stroke:#000000; stroke-linecap:butt; stroke-linejoin:round; stroke-width:4; stroke-opacity:1; fill:none\" points=\"\n",
       "  1654.47,1486.45 1654.47,1467.55 \n",
       "  \"/>\n",
       "<polyline clip-path=\"url(#clip810)\" style=\"stroke:#000000; stroke-linecap:butt; stroke-linejoin:round; stroke-width:4; stroke-opacity:1; fill:none\" points=\"\n",
       "  1869.51,1486.45 1869.51,1467.55 \n",
       "  \"/>\n",
       "<polyline clip-path=\"url(#clip810)\" style=\"stroke:#000000; stroke-linecap:butt; stroke-linejoin:round; stroke-width:4; stroke-opacity:1; fill:none\" points=\"\n",
       "  2084.56,1486.45 2084.56,1467.55 \n",
       "  \"/>\n",
       "<polyline clip-path=\"url(#clip810)\" style=\"stroke:#000000; stroke-linecap:butt; stroke-linejoin:round; stroke-width:4; stroke-opacity:1; fill:none\" points=\"\n",
       "  2299.6,1486.45 2299.6,1467.55 \n",
       "  \"/>\n",
       "<path clip-path=\"url(#clip810)\" d=\"M1401.74 1517.37 Q1398.12 1517.37 1396.3 1520.93 Q1394.49 1524.47 1394.49 1531.6 Q1394.49 1538.71 1396.3 1542.27 Q1398.12 1545.82 1401.74 1545.82 Q1405.37 1545.82 1407.18 1542.27 Q1409 1538.71 1409 1531.6 Q1409 1524.47 1407.18 1520.93 Q1405.37 1517.37 1401.74 1517.37 M1401.74 1513.66 Q1407.55 1513.66 1410.6 1518.27 Q1413.68 1522.85 1413.68 1531.6 Q1413.68 1540.33 1410.6 1544.94 Q1407.55 1549.52 1401.74 1549.52 Q1395.93 1549.52 1392.85 1544.94 Q1389.79 1540.33 1389.79 1531.6 Q1389.79 1522.85 1392.85 1518.27 Q1395.93 1513.66 1401.74 1513.66 Z\" fill=\"#000000\" fill-rule=\"evenodd\" fill-opacity=\"1\" /><path clip-path=\"url(#clip810)\" d=\"M1421.9 1542.97 L1426.78 1542.97 L1426.78 1548.85 L1421.9 1548.85 L1421.9 1542.97 Z\" fill=\"#000000\" fill-rule=\"evenodd\" fill-opacity=\"1\" /><path clip-path=\"url(#clip810)\" d=\"M1446.97 1517.37 Q1443.36 1517.37 1441.53 1520.93 Q1439.72 1524.47 1439.72 1531.6 Q1439.72 1538.71 1441.53 1542.27 Q1443.36 1545.82 1446.97 1545.82 Q1450.6 1545.82 1452.41 1542.27 Q1454.24 1538.71 1454.24 1531.6 Q1454.24 1524.47 1452.41 1520.93 Q1450.6 1517.37 1446.97 1517.37 M1446.97 1513.66 Q1452.78 1513.66 1455.83 1518.27 Q1458.91 1522.85 1458.91 1531.6 Q1458.91 1540.33 1455.83 1544.94 Q1452.78 1549.52 1446.97 1549.52 Q1441.16 1549.52 1438.08 1544.94 Q1435.02 1540.33 1435.02 1531.6 Q1435.02 1522.85 1438.08 1518.27 Q1441.16 1513.66 1446.97 1513.66 Z\" fill=\"#000000\" fill-rule=\"evenodd\" fill-opacity=\"1\" /><path clip-path=\"url(#clip810)\" d=\"M1477.13 1517.37 Q1473.52 1517.37 1471.69 1520.93 Q1469.88 1524.47 1469.88 1531.6 Q1469.88 1538.71 1471.69 1542.27 Q1473.52 1545.82 1477.13 1545.82 Q1480.76 1545.82 1482.57 1542.27 Q1484.4 1538.71 1484.4 1531.6 Q1484.4 1524.47 1482.57 1520.93 Q1480.76 1517.37 1477.13 1517.37 M1477.13 1513.66 Q1482.94 1513.66 1485.99 1518.27 Q1489.07 1522.85 1489.07 1531.6 Q1489.07 1540.33 1485.99 1544.94 Q1482.94 1549.52 1477.13 1549.52 Q1471.32 1549.52 1468.24 1544.94 Q1465.18 1540.33 1465.18 1531.6 Q1465.18 1522.85 1468.24 1518.27 Q1471.32 1513.66 1477.13 1513.66 Z\" fill=\"#000000\" fill-rule=\"evenodd\" fill-opacity=\"1\" /><path clip-path=\"url(#clip810)\" d=\"M1617.27 1517.37 Q1613.66 1517.37 1611.83 1520.93 Q1610.03 1524.47 1610.03 1531.6 Q1610.03 1538.71 1611.83 1542.27 Q1613.66 1545.82 1617.27 1545.82 Q1620.91 1545.82 1622.71 1542.27 Q1624.54 1538.71 1624.54 1531.6 Q1624.54 1524.47 1622.71 1520.93 Q1620.91 1517.37 1617.27 1517.37 M1617.27 1513.66 Q1623.08 1513.66 1626.14 1518.27 Q1629.22 1522.85 1629.22 1531.6 Q1629.22 1540.33 1626.14 1544.94 Q1623.08 1549.52 1617.27 1549.52 Q1611.46 1549.52 1608.39 1544.94 Q1605.33 1540.33 1605.33 1531.6 Q1605.33 1522.85 1608.39 1518.27 Q1611.46 1513.66 1617.27 1513.66 Z\" fill=\"#000000\" fill-rule=\"evenodd\" fill-opacity=\"1\" /><path clip-path=\"url(#clip810)\" d=\"M1637.44 1542.97 L1642.32 1542.97 L1642.32 1548.85 L1637.44 1548.85 L1637.44 1542.97 Z\" fill=\"#000000\" fill-rule=\"evenodd\" fill-opacity=\"1\" /><path clip-path=\"url(#clip810)\" d=\"M1656.53 1544.91 L1672.85 1544.91 L1672.85 1548.85 L1650.91 1548.85 L1650.91 1544.91 Q1653.57 1542.16 1658.15 1537.53 Q1662.76 1532.88 1663.94 1531.53 Q1666.19 1529.01 1667.07 1527.27 Q1667.97 1525.51 1667.97 1523.82 Q1667.97 1521.07 1666.02 1519.33 Q1664.1 1517.6 1661 1517.6 Q1658.8 1517.6 1656.35 1518.36 Q1653.92 1519.13 1651.14 1520.68 L1651.14 1515.95 Q1653.96 1514.82 1656.42 1514.24 Q1658.87 1513.66 1660.91 1513.66 Q1666.28 1513.66 1669.47 1516.35 Q1672.67 1519.03 1672.67 1523.52 Q1672.67 1525.65 1671.86 1527.57 Q1671.07 1529.47 1668.96 1532.07 Q1668.39 1532.74 1665.28 1535.95 Q1662.18 1539.15 1656.53 1544.91 Z\" fill=\"#000000\" fill-rule=\"evenodd\" fill-opacity=\"1\" /><path clip-path=\"url(#clip810)\" d=\"M1682.71 1514.29 L1701.07 1514.29 L1701.07 1518.22 L1687 1518.22 L1687 1526.7 Q1688.02 1526.35 1689.03 1526.19 Q1690.05 1526 1691.07 1526 Q1696.86 1526 1700.24 1529.17 Q1703.62 1532.34 1703.62 1537.76 Q1703.62 1543.34 1700.14 1546.44 Q1696.67 1549.52 1690.35 1549.52 Q1688.18 1549.52 1685.91 1549.15 Q1683.66 1548.78 1681.26 1548.04 L1681.26 1543.34 Q1683.34 1544.47 1685.56 1545.03 Q1687.78 1545.58 1690.26 1545.58 Q1694.27 1545.58 1696.6 1543.48 Q1698.94 1541.37 1698.94 1537.76 Q1698.94 1534.15 1696.6 1532.04 Q1694.27 1529.94 1690.26 1529.94 Q1688.39 1529.94 1686.51 1530.35 Q1684.66 1530.77 1682.71 1531.65 L1682.71 1514.29 Z\" fill=\"#000000\" fill-rule=\"evenodd\" fill-opacity=\"1\" /><path clip-path=\"url(#clip810)\" d=\"M1831.82 1517.37 Q1828.21 1517.37 1826.38 1520.93 Q1824.57 1524.47 1824.57 1531.6 Q1824.57 1538.71 1826.38 1542.27 Q1828.21 1545.82 1831.82 1545.82 Q1835.45 1545.82 1837.26 1542.27 Q1839.09 1538.71 1839.09 1531.6 Q1839.09 1524.47 1837.26 1520.93 Q1835.45 1517.37 1831.82 1517.37 M1831.82 1513.66 Q1837.63 1513.66 1840.68 1518.27 Q1843.76 1522.85 1843.76 1531.6 Q1843.76 1540.33 1840.68 1544.94 Q1837.63 1549.52 1831.82 1549.52 Q1826.01 1549.52 1822.93 1544.94 Q1819.87 1540.33 1819.87 1531.6 Q1819.87 1522.85 1822.93 1518.27 Q1826.01 1513.66 1831.82 1513.66 Z\" fill=\"#000000\" fill-rule=\"evenodd\" fill-opacity=\"1\" /><path clip-path=\"url(#clip810)\" d=\"M1851.98 1542.97 L1856.86 1542.97 L1856.86 1548.85 L1851.98 1548.85 L1851.98 1542.97 Z\" fill=\"#000000\" fill-rule=\"evenodd\" fill-opacity=\"1\" /><path clip-path=\"url(#clip810)\" d=\"M1867.1 1514.29 L1885.45 1514.29 L1885.45 1518.22 L1871.38 1518.22 L1871.38 1526.7 Q1872.4 1526.35 1873.42 1526.19 Q1874.43 1526 1875.45 1526 Q1881.24 1526 1884.62 1529.17 Q1888 1532.34 1888 1537.76 Q1888 1543.34 1884.53 1546.44 Q1881.05 1549.52 1874.73 1549.52 Q1872.56 1549.52 1870.29 1549.15 Q1868.05 1548.78 1865.64 1548.04 L1865.64 1543.34 Q1867.72 1544.47 1869.94 1545.03 Q1872.17 1545.58 1874.64 1545.58 Q1878.65 1545.58 1880.98 1543.48 Q1883.32 1541.37 1883.32 1537.76 Q1883.32 1534.15 1880.98 1532.04 Q1878.65 1529.94 1874.64 1529.94 Q1872.77 1529.94 1870.89 1530.35 Q1869.04 1530.77 1867.1 1531.65 L1867.1 1514.29 Z\" fill=\"#000000\" fill-rule=\"evenodd\" fill-opacity=\"1\" /><path clip-path=\"url(#clip810)\" d=\"M1907.21 1517.37 Q1903.6 1517.37 1901.77 1520.93 Q1899.97 1524.47 1899.97 1531.6 Q1899.97 1538.71 1901.77 1542.27 Q1903.6 1545.82 1907.21 1545.82 Q1910.85 1545.82 1912.65 1542.27 Q1914.48 1538.71 1914.48 1531.6 Q1914.48 1524.47 1912.65 1520.93 Q1910.85 1517.37 1907.21 1517.37 M1907.21 1513.66 Q1913.02 1513.66 1916.08 1518.27 Q1919.16 1522.85 1919.16 1531.6 Q1919.16 1540.33 1916.08 1544.94 Q1913.02 1549.52 1907.21 1549.52 Q1901.4 1549.52 1898.32 1544.94 Q1895.27 1540.33 1895.27 1531.6 Q1895.27 1522.85 1898.32 1518.27 Q1901.4 1513.66 1907.21 1513.66 Z\" fill=\"#000000\" fill-rule=\"evenodd\" fill-opacity=\"1\" /><path clip-path=\"url(#clip810)\" d=\"M2047.36 1517.37 Q2043.75 1517.37 2041.92 1520.93 Q2040.11 1524.47 2040.11 1531.6 Q2040.11 1538.71 2041.92 1542.27 Q2043.75 1545.82 2047.36 1545.82 Q2050.99 1545.82 2052.8 1542.27 Q2054.63 1538.71 2054.63 1531.6 Q2054.63 1524.47 2052.8 1520.93 Q2050.99 1517.37 2047.36 1517.37 M2047.36 1513.66 Q2053.17 1513.66 2056.22 1518.27 Q2059.3 1522.85 2059.3 1531.6 Q2059.3 1540.33 2056.22 1544.94 Q2053.17 1549.52 2047.36 1549.52 Q2041.55 1549.52 2038.47 1544.94 Q2035.41 1540.33 2035.41 1531.6 Q2035.41 1522.85 2038.47 1518.27 Q2041.55 1513.66 2047.36 1513.66 Z\" fill=\"#000000\" fill-rule=\"evenodd\" fill-opacity=\"1\" /><path clip-path=\"url(#clip810)\" d=\"M2067.52 1542.97 L2072.4 1542.97 L2072.4 1548.85 L2067.52 1548.85 L2067.52 1542.97 Z\" fill=\"#000000\" fill-rule=\"evenodd\" fill-opacity=\"1\" /><path clip-path=\"url(#clip810)\" d=\"M2081.41 1514.29 L2103.63 1514.29 L2103.63 1516.28 L2091.08 1548.85 L2086.2 1548.85 L2098.01 1518.22 L2081.41 1518.22 L2081.41 1514.29 Z\" fill=\"#000000\" fill-rule=\"evenodd\" fill-opacity=\"1\" /><path clip-path=\"url(#clip810)\" d=\"M2112.8 1514.29 L2131.15 1514.29 L2131.15 1518.22 L2117.08 1518.22 L2117.08 1526.7 Q2118.1 1526.35 2119.12 1526.19 Q2120.13 1526 2121.15 1526 Q2126.94 1526 2130.32 1529.17 Q2133.7 1532.34 2133.7 1537.76 Q2133.7 1543.34 2130.23 1546.44 Q2126.76 1549.52 2120.44 1549.52 Q2118.26 1549.52 2115.99 1549.15 Q2113.75 1548.78 2111.34 1548.04 L2111.34 1543.34 Q2113.42 1544.47 2115.64 1545.03 Q2117.87 1545.58 2120.34 1545.58 Q2124.35 1545.58 2126.69 1543.48 Q2129.02 1541.37 2129.02 1537.76 Q2129.02 1534.15 2126.69 1532.04 Q2124.35 1529.94 2120.34 1529.94 Q2118.47 1529.94 2116.59 1530.35 Q2114.74 1530.77 2112.8 1531.65 L2112.8 1514.29 Z\" fill=\"#000000\" fill-rule=\"evenodd\" fill-opacity=\"1\" /><path clip-path=\"url(#clip810)\" d=\"M2251.67 1544.91 L2259.31 1544.91 L2259.31 1518.55 L2251 1520.21 L2251 1515.95 L2259.26 1514.29 L2263.94 1514.29 L2263.94 1544.91 L2271.58 1544.91 L2271.58 1548.85 L2251.67 1548.85 L2251.67 1544.91 Z\" fill=\"#000000\" fill-rule=\"evenodd\" fill-opacity=\"1\" /><path clip-path=\"url(#clip810)\" d=\"M2281.02 1542.97 L2285.91 1542.97 L2285.91 1548.85 L2281.02 1548.85 L2281.02 1542.97 Z\" fill=\"#000000\" fill-rule=\"evenodd\" fill-opacity=\"1\" /><path clip-path=\"url(#clip810)\" d=\"M2306.09 1517.37 Q2302.48 1517.37 2300.65 1520.93 Q2298.85 1524.47 2298.85 1531.6 Q2298.85 1538.71 2300.65 1542.27 Q2302.48 1545.82 2306.09 1545.82 Q2309.72 1545.82 2311.53 1542.27 Q2313.36 1538.71 2313.36 1531.6 Q2313.36 1524.47 2311.53 1520.93 Q2309.72 1517.37 2306.09 1517.37 M2306.09 1513.66 Q2311.9 1513.66 2314.96 1518.27 Q2318.04 1522.85 2318.04 1531.6 Q2318.04 1540.33 2314.96 1544.94 Q2311.9 1549.52 2306.09 1549.52 Q2300.28 1549.52 2297.2 1544.94 Q2294.15 1540.33 2294.15 1531.6 Q2294.15 1522.85 2297.2 1518.27 Q2300.28 1513.66 2306.09 1513.66 Z\" fill=\"#000000\" fill-rule=\"evenodd\" fill-opacity=\"1\" /><path clip-path=\"url(#clip810)\" d=\"M2336.25 1517.37 Q2332.64 1517.37 2330.81 1520.93 Q2329.01 1524.47 2329.01 1531.6 Q2329.01 1538.71 2330.81 1542.27 Q2332.64 1545.82 2336.25 1545.82 Q2339.89 1545.82 2341.69 1542.27 Q2343.52 1538.71 2343.52 1531.6 Q2343.52 1524.47 2341.69 1520.93 Q2339.89 1517.37 2336.25 1517.37 M2336.25 1513.66 Q2342.06 1513.66 2345.12 1518.27 Q2348.2 1522.85 2348.2 1531.6 Q2348.2 1540.33 2345.12 1544.94 Q2342.06 1549.52 2336.25 1549.52 Q2330.44 1549.52 2327.36 1544.94 Q2324.31 1540.33 2324.31 1531.6 Q2324.31 1522.85 2327.36 1518.27 Q2330.44 1513.66 2336.25 1513.66 Z\" fill=\"#000000\" fill-rule=\"evenodd\" fill-opacity=\"1\" /><polyline clip-path=\"url(#clip815)\" style=\"stroke:#000000; stroke-linecap:butt; stroke-linejoin:round; stroke-width:2; stroke-opacity:0.1; fill:none\" points=\"\n",
       "  1386.27,1468.36 2352.76,1468.36 \n",
       "  \"/>\n",
       "<polyline clip-path=\"url(#clip815)\" style=\"stroke:#000000; stroke-linecap:butt; stroke-linejoin:round; stroke-width:2; stroke-opacity:0.1; fill:none\" points=\"\n",
       "  1386.27,1317.6 2352.76,1317.6 \n",
       "  \"/>\n",
       "<polyline clip-path=\"url(#clip815)\" style=\"stroke:#000000; stroke-linecap:butt; stroke-linejoin:round; stroke-width:2; stroke-opacity:0.1; fill:none\" points=\"\n",
       "  1386.27,1166.85 2352.76,1166.85 \n",
       "  \"/>\n",
       "<polyline clip-path=\"url(#clip815)\" style=\"stroke:#000000; stroke-linecap:butt; stroke-linejoin:round; stroke-width:2; stroke-opacity:0.1; fill:none\" points=\"\n",
       "  1386.27,1016.09 2352.76,1016.09 \n",
       "  \"/>\n",
       "<polyline clip-path=\"url(#clip815)\" style=\"stroke:#000000; stroke-linecap:butt; stroke-linejoin:round; stroke-width:2; stroke-opacity:0.1; fill:none\" points=\"\n",
       "  1386.27,865.335 2352.76,865.335 \n",
       "  \"/>\n",
       "<polyline clip-path=\"url(#clip810)\" style=\"stroke:#000000; stroke-linecap:butt; stroke-linejoin:round; stroke-width:4; stroke-opacity:1; fill:none\" points=\"\n",
       "  1386.27,1486.45 1386.27,847.244 \n",
       "  \"/>\n",
       "<polyline clip-path=\"url(#clip810)\" style=\"stroke:#000000; stroke-linecap:butt; stroke-linejoin:round; stroke-width:4; stroke-opacity:1; fill:none\" points=\"\n",
       "  1386.27,1468.36 1405.17,1468.36 \n",
       "  \"/>\n",
       "<polyline clip-path=\"url(#clip810)\" style=\"stroke:#000000; stroke-linecap:butt; stroke-linejoin:round; stroke-width:4; stroke-opacity:1; fill:none\" points=\"\n",
       "  1386.27,1317.6 1405.17,1317.6 \n",
       "  \"/>\n",
       "<polyline clip-path=\"url(#clip810)\" style=\"stroke:#000000; stroke-linecap:butt; stroke-linejoin:round; stroke-width:4; stroke-opacity:1; fill:none\" points=\"\n",
       "  1386.27,1166.85 1405.17,1166.85 \n",
       "  \"/>\n",
       "<polyline clip-path=\"url(#clip810)\" style=\"stroke:#000000; stroke-linecap:butt; stroke-linejoin:round; stroke-width:4; stroke-opacity:1; fill:none\" points=\"\n",
       "  1386.27,1016.09 1405.17,1016.09 \n",
       "  \"/>\n",
       "<polyline clip-path=\"url(#clip810)\" style=\"stroke:#000000; stroke-linecap:butt; stroke-linejoin:round; stroke-width:4; stroke-opacity:1; fill:none\" points=\"\n",
       "  1386.27,865.335 1405.17,865.335 \n",
       "  \"/>\n",
       "<path clip-path=\"url(#clip810)\" d=\"M1338.33 1454.16 Q1334.72 1454.16 1332.89 1457.72 Q1331.08 1461.26 1331.08 1468.39 Q1331.08 1475.5 1332.89 1479.06 Q1334.72 1482.6 1338.33 1482.6 Q1341.96 1482.6 1343.77 1479.06 Q1345.6 1475.5 1345.6 1468.39 Q1345.6 1461.26 1343.77 1457.72 Q1341.96 1454.16 1338.33 1454.16 M1338.33 1450.45 Q1344.14 1450.45 1347.2 1455.06 Q1350.27 1459.64 1350.27 1468.39 Q1350.27 1477.12 1347.2 1481.73 Q1344.14 1486.31 1338.33 1486.31 Q1332.52 1486.31 1329.44 1481.73 Q1326.39 1477.12 1326.39 1468.39 Q1326.39 1459.64 1329.44 1455.06 Q1332.52 1450.45 1338.33 1450.45 Z\" fill=\"#000000\" fill-rule=\"evenodd\" fill-opacity=\"1\" /><path clip-path=\"url(#clip810)\" d=\"M1333.95 1330.95 L1350.27 1330.95 L1350.27 1334.88 L1328.33 1334.88 L1328.33 1330.95 Q1330.99 1328.19 1335.58 1323.56 Q1340.18 1318.91 1341.36 1317.57 Q1343.61 1315.04 1344.49 1313.31 Q1345.39 1311.55 1345.39 1309.86 Q1345.39 1307.1 1343.45 1305.37 Q1341.52 1303.63 1338.42 1303.63 Q1336.22 1303.63 1333.77 1304.4 Q1331.34 1305.16 1328.56 1306.71 L1328.56 1301.99 Q1331.39 1300.85 1333.84 1300.28 Q1336.29 1299.7 1338.33 1299.7 Q1343.7 1299.7 1346.89 1302.38 Q1350.09 1305.07 1350.09 1309.56 Q1350.09 1311.69 1349.28 1313.61 Q1348.49 1315.51 1346.39 1318.1 Q1345.81 1318.77 1342.7 1321.99 Q1339.6 1325.18 1333.95 1330.95 Z\" fill=\"#000000\" fill-rule=\"evenodd\" fill-opacity=\"1\" /><path clip-path=\"url(#clip810)\" d=\"M1340.69 1153.64 L1328.89 1172.09 L1340.69 1172.09 L1340.69 1153.64 M1339.46 1149.57 L1345.34 1149.57 L1345.34 1172.09 L1350.27 1172.09 L1350.27 1175.98 L1345.34 1175.98 L1345.34 1184.13 L1340.69 1184.13 L1340.69 1175.98 L1325.09 1175.98 L1325.09 1171.46 L1339.46 1149.57 Z\" fill=\"#000000\" fill-rule=\"evenodd\" fill-opacity=\"1\" /><path clip-path=\"url(#clip810)\" d=\"M1338.75 1014.23 Q1335.6 1014.23 1333.75 1016.38 Q1331.92 1018.53 1331.92 1022.28 Q1331.92 1026.01 1333.75 1028.19 Q1335.6 1030.34 1338.75 1030.34 Q1341.89 1030.34 1343.72 1028.19 Q1345.57 1026.01 1345.57 1022.28 Q1345.57 1018.53 1343.72 1016.38 Q1341.89 1014.23 1338.75 1014.23 M1348.03 999.574 L1348.03 1003.83 Q1346.27 1003 1344.46 1002.56 Q1342.68 1002.12 1340.92 1002.12 Q1336.29 1002.12 1333.84 1005.25 Q1331.41 1008.37 1331.06 1014.69 Q1332.43 1012.68 1334.49 1011.61 Q1336.55 1010.52 1339.02 1010.52 Q1344.23 1010.52 1347.24 1013.69 Q1350.27 1016.84 1350.27 1022.28 Q1350.27 1027.61 1347.13 1030.82 Q1343.98 1034.04 1338.75 1034.04 Q1332.75 1034.04 1329.58 1029.46 Q1326.41 1024.85 1326.41 1016.13 Q1326.41 1007.93 1330.3 1003.07 Q1334.19 998.185 1340.74 998.185 Q1342.5 998.185 1344.28 998.533 Q1346.08 998.88 1348.03 999.574 Z\" fill=\"#000000\" fill-rule=\"evenodd\" fill-opacity=\"1\" /><path clip-path=\"url(#clip810)\" d=\"M1338.42 866.203 Q1335.09 866.203 1333.17 867.985 Q1331.27 869.768 1331.27 872.893 Q1331.27 876.018 1333.17 877.8 Q1335.09 879.582 1338.42 879.582 Q1341.76 879.582 1343.68 877.8 Q1345.6 875.994 1345.6 872.893 Q1345.6 869.768 1343.68 867.985 Q1341.78 866.203 1338.42 866.203 M1333.75 864.212 Q1330.74 863.471 1329.05 861.411 Q1327.38 859.351 1327.38 856.388 Q1327.38 852.245 1330.32 849.837 Q1333.28 847.43 1338.42 847.43 Q1343.58 847.43 1346.52 849.837 Q1349.46 852.245 1349.46 856.388 Q1349.46 859.351 1347.77 861.411 Q1346.11 863.471 1343.12 864.212 Q1346.5 864.999 1348.38 867.291 Q1350.27 869.582 1350.27 872.893 Q1350.27 877.916 1347.2 880.601 Q1344.14 883.286 1338.42 883.286 Q1332.7 883.286 1329.63 880.601 Q1326.57 877.916 1326.57 872.893 Q1326.57 869.582 1328.47 867.291 Q1330.37 864.999 1333.75 864.212 M1332.03 856.828 Q1332.03 859.513 1333.7 861.018 Q1335.39 862.522 1338.42 862.522 Q1341.43 862.522 1343.12 861.018 Q1344.83 859.513 1344.83 856.828 Q1344.83 854.143 1343.12 852.638 Q1341.43 851.133 1338.42 851.133 Q1335.39 851.133 1333.7 852.638 Q1332.03 854.143 1332.03 856.828 Z\" fill=\"#000000\" fill-rule=\"evenodd\" fill-opacity=\"1\" /><path clip-path=\"url(#clip815)\" d=\"\n",
       "M1439.43 940.713 L1439.43 1468.36 L1869.51 1468.36 L1869.51 940.713 L1439.43 940.713 L1439.43 940.713  Z\n",
       "  \" fill=\"#009af9\" fill-rule=\"evenodd\" fill-opacity=\"1\"/>\n",
       "<polyline clip-path=\"url(#clip815)\" style=\"stroke:#000000; stroke-linecap:butt; stroke-linejoin:round; stroke-width:4; stroke-opacity:1; fill:none\" points=\"\n",
       "  1439.43,940.713 1439.43,1468.36 1869.51,1468.36 1869.51,940.713 1439.43,940.713 \n",
       "  \"/>\n",
       "<path clip-path=\"url(#clip815)\" d=\"\n",
       "M1869.51 865.335 L1869.51 1468.36 L2299.6 1468.36 L2299.6 865.335 L1869.51 865.335 L1869.51 865.335  Z\n",
       "  \" fill=\"#009af9\" fill-rule=\"evenodd\" fill-opacity=\"1\"/>\n",
       "<polyline clip-path=\"url(#clip815)\" style=\"stroke:#000000; stroke-linecap:butt; stroke-linejoin:round; stroke-width:4; stroke-opacity:1; fill:none\" points=\"\n",
       "  1869.51,865.335 1869.51,1468.36 2299.6,1468.36 2299.6,865.335 1869.51,865.335 \n",
       "  \"/>\n",
       "<circle clip-path=\"url(#clip815)\" style=\"fill:#009af9; stroke:none; fill-opacity:0\" cx=\"1654.47\" cy=\"940.713\" r=\"2\"/>\n",
       "<circle clip-path=\"url(#clip815)\" style=\"fill:#009af9; stroke:none; fill-opacity:0\" cx=\"2084.56\" cy=\"865.335\" r=\"2\"/>\n",
       "<path clip-path=\"url(#clip810)\" d=\"\n",
       "M2160.72 972.231 L2320.54 972.231 L2320.54 868.551 L2160.72 868.551  Z\n",
       "  \" fill=\"#ffffff\" fill-rule=\"evenodd\" fill-opacity=\"1\"/>\n",
       "<polyline clip-path=\"url(#clip810)\" style=\"stroke:#000000; stroke-linecap:butt; stroke-linejoin:round; stroke-width:4; stroke-opacity:1; fill:none\" points=\"\n",
       "  2160.72,972.231 2320.54,972.231 2320.54,868.551 2160.72,868.551 2160.72,972.231 \n",
       "  \"/>\n",
       "<path clip-path=\"url(#clip810)\" d=\"\n",
       "M2171.46 941.127 L2235.89 941.127 L2235.89 899.655 L2171.46 899.655 L2171.46 941.127  Z\n",
       "  \" fill=\"#009af9\" fill-rule=\"evenodd\" fill-opacity=\"1\"/>\n",
       "<polyline clip-path=\"url(#clip810)\" style=\"stroke:#000000; stroke-linecap:butt; stroke-linejoin:round; stroke-width:4; stroke-opacity:1; fill:none\" points=\"\n",
       "  2171.46,941.127 2235.89,941.127 2235.89,899.655 2171.46,899.655 2171.46,941.127 \n",
       "  \"/>\n",
       "<path clip-path=\"url(#clip810)\" d=\"M2260.47 940.078 Q2258.67 944.708 2256.96 946.12 Q2255.24 947.532 2252.37 947.532 L2248.97 947.532 L2248.97 943.967 L2251.47 943.967 Q2253.23 943.967 2254.2 943.134 Q2255.17 942.3 2256.35 939.199 L2257.12 937.254 L2246.63 911.745 L2251.15 911.745 L2259.25 932.023 L2267.35 911.745 L2271.86 911.745 L2260.47 940.078 Z\" fill=\"#000000\" fill-rule=\"evenodd\" fill-opacity=\"1\" /><path clip-path=\"url(#clip810)\" d=\"M2279.16 933.736 L2286.79 933.736 L2286.79 907.37 L2278.48 909.037 L2278.48 904.778 L2286.75 903.111 L2291.42 903.111 L2291.42 933.736 L2299.06 933.736 L2299.06 937.671 L2279.16 937.671 L2279.16 933.736 Z\" fill=\"#000000\" fill-rule=\"evenodd\" fill-opacity=\"1\" /></svg>\n"
      ]
     },
     "execution_count": 120,
     "metadata": {},
     "output_type": "execute_result"
    }
   ],
   "source": [
    "p1 = plot(x, y)\n",
    "p2 = scatter(x, y)\n",
    "p3 = bar(x, y)\n",
    "p4 = histogram(y)\n",
    "\n",
    "plot(p1, p2, p3, p4, layout=(2,2), lagend= false)"
   ]
  },
  {
   "cell_type": "code",
   "execution_count": 121,
   "metadata": {},
   "outputs": [
    {
     "data": {
      "image/svg+xml": [
       "<?xml version=\"1.0\" encoding=\"utf-8\"?>\n",
       "<svg xmlns=\"http://www.w3.org/2000/svg\" xmlns:xlink=\"http://www.w3.org/1999/xlink\" width=\"600\" height=\"400\" viewBox=\"0 0 2400 1600\">\n",
       "<defs>\n",
       "  <clipPath id=\"clip850\">\n",
       "    <rect x=\"0\" y=\"0\" width=\"2400\" height=\"1600\"/>\n",
       "  </clipPath>\n",
       "</defs>\n",
       "<path clip-path=\"url(#clip850)\" d=\"\n",
       "M0 1600 L2400 1600 L2400 0 L0 0  Z\n",
       "  \" fill=\"#ffffff\" fill-rule=\"evenodd\" fill-opacity=\"1\"/>\n",
       "<defs>\n",
       "  <clipPath id=\"clip851\">\n",
       "    <rect x=\"480\" y=\"0\" width=\"1681\" height=\"1600\"/>\n",
       "  </clipPath>\n",
       "</defs>\n",
       "<path clip-path=\"url(#clip850)\" d=\"\n",
       "M186.274 286.448 L2352.76 286.448 L2352.76 47.2441 L186.274 47.2441  Z\n",
       "  \" fill=\"#ffffff\" fill-rule=\"evenodd\" fill-opacity=\"1\"/>\n",
       "<defs>\n",
       "  <clipPath id=\"clip852\">\n",
       "    <rect x=\"186\" y=\"47\" width=\"2167\" height=\"240\"/>\n",
       "  </clipPath>\n",
       "</defs>\n",
       "<polyline clip-path=\"url(#clip852)\" style=\"stroke:#000000; stroke-linecap:butt; stroke-linejoin:round; stroke-width:2; stroke-opacity:0.1; fill:none\" points=\"\n",
       "  393.579,286.448 393.579,47.2441 \n",
       "  \"/>\n",
       "<polyline clip-path=\"url(#clip852)\" style=\"stroke:#000000; stroke-linecap:butt; stroke-linejoin:round; stroke-width:2; stroke-opacity:0.1; fill:none\" points=\"\n",
       "  685.558,286.448 685.558,47.2441 \n",
       "  \"/>\n",
       "<polyline clip-path=\"url(#clip852)\" style=\"stroke:#000000; stroke-linecap:butt; stroke-linejoin:round; stroke-width:2; stroke-opacity:0.1; fill:none\" points=\"\n",
       "  977.536,286.448 977.536,47.2441 \n",
       "  \"/>\n",
       "<polyline clip-path=\"url(#clip852)\" style=\"stroke:#000000; stroke-linecap:butt; stroke-linejoin:round; stroke-width:2; stroke-opacity:0.1; fill:none\" points=\"\n",
       "  1269.51,286.448 1269.51,47.2441 \n",
       "  \"/>\n",
       "<polyline clip-path=\"url(#clip852)\" style=\"stroke:#000000; stroke-linecap:butt; stroke-linejoin:round; stroke-width:2; stroke-opacity:0.1; fill:none\" points=\"\n",
       "  1561.49,286.448 1561.49,47.2441 \n",
       "  \"/>\n",
       "<polyline clip-path=\"url(#clip852)\" style=\"stroke:#000000; stroke-linecap:butt; stroke-linejoin:round; stroke-width:2; stroke-opacity:0.1; fill:none\" points=\"\n",
       "  1853.47,286.448 1853.47,47.2441 \n",
       "  \"/>\n",
       "<polyline clip-path=\"url(#clip852)\" style=\"stroke:#000000; stroke-linecap:butt; stroke-linejoin:round; stroke-width:2; stroke-opacity:0.1; fill:none\" points=\"\n",
       "  2145.45,286.448 2145.45,47.2441 \n",
       "  \"/>\n",
       "<polyline clip-path=\"url(#clip850)\" style=\"stroke:#000000; stroke-linecap:butt; stroke-linejoin:round; stroke-width:4; stroke-opacity:1; fill:none\" points=\"\n",
       "  186.274,286.448 2352.76,286.448 \n",
       "  \"/>\n",
       "<polyline clip-path=\"url(#clip850)\" style=\"stroke:#000000; stroke-linecap:butt; stroke-linejoin:round; stroke-width:4; stroke-opacity:1; fill:none\" points=\"\n",
       "  393.579,286.448 393.579,267.55 \n",
       "  \"/>\n",
       "<polyline clip-path=\"url(#clip850)\" style=\"stroke:#000000; stroke-linecap:butt; stroke-linejoin:round; stroke-width:4; stroke-opacity:1; fill:none\" points=\"\n",
       "  685.558,286.448 685.558,267.55 \n",
       "  \"/>\n",
       "<polyline clip-path=\"url(#clip850)\" style=\"stroke:#000000; stroke-linecap:butt; stroke-linejoin:round; stroke-width:4; stroke-opacity:1; fill:none\" points=\"\n",
       "  977.536,286.448 977.536,267.55 \n",
       "  \"/>\n",
       "<polyline clip-path=\"url(#clip850)\" style=\"stroke:#000000; stroke-linecap:butt; stroke-linejoin:round; stroke-width:4; stroke-opacity:1; fill:none\" points=\"\n",
       "  1269.51,286.448 1269.51,267.55 \n",
       "  \"/>\n",
       "<polyline clip-path=\"url(#clip850)\" style=\"stroke:#000000; stroke-linecap:butt; stroke-linejoin:round; stroke-width:4; stroke-opacity:1; fill:none\" points=\"\n",
       "  1561.49,286.448 1561.49,267.55 \n",
       "  \"/>\n",
       "<polyline clip-path=\"url(#clip850)\" style=\"stroke:#000000; stroke-linecap:butt; stroke-linejoin:round; stroke-width:4; stroke-opacity:1; fill:none\" points=\"\n",
       "  1853.47,286.448 1853.47,267.55 \n",
       "  \"/>\n",
       "<polyline clip-path=\"url(#clip850)\" style=\"stroke:#000000; stroke-linecap:butt; stroke-linejoin:round; stroke-width:4; stroke-opacity:1; fill:none\" points=\"\n",
       "  2145.45,286.448 2145.45,267.55 \n",
       "  \"/>\n",
       "<path clip-path=\"url(#clip850)\" d=\"M388.232 344.913 L404.551 344.913 L404.551 348.848 L382.607 348.848 L382.607 344.913 Q385.269 342.158 389.852 337.528 Q394.458 332.876 395.639 331.533 Q397.884 329.01 398.764 327.274 Q399.667 325.515 399.667 323.825 Q399.667 321.07 397.722 319.334 Q395.801 317.598 392.699 317.598 Q390.5 317.598 388.046 318.362 Q385.616 319.126 382.838 320.677 L382.838 315.955 Q385.662 314.82 388.116 314.242 Q390.57 313.663 392.607 313.663 Q397.977 313.663 401.171 316.348 Q404.366 319.033 404.366 323.524 Q404.366 325.654 403.556 327.575 Q402.769 329.473 400.662 332.066 Q400.083 332.737 396.982 335.954 Q393.88 339.149 388.232 344.913 Z\" fill=\"#000000\" fill-rule=\"evenodd\" fill-opacity=\"1\" /><path clip-path=\"url(#clip850)\" d=\"M688.567 318.362 L676.761 336.811 L688.567 336.811 L688.567 318.362 M687.34 314.288 L693.22 314.288 L693.22 336.811 L698.15 336.811 L698.15 340.7 L693.22 340.7 L693.22 348.848 L688.567 348.848 L688.567 340.7 L672.965 340.7 L672.965 336.186 L687.34 314.288 Z\" fill=\"#000000\" fill-rule=\"evenodd\" fill-opacity=\"1\" /><path clip-path=\"url(#clip850)\" d=\"M977.941 329.704 Q974.793 329.704 972.941 331.857 Q971.113 334.01 971.113 337.76 Q971.113 341.487 972.941 343.663 Q974.793 345.815 977.941 345.815 Q981.089 345.815 982.918 343.663 Q984.77 341.487 984.77 337.76 Q984.77 334.01 982.918 331.857 Q981.089 329.704 977.941 329.704 M987.224 315.052 L987.224 319.311 Q985.464 318.478 983.659 318.038 Q981.877 317.598 980.117 317.598 Q975.488 317.598 973.034 320.723 Q970.603 323.848 970.256 330.167 Q971.622 328.154 973.682 327.089 Q975.742 326.001 978.219 326.001 Q983.427 326.001 986.437 329.172 Q989.469 332.32 989.469 337.76 Q989.469 343.084 986.321 346.302 Q983.173 349.519 977.941 349.519 Q971.946 349.519 968.775 344.936 Q965.603 340.329 965.603 331.603 Q965.603 323.408 969.492 318.547 Q973.381 313.663 979.932 313.663 Q981.691 313.663 983.474 314.01 Q985.279 314.357 987.224 315.052 Z\" fill=\"#000000\" fill-rule=\"evenodd\" fill-opacity=\"1\" /><path clip-path=\"url(#clip850)\" d=\"M1269.51 332.436 Q1266.18 332.436 1264.26 334.218 Q1262.36 336.001 1262.36 339.126 Q1262.36 342.251 1264.26 344.033 Q1266.18 345.815 1269.51 345.815 Q1272.85 345.815 1274.77 344.033 Q1276.69 342.228 1276.69 339.126 Q1276.69 336.001 1274.77 334.218 Q1272.87 332.436 1269.51 332.436 M1264.84 330.445 Q1261.83 329.704 1260.14 327.644 Q1258.47 325.584 1258.47 322.621 Q1258.47 318.478 1261.41 316.07 Q1264.38 313.663 1269.51 313.663 Q1274.68 313.663 1277.62 316.07 Q1280.56 318.478 1280.56 322.621 Q1280.56 325.584 1278.87 327.644 Q1277.2 329.704 1274.21 330.445 Q1277.59 331.232 1279.47 333.524 Q1281.37 335.816 1281.37 339.126 Q1281.37 344.149 1278.29 346.834 Q1275.23 349.519 1269.51 349.519 Q1263.8 349.519 1260.72 346.834 Q1257.66 344.149 1257.66 339.126 Q1257.66 335.816 1259.56 333.524 Q1261.46 331.232 1264.84 330.445 M1263.13 323.061 Q1263.13 325.746 1264.79 327.251 Q1266.48 328.755 1269.51 328.755 Q1272.52 328.755 1274.21 327.251 Q1275.93 325.746 1275.93 323.061 Q1275.93 320.376 1274.21 318.871 Q1272.52 317.367 1269.51 317.367 Q1266.48 317.367 1264.79 318.871 Q1263.13 320.376 1263.13 323.061 Z\" fill=\"#000000\" fill-rule=\"evenodd\" fill-opacity=\"1\" /><path clip-path=\"url(#clip850)\" d=\"M1536.18 344.913 L1543.82 344.913 L1543.82 318.547 L1535.51 320.214 L1535.51 315.955 L1543.77 314.288 L1548.45 314.288 L1548.45 344.913 L1556.09 344.913 L1556.09 348.848 L1536.18 348.848 L1536.18 344.913 Z\" fill=\"#000000\" fill-rule=\"evenodd\" fill-opacity=\"1\" /><path clip-path=\"url(#clip850)\" d=\"M1575.53 317.367 Q1571.92 317.367 1570.09 320.931 Q1568.29 324.473 1568.29 331.603 Q1568.29 338.709 1570.09 342.274 Q1571.92 345.815 1575.53 345.815 Q1579.17 345.815 1580.97 342.274 Q1582.8 338.709 1582.8 331.603 Q1582.8 324.473 1580.97 320.931 Q1579.17 317.367 1575.53 317.367 M1575.53 313.663 Q1581.34 313.663 1584.4 318.269 Q1587.48 322.853 1587.48 331.603 Q1587.48 340.329 1584.4 344.936 Q1581.34 349.519 1575.53 349.519 Q1569.72 349.519 1566.64 344.936 Q1563.59 340.329 1563.59 331.603 Q1563.59 322.853 1566.64 318.269 Q1569.72 313.663 1575.53 313.663 Z\" fill=\"#000000\" fill-rule=\"evenodd\" fill-opacity=\"1\" /><path clip-path=\"url(#clip850)\" d=\"M1828.96 344.913 L1836.6 344.913 L1836.6 318.547 L1828.29 320.214 L1828.29 315.955 L1836.55 314.288 L1841.23 314.288 L1841.23 344.913 L1848.87 344.913 L1848.87 348.848 L1828.96 348.848 L1828.96 344.913 Z\" fill=\"#000000\" fill-rule=\"evenodd\" fill-opacity=\"1\" /><path clip-path=\"url(#clip850)\" d=\"M1862.34 344.913 L1878.66 344.913 L1878.66 348.848 L1856.71 348.848 L1856.71 344.913 Q1859.38 342.158 1863.96 337.528 Q1868.56 332.876 1869.75 331.533 Q1871.99 329.01 1872.87 327.274 Q1873.77 325.515 1873.77 323.825 Q1873.77 321.07 1871.83 319.334 Q1869.91 317.598 1866.81 317.598 Q1864.61 317.598 1862.15 318.362 Q1859.72 319.126 1856.94 320.677 L1856.94 315.955 Q1859.77 314.82 1862.22 314.242 Q1864.68 313.663 1866.71 313.663 Q1872.08 313.663 1875.28 316.348 Q1878.47 319.033 1878.47 323.524 Q1878.47 325.654 1877.66 327.575 Q1876.87 329.473 1874.77 332.066 Q1874.19 332.737 1871.09 335.954 Q1867.99 339.149 1862.34 344.913 Z\" fill=\"#000000\" fill-rule=\"evenodd\" fill-opacity=\"1\" /><path clip-path=\"url(#clip850)\" d=\"M2119.9 344.913 L2127.53 344.913 L2127.53 318.547 L2119.22 320.214 L2119.22 315.955 L2127.49 314.288 L2132.16 314.288 L2132.16 344.913 L2139.8 344.913 L2139.8 348.848 L2119.9 348.848 L2119.9 344.913 Z\" fill=\"#000000\" fill-rule=\"evenodd\" fill-opacity=\"1\" /><path clip-path=\"url(#clip850)\" d=\"M2162.09 318.362 L2150.29 336.811 L2162.09 336.811 L2162.09 318.362 M2160.87 314.288 L2166.75 314.288 L2166.75 336.811 L2171.68 336.811 L2171.68 340.7 L2166.75 340.7 L2166.75 348.848 L2162.09 348.848 L2162.09 340.7 L2146.49 340.7 L2146.49 336.186 L2160.87 314.288 Z\" fill=\"#000000\" fill-rule=\"evenodd\" fill-opacity=\"1\" /><polyline clip-path=\"url(#clip852)\" style=\"stroke:#000000; stroke-linecap:butt; stroke-linejoin:round; stroke-width:2; stroke-opacity:0.1; fill:none\" points=\"\n",
       "  186.274,254.186 2352.76,254.186 \n",
       "  \"/>\n",
       "<polyline clip-path=\"url(#clip852)\" style=\"stroke:#000000; stroke-linecap:butt; stroke-linejoin:round; stroke-width:2; stroke-opacity:0.1; fill:none\" points=\"\n",
       "  186.274,201.994 2352.76,201.994 \n",
       "  \"/>\n",
       "<polyline clip-path=\"url(#clip852)\" style=\"stroke:#000000; stroke-linecap:butt; stroke-linejoin:round; stroke-width:2; stroke-opacity:0.1; fill:none\" points=\"\n",
       "  186.274,149.802 2352.76,149.802 \n",
       "  \"/>\n",
       "<polyline clip-path=\"url(#clip852)\" style=\"stroke:#000000; stroke-linecap:butt; stroke-linejoin:round; stroke-width:2; stroke-opacity:0.1; fill:none\" points=\"\n",
       "  186.274,97.6098 2352.76,97.6098 \n",
       "  \"/>\n",
       "<polyline clip-path=\"url(#clip850)\" style=\"stroke:#000000; stroke-linecap:butt; stroke-linejoin:round; stroke-width:4; stroke-opacity:1; fill:none\" points=\"\n",
       "  186.274,286.448 186.274,47.2441 \n",
       "  \"/>\n",
       "<polyline clip-path=\"url(#clip850)\" style=\"stroke:#000000; stroke-linecap:butt; stroke-linejoin:round; stroke-width:4; stroke-opacity:1; fill:none\" points=\"\n",
       "  186.274,254.186 205.172,254.186 \n",
       "  \"/>\n",
       "<polyline clip-path=\"url(#clip850)\" style=\"stroke:#000000; stroke-linecap:butt; stroke-linejoin:round; stroke-width:4; stroke-opacity:1; fill:none\" points=\"\n",
       "  186.274,201.994 205.172,201.994 \n",
       "  \"/>\n",
       "<polyline clip-path=\"url(#clip850)\" style=\"stroke:#000000; stroke-linecap:butt; stroke-linejoin:round; stroke-width:4; stroke-opacity:1; fill:none\" points=\"\n",
       "  186.274,149.802 205.172,149.802 \n",
       "  \"/>\n",
       "<polyline clip-path=\"url(#clip850)\" style=\"stroke:#000000; stroke-linecap:butt; stroke-linejoin:round; stroke-width:4; stroke-opacity:1; fill:none\" points=\"\n",
       "  186.274,97.6098 205.172,97.6098 \n",
       "  \"/>\n",
       "<path clip-path=\"url(#clip850)\" d=\"M94.6956 239.985 Q91.0845 239.985 89.2558 243.549 Q87.4503 247.091 87.4503 254.221 Q87.4503 261.327 89.2558 264.892 Q91.0845 268.434 94.6956 268.434 Q98.3298 268.434 100.135 264.892 Q101.964 261.327 101.964 254.221 Q101.964 247.091 100.135 243.549 Q98.3298 239.985 94.6956 239.985 M94.6956 236.281 Q100.506 236.281 103.561 240.887 Q106.64 245.471 106.64 254.221 Q106.64 262.947 103.561 267.554 Q100.506 272.137 94.6956 272.137 Q88.8854 272.137 85.8068 267.554 Q82.7512 262.947 82.7512 254.221 Q82.7512 245.471 85.8068 240.887 Q88.8854 236.281 94.6956 236.281 Z\" fill=\"#000000\" fill-rule=\"evenodd\" fill-opacity=\"1\" /><path clip-path=\"url(#clip850)\" d=\"M114.858 265.586 L119.742 265.586 L119.742 271.466 L114.858 271.466 L114.858 265.586 Z\" fill=\"#000000\" fill-rule=\"evenodd\" fill-opacity=\"1\" /><path clip-path=\"url(#clip850)\" d=\"M133.955 267.531 L150.274 267.531 L150.274 271.466 L128.33 271.466 L128.33 267.531 Q130.992 264.776 135.575 260.147 Q140.181 255.494 141.362 254.151 Q143.607 251.628 144.487 249.892 Q145.39 248.133 145.39 246.443 Q145.39 243.688 143.445 241.952 Q141.524 240.216 138.422 240.216 Q136.223 240.216 133.769 240.98 Q131.339 241.744 128.561 243.295 L128.561 238.573 Q131.385 237.438 133.839 236.86 Q136.293 236.281 138.33 236.281 Q143.7 236.281 146.894 238.966 Q150.089 241.651 150.089 246.142 Q150.089 248.272 149.279 250.193 Q148.492 252.091 146.385 254.684 Q145.806 255.355 142.705 258.572 Q139.603 261.767 133.955 267.531 Z\" fill=\"#000000\" fill-rule=\"evenodd\" fill-opacity=\"1\" /><path clip-path=\"url(#clip850)\" d=\"M92.6123 187.793 Q89.0012 187.793 87.1725 191.357 Q85.3669 194.899 85.3669 202.029 Q85.3669 209.135 87.1725 212.7 Q89.0012 216.241 92.6123 216.241 Q96.2465 216.241 98.0521 212.7 Q99.8808 209.135 99.8808 202.029 Q99.8808 194.899 98.0521 191.357 Q96.2465 187.793 92.6123 187.793 M92.6123 184.089 Q98.4224 184.089 101.478 188.695 Q104.557 193.279 104.557 202.029 Q104.557 210.755 101.478 215.362 Q98.4224 219.945 92.6123 219.945 Q86.8021 219.945 83.7234 215.362 Q80.6679 210.755 80.6679 202.029 Q80.6679 193.279 83.7234 188.695 Q86.8021 184.089 92.6123 184.089 Z\" fill=\"#000000\" fill-rule=\"evenodd\" fill-opacity=\"1\" /><path clip-path=\"url(#clip850)\" d=\"M112.774 213.394 L117.658 213.394 L117.658 219.274 L112.774 219.274 L112.774 213.394 Z\" fill=\"#000000\" fill-rule=\"evenodd\" fill-opacity=\"1\" /><path clip-path=\"url(#clip850)\" d=\"M140.691 188.788 L128.885 207.237 L140.691 207.237 L140.691 188.788 M139.464 184.714 L145.343 184.714 L145.343 207.237 L150.274 207.237 L150.274 211.126 L145.343 211.126 L145.343 219.274 L140.691 219.274 L140.691 211.126 L125.089 211.126 L125.089 206.612 L139.464 184.714 Z\" fill=\"#000000\" fill-rule=\"evenodd\" fill-opacity=\"1\" /><path clip-path=\"url(#clip850)\" d=\"M92.9363 135.601 Q89.3253 135.601 87.4966 139.165 Q85.691 142.707 85.691 149.837 Q85.691 156.943 87.4966 160.508 Q89.3253 164.049 92.9363 164.049 Q96.5706 164.049 98.3761 160.508 Q100.205 156.943 100.205 149.837 Q100.205 142.707 98.3761 139.165 Q96.5706 135.601 92.9363 135.601 M92.9363 131.897 Q98.7465 131.897 101.802 136.503 Q104.881 141.087 104.881 149.837 Q104.881 158.563 101.802 163.17 Q98.7465 167.753 92.9363 167.753 Q87.1262 167.753 84.0475 163.17 Q80.992 158.563 80.992 149.837 Q80.992 141.087 84.0475 136.503 Q87.1262 131.897 92.9363 131.897 Z\" fill=\"#000000\" fill-rule=\"evenodd\" fill-opacity=\"1\" /><path clip-path=\"url(#clip850)\" d=\"M113.098 161.202 L117.983 161.202 L117.983 167.082 L113.098 167.082 L113.098 161.202 Z\" fill=\"#000000\" fill-rule=\"evenodd\" fill-opacity=\"1\" /><path clip-path=\"url(#clip850)\" d=\"M138.746 147.938 Q135.598 147.938 133.746 150.091 Q131.918 152.244 131.918 155.994 Q131.918 159.721 133.746 161.897 Q135.598 164.049 138.746 164.049 Q141.894 164.049 143.723 161.897 Q145.575 159.721 145.575 155.994 Q145.575 152.244 143.723 150.091 Q141.894 147.938 138.746 147.938 M148.029 133.286 L148.029 137.545 Q146.269 136.712 144.464 136.272 Q142.681 135.832 140.922 135.832 Q136.293 135.832 133.839 138.957 Q131.408 142.082 131.061 148.401 Q132.427 146.388 134.487 145.323 Q136.547 144.235 139.024 144.235 Q144.232 144.235 147.242 147.406 Q150.274 150.554 150.274 155.994 Q150.274 161.318 147.126 164.536 Q143.978 167.753 138.746 167.753 Q132.751 167.753 129.58 163.17 Q126.408 158.563 126.408 149.837 Q126.408 141.642 130.297 136.781 Q134.186 131.897 140.737 131.897 Q142.496 131.897 144.279 132.244 Q146.084 132.591 148.029 133.286 Z\" fill=\"#000000\" fill-rule=\"evenodd\" fill-opacity=\"1\" /><path clip-path=\"url(#clip850)\" d=\"M93.191 83.4085 Q89.5799 83.4085 87.7512 86.9733 Q85.9456 90.515 85.9456 97.6446 Q85.9456 104.751 87.7512 108.316 Q89.5799 111.857 93.191 111.857 Q96.8252 111.857 98.6308 108.316 Q100.459 104.751 100.459 97.6446 Q100.459 90.515 98.6308 86.9733 Q96.8252 83.4085 93.191 83.4085 M93.191 79.7048 Q99.0011 79.7048 102.057 84.3113 Q105.135 88.8946 105.135 97.6446 Q105.135 106.371 102.057 110.978 Q99.0011 115.561 93.191 115.561 Q87.3808 115.561 84.3021 110.978 Q81.2466 106.371 81.2466 97.6446 Q81.2466 88.8946 84.3021 84.3113 Q87.3808 79.7048 93.191 79.7048 Z\" fill=\"#000000\" fill-rule=\"evenodd\" fill-opacity=\"1\" /><path clip-path=\"url(#clip850)\" d=\"M113.353 109.01 L118.237 109.01 L118.237 114.89 L113.353 114.89 L113.353 109.01 Z\" fill=\"#000000\" fill-rule=\"evenodd\" fill-opacity=\"1\" /><path clip-path=\"url(#clip850)\" d=\"M138.422 98.4779 Q135.089 98.4779 133.168 100.26 Q131.269 102.043 131.269 105.168 Q131.269 108.293 133.168 110.075 Q135.089 111.857 138.422 111.857 Q141.756 111.857 143.677 110.075 Q145.598 108.269 145.598 105.168 Q145.598 102.043 143.677 100.26 Q141.779 98.4779 138.422 98.4779 M133.746 96.4872 Q130.737 95.7464 129.047 93.6862 Q127.381 91.6261 127.381 88.6631 Q127.381 84.5196 130.32 82.1122 Q133.283 79.7048 138.422 79.7048 Q143.584 79.7048 146.524 82.1122 Q149.464 84.5196 149.464 88.6631 Q149.464 91.6261 147.774 93.6862 Q146.107 95.7464 143.121 96.4872 Q146.501 97.2742 148.376 99.5658 Q150.274 101.857 150.274 105.168 Q150.274 110.191 147.195 112.876 Q144.14 115.561 138.422 115.561 Q132.705 115.561 129.626 112.876 Q126.57 110.191 126.57 105.168 Q126.57 101.857 128.469 99.5658 Q130.367 97.2742 133.746 96.4872 M132.033 89.1029 Q132.033 91.7881 133.7 93.2927 Q135.39 94.7973 138.422 94.7973 Q141.431 94.7973 143.121 93.2927 Q144.834 91.7881 144.834 89.1029 Q144.834 86.4178 143.121 84.9131 Q141.431 83.4085 138.422 83.4085 Q135.39 83.4085 133.7 84.9131 Q132.033 86.4178 132.033 89.1029 Z\" fill=\"#000000\" fill-rule=\"evenodd\" fill-opacity=\"1\" /><polyline clip-path=\"url(#clip852)\" style=\"stroke:#009af9; stroke-linecap:butt; stroke-linejoin:round; stroke-width:4; stroke-opacity:1; fill:none\" points=\"\n",
       "  247.59,227.793 393.579,54.014 539.568,201.909 685.558,241.207 831.547,274.944 977.536,122.283 1123.53,272.071 1269.51,238.013 1415.5,198.202 1561.49,279.678 \n",
       "  1707.48,191.153 1853.47,268.972 1999.46,213.293 2145.45,137.575 2291.44,131.421 \n",
       "  \"/>\n",
       "<path clip-path=\"url(#clip850)\" d=\"\n",
       "M1987.39 158.898 L2280.54 158.898 L2280.54 55.2176 L1987.39 55.2176  Z\n",
       "  \" fill=\"#ffffff\" fill-rule=\"evenodd\" fill-opacity=\"1\"/>\n",
       "<polyline clip-path=\"url(#clip850)\" style=\"stroke:#000000; stroke-linecap:butt; stroke-linejoin:round; stroke-width:4; stroke-opacity:1; fill:none\" points=\"\n",
       "  1987.39,158.898 2280.54,158.898 2280.54,55.2176 1987.39,55.2176 1987.39,158.898 \n",
       "  \"/>\n",
       "<polyline clip-path=\"url(#clip850)\" style=\"stroke:#009af9; stroke-linecap:butt; stroke-linejoin:round; stroke-width:4; stroke-opacity:1; fill:none\" points=\"\n",
       "  2011.46,107.058 2155.89,107.058 \n",
       "  \"/>\n",
       "<path clip-path=\"url(#clip850)\" d=\"M2193.81 126.745 Q2192 131.375 2190.29 132.787 Q2188.58 134.199 2185.71 134.199 L2182.3 134.199 L2182.3 130.634 L2184.8 130.634 Q2186.56 130.634 2187.53 129.8 Q2188.51 128.967 2189.69 125.865 L2190.45 123.921 L2179.97 98.4118 L2184.48 98.4118 L2192.58 118.689 L2200.68 98.4118 L2205.2 98.4118 L2193.81 126.745 Z\" fill=\"#000000\" fill-rule=\"evenodd\" fill-opacity=\"1\" /><path clip-path=\"url(#clip850)\" d=\"M2212.49 120.402 L2220.13 120.402 L2220.13 94.0368 L2211.82 95.7034 L2211.82 91.4442 L2220.08 89.7776 L2224.76 89.7776 L2224.76 120.402 L2232.4 120.402 L2232.4 124.338 L2212.49 124.338 L2212.49 120.402 Z\" fill=\"#000000\" fill-rule=\"evenodd\" fill-opacity=\"1\" /><path clip-path=\"url(#clip850)\" d=\"\n",
       "M186.274 686.448 L2352.76 686.448 L2352.76 447.244 L186.274 447.244  Z\n",
       "  \" fill=\"#ffffff\" fill-rule=\"evenodd\" fill-opacity=\"1\"/>\n",
       "<defs>\n",
       "  <clipPath id=\"clip853\">\n",
       "    <rect x=\"186\" y=\"447\" width=\"2167\" height=\"240\"/>\n",
       "  </clipPath>\n",
       "</defs>\n",
       "<polyline clip-path=\"url(#clip853)\" style=\"stroke:#000000; stroke-linecap:butt; stroke-linejoin:round; stroke-width:2; stroke-opacity:0.1; fill:none\" points=\"\n",
       "  393.579,686.448 393.579,447.244 \n",
       "  \"/>\n",
       "<polyline clip-path=\"url(#clip853)\" style=\"stroke:#000000; stroke-linecap:butt; stroke-linejoin:round; stroke-width:2; stroke-opacity:0.1; fill:none\" points=\"\n",
       "  685.558,686.448 685.558,447.244 \n",
       "  \"/>\n",
       "<polyline clip-path=\"url(#clip853)\" style=\"stroke:#000000; stroke-linecap:butt; stroke-linejoin:round; stroke-width:2; stroke-opacity:0.1; fill:none\" points=\"\n",
       "  977.536,686.448 977.536,447.244 \n",
       "  \"/>\n",
       "<polyline clip-path=\"url(#clip853)\" style=\"stroke:#000000; stroke-linecap:butt; stroke-linejoin:round; stroke-width:2; stroke-opacity:0.1; fill:none\" points=\"\n",
       "  1269.51,686.448 1269.51,447.244 \n",
       "  \"/>\n",
       "<polyline clip-path=\"url(#clip853)\" style=\"stroke:#000000; stroke-linecap:butt; stroke-linejoin:round; stroke-width:2; stroke-opacity:0.1; fill:none\" points=\"\n",
       "  1561.49,686.448 1561.49,447.244 \n",
       "  \"/>\n",
       "<polyline clip-path=\"url(#clip853)\" style=\"stroke:#000000; stroke-linecap:butt; stroke-linejoin:round; stroke-width:2; stroke-opacity:0.1; fill:none\" points=\"\n",
       "  1853.47,686.448 1853.47,447.244 \n",
       "  \"/>\n",
       "<polyline clip-path=\"url(#clip853)\" style=\"stroke:#000000; stroke-linecap:butt; stroke-linejoin:round; stroke-width:2; stroke-opacity:0.1; fill:none\" points=\"\n",
       "  2145.45,686.448 2145.45,447.244 \n",
       "  \"/>\n",
       "<polyline clip-path=\"url(#clip850)\" style=\"stroke:#000000; stroke-linecap:butt; stroke-linejoin:round; stroke-width:4; stroke-opacity:1; fill:none\" points=\"\n",
       "  186.274,686.448 2352.76,686.448 \n",
       "  \"/>\n",
       "<polyline clip-path=\"url(#clip850)\" style=\"stroke:#000000; stroke-linecap:butt; stroke-linejoin:round; stroke-width:4; stroke-opacity:1; fill:none\" points=\"\n",
       "  393.579,686.448 393.579,667.55 \n",
       "  \"/>\n",
       "<polyline clip-path=\"url(#clip850)\" style=\"stroke:#000000; stroke-linecap:butt; stroke-linejoin:round; stroke-width:4; stroke-opacity:1; fill:none\" points=\"\n",
       "  685.558,686.448 685.558,667.55 \n",
       "  \"/>\n",
       "<polyline clip-path=\"url(#clip850)\" style=\"stroke:#000000; stroke-linecap:butt; stroke-linejoin:round; stroke-width:4; stroke-opacity:1; fill:none\" points=\"\n",
       "  977.536,686.448 977.536,667.55 \n",
       "  \"/>\n",
       "<polyline clip-path=\"url(#clip850)\" style=\"stroke:#000000; stroke-linecap:butt; stroke-linejoin:round; stroke-width:4; stroke-opacity:1; fill:none\" points=\"\n",
       "  1269.51,686.448 1269.51,667.55 \n",
       "  \"/>\n",
       "<polyline clip-path=\"url(#clip850)\" style=\"stroke:#000000; stroke-linecap:butt; stroke-linejoin:round; stroke-width:4; stroke-opacity:1; fill:none\" points=\"\n",
       "  1561.49,686.448 1561.49,667.55 \n",
       "  \"/>\n",
       "<polyline clip-path=\"url(#clip850)\" style=\"stroke:#000000; stroke-linecap:butt; stroke-linejoin:round; stroke-width:4; stroke-opacity:1; fill:none\" points=\"\n",
       "  1853.47,686.448 1853.47,667.55 \n",
       "  \"/>\n",
       "<polyline clip-path=\"url(#clip850)\" style=\"stroke:#000000; stroke-linecap:butt; stroke-linejoin:round; stroke-width:4; stroke-opacity:1; fill:none\" points=\"\n",
       "  2145.45,686.448 2145.45,667.55 \n",
       "  \"/>\n",
       "<path clip-path=\"url(#clip850)\" d=\"M388.232 744.913 L404.551 744.913 L404.551 748.848 L382.607 748.848 L382.607 744.913 Q385.269 742.158 389.852 737.528 Q394.458 732.876 395.639 731.533 Q397.884 729.01 398.764 727.274 Q399.667 725.515 399.667 723.825 Q399.667 721.07 397.722 719.334 Q395.801 717.598 392.699 717.598 Q390.5 717.598 388.046 718.362 Q385.616 719.126 382.838 720.677 L382.838 715.955 Q385.662 714.82 388.116 714.242 Q390.57 713.663 392.607 713.663 Q397.977 713.663 401.171 716.348 Q404.366 719.033 404.366 723.524 Q404.366 725.654 403.556 727.575 Q402.769 729.473 400.662 732.066 Q400.083 732.737 396.982 735.954 Q393.88 739.149 388.232 744.913 Z\" fill=\"#000000\" fill-rule=\"evenodd\" fill-opacity=\"1\" /><path clip-path=\"url(#clip850)\" d=\"M688.567 718.362 L676.761 736.811 L688.567 736.811 L688.567 718.362 M687.34 714.288 L693.22 714.288 L693.22 736.811 L698.15 736.811 L698.15 740.7 L693.22 740.7 L693.22 748.848 L688.567 748.848 L688.567 740.7 L672.965 740.7 L672.965 736.186 L687.34 714.288 Z\" fill=\"#000000\" fill-rule=\"evenodd\" fill-opacity=\"1\" /><path clip-path=\"url(#clip850)\" d=\"M977.941 729.704 Q974.793 729.704 972.941 731.857 Q971.113 734.01 971.113 737.76 Q971.113 741.487 972.941 743.663 Q974.793 745.815 977.941 745.815 Q981.089 745.815 982.918 743.663 Q984.77 741.487 984.77 737.76 Q984.77 734.01 982.918 731.857 Q981.089 729.704 977.941 729.704 M987.224 715.052 L987.224 719.311 Q985.464 718.478 983.659 718.038 Q981.877 717.598 980.117 717.598 Q975.488 717.598 973.034 720.723 Q970.603 723.848 970.256 730.167 Q971.622 728.154 973.682 727.089 Q975.742 726.001 978.219 726.001 Q983.427 726.001 986.437 729.172 Q989.469 732.32 989.469 737.76 Q989.469 743.084 986.321 746.302 Q983.173 749.519 977.941 749.519 Q971.946 749.519 968.775 744.936 Q965.603 740.329 965.603 731.603 Q965.603 723.408 969.492 718.547 Q973.381 713.663 979.932 713.663 Q981.691 713.663 983.474 714.01 Q985.279 714.357 987.224 715.052 Z\" fill=\"#000000\" fill-rule=\"evenodd\" fill-opacity=\"1\" /><path clip-path=\"url(#clip850)\" d=\"M1269.51 732.436 Q1266.18 732.436 1264.26 734.218 Q1262.36 736.001 1262.36 739.126 Q1262.36 742.251 1264.26 744.033 Q1266.18 745.815 1269.51 745.815 Q1272.85 745.815 1274.77 744.033 Q1276.69 742.228 1276.69 739.126 Q1276.69 736.001 1274.77 734.218 Q1272.87 732.436 1269.51 732.436 M1264.84 730.445 Q1261.83 729.704 1260.14 727.644 Q1258.47 725.584 1258.47 722.621 Q1258.47 718.478 1261.41 716.07 Q1264.38 713.663 1269.51 713.663 Q1274.68 713.663 1277.62 716.07 Q1280.56 718.478 1280.56 722.621 Q1280.56 725.584 1278.87 727.644 Q1277.2 729.704 1274.21 730.445 Q1277.59 731.232 1279.47 733.524 Q1281.37 735.816 1281.37 739.126 Q1281.37 744.149 1278.29 746.834 Q1275.23 749.519 1269.51 749.519 Q1263.8 749.519 1260.72 746.834 Q1257.66 744.149 1257.66 739.126 Q1257.66 735.816 1259.56 733.524 Q1261.46 731.232 1264.84 730.445 M1263.13 723.061 Q1263.13 725.746 1264.79 727.251 Q1266.48 728.755 1269.51 728.755 Q1272.52 728.755 1274.21 727.251 Q1275.93 725.746 1275.93 723.061 Q1275.93 720.376 1274.21 718.871 Q1272.52 717.367 1269.51 717.367 Q1266.48 717.367 1264.79 718.871 Q1263.13 720.376 1263.13 723.061 Z\" fill=\"#000000\" fill-rule=\"evenodd\" fill-opacity=\"1\" /><path clip-path=\"url(#clip850)\" d=\"M1536.18 744.913 L1543.82 744.913 L1543.82 718.547 L1535.51 720.214 L1535.51 715.955 L1543.77 714.288 L1548.45 714.288 L1548.45 744.913 L1556.09 744.913 L1556.09 748.848 L1536.18 748.848 L1536.18 744.913 Z\" fill=\"#000000\" fill-rule=\"evenodd\" fill-opacity=\"1\" /><path clip-path=\"url(#clip850)\" d=\"M1575.53 717.367 Q1571.92 717.367 1570.09 720.931 Q1568.29 724.473 1568.29 731.603 Q1568.29 738.709 1570.09 742.274 Q1571.92 745.815 1575.53 745.815 Q1579.17 745.815 1580.97 742.274 Q1582.8 738.709 1582.8 731.603 Q1582.8 724.473 1580.97 720.931 Q1579.17 717.367 1575.53 717.367 M1575.53 713.663 Q1581.34 713.663 1584.4 718.269 Q1587.48 722.853 1587.48 731.603 Q1587.48 740.329 1584.4 744.936 Q1581.34 749.519 1575.53 749.519 Q1569.72 749.519 1566.64 744.936 Q1563.59 740.329 1563.59 731.603 Q1563.59 722.853 1566.64 718.269 Q1569.72 713.663 1575.53 713.663 Z\" fill=\"#000000\" fill-rule=\"evenodd\" fill-opacity=\"1\" /><path clip-path=\"url(#clip850)\" d=\"M1828.96 744.913 L1836.6 744.913 L1836.6 718.547 L1828.29 720.214 L1828.29 715.955 L1836.55 714.288 L1841.23 714.288 L1841.23 744.913 L1848.87 744.913 L1848.87 748.848 L1828.96 748.848 L1828.96 744.913 Z\" fill=\"#000000\" fill-rule=\"evenodd\" fill-opacity=\"1\" /><path clip-path=\"url(#clip850)\" d=\"M1862.34 744.913 L1878.66 744.913 L1878.66 748.848 L1856.71 748.848 L1856.71 744.913 Q1859.38 742.158 1863.96 737.528 Q1868.56 732.876 1869.75 731.533 Q1871.99 729.01 1872.87 727.274 Q1873.77 725.515 1873.77 723.825 Q1873.77 721.07 1871.83 719.334 Q1869.91 717.598 1866.81 717.598 Q1864.61 717.598 1862.15 718.362 Q1859.72 719.126 1856.94 720.677 L1856.94 715.955 Q1859.77 714.82 1862.22 714.242 Q1864.68 713.663 1866.71 713.663 Q1872.08 713.663 1875.28 716.348 Q1878.47 719.033 1878.47 723.524 Q1878.47 725.654 1877.66 727.575 Q1876.87 729.473 1874.77 732.066 Q1874.19 732.737 1871.09 735.954 Q1867.99 739.149 1862.34 744.913 Z\" fill=\"#000000\" fill-rule=\"evenodd\" fill-opacity=\"1\" /><path clip-path=\"url(#clip850)\" d=\"M2119.9 744.913 L2127.53 744.913 L2127.53 718.547 L2119.22 720.214 L2119.22 715.955 L2127.49 714.288 L2132.16 714.288 L2132.16 744.913 L2139.8 744.913 L2139.8 748.848 L2119.9 748.848 L2119.9 744.913 Z\" fill=\"#000000\" fill-rule=\"evenodd\" fill-opacity=\"1\" /><path clip-path=\"url(#clip850)\" d=\"M2162.09 718.362 L2150.29 736.811 L2162.09 736.811 L2162.09 718.362 M2160.87 714.288 L2166.75 714.288 L2166.75 736.811 L2171.68 736.811 L2171.68 740.7 L2166.75 740.7 L2166.75 748.848 L2162.09 748.848 L2162.09 740.7 L2146.49 740.7 L2146.49 736.186 L2160.87 714.288 Z\" fill=\"#000000\" fill-rule=\"evenodd\" fill-opacity=\"1\" /><polyline clip-path=\"url(#clip853)\" style=\"stroke:#000000; stroke-linecap:butt; stroke-linejoin:round; stroke-width:2; stroke-opacity:0.1; fill:none\" points=\"\n",
       "  186.274,685.879 2352.76,685.879 \n",
       "  \"/>\n",
       "<polyline clip-path=\"url(#clip853)\" style=\"stroke:#000000; stroke-linecap:butt; stroke-linejoin:round; stroke-width:2; stroke-opacity:0.1; fill:none\" points=\"\n",
       "  186.274,647.651 2352.76,647.651 \n",
       "  \"/>\n",
       "<polyline clip-path=\"url(#clip853)\" style=\"stroke:#000000; stroke-linecap:butt; stroke-linejoin:round; stroke-width:2; stroke-opacity:0.1; fill:none\" points=\"\n",
       "  186.274,609.424 2352.76,609.424 \n",
       "  \"/>\n",
       "<polyline clip-path=\"url(#clip853)\" style=\"stroke:#000000; stroke-linecap:butt; stroke-linejoin:round; stroke-width:2; stroke-opacity:0.1; fill:none\" points=\"\n",
       "  186.274,571.196 2352.76,571.196 \n",
       "  \"/>\n",
       "<polyline clip-path=\"url(#clip853)\" style=\"stroke:#000000; stroke-linecap:butt; stroke-linejoin:round; stroke-width:2; stroke-opacity:0.1; fill:none\" points=\"\n",
       "  186.274,532.969 2352.76,532.969 \n",
       "  \"/>\n",
       "<polyline clip-path=\"url(#clip853)\" style=\"stroke:#000000; stroke-linecap:butt; stroke-linejoin:round; stroke-width:2; stroke-opacity:0.1; fill:none\" points=\"\n",
       "  186.274,494.741 2352.76,494.741 \n",
       "  \"/>\n",
       "<polyline clip-path=\"url(#clip853)\" style=\"stroke:#000000; stroke-linecap:butt; stroke-linejoin:round; stroke-width:2; stroke-opacity:0.1; fill:none\" points=\"\n",
       "  186.274,456.514 2352.76,456.514 \n",
       "  \"/>\n",
       "<polyline clip-path=\"url(#clip850)\" style=\"stroke:#000000; stroke-linecap:butt; stroke-linejoin:round; stroke-width:4; stroke-opacity:1; fill:none\" points=\"\n",
       "  186.274,686.448 186.274,447.244 \n",
       "  \"/>\n",
       "<polyline clip-path=\"url(#clip850)\" style=\"stroke:#000000; stroke-linecap:butt; stroke-linejoin:round; stroke-width:4; stroke-opacity:1; fill:none\" points=\"\n",
       "  186.274,685.879 205.172,685.879 \n",
       "  \"/>\n",
       "<polyline clip-path=\"url(#clip850)\" style=\"stroke:#000000; stroke-linecap:butt; stroke-linejoin:round; stroke-width:4; stroke-opacity:1; fill:none\" points=\"\n",
       "  186.274,647.651 205.172,647.651 \n",
       "  \"/>\n",
       "<polyline clip-path=\"url(#clip850)\" style=\"stroke:#000000; stroke-linecap:butt; stroke-linejoin:round; stroke-width:4; stroke-opacity:1; fill:none\" points=\"\n",
       "  186.274,609.424 205.172,609.424 \n",
       "  \"/>\n",
       "<polyline clip-path=\"url(#clip850)\" style=\"stroke:#000000; stroke-linecap:butt; stroke-linejoin:round; stroke-width:4; stroke-opacity:1; fill:none\" points=\"\n",
       "  186.274,571.196 205.172,571.196 \n",
       "  \"/>\n",
       "<polyline clip-path=\"url(#clip850)\" style=\"stroke:#000000; stroke-linecap:butt; stroke-linejoin:round; stroke-width:4; stroke-opacity:1; fill:none\" points=\"\n",
       "  186.274,532.969 205.172,532.969 \n",
       "  \"/>\n",
       "<polyline clip-path=\"url(#clip850)\" style=\"stroke:#000000; stroke-linecap:butt; stroke-linejoin:round; stroke-width:4; stroke-opacity:1; fill:none\" points=\"\n",
       "  186.274,494.741 205.172,494.741 \n",
       "  \"/>\n",
       "<polyline clip-path=\"url(#clip850)\" style=\"stroke:#000000; stroke-linecap:butt; stroke-linejoin:round; stroke-width:4; stroke-opacity:1; fill:none\" points=\"\n",
       "  186.274,456.514 205.172,456.514 \n",
       "  \"/>\n",
       "<path clip-path=\"url(#clip850)\" d=\"M93.7465 671.677 Q90.1354 671.677 88.3067 675.242 Q86.5012 678.784 86.5012 685.913 Q86.5012 693.02 88.3067 696.585 Q90.1354 700.126 93.7465 700.126 Q97.3808 700.126 99.1863 696.585 Q101.015 693.02 101.015 685.913 Q101.015 678.784 99.1863 675.242 Q97.3808 671.677 93.7465 671.677 M93.7465 667.974 Q99.5567 667.974 102.612 672.58 Q105.691 677.163 105.691 685.913 Q105.691 694.64 102.612 699.247 Q99.5567 703.83 93.7465 703.83 Q87.9364 703.83 84.8577 699.247 Q81.8021 694.64 81.8021 685.913 Q81.8021 677.163 84.8577 672.58 Q87.9364 667.974 93.7465 667.974 Z\" fill=\"#000000\" fill-rule=\"evenodd\" fill-opacity=\"1\" /><path clip-path=\"url(#clip850)\" d=\"M113.908 697.279 L118.793 697.279 L118.793 703.159 L113.908 703.159 L113.908 697.279 Z\" fill=\"#000000\" fill-rule=\"evenodd\" fill-opacity=\"1\" /><path clip-path=\"url(#clip850)\" d=\"M143.144 684.524 Q146.501 685.242 148.376 687.511 Q150.274 689.779 150.274 693.112 Q150.274 698.228 146.756 701.029 Q143.237 703.83 136.756 703.83 Q134.58 703.83 132.265 703.39 Q129.973 702.973 127.519 702.117 L127.519 697.603 Q129.464 698.737 131.779 699.316 Q134.094 699.895 136.617 699.895 Q141.015 699.895 143.306 698.159 Q145.621 696.423 145.621 693.112 Q145.621 690.057 143.468 688.344 Q141.339 686.608 137.519 686.608 L133.492 686.608 L133.492 682.765 L137.705 682.765 Q141.154 682.765 142.982 681.399 Q144.811 680.011 144.811 677.418 Q144.811 674.756 142.913 673.344 Q141.038 671.909 137.519 671.909 Q135.598 671.909 133.399 672.325 Q131.2 672.742 128.561 673.622 L128.561 669.455 Q131.223 668.714 133.538 668.344 Q135.876 667.974 137.936 667.974 Q143.26 667.974 146.362 670.404 Q149.464 672.812 149.464 676.932 Q149.464 679.802 147.82 681.793 Q146.177 683.761 143.144 684.524 Z\" fill=\"#000000\" fill-rule=\"evenodd\" fill-opacity=\"1\" /><path clip-path=\"url(#clip850)\" d=\"M92.6123 633.45 Q89.0012 633.45 87.1725 637.015 Q85.3669 640.556 85.3669 647.686 Q85.3669 654.792 87.1725 658.357 Q89.0012 661.899 92.6123 661.899 Q96.2465 661.899 98.0521 658.357 Q99.8808 654.792 99.8808 647.686 Q99.8808 640.556 98.0521 637.015 Q96.2465 633.45 92.6123 633.45 M92.6123 629.746 Q98.4224 629.746 101.478 634.353 Q104.557 638.936 104.557 647.686 Q104.557 656.413 101.478 661.019 Q98.4224 665.602 92.6123 665.602 Q86.8021 665.602 83.7234 661.019 Q80.6679 656.413 80.6679 647.686 Q80.6679 638.936 83.7234 634.353 Q86.8021 629.746 92.6123 629.746 Z\" fill=\"#000000\" fill-rule=\"evenodd\" fill-opacity=\"1\" /><path clip-path=\"url(#clip850)\" d=\"M112.774 659.052 L117.658 659.052 L117.658 664.931 L112.774 664.931 L112.774 659.052 Z\" fill=\"#000000\" fill-rule=\"evenodd\" fill-opacity=\"1\" /><path clip-path=\"url(#clip850)\" d=\"M140.691 634.445 L128.885 652.894 L140.691 652.894 L140.691 634.445 M139.464 630.371 L145.343 630.371 L145.343 652.894 L150.274 652.894 L150.274 656.783 L145.343 656.783 L145.343 664.931 L140.691 664.931 L140.691 656.783 L125.089 656.783 L125.089 652.269 L139.464 630.371 Z\" fill=\"#000000\" fill-rule=\"evenodd\" fill-opacity=\"1\" /><path clip-path=\"url(#clip850)\" d=\"M94.0937 595.222 Q90.4827 595.222 88.654 598.787 Q86.8484 602.329 86.8484 609.458 Q86.8484 616.565 88.654 620.13 Q90.4827 623.671 94.0937 623.671 Q97.728 623.671 99.5335 620.13 Q101.362 616.565 101.362 609.458 Q101.362 602.329 99.5335 598.787 Q97.728 595.222 94.0937 595.222 M94.0937 591.519 Q99.9039 591.519 102.959 596.125 Q106.038 600.708 106.038 609.458 Q106.038 618.185 102.959 622.792 Q99.9039 627.375 94.0937 627.375 Q88.2836 627.375 85.2049 622.792 Q82.1494 618.185 82.1494 609.458 Q82.1494 600.708 85.2049 596.125 Q88.2836 591.519 94.0937 591.519 Z\" fill=\"#000000\" fill-rule=\"evenodd\" fill-opacity=\"1\" /><path clip-path=\"url(#clip850)\" d=\"M114.256 620.824 L119.14 620.824 L119.14 626.704 L114.256 626.704 L114.256 620.824 Z\" fill=\"#000000\" fill-rule=\"evenodd\" fill-opacity=\"1\" /><path clip-path=\"url(#clip850)\" d=\"M129.371 592.144 L147.728 592.144 L147.728 596.079 L133.654 596.079 L133.654 604.551 Q134.672 604.204 135.691 604.042 Q136.709 603.857 137.728 603.857 Q143.515 603.857 146.894 607.028 Q150.274 610.199 150.274 615.616 Q150.274 621.194 146.802 624.296 Q143.33 627.375 137.01 627.375 Q134.834 627.375 132.566 627.005 Q130.32 626.634 127.913 625.893 L127.913 621.194 Q129.996 622.329 132.219 622.884 Q134.441 623.44 136.918 623.44 Q140.922 623.44 143.26 621.333 Q145.598 619.227 145.598 615.616 Q145.598 612.005 143.26 609.898 Q140.922 607.792 136.918 607.792 Q135.043 607.792 133.168 608.208 Q131.316 608.625 129.371 609.505 L129.371 592.144 Z\" fill=\"#000000\" fill-rule=\"evenodd\" fill-opacity=\"1\" /><path clip-path=\"url(#clip850)\" d=\"M92.9363 556.995 Q89.3253 556.995 87.4966 560.56 Q85.691 564.101 85.691 571.231 Q85.691 578.337 87.4966 581.902 Q89.3253 585.444 92.9363 585.444 Q96.5706 585.444 98.3761 581.902 Q100.205 578.337 100.205 571.231 Q100.205 564.101 98.3761 560.56 Q96.5706 556.995 92.9363 556.995 M92.9363 553.291 Q98.7465 553.291 101.802 557.898 Q104.881 562.481 104.881 571.231 Q104.881 579.958 101.802 584.564 Q98.7465 589.147 92.9363 589.147 Q87.1262 589.147 84.0475 584.564 Q80.992 579.958 80.992 571.231 Q80.992 562.481 84.0475 557.898 Q87.1262 553.291 92.9363 553.291 Z\" fill=\"#000000\" fill-rule=\"evenodd\" fill-opacity=\"1\" /><path clip-path=\"url(#clip850)\" d=\"M113.098 582.597 L117.983 582.597 L117.983 588.476 L113.098 588.476 L113.098 582.597 Z\" fill=\"#000000\" fill-rule=\"evenodd\" fill-opacity=\"1\" /><path clip-path=\"url(#clip850)\" d=\"M138.746 569.333 Q135.598 569.333 133.746 571.486 Q131.918 573.638 131.918 577.388 Q131.918 581.115 133.746 583.291 Q135.598 585.444 138.746 585.444 Q141.894 585.444 143.723 583.291 Q145.575 581.115 145.575 577.388 Q145.575 573.638 143.723 571.486 Q141.894 569.333 138.746 569.333 M148.029 554.68 L148.029 558.939 Q146.269 558.106 144.464 557.666 Q142.681 557.226 140.922 557.226 Q136.293 557.226 133.839 560.351 Q131.408 563.476 131.061 569.796 Q132.427 567.782 134.487 566.717 Q136.547 565.629 139.024 565.629 Q144.232 565.629 147.242 568.8 Q150.274 571.948 150.274 577.388 Q150.274 582.712 147.126 585.93 Q143.978 589.147 138.746 589.147 Q132.751 589.147 129.58 584.564 Q126.408 579.958 126.408 571.231 Q126.408 563.036 130.297 558.175 Q134.186 553.291 140.737 553.291 Q142.496 553.291 144.279 553.638 Q146.084 553.986 148.029 554.68 Z\" fill=\"#000000\" fill-rule=\"evenodd\" fill-opacity=\"1\" /><path clip-path=\"url(#clip850)\" d=\"M94.0012 518.767 Q90.3901 518.767 88.5614 522.332 Q86.7558 525.874 86.7558 533.003 Q86.7558 540.11 88.5614 543.675 Q90.3901 547.216 94.0012 547.216 Q97.6354 547.216 99.4409 543.675 Q101.27 540.11 101.27 533.003 Q101.27 525.874 99.4409 522.332 Q97.6354 518.767 94.0012 518.767 M94.0012 515.064 Q99.8113 515.064 102.867 519.67 Q105.946 524.253 105.946 533.003 Q105.946 541.73 102.867 546.337 Q99.8113 550.92 94.0012 550.92 Q88.191 550.92 85.1123 546.337 Q82.0568 541.73 82.0568 533.003 Q82.0568 524.253 85.1123 519.67 Q88.191 515.064 94.0012 515.064 Z\" fill=\"#000000\" fill-rule=\"evenodd\" fill-opacity=\"1\" /><path clip-path=\"url(#clip850)\" d=\"M114.163 544.369 L119.047 544.369 L119.047 550.249 L114.163 550.249 L114.163 544.369 Z\" fill=\"#000000\" fill-rule=\"evenodd\" fill-opacity=\"1\" /><path clip-path=\"url(#clip850)\" d=\"M128.052 515.689 L150.274 515.689 L150.274 517.679 L137.728 550.249 L132.844 550.249 L144.649 519.624 L128.052 519.624 L128.052 515.689 Z\" fill=\"#000000\" fill-rule=\"evenodd\" fill-opacity=\"1\" /><path clip-path=\"url(#clip850)\" d=\"M93.191 480.54 Q89.5799 480.54 87.7512 484.105 Q85.9456 487.646 85.9456 494.776 Q85.9456 501.882 87.7512 505.447 Q89.5799 508.989 93.191 508.989 Q96.8252 508.989 98.6308 505.447 Q100.459 501.882 100.459 494.776 Q100.459 487.646 98.6308 484.105 Q96.8252 480.54 93.191 480.54 M93.191 476.836 Q99.0011 476.836 102.057 481.443 Q105.135 486.026 105.135 494.776 Q105.135 503.503 102.057 508.109 Q99.0011 512.693 93.191 512.693 Q87.3808 512.693 84.3021 508.109 Q81.2466 503.503 81.2466 494.776 Q81.2466 486.026 84.3021 481.443 Q87.3808 476.836 93.191 476.836 Z\" fill=\"#000000\" fill-rule=\"evenodd\" fill-opacity=\"1\" /><path clip-path=\"url(#clip850)\" d=\"M113.353 506.142 L118.237 506.142 L118.237 512.021 L113.353 512.021 L113.353 506.142 Z\" fill=\"#000000\" fill-rule=\"evenodd\" fill-opacity=\"1\" /><path clip-path=\"url(#clip850)\" d=\"M138.422 495.609 Q135.089 495.609 133.168 497.392 Q131.269 499.174 131.269 502.299 Q131.269 505.424 133.168 507.206 Q135.089 508.989 138.422 508.989 Q141.756 508.989 143.677 507.206 Q145.598 505.401 145.598 502.299 Q145.598 499.174 143.677 497.392 Q141.779 495.609 138.422 495.609 M133.746 493.619 Q130.737 492.878 129.047 490.818 Q127.381 488.757 127.381 485.795 Q127.381 481.651 130.32 479.244 Q133.283 476.836 138.422 476.836 Q143.584 476.836 146.524 479.244 Q149.464 481.651 149.464 485.795 Q149.464 488.757 147.774 490.818 Q146.107 492.878 143.121 493.619 Q146.501 494.406 148.376 496.697 Q150.274 498.989 150.274 502.299 Q150.274 507.322 147.195 510.007 Q144.14 512.693 138.422 512.693 Q132.705 512.693 129.626 510.007 Q126.57 507.322 126.57 502.299 Q126.57 498.989 128.469 496.697 Q130.367 494.406 133.746 493.619 M132.033 486.234 Q132.033 488.92 133.7 490.424 Q135.39 491.929 138.422 491.929 Q141.431 491.929 143.121 490.424 Q144.834 488.92 144.834 486.234 Q144.834 483.549 143.121 482.045 Q141.431 480.54 138.422 480.54 Q135.39 480.54 133.7 482.045 Q132.033 483.549 132.033 486.234 Z\" fill=\"#000000\" fill-rule=\"evenodd\" fill-opacity=\"1\" /><path clip-path=\"url(#clip850)\" d=\"M93.2836 442.312 Q89.6725 442.312 87.8438 445.877 Q86.0382 449.419 86.0382 456.548 Q86.0382 463.655 87.8438 467.22 Q89.6725 470.761 93.2836 470.761 Q96.9178 470.761 98.7234 467.22 Q100.552 463.655 100.552 456.548 Q100.552 449.419 98.7234 445.877 Q96.9178 442.312 93.2836 442.312 M93.2836 438.609 Q99.0937 438.609 102.149 443.215 Q105.228 447.799 105.228 456.548 Q105.228 465.275 102.149 469.882 Q99.0937 474.465 93.2836 474.465 Q87.4734 474.465 84.3947 469.882 Q81.3392 465.275 81.3392 456.548 Q81.3392 447.799 84.3947 443.215 Q87.4734 438.609 93.2836 438.609 Z\" fill=\"#000000\" fill-rule=\"evenodd\" fill-opacity=\"1\" /><path clip-path=\"url(#clip850)\" d=\"M113.445 467.914 L118.33 467.914 L118.33 473.794 L113.445 473.794 L113.445 467.914 Z\" fill=\"#000000\" fill-rule=\"evenodd\" fill-opacity=\"1\" /><path clip-path=\"url(#clip850)\" d=\"M128.654 473.076 L128.654 468.817 Q130.413 469.65 132.219 470.09 Q134.024 470.53 135.76 470.53 Q140.39 470.53 142.82 467.428 Q145.274 464.303 145.621 457.961 Q144.279 459.951 142.218 461.016 Q140.158 462.081 137.658 462.081 Q132.473 462.081 129.441 458.956 Q126.432 455.808 126.432 450.368 Q126.432 445.044 129.58 441.826 Q132.728 438.609 137.959 438.609 Q143.955 438.609 147.103 443.215 Q150.274 447.799 150.274 456.548 Q150.274 464.72 146.385 469.604 Q142.519 474.465 135.969 474.465 Q134.209 474.465 132.404 474.118 Q130.598 473.771 128.654 473.076 M137.959 458.423 Q141.107 458.423 142.936 456.271 Q144.788 454.118 144.788 450.368 Q144.788 446.641 142.936 444.488 Q141.107 442.312 137.959 442.312 Q134.811 442.312 132.959 444.488 Q131.131 446.641 131.131 450.368 Q131.131 454.118 132.959 456.271 Q134.811 458.423 137.959 458.423 Z\" fill=\"#000000\" fill-rule=\"evenodd\" fill-opacity=\"1\" /><polyline clip-path=\"url(#clip853)\" style=\"stroke:#009af9; stroke-linecap:butt; stroke-linejoin:round; stroke-width:4; stroke-opacity:1; fill:none\" points=\"\n",
       "  247.59,519.109 393.579,536.597 539.568,484.734 685.558,635.553 831.547,523.103 977.536,679.678 1123.53,532.716 1269.51,539.155 1415.5,623.695 1561.49,517.272 \n",
       "  1707.48,581.766 1853.47,454.014 1999.46,495.835 2145.45,505.938 2291.44,660.308 \n",
       "  \"/>\n",
       "<path clip-path=\"url(#clip850)\" d=\"\n",
       "M1987.76 558.898 L2280.54 558.898 L2280.54 455.218 L1987.76 455.218  Z\n",
       "  \" fill=\"#ffffff\" fill-rule=\"evenodd\" fill-opacity=\"1\"/>\n",
       "<polyline clip-path=\"url(#clip850)\" style=\"stroke:#000000; stroke-linecap:butt; stroke-linejoin:round; stroke-width:4; stroke-opacity:1; fill:none\" points=\"\n",
       "  1987.76,558.898 2280.54,558.898 2280.54,455.218 1987.76,455.218 1987.76,558.898 \n",
       "  \"/>\n",
       "<polyline clip-path=\"url(#clip850)\" style=\"stroke:#009af9; stroke-linecap:butt; stroke-linejoin:round; stroke-width:4; stroke-opacity:1; fill:none\" points=\"\n",
       "  2011.83,507.058 2156.26,507.058 \n",
       "  \"/>\n",
       "<path clip-path=\"url(#clip850)\" d=\"M2194.18 526.745 Q2192.37 531.375 2190.66 532.787 Q2188.95 534.199 2186.08 534.199 L2182.67 534.199 L2182.67 530.634 L2185.17 530.634 Q2186.93 530.634 2187.91 529.8 Q2188.88 528.967 2190.06 525.865 L2190.82 523.921 L2180.34 498.412 L2184.85 498.412 L2192.95 518.689 L2201.05 498.412 L2205.57 498.412 L2194.18 526.745 Z\" fill=\"#000000\" fill-rule=\"evenodd\" fill-opacity=\"1\" /><path clip-path=\"url(#clip850)\" d=\"M2216.08 520.402 L2232.4 520.402 L2232.4 524.338 L2210.45 524.338 L2210.45 520.402 Q2213.11 517.648 2217.7 513.018 Q2222.3 508.365 2223.48 507.023 Q2225.73 504.5 2226.61 502.764 Q2227.51 501.004 2227.51 499.315 Q2227.51 496.56 2225.57 494.824 Q2223.65 493.088 2220.54 493.088 Q2218.34 493.088 2215.89 493.852 Q2213.46 494.615 2210.68 496.166 L2210.68 491.444 Q2213.51 490.31 2215.96 489.731 Q2218.41 489.153 2220.45 489.153 Q2225.82 489.153 2229.02 491.838 Q2232.21 494.523 2232.21 499.014 Q2232.21 501.143 2231.4 503.065 Q2230.61 504.963 2228.51 507.555 Q2227.93 508.227 2224.83 511.444 Q2221.72 514.639 2216.08 520.402 Z\" fill=\"#000000\" fill-rule=\"evenodd\" fill-opacity=\"1\" /><path clip-path=\"url(#clip850)\" d=\"\n",
       "M186.274 1086.45 L2352.76 1086.45 L2352.76 847.244 L186.274 847.244  Z\n",
       "  \" fill=\"#ffffff\" fill-rule=\"evenodd\" fill-opacity=\"1\"/>\n",
       "<defs>\n",
       "  <clipPath id=\"clip854\">\n",
       "    <rect x=\"186\" y=\"847\" width=\"2167\" height=\"240\"/>\n",
       "  </clipPath>\n",
       "</defs>\n",
       "<polyline clip-path=\"url(#clip854)\" style=\"stroke:#000000; stroke-linecap:butt; stroke-linejoin:round; stroke-width:2; stroke-opacity:0.1; fill:none\" points=\"\n",
       "  393.579,1086.45 393.579,847.244 \n",
       "  \"/>\n",
       "<polyline clip-path=\"url(#clip854)\" style=\"stroke:#000000; stroke-linecap:butt; stroke-linejoin:round; stroke-width:2; stroke-opacity:0.1; fill:none\" points=\"\n",
       "  685.558,1086.45 685.558,847.244 \n",
       "  \"/>\n",
       "<polyline clip-path=\"url(#clip854)\" style=\"stroke:#000000; stroke-linecap:butt; stroke-linejoin:round; stroke-width:2; stroke-opacity:0.1; fill:none\" points=\"\n",
       "  977.536,1086.45 977.536,847.244 \n",
       "  \"/>\n",
       "<polyline clip-path=\"url(#clip854)\" style=\"stroke:#000000; stroke-linecap:butt; stroke-linejoin:round; stroke-width:2; stroke-opacity:0.1; fill:none\" points=\"\n",
       "  1269.51,1086.45 1269.51,847.244 \n",
       "  \"/>\n",
       "<polyline clip-path=\"url(#clip854)\" style=\"stroke:#000000; stroke-linecap:butt; stroke-linejoin:round; stroke-width:2; stroke-opacity:0.1; fill:none\" points=\"\n",
       "  1561.49,1086.45 1561.49,847.244 \n",
       "  \"/>\n",
       "<polyline clip-path=\"url(#clip854)\" style=\"stroke:#000000; stroke-linecap:butt; stroke-linejoin:round; stroke-width:2; stroke-opacity:0.1; fill:none\" points=\"\n",
       "  1853.47,1086.45 1853.47,847.244 \n",
       "  \"/>\n",
       "<polyline clip-path=\"url(#clip854)\" style=\"stroke:#000000; stroke-linecap:butt; stroke-linejoin:round; stroke-width:2; stroke-opacity:0.1; fill:none\" points=\"\n",
       "  2145.45,1086.45 2145.45,847.244 \n",
       "  \"/>\n",
       "<polyline clip-path=\"url(#clip850)\" style=\"stroke:#000000; stroke-linecap:butt; stroke-linejoin:round; stroke-width:4; stroke-opacity:1; fill:none\" points=\"\n",
       "  186.274,1086.45 2352.76,1086.45 \n",
       "  \"/>\n",
       "<polyline clip-path=\"url(#clip850)\" style=\"stroke:#000000; stroke-linecap:butt; stroke-linejoin:round; stroke-width:4; stroke-opacity:1; fill:none\" points=\"\n",
       "  393.579,1086.45 393.579,1067.55 \n",
       "  \"/>\n",
       "<polyline clip-path=\"url(#clip850)\" style=\"stroke:#000000; stroke-linecap:butt; stroke-linejoin:round; stroke-width:4; stroke-opacity:1; fill:none\" points=\"\n",
       "  685.558,1086.45 685.558,1067.55 \n",
       "  \"/>\n",
       "<polyline clip-path=\"url(#clip850)\" style=\"stroke:#000000; stroke-linecap:butt; stroke-linejoin:round; stroke-width:4; stroke-opacity:1; fill:none\" points=\"\n",
       "  977.536,1086.45 977.536,1067.55 \n",
       "  \"/>\n",
       "<polyline clip-path=\"url(#clip850)\" style=\"stroke:#000000; stroke-linecap:butt; stroke-linejoin:round; stroke-width:4; stroke-opacity:1; fill:none\" points=\"\n",
       "  1269.51,1086.45 1269.51,1067.55 \n",
       "  \"/>\n",
       "<polyline clip-path=\"url(#clip850)\" style=\"stroke:#000000; stroke-linecap:butt; stroke-linejoin:round; stroke-width:4; stroke-opacity:1; fill:none\" points=\"\n",
       "  1561.49,1086.45 1561.49,1067.55 \n",
       "  \"/>\n",
       "<polyline clip-path=\"url(#clip850)\" style=\"stroke:#000000; stroke-linecap:butt; stroke-linejoin:round; stroke-width:4; stroke-opacity:1; fill:none\" points=\"\n",
       "  1853.47,1086.45 1853.47,1067.55 \n",
       "  \"/>\n",
       "<polyline clip-path=\"url(#clip850)\" style=\"stroke:#000000; stroke-linecap:butt; stroke-linejoin:round; stroke-width:4; stroke-opacity:1; fill:none\" points=\"\n",
       "  2145.45,1086.45 2145.45,1067.55 \n",
       "  \"/>\n",
       "<path clip-path=\"url(#clip850)\" d=\"M388.232 1144.91 L404.551 1144.91 L404.551 1148.85 L382.607 1148.85 L382.607 1144.91 Q385.269 1142.16 389.852 1137.53 Q394.458 1132.88 395.639 1131.53 Q397.884 1129.01 398.764 1127.27 Q399.667 1125.51 399.667 1123.82 Q399.667 1121.07 397.722 1119.33 Q395.801 1117.6 392.699 1117.6 Q390.5 1117.6 388.046 1118.36 Q385.616 1119.13 382.838 1120.68 L382.838 1115.95 Q385.662 1114.82 388.116 1114.24 Q390.57 1113.66 392.607 1113.66 Q397.977 1113.66 401.171 1116.35 Q404.366 1119.03 404.366 1123.52 Q404.366 1125.65 403.556 1127.57 Q402.769 1129.47 400.662 1132.07 Q400.083 1132.74 396.982 1135.95 Q393.88 1139.15 388.232 1144.91 Z\" fill=\"#000000\" fill-rule=\"evenodd\" fill-opacity=\"1\" /><path clip-path=\"url(#clip850)\" d=\"M688.567 1118.36 L676.761 1136.81 L688.567 1136.81 L688.567 1118.36 M687.34 1114.29 L693.22 1114.29 L693.22 1136.81 L698.15 1136.81 L698.15 1140.7 L693.22 1140.7 L693.22 1148.85 L688.567 1148.85 L688.567 1140.7 L672.965 1140.7 L672.965 1136.19 L687.34 1114.29 Z\" fill=\"#000000\" fill-rule=\"evenodd\" fill-opacity=\"1\" /><path clip-path=\"url(#clip850)\" d=\"M977.941 1129.7 Q974.793 1129.7 972.941 1131.86 Q971.113 1134.01 971.113 1137.76 Q971.113 1141.49 972.941 1143.66 Q974.793 1145.82 977.941 1145.82 Q981.089 1145.82 982.918 1143.66 Q984.77 1141.49 984.77 1137.76 Q984.77 1134.01 982.918 1131.86 Q981.089 1129.7 977.941 1129.7 M987.224 1115.05 L987.224 1119.31 Q985.464 1118.48 983.659 1118.04 Q981.877 1117.6 980.117 1117.6 Q975.488 1117.6 973.034 1120.72 Q970.603 1123.85 970.256 1130.17 Q971.622 1128.15 973.682 1127.09 Q975.742 1126 978.219 1126 Q983.427 1126 986.437 1129.17 Q989.469 1132.32 989.469 1137.76 Q989.469 1143.08 986.321 1146.3 Q983.173 1149.52 977.941 1149.52 Q971.946 1149.52 968.775 1144.94 Q965.603 1140.33 965.603 1131.6 Q965.603 1123.41 969.492 1118.55 Q973.381 1113.66 979.932 1113.66 Q981.691 1113.66 983.474 1114.01 Q985.279 1114.36 987.224 1115.05 Z\" fill=\"#000000\" fill-rule=\"evenodd\" fill-opacity=\"1\" /><path clip-path=\"url(#clip850)\" d=\"M1269.51 1132.44 Q1266.18 1132.44 1264.26 1134.22 Q1262.36 1136 1262.36 1139.13 Q1262.36 1142.25 1264.26 1144.03 Q1266.18 1145.82 1269.51 1145.82 Q1272.85 1145.82 1274.77 1144.03 Q1276.69 1142.23 1276.69 1139.13 Q1276.69 1136 1274.77 1134.22 Q1272.87 1132.44 1269.51 1132.44 M1264.84 1130.45 Q1261.83 1129.7 1260.14 1127.64 Q1258.47 1125.58 1258.47 1122.62 Q1258.47 1118.48 1261.41 1116.07 Q1264.38 1113.66 1269.51 1113.66 Q1274.68 1113.66 1277.62 1116.07 Q1280.56 1118.48 1280.56 1122.62 Q1280.56 1125.58 1278.87 1127.64 Q1277.2 1129.7 1274.21 1130.45 Q1277.59 1131.23 1279.47 1133.52 Q1281.37 1135.82 1281.37 1139.13 Q1281.37 1144.15 1278.29 1146.83 Q1275.23 1149.52 1269.51 1149.52 Q1263.8 1149.52 1260.72 1146.83 Q1257.66 1144.15 1257.66 1139.13 Q1257.66 1135.82 1259.56 1133.52 Q1261.46 1131.23 1264.84 1130.45 M1263.13 1123.06 Q1263.13 1125.75 1264.79 1127.25 Q1266.48 1128.76 1269.51 1128.76 Q1272.52 1128.76 1274.21 1127.25 Q1275.93 1125.75 1275.93 1123.06 Q1275.93 1120.38 1274.21 1118.87 Q1272.52 1117.37 1269.51 1117.37 Q1266.48 1117.37 1264.79 1118.87 Q1263.13 1120.38 1263.13 1123.06 Z\" fill=\"#000000\" fill-rule=\"evenodd\" fill-opacity=\"1\" /><path clip-path=\"url(#clip850)\" d=\"M1536.18 1144.91 L1543.82 1144.91 L1543.82 1118.55 L1535.51 1120.21 L1535.51 1115.95 L1543.77 1114.29 L1548.45 1114.29 L1548.45 1144.91 L1556.09 1144.91 L1556.09 1148.85 L1536.18 1148.85 L1536.18 1144.91 Z\" fill=\"#000000\" fill-rule=\"evenodd\" fill-opacity=\"1\" /><path clip-path=\"url(#clip850)\" d=\"M1575.53 1117.37 Q1571.92 1117.37 1570.09 1120.93 Q1568.29 1124.47 1568.29 1131.6 Q1568.29 1138.71 1570.09 1142.27 Q1571.92 1145.82 1575.53 1145.82 Q1579.17 1145.82 1580.97 1142.27 Q1582.8 1138.71 1582.8 1131.6 Q1582.8 1124.47 1580.97 1120.93 Q1579.17 1117.37 1575.53 1117.37 M1575.53 1113.66 Q1581.34 1113.66 1584.4 1118.27 Q1587.48 1122.85 1587.48 1131.6 Q1587.48 1140.33 1584.4 1144.94 Q1581.34 1149.52 1575.53 1149.52 Q1569.72 1149.52 1566.64 1144.94 Q1563.59 1140.33 1563.59 1131.6 Q1563.59 1122.85 1566.64 1118.27 Q1569.72 1113.66 1575.53 1113.66 Z\" fill=\"#000000\" fill-rule=\"evenodd\" fill-opacity=\"1\" /><path clip-path=\"url(#clip850)\" d=\"M1828.96 1144.91 L1836.6 1144.91 L1836.6 1118.55 L1828.29 1120.21 L1828.29 1115.95 L1836.55 1114.29 L1841.23 1114.29 L1841.23 1144.91 L1848.87 1144.91 L1848.87 1148.85 L1828.96 1148.85 L1828.96 1144.91 Z\" fill=\"#000000\" fill-rule=\"evenodd\" fill-opacity=\"1\" /><path clip-path=\"url(#clip850)\" d=\"M1862.34 1144.91 L1878.66 1144.91 L1878.66 1148.85 L1856.71 1148.85 L1856.71 1144.91 Q1859.38 1142.16 1863.96 1137.53 Q1868.56 1132.88 1869.75 1131.53 Q1871.99 1129.01 1872.87 1127.27 Q1873.77 1125.51 1873.77 1123.82 Q1873.77 1121.07 1871.83 1119.33 Q1869.91 1117.6 1866.81 1117.6 Q1864.61 1117.6 1862.15 1118.36 Q1859.72 1119.13 1856.94 1120.68 L1856.94 1115.95 Q1859.77 1114.82 1862.22 1114.24 Q1864.68 1113.66 1866.71 1113.66 Q1872.08 1113.66 1875.28 1116.35 Q1878.47 1119.03 1878.47 1123.52 Q1878.47 1125.65 1877.66 1127.57 Q1876.87 1129.47 1874.77 1132.07 Q1874.19 1132.74 1871.09 1135.95 Q1867.99 1139.15 1862.34 1144.91 Z\" fill=\"#000000\" fill-rule=\"evenodd\" fill-opacity=\"1\" /><path clip-path=\"url(#clip850)\" d=\"M2119.9 1144.91 L2127.53 1144.91 L2127.53 1118.55 L2119.22 1120.21 L2119.22 1115.95 L2127.49 1114.29 L2132.16 1114.29 L2132.16 1144.91 L2139.8 1144.91 L2139.8 1148.85 L2119.9 1148.85 L2119.9 1144.91 Z\" fill=\"#000000\" fill-rule=\"evenodd\" fill-opacity=\"1\" /><path clip-path=\"url(#clip850)\" d=\"M2162.09 1118.36 L2150.29 1136.81 L2162.09 1136.81 L2162.09 1118.36 M2160.87 1114.29 L2166.75 1114.29 L2166.75 1136.81 L2171.68 1136.81 L2171.68 1140.7 L2166.75 1140.7 L2166.75 1148.85 L2162.09 1148.85 L2162.09 1140.7 L2146.49 1140.7 L2146.49 1136.19 L2160.87 1114.29 Z\" fill=\"#000000\" fill-rule=\"evenodd\" fill-opacity=\"1\" /><polyline clip-path=\"url(#clip854)\" style=\"stroke:#000000; stroke-linecap:butt; stroke-linejoin:round; stroke-width:2; stroke-opacity:0.1; fill:none\" points=\"\n",
       "  186.274,1038.9 2352.76,1038.9 \n",
       "  \"/>\n",
       "<polyline clip-path=\"url(#clip854)\" style=\"stroke:#000000; stroke-linecap:butt; stroke-linejoin:round; stroke-width:2; stroke-opacity:0.1; fill:none\" points=\"\n",
       "  186.274,987.423 2352.76,987.423 \n",
       "  \"/>\n",
       "<polyline clip-path=\"url(#clip854)\" style=\"stroke:#000000; stroke-linecap:butt; stroke-linejoin:round; stroke-width:2; stroke-opacity:0.1; fill:none\" points=\"\n",
       "  186.274,935.942 2352.76,935.942 \n",
       "  \"/>\n",
       "<polyline clip-path=\"url(#clip854)\" style=\"stroke:#000000; stroke-linecap:butt; stroke-linejoin:round; stroke-width:2; stroke-opacity:0.1; fill:none\" points=\"\n",
       "  186.274,884.461 2352.76,884.461 \n",
       "  \"/>\n",
       "<polyline clip-path=\"url(#clip850)\" style=\"stroke:#000000; stroke-linecap:butt; stroke-linejoin:round; stroke-width:4; stroke-opacity:1; fill:none\" points=\"\n",
       "  186.274,1086.45 186.274,847.244 \n",
       "  \"/>\n",
       "<polyline clip-path=\"url(#clip850)\" style=\"stroke:#000000; stroke-linecap:butt; stroke-linejoin:round; stroke-width:4; stroke-opacity:1; fill:none\" points=\"\n",
       "  186.274,1038.9 205.172,1038.9 \n",
       "  \"/>\n",
       "<polyline clip-path=\"url(#clip850)\" style=\"stroke:#000000; stroke-linecap:butt; stroke-linejoin:round; stroke-width:4; stroke-opacity:1; fill:none\" points=\"\n",
       "  186.274,987.423 205.172,987.423 \n",
       "  \"/>\n",
       "<polyline clip-path=\"url(#clip850)\" style=\"stroke:#000000; stroke-linecap:butt; stroke-linejoin:round; stroke-width:4; stroke-opacity:1; fill:none\" points=\"\n",
       "  186.274,935.942 205.172,935.942 \n",
       "  \"/>\n",
       "<polyline clip-path=\"url(#clip850)\" style=\"stroke:#000000; stroke-linecap:butt; stroke-linejoin:round; stroke-width:4; stroke-opacity:1; fill:none\" points=\"\n",
       "  186.274,884.461 205.172,884.461 \n",
       "  \"/>\n",
       "<path clip-path=\"url(#clip850)\" d=\"M94.6956 1024.7 Q91.0845 1024.7 89.2558 1028.27 Q87.4503 1031.81 87.4503 1038.94 Q87.4503 1046.05 89.2558 1049.61 Q91.0845 1053.15 94.6956 1053.15 Q98.3298 1053.15 100.135 1049.61 Q101.964 1046.05 101.964 1038.94 Q101.964 1031.81 100.135 1028.27 Q98.3298 1024.7 94.6956 1024.7 M94.6956 1021 Q100.506 1021 103.561 1025.61 Q106.64 1030.19 106.64 1038.94 Q106.64 1047.67 103.561 1052.27 Q100.506 1056.86 94.6956 1056.86 Q88.8854 1056.86 85.8068 1052.27 Q82.7512 1047.67 82.7512 1038.94 Q82.7512 1030.19 85.8068 1025.61 Q88.8854 1021 94.6956 1021 Z\" fill=\"#000000\" fill-rule=\"evenodd\" fill-opacity=\"1\" /><path clip-path=\"url(#clip850)\" d=\"M114.858 1050.3 L119.742 1050.3 L119.742 1056.18 L114.858 1056.18 L114.858 1050.3 Z\" fill=\"#000000\" fill-rule=\"evenodd\" fill-opacity=\"1\" /><path clip-path=\"url(#clip850)\" d=\"M133.955 1052.25 L150.274 1052.25 L150.274 1056.18 L128.33 1056.18 L128.33 1052.25 Q130.992 1049.49 135.575 1044.86 Q140.181 1040.21 141.362 1038.87 Q143.607 1036.35 144.487 1034.61 Q145.39 1032.85 145.39 1031.16 Q145.39 1028.41 143.445 1026.67 Q141.524 1024.93 138.422 1024.93 Q136.223 1024.93 133.769 1025.7 Q131.339 1026.46 128.561 1028.01 L128.561 1023.29 Q131.385 1022.16 133.839 1021.58 Q136.293 1021 138.33 1021 Q143.7 1021 146.894 1023.68 Q150.089 1026.37 150.089 1030.86 Q150.089 1032.99 149.279 1034.91 Q148.492 1036.81 146.385 1039.4 Q145.806 1040.07 142.705 1043.29 Q139.603 1046.49 133.955 1052.25 Z\" fill=\"#000000\" fill-rule=\"evenodd\" fill-opacity=\"1\" /><path clip-path=\"url(#clip850)\" d=\"M92.6123 973.222 Q89.0012 973.222 87.1725 976.787 Q85.3669 980.328 85.3669 987.458 Q85.3669 994.564 87.1725 998.129 Q89.0012 1001.67 92.6123 1001.67 Q96.2465 1001.67 98.0521 998.129 Q99.8808 994.564 99.8808 987.458 Q99.8808 980.328 98.0521 976.787 Q96.2465 973.222 92.6123 973.222 M92.6123 969.518 Q98.4224 969.518 101.478 974.125 Q104.557 978.708 104.557 987.458 Q104.557 996.185 101.478 1000.79 Q98.4224 1005.37 92.6123 1005.37 Q86.8021 1005.37 83.7234 1000.79 Q80.6679 996.185 80.6679 987.458 Q80.6679 978.708 83.7234 974.125 Q86.8021 969.518 92.6123 969.518 Z\" fill=\"#000000\" fill-rule=\"evenodd\" fill-opacity=\"1\" /><path clip-path=\"url(#clip850)\" d=\"M112.774 998.824 L117.658 998.824 L117.658 1004.7 L112.774 1004.7 L112.774 998.824 Z\" fill=\"#000000\" fill-rule=\"evenodd\" fill-opacity=\"1\" /><path clip-path=\"url(#clip850)\" d=\"M140.691 974.217 L128.885 992.666 L140.691 992.666 L140.691 974.217 M139.464 970.143 L145.343 970.143 L145.343 992.666 L150.274 992.666 L150.274 996.555 L145.343 996.555 L145.343 1004.7 L140.691 1004.7 L140.691 996.555 L125.089 996.555 L125.089 992.041 L139.464 970.143 Z\" fill=\"#000000\" fill-rule=\"evenodd\" fill-opacity=\"1\" /><path clip-path=\"url(#clip850)\" d=\"M92.9363 921.741 Q89.3253 921.741 87.4966 925.306 Q85.691 928.847 85.691 935.977 Q85.691 943.083 87.4966 946.648 Q89.3253 950.19 92.9363 950.19 Q96.5706 950.19 98.3761 946.648 Q100.205 943.083 100.205 935.977 Q100.205 928.847 98.3761 925.306 Q96.5706 921.741 92.9363 921.741 M92.9363 918.037 Q98.7465 918.037 101.802 922.643 Q104.881 927.227 104.881 935.977 Q104.881 944.704 101.802 949.31 Q98.7465 953.893 92.9363 953.893 Q87.1262 953.893 84.0475 949.31 Q80.992 944.704 80.992 935.977 Q80.992 927.227 84.0475 922.643 Q87.1262 918.037 92.9363 918.037 Z\" fill=\"#000000\" fill-rule=\"evenodd\" fill-opacity=\"1\" /><path clip-path=\"url(#clip850)\" d=\"M113.098 947.342 L117.983 947.342 L117.983 953.222 L113.098 953.222 L113.098 947.342 Z\" fill=\"#000000\" fill-rule=\"evenodd\" fill-opacity=\"1\" /><path clip-path=\"url(#clip850)\" d=\"M138.746 934.079 Q135.598 934.079 133.746 936.231 Q131.918 938.384 131.918 942.134 Q131.918 945.861 133.746 948.037 Q135.598 950.19 138.746 950.19 Q141.894 950.19 143.723 948.037 Q145.575 945.861 145.575 942.134 Q145.575 938.384 143.723 936.231 Q141.894 934.079 138.746 934.079 M148.029 919.426 L148.029 923.685 Q146.269 922.852 144.464 922.412 Q142.681 921.972 140.922 921.972 Q136.293 921.972 133.839 925.097 Q131.408 928.222 131.061 934.542 Q132.427 932.528 134.487 931.463 Q136.547 930.375 139.024 930.375 Q144.232 930.375 147.242 933.546 Q150.274 936.694 150.274 942.134 Q150.274 947.458 147.126 950.676 Q143.978 953.893 138.746 953.893 Q132.751 953.893 129.58 949.31 Q126.408 944.704 126.408 935.977 Q126.408 927.782 130.297 922.921 Q134.186 918.037 140.737 918.037 Q142.496 918.037 144.279 918.384 Q146.084 918.731 148.029 919.426 Z\" fill=\"#000000\" fill-rule=\"evenodd\" fill-opacity=\"1\" /><path clip-path=\"url(#clip850)\" d=\"M93.191 870.26 Q89.5799 870.26 87.7512 873.824 Q85.9456 877.366 85.9456 884.496 Q85.9456 891.602 87.7512 895.167 Q89.5799 898.708 93.191 898.708 Q96.8252 898.708 98.6308 895.167 Q100.459 891.602 100.459 884.496 Q100.459 877.366 98.6308 873.824 Q96.8252 870.26 93.191 870.26 M93.191 866.556 Q99.0011 866.556 102.057 871.162 Q105.135 875.746 105.135 884.496 Q105.135 893.222 102.057 897.829 Q99.0011 902.412 93.191 902.412 Q87.3808 902.412 84.3021 897.829 Q81.2466 893.222 81.2466 884.496 Q81.2466 875.746 84.3021 871.162 Q87.3808 866.556 93.191 866.556 Z\" fill=\"#000000\" fill-rule=\"evenodd\" fill-opacity=\"1\" /><path clip-path=\"url(#clip850)\" d=\"M113.353 895.861 L118.237 895.861 L118.237 901.741 L113.353 901.741 L113.353 895.861 Z\" fill=\"#000000\" fill-rule=\"evenodd\" fill-opacity=\"1\" /><path clip-path=\"url(#clip850)\" d=\"M138.422 885.329 Q135.089 885.329 133.168 887.111 Q131.269 888.894 131.269 892.019 Q131.269 895.144 133.168 896.926 Q135.089 898.708 138.422 898.708 Q141.756 898.708 143.677 896.926 Q145.598 895.121 145.598 892.019 Q145.598 888.894 143.677 887.111 Q141.779 885.329 138.422 885.329 M133.746 883.338 Q130.737 882.597 129.047 880.537 Q127.381 878.477 127.381 875.514 Q127.381 871.371 130.32 868.963 Q133.283 866.556 138.422 866.556 Q143.584 866.556 146.524 868.963 Q149.464 871.371 149.464 875.514 Q149.464 878.477 147.774 880.537 Q146.107 882.597 143.121 883.338 Q146.501 884.125 148.376 886.417 Q150.274 888.709 150.274 892.019 Q150.274 897.042 147.195 899.727 Q144.14 902.412 138.422 902.412 Q132.705 902.412 129.626 899.727 Q126.57 897.042 126.57 892.019 Q126.57 888.709 128.469 886.417 Q130.367 884.125 133.746 883.338 M132.033 875.954 Q132.033 878.639 133.7 880.144 Q135.39 881.648 138.422 881.648 Q141.431 881.648 143.121 880.144 Q144.834 878.639 144.834 875.954 Q144.834 873.269 143.121 871.764 Q141.431 870.26 138.422 870.26 Q135.39 870.26 133.7 871.764 Q132.033 873.269 132.033 875.954 Z\" fill=\"#000000\" fill-rule=\"evenodd\" fill-opacity=\"1\" /><polyline clip-path=\"url(#clip854)\" style=\"stroke:#009af9; stroke-linecap:butt; stroke-linejoin:round; stroke-width:4; stroke-opacity:1; fill:none\" points=\"\n",
       "  247.59,942.542 393.579,1032.31 539.568,896.044 685.558,1028.44 831.547,1049.19 977.536,1079.68 1123.53,909.838 1269.51,1063.83 1415.5,876.477 1561.49,950.599 \n",
       "  1707.48,854.014 1853.47,1049.21 1999.46,1070.53 2145.45,897.109 2291.44,951.723 \n",
       "  \"/>\n",
       "<path clip-path=\"url(#clip850)\" d=\"\n",
       "M1986.81 958.898 L2280.54 958.898 L2280.54 855.218 L1986.81 855.218  Z\n",
       "  \" fill=\"#ffffff\" fill-rule=\"evenodd\" fill-opacity=\"1\"/>\n",
       "<polyline clip-path=\"url(#clip850)\" style=\"stroke:#000000; stroke-linecap:butt; stroke-linejoin:round; stroke-width:4; stroke-opacity:1; fill:none\" points=\"\n",
       "  1986.81,958.898 2280.54,958.898 2280.54,855.218 1986.81,855.218 1986.81,958.898 \n",
       "  \"/>\n",
       "<polyline clip-path=\"url(#clip850)\" style=\"stroke:#009af9; stroke-linecap:butt; stroke-linejoin:round; stroke-width:4; stroke-opacity:1; fill:none\" points=\"\n",
       "  2010.88,907.058 2155.31,907.058 \n",
       "  \"/>\n",
       "<path clip-path=\"url(#clip850)\" d=\"M2193.23 926.745 Q2191.42 931.375 2189.71 932.787 Q2188 934.199 2185.13 934.199 L2181.72 934.199 L2181.72 930.634 L2184.22 930.634 Q2185.98 930.634 2186.96 929.8 Q2187.93 928.967 2189.11 925.865 L2189.87 923.921 L2179.39 898.412 L2183.9 898.412 L2192 918.689 L2200.1 898.412 L2204.62 898.412 L2193.23 926.745 Z\" fill=\"#000000\" fill-rule=\"evenodd\" fill-opacity=\"1\" /><path clip-path=\"url(#clip850)\" d=\"M2225.27 905.703 Q2228.62 906.421 2230.5 908.689 Q2232.4 910.958 2232.4 914.291 Q2232.4 919.407 2228.88 922.208 Q2225.36 925.009 2218.88 925.009 Q2216.7 925.009 2214.39 924.569 Q2212.09 924.152 2209.64 923.296 L2209.64 918.782 Q2211.59 919.916 2213.9 920.495 Q2216.22 921.074 2218.74 921.074 Q2223.14 921.074 2225.43 919.338 Q2227.74 917.601 2227.74 914.291 Q2227.74 911.236 2225.59 909.523 Q2223.46 907.787 2219.64 907.787 L2215.61 907.787 L2215.61 903.944 L2219.83 903.944 Q2223.28 903.944 2225.1 902.578 Q2226.93 901.19 2226.93 898.597 Q2226.93 895.935 2225.03 894.523 Q2223.16 893.088 2219.64 893.088 Q2217.72 893.088 2215.52 893.504 Q2213.32 893.921 2210.68 894.801 L2210.68 890.634 Q2213.34 889.893 2215.66 889.523 Q2218 889.153 2220.06 889.153 Q2225.38 889.153 2228.48 891.583 Q2231.59 893.99 2231.59 898.111 Q2231.59 900.981 2229.94 902.972 Q2228.3 904.94 2225.27 905.703 Z\" fill=\"#000000\" fill-rule=\"evenodd\" fill-opacity=\"1\" /><path clip-path=\"url(#clip850)\" d=\"\n",
       "M186.274 1486.45 L2352.76 1486.45 L2352.76 1247.24 L186.274 1247.24  Z\n",
       "  \" fill=\"#ffffff\" fill-rule=\"evenodd\" fill-opacity=\"1\"/>\n",
       "<defs>\n",
       "  <clipPath id=\"clip855\">\n",
       "    <rect x=\"186\" y=\"1247\" width=\"2167\" height=\"240\"/>\n",
       "  </clipPath>\n",
       "</defs>\n",
       "<polyline clip-path=\"url(#clip855)\" style=\"stroke:#000000; stroke-linecap:butt; stroke-linejoin:round; stroke-width:2; stroke-opacity:0.1; fill:none\" points=\"\n",
       "  393.579,1486.45 393.579,1247.24 \n",
       "  \"/>\n",
       "<polyline clip-path=\"url(#clip855)\" style=\"stroke:#000000; stroke-linecap:butt; stroke-linejoin:round; stroke-width:2; stroke-opacity:0.1; fill:none\" points=\"\n",
       "  685.558,1486.45 685.558,1247.24 \n",
       "  \"/>\n",
       "<polyline clip-path=\"url(#clip855)\" style=\"stroke:#000000; stroke-linecap:butt; stroke-linejoin:round; stroke-width:2; stroke-opacity:0.1; fill:none\" points=\"\n",
       "  977.536,1486.45 977.536,1247.24 \n",
       "  \"/>\n",
       "<polyline clip-path=\"url(#clip855)\" style=\"stroke:#000000; stroke-linecap:butt; stroke-linejoin:round; stroke-width:2; stroke-opacity:0.1; fill:none\" points=\"\n",
       "  1269.51,1486.45 1269.51,1247.24 \n",
       "  \"/>\n",
       "<polyline clip-path=\"url(#clip855)\" style=\"stroke:#000000; stroke-linecap:butt; stroke-linejoin:round; stroke-width:2; stroke-opacity:0.1; fill:none\" points=\"\n",
       "  1561.49,1486.45 1561.49,1247.24 \n",
       "  \"/>\n",
       "<polyline clip-path=\"url(#clip855)\" style=\"stroke:#000000; stroke-linecap:butt; stroke-linejoin:round; stroke-width:2; stroke-opacity:0.1; fill:none\" points=\"\n",
       "  1853.47,1486.45 1853.47,1247.24 \n",
       "  \"/>\n",
       "<polyline clip-path=\"url(#clip855)\" style=\"stroke:#000000; stroke-linecap:butt; stroke-linejoin:round; stroke-width:2; stroke-opacity:0.1; fill:none\" points=\"\n",
       "  2145.45,1486.45 2145.45,1247.24 \n",
       "  \"/>\n",
       "<polyline clip-path=\"url(#clip850)\" style=\"stroke:#000000; stroke-linecap:butt; stroke-linejoin:round; stroke-width:4; stroke-opacity:1; fill:none\" points=\"\n",
       "  186.274,1486.45 2352.76,1486.45 \n",
       "  \"/>\n",
       "<polyline clip-path=\"url(#clip850)\" style=\"stroke:#000000; stroke-linecap:butt; stroke-linejoin:round; stroke-width:4; stroke-opacity:1; fill:none\" points=\"\n",
       "  393.579,1486.45 393.579,1467.55 \n",
       "  \"/>\n",
       "<polyline clip-path=\"url(#clip850)\" style=\"stroke:#000000; stroke-linecap:butt; stroke-linejoin:round; stroke-width:4; stroke-opacity:1; fill:none\" points=\"\n",
       "  685.558,1486.45 685.558,1467.55 \n",
       "  \"/>\n",
       "<polyline clip-path=\"url(#clip850)\" style=\"stroke:#000000; stroke-linecap:butt; stroke-linejoin:round; stroke-width:4; stroke-opacity:1; fill:none\" points=\"\n",
       "  977.536,1486.45 977.536,1467.55 \n",
       "  \"/>\n",
       "<polyline clip-path=\"url(#clip850)\" style=\"stroke:#000000; stroke-linecap:butt; stroke-linejoin:round; stroke-width:4; stroke-opacity:1; fill:none\" points=\"\n",
       "  1269.51,1486.45 1269.51,1467.55 \n",
       "  \"/>\n",
       "<polyline clip-path=\"url(#clip850)\" style=\"stroke:#000000; stroke-linecap:butt; stroke-linejoin:round; stroke-width:4; stroke-opacity:1; fill:none\" points=\"\n",
       "  1561.49,1486.45 1561.49,1467.55 \n",
       "  \"/>\n",
       "<polyline clip-path=\"url(#clip850)\" style=\"stroke:#000000; stroke-linecap:butt; stroke-linejoin:round; stroke-width:4; stroke-opacity:1; fill:none\" points=\"\n",
       "  1853.47,1486.45 1853.47,1467.55 \n",
       "  \"/>\n",
       "<polyline clip-path=\"url(#clip850)\" style=\"stroke:#000000; stroke-linecap:butt; stroke-linejoin:round; stroke-width:4; stroke-opacity:1; fill:none\" points=\"\n",
       "  2145.45,1486.45 2145.45,1467.55 \n",
       "  \"/>\n",
       "<path clip-path=\"url(#clip850)\" d=\"M388.232 1544.91 L404.551 1544.91 L404.551 1548.85 L382.607 1548.85 L382.607 1544.91 Q385.269 1542.16 389.852 1537.53 Q394.458 1532.88 395.639 1531.53 Q397.884 1529.01 398.764 1527.27 Q399.667 1525.51 399.667 1523.82 Q399.667 1521.07 397.722 1519.33 Q395.801 1517.6 392.699 1517.6 Q390.5 1517.6 388.046 1518.36 Q385.616 1519.13 382.838 1520.68 L382.838 1515.95 Q385.662 1514.82 388.116 1514.24 Q390.57 1513.66 392.607 1513.66 Q397.977 1513.66 401.171 1516.35 Q404.366 1519.03 404.366 1523.52 Q404.366 1525.65 403.556 1527.57 Q402.769 1529.47 400.662 1532.07 Q400.083 1532.74 396.982 1535.95 Q393.88 1539.15 388.232 1544.91 Z\" fill=\"#000000\" fill-rule=\"evenodd\" fill-opacity=\"1\" /><path clip-path=\"url(#clip850)\" d=\"M688.567 1518.36 L676.761 1536.81 L688.567 1536.81 L688.567 1518.36 M687.34 1514.29 L693.22 1514.29 L693.22 1536.81 L698.15 1536.81 L698.15 1540.7 L693.22 1540.7 L693.22 1548.85 L688.567 1548.85 L688.567 1540.7 L672.965 1540.7 L672.965 1536.19 L687.34 1514.29 Z\" fill=\"#000000\" fill-rule=\"evenodd\" fill-opacity=\"1\" /><path clip-path=\"url(#clip850)\" d=\"M977.941 1529.7 Q974.793 1529.7 972.941 1531.86 Q971.113 1534.01 971.113 1537.76 Q971.113 1541.49 972.941 1543.66 Q974.793 1545.82 977.941 1545.82 Q981.089 1545.82 982.918 1543.66 Q984.77 1541.49 984.77 1537.76 Q984.77 1534.01 982.918 1531.86 Q981.089 1529.7 977.941 1529.7 M987.224 1515.05 L987.224 1519.31 Q985.464 1518.48 983.659 1518.04 Q981.877 1517.6 980.117 1517.6 Q975.488 1517.6 973.034 1520.72 Q970.603 1523.85 970.256 1530.17 Q971.622 1528.15 973.682 1527.09 Q975.742 1526 978.219 1526 Q983.427 1526 986.437 1529.17 Q989.469 1532.32 989.469 1537.76 Q989.469 1543.08 986.321 1546.3 Q983.173 1549.52 977.941 1549.52 Q971.946 1549.52 968.775 1544.94 Q965.603 1540.33 965.603 1531.6 Q965.603 1523.41 969.492 1518.55 Q973.381 1513.66 979.932 1513.66 Q981.691 1513.66 983.474 1514.01 Q985.279 1514.36 987.224 1515.05 Z\" fill=\"#000000\" fill-rule=\"evenodd\" fill-opacity=\"1\" /><path clip-path=\"url(#clip850)\" d=\"M1269.51 1532.44 Q1266.18 1532.44 1264.26 1534.22 Q1262.36 1536 1262.36 1539.13 Q1262.36 1542.25 1264.26 1544.03 Q1266.18 1545.82 1269.51 1545.82 Q1272.85 1545.82 1274.77 1544.03 Q1276.69 1542.23 1276.69 1539.13 Q1276.69 1536 1274.77 1534.22 Q1272.87 1532.44 1269.51 1532.44 M1264.84 1530.45 Q1261.83 1529.7 1260.14 1527.64 Q1258.47 1525.58 1258.47 1522.62 Q1258.47 1518.48 1261.41 1516.07 Q1264.38 1513.66 1269.51 1513.66 Q1274.68 1513.66 1277.62 1516.07 Q1280.56 1518.48 1280.56 1522.62 Q1280.56 1525.58 1278.87 1527.64 Q1277.2 1529.7 1274.21 1530.45 Q1277.59 1531.23 1279.47 1533.52 Q1281.37 1535.82 1281.37 1539.13 Q1281.37 1544.15 1278.29 1546.83 Q1275.23 1549.52 1269.51 1549.52 Q1263.8 1549.52 1260.72 1546.83 Q1257.66 1544.15 1257.66 1539.13 Q1257.66 1535.82 1259.56 1533.52 Q1261.46 1531.23 1264.84 1530.45 M1263.13 1523.06 Q1263.13 1525.75 1264.79 1527.25 Q1266.48 1528.76 1269.51 1528.76 Q1272.52 1528.76 1274.21 1527.25 Q1275.93 1525.75 1275.93 1523.06 Q1275.93 1520.38 1274.21 1518.87 Q1272.52 1517.37 1269.51 1517.37 Q1266.48 1517.37 1264.79 1518.87 Q1263.13 1520.38 1263.13 1523.06 Z\" fill=\"#000000\" fill-rule=\"evenodd\" fill-opacity=\"1\" /><path clip-path=\"url(#clip850)\" d=\"M1536.18 1544.91 L1543.82 1544.91 L1543.82 1518.55 L1535.51 1520.21 L1535.51 1515.95 L1543.77 1514.29 L1548.45 1514.29 L1548.45 1544.91 L1556.09 1544.91 L1556.09 1548.85 L1536.18 1548.85 L1536.18 1544.91 Z\" fill=\"#000000\" fill-rule=\"evenodd\" fill-opacity=\"1\" /><path clip-path=\"url(#clip850)\" d=\"M1575.53 1517.37 Q1571.92 1517.37 1570.09 1520.93 Q1568.29 1524.47 1568.29 1531.6 Q1568.29 1538.71 1570.09 1542.27 Q1571.92 1545.82 1575.53 1545.82 Q1579.17 1545.82 1580.97 1542.27 Q1582.8 1538.71 1582.8 1531.6 Q1582.8 1524.47 1580.97 1520.93 Q1579.17 1517.37 1575.53 1517.37 M1575.53 1513.66 Q1581.34 1513.66 1584.4 1518.27 Q1587.48 1522.85 1587.48 1531.6 Q1587.48 1540.33 1584.4 1544.94 Q1581.34 1549.52 1575.53 1549.52 Q1569.72 1549.52 1566.64 1544.94 Q1563.59 1540.33 1563.59 1531.6 Q1563.59 1522.85 1566.64 1518.27 Q1569.72 1513.66 1575.53 1513.66 Z\" fill=\"#000000\" fill-rule=\"evenodd\" fill-opacity=\"1\" /><path clip-path=\"url(#clip850)\" d=\"M1828.96 1544.91 L1836.6 1544.91 L1836.6 1518.55 L1828.29 1520.21 L1828.29 1515.95 L1836.55 1514.29 L1841.23 1514.29 L1841.23 1544.91 L1848.87 1544.91 L1848.87 1548.85 L1828.96 1548.85 L1828.96 1544.91 Z\" fill=\"#000000\" fill-rule=\"evenodd\" fill-opacity=\"1\" /><path clip-path=\"url(#clip850)\" d=\"M1862.34 1544.91 L1878.66 1544.91 L1878.66 1548.85 L1856.71 1548.85 L1856.71 1544.91 Q1859.38 1542.16 1863.96 1537.53 Q1868.56 1532.88 1869.75 1531.53 Q1871.99 1529.01 1872.87 1527.27 Q1873.77 1525.51 1873.77 1523.82 Q1873.77 1521.07 1871.83 1519.33 Q1869.91 1517.6 1866.81 1517.6 Q1864.61 1517.6 1862.15 1518.36 Q1859.72 1519.13 1856.94 1520.68 L1856.94 1515.95 Q1859.77 1514.82 1862.22 1514.24 Q1864.68 1513.66 1866.71 1513.66 Q1872.08 1513.66 1875.28 1516.35 Q1878.47 1519.03 1878.47 1523.52 Q1878.47 1525.65 1877.66 1527.57 Q1876.87 1529.47 1874.77 1532.07 Q1874.19 1532.74 1871.09 1535.95 Q1867.99 1539.15 1862.34 1544.91 Z\" fill=\"#000000\" fill-rule=\"evenodd\" fill-opacity=\"1\" /><path clip-path=\"url(#clip850)\" d=\"M2119.9 1544.91 L2127.53 1544.91 L2127.53 1518.55 L2119.22 1520.21 L2119.22 1515.95 L2127.49 1514.29 L2132.16 1514.29 L2132.16 1544.91 L2139.8 1544.91 L2139.8 1548.85 L2119.9 1548.85 L2119.9 1544.91 Z\" fill=\"#000000\" fill-rule=\"evenodd\" fill-opacity=\"1\" /><path clip-path=\"url(#clip850)\" d=\"M2162.09 1518.36 L2150.29 1536.81 L2162.09 1536.81 L2162.09 1518.36 M2160.87 1514.29 L2166.75 1514.29 L2166.75 1536.81 L2171.68 1536.81 L2171.68 1540.7 L2166.75 1540.7 L2166.75 1548.85 L2162.09 1548.85 L2162.09 1540.7 L2146.49 1540.7 L2146.49 1536.19 L2160.87 1514.29 Z\" fill=\"#000000\" fill-rule=\"evenodd\" fill-opacity=\"1\" /><polyline clip-path=\"url(#clip855)\" style=\"stroke:#000000; stroke-linecap:butt; stroke-linejoin:round; stroke-width:2; stroke-opacity:0.1; fill:none\" points=\"\n",
       "  186.274,1479.94 2352.76,1479.94 \n",
       "  \"/>\n",
       "<polyline clip-path=\"url(#clip855)\" style=\"stroke:#000000; stroke-linecap:butt; stroke-linejoin:round; stroke-width:2; stroke-opacity:0.1; fill:none\" points=\"\n",
       "  186.274,1422.16 2352.76,1422.16 \n",
       "  \"/>\n",
       "<polyline clip-path=\"url(#clip855)\" style=\"stroke:#000000; stroke-linecap:butt; stroke-linejoin:round; stroke-width:2; stroke-opacity:0.1; fill:none\" points=\"\n",
       "  186.274,1364.37 2352.76,1364.37 \n",
       "  \"/>\n",
       "<polyline clip-path=\"url(#clip855)\" style=\"stroke:#000000; stroke-linecap:butt; stroke-linejoin:round; stroke-width:2; stroke-opacity:0.1; fill:none\" points=\"\n",
       "  186.274,1306.59 2352.76,1306.59 \n",
       "  \"/>\n",
       "<polyline clip-path=\"url(#clip855)\" style=\"stroke:#000000; stroke-linecap:butt; stroke-linejoin:round; stroke-width:2; stroke-opacity:0.1; fill:none\" points=\"\n",
       "  186.274,1248.81 2352.76,1248.81 \n",
       "  \"/>\n",
       "<polyline clip-path=\"url(#clip850)\" style=\"stroke:#000000; stroke-linecap:butt; stroke-linejoin:round; stroke-width:4; stroke-opacity:1; fill:none\" points=\"\n",
       "  186.274,1486.45 186.274,1247.24 \n",
       "  \"/>\n",
       "<polyline clip-path=\"url(#clip850)\" style=\"stroke:#000000; stroke-linecap:butt; stroke-linejoin:round; stroke-width:4; stroke-opacity:1; fill:none\" points=\"\n",
       "  186.274,1479.94 205.172,1479.94 \n",
       "  \"/>\n",
       "<polyline clip-path=\"url(#clip850)\" style=\"stroke:#000000; stroke-linecap:butt; stroke-linejoin:round; stroke-width:4; stroke-opacity:1; fill:none\" points=\"\n",
       "  186.274,1422.16 205.172,1422.16 \n",
       "  \"/>\n",
       "<polyline clip-path=\"url(#clip850)\" style=\"stroke:#000000; stroke-linecap:butt; stroke-linejoin:round; stroke-width:4; stroke-opacity:1; fill:none\" points=\"\n",
       "  186.274,1364.37 205.172,1364.37 \n",
       "  \"/>\n",
       "<polyline clip-path=\"url(#clip850)\" style=\"stroke:#000000; stroke-linecap:butt; stroke-linejoin:round; stroke-width:4; stroke-opacity:1; fill:none\" points=\"\n",
       "  186.274,1306.59 205.172,1306.59 \n",
       "  \"/>\n",
       "<polyline clip-path=\"url(#clip850)\" style=\"stroke:#000000; stroke-linecap:butt; stroke-linejoin:round; stroke-width:4; stroke-opacity:1; fill:none\" points=\"\n",
       "  186.274,1248.81 205.172,1248.81 \n",
       "  \"/>\n",
       "<path clip-path=\"url(#clip850)\" d=\"M62.9365 1465.74 Q59.3254 1465.74 57.4967 1469.31 Q55.6912 1472.85 55.6912 1479.98 Q55.6912 1487.08 57.4967 1490.65 Q59.3254 1494.19 62.9365 1494.19 Q66.5707 1494.19 68.3763 1490.65 Q70.205 1487.08 70.205 1479.98 Q70.205 1472.85 68.3763 1469.31 Q66.5707 1465.74 62.9365 1465.74 M62.9365 1462.04 Q68.7467 1462.04 71.8022 1466.65 Q74.8809 1471.23 74.8809 1479.98 Q74.8809 1488.71 71.8022 1493.31 Q68.7467 1497.89 62.9365 1497.89 Q57.1264 1497.89 54.0477 1493.31 Q50.9921 1488.71 50.9921 1479.98 Q50.9921 1471.23 54.0477 1466.65 Q57.1264 1462.04 62.9365 1462.04 Z\" fill=\"#000000\" fill-rule=\"evenodd\" fill-opacity=\"1\" /><path clip-path=\"url(#clip850)\" d=\"M83.0984 1491.34 L87.9827 1491.34 L87.9827 1497.22 L83.0984 1497.22 L83.0984 1491.34 Z\" fill=\"#000000\" fill-rule=\"evenodd\" fill-opacity=\"1\" /><path clip-path=\"url(#clip850)\" d=\"M108.168 1465.74 Q104.557 1465.74 102.728 1469.31 Q100.922 1472.85 100.922 1479.98 Q100.922 1487.08 102.728 1490.65 Q104.557 1494.19 108.168 1494.19 Q111.802 1494.19 113.608 1490.65 Q115.436 1487.08 115.436 1479.98 Q115.436 1472.85 113.608 1469.31 Q111.802 1465.74 108.168 1465.74 M108.168 1462.04 Q113.978 1462.04 117.033 1466.65 Q120.112 1471.23 120.112 1479.98 Q120.112 1488.71 117.033 1493.31 Q113.978 1497.89 108.168 1497.89 Q102.358 1497.89 99.2789 1493.31 Q96.2234 1488.71 96.2234 1479.98 Q96.2234 1471.23 99.2789 1466.65 Q102.358 1462.04 108.168 1462.04 Z\" fill=\"#000000\" fill-rule=\"evenodd\" fill-opacity=\"1\" /><path clip-path=\"url(#clip850)\" d=\"M138.33 1465.74 Q134.719 1465.74 132.89 1469.31 Q131.084 1472.85 131.084 1479.98 Q131.084 1487.08 132.89 1490.65 Q134.719 1494.19 138.33 1494.19 Q141.964 1494.19 143.769 1490.65 Q145.598 1487.08 145.598 1479.98 Q145.598 1472.85 143.769 1469.31 Q141.964 1465.74 138.33 1465.74 M138.33 1462.04 Q144.14 1462.04 147.195 1466.65 Q150.274 1471.23 150.274 1479.98 Q150.274 1488.71 147.195 1493.31 Q144.14 1497.89 138.33 1497.89 Q132.519 1497.89 129.441 1493.31 Q126.385 1488.71 126.385 1479.98 Q126.385 1471.23 129.441 1466.65 Q132.519 1462.04 138.33 1462.04 Z\" fill=\"#000000\" fill-rule=\"evenodd\" fill-opacity=\"1\" /><path clip-path=\"url(#clip850)\" d=\"M63.9319 1407.96 Q60.3208 1407.96 58.4921 1411.52 Q56.6865 1415.06 56.6865 1422.19 Q56.6865 1429.3 58.4921 1432.87 Q60.3208 1436.41 63.9319 1436.41 Q67.5661 1436.41 69.3717 1432.87 Q71.2004 1429.3 71.2004 1422.19 Q71.2004 1415.06 69.3717 1411.52 Q67.5661 1407.96 63.9319 1407.96 M63.9319 1404.25 Q69.742 1404.25 72.7976 1408.86 Q75.8763 1413.44 75.8763 1422.19 Q75.8763 1430.92 72.7976 1435.53 Q69.742 1440.11 63.9319 1440.11 Q58.1217 1440.11 55.043 1435.53 Q51.9875 1430.92 51.9875 1422.19 Q51.9875 1413.44 55.043 1408.86 Q58.1217 1404.25 63.9319 1404.25 Z\" fill=\"#000000\" fill-rule=\"evenodd\" fill-opacity=\"1\" /><path clip-path=\"url(#clip850)\" d=\"M84.0938 1433.56 L88.978 1433.56 L88.978 1439.44 L84.0938 1439.44 L84.0938 1433.56 Z\" fill=\"#000000\" fill-rule=\"evenodd\" fill-opacity=\"1\" /><path clip-path=\"url(#clip850)\" d=\"M103.191 1435.5 L119.51 1435.5 L119.51 1439.44 L97.566 1439.44 L97.566 1435.5 Q100.228 1432.75 104.811 1428.12 Q109.418 1423.47 110.598 1422.12 Q112.844 1419.6 113.723 1417.87 Q114.626 1416.11 114.626 1414.42 Q114.626 1411.66 112.682 1409.93 Q110.76 1408.19 107.658 1408.19 Q105.459 1408.19 103.006 1408.95 Q100.575 1409.72 97.7974 1411.27 L97.7974 1406.55 Q100.621 1405.41 103.075 1404.83 Q105.529 1404.25 107.566 1404.25 Q112.936 1404.25 116.131 1406.94 Q119.325 1409.62 119.325 1414.12 Q119.325 1416.25 118.515 1418.17 Q117.728 1420.06 115.621 1422.66 Q115.043 1423.33 111.941 1426.55 Q108.839 1429.74 103.191 1435.5 Z\" fill=\"#000000\" fill-rule=\"evenodd\" fill-opacity=\"1\" /><path clip-path=\"url(#clip850)\" d=\"M129.371 1404.88 L147.728 1404.88 L147.728 1408.81 L133.654 1408.81 L133.654 1417.29 Q134.672 1416.94 135.691 1416.78 Q136.709 1416.59 137.728 1416.59 Q143.515 1416.59 146.894 1419.76 Q150.274 1422.93 150.274 1428.35 Q150.274 1433.93 146.802 1437.03 Q143.33 1440.11 137.01 1440.11 Q134.834 1440.11 132.566 1439.74 Q130.32 1439.37 127.913 1438.63 L127.913 1433.93 Q129.996 1435.06 132.219 1435.62 Q134.441 1436.18 136.918 1436.18 Q140.922 1436.18 143.26 1434.07 Q145.598 1431.96 145.598 1428.35 Q145.598 1424.74 143.26 1422.63 Q140.922 1420.53 136.918 1420.53 Q135.043 1420.53 133.168 1420.94 Q131.316 1421.36 129.371 1422.24 L129.371 1404.88 Z\" fill=\"#000000\" fill-rule=\"evenodd\" fill-opacity=\"1\" /><path clip-path=\"url(#clip850)\" d=\"M62.9365 1350.17 Q59.3254 1350.17 57.4967 1353.74 Q55.6912 1357.28 55.6912 1364.41 Q55.6912 1371.52 57.4967 1375.08 Q59.3254 1378.62 62.9365 1378.62 Q66.5707 1378.62 68.3763 1375.08 Q70.205 1371.52 70.205 1364.41 Q70.205 1357.28 68.3763 1353.74 Q66.5707 1350.17 62.9365 1350.17 M62.9365 1346.47 Q68.7467 1346.47 71.8022 1351.08 Q74.8809 1355.66 74.8809 1364.41 Q74.8809 1373.14 71.8022 1377.74 Q68.7467 1382.33 62.9365 1382.33 Q57.1264 1382.33 54.0477 1377.74 Q50.9921 1373.14 50.9921 1364.41 Q50.9921 1355.66 54.0477 1351.08 Q57.1264 1346.47 62.9365 1346.47 Z\" fill=\"#000000\" fill-rule=\"evenodd\" fill-opacity=\"1\" /><path clip-path=\"url(#clip850)\" d=\"M83.0984 1375.78 L87.9827 1375.78 L87.9827 1381.65 L83.0984 1381.65 L83.0984 1375.78 Z\" fill=\"#000000\" fill-rule=\"evenodd\" fill-opacity=\"1\" /><path clip-path=\"url(#clip850)\" d=\"M98.2141 1347.09 L116.57 1347.09 L116.57 1351.03 L102.496 1351.03 L102.496 1359.5 Q103.515 1359.16 104.534 1358.99 Q105.552 1358.81 106.571 1358.81 Q112.358 1358.81 115.737 1361.98 Q119.117 1365.15 119.117 1370.57 Q119.117 1376.15 115.645 1379.25 Q112.172 1382.33 105.853 1382.33 Q103.677 1382.33 101.409 1381.96 Q99.1632 1381.59 96.7558 1380.84 L96.7558 1376.15 Q98.8391 1377.28 101.061 1377.84 Q103.284 1378.39 105.76 1378.39 Q109.765 1378.39 112.103 1376.28 Q114.441 1374.18 114.441 1370.57 Q114.441 1366.96 112.103 1364.85 Q109.765 1362.74 105.76 1362.74 Q103.885 1362.74 102.01 1363.16 Q100.159 1363.58 98.2141 1364.46 L98.2141 1347.09 Z\" fill=\"#000000\" fill-rule=\"evenodd\" fill-opacity=\"1\" /><path clip-path=\"url(#clip850)\" d=\"M138.33 1350.17 Q134.719 1350.17 132.89 1353.74 Q131.084 1357.28 131.084 1364.41 Q131.084 1371.52 132.89 1375.08 Q134.719 1378.62 138.33 1378.62 Q141.964 1378.62 143.769 1375.08 Q145.598 1371.52 145.598 1364.41 Q145.598 1357.28 143.769 1353.74 Q141.964 1350.17 138.33 1350.17 M138.33 1346.47 Q144.14 1346.47 147.195 1351.08 Q150.274 1355.66 150.274 1364.41 Q150.274 1373.14 147.195 1377.74 Q144.14 1382.33 138.33 1382.33 Q132.519 1382.33 129.441 1377.74 Q126.385 1373.14 126.385 1364.41 Q126.385 1355.66 129.441 1351.08 Q132.519 1346.47 138.33 1346.47 Z\" fill=\"#000000\" fill-rule=\"evenodd\" fill-opacity=\"1\" /><path clip-path=\"url(#clip850)\" d=\"M63.9319 1292.39 Q60.3208 1292.39 58.4921 1295.95 Q56.6865 1299.5 56.6865 1306.63 Q56.6865 1313.73 58.4921 1317.3 Q60.3208 1320.84 63.9319 1320.84 Q67.5661 1320.84 69.3717 1317.3 Q71.2004 1313.73 71.2004 1306.63 Q71.2004 1299.5 69.3717 1295.95 Q67.5661 1292.39 63.9319 1292.39 M63.9319 1288.69 Q69.742 1288.69 72.7976 1293.29 Q75.8763 1297.88 75.8763 1306.63 Q75.8763 1315.35 72.7976 1319.96 Q69.742 1324.54 63.9319 1324.54 Q58.1217 1324.54 55.043 1319.96 Q51.9875 1315.35 51.9875 1306.63 Q51.9875 1297.88 55.043 1293.29 Q58.1217 1288.69 63.9319 1288.69 Z\" fill=\"#000000\" fill-rule=\"evenodd\" fill-opacity=\"1\" /><path clip-path=\"url(#clip850)\" d=\"M84.0938 1317.99 L88.978 1317.99 L88.978 1323.87 L84.0938 1323.87 L84.0938 1317.99 Z\" fill=\"#000000\" fill-rule=\"evenodd\" fill-opacity=\"1\" /><path clip-path=\"url(#clip850)\" d=\"M97.9826 1289.31 L120.205 1289.31 L120.205 1291.3 L107.658 1323.87 L102.774 1323.87 L114.58 1293.25 L97.9826 1293.25 L97.9826 1289.31 Z\" fill=\"#000000\" fill-rule=\"evenodd\" fill-opacity=\"1\" /><path clip-path=\"url(#clip850)\" d=\"M129.371 1289.31 L147.728 1289.31 L147.728 1293.25 L133.654 1293.25 L133.654 1301.72 Q134.672 1301.37 135.691 1301.21 Q136.709 1301.02 137.728 1301.02 Q143.515 1301.02 146.894 1304.19 Q150.274 1307.37 150.274 1312.78 Q150.274 1318.36 146.802 1321.46 Q143.33 1324.54 137.01 1324.54 Q134.834 1324.54 132.566 1324.17 Q130.32 1323.8 127.913 1323.06 L127.913 1318.36 Q129.996 1319.5 132.219 1320.05 Q134.441 1320.61 136.918 1320.61 Q140.922 1320.61 143.26 1318.5 Q145.598 1316.39 145.598 1312.78 Q145.598 1309.17 143.26 1307.07 Q140.922 1304.96 136.918 1304.96 Q135.043 1304.96 133.168 1305.38 Q131.316 1305.79 129.371 1306.67 L129.371 1289.31 Z\" fill=\"#000000\" fill-rule=\"evenodd\" fill-opacity=\"1\" /><path clip-path=\"url(#clip850)\" d=\"M53.7467 1262.15 L61.3856 1262.15 L61.3856 1235.79 L53.0754 1237.45 L53.0754 1233.19 L61.3393 1231.53 L66.0152 1231.53 L66.0152 1262.15 L73.654 1262.15 L73.654 1266.09 L53.7467 1266.09 L53.7467 1262.15 Z\" fill=\"#000000\" fill-rule=\"evenodd\" fill-opacity=\"1\" /><path clip-path=\"url(#clip850)\" d=\"M83.0984 1260.21 L87.9827 1260.21 L87.9827 1266.09 L83.0984 1266.09 L83.0984 1260.21 Z\" fill=\"#000000\" fill-rule=\"evenodd\" fill-opacity=\"1\" /><path clip-path=\"url(#clip850)\" d=\"M108.168 1234.6 Q104.557 1234.6 102.728 1238.17 Q100.922 1241.71 100.922 1248.84 Q100.922 1255.95 102.728 1259.51 Q104.557 1263.05 108.168 1263.05 Q111.802 1263.05 113.608 1259.51 Q115.436 1255.95 115.436 1248.84 Q115.436 1241.71 113.608 1238.17 Q111.802 1234.6 108.168 1234.6 M108.168 1230.9 Q113.978 1230.9 117.033 1235.51 Q120.112 1240.09 120.112 1248.84 Q120.112 1257.57 117.033 1262.17 Q113.978 1266.76 108.168 1266.76 Q102.358 1266.76 99.2789 1262.17 Q96.2234 1257.57 96.2234 1248.84 Q96.2234 1240.09 99.2789 1235.51 Q102.358 1230.9 108.168 1230.9 Z\" fill=\"#000000\" fill-rule=\"evenodd\" fill-opacity=\"1\" /><path clip-path=\"url(#clip850)\" d=\"M138.33 1234.6 Q134.719 1234.6 132.89 1238.17 Q131.084 1241.71 131.084 1248.84 Q131.084 1255.95 132.89 1259.51 Q134.719 1263.05 138.33 1263.05 Q141.964 1263.05 143.769 1259.51 Q145.598 1255.95 145.598 1248.84 Q145.598 1241.71 143.769 1238.17 Q141.964 1234.6 138.33 1234.6 M138.33 1230.9 Q144.14 1230.9 147.195 1235.51 Q150.274 1240.09 150.274 1248.84 Q150.274 1257.57 147.195 1262.17 Q144.14 1266.76 138.33 1266.76 Q132.519 1266.76 129.441 1262.17 Q126.385 1257.57 126.385 1248.84 Q126.385 1240.09 129.441 1235.51 Q132.519 1230.9 138.33 1230.9 Z\" fill=\"#000000\" fill-rule=\"evenodd\" fill-opacity=\"1\" /><polyline clip-path=\"url(#clip855)\" style=\"stroke:#009af9; stroke-linecap:butt; stroke-linejoin:round; stroke-width:4; stroke-opacity:1; fill:none\" points=\"\n",
       "  247.59,1419.62 393.579,1386.59 539.568,1309.76 685.558,1479.68 831.547,1287.17 977.536,1431.11 1123.53,1358.43 1269.51,1374.87 1415.5,1254.01 1561.49,1349.8 \n",
       "  1707.48,1302.87 1853.47,1392.47 1999.46,1447.51 2145.45,1418.17 2291.44,1381.55 \n",
       "  \"/>\n",
       "<path clip-path=\"url(#clip850)\" d=\"\n",
       "M1985.68 1358.9 L2280.54 1358.9 L2280.54 1255.22 L1985.68 1255.22  Z\n",
       "  \" fill=\"#ffffff\" fill-rule=\"evenodd\" fill-opacity=\"1\"/>\n",
       "<polyline clip-path=\"url(#clip850)\" style=\"stroke:#000000; stroke-linecap:butt; stroke-linejoin:round; stroke-width:4; stroke-opacity:1; fill:none\" points=\"\n",
       "  1985.68,1358.9 2280.54,1358.9 2280.54,1255.22 1985.68,1255.22 1985.68,1358.9 \n",
       "  \"/>\n",
       "<polyline clip-path=\"url(#clip850)\" style=\"stroke:#009af9; stroke-linecap:butt; stroke-linejoin:round; stroke-width:4; stroke-opacity:1; fill:none\" points=\"\n",
       "  2009.75,1307.06 2154.18,1307.06 \n",
       "  \"/>\n",
       "<path clip-path=\"url(#clip850)\" d=\"M2192.1 1326.74 Q2190.29 1331.37 2188.58 1332.79 Q2186.86 1334.2 2183.99 1334.2 L2180.59 1334.2 L2180.59 1330.63 L2183.09 1330.63 Q2184.85 1330.63 2185.82 1329.8 Q2186.79 1328.97 2187.97 1325.87 L2188.74 1323.92 L2178.25 1298.41 L2182.77 1298.41 L2190.87 1318.69 L2198.97 1298.41 L2203.48 1298.41 L2192.1 1326.74 Z\" fill=\"#000000\" fill-rule=\"evenodd\" fill-opacity=\"1\" /><path clip-path=\"url(#clip850)\" d=\"M2222.81 1293.85 L2211.01 1312.3 L2222.81 1312.3 L2222.81 1293.85 M2221.59 1289.78 L2227.47 1289.78 L2227.47 1312.3 L2232.4 1312.3 L2232.4 1316.19 L2227.47 1316.19 L2227.47 1324.34 L2222.81 1324.34 L2222.81 1316.19 L2207.21 1316.19 L2207.21 1311.68 L2221.59 1289.78 Z\" fill=\"#000000\" fill-rule=\"evenodd\" fill-opacity=\"1\" /></svg>\n"
      ]
     },
     "execution_count": 121,
     "metadata": {},
     "output_type": "execute_result"
    }
   ],
   "source": [
    "y = rand(15,4)\n",
    "plot(x,y, layout=(4,1))"
   ]
  },
  {
   "cell_type": "code",
   "execution_count": 122,
   "metadata": {},
   "outputs": [
    {
     "data": {
      "image/svg+xml": [
       "<?xml version=\"1.0\" encoding=\"utf-8\"?>\n",
       "<svg xmlns=\"http://www.w3.org/2000/svg\" xmlns:xlink=\"http://www.w3.org/1999/xlink\" width=\"600\" height=\"400\" viewBox=\"0 0 2400 1600\">\n",
       "<defs>\n",
       "  <clipPath id=\"clip890\">\n",
       "    <rect x=\"0\" y=\"0\" width=\"2400\" height=\"1600\"/>\n",
       "  </clipPath>\n",
       "</defs>\n",
       "<path clip-path=\"url(#clip890)\" d=\"\n",
       "M0 1600 L2400 1600 L2400 0 L0 0  Z\n",
       "  \" fill=\"#ffffff\" fill-rule=\"evenodd\" fill-opacity=\"1\"/>\n",
       "<defs>\n",
       "  <clipPath id=\"clip891\">\n",
       "    <rect x=\"480\" y=\"0\" width=\"1681\" height=\"1600\"/>\n",
       "  </clipPath>\n",
       "</defs>\n",
       "<path clip-path=\"url(#clip890)\" d=\"\n",
       "M110.858 1486.45 L2352.76 1486.45 L2352.76 47.2441 L110.858 47.2441  Z\n",
       "  \" fill=\"#ffffff\" fill-rule=\"evenodd\" fill-opacity=\"1\"/>\n",
       "<defs>\n",
       "  <clipPath id=\"clip892\">\n",
       "    <rect x=\"110\" y=\"47\" width=\"2243\" height=\"1440\"/>\n",
       "  </clipPath>\n",
       "</defs>\n",
       "<polyline clip-path=\"url(#clip892)\" style=\"stroke:#000000; stroke-linecap:butt; stroke-linejoin:round; stroke-width:2; stroke-opacity:0.1; fill:none\" points=\"\n",
       "  160.113,1486.45 160.113,47.2441 \n",
       "  \"/>\n",
       "<polyline clip-path=\"url(#clip892)\" style=\"stroke:#000000; stroke-linecap:butt; stroke-linejoin:round; stroke-width:2; stroke-opacity:0.1; fill:none\" points=\"\n",
       "  869.844,1486.45 869.844,47.2441 \n",
       "  \"/>\n",
       "<polyline clip-path=\"url(#clip892)\" style=\"stroke:#000000; stroke-linecap:butt; stroke-linejoin:round; stroke-width:2; stroke-opacity:0.1; fill:none\" points=\"\n",
       "  1579.57,1486.45 1579.57,47.2441 \n",
       "  \"/>\n",
       "<polyline clip-path=\"url(#clip892)\" style=\"stroke:#000000; stroke-linecap:butt; stroke-linejoin:round; stroke-width:2; stroke-opacity:0.1; fill:none\" points=\"\n",
       "  2289.31,1486.45 2289.31,47.2441 \n",
       "  \"/>\n",
       "<polyline clip-path=\"url(#clip890)\" style=\"stroke:#000000; stroke-linecap:butt; stroke-linejoin:round; stroke-width:4; stroke-opacity:1; fill:none\" points=\"\n",
       "  110.858,1486.45 2352.76,1486.45 \n",
       "  \"/>\n",
       "<polyline clip-path=\"url(#clip890)\" style=\"stroke:#000000; stroke-linecap:butt; stroke-linejoin:round; stroke-width:4; stroke-opacity:1; fill:none\" points=\"\n",
       "  160.113,1486.45 160.113,1467.55 \n",
       "  \"/>\n",
       "<polyline clip-path=\"url(#clip890)\" style=\"stroke:#000000; stroke-linecap:butt; stroke-linejoin:round; stroke-width:4; stroke-opacity:1; fill:none\" points=\"\n",
       "  869.844,1486.45 869.844,1467.55 \n",
       "  \"/>\n",
       "<polyline clip-path=\"url(#clip890)\" style=\"stroke:#000000; stroke-linecap:butt; stroke-linejoin:round; stroke-width:4; stroke-opacity:1; fill:none\" points=\"\n",
       "  1579.57,1486.45 1579.57,1467.55 \n",
       "  \"/>\n",
       "<polyline clip-path=\"url(#clip890)\" style=\"stroke:#000000; stroke-linecap:butt; stroke-linejoin:round; stroke-width:4; stroke-opacity:1; fill:none\" points=\"\n",
       "  2289.31,1486.45 2289.31,1467.55 \n",
       "  \"/>\n",
       "<path clip-path=\"url(#clip890)\" d=\"M160.113 1517.37 Q156.502 1517.37 154.673 1520.93 Q152.868 1524.47 152.868 1531.6 Q152.868 1538.71 154.673 1542.27 Q156.502 1545.82 160.113 1545.82 Q163.747 1545.82 165.553 1542.27 Q167.382 1538.71 167.382 1531.6 Q167.382 1524.47 165.553 1520.93 Q163.747 1517.37 160.113 1517.37 M160.113 1513.66 Q165.923 1513.66 168.979 1518.27 Q172.057 1522.85 172.057 1531.6 Q172.057 1540.33 168.979 1544.94 Q165.923 1549.52 160.113 1549.52 Q154.303 1549.52 151.224 1544.94 Q148.169 1540.33 148.169 1531.6 Q148.169 1522.85 151.224 1518.27 Q154.303 1513.66 160.113 1513.66 Z\" fill=\"#000000\" fill-rule=\"evenodd\" fill-opacity=\"1\" /><path clip-path=\"url(#clip890)\" d=\"M844.543 1514.29 L862.9 1514.29 L862.9 1518.22 L848.826 1518.22 L848.826 1526.7 Q849.844 1526.35 850.863 1526.19 Q851.881 1526 852.9 1526 Q858.687 1526 862.066 1529.17 Q865.446 1532.34 865.446 1537.76 Q865.446 1543.34 861.974 1546.44 Q858.501 1549.52 852.182 1549.52 Q850.006 1549.52 847.738 1549.15 Q845.492 1548.78 843.085 1548.04 L843.085 1543.34 Q845.168 1544.47 847.39 1545.03 Q849.613 1545.58 852.089 1545.58 Q856.094 1545.58 858.432 1543.48 Q860.77 1541.37 860.77 1537.76 Q860.77 1534.15 858.432 1532.04 Q856.094 1529.94 852.089 1529.94 Q850.215 1529.94 848.34 1530.35 Q846.488 1530.77 844.543 1531.65 L844.543 1514.29 Z\" fill=\"#000000\" fill-rule=\"evenodd\" fill-opacity=\"1\" /><path clip-path=\"url(#clip890)\" d=\"M884.659 1517.37 Q881.048 1517.37 879.219 1520.93 Q877.413 1524.47 877.413 1531.6 Q877.413 1538.71 879.219 1542.27 Q881.048 1545.82 884.659 1545.82 Q888.293 1545.82 890.099 1542.27 Q891.927 1538.71 891.927 1531.6 Q891.927 1524.47 890.099 1520.93 Q888.293 1517.37 884.659 1517.37 M884.659 1513.66 Q890.469 1513.66 893.524 1518.27 Q896.603 1522.85 896.603 1531.6 Q896.603 1540.33 893.524 1544.94 Q890.469 1549.52 884.659 1549.52 Q878.849 1549.52 875.77 1544.94 Q872.714 1540.33 872.714 1531.6 Q872.714 1522.85 875.77 1518.27 Q878.849 1513.66 884.659 1513.66 Z\" fill=\"#000000\" fill-rule=\"evenodd\" fill-opacity=\"1\" /><path clip-path=\"url(#clip890)\" d=\"M1539.18 1544.91 L1546.82 1544.91 L1546.82 1518.55 L1538.51 1520.21 L1538.51 1515.95 L1546.77 1514.29 L1551.45 1514.29 L1551.45 1544.91 L1559.09 1544.91 L1559.09 1548.85 L1539.18 1548.85 L1539.18 1544.91 Z\" fill=\"#000000\" fill-rule=\"evenodd\" fill-opacity=\"1\" /><path clip-path=\"url(#clip890)\" d=\"M1578.53 1517.37 Q1574.92 1517.37 1573.09 1520.93 Q1571.29 1524.47 1571.29 1531.6 Q1571.29 1538.71 1573.09 1542.27 Q1574.92 1545.82 1578.53 1545.82 Q1582.17 1545.82 1583.97 1542.27 Q1585.8 1538.71 1585.8 1531.6 Q1585.8 1524.47 1583.97 1520.93 Q1582.17 1517.37 1578.53 1517.37 M1578.53 1513.66 Q1584.34 1513.66 1587.4 1518.27 Q1590.48 1522.85 1590.48 1531.6 Q1590.48 1540.33 1587.4 1544.94 Q1584.34 1549.52 1578.53 1549.52 Q1572.72 1549.52 1569.64 1544.94 Q1566.59 1540.33 1566.59 1531.6 Q1566.59 1522.85 1569.64 1518.27 Q1572.72 1513.66 1578.53 1513.66 Z\" fill=\"#000000\" fill-rule=\"evenodd\" fill-opacity=\"1\" /><path clip-path=\"url(#clip890)\" d=\"M1608.7 1517.37 Q1605.08 1517.37 1603.26 1520.93 Q1601.45 1524.47 1601.45 1531.6 Q1601.45 1538.71 1603.26 1542.27 Q1605.08 1545.82 1608.7 1545.82 Q1612.33 1545.82 1614.13 1542.27 Q1615.96 1538.71 1615.96 1531.6 Q1615.96 1524.47 1614.13 1520.93 Q1612.33 1517.37 1608.7 1517.37 M1608.7 1513.66 Q1614.51 1513.66 1617.56 1518.27 Q1620.64 1522.85 1620.64 1531.6 Q1620.64 1540.33 1617.56 1544.94 Q1614.51 1549.52 1608.7 1549.52 Q1602.89 1549.52 1599.81 1544.94 Q1596.75 1540.33 1596.75 1531.6 Q1596.75 1522.85 1599.81 1518.27 Q1602.89 1513.66 1608.7 1513.66 Z\" fill=\"#000000\" fill-rule=\"evenodd\" fill-opacity=\"1\" /><path clip-path=\"url(#clip890)\" d=\"M2248.91 1544.91 L2256.55 1544.91 L2256.55 1518.55 L2248.24 1520.21 L2248.24 1515.95 L2256.51 1514.29 L2261.18 1514.29 L2261.18 1544.91 L2268.82 1544.91 L2268.82 1548.85 L2248.91 1548.85 L2248.91 1544.91 Z\" fill=\"#000000\" fill-rule=\"evenodd\" fill-opacity=\"1\" /><path clip-path=\"url(#clip890)\" d=\"M2278.31 1514.29 L2296.67 1514.29 L2296.67 1518.22 L2282.59 1518.22 L2282.59 1526.7 Q2283.61 1526.35 2284.63 1526.19 Q2285.65 1526 2286.67 1526 Q2292.45 1526 2295.83 1529.17 Q2299.21 1532.34 2299.21 1537.76 Q2299.21 1543.34 2295.74 1546.44 Q2292.27 1549.52 2285.95 1549.52 Q2283.77 1549.52 2281.51 1549.15 Q2279.26 1548.78 2276.85 1548.04 L2276.85 1543.34 Q2278.94 1544.47 2281.16 1545.03 Q2283.38 1545.58 2285.86 1545.58 Q2289.86 1545.58 2292.2 1543.48 Q2294.54 1541.37 2294.54 1537.76 Q2294.54 1534.15 2292.2 1532.04 Q2289.86 1529.94 2285.86 1529.94 Q2283.98 1529.94 2282.11 1530.35 Q2280.26 1530.77 2278.31 1531.65 L2278.31 1514.29 Z\" fill=\"#000000\" fill-rule=\"evenodd\" fill-opacity=\"1\" /><path clip-path=\"url(#clip890)\" d=\"M2318.43 1517.37 Q2314.82 1517.37 2312.99 1520.93 Q2311.18 1524.47 2311.18 1531.6 Q2311.18 1538.71 2312.99 1542.27 Q2314.82 1545.82 2318.43 1545.82 Q2322.06 1545.82 2323.87 1542.27 Q2325.69 1538.71 2325.69 1531.6 Q2325.69 1524.47 2323.87 1520.93 Q2322.06 1517.37 2318.43 1517.37 M2318.43 1513.66 Q2324.24 1513.66 2327.29 1518.27 Q2330.37 1522.85 2330.37 1531.6 Q2330.37 1540.33 2327.29 1544.94 Q2324.24 1549.52 2318.43 1549.52 Q2312.62 1549.52 2309.54 1544.94 Q2306.48 1540.33 2306.48 1531.6 Q2306.48 1522.85 2309.54 1518.27 Q2312.62 1513.66 2318.43 1513.66 Z\" fill=\"#000000\" fill-rule=\"evenodd\" fill-opacity=\"1\" /><polyline clip-path=\"url(#clip892)\" style=\"stroke:#000000; stroke-linecap:butt; stroke-linejoin:round; stroke-width:2; stroke-opacity:0.1; fill:none\" points=\"\n",
       "  110.858,1181.71 2352.76,1181.71 \n",
       "  \"/>\n",
       "<polyline clip-path=\"url(#clip892)\" style=\"stroke:#000000; stroke-linecap:butt; stroke-linejoin:round; stroke-width:2; stroke-opacity:0.1; fill:none\" points=\"\n",
       "  110.858,804.561 2352.76,804.561 \n",
       "  \"/>\n",
       "<polyline clip-path=\"url(#clip892)\" style=\"stroke:#000000; stroke-linecap:butt; stroke-linejoin:round; stroke-width:2; stroke-opacity:0.1; fill:none\" points=\"\n",
       "  110.858,427.411 2352.76,427.411 \n",
       "  \"/>\n",
       "<polyline clip-path=\"url(#clip892)\" style=\"stroke:#000000; stroke-linecap:butt; stroke-linejoin:round; stroke-width:2; stroke-opacity:0.1; fill:none\" points=\"\n",
       "  110.858,50.2613 2352.76,50.2613 \n",
       "  \"/>\n",
       "<polyline clip-path=\"url(#clip890)\" style=\"stroke:#000000; stroke-linecap:butt; stroke-linejoin:round; stroke-width:4; stroke-opacity:1; fill:none\" points=\"\n",
       "  110.858,1486.45 110.858,47.2441 \n",
       "  \"/>\n",
       "<polyline clip-path=\"url(#clip890)\" style=\"stroke:#000000; stroke-linecap:butt; stroke-linejoin:round; stroke-width:4; stroke-opacity:1; fill:none\" points=\"\n",
       "  110.858,1181.71 129.755,1181.71 \n",
       "  \"/>\n",
       "<polyline clip-path=\"url(#clip890)\" style=\"stroke:#000000; stroke-linecap:butt; stroke-linejoin:round; stroke-width:4; stroke-opacity:1; fill:none\" points=\"\n",
       "  110.858,804.561 129.755,804.561 \n",
       "  \"/>\n",
       "<polyline clip-path=\"url(#clip890)\" style=\"stroke:#000000; stroke-linecap:butt; stroke-linejoin:round; stroke-width:4; stroke-opacity:1; fill:none\" points=\"\n",
       "  110.858,427.411 129.755,427.411 \n",
       "  \"/>\n",
       "<polyline clip-path=\"url(#clip890)\" style=\"stroke:#000000; stroke-linecap:butt; stroke-linejoin:round; stroke-width:4; stroke-opacity:1; fill:none\" points=\"\n",
       "  110.858,50.2613 129.755,50.2613 \n",
       "  \"/>\n",
       "<path clip-path=\"url(#clip890)\" d=\"M53.9551 1164.43 L72.3115 1164.43 L72.3115 1168.37 L58.2375 1168.37 L58.2375 1176.84 Q59.256 1176.49 60.2745 1176.33 Q61.293 1176.14 62.3115 1176.14 Q68.0985 1176.14 71.4781 1179.31 Q74.8577 1182.49 74.8577 1187.9 Q74.8577 1193.48 71.3855 1196.58 Q67.9133 1199.66 61.5939 1199.66 Q59.418 1199.66 57.1495 1199.29 Q54.9041 1198.92 52.4967 1198.18 L52.4967 1193.48 Q54.5801 1194.62 56.8023 1195.17 Q59.0245 1195.73 61.5013 1195.73 Q65.5059 1195.73 67.8439 1193.62 Q70.1818 1191.51 70.1818 1187.9 Q70.1818 1184.29 67.8439 1182.19 Q65.5059 1180.08 61.5013 1180.08 Q59.6263 1180.08 57.7513 1180.5 Q55.8995 1180.91 53.9551 1181.79 L53.9551 1164.43 Z\" fill=\"#000000\" fill-rule=\"evenodd\" fill-opacity=\"1\" /><path clip-path=\"url(#clip890)\" d=\"M63.33 802.698 Q60.1819 802.698 58.33 804.85 Q56.5014 807.003 56.5014 810.753 Q56.5014 814.48 58.33 816.656 Q60.1819 818.809 63.33 818.809 Q66.4782 818.809 68.3068 816.656 Q70.1587 814.48 70.1587 810.753 Q70.1587 807.003 68.3068 804.85 Q66.4782 802.698 63.33 802.698 M72.6124 788.045 L72.6124 792.304 Q70.8531 791.471 69.0476 791.031 Q67.2652 790.591 65.5059 790.591 Q60.8763 790.591 58.4226 793.716 Q55.9921 796.841 55.6449 803.161 Q57.0106 801.147 59.0708 800.082 Q61.131 798.994 63.6078 798.994 Q68.8161 798.994 71.8253 802.165 Q74.8577 805.313 74.8577 810.753 Q74.8577 816.077 71.7096 819.295 Q68.5615 822.512 63.33 822.512 Q57.3347 822.512 54.1634 817.929 Q50.9921 813.322 50.9921 804.596 Q50.9921 796.401 54.881 791.54 Q58.7699 786.656 65.3208 786.656 Q67.08 786.656 68.8624 787.003 Q70.6679 787.35 72.6124 788.045 Z\" fill=\"#000000\" fill-rule=\"evenodd\" fill-opacity=\"1\" /><path clip-path=\"url(#clip890)\" d=\"M52.6356 410.131 L74.8577 410.131 L74.8577 412.122 L62.3115 444.691 L57.4273 444.691 L69.2328 414.066 L52.6356 414.066 L52.6356 410.131 Z\" fill=\"#000000\" fill-rule=\"evenodd\" fill-opacity=\"1\" /><path clip-path=\"url(#clip890)\" d=\"M63.006 51.1293 Q59.6726 51.1293 57.7513 52.9117 Q55.8532 54.6941 55.8532 57.8191 Q55.8532 60.9441 57.7513 62.7265 Q59.6726 64.5089 63.006 64.5089 Q66.3393 64.5089 68.2606 62.7265 Q70.1818 60.921 70.1818 57.8191 Q70.1818 54.6941 68.2606 52.9117 Q66.3624 51.1293 63.006 51.1293 M58.33 49.1386 Q55.3208 48.3979 53.631 46.3377 Q51.9643 44.2775 51.9643 41.3146 Q51.9643 37.1711 54.9041 34.7637 Q57.8671 32.3563 63.006 32.3563 Q68.168 32.3563 71.1078 34.7637 Q74.0476 37.1711 74.0476 41.3146 Q74.0476 44.2775 72.3578 46.3377 Q70.6911 48.3979 67.705 49.1386 Q71.0846 49.9256 72.9596 52.2173 Q74.8577 54.509 74.8577 57.8191 Q74.8577 62.8422 71.7791 65.5274 Q68.7235 68.2126 63.006 68.2126 Q57.2884 68.2126 54.2097 65.5274 Q51.1542 62.8422 51.1542 57.8191 Q51.1542 54.509 53.0523 52.2173 Q54.9504 49.9256 58.33 49.1386 M56.6171 41.7544 Q56.6171 44.4396 58.2838 45.9442 Q59.9736 47.4488 63.006 47.4488 Q66.0152 47.4488 67.705 45.9442 Q69.418 44.4396 69.418 41.7544 Q69.418 39.0692 67.705 37.5646 Q66.0152 36.06 63.006 36.06 Q59.9736 36.06 58.2838 37.5646 Q56.6171 39.0692 56.6171 41.7544 Z\" fill=\"#000000\" fill-rule=\"evenodd\" fill-opacity=\"1\" /><polyline clip-path=\"url(#clip892)\" style=\"stroke:#009af9; stroke-linecap:butt; stroke-linejoin:round; stroke-width:4; stroke-opacity:1; fill:none\" points=\"\n",
       "  174.308,1144 188.502,1219.43 202.697,1294.86 216.892,1332.57 231.086,1181.71 245.281,1030.85 259.475,1332.57 273.67,1181.71 287.865,1408 302.059,1219.43 \n",
       "  316.254,1030.85 330.448,1257.14 344.643,1257.14 358.838,1445.72 373.032,879.991 387.227,917.706 401.422,1030.85 415.616,1144 429.811,917.706 444.005,1144 \n",
       "  458.2,1030.85 472.395,1144 486.589,1332.57 500.784,1144 514.979,1257.14 529.173,1181.71 543.368,1181.71 557.562,1106.28 571.757,1106.28 585.952,1294.86 \n",
       "  600.146,1257.14 614.341,1030.85 628.536,1106.28 642.73,993.136 656.925,1219.43 671.119,1181.71 685.314,993.136 699.509,1219.43 713.703,1408 727.898,1144 \n",
       "  742.092,1181.71 756.287,1370.29 770.482,1408 784.676,1181.71 798.871,1144 813.066,1257.14 827.26,1144 841.455,1332.57 855.649,1068.57 869.844,1181.71 \n",
       "  884.039,427.411 898.233,653.701 912.428,465.126 926.623,993.136 940.817,615.986 955.012,917.706 969.206,691.416 983.401,1219.43 997.596,578.271 1011.79,1106.28 \n",
       "  1025.98,1181.71 1040.18,842.276 1054.37,804.561 1068.57,766.846 1082.76,955.421 1096.96,540.556 1111.15,955.421 1125.35,879.991 1139.54,729.131 1153.74,955.421 \n",
       "  1167.93,842.276 1182.13,766.846 1196.32,691.416 1210.51,766.846 1224.71,653.701 1238.9,578.271 1253.1,502.841 1267.29,540.556 1281.49,804.561 1295.68,917.706 \n",
       "  1309.88,993.136 1324.07,993.136 1338.27,879.991 1352.46,804.561 1366.66,1030.85 1380.85,804.561 1395.04,540.556 1409.24,691.416 1423.43,955.421 1437.63,993.136 \n",
       "  1451.82,993.136 1466.02,766.846 1480.21,879.991 1494.41,1181.71 1508.6,955.421 1522.8,917.706 1536.99,917.706 1551.19,729.131 1565.38,1144 1579.57,917.706 \n",
       "  1593.77,691.416 1607.96,879.991 1622.16,389.696 1636.35,691.416 1650.55,615.986 1664.74,201.121 1678.94,1219.43 1693.13,314.266 1707.33,540.556 1721.52,351.981 \n",
       "  1735.72,615.986 1749.91,653.701 1764.11,502.841 1778.3,917.706 1792.49,879.991 1806.69,653.701 1820.88,615.986 1835.08,163.406 1849.27,163.406 1863.47,804.561 \n",
       "  1877.66,465.126 1891.86,955.421 1906.05,163.406 1920.25,691.416 1934.44,540.556 1948.64,351.981 1962.83,729.131 1977.02,766.846 1991.22,653.701 2005.41,351.981 \n",
       "  2019.61,276.551 2033.8,87.9763 2048,653.701 2062.19,691.416 2076.39,766.846 2090.58,163.406 2104.78,691.416 2118.97,653.701 2133.17,804.561 2147.36,465.126 \n",
       "  2161.55,540.556 2175.75,465.126 2189.94,879.991 2204.14,502.841 2218.33,540.556 2232.53,540.556 2246.72,691.416 2260.92,615.986 2275.11,729.131 2289.31,842.276 \n",
       "  \n",
       "  \"/>\n",
       "<path clip-path=\"url(#clip890)\" d=\"\n",
       "M1976.5 198.898 L2278.03 198.898 L2278.03 95.2176 L1976.5 95.2176  Z\n",
       "  \" fill=\"#ffffff\" fill-rule=\"evenodd\" fill-opacity=\"1\"/>\n",
       "<polyline clip-path=\"url(#clip890)\" style=\"stroke:#000000; stroke-linecap:butt; stroke-linejoin:round; stroke-width:4; stroke-opacity:1; fill:none\" points=\"\n",
       "  1976.5,198.898 2278.03,198.898 2278.03,95.2176 1976.5,95.2176 1976.5,198.898 \n",
       "  \"/>\n",
       "<polyline clip-path=\"url(#clip890)\" style=\"stroke:#009af9; stroke-linecap:butt; stroke-linejoin:round; stroke-width:4; stroke-opacity:1; fill:none\" points=\"\n",
       "  2001.41,147.058 2150.87,147.058 \n",
       "  \"/>\n",
       "<path clip-path=\"url(#clip890)\" d=\"M2189.62 166.745 Q2187.81 171.375 2186.1 172.787 Q2184.39 174.199 2181.52 174.199 L2178.11 174.199 L2178.11 170.634 L2180.61 170.634 Q2182.37 170.634 2183.35 169.8 Q2184.32 168.967 2185.5 165.865 L2186.26 163.921 L2175.78 138.412 L2180.29 138.412 L2188.39 158.689 L2196.49 138.412 L2201.01 138.412 L2189.62 166.745 Z\" fill=\"#000000\" fill-rule=\"evenodd\" fill-opacity=\"1\" /><path clip-path=\"url(#clip890)\" d=\"M2208.3 160.402 L2215.94 160.402 L2215.94 134.037 L2207.63 135.703 L2207.63 131.444 L2215.89 129.778 L2220.57 129.778 L2220.57 160.402 L2228.21 160.402 L2228.21 164.338 L2208.3 164.338 L2208.3 160.402 Z\" fill=\"#000000\" fill-rule=\"evenodd\" fill-opacity=\"1\" /></svg>\n"
      ]
     },
     "execution_count": 122,
     "metadata": {},
     "output_type": "execute_result"
    }
   ],
   "source": [
    "plot(iris.Sepal_Length)"
   ]
  },
  {
   "cell_type": "code",
   "execution_count": 123,
   "metadata": {},
   "outputs": [
    {
     "data": {
      "image/svg+xml": [
       "<?xml version=\"1.0\" encoding=\"utf-8\"?>\n",
       "<svg xmlns=\"http://www.w3.org/2000/svg\" xmlns:xlink=\"http://www.w3.org/1999/xlink\" width=\"600\" height=\"400\" viewBox=\"0 0 2400 1600\">\n",
       "<defs>\n",
       "  <clipPath id=\"clip930\">\n",
       "    <rect x=\"0\" y=\"0\" width=\"2400\" height=\"1600\"/>\n",
       "  </clipPath>\n",
       "</defs>\n",
       "<path clip-path=\"url(#clip930)\" d=\"\n",
       "M0 1600 L2400 1600 L2400 0 L0 0  Z\n",
       "  \" fill=\"#ffffff\" fill-rule=\"evenodd\" fill-opacity=\"1\"/>\n",
       "<defs>\n",
       "  <clipPath id=\"clip931\">\n",
       "    <rect x=\"480\" y=\"0\" width=\"1681\" height=\"1600\"/>\n",
       "  </clipPath>\n",
       "</defs>\n",
       "<path clip-path=\"url(#clip930)\" d=\"\n",
       "M112.177 1486.45 L2352.76 1486.45 L2352.76 47.2441 L112.177 47.2441  Z\n",
       "  \" fill=\"#ffffff\" fill-rule=\"evenodd\" fill-opacity=\"1\"/>\n",
       "<defs>\n",
       "  <clipPath id=\"clip932\">\n",
       "    <rect x=\"112\" y=\"47\" width=\"2242\" height=\"1440\"/>\n",
       "  </clipPath>\n",
       "</defs>\n",
       "<polyline clip-path=\"url(#clip932)\" style=\"stroke:#000000; stroke-linecap:butt; stroke-linejoin:round; stroke-width:2; stroke-opacity:0.1; fill:none\" points=\"\n",
       "  520.285,1486.45 520.285,47.2441 \n",
       "  \"/>\n",
       "<polyline clip-path=\"url(#clip932)\" style=\"stroke:#000000; stroke-linecap:butt; stroke-linejoin:round; stroke-width:2; stroke-opacity:0.1; fill:none\" points=\"\n",
       "  1232.47,1486.45 1232.47,47.2441 \n",
       "  \"/>\n",
       "<polyline clip-path=\"url(#clip932)\" style=\"stroke:#000000; stroke-linecap:butt; stroke-linejoin:round; stroke-width:2; stroke-opacity:0.1; fill:none\" points=\"\n",
       "  1944.65,1486.45 1944.65,47.2441 \n",
       "  \"/>\n",
       "<polyline clip-path=\"url(#clip930)\" style=\"stroke:#000000; stroke-linecap:butt; stroke-linejoin:round; stroke-width:4; stroke-opacity:1; fill:none\" points=\"\n",
       "  112.177,1486.45 2352.76,1486.45 \n",
       "  \"/>\n",
       "<polyline clip-path=\"url(#clip930)\" style=\"stroke:#000000; stroke-linecap:butt; stroke-linejoin:round; stroke-width:4; stroke-opacity:1; fill:none\" points=\"\n",
       "  520.285,1486.45 520.285,1467.55 \n",
       "  \"/>\n",
       "<polyline clip-path=\"url(#clip930)\" style=\"stroke:#000000; stroke-linecap:butt; stroke-linejoin:round; stroke-width:4; stroke-opacity:1; fill:none\" points=\"\n",
       "  1232.47,1486.45 1232.47,1467.55 \n",
       "  \"/>\n",
       "<polyline clip-path=\"url(#clip930)\" style=\"stroke:#000000; stroke-linecap:butt; stroke-linejoin:round; stroke-width:4; stroke-opacity:1; fill:none\" points=\"\n",
       "  1944.65,1486.45 1944.65,1467.55 \n",
       "  \"/>\n",
       "<path clip-path=\"url(#clip930)\" d=\"M464.545 1523.69 L464.545 1527.71 Q462.739 1526.79 460.795 1526.32 Q458.851 1525.86 456.767 1525.86 Q453.596 1525.86 451.999 1526.83 Q450.425 1527.81 450.425 1529.75 Q450.425 1531.23 451.559 1532.09 Q452.693 1532.92 456.119 1533.69 L457.577 1534.01 Q462.114 1534.98 464.013 1536.76 Q465.934 1538.52 465.934 1541.7 Q465.934 1545.31 463.064 1547.41 Q460.216 1549.52 455.216 1549.52 Q453.133 1549.52 450.865 1549.1 Q448.619 1548.71 446.119 1547.9 L446.119 1543.5 Q448.48 1544.73 450.772 1545.35 Q453.064 1545.95 455.309 1545.95 Q458.318 1545.95 459.939 1544.94 Q461.559 1543.89 461.559 1542.02 Q461.559 1540.28 460.378 1539.36 Q459.221 1538.43 455.263 1537.57 L453.781 1537.23 Q449.823 1536.39 448.064 1534.68 Q446.304 1532.95 446.304 1529.94 Q446.304 1526.28 448.897 1524.29 Q451.49 1522.3 456.258 1522.3 Q458.619 1522.3 460.702 1522.64 Q462.786 1522.99 464.545 1523.69 Z\" fill=\"#000000\" fill-rule=\"evenodd\" fill-opacity=\"1\" /><path clip-path=\"url(#clip930)\" d=\"M494.892 1534.82 L494.892 1536.9 L475.309 1536.9 Q475.587 1541.3 477.948 1543.62 Q480.332 1545.91 484.568 1545.91 Q487.022 1545.91 489.313 1545.31 Q491.628 1544.7 493.897 1543.5 L493.897 1547.53 Q491.605 1548.5 489.198 1549.01 Q486.79 1549.52 484.313 1549.52 Q478.11 1549.52 474.475 1545.91 Q470.864 1542.3 470.864 1536.14 Q470.864 1529.77 474.29 1526.05 Q477.739 1522.3 483.573 1522.3 Q488.804 1522.3 491.837 1525.68 Q494.892 1529.03 494.892 1534.82 M490.633 1533.57 Q490.587 1530.07 488.665 1527.99 Q486.767 1525.91 483.619 1525.91 Q480.054 1525.91 477.901 1527.92 Q475.772 1529.94 475.448 1533.59 L490.633 1533.57 Z\" fill=\"#000000\" fill-rule=\"evenodd\" fill-opacity=\"1\" /><path clip-path=\"url(#clip930)\" d=\"M506.096 1515.56 L506.096 1522.92 L514.869 1522.92 L514.869 1526.23 L506.096 1526.23 L506.096 1540.31 Q506.096 1543.48 506.952 1544.38 Q507.832 1545.28 510.494 1545.28 L514.869 1545.28 L514.869 1548.85 L510.494 1548.85 Q505.563 1548.85 503.688 1547.02 Q501.813 1545.17 501.813 1540.31 L501.813 1526.23 L498.688 1526.23 L498.688 1522.92 L501.813 1522.92 L501.813 1515.56 L506.096 1515.56 Z\" fill=\"#000000\" fill-rule=\"evenodd\" fill-opacity=\"1\" /><path clip-path=\"url(#clip930)\" d=\"M530.517 1525.91 Q527.091 1525.91 525.1 1528.59 Q523.109 1531.26 523.109 1535.91 Q523.109 1540.56 525.077 1543.25 Q527.068 1545.91 530.517 1545.91 Q533.92 1545.91 535.91 1543.22 Q537.901 1540.54 537.901 1535.91 Q537.901 1531.3 535.91 1528.62 Q533.92 1525.91 530.517 1525.91 M530.517 1522.3 Q536.072 1522.3 539.244 1525.91 Q542.415 1529.52 542.415 1535.91 Q542.415 1542.27 539.244 1545.91 Q536.072 1549.52 530.517 1549.52 Q524.938 1549.52 521.767 1545.91 Q518.619 1542.27 518.619 1535.91 Q518.619 1529.52 521.767 1525.91 Q524.938 1522.3 530.517 1522.3 Z\" fill=\"#000000\" fill-rule=\"evenodd\" fill-opacity=\"1\" /><path clip-path=\"url(#clip930)\" d=\"M566.003 1523.69 L566.003 1527.71 Q564.197 1526.79 562.253 1526.32 Q560.308 1525.86 558.225 1525.86 Q555.054 1525.86 553.457 1526.83 Q551.882 1527.81 551.882 1529.75 Q551.882 1531.23 553.017 1532.09 Q554.151 1532.92 557.577 1533.69 L559.035 1534.01 Q563.572 1534.98 565.47 1536.76 Q567.392 1538.52 567.392 1541.7 Q567.392 1545.31 564.521 1547.41 Q561.674 1549.52 556.674 1549.52 Q554.591 1549.52 552.322 1549.1 Q550.077 1548.71 547.577 1547.9 L547.577 1543.5 Q549.938 1544.73 552.23 1545.35 Q554.521 1545.95 556.767 1545.95 Q559.776 1545.95 561.396 1544.94 Q563.017 1543.89 563.017 1542.02 Q563.017 1540.28 561.836 1539.36 Q560.679 1538.43 556.72 1537.57 L555.239 1537.23 Q551.281 1536.39 549.521 1534.68 Q547.762 1532.95 547.762 1529.94 Q547.762 1526.28 550.355 1524.29 Q552.947 1522.3 557.716 1522.3 Q560.077 1522.3 562.16 1522.64 Q564.244 1522.99 566.003 1523.69 Z\" fill=\"#000000\" fill-rule=\"evenodd\" fill-opacity=\"1\" /><path clip-path=\"url(#clip930)\" d=\"M585.956 1535.82 Q580.794 1535.82 578.804 1537 Q576.813 1538.18 576.813 1541.02 Q576.813 1543.29 578.294 1544.63 Q579.799 1545.95 582.368 1545.95 Q585.91 1545.95 588.04 1543.45 Q590.192 1540.93 590.192 1536.76 L590.192 1535.82 L585.956 1535.82 M594.452 1534.06 L594.452 1548.85 L590.192 1548.85 L590.192 1544.91 Q588.734 1547.27 586.558 1548.41 Q584.382 1549.52 581.234 1549.52 Q577.253 1549.52 574.892 1547.3 Q572.554 1545.05 572.554 1541.3 Q572.554 1536.93 575.47 1534.7 Q578.41 1532.48 584.22 1532.48 L590.192 1532.48 L590.192 1532.07 Q590.192 1529.13 588.248 1527.53 Q586.327 1525.91 582.831 1525.91 Q580.609 1525.91 578.503 1526.44 Q576.396 1526.97 574.452 1528.04 L574.452 1524.1 Q576.79 1523.2 578.989 1522.76 Q581.188 1522.3 583.271 1522.3 Q588.896 1522.3 591.674 1525.21 Q594.452 1528.13 594.452 1534.06 Z\" fill=\"#000000\" fill-rule=\"evenodd\" fill-opacity=\"1\" /><path clip-path=\"url(#clip930)\" d=\"M1117.51 1522.92 L1122.03 1522.92 L1130.13 1544.68 L1138.23 1522.92 L1142.74 1522.92 L1133.02 1548.85 L1127.24 1548.85 L1117.51 1522.92 Z\" fill=\"#000000\" fill-rule=\"evenodd\" fill-opacity=\"1\" /><path clip-path=\"url(#clip930)\" d=\"M1170.8 1534.82 L1170.8 1536.9 L1151.22 1536.9 Q1151.49 1541.3 1153.86 1543.62 Q1156.24 1545.91 1160.48 1545.91 Q1162.93 1545.91 1165.22 1545.31 Q1167.54 1544.7 1169.8 1543.5 L1169.8 1547.53 Q1167.51 1548.5 1165.11 1549.01 Q1162.7 1549.52 1160.22 1549.52 Q1154.02 1549.52 1150.38 1545.91 Q1146.77 1542.3 1146.77 1536.14 Q1146.77 1529.77 1150.2 1526.05 Q1153.65 1522.3 1159.48 1522.3 Q1164.71 1522.3 1167.74 1525.68 Q1170.8 1529.03 1170.8 1534.82 M1166.54 1533.57 Q1166.49 1530.07 1164.57 1527.99 Q1162.68 1525.91 1159.53 1525.91 Q1155.96 1525.91 1153.81 1527.92 Q1151.68 1529.94 1151.36 1533.59 L1166.54 1533.57 Z\" fill=\"#000000\" fill-rule=\"evenodd\" fill-opacity=\"1\" /><path clip-path=\"url(#clip930)\" d=\"M1192.81 1526.9 Q1192.1 1526.49 1191.24 1526.3 Q1190.41 1526.09 1189.39 1526.09 Q1185.78 1526.09 1183.83 1528.45 Q1181.91 1530.79 1181.91 1535.19 L1181.91 1548.85 L1177.63 1548.85 L1177.63 1522.92 L1181.91 1522.92 L1181.91 1526.95 Q1183.25 1524.59 1185.41 1523.45 Q1187.56 1522.3 1190.64 1522.3 Q1191.08 1522.3 1191.61 1522.37 Q1192.14 1522.41 1192.79 1522.53 L1192.81 1526.9 Z\" fill=\"#000000\" fill-rule=\"evenodd\" fill-opacity=\"1\" /><path clip-path=\"url(#clip930)\" d=\"M1213.81 1523.69 L1213.81 1527.71 Q1212 1526.79 1210.06 1526.32 Q1208.11 1525.86 1206.03 1525.86 Q1202.86 1525.86 1201.26 1526.83 Q1199.69 1527.81 1199.69 1529.75 Q1199.69 1531.23 1200.82 1532.09 Q1201.96 1532.92 1205.38 1533.69 L1206.84 1534.01 Q1211.38 1534.98 1213.28 1536.76 Q1215.2 1538.52 1215.2 1541.7 Q1215.2 1545.31 1212.33 1547.41 Q1209.48 1549.52 1204.48 1549.52 Q1202.4 1549.52 1200.13 1549.1 Q1197.88 1548.71 1195.38 1547.9 L1195.38 1543.5 Q1197.74 1544.73 1200.04 1545.35 Q1202.33 1545.95 1204.57 1545.95 Q1207.58 1545.95 1209.2 1544.94 Q1210.82 1543.89 1210.82 1542.02 Q1210.82 1540.28 1209.64 1539.36 Q1208.49 1538.43 1204.53 1537.57 L1203.05 1537.23 Q1199.09 1536.39 1197.33 1534.68 Q1195.57 1532.95 1195.57 1529.94 Q1195.57 1526.28 1198.16 1524.29 Q1200.75 1522.3 1205.52 1522.3 Q1207.88 1522.3 1209.97 1522.64 Q1212.05 1522.99 1213.81 1523.69 Z\" fill=\"#000000\" fill-rule=\"evenodd\" fill-opacity=\"1\" /><path clip-path=\"url(#clip930)\" d=\"M1221.98 1522.92 L1226.24 1522.92 L1226.24 1548.85 L1221.98 1548.85 L1221.98 1522.92 M1221.98 1512.83 L1226.24 1512.83 L1226.24 1518.22 L1221.98 1518.22 L1221.98 1512.83 Z\" fill=\"#000000\" fill-rule=\"evenodd\" fill-opacity=\"1\" /><path clip-path=\"url(#clip930)\" d=\"M1253.81 1523.92 L1253.81 1527.9 Q1252 1526.9 1250.17 1526.42 Q1248.37 1525.91 1246.52 1525.91 Q1242.37 1525.91 1240.08 1528.55 Q1237.79 1531.16 1237.79 1535.91 Q1237.79 1540.65 1240.08 1543.29 Q1242.37 1545.91 1246.52 1545.91 Q1248.37 1545.91 1250.17 1545.42 Q1252 1544.91 1253.81 1543.92 L1253.81 1547.85 Q1252.03 1548.69 1250.11 1549.1 Q1248.21 1549.52 1246.05 1549.52 Q1240.2 1549.52 1236.75 1545.84 Q1233.3 1542.16 1233.3 1535.91 Q1233.3 1529.57 1236.77 1525.93 Q1240.27 1522.3 1246.33 1522.3 Q1248.3 1522.3 1250.17 1522.71 Q1252.05 1523.11 1253.81 1523.92 Z\" fill=\"#000000\" fill-rule=\"evenodd\" fill-opacity=\"1\" /><path clip-path=\"url(#clip930)\" d=\"M1271.26 1525.91 Q1267.84 1525.91 1265.85 1528.59 Q1263.86 1531.26 1263.86 1535.91 Q1263.86 1540.56 1265.82 1543.25 Q1267.81 1545.91 1271.26 1545.91 Q1274.67 1545.91 1276.66 1543.22 Q1278.65 1540.54 1278.65 1535.91 Q1278.65 1531.3 1276.66 1528.62 Q1274.67 1525.91 1271.26 1525.91 M1271.26 1522.3 Q1276.82 1522.3 1279.99 1525.91 Q1283.16 1529.52 1283.16 1535.91 Q1283.16 1542.27 1279.99 1545.91 Q1276.82 1549.52 1271.26 1549.52 Q1265.68 1549.52 1262.51 1545.91 Q1259.36 1542.27 1259.36 1535.91 Q1259.36 1529.52 1262.51 1525.91 Q1265.68 1522.3 1271.26 1522.3 Z\" fill=\"#000000\" fill-rule=\"evenodd\" fill-opacity=\"1\" /><path clip-path=\"url(#clip930)\" d=\"M1290.22 1512.83 L1294.48 1512.83 L1294.48 1548.85 L1290.22 1548.85 L1290.22 1512.83 Z\" fill=\"#000000\" fill-rule=\"evenodd\" fill-opacity=\"1\" /><path clip-path=\"url(#clip930)\" d=\"M1313.44 1525.91 Q1310.01 1525.91 1308.02 1528.59 Q1306.03 1531.26 1306.03 1535.91 Q1306.03 1540.56 1308 1543.25 Q1309.99 1545.91 1313.44 1545.91 Q1316.84 1545.91 1318.83 1543.22 Q1320.82 1540.54 1320.82 1535.91 Q1320.82 1531.3 1318.83 1528.62 Q1316.84 1525.91 1313.44 1525.91 M1313.44 1522.3 Q1318.99 1522.3 1322.17 1525.91 Q1325.34 1529.52 1325.34 1535.91 Q1325.34 1542.27 1322.17 1545.91 Q1318.99 1549.52 1313.44 1549.52 Q1307.86 1549.52 1304.69 1545.91 Q1301.54 1542.27 1301.54 1535.91 Q1301.54 1529.52 1304.69 1525.91 Q1307.86 1522.3 1313.44 1522.3 Z\" fill=\"#000000\" fill-rule=\"evenodd\" fill-opacity=\"1\" /><path clip-path=\"url(#clip930)\" d=\"M1347.42 1526.9 Q1346.7 1526.49 1345.85 1526.3 Q1345.01 1526.09 1343.99 1526.09 Q1340.38 1526.09 1338.44 1528.45 Q1336.52 1530.79 1336.52 1535.19 L1336.52 1548.85 L1332.23 1548.85 L1332.23 1522.92 L1336.52 1522.92 L1336.52 1526.95 Q1337.86 1524.59 1340.01 1523.45 Q1342.17 1522.3 1345.24 1522.3 Q1345.68 1522.3 1346.22 1522.37 Q1346.75 1522.41 1347.4 1522.53 L1347.42 1526.9 Z\" fill=\"#000000\" fill-rule=\"evenodd\" fill-opacity=\"1\" /><path clip-path=\"url(#clip930)\" d=\"M1846.77 1522.92 L1851.28 1522.92 L1859.38 1544.68 L1867.48 1522.92 L1872 1522.92 L1862.28 1548.85 L1856.49 1548.85 L1846.77 1522.92 Z\" fill=\"#000000\" fill-rule=\"evenodd\" fill-opacity=\"1\" /><path clip-path=\"url(#clip930)\" d=\"M1877.88 1522.92 L1882.14 1522.92 L1882.14 1548.85 L1877.88 1548.85 L1877.88 1522.92 M1877.88 1512.83 L1882.14 1512.83 L1882.14 1518.22 L1877.88 1518.22 L1877.88 1512.83 Z\" fill=\"#000000\" fill-rule=\"evenodd\" fill-opacity=\"1\" /><path clip-path=\"url(#clip930)\" d=\"M1906.07 1526.9 Q1905.35 1526.49 1904.5 1526.3 Q1903.66 1526.09 1902.65 1526.09 Q1899.03 1526.09 1897.09 1528.45 Q1895.17 1530.79 1895.17 1535.19 L1895.17 1548.85 L1890.89 1548.85 L1890.89 1522.92 L1895.17 1522.92 L1895.17 1526.95 Q1896.51 1524.59 1898.66 1523.45 Q1900.82 1522.3 1903.9 1522.3 Q1904.34 1522.3 1904.87 1522.37 Q1905.4 1522.41 1906.05 1522.53 L1906.07 1526.9 Z\" fill=\"#000000\" fill-rule=\"evenodd\" fill-opacity=\"1\" /><path clip-path=\"url(#clip930)\" d=\"M1926.77 1535.58 Q1926.77 1530.95 1924.84 1528.41 Q1922.95 1525.86 1919.5 1525.86 Q1916.07 1525.86 1914.15 1528.41 Q1912.25 1530.95 1912.25 1535.58 Q1912.25 1540.19 1914.15 1542.74 Q1916.07 1545.28 1919.5 1545.28 Q1922.95 1545.28 1924.84 1542.74 Q1926.77 1540.19 1926.77 1535.58 M1931.03 1545.63 Q1931.03 1552.25 1928.09 1555.47 Q1925.15 1558.71 1919.08 1558.71 Q1916.84 1558.71 1914.84 1558.36 Q1912.85 1558.04 1910.98 1557.34 L1910.98 1553.2 Q1912.85 1554.22 1914.68 1554.7 Q1916.51 1555.19 1918.41 1555.19 Q1922.6 1555.19 1924.68 1552.99 Q1926.77 1550.82 1926.77 1546.39 L1926.77 1544.29 Q1925.45 1546.58 1923.39 1547.71 Q1921.33 1548.85 1918.46 1548.85 Q1913.69 1548.85 1910.77 1545.21 Q1907.85 1541.58 1907.85 1535.58 Q1907.85 1529.57 1910.77 1525.93 Q1913.69 1522.3 1918.46 1522.3 Q1921.33 1522.3 1923.39 1523.43 Q1925.45 1524.57 1926.77 1526.86 L1926.77 1522.92 L1931.03 1522.92 L1931.03 1545.63 Z\" fill=\"#000000\" fill-rule=\"evenodd\" fill-opacity=\"1\" /><path clip-path=\"url(#clip930)\" d=\"M1939.8 1522.92 L1944.06 1522.92 L1944.06 1548.85 L1939.8 1548.85 L1939.8 1522.92 M1939.8 1512.83 L1944.06 1512.83 L1944.06 1518.22 L1939.8 1518.22 L1939.8 1512.83 Z\" fill=\"#000000\" fill-rule=\"evenodd\" fill-opacity=\"1\" /><path clip-path=\"url(#clip930)\" d=\"M1974.52 1533.2 L1974.52 1548.85 L1970.26 1548.85 L1970.26 1533.34 Q1970.26 1529.66 1968.83 1527.83 Q1967.39 1526 1964.52 1526 Q1961.07 1526 1959.08 1528.2 Q1957.09 1530.4 1957.09 1534.2 L1957.09 1548.85 L1952.81 1548.85 L1952.81 1522.92 L1957.09 1522.92 L1957.09 1526.95 Q1958.62 1524.61 1960.68 1523.45 Q1962.76 1522.3 1965.47 1522.3 Q1969.94 1522.3 1972.23 1525.07 Q1974.52 1527.83 1974.52 1533.2 Z\" fill=\"#000000\" fill-rule=\"evenodd\" fill-opacity=\"1\" /><path clip-path=\"url(#clip930)\" d=\"M1983.02 1522.92 L1987.27 1522.92 L1987.27 1548.85 L1983.02 1548.85 L1983.02 1522.92 M1983.02 1512.83 L1987.27 1512.83 L1987.27 1518.22 L1983.02 1518.22 L1983.02 1512.83 Z\" fill=\"#000000\" fill-rule=\"evenodd\" fill-opacity=\"1\" /><path clip-path=\"url(#clip930)\" d=\"M2014.84 1523.92 L2014.84 1527.9 Q2013.04 1526.9 2011.21 1526.42 Q2009.4 1525.91 2007.55 1525.91 Q2003.41 1525.91 2001.12 1528.55 Q1998.83 1531.16 1998.83 1535.91 Q1998.83 1540.65 2001.12 1543.29 Q2003.41 1545.91 2007.55 1545.91 Q2009.4 1545.91 2011.21 1545.42 Q2013.04 1544.91 2014.84 1543.92 L2014.84 1547.85 Q2013.06 1548.69 2011.14 1549.1 Q2009.24 1549.52 2007.09 1549.52 Q2001.23 1549.52 1997.78 1545.84 Q1994.33 1542.16 1994.33 1535.91 Q1994.33 1529.57 1997.81 1525.93 Q2001.3 1522.3 2007.37 1522.3 Q2009.33 1522.3 2011.21 1522.71 Q2013.08 1523.11 2014.84 1523.92 Z\" fill=\"#000000\" fill-rule=\"evenodd\" fill-opacity=\"1\" /><path clip-path=\"url(#clip930)\" d=\"M2034.03 1535.82 Q2028.87 1535.82 2026.88 1537 Q2024.89 1538.18 2024.89 1541.02 Q2024.89 1543.29 2026.37 1544.63 Q2027.88 1545.95 2030.45 1545.95 Q2033.99 1545.95 2036.12 1543.45 Q2038.27 1540.93 2038.27 1536.76 L2038.27 1535.82 L2034.03 1535.82 M2042.53 1534.06 L2042.53 1548.85 L2038.27 1548.85 L2038.27 1544.91 Q2036.81 1547.27 2034.64 1548.41 Q2032.46 1549.52 2029.31 1549.52 Q2025.33 1549.52 2022.97 1547.3 Q2020.63 1545.05 2020.63 1541.3 Q2020.63 1536.93 2023.55 1534.7 Q2026.49 1532.48 2032.3 1532.48 L2038.27 1532.48 L2038.27 1532.07 Q2038.27 1529.13 2036.33 1527.53 Q2034.4 1525.91 2030.91 1525.91 Q2028.69 1525.91 2026.58 1526.44 Q2024.47 1526.97 2022.53 1528.04 L2022.53 1524.1 Q2024.87 1523.2 2027.07 1522.76 Q2029.27 1522.3 2031.35 1522.3 Q2036.97 1522.3 2039.75 1525.21 Q2042.53 1528.13 2042.53 1534.06 Z\" fill=\"#000000\" fill-rule=\"evenodd\" fill-opacity=\"1\" /><polyline clip-path=\"url(#clip932)\" style=\"stroke:#000000; stroke-linecap:butt; stroke-linejoin:round; stroke-width:2; stroke-opacity:0.1; fill:none\" points=\"\n",
       "  112.177,1445.72 2352.76,1445.72 \n",
       "  \"/>\n",
       "<polyline clip-path=\"url(#clip932)\" style=\"stroke:#000000; stroke-linecap:butt; stroke-linejoin:round; stroke-width:2; stroke-opacity:0.1; fill:none\" points=\"\n",
       "  112.177,1052.17 2352.76,1052.17 \n",
       "  \"/>\n",
       "<polyline clip-path=\"url(#clip932)\" style=\"stroke:#000000; stroke-linecap:butt; stroke-linejoin:round; stroke-width:2; stroke-opacity:0.1; fill:none\" points=\"\n",
       "  112.177,658.62 2352.76,658.62 \n",
       "  \"/>\n",
       "<polyline clip-path=\"url(#clip932)\" style=\"stroke:#000000; stroke-linecap:butt; stroke-linejoin:round; stroke-width:2; stroke-opacity:0.1; fill:none\" points=\"\n",
       "  112.177,265.073 2352.76,265.073 \n",
       "  \"/>\n",
       "<polyline clip-path=\"url(#clip930)\" style=\"stroke:#000000; stroke-linecap:butt; stroke-linejoin:round; stroke-width:4; stroke-opacity:1; fill:none\" points=\"\n",
       "  112.177,1486.45 112.177,47.2441 \n",
       "  \"/>\n",
       "<polyline clip-path=\"url(#clip930)\" style=\"stroke:#000000; stroke-linecap:butt; stroke-linejoin:round; stroke-width:4; stroke-opacity:1; fill:none\" points=\"\n",
       "  112.177,1445.72 131.075,1445.72 \n",
       "  \"/>\n",
       "<polyline clip-path=\"url(#clip930)\" style=\"stroke:#000000; stroke-linecap:butt; stroke-linejoin:round; stroke-width:4; stroke-opacity:1; fill:none\" points=\"\n",
       "  112.177,1052.17 131.075,1052.17 \n",
       "  \"/>\n",
       "<polyline clip-path=\"url(#clip930)\" style=\"stroke:#000000; stroke-linecap:butt; stroke-linejoin:round; stroke-width:4; stroke-opacity:1; fill:none\" points=\"\n",
       "  112.177,658.62 131.075,658.62 \n",
       "  \"/>\n",
       "<polyline clip-path=\"url(#clip930)\" style=\"stroke:#000000; stroke-linecap:butt; stroke-linejoin:round; stroke-width:4; stroke-opacity:1; fill:none\" points=\"\n",
       "  112.177,265.073 131.075,265.073 \n",
       "  \"/>\n",
       "<path clip-path=\"url(#clip930)\" d=\"M64.2328 1431.51 Q60.6217 1431.51 58.793 1435.08 Q56.9875 1438.62 56.9875 1445.75 Q56.9875 1452.86 58.793 1456.42 Q60.6217 1459.96 64.2328 1459.96 Q67.867 1459.96 69.6726 1456.42 Q71.5013 1452.86 71.5013 1445.75 Q71.5013 1438.62 69.6726 1435.08 Q67.867 1431.51 64.2328 1431.51 M64.2328 1427.81 Q70.0429 1427.81 73.0985 1432.42 Q76.1772 1437 76.1772 1445.75 Q76.1772 1454.48 73.0985 1459.08 Q70.0429 1463.67 64.2328 1463.67 Q58.4226 1463.67 55.344 1459.08 Q52.2884 1454.48 52.2884 1445.75 Q52.2884 1437 55.344 1432.42 Q58.4226 1427.81 64.2328 1427.81 Z\" fill=\"#000000\" fill-rule=\"evenodd\" fill-opacity=\"1\" /><path clip-path=\"url(#clip930)\" d=\"M59.8578 1065.51 L76.1772 1065.51 L76.1772 1069.45 L54.2328 1069.45 L54.2328 1065.51 Q56.8949 1062.76 61.4782 1058.13 Q66.0846 1053.48 67.2652 1052.13 Q69.5105 1049.61 70.3902 1047.87 Q71.2929 1046.11 71.2929 1044.43 Q71.2929 1041.67 69.3485 1039.93 Q67.4272 1038.2 64.3254 1038.2 Q62.1263 1038.2 59.6726 1038.96 Q57.2421 1039.73 54.4643 1041.28 L54.4643 1036.55 Q57.2884 1035.42 59.7421 1034.84 Q62.1958 1034.26 64.2328 1034.26 Q69.6031 1034.26 72.7976 1036.95 Q75.992 1039.63 75.992 1044.12 Q75.992 1046.25 75.1818 1048.18 Q74.3948 1050.07 72.2883 1052.67 Q71.7096 1053.34 68.6078 1056.55 Q65.5059 1059.75 59.8578 1065.51 Z\" fill=\"#000000\" fill-rule=\"evenodd\" fill-opacity=\"1\" /><path clip-path=\"url(#clip930)\" d=\"M66.5939 645.414 L54.7884 663.863 L66.5939 663.863 L66.5939 645.414 M65.367 641.34 L71.2466 641.34 L71.2466 663.863 L76.1772 663.863 L76.1772 667.752 L71.2466 667.752 L71.2466 675.9 L66.5939 675.9 L66.5939 667.752 L50.9921 667.752 L50.9921 663.238 L65.367 641.34 Z\" fill=\"#000000\" fill-rule=\"evenodd\" fill-opacity=\"1\" /><path clip-path=\"url(#clip930)\" d=\"M64.6495 263.209 Q61.5013 263.209 59.6495 265.362 Q57.8208 267.515 57.8208 271.265 Q57.8208 274.992 59.6495 277.168 Q61.5013 279.32 64.6495 279.32 Q67.7976 279.32 69.6263 277.168 Q71.4781 274.992 71.4781 271.265 Q71.4781 267.515 69.6263 265.362 Q67.7976 263.209 64.6495 263.209 M73.9318 248.557 L73.9318 252.816 Q72.1726 251.983 70.367 251.543 Q68.5846 251.103 66.8254 251.103 Q62.1958 251.103 59.7421 254.228 Q57.3115 257.353 56.9643 263.672 Q58.33 261.658 60.3902 260.594 Q62.4504 259.506 64.9272 259.506 Q70.1355 259.506 73.1448 262.677 Q76.1772 265.825 76.1772 271.265 Q76.1772 276.589 73.029 279.806 Q69.8809 283.024 64.6495 283.024 Q58.6541 283.024 55.4828 278.441 Q52.3116 273.834 52.3116 265.107 Q52.3116 256.913 56.2004 252.052 Q60.0893 247.168 66.6402 247.168 Q68.3994 247.168 70.1818 247.515 Q71.9874 247.862 73.9318 248.557 Z\" fill=\"#000000\" fill-rule=\"evenodd\" fill-opacity=\"1\" /><path clip-path=\"url(#clip932)\" d=\"\n",
       "M235.413 1170.23 L235.413 1445.72 L805.158 1445.72 L805.158 1170.23 L235.413 1170.23 L235.413 1170.23  Z\n",
       "  \" fill=\"#009af9\" fill-rule=\"evenodd\" fill-opacity=\"1\"/>\n",
       "<polyline clip-path=\"url(#clip932)\" style=\"stroke:#000000; stroke-linecap:butt; stroke-linejoin:round; stroke-width:4; stroke-opacity:1; fill:none\" points=\"\n",
       "  235.413,1170.23 235.413,1445.72 805.158,1445.72 805.158,1170.23 235.413,1170.23 \n",
       "  \"/>\n",
       "<path clip-path=\"url(#clip932)\" d=\"\n",
       "M235.413 1170.23 L235.413 1445.72 L805.158 1445.72 L805.158 1170.23 L235.413 1170.23 L235.413 1170.23  Z\n",
       "  \" fill=\"#009af9\" fill-rule=\"evenodd\" fill-opacity=\"1\"/>\n",
       "<polyline clip-path=\"url(#clip932)\" style=\"stroke:#000000; stroke-linecap:butt; stroke-linejoin:round; stroke-width:4; stroke-opacity:1; fill:none\" points=\"\n",
       "  235.413,1170.23 235.413,1445.72 805.158,1445.72 805.158,1170.23 235.413,1170.23 \n",
       "  \"/>\n",
       "<path clip-path=\"url(#clip932)\" d=\"\n",
       "M235.413 1189.91 L235.413 1445.72 L805.158 1445.72 L805.158 1189.91 L235.413 1189.91 L235.413 1189.91  Z\n",
       "  \" fill=\"#009af9\" fill-rule=\"evenodd\" fill-opacity=\"1\"/>\n",
       "<polyline clip-path=\"url(#clip932)\" style=\"stroke:#000000; stroke-linecap:butt; stroke-linejoin:round; stroke-width:4; stroke-opacity:1; fill:none\" points=\"\n",
       "  235.413,1189.91 235.413,1445.72 805.158,1445.72 805.158,1189.91 235.413,1189.91 \n",
       "  \"/>\n",
       "<path clip-path=\"url(#clip932)\" d=\"\n",
       "M235.413 1150.55 L235.413 1445.72 L805.158 1445.72 L805.158 1150.55 L235.413 1150.55 L235.413 1150.55  Z\n",
       "  \" fill=\"#009af9\" fill-rule=\"evenodd\" fill-opacity=\"1\"/>\n",
       "<polyline clip-path=\"url(#clip932)\" style=\"stroke:#000000; stroke-linecap:butt; stroke-linejoin:round; stroke-width:4; stroke-opacity:1; fill:none\" points=\"\n",
       "  235.413,1150.55 235.413,1445.72 805.158,1445.72 805.158,1150.55 235.413,1150.55 \n",
       "  \"/>\n",
       "<path clip-path=\"url(#clip932)\" d=\"\n",
       "M235.413 1170.23 L235.413 1445.72 L805.158 1445.72 L805.158 1170.23 L235.413 1170.23 L235.413 1170.23  Z\n",
       "  \" fill=\"#009af9\" fill-rule=\"evenodd\" fill-opacity=\"1\"/>\n",
       "<polyline clip-path=\"url(#clip932)\" style=\"stroke:#000000; stroke-linecap:butt; stroke-linejoin:round; stroke-width:4; stroke-opacity:1; fill:none\" points=\"\n",
       "  235.413,1170.23 235.413,1445.72 805.158,1445.72 805.158,1170.23 235.413,1170.23 \n",
       "  \"/>\n",
       "<path clip-path=\"url(#clip932)\" d=\"\n",
       "M235.413 1111.2 L235.413 1445.72 L805.158 1445.72 L805.158 1111.2 L235.413 1111.2 L235.413 1111.2  Z\n",
       "  \" fill=\"#009af9\" fill-rule=\"evenodd\" fill-opacity=\"1\"/>\n",
       "<polyline clip-path=\"url(#clip932)\" style=\"stroke:#000000; stroke-linecap:butt; stroke-linejoin:round; stroke-width:4; stroke-opacity:1; fill:none\" points=\"\n",
       "  235.413,1111.2 235.413,1445.72 805.158,1445.72 805.158,1111.2 235.413,1111.2 \n",
       "  \"/>\n",
       "<path clip-path=\"url(#clip932)\" d=\"\n",
       "M235.413 1170.23 L235.413 1445.72 L805.158 1445.72 L805.158 1170.23 L235.413 1170.23 L235.413 1170.23  Z\n",
       "  \" fill=\"#009af9\" fill-rule=\"evenodd\" fill-opacity=\"1\"/>\n",
       "<polyline clip-path=\"url(#clip932)\" style=\"stroke:#000000; stroke-linecap:butt; stroke-linejoin:round; stroke-width:4; stroke-opacity:1; fill:none\" points=\"\n",
       "  235.413,1170.23 235.413,1445.72 805.158,1445.72 805.158,1170.23 235.413,1170.23 \n",
       "  \"/>\n",
       "<path clip-path=\"url(#clip932)\" d=\"\n",
       "M235.413 1150.55 L235.413 1445.72 L805.158 1445.72 L805.158 1150.55 L235.413 1150.55 L235.413 1150.55  Z\n",
       "  \" fill=\"#009af9\" fill-rule=\"evenodd\" fill-opacity=\"1\"/>\n",
       "<polyline clip-path=\"url(#clip932)\" style=\"stroke:#000000; stroke-linecap:butt; stroke-linejoin:round; stroke-width:4; stroke-opacity:1; fill:none\" points=\"\n",
       "  235.413,1150.55 235.413,1445.72 805.158,1445.72 805.158,1150.55 235.413,1150.55 \n",
       "  \"/>\n",
       "<path clip-path=\"url(#clip932)\" d=\"\n",
       "M235.413 1170.23 L235.413 1445.72 L805.158 1445.72 L805.158 1170.23 L235.413 1170.23 L235.413 1170.23  Z\n",
       "  \" fill=\"#009af9\" fill-rule=\"evenodd\" fill-opacity=\"1\"/>\n",
       "<polyline clip-path=\"url(#clip932)\" style=\"stroke:#000000; stroke-linecap:butt; stroke-linejoin:round; stroke-width:4; stroke-opacity:1; fill:none\" points=\"\n",
       "  235.413,1170.23 235.413,1445.72 805.158,1445.72 805.158,1170.23 235.413,1170.23 \n",
       "  \"/>\n",
       "<path clip-path=\"url(#clip932)\" d=\"\n",
       "M235.413 1150.55 L235.413 1445.72 L805.158 1445.72 L805.158 1150.55 L235.413 1150.55 L235.413 1150.55  Z\n",
       "  \" fill=\"#009af9\" fill-rule=\"evenodd\" fill-opacity=\"1\"/>\n",
       "<polyline clip-path=\"url(#clip932)\" style=\"stroke:#000000; stroke-linecap:butt; stroke-linejoin:round; stroke-width:4; stroke-opacity:1; fill:none\" points=\"\n",
       "  235.413,1150.55 235.413,1445.72 805.158,1445.72 805.158,1150.55 235.413,1150.55 \n",
       "  \"/>\n",
       "<path clip-path=\"url(#clip932)\" d=\"\n",
       "M235.413 1150.55 L235.413 1445.72 L805.158 1445.72 L805.158 1150.55 L235.413 1150.55 L235.413 1150.55  Z\n",
       "  \" fill=\"#009af9\" fill-rule=\"evenodd\" fill-opacity=\"1\"/>\n",
       "<polyline clip-path=\"url(#clip932)\" style=\"stroke:#000000; stroke-linecap:butt; stroke-linejoin:round; stroke-width:4; stroke-opacity:1; fill:none\" points=\"\n",
       "  235.413,1150.55 235.413,1445.72 805.158,1445.72 805.158,1150.55 235.413,1150.55 \n",
       "  \"/>\n",
       "<path clip-path=\"url(#clip932)\" d=\"\n",
       "M235.413 1130.88 L235.413 1445.72 L805.158 1445.72 L805.158 1130.88 L235.413 1130.88 L235.413 1130.88  Z\n",
       "  \" fill=\"#009af9\" fill-rule=\"evenodd\" fill-opacity=\"1\"/>\n",
       "<polyline clip-path=\"url(#clip932)\" style=\"stroke:#000000; stroke-linecap:butt; stroke-linejoin:round; stroke-width:4; stroke-opacity:1; fill:none\" points=\"\n",
       "  235.413,1130.88 235.413,1445.72 805.158,1445.72 805.158,1130.88 235.413,1130.88 \n",
       "  \"/>\n",
       "<path clip-path=\"url(#clip932)\" d=\"\n",
       "M235.413 1170.23 L235.413 1445.72 L805.158 1445.72 L805.158 1170.23 L235.413 1170.23 L235.413 1170.23  Z\n",
       "  \" fill=\"#009af9\" fill-rule=\"evenodd\" fill-opacity=\"1\"/>\n",
       "<polyline clip-path=\"url(#clip932)\" style=\"stroke:#000000; stroke-linecap:butt; stroke-linejoin:round; stroke-width:4; stroke-opacity:1; fill:none\" points=\"\n",
       "  235.413,1170.23 235.413,1445.72 805.158,1445.72 805.158,1170.23 235.413,1170.23 \n",
       "  \"/>\n",
       "<path clip-path=\"url(#clip932)\" d=\"\n",
       "M235.413 1229.26 L235.413 1445.72 L805.158 1445.72 L805.158 1229.26 L235.413 1229.26 L235.413 1229.26  Z\n",
       "  \" fill=\"#009af9\" fill-rule=\"evenodd\" fill-opacity=\"1\"/>\n",
       "<polyline clip-path=\"url(#clip932)\" style=\"stroke:#000000; stroke-linecap:butt; stroke-linejoin:round; stroke-width:4; stroke-opacity:1; fill:none\" points=\"\n",
       "  235.413,1229.26 235.413,1445.72 805.158,1445.72 805.158,1229.26 235.413,1229.26 \n",
       "  \"/>\n",
       "<path clip-path=\"url(#clip932)\" d=\"\n",
       "M235.413 1209.59 L235.413 1445.72 L805.158 1445.72 L805.158 1209.59 L235.413 1209.59 L235.413 1209.59  Z\n",
       "  \" fill=\"#009af9\" fill-rule=\"evenodd\" fill-opacity=\"1\"/>\n",
       "<polyline clip-path=\"url(#clip932)\" style=\"stroke:#000000; stroke-linecap:butt; stroke-linejoin:round; stroke-width:4; stroke-opacity:1; fill:none\" points=\"\n",
       "  235.413,1209.59 235.413,1445.72 805.158,1445.72 805.158,1209.59 235.413,1209.59 \n",
       "  \"/>\n",
       "<path clip-path=\"url(#clip932)\" d=\"\n",
       "M235.413 1150.55 L235.413 1445.72 L805.158 1445.72 L805.158 1150.55 L235.413 1150.55 L235.413 1150.55  Z\n",
       "  \" fill=\"#009af9\" fill-rule=\"evenodd\" fill-opacity=\"1\"/>\n",
       "<polyline clip-path=\"url(#clip932)\" style=\"stroke:#000000; stroke-linecap:butt; stroke-linejoin:round; stroke-width:4; stroke-opacity:1; fill:none\" points=\"\n",
       "  235.413,1150.55 235.413,1445.72 805.158,1445.72 805.158,1150.55 235.413,1150.55 \n",
       "  \"/>\n",
       "<path clip-path=\"url(#clip932)\" d=\"\n",
       "M235.413 1189.91 L235.413 1445.72 L805.158 1445.72 L805.158 1189.91 L235.413 1189.91 L235.413 1189.91  Z\n",
       "  \" fill=\"#009af9\" fill-rule=\"evenodd\" fill-opacity=\"1\"/>\n",
       "<polyline clip-path=\"url(#clip932)\" style=\"stroke:#000000; stroke-linecap:butt; stroke-linejoin:round; stroke-width:4; stroke-opacity:1; fill:none\" points=\"\n",
       "  235.413,1189.91 235.413,1445.72 805.158,1445.72 805.158,1189.91 235.413,1189.91 \n",
       "  \"/>\n",
       "<path clip-path=\"url(#clip932)\" d=\"\n",
       "M235.413 1170.23 L235.413 1445.72 L805.158 1445.72 L805.158 1170.23 L235.413 1170.23 L235.413 1170.23  Z\n",
       "  \" fill=\"#009af9\" fill-rule=\"evenodd\" fill-opacity=\"1\"/>\n",
       "<polyline clip-path=\"url(#clip932)\" style=\"stroke:#000000; stroke-linecap:butt; stroke-linejoin:round; stroke-width:4; stroke-opacity:1; fill:none\" points=\"\n",
       "  235.413,1170.23 235.413,1445.72 805.158,1445.72 805.158,1170.23 235.413,1170.23 \n",
       "  \"/>\n",
       "<path clip-path=\"url(#clip932)\" d=\"\n",
       "M235.413 1111.2 L235.413 1445.72 L805.158 1445.72 L805.158 1111.2 L235.413 1111.2 L235.413 1111.2  Z\n",
       "  \" fill=\"#009af9\" fill-rule=\"evenodd\" fill-opacity=\"1\"/>\n",
       "<polyline clip-path=\"url(#clip932)\" style=\"stroke:#000000; stroke-linecap:butt; stroke-linejoin:round; stroke-width:4; stroke-opacity:1; fill:none\" points=\"\n",
       "  235.413,1111.2 235.413,1445.72 805.158,1445.72 805.158,1111.2 235.413,1111.2 \n",
       "  \"/>\n",
       "<path clip-path=\"url(#clip932)\" d=\"\n",
       "M235.413 1150.55 L235.413 1445.72 L805.158 1445.72 L805.158 1150.55 L235.413 1150.55 L235.413 1150.55  Z\n",
       "  \" fill=\"#009af9\" fill-rule=\"evenodd\" fill-opacity=\"1\"/>\n",
       "<polyline clip-path=\"url(#clip932)\" style=\"stroke:#000000; stroke-linecap:butt; stroke-linejoin:round; stroke-width:4; stroke-opacity:1; fill:none\" points=\"\n",
       "  235.413,1150.55 235.413,1445.72 805.158,1445.72 805.158,1150.55 235.413,1150.55 \n",
       "  \"/>\n",
       "<path clip-path=\"url(#clip932)\" d=\"\n",
       "M235.413 1111.2 L235.413 1445.72 L805.158 1445.72 L805.158 1111.2 L235.413 1111.2 L235.413 1111.2  Z\n",
       "  \" fill=\"#009af9\" fill-rule=\"evenodd\" fill-opacity=\"1\"/>\n",
       "<polyline clip-path=\"url(#clip932)\" style=\"stroke:#000000; stroke-linecap:butt; stroke-linejoin:round; stroke-width:4; stroke-opacity:1; fill:none\" points=\"\n",
       "  235.413,1111.2 235.413,1445.72 805.158,1445.72 805.158,1111.2 235.413,1111.2 \n",
       "  \"/>\n",
       "<path clip-path=\"url(#clip932)\" d=\"\n",
       "M235.413 1150.55 L235.413 1445.72 L805.158 1445.72 L805.158 1150.55 L235.413 1150.55 L235.413 1150.55  Z\n",
       "  \" fill=\"#009af9\" fill-rule=\"evenodd\" fill-opacity=\"1\"/>\n",
       "<polyline clip-path=\"url(#clip932)\" style=\"stroke:#000000; stroke-linecap:butt; stroke-linejoin:round; stroke-width:4; stroke-opacity:1; fill:none\" points=\"\n",
       "  235.413,1150.55 235.413,1445.72 805.158,1445.72 805.158,1150.55 235.413,1150.55 \n",
       "  \"/>\n",
       "<path clip-path=\"url(#clip932)\" d=\"\n",
       "M235.413 1248.94 L235.413 1445.72 L805.158 1445.72 L805.158 1248.94 L235.413 1248.94 L235.413 1248.94  Z\n",
       "  \" fill=\"#009af9\" fill-rule=\"evenodd\" fill-opacity=\"1\"/>\n",
       "<polyline clip-path=\"url(#clip932)\" style=\"stroke:#000000; stroke-linecap:butt; stroke-linejoin:round; stroke-width:4; stroke-opacity:1; fill:none\" points=\"\n",
       "  235.413,1248.94 235.413,1445.72 805.158,1445.72 805.158,1248.94 235.413,1248.94 \n",
       "  \"/>\n",
       "<path clip-path=\"url(#clip932)\" d=\"\n",
       "M235.413 1111.2 L235.413 1445.72 L805.158 1445.72 L805.158 1111.2 L235.413 1111.2 L235.413 1111.2  Z\n",
       "  \" fill=\"#009af9\" fill-rule=\"evenodd\" fill-opacity=\"1\"/>\n",
       "<polyline clip-path=\"url(#clip932)\" style=\"stroke:#000000; stroke-linecap:butt; stroke-linejoin:round; stroke-width:4; stroke-opacity:1; fill:none\" points=\"\n",
       "  235.413,1111.2 235.413,1445.72 805.158,1445.72 805.158,1111.2 235.413,1111.2 \n",
       "  \"/>\n",
       "<path clip-path=\"url(#clip932)\" d=\"\n",
       "M235.413 1071.85 L235.413 1445.72 L805.158 1445.72 L805.158 1071.85 L235.413 1071.85 L235.413 1071.85  Z\n",
       "  \" fill=\"#009af9\" fill-rule=\"evenodd\" fill-opacity=\"1\"/>\n",
       "<polyline clip-path=\"url(#clip932)\" style=\"stroke:#000000; stroke-linecap:butt; stroke-linejoin:round; stroke-width:4; stroke-opacity:1; fill:none\" points=\"\n",
       "  235.413,1071.85 235.413,1445.72 805.158,1445.72 805.158,1071.85 235.413,1071.85 \n",
       "  \"/>\n",
       "<path clip-path=\"url(#clip932)\" d=\"\n",
       "M235.413 1130.88 L235.413 1445.72 L805.158 1445.72 L805.158 1130.88 L235.413 1130.88 L235.413 1130.88  Z\n",
       "  \" fill=\"#009af9\" fill-rule=\"evenodd\" fill-opacity=\"1\"/>\n",
       "<polyline clip-path=\"url(#clip932)\" style=\"stroke:#000000; stroke-linecap:butt; stroke-linejoin:round; stroke-width:4; stroke-opacity:1; fill:none\" points=\"\n",
       "  235.413,1130.88 235.413,1445.72 805.158,1445.72 805.158,1130.88 235.413,1130.88 \n",
       "  \"/>\n",
       "<path clip-path=\"url(#clip932)\" d=\"\n",
       "M235.413 1130.88 L235.413 1445.72 L805.158 1445.72 L805.158 1130.88 L235.413 1130.88 L235.413 1130.88  Z\n",
       "  \" fill=\"#009af9\" fill-rule=\"evenodd\" fill-opacity=\"1\"/>\n",
       "<polyline clip-path=\"url(#clip932)\" style=\"stroke:#000000; stroke-linecap:butt; stroke-linejoin:round; stroke-width:4; stroke-opacity:1; fill:none\" points=\"\n",
       "  235.413,1130.88 235.413,1445.72 805.158,1445.72 805.158,1130.88 235.413,1130.88 \n",
       "  \"/>\n",
       "<path clip-path=\"url(#clip932)\" d=\"\n",
       "M235.413 1150.55 L235.413 1445.72 L805.158 1445.72 L805.158 1150.55 L235.413 1150.55 L235.413 1150.55  Z\n",
       "  \" fill=\"#009af9\" fill-rule=\"evenodd\" fill-opacity=\"1\"/>\n",
       "<polyline clip-path=\"url(#clip932)\" style=\"stroke:#000000; stroke-linecap:butt; stroke-linejoin:round; stroke-width:4; stroke-opacity:1; fill:none\" points=\"\n",
       "  235.413,1150.55 235.413,1445.72 805.158,1445.72 805.158,1150.55 235.413,1150.55 \n",
       "  \"/>\n",
       "<path clip-path=\"url(#clip932)\" d=\"\n",
       "M235.413 1170.23 L235.413 1445.72 L805.158 1445.72 L805.158 1170.23 L235.413 1170.23 L235.413 1170.23  Z\n",
       "  \" fill=\"#009af9\" fill-rule=\"evenodd\" fill-opacity=\"1\"/>\n",
       "<polyline clip-path=\"url(#clip932)\" style=\"stroke:#000000; stroke-linecap:butt; stroke-linejoin:round; stroke-width:4; stroke-opacity:1; fill:none\" points=\"\n",
       "  235.413,1170.23 235.413,1445.72 805.158,1445.72 805.158,1170.23 235.413,1170.23 \n",
       "  \"/>\n",
       "<path clip-path=\"url(#clip932)\" d=\"\n",
       "M235.413 1130.88 L235.413 1445.72 L805.158 1445.72 L805.158 1130.88 L235.413 1130.88 L235.413 1130.88  Z\n",
       "  \" fill=\"#009af9\" fill-rule=\"evenodd\" fill-opacity=\"1\"/>\n",
       "<polyline clip-path=\"url(#clip932)\" style=\"stroke:#000000; stroke-linecap:butt; stroke-linejoin:round; stroke-width:4; stroke-opacity:1; fill:none\" points=\"\n",
       "  235.413,1130.88 235.413,1445.72 805.158,1445.72 805.158,1130.88 235.413,1130.88 \n",
       "  \"/>\n",
       "<path clip-path=\"url(#clip932)\" d=\"\n",
       "M235.413 1130.88 L235.413 1445.72 L805.158 1445.72 L805.158 1130.88 L235.413 1130.88 L235.413 1130.88  Z\n",
       "  \" fill=\"#009af9\" fill-rule=\"evenodd\" fill-opacity=\"1\"/>\n",
       "<polyline clip-path=\"url(#clip932)\" style=\"stroke:#000000; stroke-linecap:butt; stroke-linejoin:round; stroke-width:4; stroke-opacity:1; fill:none\" points=\"\n",
       "  235.413,1130.88 235.413,1445.72 805.158,1445.72 805.158,1130.88 235.413,1130.88 \n",
       "  \"/>\n",
       "<path clip-path=\"url(#clip932)\" d=\"\n",
       "M235.413 1150.55 L235.413 1445.72 L805.158 1445.72 L805.158 1150.55 L235.413 1150.55 L235.413 1150.55  Z\n",
       "  \" fill=\"#009af9\" fill-rule=\"evenodd\" fill-opacity=\"1\"/>\n",
       "<polyline clip-path=\"url(#clip932)\" style=\"stroke:#000000; stroke-linecap:butt; stroke-linejoin:round; stroke-width:4; stroke-opacity:1; fill:none\" points=\"\n",
       "  235.413,1150.55 235.413,1445.72 805.158,1445.72 805.158,1150.55 235.413,1150.55 \n",
       "  \"/>\n",
       "<path clip-path=\"url(#clip932)\" d=\"\n",
       "M235.413 1150.55 L235.413 1445.72 L805.158 1445.72 L805.158 1150.55 L235.413 1150.55 L235.413 1150.55  Z\n",
       "  \" fill=\"#009af9\" fill-rule=\"evenodd\" fill-opacity=\"1\"/>\n",
       "<polyline clip-path=\"url(#clip932)\" style=\"stroke:#000000; stroke-linecap:butt; stroke-linejoin:round; stroke-width:4; stroke-opacity:1; fill:none\" points=\"\n",
       "  235.413,1150.55 235.413,1445.72 805.158,1445.72 805.158,1150.55 235.413,1150.55 \n",
       "  \"/>\n",
       "<path clip-path=\"url(#clip932)\" d=\"\n",
       "M235.413 1170.23 L235.413 1445.72 L805.158 1445.72 L805.158 1170.23 L235.413 1170.23 L235.413 1170.23  Z\n",
       "  \" fill=\"#009af9\" fill-rule=\"evenodd\" fill-opacity=\"1\"/>\n",
       "<polyline clip-path=\"url(#clip932)\" style=\"stroke:#000000; stroke-linecap:butt; stroke-linejoin:round; stroke-width:4; stroke-opacity:1; fill:none\" points=\"\n",
       "  235.413,1170.23 235.413,1445.72 805.158,1445.72 805.158,1170.23 235.413,1170.23 \n",
       "  \"/>\n",
       "<path clip-path=\"url(#clip932)\" d=\"\n",
       "M235.413 1150.55 L235.413 1445.72 L805.158 1445.72 L805.158 1150.55 L235.413 1150.55 L235.413 1150.55  Z\n",
       "  \" fill=\"#009af9\" fill-rule=\"evenodd\" fill-opacity=\"1\"/>\n",
       "<polyline clip-path=\"url(#clip932)\" style=\"stroke:#000000; stroke-linecap:butt; stroke-linejoin:round; stroke-width:4; stroke-opacity:1; fill:none\" points=\"\n",
       "  235.413,1150.55 235.413,1445.72 805.158,1445.72 805.158,1150.55 235.413,1150.55 \n",
       "  \"/>\n",
       "<path clip-path=\"url(#clip932)\" d=\"\n",
       "M235.413 1209.59 L235.413 1445.72 L805.158 1445.72 L805.158 1209.59 L235.413 1209.59 L235.413 1209.59  Z\n",
       "  \" fill=\"#009af9\" fill-rule=\"evenodd\" fill-opacity=\"1\"/>\n",
       "<polyline clip-path=\"url(#clip932)\" style=\"stroke:#000000; stroke-linecap:butt; stroke-linejoin:round; stroke-width:4; stroke-opacity:1; fill:none\" points=\"\n",
       "  235.413,1209.59 235.413,1445.72 805.158,1445.72 805.158,1209.59 235.413,1209.59 \n",
       "  \"/>\n",
       "<path clip-path=\"url(#clip932)\" d=\"\n",
       "M235.413 1189.91 L235.413 1445.72 L805.158 1445.72 L805.158 1189.91 L235.413 1189.91 L235.413 1189.91  Z\n",
       "  \" fill=\"#009af9\" fill-rule=\"evenodd\" fill-opacity=\"1\"/>\n",
       "<polyline clip-path=\"url(#clip932)\" style=\"stroke:#000000; stroke-linecap:butt; stroke-linejoin:round; stroke-width:4; stroke-opacity:1; fill:none\" points=\"\n",
       "  235.413,1189.91 235.413,1445.72 805.158,1445.72 805.158,1189.91 235.413,1189.91 \n",
       "  \"/>\n",
       "<path clip-path=\"url(#clip932)\" d=\"\n",
       "M235.413 1170.23 L235.413 1445.72 L805.158 1445.72 L805.158 1170.23 L235.413 1170.23 L235.413 1170.23  Z\n",
       "  \" fill=\"#009af9\" fill-rule=\"evenodd\" fill-opacity=\"1\"/>\n",
       "<polyline clip-path=\"url(#clip932)\" style=\"stroke:#000000; stroke-linecap:butt; stroke-linejoin:round; stroke-width:4; stroke-opacity:1; fill:none\" points=\"\n",
       "  235.413,1170.23 235.413,1445.72 805.158,1445.72 805.158,1170.23 235.413,1170.23 \n",
       "  \"/>\n",
       "<path clip-path=\"url(#clip932)\" d=\"\n",
       "M235.413 1189.91 L235.413 1445.72 L805.158 1445.72 L805.158 1189.91 L235.413 1189.91 L235.413 1189.91  Z\n",
       "  \" fill=\"#009af9\" fill-rule=\"evenodd\" fill-opacity=\"1\"/>\n",
       "<polyline clip-path=\"url(#clip932)\" style=\"stroke:#000000; stroke-linecap:butt; stroke-linejoin:round; stroke-width:4; stroke-opacity:1; fill:none\" points=\"\n",
       "  235.413,1189.91 235.413,1445.72 805.158,1445.72 805.158,1189.91 235.413,1189.91 \n",
       "  \"/>\n",
       "<path clip-path=\"url(#clip932)\" d=\"\n",
       "M235.413 1150.55 L235.413 1445.72 L805.158 1445.72 L805.158 1150.55 L235.413 1150.55 L235.413 1150.55  Z\n",
       "  \" fill=\"#009af9\" fill-rule=\"evenodd\" fill-opacity=\"1\"/>\n",
       "<polyline clip-path=\"url(#clip932)\" style=\"stroke:#000000; stroke-linecap:butt; stroke-linejoin:round; stroke-width:4; stroke-opacity:1; fill:none\" points=\"\n",
       "  235.413,1150.55 235.413,1445.72 805.158,1445.72 805.158,1150.55 235.413,1150.55 \n",
       "  \"/>\n",
       "<path clip-path=\"url(#clip932)\" d=\"\n",
       "M235.413 1189.91 L235.413 1445.72 L805.158 1445.72 L805.158 1189.91 L235.413 1189.91 L235.413 1189.91  Z\n",
       "  \" fill=\"#009af9\" fill-rule=\"evenodd\" fill-opacity=\"1\"/>\n",
       "<polyline clip-path=\"url(#clip932)\" style=\"stroke:#000000; stroke-linecap:butt; stroke-linejoin:round; stroke-width:4; stroke-opacity:1; fill:none\" points=\"\n",
       "  235.413,1189.91 235.413,1445.72 805.158,1445.72 805.158,1189.91 235.413,1189.91 \n",
       "  \"/>\n",
       "<path clip-path=\"url(#clip932)\" d=\"\n",
       "M235.413 1189.91 L235.413 1445.72 L805.158 1445.72 L805.158 1189.91 L235.413 1189.91 L235.413 1189.91  Z\n",
       "  \" fill=\"#009af9\" fill-rule=\"evenodd\" fill-opacity=\"1\"/>\n",
       "<polyline clip-path=\"url(#clip932)\" style=\"stroke:#000000; stroke-linecap:butt; stroke-linejoin:round; stroke-width:4; stroke-opacity:1; fill:none\" points=\"\n",
       "  235.413,1189.91 235.413,1445.72 805.158,1445.72 805.158,1189.91 235.413,1189.91 \n",
       "  \"/>\n",
       "<path clip-path=\"url(#clip932)\" d=\"\n",
       "M235.413 1189.91 L235.413 1445.72 L805.158 1445.72 L805.158 1189.91 L235.413 1189.91 L235.413 1189.91  Z\n",
       "  \" fill=\"#009af9\" fill-rule=\"evenodd\" fill-opacity=\"1\"/>\n",
       "<polyline clip-path=\"url(#clip932)\" style=\"stroke:#000000; stroke-linecap:butt; stroke-linejoin:round; stroke-width:4; stroke-opacity:1; fill:none\" points=\"\n",
       "  235.413,1189.91 235.413,1445.72 805.158,1445.72 805.158,1189.91 235.413,1189.91 \n",
       "  \"/>\n",
       "<path clip-path=\"url(#clip932)\" d=\"\n",
       "M235.413 1130.88 L235.413 1445.72 L805.158 1445.72 L805.158 1130.88 L235.413 1130.88 L235.413 1130.88  Z\n",
       "  \" fill=\"#009af9\" fill-rule=\"evenodd\" fill-opacity=\"1\"/>\n",
       "<polyline clip-path=\"url(#clip932)\" style=\"stroke:#000000; stroke-linecap:butt; stroke-linejoin:round; stroke-width:4; stroke-opacity:1; fill:none\" points=\"\n",
       "  235.413,1130.88 235.413,1445.72 805.158,1445.72 805.158,1130.88 235.413,1130.88 \n",
       "  \"/>\n",
       "<path clip-path=\"url(#clip932)\" d=\"\n",
       "M235.413 1071.85 L235.413 1445.72 L805.158 1445.72 L805.158 1071.85 L235.413 1071.85 L235.413 1071.85  Z\n",
       "  \" fill=\"#009af9\" fill-rule=\"evenodd\" fill-opacity=\"1\"/>\n",
       "<polyline clip-path=\"url(#clip932)\" style=\"stroke:#000000; stroke-linecap:butt; stroke-linejoin:round; stroke-width:4; stroke-opacity:1; fill:none\" points=\"\n",
       "  235.413,1071.85 235.413,1445.72 805.158,1445.72 805.158,1071.85 235.413,1071.85 \n",
       "  \"/>\n",
       "<path clip-path=\"url(#clip932)\" d=\"\n",
       "M235.413 1170.23 L235.413 1445.72 L805.158 1445.72 L805.158 1170.23 L235.413 1170.23 L235.413 1170.23  Z\n",
       "  \" fill=\"#009af9\" fill-rule=\"evenodd\" fill-opacity=\"1\"/>\n",
       "<polyline clip-path=\"url(#clip932)\" style=\"stroke:#000000; stroke-linecap:butt; stroke-linejoin:round; stroke-width:4; stroke-opacity:1; fill:none\" points=\"\n",
       "  235.413,1170.23 235.413,1445.72 805.158,1445.72 805.158,1170.23 235.413,1170.23 \n",
       "  \"/>\n",
       "<path clip-path=\"url(#clip932)\" d=\"\n",
       "M235.413 1130.88 L235.413 1445.72 L805.158 1445.72 L805.158 1130.88 L235.413 1130.88 L235.413 1130.88  Z\n",
       "  \" fill=\"#009af9\" fill-rule=\"evenodd\" fill-opacity=\"1\"/>\n",
       "<polyline clip-path=\"url(#clip932)\" style=\"stroke:#000000; stroke-linecap:butt; stroke-linejoin:round; stroke-width:4; stroke-opacity:1; fill:none\" points=\"\n",
       "  235.413,1130.88 235.413,1445.72 805.158,1445.72 805.158,1130.88 235.413,1130.88 \n",
       "  \"/>\n",
       "<path clip-path=\"url(#clip932)\" d=\"\n",
       "M235.413 1170.23 L235.413 1445.72 L805.158 1445.72 L805.158 1170.23 L235.413 1170.23 L235.413 1170.23  Z\n",
       "  \" fill=\"#009af9\" fill-rule=\"evenodd\" fill-opacity=\"1\"/>\n",
       "<polyline clip-path=\"url(#clip932)\" style=\"stroke:#000000; stroke-linecap:butt; stroke-linejoin:round; stroke-width:4; stroke-opacity:1; fill:none\" points=\"\n",
       "  235.413,1170.23 235.413,1445.72 805.158,1445.72 805.158,1170.23 235.413,1170.23 \n",
       "  \"/>\n",
       "<path clip-path=\"url(#clip932)\" d=\"\n",
       "M235.413 1150.55 L235.413 1445.72 L805.158 1445.72 L805.158 1150.55 L235.413 1150.55 L235.413 1150.55  Z\n",
       "  \" fill=\"#009af9\" fill-rule=\"evenodd\" fill-opacity=\"1\"/>\n",
       "<polyline clip-path=\"url(#clip932)\" style=\"stroke:#000000; stroke-linecap:butt; stroke-linejoin:round; stroke-width:4; stroke-opacity:1; fill:none\" points=\"\n",
       "  235.413,1150.55 235.413,1445.72 805.158,1445.72 805.158,1150.55 235.413,1150.55 \n",
       "  \"/>\n",
       "<path clip-path=\"url(#clip932)\" d=\"\n",
       "M235.413 1170.23 L235.413 1445.72 L805.158 1445.72 L805.158 1170.23 L235.413 1170.23 L235.413 1170.23  Z\n",
       "  \" fill=\"#009af9\" fill-rule=\"evenodd\" fill-opacity=\"1\"/>\n",
       "<polyline clip-path=\"url(#clip932)\" style=\"stroke:#000000; stroke-linecap:butt; stroke-linejoin:round; stroke-width:4; stroke-opacity:1; fill:none\" points=\"\n",
       "  235.413,1170.23 235.413,1445.72 805.158,1445.72 805.158,1170.23 235.413,1170.23 \n",
       "  \"/>\n",
       "<path clip-path=\"url(#clip932)\" d=\"\n",
       "M947.594 520.879 L947.594 1445.72 L1517.34 1445.72 L1517.34 520.879 L947.594 520.879 L947.594 520.879  Z\n",
       "  \" fill=\"#009af9\" fill-rule=\"evenodd\" fill-opacity=\"1\"/>\n",
       "<polyline clip-path=\"url(#clip932)\" style=\"stroke:#000000; stroke-linecap:butt; stroke-linejoin:round; stroke-width:4; stroke-opacity:1; fill:none\" points=\"\n",
       "  947.594,520.879 947.594,1445.72 1517.34,1445.72 1517.34,520.879 947.594,520.879 \n",
       "  \"/>\n",
       "<path clip-path=\"url(#clip932)\" d=\"\n",
       "M947.594 560.233 L947.594 1445.72 L1517.34 1445.72 L1517.34 560.233 L947.594 560.233 L947.594 560.233  Z\n",
       "  \" fill=\"#009af9\" fill-rule=\"evenodd\" fill-opacity=\"1\"/>\n",
       "<polyline clip-path=\"url(#clip932)\" style=\"stroke:#000000; stroke-linecap:butt; stroke-linejoin:round; stroke-width:4; stroke-opacity:1; fill:none\" points=\"\n",
       "  947.594,560.233 947.594,1445.72 1517.34,1445.72 1517.34,560.233 947.594,560.233 \n",
       "  \"/>\n",
       "<path clip-path=\"url(#clip932)\" d=\"\n",
       "M947.594 481.524 L947.594 1445.72 L1517.34 1445.72 L1517.34 481.524 L947.594 481.524 L947.594 481.524  Z\n",
       "  \" fill=\"#009af9\" fill-rule=\"evenodd\" fill-opacity=\"1\"/>\n",
       "<polyline clip-path=\"url(#clip932)\" style=\"stroke:#000000; stroke-linecap:butt; stroke-linejoin:round; stroke-width:4; stroke-opacity:1; fill:none\" points=\"\n",
       "  947.594,481.524 947.594,1445.72 1517.34,1445.72 1517.34,481.524 947.594,481.524 \n",
       "  \"/>\n",
       "<path clip-path=\"url(#clip932)\" d=\"\n",
       "M947.594 658.62 L947.594 1445.72 L1517.34 1445.72 L1517.34 658.62 L947.594 658.62 L947.594 658.62  Z\n",
       "  \" fill=\"#009af9\" fill-rule=\"evenodd\" fill-opacity=\"1\"/>\n",
       "<polyline clip-path=\"url(#clip932)\" style=\"stroke:#000000; stroke-linecap:butt; stroke-linejoin:round; stroke-width:4; stroke-opacity:1; fill:none\" points=\"\n",
       "  947.594,658.62 947.594,1445.72 1517.34,1445.72 1517.34,658.62 947.594,658.62 \n",
       "  \"/>\n",
       "<path clip-path=\"url(#clip932)\" d=\"\n",
       "M947.594 540.556 L947.594 1445.72 L1517.34 1445.72 L1517.34 540.556 L947.594 540.556 L947.594 540.556  Z\n",
       "  \" fill=\"#009af9\" fill-rule=\"evenodd\" fill-opacity=\"1\"/>\n",
       "<polyline clip-path=\"url(#clip932)\" style=\"stroke:#000000; stroke-linecap:butt; stroke-linejoin:round; stroke-width:4; stroke-opacity:1; fill:none\" points=\"\n",
       "  947.594,540.556 947.594,1445.72 1517.34,1445.72 1517.34,540.556 947.594,540.556 \n",
       "  \"/>\n",
       "<path clip-path=\"url(#clip932)\" d=\"\n",
       "M947.594 560.233 L947.594 1445.72 L1517.34 1445.72 L1517.34 560.233 L947.594 560.233 L947.594 560.233  Z\n",
       "  \" fill=\"#009af9\" fill-rule=\"evenodd\" fill-opacity=\"1\"/>\n",
       "<polyline clip-path=\"url(#clip932)\" style=\"stroke:#000000; stroke-linecap:butt; stroke-linejoin:round; stroke-width:4; stroke-opacity:1; fill:none\" points=\"\n",
       "  947.594,560.233 947.594,1445.72 1517.34,1445.72 1517.34,560.233 947.594,560.233 \n",
       "  \"/>\n",
       "<path clip-path=\"url(#clip932)\" d=\"\n",
       "M947.594 520.879 L947.594 1445.72 L1517.34 1445.72 L1517.34 520.879 L947.594 520.879 L947.594 520.879  Z\n",
       "  \" fill=\"#009af9\" fill-rule=\"evenodd\" fill-opacity=\"1\"/>\n",
       "<polyline clip-path=\"url(#clip932)\" style=\"stroke:#000000; stroke-linecap:butt; stroke-linejoin:round; stroke-width:4; stroke-opacity:1; fill:none\" points=\"\n",
       "  947.594,520.879 947.594,1445.72 1517.34,1445.72 1517.34,520.879 947.594,520.879 \n",
       "  \"/>\n",
       "<path clip-path=\"url(#clip932)\" d=\"\n",
       "M947.594 796.362 L947.594 1445.72 L1517.34 1445.72 L1517.34 796.362 L947.594 796.362 L947.594 796.362  Z\n",
       "  \" fill=\"#009af9\" fill-rule=\"evenodd\" fill-opacity=\"1\"/>\n",
       "<polyline clip-path=\"url(#clip932)\" style=\"stroke:#000000; stroke-linecap:butt; stroke-linejoin:round; stroke-width:4; stroke-opacity:1; fill:none\" points=\"\n",
       "  947.594,796.362 947.594,1445.72 1517.34,1445.72 1517.34,796.362 947.594,796.362 \n",
       "  \"/>\n",
       "<path clip-path=\"url(#clip932)\" d=\"\n",
       "M947.594 540.556 L947.594 1445.72 L1517.34 1445.72 L1517.34 540.556 L947.594 540.556 L947.594 540.556  Z\n",
       "  \" fill=\"#009af9\" fill-rule=\"evenodd\" fill-opacity=\"1\"/>\n",
       "<polyline clip-path=\"url(#clip932)\" style=\"stroke:#000000; stroke-linecap:butt; stroke-linejoin:round; stroke-width:4; stroke-opacity:1; fill:none\" points=\"\n",
       "  947.594,540.556 947.594,1445.72 1517.34,1445.72 1517.34,540.556 947.594,540.556 \n",
       "  \"/>\n",
       "<path clip-path=\"url(#clip932)\" d=\"\n",
       "M947.594 678.298 L947.594 1445.72 L1517.34 1445.72 L1517.34 678.298 L947.594 678.298 L947.594 678.298  Z\n",
       "  \" fill=\"#009af9\" fill-rule=\"evenodd\" fill-opacity=\"1\"/>\n",
       "<polyline clip-path=\"url(#clip932)\" style=\"stroke:#000000; stroke-linecap:butt; stroke-linejoin:round; stroke-width:4; stroke-opacity:1; fill:none\" points=\"\n",
       "  947.594,678.298 947.594,1445.72 1517.34,1445.72 1517.34,678.298 947.594,678.298 \n",
       "  \"/>\n",
       "<path clip-path=\"url(#clip932)\" d=\"\n",
       "M947.594 757.007 L947.594 1445.72 L1517.34 1445.72 L1517.34 757.007 L947.594 757.007 L947.594 757.007  Z\n",
       "  \" fill=\"#009af9\" fill-rule=\"evenodd\" fill-opacity=\"1\"/>\n",
       "<polyline clip-path=\"url(#clip932)\" style=\"stroke:#000000; stroke-linecap:butt; stroke-linejoin:round; stroke-width:4; stroke-opacity:1; fill:none\" points=\"\n",
       "  947.594,757.007 947.594,1445.72 1517.34,1445.72 1517.34,757.007 947.594,757.007 \n",
       "  \"/>\n",
       "<path clip-path=\"url(#clip932)\" d=\"\n",
       "M947.594 619.266 L947.594 1445.72 L1517.34 1445.72 L1517.34 619.266 L947.594 619.266 L947.594 619.266  Z\n",
       "  \" fill=\"#009af9\" fill-rule=\"evenodd\" fill-opacity=\"1\"/>\n",
       "<polyline clip-path=\"url(#clip932)\" style=\"stroke:#000000; stroke-linecap:butt; stroke-linejoin:round; stroke-width:4; stroke-opacity:1; fill:none\" points=\"\n",
       "  947.594,619.266 947.594,1445.72 1517.34,1445.72 1517.34,619.266 947.594,619.266 \n",
       "  \"/>\n",
       "<path clip-path=\"url(#clip932)\" d=\"\n",
       "M947.594 658.62 L947.594 1445.72 L1517.34 1445.72 L1517.34 658.62 L947.594 658.62 L947.594 658.62  Z\n",
       "  \" fill=\"#009af9\" fill-rule=\"evenodd\" fill-opacity=\"1\"/>\n",
       "<polyline clip-path=\"url(#clip932)\" style=\"stroke:#000000; stroke-linecap:butt; stroke-linejoin:round; stroke-width:4; stroke-opacity:1; fill:none\" points=\"\n",
       "  947.594,658.62 947.594,1445.72 1517.34,1445.72 1517.34,658.62 947.594,658.62 \n",
       "  \"/>\n",
       "<path clip-path=\"url(#clip932)\" d=\"\n",
       "M947.594 520.879 L947.594 1445.72 L1517.34 1445.72 L1517.34 520.879 L947.594 520.879 L947.594 520.879  Z\n",
       "  \" fill=\"#009af9\" fill-rule=\"evenodd\" fill-opacity=\"1\"/>\n",
       "<polyline clip-path=\"url(#clip932)\" style=\"stroke:#000000; stroke-linecap:butt; stroke-linejoin:round; stroke-width:4; stroke-opacity:1; fill:none\" points=\"\n",
       "  947.594,520.879 947.594,1445.72 1517.34,1445.72 1517.34,520.879 947.594,520.879 \n",
       "  \"/>\n",
       "<path clip-path=\"url(#clip932)\" d=\"\n",
       "M947.594 737.33 L947.594 1445.72 L1517.34 1445.72 L1517.34 737.33 L947.594 737.33 L947.594 737.33  Z\n",
       "  \" fill=\"#009af9\" fill-rule=\"evenodd\" fill-opacity=\"1\"/>\n",
       "<polyline clip-path=\"url(#clip932)\" style=\"stroke:#000000; stroke-linecap:butt; stroke-linejoin:round; stroke-width:4; stroke-opacity:1; fill:none\" points=\"\n",
       "  947.594,737.33 947.594,1445.72 1517.34,1445.72 1517.34,737.33 947.594,737.33 \n",
       "  \"/>\n",
       "<path clip-path=\"url(#clip932)\" d=\"\n",
       "M947.594 579.911 L947.594 1445.72 L1517.34 1445.72 L1517.34 579.911 L947.594 579.911 L947.594 579.911  Z\n",
       "  \" fill=\"#009af9\" fill-rule=\"evenodd\" fill-opacity=\"1\"/>\n",
       "<polyline clip-path=\"url(#clip932)\" style=\"stroke:#000000; stroke-linecap:butt; stroke-linejoin:round; stroke-width:4; stroke-opacity:1; fill:none\" points=\"\n",
       "  947.594,579.911 947.594,1445.72 1517.34,1445.72 1517.34,579.911 947.594,579.911 \n",
       "  \"/>\n",
       "<path clip-path=\"url(#clip932)\" d=\"\n",
       "M947.594 560.233 L947.594 1445.72 L1517.34 1445.72 L1517.34 560.233 L947.594 560.233 L947.594 560.233  Z\n",
       "  \" fill=\"#009af9\" fill-rule=\"evenodd\" fill-opacity=\"1\"/>\n",
       "<polyline clip-path=\"url(#clip932)\" style=\"stroke:#000000; stroke-linecap:butt; stroke-linejoin:round; stroke-width:4; stroke-opacity:1; fill:none\" points=\"\n",
       "  947.594,560.233 947.594,1445.72 1517.34,1445.72 1517.34,560.233 947.594,560.233 \n",
       "  \"/>\n",
       "<path clip-path=\"url(#clip932)\" d=\"\n",
       "M947.594 638.943 L947.594 1445.72 L1517.34 1445.72 L1517.34 638.943 L947.594 638.943 L947.594 638.943  Z\n",
       "  \" fill=\"#009af9\" fill-rule=\"evenodd\" fill-opacity=\"1\"/>\n",
       "<polyline clip-path=\"url(#clip932)\" style=\"stroke:#000000; stroke-linecap:butt; stroke-linejoin:round; stroke-width:4; stroke-opacity:1; fill:none\" points=\"\n",
       "  947.594,638.943 947.594,1445.72 1517.34,1445.72 1517.34,638.943 947.594,638.943 \n",
       "  \"/>\n",
       "<path clip-path=\"url(#clip932)\" d=\"\n",
       "M947.594 560.233 L947.594 1445.72 L1517.34 1445.72 L1517.34 560.233 L947.594 560.233 L947.594 560.233  Z\n",
       "  \" fill=\"#009af9\" fill-rule=\"evenodd\" fill-opacity=\"1\"/>\n",
       "<polyline clip-path=\"url(#clip932)\" style=\"stroke:#000000; stroke-linecap:butt; stroke-linejoin:round; stroke-width:4; stroke-opacity:1; fill:none\" points=\"\n",
       "  947.594,560.233 947.594,1445.72 1517.34,1445.72 1517.34,560.233 947.594,560.233 \n",
       "  \"/>\n",
       "<path clip-path=\"url(#clip932)\" d=\"\n",
       "M947.594 678.298 L947.594 1445.72 L1517.34 1445.72 L1517.34 678.298 L947.594 678.298 L947.594 678.298  Z\n",
       "  \" fill=\"#009af9\" fill-rule=\"evenodd\" fill-opacity=\"1\"/>\n",
       "<polyline clip-path=\"url(#clip932)\" style=\"stroke:#000000; stroke-linecap:butt; stroke-linejoin:round; stroke-width:4; stroke-opacity:1; fill:none\" points=\"\n",
       "  947.594,678.298 947.594,1445.72 1517.34,1445.72 1517.34,678.298 947.594,678.298 \n",
       "  \"/>\n",
       "<path clip-path=\"url(#clip932)\" d=\"\n",
       "M947.594 501.201 L947.594 1445.72 L1517.34 1445.72 L1517.34 501.201 L947.594 501.201 L947.594 501.201  Z\n",
       "  \" fill=\"#009af9\" fill-rule=\"evenodd\" fill-opacity=\"1\"/>\n",
       "<polyline clip-path=\"url(#clip932)\" style=\"stroke:#000000; stroke-linecap:butt; stroke-linejoin:round; stroke-width:4; stroke-opacity:1; fill:none\" points=\"\n",
       "  947.594,501.201 947.594,1445.72 1517.34,1445.72 1517.34,501.201 947.594,501.201 \n",
       "  \"/>\n",
       "<path clip-path=\"url(#clip932)\" d=\"\n",
       "M947.594 658.62 L947.594 1445.72 L1517.34 1445.72 L1517.34 658.62 L947.594 658.62 L947.594 658.62  Z\n",
       "  \" fill=\"#009af9\" fill-rule=\"evenodd\" fill-opacity=\"1\"/>\n",
       "<polyline clip-path=\"url(#clip932)\" style=\"stroke:#000000; stroke-linecap:butt; stroke-linejoin:round; stroke-width:4; stroke-opacity:1; fill:none\" points=\"\n",
       "  947.594,658.62 947.594,1445.72 1517.34,1445.72 1517.34,658.62 947.594,658.62 \n",
       "  \"/>\n",
       "<path clip-path=\"url(#clip932)\" d=\"\n",
       "M947.594 481.524 L947.594 1445.72 L1517.34 1445.72 L1517.34 481.524 L947.594 481.524 L947.594 481.524  Z\n",
       "  \" fill=\"#009af9\" fill-rule=\"evenodd\" fill-opacity=\"1\"/>\n",
       "<polyline clip-path=\"url(#clip932)\" style=\"stroke:#000000; stroke-linecap:butt; stroke-linejoin:round; stroke-width:4; stroke-opacity:1; fill:none\" points=\"\n",
       "  947.594,481.524 947.594,1445.72 1517.34,1445.72 1517.34,481.524 947.594,481.524 \n",
       "  \"/>\n",
       "<path clip-path=\"url(#clip932)\" d=\"\n",
       "M947.594 520.879 L947.594 1445.72 L1517.34 1445.72 L1517.34 520.879 L947.594 520.879 L947.594 520.879  Z\n",
       "  \" fill=\"#009af9\" fill-rule=\"evenodd\" fill-opacity=\"1\"/>\n",
       "<polyline clip-path=\"url(#clip932)\" style=\"stroke:#000000; stroke-linecap:butt; stroke-linejoin:round; stroke-width:4; stroke-opacity:1; fill:none\" points=\"\n",
       "  947.594,520.879 947.594,1445.72 1517.34,1445.72 1517.34,520.879 947.594,520.879 \n",
       "  \"/>\n",
       "<path clip-path=\"url(#clip932)\" d=\"\n",
       "M947.594 599.588 L947.594 1445.72 L1517.34 1445.72 L1517.34 599.588 L947.594 599.588 L947.594 599.588  Z\n",
       "  \" fill=\"#009af9\" fill-rule=\"evenodd\" fill-opacity=\"1\"/>\n",
       "<polyline clip-path=\"url(#clip932)\" style=\"stroke:#000000; stroke-linecap:butt; stroke-linejoin:round; stroke-width:4; stroke-opacity:1; fill:none\" points=\"\n",
       "  947.594,599.588 947.594,1445.72 1517.34,1445.72 1517.34,599.588 947.594,599.588 \n",
       "  \"/>\n",
       "<path clip-path=\"url(#clip932)\" d=\"\n",
       "M947.594 579.911 L947.594 1445.72 L1517.34 1445.72 L1517.34 579.911 L947.594 579.911 L947.594 579.911  Z\n",
       "  \" fill=\"#009af9\" fill-rule=\"evenodd\" fill-opacity=\"1\"/>\n",
       "<polyline clip-path=\"url(#clip932)\" style=\"stroke:#000000; stroke-linecap:butt; stroke-linejoin:round; stroke-width:4; stroke-opacity:1; fill:none\" points=\"\n",
       "  947.594,579.911 947.594,1445.72 1517.34,1445.72 1517.34,579.911 947.594,579.911 \n",
       "  \"/>\n",
       "<path clip-path=\"url(#clip932)\" d=\"\n",
       "M947.594 501.201 L947.594 1445.72 L1517.34 1445.72 L1517.34 501.201 L947.594 501.201 L947.594 501.201  Z\n",
       "  \" fill=\"#009af9\" fill-rule=\"evenodd\" fill-opacity=\"1\"/>\n",
       "<polyline clip-path=\"url(#clip932)\" style=\"stroke:#000000; stroke-linecap:butt; stroke-linejoin:round; stroke-width:4; stroke-opacity:1; fill:none\" points=\"\n",
       "  947.594,501.201 947.594,1445.72 1517.34,1445.72 1517.34,501.201 947.594,501.201 \n",
       "  \"/>\n",
       "<path clip-path=\"url(#clip932)\" d=\"\n",
       "M947.594 461.847 L947.594 1445.72 L1517.34 1445.72 L1517.34 461.847 L947.594 461.847 L947.594 461.847  Z\n",
       "  \" fill=\"#009af9\" fill-rule=\"evenodd\" fill-opacity=\"1\"/>\n",
       "<polyline clip-path=\"url(#clip932)\" style=\"stroke:#000000; stroke-linecap:butt; stroke-linejoin:round; stroke-width:4; stroke-opacity:1; fill:none\" points=\"\n",
       "  947.594,461.847 947.594,1445.72 1517.34,1445.72 1517.34,461.847 947.594,461.847 \n",
       "  \"/>\n",
       "<path clip-path=\"url(#clip932)\" d=\"\n",
       "M947.594 560.233 L947.594 1445.72 L1517.34 1445.72 L1517.34 560.233 L947.594 560.233 L947.594 560.233  Z\n",
       "  \" fill=\"#009af9\" fill-rule=\"evenodd\" fill-opacity=\"1\"/>\n",
       "<polyline clip-path=\"url(#clip932)\" style=\"stroke:#000000; stroke-linecap:butt; stroke-linejoin:round; stroke-width:4; stroke-opacity:1; fill:none\" points=\"\n",
       "  947.594,560.233 947.594,1445.72 1517.34,1445.72 1517.34,560.233 947.594,560.233 \n",
       "  \"/>\n",
       "<path clip-path=\"url(#clip932)\" d=\"\n",
       "M947.594 757.007 L947.594 1445.72 L1517.34 1445.72 L1517.34 757.007 L947.594 757.007 L947.594 757.007  Z\n",
       "  \" fill=\"#009af9\" fill-rule=\"evenodd\" fill-opacity=\"1\"/>\n",
       "<polyline clip-path=\"url(#clip932)\" style=\"stroke:#000000; stroke-linecap:butt; stroke-linejoin:round; stroke-width:4; stroke-opacity:1; fill:none\" points=\"\n",
       "  947.594,757.007 947.594,1445.72 1517.34,1445.72 1517.34,757.007 947.594,757.007 \n",
       "  \"/>\n",
       "<path clip-path=\"url(#clip932)\" d=\"\n",
       "M947.594 697.975 L947.594 1445.72 L1517.34 1445.72 L1517.34 697.975 L947.594 697.975 L947.594 697.975  Z\n",
       "  \" fill=\"#009af9\" fill-rule=\"evenodd\" fill-opacity=\"1\"/>\n",
       "<polyline clip-path=\"url(#clip932)\" style=\"stroke:#000000; stroke-linecap:butt; stroke-linejoin:round; stroke-width:4; stroke-opacity:1; fill:none\" points=\"\n",
       "  947.594,697.975 947.594,1445.72 1517.34,1445.72 1517.34,697.975 947.594,697.975 \n",
       "  \"/>\n",
       "<path clip-path=\"url(#clip932)\" d=\"\n",
       "M947.594 717.653 L947.594 1445.72 L1517.34 1445.72 L1517.34 717.653 L947.594 717.653 L947.594 717.653  Z\n",
       "  \" fill=\"#009af9\" fill-rule=\"evenodd\" fill-opacity=\"1\"/>\n",
       "<polyline clip-path=\"url(#clip932)\" style=\"stroke:#000000; stroke-linecap:butt; stroke-linejoin:round; stroke-width:4; stroke-opacity:1; fill:none\" points=\"\n",
       "  947.594,717.653 947.594,1445.72 1517.34,1445.72 1517.34,717.653 947.594,717.653 \n",
       "  \"/>\n",
       "<path clip-path=\"url(#clip932)\" d=\"\n",
       "M947.594 678.298 L947.594 1445.72 L1517.34 1445.72 L1517.34 678.298 L947.594 678.298 L947.594 678.298  Z\n",
       "  \" fill=\"#009af9\" fill-rule=\"evenodd\" fill-opacity=\"1\"/>\n",
       "<polyline clip-path=\"url(#clip932)\" style=\"stroke:#000000; stroke-linecap:butt; stroke-linejoin:round; stroke-width:4; stroke-opacity:1; fill:none\" points=\"\n",
       "  947.594,678.298 947.594,1445.72 1517.34,1445.72 1517.34,678.298 947.594,678.298 \n",
       "  \"/>\n",
       "<path clip-path=\"url(#clip932)\" d=\"\n",
       "M947.594 442.169 L947.594 1445.72 L1517.34 1445.72 L1517.34 442.169 L947.594 442.169 L947.594 442.169  Z\n",
       "  \" fill=\"#009af9\" fill-rule=\"evenodd\" fill-opacity=\"1\"/>\n",
       "<polyline clip-path=\"url(#clip932)\" style=\"stroke:#000000; stroke-linecap:butt; stroke-linejoin:round; stroke-width:4; stroke-opacity:1; fill:none\" points=\"\n",
       "  947.594,442.169 947.594,1445.72 1517.34,1445.72 1517.34,442.169 947.594,442.169 \n",
       "  \"/>\n",
       "<path clip-path=\"url(#clip932)\" d=\"\n",
       "M947.594 560.233 L947.594 1445.72 L1517.34 1445.72 L1517.34 560.233 L947.594 560.233 L947.594 560.233  Z\n",
       "  \" fill=\"#009af9\" fill-rule=\"evenodd\" fill-opacity=\"1\"/>\n",
       "<polyline clip-path=\"url(#clip932)\" style=\"stroke:#000000; stroke-linecap:butt; stroke-linejoin:round; stroke-width:4; stroke-opacity:1; fill:none\" points=\"\n",
       "  947.594,560.233 947.594,1445.72 1517.34,1445.72 1517.34,560.233 947.594,560.233 \n",
       "  \"/>\n",
       "<path clip-path=\"url(#clip932)\" d=\"\n",
       "M947.594 560.233 L947.594 1445.72 L1517.34 1445.72 L1517.34 560.233 L947.594 560.233 L947.594 560.233  Z\n",
       "  \" fill=\"#009af9\" fill-rule=\"evenodd\" fill-opacity=\"1\"/>\n",
       "<polyline clip-path=\"url(#clip932)\" style=\"stroke:#000000; stroke-linecap:butt; stroke-linejoin:round; stroke-width:4; stroke-opacity:1; fill:none\" points=\"\n",
       "  947.594,560.233 947.594,1445.72 1517.34,1445.72 1517.34,560.233 947.594,560.233 \n",
       "  \"/>\n",
       "<path clip-path=\"url(#clip932)\" d=\"\n",
       "M947.594 520.879 L947.594 1445.72 L1517.34 1445.72 L1517.34 520.879 L947.594 520.879 L947.594 520.879  Z\n",
       "  \" fill=\"#009af9\" fill-rule=\"evenodd\" fill-opacity=\"1\"/>\n",
       "<polyline clip-path=\"url(#clip932)\" style=\"stroke:#000000; stroke-linecap:butt; stroke-linejoin:round; stroke-width:4; stroke-opacity:1; fill:none\" points=\"\n",
       "  947.594,520.879 947.594,1445.72 1517.34,1445.72 1517.34,520.879 947.594,520.879 \n",
       "  \"/>\n",
       "<path clip-path=\"url(#clip932)\" d=\"\n",
       "M947.594 579.911 L947.594 1445.72 L1517.34 1445.72 L1517.34 579.911 L947.594 579.911 L947.594 579.911  Z\n",
       "  \" fill=\"#009af9\" fill-rule=\"evenodd\" fill-opacity=\"1\"/>\n",
       "<polyline clip-path=\"url(#clip932)\" style=\"stroke:#000000; stroke-linecap:butt; stroke-linejoin:round; stroke-width:4; stroke-opacity:1; fill:none\" points=\"\n",
       "  947.594,579.911 947.594,1445.72 1517.34,1445.72 1517.34,579.911 947.594,579.911 \n",
       "  \"/>\n",
       "<path clip-path=\"url(#clip932)\" d=\"\n",
       "M947.594 638.943 L947.594 1445.72 L1517.34 1445.72 L1517.34 638.943 L947.594 638.943 L947.594 638.943  Z\n",
       "  \" fill=\"#009af9\" fill-rule=\"evenodd\" fill-opacity=\"1\"/>\n",
       "<polyline clip-path=\"url(#clip932)\" style=\"stroke:#000000; stroke-linecap:butt; stroke-linejoin:round; stroke-width:4; stroke-opacity:1; fill:none\" points=\"\n",
       "  947.594,638.943 947.594,1445.72 1517.34,1445.72 1517.34,638.943 947.594,638.943 \n",
       "  \"/>\n",
       "<path clip-path=\"url(#clip932)\" d=\"\n",
       "M947.594 658.62 L947.594 1445.72 L1517.34 1445.72 L1517.34 658.62 L947.594 658.62 L947.594 658.62  Z\n",
       "  \" fill=\"#009af9\" fill-rule=\"evenodd\" fill-opacity=\"1\"/>\n",
       "<polyline clip-path=\"url(#clip932)\" style=\"stroke:#000000; stroke-linecap:butt; stroke-linejoin:round; stroke-width:4; stroke-opacity:1; fill:none\" points=\"\n",
       "  947.594,658.62 947.594,1445.72 1517.34,1445.72 1517.34,658.62 947.594,658.62 \n",
       "  \"/>\n",
       "<path clip-path=\"url(#clip932)\" d=\"\n",
       "M947.594 579.911 L947.594 1445.72 L1517.34 1445.72 L1517.34 579.911 L947.594 579.911 L947.594 579.911  Z\n",
       "  \" fill=\"#009af9\" fill-rule=\"evenodd\" fill-opacity=\"1\"/>\n",
       "<polyline clip-path=\"url(#clip932)\" style=\"stroke:#000000; stroke-linecap:butt; stroke-linejoin:round; stroke-width:4; stroke-opacity:1; fill:none\" points=\"\n",
       "  947.594,579.911 947.594,1445.72 1517.34,1445.72 1517.34,579.911 947.594,579.911 \n",
       "  \"/>\n",
       "<path clip-path=\"url(#clip932)\" d=\"\n",
       "M947.594 540.556 L947.594 1445.72 L1517.34 1445.72 L1517.34 540.556 L947.594 540.556 L947.594 540.556  Z\n",
       "  \" fill=\"#009af9\" fill-rule=\"evenodd\" fill-opacity=\"1\"/>\n",
       "<polyline clip-path=\"url(#clip932)\" style=\"stroke:#000000; stroke-linecap:butt; stroke-linejoin:round; stroke-width:4; stroke-opacity:1; fill:none\" points=\"\n",
       "  947.594,540.556 947.594,1445.72 1517.34,1445.72 1517.34,540.556 947.594,540.556 \n",
       "  \"/>\n",
       "<path clip-path=\"url(#clip932)\" d=\"\n",
       "M947.594 658.62 L947.594 1445.72 L1517.34 1445.72 L1517.34 658.62 L947.594 658.62 L947.594 658.62  Z\n",
       "  \" fill=\"#009af9\" fill-rule=\"evenodd\" fill-opacity=\"1\"/>\n",
       "<polyline clip-path=\"url(#clip932)\" style=\"stroke:#000000; stroke-linecap:butt; stroke-linejoin:round; stroke-width:4; stroke-opacity:1; fill:none\" points=\"\n",
       "  947.594,658.62 947.594,1445.72 1517.34,1445.72 1517.34,658.62 947.594,658.62 \n",
       "  \"/>\n",
       "<path clip-path=\"url(#clip932)\" d=\"\n",
       "M947.594 796.362 L947.594 1445.72 L1517.34 1445.72 L1517.34 796.362 L947.594 796.362 L947.594 796.362  Z\n",
       "  \" fill=\"#009af9\" fill-rule=\"evenodd\" fill-opacity=\"1\"/>\n",
       "<polyline clip-path=\"url(#clip932)\" style=\"stroke:#000000; stroke-linecap:butt; stroke-linejoin:round; stroke-width:4; stroke-opacity:1; fill:none\" points=\"\n",
       "  947.594,796.362 947.594,1445.72 1517.34,1445.72 1517.34,796.362 947.594,796.362 \n",
       "  \"/>\n",
       "<path clip-path=\"url(#clip932)\" d=\"\n",
       "M947.594 619.266 L947.594 1445.72 L1517.34 1445.72 L1517.34 619.266 L947.594 619.266 L947.594 619.266  Z\n",
       "  \" fill=\"#009af9\" fill-rule=\"evenodd\" fill-opacity=\"1\"/>\n",
       "<polyline clip-path=\"url(#clip932)\" style=\"stroke:#000000; stroke-linecap:butt; stroke-linejoin:round; stroke-width:4; stroke-opacity:1; fill:none\" points=\"\n",
       "  947.594,619.266 947.594,1445.72 1517.34,1445.72 1517.34,619.266 947.594,619.266 \n",
       "  \"/>\n",
       "<path clip-path=\"url(#clip932)\" d=\"\n",
       "M947.594 619.266 L947.594 1445.72 L1517.34 1445.72 L1517.34 619.266 L947.594 619.266 L947.594 619.266  Z\n",
       "  \" fill=\"#009af9\" fill-rule=\"evenodd\" fill-opacity=\"1\"/>\n",
       "<polyline clip-path=\"url(#clip932)\" style=\"stroke:#000000; stroke-linecap:butt; stroke-linejoin:round; stroke-width:4; stroke-opacity:1; fill:none\" points=\"\n",
       "  947.594,619.266 947.594,1445.72 1517.34,1445.72 1517.34,619.266 947.594,619.266 \n",
       "  \"/>\n",
       "<path clip-path=\"url(#clip932)\" d=\"\n",
       "M947.594 619.266 L947.594 1445.72 L1517.34 1445.72 L1517.34 619.266 L947.594 619.266 L947.594 619.266  Z\n",
       "  \" fill=\"#009af9\" fill-rule=\"evenodd\" fill-opacity=\"1\"/>\n",
       "<polyline clip-path=\"url(#clip932)\" style=\"stroke:#000000; stroke-linecap:butt; stroke-linejoin:round; stroke-width:4; stroke-opacity:1; fill:none\" points=\"\n",
       "  947.594,619.266 947.594,1445.72 1517.34,1445.72 1517.34,619.266 947.594,619.266 \n",
       "  \"/>\n",
       "<path clip-path=\"url(#clip932)\" d=\"\n",
       "M947.594 599.588 L947.594 1445.72 L1517.34 1445.72 L1517.34 599.588 L947.594 599.588 L947.594 599.588  Z\n",
       "  \" fill=\"#009af9\" fill-rule=\"evenodd\" fill-opacity=\"1\"/>\n",
       "<polyline clip-path=\"url(#clip932)\" style=\"stroke:#000000; stroke-linecap:butt; stroke-linejoin:round; stroke-width:4; stroke-opacity:1; fill:none\" points=\"\n",
       "  947.594,599.588 947.594,1445.72 1517.34,1445.72 1517.34,599.588 947.594,599.588 \n",
       "  \"/>\n",
       "<path clip-path=\"url(#clip932)\" d=\"\n",
       "M947.594 855.394 L947.594 1445.72 L1517.34 1445.72 L1517.34 855.394 L947.594 855.394 L947.594 855.394  Z\n",
       "  \" fill=\"#009af9\" fill-rule=\"evenodd\" fill-opacity=\"1\"/>\n",
       "<polyline clip-path=\"url(#clip932)\" style=\"stroke:#000000; stroke-linecap:butt; stroke-linejoin:round; stroke-width:4; stroke-opacity:1; fill:none\" points=\"\n",
       "  947.594,855.394 947.594,1445.72 1517.34,1445.72 1517.34,855.394 947.594,855.394 \n",
       "  \"/>\n",
       "<path clip-path=\"url(#clip932)\" d=\"\n",
       "M947.594 638.943 L947.594 1445.72 L1517.34 1445.72 L1517.34 638.943 L947.594 638.943 L947.594 638.943  Z\n",
       "  \" fill=\"#009af9\" fill-rule=\"evenodd\" fill-opacity=\"1\"/>\n",
       "<polyline clip-path=\"url(#clip932)\" style=\"stroke:#000000; stroke-linecap:butt; stroke-linejoin:round; stroke-width:4; stroke-opacity:1; fill:none\" points=\"\n",
       "  947.594,638.943 947.594,1445.72 1517.34,1445.72 1517.34,638.943 947.594,638.943 \n",
       "  \"/>\n",
       "<path clip-path=\"url(#clip932)\" d=\"\n",
       "M1659.78 265.073 L1659.78 1445.72 L2229.52 1445.72 L2229.52 265.073 L1659.78 265.073 L1659.78 265.073  Z\n",
       "  \" fill=\"#009af9\" fill-rule=\"evenodd\" fill-opacity=\"1\"/>\n",
       "<polyline clip-path=\"url(#clip932)\" style=\"stroke:#000000; stroke-linecap:butt; stroke-linejoin:round; stroke-width:4; stroke-opacity:1; fill:none\" points=\"\n",
       "  1659.78,265.073 1659.78,1445.72 2229.52,1445.72 2229.52,265.073 1659.78,265.073 \n",
       "  \"/>\n",
       "<path clip-path=\"url(#clip932)\" d=\"\n",
       "M1659.78 442.169 L1659.78 1445.72 L2229.52 1445.72 L2229.52 442.169 L1659.78 442.169 L1659.78 442.169  Z\n",
       "  \" fill=\"#009af9\" fill-rule=\"evenodd\" fill-opacity=\"1\"/>\n",
       "<polyline clip-path=\"url(#clip932)\" style=\"stroke:#000000; stroke-linecap:butt; stroke-linejoin:round; stroke-width:4; stroke-opacity:1; fill:none\" points=\"\n",
       "  1659.78,442.169 1659.78,1445.72 2229.52,1445.72 2229.52,442.169 1659.78,442.169 \n",
       "  \"/>\n",
       "<path clip-path=\"url(#clip932)\" d=\"\n",
       "M1659.78 284.75 L1659.78 1445.72 L2229.52 1445.72 L2229.52 284.75 L1659.78 284.75 L1659.78 284.75  Z\n",
       "  \" fill=\"#009af9\" fill-rule=\"evenodd\" fill-opacity=\"1\"/>\n",
       "<polyline clip-path=\"url(#clip932)\" style=\"stroke:#000000; stroke-linecap:butt; stroke-linejoin:round; stroke-width:4; stroke-opacity:1; fill:none\" points=\"\n",
       "  1659.78,284.75 1659.78,1445.72 2229.52,1445.72 2229.52,284.75 1659.78,284.75 \n",
       "  \"/>\n",
       "<path clip-path=\"url(#clip932)\" d=\"\n",
       "M1659.78 343.782 L1659.78 1445.72 L2229.52 1445.72 L2229.52 343.782 L1659.78 343.782 L1659.78 343.782  Z\n",
       "  \" fill=\"#009af9\" fill-rule=\"evenodd\" fill-opacity=\"1\"/>\n",
       "<polyline clip-path=\"url(#clip932)\" style=\"stroke:#000000; stroke-linecap:butt; stroke-linejoin:round; stroke-width:4; stroke-opacity:1; fill:none\" points=\"\n",
       "  1659.78,343.782 1659.78,1445.72 2229.52,1445.72 2229.52,343.782 1659.78,343.782 \n",
       "  \"/>\n",
       "<path clip-path=\"url(#clip932)\" d=\"\n",
       "M1659.78 304.427 L1659.78 1445.72 L2229.52 1445.72 L2229.52 304.427 L1659.78 304.427 L1659.78 304.427  Z\n",
       "  \" fill=\"#009af9\" fill-rule=\"evenodd\" fill-opacity=\"1\"/>\n",
       "<polyline clip-path=\"url(#clip932)\" style=\"stroke:#000000; stroke-linecap:butt; stroke-linejoin:round; stroke-width:4; stroke-opacity:1; fill:none\" points=\"\n",
       "  1659.78,304.427 1659.78,1445.72 2229.52,1445.72 2229.52,304.427 1659.78,304.427 \n",
       "  \"/>\n",
       "<path clip-path=\"url(#clip932)\" d=\"\n",
       "M1659.78 147.008 L1659.78 1445.72 L2229.52 1445.72 L2229.52 147.008 L1659.78 147.008 L1659.78 147.008  Z\n",
       "  \" fill=\"#009af9\" fill-rule=\"evenodd\" fill-opacity=\"1\"/>\n",
       "<polyline clip-path=\"url(#clip932)\" style=\"stroke:#000000; stroke-linecap:butt; stroke-linejoin:round; stroke-width:4; stroke-opacity:1; fill:none\" points=\"\n",
       "  1659.78,147.008 1659.78,1445.72 2229.52,1445.72 2229.52,147.008 1659.78,147.008 \n",
       "  \"/>\n",
       "<path clip-path=\"url(#clip932)\" d=\"\n",
       "M1659.78 560.233 L1659.78 1445.72 L2229.52 1445.72 L2229.52 560.233 L1659.78 560.233 L1659.78 560.233  Z\n",
       "  \" fill=\"#009af9\" fill-rule=\"evenodd\" fill-opacity=\"1\"/>\n",
       "<polyline clip-path=\"url(#clip932)\" style=\"stroke:#000000; stroke-linecap:butt; stroke-linejoin:round; stroke-width:4; stroke-opacity:1; fill:none\" points=\"\n",
       "  1659.78,560.233 1659.78,1445.72 2229.52,1445.72 2229.52,560.233 1659.78,560.233 \n",
       "  \"/>\n",
       "<path clip-path=\"url(#clip932)\" d=\"\n",
       "M1659.78 206.041 L1659.78 1445.72 L2229.52 1445.72 L2229.52 206.041 L1659.78 206.041 L1659.78 206.041  Z\n",
       "  \" fill=\"#009af9\" fill-rule=\"evenodd\" fill-opacity=\"1\"/>\n",
       "<polyline clip-path=\"url(#clip932)\" style=\"stroke:#000000; stroke-linecap:butt; stroke-linejoin:round; stroke-width:4; stroke-opacity:1; fill:none\" points=\"\n",
       "  1659.78,206.041 1659.78,1445.72 2229.52,1445.72 2229.52,206.041 1659.78,206.041 \n",
       "  \"/>\n",
       "<path clip-path=\"url(#clip932)\" d=\"\n",
       "M1659.78 304.427 L1659.78 1445.72 L2229.52 1445.72 L2229.52 304.427 L1659.78 304.427 L1659.78 304.427  Z\n",
       "  \" fill=\"#009af9\" fill-rule=\"evenodd\" fill-opacity=\"1\"/>\n",
       "<polyline clip-path=\"url(#clip932)\" style=\"stroke:#000000; stroke-linecap:butt; stroke-linejoin:round; stroke-width:4; stroke-opacity:1; fill:none\" points=\"\n",
       "  1659.78,304.427 1659.78,1445.72 2229.52,1445.72 2229.52,304.427 1659.78,304.427 \n",
       "  \"/>\n",
       "<path clip-path=\"url(#clip932)\" d=\"\n",
       "M1659.78 245.395 L1659.78 1445.72 L2229.52 1445.72 L2229.52 245.395 L1659.78 245.395 L1659.78 245.395  Z\n",
       "  \" fill=\"#009af9\" fill-rule=\"evenodd\" fill-opacity=\"1\"/>\n",
       "<polyline clip-path=\"url(#clip932)\" style=\"stroke:#000000; stroke-linecap:butt; stroke-linejoin:round; stroke-width:4; stroke-opacity:1; fill:none\" points=\"\n",
       "  1659.78,245.395 1659.78,1445.72 2229.52,1445.72 2229.52,245.395 1659.78,245.395 \n",
       "  \"/>\n",
       "<path clip-path=\"url(#clip932)\" d=\"\n",
       "M1659.78 442.169 L1659.78 1445.72 L2229.52 1445.72 L2229.52 442.169 L1659.78 442.169 L1659.78 442.169  Z\n",
       "  \" fill=\"#009af9\" fill-rule=\"evenodd\" fill-opacity=\"1\"/>\n",
       "<polyline clip-path=\"url(#clip932)\" style=\"stroke:#000000; stroke-linecap:butt; stroke-linejoin:round; stroke-width:4; stroke-opacity:1; fill:none\" points=\"\n",
       "  1659.78,442.169 1659.78,1445.72 2229.52,1445.72 2229.52,442.169 1659.78,442.169 \n",
       "  \"/>\n",
       "<path clip-path=\"url(#clip932)\" d=\"\n",
       "M1659.78 402.814 L1659.78 1445.72 L2229.52 1445.72 L2229.52 402.814 L1659.78 402.814 L1659.78 402.814  Z\n",
       "  \" fill=\"#009af9\" fill-rule=\"evenodd\" fill-opacity=\"1\"/>\n",
       "<polyline clip-path=\"url(#clip932)\" style=\"stroke:#000000; stroke-linecap:butt; stroke-linejoin:round; stroke-width:4; stroke-opacity:1; fill:none\" points=\"\n",
       "  1659.78,402.814 1659.78,1445.72 2229.52,1445.72 2229.52,402.814 1659.78,402.814 \n",
       "  \"/>\n",
       "<path clip-path=\"url(#clip932)\" d=\"\n",
       "M1659.78 363.46 L1659.78 1445.72 L2229.52 1445.72 L2229.52 363.46 L1659.78 363.46 L1659.78 363.46  Z\n",
       "  \" fill=\"#009af9\" fill-rule=\"evenodd\" fill-opacity=\"1\"/>\n",
       "<polyline clip-path=\"url(#clip932)\" style=\"stroke:#000000; stroke-linecap:butt; stroke-linejoin:round; stroke-width:4; stroke-opacity:1; fill:none\" points=\"\n",
       "  1659.78,363.46 1659.78,1445.72 2229.52,1445.72 2229.52,363.46 1659.78,363.46 \n",
       "  \"/>\n",
       "<path clip-path=\"url(#clip932)\" d=\"\n",
       "M1659.78 461.847 L1659.78 1445.72 L2229.52 1445.72 L2229.52 461.847 L1659.78 461.847 L1659.78 461.847  Z\n",
       "  \" fill=\"#009af9\" fill-rule=\"evenodd\" fill-opacity=\"1\"/>\n",
       "<polyline clip-path=\"url(#clip932)\" style=\"stroke:#000000; stroke-linecap:butt; stroke-linejoin:round; stroke-width:4; stroke-opacity:1; fill:none\" points=\"\n",
       "  1659.78,461.847 1659.78,1445.72 2229.52,1445.72 2229.52,461.847 1659.78,461.847 \n",
       "  \"/>\n",
       "<path clip-path=\"url(#clip932)\" d=\"\n",
       "M1659.78 442.169 L1659.78 1445.72 L2229.52 1445.72 L2229.52 442.169 L1659.78 442.169 L1659.78 442.169  Z\n",
       "  \" fill=\"#009af9\" fill-rule=\"evenodd\" fill-opacity=\"1\"/>\n",
       "<polyline clip-path=\"url(#clip932)\" style=\"stroke:#000000; stroke-linecap:butt; stroke-linejoin:round; stroke-width:4; stroke-opacity:1; fill:none\" points=\"\n",
       "  1659.78,442.169 1659.78,1445.72 2229.52,1445.72 2229.52,442.169 1659.78,442.169 \n",
       "  \"/>\n",
       "<path clip-path=\"url(#clip932)\" d=\"\n",
       "M1659.78 402.814 L1659.78 1445.72 L2229.52 1445.72 L2229.52 402.814 L1659.78 402.814 L1659.78 402.814  Z\n",
       "  \" fill=\"#009af9\" fill-rule=\"evenodd\" fill-opacity=\"1\"/>\n",
       "<polyline clip-path=\"url(#clip932)\" style=\"stroke:#000000; stroke-linecap:butt; stroke-linejoin:round; stroke-width:4; stroke-opacity:1; fill:none\" points=\"\n",
       "  1659.78,402.814 1659.78,1445.72 2229.52,1445.72 2229.52,402.814 1659.78,402.814 \n",
       "  \"/>\n",
       "<path clip-path=\"url(#clip932)\" d=\"\n",
       "M1659.78 363.46 L1659.78 1445.72 L2229.52 1445.72 L2229.52 363.46 L1659.78 363.46 L1659.78 363.46  Z\n",
       "  \" fill=\"#009af9\" fill-rule=\"evenodd\" fill-opacity=\"1\"/>\n",
       "<polyline clip-path=\"url(#clip932)\" style=\"stroke:#000000; stroke-linecap:butt; stroke-linejoin:round; stroke-width:4; stroke-opacity:1; fill:none\" points=\"\n",
       "  1659.78,363.46 1659.78,1445.72 2229.52,1445.72 2229.52,363.46 1659.78,363.46 \n",
       "  \"/>\n",
       "<path clip-path=\"url(#clip932)\" d=\"\n",
       "M1659.78 127.331 L1659.78 1445.72 L2229.52 1445.72 L2229.52 127.331 L1659.78 127.331 L1659.78 127.331  Z\n",
       "  \" fill=\"#009af9\" fill-rule=\"evenodd\" fill-opacity=\"1\"/>\n",
       "<polyline clip-path=\"url(#clip932)\" style=\"stroke:#000000; stroke-linecap:butt; stroke-linejoin:round; stroke-width:4; stroke-opacity:1; fill:none\" points=\"\n",
       "  1659.78,127.331 1659.78,1445.72 2229.52,1445.72 2229.52,127.331 1659.78,127.331 \n",
       "  \"/>\n",
       "<path clip-path=\"url(#clip932)\" d=\"\n",
       "M1659.78 87.9763 L1659.78 1445.72 L2229.52 1445.72 L2229.52 87.9763 L1659.78 87.9763 L1659.78 87.9763  Z\n",
       "  \" fill=\"#009af9\" fill-rule=\"evenodd\" fill-opacity=\"1\"/>\n",
       "<polyline clip-path=\"url(#clip932)\" style=\"stroke:#000000; stroke-linecap:butt; stroke-linejoin:round; stroke-width:4; stroke-opacity:1; fill:none\" points=\"\n",
       "  1659.78,87.9763 1659.78,1445.72 2229.52,1445.72 2229.52,87.9763 1659.78,87.9763 \n",
       "  \"/>\n",
       "<path clip-path=\"url(#clip932)\" d=\"\n",
       "M1659.78 461.847 L1659.78 1445.72 L2229.52 1445.72 L2229.52 461.847 L1659.78 461.847 L1659.78 461.847  Z\n",
       "  \" fill=\"#009af9\" fill-rule=\"evenodd\" fill-opacity=\"1\"/>\n",
       "<polyline clip-path=\"url(#clip932)\" style=\"stroke:#000000; stroke-linecap:butt; stroke-linejoin:round; stroke-width:4; stroke-opacity:1; fill:none\" points=\"\n",
       "  1659.78,461.847 1659.78,1445.72 2229.52,1445.72 2229.52,461.847 1659.78,461.847 \n",
       "  \"/>\n",
       "<path clip-path=\"url(#clip932)\" d=\"\n",
       "M1659.78 324.105 L1659.78 1445.72 L2229.52 1445.72 L2229.52 324.105 L1659.78 324.105 L1659.78 324.105  Z\n",
       "  \" fill=\"#009af9\" fill-rule=\"evenodd\" fill-opacity=\"1\"/>\n",
       "<polyline clip-path=\"url(#clip932)\" style=\"stroke:#000000; stroke-linecap:butt; stroke-linejoin:round; stroke-width:4; stroke-opacity:1; fill:none\" points=\"\n",
       "  1659.78,324.105 1659.78,1445.72 2229.52,1445.72 2229.52,324.105 1659.78,324.105 \n",
       "  \"/>\n",
       "<path clip-path=\"url(#clip932)\" d=\"\n",
       "M1659.78 481.524 L1659.78 1445.72 L2229.52 1445.72 L2229.52 481.524 L1659.78 481.524 L1659.78 481.524  Z\n",
       "  \" fill=\"#009af9\" fill-rule=\"evenodd\" fill-opacity=\"1\"/>\n",
       "<polyline clip-path=\"url(#clip932)\" style=\"stroke:#000000; stroke-linecap:butt; stroke-linejoin:round; stroke-width:4; stroke-opacity:1; fill:none\" points=\"\n",
       "  1659.78,481.524 1659.78,1445.72 2229.52,1445.72 2229.52,481.524 1659.78,481.524 \n",
       "  \"/>\n",
       "<path clip-path=\"url(#clip932)\" d=\"\n",
       "M1659.78 127.331 L1659.78 1445.72 L2229.52 1445.72 L2229.52 127.331 L1659.78 127.331 L1659.78 127.331  Z\n",
       "  \" fill=\"#009af9\" fill-rule=\"evenodd\" fill-opacity=\"1\"/>\n",
       "<polyline clip-path=\"url(#clip932)\" style=\"stroke:#000000; stroke-linecap:butt; stroke-linejoin:round; stroke-width:4; stroke-opacity:1; fill:none\" points=\"\n",
       "  1659.78,127.331 1659.78,1445.72 2229.52,1445.72 2229.52,127.331 1659.78,127.331 \n",
       "  \"/>\n",
       "<path clip-path=\"url(#clip932)\" d=\"\n",
       "M1659.78 481.524 L1659.78 1445.72 L2229.52 1445.72 L2229.52 481.524 L1659.78 481.524 L1659.78 481.524  Z\n",
       "  \" fill=\"#009af9\" fill-rule=\"evenodd\" fill-opacity=\"1\"/>\n",
       "<polyline clip-path=\"url(#clip932)\" style=\"stroke:#000000; stroke-linecap:butt; stroke-linejoin:round; stroke-width:4; stroke-opacity:1; fill:none\" points=\"\n",
       "  1659.78,481.524 1659.78,1445.72 2229.52,1445.72 2229.52,481.524 1659.78,481.524 \n",
       "  \"/>\n",
       "<path clip-path=\"url(#clip932)\" d=\"\n",
       "M1659.78 324.105 L1659.78 1445.72 L2229.52 1445.72 L2229.52 324.105 L1659.78 324.105 L1659.78 324.105  Z\n",
       "  \" fill=\"#009af9\" fill-rule=\"evenodd\" fill-opacity=\"1\"/>\n",
       "<polyline clip-path=\"url(#clip932)\" style=\"stroke:#000000; stroke-linecap:butt; stroke-linejoin:round; stroke-width:4; stroke-opacity:1; fill:none\" points=\"\n",
       "  1659.78,324.105 1659.78,1445.72 2229.52,1445.72 2229.52,324.105 1659.78,324.105 \n",
       "  \"/>\n",
       "<path clip-path=\"url(#clip932)\" d=\"\n",
       "M1659.78 265.073 L1659.78 1445.72 L2229.52 1445.72 L2229.52 265.073 L1659.78 265.073 L1659.78 265.073  Z\n",
       "  \" fill=\"#009af9\" fill-rule=\"evenodd\" fill-opacity=\"1\"/>\n",
       "<polyline clip-path=\"url(#clip932)\" style=\"stroke:#000000; stroke-linecap:butt; stroke-linejoin:round; stroke-width:4; stroke-opacity:1; fill:none\" points=\"\n",
       "  1659.78,265.073 1659.78,1445.72 2229.52,1445.72 2229.52,265.073 1659.78,265.073 \n",
       "  \"/>\n",
       "<path clip-path=\"url(#clip932)\" d=\"\n",
       "M1659.78 501.201 L1659.78 1445.72 L2229.52 1445.72 L2229.52 501.201 L1659.78 501.201 L1659.78 501.201  Z\n",
       "  \" fill=\"#009af9\" fill-rule=\"evenodd\" fill-opacity=\"1\"/>\n",
       "<polyline clip-path=\"url(#clip932)\" style=\"stroke:#000000; stroke-linecap:butt; stroke-linejoin:round; stroke-width:4; stroke-opacity:1; fill:none\" points=\"\n",
       "  1659.78,501.201 1659.78,1445.72 2229.52,1445.72 2229.52,501.201 1659.78,501.201 \n",
       "  \"/>\n",
       "<path clip-path=\"url(#clip932)\" d=\"\n",
       "M1659.78 481.524 L1659.78 1445.72 L2229.52 1445.72 L2229.52 481.524 L1659.78 481.524 L1659.78 481.524  Z\n",
       "  \" fill=\"#009af9\" fill-rule=\"evenodd\" fill-opacity=\"1\"/>\n",
       "<polyline clip-path=\"url(#clip932)\" style=\"stroke:#000000; stroke-linecap:butt; stroke-linejoin:round; stroke-width:4; stroke-opacity:1; fill:none\" points=\"\n",
       "  1659.78,481.524 1659.78,1445.72 2229.52,1445.72 2229.52,481.524 1659.78,481.524 \n",
       "  \"/>\n",
       "<path clip-path=\"url(#clip932)\" d=\"\n",
       "M1659.78 343.782 L1659.78 1445.72 L2229.52 1445.72 L2229.52 343.782 L1659.78 343.782 L1659.78 343.782  Z\n",
       "  \" fill=\"#009af9\" fill-rule=\"evenodd\" fill-opacity=\"1\"/>\n",
       "<polyline clip-path=\"url(#clip932)\" style=\"stroke:#000000; stroke-linecap:butt; stroke-linejoin:round; stroke-width:4; stroke-opacity:1; fill:none\" points=\"\n",
       "  1659.78,343.782 1659.78,1445.72 2229.52,1445.72 2229.52,343.782 1659.78,343.782 \n",
       "  \"/>\n",
       "<path clip-path=\"url(#clip932)\" d=\"\n",
       "M1659.78 304.427 L1659.78 1445.72 L2229.52 1445.72 L2229.52 304.427 L1659.78 304.427 L1659.78 304.427  Z\n",
       "  \" fill=\"#009af9\" fill-rule=\"evenodd\" fill-opacity=\"1\"/>\n",
       "<polyline clip-path=\"url(#clip932)\" style=\"stroke:#000000; stroke-linecap:butt; stroke-linejoin:round; stroke-width:4; stroke-opacity:1; fill:none\" points=\"\n",
       "  1659.78,304.427 1659.78,1445.72 2229.52,1445.72 2229.52,304.427 1659.78,304.427 \n",
       "  \"/>\n",
       "<path clip-path=\"url(#clip932)\" d=\"\n",
       "M1659.78 245.395 L1659.78 1445.72 L2229.52 1445.72 L2229.52 245.395 L1659.78 245.395 L1659.78 245.395  Z\n",
       "  \" fill=\"#009af9\" fill-rule=\"evenodd\" fill-opacity=\"1\"/>\n",
       "<polyline clip-path=\"url(#clip932)\" style=\"stroke:#000000; stroke-linecap:butt; stroke-linejoin:round; stroke-width:4; stroke-opacity:1; fill:none\" points=\"\n",
       "  1659.78,245.395 1659.78,1445.72 2229.52,1445.72 2229.52,245.395 1659.78,245.395 \n",
       "  \"/>\n",
       "<path clip-path=\"url(#clip932)\" d=\"\n",
       "M1659.78 186.363 L1659.78 1445.72 L2229.52 1445.72 L2229.52 186.363 L1659.78 186.363 L1659.78 186.363  Z\n",
       "  \" fill=\"#009af9\" fill-rule=\"evenodd\" fill-opacity=\"1\"/>\n",
       "<polyline clip-path=\"url(#clip932)\" style=\"stroke:#000000; stroke-linecap:butt; stroke-linejoin:round; stroke-width:4; stroke-opacity:1; fill:none\" points=\"\n",
       "  1659.78,186.363 1659.78,1445.72 2229.52,1445.72 2229.52,186.363 1659.78,186.363 \n",
       "  \"/>\n",
       "<path clip-path=\"url(#clip932)\" d=\"\n",
       "M1659.78 343.782 L1659.78 1445.72 L2229.52 1445.72 L2229.52 343.782 L1659.78 343.782 L1659.78 343.782  Z\n",
       "  \" fill=\"#009af9\" fill-rule=\"evenodd\" fill-opacity=\"1\"/>\n",
       "<polyline clip-path=\"url(#clip932)\" style=\"stroke:#000000; stroke-linecap:butt; stroke-linejoin:round; stroke-width:4; stroke-opacity:1; fill:none\" points=\"\n",
       "  1659.78,343.782 1659.78,1445.72 2229.52,1445.72 2229.52,343.782 1659.78,343.782 \n",
       "  \"/>\n",
       "<path clip-path=\"url(#clip932)\" d=\"\n",
       "M1659.78 442.169 L1659.78 1445.72 L2229.52 1445.72 L2229.52 442.169 L1659.78 442.169 L1659.78 442.169  Z\n",
       "  \" fill=\"#009af9\" fill-rule=\"evenodd\" fill-opacity=\"1\"/>\n",
       "<polyline clip-path=\"url(#clip932)\" style=\"stroke:#000000; stroke-linecap:butt; stroke-linejoin:round; stroke-width:4; stroke-opacity:1; fill:none\" points=\"\n",
       "  1659.78,442.169 1659.78,1445.72 2229.52,1445.72 2229.52,442.169 1659.78,442.169 \n",
       "  \"/>\n",
       "<path clip-path=\"url(#clip932)\" d=\"\n",
       "M1659.78 343.782 L1659.78 1445.72 L2229.52 1445.72 L2229.52 343.782 L1659.78 343.782 L1659.78 343.782  Z\n",
       "  \" fill=\"#009af9\" fill-rule=\"evenodd\" fill-opacity=\"1\"/>\n",
       "<polyline clip-path=\"url(#clip932)\" style=\"stroke:#000000; stroke-linecap:butt; stroke-linejoin:round; stroke-width:4; stroke-opacity:1; fill:none\" points=\"\n",
       "  1659.78,343.782 1659.78,1445.72 2229.52,1445.72 2229.52,343.782 1659.78,343.782 \n",
       "  \"/>\n",
       "<path clip-path=\"url(#clip932)\" d=\"\n",
       "M1659.78 245.395 L1659.78 1445.72 L2229.52 1445.72 L2229.52 245.395 L1659.78 245.395 L1659.78 245.395  Z\n",
       "  \" fill=\"#009af9\" fill-rule=\"evenodd\" fill-opacity=\"1\"/>\n",
       "<polyline clip-path=\"url(#clip932)\" style=\"stroke:#000000; stroke-linecap:butt; stroke-linejoin:round; stroke-width:4; stroke-opacity:1; fill:none\" points=\"\n",
       "  1659.78,245.395 1659.78,1445.72 2229.52,1445.72 2229.52,245.395 1659.78,245.395 \n",
       "  \"/>\n",
       "<path clip-path=\"url(#clip932)\" d=\"\n",
       "M1659.78 343.782 L1659.78 1445.72 L2229.52 1445.72 L2229.52 343.782 L1659.78 343.782 L1659.78 343.782  Z\n",
       "  \" fill=\"#009af9\" fill-rule=\"evenodd\" fill-opacity=\"1\"/>\n",
       "<polyline clip-path=\"url(#clip932)\" style=\"stroke:#000000; stroke-linecap:butt; stroke-linejoin:round; stroke-width:4; stroke-opacity:1; fill:none\" points=\"\n",
       "  1659.78,343.782 1659.78,1445.72 2229.52,1445.72 2229.52,343.782 1659.78,343.782 \n",
       "  \"/>\n",
       "<path clip-path=\"url(#clip932)\" d=\"\n",
       "M1659.78 363.46 L1659.78 1445.72 L2229.52 1445.72 L2229.52 363.46 L1659.78 363.46 L1659.78 363.46  Z\n",
       "  \" fill=\"#009af9\" fill-rule=\"evenodd\" fill-opacity=\"1\"/>\n",
       "<polyline clip-path=\"url(#clip932)\" style=\"stroke:#000000; stroke-linecap:butt; stroke-linejoin:round; stroke-width:4; stroke-opacity:1; fill:none\" points=\"\n",
       "  1659.78,363.46 1659.78,1445.72 2229.52,1445.72 2229.52,363.46 1659.78,363.46 \n",
       "  \"/>\n",
       "<path clip-path=\"url(#clip932)\" d=\"\n",
       "M1659.78 501.201 L1659.78 1445.72 L2229.52 1445.72 L2229.52 501.201 L1659.78 501.201 L1659.78 501.201  Z\n",
       "  \" fill=\"#009af9\" fill-rule=\"evenodd\" fill-opacity=\"1\"/>\n",
       "<polyline clip-path=\"url(#clip932)\" style=\"stroke:#000000; stroke-linecap:butt; stroke-linejoin:round; stroke-width:4; stroke-opacity:1; fill:none\" points=\"\n",
       "  1659.78,501.201 1659.78,1445.72 2229.52,1445.72 2229.52,501.201 1659.78,501.201 \n",
       "  \"/>\n",
       "<path clip-path=\"url(#clip932)\" d=\"\n",
       "M1659.78 383.137 L1659.78 1445.72 L2229.52 1445.72 L2229.52 383.137 L1659.78 383.137 L1659.78 383.137  Z\n",
       "  \" fill=\"#009af9\" fill-rule=\"evenodd\" fill-opacity=\"1\"/>\n",
       "<polyline clip-path=\"url(#clip932)\" style=\"stroke:#000000; stroke-linecap:butt; stroke-linejoin:round; stroke-width:4; stroke-opacity:1; fill:none\" points=\"\n",
       "  1659.78,383.137 1659.78,1445.72 2229.52,1445.72 2229.52,383.137 1659.78,383.137 \n",
       "  \"/>\n",
       "<path clip-path=\"url(#clip932)\" d=\"\n",
       "M1659.78 343.782 L1659.78 1445.72 L2229.52 1445.72 L2229.52 343.782 L1659.78 343.782 L1659.78 343.782  Z\n",
       "  \" fill=\"#009af9\" fill-rule=\"evenodd\" fill-opacity=\"1\"/>\n",
       "<polyline clip-path=\"url(#clip932)\" style=\"stroke:#000000; stroke-linecap:butt; stroke-linejoin:round; stroke-width:4; stroke-opacity:1; fill:none\" points=\"\n",
       "  1659.78,343.782 1659.78,1445.72 2229.52,1445.72 2229.52,343.782 1659.78,343.782 \n",
       "  \"/>\n",
       "<path clip-path=\"url(#clip932)\" d=\"\n",
       "M1659.78 442.169 L1659.78 1445.72 L2229.52 1445.72 L2229.52 442.169 L1659.78 442.169 L1659.78 442.169  Z\n",
       "  \" fill=\"#009af9\" fill-rule=\"evenodd\" fill-opacity=\"1\"/>\n",
       "<polyline clip-path=\"url(#clip932)\" style=\"stroke:#000000; stroke-linecap:butt; stroke-linejoin:round; stroke-width:4; stroke-opacity:1; fill:none\" points=\"\n",
       "  1659.78,442.169 1659.78,1445.72 2229.52,1445.72 2229.52,442.169 1659.78,442.169 \n",
       "  \"/>\n",
       "<path clip-path=\"url(#clip932)\" d=\"\n",
       "M1659.78 442.169 L1659.78 1445.72 L2229.52 1445.72 L2229.52 442.169 L1659.78 442.169 L1659.78 442.169  Z\n",
       "  \" fill=\"#009af9\" fill-rule=\"evenodd\" fill-opacity=\"1\"/>\n",
       "<polyline clip-path=\"url(#clip932)\" style=\"stroke:#000000; stroke-linecap:butt; stroke-linejoin:round; stroke-width:4; stroke-opacity:1; fill:none\" points=\"\n",
       "  1659.78,442.169 1659.78,1445.72 2229.52,1445.72 2229.52,442.169 1659.78,442.169 \n",
       "  \"/>\n",
       "<path clip-path=\"url(#clip932)\" d=\"\n",
       "M1659.78 284.75 L1659.78 1445.72 L2229.52 1445.72 L2229.52 284.75 L1659.78 284.75 L1659.78 284.75  Z\n",
       "  \" fill=\"#009af9\" fill-rule=\"evenodd\" fill-opacity=\"1\"/>\n",
       "<polyline clip-path=\"url(#clip932)\" style=\"stroke:#000000; stroke-linecap:butt; stroke-linejoin:round; stroke-width:4; stroke-opacity:1; fill:none\" points=\"\n",
       "  1659.78,284.75 1659.78,1445.72 2229.52,1445.72 2229.52,284.75 1659.78,284.75 \n",
       "  \"/>\n",
       "<path clip-path=\"url(#clip932)\" d=\"\n",
       "M1659.78 324.105 L1659.78 1445.72 L2229.52 1445.72 L2229.52 324.105 L1659.78 324.105 L1659.78 324.105  Z\n",
       "  \" fill=\"#009af9\" fill-rule=\"evenodd\" fill-opacity=\"1\"/>\n",
       "<polyline clip-path=\"url(#clip932)\" style=\"stroke:#000000; stroke-linecap:butt; stroke-linejoin:round; stroke-width:4; stroke-opacity:1; fill:none\" points=\"\n",
       "  1659.78,324.105 1659.78,1445.72 2229.52,1445.72 2229.52,324.105 1659.78,324.105 \n",
       "  \"/>\n",
       "<path clip-path=\"url(#clip932)\" d=\"\n",
       "M1659.78 422.492 L1659.78 1445.72 L2229.52 1445.72 L2229.52 422.492 L1659.78 422.492 L1659.78 422.492  Z\n",
       "  \" fill=\"#009af9\" fill-rule=\"evenodd\" fill-opacity=\"1\"/>\n",
       "<polyline clip-path=\"url(#clip932)\" style=\"stroke:#000000; stroke-linecap:butt; stroke-linejoin:round; stroke-width:4; stroke-opacity:1; fill:none\" points=\"\n",
       "  1659.78,422.492 1659.78,1445.72 2229.52,1445.72 2229.52,422.492 1659.78,422.492 \n",
       "  \"/>\n",
       "<path clip-path=\"url(#clip932)\" d=\"\n",
       "M1659.78 461.847 L1659.78 1445.72 L2229.52 1445.72 L2229.52 461.847 L1659.78 461.847 L1659.78 461.847  Z\n",
       "  \" fill=\"#009af9\" fill-rule=\"evenodd\" fill-opacity=\"1\"/>\n",
       "<polyline clip-path=\"url(#clip932)\" style=\"stroke:#000000; stroke-linecap:butt; stroke-linejoin:round; stroke-width:4; stroke-opacity:1; fill:none\" points=\"\n",
       "  1659.78,461.847 1659.78,1445.72 2229.52,1445.72 2229.52,461.847 1659.78,461.847 \n",
       "  \"/>\n",
       "<path clip-path=\"url(#clip932)\" d=\"\n",
       "M1659.78 422.492 L1659.78 1445.72 L2229.52 1445.72 L2229.52 422.492 L1659.78 422.492 L1659.78 422.492  Z\n",
       "  \" fill=\"#009af9\" fill-rule=\"evenodd\" fill-opacity=\"1\"/>\n",
       "<polyline clip-path=\"url(#clip932)\" style=\"stroke:#000000; stroke-linecap:butt; stroke-linejoin:round; stroke-width:4; stroke-opacity:1; fill:none\" points=\"\n",
       "  1659.78,422.492 1659.78,1445.72 2229.52,1445.72 2229.52,422.492 1659.78,422.492 \n",
       "  \"/>\n",
       "<path clip-path=\"url(#clip932)\" d=\"\n",
       "M1659.78 383.137 L1659.78 1445.72 L2229.52 1445.72 L2229.52 383.137 L1659.78 383.137 L1659.78 383.137  Z\n",
       "  \" fill=\"#009af9\" fill-rule=\"evenodd\" fill-opacity=\"1\"/>\n",
       "<polyline clip-path=\"url(#clip932)\" style=\"stroke:#000000; stroke-linecap:butt; stroke-linejoin:round; stroke-width:4; stroke-opacity:1; fill:none\" points=\"\n",
       "  1659.78,383.137 1659.78,1445.72 2229.52,1445.72 2229.52,383.137 1659.78,383.137 \n",
       "  \"/>\n",
       "<path clip-path=\"url(#clip932)\" d=\"\n",
       "M1659.78 442.169 L1659.78 1445.72 L2229.52 1445.72 L2229.52 442.169 L1659.78 442.169 L1659.78 442.169  Z\n",
       "  \" fill=\"#009af9\" fill-rule=\"evenodd\" fill-opacity=\"1\"/>\n",
       "<polyline clip-path=\"url(#clip932)\" style=\"stroke:#000000; stroke-linecap:butt; stroke-linejoin:round; stroke-width:4; stroke-opacity:1; fill:none\" points=\"\n",
       "  1659.78,442.169 1659.78,1445.72 2229.52,1445.72 2229.52,442.169 1659.78,442.169 \n",
       "  \"/>\n",
       "<circle clip-path=\"url(#clip932)\" style=\"fill:#009af9; stroke:none; fill-opacity:0\" cx=\"520.285\" cy=\"1170.23\" r=\"2\"/>\n",
       "<circle clip-path=\"url(#clip932)\" style=\"fill:#009af9; stroke:none; fill-opacity:0\" cx=\"520.285\" cy=\"1170.23\" r=\"2\"/>\n",
       "<circle clip-path=\"url(#clip932)\" style=\"fill:#009af9; stroke:none; fill-opacity:0\" cx=\"520.285\" cy=\"1189.91\" r=\"2\"/>\n",
       "<circle clip-path=\"url(#clip932)\" style=\"fill:#009af9; stroke:none; fill-opacity:0\" cx=\"520.285\" cy=\"1150.55\" r=\"2\"/>\n",
       "<circle clip-path=\"url(#clip932)\" style=\"fill:#009af9; stroke:none; fill-opacity:0\" cx=\"520.285\" cy=\"1170.23\" r=\"2\"/>\n",
       "<circle clip-path=\"url(#clip932)\" style=\"fill:#009af9; stroke:none; fill-opacity:0\" cx=\"520.285\" cy=\"1111.2\" r=\"2\"/>\n",
       "<circle clip-path=\"url(#clip932)\" style=\"fill:#009af9; stroke:none; fill-opacity:0\" cx=\"520.285\" cy=\"1170.23\" r=\"2\"/>\n",
       "<circle clip-path=\"url(#clip932)\" style=\"fill:#009af9; stroke:none; fill-opacity:0\" cx=\"520.285\" cy=\"1150.55\" r=\"2\"/>\n",
       "<circle clip-path=\"url(#clip932)\" style=\"fill:#009af9; stroke:none; fill-opacity:0\" cx=\"520.285\" cy=\"1170.23\" r=\"2\"/>\n",
       "<circle clip-path=\"url(#clip932)\" style=\"fill:#009af9; stroke:none; fill-opacity:0\" cx=\"520.285\" cy=\"1150.55\" r=\"2\"/>\n",
       "<circle clip-path=\"url(#clip932)\" style=\"fill:#009af9; stroke:none; fill-opacity:0\" cx=\"520.285\" cy=\"1150.55\" r=\"2\"/>\n",
       "<circle clip-path=\"url(#clip932)\" style=\"fill:#009af9; stroke:none; fill-opacity:0\" cx=\"520.285\" cy=\"1130.88\" r=\"2\"/>\n",
       "<circle clip-path=\"url(#clip932)\" style=\"fill:#009af9; stroke:none; fill-opacity:0\" cx=\"520.285\" cy=\"1170.23\" r=\"2\"/>\n",
       "<circle clip-path=\"url(#clip932)\" style=\"fill:#009af9; stroke:none; fill-opacity:0\" cx=\"520.285\" cy=\"1229.26\" r=\"2\"/>\n",
       "<circle clip-path=\"url(#clip932)\" style=\"fill:#009af9; stroke:none; fill-opacity:0\" cx=\"520.285\" cy=\"1209.59\" r=\"2\"/>\n",
       "<circle clip-path=\"url(#clip932)\" style=\"fill:#009af9; stroke:none; fill-opacity:0\" cx=\"520.285\" cy=\"1150.55\" r=\"2\"/>\n",
       "<circle clip-path=\"url(#clip932)\" style=\"fill:#009af9; stroke:none; fill-opacity:0\" cx=\"520.285\" cy=\"1189.91\" r=\"2\"/>\n",
       "<circle clip-path=\"url(#clip932)\" style=\"fill:#009af9; stroke:none; fill-opacity:0\" cx=\"520.285\" cy=\"1170.23\" r=\"2\"/>\n",
       "<circle clip-path=\"url(#clip932)\" style=\"fill:#009af9; stroke:none; fill-opacity:0\" cx=\"520.285\" cy=\"1111.2\" r=\"2\"/>\n",
       "<circle clip-path=\"url(#clip932)\" style=\"fill:#009af9; stroke:none; fill-opacity:0\" cx=\"520.285\" cy=\"1150.55\" r=\"2\"/>\n",
       "<circle clip-path=\"url(#clip932)\" style=\"fill:#009af9; stroke:none; fill-opacity:0\" cx=\"520.285\" cy=\"1111.2\" r=\"2\"/>\n",
       "<circle clip-path=\"url(#clip932)\" style=\"fill:#009af9; stroke:none; fill-opacity:0\" cx=\"520.285\" cy=\"1150.55\" r=\"2\"/>\n",
       "<circle clip-path=\"url(#clip932)\" style=\"fill:#009af9; stroke:none; fill-opacity:0\" cx=\"520.285\" cy=\"1248.94\" r=\"2\"/>\n",
       "<circle clip-path=\"url(#clip932)\" style=\"fill:#009af9; stroke:none; fill-opacity:0\" cx=\"520.285\" cy=\"1111.2\" r=\"2\"/>\n",
       "<circle clip-path=\"url(#clip932)\" style=\"fill:#009af9; stroke:none; fill-opacity:0\" cx=\"520.285\" cy=\"1071.85\" r=\"2\"/>\n",
       "<circle clip-path=\"url(#clip932)\" style=\"fill:#009af9; stroke:none; fill-opacity:0\" cx=\"520.285\" cy=\"1130.88\" r=\"2\"/>\n",
       "<circle clip-path=\"url(#clip932)\" style=\"fill:#009af9; stroke:none; fill-opacity:0\" cx=\"520.285\" cy=\"1130.88\" r=\"2\"/>\n",
       "<circle clip-path=\"url(#clip932)\" style=\"fill:#009af9; stroke:none; fill-opacity:0\" cx=\"520.285\" cy=\"1150.55\" r=\"2\"/>\n",
       "<circle clip-path=\"url(#clip932)\" style=\"fill:#009af9; stroke:none; fill-opacity:0\" cx=\"520.285\" cy=\"1170.23\" r=\"2\"/>\n",
       "<circle clip-path=\"url(#clip932)\" style=\"fill:#009af9; stroke:none; fill-opacity:0\" cx=\"520.285\" cy=\"1130.88\" r=\"2\"/>\n",
       "<circle clip-path=\"url(#clip932)\" style=\"fill:#009af9; stroke:none; fill-opacity:0\" cx=\"520.285\" cy=\"1130.88\" r=\"2\"/>\n",
       "<circle clip-path=\"url(#clip932)\" style=\"fill:#009af9; stroke:none; fill-opacity:0\" cx=\"520.285\" cy=\"1150.55\" r=\"2\"/>\n",
       "<circle clip-path=\"url(#clip932)\" style=\"fill:#009af9; stroke:none; fill-opacity:0\" cx=\"520.285\" cy=\"1150.55\" r=\"2\"/>\n",
       "<circle clip-path=\"url(#clip932)\" style=\"fill:#009af9; stroke:none; fill-opacity:0\" cx=\"520.285\" cy=\"1170.23\" r=\"2\"/>\n",
       "<circle clip-path=\"url(#clip932)\" style=\"fill:#009af9; stroke:none; fill-opacity:0\" cx=\"520.285\" cy=\"1150.55\" r=\"2\"/>\n",
       "<circle clip-path=\"url(#clip932)\" style=\"fill:#009af9; stroke:none; fill-opacity:0\" cx=\"520.285\" cy=\"1209.59\" r=\"2\"/>\n",
       "<circle clip-path=\"url(#clip932)\" style=\"fill:#009af9; stroke:none; fill-opacity:0\" cx=\"520.285\" cy=\"1189.91\" r=\"2\"/>\n",
       "<circle clip-path=\"url(#clip932)\" style=\"fill:#009af9; stroke:none; fill-opacity:0\" cx=\"520.285\" cy=\"1170.23\" r=\"2\"/>\n",
       "<circle clip-path=\"url(#clip932)\" style=\"fill:#009af9; stroke:none; fill-opacity:0\" cx=\"520.285\" cy=\"1189.91\" r=\"2\"/>\n",
       "<circle clip-path=\"url(#clip932)\" style=\"fill:#009af9; stroke:none; fill-opacity:0\" cx=\"520.285\" cy=\"1150.55\" r=\"2\"/>\n",
       "<circle clip-path=\"url(#clip932)\" style=\"fill:#009af9; stroke:none; fill-opacity:0\" cx=\"520.285\" cy=\"1189.91\" r=\"2\"/>\n",
       "<circle clip-path=\"url(#clip932)\" style=\"fill:#009af9; stroke:none; fill-opacity:0\" cx=\"520.285\" cy=\"1189.91\" r=\"2\"/>\n",
       "<circle clip-path=\"url(#clip932)\" style=\"fill:#009af9; stroke:none; fill-opacity:0\" cx=\"520.285\" cy=\"1189.91\" r=\"2\"/>\n",
       "<circle clip-path=\"url(#clip932)\" style=\"fill:#009af9; stroke:none; fill-opacity:0\" cx=\"520.285\" cy=\"1130.88\" r=\"2\"/>\n",
       "<circle clip-path=\"url(#clip932)\" style=\"fill:#009af9; stroke:none; fill-opacity:0\" cx=\"520.285\" cy=\"1071.85\" r=\"2\"/>\n",
       "<circle clip-path=\"url(#clip932)\" style=\"fill:#009af9; stroke:none; fill-opacity:0\" cx=\"520.285\" cy=\"1170.23\" r=\"2\"/>\n",
       "<circle clip-path=\"url(#clip932)\" style=\"fill:#009af9; stroke:none; fill-opacity:0\" cx=\"520.285\" cy=\"1130.88\" r=\"2\"/>\n",
       "<circle clip-path=\"url(#clip932)\" style=\"fill:#009af9; stroke:none; fill-opacity:0\" cx=\"520.285\" cy=\"1170.23\" r=\"2\"/>\n",
       "<circle clip-path=\"url(#clip932)\" style=\"fill:#009af9; stroke:none; fill-opacity:0\" cx=\"520.285\" cy=\"1150.55\" r=\"2\"/>\n",
       "<circle clip-path=\"url(#clip932)\" style=\"fill:#009af9; stroke:none; fill-opacity:0\" cx=\"520.285\" cy=\"1170.23\" r=\"2\"/>\n",
       "<circle clip-path=\"url(#clip932)\" style=\"fill:#009af9; stroke:none; fill-opacity:0\" cx=\"1232.47\" cy=\"520.879\" r=\"2\"/>\n",
       "<circle clip-path=\"url(#clip932)\" style=\"fill:#009af9; stroke:none; fill-opacity:0\" cx=\"1232.47\" cy=\"560.233\" r=\"2\"/>\n",
       "<circle clip-path=\"url(#clip932)\" style=\"fill:#009af9; stroke:none; fill-opacity:0\" cx=\"1232.47\" cy=\"481.524\" r=\"2\"/>\n",
       "<circle clip-path=\"url(#clip932)\" style=\"fill:#009af9; stroke:none; fill-opacity:0\" cx=\"1232.47\" cy=\"658.62\" r=\"2\"/>\n",
       "<circle clip-path=\"url(#clip932)\" style=\"fill:#009af9; stroke:none; fill-opacity:0\" cx=\"1232.47\" cy=\"540.556\" r=\"2\"/>\n",
       "<circle clip-path=\"url(#clip932)\" style=\"fill:#009af9; stroke:none; fill-opacity:0\" cx=\"1232.47\" cy=\"560.233\" r=\"2\"/>\n",
       "<circle clip-path=\"url(#clip932)\" style=\"fill:#009af9; stroke:none; fill-opacity:0\" cx=\"1232.47\" cy=\"520.879\" r=\"2\"/>\n",
       "<circle clip-path=\"url(#clip932)\" style=\"fill:#009af9; stroke:none; fill-opacity:0\" cx=\"1232.47\" cy=\"796.362\" r=\"2\"/>\n",
       "<circle clip-path=\"url(#clip932)\" style=\"fill:#009af9; stroke:none; fill-opacity:0\" cx=\"1232.47\" cy=\"540.556\" r=\"2\"/>\n",
       "<circle clip-path=\"url(#clip932)\" style=\"fill:#009af9; stroke:none; fill-opacity:0\" cx=\"1232.47\" cy=\"678.298\" r=\"2\"/>\n",
       "<circle clip-path=\"url(#clip932)\" style=\"fill:#009af9; stroke:none; fill-opacity:0\" cx=\"1232.47\" cy=\"757.007\" r=\"2\"/>\n",
       "<circle clip-path=\"url(#clip932)\" style=\"fill:#009af9; stroke:none; fill-opacity:0\" cx=\"1232.47\" cy=\"619.266\" r=\"2\"/>\n",
       "<circle clip-path=\"url(#clip932)\" style=\"fill:#009af9; stroke:none; fill-opacity:0\" cx=\"1232.47\" cy=\"658.62\" r=\"2\"/>\n",
       "<circle clip-path=\"url(#clip932)\" style=\"fill:#009af9; stroke:none; fill-opacity:0\" cx=\"1232.47\" cy=\"520.879\" r=\"2\"/>\n",
       "<circle clip-path=\"url(#clip932)\" style=\"fill:#009af9; stroke:none; fill-opacity:0\" cx=\"1232.47\" cy=\"737.33\" r=\"2\"/>\n",
       "<circle clip-path=\"url(#clip932)\" style=\"fill:#009af9; stroke:none; fill-opacity:0\" cx=\"1232.47\" cy=\"579.911\" r=\"2\"/>\n",
       "<circle clip-path=\"url(#clip932)\" style=\"fill:#009af9; stroke:none; fill-opacity:0\" cx=\"1232.47\" cy=\"560.233\" r=\"2\"/>\n",
       "<circle clip-path=\"url(#clip932)\" style=\"fill:#009af9; stroke:none; fill-opacity:0\" cx=\"1232.47\" cy=\"638.943\" r=\"2\"/>\n",
       "<circle clip-path=\"url(#clip932)\" style=\"fill:#009af9; stroke:none; fill-opacity:0\" cx=\"1232.47\" cy=\"560.233\" r=\"2\"/>\n",
       "<circle clip-path=\"url(#clip932)\" style=\"fill:#009af9; stroke:none; fill-opacity:0\" cx=\"1232.47\" cy=\"678.298\" r=\"2\"/>\n",
       "<circle clip-path=\"url(#clip932)\" style=\"fill:#009af9; stroke:none; fill-opacity:0\" cx=\"1232.47\" cy=\"501.201\" r=\"2\"/>\n",
       "<circle clip-path=\"url(#clip932)\" style=\"fill:#009af9; stroke:none; fill-opacity:0\" cx=\"1232.47\" cy=\"658.62\" r=\"2\"/>\n",
       "<circle clip-path=\"url(#clip932)\" style=\"fill:#009af9; stroke:none; fill-opacity:0\" cx=\"1232.47\" cy=\"481.524\" r=\"2\"/>\n",
       "<circle clip-path=\"url(#clip932)\" style=\"fill:#009af9; stroke:none; fill-opacity:0\" cx=\"1232.47\" cy=\"520.879\" r=\"2\"/>\n",
       "<circle clip-path=\"url(#clip932)\" style=\"fill:#009af9; stroke:none; fill-opacity:0\" cx=\"1232.47\" cy=\"599.588\" r=\"2\"/>\n",
       "<circle clip-path=\"url(#clip932)\" style=\"fill:#009af9; stroke:none; fill-opacity:0\" cx=\"1232.47\" cy=\"579.911\" r=\"2\"/>\n",
       "<circle clip-path=\"url(#clip932)\" style=\"fill:#009af9; stroke:none; fill-opacity:0\" cx=\"1232.47\" cy=\"501.201\" r=\"2\"/>\n",
       "<circle clip-path=\"url(#clip932)\" style=\"fill:#009af9; stroke:none; fill-opacity:0\" cx=\"1232.47\" cy=\"461.847\" r=\"2\"/>\n",
       "<circle clip-path=\"url(#clip932)\" style=\"fill:#009af9; stroke:none; fill-opacity:0\" cx=\"1232.47\" cy=\"560.233\" r=\"2\"/>\n",
       "<circle clip-path=\"url(#clip932)\" style=\"fill:#009af9; stroke:none; fill-opacity:0\" cx=\"1232.47\" cy=\"757.007\" r=\"2\"/>\n",
       "<circle clip-path=\"url(#clip932)\" style=\"fill:#009af9; stroke:none; fill-opacity:0\" cx=\"1232.47\" cy=\"697.975\" r=\"2\"/>\n",
       "<circle clip-path=\"url(#clip932)\" style=\"fill:#009af9; stroke:none; fill-opacity:0\" cx=\"1232.47\" cy=\"717.653\" r=\"2\"/>\n",
       "<circle clip-path=\"url(#clip932)\" style=\"fill:#009af9; stroke:none; fill-opacity:0\" cx=\"1232.47\" cy=\"678.298\" r=\"2\"/>\n",
       "<circle clip-path=\"url(#clip932)\" style=\"fill:#009af9; stroke:none; fill-opacity:0\" cx=\"1232.47\" cy=\"442.169\" r=\"2\"/>\n",
       "<circle clip-path=\"url(#clip932)\" style=\"fill:#009af9; stroke:none; fill-opacity:0\" cx=\"1232.47\" cy=\"560.233\" r=\"2\"/>\n",
       "<circle clip-path=\"url(#clip932)\" style=\"fill:#009af9; stroke:none; fill-opacity:0\" cx=\"1232.47\" cy=\"560.233\" r=\"2\"/>\n",
       "<circle clip-path=\"url(#clip932)\" style=\"fill:#009af9; stroke:none; fill-opacity:0\" cx=\"1232.47\" cy=\"520.879\" r=\"2\"/>\n",
       "<circle clip-path=\"url(#clip932)\" style=\"fill:#009af9; stroke:none; fill-opacity:0\" cx=\"1232.47\" cy=\"579.911\" r=\"2\"/>\n",
       "<circle clip-path=\"url(#clip932)\" style=\"fill:#009af9; stroke:none; fill-opacity:0\" cx=\"1232.47\" cy=\"638.943\" r=\"2\"/>\n",
       "<circle clip-path=\"url(#clip932)\" style=\"fill:#009af9; stroke:none; fill-opacity:0\" cx=\"1232.47\" cy=\"658.62\" r=\"2\"/>\n",
       "<circle clip-path=\"url(#clip932)\" style=\"fill:#009af9; stroke:none; fill-opacity:0\" cx=\"1232.47\" cy=\"579.911\" r=\"2\"/>\n",
       "<circle clip-path=\"url(#clip932)\" style=\"fill:#009af9; stroke:none; fill-opacity:0\" cx=\"1232.47\" cy=\"540.556\" r=\"2\"/>\n",
       "<circle clip-path=\"url(#clip932)\" style=\"fill:#009af9; stroke:none; fill-opacity:0\" cx=\"1232.47\" cy=\"658.62\" r=\"2\"/>\n",
       "<circle clip-path=\"url(#clip932)\" style=\"fill:#009af9; stroke:none; fill-opacity:0\" cx=\"1232.47\" cy=\"796.362\" r=\"2\"/>\n",
       "<circle clip-path=\"url(#clip932)\" style=\"fill:#009af9; stroke:none; fill-opacity:0\" cx=\"1232.47\" cy=\"619.266\" r=\"2\"/>\n",
       "<circle clip-path=\"url(#clip932)\" style=\"fill:#009af9; stroke:none; fill-opacity:0\" cx=\"1232.47\" cy=\"619.266\" r=\"2\"/>\n",
       "<circle clip-path=\"url(#clip932)\" style=\"fill:#009af9; stroke:none; fill-opacity:0\" cx=\"1232.47\" cy=\"619.266\" r=\"2\"/>\n",
       "<circle clip-path=\"url(#clip932)\" style=\"fill:#009af9; stroke:none; fill-opacity:0\" cx=\"1232.47\" cy=\"599.588\" r=\"2\"/>\n",
       "<circle clip-path=\"url(#clip932)\" style=\"fill:#009af9; stroke:none; fill-opacity:0\" cx=\"1232.47\" cy=\"855.394\" r=\"2\"/>\n",
       "<circle clip-path=\"url(#clip932)\" style=\"fill:#009af9; stroke:none; fill-opacity:0\" cx=\"1232.47\" cy=\"638.943\" r=\"2\"/>\n",
       "<circle clip-path=\"url(#clip932)\" style=\"fill:#009af9; stroke:none; fill-opacity:0\" cx=\"1944.65\" cy=\"265.073\" r=\"2\"/>\n",
       "<circle clip-path=\"url(#clip932)\" style=\"fill:#009af9; stroke:none; fill-opacity:0\" cx=\"1944.65\" cy=\"442.169\" r=\"2\"/>\n",
       "<circle clip-path=\"url(#clip932)\" style=\"fill:#009af9; stroke:none; fill-opacity:0\" cx=\"1944.65\" cy=\"284.75\" r=\"2\"/>\n",
       "<circle clip-path=\"url(#clip932)\" style=\"fill:#009af9; stroke:none; fill-opacity:0\" cx=\"1944.65\" cy=\"343.782\" r=\"2\"/>\n",
       "<circle clip-path=\"url(#clip932)\" style=\"fill:#009af9; stroke:none; fill-opacity:0\" cx=\"1944.65\" cy=\"304.427\" r=\"2\"/>\n",
       "<circle clip-path=\"url(#clip932)\" style=\"fill:#009af9; stroke:none; fill-opacity:0\" cx=\"1944.65\" cy=\"147.008\" r=\"2\"/>\n",
       "<circle clip-path=\"url(#clip932)\" style=\"fill:#009af9; stroke:none; fill-opacity:0\" cx=\"1944.65\" cy=\"560.233\" r=\"2\"/>\n",
       "<circle clip-path=\"url(#clip932)\" style=\"fill:#009af9; stroke:none; fill-opacity:0\" cx=\"1944.65\" cy=\"206.041\" r=\"2\"/>\n",
       "<circle clip-path=\"url(#clip932)\" style=\"fill:#009af9; stroke:none; fill-opacity:0\" cx=\"1944.65\" cy=\"304.427\" r=\"2\"/>\n",
       "<circle clip-path=\"url(#clip932)\" style=\"fill:#009af9; stroke:none; fill-opacity:0\" cx=\"1944.65\" cy=\"245.395\" r=\"2\"/>\n",
       "<circle clip-path=\"url(#clip932)\" style=\"fill:#009af9; stroke:none; fill-opacity:0\" cx=\"1944.65\" cy=\"442.169\" r=\"2\"/>\n",
       "<circle clip-path=\"url(#clip932)\" style=\"fill:#009af9; stroke:none; fill-opacity:0\" cx=\"1944.65\" cy=\"402.814\" r=\"2\"/>\n",
       "<circle clip-path=\"url(#clip932)\" style=\"fill:#009af9; stroke:none; fill-opacity:0\" cx=\"1944.65\" cy=\"363.46\" r=\"2\"/>\n",
       "<circle clip-path=\"url(#clip932)\" style=\"fill:#009af9; stroke:none; fill-opacity:0\" cx=\"1944.65\" cy=\"461.847\" r=\"2\"/>\n",
       "<circle clip-path=\"url(#clip932)\" style=\"fill:#009af9; stroke:none; fill-opacity:0\" cx=\"1944.65\" cy=\"442.169\" r=\"2\"/>\n",
       "<circle clip-path=\"url(#clip932)\" style=\"fill:#009af9; stroke:none; fill-opacity:0\" cx=\"1944.65\" cy=\"402.814\" r=\"2\"/>\n",
       "<circle clip-path=\"url(#clip932)\" style=\"fill:#009af9; stroke:none; fill-opacity:0\" cx=\"1944.65\" cy=\"363.46\" r=\"2\"/>\n",
       "<circle clip-path=\"url(#clip932)\" style=\"fill:#009af9; stroke:none; fill-opacity:0\" cx=\"1944.65\" cy=\"127.331\" r=\"2\"/>\n",
       "<circle clip-path=\"url(#clip932)\" style=\"fill:#009af9; stroke:none; fill-opacity:0\" cx=\"1944.65\" cy=\"87.9763\" r=\"2\"/>\n",
       "<circle clip-path=\"url(#clip932)\" style=\"fill:#009af9; stroke:none; fill-opacity:0\" cx=\"1944.65\" cy=\"461.847\" r=\"2\"/>\n",
       "<circle clip-path=\"url(#clip932)\" style=\"fill:#009af9; stroke:none; fill-opacity:0\" cx=\"1944.65\" cy=\"324.105\" r=\"2\"/>\n",
       "<circle clip-path=\"url(#clip932)\" style=\"fill:#009af9; stroke:none; fill-opacity:0\" cx=\"1944.65\" cy=\"481.524\" r=\"2\"/>\n",
       "<circle clip-path=\"url(#clip932)\" style=\"fill:#009af9; stroke:none; fill-opacity:0\" cx=\"1944.65\" cy=\"127.331\" r=\"2\"/>\n",
       "<circle clip-path=\"url(#clip932)\" style=\"fill:#009af9; stroke:none; fill-opacity:0\" cx=\"1944.65\" cy=\"481.524\" r=\"2\"/>\n",
       "<circle clip-path=\"url(#clip932)\" style=\"fill:#009af9; stroke:none; fill-opacity:0\" cx=\"1944.65\" cy=\"324.105\" r=\"2\"/>\n",
       "<circle clip-path=\"url(#clip932)\" style=\"fill:#009af9; stroke:none; fill-opacity:0\" cx=\"1944.65\" cy=\"265.073\" r=\"2\"/>\n",
       "<circle clip-path=\"url(#clip932)\" style=\"fill:#009af9; stroke:none; fill-opacity:0\" cx=\"1944.65\" cy=\"501.201\" r=\"2\"/>\n",
       "<circle clip-path=\"url(#clip932)\" style=\"fill:#009af9; stroke:none; fill-opacity:0\" cx=\"1944.65\" cy=\"481.524\" r=\"2\"/>\n",
       "<circle clip-path=\"url(#clip932)\" style=\"fill:#009af9; stroke:none; fill-opacity:0\" cx=\"1944.65\" cy=\"343.782\" r=\"2\"/>\n",
       "<circle clip-path=\"url(#clip932)\" style=\"fill:#009af9; stroke:none; fill-opacity:0\" cx=\"1944.65\" cy=\"304.427\" r=\"2\"/>\n",
       "<circle clip-path=\"url(#clip932)\" style=\"fill:#009af9; stroke:none; fill-opacity:0\" cx=\"1944.65\" cy=\"245.395\" r=\"2\"/>\n",
       "<circle clip-path=\"url(#clip932)\" style=\"fill:#009af9; stroke:none; fill-opacity:0\" cx=\"1944.65\" cy=\"186.363\" r=\"2\"/>\n",
       "<circle clip-path=\"url(#clip932)\" style=\"fill:#009af9; stroke:none; fill-opacity:0\" cx=\"1944.65\" cy=\"343.782\" r=\"2\"/>\n",
       "<circle clip-path=\"url(#clip932)\" style=\"fill:#009af9; stroke:none; fill-opacity:0\" cx=\"1944.65\" cy=\"442.169\" r=\"2\"/>\n",
       "<circle clip-path=\"url(#clip932)\" style=\"fill:#009af9; stroke:none; fill-opacity:0\" cx=\"1944.65\" cy=\"343.782\" r=\"2\"/>\n",
       "<circle clip-path=\"url(#clip932)\" style=\"fill:#009af9; stroke:none; fill-opacity:0\" cx=\"1944.65\" cy=\"245.395\" r=\"2\"/>\n",
       "<circle clip-path=\"url(#clip932)\" style=\"fill:#009af9; stroke:none; fill-opacity:0\" cx=\"1944.65\" cy=\"343.782\" r=\"2\"/>\n",
       "<circle clip-path=\"url(#clip932)\" style=\"fill:#009af9; stroke:none; fill-opacity:0\" cx=\"1944.65\" cy=\"363.46\" r=\"2\"/>\n",
       "<circle clip-path=\"url(#clip932)\" style=\"fill:#009af9; stroke:none; fill-opacity:0\" cx=\"1944.65\" cy=\"501.201\" r=\"2\"/>\n",
       "<circle clip-path=\"url(#clip932)\" style=\"fill:#009af9; stroke:none; fill-opacity:0\" cx=\"1944.65\" cy=\"383.137\" r=\"2\"/>\n",
       "<circle clip-path=\"url(#clip932)\" style=\"fill:#009af9; stroke:none; fill-opacity:0\" cx=\"1944.65\" cy=\"343.782\" r=\"2\"/>\n",
       "<circle clip-path=\"url(#clip932)\" style=\"fill:#009af9; stroke:none; fill-opacity:0\" cx=\"1944.65\" cy=\"442.169\" r=\"2\"/>\n",
       "<circle clip-path=\"url(#clip932)\" style=\"fill:#009af9; stroke:none; fill-opacity:0\" cx=\"1944.65\" cy=\"442.169\" r=\"2\"/>\n",
       "<circle clip-path=\"url(#clip932)\" style=\"fill:#009af9; stroke:none; fill-opacity:0\" cx=\"1944.65\" cy=\"284.75\" r=\"2\"/>\n",
       "<circle clip-path=\"url(#clip932)\" style=\"fill:#009af9; stroke:none; fill-opacity:0\" cx=\"1944.65\" cy=\"324.105\" r=\"2\"/>\n",
       "<circle clip-path=\"url(#clip932)\" style=\"fill:#009af9; stroke:none; fill-opacity:0\" cx=\"1944.65\" cy=\"422.492\" r=\"2\"/>\n",
       "<circle clip-path=\"url(#clip932)\" style=\"fill:#009af9; stroke:none; fill-opacity:0\" cx=\"1944.65\" cy=\"461.847\" r=\"2\"/>\n",
       "<circle clip-path=\"url(#clip932)\" style=\"fill:#009af9; stroke:none; fill-opacity:0\" cx=\"1944.65\" cy=\"422.492\" r=\"2\"/>\n",
       "<circle clip-path=\"url(#clip932)\" style=\"fill:#009af9; stroke:none; fill-opacity:0\" cx=\"1944.65\" cy=\"383.137\" r=\"2\"/>\n",
       "<circle clip-path=\"url(#clip932)\" style=\"fill:#009af9; stroke:none; fill-opacity:0\" cx=\"1944.65\" cy=\"442.169\" r=\"2\"/>\n",
       "<path clip-path=\"url(#clip930)\" d=\"\n",
       "M1976.69 198.898 L2278.07 198.898 L2278.07 95.2176 L1976.69 95.2176  Z\n",
       "  \" fill=\"#ffffff\" fill-rule=\"evenodd\" fill-opacity=\"1\"/>\n",
       "<polyline clip-path=\"url(#clip930)\" style=\"stroke:#000000; stroke-linecap:butt; stroke-linejoin:round; stroke-width:4; stroke-opacity:1; fill:none\" points=\"\n",
       "  1976.69,198.898 2278.07,198.898 2278.07,95.2176 1976.69,95.2176 1976.69,198.898 \n",
       "  \"/>\n",
       "<path clip-path=\"url(#clip930)\" d=\"\n",
       "M2001.58 167.794 L2150.95 167.794 L2150.95 126.322 L2001.58 126.322 L2001.58 167.794  Z\n",
       "  \" fill=\"#009af9\" fill-rule=\"evenodd\" fill-opacity=\"1\"/>\n",
       "<polyline clip-path=\"url(#clip930)\" style=\"stroke:#000000; stroke-linecap:butt; stroke-linejoin:round; stroke-width:4; stroke-opacity:1; fill:none\" points=\"\n",
       "  2001.58,167.794 2150.95,167.794 2150.95,126.322 2001.58,126.322 2001.58,167.794 \n",
       "  \"/>\n",
       "<path clip-path=\"url(#clip930)\" d=\"M2189.69 166.745 Q2187.89 171.375 2186.17 172.787 Q2184.46 174.199 2181.59 174.199 L2178.19 174.199 L2178.19 170.634 L2180.69 170.634 Q2182.45 170.634 2183.42 169.8 Q2184.39 168.967 2185.57 165.865 L2186.34 163.921 L2175.85 138.412 L2180.36 138.412 L2188.46 158.689 L2196.57 138.412 L2201.08 138.412 L2189.69 166.745 Z\" fill=\"#000000\" fill-rule=\"evenodd\" fill-opacity=\"1\" /><path clip-path=\"url(#clip930)\" d=\"M2208.37 160.402 L2216.01 160.402 L2216.01 134.037 L2207.7 135.703 L2207.7 131.444 L2215.96 129.778 L2220.64 129.778 L2220.64 160.402 L2228.28 160.402 L2228.28 164.338 L2208.37 164.338 L2208.37 160.402 Z\" fill=\"#000000\" fill-rule=\"evenodd\" fill-opacity=\"1\" /></svg>\n"
      ]
     },
     "execution_count": 123,
     "metadata": {},
     "output_type": "execute_result"
    }
   ],
   "source": [
    "bar(iris.Species,iris.Petal_Length)"
   ]
  },
  {
   "cell_type": "code",
   "execution_count": 124,
   "metadata": {},
   "outputs": [
    {
     "data": {
      "image/svg+xml": [
       "<?xml version=\"1.0\" encoding=\"utf-8\"?>\n",
       "<svg xmlns=\"http://www.w3.org/2000/svg\" xmlns:xlink=\"http://www.w3.org/1999/xlink\" width=\"600\" height=\"400\" viewBox=\"0 0 2400 1600\">\n",
       "<defs>\n",
       "  <clipPath id=\"clip970\">\n",
       "    <rect x=\"0\" y=\"0\" width=\"2400\" height=\"1600\"/>\n",
       "  </clipPath>\n",
       "</defs>\n",
       "<path clip-path=\"url(#clip970)\" d=\"\n",
       "M0 1600 L2400 1600 L2400 0 L0 0  Z\n",
       "  \" fill=\"#ffffff\" fill-rule=\"evenodd\" fill-opacity=\"1\"/>\n",
       "<defs>\n",
       "  <clipPath id=\"clip971\">\n",
       "    <rect x=\"480\" y=\"0\" width=\"1681\" height=\"1600\"/>\n",
       "  </clipPath>\n",
       "</defs>\n",
       "<path clip-path=\"url(#clip970)\" d=\"\n",
       "M155.765 1486.45 L2352.76 1486.45 L2352.76 47.2441 L155.765 47.2441  Z\n",
       "  \" fill=\"#ffffff\" fill-rule=\"evenodd\" fill-opacity=\"1\"/>\n",
       "<defs>\n",
       "  <clipPath id=\"clip972\">\n",
       "    <rect x=\"155\" y=\"47\" width=\"2198\" height=\"1440\"/>\n",
       "  </clipPath>\n",
       "</defs>\n",
       "<polyline clip-path=\"url(#clip972)\" style=\"stroke:#000000; stroke-linecap:butt; stroke-linejoin:round; stroke-width:2; stroke-opacity:0.1; fill:none\" points=\"\n",
       "  217.944,1486.45 217.944,47.2441 \n",
       "  \"/>\n",
       "<polyline clip-path=\"url(#clip972)\" style=\"stroke:#000000; stroke-linecap:butt; stroke-linejoin:round; stroke-width:2; stroke-opacity:0.1; fill:none\" points=\"\n",
       "  569.238,1486.45 569.238,47.2441 \n",
       "  \"/>\n",
       "<polyline clip-path=\"url(#clip972)\" style=\"stroke:#000000; stroke-linecap:butt; stroke-linejoin:round; stroke-width:2; stroke-opacity:0.1; fill:none\" points=\"\n",
       "  920.531,1486.45 920.531,47.2441 \n",
       "  \"/>\n",
       "<polyline clip-path=\"url(#clip972)\" style=\"stroke:#000000; stroke-linecap:butt; stroke-linejoin:round; stroke-width:2; stroke-opacity:0.1; fill:none\" points=\"\n",
       "  1271.83,1486.45 1271.83,47.2441 \n",
       "  \"/>\n",
       "<polyline clip-path=\"url(#clip972)\" style=\"stroke:#000000; stroke-linecap:butt; stroke-linejoin:round; stroke-width:2; stroke-opacity:0.1; fill:none\" points=\"\n",
       "  1623.12,1486.45 1623.12,47.2441 \n",
       "  \"/>\n",
       "<polyline clip-path=\"url(#clip972)\" style=\"stroke:#000000; stroke-linecap:butt; stroke-linejoin:round; stroke-width:2; stroke-opacity:0.1; fill:none\" points=\"\n",
       "  1974.41,1486.45 1974.41,47.2441 \n",
       "  \"/>\n",
       "<polyline clip-path=\"url(#clip972)\" style=\"stroke:#000000; stroke-linecap:butt; stroke-linejoin:round; stroke-width:2; stroke-opacity:0.1; fill:none\" points=\"\n",
       "  2325.71,1486.45 2325.71,47.2441 \n",
       "  \"/>\n",
       "<polyline clip-path=\"url(#clip970)\" style=\"stroke:#000000; stroke-linecap:butt; stroke-linejoin:round; stroke-width:4; stroke-opacity:1; fill:none\" points=\"\n",
       "  155.765,1486.45 2352.76,1486.45 \n",
       "  \"/>\n",
       "<polyline clip-path=\"url(#clip970)\" style=\"stroke:#000000; stroke-linecap:butt; stroke-linejoin:round; stroke-width:4; stroke-opacity:1; fill:none\" points=\"\n",
       "  217.944,1486.45 217.944,1467.55 \n",
       "  \"/>\n",
       "<polyline clip-path=\"url(#clip970)\" style=\"stroke:#000000; stroke-linecap:butt; stroke-linejoin:round; stroke-width:4; stroke-opacity:1; fill:none\" points=\"\n",
       "  569.238,1486.45 569.238,1467.55 \n",
       "  \"/>\n",
       "<polyline clip-path=\"url(#clip970)\" style=\"stroke:#000000; stroke-linecap:butt; stroke-linejoin:round; stroke-width:4; stroke-opacity:1; fill:none\" points=\"\n",
       "  920.531,1486.45 920.531,1467.55 \n",
       "  \"/>\n",
       "<polyline clip-path=\"url(#clip970)\" style=\"stroke:#000000; stroke-linecap:butt; stroke-linejoin:round; stroke-width:4; stroke-opacity:1; fill:none\" points=\"\n",
       "  1271.83,1486.45 1271.83,1467.55 \n",
       "  \"/>\n",
       "<polyline clip-path=\"url(#clip970)\" style=\"stroke:#000000; stroke-linecap:butt; stroke-linejoin:round; stroke-width:4; stroke-opacity:1; fill:none\" points=\"\n",
       "  1623.12,1486.45 1623.12,1467.55 \n",
       "  \"/>\n",
       "<polyline clip-path=\"url(#clip970)\" style=\"stroke:#000000; stroke-linecap:butt; stroke-linejoin:round; stroke-width:4; stroke-opacity:1; fill:none\" points=\"\n",
       "  1974.41,1486.45 1974.41,1467.55 \n",
       "  \"/>\n",
       "<polyline clip-path=\"url(#clip970)\" style=\"stroke:#000000; stroke-linecap:butt; stroke-linejoin:round; stroke-width:4; stroke-opacity:1; fill:none\" points=\"\n",
       "  2325.71,1486.45 2325.71,1467.55 \n",
       "  \"/>\n",
       "<path clip-path=\"url(#clip970)\" d=\"M208.326 1544.91 L215.965 1544.91 L215.965 1518.55 L207.655 1520.21 L207.655 1515.95 L215.918 1514.29 L220.594 1514.29 L220.594 1544.91 L228.233 1544.91 L228.233 1548.85 L208.326 1548.85 L208.326 1544.91 Z\" fill=\"#000000\" fill-rule=\"evenodd\" fill-opacity=\"1\" /><path clip-path=\"url(#clip970)\" d=\"M563.89 1544.91 L580.21 1544.91 L580.21 1548.85 L558.265 1548.85 L558.265 1544.91 Q560.927 1542.16 565.511 1537.53 Q570.117 1532.88 571.298 1531.53 Q573.543 1529.01 574.423 1527.27 Q575.326 1525.51 575.326 1523.82 Q575.326 1521.07 573.381 1519.33 Q571.46 1517.6 568.358 1517.6 Q566.159 1517.6 563.705 1518.36 Q561.275 1519.13 558.497 1520.68 L558.497 1515.95 Q561.321 1514.82 563.775 1514.24 Q566.228 1513.66 568.265 1513.66 Q573.636 1513.66 576.83 1516.35 Q580.025 1519.03 580.025 1523.52 Q580.025 1525.65 579.214 1527.57 Q578.427 1529.47 576.321 1532.07 Q575.742 1532.74 572.64 1535.95 Q569.539 1539.15 563.89 1544.91 Z\" fill=\"#000000\" fill-rule=\"evenodd\" fill-opacity=\"1\" /><path clip-path=\"url(#clip970)\" d=\"M924.779 1530.21 Q928.135 1530.93 930.01 1533.2 Q931.909 1535.47 931.909 1538.8 Q931.909 1543.92 928.39 1546.72 Q924.872 1549.52 918.39 1549.52 Q916.214 1549.52 913.899 1549.08 Q911.608 1548.66 909.154 1547.81 L909.154 1543.29 Q911.099 1544.43 913.413 1545.01 Q915.728 1545.58 918.251 1545.58 Q922.649 1545.58 924.941 1543.85 Q927.256 1542.11 927.256 1538.8 Q927.256 1535.75 925.103 1534.03 Q922.973 1532.3 919.154 1532.3 L915.126 1532.3 L915.126 1528.45 L919.339 1528.45 Q922.788 1528.45 924.617 1527.09 Q926.446 1525.7 926.446 1523.11 Q926.446 1520.45 924.548 1519.03 Q922.673 1517.6 919.154 1517.6 Q917.233 1517.6 915.034 1518.01 Q912.835 1518.43 910.196 1519.31 L910.196 1515.14 Q912.858 1514.4 915.173 1514.03 Q917.511 1513.66 919.571 1513.66 Q924.895 1513.66 927.997 1516.09 Q931.098 1518.5 931.098 1522.62 Q931.098 1525.49 929.455 1527.48 Q927.811 1529.45 924.779 1530.21 Z\" fill=\"#000000\" fill-rule=\"evenodd\" fill-opacity=\"1\" /><path clip-path=\"url(#clip970)\" d=\"M1274.83 1518.36 L1263.03 1536.81 L1274.83 1536.81 L1274.83 1518.36 M1273.61 1514.29 L1279.49 1514.29 L1279.49 1536.81 L1284.42 1536.81 L1284.42 1540.7 L1279.49 1540.7 L1279.49 1548.85 L1274.83 1548.85 L1274.83 1540.7 L1259.23 1540.7 L1259.23 1536.19 L1273.61 1514.29 Z\" fill=\"#000000\" fill-rule=\"evenodd\" fill-opacity=\"1\" /><path clip-path=\"url(#clip970)\" d=\"M1613.4 1514.29 L1631.75 1514.29 L1631.75 1518.22 L1617.68 1518.22 L1617.68 1526.7 Q1618.7 1526.35 1619.72 1526.19 Q1620.73 1526 1621.75 1526 Q1627.54 1526 1630.92 1529.17 Q1634.3 1532.34 1634.3 1537.76 Q1634.3 1543.34 1630.83 1546.44 Q1627.35 1549.52 1621.04 1549.52 Q1618.86 1549.52 1616.59 1549.15 Q1614.35 1548.78 1611.94 1548.04 L1611.94 1543.34 Q1614.02 1544.47 1616.24 1545.03 Q1618.47 1545.58 1620.94 1545.58 Q1624.95 1545.58 1627.29 1543.48 Q1629.62 1541.37 1629.62 1537.76 Q1629.62 1534.15 1627.29 1532.04 Q1624.95 1529.94 1620.94 1529.94 Q1619.07 1529.94 1617.19 1530.35 Q1615.34 1530.77 1613.4 1531.65 L1613.4 1514.29 Z\" fill=\"#000000\" fill-rule=\"evenodd\" fill-opacity=\"1\" /><path clip-path=\"url(#clip970)\" d=\"M1974.82 1529.7 Q1971.67 1529.7 1969.82 1531.86 Q1967.99 1534.01 1967.99 1537.76 Q1967.99 1541.49 1969.82 1543.66 Q1971.67 1545.82 1974.82 1545.82 Q1977.97 1545.82 1979.79 1543.66 Q1981.65 1541.49 1981.65 1537.76 Q1981.65 1534.01 1979.79 1531.86 Q1977.97 1529.7 1974.82 1529.7 M1984.1 1515.05 L1984.1 1519.31 Q1982.34 1518.48 1980.54 1518.04 Q1978.75 1517.6 1976.99 1517.6 Q1972.36 1517.6 1969.91 1520.72 Q1967.48 1523.85 1967.13 1530.17 Q1968.5 1528.15 1970.56 1527.09 Q1972.62 1526 1975.1 1526 Q1980.3 1526 1983.31 1529.17 Q1986.35 1532.32 1986.35 1537.76 Q1986.35 1543.08 1983.2 1546.3 Q1980.05 1549.52 1974.82 1549.52 Q1968.82 1549.52 1965.65 1544.94 Q1962.48 1540.33 1962.48 1531.6 Q1962.48 1523.41 1966.37 1518.55 Q1970.26 1513.66 1976.81 1513.66 Q1978.57 1513.66 1980.35 1514.01 Q1982.16 1514.36 1984.1 1515.05 Z\" fill=\"#000000\" fill-rule=\"evenodd\" fill-opacity=\"1\" /><path clip-path=\"url(#clip970)\" d=\"M2314.6 1514.29 L2336.82 1514.29 L2336.82 1516.28 L2324.27 1548.85 L2319.39 1548.85 L2331.19 1518.22 L2314.6 1518.22 L2314.6 1514.29 Z\" fill=\"#000000\" fill-rule=\"evenodd\" fill-opacity=\"1\" /><polyline clip-path=\"url(#clip972)\" style=\"stroke:#000000; stroke-linecap:butt; stroke-linejoin:round; stroke-width:2; stroke-opacity:0.1; fill:none\" points=\"\n",
       "  155.765,1219.43 2352.76,1219.43 \n",
       "  \"/>\n",
       "<polyline clip-path=\"url(#clip972)\" style=\"stroke:#000000; stroke-linecap:butt; stroke-linejoin:round; stroke-width:2; stroke-opacity:0.1; fill:none\" points=\"\n",
       "  155.765,936.563 2352.76,936.563 \n",
       "  \"/>\n",
       "<polyline clip-path=\"url(#clip972)\" style=\"stroke:#000000; stroke-linecap:butt; stroke-linejoin:round; stroke-width:2; stroke-opacity:0.1; fill:none\" points=\"\n",
       "  155.765,653.701 2352.76,653.701 \n",
       "  \"/>\n",
       "<polyline clip-path=\"url(#clip972)\" style=\"stroke:#000000; stroke-linecap:butt; stroke-linejoin:round; stroke-width:2; stroke-opacity:0.1; fill:none\" points=\"\n",
       "  155.765,370.839 2352.76,370.839 \n",
       "  \"/>\n",
       "<polyline clip-path=\"url(#clip972)\" style=\"stroke:#000000; stroke-linecap:butt; stroke-linejoin:round; stroke-width:2; stroke-opacity:0.1; fill:none\" points=\"\n",
       "  155.765,87.9763 2352.76,87.9763 \n",
       "  \"/>\n",
       "<polyline clip-path=\"url(#clip970)\" style=\"stroke:#000000; stroke-linecap:butt; stroke-linejoin:round; stroke-width:4; stroke-opacity:1; fill:none\" points=\"\n",
       "  155.765,1486.45 155.765,47.2441 \n",
       "  \"/>\n",
       "<polyline clip-path=\"url(#clip970)\" style=\"stroke:#000000; stroke-linecap:butt; stroke-linejoin:round; stroke-width:4; stroke-opacity:1; fill:none\" points=\"\n",
       "  155.765,1219.43 174.663,1219.43 \n",
       "  \"/>\n",
       "<polyline clip-path=\"url(#clip970)\" style=\"stroke:#000000; stroke-linecap:butt; stroke-linejoin:round; stroke-width:4; stroke-opacity:1; fill:none\" points=\"\n",
       "  155.765,936.563 174.663,936.563 \n",
       "  \"/>\n",
       "<polyline clip-path=\"url(#clip970)\" style=\"stroke:#000000; stroke-linecap:butt; stroke-linejoin:round; stroke-width:4; stroke-opacity:1; fill:none\" points=\"\n",
       "  155.765,653.701 174.663,653.701 \n",
       "  \"/>\n",
       "<polyline clip-path=\"url(#clip970)\" style=\"stroke:#000000; stroke-linecap:butt; stroke-linejoin:round; stroke-width:4; stroke-opacity:1; fill:none\" points=\"\n",
       "  155.765,370.839 174.663,370.839 \n",
       "  \"/>\n",
       "<polyline clip-path=\"url(#clip970)\" style=\"stroke:#000000; stroke-linecap:butt; stroke-linejoin:round; stroke-width:4; stroke-opacity:1; fill:none\" points=\"\n",
       "  155.765,87.9763 174.663,87.9763 \n",
       "  \"/>\n",
       "<path clip-path=\"url(#clip970)\" d=\"M63.5847 1205.22 Q59.9736 1205.22 58.1449 1208.79 Q56.3393 1212.33 56.3393 1219.46 Q56.3393 1226.57 58.1449 1230.13 Q59.9736 1233.67 63.5847 1233.67 Q67.2189 1233.67 69.0244 1230.13 Q70.8531 1226.57 70.8531 1219.46 Q70.8531 1212.33 69.0244 1208.79 Q67.2189 1205.22 63.5847 1205.22 M63.5847 1201.52 Q69.3948 1201.52 72.4503 1206.13 Q75.529 1210.71 75.529 1219.46 Q75.529 1228.19 72.4503 1232.79 Q69.3948 1237.38 63.5847 1237.38 Q57.7745 1237.38 54.6958 1232.79 Q51.6403 1228.19 51.6403 1219.46 Q51.6403 1210.71 54.6958 1206.13 Q57.7745 1201.52 63.5847 1201.52 Z\" fill=\"#000000\" fill-rule=\"evenodd\" fill-opacity=\"1\" /><path clip-path=\"url(#clip970)\" d=\"M83.7466 1230.83 L88.6308 1230.83 L88.6308 1236.71 L83.7466 1236.71 L83.7466 1230.83 Z\" fill=\"#000000\" fill-rule=\"evenodd\" fill-opacity=\"1\" /><path clip-path=\"url(#clip970)\" d=\"M98.8622 1202.15 L117.219 1202.15 L117.219 1206.08 L103.145 1206.08 L103.145 1214.55 Q104.163 1214.21 105.182 1214.04 Q106.2 1213.86 107.219 1213.86 Q113.006 1213.86 116.385 1217.03 Q119.765 1220.2 119.765 1225.62 Q119.765 1231.2 116.293 1234.3 Q112.82 1237.38 106.501 1237.38 Q104.325 1237.38 102.057 1237.01 Q99.8113 1236.64 97.4039 1235.9 L97.4039 1231.2 Q99.4872 1232.33 101.709 1232.89 Q103.932 1233.44 106.408 1233.44 Q110.413 1233.44 112.751 1231.34 Q115.089 1229.23 115.089 1225.62 Q115.089 1222.01 112.751 1219.9 Q110.413 1217.79 106.408 1217.79 Q104.534 1217.79 102.659 1218.21 Q100.807 1218.63 98.8622 1219.51 L98.8622 1202.15 Z\" fill=\"#000000\" fill-rule=\"evenodd\" fill-opacity=\"1\" /><path clip-path=\"url(#clip970)\" d=\"M53.3995 949.908 L61.0384 949.908 L61.0384 923.543 L52.7282 925.209 L52.7282 920.95 L60.9921 919.283 L65.668 919.283 L65.668 949.908 L73.3068 949.908 L73.3068 953.843 L53.3995 953.843 L53.3995 949.908 Z\" fill=\"#000000\" fill-rule=\"evenodd\" fill-opacity=\"1\" /><path clip-path=\"url(#clip970)\" d=\"M82.7512 947.964 L87.6354 947.964 L87.6354 953.843 L82.7512 953.843 L82.7512 947.964 Z\" fill=\"#000000\" fill-rule=\"evenodd\" fill-opacity=\"1\" /><path clip-path=\"url(#clip970)\" d=\"M107.821 922.362 Q104.209 922.362 102.381 925.927 Q100.575 929.469 100.575 936.598 Q100.575 943.705 102.381 947.269 Q104.209 950.811 107.821 950.811 Q111.455 950.811 113.26 947.269 Q115.089 943.705 115.089 936.598 Q115.089 929.469 113.26 925.927 Q111.455 922.362 107.821 922.362 M107.821 918.658 Q113.631 918.658 116.686 923.265 Q119.765 927.848 119.765 936.598 Q119.765 945.325 116.686 949.931 Q113.631 954.515 107.821 954.515 Q102.01 954.515 98.9317 949.931 Q95.8761 945.325 95.8761 936.598 Q95.8761 927.848 98.9317 923.265 Q102.01 918.658 107.821 918.658 Z\" fill=\"#000000\" fill-rule=\"evenodd\" fill-opacity=\"1\" /><path clip-path=\"url(#clip970)\" d=\"M54.3949 667.046 L62.0337 667.046 L62.0337 640.68 L53.7236 642.347 L53.7236 638.088 L61.9874 636.421 L66.6633 636.421 L66.6633 667.046 L74.3022 667.046 L74.3022 670.981 L54.3949 670.981 L54.3949 667.046 Z\" fill=\"#000000\" fill-rule=\"evenodd\" fill-opacity=\"1\" /><path clip-path=\"url(#clip970)\" d=\"M83.7466 665.101 L88.6308 665.101 L88.6308 670.981 L83.7466 670.981 L83.7466 665.101 Z\" fill=\"#000000\" fill-rule=\"evenodd\" fill-opacity=\"1\" /><path clip-path=\"url(#clip970)\" d=\"M98.8622 636.421 L117.219 636.421 L117.219 640.356 L103.145 640.356 L103.145 648.828 Q104.163 648.481 105.182 648.319 Q106.2 648.134 107.219 648.134 Q113.006 648.134 116.385 651.305 Q119.765 654.476 119.765 659.893 Q119.765 665.472 116.293 668.574 Q112.82 671.652 106.501 671.652 Q104.325 671.652 102.057 671.282 Q99.8113 670.912 97.4039 670.171 L97.4039 665.472 Q99.4872 666.606 101.709 667.162 Q103.932 667.717 106.408 667.717 Q110.413 667.717 112.751 665.611 Q115.089 663.504 115.089 659.893 Q115.089 656.282 112.751 654.176 Q110.413 652.069 106.408 652.069 Q104.534 652.069 102.659 652.486 Q100.807 652.902 98.8622 653.782 L98.8622 636.421 Z\" fill=\"#000000\" fill-rule=\"evenodd\" fill-opacity=\"1\" /><path clip-path=\"url(#clip970)\" d=\"M56.6171 384.183 L72.9365 384.183 L72.9365 388.119 L50.9921 388.119 L50.9921 384.183 Q53.6541 381.429 58.2375 376.799 Q62.8439 372.147 64.0245 370.804 Q66.2698 368.281 67.1494 366.545 Q68.0522 364.785 68.0522 363.096 Q68.0522 360.341 66.1078 358.605 Q64.1865 356.869 61.0847 356.869 Q58.8856 356.869 56.4319 357.633 Q54.0014 358.397 51.2236 359.948 L51.2236 355.225 Q54.0477 354.091 56.5014 353.512 Q58.955 352.934 60.9921 352.934 Q66.3624 352.934 69.5568 355.619 Q72.7513 358.304 72.7513 362.795 Q72.7513 364.924 71.9411 366.846 Q71.1541 368.744 69.0476 371.336 Q68.4689 372.008 65.367 375.225 Q62.2652 378.42 56.6171 384.183 Z\" fill=\"#000000\" fill-rule=\"evenodd\" fill-opacity=\"1\" /><path clip-path=\"url(#clip970)\" d=\"M82.7512 382.239 L87.6354 382.239 L87.6354 388.119 L82.7512 388.119 L82.7512 382.239 Z\" fill=\"#000000\" fill-rule=\"evenodd\" fill-opacity=\"1\" /><path clip-path=\"url(#clip970)\" d=\"M107.821 356.637 Q104.209 356.637 102.381 360.202 Q100.575 363.744 100.575 370.873 Q100.575 377.98 102.381 381.545 Q104.209 385.086 107.821 385.086 Q111.455 385.086 113.26 381.545 Q115.089 377.98 115.089 370.873 Q115.089 363.744 113.26 360.202 Q111.455 356.637 107.821 356.637 M107.821 352.934 Q113.631 352.934 116.686 357.54 Q119.765 362.123 119.765 370.873 Q119.765 379.6 116.686 384.207 Q113.631 388.79 107.821 388.79 Q102.01 388.79 98.9317 384.207 Q95.8761 379.6 95.8761 370.873 Q95.8761 362.123 98.9317 357.54 Q102.01 352.934 107.821 352.934 Z\" fill=\"#000000\" fill-rule=\"evenodd\" fill-opacity=\"1\" /><path clip-path=\"url(#clip970)\" d=\"M57.6125 101.321 L73.9318 101.321 L73.9318 105.256 L51.9875 105.256 L51.9875 101.321 Q54.6495 98.5665 59.2328 93.9369 Q63.8393 89.2841 65.0198 87.9416 Q67.2652 85.4184 68.1448 83.6823 Q69.0476 81.9231 69.0476 80.2333 Q69.0476 77.4786 67.1032 75.7425 Q65.1819 74.0064 62.08 74.0064 Q59.881 74.0064 57.4273 74.7703 Q54.9967 75.5342 52.219 77.0851 L52.219 72.3629 Q55.043 71.2287 57.4967 70.65 Q59.9504 70.0713 61.9874 70.0713 Q67.3578 70.0713 70.5522 72.7565 Q73.7466 75.4416 73.7466 79.9323 Q73.7466 82.062 72.9365 83.9832 Q72.1494 85.8814 70.0429 88.474 Q69.4642 89.1453 66.3624 92.3628 Q63.2606 95.5573 57.6125 101.321 Z\" fill=\"#000000\" fill-rule=\"evenodd\" fill-opacity=\"1\" /><path clip-path=\"url(#clip970)\" d=\"M83.7466 99.3767 L88.6308 99.3767 L88.6308 105.256 L83.7466 105.256 L83.7466 99.3767 Z\" fill=\"#000000\" fill-rule=\"evenodd\" fill-opacity=\"1\" /><path clip-path=\"url(#clip970)\" d=\"M98.8622 70.6963 L117.219 70.6963 L117.219 74.6314 L103.145 74.6314 L103.145 83.1036 Q104.163 82.7564 105.182 82.5944 Q106.2 82.4092 107.219 82.4092 Q113.006 82.4092 116.385 85.5805 Q119.765 88.7517 119.765 94.1684 Q119.765 99.747 116.293 102.849 Q112.82 105.928 106.501 105.928 Q104.325 105.928 102.057 105.557 Q99.8113 105.187 97.4039 104.446 L97.4039 99.747 Q99.4872 100.881 101.709 101.437 Q103.932 101.992 106.408 101.992 Q110.413 101.992 112.751 99.8859 Q115.089 97.7795 115.089 94.1684 Q115.089 90.5573 112.751 88.4508 Q110.413 86.3443 106.408 86.3443 Q104.534 86.3443 102.659 86.761 Q100.807 87.1777 98.8622 88.0573 L98.8622 70.6963 Z\" fill=\"#000000\" fill-rule=\"evenodd\" fill-opacity=\"1\" /><circle clip-path=\"url(#clip972)\" cx=\"358.461\" cy=\"1389.14\" r=\"14\" fill=\"#009af9\" fill-rule=\"evenodd\" fill-opacity=\"1\" stroke=\"#000000\" stroke-opacity=\"1\" stroke-width=\"3.2\"/>\n",
       "<circle clip-path=\"url(#clip972)\" cx=\"358.461\" cy=\"1389.14\" r=\"14\" fill=\"#009af9\" fill-rule=\"evenodd\" fill-opacity=\"1\" stroke=\"#000000\" stroke-opacity=\"1\" stroke-width=\"3.2\"/>\n",
       "<circle clip-path=\"url(#clip972)\" cx=\"323.332\" cy=\"1389.14\" r=\"14\" fill=\"#009af9\" fill-rule=\"evenodd\" fill-opacity=\"1\" stroke=\"#000000\" stroke-opacity=\"1\" stroke-width=\"3.2\"/>\n",
       "<circle clip-path=\"url(#clip972)\" cx=\"393.591\" cy=\"1389.14\" r=\"14\" fill=\"#009af9\" fill-rule=\"evenodd\" fill-opacity=\"1\" stroke=\"#000000\" stroke-opacity=\"1\" stroke-width=\"3.2\"/>\n",
       "<circle clip-path=\"url(#clip972)\" cx=\"358.461\" cy=\"1389.14\" r=\"14\" fill=\"#009af9\" fill-rule=\"evenodd\" fill-opacity=\"1\" stroke=\"#000000\" stroke-opacity=\"1\" stroke-width=\"3.2\"/>\n",
       "<circle clip-path=\"url(#clip972)\" cx=\"463.85\" cy=\"1276\" r=\"14\" fill=\"#009af9\" fill-rule=\"evenodd\" fill-opacity=\"1\" stroke=\"#000000\" stroke-opacity=\"1\" stroke-width=\"3.2\"/>\n",
       "<circle clip-path=\"url(#clip972)\" cx=\"358.461\" cy=\"1332.57\" r=\"14\" fill=\"#009af9\" fill-rule=\"evenodd\" fill-opacity=\"1\" stroke=\"#000000\" stroke-opacity=\"1\" stroke-width=\"3.2\"/>\n",
       "<circle clip-path=\"url(#clip972)\" cx=\"393.591\" cy=\"1389.14\" r=\"14\" fill=\"#009af9\" fill-rule=\"evenodd\" fill-opacity=\"1\" stroke=\"#000000\" stroke-opacity=\"1\" stroke-width=\"3.2\"/>\n",
       "<circle clip-path=\"url(#clip972)\" cx=\"358.461\" cy=\"1389.14\" r=\"14\" fill=\"#009af9\" fill-rule=\"evenodd\" fill-opacity=\"1\" stroke=\"#000000\" stroke-opacity=\"1\" stroke-width=\"3.2\"/>\n",
       "<circle clip-path=\"url(#clip972)\" cx=\"393.591\" cy=\"1445.72\" r=\"14\" fill=\"#009af9\" fill-rule=\"evenodd\" fill-opacity=\"1\" stroke=\"#000000\" stroke-opacity=\"1\" stroke-width=\"3.2\"/>\n",
       "<circle clip-path=\"url(#clip972)\" cx=\"393.591\" cy=\"1389.14\" r=\"14\" fill=\"#009af9\" fill-rule=\"evenodd\" fill-opacity=\"1\" stroke=\"#000000\" stroke-opacity=\"1\" stroke-width=\"3.2\"/>\n",
       "<circle clip-path=\"url(#clip972)\" cx=\"428.72\" cy=\"1389.14\" r=\"14\" fill=\"#009af9\" fill-rule=\"evenodd\" fill-opacity=\"1\" stroke=\"#000000\" stroke-opacity=\"1\" stroke-width=\"3.2\"/>\n",
       "<circle clip-path=\"url(#clip972)\" cx=\"358.461\" cy=\"1445.72\" r=\"14\" fill=\"#009af9\" fill-rule=\"evenodd\" fill-opacity=\"1\" stroke=\"#000000\" stroke-opacity=\"1\" stroke-width=\"3.2\"/>\n",
       "<circle clip-path=\"url(#clip972)\" cx=\"253.073\" cy=\"1445.72\" r=\"14\" fill=\"#009af9\" fill-rule=\"evenodd\" fill-opacity=\"1\" stroke=\"#000000\" stroke-opacity=\"1\" stroke-width=\"3.2\"/>\n",
       "<circle clip-path=\"url(#clip972)\" cx=\"288.203\" cy=\"1389.14\" r=\"14\" fill=\"#009af9\" fill-rule=\"evenodd\" fill-opacity=\"1\" stroke=\"#000000\" stroke-opacity=\"1\" stroke-width=\"3.2\"/>\n",
       "<circle clip-path=\"url(#clip972)\" cx=\"393.591\" cy=\"1276\" r=\"14\" fill=\"#009af9\" fill-rule=\"evenodd\" fill-opacity=\"1\" stroke=\"#000000\" stroke-opacity=\"1\" stroke-width=\"3.2\"/>\n",
       "<circle clip-path=\"url(#clip972)\" cx=\"323.332\" cy=\"1276\" r=\"14\" fill=\"#009af9\" fill-rule=\"evenodd\" fill-opacity=\"1\" stroke=\"#000000\" stroke-opacity=\"1\" stroke-width=\"3.2\"/>\n",
       "<circle clip-path=\"url(#clip972)\" cx=\"358.461\" cy=\"1332.57\" r=\"14\" fill=\"#009af9\" fill-rule=\"evenodd\" fill-opacity=\"1\" stroke=\"#000000\" stroke-opacity=\"1\" stroke-width=\"3.2\"/>\n",
       "<circle clip-path=\"url(#clip972)\" cx=\"463.85\" cy=\"1332.57\" r=\"14\" fill=\"#009af9\" fill-rule=\"evenodd\" fill-opacity=\"1\" stroke=\"#000000\" stroke-opacity=\"1\" stroke-width=\"3.2\"/>\n",
       "<circle clip-path=\"url(#clip972)\" cx=\"393.591\" cy=\"1332.57\" r=\"14\" fill=\"#009af9\" fill-rule=\"evenodd\" fill-opacity=\"1\" stroke=\"#000000\" stroke-opacity=\"1\" stroke-width=\"3.2\"/>\n",
       "<circle clip-path=\"url(#clip972)\" cx=\"463.85\" cy=\"1389.14\" r=\"14\" fill=\"#009af9\" fill-rule=\"evenodd\" fill-opacity=\"1\" stroke=\"#000000\" stroke-opacity=\"1\" stroke-width=\"3.2\"/>\n",
       "<circle clip-path=\"url(#clip972)\" cx=\"393.591\" cy=\"1276\" r=\"14\" fill=\"#009af9\" fill-rule=\"evenodd\" fill-opacity=\"1\" stroke=\"#000000\" stroke-opacity=\"1\" stroke-width=\"3.2\"/>\n",
       "<circle clip-path=\"url(#clip972)\" cx=\"217.944\" cy=\"1389.14\" r=\"14\" fill=\"#009af9\" fill-rule=\"evenodd\" fill-opacity=\"1\" stroke=\"#000000\" stroke-opacity=\"1\" stroke-width=\"3.2\"/>\n",
       "<circle clip-path=\"url(#clip972)\" cx=\"463.85\" cy=\"1219.43\" r=\"14\" fill=\"#009af9\" fill-rule=\"evenodd\" fill-opacity=\"1\" stroke=\"#000000\" stroke-opacity=\"1\" stroke-width=\"3.2\"/>\n",
       "<circle clip-path=\"url(#clip972)\" cx=\"534.108\" cy=\"1389.14\" r=\"14\" fill=\"#009af9\" fill-rule=\"evenodd\" fill-opacity=\"1\" stroke=\"#000000\" stroke-opacity=\"1\" stroke-width=\"3.2\"/>\n",
       "<circle clip-path=\"url(#clip972)\" cx=\"428.72\" cy=\"1389.14\" r=\"14\" fill=\"#009af9\" fill-rule=\"evenodd\" fill-opacity=\"1\" stroke=\"#000000\" stroke-opacity=\"1\" stroke-width=\"3.2\"/>\n",
       "<circle clip-path=\"url(#clip972)\" cx=\"428.72\" cy=\"1276\" r=\"14\" fill=\"#009af9\" fill-rule=\"evenodd\" fill-opacity=\"1\" stroke=\"#000000\" stroke-opacity=\"1\" stroke-width=\"3.2\"/>\n",
       "<circle clip-path=\"url(#clip972)\" cx=\"393.591\" cy=\"1389.14\" r=\"14\" fill=\"#009af9\" fill-rule=\"evenodd\" fill-opacity=\"1\" stroke=\"#000000\" stroke-opacity=\"1\" stroke-width=\"3.2\"/>\n",
       "<circle clip-path=\"url(#clip972)\" cx=\"358.461\" cy=\"1389.14\" r=\"14\" fill=\"#009af9\" fill-rule=\"evenodd\" fill-opacity=\"1\" stroke=\"#000000\" stroke-opacity=\"1\" stroke-width=\"3.2\"/>\n",
       "<circle clip-path=\"url(#clip972)\" cx=\"428.72\" cy=\"1389.14\" r=\"14\" fill=\"#009af9\" fill-rule=\"evenodd\" fill-opacity=\"1\" stroke=\"#000000\" stroke-opacity=\"1\" stroke-width=\"3.2\"/>\n",
       "<circle clip-path=\"url(#clip972)\" cx=\"428.72\" cy=\"1389.14\" r=\"14\" fill=\"#009af9\" fill-rule=\"evenodd\" fill-opacity=\"1\" stroke=\"#000000\" stroke-opacity=\"1\" stroke-width=\"3.2\"/>\n",
       "<circle clip-path=\"url(#clip972)\" cx=\"393.591\" cy=\"1276\" r=\"14\" fill=\"#009af9\" fill-rule=\"evenodd\" fill-opacity=\"1\" stroke=\"#000000\" stroke-opacity=\"1\" stroke-width=\"3.2\"/>\n",
       "<circle clip-path=\"url(#clip972)\" cx=\"393.591\" cy=\"1445.72\" r=\"14\" fill=\"#009af9\" fill-rule=\"evenodd\" fill-opacity=\"1\" stroke=\"#000000\" stroke-opacity=\"1\" stroke-width=\"3.2\"/>\n",
       "<circle clip-path=\"url(#clip972)\" cx=\"358.461\" cy=\"1389.14\" r=\"14\" fill=\"#009af9\" fill-rule=\"evenodd\" fill-opacity=\"1\" stroke=\"#000000\" stroke-opacity=\"1\" stroke-width=\"3.2\"/>\n",
       "<circle clip-path=\"url(#clip972)\" cx=\"393.591\" cy=\"1389.14\" r=\"14\" fill=\"#009af9\" fill-rule=\"evenodd\" fill-opacity=\"1\" stroke=\"#000000\" stroke-opacity=\"1\" stroke-width=\"3.2\"/>\n",
       "<circle clip-path=\"url(#clip972)\" cx=\"288.203\" cy=\"1389.14\" r=\"14\" fill=\"#009af9\" fill-rule=\"evenodd\" fill-opacity=\"1\" stroke=\"#000000\" stroke-opacity=\"1\" stroke-width=\"3.2\"/>\n",
       "<circle clip-path=\"url(#clip972)\" cx=\"323.332\" cy=\"1389.14\" r=\"14\" fill=\"#009af9\" fill-rule=\"evenodd\" fill-opacity=\"1\" stroke=\"#000000\" stroke-opacity=\"1\" stroke-width=\"3.2\"/>\n",
       "<circle clip-path=\"url(#clip972)\" cx=\"358.461\" cy=\"1445.72\" r=\"14\" fill=\"#009af9\" fill-rule=\"evenodd\" fill-opacity=\"1\" stroke=\"#000000\" stroke-opacity=\"1\" stroke-width=\"3.2\"/>\n",
       "<circle clip-path=\"url(#clip972)\" cx=\"323.332\" cy=\"1389.14\" r=\"14\" fill=\"#009af9\" fill-rule=\"evenodd\" fill-opacity=\"1\" stroke=\"#000000\" stroke-opacity=\"1\" stroke-width=\"3.2\"/>\n",
       "<circle clip-path=\"url(#clip972)\" cx=\"393.591\" cy=\"1389.14\" r=\"14\" fill=\"#009af9\" fill-rule=\"evenodd\" fill-opacity=\"1\" stroke=\"#000000\" stroke-opacity=\"1\" stroke-width=\"3.2\"/>\n",
       "<circle clip-path=\"url(#clip972)\" cx=\"323.332\" cy=\"1332.57\" r=\"14\" fill=\"#009af9\" fill-rule=\"evenodd\" fill-opacity=\"1\" stroke=\"#000000\" stroke-opacity=\"1\" stroke-width=\"3.2\"/>\n",
       "<circle clip-path=\"url(#clip972)\" cx=\"323.332\" cy=\"1332.57\" r=\"14\" fill=\"#009af9\" fill-rule=\"evenodd\" fill-opacity=\"1\" stroke=\"#000000\" stroke-opacity=\"1\" stroke-width=\"3.2\"/>\n",
       "<circle clip-path=\"url(#clip972)\" cx=\"323.332\" cy=\"1389.14\" r=\"14\" fill=\"#009af9\" fill-rule=\"evenodd\" fill-opacity=\"1\" stroke=\"#000000\" stroke-opacity=\"1\" stroke-width=\"3.2\"/>\n",
       "<circle clip-path=\"url(#clip972)\" cx=\"428.72\" cy=\"1162.85\" r=\"14\" fill=\"#009af9\" fill-rule=\"evenodd\" fill-opacity=\"1\" stroke=\"#000000\" stroke-opacity=\"1\" stroke-width=\"3.2\"/>\n",
       "<circle clip-path=\"url(#clip972)\" cx=\"534.108\" cy=\"1276\" r=\"14\" fill=\"#009af9\" fill-rule=\"evenodd\" fill-opacity=\"1\" stroke=\"#000000\" stroke-opacity=\"1\" stroke-width=\"3.2\"/>\n",
       "<circle clip-path=\"url(#clip972)\" cx=\"358.461\" cy=\"1332.57\" r=\"14\" fill=\"#009af9\" fill-rule=\"evenodd\" fill-opacity=\"1\" stroke=\"#000000\" stroke-opacity=\"1\" stroke-width=\"3.2\"/>\n",
       "<circle clip-path=\"url(#clip972)\" cx=\"428.72\" cy=\"1389.14\" r=\"14\" fill=\"#009af9\" fill-rule=\"evenodd\" fill-opacity=\"1\" stroke=\"#000000\" stroke-opacity=\"1\" stroke-width=\"3.2\"/>\n",
       "<circle clip-path=\"url(#clip972)\" cx=\"358.461\" cy=\"1389.14\" r=\"14\" fill=\"#009af9\" fill-rule=\"evenodd\" fill-opacity=\"1\" stroke=\"#000000\" stroke-opacity=\"1\" stroke-width=\"3.2\"/>\n",
       "<circle clip-path=\"url(#clip972)\" cx=\"393.591\" cy=\"1389.14\" r=\"14\" fill=\"#009af9\" fill-rule=\"evenodd\" fill-opacity=\"1\" stroke=\"#000000\" stroke-opacity=\"1\" stroke-width=\"3.2\"/>\n",
       "<circle clip-path=\"url(#clip972)\" cx=\"358.461\" cy=\"1389.14\" r=\"14\" fill=\"#009af9\" fill-rule=\"evenodd\" fill-opacity=\"1\" stroke=\"#000000\" stroke-opacity=\"1\" stroke-width=\"3.2\"/>\n",
       "<circle clip-path=\"url(#clip972)\" cx=\"1517.73\" cy=\"710.274\" r=\"14\" fill=\"#009af9\" fill-rule=\"evenodd\" fill-opacity=\"1\" stroke=\"#000000\" stroke-opacity=\"1\" stroke-width=\"3.2\"/>\n",
       "<circle clip-path=\"url(#clip972)\" cx=\"1447.47\" cy=\"653.701\" r=\"14\" fill=\"#009af9\" fill-rule=\"evenodd\" fill-opacity=\"1\" stroke=\"#000000\" stroke-opacity=\"1\" stroke-width=\"3.2\"/>\n",
       "<circle clip-path=\"url(#clip972)\" cx=\"1587.99\" cy=\"653.701\" r=\"14\" fill=\"#009af9\" fill-rule=\"evenodd\" fill-opacity=\"1\" stroke=\"#000000\" stroke-opacity=\"1\" stroke-width=\"3.2\"/>\n",
       "<circle clip-path=\"url(#clip972)\" cx=\"1271.83\" cy=\"766.846\" r=\"14\" fill=\"#009af9\" fill-rule=\"evenodd\" fill-opacity=\"1\" stroke=\"#000000\" stroke-opacity=\"1\" stroke-width=\"3.2\"/>\n",
       "<circle clip-path=\"url(#clip972)\" cx=\"1482.6\" cy=\"653.701\" r=\"14\" fill=\"#009af9\" fill-rule=\"evenodd\" fill-opacity=\"1\" stroke=\"#000000\" stroke-opacity=\"1\" stroke-width=\"3.2\"/>\n",
       "<circle clip-path=\"url(#clip972)\" cx=\"1447.47\" cy=\"766.846\" r=\"14\" fill=\"#009af9\" fill-rule=\"evenodd\" fill-opacity=\"1\" stroke=\"#000000\" stroke-opacity=\"1\" stroke-width=\"3.2\"/>\n",
       "<circle clip-path=\"url(#clip972)\" cx=\"1517.73\" cy=\"597.129\" r=\"14\" fill=\"#009af9\" fill-rule=\"evenodd\" fill-opacity=\"1\" stroke=\"#000000\" stroke-opacity=\"1\" stroke-width=\"3.2\"/>\n",
       "<circle clip-path=\"url(#clip972)\" cx=\"1025.92\" cy=\"936.563\" r=\"14\" fill=\"#009af9\" fill-rule=\"evenodd\" fill-opacity=\"1\" stroke=\"#000000\" stroke-opacity=\"1\" stroke-width=\"3.2\"/>\n",
       "<circle clip-path=\"url(#clip972)\" cx=\"1482.6\" cy=\"766.846\" r=\"14\" fill=\"#009af9\" fill-rule=\"evenodd\" fill-opacity=\"1\" stroke=\"#000000\" stroke-opacity=\"1\" stroke-width=\"3.2\"/>\n",
       "<circle clip-path=\"url(#clip972)\" cx=\"1236.7\" cy=\"710.274\" r=\"14\" fill=\"#009af9\" fill-rule=\"evenodd\" fill-opacity=\"1\" stroke=\"#000000\" stroke-opacity=\"1\" stroke-width=\"3.2\"/>\n",
       "<circle clip-path=\"url(#clip972)\" cx=\"1096.18\" cy=\"936.563\" r=\"14\" fill=\"#009af9\" fill-rule=\"evenodd\" fill-opacity=\"1\" stroke=\"#000000\" stroke-opacity=\"1\" stroke-width=\"3.2\"/>\n",
       "<circle clip-path=\"url(#clip972)\" cx=\"1342.08\" cy=\"653.701\" r=\"14\" fill=\"#009af9\" fill-rule=\"evenodd\" fill-opacity=\"1\" stroke=\"#000000\" stroke-opacity=\"1\" stroke-width=\"3.2\"/>\n",
       "<circle clip-path=\"url(#clip972)\" cx=\"1271.83\" cy=\"936.563\" r=\"14\" fill=\"#009af9\" fill-rule=\"evenodd\" fill-opacity=\"1\" stroke=\"#000000\" stroke-opacity=\"1\" stroke-width=\"3.2\"/>\n",
       "<circle clip-path=\"url(#clip972)\" cx=\"1517.73\" cy=\"710.274\" r=\"14\" fill=\"#009af9\" fill-rule=\"evenodd\" fill-opacity=\"1\" stroke=\"#000000\" stroke-opacity=\"1\" stroke-width=\"3.2\"/>\n",
       "<circle clip-path=\"url(#clip972)\" cx=\"1131.31\" cy=\"766.846\" r=\"14\" fill=\"#009af9\" fill-rule=\"evenodd\" fill-opacity=\"1\" stroke=\"#000000\" stroke-opacity=\"1\" stroke-width=\"3.2\"/>\n",
       "<circle clip-path=\"url(#clip972)\" cx=\"1412.34\" cy=\"710.274\" r=\"14\" fill=\"#009af9\" fill-rule=\"evenodd\" fill-opacity=\"1\" stroke=\"#000000\" stroke-opacity=\"1\" stroke-width=\"3.2\"/>\n",
       "<circle clip-path=\"url(#clip972)\" cx=\"1447.47\" cy=\"653.701\" r=\"14\" fill=\"#009af9\" fill-rule=\"evenodd\" fill-opacity=\"1\" stroke=\"#000000\" stroke-opacity=\"1\" stroke-width=\"3.2\"/>\n",
       "<circle clip-path=\"url(#clip972)\" cx=\"1306.95\" cy=\"936.563\" r=\"14\" fill=\"#009af9\" fill-rule=\"evenodd\" fill-opacity=\"1\" stroke=\"#000000\" stroke-opacity=\"1\" stroke-width=\"3.2\"/>\n",
       "<circle clip-path=\"url(#clip972)\" cx=\"1447.47\" cy=\"653.701\" r=\"14\" fill=\"#009af9\" fill-rule=\"evenodd\" fill-opacity=\"1\" stroke=\"#000000\" stroke-opacity=\"1\" stroke-width=\"3.2\"/>\n",
       "<circle clip-path=\"url(#clip972)\" cx=\"1236.7\" cy=\"879.991\" r=\"14\" fill=\"#009af9\" fill-rule=\"evenodd\" fill-opacity=\"1\" stroke=\"#000000\" stroke-opacity=\"1\" stroke-width=\"3.2\"/>\n",
       "<circle clip-path=\"url(#clip972)\" cx=\"1552.86\" cy=\"483.984\" r=\"14\" fill=\"#009af9\" fill-rule=\"evenodd\" fill-opacity=\"1\" stroke=\"#000000\" stroke-opacity=\"1\" stroke-width=\"3.2\"/>\n",
       "<circle clip-path=\"url(#clip972)\" cx=\"1271.83\" cy=\"766.846\" r=\"14\" fill=\"#009af9\" fill-rule=\"evenodd\" fill-opacity=\"1\" stroke=\"#000000\" stroke-opacity=\"1\" stroke-width=\"3.2\"/>\n",
       "<circle clip-path=\"url(#clip972)\" cx=\"1587.99\" cy=\"653.701\" r=\"14\" fill=\"#009af9\" fill-rule=\"evenodd\" fill-opacity=\"1\" stroke=\"#000000\" stroke-opacity=\"1\" stroke-width=\"3.2\"/>\n",
       "<circle clip-path=\"url(#clip972)\" cx=\"1517.73\" cy=\"823.418\" r=\"14\" fill=\"#009af9\" fill-rule=\"evenodd\" fill-opacity=\"1\" stroke=\"#000000\" stroke-opacity=\"1\" stroke-width=\"3.2\"/>\n",
       "<circle clip-path=\"url(#clip972)\" cx=\"1377.21\" cy=\"766.846\" r=\"14\" fill=\"#009af9\" fill-rule=\"evenodd\" fill-opacity=\"1\" stroke=\"#000000\" stroke-opacity=\"1\" stroke-width=\"3.2\"/>\n",
       "<circle clip-path=\"url(#clip972)\" cx=\"1412.34\" cy=\"710.274\" r=\"14\" fill=\"#009af9\" fill-rule=\"evenodd\" fill-opacity=\"1\" stroke=\"#000000\" stroke-opacity=\"1\" stroke-width=\"3.2\"/>\n",
       "<circle clip-path=\"url(#clip972)\" cx=\"1552.86\" cy=\"710.274\" r=\"14\" fill=\"#009af9\" fill-rule=\"evenodd\" fill-opacity=\"1\" stroke=\"#000000\" stroke-opacity=\"1\" stroke-width=\"3.2\"/>\n",
       "<circle clip-path=\"url(#clip972)\" cx=\"1623.12\" cy=\"540.556\" r=\"14\" fill=\"#009af9\" fill-rule=\"evenodd\" fill-opacity=\"1\" stroke=\"#000000\" stroke-opacity=\"1\" stroke-width=\"3.2\"/>\n",
       "<circle clip-path=\"url(#clip972)\" cx=\"1447.47\" cy=\"653.701\" r=\"14\" fill=\"#009af9\" fill-rule=\"evenodd\" fill-opacity=\"1\" stroke=\"#000000\" stroke-opacity=\"1\" stroke-width=\"3.2\"/>\n",
       "<circle clip-path=\"url(#clip972)\" cx=\"1096.18\" cy=\"936.563\" r=\"14\" fill=\"#009af9\" fill-rule=\"evenodd\" fill-opacity=\"1\" stroke=\"#000000\" stroke-opacity=\"1\" stroke-width=\"3.2\"/>\n",
       "<circle clip-path=\"url(#clip972)\" cx=\"1201.57\" cy=\"879.991\" r=\"14\" fill=\"#009af9\" fill-rule=\"evenodd\" fill-opacity=\"1\" stroke=\"#000000\" stroke-opacity=\"1\" stroke-width=\"3.2\"/>\n",
       "<circle clip-path=\"url(#clip972)\" cx=\"1166.44\" cy=\"936.563\" r=\"14\" fill=\"#009af9\" fill-rule=\"evenodd\" fill-opacity=\"1\" stroke=\"#000000\" stroke-opacity=\"1\" stroke-width=\"3.2\"/>\n",
       "<circle clip-path=\"url(#clip972)\" cx=\"1236.7\" cy=\"823.418\" r=\"14\" fill=\"#009af9\" fill-rule=\"evenodd\" fill-opacity=\"1\" stroke=\"#000000\" stroke-opacity=\"1\" stroke-width=\"3.2\"/>\n",
       "<circle clip-path=\"url(#clip972)\" cx=\"1658.25\" cy=\"597.129\" r=\"14\" fill=\"#009af9\" fill-rule=\"evenodd\" fill-opacity=\"1\" stroke=\"#000000\" stroke-opacity=\"1\" stroke-width=\"3.2\"/>\n",
       "<circle clip-path=\"url(#clip972)\" cx=\"1447.47\" cy=\"653.701\" r=\"14\" fill=\"#009af9\" fill-rule=\"evenodd\" fill-opacity=\"1\" stroke=\"#000000\" stroke-opacity=\"1\" stroke-width=\"3.2\"/>\n",
       "<circle clip-path=\"url(#clip972)\" cx=\"1447.47\" cy=\"597.129\" r=\"14\" fill=\"#009af9\" fill-rule=\"evenodd\" fill-opacity=\"1\" stroke=\"#000000\" stroke-opacity=\"1\" stroke-width=\"3.2\"/>\n",
       "<circle clip-path=\"url(#clip972)\" cx=\"1517.73\" cy=\"653.701\" r=\"14\" fill=\"#009af9\" fill-rule=\"evenodd\" fill-opacity=\"1\" stroke=\"#000000\" stroke-opacity=\"1\" stroke-width=\"3.2\"/>\n",
       "<circle clip-path=\"url(#clip972)\" cx=\"1412.34\" cy=\"766.846\" r=\"14\" fill=\"#009af9\" fill-rule=\"evenodd\" fill-opacity=\"1\" stroke=\"#000000\" stroke-opacity=\"1\" stroke-width=\"3.2\"/>\n",
       "<circle clip-path=\"url(#clip972)\" cx=\"1306.95\" cy=\"766.846\" r=\"14\" fill=\"#009af9\" fill-rule=\"evenodd\" fill-opacity=\"1\" stroke=\"#000000\" stroke-opacity=\"1\" stroke-width=\"3.2\"/>\n",
       "<circle clip-path=\"url(#clip972)\" cx=\"1271.83\" cy=\"766.846\" r=\"14\" fill=\"#009af9\" fill-rule=\"evenodd\" fill-opacity=\"1\" stroke=\"#000000\" stroke-opacity=\"1\" stroke-width=\"3.2\"/>\n",
       "<circle clip-path=\"url(#clip972)\" cx=\"1412.34\" cy=\"823.418\" r=\"14\" fill=\"#009af9\" fill-rule=\"evenodd\" fill-opacity=\"1\" stroke=\"#000000\" stroke-opacity=\"1\" stroke-width=\"3.2\"/>\n",
       "<circle clip-path=\"url(#clip972)\" cx=\"1482.6\" cy=\"710.274\" r=\"14\" fill=\"#009af9\" fill-rule=\"evenodd\" fill-opacity=\"1\" stroke=\"#000000\" stroke-opacity=\"1\" stroke-width=\"3.2\"/>\n",
       "<circle clip-path=\"url(#clip972)\" cx=\"1271.83\" cy=\"823.418\" r=\"14\" fill=\"#009af9\" fill-rule=\"evenodd\" fill-opacity=\"1\" stroke=\"#000000\" stroke-opacity=\"1\" stroke-width=\"3.2\"/>\n",
       "<circle clip-path=\"url(#clip972)\" cx=\"1025.92\" cy=\"936.563\" r=\"14\" fill=\"#009af9\" fill-rule=\"evenodd\" fill-opacity=\"1\" stroke=\"#000000\" stroke-opacity=\"1\" stroke-width=\"3.2\"/>\n",
       "<circle clip-path=\"url(#clip972)\" cx=\"1342.08\" cy=\"766.846\" r=\"14\" fill=\"#009af9\" fill-rule=\"evenodd\" fill-opacity=\"1\" stroke=\"#000000\" stroke-opacity=\"1\" stroke-width=\"3.2\"/>\n",
       "<circle clip-path=\"url(#clip972)\" cx=\"1342.08\" cy=\"823.418\" r=\"14\" fill=\"#009af9\" fill-rule=\"evenodd\" fill-opacity=\"1\" stroke=\"#000000\" stroke-opacity=\"1\" stroke-width=\"3.2\"/>\n",
       "<circle clip-path=\"url(#clip972)\" cx=\"1342.08\" cy=\"766.846\" r=\"14\" fill=\"#009af9\" fill-rule=\"evenodd\" fill-opacity=\"1\" stroke=\"#000000\" stroke-opacity=\"1\" stroke-width=\"3.2\"/>\n",
       "<circle clip-path=\"url(#clip972)\" cx=\"1377.21\" cy=\"766.846\" r=\"14\" fill=\"#009af9\" fill-rule=\"evenodd\" fill-opacity=\"1\" stroke=\"#000000\" stroke-opacity=\"1\" stroke-width=\"3.2\"/>\n",
       "<circle clip-path=\"url(#clip972)\" cx=\"920.531\" cy=\"879.991\" r=\"14\" fill=\"#009af9\" fill-rule=\"evenodd\" fill-opacity=\"1\" stroke=\"#000000\" stroke-opacity=\"1\" stroke-width=\"3.2\"/>\n",
       "<circle clip-path=\"url(#clip972)\" cx=\"1306.95\" cy=\"766.846\" r=\"14\" fill=\"#009af9\" fill-rule=\"evenodd\" fill-opacity=\"1\" stroke=\"#000000\" stroke-opacity=\"1\" stroke-width=\"3.2\"/>\n",
       "<circle clip-path=\"url(#clip972)\" cx=\"1974.41\" cy=\"87.9763\" r=\"14\" fill=\"#009af9\" fill-rule=\"evenodd\" fill-opacity=\"1\" stroke=\"#000000\" stroke-opacity=\"1\" stroke-width=\"3.2\"/>\n",
       "<circle clip-path=\"url(#clip972)\" cx=\"1658.25\" cy=\"427.411\" r=\"14\" fill=\"#009af9\" fill-rule=\"evenodd\" fill-opacity=\"1\" stroke=\"#000000\" stroke-opacity=\"1\" stroke-width=\"3.2\"/>\n",
       "<circle clip-path=\"url(#clip972)\" cx=\"1939.28\" cy=\"314.266\" r=\"14\" fill=\"#009af9\" fill-rule=\"evenodd\" fill-opacity=\"1\" stroke=\"#000000\" stroke-opacity=\"1\" stroke-width=\"3.2\"/>\n",
       "<circle clip-path=\"url(#clip972)\" cx=\"1833.9\" cy=\"483.984\" r=\"14\" fill=\"#009af9\" fill-rule=\"evenodd\" fill-opacity=\"1\" stroke=\"#000000\" stroke-opacity=\"1\" stroke-width=\"3.2\"/>\n",
       "<circle clip-path=\"url(#clip972)\" cx=\"1904.15\" cy=\"257.694\" r=\"14\" fill=\"#009af9\" fill-rule=\"evenodd\" fill-opacity=\"1\" stroke=\"#000000\" stroke-opacity=\"1\" stroke-width=\"3.2\"/>\n",
       "<circle clip-path=\"url(#clip972)\" cx=\"2185.19\" cy=\"314.266\" r=\"14\" fill=\"#009af9\" fill-rule=\"evenodd\" fill-opacity=\"1\" stroke=\"#000000\" stroke-opacity=\"1\" stroke-width=\"3.2\"/>\n",
       "<circle clip-path=\"url(#clip972)\" cx=\"1447.47\" cy=\"540.556\" r=\"14\" fill=\"#009af9\" fill-rule=\"evenodd\" fill-opacity=\"1\" stroke=\"#000000\" stroke-opacity=\"1\" stroke-width=\"3.2\"/>\n",
       "<circle clip-path=\"url(#clip972)\" cx=\"2079.8\" cy=\"483.984\" r=\"14\" fill=\"#009af9\" fill-rule=\"evenodd\" fill-opacity=\"1\" stroke=\"#000000\" stroke-opacity=\"1\" stroke-width=\"3.2\"/>\n",
       "<circle clip-path=\"url(#clip972)\" cx=\"1904.15\" cy=\"483.984\" r=\"14\" fill=\"#009af9\" fill-rule=\"evenodd\" fill-opacity=\"1\" stroke=\"#000000\" stroke-opacity=\"1\" stroke-width=\"3.2\"/>\n",
       "<circle clip-path=\"url(#clip972)\" cx=\"2009.54\" cy=\"87.9763\" r=\"14\" fill=\"#009af9\" fill-rule=\"evenodd\" fill-opacity=\"1\" stroke=\"#000000\" stroke-opacity=\"1\" stroke-width=\"3.2\"/>\n",
       "<circle clip-path=\"url(#clip972)\" cx=\"1658.25\" cy=\"370.839\" r=\"14\" fill=\"#009af9\" fill-rule=\"evenodd\" fill-opacity=\"1\" stroke=\"#000000\" stroke-opacity=\"1\" stroke-width=\"3.2\"/>\n",
       "<circle clip-path=\"url(#clip972)\" cx=\"1728.51\" cy=\"427.411\" r=\"14\" fill=\"#009af9\" fill-rule=\"evenodd\" fill-opacity=\"1\" stroke=\"#000000\" stroke-opacity=\"1\" stroke-width=\"3.2\"/>\n",
       "<circle clip-path=\"url(#clip972)\" cx=\"1798.77\" cy=\"314.266\" r=\"14\" fill=\"#009af9\" fill-rule=\"evenodd\" fill-opacity=\"1\" stroke=\"#000000\" stroke-opacity=\"1\" stroke-width=\"3.2\"/>\n",
       "<circle clip-path=\"url(#clip972)\" cx=\"1623.12\" cy=\"370.839\" r=\"14\" fill=\"#009af9\" fill-rule=\"evenodd\" fill-opacity=\"1\" stroke=\"#000000\" stroke-opacity=\"1\" stroke-width=\"3.2\"/>\n",
       "<circle clip-path=\"url(#clip972)\" cx=\"1658.25\" cy=\"144.549\" r=\"14\" fill=\"#009af9\" fill-rule=\"evenodd\" fill-opacity=\"1\" stroke=\"#000000\" stroke-opacity=\"1\" stroke-width=\"3.2\"/>\n",
       "<circle clip-path=\"url(#clip972)\" cx=\"1728.51\" cy=\"201.121\" r=\"14\" fill=\"#009af9\" fill-rule=\"evenodd\" fill-opacity=\"1\" stroke=\"#000000\" stroke-opacity=\"1\" stroke-width=\"3.2\"/>\n",
       "<circle clip-path=\"url(#clip972)\" cx=\"1798.77\" cy=\"483.984\" r=\"14\" fill=\"#009af9\" fill-rule=\"evenodd\" fill-opacity=\"1\" stroke=\"#000000\" stroke-opacity=\"1\" stroke-width=\"3.2\"/>\n",
       "<circle clip-path=\"url(#clip972)\" cx=\"2220.32\" cy=\"257.694\" r=\"14\" fill=\"#009af9\" fill-rule=\"evenodd\" fill-opacity=\"1\" stroke=\"#000000\" stroke-opacity=\"1\" stroke-width=\"3.2\"/>\n",
       "<circle clip-path=\"url(#clip972)\" cx=\"2290.58\" cy=\"201.121\" r=\"14\" fill=\"#009af9\" fill-rule=\"evenodd\" fill-opacity=\"1\" stroke=\"#000000\" stroke-opacity=\"1\" stroke-width=\"3.2\"/>\n",
       "<circle clip-path=\"url(#clip972)\" cx=\"1623.12\" cy=\"653.701\" r=\"14\" fill=\"#009af9\" fill-rule=\"evenodd\" fill-opacity=\"1\" stroke=\"#000000\" stroke-opacity=\"1\" stroke-width=\"3.2\"/>\n",
       "<circle clip-path=\"url(#clip972)\" cx=\"1869.02\" cy=\"201.121\" r=\"14\" fill=\"#009af9\" fill-rule=\"evenodd\" fill-opacity=\"1\" stroke=\"#000000\" stroke-opacity=\"1\" stroke-width=\"3.2\"/>\n",
       "<circle clip-path=\"url(#clip972)\" cx=\"1587.99\" cy=\"370.839\" r=\"14\" fill=\"#009af9\" fill-rule=\"evenodd\" fill-opacity=\"1\" stroke=\"#000000\" stroke-opacity=\"1\" stroke-width=\"3.2\"/>\n",
       "<circle clip-path=\"url(#clip972)\" cx=\"2220.32\" cy=\"370.839\" r=\"14\" fill=\"#009af9\" fill-rule=\"evenodd\" fill-opacity=\"1\" stroke=\"#000000\" stroke-opacity=\"1\" stroke-width=\"3.2\"/>\n",
       "<circle clip-path=\"url(#clip972)\" cx=\"1587.99\" cy=\"483.984\" r=\"14\" fill=\"#009af9\" fill-rule=\"evenodd\" fill-opacity=\"1\" stroke=\"#000000\" stroke-opacity=\"1\" stroke-width=\"3.2\"/>\n",
       "<circle clip-path=\"url(#clip972)\" cx=\"1869.02\" cy=\"314.266\" r=\"14\" fill=\"#009af9\" fill-rule=\"evenodd\" fill-opacity=\"1\" stroke=\"#000000\" stroke-opacity=\"1\" stroke-width=\"3.2\"/>\n",
       "<circle clip-path=\"url(#clip972)\" cx=\"1974.41\" cy=\"483.984\" r=\"14\" fill=\"#009af9\" fill-rule=\"evenodd\" fill-opacity=\"1\" stroke=\"#000000\" stroke-opacity=\"1\" stroke-width=\"3.2\"/>\n",
       "<circle clip-path=\"url(#clip972)\" cx=\"1552.86\" cy=\"483.984\" r=\"14\" fill=\"#009af9\" fill-rule=\"evenodd\" fill-opacity=\"1\" stroke=\"#000000\" stroke-opacity=\"1\" stroke-width=\"3.2\"/>\n",
       "<circle clip-path=\"url(#clip972)\" cx=\"1587.99\" cy=\"483.984\" r=\"14\" fill=\"#009af9\" fill-rule=\"evenodd\" fill-opacity=\"1\" stroke=\"#000000\" stroke-opacity=\"1\" stroke-width=\"3.2\"/>\n",
       "<circle clip-path=\"url(#clip972)\" cx=\"1833.9\" cy=\"314.266\" r=\"14\" fill=\"#009af9\" fill-rule=\"evenodd\" fill-opacity=\"1\" stroke=\"#000000\" stroke-opacity=\"1\" stroke-width=\"3.2\"/>\n",
       "<circle clip-path=\"url(#clip972)\" cx=\"1904.15\" cy=\"597.129\" r=\"14\" fill=\"#009af9\" fill-rule=\"evenodd\" fill-opacity=\"1\" stroke=\"#000000\" stroke-opacity=\"1\" stroke-width=\"3.2\"/>\n",
       "<circle clip-path=\"url(#clip972)\" cx=\"2009.54\" cy=\"427.411\" r=\"14\" fill=\"#009af9\" fill-rule=\"evenodd\" fill-opacity=\"1\" stroke=\"#000000\" stroke-opacity=\"1\" stroke-width=\"3.2\"/>\n",
       "<circle clip-path=\"url(#clip972)\" cx=\"2114.93\" cy=\"370.839\" r=\"14\" fill=\"#009af9\" fill-rule=\"evenodd\" fill-opacity=\"1\" stroke=\"#000000\" stroke-opacity=\"1\" stroke-width=\"3.2\"/>\n",
       "<circle clip-path=\"url(#clip972)\" cx=\"1833.9\" cy=\"257.694\" r=\"14\" fill=\"#009af9\" fill-rule=\"evenodd\" fill-opacity=\"1\" stroke=\"#000000\" stroke-opacity=\"1\" stroke-width=\"3.2\"/>\n",
       "<circle clip-path=\"url(#clip972)\" cx=\"1658.25\" cy=\"653.701\" r=\"14\" fill=\"#009af9\" fill-rule=\"evenodd\" fill-opacity=\"1\" stroke=\"#000000\" stroke-opacity=\"1\" stroke-width=\"3.2\"/>\n",
       "<circle clip-path=\"url(#clip972)\" cx=\"1833.9\" cy=\"710.274\" r=\"14\" fill=\"#009af9\" fill-rule=\"evenodd\" fill-opacity=\"1\" stroke=\"#000000\" stroke-opacity=\"1\" stroke-width=\"3.2\"/>\n",
       "<circle clip-path=\"url(#clip972)\" cx=\"2009.54\" cy=\"201.121\" r=\"14\" fill=\"#009af9\" fill-rule=\"evenodd\" fill-opacity=\"1\" stroke=\"#000000\" stroke-opacity=\"1\" stroke-width=\"3.2\"/>\n",
       "<circle clip-path=\"url(#clip972)\" cx=\"1833.9\" cy=\"144.549\" r=\"14\" fill=\"#009af9\" fill-rule=\"evenodd\" fill-opacity=\"1\" stroke=\"#000000\" stroke-opacity=\"1\" stroke-width=\"3.2\"/>\n",
       "<circle clip-path=\"url(#clip972)\" cx=\"1798.77\" cy=\"483.984\" r=\"14\" fill=\"#009af9\" fill-rule=\"evenodd\" fill-opacity=\"1\" stroke=\"#000000\" stroke-opacity=\"1\" stroke-width=\"3.2\"/>\n",
       "<circle clip-path=\"url(#clip972)\" cx=\"1552.86\" cy=\"483.984\" r=\"14\" fill=\"#009af9\" fill-rule=\"evenodd\" fill-opacity=\"1\" stroke=\"#000000\" stroke-opacity=\"1\" stroke-width=\"3.2\"/>\n",
       "<circle clip-path=\"url(#clip972)\" cx=\"1763.64\" cy=\"314.266\" r=\"14\" fill=\"#009af9\" fill-rule=\"evenodd\" fill-opacity=\"1\" stroke=\"#000000\" stroke-opacity=\"1\" stroke-width=\"3.2\"/>\n",
       "<circle clip-path=\"url(#clip972)\" cx=\"1833.9\" cy=\"144.549\" r=\"14\" fill=\"#009af9\" fill-rule=\"evenodd\" fill-opacity=\"1\" stroke=\"#000000\" stroke-opacity=\"1\" stroke-width=\"3.2\"/>\n",
       "<circle clip-path=\"url(#clip972)\" cx=\"1658.25\" cy=\"201.121\" r=\"14\" fill=\"#009af9\" fill-rule=\"evenodd\" fill-opacity=\"1\" stroke=\"#000000\" stroke-opacity=\"1\" stroke-width=\"3.2\"/>\n",
       "<circle clip-path=\"url(#clip972)\" cx=\"1658.25\" cy=\"427.411\" r=\"14\" fill=\"#009af9\" fill-rule=\"evenodd\" fill-opacity=\"1\" stroke=\"#000000\" stroke-opacity=\"1\" stroke-width=\"3.2\"/>\n",
       "<circle clip-path=\"url(#clip972)\" cx=\"1939.28\" cy=\"201.121\" r=\"14\" fill=\"#009af9\" fill-rule=\"evenodd\" fill-opacity=\"1\" stroke=\"#000000\" stroke-opacity=\"1\" stroke-width=\"3.2\"/>\n",
       "<circle clip-path=\"url(#clip972)\" cx=\"1869.02\" cy=\"87.9763\" r=\"14\" fill=\"#009af9\" fill-rule=\"evenodd\" fill-opacity=\"1\" stroke=\"#000000\" stroke-opacity=\"1\" stroke-width=\"3.2\"/>\n",
       "<circle clip-path=\"url(#clip972)\" cx=\"1693.38\" cy=\"201.121\" r=\"14\" fill=\"#009af9\" fill-rule=\"evenodd\" fill-opacity=\"1\" stroke=\"#000000\" stroke-opacity=\"1\" stroke-width=\"3.2\"/>\n",
       "<circle clip-path=\"url(#clip972)\" cx=\"1623.12\" cy=\"427.411\" r=\"14\" fill=\"#009af9\" fill-rule=\"evenodd\" fill-opacity=\"1\" stroke=\"#000000\" stroke-opacity=\"1\" stroke-width=\"3.2\"/>\n",
       "<circle clip-path=\"url(#clip972)\" cx=\"1693.38\" cy=\"370.839\" r=\"14\" fill=\"#009af9\" fill-rule=\"evenodd\" fill-opacity=\"1\" stroke=\"#000000\" stroke-opacity=\"1\" stroke-width=\"3.2\"/>\n",
       "<circle clip-path=\"url(#clip972)\" cx=\"1763.64\" cy=\"201.121\" r=\"14\" fill=\"#009af9\" fill-rule=\"evenodd\" fill-opacity=\"1\" stroke=\"#000000\" stroke-opacity=\"1\" stroke-width=\"3.2\"/>\n",
       "<circle clip-path=\"url(#clip972)\" cx=\"1658.25\" cy=\"483.984\" r=\"14\" fill=\"#009af9\" fill-rule=\"evenodd\" fill-opacity=\"1\" stroke=\"#000000\" stroke-opacity=\"1\" stroke-width=\"3.2\"/>\n",
       "<path clip-path=\"url(#clip970)\" d=\"\n",
       "M1982.98 198.898 L2279.52 198.898 L2279.52 95.2176 L1982.98 95.2176  Z\n",
       "  \" fill=\"#ffffff\" fill-rule=\"evenodd\" fill-opacity=\"1\"/>\n",
       "<polyline clip-path=\"url(#clip970)\" style=\"stroke:#000000; stroke-linecap:butt; stroke-linejoin:round; stroke-width:4; stroke-opacity:1; fill:none\" points=\"\n",
       "  1982.98,198.898 2279.52,198.898 2279.52,95.2176 1982.98,95.2176 1982.98,198.898 \n",
       "  \"/>\n",
       "<circle clip-path=\"url(#clip970)\" cx=\"2080.63\" cy=\"147.058\" r=\"23\" fill=\"#009af9\" fill-rule=\"evenodd\" fill-opacity=\"1\" stroke=\"#000000\" stroke-opacity=\"1\" stroke-width=\"5.12\"/>\n",
       "<path clip-path=\"url(#clip970)\" d=\"M2192.11 166.745 Q2190.31 171.375 2188.59 172.787 Q2186.88 174.199 2184.01 174.199 L2180.61 174.199 L2180.61 170.634 L2183.11 170.634 Q2184.87 170.634 2185.84 169.8 Q2186.81 168.967 2187.99 165.865 L2188.76 163.921 L2178.27 138.412 L2182.78 138.412 L2190.89 158.689 L2198.99 138.412 L2203.5 138.412 L2192.11 166.745 Z\" fill=\"#000000\" fill-rule=\"evenodd\" fill-opacity=\"1\" /><path clip-path=\"url(#clip970)\" d=\"M2210.79 160.402 L2218.43 160.402 L2218.43 134.037 L2210.12 135.703 L2210.12 131.444 L2218.39 129.778 L2223.06 129.778 L2223.06 160.402 L2230.7 160.402 L2230.7 164.338 L2210.79 164.338 L2210.79 160.402 Z\" fill=\"#000000\" fill-rule=\"evenodd\" fill-opacity=\"1\" /></svg>\n"
      ]
     },
     "execution_count": 124,
     "metadata": {},
     "output_type": "execute_result"
    }
   ],
   "source": [
    "scatter(iris.Petal_Length,iris.Petal_Width)"
   ]
  },
  {
   "cell_type": "markdown",
   "metadata": {},
   "source": [
    "### working with python package"
   ]
  },
  {
   "cell_type": "code",
   "execution_count": 125,
   "metadata": {},
   "outputs": [
    {
     "name": "stderr",
     "output_type": "stream",
     "text": [
      "\u001b[32m\u001b[1m   Resolving\u001b[22m\u001b[39m package versions...\n",
      "\u001b[32m\u001b[1m  No Changes\u001b[22m\u001b[39m to `C:\\Users\\SIDDHESH\\.julia\\environments\\v1.7\\Project.toml`\n",
      "\u001b[32m\u001b[1m  No Changes\u001b[22m\u001b[39m to `C:\\Users\\SIDDHESH\\.julia\\environments\\v1.7\\Manifest.toml`\n"
     ]
    }
   ],
   "source": [
    "using Pkg\n",
    "Pkg.add(\"PyCall\")"
   ]
  },
  {
   "cell_type": "code",
   "execution_count": 126,
   "metadata": {},
   "outputs": [
    {
     "data": {
      "text/plain": [
       "PyObject <module 'numpy' from 'C:\\\\Users\\\\SIDDHESH\\\\.julia\\\\conda\\\\3\\\\lib\\\\site-packages\\\\numpy\\\\__init__.py'>"
      ]
     },
     "execution_count": 126,
     "metadata": {},
     "output_type": "execute_result"
    }
   ],
   "source": [
    "using PyCall\n",
    "np = pyimport(\"numpy\")"
   ]
  },
  {
   "cell_type": "code",
   "execution_count": 127,
   "metadata": {},
   "outputs": [
    {
     "name": "stderr",
     "output_type": "stream",
     "text": [
      "┌ Warning: `vendor()` is deprecated, use `BLAS.get_config()` and inspect the output instead\n",
      "│   caller = npyinitialize() at numpy.jl:67\n",
      "└ @ PyCall C:\\Users\\SIDDHESH\\.julia\\packages\\PyCall\\L0fLP\\src\\numpy.jl:67\n"
     ]
    },
    {
     "data": {
      "text/plain": [
       "4-element Vector{Int64}:\n",
       " 1\n",
       " 2\n",
       " 3\n",
       " 4"
      ]
     },
     "execution_count": 127,
     "metadata": {},
     "output_type": "execute_result"
    }
   ],
   "source": [
    "a1 = np.array([1,2,3,4])"
   ]
  },
  {
   "cell_type": "code",
   "execution_count": 128,
   "metadata": {},
   "outputs": [
    {
     "data": {
      "text/plain": [
       "2.5"
      ]
     },
     "execution_count": 128,
     "metadata": {},
     "output_type": "execute_result"
    }
   ],
   "source": [
    "np.mean(a1)"
   ]
  },
  {
   "cell_type": "code",
   "execution_count": 129,
   "metadata": {},
   "outputs": [
    {
     "data": {
      "text/plain": [
       "2.5"
      ]
     },
     "execution_count": 129,
     "metadata": {},
     "output_type": "execute_result"
    }
   ],
   "source": [
    "np.median(a1)"
   ]
  },
  {
   "cell_type": "code",
   "execution_count": 130,
   "metadata": {},
   "outputs": [
    {
     "data": {
      "text/plain": [
       "PyObject <module 'math' (built-in)>"
      ]
     },
     "execution_count": 130,
     "metadata": {},
     "output_type": "execute_result"
    }
   ],
   "source": [
    "math = pyimport(\"math\")"
   ]
  },
  {
   "cell_type": "code",
   "execution_count": 131,
   "metadata": {},
   "outputs": [
    {
     "data": {
      "text/plain": [
       "-0.4161468365471424"
      ]
     },
     "execution_count": 131,
     "metadata": {},
     "output_type": "execute_result"
    }
   ],
   "source": [
    "cos(2)"
   ]
  },
  {
   "cell_type": "code",
   "execution_count": null,
   "metadata": {},
   "outputs": [],
   "source": []
  }
 ],
 "metadata": {
  "kernelspec": {
   "display_name": "Julia 1.7.0",
   "language": "julia",
   "name": "julia-1.7"
  },
  "language_info": {
   "file_extension": ".jl",
   "mimetype": "application/julia",
   "name": "julia",
   "version": "1.7.0"
  }
 },
 "nbformat": 4,
 "nbformat_minor": 4
}
