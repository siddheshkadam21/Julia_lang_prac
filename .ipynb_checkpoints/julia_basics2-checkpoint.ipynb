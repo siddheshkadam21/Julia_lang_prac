{
 "cells": [
  {
   "cell_type": "markdown",
   "metadata": {},
   "source": [
    "### Working with Date and Time"
   ]
  },
  {
   "cell_type": "markdown",
   "metadata": {},
   "source": [
    "Dates.Time\n",
    "Dates.Date\n",
    "Dates.Datetime"
   ]
  },
  {
   "cell_type": "code",
   "execution_count": 124,
   "metadata": {},
   "outputs": [],
   "source": [
    "using Dates # import"
   ]
  },
  {
   "cell_type": "code",
   "execution_count": 125,
   "metadata": {},
   "outputs": [
    {
     "data": {
      "text/plain": [
       "2021-12-27T22:08:32.618"
      ]
     },
     "execution_count": 125,
     "metadata": {},
     "output_type": "execute_result"
    }
   ],
   "source": [
    "now() # current date and time"
   ]
  },
  {
   "cell_type": "code",
   "execution_count": 126,
   "metadata": {},
   "outputs": [
    {
     "data": {
      "text/plain": [
       "2021-12-27"
      ]
     },
     "execution_count": 126,
     "metadata": {},
     "output_type": "execute_result"
    }
   ],
   "source": [
    "today() # current date"
   ]
  },
  {
   "cell_type": "code",
   "execution_count": 127,
   "metadata": {},
   "outputs": [
    {
     "data": {
      "text/plain": [
       "2000-05-01"
      ]
     },
     "execution_count": 127,
     "metadata": {},
     "output_type": "execute_result"
    }
   ],
   "source": [
    "birthdate1 = Date(2000,5,1) #yyyy,mm,dd"
   ]
  },
  {
   "cell_type": "code",
   "execution_count": 128,
   "metadata": {},
   "outputs": [
    {
     "data": {
      "text/plain": [
       "2000-05-01T10:15:25"
      ]
     },
     "execution_count": 128,
     "metadata": {},
     "output_type": "execute_result"
    }
   ],
   "source": [
    "birthdate=DateTime(2000,5,1,10,15,25) "
   ]
  },
  {
   "cell_type": "code",
   "execution_count": 129,
   "metadata": {},
   "outputs": [
    {
     "data": {
      "text/plain": [
       "2021-12-27T16:38:32.708"
      ]
     },
     "execution_count": 129,
     "metadata": {},
     "output_type": "execute_result"
    }
   ],
   "source": [
    "now(UTC) # different time zone"
   ]
  },
  {
   "cell_type": "code",
   "execution_count": 130,
   "metadata": {},
   "outputs": [
    {
     "data": {
      "text/plain": [
       "2000"
      ]
     },
     "execution_count": 130,
     "metadata": {},
     "output_type": "execute_result"
    }
   ],
   "source": [
    "year(birthdate) #extract year"
   ]
  },
  {
   "cell_type": "code",
   "execution_count": 131,
   "metadata": {},
   "outputs": [
    {
     "data": {
      "text/plain": [
       "5"
      ]
     },
     "execution_count": 131,
     "metadata": {},
     "output_type": "execute_result"
    }
   ],
   "source": [
    "month(birthdate) #extract month"
   ]
  },
  {
   "cell_type": "code",
   "execution_count": 132,
   "metadata": {},
   "outputs": [
    {
     "data": {
      "text/plain": [
       "1"
      ]
     },
     "execution_count": 132,
     "metadata": {},
     "output_type": "execute_result"
    }
   ],
   "source": [
    "day(birthdate) #extrect day"
   ]
  },
  {
   "cell_type": "code",
   "execution_count": 133,
   "metadata": {},
   "outputs": [
    {
     "data": {
      "text/plain": [
       "2021"
      ]
     },
     "execution_count": 133,
     "metadata": {},
     "output_type": "execute_result"
    }
   ],
   "source": [
    "year(now()) # current year"
   ]
  },
  {
   "cell_type": "code",
   "execution_count": 134,
   "metadata": {},
   "outputs": [
    {
     "data": {
      "text/plain": [
       "22"
      ]
     },
     "execution_count": 134,
     "metadata": {},
     "output_type": "execute_result"
    }
   ],
   "source": [
    "hour(now()) # current hrs"
   ]
  },
  {
   "cell_type": "code",
   "execution_count": 135,
   "metadata": {},
   "outputs": [
    {
     "data": {
      "text/plain": [
       "1"
      ]
     },
     "execution_count": 135,
     "metadata": {},
     "output_type": "execute_result"
    }
   ],
   "source": [
    "dayofweek(birthdate) #extract day of week"
   ]
  },
  {
   "cell_type": "code",
   "execution_count": 136,
   "metadata": {},
   "outputs": [
    {
     "data": {
      "text/plain": [
       "\"Monday\""
      ]
     },
     "execution_count": 136,
     "metadata": {},
     "output_type": "execute_result"
    }
   ],
   "source": [
    "dayname(birthdate) # exctract day name"
   ]
  },
  {
   "cell_type": "code",
   "execution_count": 137,
   "metadata": {},
   "outputs": [
    {
     "data": {
      "text/plain": [
       "31"
      ]
     },
     "execution_count": 137,
     "metadata": {},
     "output_type": "execute_result"
    }
   ],
   "source": [
    "dayofquarter(birthdate)"
   ]
  },
  {
   "cell_type": "code",
   "execution_count": 138,
   "metadata": {},
   "outputs": [
    {
     "data": {
      "text/plain": [
       "31"
      ]
     },
     "execution_count": 138,
     "metadata": {},
     "output_type": "execute_result"
    }
   ],
   "source": [
    "daysinmonth(birthdate) # extract days in month"
   ]
  },
  {
   "cell_type": "code",
   "execution_count": 139,
   "metadata": {},
   "outputs": [
    {
     "data": {
      "text/plain": [
       "7910 days"
      ]
     },
     "execution_count": 139,
     "metadata": {},
     "output_type": "execute_result"
    }
   ],
   "source": [
    "today() - birthdate1 #arithematic operations"
   ]
  },
  {
   "cell_type": "code",
   "execution_count": 140,
   "metadata": {},
   "outputs": [
    {
     "data": {
      "text/plain": [
       "2022-05-27"
      ]
     },
     "execution_count": 140,
     "metadata": {},
     "output_type": "execute_result"
    }
   ],
   "source": [
    "today() + Month(5) #adding months"
   ]
  },
  {
   "cell_type": "code",
   "execution_count": 141,
   "metadata": {},
   "outputs": [
    {
     "data": {
      "text/plain": [
       "dateformat\"dd-mm-yyyy\""
      ]
     },
     "execution_count": 141,
     "metadata": {},
     "output_type": "execute_result"
    }
   ],
   "source": [
    "date_format= DateFormat(\"dd-mm-yyyy\")"
   ]
  },
  {
   "cell_type": "code",
   "execution_count": 142,
   "metadata": {},
   "outputs": [
    {
     "data": {
      "text/plain": [
       "\"01-05-2000\""
      ]
     },
     "execution_count": 142,
     "metadata": {},
     "output_type": "execute_result"
    }
   ],
   "source": [
    "Dates.format(birthdate,date_format)"
   ]
  },
  {
   "cell_type": "markdown",
   "metadata": {},
   "source": [
    "### Conditional statements"
   ]
  },
  {
   "cell_type": "code",
   "execution_count": 143,
   "metadata": {},
   "outputs": [
    {
     "data": {
      "text/plain": [
       "10"
      ]
     },
     "execution_count": 143,
     "metadata": {},
     "output_type": "execute_result"
    }
   ],
   "source": [
    "a = 10"
   ]
  },
  {
   "cell_type": "code",
   "execution_count": 144,
   "metadata": {},
   "outputs": [
    {
     "data": {
      "text/plain": [
       "\"no\""
      ]
     },
     "execution_count": 144,
     "metadata": {},
     "output_type": "execute_result"
    }
   ],
   "source": [
    "a > 10 ? \"yes\" : \"no\""
   ]
  },
  {
   "cell_type": "code",
   "execution_count": 145,
   "metadata": {},
   "outputs": [
    {
     "data": {
      "text/plain": [
       "\"No\""
      ]
     },
     "execution_count": 145,
     "metadata": {},
     "output_type": "execute_result"
    }
   ],
   "source": [
    "a < 10 ? \"Yes\" : \"No\""
   ]
  },
  {
   "cell_type": "code",
   "execution_count": 146,
   "metadata": {},
   "outputs": [
    {
     "data": {
      "text/plain": [
       "\"Yes\""
      ]
     },
     "execution_count": 146,
     "metadata": {},
     "output_type": "execute_result"
    }
   ],
   "source": [
    "a <= 10 ? \"Yes\" : \"No\""
   ]
  },
  {
   "cell_type": "code",
   "execution_count": 147,
   "metadata": {},
   "outputs": [
    {
     "data": {
      "text/plain": [
       "20"
      ]
     },
     "execution_count": 147,
     "metadata": {},
     "output_type": "execute_result"
    }
   ],
   "source": [
    "b =20"
   ]
  },
  {
   "cell_type": "markdown",
   "metadata": {},
   "source": [
    "- It will give false only when both the conditions are false\n"
   ]
  },
  {
   "cell_type": "code",
   "execution_count": 148,
   "metadata": {},
   "outputs": [
    {
     "data": {
      "text/plain": [
       "true"
      ]
     },
     "execution_count": 148,
     "metadata": {},
     "output_type": "execute_result"
    }
   ],
   "source": [
    "a >= 10 || b<20 #logical operators #or condition"
   ]
  },
  {
   "cell_type": "code",
   "execution_count": 149,
   "metadata": {},
   "outputs": [
    {
     "data": {
      "text/plain": [
       "false"
      ]
     },
     "execution_count": 149,
     "metadata": {},
     "output_type": "execute_result"
    }
   ],
   "source": [
    "a > 10 || b< 20 # both statements are false"
   ]
  },
  {
   "cell_type": "markdown",
   "metadata": {},
   "source": [
    "- Both the conditions needs to be true."
   ]
  },
  {
   "cell_type": "code",
   "execution_count": 150,
   "metadata": {},
   "outputs": [
    {
     "data": {
      "text/plain": [
       "false"
      ]
     },
     "execution_count": 150,
     "metadata": {},
     "output_type": "execute_result"
    }
   ],
   "source": [
    "# and operator \n",
    "a >= 10 && b < 20 "
   ]
  },
  {
   "cell_type": "code",
   "execution_count": 151,
   "metadata": {},
   "outputs": [
    {
     "data": {
      "text/plain": [
       "true"
      ]
     },
     "execution_count": 151,
     "metadata": {},
     "output_type": "execute_result"
    }
   ],
   "source": [
    "a >= 10 && b <=20"
   ]
  },
  {
   "cell_type": "code",
   "execution_count": 152,
   "metadata": {},
   "outputs": [
    {
     "name": "stdout",
     "output_type": "stream",
     "text": [
      " a is equal to 10"
     ]
    }
   ],
   "source": [
    "# if condition\n",
    "if a > 10\n",
    "    print(\"a is grater thnan 10\")\n",
    "elseif a < 10\n",
    "    print(\"a is less than 10\")\n",
    "else\n",
    "    print(\" a is equal to 10\")\n",
    "end"
   ]
  },
  {
   "cell_type": "code",
   "execution_count": 153,
   "metadata": {},
   "outputs": [
    {
     "data": {
      "text/plain": [
       "\"United States\""
      ]
     },
     "execution_count": 153,
     "metadata": {},
     "output_type": "execute_result"
    }
   ],
   "source": [
    "country = \"United States\""
   ]
  },
  {
   "cell_type": "code",
   "execution_count": 154,
   "metadata": {},
   "outputs": [
    {
     "name": "stdout",
     "output_type": "stream",
     "text": [
      "you mention United State"
     ]
    }
   ],
   "source": [
    "if country == \"United States\"\n",
    "    print(\"you mention United State\")\n",
    "else\n",
    "    print(\"other country\")\n",
    "end"
   ]
  },
  {
   "cell_type": "markdown",
   "metadata": {},
   "source": [
    "### Loops"
   ]
  },
  {
   "cell_type": "code",
   "execution_count": 155,
   "metadata": {},
   "outputs": [
    {
     "name": "stdout",
     "output_type": "stream",
     "text": [
      "Adidas Nike Puma "
     ]
    }
   ],
   "source": [
    "for i in [\"Adidas\",\"Nike\",\"Puma\"] #array\n",
    "    print(i, \" \")\n",
    "end"
   ]
  },
  {
   "cell_type": "code",
   "execution_count": 156,
   "metadata": {},
   "outputs": [
    {
     "name": "stdout",
     "output_type": "stream",
     "text": [
      "Adidas\n",
      "Nike\n",
      "Puma\n"
     ]
    }
   ],
   "source": [
    "for i in [\"Adidas\",\"Nike\",\"Puma\"]\n",
    "    println(i)\n",
    "end"
   ]
  },
  {
   "cell_type": "code",
   "execution_count": 157,
   "metadata": {},
   "outputs": [
    {
     "name": "stdout",
     "output_type": "stream",
     "text": [
      "A\n",
      "d\n",
      "i\n",
      "d\n",
      "a\n",
      "s\n"
     ]
    }
   ],
   "source": [
    "for i in \"Adidas\"\n",
    "    println(i)\n",
    "end"
   ]
  },
  {
   "cell_type": "code",
   "execution_count": 158,
   "metadata": {},
   "outputs": [
    {
     "name": "stdout",
     "output_type": "stream",
     "text": [
      "1 2 3 4 5 "
     ]
    }
   ],
   "source": [
    "for t in (1,2,3,4,5) #tuple\n",
    "    print(t,\" \")\n",
    "end\n"
   ]
  },
  {
   "cell_type": "code",
   "execution_count": 159,
   "metadata": {},
   "outputs": [
    {
     "name": "stdout",
     "output_type": "stream",
     "text": [
      "1\n",
      "2\n",
      "3\n",
      "4\n",
      "5\n"
     ]
    }
   ],
   "source": [
    "for t in (1,2,3,4,5)\n",
    "    println(t)\n",
    "end\n"
   ]
  },
  {
   "cell_type": "code",
   "execution_count": 160,
   "metadata": {},
   "outputs": [
    {
     "name": "stdout",
     "output_type": "stream",
     "text": [
      ":car2 => 200 :car1 => 100 "
     ]
    }
   ],
   "source": [
    "for d in Dict(:car1 =>100, :car2 => 200)#dictonary\n",
    "    print(d, \" \")\n",
    "end\n"
   ]
  },
  {
   "cell_type": "code",
   "execution_count": 161,
   "metadata": {},
   "outputs": [
    {
     "data": {
      "text/plain": [
       "Dict{Symbol, Int64} with 2 entries:\n",
       "  :car2 => 200\n",
       "  :car1 => 100"
      ]
     },
     "execution_count": 161,
     "metadata": {},
     "output_type": "execute_result"
    }
   ],
   "source": [
    "d1= Dict(:car1 =>100, :car2 => 200)"
   ]
  },
  {
   "cell_type": "code",
   "execution_count": 162,
   "metadata": {},
   "outputs": [
    {
     "name": "stdout",
     "output_type": "stream",
     "text": [
      ":car2 => 200 :car1 => 100 "
     ]
    }
   ],
   "source": [
    "for d in d1\n",
    "    print(d, \" \")\n",
    "end\n"
   ]
  },
  {
   "cell_type": "code",
   "execution_count": 163,
   "metadata": {},
   "outputs": [
    {
     "name": "stdout",
     "output_type": "stream",
     "text": [
      "54231"
     ]
    }
   ],
   "source": [
    "for s in Set([1,2,3,4,5]) #set\n",
    "    print(s)\n",
    "end\n"
   ]
  },
  {
   "cell_type": "code",
   "execution_count": 164,
   "metadata": {},
   "outputs": [
    {
     "name": "stdout",
     "output_type": "stream",
     "text": [
      "1 2 3 4 5 "
     ]
    }
   ],
   "source": [
    "for range in 1:5 #range\n",
    "    print(range, \" \")\n",
    "end"
   ]
  },
  {
   "cell_type": "code",
   "execution_count": 165,
   "metadata": {},
   "outputs": [
    {
     "name": "stdout",
     "output_type": "stream",
     "text": [
      "range = 1\n",
      "range = 2\n",
      "range = 3\n",
      "range = 4\n",
      "range = 5\n"
     ]
    }
   ],
   "source": [
    "for range in 1:5 #range\n",
    "    @show range #relation of variable\n",
    "end"
   ]
  },
  {
   "cell_type": "code",
   "execution_count": 166,
   "metadata": {},
   "outputs": [
    {
     "name": "stdout",
     "output_type": "stream",
     "text": [
      "2 4 6 8 10 "
     ]
    }
   ],
   "source": [
    "for x in 1:10 # even number\n",
    "    if x % 2==0\n",
    "        print(x, \" \")\n",
    "    end\n",
    "end"
   ]
  },
  {
   "cell_type": "code",
   "execution_count": 167,
   "metadata": {},
   "outputs": [
    {
     "name": "stdout",
     "output_type": "stream",
     "text": [
      "10 is multiplication between 1 and 10\n",
      "20 is multiplication between 2 and 10\n",
      "30 is multiplication between 3 and 10\n",
      "40 is multiplication between 4 and 10\n",
      "50 is multiplication between 5 and 10\n",
      "60 is multiplication between 6 and 10\n",
      "70 is multiplication between 7 and 10\n",
      "80 is multiplication between 8 and 10\n",
      "90 is multiplication between 9 and 10\n",
      "100 is multiplication between 10 and 10\n"
     ]
    }
   ],
   "source": [
    "for i in 1:10\n",
    "    j = i * 10\n",
    "    println(\"$(j) is multiplication between $(i) and 10\")\n",
    "end\n"
   ]
  },
  {
   "cell_type": "code",
   "execution_count": 168,
   "metadata": {},
   "outputs": [
    {
     "name": "stdout",
     "output_type": "stream",
     "text": [
      "1\n",
      "3\n",
      "5\n",
      "7\n",
      "9\n"
     ]
    }
   ],
   "source": [
    "for i in 1:10\n",
    "    if i % 2 ==0\n",
    "        continue # it will ignore even number and print odd number\n",
    "    end\n",
    "    println(i)\n",
    "end\n"
   ]
  },
  {
   "cell_type": "code",
   "execution_count": 169,
   "metadata": {},
   "outputs": [
    {
     "data": {
      "text/plain": [
       "1"
      ]
     },
     "execution_count": 169,
     "metadata": {},
     "output_type": "execute_result"
    }
   ],
   "source": [
    "a = 1"
   ]
  },
  {
   "cell_type": "code",
   "execution_count": 170,
   "metadata": {},
   "outputs": [
    {
     "name": "stdout",
     "output_type": "stream",
     "text": [
      "1\n",
      "2\n",
      "3\n",
      "4\n",
      "5\n",
      "6\n",
      "7\n",
      "8\n",
      "9\n"
     ]
    }
   ],
   "source": [
    "while a < 10 \n",
    "    println(a)\n",
    "    a += 1 \n",
    "end"
   ]
  },
  {
   "cell_type": "markdown",
   "metadata": {},
   "source": [
    "### Comprehensions"
   ]
  },
  {
   "cell_type": "code",
   "execution_count": 171,
   "metadata": {},
   "outputs": [
    {
     "data": {
      "text/plain": [
       "10-element Vector{Int64}:\n",
       "  1\n",
       "  2\n",
       "  3\n",
       "  4\n",
       "  5\n",
       "  6\n",
       "  7\n",
       "  8\n",
       "  9\n",
       " 10"
      ]
     },
     "execution_count": 171,
     "metadata": {},
     "output_type": "execute_result"
    }
   ],
   "source": [
    "x = [i for i in 1:10]"
   ]
  },
  {
   "cell_type": "code",
   "execution_count": 172,
   "metadata": {},
   "outputs": [
    {
     "data": {
      "text/plain": [
       "10-element Vector{Int64}:\n",
       "  2\n",
       "  4\n",
       "  6\n",
       "  8\n",
       " 10\n",
       " 12\n",
       " 14\n",
       " 16\n",
       " 18\n",
       " 20"
      ]
     },
     "execution_count": 172,
     "metadata": {},
     "output_type": "execute_result"
    }
   ],
   "source": [
    "x = [i*2 for i in 1:10]"
   ]
  },
  {
   "cell_type": "code",
   "execution_count": 173,
   "metadata": {},
   "outputs": [
    {
     "data": {
      "text/plain": [
       "10-element Vector{Int64}:\n",
       "   1\n",
       "   4\n",
       "   9\n",
       "  16\n",
       "  25\n",
       "  36\n",
       "  49\n",
       "  64\n",
       "  81\n",
       " 100"
      ]
     },
     "execution_count": 173,
     "metadata": {},
     "output_type": "execute_result"
    }
   ],
   "source": [
    "x = [i^2 for i in 1:10]"
   ]
  },
  {
   "cell_type": "code",
   "execution_count": 174,
   "metadata": {},
   "outputs": [
    {
     "data": {
      "text/plain": [
       "Set{Int64} with 10 elements:\n",
       "  5\n",
       "  4\n",
       "  6\n",
       "  7\n",
       "  2\n",
       "  10\n",
       "  9\n",
       "  8\n",
       "  3\n",
       "  1"
      ]
     },
     "execution_count": 174,
     "metadata": {},
     "output_type": "execute_result"
    }
   ],
   "source": [
    "s = Set([i for i in 1:10]) # unordered set"
   ]
  },
  {
   "cell_type": "code",
   "execution_count": 175,
   "metadata": {},
   "outputs": [
    {
     "data": {
      "text/plain": [
       "Dict{String, Int64} with 26 entries:\n",
       "  \"Z\" => 26\n",
       "  \"Q\" => 17\n",
       "  \"W\" => 23\n",
       "  \"T\" => 20\n",
       "  \"C\" => 3\n",
       "  \"P\" => 16\n",
       "  \"V\" => 22\n",
       "  \"L\" => 12\n",
       "  \"O\" => 15\n",
       "  \"B\" => 2\n",
       "  \"M\" => 13\n",
       "  \"N\" => 14\n",
       "  \"H\" => 8\n",
       "  \"A\" => 1\n",
       "  \"X\" => 24\n",
       "  \"D\" => 4\n",
       "  \"G\" => 7\n",
       "  \"E\" => 5\n",
       "  \"Y\" => 25\n",
       "  \"I\" => 9\n",
       "  \"J\" => 10\n",
       "  \"S\" => 19\n",
       "  \"U\" => 21\n",
       "  \"K\" => 11\n",
       "  \"R\" => 18\n",
       "  \"F\" => 6"
      ]
     },
     "execution_count": 175,
     "metadata": {},
     "output_type": "execute_result"
    }
   ],
   "source": [
    "alphabet = Dict(string(Char(x_ + 64))=> x_ for x_ in 1:26) # dict comprehension"
   ]
  },
  {
   "cell_type": "code",
   "execution_count": 176,
   "metadata": {},
   "outputs": [
    {
     "data": {
      "text/plain": [
       "3×2 Matrix{Tuple{Int64, Int64}}:\n",
       " (1, 1)  (1, 2)\n",
       " (2, 1)  (2, 2)\n",
       " (3, 1)  (3, 2)"
      ]
     },
     "execution_count": 176,
     "metadata": {},
     "output_type": "execute_result"
    }
   ],
   "source": [
    "[(x,y) for x in 1:3, y in 1:2] #2d array within it has tuple"
   ]
  },
  {
   "cell_type": "code",
   "execution_count": 177,
   "metadata": {},
   "outputs": [
    {
     "data": {
      "text/plain": [
       "5-element Vector{Int64}:\n",
       "  2\n",
       "  4\n",
       "  6\n",
       "  8\n",
       " 10"
      ]
     },
     "execution_count": 177,
     "metadata": {},
     "output_type": "execute_result"
    }
   ],
   "source": [
    "[x for x in 1:10 if x%2 ==0] #even number "
   ]
  },
  {
   "cell_type": "code",
   "execution_count": 178,
   "metadata": {},
   "outputs": [
    {
     "data": {
      "text/plain": [
       "5-element Vector{Int64}:\n",
       " 1\n",
       " 3\n",
       " 5\n",
       " 7\n",
       " 9"
      ]
     },
     "execution_count": 178,
     "metadata": {},
     "output_type": "execute_result"
    }
   ],
   "source": [
    "[x for x in 1:10 if x%2 ==1] #odd number"
   ]
  },
  {
   "cell_type": "markdown",
   "metadata": {},
   "source": [
    "### Working with strings"
   ]
  },
  {
   "cell_type": "code",
   "execution_count": 179,
   "metadata": {},
   "outputs": [
    {
     "data": {
      "text/plain": [
       "\"I love Julia\""
      ]
     },
     "execution_count": 179,
     "metadata": {},
     "output_type": "execute_result"
    }
   ],
   "source": [
    "s1 = \"I love Julia\""
   ]
  },
  {
   "cell_type": "code",
   "execution_count": 180,
   "metadata": {},
   "outputs": [
    {
     "data": {
      "text/plain": [
       "12"
      ]
     },
     "execution_count": 180,
     "metadata": {},
     "output_type": "execute_result"
    }
   ],
   "source": [
    "length(s1) # length of the string"
   ]
  },
  {
   "cell_type": "code",
   "execution_count": 181,
   "metadata": {},
   "outputs": [
    {
     "data": {
      "text/plain": [
       "12"
      ]
     },
     "execution_count": 181,
     "metadata": {},
     "output_type": "execute_result"
    }
   ],
   "source": [
    "lastindex(s1) # last index number"
   ]
  },
  {
   "cell_type": "code",
   "execution_count": 182,
   "metadata": {},
   "outputs": [
    {
     "data": {
      "text/plain": [
       "'o': ASCII/Unicode U+006F (category Ll: Letter, lowercase)"
      ]
     },
     "execution_count": 182,
     "metadata": {},
     "output_type": "execute_result"
    }
   ],
   "source": [
    "s1[4] # indexsing"
   ]
  },
  {
   "cell_type": "code",
   "execution_count": 183,
   "metadata": {},
   "outputs": [
    {
     "data": {
      "text/plain": [
       "\"lo\""
      ]
     },
     "execution_count": 183,
     "metadata": {},
     "output_type": "execute_result"
    }
   ],
   "source": [
    "s1[3:4]"
   ]
  },
  {
   "cell_type": "code",
   "execution_count": 184,
   "metadata": {},
   "outputs": [
    {
     "data": {
      "text/plain": [
       "true"
      ]
     },
     "execution_count": 184,
     "metadata": {},
     "output_type": "execute_result"
    }
   ],
   "source": [
    "isascii(s1) #does string contains ascii charaters or not"
   ]
  },
  {
   "cell_type": "code",
   "execution_count": 185,
   "metadata": {},
   "outputs": [
    {
     "data": {
      "text/plain": [
       "\"juliajuliajuliajuliajulia\""
      ]
     },
     "execution_count": 185,
     "metadata": {},
     "output_type": "execute_result"
    }
   ],
   "source": [
    "\"julia\" ^ 5 # write word in n number of times"
   ]
  },
  {
   "cell_type": "code",
   "execution_count": 186,
   "metadata": {},
   "outputs": [
    {
     "data": {
      "text/plain": [
       "\"Julia python\""
      ]
     },
     "execution_count": 186,
     "metadata": {},
     "output_type": "execute_result"
    }
   ],
   "source": [
    "string(\"Julia\",\" python\") # combining string"
   ]
  },
  {
   "cell_type": "code",
   "execution_count": 187,
   "metadata": {},
   "outputs": [
    {
     "data": {
      "text/plain": [
       "3-element Vector{SubString{String}}:\n",
       " \"I\"\n",
       " \"love\"\n",
       " \"Julia\""
      ]
     },
     "execution_count": 187,
     "metadata": {},
     "output_type": "execute_result"
    }
   ],
   "source": [
    "split(s1) # splitting"
   ]
  },
  {
   "cell_type": "code",
   "execution_count": 188,
   "metadata": {},
   "outputs": [
    {
     "data": {
      "text/plain": [
       "3-element Vector{SubString{String}}:\n",
       " \"I \"\n",
       " \"ove Ju\"\n",
       " \"ia\""
      ]
     },
     "execution_count": 188,
     "metadata": {},
     "output_type": "execute_result"
    }
   ],
   "source": [
    "split(s1,\"l\")"
   ]
  },
  {
   "cell_type": "code",
   "execution_count": 189,
   "metadata": {},
   "outputs": [
    {
     "data": {
      "text/plain": [
       "12-element Vector{SubString{String}}:\n",
       " \"I\"\n",
       " \" \"\n",
       " \"l\"\n",
       " \"o\"\n",
       " \"v\"\n",
       " \"e\"\n",
       " \" \"\n",
       " \"J\"\n",
       " \"u\"\n",
       " \"l\"\n",
       " \"i\"\n",
       " \"a\""
      ]
     },
     "execution_count": 189,
     "metadata": {},
     "output_type": "execute_result"
    }
   ],
   "source": [
    "split(s1,\"\") # splitting one one char"
   ]
  },
  {
   "cell_type": "code",
   "execution_count": 190,
   "metadata": {},
   "outputs": [
    {
     "data": {
      "text/plain": [
       "100"
      ]
     },
     "execution_count": 190,
     "metadata": {},
     "output_type": "execute_result"
    }
   ],
   "source": [
    "parse(Int64, \"100\") #convert string to int as we can do float"
   ]
  },
  {
   "cell_type": "code",
   "execution_count": 191,
   "metadata": {},
   "outputs": [
    {
     "data": {
      "text/plain": [
       "true"
      ]
     },
     "execution_count": 191,
     "metadata": {},
     "output_type": "execute_result"
    }
   ],
   "source": [
    "in('I',s1) #finding an char is present or not"
   ]
  },
  {
   "cell_type": "code",
   "execution_count": 192,
   "metadata": {},
   "outputs": [
    {
     "data": {
      "text/plain": [
       "true"
      ]
     },
     "execution_count": 192,
     "metadata": {},
     "output_type": "execute_result"
    }
   ],
   "source": [
    "occursin(\"Julia\",s1) #finding word  "
   ]
  },
  {
   "cell_type": "code",
   "execution_count": 193,
   "metadata": {},
   "outputs": [
    {
     "data": {
      "text/plain": [
       "3:3"
      ]
     },
     "execution_count": 193,
     "metadata": {},
     "output_type": "execute_result"
    }
   ],
   "source": [
    "findfirst(\"l\",s1) #when the char is occured first"
   ]
  },
  {
   "cell_type": "code",
   "execution_count": 194,
   "metadata": {},
   "outputs": [
    {
     "data": {
      "text/plain": [
       "3:6"
      ]
     },
     "execution_count": 194,
     "metadata": {},
     "output_type": "execute_result"
    }
   ],
   "source": [
    "findfirst(\"love\",s1)"
   ]
  },
  {
   "cell_type": "code",
   "execution_count": 195,
   "metadata": {},
   "outputs": [
    {
     "data": {
      "text/plain": [
       "\"I adore Julia\""
      ]
     },
     "execution_count": 195,
     "metadata": {},
     "output_type": "execute_result"
    }
   ],
   "source": [
    "s1 = replace(s1,\"love\" => \"adore\") # replace word"
   ]
  },
  {
   "cell_type": "code",
   "execution_count": 196,
   "metadata": {},
   "outputs": [
    {
     "data": {
      "text/plain": [
       "\"I adore Julia\""
      ]
     },
     "execution_count": 196,
     "metadata": {},
     "output_type": "execute_result"
    }
   ],
   "source": [
    "s1"
   ]
  },
  {
   "cell_type": "markdown",
   "metadata": {},
   "source": [
    "### Functions"
   ]
  },
  {
   "cell_type": "code",
   "execution_count": 197,
   "metadata": {},
   "outputs": [
    {
     "data": {
      "text/plain": [
       "f (generic function with 2 methods)"
      ]
     },
     "execution_count": 197,
     "metadata": {},
     "output_type": "execute_result"
    }
   ],
   "source": [
    "f(x) = x + x"
   ]
  },
  {
   "cell_type": "code",
   "execution_count": 198,
   "metadata": {},
   "outputs": [
    {
     "data": {
      "text/plain": [
       "4"
      ]
     },
     "execution_count": 198,
     "metadata": {},
     "output_type": "execute_result"
    }
   ],
   "source": [
    "f(2)"
   ]
  },
  {
   "cell_type": "code",
   "execution_count": 199,
   "metadata": {},
   "outputs": [
    {
     "data": {
      "text/plain": [
       "f (generic function with 2 methods)"
      ]
     },
     "execution_count": 199,
     "metadata": {},
     "output_type": "execute_result"
    }
   ],
   "source": [
    "f(x,y) = x*2 - y"
   ]
  },
  {
   "cell_type": "code",
   "execution_count": 200,
   "metadata": {},
   "outputs": [
    {
     "data": {
      "text/plain": [
       "1"
      ]
     },
     "execution_count": 200,
     "metadata": {},
     "output_type": "execute_result"
    }
   ],
   "source": [
    "f(2,3)"
   ]
  },
  {
   "cell_type": "code",
   "execution_count": 201,
   "metadata": {},
   "outputs": [
    {
     "data": {
      "text/plain": [
       "multiply (generic function with 1 method)"
      ]
     },
     "execution_count": 201,
     "metadata": {},
     "output_type": "execute_result"
    }
   ],
   "source": [
    "function multiply(x,y) # standrd way of writing function\n",
    "    return x*y \n",
    "end"
   ]
  },
  {
   "cell_type": "code",
   "execution_count": 202,
   "metadata": {},
   "outputs": [
    {
     "data": {
      "text/plain": [
       "9"
      ]
     },
     "execution_count": 202,
     "metadata": {},
     "output_type": "execute_result"
    }
   ],
   "source": [
    "multiply(3,3)"
   ]
  },
  {
   "cell_type": "code",
   "execution_count": 203,
   "metadata": {},
   "outputs": [
    {
     "data": {
      "text/plain": [
       "convert_meter_to_inch (generic function with 2 methods)"
      ]
     },
     "execution_count": 203,
     "metadata": {},
     "output_type": "execute_result"
    }
   ],
   "source": [
    "function convert_meter_to_inch(val)\n",
    "    return val * 39.37\n",
    "end"
   ]
  },
  {
   "cell_type": "code",
   "execution_count": 204,
   "metadata": {},
   "outputs": [
    {
     "data": {
      "text/plain": [
       "59.05499999999999"
      ]
     },
     "execution_count": 204,
     "metadata": {},
     "output_type": "execute_result"
    }
   ],
   "source": [
    "convert_meter_to_inch(1.5)"
   ]
  },
  {
   "cell_type": "code",
   "execution_count": 205,
   "metadata": {},
   "outputs": [
    {
     "data": {
      "text/plain": [
       "bmi (generic function with 1 method)"
      ]
     },
     "execution_count": 205,
     "metadata": {},
     "output_type": "execute_result"
    }
   ],
   "source": [
    "function bmi(kg,m)\n",
    "    return kg/m^2\n",
    "end"
   ]
  },
  {
   "cell_type": "code",
   "execution_count": 206,
   "metadata": {},
   "outputs": [
    {
     "data": {
      "text/plain": [
       "0.0020284798571950182"
      ]
     },
     "execution_count": 206,
     "metadata": {},
     "output_type": "execute_result"
    }
   ],
   "source": [
    "bmi(50,157)"
   ]
  },
  {
   "cell_type": "code",
   "execution_count": 207,
   "metadata": {},
   "outputs": [
    {
     "data": {
      "text/plain": [
       "convert_meter_to_inch (generic function with 2 methods)"
      ]
     },
     "execution_count": 207,
     "metadata": {},
     "output_type": "execute_result"
    }
   ],
   "source": [
    "function convert_meter_to_inch(val, name= \"Patron\")\n",
    "    if name == \"Patron\"\n",
    "        println(\"value for name is not supplied\")\n",
    "    else\n",
    "        println(\"Hi \",name,\" the conversetion values is \")\n",
    "    end\n",
    "        return val * 39.37\n",
    "end\n"
   ]
  },
  {
   "cell_type": "code",
   "execution_count": 208,
   "metadata": {},
   "outputs": [
    {
     "name": "stdout",
     "output_type": "stream",
     "text": [
      "value for name is not supplied\n"
     ]
    },
    {
     "data": {
      "text/plain": [
       "90.55099999999999"
      ]
     },
     "execution_count": 208,
     "metadata": {},
     "output_type": "execute_result"
    }
   ],
   "source": [
    "convert_meter_to_inch(2.3)"
   ]
  },
  {
   "cell_type": "code",
   "execution_count": 209,
   "metadata": {},
   "outputs": [
    {
     "name": "stdout",
     "output_type": "stream",
     "text": [
      "Hi ABC the conversetion values is \n"
     ]
    },
    {
     "data": {
      "text/plain": [
       "90.55099999999999"
      ]
     },
     "execution_count": 209,
     "metadata": {},
     "output_type": "execute_result"
    }
   ],
   "source": [
    "convert_meter_to_inch(2.3, \"ABC\")"
   ]
  },
  {
   "cell_type": "markdown",
   "metadata": {},
   "source": [
    "### Formatting numbers and string"
   ]
  },
  {
   "cell_type": "code",
   "execution_count": 210,
   "metadata": {},
   "outputs": [],
   "source": [
    "using Printf"
   ]
  },
  {
   "cell_type": "code",
   "execution_count": 211,
   "metadata": {},
   "outputs": [],
   "source": [
    "name =\"Abc\" ; #semocolen will not print the name but will sotre it"
   ]
  },
  {
   "cell_type": "code",
   "execution_count": 212,
   "metadata": {},
   "outputs": [
    {
     "name": "stdout",
     "output_type": "stream",
     "text": [
      "Hello Abc"
     ]
    }
   ],
   "source": [
    "@printf(\"Hello %s\", name)"
   ]
  },
  {
   "cell_type": "code",
   "execution_count": 213,
   "metadata": {},
   "outputs": [
    {
     "data": {
      "text/plain": [
       "\"Hello Abc\""
      ]
     },
     "execution_count": 213,
     "metadata": {},
     "output_type": "execute_result"
    }
   ],
   "source": [
    "@sprintf(\"Hello %s\", name) #pure string based output"
   ]
  },
  {
   "cell_type": "code",
   "execution_count": 214,
   "metadata": {},
   "outputs": [
    {
     "name": "stdout",
     "output_type": "stream",
     "text": [
      "i"
     ]
    }
   ],
   "source": [
    "ch = 'i' #character format\n",
    "@printf(\"%c\",ch) # c belong to character"
   ]
  },
  {
   "cell_type": "code",
   "execution_count": 215,
   "metadata": {},
   "outputs": [
    {
     "name": "stdout",
     "output_type": "stream",
     "text": [
      "Value of x is 100"
     ]
    }
   ],
   "source": [
    "x = 100\n",
    "@printf(\"Value of x is %d\",x) #d belongs to integer"
   ]
  },
  {
   "cell_type": "code",
   "execution_count": 216,
   "metadata": {},
   "outputs": [
    {
     "name": "stdout",
     "output_type": "stream",
     "text": [
      "Value of y is 100.050000"
     ]
    }
   ],
   "source": [
    "y = 100.05\n",
    "@printf(\"Value of y is %f\",y) # f belongs to float"
   ]
  },
  {
   "cell_type": "code",
   "execution_count": 217,
   "metadata": {},
   "outputs": [
    {
     "name": "stdout",
     "output_type": "stream",
     "text": [
      "Value of y is 100.05"
     ]
    }
   ],
   "source": [
    "@printf(\"Value of y is %.2f\",y) #just two number after decimal"
   ]
  },
  {
   "cell_type": "markdown",
   "metadata": {},
   "source": [
    "### Working with real data files"
   ]
  },
  {
   "cell_type": "code",
   "execution_count": 218,
   "metadata": {},
   "outputs": [
    {
     "name": "stderr",
     "output_type": "stream",
     "text": [
      "\u001b[32m\u001b[1m   Resolving\u001b[22m\u001b[39m package versions...\n",
      "\u001b[32m\u001b[1m  No Changes\u001b[22m\u001b[39m to `C:\\Users\\SIDDHESH\\.julia\\environments\\v1.7\\Project.toml`\n",
      "\u001b[32m\u001b[1m  No Changes\u001b[22m\u001b[39m to `C:\\Users\\SIDDHESH\\.julia\\environments\\v1.7\\Manifest.toml`\n"
     ]
    }
   ],
   "source": [
    "using Pkg  # importing csv package\n",
    "Pkg.add(\"CSV\")"
   ]
  },
  {
   "cell_type": "code",
   "execution_count": 219,
   "metadata": {},
   "outputs": [
    {
     "name": "stderr",
     "output_type": "stream",
     "text": [
      "\u001b[32m\u001b[1m   Resolving\u001b[22m\u001b[39m package versions...\n",
      "\u001b[32m\u001b[1m  No Changes\u001b[22m\u001b[39m to `C:\\Users\\SIDDHESH\\.julia\\environments\\v1.7\\Project.toml`\n",
      "\u001b[32m\u001b[1m  No Changes\u001b[22m\u001b[39m to `C:\\Users\\SIDDHESH\\.julia\\environments\\v1.7\\Manifest.toml`\n"
     ]
    }
   ],
   "source": [
    "Pkg.add(\"DataFrames\")\n",
    "# importing package data frames"
   ]
  },
  {
   "cell_type": "code",
   "execution_count": 220,
   "metadata": {},
   "outputs": [],
   "source": [
    "using CSV \n",
    "using DataFrames"
   ]
  },
  {
   "cell_type": "code",
   "execution_count": 221,
   "metadata": {},
   "outputs": [],
   "source": [
    "iris = CSV.read(\"iris.csv\",DataFrame, normalizenames = true); # reading data file "
   ]
  },
  {
   "cell_type": "code",
   "execution_count": 222,
   "metadata": {},
   "outputs": [
    {
     "data": {
      "text/plain": [
       "DataFrame"
      ]
     },
     "execution_count": 222,
     "metadata": {},
     "output_type": "execute_result"
    }
   ],
   "source": [
    "typeof(iris)"
   ]
  },
  {
   "cell_type": "code",
   "execution_count": 223,
   "metadata": {},
   "outputs": [
    {
     "data": {
      "text/plain": [
       "6-element Vector{String}:\n",
       " \"Column1\"\n",
       " \"Sepal_Length\"\n",
       " \"Sepal_Width\"\n",
       " \"Petal_Length\"\n",
       " \"Petal_Width\"\n",
       " \"Species\""
      ]
     },
     "execution_count": 223,
     "metadata": {},
     "output_type": "execute_result"
    }
   ],
   "source": [
    "names(iris) #column names "
   ]
  },
  {
   "cell_type": "code",
   "execution_count": 224,
   "metadata": {},
   "outputs": [
    {
     "data": {
      "text/plain": [
       "(150, 6)"
      ]
     },
     "execution_count": 224,
     "metadata": {},
     "output_type": "execute_result"
    }
   ],
   "source": [
    "size(iris) # number of rows and cols"
   ]
  },
  {
   "cell_type": "code",
   "execution_count": 225,
   "metadata": {},
   "outputs": [
    {
     "data": {
      "text/html": [
       "<div class=\"data-frame\"><p>5 rows × 6 columns</p><table class=\"data-frame\"><thead><tr><th></th><th>Column1</th><th>Sepal_Length</th><th>Sepal_Width</th><th>Petal_Length</th><th>Petal_Width</th><th>Species</th></tr><tr><th></th><th title=\"Int64\">Int64</th><th title=\"Float64\">Float64</th><th title=\"Float64\">Float64</th><th title=\"Float64\">Float64</th><th title=\"Float64\">Float64</th><th title=\"String15\">String15</th></tr></thead><tbody><tr><th>1</th><td>1</td><td>5.1</td><td>3.5</td><td>1.4</td><td>0.2</td><td>setosa</td></tr><tr><th>2</th><td>2</td><td>4.9</td><td>3.0</td><td>1.4</td><td>0.2</td><td>setosa</td></tr><tr><th>3</th><td>3</td><td>4.7</td><td>3.2</td><td>1.3</td><td>0.2</td><td>setosa</td></tr><tr><th>4</th><td>4</td><td>4.6</td><td>3.1</td><td>1.5</td><td>0.2</td><td>setosa</td></tr><tr><th>5</th><td>5</td><td>5.0</td><td>3.6</td><td>1.4</td><td>0.2</td><td>setosa</td></tr></tbody></table></div>"
      ],
      "text/latex": [
       "\\begin{tabular}{r|cccccc}\n",
       "\t& Column1 & Sepal\\_Length & Sepal\\_Width & Petal\\_Length & Petal\\_Width & Species\\\\\n",
       "\t\\hline\n",
       "\t& Int64 & Float64 & Float64 & Float64 & Float64 & String15\\\\\n",
       "\t\\hline\n",
       "\t1 & 1 & 5.1 & 3.5 & 1.4 & 0.2 & setosa \\\\\n",
       "\t2 & 2 & 4.9 & 3.0 & 1.4 & 0.2 & setosa \\\\\n",
       "\t3 & 3 & 4.7 & 3.2 & 1.3 & 0.2 & setosa \\\\\n",
       "\t4 & 4 & 4.6 & 3.1 & 1.5 & 0.2 & setosa \\\\\n",
       "\t5 & 5 & 5.0 & 3.6 & 1.4 & 0.2 & setosa \\\\\n",
       "\\end{tabular}\n"
      ],
      "text/plain": [
       "\u001b[1m5×6 DataFrame\u001b[0m\n",
       "\u001b[1m Row \u001b[0m│\u001b[1m Column1 \u001b[0m\u001b[1m Sepal_Length \u001b[0m\u001b[1m Sepal_Width \u001b[0m\u001b[1m Petal_Length \u001b[0m\u001b[1m Petal_Width \u001b[0m\u001b[1m Species \u001b[0m ⋯\n",
       "\u001b[1m     \u001b[0m│\u001b[90m Int64   \u001b[0m\u001b[90m Float64      \u001b[0m\u001b[90m Float64     \u001b[0m\u001b[90m Float64      \u001b[0m\u001b[90m Float64     \u001b[0m\u001b[90m String15\u001b[0m ⋯\n",
       "─────┼──────────────────────────────────────────────────────────────────────────\n",
       "   1 │       1           5.1          3.5           1.4          0.2  setosa   ⋯\n",
       "   2 │       2           4.9          3.0           1.4          0.2  setosa\n",
       "   3 │       3           4.7          3.2           1.3          0.2  setosa\n",
       "   4 │       4           4.6          3.1           1.5          0.2  setosa\n",
       "   5 │       5           5.0          3.6           1.4          0.2  setosa   ⋯"
      ]
     },
     "execution_count": 225,
     "metadata": {},
     "output_type": "execute_result"
    }
   ],
   "source": [
    "first(iris, 5) # display first 5 rows of data frame"
   ]
  },
  {
   "cell_type": "code",
   "execution_count": 228,
   "metadata": {},
   "outputs": [
    {
     "data": {
      "text/html": [
       "<div class=\"data-frame\"><p>6 rows × 7 columns</p><table class=\"data-frame\"><thead><tr><th></th><th>variable</th><th>mean</th><th>min</th><th>median</th><th>max</th><th>nmissing</th><th>eltype</th></tr><tr><th></th><th title=\"Symbol\">Symbol</th><th title=\"Union{Nothing, Float64}\">Union…</th><th title=\"Any\">Any</th><th title=\"Union{Nothing, Float64}\">Union…</th><th title=\"Any\">Any</th><th title=\"Int64\">Int64</th><th title=\"DataType\">DataType</th></tr></thead><tbody><tr><th>1</th><td>Column1</td><td>75.5</td><td>1</td><td>75.5</td><td>150</td><td>0</td><td>Int64</td></tr><tr><th>2</th><td>Sepal_Length</td><td>5.84333</td><td>4.3</td><td>5.8</td><td>7.9</td><td>0</td><td>Float64</td></tr><tr><th>3</th><td>Sepal_Width</td><td>3.05733</td><td>2.0</td><td>3.0</td><td>4.4</td><td>0</td><td>Float64</td></tr><tr><th>4</th><td>Petal_Length</td><td>3.758</td><td>1.0</td><td>4.35</td><td>6.9</td><td>0</td><td>Float64</td></tr><tr><th>5</th><td>Petal_Width</td><td>1.19933</td><td>0.1</td><td>1.3</td><td>2.5</td><td>0</td><td>Float64</td></tr><tr><th>6</th><td>Species</td><td></td><td>setosa</td><td></td><td>virginica</td><td>0</td><td>String15</td></tr></tbody></table></div>"
      ],
      "text/latex": [
       "\\begin{tabular}{r|ccccccc}\n",
       "\t& variable & mean & min & median & max & nmissing & eltype\\\\\n",
       "\t\\hline\n",
       "\t& Symbol & Union… & Any & Union… & Any & Int64 & DataType\\\\\n",
       "\t\\hline\n",
       "\t1 & Column1 & 75.5 & 1 & 75.5 & 150 & 0 & Int64 \\\\\n",
       "\t2 & Sepal\\_Length & 5.84333 & 4.3 & 5.8 & 7.9 & 0 & Float64 \\\\\n",
       "\t3 & Sepal\\_Width & 3.05733 & 2.0 & 3.0 & 4.4 & 0 & Float64 \\\\\n",
       "\t4 & Petal\\_Length & 3.758 & 1.0 & 4.35 & 6.9 & 0 & Float64 \\\\\n",
       "\t5 & Petal\\_Width & 1.19933 & 0.1 & 1.3 & 2.5 & 0 & Float64 \\\\\n",
       "\t6 & Species &  & setosa &  & virginica & 0 & String15 \\\\\n",
       "\\end{tabular}\n"
      ],
      "text/plain": [
       "\u001b[1m6×7 DataFrame\u001b[0m\n",
       "\u001b[1m Row \u001b[0m│\u001b[1m variable     \u001b[0m\u001b[1m mean    \u001b[0m\u001b[1m min    \u001b[0m\u001b[1m median \u001b[0m\u001b[1m max       \u001b[0m\u001b[1m nmissing \u001b[0m\u001b[1m eltype   \u001b[0m\n",
       "\u001b[1m     \u001b[0m│\u001b[90m Symbol       \u001b[0m\u001b[90m Union…  \u001b[0m\u001b[90m Any    \u001b[0m\u001b[90m Union… \u001b[0m\u001b[90m Any       \u001b[0m\u001b[90m Int64    \u001b[0m\u001b[90m DataType \u001b[0m\n",
       "─────┼──────────────────────────────────────────────────────────────────────\n",
       "   1 │ Column1       75.5     1       75.5    150               0  Int64\n",
       "   2 │ Sepal_Length  5.84333  4.3     5.8     7.9               0  Float64\n",
       "   3 │ Sepal_Width   3.05733  2.0     3.0     4.4               0  Float64\n",
       "   4 │ Petal_Length  3.758    1.0     4.35    6.9               0  Float64\n",
       "   5 │ Petal_Width   1.19933  0.1     1.3     2.5               0  Float64\n",
       "   6 │ Species      \u001b[90m         \u001b[0m setosa \u001b[90m        \u001b[0m virginica         0  String15"
      ]
     },
     "execution_count": 228,
     "metadata": {},
     "output_type": "execute_result"
    }
   ],
   "source": [
    "describe(iris) # descriptive statistical values"
   ]
  },
  {
   "cell_type": "code",
   "execution_count": 229,
   "metadata": {},
   "outputs": [
    {
     "data": {
      "text/plain": [
       "150-element PooledArrays.PooledVector{String15, UInt32, Vector{UInt32}}:\n",
       " \"setosa\"\n",
       " \"setosa\"\n",
       " \"setosa\"\n",
       " \"setosa\"\n",
       " \"setosa\"\n",
       " \"setosa\"\n",
       " \"setosa\"\n",
       " \"setosa\"\n",
       " \"setosa\"\n",
       " \"setosa\"\n",
       " \"setosa\"\n",
       " \"setosa\"\n",
       " \"setosa\"\n",
       " ⋮\n",
       " \"virginica\"\n",
       " \"virginica\"\n",
       " \"virginica\"\n",
       " \"virginica\"\n",
       " \"virginica\"\n",
       " \"virginica\"\n",
       " \"virginica\"\n",
       " \"virginica\"\n",
       " \"virginica\"\n",
       " \"virginica\"\n",
       " \"virginica\"\n",
       " \"virginica\""
      ]
     },
     "execution_count": 229,
     "metadata": {},
     "output_type": "execute_result"
    }
   ],
   "source": [
    "iris.Species "
   ]
  },
  {
   "cell_type": "code",
   "execution_count": 230,
   "metadata": {},
   "outputs": [
    {
     "data": {
      "text/plain": [
       "150-element Vector{Float64}:\n",
       " 3.5\n",
       " 3.0\n",
       " 3.2\n",
       " 3.1\n",
       " 3.6\n",
       " 3.9\n",
       " 3.4\n",
       " 3.4\n",
       " 2.9\n",
       " 3.1\n",
       " 3.7\n",
       " 3.4\n",
       " 3.0\n",
       " ⋮\n",
       " 3.0\n",
       " 3.1\n",
       " 3.1\n",
       " 3.1\n",
       " 2.7\n",
       " 3.2\n",
       " 3.3\n",
       " 3.0\n",
       " 2.5\n",
       " 3.0\n",
       " 3.4\n",
       " 3.0"
      ]
     },
     "execution_count": 230,
     "metadata": {},
     "output_type": "execute_result"
    }
   ],
   "source": [
    "iris[:,3] #slicling"
   ]
  },
  {
   "cell_type": "code",
   "execution_count": 231,
   "metadata": {},
   "outputs": [
    {
     "data": {
      "text/html": [
       "<div class=\"data-frame\"><p>5 rows × 6 columns</p><table class=\"data-frame\"><thead><tr><th></th><th>Column1</th><th>Sepal_Length</th><th>Sepal_Width</th><th>Petal_Length</th><th>Petal_Width</th><th>Species</th></tr><tr><th></th><th title=\"Int64\">Int64</th><th title=\"Float64\">Float64</th><th title=\"Float64\">Float64</th><th title=\"Float64\">Float64</th><th title=\"Float64\">Float64</th><th title=\"String15\">String15</th></tr></thead><tbody><tr><th>1</th><td>1</td><td>5.1</td><td>3.5</td><td>1.4</td><td>0.2</td><td>setosa</td></tr><tr><th>2</th><td>2</td><td>4.9</td><td>3.0</td><td>1.4</td><td>0.2</td><td>setosa</td></tr><tr><th>3</th><td>3</td><td>4.7</td><td>3.2</td><td>1.3</td><td>0.2</td><td>setosa</td></tr><tr><th>4</th><td>4</td><td>4.6</td><td>3.1</td><td>1.5</td><td>0.2</td><td>setosa</td></tr><tr><th>5</th><td>5</td><td>5.0</td><td>3.6</td><td>1.4</td><td>0.2</td><td>setosa</td></tr></tbody></table></div>"
      ],
      "text/latex": [
       "\\begin{tabular}{r|cccccc}\n",
       "\t& Column1 & Sepal\\_Length & Sepal\\_Width & Petal\\_Length & Petal\\_Width & Species\\\\\n",
       "\t\\hline\n",
       "\t& Int64 & Float64 & Float64 & Float64 & Float64 & String15\\\\\n",
       "\t\\hline\n",
       "\t1 & 1 & 5.1 & 3.5 & 1.4 & 0.2 & setosa \\\\\n",
       "\t2 & 2 & 4.9 & 3.0 & 1.4 & 0.2 & setosa \\\\\n",
       "\t3 & 3 & 4.7 & 3.2 & 1.3 & 0.2 & setosa \\\\\n",
       "\t4 & 4 & 4.6 & 3.1 & 1.5 & 0.2 & setosa \\\\\n",
       "\t5 & 5 & 5.0 & 3.6 & 1.4 & 0.2 & setosa \\\\\n",
       "\\end{tabular}\n"
      ],
      "text/plain": [
       "\u001b[1m5×6 DataFrame\u001b[0m\n",
       "\u001b[1m Row \u001b[0m│\u001b[1m Column1 \u001b[0m\u001b[1m Sepal_Length \u001b[0m\u001b[1m Sepal_Width \u001b[0m\u001b[1m Petal_Length \u001b[0m\u001b[1m Petal_Width \u001b[0m\u001b[1m Species \u001b[0m ⋯\n",
       "\u001b[1m     \u001b[0m│\u001b[90m Int64   \u001b[0m\u001b[90m Float64      \u001b[0m\u001b[90m Float64     \u001b[0m\u001b[90m Float64      \u001b[0m\u001b[90m Float64     \u001b[0m\u001b[90m String15\u001b[0m ⋯\n",
       "─────┼──────────────────────────────────────────────────────────────────────────\n",
       "   1 │       1           5.1          3.5           1.4          0.2  setosa   ⋯\n",
       "   2 │       2           4.9          3.0           1.4          0.2  setosa\n",
       "   3 │       3           4.7          3.2           1.3          0.2  setosa\n",
       "   4 │       4           4.6          3.1           1.5          0.2  setosa\n",
       "   5 │       5           5.0          3.6           1.4          0.2  setosa   ⋯"
      ]
     },
     "execution_count": 231,
     "metadata": {},
     "output_type": "execute_result"
    }
   ],
   "source": [
    "iris[1:5,:] #head"
   ]
  },
  {
   "cell_type": "markdown",
   "metadata": {},
   "source": [
    "### Data Visualization "
   ]
  },
  {
   "cell_type": "code",
   "execution_count": 232,
   "metadata": {},
   "outputs": [
    {
     "name": "stderr",
     "output_type": "stream",
     "text": [
      "\u001b[32m\u001b[1m   Resolving\u001b[22m\u001b[39m package versions...\n",
      "\u001b[32m\u001b[1m   Installed\u001b[22m\u001b[39m Libmount_jll ───────────────── v2.35.0+0\n",
      "\u001b[32m\u001b[1m   Installed\u001b[22m\u001b[39m Xorg_xkbcomp_jll ───────────── v1.4.2+4\n",
      "\u001b[32m\u001b[1m   Installed\u001b[22m\u001b[39m x265_jll ───────────────────── v3.5.0+0\n",
      "\u001b[32m\u001b[1m   Installed\u001b[22m\u001b[39m Opus_jll ───────────────────── v1.3.2+0\n",
      "\u001b[32m\u001b[1m   Installed\u001b[22m\u001b[39m libfdk_aac_jll ─────────────── v2.0.2+0\n",
      "\u001b[32m\u001b[1m   Installed\u001b[22m\u001b[39m GR_jll ─────────────────────── v0.63.0+0\n",
      "\u001b[32m\u001b[1m   Installed\u001b[22m\u001b[39m JpegTurbo_jll ──────────────── v2.1.0+0\n",
      "\u001b[32m\u001b[1m   Installed\u001b[22m\u001b[39m Xorg_xcb_util_wm_jll ───────── v0.4.1+1\n",
      "\u001b[32m\u001b[1m   Installed\u001b[22m\u001b[39m Grisu ──────────────────────── v1.0.2\n",
      "\u001b[32m\u001b[1m   Installed\u001b[22m\u001b[39m EarCut_jll ─────────────────── v2.2.3+0\n",
      "\u001b[32m\u001b[1m   Installed\u001b[22m\u001b[39m Measures ───────────────────── v0.3.1\n",
      "\u001b[32m\u001b[1m   Installed\u001b[22m\u001b[39m Contour ────────────────────── v0.5.7\n",
      "\u001b[32m\u001b[1m   Installed\u001b[22m\u001b[39m StaticArrays ───────────────── v1.2.13\n",
      "\u001b[32m\u001b[1m   Installed\u001b[22m\u001b[39m Xorg_xcb_util_image_jll ────── v0.4.0+1\n",
      "\u001b[32m\u001b[1m   Installed\u001b[22m\u001b[39m PlotUtils ──────────────────── v1.1.2\n",
      "\u001b[32m\u001b[1m   Installed\u001b[22m\u001b[39m RecipesPipeline ────────────── v0.4.1\n",
      "\u001b[32m\u001b[1m   Installed\u001b[22m\u001b[39m Xorg_libpthread_stubs_jll ──── v0.1.0+3\n",
      "\u001b[32m\u001b[1m   Installed\u001b[22m\u001b[39m Cairo_jll ──────────────────── v1.16.1+1\n",
      "\u001b[32m\u001b[1m   Installed\u001b[22m\u001b[39m Xorg_xcb_util_jll ──────────── v0.4.0+1\n",
      "\u001b[32m\u001b[1m   Installed\u001b[22m\u001b[39m Fontconfig_jll ─────────────── v2.13.93+0\n",
      "\u001b[32m\u001b[1m   Installed\u001b[22m\u001b[39m Libgpg_error_jll ───────────── v1.42.0+0\n",
      "\u001b[32m\u001b[1m   Installed\u001b[22m\u001b[39m HTTP ───────────────────────── v0.9.17\n",
      "\u001b[32m\u001b[1m   Installed\u001b[22m\u001b[39m Xorg_libxkbfile_jll ────────── v1.1.0+4\n",
      "\u001b[32m\u001b[1m   Installed\u001b[22m\u001b[39m Xorg_libXinerama_jll ───────── v1.1.4+4\n",
      "\u001b[32m\u001b[1m   Installed\u001b[22m\u001b[39m Xorg_libXau_jll ────────────── v1.0.9+4\n",
      "\u001b[32m\u001b[1m   Installed\u001b[22m\u001b[39m FFMPEG ─────────────────────── v0.4.1\n",
      "\u001b[32m\u001b[1m   Installed\u001b[22m\u001b[39m Xorg_xcb_util_keysyms_jll ──── v0.4.0+1\n",
      "\u001b[32m\u001b[1m   Installed\u001b[22m\u001b[39m Qt5Base_jll ────────────────── v5.15.3+0\n",
      "\u001b[32m\u001b[1m   Installed\u001b[22m\u001b[39m IrrationalConstants ────────── v0.1.1\n",
      "\u001b[32m\u001b[1m   Installed\u001b[22m\u001b[39m Showoff ────────────────────── v1.0.3\n",
      "\u001b[32m\u001b[1m   Installed\u001b[22m\u001b[39m xkbcommon_jll ──────────────── v0.9.1+5\n",
      "\u001b[32m\u001b[1m   Installed\u001b[22m\u001b[39m Bzip2_jll ──────────────────── v1.0.8+0\n",
      "\u001b[32m\u001b[1m   Installed\u001b[22m\u001b[39m HarfBuzz_jll ───────────────── v2.8.1+1\n",
      "\u001b[32m\u001b[1m   Installed\u001b[22m\u001b[39m LZO_jll ────────────────────── v2.10.1+0\n",
      "\u001b[32m\u001b[1m   Installed\u001b[22m\u001b[39m PlotThemes ─────────────────── v2.0.1\n",
      "\u001b[32m\u001b[1m   Installed\u001b[22m\u001b[39m ColorSchemes ───────────────── v3.15.0\n",
      "\u001b[32m\u001b[1m   Installed\u001b[22m\u001b[39m NaNMath ────────────────────── v0.3.6\n",
      "\u001b[32m\u001b[1m   Installed\u001b[22m\u001b[39m FriBidi_jll ────────────────── v1.0.10+0\n",
      "\u001b[32m\u001b[1m   Installed\u001b[22m\u001b[39m GLFW_jll ───────────────────── v3.3.5+1\n",
      "\u001b[32m\u001b[1m   Installed\u001b[22m\u001b[39m UnicodeFun ─────────────────── v0.4.1\n",
      "\u001b[32m\u001b[1m   Installed\u001b[22m\u001b[39m x264_jll ───────────────────── v2021.5.5+0\n",
      "\u001b[32m\u001b[1m   Installed\u001b[22m\u001b[39m FreeType2_jll ──────────────── v2.10.4+0\n",
      "\u001b[32m\u001b[1m   Installed\u001b[22m\u001b[39m GR ─────────────────────────── v0.62.1\n",
      "\u001b[32m\u001b[1m   Installed\u001b[22m\u001b[39m StatsAPI ───────────────────── v1.2.0\n",
      "\u001b[32m\u001b[1m   Installed\u001b[22m\u001b[39m StatsBase ──────────────────── v0.33.13\n",
      "\u001b[32m\u001b[1m   Installed\u001b[22m\u001b[39m Colors ─────────────────────── v0.12.8\n",
      "\u001b[32m\u001b[1m   Installed\u001b[22m\u001b[39m Xorg_libxcb_jll ────────────── v1.13.0+3\n",
      "\u001b[32m\u001b[1m   Installed\u001b[22m\u001b[39m libpng_jll ─────────────────── v1.6.38+0\n",
      "\u001b[32m\u001b[1m   Installed\u001b[22m\u001b[39m Scratch ────────────────────── v1.1.0\n",
      "\u001b[32m\u001b[1m   Installed\u001b[22m\u001b[39m Xorg_libXext_jll ───────────── v1.3.4+4\n",
      "\u001b[32m\u001b[1m   Installed\u001b[22m\u001b[39m Expat_jll ──────────────────── v2.2.10+0\n",
      "\u001b[32m\u001b[1m   Installed\u001b[22m\u001b[39m Zstd_jll ───────────────────── v1.5.0+0\n",
      "\u001b[32m\u001b[1m   Installed\u001b[22m\u001b[39m ColorTypes ─────────────────── v0.11.0\n",
      "\u001b[32m\u001b[1m   Installed\u001b[22m\u001b[39m Libtiff_jll ────────────────── v4.3.0+0\n",
      "\u001b[32m\u001b[1m   Installed\u001b[22m\u001b[39m PCRE_jll ───────────────────── v8.44.0+0\n",
      "\u001b[32m\u001b[1m   Installed\u001b[22m\u001b[39m Plots ──────────────────────── v1.25.3\n",
      "\u001b[32m\u001b[1m   Installed\u001b[22m\u001b[39m Libffi_jll ─────────────────── v3.2.2+1\n",
      "\u001b[32m\u001b[1m   Installed\u001b[22m\u001b[39m Xorg_libXrender_jll ────────── v0.9.10+4\n",
      "\u001b[32m\u001b[1m   Installed\u001b[22m\u001b[39m Ogg_jll ────────────────────── v1.3.5+0\n",
      "\u001b[32m\u001b[1m   Installed\u001b[22m\u001b[39m XSLT_jll ───────────────────── v1.1.34+0\n",
      "\u001b[32m\u001b[1m   Installed\u001b[22m\u001b[39m Xorg_libXi_jll ─────────────── v1.7.10+4\n",
      "\u001b[32m\u001b[1m   Installed\u001b[22m\u001b[39m Xorg_libXcursor_jll ────────── v1.2.0+4\n",
      "\u001b[32m\u001b[1m   Installed\u001b[22m\u001b[39m LogExpFunctions ────────────── v0.3.6\n",
      "\u001b[32m\u001b[1m   Installed\u001b[22m\u001b[39m MacroTools ─────────────────── v0.5.9\n",
      "\u001b[32m\u001b[1m   Installed\u001b[22m\u001b[39m ChainRulesCore ─────────────── v1.11.2\n",
      "\u001b[32m\u001b[1m   Installed\u001b[22m\u001b[39m InverseFunctions ───────────── v0.1.2\n",
      "\u001b[32m\u001b[1m   Installed\u001b[22m\u001b[39m Libuuid_jll ────────────────── v2.36.0+0\n",
      "\u001b[32m\u001b[1m   Installed\u001b[22m\u001b[39m Wayland_protocols_jll ──────── v1.23.0+0\n",
      "\u001b[32m\u001b[1m   Installed\u001b[22m\u001b[39m Xorg_xcb_util_renderutil_jll ─ v0.3.9+1\n",
      "\u001b[32m\u001b[1m   Installed\u001b[22m\u001b[39m Graphite2_jll ──────────────── v1.3.14+0\n",
      "\u001b[32m\u001b[1m   Installed\u001b[22m\u001b[39m DocStringExtensions ────────── v0.8.6\n",
      "\u001b[32m\u001b[1m   Installed\u001b[22m\u001b[39m Adapt ──────────────────────── v3.3.1\n",
      "\u001b[32m\u001b[1m   Installed\u001b[22m\u001b[39m libass_jll ─────────────────── v0.15.1+0\n",
      "\u001b[32m\u001b[1m   Installed\u001b[22m\u001b[39m Pixman_jll ─────────────────── v0.40.1+0\n",
      "\u001b[32m\u001b[1m   Installed\u001b[22m\u001b[39m XML2_jll ───────────────────── v2.9.12+0\n",
      "\u001b[32m\u001b[1m   Installed\u001b[22m\u001b[39m Gettext_jll ────────────────── v0.21.0+0\n",
      "\u001b[32m\u001b[1m   Installed\u001b[22m\u001b[39m Wayland_jll ────────────────── v1.19.0+0\n",
      "\u001b[32m\u001b[1m   Installed\u001b[22m\u001b[39m Xorg_xtrans_jll ────────────── v1.4.0+3\n",
      "\u001b[32m\u001b[1m   Installed\u001b[22m\u001b[39m OpenSSL_jll ────────────────── v1.1.10+0\n",
      "\u001b[32m\u001b[1m   Installed\u001b[22m\u001b[39m FFMPEG_jll ─────────────────── v4.4.0+0\n",
      "\u001b[32m\u001b[1m   Installed\u001b[22m\u001b[39m Latexify ───────────────────── v0.15.9\n",
      "\u001b[32m\u001b[1m   Installed\u001b[22m\u001b[39m IterTools ──────────────────── v1.4.0\n",
      "\u001b[32m\u001b[1m   Installed\u001b[22m\u001b[39m GeometryBasics ─────────────── v0.4.1\n",
      "\u001b[32m\u001b[1m   Installed\u001b[22m\u001b[39m Libgcrypt_jll ──────────────── v1.8.7+0\n",
      "\u001b[32m\u001b[1m   Installed\u001b[22m\u001b[39m Xorg_xkeyboard_config_jll ──── v2.27.0+4\n",
      "\u001b[32m\u001b[1m   Installed\u001b[22m\u001b[39m Xorg_libXrandr_jll ─────────── v1.5.2+4\n",
      "\u001b[32m\u001b[1m   Installed\u001b[22m\u001b[39m FixedPointNumbers ──────────── v0.8.4\n",
      "\u001b[32m\u001b[1m   Installed\u001b[22m\u001b[39m LAME_jll ───────────────────── v3.100.1+0\n",
      "\u001b[32m\u001b[1m   Installed\u001b[22m\u001b[39m Xorg_libXfixes_jll ─────────── v5.0.3+4\n",
      "\u001b[32m\u001b[1m   Installed\u001b[22m\u001b[39m RecipesBase ────────────────── v1.2.1\n",
      "\u001b[32m\u001b[1m   Installed\u001b[22m\u001b[39m Libiconv_jll ───────────────── v1.16.1+1\n",
      "\u001b[32m\u001b[1m   Installed\u001b[22m\u001b[39m IniFile ────────────────────── v0.5.0\n",
      "\u001b[32m\u001b[1m   Installed\u001b[22m\u001b[39m URIs ───────────────────────── v1.3.0\n",
      "\u001b[32m\u001b[1m   Installed\u001b[22m\u001b[39m LaTeXStrings ───────────────── v1.3.0\n",
      "\u001b[32m\u001b[1m   Installed\u001b[22m\u001b[39m libvorbis_jll ──────────────── v1.3.7+0\n",
      "\u001b[32m\u001b[1m   Installed\u001b[22m\u001b[39m StructArrays ───────────────── v0.6.3\n",
      "\u001b[32m\u001b[1m   Installed\u001b[22m\u001b[39m Libglvnd_jll ───────────────── v1.3.0+3\n",
      "\u001b[32m\u001b[1m   Installed\u001b[22m\u001b[39m Glib_jll ───────────────────── v2.68.3+2\n",
      "\u001b[32m\u001b[1m   Installed\u001b[22m\u001b[39m Xorg_libX11_jll ────────────── v1.6.9+4\n",
      "\u001b[32m\u001b[1m   Installed\u001b[22m\u001b[39m Requires ───────────────────── v1.2.0\n",
      "\u001b[32m\u001b[1m   Installed\u001b[22m\u001b[39m Xorg_libXdmcp_jll ──────────── v1.1.3+4\n",
      "\u001b[32m\u001b[1m   Installed\u001b[22m\u001b[39m Unzip ──────────────────────── v0.1.2\n",
      "\u001b[32m\u001b[1m   Installed\u001b[22m\u001b[39m ChangesOfVariables ─────────── v0.1.2\n",
      "\u001b[32m\u001b[1m    Updating\u001b[22m\u001b[39m `C:\\Users\\SIDDHESH\\.julia\\environments\\v1.7\\Project.toml`\n",
      " \u001b[90m [91a5bcdd] \u001b[39m\u001b[92m+ Plots v1.25.3\u001b[39m\n",
      "\u001b[32m\u001b[1m    Updating\u001b[22m\u001b[39m `C:\\Users\\SIDDHESH\\.julia\\environments\\v1.7\\Manifest.toml`\n",
      " \u001b[90m [79e6a3ab] \u001b[39m\u001b[92m+ Adapt v3.3.1\u001b[39m\n",
      " \u001b[90m [d360d2e6] \u001b[39m\u001b[92m+ ChainRulesCore v1.11.2\u001b[39m\n",
      " \u001b[90m [9e997f8a] \u001b[39m\u001b[92m+ ChangesOfVariables v0.1.2\u001b[39m\n",
      " \u001b[90m [35d6a980] \u001b[39m\u001b[92m+ ColorSchemes v3.15.0\u001b[39m\n",
      " \u001b[90m [3da002f7] \u001b[39m\u001b[92m+ ColorTypes v0.11.0\u001b[39m\n",
      " \u001b[90m [5ae59095] \u001b[39m\u001b[92m+ Colors v0.12.8\u001b[39m\n",
      " \u001b[90m [d38c429a] \u001b[39m\u001b[92m+ Contour v0.5.7\u001b[39m\n",
      " \u001b[90m [ffbed154] \u001b[39m\u001b[92m+ DocStringExtensions v0.8.6\u001b[39m\n",
      " \u001b[90m [c87230d0] \u001b[39m\u001b[92m+ FFMPEG v0.4.1\u001b[39m\n",
      " \u001b[90m [53c48c17] \u001b[39m\u001b[92m+ FixedPointNumbers v0.8.4\u001b[39m\n",
      " \u001b[90m [28b8d3ca] \u001b[39m\u001b[92m+ GR v0.62.1\u001b[39m\n",
      " \u001b[90m [5c1252a2] \u001b[39m\u001b[92m+ GeometryBasics v0.4.1\u001b[39m\n",
      " \u001b[90m [42e2da0e] \u001b[39m\u001b[92m+ Grisu v1.0.2\u001b[39m\n",
      " \u001b[90m [cd3eb016] \u001b[39m\u001b[92m+ HTTP v0.9.17\u001b[39m\n",
      " \u001b[90m [83e8ac13] \u001b[39m\u001b[92m+ IniFile v0.5.0\u001b[39m\n",
      " \u001b[90m [3587e190] \u001b[39m\u001b[92m+ InverseFunctions v0.1.2\u001b[39m\n",
      " \u001b[90m [92d709cd] \u001b[39m\u001b[92m+ IrrationalConstants v0.1.1\u001b[39m\n",
      " \u001b[90m [c8e1da08] \u001b[39m\u001b[92m+ IterTools v1.4.0\u001b[39m\n",
      " \u001b[90m [b964fa9f] \u001b[39m\u001b[92m+ LaTeXStrings v1.3.0\u001b[39m\n",
      " \u001b[90m [23fbe1c1] \u001b[39m\u001b[92m+ Latexify v0.15.9\u001b[39m\n",
      " \u001b[90m [2ab3a3ac] \u001b[39m\u001b[92m+ LogExpFunctions v0.3.6\u001b[39m\n",
      " \u001b[90m [1914dd2f] \u001b[39m\u001b[92m+ MacroTools v0.5.9\u001b[39m\n",
      " \u001b[90m [442fdcdd] \u001b[39m\u001b[92m+ Measures v0.3.1\u001b[39m\n",
      " \u001b[90m [77ba4419] \u001b[39m\u001b[92m+ NaNMath v0.3.6\u001b[39m\n",
      " \u001b[90m [ccf2f8ad] \u001b[39m\u001b[92m+ PlotThemes v2.0.1\u001b[39m\n",
      " \u001b[90m [995b91a9] \u001b[39m\u001b[92m+ PlotUtils v1.1.2\u001b[39m\n",
      " \u001b[90m [91a5bcdd] \u001b[39m\u001b[92m+ Plots v1.25.3\u001b[39m\n",
      " \u001b[90m [3cdcf5f2] \u001b[39m\u001b[92m+ RecipesBase v1.2.1\u001b[39m\n",
      " \u001b[90m [01d81517] \u001b[39m\u001b[92m+ RecipesPipeline v0.4.1\u001b[39m\n",
      " \u001b[90m [ae029012] \u001b[39m\u001b[92m+ Requires v1.2.0\u001b[39m\n",
      " \u001b[90m [6c6a2e73] \u001b[39m\u001b[92m+ Scratch v1.1.0\u001b[39m\n",
      " \u001b[90m [992d4aef] \u001b[39m\u001b[92m+ Showoff v1.0.3\u001b[39m\n",
      " \u001b[90m [90137ffa] \u001b[39m\u001b[92m+ StaticArrays v1.2.13\u001b[39m\n",
      " \u001b[90m [82ae8749] \u001b[39m\u001b[92m+ StatsAPI v1.2.0\u001b[39m\n",
      " \u001b[90m [2913bbd2] \u001b[39m\u001b[92m+ StatsBase v0.33.13\u001b[39m\n",
      " \u001b[90m [09ab397b] \u001b[39m\u001b[92m+ StructArrays v0.6.3\u001b[39m\n",
      " \u001b[90m [5c2747f8] \u001b[39m\u001b[92m+ URIs v1.3.0\u001b[39m\n",
      " \u001b[90m [1cfade01] \u001b[39m\u001b[92m+ UnicodeFun v0.4.1\u001b[39m\n",
      " \u001b[90m [41fe7b60] \u001b[39m\u001b[92m+ Unzip v0.1.2\u001b[39m\n",
      " \u001b[90m [6e34b625] \u001b[39m\u001b[92m+ Bzip2_jll v1.0.8+0\u001b[39m\n",
      " \u001b[90m [83423d85] \u001b[39m\u001b[92m+ Cairo_jll v1.16.1+1\u001b[39m\n",
      " \u001b[90m [5ae413db] \u001b[39m\u001b[92m+ EarCut_jll v2.2.3+0\u001b[39m\n",
      " \u001b[90m [2e619515] \u001b[39m\u001b[92m+ Expat_jll v2.2.10+0\u001b[39m\n",
      " \u001b[90m [b22a6f82] \u001b[39m\u001b[92m+ FFMPEG_jll v4.4.0+0\u001b[39m\n",
      " \u001b[90m [a3f928ae] \u001b[39m\u001b[92m+ Fontconfig_jll v2.13.93+0\u001b[39m\n",
      " \u001b[90m [d7e528f0] \u001b[39m\u001b[92m+ FreeType2_jll v2.10.4+0\u001b[39m\n",
      " \u001b[90m [559328eb] \u001b[39m\u001b[92m+ FriBidi_jll v1.0.10+0\u001b[39m\n",
      " \u001b[90m [0656b61e] \u001b[39m\u001b[92m+ GLFW_jll v3.3.5+1\u001b[39m\n",
      " \u001b[90m [d2c73de3] \u001b[39m\u001b[92m+ GR_jll v0.63.0+0\u001b[39m\n",
      " \u001b[90m [78b55507] \u001b[39m\u001b[92m+ Gettext_jll v0.21.0+0\u001b[39m\n",
      " \u001b[90m [7746bdde] \u001b[39m\u001b[92m+ Glib_jll v2.68.3+2\u001b[39m\n",
      " \u001b[90m [3b182d85] \u001b[39m\u001b[92m+ Graphite2_jll v1.3.14+0\u001b[39m\n",
      " \u001b[90m [2e76f6c2] \u001b[39m\u001b[92m+ HarfBuzz_jll v2.8.1+1\u001b[39m\n",
      " \u001b[90m [aacddb02] \u001b[39m\u001b[92m+ JpegTurbo_jll v2.1.0+0\u001b[39m\n",
      " \u001b[90m [c1c5ebd0] \u001b[39m\u001b[92m+ LAME_jll v3.100.1+0\u001b[39m\n",
      " \u001b[90m [dd4b983a] \u001b[39m\u001b[92m+ LZO_jll v2.10.1+0\u001b[39m\n",
      " \u001b[90m [e9f186c6] \u001b[39m\u001b[92m+ Libffi_jll v3.2.2+1\u001b[39m\n",
      " \u001b[90m [d4300ac3] \u001b[39m\u001b[92m+ Libgcrypt_jll v1.8.7+0\u001b[39m\n",
      " \u001b[90m [7e76a0d4] \u001b[39m\u001b[92m+ Libglvnd_jll v1.3.0+3\u001b[39m\n",
      " \u001b[90m [7add5ba3] \u001b[39m\u001b[92m+ Libgpg_error_jll v1.42.0+0\u001b[39m\n",
      " \u001b[90m [94ce4f54] \u001b[39m\u001b[92m+ Libiconv_jll v1.16.1+1\u001b[39m\n",
      " \u001b[90m [4b2f31a3] \u001b[39m\u001b[92m+ Libmount_jll v2.35.0+0\u001b[39m\n",
      " \u001b[90m [89763e89] \u001b[39m\u001b[92m+ Libtiff_jll v4.3.0+0\u001b[39m\n",
      " \u001b[90m [38a345b3] \u001b[39m\u001b[92m+ Libuuid_jll v2.36.0+0\u001b[39m\n",
      " \u001b[90m [e7412a2a] \u001b[39m\u001b[92m+ Ogg_jll v1.3.5+0\u001b[39m\n",
      " \u001b[90m [458c3c95] \u001b[39m\u001b[92m+ OpenSSL_jll v1.1.10+0\u001b[39m\n",
      " \u001b[90m [91d4177d] \u001b[39m\u001b[92m+ Opus_jll v1.3.2+0\u001b[39m\n",
      " \u001b[90m [2f80f16e] \u001b[39m\u001b[92m+ PCRE_jll v8.44.0+0\u001b[39m\n",
      " \u001b[90m [30392449] \u001b[39m\u001b[92m+ Pixman_jll v0.40.1+0\u001b[39m\n",
      " \u001b[90m [ea2cea3b] \u001b[39m\u001b[92m+ Qt5Base_jll v5.15.3+0\u001b[39m\n",
      " \u001b[90m [a2964d1f] \u001b[39m\u001b[92m+ Wayland_jll v1.19.0+0\u001b[39m\n",
      " \u001b[90m [2381bf8a] \u001b[39m\u001b[92m+ Wayland_protocols_jll v1.23.0+0\u001b[39m\n",
      " \u001b[90m [02c8fc9c] \u001b[39m\u001b[92m+ XML2_jll v2.9.12+0\u001b[39m\n",
      " \u001b[90m [aed1982a] \u001b[39m\u001b[92m+ XSLT_jll v1.1.34+0\u001b[39m\n",
      " \u001b[90m [4f6342f7] \u001b[39m\u001b[92m+ Xorg_libX11_jll v1.6.9+4\u001b[39m\n",
      " \u001b[90m [0c0b7dd1] \u001b[39m\u001b[92m+ Xorg_libXau_jll v1.0.9+4\u001b[39m\n",
      " \u001b[90m [935fb764] \u001b[39m\u001b[92m+ Xorg_libXcursor_jll v1.2.0+4\u001b[39m\n",
      " \u001b[90m [a3789734] \u001b[39m\u001b[92m+ Xorg_libXdmcp_jll v1.1.3+4\u001b[39m\n",
      " \u001b[90m [1082639a] \u001b[39m\u001b[92m+ Xorg_libXext_jll v1.3.4+4\u001b[39m\n",
      " \u001b[90m [d091e8ba] \u001b[39m\u001b[92m+ Xorg_libXfixes_jll v5.0.3+4\u001b[39m\n",
      " \u001b[90m [a51aa0fd] \u001b[39m\u001b[92m+ Xorg_libXi_jll v1.7.10+4\u001b[39m\n",
      " \u001b[90m [d1454406] \u001b[39m\u001b[92m+ Xorg_libXinerama_jll v1.1.4+4\u001b[39m\n",
      " \u001b[90m [ec84b674] \u001b[39m\u001b[92m+ Xorg_libXrandr_jll v1.5.2+4\u001b[39m\n",
      " \u001b[90m [ea2f1a96] \u001b[39m\u001b[92m+ Xorg_libXrender_jll v0.9.10+4\u001b[39m\n",
      " \u001b[90m [14d82f49] \u001b[39m\u001b[92m+ Xorg_libpthread_stubs_jll v0.1.0+3\u001b[39m\n",
      " \u001b[90m [c7cfdc94] \u001b[39m\u001b[92m+ Xorg_libxcb_jll v1.13.0+3\u001b[39m\n",
      " \u001b[90m [cc61e674] \u001b[39m\u001b[92m+ Xorg_libxkbfile_jll v1.1.0+4\u001b[39m\n",
      " \u001b[90m [12413925] \u001b[39m\u001b[92m+ Xorg_xcb_util_image_jll v0.4.0+1\u001b[39m\n",
      " \u001b[90m [2def613f] \u001b[39m\u001b[92m+ Xorg_xcb_util_jll v0.4.0+1\u001b[39m\n",
      " \u001b[90m [975044d2] \u001b[39m\u001b[92m+ Xorg_xcb_util_keysyms_jll v0.4.0+1\u001b[39m\n",
      " \u001b[90m [0d47668e] \u001b[39m\u001b[92m+ Xorg_xcb_util_renderutil_jll v0.3.9+1\u001b[39m\n",
      " \u001b[90m [c22f9ab0] \u001b[39m\u001b[92m+ Xorg_xcb_util_wm_jll v0.4.1+1\u001b[39m\n",
      " \u001b[90m [35661453] \u001b[39m\u001b[92m+ Xorg_xkbcomp_jll v1.4.2+4\u001b[39m\n",
      " \u001b[90m [33bec58e] \u001b[39m\u001b[92m+ Xorg_xkeyboard_config_jll v2.27.0+4\u001b[39m\n",
      " \u001b[90m [c5fb5394] \u001b[39m\u001b[92m+ Xorg_xtrans_jll v1.4.0+3\u001b[39m\n",
      " \u001b[90m [3161d3a3] \u001b[39m\u001b[92m+ Zstd_jll v1.5.0+0\u001b[39m\n",
      " \u001b[90m [0ac62f75] \u001b[39m\u001b[92m+ libass_jll v0.15.1+0\u001b[39m\n",
      " \u001b[90m [f638f0a6] \u001b[39m\u001b[92m+ libfdk_aac_jll v2.0.2+0\u001b[39m\n",
      " \u001b[90m [b53b4c65] \u001b[39m\u001b[92m+ libpng_jll v1.6.38+0\u001b[39m\n",
      " \u001b[90m [f27f6e37] \u001b[39m\u001b[92m+ libvorbis_jll v1.3.7+0\u001b[39m\n",
      " \u001b[90m [1270edf5] \u001b[39m\u001b[92m+ x264_jll v2021.5.5+0\u001b[39m\n",
      " \u001b[90m [dfaa095f] \u001b[39m\u001b[92m+ x265_jll v3.5.0+0\u001b[39m\n",
      " \u001b[90m [d8fb68d0] \u001b[39m\u001b[92m+ xkbcommon_jll v0.9.1+5\u001b[39m\n",
      "\u001b[32m\u001b[1m    Building\u001b[22m\u001b[39m GR → `C:\\Users\\SIDDHESH\\.julia\\scratchspaces\\44cfe95a-1eb2-52ea-b672-e2afdf69b78f\\30f2b340c2fff8410d89bfcdc9c0a6dd661ac5f7\\build.log`\n",
      "\u001b[32m\u001b[1mPrecompiling\u001b[22m\u001b[39m project...\n",
      "\u001b[32m  ✓ \u001b[39m\u001b[90mLaTeXStrings\u001b[39m\n",
      "\u001b[32m  ✓ \u001b[39m\u001b[90mNaNMath\u001b[39m\n",
      "\u001b[32m  ✓ \u001b[39m\u001b[90mMeasures\u001b[39m\n",
      "\u001b[32m  ✓ \u001b[39m\u001b[90mInverseFunctions\u001b[39m\n",
      "\u001b[32m  ✓ \u001b[39m\u001b[90mRequires\u001b[39m\n",
      "\u001b[32m  ✓ \u001b[39m\u001b[90mUnzip\u001b[39m\n",
      "\u001b[32m  ✓ \u001b[39m\u001b[90mIniFile\u001b[39m\n",
      "\u001b[32m  ✓ \u001b[39m\u001b[90mDocStringExtensions\u001b[39m\n",
      "\u001b[32m  ✓ \u001b[39m\u001b[90mURIs\u001b[39m\n",
      "\u001b[32m  ✓ \u001b[39m\u001b[90mIrrationalConstants\u001b[39m\n",
      "\u001b[32m  ✓ \u001b[39m\u001b[90mFixedPointNumbers\u001b[39m\n",
      "\u001b[32m  ✓ \u001b[39m\u001b[90mStatsAPI\u001b[39m\n",
      "\u001b[32m  ✓ \u001b[39m\u001b[90mAdapt\u001b[39m\n",
      "\u001b[32m  ✓ \u001b[39m\u001b[90mRecipesBase\u001b[39m\n",
      "\u001b[32m  ✓ \u001b[39m\u001b[90mScratch\u001b[39m\n",
      "\u001b[32m  ✓ \u001b[39m\u001b[90mIterTools\u001b[39m\n",
      "\u001b[32m  ✓ \u001b[39m\u001b[90mGrisu\u001b[39m\n",
      "\u001b[32m  ✓ \u001b[39m\u001b[90mChainRulesCore\u001b[39m\n",
      "\u001b[32m  ✓ \u001b[39m\u001b[90mUnicodeFun\u001b[39m\n",
      "\u001b[32m  ✓ \u001b[39m\u001b[90mMacroTools\u001b[39m\n",
      "\u001b[32m  ✓ \u001b[39m\u001b[90mEarCut_jll\u001b[39m\n",
      "\u001b[32m  ✓ \u001b[39m\u001b[90mOpenSSL_jll\u001b[39m\n",
      "\u001b[32m  ✓ \u001b[39m\u001b[90mOpus_jll\u001b[39m\n",
      "\u001b[32m  ✓ \u001b[39m\u001b[90mJpegTurbo_jll\u001b[39m\n",
      "\u001b[32m  ✓ \u001b[39m\u001b[90mOgg_jll\u001b[39m\n",
      "\u001b[32m  ✓ \u001b[39m\u001b[90mXorg_libXau_jll\u001b[39m\n",
      "\u001b[32m  ✓ \u001b[39m\u001b[90mXorg_xtrans_jll\u001b[39m\n",
      "\u001b[32m  ✓ \u001b[39m\u001b[90mStaticArrays\u001b[39m\n",
      "\u001b[32m  ✓ \u001b[39m\u001b[90mXorg_libXdmcp_jll\u001b[39m\n",
      "\u001b[32m  ✓ \u001b[39m\u001b[90mlibpng_jll\u001b[39m\n",
      "\u001b[32m  ✓ \u001b[39m\u001b[90mx265_jll\u001b[39m\n",
      "\u001b[32m  ✓ \u001b[39m\u001b[90mlibfdk_aac_jll\u001b[39m\n",
      "\u001b[32m  ✓ \u001b[39m\u001b[90mLibmount_jll\u001b[39m\n",
      "\u001b[32m  ✓ \u001b[39m\u001b[90mGraphite2_jll\u001b[39m\n",
      "\u001b[32m  ✓ \u001b[39m\u001b[90mZstd_jll\u001b[39m\n",
      "\u001b[32m  ✓ \u001b[39m\u001b[90mx264_jll\u001b[39m\n",
      "\u001b[32m  ✓ \u001b[39m\u001b[90mPCRE_jll\u001b[39m\n",
      "\u001b[32m  ✓ \u001b[39m\u001b[90mLibiconv_jll\u001b[39m\n",
      "\u001b[32m  ✓ \u001b[39m\u001b[90mLibffi_jll\u001b[39m\n",
      "\u001b[32m  ✓ \u001b[39m\u001b[90mBzip2_jll\u001b[39m\n",
      "\u001b[32m  ✓ \u001b[39m\u001b[90mExpat_jll\u001b[39m\n",
      "\u001b[32m  ✓ \u001b[39m\u001b[90mLibgpg_error_jll\u001b[39m\n",
      "\u001b[32m  ✓ \u001b[39m\u001b[90mWayland_protocols_jll\u001b[39m\n",
      "\u001b[32m  ✓ \u001b[39m\u001b[90mLZO_jll\u001b[39m\n",
      "\u001b[32m  ✓ \u001b[39m\u001b[90mLAME_jll\u001b[39m\n",
      "\u001b[32m  ✓ \u001b[39m\u001b[90mPixman_jll\u001b[39m\n",
      "\u001b[32m  ✓ \u001b[39m\u001b[90mXorg_libpthread_stubs_jll\u001b[39m\n",
      "\u001b[32m  ✓ \u001b[39m\u001b[90mFriBidi_jll\u001b[39m\n",
      "\u001b[32m  ✓ \u001b[39m\u001b[90mShowoff\u001b[39m\n",
      "\u001b[32m  ✓ \u001b[39m\u001b[90mLibuuid_jll\u001b[39m\n",
      "\u001b[32m  ✓ \u001b[39m\u001b[90mChangesOfVariables\u001b[39m\n",
      "\u001b[32m  ✓ \u001b[39m\u001b[90mLatexify\u001b[39m\n",
      "\u001b[32m  ✓ \u001b[39m\u001b[90mHTTP\u001b[39m\n",
      "\u001b[32m  ✓ \u001b[39m\u001b[90mlibvorbis_jll\u001b[39m\n",
      "\u001b[32m  ✓ \u001b[39m\u001b[90mLibtiff_jll\u001b[39m\n",
      "\u001b[32m  ✓ \u001b[39m\u001b[90mXML2_jll\u001b[39m\n",
      "\u001b[32m  ✓ \u001b[39m\u001b[90mContour\u001b[39m\n",
      "\u001b[32m  ✓ \u001b[39m\u001b[90mStructArrays\u001b[39m\n",
      "\u001b[32m  ✓ \u001b[39m\u001b[90mFreeType2_jll\u001b[39m\n",
      "\u001b[32m  ✓ \u001b[39m\u001b[90mLibgcrypt_jll\u001b[39m\n",
      "\u001b[32m  ✓ \u001b[39m\u001b[90mGettext_jll\u001b[39m\n",
      "\u001b[32m  ✓ \u001b[39m\u001b[90mWayland_jll\u001b[39m\n",
      "\u001b[32m  ✓ \u001b[39m\u001b[90mLogExpFunctions\u001b[39m\n",
      "\u001b[32m  ✓ \u001b[39m\u001b[90mFontconfig_jll\u001b[39m\n",
      "\u001b[32m  ✓ \u001b[39m\u001b[90mXSLT_jll\u001b[39m\n",
      "\u001b[32m  ✓ \u001b[39m\u001b[90mGlib_jll\u001b[39m\n",
      "\u001b[32m  ✓ \u001b[39m\u001b[90mXorg_libxcb_jll\u001b[39m\n",
      "\u001b[32m  ✓ \u001b[39m\u001b[90mXorg_libX11_jll\u001b[39m\n",
      "\u001b[32m  ✓ \u001b[39m\u001b[90mXorg_xcb_util_jll\u001b[39m\n",
      "\u001b[32m  ✓ \u001b[39m\u001b[90mStatsBase\u001b[39m\n",
      "\u001b[32m  ✓ \u001b[39m\u001b[90mXorg_libXfixes_jll\u001b[39m\n",
      "\u001b[32m  ✓ \u001b[39m\u001b[90mXorg_libxkbfile_jll\u001b[39m\n",
      "\u001b[32m  ✓ \u001b[39m\u001b[90mColorTypes\u001b[39m\n",
      "\u001b[32m  ✓ \u001b[39m\u001b[90mXorg_libXext_jll\u001b[39m\n",
      "\u001b[32m  ✓ \u001b[39m\u001b[90mXorg_libXrender_jll\u001b[39m\n",
      "\u001b[32m  ✓ \u001b[39m\u001b[90mXorg_xcb_util_image_jll\u001b[39m\n",
      "\u001b[32m  ✓ \u001b[39m\u001b[90mXorg_xcb_util_renderutil_jll\u001b[39m\n",
      "\u001b[32m  ✓ \u001b[39m\u001b[90mXorg_xcb_util_keysyms_jll\u001b[39m\n",
      "\u001b[32m  ✓ \u001b[39m\u001b[90mGeometryBasics\u001b[39m\n",
      "\u001b[32m  ✓ \u001b[39m\u001b[90mXorg_xcb_util_wm_jll\u001b[39m\n",
      "\u001b[32m  ✓ \u001b[39m\u001b[90mXorg_xkbcomp_jll\u001b[39m\n",
      "\u001b[32m  ✓ \u001b[39m\u001b[90mLibglvnd_jll\u001b[39m\n",
      "\u001b[32m  ✓ \u001b[39m\u001b[90mXorg_libXinerama_jll\u001b[39m\n",
      "\u001b[32m  ✓ \u001b[39m\u001b[90mXorg_libXi_jll\u001b[39m\n"
     ]
    },
    {
     "name": "stderr",
     "output_type": "stream",
     "text": [
      "\u001b[32m  ✓ \u001b[39m\u001b[90mCairo_jll\u001b[39m\n",
      "\u001b[32m  ✓ \u001b[39m\u001b[90mXorg_libXcursor_jll\u001b[39m\n",
      "\u001b[32m  ✓ \u001b[39m\u001b[90mXorg_libXrandr_jll\u001b[39m\n",
      "\u001b[32m  ✓ \u001b[39m\u001b[90mXorg_xkeyboard_config_jll\u001b[39m\n",
      "\u001b[32m  ✓ \u001b[39m\u001b[90mHarfBuzz_jll\u001b[39m\n",
      "\u001b[32m  ✓ \u001b[39m\u001b[90mGLFW_jll\u001b[39m\n",
      "\u001b[32m  ✓ \u001b[39m\u001b[90mxkbcommon_jll\u001b[39m\n",
      "\u001b[32m  ✓ \u001b[39m\u001b[90mColors\u001b[39m\n",
      "\u001b[32m  ✓ \u001b[39m\u001b[90mlibass_jll\u001b[39m\n",
      "\u001b[32m  ✓ \u001b[39m\u001b[90mQt5Base_jll\u001b[39m\n",
      "\u001b[32m  ✓ \u001b[39m\u001b[90mFFMPEG_jll\u001b[39m\n",
      "\u001b[32m  ✓ \u001b[39m\u001b[90mFFMPEG\u001b[39m\n",
      "\u001b[32m  ✓ \u001b[39m\u001b[90mGR_jll\u001b[39m\n",
      "\u001b[32m  ✓ \u001b[39m\u001b[90mGR\u001b[39m\n",
      "\u001b[32m  ✓ \u001b[39m\u001b[90mColorSchemes\u001b[39m\n",
      "\u001b[32m  ✓ \u001b[39m\u001b[90mPlotUtils\u001b[39m\n",
      "\u001b[32m  ✓ \u001b[39m\u001b[90mRecipesPipeline\u001b[39m\n",
      "\u001b[32m  ✓ \u001b[39m\u001b[90mPlotThemes\u001b[39m\n",
      "\u001b[32m  ✓ \u001b[39mPlots\n",
      "  103 dependencies successfully precompiled in 89 seconds (42 already precompiled)\n"
     ]
    }
   ],
   "source": [
    "Pkg.add(\"Plots\")"
   ]
  },
  {
   "cell_type": "code",
   "execution_count": 233,
   "metadata": {},
   "outputs": [],
   "source": [
    "using Plots"
   ]
  },
  {
   "cell_type": "code",
   "execution_count": 237,
   "metadata": {},
   "outputs": [],
   "source": [
    "x = 1:15;  y= rand(15) ;"
   ]
  },
  {
   "cell_type": "code",
   "execution_count": 238,
   "metadata": {},
   "outputs": [
    {
     "data": {
      "image/svg+xml": [
       "<?xml version=\"1.0\" encoding=\"utf-8\"?>\n",
       "<svg xmlns=\"http://www.w3.org/2000/svg\" xmlns:xlink=\"http://www.w3.org/1999/xlink\" width=\"600\" height=\"400\" viewBox=\"0 0 2400 1600\">\n",
       "<defs>\n",
       "  <clipPath id=\"clip580\">\n",
       "    <rect x=\"0\" y=\"0\" width=\"2400\" height=\"1600\"/>\n",
       "  </clipPath>\n",
       "</defs>\n",
       "<path clip-path=\"url(#clip580)\" d=\"\n",
       "M0 1600 L2400 1600 L2400 0 L0 0  Z\n",
       "  \" fill=\"#ffffff\" fill-rule=\"evenodd\" fill-opacity=\"1\"/>\n",
       "<defs>\n",
       "  <clipPath id=\"clip581\">\n",
       "    <rect x=\"480\" y=\"0\" width=\"1681\" height=\"1600\"/>\n",
       "  </clipPath>\n",
       "</defs>\n",
       "<path clip-path=\"url(#clip580)\" d=\"\n",
       "M156.598 1486.45 L2352.76 1486.45 L2352.76 47.2441 L156.598 47.2441  Z\n",
       "  \" fill=\"#ffffff\" fill-rule=\"evenodd\" fill-opacity=\"1\"/>\n",
       "<defs>\n",
       "  <clipPath id=\"clip582\">\n",
       "    <rect x=\"156\" y=\"47\" width=\"2197\" height=\"1440\"/>\n",
       "  </clipPath>\n",
       "</defs>\n",
       "<polyline clip-path=\"url(#clip582)\" style=\"stroke:#000000; stroke-linecap:butt; stroke-linejoin:round; stroke-width:2; stroke-opacity:0.1; fill:none\" points=\"\n",
       "  366.743,1486.45 366.743,47.2441 \n",
       "  \"/>\n",
       "<polyline clip-path=\"url(#clip582)\" style=\"stroke:#000000; stroke-linecap:butt; stroke-linejoin:round; stroke-width:2; stroke-opacity:0.1; fill:none\" points=\"\n",
       "  662.721,1486.45 662.721,47.2441 \n",
       "  \"/>\n",
       "<polyline clip-path=\"url(#clip582)\" style=\"stroke:#000000; stroke-linecap:butt; stroke-linejoin:round; stroke-width:2; stroke-opacity:0.1; fill:none\" points=\"\n",
       "  958.699,1486.45 958.699,47.2441 \n",
       "  \"/>\n",
       "<polyline clip-path=\"url(#clip582)\" style=\"stroke:#000000; stroke-linecap:butt; stroke-linejoin:round; stroke-width:2; stroke-opacity:0.1; fill:none\" points=\"\n",
       "  1254.68,1486.45 1254.68,47.2441 \n",
       "  \"/>\n",
       "<polyline clip-path=\"url(#clip582)\" style=\"stroke:#000000; stroke-linecap:butt; stroke-linejoin:round; stroke-width:2; stroke-opacity:0.1; fill:none\" points=\"\n",
       "  1550.66,1486.45 1550.66,47.2441 \n",
       "  \"/>\n",
       "<polyline clip-path=\"url(#clip582)\" style=\"stroke:#000000; stroke-linecap:butt; stroke-linejoin:round; stroke-width:2; stroke-opacity:0.1; fill:none\" points=\"\n",
       "  1846.63,1486.45 1846.63,47.2441 \n",
       "  \"/>\n",
       "<polyline clip-path=\"url(#clip582)\" style=\"stroke:#000000; stroke-linecap:butt; stroke-linejoin:round; stroke-width:2; stroke-opacity:0.1; fill:none\" points=\"\n",
       "  2142.61,1486.45 2142.61,47.2441 \n",
       "  \"/>\n",
       "<polyline clip-path=\"url(#clip580)\" style=\"stroke:#000000; stroke-linecap:butt; stroke-linejoin:round; stroke-width:4; stroke-opacity:1; fill:none\" points=\"\n",
       "  156.598,1486.45 2352.76,1486.45 \n",
       "  \"/>\n",
       "<polyline clip-path=\"url(#clip580)\" style=\"stroke:#000000; stroke-linecap:butt; stroke-linejoin:round; stroke-width:4; stroke-opacity:1; fill:none\" points=\"\n",
       "  366.743,1486.45 366.743,1467.55 \n",
       "  \"/>\n",
       "<polyline clip-path=\"url(#clip580)\" style=\"stroke:#000000; stroke-linecap:butt; stroke-linejoin:round; stroke-width:4; stroke-opacity:1; fill:none\" points=\"\n",
       "  662.721,1486.45 662.721,1467.55 \n",
       "  \"/>\n",
       "<polyline clip-path=\"url(#clip580)\" style=\"stroke:#000000; stroke-linecap:butt; stroke-linejoin:round; stroke-width:4; stroke-opacity:1; fill:none\" points=\"\n",
       "  958.699,1486.45 958.699,1467.55 \n",
       "  \"/>\n",
       "<polyline clip-path=\"url(#clip580)\" style=\"stroke:#000000; stroke-linecap:butt; stroke-linejoin:round; stroke-width:4; stroke-opacity:1; fill:none\" points=\"\n",
       "  1254.68,1486.45 1254.68,1467.55 \n",
       "  \"/>\n",
       "<polyline clip-path=\"url(#clip580)\" style=\"stroke:#000000; stroke-linecap:butt; stroke-linejoin:round; stroke-width:4; stroke-opacity:1; fill:none\" points=\"\n",
       "  1550.66,1486.45 1550.66,1467.55 \n",
       "  \"/>\n",
       "<polyline clip-path=\"url(#clip580)\" style=\"stroke:#000000; stroke-linecap:butt; stroke-linejoin:round; stroke-width:4; stroke-opacity:1; fill:none\" points=\"\n",
       "  1846.63,1486.45 1846.63,1467.55 \n",
       "  \"/>\n",
       "<polyline clip-path=\"url(#clip580)\" style=\"stroke:#000000; stroke-linecap:butt; stroke-linejoin:round; stroke-width:4; stroke-opacity:1; fill:none\" points=\"\n",
       "  2142.61,1486.45 2142.61,1467.55 \n",
       "  \"/>\n",
       "<path clip-path=\"url(#clip580)\" d=\"M361.396 1544.91 L377.715 1544.91 L377.715 1548.85 L355.771 1548.85 L355.771 1544.91 Q358.433 1542.16 363.016 1537.53 Q367.622 1532.88 368.803 1531.53 Q371.048 1529.01 371.928 1527.27 Q372.831 1525.51 372.831 1523.82 Q372.831 1521.07 370.886 1519.33 Q368.965 1517.6 365.863 1517.6 Q363.664 1517.6 361.21 1518.36 Q358.78 1519.13 356.002 1520.68 L356.002 1515.95 Q358.826 1514.82 361.28 1514.24 Q363.733 1513.66 365.77 1513.66 Q371.141 1513.66 374.335 1516.35 Q377.53 1519.03 377.53 1523.52 Q377.53 1525.65 376.72 1527.57 Q375.932 1529.47 373.826 1532.07 Q373.247 1532.74 370.145 1535.95 Q367.044 1539.15 361.396 1544.91 Z\" fill=\"#000000\" fill-rule=\"evenodd\" fill-opacity=\"1\" /><path clip-path=\"url(#clip580)\" d=\"M665.73 1518.36 L653.925 1536.81 L665.73 1536.81 L665.73 1518.36 M664.503 1514.29 L670.383 1514.29 L670.383 1536.81 L675.313 1536.81 L675.313 1540.7 L670.383 1540.7 L670.383 1548.85 L665.73 1548.85 L665.73 1540.7 L650.128 1540.7 L650.128 1536.19 L664.503 1514.29 Z\" fill=\"#000000\" fill-rule=\"evenodd\" fill-opacity=\"1\" /><path clip-path=\"url(#clip580)\" d=\"M959.104 1529.7 Q955.956 1529.7 954.104 1531.86 Q952.275 1534.01 952.275 1537.76 Q952.275 1541.49 954.104 1543.66 Q955.956 1545.82 959.104 1545.82 Q962.252 1545.82 964.081 1543.66 Q965.933 1541.49 965.933 1537.76 Q965.933 1534.01 964.081 1531.86 Q962.252 1529.7 959.104 1529.7 M968.386 1515.05 L968.386 1519.31 Q966.627 1518.48 964.822 1518.04 Q963.039 1517.6 961.28 1517.6 Q956.65 1517.6 954.197 1520.72 Q951.766 1523.85 951.419 1530.17 Q952.785 1528.15 954.845 1527.09 Q956.905 1526 959.382 1526 Q964.59 1526 967.599 1529.17 Q970.632 1532.32 970.632 1537.76 Q970.632 1543.08 967.484 1546.3 Q964.335 1549.52 959.104 1549.52 Q953.109 1549.52 949.937 1544.94 Q946.766 1540.33 946.766 1531.6 Q946.766 1523.41 950.655 1518.55 Q954.544 1513.66 961.095 1513.66 Q962.854 1513.66 964.636 1514.01 Q966.442 1514.36 968.386 1515.05 Z\" fill=\"#000000\" fill-rule=\"evenodd\" fill-opacity=\"1\" /><path clip-path=\"url(#clip580)\" d=\"M1254.68 1532.44 Q1251.34 1532.44 1249.42 1534.22 Q1247.52 1536 1247.52 1539.13 Q1247.52 1542.25 1249.42 1544.03 Q1251.34 1545.82 1254.68 1545.82 Q1258.01 1545.82 1259.93 1544.03 Q1261.85 1542.23 1261.85 1539.13 Q1261.85 1536 1259.93 1534.22 Q1258.03 1532.44 1254.68 1532.44 M1250 1530.45 Q1246.99 1529.7 1245.3 1527.64 Q1243.64 1525.58 1243.64 1522.62 Q1243.64 1518.48 1246.58 1516.07 Q1249.54 1513.66 1254.68 1513.66 Q1259.84 1513.66 1262.78 1516.07 Q1265.72 1518.48 1265.72 1522.62 Q1265.72 1525.58 1264.03 1527.64 Q1262.36 1529.7 1259.38 1530.45 Q1262.76 1531.23 1264.63 1533.52 Q1266.53 1535.82 1266.53 1539.13 Q1266.53 1544.15 1263.45 1546.83 Q1260.39 1549.52 1254.68 1549.52 Q1248.96 1549.52 1245.88 1546.83 Q1242.83 1544.15 1242.83 1539.13 Q1242.83 1535.82 1244.72 1533.52 Q1246.62 1531.23 1250 1530.45 M1248.29 1523.06 Q1248.29 1525.75 1249.95 1527.25 Q1251.64 1528.76 1254.68 1528.76 Q1257.69 1528.76 1259.38 1527.25 Q1261.09 1525.75 1261.09 1523.06 Q1261.09 1520.38 1259.38 1518.87 Q1257.69 1517.37 1254.68 1517.37 Q1251.64 1517.37 1249.95 1518.87 Q1248.29 1520.38 1248.29 1523.06 Z\" fill=\"#000000\" fill-rule=\"evenodd\" fill-opacity=\"1\" /><path clip-path=\"url(#clip580)\" d=\"M1525.34 1544.91 L1532.98 1544.91 L1532.98 1518.55 L1524.67 1520.21 L1524.67 1515.95 L1532.94 1514.29 L1537.61 1514.29 L1537.61 1544.91 L1545.25 1544.91 L1545.25 1548.85 L1525.34 1548.85 L1525.34 1544.91 Z\" fill=\"#000000\" fill-rule=\"evenodd\" fill-opacity=\"1\" /><path clip-path=\"url(#clip580)\" d=\"M1564.69 1517.37 Q1561.08 1517.37 1559.25 1520.93 Q1557.45 1524.47 1557.45 1531.6 Q1557.45 1538.71 1559.25 1542.27 Q1561.08 1545.82 1564.69 1545.82 Q1568.33 1545.82 1570.13 1542.27 Q1571.96 1538.71 1571.96 1531.6 Q1571.96 1524.47 1570.13 1520.93 Q1568.33 1517.37 1564.69 1517.37 M1564.69 1513.66 Q1570.5 1513.66 1573.56 1518.27 Q1576.64 1522.85 1576.64 1531.6 Q1576.64 1540.33 1573.56 1544.94 Q1570.5 1549.52 1564.69 1549.52 Q1558.88 1549.52 1555.81 1544.94 Q1552.75 1540.33 1552.75 1531.6 Q1552.75 1522.85 1555.81 1518.27 Q1558.88 1513.66 1564.69 1513.66 Z\" fill=\"#000000\" fill-rule=\"evenodd\" fill-opacity=\"1\" /><path clip-path=\"url(#clip580)\" d=\"M1822.12 1544.91 L1829.76 1544.91 L1829.76 1518.55 L1821.45 1520.21 L1821.45 1515.95 L1829.71 1514.29 L1834.39 1514.29 L1834.39 1544.91 L1842.03 1544.91 L1842.03 1548.85 L1822.12 1548.85 L1822.12 1544.91 Z\" fill=\"#000000\" fill-rule=\"evenodd\" fill-opacity=\"1\" /><path clip-path=\"url(#clip580)\" d=\"M1855.5 1544.91 L1871.82 1544.91 L1871.82 1548.85 L1849.87 1548.85 L1849.87 1544.91 Q1852.54 1542.16 1857.12 1537.53 Q1861.73 1532.88 1862.91 1531.53 Q1865.15 1529.01 1866.03 1527.27 Q1866.93 1525.51 1866.93 1523.82 Q1866.93 1521.07 1864.99 1519.33 Q1863.07 1517.6 1859.97 1517.6 Q1857.77 1517.6 1855.31 1518.36 Q1852.88 1519.13 1850.11 1520.68 L1850.11 1515.95 Q1852.93 1514.82 1855.38 1514.24 Q1857.84 1513.66 1859.87 1513.66 Q1865.24 1513.66 1868.44 1516.35 Q1871.63 1519.03 1871.63 1523.52 Q1871.63 1525.65 1870.82 1527.57 Q1870.04 1529.47 1867.93 1532.07 Q1867.35 1532.74 1864.25 1535.95 Q1861.15 1539.15 1855.5 1544.91 Z\" fill=\"#000000\" fill-rule=\"evenodd\" fill-opacity=\"1\" /><path clip-path=\"url(#clip580)\" d=\"M2117.06 1544.91 L2124.69 1544.91 L2124.69 1518.55 L2116.38 1520.21 L2116.38 1515.95 L2124.65 1514.29 L2129.32 1514.29 L2129.32 1544.91 L2136.96 1544.91 L2136.96 1548.85 L2117.06 1548.85 L2117.06 1544.91 Z\" fill=\"#000000\" fill-rule=\"evenodd\" fill-opacity=\"1\" /><path clip-path=\"url(#clip580)\" d=\"M2159.25 1518.36 L2147.45 1536.81 L2159.25 1536.81 L2159.25 1518.36 M2158.03 1514.29 L2163.91 1514.29 L2163.91 1536.81 L2168.84 1536.81 L2168.84 1540.7 L2163.91 1540.7 L2163.91 1548.85 L2159.25 1548.85 L2159.25 1540.7 L2143.65 1540.7 L2143.65 1536.19 L2158.03 1514.29 Z\" fill=\"#000000\" fill-rule=\"evenodd\" fill-opacity=\"1\" /><polyline clip-path=\"url(#clip582)\" style=\"stroke:#000000; stroke-linecap:butt; stroke-linejoin:round; stroke-width:2; stroke-opacity:0.1; fill:none\" points=\"\n",
       "  156.598,1473.47 2352.76,1473.47 \n",
       "  \"/>\n",
       "<polyline clip-path=\"url(#clip582)\" style=\"stroke:#000000; stroke-linecap:butt; stroke-linejoin:round; stroke-width:2; stroke-opacity:0.1; fill:none\" points=\"\n",
       "  156.598,1176.56 2352.76,1176.56 \n",
       "  \"/>\n",
       "<polyline clip-path=\"url(#clip582)\" style=\"stroke:#000000; stroke-linecap:butt; stroke-linejoin:round; stroke-width:2; stroke-opacity:0.1; fill:none\" points=\"\n",
       "  156.598,879.66 2352.76,879.66 \n",
       "  \"/>\n",
       "<polyline clip-path=\"url(#clip582)\" style=\"stroke:#000000; stroke-linecap:butt; stroke-linejoin:round; stroke-width:2; stroke-opacity:0.1; fill:none\" points=\"\n",
       "  156.598,582.757 2352.76,582.757 \n",
       "  \"/>\n",
       "<polyline clip-path=\"url(#clip582)\" style=\"stroke:#000000; stroke-linecap:butt; stroke-linejoin:round; stroke-width:2; stroke-opacity:0.1; fill:none\" points=\"\n",
       "  156.598,285.854 2352.76,285.854 \n",
       "  \"/>\n",
       "<polyline clip-path=\"url(#clip580)\" style=\"stroke:#000000; stroke-linecap:butt; stroke-linejoin:round; stroke-width:4; stroke-opacity:1; fill:none\" points=\"\n",
       "  156.598,1486.45 156.598,47.2441 \n",
       "  \"/>\n",
       "<polyline clip-path=\"url(#clip580)\" style=\"stroke:#000000; stroke-linecap:butt; stroke-linejoin:round; stroke-width:4; stroke-opacity:1; fill:none\" points=\"\n",
       "  156.598,1473.47 175.496,1473.47 \n",
       "  \"/>\n",
       "<polyline clip-path=\"url(#clip580)\" style=\"stroke:#000000; stroke-linecap:butt; stroke-linejoin:round; stroke-width:4; stroke-opacity:1; fill:none\" points=\"\n",
       "  156.598,1176.56 175.496,1176.56 \n",
       "  \"/>\n",
       "<polyline clip-path=\"url(#clip580)\" style=\"stroke:#000000; stroke-linecap:butt; stroke-linejoin:round; stroke-width:4; stroke-opacity:1; fill:none\" points=\"\n",
       "  156.598,879.66 175.496,879.66 \n",
       "  \"/>\n",
       "<polyline clip-path=\"url(#clip580)\" style=\"stroke:#000000; stroke-linecap:butt; stroke-linejoin:round; stroke-width:4; stroke-opacity:1; fill:none\" points=\"\n",
       "  156.598,582.757 175.496,582.757 \n",
       "  \"/>\n",
       "<polyline clip-path=\"url(#clip580)\" style=\"stroke:#000000; stroke-linecap:butt; stroke-linejoin:round; stroke-width:4; stroke-opacity:1; fill:none\" points=\"\n",
       "  156.598,285.854 175.496,285.854 \n",
       "  \"/>\n",
       "<path clip-path=\"url(#clip580)\" d=\"M63.4226 1459.26 Q59.8115 1459.26 57.9828 1462.83 Q56.1773 1466.37 56.1773 1473.5 Q56.1773 1480.61 57.9828 1484.17 Q59.8115 1487.71 63.4226 1487.71 Q67.0569 1487.71 68.8624 1484.17 Q70.6911 1480.61 70.6911 1473.5 Q70.6911 1466.37 68.8624 1462.83 Q67.0569 1459.26 63.4226 1459.26 M63.4226 1455.56 Q69.2328 1455.56 72.2883 1460.17 Q75.367 1464.75 75.367 1473.5 Q75.367 1482.23 72.2883 1486.83 Q69.2328 1491.42 63.4226 1491.42 Q57.6125 1491.42 54.5338 1486.83 Q51.4782 1482.23 51.4782 1473.5 Q51.4782 1464.75 54.5338 1460.17 Q57.6125 1455.56 63.4226 1455.56 Z\" fill=\"#000000\" fill-rule=\"evenodd\" fill-opacity=\"1\" /><path clip-path=\"url(#clip580)\" d=\"M83.5845 1484.87 L88.4688 1484.87 L88.4688 1490.75 L83.5845 1490.75 L83.5845 1484.87 Z\" fill=\"#000000\" fill-rule=\"evenodd\" fill-opacity=\"1\" /><path clip-path=\"url(#clip580)\" d=\"M108.654 1459.26 Q105.043 1459.26 103.214 1462.83 Q101.409 1466.37 101.409 1473.5 Q101.409 1480.61 103.214 1484.17 Q105.043 1487.71 108.654 1487.71 Q112.288 1487.71 114.094 1484.17 Q115.922 1480.61 115.922 1473.5 Q115.922 1466.37 114.094 1462.83 Q112.288 1459.26 108.654 1459.26 M108.654 1455.56 Q114.464 1455.56 117.52 1460.17 Q120.598 1464.75 120.598 1473.5 Q120.598 1482.23 117.52 1486.83 Q114.464 1491.42 108.654 1491.42 Q102.844 1491.42 99.765 1486.83 Q96.7095 1482.23 96.7095 1473.5 Q96.7095 1464.75 99.765 1460.17 Q102.844 1455.56 108.654 1455.56 Z\" fill=\"#000000\" fill-rule=\"evenodd\" fill-opacity=\"1\" /><path clip-path=\"url(#clip580)\" d=\"M65.0198 1162.36 Q61.4087 1162.36 59.58 1165.93 Q57.7745 1169.47 57.7745 1176.6 Q57.7745 1183.7 59.58 1187.27 Q61.4087 1190.81 65.0198 1190.81 Q68.6541 1190.81 70.4596 1187.27 Q72.2883 1183.7 72.2883 1176.6 Q72.2883 1169.47 70.4596 1165.93 Q68.6541 1162.36 65.0198 1162.36 M65.0198 1158.66 Q70.83 1158.66 73.8855 1163.26 Q76.9642 1167.85 76.9642 1176.6 Q76.9642 1185.32 73.8855 1189.93 Q70.83 1194.51 65.0198 1194.51 Q59.2097 1194.51 56.131 1189.93 Q53.0754 1185.32 53.0754 1176.6 Q53.0754 1167.85 56.131 1163.26 Q59.2097 1158.66 65.0198 1158.66 Z\" fill=\"#000000\" fill-rule=\"evenodd\" fill-opacity=\"1\" /><path clip-path=\"url(#clip580)\" d=\"M85.1818 1187.96 L90.066 1187.96 L90.066 1193.84 L85.1818 1193.84 L85.1818 1187.96 Z\" fill=\"#000000\" fill-rule=\"evenodd\" fill-opacity=\"1\" /><path clip-path=\"url(#clip580)\" d=\"M104.279 1189.91 L120.598 1189.91 L120.598 1193.84 L98.6539 1193.84 L98.6539 1189.91 Q101.316 1187.15 105.899 1182.52 Q110.506 1177.87 111.686 1176.53 Q113.932 1174 114.811 1172.27 Q115.714 1170.51 115.714 1168.82 Q115.714 1166.07 113.77 1164.33 Q111.848 1162.59 108.746 1162.59 Q106.547 1162.59 104.094 1163.36 Q101.663 1164.12 98.8854 1165.67 L98.8854 1160.95 Q101.709 1159.82 104.163 1159.24 Q106.617 1158.66 108.654 1158.66 Q114.024 1158.66 117.219 1161.34 Q120.413 1164.03 120.413 1168.52 Q120.413 1170.65 119.603 1172.57 Q118.816 1174.47 116.709 1177.06 Q116.131 1177.73 113.029 1180.95 Q109.927 1184.14 104.279 1189.91 Z\" fill=\"#000000\" fill-rule=\"evenodd\" fill-opacity=\"1\" /><path clip-path=\"url(#clip580)\" d=\"M62.9365 865.459 Q59.3254 865.459 57.4967 869.023 Q55.6912 872.565 55.6912 879.695 Q55.6912 886.801 57.4967 890.366 Q59.3254 893.908 62.9365 893.908 Q66.5707 893.908 68.3763 890.366 Q70.205 886.801 70.205 879.695 Q70.205 872.565 68.3763 869.023 Q66.5707 865.459 62.9365 865.459 M62.9365 861.755 Q68.7467 861.755 71.8022 866.361 Q74.8809 870.945 74.8809 879.695 Q74.8809 888.421 71.8022 893.028 Q68.7467 897.611 62.9365 897.611 Q57.1264 897.611 54.0477 893.028 Q50.9921 888.421 50.9921 879.695 Q50.9921 870.945 54.0477 866.361 Q57.1264 861.755 62.9365 861.755 Z\" fill=\"#000000\" fill-rule=\"evenodd\" fill-opacity=\"1\" /><path clip-path=\"url(#clip580)\" d=\"M83.0984 891.06 L87.9827 891.06 L87.9827 896.94 L83.0984 896.94 L83.0984 891.06 Z\" fill=\"#000000\" fill-rule=\"evenodd\" fill-opacity=\"1\" /><path clip-path=\"url(#clip580)\" d=\"M111.015 866.454 L99.2095 884.903 L111.015 884.903 L111.015 866.454 M109.788 862.38 L115.668 862.38 L115.668 884.903 L120.598 884.903 L120.598 888.792 L115.668 888.792 L115.668 896.94 L111.015 896.94 L111.015 888.792 L95.4132 888.792 L95.4132 884.278 L109.788 862.38 Z\" fill=\"#000000\" fill-rule=\"evenodd\" fill-opacity=\"1\" /><path clip-path=\"url(#clip580)\" d=\"M63.2606 568.556 Q59.6495 568.556 57.8208 572.121 Q56.0152 575.662 56.0152 582.792 Q56.0152 589.898 57.8208 593.463 Q59.6495 597.005 63.2606 597.005 Q66.8948 597.005 68.7004 593.463 Q70.5291 589.898 70.5291 582.792 Q70.5291 575.662 68.7004 572.121 Q66.8948 568.556 63.2606 568.556 M63.2606 564.852 Q69.0707 564.852 72.1263 569.459 Q75.205 574.042 75.205 582.792 Q75.205 591.519 72.1263 596.125 Q69.0707 600.708 63.2606 600.708 Q57.4504 600.708 54.3717 596.125 Q51.3162 591.519 51.3162 582.792 Q51.3162 574.042 54.3717 569.459 Q57.4504 564.852 63.2606 564.852 Z\" fill=\"#000000\" fill-rule=\"evenodd\" fill-opacity=\"1\" /><path clip-path=\"url(#clip580)\" d=\"M83.4225 594.158 L88.3067 594.158 L88.3067 600.037 L83.4225 600.037 L83.4225 594.158 Z\" fill=\"#000000\" fill-rule=\"evenodd\" fill-opacity=\"1\" /><path clip-path=\"url(#clip580)\" d=\"M109.071 580.894 Q105.922 580.894 104.071 583.047 Q102.242 585.199 102.242 588.949 Q102.242 592.676 104.071 594.852 Q105.922 597.005 109.071 597.005 Q112.219 597.005 114.047 594.852 Q115.899 592.676 115.899 588.949 Q115.899 585.199 114.047 583.047 Q112.219 580.894 109.071 580.894 M118.353 566.241 L118.353 570.5 Q116.594 569.667 114.788 569.227 Q113.006 568.787 111.246 568.787 Q106.617 568.787 104.163 571.912 Q101.733 575.037 101.385 581.357 Q102.751 579.343 104.811 578.278 Q106.871 577.19 109.348 577.19 Q114.557 577.19 117.566 580.361 Q120.598 583.509 120.598 588.949 Q120.598 594.273 117.45 597.491 Q114.302 600.708 109.071 600.708 Q103.075 600.708 99.9039 596.125 Q96.7326 591.519 96.7326 582.792 Q96.7326 574.598 100.621 569.736 Q104.51 564.852 111.061 564.852 Q112.82 564.852 114.603 565.199 Q116.408 565.547 118.353 566.241 Z\" fill=\"#000000\" fill-rule=\"evenodd\" fill-opacity=\"1\" /><path clip-path=\"url(#clip580)\" d=\"M63.5152 271.653 Q59.9041 271.653 58.0754 275.218 Q56.2699 278.76 56.2699 285.889 Q56.2699 292.996 58.0754 296.56 Q59.9041 300.102 63.5152 300.102 Q67.1494 300.102 68.955 296.56 Q70.7837 292.996 70.7837 285.889 Q70.7837 278.76 68.955 275.218 Q67.1494 271.653 63.5152 271.653 M63.5152 267.949 Q69.3254 267.949 72.3809 272.556 Q75.4596 277.139 75.4596 285.889 Q75.4596 294.616 72.3809 299.222 Q69.3254 303.806 63.5152 303.806 Q57.7051 303.806 54.6264 299.222 Q51.5708 294.616 51.5708 285.889 Q51.5708 277.139 54.6264 272.556 Q57.7051 267.949 63.5152 267.949 Z\" fill=\"#000000\" fill-rule=\"evenodd\" fill-opacity=\"1\" /><path clip-path=\"url(#clip580)\" d=\"M83.6771 297.255 L88.5614 297.255 L88.5614 303.134 L83.6771 303.134 L83.6771 297.255 Z\" fill=\"#000000\" fill-rule=\"evenodd\" fill-opacity=\"1\" /><path clip-path=\"url(#clip580)\" d=\"M108.746 286.722 Q105.413 286.722 103.492 288.505 Q101.594 290.287 101.594 293.412 Q101.594 296.537 103.492 298.32 Q105.413 300.102 108.746 300.102 Q112.08 300.102 114.001 298.32 Q115.922 296.514 115.922 293.412 Q115.922 290.287 114.001 288.505 Q112.103 286.722 108.746 286.722 M104.071 284.732 Q101.061 283.991 99.3715 281.931 Q97.7048 279.871 97.7048 276.908 Q97.7048 272.764 100.645 270.357 Q103.608 267.949 108.746 267.949 Q113.908 267.949 116.848 270.357 Q119.788 272.764 119.788 276.908 Q119.788 279.871 118.098 281.931 Q116.432 283.991 113.445 284.732 Q116.825 285.519 118.7 287.81 Q120.598 290.102 120.598 293.412 Q120.598 298.435 117.52 301.121 Q114.464 303.806 108.746 303.806 Q103.029 303.806 99.9502 301.121 Q96.8947 298.435 96.8947 293.412 Q96.8947 290.102 98.7928 287.81 Q100.691 285.519 104.071 284.732 M102.358 277.348 Q102.358 280.033 104.024 281.537 Q105.714 283.042 108.746 283.042 Q111.756 283.042 113.445 281.537 Q115.158 280.033 115.158 277.348 Q115.158 274.662 113.445 273.158 Q111.756 271.653 108.746 271.653 Q105.714 271.653 104.024 273.158 Q102.358 274.662 102.358 277.348 Z\" fill=\"#000000\" fill-rule=\"evenodd\" fill-opacity=\"1\" /><polyline clip-path=\"url(#clip582)\" style=\"stroke:#009af9; stroke-linecap:butt; stroke-linejoin:round; stroke-width:4; stroke-opacity:1; fill:none\" points=\"\n",
       "  218.754,728.831 366.743,679.994 514.732,1445.72 662.721,988.767 810.71,178.062 958.699,820.008 1106.69,1292.12 1254.68,428.46 1402.67,87.9763 1550.66,965.516 \n",
       "  1698.64,1326.75 1846.63,723.802 1994.62,111.571 2142.61,724.862 2290.6,1258.6 \n",
       "  \"/>\n",
       "<path clip-path=\"url(#clip580)\" d=\"\n",
       "M1983.1 198.898 L2279.55 198.898 L2279.55 95.2176 L1983.1 95.2176  Z\n",
       "  \" fill=\"#ffffff\" fill-rule=\"evenodd\" fill-opacity=\"1\"/>\n",
       "<polyline clip-path=\"url(#clip580)\" style=\"stroke:#000000; stroke-linecap:butt; stroke-linejoin:round; stroke-width:4; stroke-opacity:1; fill:none\" points=\"\n",
       "  1983.1,198.898 2279.55,198.898 2279.55,95.2176 1983.1,95.2176 1983.1,198.898 \n",
       "  \"/>\n",
       "<polyline clip-path=\"url(#clip580)\" style=\"stroke:#009af9; stroke-linecap:butt; stroke-linejoin:round; stroke-width:4; stroke-opacity:1; fill:none\" points=\"\n",
       "  2007.5,147.058 2153.92,147.058 \n",
       "  \"/>\n",
       "<path clip-path=\"url(#clip580)\" d=\"M2192.16 166.745 Q2190.35 171.375 2188.64 172.787 Q2186.93 174.199 2184.06 174.199 L2180.65 174.199 L2180.65 170.634 L2183.15 170.634 Q2184.91 170.634 2185.89 169.8 Q2186.86 168.967 2188.04 165.865 L2188.8 163.921 L2178.32 138.412 L2182.83 138.412 L2190.93 158.689 L2199.03 138.412 L2203.55 138.412 L2192.16 166.745 Z\" fill=\"#000000\" fill-rule=\"evenodd\" fill-opacity=\"1\" /><path clip-path=\"url(#clip580)\" d=\"M2210.84 160.402 L2218.48 160.402 L2218.48 134.037 L2210.17 135.703 L2210.17 131.444 L2218.43 129.778 L2223.11 129.778 L2223.11 160.402 L2230.75 160.402 L2230.75 164.338 L2210.84 164.338 L2210.84 160.402 Z\" fill=\"#000000\" fill-rule=\"evenodd\" fill-opacity=\"1\" /></svg>\n"
      ]
     },
     "execution_count": 238,
     "metadata": {},
     "output_type": "execute_result"
    }
   ],
   "source": [
    "plot(x, y) # random plot"
   ]
  },
  {
   "cell_type": "code",
   "execution_count": 239,
   "metadata": {},
   "outputs": [],
   "source": [
    "z = rand(15);"
   ]
  },
  {
   "cell_type": "code",
   "execution_count": 240,
   "metadata": {},
   "outputs": [
    {
     "data": {
      "image/svg+xml": [
       "<?xml version=\"1.0\" encoding=\"utf-8\"?>\n",
       "<svg xmlns=\"http://www.w3.org/2000/svg\" xmlns:xlink=\"http://www.w3.org/1999/xlink\" width=\"600\" height=\"400\" viewBox=\"0 0 2400 1600\">\n",
       "<defs>\n",
       "  <clipPath id=\"clip620\">\n",
       "    <rect x=\"0\" y=\"0\" width=\"2400\" height=\"1600\"/>\n",
       "  </clipPath>\n",
       "</defs>\n",
       "<path clip-path=\"url(#clip620)\" d=\"\n",
       "M0 1600 L2400 1600 L2400 0 L0 0  Z\n",
       "  \" fill=\"#ffffff\" fill-rule=\"evenodd\" fill-opacity=\"1\"/>\n",
       "<defs>\n",
       "  <clipPath id=\"clip621\">\n",
       "    <rect x=\"480\" y=\"0\" width=\"1681\" height=\"1600\"/>\n",
       "  </clipPath>\n",
       "</defs>\n",
       "<path clip-path=\"url(#clip620)\" d=\"\n",
       "M186.274 1486.45 L2352.76 1486.45 L2352.76 47.2441 L186.274 47.2441  Z\n",
       "  \" fill=\"#ffffff\" fill-rule=\"evenodd\" fill-opacity=\"1\"/>\n",
       "<defs>\n",
       "  <clipPath id=\"clip622\">\n",
       "    <rect x=\"186\" y=\"47\" width=\"2167\" height=\"1440\"/>\n",
       "  </clipPath>\n",
       "</defs>\n",
       "<polyline clip-path=\"url(#clip622)\" style=\"stroke:#000000; stroke-linecap:butt; stroke-linejoin:round; stroke-width:2; stroke-opacity:0.1; fill:none\" points=\"\n",
       "  393.579,1486.45 393.579,47.2441 \n",
       "  \"/>\n",
       "<polyline clip-path=\"url(#clip622)\" style=\"stroke:#000000; stroke-linecap:butt; stroke-linejoin:round; stroke-width:2; stroke-opacity:0.1; fill:none\" points=\"\n",
       "  685.558,1486.45 685.558,47.2441 \n",
       "  \"/>\n",
       "<polyline clip-path=\"url(#clip622)\" style=\"stroke:#000000; stroke-linecap:butt; stroke-linejoin:round; stroke-width:2; stroke-opacity:0.1; fill:none\" points=\"\n",
       "  977.536,1486.45 977.536,47.2441 \n",
       "  \"/>\n",
       "<polyline clip-path=\"url(#clip622)\" style=\"stroke:#000000; stroke-linecap:butt; stroke-linejoin:round; stroke-width:2; stroke-opacity:0.1; fill:none\" points=\"\n",
       "  1269.51,1486.45 1269.51,47.2441 \n",
       "  \"/>\n",
       "<polyline clip-path=\"url(#clip622)\" style=\"stroke:#000000; stroke-linecap:butt; stroke-linejoin:round; stroke-width:2; stroke-opacity:0.1; fill:none\" points=\"\n",
       "  1561.49,1486.45 1561.49,47.2441 \n",
       "  \"/>\n",
       "<polyline clip-path=\"url(#clip622)\" style=\"stroke:#000000; stroke-linecap:butt; stroke-linejoin:round; stroke-width:2; stroke-opacity:0.1; fill:none\" points=\"\n",
       "  1853.47,1486.45 1853.47,47.2441 \n",
       "  \"/>\n",
       "<polyline clip-path=\"url(#clip622)\" style=\"stroke:#000000; stroke-linecap:butt; stroke-linejoin:round; stroke-width:2; stroke-opacity:0.1; fill:none\" points=\"\n",
       "  2145.45,1486.45 2145.45,47.2441 \n",
       "  \"/>\n",
       "<polyline clip-path=\"url(#clip620)\" style=\"stroke:#000000; stroke-linecap:butt; stroke-linejoin:round; stroke-width:4; stroke-opacity:1; fill:none\" points=\"\n",
       "  186.274,1486.45 2352.76,1486.45 \n",
       "  \"/>\n",
       "<polyline clip-path=\"url(#clip620)\" style=\"stroke:#000000; stroke-linecap:butt; stroke-linejoin:round; stroke-width:4; stroke-opacity:1; fill:none\" points=\"\n",
       "  393.579,1486.45 393.579,1467.55 \n",
       "  \"/>\n",
       "<polyline clip-path=\"url(#clip620)\" style=\"stroke:#000000; stroke-linecap:butt; stroke-linejoin:round; stroke-width:4; stroke-opacity:1; fill:none\" points=\"\n",
       "  685.558,1486.45 685.558,1467.55 \n",
       "  \"/>\n",
       "<polyline clip-path=\"url(#clip620)\" style=\"stroke:#000000; stroke-linecap:butt; stroke-linejoin:round; stroke-width:4; stroke-opacity:1; fill:none\" points=\"\n",
       "  977.536,1486.45 977.536,1467.55 \n",
       "  \"/>\n",
       "<polyline clip-path=\"url(#clip620)\" style=\"stroke:#000000; stroke-linecap:butt; stroke-linejoin:round; stroke-width:4; stroke-opacity:1; fill:none\" points=\"\n",
       "  1269.51,1486.45 1269.51,1467.55 \n",
       "  \"/>\n",
       "<polyline clip-path=\"url(#clip620)\" style=\"stroke:#000000; stroke-linecap:butt; stroke-linejoin:round; stroke-width:4; stroke-opacity:1; fill:none\" points=\"\n",
       "  1561.49,1486.45 1561.49,1467.55 \n",
       "  \"/>\n",
       "<polyline clip-path=\"url(#clip620)\" style=\"stroke:#000000; stroke-linecap:butt; stroke-linejoin:round; stroke-width:4; stroke-opacity:1; fill:none\" points=\"\n",
       "  1853.47,1486.45 1853.47,1467.55 \n",
       "  \"/>\n",
       "<polyline clip-path=\"url(#clip620)\" style=\"stroke:#000000; stroke-linecap:butt; stroke-linejoin:round; stroke-width:4; stroke-opacity:1; fill:none\" points=\"\n",
       "  2145.45,1486.45 2145.45,1467.55 \n",
       "  \"/>\n",
       "<path clip-path=\"url(#clip620)\" d=\"M388.232 1544.91 L404.551 1544.91 L404.551 1548.85 L382.607 1548.85 L382.607 1544.91 Q385.269 1542.16 389.852 1537.53 Q394.458 1532.88 395.639 1531.53 Q397.884 1529.01 398.764 1527.27 Q399.667 1525.51 399.667 1523.82 Q399.667 1521.07 397.722 1519.33 Q395.801 1517.6 392.699 1517.6 Q390.5 1517.6 388.046 1518.36 Q385.616 1519.13 382.838 1520.68 L382.838 1515.95 Q385.662 1514.82 388.116 1514.24 Q390.57 1513.66 392.607 1513.66 Q397.977 1513.66 401.171 1516.35 Q404.366 1519.03 404.366 1523.52 Q404.366 1525.65 403.556 1527.57 Q402.769 1529.47 400.662 1532.07 Q400.083 1532.74 396.982 1535.95 Q393.88 1539.15 388.232 1544.91 Z\" fill=\"#000000\" fill-rule=\"evenodd\" fill-opacity=\"1\" /><path clip-path=\"url(#clip620)\" d=\"M688.567 1518.36 L676.761 1536.81 L688.567 1536.81 L688.567 1518.36 M687.34 1514.29 L693.22 1514.29 L693.22 1536.81 L698.15 1536.81 L698.15 1540.7 L693.22 1540.7 L693.22 1548.85 L688.567 1548.85 L688.567 1540.7 L672.965 1540.7 L672.965 1536.19 L687.34 1514.29 Z\" fill=\"#000000\" fill-rule=\"evenodd\" fill-opacity=\"1\" /><path clip-path=\"url(#clip620)\" d=\"M977.941 1529.7 Q974.793 1529.7 972.941 1531.86 Q971.113 1534.01 971.113 1537.76 Q971.113 1541.49 972.941 1543.66 Q974.793 1545.82 977.941 1545.82 Q981.089 1545.82 982.918 1543.66 Q984.77 1541.49 984.77 1537.76 Q984.77 1534.01 982.918 1531.86 Q981.089 1529.7 977.941 1529.7 M987.224 1515.05 L987.224 1519.31 Q985.464 1518.48 983.659 1518.04 Q981.877 1517.6 980.117 1517.6 Q975.488 1517.6 973.034 1520.72 Q970.603 1523.85 970.256 1530.17 Q971.622 1528.15 973.682 1527.09 Q975.742 1526 978.219 1526 Q983.427 1526 986.437 1529.17 Q989.469 1532.32 989.469 1537.76 Q989.469 1543.08 986.321 1546.3 Q983.173 1549.52 977.941 1549.52 Q971.946 1549.52 968.775 1544.94 Q965.603 1540.33 965.603 1531.6 Q965.603 1523.41 969.492 1518.55 Q973.381 1513.66 979.932 1513.66 Q981.691 1513.66 983.474 1514.01 Q985.279 1514.36 987.224 1515.05 Z\" fill=\"#000000\" fill-rule=\"evenodd\" fill-opacity=\"1\" /><path clip-path=\"url(#clip620)\" d=\"M1269.51 1532.44 Q1266.18 1532.44 1264.26 1534.22 Q1262.36 1536 1262.36 1539.13 Q1262.36 1542.25 1264.26 1544.03 Q1266.18 1545.82 1269.51 1545.82 Q1272.85 1545.82 1274.77 1544.03 Q1276.69 1542.23 1276.69 1539.13 Q1276.69 1536 1274.77 1534.22 Q1272.87 1532.44 1269.51 1532.44 M1264.84 1530.45 Q1261.83 1529.7 1260.14 1527.64 Q1258.47 1525.58 1258.47 1522.62 Q1258.47 1518.48 1261.41 1516.07 Q1264.38 1513.66 1269.51 1513.66 Q1274.68 1513.66 1277.62 1516.07 Q1280.56 1518.48 1280.56 1522.62 Q1280.56 1525.58 1278.87 1527.64 Q1277.2 1529.7 1274.21 1530.45 Q1277.59 1531.23 1279.47 1533.52 Q1281.37 1535.82 1281.37 1539.13 Q1281.37 1544.15 1278.29 1546.83 Q1275.23 1549.52 1269.51 1549.52 Q1263.8 1549.52 1260.72 1546.83 Q1257.66 1544.15 1257.66 1539.13 Q1257.66 1535.82 1259.56 1533.52 Q1261.46 1531.23 1264.84 1530.45 M1263.13 1523.06 Q1263.13 1525.75 1264.79 1527.25 Q1266.48 1528.76 1269.51 1528.76 Q1272.52 1528.76 1274.21 1527.25 Q1275.93 1525.75 1275.93 1523.06 Q1275.93 1520.38 1274.21 1518.87 Q1272.52 1517.37 1269.51 1517.37 Q1266.48 1517.37 1264.79 1518.87 Q1263.13 1520.38 1263.13 1523.06 Z\" fill=\"#000000\" fill-rule=\"evenodd\" fill-opacity=\"1\" /><path clip-path=\"url(#clip620)\" d=\"M1536.18 1544.91 L1543.82 1544.91 L1543.82 1518.55 L1535.51 1520.21 L1535.51 1515.95 L1543.77 1514.29 L1548.45 1514.29 L1548.45 1544.91 L1556.09 1544.91 L1556.09 1548.85 L1536.18 1548.85 L1536.18 1544.91 Z\" fill=\"#000000\" fill-rule=\"evenodd\" fill-opacity=\"1\" /><path clip-path=\"url(#clip620)\" d=\"M1575.53 1517.37 Q1571.92 1517.37 1570.09 1520.93 Q1568.29 1524.47 1568.29 1531.6 Q1568.29 1538.71 1570.09 1542.27 Q1571.92 1545.82 1575.53 1545.82 Q1579.17 1545.82 1580.97 1542.27 Q1582.8 1538.71 1582.8 1531.6 Q1582.8 1524.47 1580.97 1520.93 Q1579.17 1517.37 1575.53 1517.37 M1575.53 1513.66 Q1581.34 1513.66 1584.4 1518.27 Q1587.48 1522.85 1587.48 1531.6 Q1587.48 1540.33 1584.4 1544.94 Q1581.34 1549.52 1575.53 1549.52 Q1569.72 1549.52 1566.64 1544.94 Q1563.59 1540.33 1563.59 1531.6 Q1563.59 1522.85 1566.64 1518.27 Q1569.72 1513.66 1575.53 1513.66 Z\" fill=\"#000000\" fill-rule=\"evenodd\" fill-opacity=\"1\" /><path clip-path=\"url(#clip620)\" d=\"M1828.96 1544.91 L1836.6 1544.91 L1836.6 1518.55 L1828.29 1520.21 L1828.29 1515.95 L1836.55 1514.29 L1841.23 1514.29 L1841.23 1544.91 L1848.87 1544.91 L1848.87 1548.85 L1828.96 1548.85 L1828.96 1544.91 Z\" fill=\"#000000\" fill-rule=\"evenodd\" fill-opacity=\"1\" /><path clip-path=\"url(#clip620)\" d=\"M1862.34 1544.91 L1878.66 1544.91 L1878.66 1548.85 L1856.71 1548.85 L1856.71 1544.91 Q1859.38 1542.16 1863.96 1537.53 Q1868.56 1532.88 1869.75 1531.53 Q1871.99 1529.01 1872.87 1527.27 Q1873.77 1525.51 1873.77 1523.82 Q1873.77 1521.07 1871.83 1519.33 Q1869.91 1517.6 1866.81 1517.6 Q1864.61 1517.6 1862.15 1518.36 Q1859.72 1519.13 1856.94 1520.68 L1856.94 1515.95 Q1859.77 1514.82 1862.22 1514.24 Q1864.68 1513.66 1866.71 1513.66 Q1872.08 1513.66 1875.28 1516.35 Q1878.47 1519.03 1878.47 1523.52 Q1878.47 1525.65 1877.66 1527.57 Q1876.87 1529.47 1874.77 1532.07 Q1874.19 1532.74 1871.09 1535.95 Q1867.99 1539.15 1862.34 1544.91 Z\" fill=\"#000000\" fill-rule=\"evenodd\" fill-opacity=\"1\" /><path clip-path=\"url(#clip620)\" d=\"M2119.9 1544.91 L2127.53 1544.91 L2127.53 1518.55 L2119.22 1520.21 L2119.22 1515.95 L2127.49 1514.29 L2132.16 1514.29 L2132.16 1544.91 L2139.8 1544.91 L2139.8 1548.85 L2119.9 1548.85 L2119.9 1544.91 Z\" fill=\"#000000\" fill-rule=\"evenodd\" fill-opacity=\"1\" /><path clip-path=\"url(#clip620)\" d=\"M2162.09 1518.36 L2150.29 1536.81 L2162.09 1536.81 L2162.09 1518.36 M2160.87 1514.29 L2166.75 1514.29 L2166.75 1536.81 L2171.68 1536.81 L2171.68 1540.7 L2166.75 1540.7 L2166.75 1548.85 L2162.09 1548.85 L2162.09 1540.7 L2146.49 1540.7 L2146.49 1536.19 L2160.87 1514.29 Z\" fill=\"#000000\" fill-rule=\"evenodd\" fill-opacity=\"1\" /><polyline clip-path=\"url(#clip622)\" style=\"stroke:#000000; stroke-linecap:butt; stroke-linejoin:round; stroke-width:2; stroke-opacity:0.1; fill:none\" points=\"\n",
       "  186.274,1472.31 2352.76,1472.31 \n",
       "  \"/>\n",
       "<polyline clip-path=\"url(#clip622)\" style=\"stroke:#000000; stroke-linecap:butt; stroke-linejoin:round; stroke-width:2; stroke-opacity:0.1; fill:none\" points=\"\n",
       "  186.274,1116.63 2352.76,1116.63 \n",
       "  \"/>\n",
       "<polyline clip-path=\"url(#clip622)\" style=\"stroke:#000000; stroke-linecap:butt; stroke-linejoin:round; stroke-width:2; stroke-opacity:0.1; fill:none\" points=\"\n",
       "  186.274,760.955 2352.76,760.955 \n",
       "  \"/>\n",
       "<polyline clip-path=\"url(#clip622)\" style=\"stroke:#000000; stroke-linecap:butt; stroke-linejoin:round; stroke-width:2; stroke-opacity:0.1; fill:none\" points=\"\n",
       "  186.274,405.277 2352.76,405.277 \n",
       "  \"/>\n",
       "<polyline clip-path=\"url(#clip622)\" style=\"stroke:#000000; stroke-linecap:butt; stroke-linejoin:round; stroke-width:2; stroke-opacity:0.1; fill:none\" points=\"\n",
       "  186.274,49.5998 2352.76,49.5998 \n",
       "  \"/>\n",
       "<polyline clip-path=\"url(#clip620)\" style=\"stroke:#000000; stroke-linecap:butt; stroke-linejoin:round; stroke-width:4; stroke-opacity:1; fill:none\" points=\"\n",
       "  186.274,1486.45 186.274,47.2441 \n",
       "  \"/>\n",
       "<polyline clip-path=\"url(#clip620)\" style=\"stroke:#000000; stroke-linecap:butt; stroke-linejoin:round; stroke-width:4; stroke-opacity:1; fill:none\" points=\"\n",
       "  186.274,1472.31 205.172,1472.31 \n",
       "  \"/>\n",
       "<polyline clip-path=\"url(#clip620)\" style=\"stroke:#000000; stroke-linecap:butt; stroke-linejoin:round; stroke-width:4; stroke-opacity:1; fill:none\" points=\"\n",
       "  186.274,1116.63 205.172,1116.63 \n",
       "  \"/>\n",
       "<polyline clip-path=\"url(#clip620)\" style=\"stroke:#000000; stroke-linecap:butt; stroke-linejoin:round; stroke-width:4; stroke-opacity:1; fill:none\" points=\"\n",
       "  186.274,760.955 205.172,760.955 \n",
       "  \"/>\n",
       "<polyline clip-path=\"url(#clip620)\" style=\"stroke:#000000; stroke-linecap:butt; stroke-linejoin:round; stroke-width:4; stroke-opacity:1; fill:none\" points=\"\n",
       "  186.274,405.277 205.172,405.277 \n",
       "  \"/>\n",
       "<polyline clip-path=\"url(#clip620)\" style=\"stroke:#000000; stroke-linecap:butt; stroke-linejoin:round; stroke-width:4; stroke-opacity:1; fill:none\" points=\"\n",
       "  186.274,49.5998 205.172,49.5998 \n",
       "  \"/>\n",
       "<path clip-path=\"url(#clip620)\" d=\"M62.9365 1458.11 Q59.3254 1458.11 57.4967 1461.67 Q55.6912 1465.22 55.6912 1472.34 Q55.6912 1479.45 57.4967 1483.02 Q59.3254 1486.56 62.9365 1486.56 Q66.5707 1486.56 68.3763 1483.02 Q70.205 1479.45 70.205 1472.34 Q70.205 1465.22 68.3763 1461.67 Q66.5707 1458.11 62.9365 1458.11 M62.9365 1454.41 Q68.7467 1454.41 71.8022 1459.01 Q74.8809 1463.59 74.8809 1472.34 Q74.8809 1481.07 71.8022 1485.68 Q68.7467 1490.26 62.9365 1490.26 Q57.1264 1490.26 54.0477 1485.68 Q50.9921 1481.07 50.9921 1472.34 Q50.9921 1463.59 54.0477 1459.01 Q57.1264 1454.41 62.9365 1454.41 Z\" fill=\"#000000\" fill-rule=\"evenodd\" fill-opacity=\"1\" /><path clip-path=\"url(#clip620)\" d=\"M83.0984 1483.71 L87.9827 1483.71 L87.9827 1489.59 L83.0984 1489.59 L83.0984 1483.71 Z\" fill=\"#000000\" fill-rule=\"evenodd\" fill-opacity=\"1\" /><path clip-path=\"url(#clip620)\" d=\"M108.168 1458.11 Q104.557 1458.11 102.728 1461.67 Q100.922 1465.22 100.922 1472.34 Q100.922 1479.45 102.728 1483.02 Q104.557 1486.56 108.168 1486.56 Q111.802 1486.56 113.608 1483.02 Q115.436 1479.45 115.436 1472.34 Q115.436 1465.22 113.608 1461.67 Q111.802 1458.11 108.168 1458.11 M108.168 1454.41 Q113.978 1454.41 117.033 1459.01 Q120.112 1463.59 120.112 1472.34 Q120.112 1481.07 117.033 1485.68 Q113.978 1490.26 108.168 1490.26 Q102.358 1490.26 99.2789 1485.68 Q96.2234 1481.07 96.2234 1472.34 Q96.2234 1463.59 99.2789 1459.01 Q102.358 1454.41 108.168 1454.41 Z\" fill=\"#000000\" fill-rule=\"evenodd\" fill-opacity=\"1\" /><path clip-path=\"url(#clip620)\" d=\"M138.33 1458.11 Q134.719 1458.11 132.89 1461.67 Q131.084 1465.22 131.084 1472.34 Q131.084 1479.45 132.89 1483.02 Q134.719 1486.56 138.33 1486.56 Q141.964 1486.56 143.769 1483.02 Q145.598 1479.45 145.598 1472.34 Q145.598 1465.22 143.769 1461.67 Q141.964 1458.11 138.33 1458.11 M138.33 1454.41 Q144.14 1454.41 147.195 1459.01 Q150.274 1463.59 150.274 1472.34 Q150.274 1481.07 147.195 1485.68 Q144.14 1490.26 138.33 1490.26 Q132.519 1490.26 129.441 1485.68 Q126.385 1481.07 126.385 1472.34 Q126.385 1463.59 129.441 1459.01 Q132.519 1454.41 138.33 1454.41 Z\" fill=\"#000000\" fill-rule=\"evenodd\" fill-opacity=\"1\" /><path clip-path=\"url(#clip620)\" d=\"M63.9319 1102.43 Q60.3208 1102.43 58.4921 1106 Q56.6865 1109.54 56.6865 1116.67 Q56.6865 1123.77 58.4921 1127.34 Q60.3208 1130.88 63.9319 1130.88 Q67.5661 1130.88 69.3717 1127.34 Q71.2004 1123.77 71.2004 1116.67 Q71.2004 1109.54 69.3717 1106 Q67.5661 1102.43 63.9319 1102.43 M63.9319 1098.73 Q69.742 1098.73 72.7976 1103.33 Q75.8763 1107.92 75.8763 1116.67 Q75.8763 1125.39 72.7976 1130 Q69.742 1134.58 63.9319 1134.58 Q58.1217 1134.58 55.043 1130 Q51.9875 1125.39 51.9875 1116.67 Q51.9875 1107.92 55.043 1103.33 Q58.1217 1098.73 63.9319 1098.73 Z\" fill=\"#000000\" fill-rule=\"evenodd\" fill-opacity=\"1\" /><path clip-path=\"url(#clip620)\" d=\"M84.0938 1128.03 L88.978 1128.03 L88.978 1133.91 L84.0938 1133.91 L84.0938 1128.03 Z\" fill=\"#000000\" fill-rule=\"evenodd\" fill-opacity=\"1\" /><path clip-path=\"url(#clip620)\" d=\"M103.191 1129.98 L119.51 1129.98 L119.51 1133.91 L97.566 1133.91 L97.566 1129.98 Q100.228 1127.22 104.811 1122.59 Q109.418 1117.94 110.598 1116.6 Q112.844 1114.07 113.723 1112.34 Q114.626 1110.58 114.626 1108.89 Q114.626 1106.13 112.682 1104.4 Q110.76 1102.66 107.658 1102.66 Q105.459 1102.66 103.006 1103.43 Q100.575 1104.19 97.7974 1105.74 L97.7974 1101.02 Q100.621 1099.89 103.075 1099.31 Q105.529 1098.73 107.566 1098.73 Q112.936 1098.73 116.131 1101.41 Q119.325 1104.1 119.325 1108.59 Q119.325 1110.72 118.515 1112.64 Q117.728 1114.54 115.621 1117.13 Q115.043 1117.8 111.941 1121.02 Q108.839 1124.21 103.191 1129.98 Z\" fill=\"#000000\" fill-rule=\"evenodd\" fill-opacity=\"1\" /><path clip-path=\"url(#clip620)\" d=\"M129.371 1099.35 L147.728 1099.35 L147.728 1103.29 L133.654 1103.29 L133.654 1111.76 Q134.672 1111.41 135.691 1111.25 Q136.709 1111.07 137.728 1111.07 Q143.515 1111.07 146.894 1114.24 Q150.274 1117.41 150.274 1122.82 Q150.274 1128.4 146.802 1131.51 Q143.33 1134.58 137.01 1134.58 Q134.834 1134.58 132.566 1134.21 Q130.32 1133.84 127.913 1133.1 L127.913 1128.4 Q129.996 1129.54 132.219 1130.09 Q134.441 1130.65 136.918 1130.65 Q140.922 1130.65 143.26 1128.54 Q145.598 1126.44 145.598 1122.82 Q145.598 1119.21 143.26 1117.11 Q140.922 1115 136.918 1115 Q135.043 1115 133.168 1115.42 Q131.316 1115.83 129.371 1116.71 L129.371 1099.35 Z\" fill=\"#000000\" fill-rule=\"evenodd\" fill-opacity=\"1\" /><path clip-path=\"url(#clip620)\" d=\"M62.9365 746.754 Q59.3254 746.754 57.4967 750.319 Q55.6912 753.86 55.6912 760.99 Q55.6912 768.096 57.4967 771.661 Q59.3254 775.203 62.9365 775.203 Q66.5707 775.203 68.3763 771.661 Q70.205 768.096 70.205 760.99 Q70.205 753.86 68.3763 750.319 Q66.5707 746.754 62.9365 746.754 M62.9365 743.05 Q68.7467 743.05 71.8022 747.656 Q74.8809 752.24 74.8809 760.99 Q74.8809 769.717 71.8022 774.323 Q68.7467 778.906 62.9365 778.906 Q57.1264 778.906 54.0477 774.323 Q50.9921 769.717 50.9921 760.99 Q50.9921 752.24 54.0477 747.656 Q57.1264 743.05 62.9365 743.05 Z\" fill=\"#000000\" fill-rule=\"evenodd\" fill-opacity=\"1\" /><path clip-path=\"url(#clip620)\" d=\"M83.0984 772.355 L87.9827 772.355 L87.9827 778.235 L83.0984 778.235 L83.0984 772.355 Z\" fill=\"#000000\" fill-rule=\"evenodd\" fill-opacity=\"1\" /><path clip-path=\"url(#clip620)\" d=\"M98.2141 743.675 L116.57 743.675 L116.57 747.61 L102.496 747.61 L102.496 756.082 Q103.515 755.735 104.534 755.573 Q105.552 755.388 106.571 755.388 Q112.358 755.388 115.737 758.559 Q119.117 761.73 119.117 767.147 Q119.117 772.726 115.645 775.828 Q112.172 778.906 105.853 778.906 Q103.677 778.906 101.409 778.536 Q99.1632 778.166 96.7558 777.425 L96.7558 772.726 Q98.8391 773.86 101.061 774.416 Q103.284 774.971 105.76 774.971 Q109.765 774.971 112.103 772.865 Q114.441 770.758 114.441 767.147 Q114.441 763.536 112.103 761.43 Q109.765 759.323 105.76 759.323 Q103.885 759.323 102.01 759.74 Q100.159 760.156 98.2141 761.036 L98.2141 743.675 Z\" fill=\"#000000\" fill-rule=\"evenodd\" fill-opacity=\"1\" /><path clip-path=\"url(#clip620)\" d=\"M138.33 746.754 Q134.719 746.754 132.89 750.319 Q131.084 753.86 131.084 760.99 Q131.084 768.096 132.89 771.661 Q134.719 775.203 138.33 775.203 Q141.964 775.203 143.769 771.661 Q145.598 768.096 145.598 760.99 Q145.598 753.86 143.769 750.319 Q141.964 746.754 138.33 746.754 M138.33 743.05 Q144.14 743.05 147.195 747.656 Q150.274 752.24 150.274 760.99 Q150.274 769.717 147.195 774.323 Q144.14 778.906 138.33 778.906 Q132.519 778.906 129.441 774.323 Q126.385 769.717 126.385 760.99 Q126.385 752.24 129.441 747.656 Q132.519 743.05 138.33 743.05 Z\" fill=\"#000000\" fill-rule=\"evenodd\" fill-opacity=\"1\" /><path clip-path=\"url(#clip620)\" d=\"M63.9319 391.076 Q60.3208 391.076 58.4921 394.641 Q56.6865 398.183 56.6865 405.312 Q56.6865 412.419 58.4921 415.983 Q60.3208 419.525 63.9319 419.525 Q67.5661 419.525 69.3717 415.983 Q71.2004 412.419 71.2004 405.312 Q71.2004 398.183 69.3717 394.641 Q67.5661 391.076 63.9319 391.076 M63.9319 387.372 Q69.742 387.372 72.7976 391.979 Q75.8763 396.562 75.8763 405.312 Q75.8763 414.039 72.7976 418.645 Q69.742 423.229 63.9319 423.229 Q58.1217 423.229 55.043 418.645 Q51.9875 414.039 51.9875 405.312 Q51.9875 396.562 55.043 391.979 Q58.1217 387.372 63.9319 387.372 Z\" fill=\"#000000\" fill-rule=\"evenodd\" fill-opacity=\"1\" /><path clip-path=\"url(#clip620)\" d=\"M84.0938 416.678 L88.978 416.678 L88.978 422.557 L84.0938 422.557 L84.0938 416.678 Z\" fill=\"#000000\" fill-rule=\"evenodd\" fill-opacity=\"1\" /><path clip-path=\"url(#clip620)\" d=\"M97.9826 387.997 L120.205 387.997 L120.205 389.988 L107.658 422.557 L102.774 422.557 L114.58 391.933 L97.9826 391.933 L97.9826 387.997 Z\" fill=\"#000000\" fill-rule=\"evenodd\" fill-opacity=\"1\" /><path clip-path=\"url(#clip620)\" d=\"M129.371 387.997 L147.728 387.997 L147.728 391.933 L133.654 391.933 L133.654 400.405 Q134.672 400.058 135.691 399.896 Q136.709 399.71 137.728 399.71 Q143.515 399.71 146.894 402.882 Q150.274 406.053 150.274 411.47 Q150.274 417.048 146.802 420.15 Q143.33 423.229 137.01 423.229 Q134.834 423.229 132.566 422.858 Q130.32 422.488 127.913 421.747 L127.913 417.048 Q129.996 418.182 132.219 418.738 Q134.441 419.294 136.918 419.294 Q140.922 419.294 143.26 417.187 Q145.598 415.081 145.598 411.47 Q145.598 407.858 143.26 405.752 Q140.922 403.645 136.918 403.645 Q135.043 403.645 133.168 404.062 Q131.316 404.479 129.371 405.358 L129.371 387.997 Z\" fill=\"#000000\" fill-rule=\"evenodd\" fill-opacity=\"1\" /><path clip-path=\"url(#clip620)\" d=\"M53.7467 62.9447 L61.3856 62.9447 L61.3856 36.5791 L53.0754 38.2457 L53.0754 33.9865 L61.3393 32.3198 L66.0152 32.3198 L66.0152 62.9447 L73.654 62.9447 L73.654 66.8798 L53.7467 66.8798 L53.7467 62.9447 Z\" fill=\"#000000\" fill-rule=\"evenodd\" fill-opacity=\"1\" /><path clip-path=\"url(#clip620)\" d=\"M83.0984 61.0002 L87.9827 61.0002 L87.9827 66.8798 L83.0984 66.8798 L83.0984 61.0002 Z\" fill=\"#000000\" fill-rule=\"evenodd\" fill-opacity=\"1\" /><path clip-path=\"url(#clip620)\" d=\"M108.168 35.3985 Q104.557 35.3985 102.728 38.9633 Q100.922 42.505 100.922 49.6346 Q100.922 56.741 102.728 60.3058 Q104.557 63.8474 108.168 63.8474 Q111.802 63.8474 113.608 60.3058 Q115.436 56.741 115.436 49.6346 Q115.436 42.505 113.608 38.9633 Q111.802 35.3985 108.168 35.3985 M108.168 31.6948 Q113.978 31.6948 117.033 36.3013 Q120.112 40.8846 120.112 49.6346 Q120.112 58.3614 117.033 62.9678 Q113.978 67.5511 108.168 67.5511 Q102.358 67.5511 99.2789 62.9678 Q96.2234 58.3614 96.2234 49.6346 Q96.2234 40.8846 99.2789 36.3013 Q102.358 31.6948 108.168 31.6948 Z\" fill=\"#000000\" fill-rule=\"evenodd\" fill-opacity=\"1\" /><path clip-path=\"url(#clip620)\" d=\"M138.33 35.3985 Q134.719 35.3985 132.89 38.9633 Q131.084 42.505 131.084 49.6346 Q131.084 56.741 132.89 60.3058 Q134.719 63.8474 138.33 63.8474 Q141.964 63.8474 143.769 60.3058 Q145.598 56.741 145.598 49.6346 Q145.598 42.505 143.769 38.9633 Q141.964 35.3985 138.33 35.3985 M138.33 31.6948 Q144.14 31.6948 147.195 36.3013 Q150.274 40.8846 150.274 49.6346 Q150.274 58.3614 147.195 62.9678 Q144.14 67.5511 138.33 67.5511 Q132.519 67.5511 129.441 62.9678 Q126.385 58.3614 126.385 49.6346 Q126.385 40.8846 129.441 36.3013 Q132.519 31.6948 138.33 31.6948 Z\" fill=\"#000000\" fill-rule=\"evenodd\" fill-opacity=\"1\" /><polyline clip-path=\"url(#clip622)\" style=\"stroke:#009af9; stroke-linecap:butt; stroke-linejoin:round; stroke-width:4; stroke-opacity:1; fill:none\" points=\"\n",
       "  247.59,758.677 393.579,711.872 539.568,1445.72 685.558,1007.79 831.547,230.837 977.536,846.058 1123.53,1298.51 1269.51,470.81 1415.5,144.502 1561.49,985.508 \n",
       "  1707.48,1331.7 1853.47,753.856 1999.46,167.114 2145.45,754.873 2291.44,1266.39 \n",
       "  \"/>\n",
       "<polyline clip-path=\"url(#clip622)\" style=\"stroke:#e26f46; stroke-linecap:butt; stroke-linejoin:round; stroke-width:4; stroke-opacity:1; fill:none\" points=\"\n",
       "  247.59,581.438 393.579,1046.52 539.568,197.595 685.558,1132.08 831.547,349.072 977.536,1105.75 1123.53,252.728 1269.51,238.469 1415.5,1222.15 1561.49,427.695 \n",
       "  1707.48,834.455 1853.47,1405.85 1999.46,208.146 2145.45,87.9763 2291.44,372.448 \n",
       "  \"/>\n",
       "<path clip-path=\"url(#clip620)\" d=\"\n",
       "M1987.39 250.738 L2280.54 250.738 L2280.54 95.2176 L1987.39 95.2176  Z\n",
       "  \" fill=\"#ffffff\" fill-rule=\"evenodd\" fill-opacity=\"1\"/>\n",
       "<polyline clip-path=\"url(#clip620)\" style=\"stroke:#000000; stroke-linecap:butt; stroke-linejoin:round; stroke-width:4; stroke-opacity:1; fill:none\" points=\"\n",
       "  1987.39,250.738 2280.54,250.738 2280.54,95.2176 1987.39,95.2176 1987.39,250.738 \n",
       "  \"/>\n",
       "<polyline clip-path=\"url(#clip620)\" style=\"stroke:#009af9; stroke-linecap:butt; stroke-linejoin:round; stroke-width:4; stroke-opacity:1; fill:none\" points=\"\n",
       "  2011.46,147.058 2155.89,147.058 \n",
       "  \"/>\n",
       "<path clip-path=\"url(#clip620)\" d=\"M2193.81 166.745 Q2192 171.375 2190.29 172.787 Q2188.58 174.199 2185.71 174.199 L2182.3 174.199 L2182.3 170.634 L2184.8 170.634 Q2186.56 170.634 2187.53 169.8 Q2188.51 168.967 2189.69 165.865 L2190.45 163.921 L2179.97 138.412 L2184.48 138.412 L2192.58 158.689 L2200.68 138.412 L2205.2 138.412 L2193.81 166.745 Z\" fill=\"#000000\" fill-rule=\"evenodd\" fill-opacity=\"1\" /><path clip-path=\"url(#clip620)\" d=\"M2212.49 160.402 L2220.13 160.402 L2220.13 134.037 L2211.82 135.703 L2211.82 131.444 L2220.08 129.778 L2224.76 129.778 L2224.76 160.402 L2232.4 160.402 L2232.4 164.338 L2212.49 164.338 L2212.49 160.402 Z\" fill=\"#000000\" fill-rule=\"evenodd\" fill-opacity=\"1\" /><polyline clip-path=\"url(#clip620)\" style=\"stroke:#e26f46; stroke-linecap:butt; stroke-linejoin:round; stroke-width:4; stroke-opacity:1; fill:none\" points=\"\n",
       "  2011.46,198.898 2155.89,198.898 \n",
       "  \"/>\n",
       "<path clip-path=\"url(#clip620)\" d=\"M2193.81 218.585 Q2192 223.215 2190.29 224.627 Q2188.58 226.039 2185.71 226.039 L2182.3 226.039 L2182.3 222.474 L2184.8 222.474 Q2186.56 222.474 2187.53 221.64 Q2188.51 220.807 2189.69 217.705 L2190.45 215.761 L2179.97 190.252 L2184.48 190.252 L2192.58 210.529 L2200.68 190.252 L2205.2 190.252 L2193.81 218.585 Z\" fill=\"#000000\" fill-rule=\"evenodd\" fill-opacity=\"1\" /><path clip-path=\"url(#clip620)\" d=\"M2215.71 212.242 L2232.03 212.242 L2232.03 216.178 L2210.08 216.178 L2210.08 212.242 Q2212.74 209.488 2217.33 204.858 Q2221.93 200.205 2223.11 198.863 Q2225.36 196.34 2226.24 194.604 Q2227.14 192.844 2227.14 191.155 Q2227.14 188.4 2225.2 186.664 Q2223.28 184.928 2220.17 184.928 Q2217.97 184.928 2215.52 185.692 Q2213.09 186.455 2210.31 188.006 L2210.31 183.284 Q2213.14 182.15 2215.59 181.571 Q2218.04 180.993 2220.08 180.993 Q2225.45 180.993 2228.65 183.678 Q2231.84 186.363 2231.84 190.854 Q2231.84 192.983 2231.03 194.905 Q2230.24 196.803 2228.14 199.395 Q2227.56 200.067 2224.46 203.284 Q2221.35 206.479 2215.71 212.242 Z\" fill=\"#000000\" fill-rule=\"evenodd\" fill-opacity=\"1\" /></svg>\n"
      ]
     },
     "execution_count": 240,
     "metadata": {},
     "output_type": "execute_result"
    }
   ],
   "source": [
    "plot!(x, z)"
   ]
  },
  {
   "cell_type": "code",
   "execution_count": 244,
   "metadata": {},
   "outputs": [
    {
     "data": {
      "image/svg+xml": [
       "<?xml version=\"1.0\" encoding=\"utf-8\"?>\n",
       "<svg xmlns=\"http://www.w3.org/2000/svg\" xmlns:xlink=\"http://www.w3.org/1999/xlink\" width=\"600\" height=\"400\" viewBox=\"0 0 2400 1600\">\n",
       "<defs>\n",
       "  <clipPath id=\"clip660\">\n",
       "    <rect x=\"0\" y=\"0\" width=\"2400\" height=\"1600\"/>\n",
       "  </clipPath>\n",
       "</defs>\n",
       "<path clip-path=\"url(#clip660)\" d=\"\n",
       "M0 1600 L2400 1600 L2400 0 L0 0  Z\n",
       "  \" fill=\"#ffffff\" fill-rule=\"evenodd\" fill-opacity=\"1\"/>\n",
       "<defs>\n",
       "  <clipPath id=\"clip661\">\n",
       "    <rect x=\"480\" y=\"0\" width=\"1681\" height=\"1600\"/>\n",
       "  </clipPath>\n",
       "</defs>\n",
       "<path clip-path=\"url(#clip660)\" d=\"\n",
       "M186.274 1486.45 L2352.76 1486.45 L2352.76 47.2441 L186.274 47.2441  Z\n",
       "  \" fill=\"#ffffff\" fill-rule=\"evenodd\" fill-opacity=\"1\"/>\n",
       "<defs>\n",
       "  <clipPath id=\"clip662\">\n",
       "    <rect x=\"186\" y=\"47\" width=\"2167\" height=\"1440\"/>\n",
       "  </clipPath>\n",
       "</defs>\n",
       "<polyline clip-path=\"url(#clip662)\" style=\"stroke:#000000; stroke-linecap:butt; stroke-linejoin:round; stroke-width:2; stroke-opacity:0.1; fill:none\" points=\"\n",
       "  393.579,1486.45 393.579,47.2441 \n",
       "  \"/>\n",
       "<polyline clip-path=\"url(#clip662)\" style=\"stroke:#000000; stroke-linecap:butt; stroke-linejoin:round; stroke-width:2; stroke-opacity:0.1; fill:none\" points=\"\n",
       "  685.558,1486.45 685.558,47.2441 \n",
       "  \"/>\n",
       "<polyline clip-path=\"url(#clip662)\" style=\"stroke:#000000; stroke-linecap:butt; stroke-linejoin:round; stroke-width:2; stroke-opacity:0.1; fill:none\" points=\"\n",
       "  977.536,1486.45 977.536,47.2441 \n",
       "  \"/>\n",
       "<polyline clip-path=\"url(#clip662)\" style=\"stroke:#000000; stroke-linecap:butt; stroke-linejoin:round; stroke-width:2; stroke-opacity:0.1; fill:none\" points=\"\n",
       "  1269.51,1486.45 1269.51,47.2441 \n",
       "  \"/>\n",
       "<polyline clip-path=\"url(#clip662)\" style=\"stroke:#000000; stroke-linecap:butt; stroke-linejoin:round; stroke-width:2; stroke-opacity:0.1; fill:none\" points=\"\n",
       "  1561.49,1486.45 1561.49,47.2441 \n",
       "  \"/>\n",
       "<polyline clip-path=\"url(#clip662)\" style=\"stroke:#000000; stroke-linecap:butt; stroke-linejoin:round; stroke-width:2; stroke-opacity:0.1; fill:none\" points=\"\n",
       "  1853.47,1486.45 1853.47,47.2441 \n",
       "  \"/>\n",
       "<polyline clip-path=\"url(#clip662)\" style=\"stroke:#000000; stroke-linecap:butt; stroke-linejoin:round; stroke-width:2; stroke-opacity:0.1; fill:none\" points=\"\n",
       "  2145.45,1486.45 2145.45,47.2441 \n",
       "  \"/>\n",
       "<polyline clip-path=\"url(#clip660)\" style=\"stroke:#000000; stroke-linecap:butt; stroke-linejoin:round; stroke-width:4; stroke-opacity:1; fill:none\" points=\"\n",
       "  186.274,1486.45 2352.76,1486.45 \n",
       "  \"/>\n",
       "<polyline clip-path=\"url(#clip660)\" style=\"stroke:#000000; stroke-linecap:butt; stroke-linejoin:round; stroke-width:4; stroke-opacity:1; fill:none\" points=\"\n",
       "  393.579,1486.45 393.579,1467.55 \n",
       "  \"/>\n",
       "<polyline clip-path=\"url(#clip660)\" style=\"stroke:#000000; stroke-linecap:butt; stroke-linejoin:round; stroke-width:4; stroke-opacity:1; fill:none\" points=\"\n",
       "  685.558,1486.45 685.558,1467.55 \n",
       "  \"/>\n",
       "<polyline clip-path=\"url(#clip660)\" style=\"stroke:#000000; stroke-linecap:butt; stroke-linejoin:round; stroke-width:4; stroke-opacity:1; fill:none\" points=\"\n",
       "  977.536,1486.45 977.536,1467.55 \n",
       "  \"/>\n",
       "<polyline clip-path=\"url(#clip660)\" style=\"stroke:#000000; stroke-linecap:butt; stroke-linejoin:round; stroke-width:4; stroke-opacity:1; fill:none\" points=\"\n",
       "  1269.51,1486.45 1269.51,1467.55 \n",
       "  \"/>\n",
       "<polyline clip-path=\"url(#clip660)\" style=\"stroke:#000000; stroke-linecap:butt; stroke-linejoin:round; stroke-width:4; stroke-opacity:1; fill:none\" points=\"\n",
       "  1561.49,1486.45 1561.49,1467.55 \n",
       "  \"/>\n",
       "<polyline clip-path=\"url(#clip660)\" style=\"stroke:#000000; stroke-linecap:butt; stroke-linejoin:round; stroke-width:4; stroke-opacity:1; fill:none\" points=\"\n",
       "  1853.47,1486.45 1853.47,1467.55 \n",
       "  \"/>\n",
       "<polyline clip-path=\"url(#clip660)\" style=\"stroke:#000000; stroke-linecap:butt; stroke-linejoin:round; stroke-width:4; stroke-opacity:1; fill:none\" points=\"\n",
       "  2145.45,1486.45 2145.45,1467.55 \n",
       "  \"/>\n",
       "<path clip-path=\"url(#clip660)\" d=\"M388.232 1544.91 L404.551 1544.91 L404.551 1548.85 L382.607 1548.85 L382.607 1544.91 Q385.269 1542.16 389.852 1537.53 Q394.458 1532.88 395.639 1531.53 Q397.884 1529.01 398.764 1527.27 Q399.667 1525.51 399.667 1523.82 Q399.667 1521.07 397.722 1519.33 Q395.801 1517.6 392.699 1517.6 Q390.5 1517.6 388.046 1518.36 Q385.616 1519.13 382.838 1520.68 L382.838 1515.95 Q385.662 1514.82 388.116 1514.24 Q390.57 1513.66 392.607 1513.66 Q397.977 1513.66 401.171 1516.35 Q404.366 1519.03 404.366 1523.52 Q404.366 1525.65 403.556 1527.57 Q402.769 1529.47 400.662 1532.07 Q400.083 1532.74 396.982 1535.95 Q393.88 1539.15 388.232 1544.91 Z\" fill=\"#000000\" fill-rule=\"evenodd\" fill-opacity=\"1\" /><path clip-path=\"url(#clip660)\" d=\"M688.567 1518.36 L676.761 1536.81 L688.567 1536.81 L688.567 1518.36 M687.34 1514.29 L693.22 1514.29 L693.22 1536.81 L698.15 1536.81 L698.15 1540.7 L693.22 1540.7 L693.22 1548.85 L688.567 1548.85 L688.567 1540.7 L672.965 1540.7 L672.965 1536.19 L687.34 1514.29 Z\" fill=\"#000000\" fill-rule=\"evenodd\" fill-opacity=\"1\" /><path clip-path=\"url(#clip660)\" d=\"M977.941 1529.7 Q974.793 1529.7 972.941 1531.86 Q971.113 1534.01 971.113 1537.76 Q971.113 1541.49 972.941 1543.66 Q974.793 1545.82 977.941 1545.82 Q981.089 1545.82 982.918 1543.66 Q984.77 1541.49 984.77 1537.76 Q984.77 1534.01 982.918 1531.86 Q981.089 1529.7 977.941 1529.7 M987.224 1515.05 L987.224 1519.31 Q985.464 1518.48 983.659 1518.04 Q981.877 1517.6 980.117 1517.6 Q975.488 1517.6 973.034 1520.72 Q970.603 1523.85 970.256 1530.17 Q971.622 1528.15 973.682 1527.09 Q975.742 1526 978.219 1526 Q983.427 1526 986.437 1529.17 Q989.469 1532.32 989.469 1537.76 Q989.469 1543.08 986.321 1546.3 Q983.173 1549.52 977.941 1549.52 Q971.946 1549.52 968.775 1544.94 Q965.603 1540.33 965.603 1531.6 Q965.603 1523.41 969.492 1518.55 Q973.381 1513.66 979.932 1513.66 Q981.691 1513.66 983.474 1514.01 Q985.279 1514.36 987.224 1515.05 Z\" fill=\"#000000\" fill-rule=\"evenodd\" fill-opacity=\"1\" /><path clip-path=\"url(#clip660)\" d=\"M1269.51 1532.44 Q1266.18 1532.44 1264.26 1534.22 Q1262.36 1536 1262.36 1539.13 Q1262.36 1542.25 1264.26 1544.03 Q1266.18 1545.82 1269.51 1545.82 Q1272.85 1545.82 1274.77 1544.03 Q1276.69 1542.23 1276.69 1539.13 Q1276.69 1536 1274.77 1534.22 Q1272.87 1532.44 1269.51 1532.44 M1264.84 1530.45 Q1261.83 1529.7 1260.14 1527.64 Q1258.47 1525.58 1258.47 1522.62 Q1258.47 1518.48 1261.41 1516.07 Q1264.38 1513.66 1269.51 1513.66 Q1274.68 1513.66 1277.62 1516.07 Q1280.56 1518.48 1280.56 1522.62 Q1280.56 1525.58 1278.87 1527.64 Q1277.2 1529.7 1274.21 1530.45 Q1277.59 1531.23 1279.47 1533.52 Q1281.37 1535.82 1281.37 1539.13 Q1281.37 1544.15 1278.29 1546.83 Q1275.23 1549.52 1269.51 1549.52 Q1263.8 1549.52 1260.72 1546.83 Q1257.66 1544.15 1257.66 1539.13 Q1257.66 1535.82 1259.56 1533.52 Q1261.46 1531.23 1264.84 1530.45 M1263.13 1523.06 Q1263.13 1525.75 1264.79 1527.25 Q1266.48 1528.76 1269.51 1528.76 Q1272.52 1528.76 1274.21 1527.25 Q1275.93 1525.75 1275.93 1523.06 Q1275.93 1520.38 1274.21 1518.87 Q1272.52 1517.37 1269.51 1517.37 Q1266.48 1517.37 1264.79 1518.87 Q1263.13 1520.38 1263.13 1523.06 Z\" fill=\"#000000\" fill-rule=\"evenodd\" fill-opacity=\"1\" /><path clip-path=\"url(#clip660)\" d=\"M1536.18 1544.91 L1543.82 1544.91 L1543.82 1518.55 L1535.51 1520.21 L1535.51 1515.95 L1543.77 1514.29 L1548.45 1514.29 L1548.45 1544.91 L1556.09 1544.91 L1556.09 1548.85 L1536.18 1548.85 L1536.18 1544.91 Z\" fill=\"#000000\" fill-rule=\"evenodd\" fill-opacity=\"1\" /><path clip-path=\"url(#clip660)\" d=\"M1575.53 1517.37 Q1571.92 1517.37 1570.09 1520.93 Q1568.29 1524.47 1568.29 1531.6 Q1568.29 1538.71 1570.09 1542.27 Q1571.92 1545.82 1575.53 1545.82 Q1579.17 1545.82 1580.97 1542.27 Q1582.8 1538.71 1582.8 1531.6 Q1582.8 1524.47 1580.97 1520.93 Q1579.17 1517.37 1575.53 1517.37 M1575.53 1513.66 Q1581.34 1513.66 1584.4 1518.27 Q1587.48 1522.85 1587.48 1531.6 Q1587.48 1540.33 1584.4 1544.94 Q1581.34 1549.52 1575.53 1549.52 Q1569.72 1549.52 1566.64 1544.94 Q1563.59 1540.33 1563.59 1531.6 Q1563.59 1522.85 1566.64 1518.27 Q1569.72 1513.66 1575.53 1513.66 Z\" fill=\"#000000\" fill-rule=\"evenodd\" fill-opacity=\"1\" /><path clip-path=\"url(#clip660)\" d=\"M1828.96 1544.91 L1836.6 1544.91 L1836.6 1518.55 L1828.29 1520.21 L1828.29 1515.95 L1836.55 1514.29 L1841.23 1514.29 L1841.23 1544.91 L1848.87 1544.91 L1848.87 1548.85 L1828.96 1548.85 L1828.96 1544.91 Z\" fill=\"#000000\" fill-rule=\"evenodd\" fill-opacity=\"1\" /><path clip-path=\"url(#clip660)\" d=\"M1862.34 1544.91 L1878.66 1544.91 L1878.66 1548.85 L1856.71 1548.85 L1856.71 1544.91 Q1859.38 1542.16 1863.96 1537.53 Q1868.56 1532.88 1869.75 1531.53 Q1871.99 1529.01 1872.87 1527.27 Q1873.77 1525.51 1873.77 1523.82 Q1873.77 1521.07 1871.83 1519.33 Q1869.91 1517.6 1866.81 1517.6 Q1864.61 1517.6 1862.15 1518.36 Q1859.72 1519.13 1856.94 1520.68 L1856.94 1515.95 Q1859.77 1514.82 1862.22 1514.24 Q1864.68 1513.66 1866.71 1513.66 Q1872.08 1513.66 1875.28 1516.35 Q1878.47 1519.03 1878.47 1523.52 Q1878.47 1525.65 1877.66 1527.57 Q1876.87 1529.47 1874.77 1532.07 Q1874.19 1532.74 1871.09 1535.95 Q1867.99 1539.15 1862.34 1544.91 Z\" fill=\"#000000\" fill-rule=\"evenodd\" fill-opacity=\"1\" /><path clip-path=\"url(#clip660)\" d=\"M2119.9 1544.91 L2127.53 1544.91 L2127.53 1518.55 L2119.22 1520.21 L2119.22 1515.95 L2127.49 1514.29 L2132.16 1514.29 L2132.16 1544.91 L2139.8 1544.91 L2139.8 1548.85 L2119.9 1548.85 L2119.9 1544.91 Z\" fill=\"#000000\" fill-rule=\"evenodd\" fill-opacity=\"1\" /><path clip-path=\"url(#clip660)\" d=\"M2162.09 1518.36 L2150.29 1536.81 L2162.09 1536.81 L2162.09 1518.36 M2160.87 1514.29 L2166.75 1514.29 L2166.75 1536.81 L2171.68 1536.81 L2171.68 1540.7 L2166.75 1540.7 L2166.75 1548.85 L2162.09 1548.85 L2162.09 1540.7 L2146.49 1540.7 L2146.49 1536.19 L2160.87 1514.29 Z\" fill=\"#000000\" fill-rule=\"evenodd\" fill-opacity=\"1\" /><polyline clip-path=\"url(#clip662)\" style=\"stroke:#000000; stroke-linecap:butt; stroke-linejoin:round; stroke-width:2; stroke-opacity:0.1; fill:none\" points=\"\n",
       "  186.274,1472.31 2352.76,1472.31 \n",
       "  \"/>\n",
       "<polyline clip-path=\"url(#clip662)\" style=\"stroke:#000000; stroke-linecap:butt; stroke-linejoin:round; stroke-width:2; stroke-opacity:0.1; fill:none\" points=\"\n",
       "  186.274,1116.63 2352.76,1116.63 \n",
       "  \"/>\n",
       "<polyline clip-path=\"url(#clip662)\" style=\"stroke:#000000; stroke-linecap:butt; stroke-linejoin:round; stroke-width:2; stroke-opacity:0.1; fill:none\" points=\"\n",
       "  186.274,760.955 2352.76,760.955 \n",
       "  \"/>\n",
       "<polyline clip-path=\"url(#clip662)\" style=\"stroke:#000000; stroke-linecap:butt; stroke-linejoin:round; stroke-width:2; stroke-opacity:0.1; fill:none\" points=\"\n",
       "  186.274,405.277 2352.76,405.277 \n",
       "  \"/>\n",
       "<polyline clip-path=\"url(#clip662)\" style=\"stroke:#000000; stroke-linecap:butt; stroke-linejoin:round; stroke-width:2; stroke-opacity:0.1; fill:none\" points=\"\n",
       "  186.274,49.5998 2352.76,49.5998 \n",
       "  \"/>\n",
       "<polyline clip-path=\"url(#clip660)\" style=\"stroke:#000000; stroke-linecap:butt; stroke-linejoin:round; stroke-width:4; stroke-opacity:1; fill:none\" points=\"\n",
       "  186.274,1486.45 186.274,47.2441 \n",
       "  \"/>\n",
       "<polyline clip-path=\"url(#clip660)\" style=\"stroke:#000000; stroke-linecap:butt; stroke-linejoin:round; stroke-width:4; stroke-opacity:1; fill:none\" points=\"\n",
       "  186.274,1472.31 205.172,1472.31 \n",
       "  \"/>\n",
       "<polyline clip-path=\"url(#clip660)\" style=\"stroke:#000000; stroke-linecap:butt; stroke-linejoin:round; stroke-width:4; stroke-opacity:1; fill:none\" points=\"\n",
       "  186.274,1116.63 205.172,1116.63 \n",
       "  \"/>\n",
       "<polyline clip-path=\"url(#clip660)\" style=\"stroke:#000000; stroke-linecap:butt; stroke-linejoin:round; stroke-width:4; stroke-opacity:1; fill:none\" points=\"\n",
       "  186.274,760.955 205.172,760.955 \n",
       "  \"/>\n",
       "<polyline clip-path=\"url(#clip660)\" style=\"stroke:#000000; stroke-linecap:butt; stroke-linejoin:round; stroke-width:4; stroke-opacity:1; fill:none\" points=\"\n",
       "  186.274,405.277 205.172,405.277 \n",
       "  \"/>\n",
       "<polyline clip-path=\"url(#clip660)\" style=\"stroke:#000000; stroke-linecap:butt; stroke-linejoin:round; stroke-width:4; stroke-opacity:1; fill:none\" points=\"\n",
       "  186.274,49.5998 205.172,49.5998 \n",
       "  \"/>\n",
       "<path clip-path=\"url(#clip660)\" d=\"M62.9365 1458.11 Q59.3254 1458.11 57.4967 1461.67 Q55.6912 1465.22 55.6912 1472.34 Q55.6912 1479.45 57.4967 1483.02 Q59.3254 1486.56 62.9365 1486.56 Q66.5707 1486.56 68.3763 1483.02 Q70.205 1479.45 70.205 1472.34 Q70.205 1465.22 68.3763 1461.67 Q66.5707 1458.11 62.9365 1458.11 M62.9365 1454.41 Q68.7467 1454.41 71.8022 1459.01 Q74.8809 1463.59 74.8809 1472.34 Q74.8809 1481.07 71.8022 1485.68 Q68.7467 1490.26 62.9365 1490.26 Q57.1264 1490.26 54.0477 1485.68 Q50.9921 1481.07 50.9921 1472.34 Q50.9921 1463.59 54.0477 1459.01 Q57.1264 1454.41 62.9365 1454.41 Z\" fill=\"#000000\" fill-rule=\"evenodd\" fill-opacity=\"1\" /><path clip-path=\"url(#clip660)\" d=\"M83.0984 1483.71 L87.9827 1483.71 L87.9827 1489.59 L83.0984 1489.59 L83.0984 1483.71 Z\" fill=\"#000000\" fill-rule=\"evenodd\" fill-opacity=\"1\" /><path clip-path=\"url(#clip660)\" d=\"M108.168 1458.11 Q104.557 1458.11 102.728 1461.67 Q100.922 1465.22 100.922 1472.34 Q100.922 1479.45 102.728 1483.02 Q104.557 1486.56 108.168 1486.56 Q111.802 1486.56 113.608 1483.02 Q115.436 1479.45 115.436 1472.34 Q115.436 1465.22 113.608 1461.67 Q111.802 1458.11 108.168 1458.11 M108.168 1454.41 Q113.978 1454.41 117.033 1459.01 Q120.112 1463.59 120.112 1472.34 Q120.112 1481.07 117.033 1485.68 Q113.978 1490.26 108.168 1490.26 Q102.358 1490.26 99.2789 1485.68 Q96.2234 1481.07 96.2234 1472.34 Q96.2234 1463.59 99.2789 1459.01 Q102.358 1454.41 108.168 1454.41 Z\" fill=\"#000000\" fill-rule=\"evenodd\" fill-opacity=\"1\" /><path clip-path=\"url(#clip660)\" d=\"M138.33 1458.11 Q134.719 1458.11 132.89 1461.67 Q131.084 1465.22 131.084 1472.34 Q131.084 1479.45 132.89 1483.02 Q134.719 1486.56 138.33 1486.56 Q141.964 1486.56 143.769 1483.02 Q145.598 1479.45 145.598 1472.34 Q145.598 1465.22 143.769 1461.67 Q141.964 1458.11 138.33 1458.11 M138.33 1454.41 Q144.14 1454.41 147.195 1459.01 Q150.274 1463.59 150.274 1472.34 Q150.274 1481.07 147.195 1485.68 Q144.14 1490.26 138.33 1490.26 Q132.519 1490.26 129.441 1485.68 Q126.385 1481.07 126.385 1472.34 Q126.385 1463.59 129.441 1459.01 Q132.519 1454.41 138.33 1454.41 Z\" fill=\"#000000\" fill-rule=\"evenodd\" fill-opacity=\"1\" /><path clip-path=\"url(#clip660)\" d=\"M63.9319 1102.43 Q60.3208 1102.43 58.4921 1106 Q56.6865 1109.54 56.6865 1116.67 Q56.6865 1123.77 58.4921 1127.34 Q60.3208 1130.88 63.9319 1130.88 Q67.5661 1130.88 69.3717 1127.34 Q71.2004 1123.77 71.2004 1116.67 Q71.2004 1109.54 69.3717 1106 Q67.5661 1102.43 63.9319 1102.43 M63.9319 1098.73 Q69.742 1098.73 72.7976 1103.33 Q75.8763 1107.92 75.8763 1116.67 Q75.8763 1125.39 72.7976 1130 Q69.742 1134.58 63.9319 1134.58 Q58.1217 1134.58 55.043 1130 Q51.9875 1125.39 51.9875 1116.67 Q51.9875 1107.92 55.043 1103.33 Q58.1217 1098.73 63.9319 1098.73 Z\" fill=\"#000000\" fill-rule=\"evenodd\" fill-opacity=\"1\" /><path clip-path=\"url(#clip660)\" d=\"M84.0938 1128.03 L88.978 1128.03 L88.978 1133.91 L84.0938 1133.91 L84.0938 1128.03 Z\" fill=\"#000000\" fill-rule=\"evenodd\" fill-opacity=\"1\" /><path clip-path=\"url(#clip660)\" d=\"M103.191 1129.98 L119.51 1129.98 L119.51 1133.91 L97.566 1133.91 L97.566 1129.98 Q100.228 1127.22 104.811 1122.59 Q109.418 1117.94 110.598 1116.6 Q112.844 1114.07 113.723 1112.34 Q114.626 1110.58 114.626 1108.89 Q114.626 1106.13 112.682 1104.4 Q110.76 1102.66 107.658 1102.66 Q105.459 1102.66 103.006 1103.43 Q100.575 1104.19 97.7974 1105.74 L97.7974 1101.02 Q100.621 1099.89 103.075 1099.31 Q105.529 1098.73 107.566 1098.73 Q112.936 1098.73 116.131 1101.41 Q119.325 1104.1 119.325 1108.59 Q119.325 1110.72 118.515 1112.64 Q117.728 1114.54 115.621 1117.13 Q115.043 1117.8 111.941 1121.02 Q108.839 1124.21 103.191 1129.98 Z\" fill=\"#000000\" fill-rule=\"evenodd\" fill-opacity=\"1\" /><path clip-path=\"url(#clip660)\" d=\"M129.371 1099.35 L147.728 1099.35 L147.728 1103.29 L133.654 1103.29 L133.654 1111.76 Q134.672 1111.41 135.691 1111.25 Q136.709 1111.07 137.728 1111.07 Q143.515 1111.07 146.894 1114.24 Q150.274 1117.41 150.274 1122.82 Q150.274 1128.4 146.802 1131.51 Q143.33 1134.58 137.01 1134.58 Q134.834 1134.58 132.566 1134.21 Q130.32 1133.84 127.913 1133.1 L127.913 1128.4 Q129.996 1129.54 132.219 1130.09 Q134.441 1130.65 136.918 1130.65 Q140.922 1130.65 143.26 1128.54 Q145.598 1126.44 145.598 1122.82 Q145.598 1119.21 143.26 1117.11 Q140.922 1115 136.918 1115 Q135.043 1115 133.168 1115.42 Q131.316 1115.83 129.371 1116.71 L129.371 1099.35 Z\" fill=\"#000000\" fill-rule=\"evenodd\" fill-opacity=\"1\" /><path clip-path=\"url(#clip660)\" d=\"M62.9365 746.754 Q59.3254 746.754 57.4967 750.319 Q55.6912 753.86 55.6912 760.99 Q55.6912 768.096 57.4967 771.661 Q59.3254 775.203 62.9365 775.203 Q66.5707 775.203 68.3763 771.661 Q70.205 768.096 70.205 760.99 Q70.205 753.86 68.3763 750.319 Q66.5707 746.754 62.9365 746.754 M62.9365 743.05 Q68.7467 743.05 71.8022 747.656 Q74.8809 752.24 74.8809 760.99 Q74.8809 769.717 71.8022 774.323 Q68.7467 778.906 62.9365 778.906 Q57.1264 778.906 54.0477 774.323 Q50.9921 769.717 50.9921 760.99 Q50.9921 752.24 54.0477 747.656 Q57.1264 743.05 62.9365 743.05 Z\" fill=\"#000000\" fill-rule=\"evenodd\" fill-opacity=\"1\" /><path clip-path=\"url(#clip660)\" d=\"M83.0984 772.355 L87.9827 772.355 L87.9827 778.235 L83.0984 778.235 L83.0984 772.355 Z\" fill=\"#000000\" fill-rule=\"evenodd\" fill-opacity=\"1\" /><path clip-path=\"url(#clip660)\" d=\"M98.2141 743.675 L116.57 743.675 L116.57 747.61 L102.496 747.61 L102.496 756.082 Q103.515 755.735 104.534 755.573 Q105.552 755.388 106.571 755.388 Q112.358 755.388 115.737 758.559 Q119.117 761.73 119.117 767.147 Q119.117 772.726 115.645 775.828 Q112.172 778.906 105.853 778.906 Q103.677 778.906 101.409 778.536 Q99.1632 778.166 96.7558 777.425 L96.7558 772.726 Q98.8391 773.86 101.061 774.416 Q103.284 774.971 105.76 774.971 Q109.765 774.971 112.103 772.865 Q114.441 770.758 114.441 767.147 Q114.441 763.536 112.103 761.43 Q109.765 759.323 105.76 759.323 Q103.885 759.323 102.01 759.74 Q100.159 760.156 98.2141 761.036 L98.2141 743.675 Z\" fill=\"#000000\" fill-rule=\"evenodd\" fill-opacity=\"1\" /><path clip-path=\"url(#clip660)\" d=\"M138.33 746.754 Q134.719 746.754 132.89 750.319 Q131.084 753.86 131.084 760.99 Q131.084 768.096 132.89 771.661 Q134.719 775.203 138.33 775.203 Q141.964 775.203 143.769 771.661 Q145.598 768.096 145.598 760.99 Q145.598 753.86 143.769 750.319 Q141.964 746.754 138.33 746.754 M138.33 743.05 Q144.14 743.05 147.195 747.656 Q150.274 752.24 150.274 760.99 Q150.274 769.717 147.195 774.323 Q144.14 778.906 138.33 778.906 Q132.519 778.906 129.441 774.323 Q126.385 769.717 126.385 760.99 Q126.385 752.24 129.441 747.656 Q132.519 743.05 138.33 743.05 Z\" fill=\"#000000\" fill-rule=\"evenodd\" fill-opacity=\"1\" /><path clip-path=\"url(#clip660)\" d=\"M63.9319 391.076 Q60.3208 391.076 58.4921 394.641 Q56.6865 398.183 56.6865 405.312 Q56.6865 412.419 58.4921 415.983 Q60.3208 419.525 63.9319 419.525 Q67.5661 419.525 69.3717 415.983 Q71.2004 412.419 71.2004 405.312 Q71.2004 398.183 69.3717 394.641 Q67.5661 391.076 63.9319 391.076 M63.9319 387.372 Q69.742 387.372 72.7976 391.979 Q75.8763 396.562 75.8763 405.312 Q75.8763 414.039 72.7976 418.645 Q69.742 423.229 63.9319 423.229 Q58.1217 423.229 55.043 418.645 Q51.9875 414.039 51.9875 405.312 Q51.9875 396.562 55.043 391.979 Q58.1217 387.372 63.9319 387.372 Z\" fill=\"#000000\" fill-rule=\"evenodd\" fill-opacity=\"1\" /><path clip-path=\"url(#clip660)\" d=\"M84.0938 416.678 L88.978 416.678 L88.978 422.557 L84.0938 422.557 L84.0938 416.678 Z\" fill=\"#000000\" fill-rule=\"evenodd\" fill-opacity=\"1\" /><path clip-path=\"url(#clip660)\" d=\"M97.9826 387.997 L120.205 387.997 L120.205 389.988 L107.658 422.557 L102.774 422.557 L114.58 391.933 L97.9826 391.933 L97.9826 387.997 Z\" fill=\"#000000\" fill-rule=\"evenodd\" fill-opacity=\"1\" /><path clip-path=\"url(#clip660)\" d=\"M129.371 387.997 L147.728 387.997 L147.728 391.933 L133.654 391.933 L133.654 400.405 Q134.672 400.058 135.691 399.896 Q136.709 399.71 137.728 399.71 Q143.515 399.71 146.894 402.882 Q150.274 406.053 150.274 411.47 Q150.274 417.048 146.802 420.15 Q143.33 423.229 137.01 423.229 Q134.834 423.229 132.566 422.858 Q130.32 422.488 127.913 421.747 L127.913 417.048 Q129.996 418.182 132.219 418.738 Q134.441 419.294 136.918 419.294 Q140.922 419.294 143.26 417.187 Q145.598 415.081 145.598 411.47 Q145.598 407.858 143.26 405.752 Q140.922 403.645 136.918 403.645 Q135.043 403.645 133.168 404.062 Q131.316 404.479 129.371 405.358 L129.371 387.997 Z\" fill=\"#000000\" fill-rule=\"evenodd\" fill-opacity=\"1\" /><path clip-path=\"url(#clip660)\" d=\"M53.7467 62.9447 L61.3856 62.9447 L61.3856 36.5791 L53.0754 38.2457 L53.0754 33.9865 L61.3393 32.3198 L66.0152 32.3198 L66.0152 62.9447 L73.654 62.9447 L73.654 66.8798 L53.7467 66.8798 L53.7467 62.9447 Z\" fill=\"#000000\" fill-rule=\"evenodd\" fill-opacity=\"1\" /><path clip-path=\"url(#clip660)\" d=\"M83.0984 61.0002 L87.9827 61.0002 L87.9827 66.8798 L83.0984 66.8798 L83.0984 61.0002 Z\" fill=\"#000000\" fill-rule=\"evenodd\" fill-opacity=\"1\" /><path clip-path=\"url(#clip660)\" d=\"M108.168 35.3985 Q104.557 35.3985 102.728 38.9633 Q100.922 42.505 100.922 49.6346 Q100.922 56.741 102.728 60.3058 Q104.557 63.8474 108.168 63.8474 Q111.802 63.8474 113.608 60.3058 Q115.436 56.741 115.436 49.6346 Q115.436 42.505 113.608 38.9633 Q111.802 35.3985 108.168 35.3985 M108.168 31.6948 Q113.978 31.6948 117.033 36.3013 Q120.112 40.8846 120.112 49.6346 Q120.112 58.3614 117.033 62.9678 Q113.978 67.5511 108.168 67.5511 Q102.358 67.5511 99.2789 62.9678 Q96.2234 58.3614 96.2234 49.6346 Q96.2234 40.8846 99.2789 36.3013 Q102.358 31.6948 108.168 31.6948 Z\" fill=\"#000000\" fill-rule=\"evenodd\" fill-opacity=\"1\" /><path clip-path=\"url(#clip660)\" d=\"M138.33 35.3985 Q134.719 35.3985 132.89 38.9633 Q131.084 42.505 131.084 49.6346 Q131.084 56.741 132.89 60.3058 Q134.719 63.8474 138.33 63.8474 Q141.964 63.8474 143.769 60.3058 Q145.598 56.741 145.598 49.6346 Q145.598 42.505 143.769 38.9633 Q141.964 35.3985 138.33 35.3985 M138.33 31.6948 Q144.14 31.6948 147.195 36.3013 Q150.274 40.8846 150.274 49.6346 Q150.274 58.3614 147.195 62.9678 Q144.14 67.5511 138.33 67.5511 Q132.519 67.5511 129.441 62.9678 Q126.385 58.3614 126.385 49.6346 Q126.385 40.8846 129.441 36.3013 Q132.519 31.6948 138.33 31.6948 Z\" fill=\"#000000\" fill-rule=\"evenodd\" fill-opacity=\"1\" /><polyline clip-path=\"url(#clip662)\" style=\"stroke:#009af9; stroke-linecap:butt; stroke-linejoin:round; stroke-width:4; stroke-opacity:1; fill:none\" points=\"\n",
       "  247.59,758.677 393.579,711.872 539.568,1445.72 685.558,1007.79 831.547,230.837 977.536,846.058 1123.53,1298.51 1269.51,470.81 1415.5,144.502 1561.49,985.508 \n",
       "  1707.48,1331.7 1853.47,753.856 1999.46,167.114 2145.45,754.873 2291.44,1266.39 \n",
       "  \"/>\n",
       "<polyline clip-path=\"url(#clip662)\" style=\"stroke:#e26f46; stroke-linecap:butt; stroke-linejoin:round; stroke-width:4; stroke-opacity:1; fill:none\" points=\"\n",
       "  247.59,581.438 393.579,1046.52 539.568,197.595 685.558,1132.08 831.547,349.072 977.536,1105.75 1123.53,252.728 1269.51,238.469 1415.5,1222.15 1561.49,427.695 \n",
       "  1707.48,834.455 1853.47,1405.85 1999.46,208.146 2145.45,87.9763 2291.44,372.448 \n",
       "  \"/>\n",
       "<path clip-path=\"url(#clip660)\" d=\"\n",
       "M1987.39 250.738 L2280.54 250.738 L2280.54 95.2176 L1987.39 95.2176  Z\n",
       "  \" fill=\"#ffffff\" fill-rule=\"evenodd\" fill-opacity=\"1\"/>\n",
       "<polyline clip-path=\"url(#clip660)\" style=\"stroke:#000000; stroke-linecap:butt; stroke-linejoin:round; stroke-width:4; stroke-opacity:1; fill:none\" points=\"\n",
       "  1987.39,250.738 2280.54,250.738 2280.54,95.2176 1987.39,95.2176 1987.39,250.738 \n",
       "  \"/>\n",
       "<polyline clip-path=\"url(#clip660)\" style=\"stroke:#009af9; stroke-linecap:butt; stroke-linejoin:round; stroke-width:4; stroke-opacity:1; fill:none\" points=\"\n",
       "  2011.46,147.058 2155.89,147.058 \n",
       "  \"/>\n",
       "<path clip-path=\"url(#clip660)\" d=\"M2193.81 166.745 Q2192 171.375 2190.29 172.787 Q2188.58 174.199 2185.71 174.199 L2182.3 174.199 L2182.3 170.634 L2184.8 170.634 Q2186.56 170.634 2187.53 169.8 Q2188.51 168.967 2189.69 165.865 L2190.45 163.921 L2179.97 138.412 L2184.48 138.412 L2192.58 158.689 L2200.68 138.412 L2205.2 138.412 L2193.81 166.745 Z\" fill=\"#000000\" fill-rule=\"evenodd\" fill-opacity=\"1\" /><path clip-path=\"url(#clip660)\" d=\"M2212.49 160.402 L2220.13 160.402 L2220.13 134.037 L2211.82 135.703 L2211.82 131.444 L2220.08 129.778 L2224.76 129.778 L2224.76 160.402 L2232.4 160.402 L2232.4 164.338 L2212.49 164.338 L2212.49 160.402 Z\" fill=\"#000000\" fill-rule=\"evenodd\" fill-opacity=\"1\" /><polyline clip-path=\"url(#clip660)\" style=\"stroke:#e26f46; stroke-linecap:butt; stroke-linejoin:round; stroke-width:4; stroke-opacity:1; fill:none\" points=\"\n",
       "  2011.46,198.898 2155.89,198.898 \n",
       "  \"/>\n",
       "<path clip-path=\"url(#clip660)\" d=\"M2193.81 218.585 Q2192 223.215 2190.29 224.627 Q2188.58 226.039 2185.71 226.039 L2182.3 226.039 L2182.3 222.474 L2184.8 222.474 Q2186.56 222.474 2187.53 221.64 Q2188.51 220.807 2189.69 217.705 L2190.45 215.761 L2179.97 190.252 L2184.48 190.252 L2192.58 210.529 L2200.68 190.252 L2205.2 190.252 L2193.81 218.585 Z\" fill=\"#000000\" fill-rule=\"evenodd\" fill-opacity=\"1\" /><path clip-path=\"url(#clip660)\" d=\"M2215.71 212.242 L2232.03 212.242 L2232.03 216.178 L2210.08 216.178 L2210.08 212.242 Q2212.74 209.488 2217.33 204.858 Q2221.93 200.205 2223.11 198.863 Q2225.36 196.34 2226.24 194.604 Q2227.14 192.844 2227.14 191.155 Q2227.14 188.4 2225.2 186.664 Q2223.28 184.928 2220.17 184.928 Q2217.97 184.928 2215.52 185.692 Q2213.09 186.455 2210.31 188.006 L2210.31 183.284 Q2213.14 182.15 2215.59 181.571 Q2218.04 180.993 2220.08 180.993 Q2225.45 180.993 2228.65 183.678 Q2231.84 186.363 2231.84 190.854 Q2231.84 192.983 2231.03 194.905 Q2230.24 196.803 2228.14 199.395 Q2227.56 200.067 2224.46 203.284 Q2221.35 206.479 2215.71 212.242 Z\" fill=\"#000000\" fill-rule=\"evenodd\" fill-opacity=\"1\" /></svg>\n"
      ]
     },
     "execution_count": 244,
     "metadata": {},
     "output_type": "execute_result"
    }
   ],
   "source": [
    "p = plot(x, y)\n",
    "plot!(p,x,z)"
   ]
  },
  {
   "cell_type": "code",
   "execution_count": 245,
   "metadata": {},
   "outputs": [
    {
     "data": {
      "image/svg+xml": [
       "<?xml version=\"1.0\" encoding=\"utf-8\"?>\n",
       "<svg xmlns=\"http://www.w3.org/2000/svg\" xmlns:xlink=\"http://www.w3.org/1999/xlink\" width=\"600\" height=\"400\" viewBox=\"0 0 2400 1600\">\n",
       "<defs>\n",
       "  <clipPath id=\"clip700\">\n",
       "    <rect x=\"0\" y=\"0\" width=\"2400\" height=\"1600\"/>\n",
       "  </clipPath>\n",
       "</defs>\n",
       "<path clip-path=\"url(#clip700)\" d=\"\n",
       "M0 1600 L2400 1600 L2400 0 L0 0  Z\n",
       "  \" fill=\"#ffffff\" fill-rule=\"evenodd\" fill-opacity=\"1\"/>\n",
       "<defs>\n",
       "  <clipPath id=\"clip701\">\n",
       "    <rect x=\"480\" y=\"0\" width=\"1681\" height=\"1600\"/>\n",
       "  </clipPath>\n",
       "</defs>\n",
       "<path clip-path=\"url(#clip700)\" d=\"\n",
       "M156.598 1486.45 L2352.76 1486.45 L2352.76 123.472 L156.598 123.472  Z\n",
       "  \" fill=\"#ffffff\" fill-rule=\"evenodd\" fill-opacity=\"1\"/>\n",
       "<defs>\n",
       "  <clipPath id=\"clip702\">\n",
       "    <rect x=\"156\" y=\"123\" width=\"2197\" height=\"1364\"/>\n",
       "  </clipPath>\n",
       "</defs>\n",
       "<polyline clip-path=\"url(#clip702)\" style=\"stroke:#000000; stroke-linecap:butt; stroke-linejoin:round; stroke-width:2; stroke-opacity:0.1; fill:none\" points=\"\n",
       "  366.743,1486.45 366.743,123.472 \n",
       "  \"/>\n",
       "<polyline clip-path=\"url(#clip702)\" style=\"stroke:#000000; stroke-linecap:butt; stroke-linejoin:round; stroke-width:2; stroke-opacity:0.1; fill:none\" points=\"\n",
       "  662.721,1486.45 662.721,123.472 \n",
       "  \"/>\n",
       "<polyline clip-path=\"url(#clip702)\" style=\"stroke:#000000; stroke-linecap:butt; stroke-linejoin:round; stroke-width:2; stroke-opacity:0.1; fill:none\" points=\"\n",
       "  958.699,1486.45 958.699,123.472 \n",
       "  \"/>\n",
       "<polyline clip-path=\"url(#clip702)\" style=\"stroke:#000000; stroke-linecap:butt; stroke-linejoin:round; stroke-width:2; stroke-opacity:0.1; fill:none\" points=\"\n",
       "  1254.68,1486.45 1254.68,123.472 \n",
       "  \"/>\n",
       "<polyline clip-path=\"url(#clip702)\" style=\"stroke:#000000; stroke-linecap:butt; stroke-linejoin:round; stroke-width:2; stroke-opacity:0.1; fill:none\" points=\"\n",
       "  1550.66,1486.45 1550.66,123.472 \n",
       "  \"/>\n",
       "<polyline clip-path=\"url(#clip702)\" style=\"stroke:#000000; stroke-linecap:butt; stroke-linejoin:round; stroke-width:2; stroke-opacity:0.1; fill:none\" points=\"\n",
       "  1846.63,1486.45 1846.63,123.472 \n",
       "  \"/>\n",
       "<polyline clip-path=\"url(#clip702)\" style=\"stroke:#000000; stroke-linecap:butt; stroke-linejoin:round; stroke-width:2; stroke-opacity:0.1; fill:none\" points=\"\n",
       "  2142.61,1486.45 2142.61,123.472 \n",
       "  \"/>\n",
       "<polyline clip-path=\"url(#clip700)\" style=\"stroke:#000000; stroke-linecap:butt; stroke-linejoin:round; stroke-width:4; stroke-opacity:1; fill:none\" points=\"\n",
       "  156.598,1486.45 2352.76,1486.45 \n",
       "  \"/>\n",
       "<polyline clip-path=\"url(#clip700)\" style=\"stroke:#000000; stroke-linecap:butt; stroke-linejoin:round; stroke-width:4; stroke-opacity:1; fill:none\" points=\"\n",
       "  366.743,1486.45 366.743,1467.55 \n",
       "  \"/>\n",
       "<polyline clip-path=\"url(#clip700)\" style=\"stroke:#000000; stroke-linecap:butt; stroke-linejoin:round; stroke-width:4; stroke-opacity:1; fill:none\" points=\"\n",
       "  662.721,1486.45 662.721,1467.55 \n",
       "  \"/>\n",
       "<polyline clip-path=\"url(#clip700)\" style=\"stroke:#000000; stroke-linecap:butt; stroke-linejoin:round; stroke-width:4; stroke-opacity:1; fill:none\" points=\"\n",
       "  958.699,1486.45 958.699,1467.55 \n",
       "  \"/>\n",
       "<polyline clip-path=\"url(#clip700)\" style=\"stroke:#000000; stroke-linecap:butt; stroke-linejoin:round; stroke-width:4; stroke-opacity:1; fill:none\" points=\"\n",
       "  1254.68,1486.45 1254.68,1467.55 \n",
       "  \"/>\n",
       "<polyline clip-path=\"url(#clip700)\" style=\"stroke:#000000; stroke-linecap:butt; stroke-linejoin:round; stroke-width:4; stroke-opacity:1; fill:none\" points=\"\n",
       "  1550.66,1486.45 1550.66,1467.55 \n",
       "  \"/>\n",
       "<polyline clip-path=\"url(#clip700)\" style=\"stroke:#000000; stroke-linecap:butt; stroke-linejoin:round; stroke-width:4; stroke-opacity:1; fill:none\" points=\"\n",
       "  1846.63,1486.45 1846.63,1467.55 \n",
       "  \"/>\n",
       "<polyline clip-path=\"url(#clip700)\" style=\"stroke:#000000; stroke-linecap:butt; stroke-linejoin:round; stroke-width:4; stroke-opacity:1; fill:none\" points=\"\n",
       "  2142.61,1486.45 2142.61,1467.55 \n",
       "  \"/>\n",
       "<path clip-path=\"url(#clip700)\" d=\"M361.396 1544.91 L377.715 1544.91 L377.715 1548.85 L355.771 1548.85 L355.771 1544.91 Q358.433 1542.16 363.016 1537.53 Q367.622 1532.88 368.803 1531.53 Q371.048 1529.01 371.928 1527.27 Q372.831 1525.51 372.831 1523.82 Q372.831 1521.07 370.886 1519.33 Q368.965 1517.6 365.863 1517.6 Q363.664 1517.6 361.21 1518.36 Q358.78 1519.13 356.002 1520.68 L356.002 1515.95 Q358.826 1514.82 361.28 1514.24 Q363.733 1513.66 365.77 1513.66 Q371.141 1513.66 374.335 1516.35 Q377.53 1519.03 377.53 1523.52 Q377.53 1525.65 376.72 1527.57 Q375.932 1529.47 373.826 1532.07 Q373.247 1532.74 370.145 1535.95 Q367.044 1539.15 361.396 1544.91 Z\" fill=\"#000000\" fill-rule=\"evenodd\" fill-opacity=\"1\" /><path clip-path=\"url(#clip700)\" d=\"M665.73 1518.36 L653.925 1536.81 L665.73 1536.81 L665.73 1518.36 M664.503 1514.29 L670.383 1514.29 L670.383 1536.81 L675.313 1536.81 L675.313 1540.7 L670.383 1540.7 L670.383 1548.85 L665.73 1548.85 L665.73 1540.7 L650.128 1540.7 L650.128 1536.19 L664.503 1514.29 Z\" fill=\"#000000\" fill-rule=\"evenodd\" fill-opacity=\"1\" /><path clip-path=\"url(#clip700)\" d=\"M959.104 1529.7 Q955.956 1529.7 954.104 1531.86 Q952.275 1534.01 952.275 1537.76 Q952.275 1541.49 954.104 1543.66 Q955.956 1545.82 959.104 1545.82 Q962.252 1545.82 964.081 1543.66 Q965.933 1541.49 965.933 1537.76 Q965.933 1534.01 964.081 1531.86 Q962.252 1529.7 959.104 1529.7 M968.386 1515.05 L968.386 1519.31 Q966.627 1518.48 964.822 1518.04 Q963.039 1517.6 961.28 1517.6 Q956.65 1517.6 954.197 1520.72 Q951.766 1523.85 951.419 1530.17 Q952.785 1528.15 954.845 1527.09 Q956.905 1526 959.382 1526 Q964.59 1526 967.599 1529.17 Q970.632 1532.32 970.632 1537.76 Q970.632 1543.08 967.484 1546.3 Q964.335 1549.52 959.104 1549.52 Q953.109 1549.52 949.937 1544.94 Q946.766 1540.33 946.766 1531.6 Q946.766 1523.41 950.655 1518.55 Q954.544 1513.66 961.095 1513.66 Q962.854 1513.66 964.636 1514.01 Q966.442 1514.36 968.386 1515.05 Z\" fill=\"#000000\" fill-rule=\"evenodd\" fill-opacity=\"1\" /><path clip-path=\"url(#clip700)\" d=\"M1254.68 1532.44 Q1251.34 1532.44 1249.42 1534.22 Q1247.52 1536 1247.52 1539.13 Q1247.52 1542.25 1249.42 1544.03 Q1251.34 1545.82 1254.68 1545.82 Q1258.01 1545.82 1259.93 1544.03 Q1261.85 1542.23 1261.85 1539.13 Q1261.85 1536 1259.93 1534.22 Q1258.03 1532.44 1254.68 1532.44 M1250 1530.45 Q1246.99 1529.7 1245.3 1527.64 Q1243.64 1525.58 1243.64 1522.62 Q1243.64 1518.48 1246.58 1516.07 Q1249.54 1513.66 1254.68 1513.66 Q1259.84 1513.66 1262.78 1516.07 Q1265.72 1518.48 1265.72 1522.62 Q1265.72 1525.58 1264.03 1527.64 Q1262.36 1529.7 1259.38 1530.45 Q1262.76 1531.23 1264.63 1533.52 Q1266.53 1535.82 1266.53 1539.13 Q1266.53 1544.15 1263.45 1546.83 Q1260.39 1549.52 1254.68 1549.52 Q1248.96 1549.52 1245.88 1546.83 Q1242.83 1544.15 1242.83 1539.13 Q1242.83 1535.82 1244.72 1533.52 Q1246.62 1531.23 1250 1530.45 M1248.29 1523.06 Q1248.29 1525.75 1249.95 1527.25 Q1251.64 1528.76 1254.68 1528.76 Q1257.69 1528.76 1259.38 1527.25 Q1261.09 1525.75 1261.09 1523.06 Q1261.09 1520.38 1259.38 1518.87 Q1257.69 1517.37 1254.68 1517.37 Q1251.64 1517.37 1249.95 1518.87 Q1248.29 1520.38 1248.29 1523.06 Z\" fill=\"#000000\" fill-rule=\"evenodd\" fill-opacity=\"1\" /><path clip-path=\"url(#clip700)\" d=\"M1525.34 1544.91 L1532.98 1544.91 L1532.98 1518.55 L1524.67 1520.21 L1524.67 1515.95 L1532.94 1514.29 L1537.61 1514.29 L1537.61 1544.91 L1545.25 1544.91 L1545.25 1548.85 L1525.34 1548.85 L1525.34 1544.91 Z\" fill=\"#000000\" fill-rule=\"evenodd\" fill-opacity=\"1\" /><path clip-path=\"url(#clip700)\" d=\"M1564.69 1517.37 Q1561.08 1517.37 1559.25 1520.93 Q1557.45 1524.47 1557.45 1531.6 Q1557.45 1538.71 1559.25 1542.27 Q1561.08 1545.82 1564.69 1545.82 Q1568.33 1545.82 1570.13 1542.27 Q1571.96 1538.71 1571.96 1531.6 Q1571.96 1524.47 1570.13 1520.93 Q1568.33 1517.37 1564.69 1517.37 M1564.69 1513.66 Q1570.5 1513.66 1573.56 1518.27 Q1576.64 1522.85 1576.64 1531.6 Q1576.64 1540.33 1573.56 1544.94 Q1570.5 1549.52 1564.69 1549.52 Q1558.88 1549.52 1555.81 1544.94 Q1552.75 1540.33 1552.75 1531.6 Q1552.75 1522.85 1555.81 1518.27 Q1558.88 1513.66 1564.69 1513.66 Z\" fill=\"#000000\" fill-rule=\"evenodd\" fill-opacity=\"1\" /><path clip-path=\"url(#clip700)\" d=\"M1822.12 1544.91 L1829.76 1544.91 L1829.76 1518.55 L1821.45 1520.21 L1821.45 1515.95 L1829.71 1514.29 L1834.39 1514.29 L1834.39 1544.91 L1842.03 1544.91 L1842.03 1548.85 L1822.12 1548.85 L1822.12 1544.91 Z\" fill=\"#000000\" fill-rule=\"evenodd\" fill-opacity=\"1\" /><path clip-path=\"url(#clip700)\" d=\"M1855.5 1544.91 L1871.82 1544.91 L1871.82 1548.85 L1849.87 1548.85 L1849.87 1544.91 Q1852.54 1542.16 1857.12 1537.53 Q1861.73 1532.88 1862.91 1531.53 Q1865.15 1529.01 1866.03 1527.27 Q1866.93 1525.51 1866.93 1523.82 Q1866.93 1521.07 1864.99 1519.33 Q1863.07 1517.6 1859.97 1517.6 Q1857.77 1517.6 1855.31 1518.36 Q1852.88 1519.13 1850.11 1520.68 L1850.11 1515.95 Q1852.93 1514.82 1855.38 1514.24 Q1857.84 1513.66 1859.87 1513.66 Q1865.24 1513.66 1868.44 1516.35 Q1871.63 1519.03 1871.63 1523.52 Q1871.63 1525.65 1870.82 1527.57 Q1870.04 1529.47 1867.93 1532.07 Q1867.35 1532.74 1864.25 1535.95 Q1861.15 1539.15 1855.5 1544.91 Z\" fill=\"#000000\" fill-rule=\"evenodd\" fill-opacity=\"1\" /><path clip-path=\"url(#clip700)\" d=\"M2117.06 1544.91 L2124.69 1544.91 L2124.69 1518.55 L2116.38 1520.21 L2116.38 1515.95 L2124.65 1514.29 L2129.32 1514.29 L2129.32 1544.91 L2136.96 1544.91 L2136.96 1548.85 L2117.06 1548.85 L2117.06 1544.91 Z\" fill=\"#000000\" fill-rule=\"evenodd\" fill-opacity=\"1\" /><path clip-path=\"url(#clip700)\" d=\"M2159.25 1518.36 L2147.45 1536.81 L2159.25 1536.81 L2159.25 1518.36 M2158.03 1514.29 L2163.91 1514.29 L2163.91 1536.81 L2168.84 1536.81 L2168.84 1540.7 L2163.91 1540.7 L2163.91 1548.85 L2159.25 1548.85 L2159.25 1540.7 L2143.65 1540.7 L2143.65 1536.19 L2158.03 1514.29 Z\" fill=\"#000000\" fill-rule=\"evenodd\" fill-opacity=\"1\" /><polyline clip-path=\"url(#clip702)\" style=\"stroke:#000000; stroke-linecap:butt; stroke-linejoin:round; stroke-width:2; stroke-opacity:0.1; fill:none\" points=\"\n",
       "  156.598,1474.15 2352.76,1474.15 \n",
       "  \"/>\n",
       "<polyline clip-path=\"url(#clip702)\" style=\"stroke:#000000; stroke-linecap:butt; stroke-linejoin:round; stroke-width:2; stroke-opacity:0.1; fill:none\" points=\"\n",
       "  156.598,1192.98 2352.76,1192.98 \n",
       "  \"/>\n",
       "<polyline clip-path=\"url(#clip702)\" style=\"stroke:#000000; stroke-linecap:butt; stroke-linejoin:round; stroke-width:2; stroke-opacity:0.1; fill:none\" points=\"\n",
       "  156.598,911.799 2352.76,911.799 \n",
       "  \"/>\n",
       "<polyline clip-path=\"url(#clip702)\" style=\"stroke:#000000; stroke-linecap:butt; stroke-linejoin:round; stroke-width:2; stroke-opacity:0.1; fill:none\" points=\"\n",
       "  156.598,630.622 2352.76,630.622 \n",
       "  \"/>\n",
       "<polyline clip-path=\"url(#clip702)\" style=\"stroke:#000000; stroke-linecap:butt; stroke-linejoin:round; stroke-width:2; stroke-opacity:0.1; fill:none\" points=\"\n",
       "  156.598,349.444 2352.76,349.444 \n",
       "  \"/>\n",
       "<polyline clip-path=\"url(#clip700)\" style=\"stroke:#000000; stroke-linecap:butt; stroke-linejoin:round; stroke-width:4; stroke-opacity:1; fill:none\" points=\"\n",
       "  156.598,1486.45 156.598,123.472 \n",
       "  \"/>\n",
       "<polyline clip-path=\"url(#clip700)\" style=\"stroke:#000000; stroke-linecap:butt; stroke-linejoin:round; stroke-width:4; stroke-opacity:1; fill:none\" points=\"\n",
       "  156.598,1474.15 175.496,1474.15 \n",
       "  \"/>\n",
       "<polyline clip-path=\"url(#clip700)\" style=\"stroke:#000000; stroke-linecap:butt; stroke-linejoin:round; stroke-width:4; stroke-opacity:1; fill:none\" points=\"\n",
       "  156.598,1192.98 175.496,1192.98 \n",
       "  \"/>\n",
       "<polyline clip-path=\"url(#clip700)\" style=\"stroke:#000000; stroke-linecap:butt; stroke-linejoin:round; stroke-width:4; stroke-opacity:1; fill:none\" points=\"\n",
       "  156.598,911.799 175.496,911.799 \n",
       "  \"/>\n",
       "<polyline clip-path=\"url(#clip700)\" style=\"stroke:#000000; stroke-linecap:butt; stroke-linejoin:round; stroke-width:4; stroke-opacity:1; fill:none\" points=\"\n",
       "  156.598,630.622 175.496,630.622 \n",
       "  \"/>\n",
       "<polyline clip-path=\"url(#clip700)\" style=\"stroke:#000000; stroke-linecap:butt; stroke-linejoin:round; stroke-width:4; stroke-opacity:1; fill:none\" points=\"\n",
       "  156.598,349.444 175.496,349.444 \n",
       "  \"/>\n",
       "<path clip-path=\"url(#clip700)\" d=\"M63.4226 1459.95 Q59.8115 1459.95 57.9828 1463.52 Q56.1773 1467.06 56.1773 1474.19 Q56.1773 1481.29 57.9828 1484.86 Q59.8115 1488.4 63.4226 1488.4 Q67.0569 1488.4 68.8624 1484.86 Q70.6911 1481.29 70.6911 1474.19 Q70.6911 1467.06 68.8624 1463.52 Q67.0569 1459.95 63.4226 1459.95 M63.4226 1456.25 Q69.2328 1456.25 72.2883 1460.85 Q75.367 1465.44 75.367 1474.19 Q75.367 1482.91 72.2883 1487.52 Q69.2328 1492.1 63.4226 1492.1 Q57.6125 1492.1 54.5338 1487.52 Q51.4782 1482.91 51.4782 1474.19 Q51.4782 1465.44 54.5338 1460.85 Q57.6125 1456.25 63.4226 1456.25 Z\" fill=\"#000000\" fill-rule=\"evenodd\" fill-opacity=\"1\" /><path clip-path=\"url(#clip700)\" d=\"M83.5845 1485.55 L88.4688 1485.55 L88.4688 1491.43 L83.5845 1491.43 L83.5845 1485.55 Z\" fill=\"#000000\" fill-rule=\"evenodd\" fill-opacity=\"1\" /><path clip-path=\"url(#clip700)\" d=\"M108.654 1459.95 Q105.043 1459.95 103.214 1463.52 Q101.409 1467.06 101.409 1474.19 Q101.409 1481.29 103.214 1484.86 Q105.043 1488.4 108.654 1488.4 Q112.288 1488.4 114.094 1484.86 Q115.922 1481.29 115.922 1474.19 Q115.922 1467.06 114.094 1463.52 Q112.288 1459.95 108.654 1459.95 M108.654 1456.25 Q114.464 1456.25 117.52 1460.85 Q120.598 1465.44 120.598 1474.19 Q120.598 1482.91 117.52 1487.52 Q114.464 1492.1 108.654 1492.1 Q102.844 1492.1 99.765 1487.52 Q96.7095 1482.91 96.7095 1474.19 Q96.7095 1465.44 99.765 1460.85 Q102.844 1456.25 108.654 1456.25 Z\" fill=\"#000000\" fill-rule=\"evenodd\" fill-opacity=\"1\" /><path clip-path=\"url(#clip700)\" d=\"M65.0198 1178.77 Q61.4087 1178.77 59.58 1182.34 Q57.7745 1185.88 57.7745 1193.01 Q57.7745 1200.12 59.58 1203.68 Q61.4087 1207.22 65.0198 1207.22 Q68.6541 1207.22 70.4596 1203.68 Q72.2883 1200.12 72.2883 1193.01 Q72.2883 1185.88 70.4596 1182.34 Q68.6541 1178.77 65.0198 1178.77 M65.0198 1175.07 Q70.83 1175.07 73.8855 1179.68 Q76.9642 1184.26 76.9642 1193.01 Q76.9642 1201.74 73.8855 1206.34 Q70.83 1210.93 65.0198 1210.93 Q59.2097 1210.93 56.131 1206.34 Q53.0754 1201.74 53.0754 1193.01 Q53.0754 1184.26 56.131 1179.68 Q59.2097 1175.07 65.0198 1175.07 Z\" fill=\"#000000\" fill-rule=\"evenodd\" fill-opacity=\"1\" /><path clip-path=\"url(#clip700)\" d=\"M85.1818 1204.38 L90.066 1204.38 L90.066 1210.26 L85.1818 1210.26 L85.1818 1204.38 Z\" fill=\"#000000\" fill-rule=\"evenodd\" fill-opacity=\"1\" /><path clip-path=\"url(#clip700)\" d=\"M104.279 1206.32 L120.598 1206.32 L120.598 1210.26 L98.6539 1210.26 L98.6539 1206.32 Q101.316 1203.57 105.899 1198.94 Q110.506 1194.28 111.686 1192.94 Q113.932 1190.42 114.811 1188.68 Q115.714 1186.92 115.714 1185.23 Q115.714 1182.48 113.77 1180.74 Q111.848 1179.01 108.746 1179.01 Q106.547 1179.01 104.094 1179.77 Q101.663 1180.53 98.8854 1182.08 L98.8854 1177.36 Q101.709 1176.23 104.163 1175.65 Q106.617 1175.07 108.654 1175.07 Q114.024 1175.07 117.219 1177.76 Q120.413 1180.44 120.413 1184.93 Q120.413 1187.06 119.603 1188.98 Q118.816 1190.88 116.709 1193.47 Q116.131 1194.14 113.029 1197.36 Q109.927 1200.56 104.279 1206.32 Z\" fill=\"#000000\" fill-rule=\"evenodd\" fill-opacity=\"1\" /><path clip-path=\"url(#clip700)\" d=\"M62.9365 897.597 Q59.3254 897.597 57.4967 901.162 Q55.6912 904.704 55.6912 911.833 Q55.6912 918.94 57.4967 922.505 Q59.3254 926.046 62.9365 926.046 Q66.5707 926.046 68.3763 922.505 Q70.205 918.94 70.205 911.833 Q70.205 904.704 68.3763 901.162 Q66.5707 897.597 62.9365 897.597 M62.9365 893.894 Q68.7467 893.894 71.8022 898.5 Q74.8809 903.083 74.8809 911.833 Q74.8809 920.56 71.8022 925.167 Q68.7467 929.75 62.9365 929.75 Q57.1264 929.75 54.0477 925.167 Q50.9921 920.56 50.9921 911.833 Q50.9921 903.083 54.0477 898.5 Q57.1264 893.894 62.9365 893.894 Z\" fill=\"#000000\" fill-rule=\"evenodd\" fill-opacity=\"1\" /><path clip-path=\"url(#clip700)\" d=\"M83.0984 923.199 L87.9827 923.199 L87.9827 929.079 L83.0984 929.079 L83.0984 923.199 Z\" fill=\"#000000\" fill-rule=\"evenodd\" fill-opacity=\"1\" /><path clip-path=\"url(#clip700)\" d=\"M111.015 898.593 L99.2095 917.042 L111.015 917.042 L111.015 898.593 M109.788 894.519 L115.668 894.519 L115.668 917.042 L120.598 917.042 L120.598 920.931 L115.668 920.931 L115.668 929.079 L111.015 929.079 L111.015 920.931 L95.4132 920.931 L95.4132 916.417 L109.788 894.519 Z\" fill=\"#000000\" fill-rule=\"evenodd\" fill-opacity=\"1\" /><path clip-path=\"url(#clip700)\" d=\"M63.2606 616.42 Q59.6495 616.42 57.8208 619.985 Q56.0152 623.527 56.0152 630.656 Q56.0152 637.763 57.8208 641.327 Q59.6495 644.869 63.2606 644.869 Q66.8948 644.869 68.7004 641.327 Q70.5291 637.763 70.5291 630.656 Q70.5291 623.527 68.7004 619.985 Q66.8948 616.42 63.2606 616.42 M63.2606 612.717 Q69.0707 612.717 72.1263 617.323 Q75.205 621.906 75.205 630.656 Q75.205 639.383 72.1263 643.99 Q69.0707 648.573 63.2606 648.573 Q57.4504 648.573 54.3717 643.99 Q51.3162 639.383 51.3162 630.656 Q51.3162 621.906 54.3717 617.323 Q57.4504 612.717 63.2606 612.717 Z\" fill=\"#000000\" fill-rule=\"evenodd\" fill-opacity=\"1\" /><path clip-path=\"url(#clip700)\" d=\"M83.4225 642.022 L88.3067 642.022 L88.3067 647.902 L83.4225 647.902 L83.4225 642.022 Z\" fill=\"#000000\" fill-rule=\"evenodd\" fill-opacity=\"1\" /><path clip-path=\"url(#clip700)\" d=\"M109.071 628.758 Q105.922 628.758 104.071 630.911 Q102.242 633.064 102.242 636.814 Q102.242 640.54 104.071 642.716 Q105.922 644.869 109.071 644.869 Q112.219 644.869 114.047 642.716 Q115.899 640.54 115.899 636.814 Q115.899 633.064 114.047 630.911 Q112.219 628.758 109.071 628.758 M118.353 614.105 L118.353 618.365 Q116.594 617.531 114.788 617.092 Q113.006 616.652 111.246 616.652 Q106.617 616.652 104.163 619.777 Q101.733 622.902 101.385 629.221 Q102.751 627.207 104.811 626.142 Q106.871 625.054 109.348 625.054 Q114.557 625.054 117.566 628.226 Q120.598 631.374 120.598 636.814 Q120.598 642.138 117.45 645.355 Q114.302 648.573 109.071 648.573 Q103.075 648.573 99.9039 643.99 Q96.7326 639.383 96.7326 630.656 Q96.7326 622.462 100.621 617.601 Q104.51 612.717 111.061 612.717 Q112.82 612.717 114.603 613.064 Q116.408 613.411 118.353 614.105 Z\" fill=\"#000000\" fill-rule=\"evenodd\" fill-opacity=\"1\" /><path clip-path=\"url(#clip700)\" d=\"M63.5152 335.243 Q59.9041 335.243 58.0754 338.808 Q56.2699 342.349 56.2699 349.479 Q56.2699 356.586 58.0754 360.15 Q59.9041 363.692 63.5152 363.692 Q67.1494 363.692 68.955 360.15 Q70.7837 356.586 70.7837 349.479 Q70.7837 342.349 68.955 338.808 Q67.1494 335.243 63.5152 335.243 M63.5152 331.539 Q69.3254 331.539 72.3809 336.146 Q75.4596 340.729 75.4596 349.479 Q75.4596 358.206 72.3809 362.812 Q69.3254 367.396 63.5152 367.396 Q57.7051 367.396 54.6264 362.812 Q51.5708 358.206 51.5708 349.479 Q51.5708 340.729 54.6264 336.146 Q57.7051 331.539 63.5152 331.539 Z\" fill=\"#000000\" fill-rule=\"evenodd\" fill-opacity=\"1\" /><path clip-path=\"url(#clip700)\" d=\"M83.6771 360.845 L88.5614 360.845 L88.5614 366.724 L83.6771 366.724 L83.6771 360.845 Z\" fill=\"#000000\" fill-rule=\"evenodd\" fill-opacity=\"1\" /><path clip-path=\"url(#clip700)\" d=\"M108.746 350.312 Q105.413 350.312 103.492 352.095 Q101.594 353.877 101.594 357.002 Q101.594 360.127 103.492 361.91 Q105.413 363.692 108.746 363.692 Q112.08 363.692 114.001 361.91 Q115.922 360.104 115.922 357.002 Q115.922 353.877 114.001 352.095 Q112.103 350.312 108.746 350.312 M104.071 348.322 Q101.061 347.581 99.3715 345.521 Q97.7048 343.461 97.7048 340.498 Q97.7048 336.354 100.645 333.947 Q103.608 331.539 108.746 331.539 Q113.908 331.539 116.848 333.947 Q119.788 336.354 119.788 340.498 Q119.788 343.461 118.098 345.521 Q116.432 347.581 113.445 348.322 Q116.825 349.109 118.7 351.4 Q120.598 353.692 120.598 357.002 Q120.598 362.025 117.52 364.71 Q114.464 367.396 108.746 367.396 Q103.029 367.396 99.9502 364.71 Q96.8947 362.025 96.8947 357.002 Q96.8947 353.692 98.7928 351.4 Q100.691 349.109 104.071 348.322 M102.358 340.937 Q102.358 343.623 104.024 345.127 Q105.714 346.632 108.746 346.632 Q111.756 346.632 113.445 345.127 Q115.158 343.623 115.158 340.937 Q115.158 338.252 113.445 336.748 Q111.756 335.243 108.746 335.243 Q105.714 335.243 104.024 336.748 Q102.358 338.252 102.358 340.937 Z\" fill=\"#000000\" fill-rule=\"evenodd\" fill-opacity=\"1\" /><path clip-path=\"url(#clip700)\" d=\"M989.505 44.2197 Q992.138 45.1109 994.609 48.0275 Q997.121 50.9442 999.632 56.0483 L1007.94 72.576 L999.146 72.576 L991.409 57.061 Q988.411 50.9847 985.576 48.9997 Q982.78 47.0148 977.919 47.0148 L969.007 47.0148 L969.007 72.576 L960.824 72.576 L960.824 12.096 L979.297 12.096 Q989.667 12.096 994.771 16.4305 Q999.875 20.7649 999.875 29.5149 Q999.875 35.2267 997.202 38.994 Q994.569 42.7613 989.505 44.2197 M969.007 18.8205 L969.007 40.2903 L979.297 40.2903 Q985.211 40.2903 988.209 37.5762 Q991.247 34.8216 991.247 29.5149 Q991.247 24.2082 988.209 21.5346 Q985.211 18.8205 979.297 18.8205 L969.007 18.8205 Z\" fill=\"#000000\" fill-rule=\"evenodd\" fill-opacity=\"1\" /><path clip-path=\"url(#clip700)\" d=\"M1036.94 49.7694 Q1027.91 49.7694 1024.42 51.8354 Q1020.94 53.9013 1020.94 58.8839 Q1020.94 62.8538 1023.53 65.2034 Q1026.17 67.5124 1030.66 67.5124 Q1036.86 67.5124 1040.59 63.1374 Q1044.35 58.7219 1044.35 51.4303 L1044.35 49.7694 L1036.94 49.7694 M1051.81 46.6907 L1051.81 72.576 L1044.35 72.576 L1044.35 65.6895 Q1041.8 69.8214 1037.99 71.8063 Q1034.19 73.7508 1028.68 73.7508 Q1021.71 73.7508 1017.58 69.8619 Q1013.49 65.9325 1013.49 59.3701 Q1013.49 51.7138 1018.59 47.825 Q1023.74 43.9361 1033.9 43.9361 L1044.35 43.9361 L1044.35 43.2069 Q1044.35 38.0623 1040.95 35.2672 Q1037.59 32.4315 1031.47 32.4315 Q1027.58 32.4315 1023.9 33.3632 Q1020.21 34.295 1016.81 36.1584 L1016.81 29.2718 Q1020.9 27.692 1024.75 26.9223 Q1028.6 26.1121 1032.24 26.1121 Q1042.09 26.1121 1046.95 31.2163 Q1051.81 36.3204 1051.81 46.6907 Z\" fill=\"#000000\" fill-rule=\"evenodd\" fill-opacity=\"1\" /><path clip-path=\"url(#clip700)\" d=\"M1104.87 45.1919 L1104.87 72.576 L1097.42 72.576 L1097.42 45.4349 Q1097.42 38.994 1094.91 35.7938 Q1092.4 32.5936 1087.37 32.5936 Q1081.34 32.5936 1077.86 36.4419 Q1074.37 40.2903 1074.37 46.9338 L1074.37 72.576 L1066.88 72.576 L1066.88 27.2059 L1074.37 27.2059 L1074.37 34.2544 Q1077.04 30.163 1080.65 28.1376 Q1084.3 26.1121 1089.04 26.1121 Q1096.85 26.1121 1100.86 30.9732 Q1104.87 35.7938 1104.87 45.1919 Z\" fill=\"#000000\" fill-rule=\"evenodd\" fill-opacity=\"1\" /><path clip-path=\"url(#clip700)\" d=\"M1149.6 34.0924 L1149.6 9.54393 L1157.05 9.54393 L1157.05 72.576 L1149.6 72.576 L1149.6 65.7705 Q1147.25 69.8214 1143.64 71.8063 Q1140.08 73.7508 1135.05 73.7508 Q1126.83 73.7508 1121.65 67.1883 Q1116.5 60.6258 1116.5 49.9314 Q1116.5 39.2371 1121.65 32.6746 Q1126.83 26.1121 1135.05 26.1121 Q1140.08 26.1121 1143.64 28.0971 Q1147.25 30.0415 1149.6 34.0924 M1124.2 49.9314 Q1124.2 58.1548 1127.56 62.8538 Q1130.96 67.5124 1136.88 67.5124 Q1142.79 67.5124 1146.19 62.8538 Q1149.6 58.1548 1149.6 49.9314 Q1149.6 41.7081 1146.19 37.0496 Q1142.79 32.3505 1136.88 32.3505 Q1130.96 32.3505 1127.56 37.0496 Q1124.2 41.7081 1124.2 49.9314 Z\" fill=\"#000000\" fill-rule=\"evenodd\" fill-opacity=\"1\" /><path clip-path=\"url(#clip700)\" d=\"M1189.98 32.4315 Q1183.99 32.4315 1180.51 37.1306 Q1177.02 41.7891 1177.02 49.9314 Q1177.02 58.0738 1180.46 62.7728 Q1183.95 67.4314 1189.98 67.4314 Q1195.94 67.4314 1199.42 62.7323 Q1202.91 58.0333 1202.91 49.9314 Q1202.91 41.8701 1199.42 37.1711 Q1195.94 32.4315 1189.98 32.4315 M1189.98 26.1121 Q1199.71 26.1121 1205.26 32.4315 Q1210.81 38.7509 1210.81 49.9314 Q1210.81 61.0714 1205.26 67.4314 Q1199.71 73.7508 1189.98 73.7508 Q1180.22 73.7508 1174.67 67.4314 Q1169.16 61.0714 1169.16 49.9314 Q1169.16 38.7509 1174.67 32.4315 Q1180.22 26.1121 1189.98 26.1121 Z\" fill=\"#000000\" fill-rule=\"evenodd\" fill-opacity=\"1\" /><path clip-path=\"url(#clip700)\" d=\"M1258.48 35.9153 Q1261.28 30.8922 1265.17 28.5022 Q1269.06 26.1121 1274.32 26.1121 Q1281.41 26.1121 1285.26 31.0947 Q1289.11 36.0368 1289.11 45.1919 L1289.11 72.576 L1281.62 72.576 L1281.62 45.4349 Q1281.62 38.913 1279.31 35.7533 Q1277 32.5936 1272.26 32.5936 Q1266.47 32.5936 1263.1 36.4419 Q1259.74 40.2903 1259.74 46.9338 L1259.74 72.576 L1252.25 72.576 L1252.25 45.4349 Q1252.25 38.8725 1249.94 35.7533 Q1247.63 32.5936 1242.81 32.5936 Q1237.1 32.5936 1233.73 36.4824 Q1230.37 40.3308 1230.37 46.9338 L1230.37 72.576 L1222.88 72.576 L1222.88 27.2059 L1230.37 27.2059 L1230.37 34.2544 Q1232.92 30.082 1236.49 28.0971 Q1240.05 26.1121 1244.95 26.1121 Q1249.9 26.1121 1253.34 28.6237 Q1256.82 31.1352 1258.48 35.9153 Z\" fill=\"#000000\" fill-rule=\"evenodd\" fill-opacity=\"1\" /><path clip-path=\"url(#clip700)\" d=\"M1375.96 16.7545 L1375.96 25.383 Q1371.83 21.5346 1367.13 19.6307 Q1362.47 17.7268 1357.21 17.7268 Q1346.84 17.7268 1341.33 24.0867 Q1335.82 30.4061 1335.82 42.3968 Q1335.82 54.3469 1341.33 60.7069 Q1346.84 67.0263 1357.21 67.0263 Q1362.47 67.0263 1367.13 65.1223 Q1371.83 63.2184 1375.96 59.3701 L1375.96 67.9175 Q1371.67 70.8341 1366.85 72.2924 Q1362.07 73.7508 1356.72 73.7508 Q1342.99 73.7508 1335.09 65.3654 Q1327.19 56.9395 1327.19 42.3968 Q1327.19 27.8135 1335.09 19.4281 Q1342.99 11.0023 1356.72 11.0023 Q1362.15 11.0023 1366.93 12.4606 Q1371.75 13.8784 1375.96 16.7545 Z\" fill=\"#000000\" fill-rule=\"evenodd\" fill-opacity=\"1\" /><path clip-path=\"url(#clip700)\" d=\"M1425.99 45.1919 L1425.99 72.576 L1418.54 72.576 L1418.54 45.4349 Q1418.54 38.994 1416.02 35.7938 Q1413.51 32.5936 1408.49 32.5936 Q1402.45 32.5936 1398.97 36.4419 Q1395.49 40.2903 1395.49 46.9338 L1395.49 72.576 L1387.99 72.576 L1387.99 9.54393 L1395.49 9.54393 L1395.49 34.2544 Q1398.16 30.163 1401.77 28.1376 Q1405.41 26.1121 1410.15 26.1121 Q1417.97 26.1121 1421.98 30.9732 Q1425.99 35.7938 1425.99 45.1919 Z\" fill=\"#000000\" fill-rule=\"evenodd\" fill-opacity=\"1\" /><path clip-path=\"url(#clip700)\" d=\"M1461.48 49.7694 Q1452.44 49.7694 1448.96 51.8354 Q1445.47 53.9013 1445.47 58.8839 Q1445.47 62.8538 1448.07 65.2034 Q1450.7 67.5124 1455.2 67.5124 Q1461.39 67.5124 1465.12 63.1374 Q1468.89 58.7219 1468.89 51.4303 L1468.89 49.7694 L1461.48 49.7694 M1476.34 46.6907 L1476.34 72.576 L1468.89 72.576 L1468.89 65.6895 Q1466.34 69.8214 1462.53 71.8063 Q1458.72 73.7508 1453.21 73.7508 Q1446.24 73.7508 1442.11 69.8619 Q1438.02 65.9325 1438.02 59.3701 Q1438.02 51.7138 1443.13 47.825 Q1448.27 43.9361 1458.44 43.9361 L1468.89 43.9361 L1468.89 43.2069 Q1468.89 38.0623 1465.49 35.2672 Q1462.12 32.4315 1456.01 32.4315 Q1452.12 32.4315 1448.43 33.3632 Q1444.75 34.295 1441.34 36.1584 L1441.34 29.2718 Q1445.43 27.692 1449.28 26.9223 Q1453.13 26.1121 1456.78 26.1121 Q1466.62 26.1121 1471.48 31.2163 Q1476.34 36.3204 1476.34 46.6907 Z\" fill=\"#000000\" fill-rule=\"evenodd\" fill-opacity=\"1\" /><path clip-path=\"url(#clip700)\" d=\"M1517.99 34.1734 Q1516.73 33.4443 1515.23 33.1202 Q1513.77 32.7556 1511.99 32.7556 Q1505.67 32.7556 1502.27 36.8875 Q1498.91 40.9789 1498.91 48.6757 L1498.91 72.576 L1491.41 72.576 L1491.41 27.2059 L1498.91 27.2059 L1498.91 34.2544 Q1501.26 30.1225 1505.02 28.1376 Q1508.79 26.1121 1514.18 26.1121 Q1514.95 26.1121 1515.88 26.2337 Q1516.81 26.3147 1517.95 26.5172 L1517.99 34.1734 Z\" fill=\"#000000\" fill-rule=\"evenodd\" fill-opacity=\"1\" /><path clip-path=\"url(#clip700)\" d=\"M1533.18 14.324 L1533.18 27.2059 L1548.53 27.2059 L1548.53 32.9987 L1533.18 32.9987 L1533.18 57.6282 Q1533.18 63.1779 1534.68 64.7578 Q1536.21 66.3376 1540.87 66.3376 L1548.53 66.3376 L1548.53 72.576 L1540.87 72.576 Q1532.25 72.576 1528.96 69.3758 Q1525.68 66.1351 1525.68 57.6282 L1525.68 32.9987 L1520.21 32.9987 L1520.21 27.2059 L1525.68 27.2059 L1525.68 14.324 L1533.18 14.324 Z\" fill=\"#000000\" fill-rule=\"evenodd\" fill-opacity=\"1\" /><polyline clip-path=\"url(#clip702)\" style=\"stroke:#009af9; stroke-linecap:butt; stroke-linejoin:round; stroke-width:4; stroke-opacity:1; fill:none\" points=\"\n",
       "  218.754,768.959 366.743,722.708 514.732,1447.87 662.721,1015.13 810.71,247.361 958.699,855.306 1106.69,1302.41 1254.68,484.496 1402.67,162.047 1550.66,993.107 \n",
       "  1698.64,1335.2 1846.63,764.195 1994.62,184.392 2142.61,765.2 2290.6,1270.67 \n",
       "  \"/>\n",
       "<path clip-path=\"url(#clip700)\" d=\"\n",
       "M1983.1 272.585 L2279.55 272.585 L2279.55 168.905 L1983.1 168.905  Z\n",
       "  \" fill=\"#ffffff\" fill-rule=\"evenodd\" fill-opacity=\"1\"/>\n",
       "<polyline clip-path=\"url(#clip700)\" style=\"stroke:#000000; stroke-linecap:butt; stroke-linejoin:round; stroke-width:4; stroke-opacity:1; fill:none\" points=\"\n",
       "  1983.1,272.585 2279.55,272.585 2279.55,168.905 1983.1,168.905 1983.1,272.585 \n",
       "  \"/>\n",
       "<polyline clip-path=\"url(#clip700)\" style=\"stroke:#009af9; stroke-linecap:butt; stroke-linejoin:round; stroke-width:4; stroke-opacity:1; fill:none\" points=\"\n",
       "  2007.5,220.745 2153.92,220.745 \n",
       "  \"/>\n",
       "<path clip-path=\"url(#clip700)\" d=\"M2192.16 240.432 Q2190.35 245.062 2188.64 246.474 Q2186.93 247.886 2184.06 247.886 L2180.65 247.886 L2180.65 244.321 L2183.15 244.321 Q2184.91 244.321 2185.89 243.488 Q2186.86 242.654 2188.04 239.552 L2188.8 237.608 L2178.32 212.099 L2182.83 212.099 L2190.93 232.377 L2199.03 212.099 L2203.55 212.099 L2192.16 240.432 Z\" fill=\"#000000\" fill-rule=\"evenodd\" fill-opacity=\"1\" /><path clip-path=\"url(#clip700)\" d=\"M2210.84 234.089 L2218.48 234.089 L2218.48 207.724 L2210.17 209.391 L2210.17 205.131 L2218.43 203.465 L2223.11 203.465 L2223.11 234.089 L2230.75 234.089 L2230.75 238.025 L2210.84 238.025 L2210.84 234.089 Z\" fill=\"#000000\" fill-rule=\"evenodd\" fill-opacity=\"1\" /></svg>\n"
      ]
     },
     "execution_count": 245,
     "metadata": {},
     "output_type": "execute_result"
    }
   ],
   "source": [
    "plot(x, y, title=\"Random Chart\")"
   ]
  },
  {
   "cell_type": "code",
   "execution_count": 246,
   "metadata": {},
   "outputs": [
    {
     "data": {
      "image/svg+xml": [
       "<?xml version=\"1.0\" encoding=\"utf-8\"?>\n",
       "<svg xmlns=\"http://www.w3.org/2000/svg\" xmlns:xlink=\"http://www.w3.org/1999/xlink\" width=\"600\" height=\"400\" viewBox=\"0 0 2400 1600\">\n",
       "<defs>\n",
       "  <clipPath id=\"clip740\">\n",
       "    <rect x=\"0\" y=\"0\" width=\"2400\" height=\"1600\"/>\n",
       "  </clipPath>\n",
       "</defs>\n",
       "<path clip-path=\"url(#clip740)\" d=\"\n",
       "M0 1600 L2400 1600 L2400 0 L0 0  Z\n",
       "  \" fill=\"#ffffff\" fill-rule=\"evenodd\" fill-opacity=\"1\"/>\n",
       "<defs>\n",
       "  <clipPath id=\"clip741\">\n",
       "    <rect x=\"480\" y=\"0\" width=\"1681\" height=\"1600\"/>\n",
       "  </clipPath>\n",
       "</defs>\n",
       "<path clip-path=\"url(#clip740)\" d=\"\n",
       "M156.598 1486.45 L2352.76 1486.45 L2352.76 123.472 L156.598 123.472  Z\n",
       "  \" fill=\"#ffffff\" fill-rule=\"evenodd\" fill-opacity=\"1\"/>\n",
       "<defs>\n",
       "  <clipPath id=\"clip742\">\n",
       "    <rect x=\"156\" y=\"123\" width=\"2197\" height=\"1364\"/>\n",
       "  </clipPath>\n",
       "</defs>\n",
       "<polyline clip-path=\"url(#clip742)\" style=\"stroke:#000000; stroke-linecap:butt; stroke-linejoin:round; stroke-width:2; stroke-opacity:0.1; fill:none\" points=\"\n",
       "  366.743,1486.45 366.743,123.472 \n",
       "  \"/>\n",
       "<polyline clip-path=\"url(#clip742)\" style=\"stroke:#000000; stroke-linecap:butt; stroke-linejoin:round; stroke-width:2; stroke-opacity:0.1; fill:none\" points=\"\n",
       "  662.721,1486.45 662.721,123.472 \n",
       "  \"/>\n",
       "<polyline clip-path=\"url(#clip742)\" style=\"stroke:#000000; stroke-linecap:butt; stroke-linejoin:round; stroke-width:2; stroke-opacity:0.1; fill:none\" points=\"\n",
       "  958.699,1486.45 958.699,123.472 \n",
       "  \"/>\n",
       "<polyline clip-path=\"url(#clip742)\" style=\"stroke:#000000; stroke-linecap:butt; stroke-linejoin:round; stroke-width:2; stroke-opacity:0.1; fill:none\" points=\"\n",
       "  1254.68,1486.45 1254.68,123.472 \n",
       "  \"/>\n",
       "<polyline clip-path=\"url(#clip742)\" style=\"stroke:#000000; stroke-linecap:butt; stroke-linejoin:round; stroke-width:2; stroke-opacity:0.1; fill:none\" points=\"\n",
       "  1550.66,1486.45 1550.66,123.472 \n",
       "  \"/>\n",
       "<polyline clip-path=\"url(#clip742)\" style=\"stroke:#000000; stroke-linecap:butt; stroke-linejoin:round; stroke-width:2; stroke-opacity:0.1; fill:none\" points=\"\n",
       "  1846.63,1486.45 1846.63,123.472 \n",
       "  \"/>\n",
       "<polyline clip-path=\"url(#clip742)\" style=\"stroke:#000000; stroke-linecap:butt; stroke-linejoin:round; stroke-width:2; stroke-opacity:0.1; fill:none\" points=\"\n",
       "  2142.61,1486.45 2142.61,123.472 \n",
       "  \"/>\n",
       "<polyline clip-path=\"url(#clip740)\" style=\"stroke:#000000; stroke-linecap:butt; stroke-linejoin:round; stroke-width:4; stroke-opacity:1; fill:none\" points=\"\n",
       "  156.598,1486.45 2352.76,1486.45 \n",
       "  \"/>\n",
       "<polyline clip-path=\"url(#clip740)\" style=\"stroke:#000000; stroke-linecap:butt; stroke-linejoin:round; stroke-width:4; stroke-opacity:1; fill:none\" points=\"\n",
       "  366.743,1486.45 366.743,1467.55 \n",
       "  \"/>\n",
       "<polyline clip-path=\"url(#clip740)\" style=\"stroke:#000000; stroke-linecap:butt; stroke-linejoin:round; stroke-width:4; stroke-opacity:1; fill:none\" points=\"\n",
       "  662.721,1486.45 662.721,1467.55 \n",
       "  \"/>\n",
       "<polyline clip-path=\"url(#clip740)\" style=\"stroke:#000000; stroke-linecap:butt; stroke-linejoin:round; stroke-width:4; stroke-opacity:1; fill:none\" points=\"\n",
       "  958.699,1486.45 958.699,1467.55 \n",
       "  \"/>\n",
       "<polyline clip-path=\"url(#clip740)\" style=\"stroke:#000000; stroke-linecap:butt; stroke-linejoin:round; stroke-width:4; stroke-opacity:1; fill:none\" points=\"\n",
       "  1254.68,1486.45 1254.68,1467.55 \n",
       "  \"/>\n",
       "<polyline clip-path=\"url(#clip740)\" style=\"stroke:#000000; stroke-linecap:butt; stroke-linejoin:round; stroke-width:4; stroke-opacity:1; fill:none\" points=\"\n",
       "  1550.66,1486.45 1550.66,1467.55 \n",
       "  \"/>\n",
       "<polyline clip-path=\"url(#clip740)\" style=\"stroke:#000000; stroke-linecap:butt; stroke-linejoin:round; stroke-width:4; stroke-opacity:1; fill:none\" points=\"\n",
       "  1846.63,1486.45 1846.63,1467.55 \n",
       "  \"/>\n",
       "<polyline clip-path=\"url(#clip740)\" style=\"stroke:#000000; stroke-linecap:butt; stroke-linejoin:round; stroke-width:4; stroke-opacity:1; fill:none\" points=\"\n",
       "  2142.61,1486.45 2142.61,1467.55 \n",
       "  \"/>\n",
       "<path clip-path=\"url(#clip740)\" d=\"M361.396 1544.91 L377.715 1544.91 L377.715 1548.85 L355.771 1548.85 L355.771 1544.91 Q358.433 1542.16 363.016 1537.53 Q367.622 1532.88 368.803 1531.53 Q371.048 1529.01 371.928 1527.27 Q372.831 1525.51 372.831 1523.82 Q372.831 1521.07 370.886 1519.33 Q368.965 1517.6 365.863 1517.6 Q363.664 1517.6 361.21 1518.36 Q358.78 1519.13 356.002 1520.68 L356.002 1515.95 Q358.826 1514.82 361.28 1514.24 Q363.733 1513.66 365.77 1513.66 Q371.141 1513.66 374.335 1516.35 Q377.53 1519.03 377.53 1523.52 Q377.53 1525.65 376.72 1527.57 Q375.932 1529.47 373.826 1532.07 Q373.247 1532.74 370.145 1535.95 Q367.044 1539.15 361.396 1544.91 Z\" fill=\"#000000\" fill-rule=\"evenodd\" fill-opacity=\"1\" /><path clip-path=\"url(#clip740)\" d=\"M665.73 1518.36 L653.925 1536.81 L665.73 1536.81 L665.73 1518.36 M664.503 1514.29 L670.383 1514.29 L670.383 1536.81 L675.313 1536.81 L675.313 1540.7 L670.383 1540.7 L670.383 1548.85 L665.73 1548.85 L665.73 1540.7 L650.128 1540.7 L650.128 1536.19 L664.503 1514.29 Z\" fill=\"#000000\" fill-rule=\"evenodd\" fill-opacity=\"1\" /><path clip-path=\"url(#clip740)\" d=\"M959.104 1529.7 Q955.956 1529.7 954.104 1531.86 Q952.275 1534.01 952.275 1537.76 Q952.275 1541.49 954.104 1543.66 Q955.956 1545.82 959.104 1545.82 Q962.252 1545.82 964.081 1543.66 Q965.933 1541.49 965.933 1537.76 Q965.933 1534.01 964.081 1531.86 Q962.252 1529.7 959.104 1529.7 M968.386 1515.05 L968.386 1519.31 Q966.627 1518.48 964.822 1518.04 Q963.039 1517.6 961.28 1517.6 Q956.65 1517.6 954.197 1520.72 Q951.766 1523.85 951.419 1530.17 Q952.785 1528.15 954.845 1527.09 Q956.905 1526 959.382 1526 Q964.59 1526 967.599 1529.17 Q970.632 1532.32 970.632 1537.76 Q970.632 1543.08 967.484 1546.3 Q964.335 1549.52 959.104 1549.52 Q953.109 1549.52 949.937 1544.94 Q946.766 1540.33 946.766 1531.6 Q946.766 1523.41 950.655 1518.55 Q954.544 1513.66 961.095 1513.66 Q962.854 1513.66 964.636 1514.01 Q966.442 1514.36 968.386 1515.05 Z\" fill=\"#000000\" fill-rule=\"evenodd\" fill-opacity=\"1\" /><path clip-path=\"url(#clip740)\" d=\"M1254.68 1532.44 Q1251.34 1532.44 1249.42 1534.22 Q1247.52 1536 1247.52 1539.13 Q1247.52 1542.25 1249.42 1544.03 Q1251.34 1545.82 1254.68 1545.82 Q1258.01 1545.82 1259.93 1544.03 Q1261.85 1542.23 1261.85 1539.13 Q1261.85 1536 1259.93 1534.22 Q1258.03 1532.44 1254.68 1532.44 M1250 1530.45 Q1246.99 1529.7 1245.3 1527.64 Q1243.64 1525.58 1243.64 1522.62 Q1243.64 1518.48 1246.58 1516.07 Q1249.54 1513.66 1254.68 1513.66 Q1259.84 1513.66 1262.78 1516.07 Q1265.72 1518.48 1265.72 1522.62 Q1265.72 1525.58 1264.03 1527.64 Q1262.36 1529.7 1259.38 1530.45 Q1262.76 1531.23 1264.63 1533.52 Q1266.53 1535.82 1266.53 1539.13 Q1266.53 1544.15 1263.45 1546.83 Q1260.39 1549.52 1254.68 1549.52 Q1248.96 1549.52 1245.88 1546.83 Q1242.83 1544.15 1242.83 1539.13 Q1242.83 1535.82 1244.72 1533.52 Q1246.62 1531.23 1250 1530.45 M1248.29 1523.06 Q1248.29 1525.75 1249.95 1527.25 Q1251.64 1528.76 1254.68 1528.76 Q1257.69 1528.76 1259.38 1527.25 Q1261.09 1525.75 1261.09 1523.06 Q1261.09 1520.38 1259.38 1518.87 Q1257.69 1517.37 1254.68 1517.37 Q1251.64 1517.37 1249.95 1518.87 Q1248.29 1520.38 1248.29 1523.06 Z\" fill=\"#000000\" fill-rule=\"evenodd\" fill-opacity=\"1\" /><path clip-path=\"url(#clip740)\" d=\"M1525.34 1544.91 L1532.98 1544.91 L1532.98 1518.55 L1524.67 1520.21 L1524.67 1515.95 L1532.94 1514.29 L1537.61 1514.29 L1537.61 1544.91 L1545.25 1544.91 L1545.25 1548.85 L1525.34 1548.85 L1525.34 1544.91 Z\" fill=\"#000000\" fill-rule=\"evenodd\" fill-opacity=\"1\" /><path clip-path=\"url(#clip740)\" d=\"M1564.69 1517.37 Q1561.08 1517.37 1559.25 1520.93 Q1557.45 1524.47 1557.45 1531.6 Q1557.45 1538.71 1559.25 1542.27 Q1561.08 1545.82 1564.69 1545.82 Q1568.33 1545.82 1570.13 1542.27 Q1571.96 1538.71 1571.96 1531.6 Q1571.96 1524.47 1570.13 1520.93 Q1568.33 1517.37 1564.69 1517.37 M1564.69 1513.66 Q1570.5 1513.66 1573.56 1518.27 Q1576.64 1522.85 1576.64 1531.6 Q1576.64 1540.33 1573.56 1544.94 Q1570.5 1549.52 1564.69 1549.52 Q1558.88 1549.52 1555.81 1544.94 Q1552.75 1540.33 1552.75 1531.6 Q1552.75 1522.85 1555.81 1518.27 Q1558.88 1513.66 1564.69 1513.66 Z\" fill=\"#000000\" fill-rule=\"evenodd\" fill-opacity=\"1\" /><path clip-path=\"url(#clip740)\" d=\"M1822.12 1544.91 L1829.76 1544.91 L1829.76 1518.55 L1821.45 1520.21 L1821.45 1515.95 L1829.71 1514.29 L1834.39 1514.29 L1834.39 1544.91 L1842.03 1544.91 L1842.03 1548.85 L1822.12 1548.85 L1822.12 1544.91 Z\" fill=\"#000000\" fill-rule=\"evenodd\" fill-opacity=\"1\" /><path clip-path=\"url(#clip740)\" d=\"M1855.5 1544.91 L1871.82 1544.91 L1871.82 1548.85 L1849.87 1548.85 L1849.87 1544.91 Q1852.54 1542.16 1857.12 1537.53 Q1861.73 1532.88 1862.91 1531.53 Q1865.15 1529.01 1866.03 1527.27 Q1866.93 1525.51 1866.93 1523.82 Q1866.93 1521.07 1864.99 1519.33 Q1863.07 1517.6 1859.97 1517.6 Q1857.77 1517.6 1855.31 1518.36 Q1852.88 1519.13 1850.11 1520.68 L1850.11 1515.95 Q1852.93 1514.82 1855.38 1514.24 Q1857.84 1513.66 1859.87 1513.66 Q1865.24 1513.66 1868.44 1516.35 Q1871.63 1519.03 1871.63 1523.52 Q1871.63 1525.65 1870.82 1527.57 Q1870.04 1529.47 1867.93 1532.07 Q1867.35 1532.74 1864.25 1535.95 Q1861.15 1539.15 1855.5 1544.91 Z\" fill=\"#000000\" fill-rule=\"evenodd\" fill-opacity=\"1\" /><path clip-path=\"url(#clip740)\" d=\"M2117.06 1544.91 L2124.69 1544.91 L2124.69 1518.55 L2116.38 1520.21 L2116.38 1515.95 L2124.65 1514.29 L2129.32 1514.29 L2129.32 1544.91 L2136.96 1544.91 L2136.96 1548.85 L2117.06 1548.85 L2117.06 1544.91 Z\" fill=\"#000000\" fill-rule=\"evenodd\" fill-opacity=\"1\" /><path clip-path=\"url(#clip740)\" d=\"M2159.25 1518.36 L2147.45 1536.81 L2159.25 1536.81 L2159.25 1518.36 M2158.03 1514.29 L2163.91 1514.29 L2163.91 1536.81 L2168.84 1536.81 L2168.84 1540.7 L2163.91 1540.7 L2163.91 1548.85 L2159.25 1548.85 L2159.25 1540.7 L2143.65 1540.7 L2143.65 1536.19 L2158.03 1514.29 Z\" fill=\"#000000\" fill-rule=\"evenodd\" fill-opacity=\"1\" /><polyline clip-path=\"url(#clip742)\" style=\"stroke:#000000; stroke-linecap:butt; stroke-linejoin:round; stroke-width:2; stroke-opacity:0.1; fill:none\" points=\"\n",
       "  156.598,1474.15 2352.76,1474.15 \n",
       "  \"/>\n",
       "<polyline clip-path=\"url(#clip742)\" style=\"stroke:#000000; stroke-linecap:butt; stroke-linejoin:round; stroke-width:2; stroke-opacity:0.1; fill:none\" points=\"\n",
       "  156.598,1192.98 2352.76,1192.98 \n",
       "  \"/>\n",
       "<polyline clip-path=\"url(#clip742)\" style=\"stroke:#000000; stroke-linecap:butt; stroke-linejoin:round; stroke-width:2; stroke-opacity:0.1; fill:none\" points=\"\n",
       "  156.598,911.799 2352.76,911.799 \n",
       "  \"/>\n",
       "<polyline clip-path=\"url(#clip742)\" style=\"stroke:#000000; stroke-linecap:butt; stroke-linejoin:round; stroke-width:2; stroke-opacity:0.1; fill:none\" points=\"\n",
       "  156.598,630.622 2352.76,630.622 \n",
       "  \"/>\n",
       "<polyline clip-path=\"url(#clip742)\" style=\"stroke:#000000; stroke-linecap:butt; stroke-linejoin:round; stroke-width:2; stroke-opacity:0.1; fill:none\" points=\"\n",
       "  156.598,349.444 2352.76,349.444 \n",
       "  \"/>\n",
       "<polyline clip-path=\"url(#clip740)\" style=\"stroke:#000000; stroke-linecap:butt; stroke-linejoin:round; stroke-width:4; stroke-opacity:1; fill:none\" points=\"\n",
       "  156.598,1486.45 156.598,123.472 \n",
       "  \"/>\n",
       "<polyline clip-path=\"url(#clip740)\" style=\"stroke:#000000; stroke-linecap:butt; stroke-linejoin:round; stroke-width:4; stroke-opacity:1; fill:none\" points=\"\n",
       "  156.598,1474.15 175.496,1474.15 \n",
       "  \"/>\n",
       "<polyline clip-path=\"url(#clip740)\" style=\"stroke:#000000; stroke-linecap:butt; stroke-linejoin:round; stroke-width:4; stroke-opacity:1; fill:none\" points=\"\n",
       "  156.598,1192.98 175.496,1192.98 \n",
       "  \"/>\n",
       "<polyline clip-path=\"url(#clip740)\" style=\"stroke:#000000; stroke-linecap:butt; stroke-linejoin:round; stroke-width:4; stroke-opacity:1; fill:none\" points=\"\n",
       "  156.598,911.799 175.496,911.799 \n",
       "  \"/>\n",
       "<polyline clip-path=\"url(#clip740)\" style=\"stroke:#000000; stroke-linecap:butt; stroke-linejoin:round; stroke-width:4; stroke-opacity:1; fill:none\" points=\"\n",
       "  156.598,630.622 175.496,630.622 \n",
       "  \"/>\n",
       "<polyline clip-path=\"url(#clip740)\" style=\"stroke:#000000; stroke-linecap:butt; stroke-linejoin:round; stroke-width:4; stroke-opacity:1; fill:none\" points=\"\n",
       "  156.598,349.444 175.496,349.444 \n",
       "  \"/>\n",
       "<path clip-path=\"url(#clip740)\" d=\"M63.4226 1459.95 Q59.8115 1459.95 57.9828 1463.52 Q56.1773 1467.06 56.1773 1474.19 Q56.1773 1481.29 57.9828 1484.86 Q59.8115 1488.4 63.4226 1488.4 Q67.0569 1488.4 68.8624 1484.86 Q70.6911 1481.29 70.6911 1474.19 Q70.6911 1467.06 68.8624 1463.52 Q67.0569 1459.95 63.4226 1459.95 M63.4226 1456.25 Q69.2328 1456.25 72.2883 1460.85 Q75.367 1465.44 75.367 1474.19 Q75.367 1482.91 72.2883 1487.52 Q69.2328 1492.1 63.4226 1492.1 Q57.6125 1492.1 54.5338 1487.52 Q51.4782 1482.91 51.4782 1474.19 Q51.4782 1465.44 54.5338 1460.85 Q57.6125 1456.25 63.4226 1456.25 Z\" fill=\"#000000\" fill-rule=\"evenodd\" fill-opacity=\"1\" /><path clip-path=\"url(#clip740)\" d=\"M83.5845 1485.55 L88.4688 1485.55 L88.4688 1491.43 L83.5845 1491.43 L83.5845 1485.55 Z\" fill=\"#000000\" fill-rule=\"evenodd\" fill-opacity=\"1\" /><path clip-path=\"url(#clip740)\" d=\"M108.654 1459.95 Q105.043 1459.95 103.214 1463.52 Q101.409 1467.06 101.409 1474.19 Q101.409 1481.29 103.214 1484.86 Q105.043 1488.4 108.654 1488.4 Q112.288 1488.4 114.094 1484.86 Q115.922 1481.29 115.922 1474.19 Q115.922 1467.06 114.094 1463.52 Q112.288 1459.95 108.654 1459.95 M108.654 1456.25 Q114.464 1456.25 117.52 1460.85 Q120.598 1465.44 120.598 1474.19 Q120.598 1482.91 117.52 1487.52 Q114.464 1492.1 108.654 1492.1 Q102.844 1492.1 99.765 1487.52 Q96.7095 1482.91 96.7095 1474.19 Q96.7095 1465.44 99.765 1460.85 Q102.844 1456.25 108.654 1456.25 Z\" fill=\"#000000\" fill-rule=\"evenodd\" fill-opacity=\"1\" /><path clip-path=\"url(#clip740)\" d=\"M65.0198 1178.77 Q61.4087 1178.77 59.58 1182.34 Q57.7745 1185.88 57.7745 1193.01 Q57.7745 1200.12 59.58 1203.68 Q61.4087 1207.22 65.0198 1207.22 Q68.6541 1207.22 70.4596 1203.68 Q72.2883 1200.12 72.2883 1193.01 Q72.2883 1185.88 70.4596 1182.34 Q68.6541 1178.77 65.0198 1178.77 M65.0198 1175.07 Q70.83 1175.07 73.8855 1179.68 Q76.9642 1184.26 76.9642 1193.01 Q76.9642 1201.74 73.8855 1206.34 Q70.83 1210.93 65.0198 1210.93 Q59.2097 1210.93 56.131 1206.34 Q53.0754 1201.74 53.0754 1193.01 Q53.0754 1184.26 56.131 1179.68 Q59.2097 1175.07 65.0198 1175.07 Z\" fill=\"#000000\" fill-rule=\"evenodd\" fill-opacity=\"1\" /><path clip-path=\"url(#clip740)\" d=\"M85.1818 1204.38 L90.066 1204.38 L90.066 1210.26 L85.1818 1210.26 L85.1818 1204.38 Z\" fill=\"#000000\" fill-rule=\"evenodd\" fill-opacity=\"1\" /><path clip-path=\"url(#clip740)\" d=\"M104.279 1206.32 L120.598 1206.32 L120.598 1210.26 L98.6539 1210.26 L98.6539 1206.32 Q101.316 1203.57 105.899 1198.94 Q110.506 1194.28 111.686 1192.94 Q113.932 1190.42 114.811 1188.68 Q115.714 1186.92 115.714 1185.23 Q115.714 1182.48 113.77 1180.74 Q111.848 1179.01 108.746 1179.01 Q106.547 1179.01 104.094 1179.77 Q101.663 1180.53 98.8854 1182.08 L98.8854 1177.36 Q101.709 1176.23 104.163 1175.65 Q106.617 1175.07 108.654 1175.07 Q114.024 1175.07 117.219 1177.76 Q120.413 1180.44 120.413 1184.93 Q120.413 1187.06 119.603 1188.98 Q118.816 1190.88 116.709 1193.47 Q116.131 1194.14 113.029 1197.36 Q109.927 1200.56 104.279 1206.32 Z\" fill=\"#000000\" fill-rule=\"evenodd\" fill-opacity=\"1\" /><path clip-path=\"url(#clip740)\" d=\"M62.9365 897.597 Q59.3254 897.597 57.4967 901.162 Q55.6912 904.704 55.6912 911.833 Q55.6912 918.94 57.4967 922.505 Q59.3254 926.046 62.9365 926.046 Q66.5707 926.046 68.3763 922.505 Q70.205 918.94 70.205 911.833 Q70.205 904.704 68.3763 901.162 Q66.5707 897.597 62.9365 897.597 M62.9365 893.894 Q68.7467 893.894 71.8022 898.5 Q74.8809 903.083 74.8809 911.833 Q74.8809 920.56 71.8022 925.167 Q68.7467 929.75 62.9365 929.75 Q57.1264 929.75 54.0477 925.167 Q50.9921 920.56 50.9921 911.833 Q50.9921 903.083 54.0477 898.5 Q57.1264 893.894 62.9365 893.894 Z\" fill=\"#000000\" fill-rule=\"evenodd\" fill-opacity=\"1\" /><path clip-path=\"url(#clip740)\" d=\"M83.0984 923.199 L87.9827 923.199 L87.9827 929.079 L83.0984 929.079 L83.0984 923.199 Z\" fill=\"#000000\" fill-rule=\"evenodd\" fill-opacity=\"1\" /><path clip-path=\"url(#clip740)\" d=\"M111.015 898.593 L99.2095 917.042 L111.015 917.042 L111.015 898.593 M109.788 894.519 L115.668 894.519 L115.668 917.042 L120.598 917.042 L120.598 920.931 L115.668 920.931 L115.668 929.079 L111.015 929.079 L111.015 920.931 L95.4132 920.931 L95.4132 916.417 L109.788 894.519 Z\" fill=\"#000000\" fill-rule=\"evenodd\" fill-opacity=\"1\" /><path clip-path=\"url(#clip740)\" d=\"M63.2606 616.42 Q59.6495 616.42 57.8208 619.985 Q56.0152 623.527 56.0152 630.656 Q56.0152 637.763 57.8208 641.327 Q59.6495 644.869 63.2606 644.869 Q66.8948 644.869 68.7004 641.327 Q70.5291 637.763 70.5291 630.656 Q70.5291 623.527 68.7004 619.985 Q66.8948 616.42 63.2606 616.42 M63.2606 612.717 Q69.0707 612.717 72.1263 617.323 Q75.205 621.906 75.205 630.656 Q75.205 639.383 72.1263 643.99 Q69.0707 648.573 63.2606 648.573 Q57.4504 648.573 54.3717 643.99 Q51.3162 639.383 51.3162 630.656 Q51.3162 621.906 54.3717 617.323 Q57.4504 612.717 63.2606 612.717 Z\" fill=\"#000000\" fill-rule=\"evenodd\" fill-opacity=\"1\" /><path clip-path=\"url(#clip740)\" d=\"M83.4225 642.022 L88.3067 642.022 L88.3067 647.902 L83.4225 647.902 L83.4225 642.022 Z\" fill=\"#000000\" fill-rule=\"evenodd\" fill-opacity=\"1\" /><path clip-path=\"url(#clip740)\" d=\"M109.071 628.758 Q105.922 628.758 104.071 630.911 Q102.242 633.064 102.242 636.814 Q102.242 640.54 104.071 642.716 Q105.922 644.869 109.071 644.869 Q112.219 644.869 114.047 642.716 Q115.899 640.54 115.899 636.814 Q115.899 633.064 114.047 630.911 Q112.219 628.758 109.071 628.758 M118.353 614.105 L118.353 618.365 Q116.594 617.531 114.788 617.092 Q113.006 616.652 111.246 616.652 Q106.617 616.652 104.163 619.777 Q101.733 622.902 101.385 629.221 Q102.751 627.207 104.811 626.142 Q106.871 625.054 109.348 625.054 Q114.557 625.054 117.566 628.226 Q120.598 631.374 120.598 636.814 Q120.598 642.138 117.45 645.355 Q114.302 648.573 109.071 648.573 Q103.075 648.573 99.9039 643.99 Q96.7326 639.383 96.7326 630.656 Q96.7326 622.462 100.621 617.601 Q104.51 612.717 111.061 612.717 Q112.82 612.717 114.603 613.064 Q116.408 613.411 118.353 614.105 Z\" fill=\"#000000\" fill-rule=\"evenodd\" fill-opacity=\"1\" /><path clip-path=\"url(#clip740)\" d=\"M63.5152 335.243 Q59.9041 335.243 58.0754 338.808 Q56.2699 342.349 56.2699 349.479 Q56.2699 356.586 58.0754 360.15 Q59.9041 363.692 63.5152 363.692 Q67.1494 363.692 68.955 360.15 Q70.7837 356.586 70.7837 349.479 Q70.7837 342.349 68.955 338.808 Q67.1494 335.243 63.5152 335.243 M63.5152 331.539 Q69.3254 331.539 72.3809 336.146 Q75.4596 340.729 75.4596 349.479 Q75.4596 358.206 72.3809 362.812 Q69.3254 367.396 63.5152 367.396 Q57.7051 367.396 54.6264 362.812 Q51.5708 358.206 51.5708 349.479 Q51.5708 340.729 54.6264 336.146 Q57.7051 331.539 63.5152 331.539 Z\" fill=\"#000000\" fill-rule=\"evenodd\" fill-opacity=\"1\" /><path clip-path=\"url(#clip740)\" d=\"M83.6771 360.845 L88.5614 360.845 L88.5614 366.724 L83.6771 366.724 L83.6771 360.845 Z\" fill=\"#000000\" fill-rule=\"evenodd\" fill-opacity=\"1\" /><path clip-path=\"url(#clip740)\" d=\"M108.746 350.312 Q105.413 350.312 103.492 352.095 Q101.594 353.877 101.594 357.002 Q101.594 360.127 103.492 361.91 Q105.413 363.692 108.746 363.692 Q112.08 363.692 114.001 361.91 Q115.922 360.104 115.922 357.002 Q115.922 353.877 114.001 352.095 Q112.103 350.312 108.746 350.312 M104.071 348.322 Q101.061 347.581 99.3715 345.521 Q97.7048 343.461 97.7048 340.498 Q97.7048 336.354 100.645 333.947 Q103.608 331.539 108.746 331.539 Q113.908 331.539 116.848 333.947 Q119.788 336.354 119.788 340.498 Q119.788 343.461 118.098 345.521 Q116.432 347.581 113.445 348.322 Q116.825 349.109 118.7 351.4 Q120.598 353.692 120.598 357.002 Q120.598 362.025 117.52 364.71 Q114.464 367.396 108.746 367.396 Q103.029 367.396 99.9502 364.71 Q96.8947 362.025 96.8947 357.002 Q96.8947 353.692 98.7928 351.4 Q100.691 349.109 104.071 348.322 M102.358 340.937 Q102.358 343.623 104.024 345.127 Q105.714 346.632 108.746 346.632 Q111.756 346.632 113.445 345.127 Q115.158 343.623 115.158 340.937 Q115.158 338.252 113.445 336.748 Q111.756 335.243 108.746 335.243 Q105.714 335.243 104.024 336.748 Q102.358 338.252 102.358 340.937 Z\" fill=\"#000000\" fill-rule=\"evenodd\" fill-opacity=\"1\" /><path clip-path=\"url(#clip740)\" d=\"M1119.21 44.2197 Q1121.85 45.1109 1124.32 48.0275 Q1126.83 50.9442 1129.34 56.0483 L1137.65 72.576 L1128.86 72.576 L1121.12 57.061 Q1118.12 50.9847 1115.29 48.9997 Q1112.49 47.0148 1107.63 47.0148 L1098.72 47.0148 L1098.72 72.576 L1090.53 72.576 L1090.53 12.096 L1109.01 12.096 Q1119.38 12.096 1124.48 16.4305 Q1129.59 20.7649 1129.59 29.5149 Q1129.59 35.2267 1126.91 38.994 Q1124.28 42.7613 1119.21 44.2197 M1098.72 18.8205 L1098.72 40.2903 L1109.01 40.2903 Q1114.92 40.2903 1117.92 37.5762 Q1120.96 34.8216 1120.96 29.5149 Q1120.96 24.2082 1117.92 21.5346 Q1114.92 18.8205 1109.01 18.8205 L1098.72 18.8205 Z\" fill=\"#000000\" fill-rule=\"evenodd\" fill-opacity=\"1\" /><path clip-path=\"url(#clip740)\" d=\"M1166.65 49.7694 Q1157.62 49.7694 1154.13 51.8354 Q1150.65 53.9013 1150.65 58.8839 Q1150.65 62.8538 1153.24 65.2034 Q1155.88 67.5124 1160.37 67.5124 Q1166.57 67.5124 1170.3 63.1374 Q1174.06 58.7219 1174.06 51.4303 L1174.06 49.7694 L1166.65 49.7694 M1181.52 46.6907 L1181.52 72.576 L1174.06 72.576 L1174.06 65.6895 Q1171.51 69.8214 1167.7 71.8063 Q1163.9 73.7508 1158.39 73.7508 Q1151.42 73.7508 1147.29 69.8619 Q1143.2 65.9325 1143.2 59.3701 Q1143.2 51.7138 1148.3 47.825 Q1153.44 43.9361 1163.61 43.9361 L1174.06 43.9361 L1174.06 43.2069 Q1174.06 38.0623 1170.66 35.2672 Q1167.3 32.4315 1161.18 32.4315 Q1157.29 32.4315 1153.61 33.3632 Q1149.92 34.295 1146.52 36.1584 L1146.52 29.2718 Q1150.61 27.692 1154.46 26.9223 Q1158.31 26.1121 1161.95 26.1121 Q1171.8 26.1121 1176.66 31.2163 Q1181.52 36.3204 1181.52 46.6907 Z\" fill=\"#000000\" fill-rule=\"evenodd\" fill-opacity=\"1\" /><path clip-path=\"url(#clip740)\" d=\"M1234.58 45.1919 L1234.58 72.576 L1227.13 72.576 L1227.13 45.4349 Q1227.13 38.994 1224.62 35.7938 Q1222.11 32.5936 1217.08 32.5936 Q1211.05 32.5936 1207.57 36.4419 Q1204.08 40.2903 1204.08 46.9338 L1204.08 72.576 L1196.59 72.576 L1196.59 27.2059 L1204.08 27.2059 L1204.08 34.2544 Q1206.75 30.163 1210.36 28.1376 Q1214.01 26.1121 1218.75 26.1121 Q1226.56 26.1121 1230.57 30.9732 Q1234.58 35.7938 1234.58 45.1919 Z\" fill=\"#000000\" fill-rule=\"evenodd\" fill-opacity=\"1\" /><path clip-path=\"url(#clip740)\" d=\"M1279.31 34.0924 L1279.31 9.54393 L1286.76 9.54393 L1286.76 72.576 L1279.31 72.576 L1279.31 65.7705 Q1276.96 69.8214 1273.35 71.8063 Q1269.79 73.7508 1264.76 73.7508 Q1256.54 73.7508 1251.36 67.1883 Q1246.21 60.6258 1246.21 49.9314 Q1246.21 39.2371 1251.36 32.6746 Q1256.54 26.1121 1264.76 26.1121 Q1269.79 26.1121 1273.35 28.0971 Q1276.96 30.0415 1279.31 34.0924 M1253.91 49.9314 Q1253.91 58.1548 1257.27 62.8538 Q1260.67 67.5124 1266.59 67.5124 Q1272.5 67.5124 1275.9 62.8538 Q1279.31 58.1548 1279.31 49.9314 Q1279.31 41.7081 1275.9 37.0496 Q1272.5 32.3505 1266.59 32.3505 Q1260.67 32.3505 1257.27 37.0496 Q1253.91 41.7081 1253.91 49.9314 Z\" fill=\"#000000\" fill-rule=\"evenodd\" fill-opacity=\"1\" /><path clip-path=\"url(#clip740)\" d=\"M1319.69 32.4315 Q1313.7 32.4315 1310.21 37.1306 Q1306.73 41.7891 1306.73 49.9314 Q1306.73 58.0738 1310.17 62.7728 Q1313.66 67.4314 1319.69 67.4314 Q1325.65 67.4314 1329.13 62.7323 Q1332.62 58.0333 1332.62 49.9314 Q1332.62 41.8701 1329.13 37.1711 Q1325.65 32.4315 1319.69 32.4315 M1319.69 26.1121 Q1329.42 26.1121 1334.97 32.4315 Q1340.52 38.7509 1340.52 49.9314 Q1340.52 61.0714 1334.97 67.4314 Q1329.42 73.7508 1319.69 73.7508 Q1309.93 73.7508 1304.38 67.4314 Q1298.87 61.0714 1298.87 49.9314 Q1298.87 38.7509 1304.38 32.4315 Q1309.93 26.1121 1319.69 26.1121 Z\" fill=\"#000000\" fill-rule=\"evenodd\" fill-opacity=\"1\" /><path clip-path=\"url(#clip740)\" d=\"M1388.19 35.9153 Q1390.99 30.8922 1394.88 28.5022 Q1398.77 26.1121 1404.03 26.1121 Q1411.12 26.1121 1414.97 31.0947 Q1418.82 36.0368 1418.82 45.1919 L1418.82 72.576 L1411.33 72.576 L1411.33 45.4349 Q1411.33 38.913 1409.02 35.7533 Q1406.71 32.5936 1401.97 32.5936 Q1396.18 32.5936 1392.81 36.4419 Q1389.45 40.2903 1389.45 46.9338 L1389.45 72.576 L1381.96 72.576 L1381.96 45.4349 Q1381.96 38.8725 1379.65 35.7533 Q1377.34 32.5936 1372.52 32.5936 Q1366.81 32.5936 1363.44 36.4824 Q1360.08 40.3308 1360.08 46.9338 L1360.08 72.576 L1352.59 72.576 L1352.59 27.2059 L1360.08 27.2059 L1360.08 34.2544 Q1362.63 30.082 1366.2 28.0971 Q1369.76 26.1121 1374.66 26.1121 Q1379.61 26.1121 1383.05 28.6237 Q1386.53 31.1352 1388.19 35.9153 Z\" fill=\"#000000\" fill-rule=\"evenodd\" fill-opacity=\"1\" /><polyline clip-path=\"url(#clip742)\" style=\"stroke:#009af9; stroke-linecap:butt; stroke-linejoin:round; stroke-width:4; stroke-opacity:1; fill:none\" points=\"\n",
       "  218.754,768.959 366.743,722.708 514.732,1447.87 662.721,1015.13 810.71,247.361 958.699,855.306 1106.69,1302.41 1254.68,484.496 1402.67,162.047 1550.66,993.107 \n",
       "  1698.64,1335.2 1846.63,764.195 1994.62,184.392 2142.61,765.2 2290.6,1270.67 \n",
       "  \"/>\n",
       "<path clip-path=\"url(#clip740)\" d=\"\n",
       "M1804.21 272.585 L2279.55 272.585 L2279.55 168.905 L1804.21 168.905  Z\n",
       "  \" fill=\"#ffffff\" fill-rule=\"evenodd\" fill-opacity=\"1\"/>\n",
       "<polyline clip-path=\"url(#clip740)\" style=\"stroke:#000000; stroke-linecap:butt; stroke-linejoin:round; stroke-width:4; stroke-opacity:1; fill:none\" points=\"\n",
       "  1804.21,272.585 2279.55,272.585 2279.55,168.905 1804.21,168.905 1804.21,272.585 \n",
       "  \"/>\n",
       "<polyline clip-path=\"url(#clip740)\" style=\"stroke:#009af9; stroke-linecap:butt; stroke-linejoin:round; stroke-width:4; stroke-opacity:1; fill:none\" points=\"\n",
       "  1828.62,220.745 1975.03,220.745 \n",
       "  \"/>\n",
       "<path clip-path=\"url(#clip740)\" d=\"M1999.43 203.465 L2004.1 203.465 L2004.1 234.089 L2020.93 234.089 L2020.93 238.025 L1999.43 238.025 L1999.43 203.465 Z\" fill=\"#000000\" fill-rule=\"evenodd\" fill-opacity=\"1\" /><path clip-path=\"url(#clip740)\" d=\"M2025.66 212.099 L2029.91 212.099 L2029.91 238.025 L2025.66 238.025 L2025.66 212.099 M2025.66 202.006 L2029.91 202.006 L2029.91 207.4 L2025.66 207.4 L2025.66 202.006 Z\" fill=\"#000000\" fill-rule=\"evenodd\" fill-opacity=\"1\" /><path clip-path=\"url(#clip740)\" d=\"M2060.38 222.377 L2060.38 238.025 L2056.12 238.025 L2056.12 222.515 Q2056.12 218.835 2054.68 217.006 Q2053.25 215.178 2050.38 215.178 Q2046.93 215.178 2044.94 217.377 Q2042.95 219.576 2042.95 223.372 L2042.95 238.025 L2038.66 238.025 L2038.66 212.099 L2042.95 212.099 L2042.95 216.127 Q2044.47 213.789 2046.54 212.631 Q2048.62 211.474 2051.33 211.474 Q2055.79 211.474 2058.09 214.252 Q2060.38 217.006 2060.38 222.377 Z\" fill=\"#000000\" fill-rule=\"evenodd\" fill-opacity=\"1\" /><path clip-path=\"url(#clip740)\" d=\"M2091.05 223.997 L2091.05 226.08 L2071.47 226.08 Q2071.74 230.478 2074.1 232.793 Q2076.49 235.085 2080.72 235.085 Q2083.18 235.085 2085.47 234.483 Q2087.78 233.881 2090.05 232.677 L2090.05 236.705 Q2087.76 237.677 2085.35 238.187 Q2082.95 238.696 2080.47 238.696 Q2074.27 238.696 2070.63 235.085 Q2067.02 231.474 2067.02 225.316 Q2067.02 218.951 2070.45 215.224 Q2073.9 211.474 2079.73 211.474 Q2084.96 211.474 2087.99 214.853 Q2091.05 218.21 2091.05 223.997 M2086.79 222.747 Q2086.74 219.252 2084.82 217.168 Q2082.92 215.085 2079.78 215.085 Q2076.21 215.085 2074.06 217.099 Q2071.93 219.113 2071.6 222.77 L2086.79 222.747 Z\" fill=\"#000000\" fill-rule=\"evenodd\" fill-opacity=\"1\" /><path clip-path=\"url(#clip740)\" d=\"M2131.77 213.094 L2131.77 217.076 Q2129.96 216.08 2128.13 215.594 Q2126.33 215.085 2124.47 215.085 Q2120.33 215.085 2118.04 217.724 Q2115.75 220.34 2115.75 225.085 Q2115.75 229.83 2118.04 232.469 Q2120.33 235.085 2124.47 235.085 Q2126.33 235.085 2128.13 234.599 Q2129.96 234.089 2131.77 233.094 L2131.77 237.029 Q2129.98 237.863 2128.06 238.279 Q2126.16 238.696 2124.01 238.696 Q2118.16 238.696 2114.71 235.015 Q2111.26 231.335 2111.26 225.085 Q2111.26 218.742 2114.73 215.108 Q2118.22 211.474 2124.29 211.474 Q2126.26 211.474 2128.13 211.891 Q2130.01 212.284 2131.77 213.094 Z\" fill=\"#000000\" fill-rule=\"evenodd\" fill-opacity=\"1\" /><path clip-path=\"url(#clip740)\" d=\"M2160.72 222.377 L2160.72 238.025 L2156.47 238.025 L2156.47 222.515 Q2156.47 218.835 2155.03 217.006 Q2153.59 215.178 2150.72 215.178 Q2147.28 215.178 2145.28 217.377 Q2143.29 219.576 2143.29 223.372 L2143.29 238.025 L2139.01 238.025 L2139.01 202.006 L2143.29 202.006 L2143.29 216.127 Q2144.82 213.789 2146.88 212.631 Q2148.97 211.474 2151.67 211.474 Q2156.14 211.474 2158.43 214.252 Q2160.72 217.006 2160.72 222.377 Z\" fill=\"#000000\" fill-rule=\"evenodd\" fill-opacity=\"1\" /><path clip-path=\"url(#clip740)\" d=\"M2181 224.992 Q2175.84 224.992 2173.85 226.173 Q2171.86 227.353 2171.86 230.201 Q2171.86 232.469 2173.34 233.812 Q2174.84 235.131 2177.41 235.131 Q2180.96 235.131 2183.09 232.631 Q2185.24 230.108 2185.24 225.941 L2185.24 224.992 L2181 224.992 M2189.5 223.233 L2189.5 238.025 L2185.24 238.025 L2185.24 234.089 Q2183.78 236.451 2181.6 237.585 Q2179.43 238.696 2176.28 238.696 Q2172.3 238.696 2169.94 236.474 Q2167.6 234.228 2167.6 230.478 Q2167.6 226.103 2170.52 223.881 Q2173.46 221.659 2179.27 221.659 L2185.24 221.659 L2185.24 221.242 Q2185.24 218.303 2183.29 216.705 Q2181.37 215.085 2177.88 215.085 Q2175.65 215.085 2173.55 215.617 Q2171.44 216.15 2169.5 217.215 L2169.5 213.279 Q2171.84 212.377 2174.03 211.937 Q2176.23 211.474 2178.32 211.474 Q2183.94 211.474 2186.72 214.391 Q2189.5 217.307 2189.5 223.233 Z\" fill=\"#000000\" fill-rule=\"evenodd\" fill-opacity=\"1\" /><path clip-path=\"url(#clip740)\" d=\"M2213.29 216.08 Q2212.58 215.664 2211.72 215.478 Q2210.89 215.27 2209.87 215.27 Q2206.26 215.27 2204.31 217.631 Q2202.39 219.969 2202.39 224.367 L2202.39 238.025 L2198.11 238.025 L2198.11 212.099 L2202.39 212.099 L2202.39 216.127 Q2203.73 213.766 2205.89 212.631 Q2208.04 211.474 2211.12 211.474 Q2211.56 211.474 2212.09 211.543 Q2212.62 211.59 2213.27 211.705 L2213.29 216.08 Z\" fill=\"#000000\" fill-rule=\"evenodd\" fill-opacity=\"1\" /><path clip-path=\"url(#clip740)\" d=\"M2221.97 204.738 L2221.97 212.099 L2230.75 212.099 L2230.75 215.409 L2221.97 215.409 L2221.97 229.483 Q2221.97 232.654 2222.83 233.557 Q2223.71 234.46 2226.37 234.46 L2230.75 234.46 L2230.75 238.025 L2226.37 238.025 Q2221.44 238.025 2219.57 236.196 Q2217.69 234.344 2217.69 229.483 L2217.69 215.409 L2214.57 215.409 L2214.57 212.099 L2217.69 212.099 L2217.69 204.738 L2221.97 204.738 Z\" fill=\"#000000\" fill-rule=\"evenodd\" fill-opacity=\"1\" /></svg>\n"
      ]
     },
     "execution_count": 246,
     "metadata": {},
     "output_type": "execute_result"
    }
   ],
   "source": [
    "plot(x, y, title=\"Random\" , label = \"Line chart\")"
   ]
  },
  {
   "cell_type": "code",
   "execution_count": 247,
   "metadata": {},
   "outputs": [
    {
     "data": {
      "image/svg+xml": [
       "<?xml version=\"1.0\" encoding=\"utf-8\"?>\n",
       "<svg xmlns=\"http://www.w3.org/2000/svg\" xmlns:xlink=\"http://www.w3.org/1999/xlink\" width=\"600\" height=\"400\" viewBox=\"0 0 2400 1600\">\n",
       "<defs>\n",
       "  <clipPath id=\"clip780\">\n",
       "    <rect x=\"0\" y=\"0\" width=\"2400\" height=\"1600\"/>\n",
       "  </clipPath>\n",
       "</defs>\n",
       "<path clip-path=\"url(#clip780)\" d=\"\n",
       "M0 1600 L2400 1600 L2400 0 L0 0  Z\n",
       "  \" fill=\"#ffffff\" fill-rule=\"evenodd\" fill-opacity=\"1\"/>\n",
       "<defs>\n",
       "  <clipPath id=\"clip781\">\n",
       "    <rect x=\"480\" y=\"0\" width=\"1681\" height=\"1600\"/>\n",
       "  </clipPath>\n",
       "</defs>\n",
       "<path clip-path=\"url(#clip780)\" d=\"\n",
       "M219.866 1423.18 L2352.76 1423.18 L2352.76 47.2441 L219.866 47.2441  Z\n",
       "  \" fill=\"#ffffff\" fill-rule=\"evenodd\" fill-opacity=\"1\"/>\n",
       "<defs>\n",
       "  <clipPath id=\"clip782\">\n",
       "    <rect x=\"219\" y=\"47\" width=\"2134\" height=\"1377\"/>\n",
       "  </clipPath>\n",
       "</defs>\n",
       "<polyline clip-path=\"url(#clip782)\" style=\"stroke:#000000; stroke-linecap:butt; stroke-linejoin:round; stroke-width:2; stroke-opacity:0.1; fill:none\" points=\"\n",
       "  423.957,1423.18 423.957,47.2441 \n",
       "  \"/>\n",
       "<polyline clip-path=\"url(#clip782)\" style=\"stroke:#000000; stroke-linecap:butt; stroke-linejoin:round; stroke-width:2; stroke-opacity:0.1; fill:none\" points=\"\n",
       "  711.408,1423.18 711.408,47.2441 \n",
       "  \"/>\n",
       "<polyline clip-path=\"url(#clip782)\" style=\"stroke:#000000; stroke-linecap:butt; stroke-linejoin:round; stroke-width:2; stroke-opacity:0.1; fill:none\" points=\"\n",
       "  998.86,1423.18 998.86,47.2441 \n",
       "  \"/>\n",
       "<polyline clip-path=\"url(#clip782)\" style=\"stroke:#000000; stroke-linecap:butt; stroke-linejoin:round; stroke-width:2; stroke-opacity:0.1; fill:none\" points=\"\n",
       "  1286.31,1423.18 1286.31,47.2441 \n",
       "  \"/>\n",
       "<polyline clip-path=\"url(#clip782)\" style=\"stroke:#000000; stroke-linecap:butt; stroke-linejoin:round; stroke-width:2; stroke-opacity:0.1; fill:none\" points=\"\n",
       "  1573.76,1423.18 1573.76,47.2441 \n",
       "  \"/>\n",
       "<polyline clip-path=\"url(#clip782)\" style=\"stroke:#000000; stroke-linecap:butt; stroke-linejoin:round; stroke-width:2; stroke-opacity:0.1; fill:none\" points=\"\n",
       "  1861.21,1423.18 1861.21,47.2441 \n",
       "  \"/>\n",
       "<polyline clip-path=\"url(#clip782)\" style=\"stroke:#000000; stroke-linecap:butt; stroke-linejoin:round; stroke-width:2; stroke-opacity:0.1; fill:none\" points=\"\n",
       "  2148.67,1423.18 2148.67,47.2441 \n",
       "  \"/>\n",
       "<polyline clip-path=\"url(#clip780)\" style=\"stroke:#000000; stroke-linecap:butt; stroke-linejoin:round; stroke-width:4; stroke-opacity:1; fill:none\" points=\"\n",
       "  219.866,1423.18 2352.76,1423.18 \n",
       "  \"/>\n",
       "<polyline clip-path=\"url(#clip780)\" style=\"stroke:#000000; stroke-linecap:butt; stroke-linejoin:round; stroke-width:4; stroke-opacity:1; fill:none\" points=\"\n",
       "  423.957,1423.18 423.957,1404.28 \n",
       "  \"/>\n",
       "<polyline clip-path=\"url(#clip780)\" style=\"stroke:#000000; stroke-linecap:butt; stroke-linejoin:round; stroke-width:4; stroke-opacity:1; fill:none\" points=\"\n",
       "  711.408,1423.18 711.408,1404.28 \n",
       "  \"/>\n",
       "<polyline clip-path=\"url(#clip780)\" style=\"stroke:#000000; stroke-linecap:butt; stroke-linejoin:round; stroke-width:4; stroke-opacity:1; fill:none\" points=\"\n",
       "  998.86,1423.18 998.86,1404.28 \n",
       "  \"/>\n",
       "<polyline clip-path=\"url(#clip780)\" style=\"stroke:#000000; stroke-linecap:butt; stroke-linejoin:round; stroke-width:4; stroke-opacity:1; fill:none\" points=\"\n",
       "  1286.31,1423.18 1286.31,1404.28 \n",
       "  \"/>\n",
       "<polyline clip-path=\"url(#clip780)\" style=\"stroke:#000000; stroke-linecap:butt; stroke-linejoin:round; stroke-width:4; stroke-opacity:1; fill:none\" points=\"\n",
       "  1573.76,1423.18 1573.76,1404.28 \n",
       "  \"/>\n",
       "<polyline clip-path=\"url(#clip780)\" style=\"stroke:#000000; stroke-linecap:butt; stroke-linejoin:round; stroke-width:4; stroke-opacity:1; fill:none\" points=\"\n",
       "  1861.21,1423.18 1861.21,1404.28 \n",
       "  \"/>\n",
       "<polyline clip-path=\"url(#clip780)\" style=\"stroke:#000000; stroke-linecap:butt; stroke-linejoin:round; stroke-width:4; stroke-opacity:1; fill:none\" points=\"\n",
       "  2148.67,1423.18 2148.67,1404.28 \n",
       "  \"/>\n",
       "<path clip-path=\"url(#clip780)\" d=\"M418.61 1481.64 L434.929 1481.64 L434.929 1485.58 L412.985 1485.58 L412.985 1481.64 Q415.647 1478.89 420.23 1474.26 Q424.836 1469.61 426.017 1468.27 Q428.262 1465.74 429.142 1464.01 Q430.045 1462.25 430.045 1460.56 Q430.045 1457.8 428.1 1456.07 Q426.179 1454.33 423.077 1454.33 Q420.878 1454.33 418.424 1455.09 Q415.994 1455.86 413.216 1457.41 L413.216 1452.69 Q416.04 1451.55 418.494 1450.97 Q420.948 1450.39 422.985 1450.39 Q428.355 1450.39 431.549 1453.08 Q434.744 1455.77 434.744 1460.26 Q434.744 1462.39 433.934 1464.31 Q433.147 1466.2 431.04 1468.8 Q430.461 1469.47 427.36 1472.69 Q424.258 1475.88 418.61 1481.64 Z\" fill=\"#000000\" fill-rule=\"evenodd\" fill-opacity=\"1\" /><path clip-path=\"url(#clip780)\" d=\"M714.417 1455.09 L702.612 1473.54 L714.417 1473.54 L714.417 1455.09 M713.191 1451.02 L719.07 1451.02 L719.07 1473.54 L724.001 1473.54 L724.001 1477.43 L719.07 1477.43 L719.07 1485.58 L714.417 1485.58 L714.417 1477.43 L698.816 1477.43 L698.816 1472.92 L713.191 1451.02 Z\" fill=\"#000000\" fill-rule=\"evenodd\" fill-opacity=\"1\" /><path clip-path=\"url(#clip780)\" d=\"M999.265 1466.44 Q996.117 1466.44 994.265 1468.59 Q992.436 1470.74 992.436 1474.49 Q992.436 1478.22 994.265 1480.39 Q996.117 1482.55 999.265 1482.55 Q1002.41 1482.55 1004.24 1480.39 Q1006.09 1478.22 1006.09 1474.49 Q1006.09 1470.74 1004.24 1468.59 Q1002.41 1466.44 999.265 1466.44 M1008.55 1451.78 L1008.55 1456.04 Q1006.79 1455.21 1004.98 1454.77 Q1003.2 1454.33 1001.44 1454.33 Q996.811 1454.33 994.357 1457.45 Q991.927 1460.58 991.58 1466.9 Q992.945 1464.89 995.006 1463.82 Q997.066 1462.73 999.543 1462.73 Q1004.75 1462.73 1007.76 1465.9 Q1010.79 1469.05 1010.79 1474.49 Q1010.79 1479.82 1007.64 1483.03 Q1004.5 1486.25 999.265 1486.25 Q993.269 1486.25 990.098 1481.67 Q986.927 1477.06 986.927 1468.33 Q986.927 1460.14 990.816 1455.28 Q994.705 1450.39 1001.26 1450.39 Q1003.01 1450.39 1004.8 1450.74 Q1006.6 1451.09 1008.55 1451.78 Z\" fill=\"#000000\" fill-rule=\"evenodd\" fill-opacity=\"1\" /><path clip-path=\"url(#clip780)\" d=\"M1286.31 1469.17 Q1282.98 1469.17 1281.06 1470.95 Q1279.16 1472.73 1279.16 1475.86 Q1279.16 1478.98 1281.06 1480.77 Q1282.98 1482.55 1286.31 1482.55 Q1289.64 1482.55 1291.57 1480.77 Q1293.49 1478.96 1293.49 1475.86 Q1293.49 1472.73 1291.57 1470.95 Q1289.67 1469.17 1286.31 1469.17 M1281.64 1467.18 Q1278.63 1466.44 1276.94 1464.38 Q1275.27 1462.32 1275.27 1459.35 Q1275.27 1455.21 1278.21 1452.8 Q1281.17 1450.39 1286.31 1450.39 Q1291.47 1450.39 1294.41 1452.8 Q1297.35 1455.21 1297.35 1459.35 Q1297.35 1462.32 1295.66 1464.38 Q1294 1466.44 1291.01 1467.18 Q1294.39 1467.96 1296.26 1470.26 Q1298.16 1472.55 1298.16 1475.86 Q1298.16 1480.88 1295.08 1483.57 Q1292.03 1486.25 1286.31 1486.25 Q1280.59 1486.25 1277.51 1483.57 Q1274.46 1480.88 1274.46 1475.86 Q1274.46 1472.55 1276.36 1470.26 Q1278.26 1467.96 1281.64 1467.18 M1279.92 1459.79 Q1279.92 1462.48 1281.59 1463.98 Q1283.28 1465.49 1286.31 1465.49 Q1289.32 1465.49 1291.01 1463.98 Q1292.72 1462.48 1292.72 1459.79 Q1292.72 1457.11 1291.01 1455.6 Q1289.32 1454.1 1286.31 1454.1 Q1283.28 1454.1 1281.59 1455.6 Q1279.92 1457.11 1279.92 1459.79 Z\" fill=\"#000000\" fill-rule=\"evenodd\" fill-opacity=\"1\" /><path clip-path=\"url(#clip780)\" d=\"M1548.45 1481.64 L1556.09 1481.64 L1556.09 1455.28 L1547.78 1456.95 L1547.78 1452.69 L1556.04 1451.02 L1560.72 1451.02 L1560.72 1481.64 L1568.36 1481.64 L1568.36 1485.58 L1548.45 1485.58 L1548.45 1481.64 Z\" fill=\"#000000\" fill-rule=\"evenodd\" fill-opacity=\"1\" /><path clip-path=\"url(#clip780)\" d=\"M1587.8 1454.1 Q1584.19 1454.1 1582.36 1457.66 Q1580.56 1461.2 1580.56 1468.33 Q1580.56 1475.44 1582.36 1479.01 Q1584.19 1482.55 1587.8 1482.55 Q1591.44 1482.55 1593.24 1479.01 Q1595.07 1475.44 1595.07 1468.33 Q1595.07 1461.2 1593.24 1457.66 Q1591.44 1454.1 1587.8 1454.1 M1587.8 1450.39 Q1593.61 1450.39 1596.67 1455 Q1599.75 1459.58 1599.75 1468.33 Q1599.75 1477.06 1596.67 1481.67 Q1593.61 1486.25 1587.8 1486.25 Q1581.99 1486.25 1578.91 1481.67 Q1575.86 1477.06 1575.86 1468.33 Q1575.86 1459.58 1578.91 1455 Q1581.99 1450.39 1587.8 1450.39 Z\" fill=\"#000000\" fill-rule=\"evenodd\" fill-opacity=\"1\" /><path clip-path=\"url(#clip780)\" d=\"M1836.7 1481.64 L1844.34 1481.64 L1844.34 1455.28 L1836.03 1456.95 L1836.03 1452.69 L1844.29 1451.02 L1848.97 1451.02 L1848.97 1481.64 L1856.61 1481.64 L1856.61 1485.58 L1836.7 1485.58 L1836.7 1481.64 Z\" fill=\"#000000\" fill-rule=\"evenodd\" fill-opacity=\"1\" /><path clip-path=\"url(#clip780)\" d=\"M1870.08 1481.64 L1886.4 1481.64 L1886.4 1485.58 L1864.45 1485.58 L1864.45 1481.64 Q1867.12 1478.89 1871.7 1474.26 Q1876.31 1469.61 1877.49 1468.27 Q1879.73 1465.74 1880.61 1464.01 Q1881.51 1462.25 1881.51 1460.56 Q1881.51 1457.8 1879.57 1456.07 Q1877.65 1454.33 1874.55 1454.33 Q1872.35 1454.33 1869.89 1455.09 Q1867.46 1455.86 1864.69 1457.41 L1864.69 1452.69 Q1867.51 1451.55 1869.96 1450.97 Q1872.42 1450.39 1874.45 1450.39 Q1879.82 1450.39 1883.02 1453.08 Q1886.21 1455.77 1886.21 1460.26 Q1886.21 1462.39 1885.4 1464.31 Q1884.62 1466.2 1882.51 1468.8 Q1881.93 1469.47 1878.83 1472.69 Q1875.73 1475.88 1870.08 1481.64 Z\" fill=\"#000000\" fill-rule=\"evenodd\" fill-opacity=\"1\" /><path clip-path=\"url(#clip780)\" d=\"M2123.11 1481.64 L2130.75 1481.64 L2130.75 1455.28 L2122.44 1456.95 L2122.44 1452.69 L2130.7 1451.02 L2135.38 1451.02 L2135.38 1481.64 L2143.02 1481.64 L2143.02 1485.58 L2123.11 1485.58 L2123.11 1481.64 Z\" fill=\"#000000\" fill-rule=\"evenodd\" fill-opacity=\"1\" /><path clip-path=\"url(#clip780)\" d=\"M2165.31 1455.09 L2153.5 1473.54 L2165.31 1473.54 L2165.31 1455.09 M2164.08 1451.02 L2169.96 1451.02 L2169.96 1473.54 L2174.89 1473.54 L2174.89 1477.43 L2169.96 1477.43 L2169.96 1485.58 L2165.31 1485.58 L2165.31 1477.43 L2149.71 1477.43 L2149.71 1472.92 L2164.08 1451.02 Z\" fill=\"#000000\" fill-rule=\"evenodd\" fill-opacity=\"1\" /><path clip-path=\"url(#clip780)\" d=\"M1180.99 1520.52 L1187.9 1520.52 L1199.71 1538.19 L1211.58 1520.52 L1218.48 1520.52 L1203.21 1543.34 L1219.5 1568.04 L1212.6 1568.04 L1199.23 1547.83 L1185.76 1568.04 L1178.83 1568.04 L1195.79 1542.68 L1180.99 1520.52 Z\" fill=\"#000000\" fill-rule=\"evenodd\" fill-opacity=\"1\" /><path clip-path=\"url(#clip780)\" d=\"M1248.4 1518.52 L1254.26 1518.52 L1254.26 1568.04 L1248.4 1568.04 L1248.4 1518.52 Z\" fill=\"#000000\" fill-rule=\"evenodd\" fill-opacity=\"1\" /><path clip-path=\"url(#clip780)\" d=\"M1282.71 1550.12 Q1275.62 1550.12 1272.88 1551.75 Q1270.14 1553.37 1270.14 1557.29 Q1270.14 1560.4 1272.18 1562.25 Q1274.25 1564.07 1277.78 1564.07 Q1282.65 1564.07 1285.58 1560.63 Q1288.54 1557.16 1288.54 1551.43 L1288.54 1550.12 L1282.71 1550.12 M1294.4 1547.71 L1294.4 1568.04 L1288.54 1568.04 L1288.54 1562.63 Q1286.53 1565.88 1283.54 1567.44 Q1280.55 1568.97 1276.22 1568.97 Q1270.75 1568.97 1267.5 1565.91 Q1264.29 1562.82 1264.29 1557.67 Q1264.29 1551.65 1268.3 1548.6 Q1272.34 1545.54 1280.33 1545.54 L1288.54 1545.54 L1288.54 1544.97 Q1288.54 1540.93 1285.87 1538.73 Q1283.22 1536.5 1278.42 1536.5 Q1275.36 1536.5 1272.47 1537.23 Q1269.57 1537.97 1266.9 1539.43 L1266.9 1534.02 Q1270.11 1532.78 1273.13 1532.17 Q1276.16 1531.54 1279.02 1531.54 Q1286.76 1531.54 1290.58 1535.55 Q1294.4 1539.56 1294.4 1547.71 Z\" fill=\"#000000\" fill-rule=\"evenodd\" fill-opacity=\"1\" /><path clip-path=\"url(#clip780)\" d=\"M1332.05 1550.25 Q1332.05 1543.79 1329.38 1540.13 Q1326.73 1536.44 1322.09 1536.44 Q1317.44 1536.44 1314.77 1540.13 Q1312.12 1543.79 1312.12 1550.25 Q1312.12 1556.71 1314.77 1560.4 Q1317.44 1564.07 1322.09 1564.07 Q1326.73 1564.07 1329.38 1560.4 Q1332.05 1556.71 1332.05 1550.25 M1312.12 1537.81 Q1313.97 1534.62 1316.77 1533.1 Q1319.6 1531.54 1323.52 1531.54 Q1330.01 1531.54 1334.05 1536.69 Q1338.13 1541.85 1338.13 1550.25 Q1338.13 1558.65 1334.05 1563.81 Q1330.01 1568.97 1323.52 1568.97 Q1319.6 1568.97 1316.77 1567.44 Q1313.97 1565.88 1312.12 1562.7 L1312.12 1568.04 L1306.24 1568.04 L1306.24 1518.52 L1312.12 1518.52 L1312.12 1537.81 Z\" fill=\"#000000\" fill-rule=\"evenodd\" fill-opacity=\"1\" /><path clip-path=\"url(#clip780)\" d=\"M1378.33 1548.76 L1378.33 1551.62 L1351.4 1551.62 Q1351.78 1557.67 1355.03 1560.85 Q1358.31 1564 1364.13 1564 Q1367.51 1564 1370.66 1563.17 Q1373.84 1562.35 1376.96 1560.69 L1376.96 1566.23 Q1373.81 1567.57 1370.5 1568.27 Q1367.19 1568.97 1363.78 1568.97 Q1355.25 1568.97 1350.25 1564 Q1345.29 1559.04 1345.29 1550.57 Q1345.29 1541.82 1350 1536.69 Q1354.74 1531.54 1362.76 1531.54 Q1369.96 1531.54 1374.13 1536.18 Q1378.33 1540.8 1378.33 1548.76 M1372.47 1547.04 Q1372.41 1542.23 1369.77 1539.37 Q1367.16 1536.5 1362.83 1536.5 Q1357.93 1536.5 1354.97 1539.27 Q1352.04 1542.04 1351.59 1547.07 L1372.47 1547.04 Z\" fill=\"#000000\" fill-rule=\"evenodd\" fill-opacity=\"1\" /><path clip-path=\"url(#clip780)\" d=\"M1387.94 1518.52 L1393.8 1518.52 L1393.8 1568.04 L1387.94 1568.04 L1387.94 1518.52 Z\" fill=\"#000000\" fill-rule=\"evenodd\" fill-opacity=\"1\" /><polyline clip-path=\"url(#clip782)\" style=\"stroke:#000000; stroke-linecap:butt; stroke-linejoin:round; stroke-width:2; stroke-opacity:0.1; fill:none\" points=\"\n",
       "  219.866,1410.77 2352.76,1410.77 \n",
       "  \"/>\n",
       "<polyline clip-path=\"url(#clip782)\" style=\"stroke:#000000; stroke-linecap:butt; stroke-linejoin:round; stroke-width:2; stroke-opacity:0.1; fill:none\" points=\"\n",
       "  219.866,1126.92 2352.76,1126.92 \n",
       "  \"/>\n",
       "<polyline clip-path=\"url(#clip782)\" style=\"stroke:#000000; stroke-linecap:butt; stroke-linejoin:round; stroke-width:2; stroke-opacity:0.1; fill:none\" points=\"\n",
       "  219.866,843.067 2352.76,843.067 \n",
       "  \"/>\n",
       "<polyline clip-path=\"url(#clip782)\" style=\"stroke:#000000; stroke-linecap:butt; stroke-linejoin:round; stroke-width:2; stroke-opacity:0.1; fill:none\" points=\"\n",
       "  219.866,559.216 2352.76,559.216 \n",
       "  \"/>\n",
       "<polyline clip-path=\"url(#clip782)\" style=\"stroke:#000000; stroke-linecap:butt; stroke-linejoin:round; stroke-width:2; stroke-opacity:0.1; fill:none\" points=\"\n",
       "  219.866,275.365 2352.76,275.365 \n",
       "  \"/>\n",
       "<polyline clip-path=\"url(#clip780)\" style=\"stroke:#000000; stroke-linecap:butt; stroke-linejoin:round; stroke-width:4; stroke-opacity:1; fill:none\" points=\"\n",
       "  219.866,1423.18 219.866,47.2441 \n",
       "  \"/>\n",
       "<polyline clip-path=\"url(#clip780)\" style=\"stroke:#000000; stroke-linecap:butt; stroke-linejoin:round; stroke-width:4; stroke-opacity:1; fill:none\" points=\"\n",
       "  219.866,1410.77 238.764,1410.77 \n",
       "  \"/>\n",
       "<polyline clip-path=\"url(#clip780)\" style=\"stroke:#000000; stroke-linecap:butt; stroke-linejoin:round; stroke-width:4; stroke-opacity:1; fill:none\" points=\"\n",
       "  219.866,1126.92 238.764,1126.92 \n",
       "  \"/>\n",
       "<polyline clip-path=\"url(#clip780)\" style=\"stroke:#000000; stroke-linecap:butt; stroke-linejoin:round; stroke-width:4; stroke-opacity:1; fill:none\" points=\"\n",
       "  219.866,843.067 238.764,843.067 \n",
       "  \"/>\n",
       "<polyline clip-path=\"url(#clip780)\" style=\"stroke:#000000; stroke-linecap:butt; stroke-linejoin:round; stroke-width:4; stroke-opacity:1; fill:none\" points=\"\n",
       "  219.866,559.216 238.764,559.216 \n",
       "  \"/>\n",
       "<polyline clip-path=\"url(#clip780)\" style=\"stroke:#000000; stroke-linecap:butt; stroke-linejoin:round; stroke-width:4; stroke-opacity:1; fill:none\" points=\"\n",
       "  219.866,275.365 238.764,275.365 \n",
       "  \"/>\n",
       "<path clip-path=\"url(#clip780)\" d=\"M126.691 1396.57 Q123.08 1396.57 121.251 1400.13 Q119.445 1403.67 119.445 1410.8 Q119.445 1417.91 121.251 1421.47 Q123.08 1425.02 126.691 1425.02 Q130.325 1425.02 132.13 1421.47 Q133.959 1417.91 133.959 1410.8 Q133.959 1403.67 132.13 1400.13 Q130.325 1396.57 126.691 1396.57 M126.691 1392.86 Q132.501 1392.86 135.556 1397.47 Q138.635 1402.05 138.635 1410.8 Q138.635 1419.53 135.556 1424.14 Q132.501 1428.72 126.691 1428.72 Q120.88 1428.72 117.802 1424.14 Q114.746 1419.53 114.746 1410.8 Q114.746 1402.05 117.802 1397.47 Q120.88 1392.86 126.691 1392.86 Z\" fill=\"#000000\" fill-rule=\"evenodd\" fill-opacity=\"1\" /><path clip-path=\"url(#clip780)\" d=\"M146.853 1422.17 L151.737 1422.17 L151.737 1428.05 L146.853 1428.05 L146.853 1422.17 Z\" fill=\"#000000\" fill-rule=\"evenodd\" fill-opacity=\"1\" /><path clip-path=\"url(#clip780)\" d=\"M171.922 1396.57 Q168.311 1396.57 166.482 1400.13 Q164.677 1403.67 164.677 1410.8 Q164.677 1417.91 166.482 1421.47 Q168.311 1425.02 171.922 1425.02 Q175.556 1425.02 177.362 1421.47 Q179.19 1417.91 179.19 1410.8 Q179.19 1403.67 177.362 1400.13 Q175.556 1396.57 171.922 1396.57 M171.922 1392.86 Q177.732 1392.86 180.788 1397.47 Q183.866 1402.05 183.866 1410.8 Q183.866 1419.53 180.788 1424.14 Q177.732 1428.72 171.922 1428.72 Q166.112 1428.72 163.033 1424.14 Q159.978 1419.53 159.978 1410.8 Q159.978 1402.05 163.033 1397.47 Q166.112 1392.86 171.922 1392.86 Z\" fill=\"#000000\" fill-rule=\"evenodd\" fill-opacity=\"1\" /><path clip-path=\"url(#clip780)\" d=\"M128.288 1112.72 Q124.677 1112.72 122.848 1116.28 Q121.043 1119.82 121.043 1126.95 Q121.043 1134.06 122.848 1137.62 Q124.677 1141.16 128.288 1141.16 Q131.922 1141.16 133.728 1137.62 Q135.556 1134.06 135.556 1126.95 Q135.556 1119.82 133.728 1116.28 Q131.922 1112.72 128.288 1112.72 M128.288 1109.01 Q134.098 1109.01 137.154 1113.62 Q140.232 1118.2 140.232 1126.95 Q140.232 1135.68 137.154 1140.29 Q134.098 1144.87 128.288 1144.87 Q122.478 1144.87 119.399 1140.29 Q116.343 1135.68 116.343 1126.95 Q116.343 1118.2 119.399 1113.62 Q122.478 1109.01 128.288 1109.01 Z\" fill=\"#000000\" fill-rule=\"evenodd\" fill-opacity=\"1\" /><path clip-path=\"url(#clip780)\" d=\"M148.45 1138.32 L153.334 1138.32 L153.334 1144.2 L148.45 1144.2 L148.45 1138.32 Z\" fill=\"#000000\" fill-rule=\"evenodd\" fill-opacity=\"1\" /><path clip-path=\"url(#clip780)\" d=\"M167.547 1140.26 L183.866 1140.26 L183.866 1144.2 L161.922 1144.2 L161.922 1140.26 Q164.584 1137.51 169.167 1132.88 Q173.774 1128.23 174.954 1126.88 Q177.2 1124.36 178.079 1122.62 Q178.982 1120.86 178.982 1119.17 Q178.982 1116.42 177.038 1114.68 Q175.116 1112.95 172.014 1112.95 Q169.815 1112.95 167.362 1113.71 Q164.931 1114.48 162.153 1116.03 L162.153 1111.3 Q164.977 1110.17 167.431 1109.59 Q169.885 1109.01 171.922 1109.01 Q177.292 1109.01 180.487 1111.7 Q183.681 1114.38 183.681 1118.87 Q183.681 1121 182.871 1122.92 Q182.084 1124.82 179.977 1127.42 Q179.399 1128.09 176.297 1131.3 Q173.195 1134.5 167.547 1140.26 Z\" fill=\"#000000\" fill-rule=\"evenodd\" fill-opacity=\"1\" /><path clip-path=\"url(#clip780)\" d=\"M126.205 828.865 Q122.593 828.865 120.765 832.43 Q118.959 835.972 118.959 843.101 Q118.959 850.208 120.765 853.773 Q122.593 857.314 126.205 857.314 Q129.839 857.314 131.644 853.773 Q133.473 850.208 133.473 843.101 Q133.473 835.972 131.644 832.43 Q129.839 828.865 126.205 828.865 M126.205 825.162 Q132.015 825.162 135.07 829.768 Q138.149 834.351 138.149 843.101 Q138.149 851.828 135.07 856.435 Q132.015 861.018 126.205 861.018 Q120.394 861.018 117.316 856.435 Q114.26 851.828 114.26 843.101 Q114.26 834.351 117.316 829.768 Q120.394 825.162 126.205 825.162 Z\" fill=\"#000000\" fill-rule=\"evenodd\" fill-opacity=\"1\" /><path clip-path=\"url(#clip780)\" d=\"M146.366 854.467 L151.251 854.467 L151.251 860.347 L146.366 860.347 L146.366 854.467 Z\" fill=\"#000000\" fill-rule=\"evenodd\" fill-opacity=\"1\" /><path clip-path=\"url(#clip780)\" d=\"M174.283 829.861 L162.477 848.31 L174.283 848.31 L174.283 829.861 M173.056 825.787 L178.936 825.787 L178.936 848.31 L183.866 848.31 L183.866 852.198 L178.936 852.198 L178.936 860.347 L174.283 860.347 L174.283 852.198 L158.681 852.198 L158.681 847.685 L173.056 825.787 Z\" fill=\"#000000\" fill-rule=\"evenodd\" fill-opacity=\"1\" /><path clip-path=\"url(#clip780)\" d=\"M126.529 545.014 Q122.918 545.014 121.089 548.579 Q119.283 552.121 119.283 559.251 Q119.283 566.357 121.089 569.922 Q122.918 573.463 126.529 573.463 Q130.163 573.463 131.968 569.922 Q133.797 566.357 133.797 559.251 Q133.797 552.121 131.968 548.579 Q130.163 545.014 126.529 545.014 M126.529 541.311 Q132.339 541.311 135.394 545.917 Q138.473 550.501 138.473 559.251 Q138.473 567.977 135.394 572.584 Q132.339 577.167 126.529 577.167 Q120.718 577.167 117.64 572.584 Q114.584 567.977 114.584 559.251 Q114.584 550.501 117.64 545.917 Q120.718 541.311 126.529 541.311 Z\" fill=\"#000000\" fill-rule=\"evenodd\" fill-opacity=\"1\" /><path clip-path=\"url(#clip780)\" d=\"M146.691 570.616 L151.575 570.616 L151.575 576.496 L146.691 576.496 L146.691 570.616 Z\" fill=\"#000000\" fill-rule=\"evenodd\" fill-opacity=\"1\" /><path clip-path=\"url(#clip780)\" d=\"M172.339 557.352 Q169.19 557.352 167.339 559.505 Q165.51 561.658 165.51 565.408 Q165.51 569.135 167.339 571.311 Q169.19 573.463 172.339 573.463 Q175.487 573.463 177.315 571.311 Q179.167 569.135 179.167 565.408 Q179.167 561.658 177.315 559.505 Q175.487 557.352 172.339 557.352 M181.621 542.7 L181.621 546.959 Q179.862 546.126 178.056 545.686 Q176.274 545.246 174.514 545.246 Q169.885 545.246 167.431 548.371 Q165.001 551.496 164.653 557.815 Q166.019 555.801 168.079 554.737 Q170.139 553.649 172.616 553.649 Q177.825 553.649 180.834 556.82 Q183.866 559.968 183.866 565.408 Q183.866 570.732 180.718 573.95 Q177.57 577.167 172.339 577.167 Q166.343 577.167 163.172 572.584 Q160.001 567.977 160.001 559.251 Q160.001 551.056 163.89 546.195 Q167.778 541.311 174.329 541.311 Q176.089 541.311 177.871 541.658 Q179.676 542.005 181.621 542.7 Z\" fill=\"#000000\" fill-rule=\"evenodd\" fill-opacity=\"1\" /><path clip-path=\"url(#clip780)\" d=\"M126.783 261.164 Q123.172 261.164 121.343 264.728 Q119.538 268.27 119.538 275.4 Q119.538 282.506 121.343 286.071 Q123.172 289.613 126.783 289.613 Q130.417 289.613 132.223 286.071 Q134.052 282.506 134.052 275.4 Q134.052 268.27 132.223 264.728 Q130.417 261.164 126.783 261.164 M126.783 257.46 Q132.593 257.46 135.649 262.066 Q138.728 266.65 138.728 275.4 Q138.728 284.127 135.649 288.733 Q132.593 293.316 126.783 293.316 Q120.973 293.316 117.894 288.733 Q114.839 284.127 114.839 275.4 Q114.839 266.65 117.894 262.066 Q120.973 257.46 126.783 257.46 Z\" fill=\"#000000\" fill-rule=\"evenodd\" fill-opacity=\"1\" /><path clip-path=\"url(#clip780)\" d=\"M146.945 286.765 L151.829 286.765 L151.829 292.645 L146.945 292.645 L146.945 286.765 Z\" fill=\"#000000\" fill-rule=\"evenodd\" fill-opacity=\"1\" /><path clip-path=\"url(#clip780)\" d=\"M172.014 276.233 Q168.681 276.233 166.76 278.015 Q164.862 279.798 164.862 282.923 Q164.862 286.048 166.76 287.83 Q168.681 289.613 172.014 289.613 Q175.348 289.613 177.269 287.83 Q179.19 286.025 179.19 282.923 Q179.19 279.798 177.269 278.015 Q175.371 276.233 172.014 276.233 M167.339 274.242 Q164.329 273.502 162.64 271.441 Q160.973 269.381 160.973 266.418 Q160.973 262.275 163.913 259.867 Q166.876 257.46 172.014 257.46 Q177.176 257.46 180.116 259.867 Q183.056 262.275 183.056 266.418 Q183.056 269.381 181.366 271.441 Q179.7 273.502 176.714 274.242 Q180.093 275.029 181.968 277.321 Q183.866 279.613 183.866 282.923 Q183.866 287.946 180.788 290.631 Q177.732 293.316 172.014 293.316 Q166.297 293.316 163.218 290.631 Q160.163 287.946 160.163 282.923 Q160.163 279.613 162.061 277.321 Q163.959 275.029 167.339 274.242 M165.626 266.858 Q165.626 269.543 167.292 271.048 Q168.982 272.553 172.014 272.553 Q175.024 272.553 176.714 271.048 Q178.426 269.543 178.426 266.858 Q178.426 264.173 176.714 262.668 Q175.024 261.164 172.014 261.164 Q168.982 261.164 167.292 262.668 Q165.626 264.173 165.626 266.858 Z\" fill=\"#000000\" fill-rule=\"evenodd\" fill-opacity=\"1\" /><path clip-path=\"url(#clip780)\" d=\"M67.3143 820.624 Q73.68 823.106 75.6216 825.462 Q77.5631 827.817 77.5631 831.764 L77.5631 836.443 L72.6615 836.443 L72.6615 833.005 Q72.6615 830.586 71.5157 829.249 Q70.3699 827.913 66.1048 826.289 L63.4312 825.239 L28.3562 839.657 L28.3562 833.451 L56.238 822.311 L28.3562 811.171 L28.3562 804.964 L67.3143 820.624 Z\" fill=\"#000000\" fill-rule=\"evenodd\" fill-opacity=\"1\" /><path clip-path=\"url(#clip780)\" d=\"M14.479 776.159 L14.479 770.303 L64.0042 770.303 L64.0042 776.159 L14.479 776.159 Z\" fill=\"#000000\" fill-rule=\"evenodd\" fill-opacity=\"1\" /><path clip-path=\"url(#clip780)\" d=\"M46.0847 741.848 Q46.0847 748.946 47.7079 751.683 Q49.3312 754.42 53.2461 754.42 Q56.3653 754.42 58.2114 752.383 Q60.0256 750.315 60.0256 746.782 Q60.0256 741.912 56.5881 738.984 Q53.1188 736.024 47.3897 736.024 L46.0847 736.024 L46.0847 741.848 M43.6657 730.167 L64.0042 730.167 L64.0042 736.024 L58.5933 736.024 Q61.8398 738.029 63.3994 741.021 Q64.9272 744.013 64.9272 748.341 Q64.9272 753.816 61.8716 757.062 Q58.7843 760.277 53.6281 760.277 Q47.6125 760.277 44.5569 756.267 Q41.5014 752.224 41.5014 744.235 L41.5014 736.024 L40.9285 736.024 Q36.8862 736.024 34.6901 738.697 Q32.4621 741.339 32.4621 746.145 Q32.4621 749.201 33.1941 752.097 Q33.9262 754.993 35.3903 757.667 L29.9795 757.667 Q28.7381 754.452 28.1334 751.429 Q27.4968 748.405 27.4968 745.54 Q27.4968 737.806 31.5072 733.987 Q35.5176 730.167 43.6657 730.167 Z\" fill=\"#000000\" fill-rule=\"evenodd\" fill-opacity=\"1\" /><path clip-path=\"url(#clip780)\" d=\"M46.212 692.514 Q39.7508 692.514 36.0905 695.188 Q32.3984 697.829 32.3984 702.476 Q32.3984 707.123 36.0905 709.797 Q39.7508 712.439 46.212 712.439 Q52.6732 712.439 56.3653 709.797 Q60.0256 707.123 60.0256 702.476 Q60.0256 697.829 56.3653 695.188 Q52.6732 692.514 46.212 692.514 M33.7671 712.439 Q30.5842 710.593 29.0564 707.792 Q27.4968 704.959 27.4968 701.044 Q27.4968 694.551 32.6531 690.509 Q37.8093 686.435 46.212 686.435 Q54.6147 686.435 59.771 690.509 Q64.9272 694.551 64.9272 701.044 Q64.9272 704.959 63.3994 707.792 Q61.8398 710.593 58.657 712.439 L64.0042 712.439 L64.0042 718.327 L14.479 718.327 L14.479 712.439 L33.7671 712.439 Z\" fill=\"#000000\" fill-rule=\"evenodd\" fill-opacity=\"1\" /><path clip-path=\"url(#clip780)\" d=\"M44.7161 646.235 L47.5806 646.235 L47.5806 673.162 Q53.6281 672.78 56.8109 669.534 Q59.9619 666.255 59.9619 660.431 Q59.9619 657.057 59.1344 653.906 Q58.3069 650.723 56.6518 647.604 L62.1899 647.604 Q63.5267 650.755 64.227 654.065 Q64.9272 657.375 64.9272 660.781 Q64.9272 669.311 59.9619 674.308 Q54.9967 679.273 46.5303 679.273 Q37.7774 679.273 32.6531 674.563 Q27.4968 669.82 27.4968 661.799 Q27.4968 654.606 32.1438 650.437 Q36.7589 646.235 44.7161 646.235 M42.9973 652.092 Q38.1912 652.155 35.3266 654.797 Q32.4621 657.407 32.4621 661.736 Q32.4621 666.637 35.2312 669.597 Q38.0002 672.526 43.0292 672.971 L42.9973 652.092 Z\" fill=\"#000000\" fill-rule=\"evenodd\" fill-opacity=\"1\" /><path clip-path=\"url(#clip780)\" d=\"M14.479 636.623 L14.479 630.767 L64.0042 630.767 L64.0042 636.623 L14.479 636.623 Z\" fill=\"#000000\" fill-rule=\"evenodd\" fill-opacity=\"1\" /><polyline clip-path=\"url(#clip782)\" style=\"stroke:#009af9; stroke-linecap:butt; stroke-linejoin:round; stroke-width:4; stroke-opacity:1; fill:none\" points=\"\n",
       "  280.231,698.868 423.957,652.178 567.683,1384.24 711.408,947.378 855.134,172.311 998.86,786.037 1142.59,1237.39 1286.31,411.701 1430.04,86.1857 1573.76,925.148 \n",
       "  1717.49,1270.5 1861.21,694.06 2004.94,108.743 2148.67,695.074 2292.39,1205.35 \n",
       "  \"/>\n",
       "<path clip-path=\"url(#clip780)\" d=\"\n",
       "M1992.24 196.789 L2281.66 196.789 L2281.66 93.1086 L1992.24 93.1086  Z\n",
       "  \" fill=\"#ffffff\" fill-rule=\"evenodd\" fill-opacity=\"1\"/>\n",
       "<polyline clip-path=\"url(#clip780)\" style=\"stroke:#000000; stroke-linecap:butt; stroke-linejoin:round; stroke-width:4; stroke-opacity:1; fill:none\" points=\"\n",
       "  1992.24,196.789 2281.66,196.789 2281.66,93.1086 1992.24,93.1086 1992.24,196.789 \n",
       "  \"/>\n",
       "<polyline clip-path=\"url(#clip780)\" style=\"stroke:#009af9; stroke-linecap:butt; stroke-linejoin:round; stroke-width:4; stroke-opacity:1; fill:none\" points=\"\n",
       "  2015.94,144.949 2158.13,144.949 \n",
       "  \"/>\n",
       "<path clip-path=\"url(#clip780)\" d=\"M2195.67 164.636 Q2193.87 169.266 2192.16 170.678 Q2190.44 172.09 2187.57 172.09 L2184.17 172.09 L2184.17 168.525 L2186.67 168.525 Q2188.43 168.525 2189.4 167.692 Q2190.37 166.858 2191.55 163.756 L2192.32 161.812 L2181.83 136.303 L2186.35 136.303 L2194.45 156.581 L2202.55 136.303 L2207.06 136.303 L2195.67 164.636 Z\" fill=\"#000000\" fill-rule=\"evenodd\" fill-opacity=\"1\" /><path clip-path=\"url(#clip780)\" d=\"M2214.35 158.293 L2221.99 158.293 L2221.99 131.928 L2213.68 133.595 L2213.68 129.335 L2221.95 127.669 L2226.62 127.669 L2226.62 158.293 L2234.26 158.293 L2234.26 162.229 L2214.35 162.229 L2214.35 158.293 Z\" fill=\"#000000\" fill-rule=\"evenodd\" fill-opacity=\"1\" /></svg>\n"
      ]
     },
     "execution_count": 247,
     "metadata": {},
     "output_type": "execute_result"
    }
   ],
   "source": [
    "plot(x, y, xlabel=\"X label\", ylabel=\"y label\")"
   ]
  },
  {
   "cell_type": "code",
   "execution_count": 248,
   "metadata": {},
   "outputs": [
    {
     "data": {
      "image/svg+xml": [
       "<?xml version=\"1.0\" encoding=\"utf-8\"?>\n",
       "<svg xmlns=\"http://www.w3.org/2000/svg\" xmlns:xlink=\"http://www.w3.org/1999/xlink\" width=\"600\" height=\"400\" viewBox=\"0 0 2400 1600\">\n",
       "<defs>\n",
       "  <clipPath id=\"clip820\">\n",
       "    <rect x=\"0\" y=\"0\" width=\"2400\" height=\"1600\"/>\n",
       "  </clipPath>\n",
       "</defs>\n",
       "<path clip-path=\"url(#clip820)\" d=\"\n",
       "M0 1600 L2400 1600 L2400 0 L0 0  Z\n",
       "  \" fill=\"#ffffff\" fill-rule=\"evenodd\" fill-opacity=\"1\"/>\n",
       "<defs>\n",
       "  <clipPath id=\"clip821\">\n",
       "    <rect x=\"480\" y=\"0\" width=\"1681\" height=\"1600\"/>\n",
       "  </clipPath>\n",
       "</defs>\n",
       "<path clip-path=\"url(#clip820)\" d=\"\n",
       "M156.598 1486.45 L2352.76 1486.45 L2352.76 47.2441 L156.598 47.2441  Z\n",
       "  \" fill=\"#ffffff\" fill-rule=\"evenodd\" fill-opacity=\"1\"/>\n",
       "<defs>\n",
       "  <clipPath id=\"clip822\">\n",
       "    <rect x=\"156\" y=\"47\" width=\"2197\" height=\"1440\"/>\n",
       "  </clipPath>\n",
       "</defs>\n",
       "<polyline clip-path=\"url(#clip822)\" style=\"stroke:#000000; stroke-linecap:butt; stroke-linejoin:round; stroke-width:2; stroke-opacity:0.1; fill:none\" points=\"\n",
       "  366.743,1486.45 366.743,47.2441 \n",
       "  \"/>\n",
       "<polyline clip-path=\"url(#clip822)\" style=\"stroke:#000000; stroke-linecap:butt; stroke-linejoin:round; stroke-width:2; stroke-opacity:0.1; fill:none\" points=\"\n",
       "  662.721,1486.45 662.721,47.2441 \n",
       "  \"/>\n",
       "<polyline clip-path=\"url(#clip822)\" style=\"stroke:#000000; stroke-linecap:butt; stroke-linejoin:round; stroke-width:2; stroke-opacity:0.1; fill:none\" points=\"\n",
       "  958.699,1486.45 958.699,47.2441 \n",
       "  \"/>\n",
       "<polyline clip-path=\"url(#clip822)\" style=\"stroke:#000000; stroke-linecap:butt; stroke-linejoin:round; stroke-width:2; stroke-opacity:0.1; fill:none\" points=\"\n",
       "  1254.68,1486.45 1254.68,47.2441 \n",
       "  \"/>\n",
       "<polyline clip-path=\"url(#clip822)\" style=\"stroke:#000000; stroke-linecap:butt; stroke-linejoin:round; stroke-width:2; stroke-opacity:0.1; fill:none\" points=\"\n",
       "  1550.66,1486.45 1550.66,47.2441 \n",
       "  \"/>\n",
       "<polyline clip-path=\"url(#clip822)\" style=\"stroke:#000000; stroke-linecap:butt; stroke-linejoin:round; stroke-width:2; stroke-opacity:0.1; fill:none\" points=\"\n",
       "  1846.63,1486.45 1846.63,47.2441 \n",
       "  \"/>\n",
       "<polyline clip-path=\"url(#clip822)\" style=\"stroke:#000000; stroke-linecap:butt; stroke-linejoin:round; stroke-width:2; stroke-opacity:0.1; fill:none\" points=\"\n",
       "  2142.61,1486.45 2142.61,47.2441 \n",
       "  \"/>\n",
       "<polyline clip-path=\"url(#clip820)\" style=\"stroke:#000000; stroke-linecap:butt; stroke-linejoin:round; stroke-width:4; stroke-opacity:1; fill:none\" points=\"\n",
       "  156.598,1486.45 2352.76,1486.45 \n",
       "  \"/>\n",
       "<polyline clip-path=\"url(#clip820)\" style=\"stroke:#000000; stroke-linecap:butt; stroke-linejoin:round; stroke-width:4; stroke-opacity:1; fill:none\" points=\"\n",
       "  366.743,1486.45 366.743,1467.55 \n",
       "  \"/>\n",
       "<polyline clip-path=\"url(#clip820)\" style=\"stroke:#000000; stroke-linecap:butt; stroke-linejoin:round; stroke-width:4; stroke-opacity:1; fill:none\" points=\"\n",
       "  662.721,1486.45 662.721,1467.55 \n",
       "  \"/>\n",
       "<polyline clip-path=\"url(#clip820)\" style=\"stroke:#000000; stroke-linecap:butt; stroke-linejoin:round; stroke-width:4; stroke-opacity:1; fill:none\" points=\"\n",
       "  958.699,1486.45 958.699,1467.55 \n",
       "  \"/>\n",
       "<polyline clip-path=\"url(#clip820)\" style=\"stroke:#000000; stroke-linecap:butt; stroke-linejoin:round; stroke-width:4; stroke-opacity:1; fill:none\" points=\"\n",
       "  1254.68,1486.45 1254.68,1467.55 \n",
       "  \"/>\n",
       "<polyline clip-path=\"url(#clip820)\" style=\"stroke:#000000; stroke-linecap:butt; stroke-linejoin:round; stroke-width:4; stroke-opacity:1; fill:none\" points=\"\n",
       "  1550.66,1486.45 1550.66,1467.55 \n",
       "  \"/>\n",
       "<polyline clip-path=\"url(#clip820)\" style=\"stroke:#000000; stroke-linecap:butt; stroke-linejoin:round; stroke-width:4; stroke-opacity:1; fill:none\" points=\"\n",
       "  1846.63,1486.45 1846.63,1467.55 \n",
       "  \"/>\n",
       "<polyline clip-path=\"url(#clip820)\" style=\"stroke:#000000; stroke-linecap:butt; stroke-linejoin:round; stroke-width:4; stroke-opacity:1; fill:none\" points=\"\n",
       "  2142.61,1486.45 2142.61,1467.55 \n",
       "  \"/>\n",
       "<path clip-path=\"url(#clip820)\" d=\"M361.396 1544.91 L377.715 1544.91 L377.715 1548.85 L355.771 1548.85 L355.771 1544.91 Q358.433 1542.16 363.016 1537.53 Q367.622 1532.88 368.803 1531.53 Q371.048 1529.01 371.928 1527.27 Q372.831 1525.51 372.831 1523.82 Q372.831 1521.07 370.886 1519.33 Q368.965 1517.6 365.863 1517.6 Q363.664 1517.6 361.21 1518.36 Q358.78 1519.13 356.002 1520.68 L356.002 1515.95 Q358.826 1514.82 361.28 1514.24 Q363.733 1513.66 365.77 1513.66 Q371.141 1513.66 374.335 1516.35 Q377.53 1519.03 377.53 1523.52 Q377.53 1525.65 376.72 1527.57 Q375.932 1529.47 373.826 1532.07 Q373.247 1532.74 370.145 1535.95 Q367.044 1539.15 361.396 1544.91 Z\" fill=\"#000000\" fill-rule=\"evenodd\" fill-opacity=\"1\" /><path clip-path=\"url(#clip820)\" d=\"M665.73 1518.36 L653.925 1536.81 L665.73 1536.81 L665.73 1518.36 M664.503 1514.29 L670.383 1514.29 L670.383 1536.81 L675.313 1536.81 L675.313 1540.7 L670.383 1540.7 L670.383 1548.85 L665.73 1548.85 L665.73 1540.7 L650.128 1540.7 L650.128 1536.19 L664.503 1514.29 Z\" fill=\"#000000\" fill-rule=\"evenodd\" fill-opacity=\"1\" /><path clip-path=\"url(#clip820)\" d=\"M959.104 1529.7 Q955.956 1529.7 954.104 1531.86 Q952.275 1534.01 952.275 1537.76 Q952.275 1541.49 954.104 1543.66 Q955.956 1545.82 959.104 1545.82 Q962.252 1545.82 964.081 1543.66 Q965.933 1541.49 965.933 1537.76 Q965.933 1534.01 964.081 1531.86 Q962.252 1529.7 959.104 1529.7 M968.386 1515.05 L968.386 1519.31 Q966.627 1518.48 964.822 1518.04 Q963.039 1517.6 961.28 1517.6 Q956.65 1517.6 954.197 1520.72 Q951.766 1523.85 951.419 1530.17 Q952.785 1528.15 954.845 1527.09 Q956.905 1526 959.382 1526 Q964.59 1526 967.599 1529.17 Q970.632 1532.32 970.632 1537.76 Q970.632 1543.08 967.484 1546.3 Q964.335 1549.52 959.104 1549.52 Q953.109 1549.52 949.937 1544.94 Q946.766 1540.33 946.766 1531.6 Q946.766 1523.41 950.655 1518.55 Q954.544 1513.66 961.095 1513.66 Q962.854 1513.66 964.636 1514.01 Q966.442 1514.36 968.386 1515.05 Z\" fill=\"#000000\" fill-rule=\"evenodd\" fill-opacity=\"1\" /><path clip-path=\"url(#clip820)\" d=\"M1254.68 1532.44 Q1251.34 1532.44 1249.42 1534.22 Q1247.52 1536 1247.52 1539.13 Q1247.52 1542.25 1249.42 1544.03 Q1251.34 1545.82 1254.68 1545.82 Q1258.01 1545.82 1259.93 1544.03 Q1261.85 1542.23 1261.85 1539.13 Q1261.85 1536 1259.93 1534.22 Q1258.03 1532.44 1254.68 1532.44 M1250 1530.45 Q1246.99 1529.7 1245.3 1527.64 Q1243.64 1525.58 1243.64 1522.62 Q1243.64 1518.48 1246.58 1516.07 Q1249.54 1513.66 1254.68 1513.66 Q1259.84 1513.66 1262.78 1516.07 Q1265.72 1518.48 1265.72 1522.62 Q1265.72 1525.58 1264.03 1527.64 Q1262.36 1529.7 1259.38 1530.45 Q1262.76 1531.23 1264.63 1533.52 Q1266.53 1535.82 1266.53 1539.13 Q1266.53 1544.15 1263.45 1546.83 Q1260.39 1549.52 1254.68 1549.52 Q1248.96 1549.52 1245.88 1546.83 Q1242.83 1544.15 1242.83 1539.13 Q1242.83 1535.82 1244.72 1533.52 Q1246.62 1531.23 1250 1530.45 M1248.29 1523.06 Q1248.29 1525.75 1249.95 1527.25 Q1251.64 1528.76 1254.68 1528.76 Q1257.69 1528.76 1259.38 1527.25 Q1261.09 1525.75 1261.09 1523.06 Q1261.09 1520.38 1259.38 1518.87 Q1257.69 1517.37 1254.68 1517.37 Q1251.64 1517.37 1249.95 1518.87 Q1248.29 1520.38 1248.29 1523.06 Z\" fill=\"#000000\" fill-rule=\"evenodd\" fill-opacity=\"1\" /><path clip-path=\"url(#clip820)\" d=\"M1525.34 1544.91 L1532.98 1544.91 L1532.98 1518.55 L1524.67 1520.21 L1524.67 1515.95 L1532.94 1514.29 L1537.61 1514.29 L1537.61 1544.91 L1545.25 1544.91 L1545.25 1548.85 L1525.34 1548.85 L1525.34 1544.91 Z\" fill=\"#000000\" fill-rule=\"evenodd\" fill-opacity=\"1\" /><path clip-path=\"url(#clip820)\" d=\"M1564.69 1517.37 Q1561.08 1517.37 1559.25 1520.93 Q1557.45 1524.47 1557.45 1531.6 Q1557.45 1538.71 1559.25 1542.27 Q1561.08 1545.82 1564.69 1545.82 Q1568.33 1545.82 1570.13 1542.27 Q1571.96 1538.71 1571.96 1531.6 Q1571.96 1524.47 1570.13 1520.93 Q1568.33 1517.37 1564.69 1517.37 M1564.69 1513.66 Q1570.5 1513.66 1573.56 1518.27 Q1576.64 1522.85 1576.64 1531.6 Q1576.64 1540.33 1573.56 1544.94 Q1570.5 1549.52 1564.69 1549.52 Q1558.88 1549.52 1555.81 1544.94 Q1552.75 1540.33 1552.75 1531.6 Q1552.75 1522.85 1555.81 1518.27 Q1558.88 1513.66 1564.69 1513.66 Z\" fill=\"#000000\" fill-rule=\"evenodd\" fill-opacity=\"1\" /><path clip-path=\"url(#clip820)\" d=\"M1822.12 1544.91 L1829.76 1544.91 L1829.76 1518.55 L1821.45 1520.21 L1821.45 1515.95 L1829.71 1514.29 L1834.39 1514.29 L1834.39 1544.91 L1842.03 1544.91 L1842.03 1548.85 L1822.12 1548.85 L1822.12 1544.91 Z\" fill=\"#000000\" fill-rule=\"evenodd\" fill-opacity=\"1\" /><path clip-path=\"url(#clip820)\" d=\"M1855.5 1544.91 L1871.82 1544.91 L1871.82 1548.85 L1849.87 1548.85 L1849.87 1544.91 Q1852.54 1542.16 1857.12 1537.53 Q1861.73 1532.88 1862.91 1531.53 Q1865.15 1529.01 1866.03 1527.27 Q1866.93 1525.51 1866.93 1523.82 Q1866.93 1521.07 1864.99 1519.33 Q1863.07 1517.6 1859.97 1517.6 Q1857.77 1517.6 1855.31 1518.36 Q1852.88 1519.13 1850.11 1520.68 L1850.11 1515.95 Q1852.93 1514.82 1855.38 1514.24 Q1857.84 1513.66 1859.87 1513.66 Q1865.24 1513.66 1868.44 1516.35 Q1871.63 1519.03 1871.63 1523.52 Q1871.63 1525.65 1870.82 1527.57 Q1870.04 1529.47 1867.93 1532.07 Q1867.35 1532.74 1864.25 1535.95 Q1861.15 1539.15 1855.5 1544.91 Z\" fill=\"#000000\" fill-rule=\"evenodd\" fill-opacity=\"1\" /><path clip-path=\"url(#clip820)\" d=\"M2117.06 1544.91 L2124.69 1544.91 L2124.69 1518.55 L2116.38 1520.21 L2116.38 1515.95 L2124.65 1514.29 L2129.32 1514.29 L2129.32 1544.91 L2136.96 1544.91 L2136.96 1548.85 L2117.06 1548.85 L2117.06 1544.91 Z\" fill=\"#000000\" fill-rule=\"evenodd\" fill-opacity=\"1\" /><path clip-path=\"url(#clip820)\" d=\"M2159.25 1518.36 L2147.45 1536.81 L2159.25 1536.81 L2159.25 1518.36 M2158.03 1514.29 L2163.91 1514.29 L2163.91 1536.81 L2168.84 1536.81 L2168.84 1540.7 L2163.91 1540.7 L2163.91 1548.85 L2159.25 1548.85 L2159.25 1540.7 L2143.65 1540.7 L2143.65 1536.19 L2158.03 1514.29 Z\" fill=\"#000000\" fill-rule=\"evenodd\" fill-opacity=\"1\" /><polyline clip-path=\"url(#clip822)\" style=\"stroke:#000000; stroke-linecap:butt; stroke-linejoin:round; stroke-width:2; stroke-opacity:0.1; fill:none\" points=\"\n",
       "  156.598,1473.47 2352.76,1473.47 \n",
       "  \"/>\n",
       "<polyline clip-path=\"url(#clip822)\" style=\"stroke:#000000; stroke-linecap:butt; stroke-linejoin:round; stroke-width:2; stroke-opacity:0.1; fill:none\" points=\"\n",
       "  156.598,1176.56 2352.76,1176.56 \n",
       "  \"/>\n",
       "<polyline clip-path=\"url(#clip822)\" style=\"stroke:#000000; stroke-linecap:butt; stroke-linejoin:round; stroke-width:2; stroke-opacity:0.1; fill:none\" points=\"\n",
       "  156.598,879.66 2352.76,879.66 \n",
       "  \"/>\n",
       "<polyline clip-path=\"url(#clip822)\" style=\"stroke:#000000; stroke-linecap:butt; stroke-linejoin:round; stroke-width:2; stroke-opacity:0.1; fill:none\" points=\"\n",
       "  156.598,582.757 2352.76,582.757 \n",
       "  \"/>\n",
       "<polyline clip-path=\"url(#clip822)\" style=\"stroke:#000000; stroke-linecap:butt; stroke-linejoin:round; stroke-width:2; stroke-opacity:0.1; fill:none\" points=\"\n",
       "  156.598,285.854 2352.76,285.854 \n",
       "  \"/>\n",
       "<polyline clip-path=\"url(#clip820)\" style=\"stroke:#000000; stroke-linecap:butt; stroke-linejoin:round; stroke-width:4; stroke-opacity:1; fill:none\" points=\"\n",
       "  156.598,1486.45 156.598,47.2441 \n",
       "  \"/>\n",
       "<polyline clip-path=\"url(#clip820)\" style=\"stroke:#000000; stroke-linecap:butt; stroke-linejoin:round; stroke-width:4; stroke-opacity:1; fill:none\" points=\"\n",
       "  156.598,1473.47 175.496,1473.47 \n",
       "  \"/>\n",
       "<polyline clip-path=\"url(#clip820)\" style=\"stroke:#000000; stroke-linecap:butt; stroke-linejoin:round; stroke-width:4; stroke-opacity:1; fill:none\" points=\"\n",
       "  156.598,1176.56 175.496,1176.56 \n",
       "  \"/>\n",
       "<polyline clip-path=\"url(#clip820)\" style=\"stroke:#000000; stroke-linecap:butt; stroke-linejoin:round; stroke-width:4; stroke-opacity:1; fill:none\" points=\"\n",
       "  156.598,879.66 175.496,879.66 \n",
       "  \"/>\n",
       "<polyline clip-path=\"url(#clip820)\" style=\"stroke:#000000; stroke-linecap:butt; stroke-linejoin:round; stroke-width:4; stroke-opacity:1; fill:none\" points=\"\n",
       "  156.598,582.757 175.496,582.757 \n",
       "  \"/>\n",
       "<polyline clip-path=\"url(#clip820)\" style=\"stroke:#000000; stroke-linecap:butt; stroke-linejoin:round; stroke-width:4; stroke-opacity:1; fill:none\" points=\"\n",
       "  156.598,285.854 175.496,285.854 \n",
       "  \"/>\n",
       "<path clip-path=\"url(#clip820)\" d=\"M63.4226 1459.26 Q59.8115 1459.26 57.9828 1462.83 Q56.1773 1466.37 56.1773 1473.5 Q56.1773 1480.61 57.9828 1484.17 Q59.8115 1487.71 63.4226 1487.71 Q67.0569 1487.71 68.8624 1484.17 Q70.6911 1480.61 70.6911 1473.5 Q70.6911 1466.37 68.8624 1462.83 Q67.0569 1459.26 63.4226 1459.26 M63.4226 1455.56 Q69.2328 1455.56 72.2883 1460.17 Q75.367 1464.75 75.367 1473.5 Q75.367 1482.23 72.2883 1486.83 Q69.2328 1491.42 63.4226 1491.42 Q57.6125 1491.42 54.5338 1486.83 Q51.4782 1482.23 51.4782 1473.5 Q51.4782 1464.75 54.5338 1460.17 Q57.6125 1455.56 63.4226 1455.56 Z\" fill=\"#000000\" fill-rule=\"evenodd\" fill-opacity=\"1\" /><path clip-path=\"url(#clip820)\" d=\"M83.5845 1484.87 L88.4688 1484.87 L88.4688 1490.75 L83.5845 1490.75 L83.5845 1484.87 Z\" fill=\"#000000\" fill-rule=\"evenodd\" fill-opacity=\"1\" /><path clip-path=\"url(#clip820)\" d=\"M108.654 1459.26 Q105.043 1459.26 103.214 1462.83 Q101.409 1466.37 101.409 1473.5 Q101.409 1480.61 103.214 1484.17 Q105.043 1487.71 108.654 1487.71 Q112.288 1487.71 114.094 1484.17 Q115.922 1480.61 115.922 1473.5 Q115.922 1466.37 114.094 1462.83 Q112.288 1459.26 108.654 1459.26 M108.654 1455.56 Q114.464 1455.56 117.52 1460.17 Q120.598 1464.75 120.598 1473.5 Q120.598 1482.23 117.52 1486.83 Q114.464 1491.42 108.654 1491.42 Q102.844 1491.42 99.765 1486.83 Q96.7095 1482.23 96.7095 1473.5 Q96.7095 1464.75 99.765 1460.17 Q102.844 1455.56 108.654 1455.56 Z\" fill=\"#000000\" fill-rule=\"evenodd\" fill-opacity=\"1\" /><path clip-path=\"url(#clip820)\" d=\"M65.0198 1162.36 Q61.4087 1162.36 59.58 1165.93 Q57.7745 1169.47 57.7745 1176.6 Q57.7745 1183.7 59.58 1187.27 Q61.4087 1190.81 65.0198 1190.81 Q68.6541 1190.81 70.4596 1187.27 Q72.2883 1183.7 72.2883 1176.6 Q72.2883 1169.47 70.4596 1165.93 Q68.6541 1162.36 65.0198 1162.36 M65.0198 1158.66 Q70.83 1158.66 73.8855 1163.26 Q76.9642 1167.85 76.9642 1176.6 Q76.9642 1185.32 73.8855 1189.93 Q70.83 1194.51 65.0198 1194.51 Q59.2097 1194.51 56.131 1189.93 Q53.0754 1185.32 53.0754 1176.6 Q53.0754 1167.85 56.131 1163.26 Q59.2097 1158.66 65.0198 1158.66 Z\" fill=\"#000000\" fill-rule=\"evenodd\" fill-opacity=\"1\" /><path clip-path=\"url(#clip820)\" d=\"M85.1818 1187.96 L90.066 1187.96 L90.066 1193.84 L85.1818 1193.84 L85.1818 1187.96 Z\" fill=\"#000000\" fill-rule=\"evenodd\" fill-opacity=\"1\" /><path clip-path=\"url(#clip820)\" d=\"M104.279 1189.91 L120.598 1189.91 L120.598 1193.84 L98.6539 1193.84 L98.6539 1189.91 Q101.316 1187.15 105.899 1182.52 Q110.506 1177.87 111.686 1176.53 Q113.932 1174 114.811 1172.27 Q115.714 1170.51 115.714 1168.82 Q115.714 1166.07 113.77 1164.33 Q111.848 1162.59 108.746 1162.59 Q106.547 1162.59 104.094 1163.36 Q101.663 1164.12 98.8854 1165.67 L98.8854 1160.95 Q101.709 1159.82 104.163 1159.24 Q106.617 1158.66 108.654 1158.66 Q114.024 1158.66 117.219 1161.34 Q120.413 1164.03 120.413 1168.52 Q120.413 1170.65 119.603 1172.57 Q118.816 1174.47 116.709 1177.06 Q116.131 1177.73 113.029 1180.95 Q109.927 1184.14 104.279 1189.91 Z\" fill=\"#000000\" fill-rule=\"evenodd\" fill-opacity=\"1\" /><path clip-path=\"url(#clip820)\" d=\"M62.9365 865.459 Q59.3254 865.459 57.4967 869.023 Q55.6912 872.565 55.6912 879.695 Q55.6912 886.801 57.4967 890.366 Q59.3254 893.908 62.9365 893.908 Q66.5707 893.908 68.3763 890.366 Q70.205 886.801 70.205 879.695 Q70.205 872.565 68.3763 869.023 Q66.5707 865.459 62.9365 865.459 M62.9365 861.755 Q68.7467 861.755 71.8022 866.361 Q74.8809 870.945 74.8809 879.695 Q74.8809 888.421 71.8022 893.028 Q68.7467 897.611 62.9365 897.611 Q57.1264 897.611 54.0477 893.028 Q50.9921 888.421 50.9921 879.695 Q50.9921 870.945 54.0477 866.361 Q57.1264 861.755 62.9365 861.755 Z\" fill=\"#000000\" fill-rule=\"evenodd\" fill-opacity=\"1\" /><path clip-path=\"url(#clip820)\" d=\"M83.0984 891.06 L87.9827 891.06 L87.9827 896.94 L83.0984 896.94 L83.0984 891.06 Z\" fill=\"#000000\" fill-rule=\"evenodd\" fill-opacity=\"1\" /><path clip-path=\"url(#clip820)\" d=\"M111.015 866.454 L99.2095 884.903 L111.015 884.903 L111.015 866.454 M109.788 862.38 L115.668 862.38 L115.668 884.903 L120.598 884.903 L120.598 888.792 L115.668 888.792 L115.668 896.94 L111.015 896.94 L111.015 888.792 L95.4132 888.792 L95.4132 884.278 L109.788 862.38 Z\" fill=\"#000000\" fill-rule=\"evenodd\" fill-opacity=\"1\" /><path clip-path=\"url(#clip820)\" d=\"M63.2606 568.556 Q59.6495 568.556 57.8208 572.121 Q56.0152 575.662 56.0152 582.792 Q56.0152 589.898 57.8208 593.463 Q59.6495 597.005 63.2606 597.005 Q66.8948 597.005 68.7004 593.463 Q70.5291 589.898 70.5291 582.792 Q70.5291 575.662 68.7004 572.121 Q66.8948 568.556 63.2606 568.556 M63.2606 564.852 Q69.0707 564.852 72.1263 569.459 Q75.205 574.042 75.205 582.792 Q75.205 591.519 72.1263 596.125 Q69.0707 600.708 63.2606 600.708 Q57.4504 600.708 54.3717 596.125 Q51.3162 591.519 51.3162 582.792 Q51.3162 574.042 54.3717 569.459 Q57.4504 564.852 63.2606 564.852 Z\" fill=\"#000000\" fill-rule=\"evenodd\" fill-opacity=\"1\" /><path clip-path=\"url(#clip820)\" d=\"M83.4225 594.158 L88.3067 594.158 L88.3067 600.037 L83.4225 600.037 L83.4225 594.158 Z\" fill=\"#000000\" fill-rule=\"evenodd\" fill-opacity=\"1\" /><path clip-path=\"url(#clip820)\" d=\"M109.071 580.894 Q105.922 580.894 104.071 583.047 Q102.242 585.199 102.242 588.949 Q102.242 592.676 104.071 594.852 Q105.922 597.005 109.071 597.005 Q112.219 597.005 114.047 594.852 Q115.899 592.676 115.899 588.949 Q115.899 585.199 114.047 583.047 Q112.219 580.894 109.071 580.894 M118.353 566.241 L118.353 570.5 Q116.594 569.667 114.788 569.227 Q113.006 568.787 111.246 568.787 Q106.617 568.787 104.163 571.912 Q101.733 575.037 101.385 581.357 Q102.751 579.343 104.811 578.278 Q106.871 577.19 109.348 577.19 Q114.557 577.19 117.566 580.361 Q120.598 583.509 120.598 588.949 Q120.598 594.273 117.45 597.491 Q114.302 600.708 109.071 600.708 Q103.075 600.708 99.9039 596.125 Q96.7326 591.519 96.7326 582.792 Q96.7326 574.598 100.621 569.736 Q104.51 564.852 111.061 564.852 Q112.82 564.852 114.603 565.199 Q116.408 565.547 118.353 566.241 Z\" fill=\"#000000\" fill-rule=\"evenodd\" fill-opacity=\"1\" /><path clip-path=\"url(#clip820)\" d=\"M63.5152 271.653 Q59.9041 271.653 58.0754 275.218 Q56.2699 278.76 56.2699 285.889 Q56.2699 292.996 58.0754 296.56 Q59.9041 300.102 63.5152 300.102 Q67.1494 300.102 68.955 296.56 Q70.7837 292.996 70.7837 285.889 Q70.7837 278.76 68.955 275.218 Q67.1494 271.653 63.5152 271.653 M63.5152 267.949 Q69.3254 267.949 72.3809 272.556 Q75.4596 277.139 75.4596 285.889 Q75.4596 294.616 72.3809 299.222 Q69.3254 303.806 63.5152 303.806 Q57.7051 303.806 54.6264 299.222 Q51.5708 294.616 51.5708 285.889 Q51.5708 277.139 54.6264 272.556 Q57.7051 267.949 63.5152 267.949 Z\" fill=\"#000000\" fill-rule=\"evenodd\" fill-opacity=\"1\" /><path clip-path=\"url(#clip820)\" d=\"M83.6771 297.255 L88.5614 297.255 L88.5614 303.134 L83.6771 303.134 L83.6771 297.255 Z\" fill=\"#000000\" fill-rule=\"evenodd\" fill-opacity=\"1\" /><path clip-path=\"url(#clip820)\" d=\"M108.746 286.722 Q105.413 286.722 103.492 288.505 Q101.594 290.287 101.594 293.412 Q101.594 296.537 103.492 298.32 Q105.413 300.102 108.746 300.102 Q112.08 300.102 114.001 298.32 Q115.922 296.514 115.922 293.412 Q115.922 290.287 114.001 288.505 Q112.103 286.722 108.746 286.722 M104.071 284.732 Q101.061 283.991 99.3715 281.931 Q97.7048 279.871 97.7048 276.908 Q97.7048 272.764 100.645 270.357 Q103.608 267.949 108.746 267.949 Q113.908 267.949 116.848 270.357 Q119.788 272.764 119.788 276.908 Q119.788 279.871 118.098 281.931 Q116.432 283.991 113.445 284.732 Q116.825 285.519 118.7 287.81 Q120.598 290.102 120.598 293.412 Q120.598 298.435 117.52 301.121 Q114.464 303.806 108.746 303.806 Q103.029 303.806 99.9502 301.121 Q96.8947 298.435 96.8947 293.412 Q96.8947 290.102 98.7928 287.81 Q100.691 285.519 104.071 284.732 M102.358 277.348 Q102.358 280.033 104.024 281.537 Q105.714 283.042 108.746 283.042 Q111.756 283.042 113.445 281.537 Q115.158 280.033 115.158 277.348 Q115.158 274.662 113.445 273.158 Q111.756 271.653 108.746 271.653 Q105.714 271.653 104.024 273.158 Q102.358 274.662 102.358 277.348 Z\" fill=\"#000000\" fill-rule=\"evenodd\" fill-opacity=\"1\" /><circle clip-path=\"url(#clip822)\" cx=\"218.754\" cy=\"728.831\" r=\"14\" fill=\"#009af9\" fill-rule=\"evenodd\" fill-opacity=\"1\" stroke=\"#000000\" stroke-opacity=\"1\" stroke-width=\"3.2\"/>\n",
       "<circle clip-path=\"url(#clip822)\" cx=\"366.743\" cy=\"679.994\" r=\"14\" fill=\"#009af9\" fill-rule=\"evenodd\" fill-opacity=\"1\" stroke=\"#000000\" stroke-opacity=\"1\" stroke-width=\"3.2\"/>\n",
       "<circle clip-path=\"url(#clip822)\" cx=\"514.732\" cy=\"1445.72\" r=\"14\" fill=\"#009af9\" fill-rule=\"evenodd\" fill-opacity=\"1\" stroke=\"#000000\" stroke-opacity=\"1\" stroke-width=\"3.2\"/>\n",
       "<circle clip-path=\"url(#clip822)\" cx=\"662.721\" cy=\"988.767\" r=\"14\" fill=\"#009af9\" fill-rule=\"evenodd\" fill-opacity=\"1\" stroke=\"#000000\" stroke-opacity=\"1\" stroke-width=\"3.2\"/>\n",
       "<circle clip-path=\"url(#clip822)\" cx=\"810.71\" cy=\"178.062\" r=\"14\" fill=\"#009af9\" fill-rule=\"evenodd\" fill-opacity=\"1\" stroke=\"#000000\" stroke-opacity=\"1\" stroke-width=\"3.2\"/>\n",
       "<circle clip-path=\"url(#clip822)\" cx=\"958.699\" cy=\"820.008\" r=\"14\" fill=\"#009af9\" fill-rule=\"evenodd\" fill-opacity=\"1\" stroke=\"#000000\" stroke-opacity=\"1\" stroke-width=\"3.2\"/>\n",
       "<circle clip-path=\"url(#clip822)\" cx=\"1106.69\" cy=\"1292.12\" r=\"14\" fill=\"#009af9\" fill-rule=\"evenodd\" fill-opacity=\"1\" stroke=\"#000000\" stroke-opacity=\"1\" stroke-width=\"3.2\"/>\n",
       "<circle clip-path=\"url(#clip822)\" cx=\"1254.68\" cy=\"428.46\" r=\"14\" fill=\"#009af9\" fill-rule=\"evenodd\" fill-opacity=\"1\" stroke=\"#000000\" stroke-opacity=\"1\" stroke-width=\"3.2\"/>\n",
       "<circle clip-path=\"url(#clip822)\" cx=\"1402.67\" cy=\"87.9763\" r=\"14\" fill=\"#009af9\" fill-rule=\"evenodd\" fill-opacity=\"1\" stroke=\"#000000\" stroke-opacity=\"1\" stroke-width=\"3.2\"/>\n",
       "<circle clip-path=\"url(#clip822)\" cx=\"1550.66\" cy=\"965.516\" r=\"14\" fill=\"#009af9\" fill-rule=\"evenodd\" fill-opacity=\"1\" stroke=\"#000000\" stroke-opacity=\"1\" stroke-width=\"3.2\"/>\n",
       "<circle clip-path=\"url(#clip822)\" cx=\"1698.64\" cy=\"1326.75\" r=\"14\" fill=\"#009af9\" fill-rule=\"evenodd\" fill-opacity=\"1\" stroke=\"#000000\" stroke-opacity=\"1\" stroke-width=\"3.2\"/>\n",
       "<circle clip-path=\"url(#clip822)\" cx=\"1846.63\" cy=\"723.802\" r=\"14\" fill=\"#009af9\" fill-rule=\"evenodd\" fill-opacity=\"1\" stroke=\"#000000\" stroke-opacity=\"1\" stroke-width=\"3.2\"/>\n",
       "<circle clip-path=\"url(#clip822)\" cx=\"1994.62\" cy=\"111.571\" r=\"14\" fill=\"#009af9\" fill-rule=\"evenodd\" fill-opacity=\"1\" stroke=\"#000000\" stroke-opacity=\"1\" stroke-width=\"3.2\"/>\n",
       "<circle clip-path=\"url(#clip822)\" cx=\"2142.61\" cy=\"724.862\" r=\"14\" fill=\"#009af9\" fill-rule=\"evenodd\" fill-opacity=\"1\" stroke=\"#000000\" stroke-opacity=\"1\" stroke-width=\"3.2\"/>\n",
       "<circle clip-path=\"url(#clip822)\" cx=\"2290.6\" cy=\"1258.6\" r=\"14\" fill=\"#009af9\" fill-rule=\"evenodd\" fill-opacity=\"1\" stroke=\"#000000\" stroke-opacity=\"1\" stroke-width=\"3.2\"/>\n",
       "<path clip-path=\"url(#clip820)\" d=\"\n",
       "M1983.1 198.898 L2279.55 198.898 L2279.55 95.2176 L1983.1 95.2176  Z\n",
       "  \" fill=\"#ffffff\" fill-rule=\"evenodd\" fill-opacity=\"1\"/>\n",
       "<polyline clip-path=\"url(#clip820)\" style=\"stroke:#000000; stroke-linecap:butt; stroke-linejoin:round; stroke-width:4; stroke-opacity:1; fill:none\" points=\"\n",
       "  1983.1,198.898 2279.55,198.898 2279.55,95.2176 1983.1,95.2176 1983.1,198.898 \n",
       "  \"/>\n",
       "<circle clip-path=\"url(#clip820)\" cx=\"2080.71\" cy=\"147.058\" r=\"23\" fill=\"#009af9\" fill-rule=\"evenodd\" fill-opacity=\"1\" stroke=\"#000000\" stroke-opacity=\"1\" stroke-width=\"5.12\"/>\n",
       "<path clip-path=\"url(#clip820)\" d=\"M2192.16 166.745 Q2190.35 171.375 2188.64 172.787 Q2186.93 174.199 2184.06 174.199 L2180.65 174.199 L2180.65 170.634 L2183.15 170.634 Q2184.91 170.634 2185.89 169.8 Q2186.86 168.967 2188.04 165.865 L2188.8 163.921 L2178.32 138.412 L2182.83 138.412 L2190.93 158.689 L2199.03 138.412 L2203.55 138.412 L2192.16 166.745 Z\" fill=\"#000000\" fill-rule=\"evenodd\" fill-opacity=\"1\" /><path clip-path=\"url(#clip820)\" d=\"M2210.84 160.402 L2218.48 160.402 L2218.48 134.037 L2210.17 135.703 L2210.17 131.444 L2218.43 129.778 L2223.11 129.778 L2223.11 160.402 L2230.75 160.402 L2230.75 164.338 L2210.84 164.338 L2210.84 160.402 Z\" fill=\"#000000\" fill-rule=\"evenodd\" fill-opacity=\"1\" /></svg>\n"
      ]
     },
     "execution_count": 248,
     "metadata": {},
     "output_type": "execute_result"
    }
   ],
   "source": [
    "scatter(x, y) # scatter chart"
   ]
  },
  {
   "cell_type": "code",
   "execution_count": 249,
   "metadata": {},
   "outputs": [
    {
     "data": {
      "image/svg+xml": [
       "<?xml version=\"1.0\" encoding=\"utf-8\"?>\n",
       "<svg xmlns=\"http://www.w3.org/2000/svg\" xmlns:xlink=\"http://www.w3.org/1999/xlink\" width=\"600\" height=\"400\" viewBox=\"0 0 2400 1600\">\n",
       "<defs>\n",
       "  <clipPath id=\"clip860\">\n",
       "    <rect x=\"0\" y=\"0\" width=\"2400\" height=\"1600\"/>\n",
       "  </clipPath>\n",
       "</defs>\n",
       "<path clip-path=\"url(#clip860)\" d=\"\n",
       "M0 1600 L2400 1600 L2400 0 L0 0  Z\n",
       "  \" fill=\"#ffffff\" fill-rule=\"evenodd\" fill-opacity=\"1\"/>\n",
       "<defs>\n",
       "  <clipPath id=\"clip861\">\n",
       "    <rect x=\"480\" y=\"0\" width=\"1681\" height=\"1600\"/>\n",
       "  </clipPath>\n",
       "</defs>\n",
       "<path clip-path=\"url(#clip860)\" d=\"\n",
       "M156.598 1486.45 L2352.76 1486.45 L2352.76 47.2441 L156.598 47.2441  Z\n",
       "  \" fill=\"#ffffff\" fill-rule=\"evenodd\" fill-opacity=\"1\"/>\n",
       "<defs>\n",
       "  <clipPath id=\"clip862\">\n",
       "    <rect x=\"156\" y=\"47\" width=\"2197\" height=\"1440\"/>\n",
       "  </clipPath>\n",
       "</defs>\n",
       "<polyline clip-path=\"url(#clip862)\" style=\"stroke:#000000; stroke-linecap:butt; stroke-linejoin:round; stroke-width:2; stroke-opacity:0.1; fill:none\" points=\"\n",
       "  198.151,1486.45 198.151,47.2441 \n",
       "  \"/>\n",
       "<polyline clip-path=\"url(#clip862)\" style=\"stroke:#000000; stroke-linecap:butt; stroke-linejoin:round; stroke-width:2; stroke-opacity:0.1; fill:none\" points=\"\n",
       "  858.48,1486.45 858.48,47.2441 \n",
       "  \"/>\n",
       "<polyline clip-path=\"url(#clip862)\" style=\"stroke:#000000; stroke-linecap:butt; stroke-linejoin:round; stroke-width:2; stroke-opacity:0.1; fill:none\" points=\"\n",
       "  1518.81,1486.45 1518.81,47.2441 \n",
       "  \"/>\n",
       "<polyline clip-path=\"url(#clip862)\" style=\"stroke:#000000; stroke-linecap:butt; stroke-linejoin:round; stroke-width:2; stroke-opacity:0.1; fill:none\" points=\"\n",
       "  2179.14,1486.45 2179.14,47.2441 \n",
       "  \"/>\n",
       "<polyline clip-path=\"url(#clip860)\" style=\"stroke:#000000; stroke-linecap:butt; stroke-linejoin:round; stroke-width:4; stroke-opacity:1; fill:none\" points=\"\n",
       "  156.598,1486.45 2352.76,1486.45 \n",
       "  \"/>\n",
       "<polyline clip-path=\"url(#clip860)\" style=\"stroke:#000000; stroke-linecap:butt; stroke-linejoin:round; stroke-width:4; stroke-opacity:1; fill:none\" points=\"\n",
       "  198.151,1486.45 198.151,1467.55 \n",
       "  \"/>\n",
       "<polyline clip-path=\"url(#clip860)\" style=\"stroke:#000000; stroke-linecap:butt; stroke-linejoin:round; stroke-width:4; stroke-opacity:1; fill:none\" points=\"\n",
       "  858.48,1486.45 858.48,1467.55 \n",
       "  \"/>\n",
       "<polyline clip-path=\"url(#clip860)\" style=\"stroke:#000000; stroke-linecap:butt; stroke-linejoin:round; stroke-width:4; stroke-opacity:1; fill:none\" points=\"\n",
       "  1518.81,1486.45 1518.81,1467.55 \n",
       "  \"/>\n",
       "<polyline clip-path=\"url(#clip860)\" style=\"stroke:#000000; stroke-linecap:butt; stroke-linejoin:round; stroke-width:4; stroke-opacity:1; fill:none\" points=\"\n",
       "  2179.14,1486.45 2179.14,1467.55 \n",
       "  \"/>\n",
       "<path clip-path=\"url(#clip860)\" d=\"M198.151 1517.37 Q194.54 1517.37 192.712 1520.93 Q190.906 1524.47 190.906 1531.6 Q190.906 1538.71 192.712 1542.27 Q194.54 1545.82 198.151 1545.82 Q201.786 1545.82 203.591 1542.27 Q205.42 1538.71 205.42 1531.6 Q205.42 1524.47 203.591 1520.93 Q201.786 1517.37 198.151 1517.37 M198.151 1513.66 Q203.962 1513.66 207.017 1518.27 Q210.096 1522.85 210.096 1531.6 Q210.096 1540.33 207.017 1544.94 Q203.962 1549.52 198.151 1549.52 Q192.341 1549.52 189.263 1544.94 Q186.207 1540.33 186.207 1531.6 Q186.207 1522.85 189.263 1518.27 Q192.341 1513.66 198.151 1513.66 Z\" fill=\"#000000\" fill-rule=\"evenodd\" fill-opacity=\"1\" /><path clip-path=\"url(#clip860)\" d=\"M848.758 1514.29 L867.114 1514.29 L867.114 1518.22 L853.04 1518.22 L853.04 1526.7 Q854.059 1526.35 855.077 1526.19 Q856.096 1526 857.114 1526 Q862.901 1526 866.281 1529.17 Q869.66 1532.34 869.66 1537.76 Q869.66 1543.34 866.188 1546.44 Q862.716 1549.52 856.397 1549.52 Q854.221 1549.52 851.952 1549.15 Q849.707 1548.78 847.299 1548.04 L847.299 1543.34 Q849.383 1544.47 851.605 1545.03 Q853.827 1545.58 856.304 1545.58 Q860.309 1545.58 862.647 1543.48 Q864.985 1541.37 864.985 1537.76 Q864.985 1534.15 862.647 1532.04 Q860.309 1529.94 856.304 1529.94 Q854.429 1529.94 852.554 1530.35 Q850.702 1530.77 848.758 1531.65 L848.758 1514.29 Z\" fill=\"#000000\" fill-rule=\"evenodd\" fill-opacity=\"1\" /><path clip-path=\"url(#clip860)\" d=\"M1493.5 1544.91 L1501.13 1544.91 L1501.13 1518.55 L1492.82 1520.21 L1492.82 1515.95 L1501.09 1514.29 L1505.76 1514.29 L1505.76 1544.91 L1513.4 1544.91 L1513.4 1548.85 L1493.5 1548.85 L1493.5 1544.91 Z\" fill=\"#000000\" fill-rule=\"evenodd\" fill-opacity=\"1\" /><path clip-path=\"url(#clip860)\" d=\"M1532.85 1517.37 Q1529.24 1517.37 1527.41 1520.93 Q1525.6 1524.47 1525.6 1531.6 Q1525.6 1538.71 1527.41 1542.27 Q1529.24 1545.82 1532.85 1545.82 Q1536.48 1545.82 1538.29 1542.27 Q1540.12 1538.71 1540.12 1531.6 Q1540.12 1524.47 1538.29 1520.93 Q1536.48 1517.37 1532.85 1517.37 M1532.85 1513.66 Q1538.66 1513.66 1541.71 1518.27 Q1544.79 1522.85 1544.79 1531.6 Q1544.79 1540.33 1541.71 1544.94 Q1538.66 1549.52 1532.85 1549.52 Q1527.04 1549.52 1523.96 1544.94 Q1520.9 1540.33 1520.9 1531.6 Q1520.9 1522.85 1523.96 1518.27 Q1527.04 1513.66 1532.85 1513.66 Z\" fill=\"#000000\" fill-rule=\"evenodd\" fill-opacity=\"1\" /><path clip-path=\"url(#clip860)\" d=\"M2154.32 1544.91 L2161.96 1544.91 L2161.96 1518.55 L2153.65 1520.21 L2153.65 1515.95 L2161.91 1514.29 L2166.59 1514.29 L2166.59 1544.91 L2174.23 1544.91 L2174.23 1548.85 L2154.32 1548.85 L2154.32 1544.91 Z\" fill=\"#000000\" fill-rule=\"evenodd\" fill-opacity=\"1\" /><path clip-path=\"url(#clip860)\" d=\"M2183.72 1514.29 L2202.08 1514.29 L2202.08 1518.22 L2188 1518.22 L2188 1526.7 Q2189.02 1526.35 2190.04 1526.19 Q2191.06 1526 2192.08 1526 Q2197.86 1526 2201.24 1529.17 Q2204.62 1532.34 2204.62 1537.76 Q2204.62 1543.34 2201.15 1546.44 Q2197.68 1549.52 2191.36 1549.52 Q2189.18 1549.52 2186.91 1549.15 Q2184.67 1548.78 2182.26 1548.04 L2182.26 1543.34 Q2184.35 1544.47 2186.57 1545.03 Q2188.79 1545.58 2191.27 1545.58 Q2195.27 1545.58 2197.61 1543.48 Q2199.95 1541.37 2199.95 1537.76 Q2199.95 1534.15 2197.61 1532.04 Q2195.27 1529.94 2191.27 1529.94 Q2189.39 1529.94 2187.52 1530.35 Q2185.66 1530.77 2183.72 1531.65 L2183.72 1514.29 Z\" fill=\"#000000\" fill-rule=\"evenodd\" fill-opacity=\"1\" /><polyline clip-path=\"url(#clip862)\" style=\"stroke:#000000; stroke-linecap:butt; stroke-linejoin:round; stroke-width:2; stroke-opacity:0.1; fill:none\" points=\"\n",
       "  156.598,1445.72 2352.76,1445.72 \n",
       "  \"/>\n",
       "<polyline clip-path=\"url(#clip862)\" style=\"stroke:#000000; stroke-linecap:butt; stroke-linejoin:round; stroke-width:2; stroke-opacity:0.1; fill:none\" points=\"\n",
       "  156.598,1154.76 2352.76,1154.76 \n",
       "  \"/>\n",
       "<polyline clip-path=\"url(#clip862)\" style=\"stroke:#000000; stroke-linecap:butt; stroke-linejoin:round; stroke-width:2; stroke-opacity:0.1; fill:none\" points=\"\n",
       "  156.598,863.803 2352.76,863.803 \n",
       "  \"/>\n",
       "<polyline clip-path=\"url(#clip862)\" style=\"stroke:#000000; stroke-linecap:butt; stroke-linejoin:round; stroke-width:2; stroke-opacity:0.1; fill:none\" points=\"\n",
       "  156.598,572.847 2352.76,572.847 \n",
       "  \"/>\n",
       "<polyline clip-path=\"url(#clip862)\" style=\"stroke:#000000; stroke-linecap:butt; stroke-linejoin:round; stroke-width:2; stroke-opacity:0.1; fill:none\" points=\"\n",
       "  156.598,281.891 2352.76,281.891 \n",
       "  \"/>\n",
       "<polyline clip-path=\"url(#clip860)\" style=\"stroke:#000000; stroke-linecap:butt; stroke-linejoin:round; stroke-width:4; stroke-opacity:1; fill:none\" points=\"\n",
       "  156.598,1486.45 156.598,47.2441 \n",
       "  \"/>\n",
       "<polyline clip-path=\"url(#clip860)\" style=\"stroke:#000000; stroke-linecap:butt; stroke-linejoin:round; stroke-width:4; stroke-opacity:1; fill:none\" points=\"\n",
       "  156.598,1445.72 175.496,1445.72 \n",
       "  \"/>\n",
       "<polyline clip-path=\"url(#clip860)\" style=\"stroke:#000000; stroke-linecap:butt; stroke-linejoin:round; stroke-width:4; stroke-opacity:1; fill:none\" points=\"\n",
       "  156.598,1154.76 175.496,1154.76 \n",
       "  \"/>\n",
       "<polyline clip-path=\"url(#clip860)\" style=\"stroke:#000000; stroke-linecap:butt; stroke-linejoin:round; stroke-width:4; stroke-opacity:1; fill:none\" points=\"\n",
       "  156.598,863.803 175.496,863.803 \n",
       "  \"/>\n",
       "<polyline clip-path=\"url(#clip860)\" style=\"stroke:#000000; stroke-linecap:butt; stroke-linejoin:round; stroke-width:4; stroke-opacity:1; fill:none\" points=\"\n",
       "  156.598,572.847 175.496,572.847 \n",
       "  \"/>\n",
       "<polyline clip-path=\"url(#clip860)\" style=\"stroke:#000000; stroke-linecap:butt; stroke-linejoin:round; stroke-width:4; stroke-opacity:1; fill:none\" points=\"\n",
       "  156.598,281.891 175.496,281.891 \n",
       "  \"/>\n",
       "<path clip-path=\"url(#clip860)\" d=\"M63.4226 1431.51 Q59.8115 1431.51 57.9828 1435.08 Q56.1773 1438.62 56.1773 1445.75 Q56.1773 1452.86 57.9828 1456.42 Q59.8115 1459.96 63.4226 1459.96 Q67.0569 1459.96 68.8624 1456.42 Q70.6911 1452.86 70.6911 1445.75 Q70.6911 1438.62 68.8624 1435.08 Q67.0569 1431.51 63.4226 1431.51 M63.4226 1427.81 Q69.2328 1427.81 72.2883 1432.42 Q75.367 1437 75.367 1445.75 Q75.367 1454.48 72.2883 1459.08 Q69.2328 1463.67 63.4226 1463.67 Q57.6125 1463.67 54.5338 1459.08 Q51.4782 1454.48 51.4782 1445.75 Q51.4782 1437 54.5338 1432.42 Q57.6125 1427.81 63.4226 1427.81 Z\" fill=\"#000000\" fill-rule=\"evenodd\" fill-opacity=\"1\" /><path clip-path=\"url(#clip860)\" d=\"M83.5845 1457.12 L88.4688 1457.12 L88.4688 1463 L83.5845 1463 L83.5845 1457.12 Z\" fill=\"#000000\" fill-rule=\"evenodd\" fill-opacity=\"1\" /><path clip-path=\"url(#clip860)\" d=\"M108.654 1431.51 Q105.043 1431.51 103.214 1435.08 Q101.409 1438.62 101.409 1445.75 Q101.409 1452.86 103.214 1456.42 Q105.043 1459.96 108.654 1459.96 Q112.288 1459.96 114.094 1456.42 Q115.922 1452.86 115.922 1445.75 Q115.922 1438.62 114.094 1435.08 Q112.288 1431.51 108.654 1431.51 M108.654 1427.81 Q114.464 1427.81 117.52 1432.42 Q120.598 1437 120.598 1445.75 Q120.598 1454.48 117.52 1459.08 Q114.464 1463.67 108.654 1463.67 Q102.844 1463.67 99.765 1459.08 Q96.7095 1454.48 96.7095 1445.75 Q96.7095 1437 99.765 1432.42 Q102.844 1427.81 108.654 1427.81 Z\" fill=\"#000000\" fill-rule=\"evenodd\" fill-opacity=\"1\" /><path clip-path=\"url(#clip860)\" d=\"M65.0198 1140.56 Q61.4087 1140.56 59.58 1144.12 Q57.7745 1147.66 57.7745 1154.79 Q57.7745 1161.9 59.58 1165.47 Q61.4087 1169.01 65.0198 1169.01 Q68.6541 1169.01 70.4596 1165.47 Q72.2883 1161.9 72.2883 1154.79 Q72.2883 1147.66 70.4596 1144.12 Q68.6541 1140.56 65.0198 1140.56 M65.0198 1136.85 Q70.83 1136.85 73.8855 1141.46 Q76.9642 1146.04 76.9642 1154.79 Q76.9642 1163.52 73.8855 1168.13 Q70.83 1172.71 65.0198 1172.71 Q59.2097 1172.71 56.131 1168.13 Q53.0754 1163.52 53.0754 1154.79 Q53.0754 1146.04 56.131 1141.46 Q59.2097 1136.85 65.0198 1136.85 Z\" fill=\"#000000\" fill-rule=\"evenodd\" fill-opacity=\"1\" /><path clip-path=\"url(#clip860)\" d=\"M85.1818 1166.16 L90.066 1166.16 L90.066 1172.04 L85.1818 1172.04 L85.1818 1166.16 Z\" fill=\"#000000\" fill-rule=\"evenodd\" fill-opacity=\"1\" /><path clip-path=\"url(#clip860)\" d=\"M104.279 1168.1 L120.598 1168.1 L120.598 1172.04 L98.6539 1172.04 L98.6539 1168.1 Q101.316 1165.35 105.899 1160.72 Q110.506 1156.07 111.686 1154.72 Q113.932 1152.2 114.811 1150.47 Q115.714 1148.71 115.714 1147.02 Q115.714 1144.26 113.77 1142.53 Q111.848 1140.79 108.746 1140.79 Q106.547 1140.79 104.094 1141.55 Q101.663 1142.32 98.8854 1143.87 L98.8854 1139.15 Q101.709 1138.01 104.163 1137.43 Q106.617 1136.85 108.654 1136.85 Q114.024 1136.85 117.219 1139.54 Q120.413 1142.22 120.413 1146.72 Q120.413 1148.85 119.603 1150.77 Q118.816 1152.66 116.709 1155.26 Q116.131 1155.93 113.029 1159.15 Q109.927 1162.34 104.279 1168.1 Z\" fill=\"#000000\" fill-rule=\"evenodd\" fill-opacity=\"1\" /><path clip-path=\"url(#clip860)\" d=\"M62.9365 849.602 Q59.3254 849.602 57.4967 853.167 Q55.6912 856.709 55.6912 863.838 Q55.6912 870.945 57.4967 874.509 Q59.3254 878.051 62.9365 878.051 Q66.5707 878.051 68.3763 874.509 Q70.205 870.945 70.205 863.838 Q70.205 856.709 68.3763 853.167 Q66.5707 849.602 62.9365 849.602 M62.9365 845.898 Q68.7467 845.898 71.8022 850.505 Q74.8809 855.088 74.8809 863.838 Q74.8809 872.565 71.8022 877.171 Q68.7467 881.755 62.9365 881.755 Q57.1264 881.755 54.0477 877.171 Q50.9921 872.565 50.9921 863.838 Q50.9921 855.088 54.0477 850.505 Q57.1264 845.898 62.9365 845.898 Z\" fill=\"#000000\" fill-rule=\"evenodd\" fill-opacity=\"1\" /><path clip-path=\"url(#clip860)\" d=\"M83.0984 875.204 L87.9827 875.204 L87.9827 881.083 L83.0984 881.083 L83.0984 875.204 Z\" fill=\"#000000\" fill-rule=\"evenodd\" fill-opacity=\"1\" /><path clip-path=\"url(#clip860)\" d=\"M111.015 850.597 L99.2095 869.046 L111.015 869.046 L111.015 850.597 M109.788 846.523 L115.668 846.523 L115.668 869.046 L120.598 869.046 L120.598 872.935 L115.668 872.935 L115.668 881.083 L111.015 881.083 L111.015 872.935 L95.4132 872.935 L95.4132 868.421 L109.788 846.523 Z\" fill=\"#000000\" fill-rule=\"evenodd\" fill-opacity=\"1\" /><path clip-path=\"url(#clip860)\" d=\"M63.2606 558.646 Q59.6495 558.646 57.8208 562.211 Q56.0152 565.752 56.0152 572.882 Q56.0152 579.988 57.8208 583.553 Q59.6495 587.095 63.2606 587.095 Q66.8948 587.095 68.7004 583.553 Q70.5291 579.988 70.5291 572.882 Q70.5291 565.752 68.7004 562.211 Q66.8948 558.646 63.2606 558.646 M63.2606 554.942 Q69.0707 554.942 72.1263 559.549 Q75.205 564.132 75.205 572.882 Q75.205 581.609 72.1263 586.215 Q69.0707 590.799 63.2606 590.799 Q57.4504 590.799 54.3717 586.215 Q51.3162 581.609 51.3162 572.882 Q51.3162 564.132 54.3717 559.549 Q57.4504 554.942 63.2606 554.942 Z\" fill=\"#000000\" fill-rule=\"evenodd\" fill-opacity=\"1\" /><path clip-path=\"url(#clip860)\" d=\"M83.4225 584.248 L88.3067 584.248 L88.3067 590.127 L83.4225 590.127 L83.4225 584.248 Z\" fill=\"#000000\" fill-rule=\"evenodd\" fill-opacity=\"1\" /><path clip-path=\"url(#clip860)\" d=\"M109.071 570.984 Q105.922 570.984 104.071 573.137 Q102.242 575.289 102.242 579.039 Q102.242 582.766 104.071 584.942 Q105.922 587.095 109.071 587.095 Q112.219 587.095 114.047 584.942 Q115.899 582.766 115.899 579.039 Q115.899 575.289 114.047 573.137 Q112.219 570.984 109.071 570.984 M118.353 556.331 L118.353 560.59 Q116.594 559.757 114.788 559.317 Q113.006 558.877 111.246 558.877 Q106.617 558.877 104.163 562.002 Q101.733 565.127 101.385 571.447 Q102.751 569.433 104.811 568.368 Q106.871 567.28 109.348 567.28 Q114.557 567.28 117.566 570.451 Q120.598 573.6 120.598 579.039 Q120.598 584.363 117.45 587.581 Q114.302 590.799 109.071 590.799 Q103.075 590.799 99.9039 586.215 Q96.7326 581.609 96.7326 572.882 Q96.7326 564.688 100.621 559.827 Q104.51 554.942 111.061 554.942 Q112.82 554.942 114.603 555.289 Q116.408 555.637 118.353 556.331 Z\" fill=\"#000000\" fill-rule=\"evenodd\" fill-opacity=\"1\" /><path clip-path=\"url(#clip860)\" d=\"M63.5152 267.69 Q59.9041 267.69 58.0754 271.255 Q56.2699 274.796 56.2699 281.926 Q56.2699 289.032 58.0754 292.597 Q59.9041 296.139 63.5152 296.139 Q67.1494 296.139 68.955 292.597 Q70.7837 289.032 70.7837 281.926 Q70.7837 274.796 68.955 271.255 Q67.1494 267.69 63.5152 267.69 M63.5152 263.986 Q69.3254 263.986 72.3809 268.593 Q75.4596 273.176 75.4596 281.926 Q75.4596 290.653 72.3809 295.259 Q69.3254 299.842 63.5152 299.842 Q57.7051 299.842 54.6264 295.259 Q51.5708 290.653 51.5708 281.926 Q51.5708 273.176 54.6264 268.593 Q57.7051 263.986 63.5152 263.986 Z\" fill=\"#000000\" fill-rule=\"evenodd\" fill-opacity=\"1\" /><path clip-path=\"url(#clip860)\" d=\"M83.6771 293.292 L88.5614 293.292 L88.5614 299.171 L83.6771 299.171 L83.6771 293.292 Z\" fill=\"#000000\" fill-rule=\"evenodd\" fill-opacity=\"1\" /><path clip-path=\"url(#clip860)\" d=\"M108.746 282.759 Q105.413 282.759 103.492 284.542 Q101.594 286.324 101.594 289.449 Q101.594 292.574 103.492 294.356 Q105.413 296.139 108.746 296.139 Q112.08 296.139 114.001 294.356 Q115.922 292.551 115.922 289.449 Q115.922 286.324 114.001 284.542 Q112.103 282.759 108.746 282.759 M104.071 280.768 Q101.061 280.028 99.3715 277.968 Q97.7048 275.907 97.7048 272.944 Q97.7048 268.801 100.645 266.394 Q103.608 263.986 108.746 263.986 Q113.908 263.986 116.848 266.394 Q119.788 268.801 119.788 272.944 Q119.788 275.907 118.098 277.968 Q116.432 280.028 113.445 280.768 Q116.825 281.555 118.7 283.847 Q120.598 286.139 120.598 289.449 Q120.598 294.472 117.52 297.157 Q114.464 299.842 108.746 299.842 Q103.029 299.842 99.9502 297.157 Q96.8947 294.472 96.8947 289.449 Q96.8947 286.139 98.7928 283.847 Q100.691 281.555 104.071 280.768 M102.358 273.384 Q102.358 276.069 104.024 277.574 Q105.714 279.079 108.746 279.079 Q111.756 279.079 113.445 277.574 Q115.158 276.069 115.158 273.384 Q115.158 270.699 113.445 269.194 Q111.756 267.69 108.746 267.69 Q105.714 267.69 104.024 269.194 Q102.358 270.699 102.358 273.384 Z\" fill=\"#000000\" fill-rule=\"evenodd\" fill-opacity=\"1\" /><path clip-path=\"url(#clip862)\" d=\"\n",
       "M277.391 715.996 L277.391 1445.72 L383.043 1445.72 L383.043 715.996 L277.391 715.996 L277.391 715.996  Z\n",
       "  \" fill=\"#009af9\" fill-rule=\"evenodd\" fill-opacity=\"1\"/>\n",
       "<polyline clip-path=\"url(#clip862)\" style=\"stroke:#000000; stroke-linecap:butt; stroke-linejoin:round; stroke-width:4; stroke-opacity:1; fill:none\" points=\"\n",
       "  277.391,715.996 277.391,1445.72 383.043,1445.72 383.043,715.996 277.391,715.996 \n",
       "  \"/>\n",
       "<path clip-path=\"url(#clip862)\" d=\"\n",
       "M409.457 668.136 L409.457 1445.72 L515.109 1445.72 L515.109 668.136 L409.457 668.136 L409.457 668.136  Z\n",
       "  \" fill=\"#009af9\" fill-rule=\"evenodd\" fill-opacity=\"1\"/>\n",
       "<polyline clip-path=\"url(#clip862)\" style=\"stroke:#000000; stroke-linecap:butt; stroke-linejoin:round; stroke-width:4; stroke-opacity:1; fill:none\" points=\"\n",
       "  409.457,668.136 409.457,1445.72 515.109,1445.72 515.109,668.136 409.457,668.136 \n",
       "  \"/>\n",
       "<path clip-path=\"url(#clip862)\" d=\"\n",
       "M541.522 1418.52 L541.522 1445.72 L647.175 1445.72 L647.175 1418.52 L541.522 1418.52 L541.522 1418.52  Z\n",
       "  \" fill=\"#009af9\" fill-rule=\"evenodd\" fill-opacity=\"1\"/>\n",
       "<polyline clip-path=\"url(#clip862)\" style=\"stroke:#000000; stroke-linecap:butt; stroke-linejoin:round; stroke-width:4; stroke-opacity:1; fill:none\" points=\"\n",
       "  541.522,1418.52 541.522,1445.72 647.175,1445.72 647.175,1418.52 541.522,1418.52 \n",
       "  \"/>\n",
       "<path clip-path=\"url(#clip862)\" d=\"\n",
       "M673.588 970.726 L673.588 1445.72 L779.241 1445.72 L779.241 970.726 L673.588 970.726 L673.588 970.726  Z\n",
       "  \" fill=\"#009af9\" fill-rule=\"evenodd\" fill-opacity=\"1\"/>\n",
       "<polyline clip-path=\"url(#clip862)\" style=\"stroke:#000000; stroke-linecap:butt; stroke-linejoin:round; stroke-width:4; stroke-opacity:1; fill:none\" points=\"\n",
       "  673.588,970.726 673.588,1445.72 779.241,1445.72 779.241,970.726 673.588,970.726 \n",
       "  \"/>\n",
       "<path clip-path=\"url(#clip862)\" d=\"\n",
       "M805.654 176.257 L805.654 1445.72 L911.306 1445.72 L911.306 176.257 L805.654 176.257 L805.654 176.257  Z\n",
       "  \" fill=\"#009af9\" fill-rule=\"evenodd\" fill-opacity=\"1\"/>\n",
       "<polyline clip-path=\"url(#clip862)\" style=\"stroke:#000000; stroke-linecap:butt; stroke-linejoin:round; stroke-width:4; stroke-opacity:1; fill:none\" points=\"\n",
       "  805.654,176.257 805.654,1445.72 911.306,1445.72 911.306,176.257 805.654,176.257 \n",
       "  \"/>\n",
       "<path clip-path=\"url(#clip862)\" d=\"\n",
       "M937.719 805.346 L937.719 1445.72 L1043.37 1445.72 L1043.37 805.346 L937.719 805.346 L937.719 805.346  Z\n",
       "  \" fill=\"#009af9\" fill-rule=\"evenodd\" fill-opacity=\"1\"/>\n",
       "<polyline clip-path=\"url(#clip862)\" style=\"stroke:#000000; stroke-linecap:butt; stroke-linejoin:round; stroke-width:4; stroke-opacity:1; fill:none\" points=\"\n",
       "  937.719,805.346 937.719,1445.72 1043.37,1445.72 1043.37,805.346 937.719,805.346 \n",
       "  \"/>\n",
       "<path clip-path=\"url(#clip862)\" d=\"\n",
       "M1069.79 1268 L1069.79 1445.72 L1175.44 1445.72 L1175.44 1268 L1069.79 1268 L1069.79 1268  Z\n",
       "  \" fill=\"#009af9\" fill-rule=\"evenodd\" fill-opacity=\"1\"/>\n",
       "<polyline clip-path=\"url(#clip862)\" style=\"stroke:#000000; stroke-linecap:butt; stroke-linejoin:round; stroke-width:4; stroke-opacity:1; fill:none\" points=\"\n",
       "  1069.79,1268 1069.79,1445.72 1175.44,1445.72 1175.44,1268 1069.79,1268 \n",
       "  \"/>\n",
       "<path clip-path=\"url(#clip862)\" d=\"\n",
       "M1201.85 421.64 L1201.85 1445.72 L1307.5 1445.72 L1307.5 421.64 L1201.85 421.64 L1201.85 421.64  Z\n",
       "  \" fill=\"#009af9\" fill-rule=\"evenodd\" fill-opacity=\"1\"/>\n",
       "<polyline clip-path=\"url(#clip862)\" style=\"stroke:#000000; stroke-linecap:butt; stroke-linejoin:round; stroke-width:4; stroke-opacity:1; fill:none\" points=\"\n",
       "  1201.85,421.64 1201.85,1445.72 1307.5,1445.72 1307.5,421.64 1201.85,421.64 \n",
       "  \"/>\n",
       "<path clip-path=\"url(#clip862)\" d=\"\n",
       "M1333.92 87.9763 L1333.92 1445.72 L1439.57 1445.72 L1439.57 87.9763 L1333.92 87.9763 L1333.92 87.9763  Z\n",
       "  \" fill=\"#009af9\" fill-rule=\"evenodd\" fill-opacity=\"1\"/>\n",
       "<polyline clip-path=\"url(#clip862)\" style=\"stroke:#000000; stroke-linecap:butt; stroke-linejoin:round; stroke-width:4; stroke-opacity:1; fill:none\" points=\"\n",
       "  1333.92,87.9763 1333.92,1445.72 1439.57,1445.72 1439.57,87.9763 1333.92,87.9763 \n",
       "  \"/>\n",
       "<path clip-path=\"url(#clip862)\" d=\"\n",
       "M1465.98 947.94 L1465.98 1445.72 L1571.63 1445.72 L1571.63 947.94 L1465.98 947.94 L1465.98 947.94  Z\n",
       "  \" fill=\"#009af9\" fill-rule=\"evenodd\" fill-opacity=\"1\"/>\n",
       "<polyline clip-path=\"url(#clip862)\" style=\"stroke:#000000; stroke-linecap:butt; stroke-linejoin:round; stroke-width:4; stroke-opacity:1; fill:none\" points=\"\n",
       "  1465.98,947.94 1465.98,1445.72 1571.63,1445.72 1571.63,947.94 1465.98,947.94 \n",
       "  \"/>\n",
       "<path clip-path=\"url(#clip862)\" d=\"\n",
       "M1598.05 1301.93 L1598.05 1445.72 L1703.7 1445.72 L1703.7 1301.93 L1598.05 1301.93 L1598.05 1301.93  Z\n",
       "  \" fill=\"#009af9\" fill-rule=\"evenodd\" fill-opacity=\"1\"/>\n",
       "<polyline clip-path=\"url(#clip862)\" style=\"stroke:#000000; stroke-linecap:butt; stroke-linejoin:round; stroke-width:4; stroke-opacity:1; fill:none\" points=\"\n",
       "  1598.05,1301.93 1598.05,1445.72 1703.7,1445.72 1703.7,1301.93 1598.05,1301.93 \n",
       "  \"/>\n",
       "<path clip-path=\"url(#clip862)\" d=\"\n",
       "M1730.11 711.067 L1730.11 1445.72 L1835.77 1445.72 L1835.77 711.067 L1730.11 711.067 L1730.11 711.067  Z\n",
       "  \" fill=\"#009af9\" fill-rule=\"evenodd\" fill-opacity=\"1\"/>\n",
       "<polyline clip-path=\"url(#clip862)\" style=\"stroke:#000000; stroke-linecap:butt; stroke-linejoin:round; stroke-width:4; stroke-opacity:1; fill:none\" points=\"\n",
       "  1730.11,711.067 1730.11,1445.72 1835.77,1445.72 1835.77,711.067 1730.11,711.067 \n",
       "  \"/>\n",
       "<path clip-path=\"url(#clip862)\" d=\"\n",
       "M1862.18 111.098 L1862.18 1445.72 L1967.83 1445.72 L1967.83 111.098 L1862.18 111.098 L1862.18 111.098  Z\n",
       "  \" fill=\"#009af9\" fill-rule=\"evenodd\" fill-opacity=\"1\"/>\n",
       "<polyline clip-path=\"url(#clip862)\" style=\"stroke:#000000; stroke-linecap:butt; stroke-linejoin:round; stroke-width:4; stroke-opacity:1; fill:none\" points=\"\n",
       "  1862.18,111.098 1862.18,1445.72 1967.83,1445.72 1967.83,111.098 1862.18,111.098 \n",
       "  \"/>\n",
       "<path clip-path=\"url(#clip862)\" d=\"\n",
       "M1994.25 712.106 L1994.25 1445.72 L2099.9 1445.72 L2099.9 712.106 L1994.25 712.106 L1994.25 712.106  Z\n",
       "  \" fill=\"#009af9\" fill-rule=\"evenodd\" fill-opacity=\"1\"/>\n",
       "<polyline clip-path=\"url(#clip862)\" style=\"stroke:#000000; stroke-linecap:butt; stroke-linejoin:round; stroke-width:4; stroke-opacity:1; fill:none\" points=\"\n",
       "  1994.25,712.106 1994.25,1445.72 2099.9,1445.72 2099.9,712.106 1994.25,712.106 \n",
       "  \"/>\n",
       "<path clip-path=\"url(#clip862)\" d=\"\n",
       "M2126.31 1235.15 L2126.31 1445.72 L2231.96 1445.72 L2231.96 1235.15 L2126.31 1235.15 L2126.31 1235.15  Z\n",
       "  \" fill=\"#009af9\" fill-rule=\"evenodd\" fill-opacity=\"1\"/>\n",
       "<polyline clip-path=\"url(#clip862)\" style=\"stroke:#000000; stroke-linecap:butt; stroke-linejoin:round; stroke-width:4; stroke-opacity:1; fill:none\" points=\"\n",
       "  2126.31,1235.15 2126.31,1445.72 2231.96,1445.72 2231.96,1235.15 2126.31,1235.15 \n",
       "  \"/>\n",
       "<circle clip-path=\"url(#clip862)\" style=\"fill:#009af9; stroke:none; fill-opacity:0\" cx=\"330.217\" cy=\"715.996\" r=\"2\"/>\n",
       "<circle clip-path=\"url(#clip862)\" style=\"fill:#009af9; stroke:none; fill-opacity:0\" cx=\"462.283\" cy=\"668.136\" r=\"2\"/>\n",
       "<circle clip-path=\"url(#clip862)\" style=\"fill:#009af9; stroke:none; fill-opacity:0\" cx=\"594.349\" cy=\"1418.52\" r=\"2\"/>\n",
       "<circle clip-path=\"url(#clip862)\" style=\"fill:#009af9; stroke:none; fill-opacity:0\" cx=\"726.414\" cy=\"970.726\" r=\"2\"/>\n",
       "<circle clip-path=\"url(#clip862)\" style=\"fill:#009af9; stroke:none; fill-opacity:0\" cx=\"858.48\" cy=\"176.257\" r=\"2\"/>\n",
       "<circle clip-path=\"url(#clip862)\" style=\"fill:#009af9; stroke:none; fill-opacity:0\" cx=\"990.546\" cy=\"805.346\" r=\"2\"/>\n",
       "<circle clip-path=\"url(#clip862)\" style=\"fill:#009af9; stroke:none; fill-opacity:0\" cx=\"1122.61\" cy=\"1268\" r=\"2\"/>\n",
       "<circle clip-path=\"url(#clip862)\" style=\"fill:#009af9; stroke:none; fill-opacity:0\" cx=\"1254.68\" cy=\"421.64\" r=\"2\"/>\n",
       "<circle clip-path=\"url(#clip862)\" style=\"fill:#009af9; stroke:none; fill-opacity:0\" cx=\"1386.74\" cy=\"87.9763\" r=\"2\"/>\n",
       "<circle clip-path=\"url(#clip862)\" style=\"fill:#009af9; stroke:none; fill-opacity:0\" cx=\"1518.81\" cy=\"947.94\" r=\"2\"/>\n",
       "<circle clip-path=\"url(#clip862)\" style=\"fill:#009af9; stroke:none; fill-opacity:0\" cx=\"1650.87\" cy=\"1301.93\" r=\"2\"/>\n",
       "<circle clip-path=\"url(#clip862)\" style=\"fill:#009af9; stroke:none; fill-opacity:0\" cx=\"1782.94\" cy=\"711.067\" r=\"2\"/>\n",
       "<circle clip-path=\"url(#clip862)\" style=\"fill:#009af9; stroke:none; fill-opacity:0\" cx=\"1915.01\" cy=\"111.098\" r=\"2\"/>\n",
       "<circle clip-path=\"url(#clip862)\" style=\"fill:#009af9; stroke:none; fill-opacity:0\" cx=\"2047.07\" cy=\"712.106\" r=\"2\"/>\n",
       "<circle clip-path=\"url(#clip862)\" style=\"fill:#009af9; stroke:none; fill-opacity:0\" cx=\"2179.14\" cy=\"1235.15\" r=\"2\"/>\n",
       "<path clip-path=\"url(#clip860)\" d=\"\n",
       "M1983.1 198.898 L2279.55 198.898 L2279.55 95.2176 L1983.1 95.2176  Z\n",
       "  \" fill=\"#ffffff\" fill-rule=\"evenodd\" fill-opacity=\"1\"/>\n",
       "<polyline clip-path=\"url(#clip860)\" style=\"stroke:#000000; stroke-linecap:butt; stroke-linejoin:round; stroke-width:4; stroke-opacity:1; fill:none\" points=\"\n",
       "  1983.1,198.898 2279.55,198.898 2279.55,95.2176 1983.1,95.2176 1983.1,198.898 \n",
       "  \"/>\n",
       "<path clip-path=\"url(#clip860)\" d=\"\n",
       "M2007.5 167.794 L2153.92 167.794 L2153.92 126.322 L2007.5 126.322 L2007.5 167.794  Z\n",
       "  \" fill=\"#009af9\" fill-rule=\"evenodd\" fill-opacity=\"1\"/>\n",
       "<polyline clip-path=\"url(#clip860)\" style=\"stroke:#000000; stroke-linecap:butt; stroke-linejoin:round; stroke-width:4; stroke-opacity:1; fill:none\" points=\"\n",
       "  2007.5,167.794 2153.92,167.794 2153.92,126.322 2007.5,126.322 2007.5,167.794 \n",
       "  \"/>\n",
       "<path clip-path=\"url(#clip860)\" d=\"M2192.16 166.745 Q2190.35 171.375 2188.64 172.787 Q2186.93 174.199 2184.06 174.199 L2180.65 174.199 L2180.65 170.634 L2183.15 170.634 Q2184.91 170.634 2185.89 169.8 Q2186.86 168.967 2188.04 165.865 L2188.8 163.921 L2178.32 138.412 L2182.83 138.412 L2190.93 158.689 L2199.03 138.412 L2203.55 138.412 L2192.16 166.745 Z\" fill=\"#000000\" fill-rule=\"evenodd\" fill-opacity=\"1\" /><path clip-path=\"url(#clip860)\" d=\"M2210.84 160.402 L2218.48 160.402 L2218.48 134.037 L2210.17 135.703 L2210.17 131.444 L2218.43 129.778 L2223.11 129.778 L2223.11 160.402 L2230.75 160.402 L2230.75 164.338 L2210.84 164.338 L2210.84 160.402 Z\" fill=\"#000000\" fill-rule=\"evenodd\" fill-opacity=\"1\" /></svg>\n"
      ]
     },
     "execution_count": 249,
     "metadata": {},
     "output_type": "execute_result"
    }
   ],
   "source": [
    "bar(x, y) #bar chart"
   ]
  },
  {
   "cell_type": "code",
   "execution_count": 250,
   "metadata": {},
   "outputs": [
    {
     "data": {
      "image/svg+xml": [
       "<?xml version=\"1.0\" encoding=\"utf-8\"?>\n",
       "<svg xmlns=\"http://www.w3.org/2000/svg\" xmlns:xlink=\"http://www.w3.org/1999/xlink\" width=\"600\" height=\"400\" viewBox=\"0 0 2400 1600\">\n",
       "<defs>\n",
       "  <clipPath id=\"clip900\">\n",
       "    <rect x=\"0\" y=\"0\" width=\"2400\" height=\"1600\"/>\n",
       "  </clipPath>\n",
       "</defs>\n",
       "<path clip-path=\"url(#clip900)\" d=\"\n",
       "M0 1600 L2400 1600 L2400 0 L0 0  Z\n",
       "  \" fill=\"#ffffff\" fill-rule=\"evenodd\" fill-opacity=\"1\"/>\n",
       "<defs>\n",
       "  <clipPath id=\"clip901\">\n",
       "    <rect x=\"480\" y=\"0\" width=\"1681\" height=\"1600\"/>\n",
       "  </clipPath>\n",
       "</defs>\n",
       "<path clip-path=\"url(#clip900)\" d=\"\n",
       "M112.177 1486.45 L2352.76 1486.45 L2352.76 47.2441 L112.177 47.2441  Z\n",
       "  \" fill=\"#ffffff\" fill-rule=\"evenodd\" fill-opacity=\"1\"/>\n",
       "<defs>\n",
       "  <clipPath id=\"clip902\">\n",
       "    <rect x=\"112\" y=\"47\" width=\"2242\" height=\"1440\"/>\n",
       "  </clipPath>\n",
       "</defs>\n",
       "<polyline clip-path=\"url(#clip902)\" style=\"stroke:#000000; stroke-linecap:butt; stroke-linejoin:round; stroke-width:2; stroke-opacity:0.1; fill:none\" points=\"\n",
       "  235.413,1486.45 235.413,47.2441 \n",
       "  \"/>\n",
       "<polyline clip-path=\"url(#clip902)\" style=\"stroke:#000000; stroke-linecap:butt; stroke-linejoin:round; stroke-width:2; stroke-opacity:0.1; fill:none\" points=\"\n",
       "  733.94,1486.45 733.94,47.2441 \n",
       "  \"/>\n",
       "<polyline clip-path=\"url(#clip902)\" style=\"stroke:#000000; stroke-linecap:butt; stroke-linejoin:round; stroke-width:2; stroke-opacity:0.1; fill:none\" points=\"\n",
       "  1232.47,1486.45 1232.47,47.2441 \n",
       "  \"/>\n",
       "<polyline clip-path=\"url(#clip902)\" style=\"stroke:#000000; stroke-linecap:butt; stroke-linejoin:round; stroke-width:2; stroke-opacity:0.1; fill:none\" points=\"\n",
       "  1730.99,1486.45 1730.99,47.2441 \n",
       "  \"/>\n",
       "<polyline clip-path=\"url(#clip902)\" style=\"stroke:#000000; stroke-linecap:butt; stroke-linejoin:round; stroke-width:2; stroke-opacity:0.1; fill:none\" points=\"\n",
       "  2229.52,1486.45 2229.52,47.2441 \n",
       "  \"/>\n",
       "<polyline clip-path=\"url(#clip900)\" style=\"stroke:#000000; stroke-linecap:butt; stroke-linejoin:round; stroke-width:4; stroke-opacity:1; fill:none\" points=\"\n",
       "  112.177,1486.45 2352.76,1486.45 \n",
       "  \"/>\n",
       "<polyline clip-path=\"url(#clip900)\" style=\"stroke:#000000; stroke-linecap:butt; stroke-linejoin:round; stroke-width:4; stroke-opacity:1; fill:none\" points=\"\n",
       "  235.413,1486.45 235.413,1467.55 \n",
       "  \"/>\n",
       "<polyline clip-path=\"url(#clip900)\" style=\"stroke:#000000; stroke-linecap:butt; stroke-linejoin:round; stroke-width:4; stroke-opacity:1; fill:none\" points=\"\n",
       "  733.94,1486.45 733.94,1467.55 \n",
       "  \"/>\n",
       "<polyline clip-path=\"url(#clip900)\" style=\"stroke:#000000; stroke-linecap:butt; stroke-linejoin:round; stroke-width:4; stroke-opacity:1; fill:none\" points=\"\n",
       "  1232.47,1486.45 1232.47,1467.55 \n",
       "  \"/>\n",
       "<polyline clip-path=\"url(#clip900)\" style=\"stroke:#000000; stroke-linecap:butt; stroke-linejoin:round; stroke-width:4; stroke-opacity:1; fill:none\" points=\"\n",
       "  1730.99,1486.45 1730.99,1467.55 \n",
       "  \"/>\n",
       "<polyline clip-path=\"url(#clip900)\" style=\"stroke:#000000; stroke-linecap:butt; stroke-linejoin:round; stroke-width:4; stroke-opacity:1; fill:none\" points=\"\n",
       "  2229.52,1486.45 2229.52,1467.55 \n",
       "  \"/>\n",
       "<path clip-path=\"url(#clip900)\" d=\"M197.716 1517.37 Q194.105 1517.37 192.277 1520.93 Q190.471 1524.47 190.471 1531.6 Q190.471 1538.71 192.277 1542.27 Q194.105 1545.82 197.716 1545.82 Q201.351 1545.82 203.156 1542.27 Q204.985 1538.71 204.985 1531.6 Q204.985 1524.47 203.156 1520.93 Q201.351 1517.37 197.716 1517.37 M197.716 1513.66 Q203.527 1513.66 206.582 1518.27 Q209.661 1522.85 209.661 1531.6 Q209.661 1540.33 206.582 1544.94 Q203.527 1549.52 197.716 1549.52 Q191.906 1549.52 188.828 1544.94 Q185.772 1540.33 185.772 1531.6 Q185.772 1522.85 188.828 1518.27 Q191.906 1513.66 197.716 1513.66 Z\" fill=\"#000000\" fill-rule=\"evenodd\" fill-opacity=\"1\" /><path clip-path=\"url(#clip900)\" d=\"M217.878 1542.97 L222.763 1542.97 L222.763 1548.85 L217.878 1548.85 L217.878 1542.97 Z\" fill=\"#000000\" fill-rule=\"evenodd\" fill-opacity=\"1\" /><path clip-path=\"url(#clip900)\" d=\"M242.948 1517.37 Q239.337 1517.37 237.508 1520.93 Q235.702 1524.47 235.702 1531.6 Q235.702 1538.71 237.508 1542.27 Q239.337 1545.82 242.948 1545.82 Q246.582 1545.82 248.387 1542.27 Q250.216 1538.71 250.216 1531.6 Q250.216 1524.47 248.387 1520.93 Q246.582 1517.37 242.948 1517.37 M242.948 1513.66 Q248.758 1513.66 251.813 1518.27 Q254.892 1522.85 254.892 1531.6 Q254.892 1540.33 251.813 1544.94 Q248.758 1549.52 242.948 1549.52 Q237.138 1549.52 234.059 1544.94 Q231.003 1540.33 231.003 1531.6 Q231.003 1522.85 234.059 1518.27 Q237.138 1513.66 242.948 1513.66 Z\" fill=\"#000000\" fill-rule=\"evenodd\" fill-opacity=\"1\" /><path clip-path=\"url(#clip900)\" d=\"M273.11 1517.37 Q269.498 1517.37 267.67 1520.93 Q265.864 1524.47 265.864 1531.6 Q265.864 1538.71 267.67 1542.27 Q269.498 1545.82 273.11 1545.82 Q276.744 1545.82 278.549 1542.27 Q280.378 1538.71 280.378 1531.6 Q280.378 1524.47 278.549 1520.93 Q276.744 1517.37 273.11 1517.37 M273.11 1513.66 Q278.92 1513.66 281.975 1518.27 Q285.054 1522.85 285.054 1531.6 Q285.054 1540.33 281.975 1544.94 Q278.92 1549.52 273.11 1549.52 Q267.299 1549.52 264.221 1544.94 Q261.165 1540.33 261.165 1531.6 Q261.165 1522.85 264.221 1518.27 Q267.299 1513.66 273.11 1513.66 Z\" fill=\"#000000\" fill-rule=\"evenodd\" fill-opacity=\"1\" /><path clip-path=\"url(#clip900)\" d=\"M696.741 1517.37 Q693.13 1517.37 691.301 1520.93 Q689.496 1524.47 689.496 1531.6 Q689.496 1538.71 691.301 1542.27 Q693.13 1545.82 696.741 1545.82 Q700.375 1545.82 702.181 1542.27 Q704.009 1538.71 704.009 1531.6 Q704.009 1524.47 702.181 1520.93 Q700.375 1517.37 696.741 1517.37 M696.741 1513.66 Q702.551 1513.66 705.607 1518.27 Q708.685 1522.85 708.685 1531.6 Q708.685 1540.33 705.607 1544.94 Q702.551 1549.52 696.741 1549.52 Q690.931 1549.52 687.852 1544.94 Q684.797 1540.33 684.797 1531.6 Q684.797 1522.85 687.852 1518.27 Q690.931 1513.66 696.741 1513.66 Z\" fill=\"#000000\" fill-rule=\"evenodd\" fill-opacity=\"1\" /><path clip-path=\"url(#clip900)\" d=\"M716.903 1542.97 L721.787 1542.97 L721.787 1548.85 L716.903 1548.85 L716.903 1542.97 Z\" fill=\"#000000\" fill-rule=\"evenodd\" fill-opacity=\"1\" /><path clip-path=\"url(#clip900)\" d=\"M736 1544.91 L752.319 1544.91 L752.319 1548.85 L730.375 1548.85 L730.375 1544.91 Q733.037 1542.16 737.62 1537.53 Q742.227 1532.88 743.407 1531.53 Q745.653 1529.01 746.532 1527.27 Q747.435 1525.51 747.435 1523.82 Q747.435 1521.07 745.491 1519.33 Q743.569 1517.6 740.468 1517.6 Q738.268 1517.6 735.815 1518.36 Q733.384 1519.13 730.606 1520.68 L730.606 1515.95 Q733.431 1514.82 735.884 1514.24 Q738.338 1513.66 740.375 1513.66 Q745.745 1513.66 748.94 1516.35 Q752.134 1519.03 752.134 1523.52 Q752.134 1525.65 751.324 1527.57 Q750.537 1529.47 748.43 1532.07 Q747.852 1532.74 744.75 1535.95 Q741.648 1539.15 736 1544.91 Z\" fill=\"#000000\" fill-rule=\"evenodd\" fill-opacity=\"1\" /><path clip-path=\"url(#clip900)\" d=\"M762.18 1514.29 L780.537 1514.29 L780.537 1518.22 L766.463 1518.22 L766.463 1526.7 Q767.481 1526.35 768.5 1526.19 Q769.518 1526 770.537 1526 Q776.324 1526 779.703 1529.17 Q783.083 1532.34 783.083 1537.76 Q783.083 1543.34 779.611 1546.44 Q776.139 1549.52 769.819 1549.52 Q767.643 1549.52 765.375 1549.15 Q763.129 1548.78 760.722 1548.04 L760.722 1543.34 Q762.805 1544.47 765.028 1545.03 Q767.25 1545.58 769.727 1545.58 Q773.731 1545.58 776.069 1543.48 Q778.407 1541.37 778.407 1537.76 Q778.407 1534.15 776.069 1532.04 Q773.731 1529.94 769.727 1529.94 Q767.852 1529.94 765.977 1530.35 Q764.125 1530.77 762.18 1531.65 L762.18 1514.29 Z\" fill=\"#000000\" fill-rule=\"evenodd\" fill-opacity=\"1\" /><path clip-path=\"url(#clip900)\" d=\"M1194.77 1517.37 Q1191.16 1517.37 1189.33 1520.93 Q1187.52 1524.47 1187.52 1531.6 Q1187.52 1538.71 1189.33 1542.27 Q1191.16 1545.82 1194.77 1545.82 Q1198.4 1545.82 1200.21 1542.27 Q1202.04 1538.71 1202.04 1531.6 Q1202.04 1524.47 1200.21 1520.93 Q1198.4 1517.37 1194.77 1517.37 M1194.77 1513.66 Q1200.58 1513.66 1203.64 1518.27 Q1206.71 1522.85 1206.71 1531.6 Q1206.71 1540.33 1203.64 1544.94 Q1200.58 1549.52 1194.77 1549.52 Q1188.96 1549.52 1185.88 1544.94 Q1182.83 1540.33 1182.83 1531.6 Q1182.83 1522.85 1185.88 1518.27 Q1188.96 1513.66 1194.77 1513.66 Z\" fill=\"#000000\" fill-rule=\"evenodd\" fill-opacity=\"1\" /><path clip-path=\"url(#clip900)\" d=\"M1214.93 1542.97 L1219.82 1542.97 L1219.82 1548.85 L1214.93 1548.85 L1214.93 1542.97 Z\" fill=\"#000000\" fill-rule=\"evenodd\" fill-opacity=\"1\" /><path clip-path=\"url(#clip900)\" d=\"M1230.05 1514.29 L1248.4 1514.29 L1248.4 1518.22 L1234.33 1518.22 L1234.33 1526.7 Q1235.35 1526.35 1236.37 1526.19 Q1237.39 1526 1238.4 1526 Q1244.19 1526 1247.57 1529.17 Q1250.95 1532.34 1250.95 1537.76 Q1250.95 1543.34 1247.48 1546.44 Q1244.01 1549.52 1237.69 1549.52 Q1235.51 1549.52 1233.24 1549.15 Q1231 1548.78 1228.59 1548.04 L1228.59 1543.34 Q1230.67 1544.47 1232.89 1545.03 Q1235.12 1545.58 1237.59 1545.58 Q1241.6 1545.58 1243.94 1543.48 Q1246.27 1541.37 1246.27 1537.76 Q1246.27 1534.15 1243.94 1532.04 Q1241.6 1529.94 1237.59 1529.94 Q1235.72 1529.94 1233.84 1530.35 Q1231.99 1530.77 1230.05 1531.65 L1230.05 1514.29 Z\" fill=\"#000000\" fill-rule=\"evenodd\" fill-opacity=\"1\" /><path clip-path=\"url(#clip900)\" d=\"M1270.16 1517.37 Q1266.55 1517.37 1264.72 1520.93 Q1262.92 1524.47 1262.92 1531.6 Q1262.92 1538.71 1264.72 1542.27 Q1266.55 1545.82 1270.16 1545.82 Q1273.8 1545.82 1275.6 1542.27 Q1277.43 1538.71 1277.43 1531.6 Q1277.43 1524.47 1275.6 1520.93 Q1273.8 1517.37 1270.16 1517.37 M1270.16 1513.66 Q1275.97 1513.66 1279.03 1518.27 Q1282.11 1522.85 1282.11 1531.6 Q1282.11 1540.33 1279.03 1544.94 Q1275.97 1549.52 1270.16 1549.52 Q1264.35 1549.52 1261.27 1544.94 Q1258.22 1540.33 1258.22 1531.6 Q1258.22 1522.85 1261.27 1518.27 Q1264.35 1513.66 1270.16 1513.66 Z\" fill=\"#000000\" fill-rule=\"evenodd\" fill-opacity=\"1\" /><path clip-path=\"url(#clip900)\" d=\"M1693.79 1517.37 Q1690.18 1517.37 1688.35 1520.93 Q1686.55 1524.47 1686.55 1531.6 Q1686.55 1538.71 1688.35 1542.27 Q1690.18 1545.82 1693.79 1545.82 Q1697.43 1545.82 1699.23 1542.27 Q1701.06 1538.71 1701.06 1531.6 Q1701.06 1524.47 1699.23 1520.93 Q1697.43 1517.37 1693.79 1517.37 M1693.79 1513.66 Q1699.6 1513.66 1702.66 1518.27 Q1705.74 1522.85 1705.74 1531.6 Q1705.74 1540.33 1702.66 1544.94 Q1699.6 1549.52 1693.79 1549.52 Q1687.98 1549.52 1684.91 1544.94 Q1681.85 1540.33 1681.85 1531.6 Q1681.85 1522.85 1684.91 1518.27 Q1687.98 1513.66 1693.79 1513.66 Z\" fill=\"#000000\" fill-rule=\"evenodd\" fill-opacity=\"1\" /><path clip-path=\"url(#clip900)\" d=\"M1713.96 1542.97 L1718.84 1542.97 L1718.84 1548.85 L1713.96 1548.85 L1713.96 1542.97 Z\" fill=\"#000000\" fill-rule=\"evenodd\" fill-opacity=\"1\" /><path clip-path=\"url(#clip900)\" d=\"M1727.85 1514.29 L1750.07 1514.29 L1750.07 1516.28 L1737.52 1548.85 L1732.64 1548.85 L1744.44 1518.22 L1727.85 1518.22 L1727.85 1514.29 Z\" fill=\"#000000\" fill-rule=\"evenodd\" fill-opacity=\"1\" /><path clip-path=\"url(#clip900)\" d=\"M1759.23 1514.29 L1777.59 1514.29 L1777.59 1518.22 L1763.52 1518.22 L1763.52 1526.7 Q1764.53 1526.35 1765.55 1526.19 Q1766.57 1526 1767.59 1526 Q1773.38 1526 1776.76 1529.17 Q1780.14 1532.34 1780.14 1537.76 Q1780.14 1543.34 1776.66 1546.44 Q1773.19 1549.52 1766.87 1549.52 Q1764.7 1549.52 1762.43 1549.15 Q1760.18 1548.78 1757.78 1548.04 L1757.78 1543.34 Q1759.86 1544.47 1762.08 1545.03 Q1764.3 1545.58 1766.78 1545.58 Q1770.78 1545.58 1773.12 1543.48 Q1775.46 1541.37 1775.46 1537.76 Q1775.46 1534.15 1773.12 1532.04 Q1770.78 1529.94 1766.78 1529.94 Q1764.91 1529.94 1763.03 1530.35 Q1761.18 1530.77 1759.23 1531.65 L1759.23 1514.29 Z\" fill=\"#000000\" fill-rule=\"evenodd\" fill-opacity=\"1\" /><path clip-path=\"url(#clip900)\" d=\"M2181.59 1544.91 L2189.23 1544.91 L2189.23 1518.55 L2180.92 1520.21 L2180.92 1515.95 L2189.18 1514.29 L2193.86 1514.29 L2193.86 1544.91 L2201.5 1544.91 L2201.5 1548.85 L2181.59 1548.85 L2181.59 1544.91 Z\" fill=\"#000000\" fill-rule=\"evenodd\" fill-opacity=\"1\" /><path clip-path=\"url(#clip900)\" d=\"M2210.94 1542.97 L2215.83 1542.97 L2215.83 1548.85 L2210.94 1548.85 L2210.94 1542.97 Z\" fill=\"#000000\" fill-rule=\"evenodd\" fill-opacity=\"1\" /><path clip-path=\"url(#clip900)\" d=\"M2236.01 1517.37 Q2232.4 1517.37 2230.57 1520.93 Q2228.77 1524.47 2228.77 1531.6 Q2228.77 1538.71 2230.57 1542.27 Q2232.4 1545.82 2236.01 1545.82 Q2239.65 1545.82 2241.45 1542.27 Q2243.28 1538.71 2243.28 1531.6 Q2243.28 1524.47 2241.45 1520.93 Q2239.65 1517.37 2236.01 1517.37 M2236.01 1513.66 Q2241.82 1513.66 2244.88 1518.27 Q2247.96 1522.85 2247.96 1531.6 Q2247.96 1540.33 2244.88 1544.94 Q2241.82 1549.52 2236.01 1549.52 Q2230.2 1549.52 2227.12 1544.94 Q2224.07 1540.33 2224.07 1531.6 Q2224.07 1522.85 2227.12 1518.27 Q2230.2 1513.66 2236.01 1513.66 Z\" fill=\"#000000\" fill-rule=\"evenodd\" fill-opacity=\"1\" /><path clip-path=\"url(#clip900)\" d=\"M2266.17 1517.37 Q2262.56 1517.37 2260.74 1520.93 Q2258.93 1524.47 2258.93 1531.6 Q2258.93 1538.71 2260.74 1542.27 Q2262.56 1545.82 2266.17 1545.82 Q2269.81 1545.82 2271.61 1542.27 Q2273.44 1538.71 2273.44 1531.6 Q2273.44 1524.47 2271.61 1520.93 Q2269.81 1517.37 2266.17 1517.37 M2266.17 1513.66 Q2271.99 1513.66 2275.04 1518.27 Q2278.12 1522.85 2278.12 1531.6 Q2278.12 1540.33 2275.04 1544.94 Q2271.99 1549.52 2266.17 1549.52 Q2260.36 1549.52 2257.29 1544.94 Q2254.23 1540.33 2254.23 1531.6 Q2254.23 1522.85 2257.29 1518.27 Q2260.36 1513.66 2266.17 1513.66 Z\" fill=\"#000000\" fill-rule=\"evenodd\" fill-opacity=\"1\" /><polyline clip-path=\"url(#clip902)\" style=\"stroke:#000000; stroke-linecap:butt; stroke-linejoin:round; stroke-width:2; stroke-opacity:0.1; fill:none\" points=\"\n",
       "  112.177,1445.72 2352.76,1445.72 \n",
       "  \"/>\n",
       "<polyline clip-path=\"url(#clip902)\" style=\"stroke:#000000; stroke-linecap:butt; stroke-linejoin:round; stroke-width:2; stroke-opacity:0.1; fill:none\" points=\"\n",
       "  112.177,1106.28 2352.76,1106.28 \n",
       "  \"/>\n",
       "<polyline clip-path=\"url(#clip902)\" style=\"stroke:#000000; stroke-linecap:butt; stroke-linejoin:round; stroke-width:2; stroke-opacity:0.1; fill:none\" points=\"\n",
       "  112.177,766.846 2352.76,766.846 \n",
       "  \"/>\n",
       "<polyline clip-path=\"url(#clip902)\" style=\"stroke:#000000; stroke-linecap:butt; stroke-linejoin:round; stroke-width:2; stroke-opacity:0.1; fill:none\" points=\"\n",
       "  112.177,427.411 2352.76,427.411 \n",
       "  \"/>\n",
       "<polyline clip-path=\"url(#clip902)\" style=\"stroke:#000000; stroke-linecap:butt; stroke-linejoin:round; stroke-width:2; stroke-opacity:0.1; fill:none\" points=\"\n",
       "  112.177,87.9763 2352.76,87.9763 \n",
       "  \"/>\n",
       "<polyline clip-path=\"url(#clip900)\" style=\"stroke:#000000; stroke-linecap:butt; stroke-linejoin:round; stroke-width:4; stroke-opacity:1; fill:none\" points=\"\n",
       "  112.177,1486.45 112.177,47.2441 \n",
       "  \"/>\n",
       "<polyline clip-path=\"url(#clip900)\" style=\"stroke:#000000; stroke-linecap:butt; stroke-linejoin:round; stroke-width:4; stroke-opacity:1; fill:none\" points=\"\n",
       "  112.177,1445.72 131.075,1445.72 \n",
       "  \"/>\n",
       "<polyline clip-path=\"url(#clip900)\" style=\"stroke:#000000; stroke-linecap:butt; stroke-linejoin:round; stroke-width:4; stroke-opacity:1; fill:none\" points=\"\n",
       "  112.177,1106.28 131.075,1106.28 \n",
       "  \"/>\n",
       "<polyline clip-path=\"url(#clip900)\" style=\"stroke:#000000; stroke-linecap:butt; stroke-linejoin:round; stroke-width:4; stroke-opacity:1; fill:none\" points=\"\n",
       "  112.177,766.846 131.075,766.846 \n",
       "  \"/>\n",
       "<polyline clip-path=\"url(#clip900)\" style=\"stroke:#000000; stroke-linecap:butt; stroke-linejoin:round; stroke-width:4; stroke-opacity:1; fill:none\" points=\"\n",
       "  112.177,427.411 131.075,427.411 \n",
       "  \"/>\n",
       "<polyline clip-path=\"url(#clip900)\" style=\"stroke:#000000; stroke-linecap:butt; stroke-linejoin:round; stroke-width:4; stroke-opacity:1; fill:none\" points=\"\n",
       "  112.177,87.9763 131.075,87.9763 \n",
       "  \"/>\n",
       "<path clip-path=\"url(#clip900)\" d=\"M64.2328 1431.51 Q60.6217 1431.51 58.793 1435.08 Q56.9875 1438.62 56.9875 1445.75 Q56.9875 1452.86 58.793 1456.42 Q60.6217 1459.96 64.2328 1459.96 Q67.867 1459.96 69.6726 1456.42 Q71.5013 1452.86 71.5013 1445.75 Q71.5013 1438.62 69.6726 1435.08 Q67.867 1431.51 64.2328 1431.51 M64.2328 1427.81 Q70.0429 1427.81 73.0985 1432.42 Q76.1772 1437 76.1772 1445.75 Q76.1772 1454.48 73.0985 1459.08 Q70.0429 1463.67 64.2328 1463.67 Q58.4226 1463.67 55.344 1459.08 Q52.2884 1454.48 52.2884 1445.75 Q52.2884 1437 55.344 1432.42 Q58.4226 1427.81 64.2328 1427.81 Z\" fill=\"#000000\" fill-rule=\"evenodd\" fill-opacity=\"1\" /><path clip-path=\"url(#clip900)\" d=\"M59.8578 1119.63 L76.1772 1119.63 L76.1772 1123.56 L54.2328 1123.56 L54.2328 1119.63 Q56.8949 1116.87 61.4782 1112.24 Q66.0846 1107.59 67.2652 1106.25 Q69.5105 1103.72 70.3902 1101.99 Q71.2929 1100.23 71.2929 1098.54 Q71.2929 1095.78 69.3485 1094.05 Q67.4272 1092.31 64.3254 1092.31 Q62.1263 1092.31 59.6726 1093.07 Q57.2421 1093.84 54.4643 1095.39 L54.4643 1090.67 Q57.2884 1089.53 59.7421 1088.95 Q62.1958 1088.38 64.2328 1088.38 Q69.6031 1088.38 72.7976 1091.06 Q75.992 1093.75 75.992 1098.24 Q75.992 1100.37 75.1818 1102.29 Q74.3948 1104.19 72.2883 1106.78 Q71.7096 1107.45 68.6078 1110.67 Q65.5059 1113.86 59.8578 1119.63 Z\" fill=\"#000000\" fill-rule=\"evenodd\" fill-opacity=\"1\" /><path clip-path=\"url(#clip900)\" d=\"M66.5939 753.64 L54.7884 772.089 L66.5939 772.089 L66.5939 753.64 M65.367 749.566 L71.2466 749.566 L71.2466 772.089 L76.1772 772.089 L76.1772 775.978 L71.2466 775.978 L71.2466 784.126 L66.5939 784.126 L66.5939 775.978 L50.9921 775.978 L50.9921 771.464 L65.367 749.566 Z\" fill=\"#000000\" fill-rule=\"evenodd\" fill-opacity=\"1\" /><path clip-path=\"url(#clip900)\" d=\"M64.6495 425.548 Q61.5013 425.548 59.6495 427.7 Q57.8208 429.853 57.8208 433.603 Q57.8208 437.33 59.6495 439.506 Q61.5013 441.659 64.6495 441.659 Q67.7976 441.659 69.6263 439.506 Q71.4781 437.33 71.4781 433.603 Q71.4781 429.853 69.6263 427.7 Q67.7976 425.548 64.6495 425.548 M73.9318 410.895 L73.9318 415.154 Q72.1726 414.321 70.367 413.881 Q68.5846 413.441 66.8254 413.441 Q62.1958 413.441 59.7421 416.566 Q57.3115 419.691 56.9643 426.011 Q58.33 423.997 60.3902 422.932 Q62.4504 421.844 64.9272 421.844 Q70.1355 421.844 73.1448 425.015 Q76.1772 428.163 76.1772 433.603 Q76.1772 438.927 73.029 442.145 Q69.8809 445.362 64.6495 445.362 Q58.6541 445.362 55.4828 440.779 Q52.3116 436.173 52.3116 427.446 Q52.3116 419.251 56.2004 414.39 Q60.0893 409.506 66.6402 409.506 Q68.3994 409.506 70.1818 409.853 Q71.9874 410.201 73.9318 410.895 Z\" fill=\"#000000\" fill-rule=\"evenodd\" fill-opacity=\"1\" /><path clip-path=\"url(#clip900)\" d=\"M64.3254 88.8443 Q60.9921 88.8443 59.0708 90.6267 Q57.1726 92.4091 57.1726 95.5341 Q57.1726 98.6591 59.0708 100.441 Q60.9921 102.224 64.3254 102.224 Q67.6587 102.224 69.58 100.441 Q71.5013 98.6359 71.5013 95.5341 Q71.5013 92.4091 69.58 90.6267 Q67.6819 88.8443 64.3254 88.8443 M59.6495 86.8536 Q56.6402 86.1129 54.9504 84.0527 Q53.2838 81.9925 53.2838 79.0296 Q53.2838 74.8861 56.2236 72.4787 Q59.1865 70.0713 64.3254 70.0713 Q69.4874 70.0713 72.4272 72.4787 Q75.367 74.8861 75.367 79.0296 Q75.367 81.9925 73.6772 84.0527 Q72.0105 86.1129 69.0244 86.8536 Q72.404 87.6406 74.279 89.9323 Q76.1772 92.2239 76.1772 95.5341 Q76.1772 100.557 73.0985 103.242 Q70.0429 105.928 64.3254 105.928 Q58.6078 105.928 55.5291 103.242 Q52.4736 100.557 52.4736 95.5341 Q52.4736 92.2239 54.3717 89.9323 Q56.2699 87.6406 59.6495 86.8536 M57.9365 79.4694 Q57.9365 82.1545 59.6032 83.6592 Q61.293 85.1638 64.3254 85.1638 Q67.3346 85.1638 69.0244 83.6592 Q70.7374 82.1545 70.7374 79.4694 Q70.7374 76.7842 69.0244 75.2796 Q67.3346 73.775 64.3254 73.775 Q61.293 73.775 59.6032 75.2796 Q57.9365 76.7842 57.9365 79.4694 Z\" fill=\"#000000\" fill-rule=\"evenodd\" fill-opacity=\"1\" /><path clip-path=\"url(#clip902)\" d=\"\n",
       "M235.413 257.694 L235.413 1445.72 L1232.47 1445.72 L1232.47 257.694 L235.413 257.694 L235.413 257.694  Z\n",
       "  \" fill=\"#009af9\" fill-rule=\"evenodd\" fill-opacity=\"1\"/>\n",
       "<polyline clip-path=\"url(#clip902)\" style=\"stroke:#000000; stroke-linecap:butt; stroke-linejoin:round; stroke-width:4; stroke-opacity:1; fill:none\" points=\"\n",
       "  235.413,257.694 235.413,1445.72 1232.47,1445.72 1232.47,257.694 235.413,257.694 \n",
       "  \"/>\n",
       "<path clip-path=\"url(#clip902)\" d=\"\n",
       "M1232.47 87.9763 L1232.47 1445.72 L2229.52 1445.72 L2229.52 87.9763 L1232.47 87.9763 L1232.47 87.9763  Z\n",
       "  \" fill=\"#009af9\" fill-rule=\"evenodd\" fill-opacity=\"1\"/>\n",
       "<polyline clip-path=\"url(#clip902)\" style=\"stroke:#000000; stroke-linecap:butt; stroke-linejoin:round; stroke-width:4; stroke-opacity:1; fill:none\" points=\"\n",
       "  1232.47,87.9763 1232.47,1445.72 2229.52,1445.72 2229.52,87.9763 1232.47,87.9763 \n",
       "  \"/>\n",
       "<circle clip-path=\"url(#clip902)\" style=\"fill:#009af9; stroke:none; fill-opacity:0\" cx=\"733.94\" cy=\"257.694\" r=\"2\"/>\n",
       "<circle clip-path=\"url(#clip902)\" style=\"fill:#009af9; stroke:none; fill-opacity:0\" cx=\"1730.99\" cy=\"87.9763\" r=\"2\"/>\n",
       "<path clip-path=\"url(#clip900)\" d=\"\n",
       "M1976.69 198.898 L2278.07 198.898 L2278.07 95.2176 L1976.69 95.2176  Z\n",
       "  \" fill=\"#ffffff\" fill-rule=\"evenodd\" fill-opacity=\"1\"/>\n",
       "<polyline clip-path=\"url(#clip900)\" style=\"stroke:#000000; stroke-linecap:butt; stroke-linejoin:round; stroke-width:4; stroke-opacity:1; fill:none\" points=\"\n",
       "  1976.69,198.898 2278.07,198.898 2278.07,95.2176 1976.69,95.2176 1976.69,198.898 \n",
       "  \"/>\n",
       "<path clip-path=\"url(#clip900)\" d=\"\n",
       "M2001.58 167.794 L2150.95 167.794 L2150.95 126.322 L2001.58 126.322 L2001.58 167.794  Z\n",
       "  \" fill=\"#009af9\" fill-rule=\"evenodd\" fill-opacity=\"1\"/>\n",
       "<polyline clip-path=\"url(#clip900)\" style=\"stroke:#000000; stroke-linecap:butt; stroke-linejoin:round; stroke-width:4; stroke-opacity:1; fill:none\" points=\"\n",
       "  2001.58,167.794 2150.95,167.794 2150.95,126.322 2001.58,126.322 2001.58,167.794 \n",
       "  \"/>\n",
       "<path clip-path=\"url(#clip900)\" d=\"M2189.69 166.745 Q2187.89 171.375 2186.17 172.787 Q2184.46 174.199 2181.59 174.199 L2178.19 174.199 L2178.19 170.634 L2180.69 170.634 Q2182.45 170.634 2183.42 169.8 Q2184.39 168.967 2185.57 165.865 L2186.34 163.921 L2175.85 138.412 L2180.36 138.412 L2188.46 158.689 L2196.57 138.412 L2201.08 138.412 L2189.69 166.745 Z\" fill=\"#000000\" fill-rule=\"evenodd\" fill-opacity=\"1\" /><path clip-path=\"url(#clip900)\" d=\"M2208.37 160.402 L2216.01 160.402 L2216.01 134.037 L2207.7 135.703 L2207.7 131.444 L2215.96 129.778 L2220.64 129.778 L2220.64 160.402 L2228.28 160.402 L2228.28 164.338 L2208.37 164.338 L2208.37 160.402 Z\" fill=\"#000000\" fill-rule=\"evenodd\" fill-opacity=\"1\" /></svg>\n"
      ]
     },
     "execution_count": 250,
     "metadata": {},
     "output_type": "execute_result"
    }
   ],
   "source": [
    "histogram(y) #histogram"
   ]
  },
  {
   "cell_type": "code",
   "execution_count": 251,
   "metadata": {},
   "outputs": [
    {
     "data": {
      "image/svg+xml": [
       "<?xml version=\"1.0\" encoding=\"utf-8\"?>\n",
       "<svg xmlns=\"http://www.w3.org/2000/svg\" xmlns:xlink=\"http://www.w3.org/1999/xlink\" width=\"600\" height=\"400\" viewBox=\"0 0 2400 1600\">\n",
       "<defs>\n",
       "  <clipPath id=\"clip940\">\n",
       "    <rect x=\"0\" y=\"0\" width=\"2400\" height=\"1600\"/>\n",
       "  </clipPath>\n",
       "</defs>\n",
       "<path clip-path=\"url(#clip940)\" d=\"\n",
       "M0 1600 L2400 1600 L2400 0 L0 0  Z\n",
       "  \" fill=\"#ffffff\" fill-rule=\"evenodd\" fill-opacity=\"1\"/>\n",
       "<defs>\n",
       "  <clipPath id=\"clip941\">\n",
       "    <rect x=\"480\" y=\"0\" width=\"1681\" height=\"1600\"/>\n",
       "  </clipPath>\n",
       "</defs>\n",
       "<path clip-path=\"url(#clip940)\" d=\"\n",
       "M156.598 686.448 L1152.76 686.448 L1152.76 47.2441 L156.598 47.2441  Z\n",
       "  \" fill=\"#ffffff\" fill-rule=\"evenodd\" fill-opacity=\"1\"/>\n",
       "<defs>\n",
       "  <clipPath id=\"clip942\">\n",
       "    <rect x=\"156\" y=\"47\" width=\"997\" height=\"640\"/>\n",
       "  </clipPath>\n",
       "</defs>\n",
       "<polyline clip-path=\"url(#clip942)\" style=\"stroke:#000000; stroke-linecap:butt; stroke-linejoin:round; stroke-width:2; stroke-opacity:0.1; fill:none\" points=\"\n",
       "  251.918,686.448 251.918,47.2441 \n",
       "  \"/>\n",
       "<polyline clip-path=\"url(#clip942)\" style=\"stroke:#000000; stroke-linecap:butt; stroke-linejoin:round; stroke-width:2; stroke-opacity:0.1; fill:none\" points=\"\n",
       "  386.171,686.448 386.171,47.2441 \n",
       "  \"/>\n",
       "<polyline clip-path=\"url(#clip942)\" style=\"stroke:#000000; stroke-linecap:butt; stroke-linejoin:round; stroke-width:2; stroke-opacity:0.1; fill:none\" points=\"\n",
       "  520.424,686.448 520.424,47.2441 \n",
       "  \"/>\n",
       "<polyline clip-path=\"url(#clip942)\" style=\"stroke:#000000; stroke-linecap:butt; stroke-linejoin:round; stroke-width:2; stroke-opacity:0.1; fill:none\" points=\"\n",
       "  654.677,686.448 654.677,47.2441 \n",
       "  \"/>\n",
       "<polyline clip-path=\"url(#clip942)\" style=\"stroke:#000000; stroke-linecap:butt; stroke-linejoin:round; stroke-width:2; stroke-opacity:0.1; fill:none\" points=\"\n",
       "  788.93,686.448 788.93,47.2441 \n",
       "  \"/>\n",
       "<polyline clip-path=\"url(#clip942)\" style=\"stroke:#000000; stroke-linecap:butt; stroke-linejoin:round; stroke-width:2; stroke-opacity:0.1; fill:none\" points=\"\n",
       "  923.183,686.448 923.183,47.2441 \n",
       "  \"/>\n",
       "<polyline clip-path=\"url(#clip942)\" style=\"stroke:#000000; stroke-linecap:butt; stroke-linejoin:round; stroke-width:2; stroke-opacity:0.1; fill:none\" points=\"\n",
       "  1057.44,686.448 1057.44,47.2441 \n",
       "  \"/>\n",
       "<polyline clip-path=\"url(#clip940)\" style=\"stroke:#000000; stroke-linecap:butt; stroke-linejoin:round; stroke-width:4; stroke-opacity:1; fill:none\" points=\"\n",
       "  156.598,686.448 1152.76,686.448 \n",
       "  \"/>\n",
       "<polyline clip-path=\"url(#clip940)\" style=\"stroke:#000000; stroke-linecap:butt; stroke-linejoin:round; stroke-width:4; stroke-opacity:1; fill:none\" points=\"\n",
       "  251.918,686.448 251.918,667.55 \n",
       "  \"/>\n",
       "<polyline clip-path=\"url(#clip940)\" style=\"stroke:#000000; stroke-linecap:butt; stroke-linejoin:round; stroke-width:4; stroke-opacity:1; fill:none\" points=\"\n",
       "  386.171,686.448 386.171,667.55 \n",
       "  \"/>\n",
       "<polyline clip-path=\"url(#clip940)\" style=\"stroke:#000000; stroke-linecap:butt; stroke-linejoin:round; stroke-width:4; stroke-opacity:1; fill:none\" points=\"\n",
       "  520.424,686.448 520.424,667.55 \n",
       "  \"/>\n",
       "<polyline clip-path=\"url(#clip940)\" style=\"stroke:#000000; stroke-linecap:butt; stroke-linejoin:round; stroke-width:4; stroke-opacity:1; fill:none\" points=\"\n",
       "  654.677,686.448 654.677,667.55 \n",
       "  \"/>\n",
       "<polyline clip-path=\"url(#clip940)\" style=\"stroke:#000000; stroke-linecap:butt; stroke-linejoin:round; stroke-width:4; stroke-opacity:1; fill:none\" points=\"\n",
       "  788.93,686.448 788.93,667.55 \n",
       "  \"/>\n",
       "<polyline clip-path=\"url(#clip940)\" style=\"stroke:#000000; stroke-linecap:butt; stroke-linejoin:round; stroke-width:4; stroke-opacity:1; fill:none\" points=\"\n",
       "  923.183,686.448 923.183,667.55 \n",
       "  \"/>\n",
       "<polyline clip-path=\"url(#clip940)\" style=\"stroke:#000000; stroke-linecap:butt; stroke-linejoin:round; stroke-width:4; stroke-opacity:1; fill:none\" points=\"\n",
       "  1057.44,686.448 1057.44,667.55 \n",
       "  \"/>\n",
       "<path clip-path=\"url(#clip940)\" d=\"M246.571 744.913 L262.89 744.913 L262.89 748.848 L240.946 748.848 L240.946 744.913 Q243.608 742.158 248.191 737.528 Q252.798 732.876 253.978 731.533 Q256.223 729.01 257.103 727.274 Q258.006 725.515 258.006 723.825 Q258.006 721.07 256.061 719.334 Q254.14 717.598 251.038 717.598 Q248.839 717.598 246.386 718.362 Q243.955 719.126 241.177 720.677 L241.177 715.955 Q244.001 714.82 246.455 714.242 Q248.909 713.663 250.946 713.663 Q256.316 713.663 259.51 716.348 Q262.705 719.033 262.705 723.524 Q262.705 725.654 261.895 727.575 Q261.108 729.473 259.001 732.066 Q258.422 732.737 255.321 735.954 Q252.219 739.149 246.571 744.913 Z\" fill=\"#000000\" fill-rule=\"evenodd\" fill-opacity=\"1\" /><path clip-path=\"url(#clip940)\" d=\"M389.18 718.362 L377.375 736.811 L389.18 736.811 L389.18 718.362 M387.953 714.288 L393.833 714.288 L393.833 736.811 L398.763 736.811 L398.763 740.7 L393.833 740.7 L393.833 748.848 L389.18 748.848 L389.18 740.7 L373.578 740.7 L373.578 736.186 L387.953 714.288 Z\" fill=\"#000000\" fill-rule=\"evenodd\" fill-opacity=\"1\" /><path clip-path=\"url(#clip940)\" d=\"M520.829 729.704 Q517.681 729.704 515.829 731.857 Q514 734.01 514 737.76 Q514 741.487 515.829 743.663 Q517.681 745.815 520.829 745.815 Q523.977 745.815 525.806 743.663 Q527.658 741.487 527.658 737.76 Q527.658 734.01 525.806 731.857 Q523.977 729.704 520.829 729.704 M530.111 715.052 L530.111 719.311 Q528.352 718.478 526.547 718.038 Q524.764 717.598 523.005 717.598 Q518.375 717.598 515.922 720.723 Q513.491 723.848 513.144 730.167 Q514.51 728.154 516.57 727.089 Q518.63 726.001 521.107 726.001 Q526.315 726.001 529.324 729.172 Q532.357 732.32 532.357 737.76 Q532.357 743.084 529.209 746.302 Q526.061 749.519 520.829 749.519 Q514.834 749.519 511.662 744.936 Q508.491 740.329 508.491 731.603 Q508.491 723.408 512.38 718.547 Q516.269 713.663 522.82 713.663 Q524.579 713.663 526.361 714.01 Q528.167 714.357 530.111 715.052 Z\" fill=\"#000000\" fill-rule=\"evenodd\" fill-opacity=\"1\" /><path clip-path=\"url(#clip940)\" d=\"M654.677 732.436 Q651.344 732.436 649.422 734.218 Q647.524 736.001 647.524 739.126 Q647.524 742.251 649.422 744.033 Q651.344 745.815 654.677 745.815 Q658.01 745.815 659.932 744.033 Q661.853 742.228 661.853 739.126 Q661.853 736.001 659.932 734.218 Q658.034 732.436 654.677 732.436 M650.001 730.445 Q646.992 729.704 645.302 727.644 Q643.635 725.584 643.635 722.621 Q643.635 718.478 646.575 716.07 Q649.538 713.663 654.677 713.663 Q659.839 713.663 662.779 716.07 Q665.719 718.478 665.719 722.621 Q665.719 725.584 664.029 727.644 Q662.362 729.704 659.376 730.445 Q662.756 731.232 664.631 733.524 Q666.529 735.816 666.529 739.126 Q666.529 744.149 663.45 746.834 Q660.395 749.519 654.677 749.519 Q648.96 749.519 645.881 746.834 Q642.825 744.149 642.825 739.126 Q642.825 735.816 644.723 733.524 Q646.622 731.232 650.001 730.445 M648.288 723.061 Q648.288 725.746 649.955 727.251 Q651.645 728.755 654.677 728.755 Q657.686 728.755 659.376 727.251 Q661.089 725.746 661.089 723.061 Q661.089 720.376 659.376 718.871 Q657.686 717.367 654.677 717.367 Q651.645 717.367 649.955 718.871 Q648.288 720.376 648.288 723.061 Z\" fill=\"#000000\" fill-rule=\"evenodd\" fill-opacity=\"1\" /><path clip-path=\"url(#clip940)\" d=\"M763.618 744.913 L771.257 744.913 L771.257 718.547 L762.946 720.214 L762.946 715.955 L771.21 714.288 L775.886 714.288 L775.886 744.913 L783.525 744.913 L783.525 748.848 L763.618 748.848 L763.618 744.913 Z\" fill=\"#000000\" fill-rule=\"evenodd\" fill-opacity=\"1\" /><path clip-path=\"url(#clip940)\" d=\"M802.969 717.367 Q799.358 717.367 797.53 720.931 Q795.724 724.473 795.724 731.603 Q795.724 738.709 797.53 742.274 Q799.358 745.815 802.969 745.815 Q806.604 745.815 808.409 742.274 Q810.238 738.709 810.238 731.603 Q810.238 724.473 808.409 720.931 Q806.604 717.367 802.969 717.367 M802.969 713.663 Q808.78 713.663 811.835 718.269 Q814.914 722.853 814.914 731.603 Q814.914 740.329 811.835 744.936 Q808.78 749.519 802.969 749.519 Q797.159 749.519 794.081 744.936 Q791.025 740.329 791.025 731.603 Q791.025 722.853 794.081 718.269 Q797.159 713.663 802.969 713.663 Z\" fill=\"#000000\" fill-rule=\"evenodd\" fill-opacity=\"1\" /><path clip-path=\"url(#clip940)\" d=\"M898.669 744.913 L906.308 744.913 L906.308 718.547 L897.998 720.214 L897.998 715.955 L906.262 714.288 L910.938 714.288 L910.938 744.913 L918.577 744.913 L918.577 748.848 L898.669 748.848 L898.669 744.913 Z\" fill=\"#000000\" fill-rule=\"evenodd\" fill-opacity=\"1\" /><path clip-path=\"url(#clip940)\" d=\"M932.049 744.913 L948.368 744.913 L948.368 748.848 L926.424 748.848 L926.424 744.913 Q929.086 742.158 933.669 737.528 Q938.276 732.876 939.456 731.533 Q941.702 729.01 942.581 727.274 Q943.484 725.515 943.484 723.825 Q943.484 721.07 941.54 719.334 Q939.618 717.598 936.516 717.598 Q934.317 717.598 931.864 718.362 Q929.433 719.126 926.655 720.677 L926.655 715.955 Q929.479 714.82 931.933 714.242 Q934.387 713.663 936.424 713.663 Q941.794 713.663 944.989 716.348 Q948.183 719.033 948.183 723.524 Q948.183 725.654 947.373 727.575 Q946.586 729.473 944.479 732.066 Q943.901 732.737 940.799 735.954 Q937.697 739.149 932.049 744.913 Z\" fill=\"#000000\" fill-rule=\"evenodd\" fill-opacity=\"1\" /><path clip-path=\"url(#clip940)\" d=\"M1031.88 744.913 L1039.52 744.913 L1039.52 718.547 L1031.21 720.214 L1031.21 715.955 L1039.47 714.288 L1044.15 714.288 L1044.15 744.913 L1051.79 744.913 L1051.79 748.848 L1031.88 748.848 L1031.88 744.913 Z\" fill=\"#000000\" fill-rule=\"evenodd\" fill-opacity=\"1\" /><path clip-path=\"url(#clip940)\" d=\"M1074.08 718.362 L1062.27 736.811 L1074.08 736.811 L1074.08 718.362 M1072.85 714.288 L1078.73 714.288 L1078.73 736.811 L1083.66 736.811 L1083.66 740.7 L1078.73 740.7 L1078.73 748.848 L1074.08 748.848 L1074.08 740.7 L1058.48 740.7 L1058.48 736.186 L1072.85 714.288 Z\" fill=\"#000000\" fill-rule=\"evenodd\" fill-opacity=\"1\" /><polyline clip-path=\"url(#clip942)\" style=\"stroke:#000000; stroke-linecap:butt; stroke-linejoin:round; stroke-width:2; stroke-opacity:0.1; fill:none\" points=\"\n",
       "  156.598,680.682 1152.76,680.682 \n",
       "  \"/>\n",
       "<polyline clip-path=\"url(#clip942)\" style=\"stroke:#000000; stroke-linecap:butt; stroke-linejoin:round; stroke-width:2; stroke-opacity:0.1; fill:none\" points=\"\n",
       "  156.598,548.816 1152.76,548.816 \n",
       "  \"/>\n",
       "<polyline clip-path=\"url(#clip942)\" style=\"stroke:#000000; stroke-linecap:butt; stroke-linejoin:round; stroke-width:2; stroke-opacity:0.1; fill:none\" points=\"\n",
       "  156.598,416.951 1152.76,416.951 \n",
       "  \"/>\n",
       "<polyline clip-path=\"url(#clip942)\" style=\"stroke:#000000; stroke-linecap:butt; stroke-linejoin:round; stroke-width:2; stroke-opacity:0.1; fill:none\" points=\"\n",
       "  156.598,285.085 1152.76,285.085 \n",
       "  \"/>\n",
       "<polyline clip-path=\"url(#clip942)\" style=\"stroke:#000000; stroke-linecap:butt; stroke-linejoin:round; stroke-width:2; stroke-opacity:0.1; fill:none\" points=\"\n",
       "  156.598,153.22 1152.76,153.22 \n",
       "  \"/>\n",
       "<polyline clip-path=\"url(#clip940)\" style=\"stroke:#000000; stroke-linecap:butt; stroke-linejoin:round; stroke-width:4; stroke-opacity:1; fill:none\" points=\"\n",
       "  156.598,686.448 156.598,47.2441 \n",
       "  \"/>\n",
       "<polyline clip-path=\"url(#clip940)\" style=\"stroke:#000000; stroke-linecap:butt; stroke-linejoin:round; stroke-width:4; stroke-opacity:1; fill:none\" points=\"\n",
       "  156.598,680.682 175.496,680.682 \n",
       "  \"/>\n",
       "<polyline clip-path=\"url(#clip940)\" style=\"stroke:#000000; stroke-linecap:butt; stroke-linejoin:round; stroke-width:4; stroke-opacity:1; fill:none\" points=\"\n",
       "  156.598,548.816 175.496,548.816 \n",
       "  \"/>\n",
       "<polyline clip-path=\"url(#clip940)\" style=\"stroke:#000000; stroke-linecap:butt; stroke-linejoin:round; stroke-width:4; stroke-opacity:1; fill:none\" points=\"\n",
       "  156.598,416.951 175.496,416.951 \n",
       "  \"/>\n",
       "<polyline clip-path=\"url(#clip940)\" style=\"stroke:#000000; stroke-linecap:butt; stroke-linejoin:round; stroke-width:4; stroke-opacity:1; fill:none\" points=\"\n",
       "  156.598,285.085 175.496,285.085 \n",
       "  \"/>\n",
       "<polyline clip-path=\"url(#clip940)\" style=\"stroke:#000000; stroke-linecap:butt; stroke-linejoin:round; stroke-width:4; stroke-opacity:1; fill:none\" points=\"\n",
       "  156.598,153.22 175.496,153.22 \n",
       "  \"/>\n",
       "<path clip-path=\"url(#clip940)\" d=\"M63.4226 666.481 Q59.8115 666.481 57.9828 670.045 Q56.1773 673.587 56.1773 680.717 Q56.1773 687.823 57.9828 691.388 Q59.8115 694.93 63.4226 694.93 Q67.0569 694.93 68.8624 691.388 Q70.6911 687.823 70.6911 680.717 Q70.6911 673.587 68.8624 670.045 Q67.0569 666.481 63.4226 666.481 M63.4226 662.777 Q69.2328 662.777 72.2883 667.383 Q75.367 671.967 75.367 680.717 Q75.367 689.443 72.2883 694.05 Q69.2328 698.633 63.4226 698.633 Q57.6125 698.633 54.5338 694.05 Q51.4782 689.443 51.4782 680.717 Q51.4782 671.967 54.5338 667.383 Q57.6125 662.777 63.4226 662.777 Z\" fill=\"#000000\" fill-rule=\"evenodd\" fill-opacity=\"1\" /><path clip-path=\"url(#clip940)\" d=\"M83.5845 692.082 L88.4688 692.082 L88.4688 697.962 L83.5845 697.962 L83.5845 692.082 Z\" fill=\"#000000\" fill-rule=\"evenodd\" fill-opacity=\"1\" /><path clip-path=\"url(#clip940)\" d=\"M108.654 666.481 Q105.043 666.481 103.214 670.045 Q101.409 673.587 101.409 680.717 Q101.409 687.823 103.214 691.388 Q105.043 694.93 108.654 694.93 Q112.288 694.93 114.094 691.388 Q115.922 687.823 115.922 680.717 Q115.922 673.587 114.094 670.045 Q112.288 666.481 108.654 666.481 M108.654 662.777 Q114.464 662.777 117.52 667.383 Q120.598 671.967 120.598 680.717 Q120.598 689.443 117.52 694.05 Q114.464 698.633 108.654 698.633 Q102.844 698.633 99.765 694.05 Q96.7095 689.443 96.7095 680.717 Q96.7095 671.967 99.765 667.383 Q102.844 662.777 108.654 662.777 Z\" fill=\"#000000\" fill-rule=\"evenodd\" fill-opacity=\"1\" /><path clip-path=\"url(#clip940)\" d=\"M65.0198 534.615 Q61.4087 534.615 59.58 538.18 Q57.7745 541.722 57.7745 548.851 Q57.7745 555.958 59.58 559.522 Q61.4087 563.064 65.0198 563.064 Q68.6541 563.064 70.4596 559.522 Q72.2883 555.958 72.2883 548.851 Q72.2883 541.722 70.4596 538.18 Q68.6541 534.615 65.0198 534.615 M65.0198 530.911 Q70.83 530.911 73.8855 535.518 Q76.9642 540.101 76.9642 548.851 Q76.9642 557.578 73.8855 562.184 Q70.83 566.768 65.0198 566.768 Q59.2097 566.768 56.131 562.184 Q53.0754 557.578 53.0754 548.851 Q53.0754 540.101 56.131 535.518 Q59.2097 530.911 65.0198 530.911 Z\" fill=\"#000000\" fill-rule=\"evenodd\" fill-opacity=\"1\" /><path clip-path=\"url(#clip940)\" d=\"M85.1818 560.217 L90.066 560.217 L90.066 566.096 L85.1818 566.096 L85.1818 560.217 Z\" fill=\"#000000\" fill-rule=\"evenodd\" fill-opacity=\"1\" /><path clip-path=\"url(#clip940)\" d=\"M104.279 562.161 L120.598 562.161 L120.598 566.096 L98.6539 566.096 L98.6539 562.161 Q101.316 559.407 105.899 554.777 Q110.506 550.124 111.686 548.782 Q113.932 546.259 114.811 544.522 Q115.714 542.763 115.714 541.073 Q115.714 538.319 113.77 536.583 Q111.848 534.847 108.746 534.847 Q106.547 534.847 104.094 535.61 Q101.663 536.374 98.8854 537.925 L98.8854 533.203 Q101.709 532.069 104.163 531.49 Q106.617 530.911 108.654 530.911 Q114.024 530.911 117.219 533.597 Q120.413 536.282 120.413 540.772 Q120.413 542.902 119.603 544.823 Q118.816 546.721 116.709 549.314 Q116.131 549.985 113.029 553.203 Q109.927 556.397 104.279 562.161 Z\" fill=\"#000000\" fill-rule=\"evenodd\" fill-opacity=\"1\" /><path clip-path=\"url(#clip940)\" d=\"M62.9365 402.75 Q59.3254 402.75 57.4967 406.314 Q55.6912 409.856 55.6912 416.986 Q55.6912 424.092 57.4967 427.657 Q59.3254 431.198 62.9365 431.198 Q66.5707 431.198 68.3763 427.657 Q70.205 424.092 70.205 416.986 Q70.205 409.856 68.3763 406.314 Q66.5707 402.75 62.9365 402.75 M62.9365 399.046 Q68.7467 399.046 71.8022 403.652 Q74.8809 408.236 74.8809 416.986 Q74.8809 425.712 71.8022 430.319 Q68.7467 434.902 62.9365 434.902 Q57.1264 434.902 54.0477 430.319 Q50.9921 425.712 50.9921 416.986 Q50.9921 408.236 54.0477 403.652 Q57.1264 399.046 62.9365 399.046 Z\" fill=\"#000000\" fill-rule=\"evenodd\" fill-opacity=\"1\" /><path clip-path=\"url(#clip940)\" d=\"M83.0984 428.351 L87.9827 428.351 L87.9827 434.231 L83.0984 434.231 L83.0984 428.351 Z\" fill=\"#000000\" fill-rule=\"evenodd\" fill-opacity=\"1\" /><path clip-path=\"url(#clip940)\" d=\"M111.015 403.745 L99.2095 422.194 L111.015 422.194 L111.015 403.745 M109.788 399.671 L115.668 399.671 L115.668 422.194 L120.598 422.194 L120.598 426.083 L115.668 426.083 L115.668 434.231 L111.015 434.231 L111.015 426.083 L95.4132 426.083 L95.4132 421.569 L109.788 399.671 Z\" fill=\"#000000\" fill-rule=\"evenodd\" fill-opacity=\"1\" /><path clip-path=\"url(#clip940)\" d=\"M63.2606 270.884 Q59.6495 270.884 57.8208 274.449 Q56.0152 277.99 56.0152 285.12 Q56.0152 292.226 57.8208 295.791 Q59.6495 299.333 63.2606 299.333 Q66.8948 299.333 68.7004 295.791 Q70.5291 292.226 70.5291 285.12 Q70.5291 277.99 68.7004 274.449 Q66.8948 270.884 63.2606 270.884 M63.2606 267.18 Q69.0707 267.18 72.1263 271.787 Q75.205 276.37 75.205 285.12 Q75.205 293.847 72.1263 298.453 Q69.0707 303.037 63.2606 303.037 Q57.4504 303.037 54.3717 298.453 Q51.3162 293.847 51.3162 285.12 Q51.3162 276.37 54.3717 271.787 Q57.4504 267.18 63.2606 267.18 Z\" fill=\"#000000\" fill-rule=\"evenodd\" fill-opacity=\"1\" /><path clip-path=\"url(#clip940)\" d=\"M83.4225 296.486 L88.3067 296.486 L88.3067 302.365 L83.4225 302.365 L83.4225 296.486 Z\" fill=\"#000000\" fill-rule=\"evenodd\" fill-opacity=\"1\" /><path clip-path=\"url(#clip940)\" d=\"M109.071 283.222 Q105.922 283.222 104.071 285.375 Q102.242 287.527 102.242 291.277 Q102.242 295.004 104.071 297.18 Q105.922 299.333 109.071 299.333 Q112.219 299.333 114.047 297.18 Q115.899 295.004 115.899 291.277 Q115.899 287.527 114.047 285.375 Q112.219 283.222 109.071 283.222 M118.353 268.569 L118.353 272.828 Q116.594 271.995 114.788 271.555 Q113.006 271.115 111.246 271.115 Q106.617 271.115 104.163 274.24 Q101.733 277.365 101.385 283.685 Q102.751 281.671 104.811 280.606 Q106.871 279.518 109.348 279.518 Q114.557 279.518 117.566 282.689 Q120.598 285.838 120.598 291.277 Q120.598 296.601 117.45 299.819 Q114.302 303.037 109.071 303.037 Q103.075 303.037 99.9039 298.453 Q96.7326 293.847 96.7326 285.12 Q96.7326 276.926 100.621 272.065 Q104.51 267.18 111.061 267.18 Q112.82 267.18 114.603 267.528 Q116.408 267.875 118.353 268.569 Z\" fill=\"#000000\" fill-rule=\"evenodd\" fill-opacity=\"1\" /><path clip-path=\"url(#clip940)\" d=\"M63.5152 139.018 Q59.9041 139.018 58.0754 142.583 Q56.2699 146.125 56.2699 153.255 Q56.2699 160.361 58.0754 163.926 Q59.9041 167.467 63.5152 167.467 Q67.1494 167.467 68.955 163.926 Q70.7837 160.361 70.7837 153.255 Q70.7837 146.125 68.955 142.583 Q67.1494 139.018 63.5152 139.018 M63.5152 135.315 Q69.3254 135.315 72.3809 139.921 Q75.4596 144.505 75.4596 153.255 Q75.4596 161.981 72.3809 166.588 Q69.3254 171.171 63.5152 171.171 Q57.7051 171.171 54.6264 166.588 Q51.5708 161.981 51.5708 153.255 Q51.5708 144.505 54.6264 139.921 Q57.7051 135.315 63.5152 135.315 Z\" fill=\"#000000\" fill-rule=\"evenodd\" fill-opacity=\"1\" /><path clip-path=\"url(#clip940)\" d=\"M83.6771 164.62 L88.5614 164.62 L88.5614 170.5 L83.6771 170.5 L83.6771 164.62 Z\" fill=\"#000000\" fill-rule=\"evenodd\" fill-opacity=\"1\" /><path clip-path=\"url(#clip940)\" d=\"M108.746 154.088 Q105.413 154.088 103.492 155.87 Q101.594 157.653 101.594 160.778 Q101.594 163.903 103.492 165.685 Q105.413 167.467 108.746 167.467 Q112.08 167.467 114.001 165.685 Q115.922 163.879 115.922 160.778 Q115.922 157.653 114.001 155.87 Q112.103 154.088 108.746 154.088 M104.071 152.097 Q101.061 151.356 99.3715 149.296 Q97.7048 147.236 97.7048 144.273 Q97.7048 140.13 100.645 137.722 Q103.608 135.315 108.746 135.315 Q113.908 135.315 116.848 137.722 Q119.788 140.13 119.788 144.273 Q119.788 147.236 118.098 149.296 Q116.432 151.356 113.445 152.097 Q116.825 152.884 118.7 155.176 Q120.598 157.467 120.598 160.778 Q120.598 165.801 117.52 168.486 Q114.464 171.171 108.746 171.171 Q103.029 171.171 99.9502 168.486 Q96.8947 165.801 96.8947 160.778 Q96.8947 157.467 98.7928 155.176 Q100.691 152.884 104.071 152.097 M102.358 144.713 Q102.358 147.398 104.024 148.903 Q105.714 150.407 108.746 150.407 Q111.756 150.407 113.445 148.903 Q115.158 147.398 115.158 144.713 Q115.158 142.028 113.445 140.523 Q111.756 139.018 108.746 139.018 Q105.714 139.018 104.024 140.523 Q102.358 142.028 102.358 144.713 Z\" fill=\"#000000\" fill-rule=\"evenodd\" fill-opacity=\"1\" /><polyline clip-path=\"url(#clip942)\" style=\"stroke:#009af9; stroke-linecap:butt; stroke-linejoin:round; stroke-width:4; stroke-opacity:1; fill:none\" points=\"\n",
       "  184.791,349.962 251.918,328.272 319.044,668.357 386.171,465.41 453.297,105.345 520.424,390.457 587.551,600.139 654.677,216.556 721.804,65.3348 788.93,455.083 \n",
       "  856.057,615.518 923.183,347.728 990.31,75.814 1057.44,348.199 1124.56,585.251 \n",
       "  \"/>\n",
       "<path clip-path=\"url(#clip940)\" d=\"\n",
       "M956.436 172.231 L1119.55 172.231 L1119.55 68.5509 L956.436 68.5509  Z\n",
       "  \" fill=\"#ffffff\" fill-rule=\"evenodd\" fill-opacity=\"1\"/>\n",
       "<polyline clip-path=\"url(#clip940)\" style=\"stroke:#000000; stroke-linecap:butt; stroke-linejoin:round; stroke-width:4; stroke-opacity:1; fill:none\" points=\"\n",
       "  956.436,172.231 1119.55,172.231 1119.55,68.5509 956.436,68.5509 956.436,172.231 \n",
       "  \"/>\n",
       "<polyline clip-path=\"url(#clip940)\" style=\"stroke:#009af9; stroke-linecap:butt; stroke-linejoin:round; stroke-width:4; stroke-opacity:1; fill:none\" points=\"\n",
       "  967.505,120.391 1033.92,120.391 \n",
       "  \"/>\n",
       "<path clip-path=\"url(#clip940)\" d=\"M1058.83 140.078 Q1057.02 144.708 1055.31 146.12 Q1053.59 147.532 1050.72 147.532 L1047.32 147.532 L1047.32 143.967 L1049.82 143.967 Q1051.58 143.967 1052.55 143.134 Q1053.53 142.3 1054.71 139.199 L1055.47 137.254 L1044.98 111.745 L1049.5 111.745 L1057.6 132.023 L1065.7 111.745 L1070.21 111.745 L1058.83 140.078 Z\" fill=\"#000000\" fill-rule=\"evenodd\" fill-opacity=\"1\" /><path clip-path=\"url(#clip940)\" d=\"M1077.51 133.736 L1085.15 133.736 L1085.15 107.37 L1076.84 109.037 L1076.84 104.778 L1085.1 103.111 L1089.77 103.111 L1089.77 133.736 L1097.41 133.736 L1097.41 137.671 L1077.51 137.671 L1077.51 133.736 Z\" fill=\"#000000\" fill-rule=\"evenodd\" fill-opacity=\"1\" /><path clip-path=\"url(#clip940)\" d=\"\n",
       "M1356.6 686.448 L2352.76 686.448 L2352.76 47.2441 L1356.6 47.2441  Z\n",
       "  \" fill=\"#ffffff\" fill-rule=\"evenodd\" fill-opacity=\"1\"/>\n",
       "<defs>\n",
       "  <clipPath id=\"clip943\">\n",
       "    <rect x=\"1356\" y=\"47\" width=\"997\" height=\"640\"/>\n",
       "  </clipPath>\n",
       "</defs>\n",
       "<polyline clip-path=\"url(#clip943)\" style=\"stroke:#000000; stroke-linecap:butt; stroke-linejoin:round; stroke-width:2; stroke-opacity:0.1; fill:none\" points=\"\n",
       "  1451.92,686.448 1451.92,47.2441 \n",
       "  \"/>\n",
       "<polyline clip-path=\"url(#clip943)\" style=\"stroke:#000000; stroke-linecap:butt; stroke-linejoin:round; stroke-width:2; stroke-opacity:0.1; fill:none\" points=\"\n",
       "  1586.17,686.448 1586.17,47.2441 \n",
       "  \"/>\n",
       "<polyline clip-path=\"url(#clip943)\" style=\"stroke:#000000; stroke-linecap:butt; stroke-linejoin:round; stroke-width:2; stroke-opacity:0.1; fill:none\" points=\"\n",
       "  1720.42,686.448 1720.42,47.2441 \n",
       "  \"/>\n",
       "<polyline clip-path=\"url(#clip943)\" style=\"stroke:#000000; stroke-linecap:butt; stroke-linejoin:round; stroke-width:2; stroke-opacity:0.1; fill:none\" points=\"\n",
       "  1854.68,686.448 1854.68,47.2441 \n",
       "  \"/>\n",
       "<polyline clip-path=\"url(#clip943)\" style=\"stroke:#000000; stroke-linecap:butt; stroke-linejoin:round; stroke-width:2; stroke-opacity:0.1; fill:none\" points=\"\n",
       "  1988.93,686.448 1988.93,47.2441 \n",
       "  \"/>\n",
       "<polyline clip-path=\"url(#clip943)\" style=\"stroke:#000000; stroke-linecap:butt; stroke-linejoin:round; stroke-width:2; stroke-opacity:0.1; fill:none\" points=\"\n",
       "  2123.18,686.448 2123.18,47.2441 \n",
       "  \"/>\n",
       "<polyline clip-path=\"url(#clip943)\" style=\"stroke:#000000; stroke-linecap:butt; stroke-linejoin:round; stroke-width:2; stroke-opacity:0.1; fill:none\" points=\"\n",
       "  2257.44,686.448 2257.44,47.2441 \n",
       "  \"/>\n",
       "<polyline clip-path=\"url(#clip940)\" style=\"stroke:#000000; stroke-linecap:butt; stroke-linejoin:round; stroke-width:4; stroke-opacity:1; fill:none\" points=\"\n",
       "  1356.6,686.448 2352.76,686.448 \n",
       "  \"/>\n",
       "<polyline clip-path=\"url(#clip940)\" style=\"stroke:#000000; stroke-linecap:butt; stroke-linejoin:round; stroke-width:4; stroke-opacity:1; fill:none\" points=\"\n",
       "  1451.92,686.448 1451.92,667.55 \n",
       "  \"/>\n",
       "<polyline clip-path=\"url(#clip940)\" style=\"stroke:#000000; stroke-linecap:butt; stroke-linejoin:round; stroke-width:4; stroke-opacity:1; fill:none\" points=\"\n",
       "  1586.17,686.448 1586.17,667.55 \n",
       "  \"/>\n",
       "<polyline clip-path=\"url(#clip940)\" style=\"stroke:#000000; stroke-linecap:butt; stroke-linejoin:round; stroke-width:4; stroke-opacity:1; fill:none\" points=\"\n",
       "  1720.42,686.448 1720.42,667.55 \n",
       "  \"/>\n",
       "<polyline clip-path=\"url(#clip940)\" style=\"stroke:#000000; stroke-linecap:butt; stroke-linejoin:round; stroke-width:4; stroke-opacity:1; fill:none\" points=\"\n",
       "  1854.68,686.448 1854.68,667.55 \n",
       "  \"/>\n",
       "<polyline clip-path=\"url(#clip940)\" style=\"stroke:#000000; stroke-linecap:butt; stroke-linejoin:round; stroke-width:4; stroke-opacity:1; fill:none\" points=\"\n",
       "  1988.93,686.448 1988.93,667.55 \n",
       "  \"/>\n",
       "<polyline clip-path=\"url(#clip940)\" style=\"stroke:#000000; stroke-linecap:butt; stroke-linejoin:round; stroke-width:4; stroke-opacity:1; fill:none\" points=\"\n",
       "  2123.18,686.448 2123.18,667.55 \n",
       "  \"/>\n",
       "<polyline clip-path=\"url(#clip940)\" style=\"stroke:#000000; stroke-linecap:butt; stroke-linejoin:round; stroke-width:4; stroke-opacity:1; fill:none\" points=\"\n",
       "  2257.44,686.448 2257.44,667.55 \n",
       "  \"/>\n",
       "<path clip-path=\"url(#clip940)\" d=\"M1446.57 744.913 L1462.89 744.913 L1462.89 748.848 L1440.95 748.848 L1440.95 744.913 Q1443.61 742.158 1448.19 737.528 Q1452.8 732.876 1453.98 731.533 Q1456.22 729.01 1457.1 727.274 Q1458.01 725.515 1458.01 723.825 Q1458.01 721.07 1456.06 719.334 Q1454.14 717.598 1451.04 717.598 Q1448.84 717.598 1446.39 718.362 Q1443.95 719.126 1441.18 720.677 L1441.18 715.955 Q1444 714.82 1446.45 714.242 Q1448.91 713.663 1450.95 713.663 Q1456.32 713.663 1459.51 716.348 Q1462.7 719.033 1462.7 723.524 Q1462.7 725.654 1461.89 727.575 Q1461.11 729.473 1459 732.066 Q1458.42 732.737 1455.32 735.954 Q1452.22 739.149 1446.57 744.913 Z\" fill=\"#000000\" fill-rule=\"evenodd\" fill-opacity=\"1\" /><path clip-path=\"url(#clip940)\" d=\"M1589.18 718.362 L1577.37 736.811 L1589.18 736.811 L1589.18 718.362 M1587.95 714.288 L1593.83 714.288 L1593.83 736.811 L1598.76 736.811 L1598.76 740.7 L1593.83 740.7 L1593.83 748.848 L1589.18 748.848 L1589.18 740.7 L1573.58 740.7 L1573.58 736.186 L1587.95 714.288 Z\" fill=\"#000000\" fill-rule=\"evenodd\" fill-opacity=\"1\" /><path clip-path=\"url(#clip940)\" d=\"M1720.83 729.704 Q1717.68 729.704 1715.83 731.857 Q1714 734.01 1714 737.76 Q1714 741.487 1715.83 743.663 Q1717.68 745.815 1720.83 745.815 Q1723.98 745.815 1725.81 743.663 Q1727.66 741.487 1727.66 737.76 Q1727.66 734.01 1725.81 731.857 Q1723.98 729.704 1720.83 729.704 M1730.11 715.052 L1730.11 719.311 Q1728.35 718.478 1726.55 718.038 Q1724.76 717.598 1723.01 717.598 Q1718.38 717.598 1715.92 720.723 Q1713.49 723.848 1713.14 730.167 Q1714.51 728.154 1716.57 727.089 Q1718.63 726.001 1721.11 726.001 Q1726.32 726.001 1729.32 729.172 Q1732.36 732.32 1732.36 737.76 Q1732.36 743.084 1729.21 746.302 Q1726.06 749.519 1720.83 749.519 Q1714.83 749.519 1711.66 744.936 Q1708.49 740.329 1708.49 731.603 Q1708.49 723.408 1712.38 718.547 Q1716.27 713.663 1722.82 713.663 Q1724.58 713.663 1726.36 714.01 Q1728.17 714.357 1730.11 715.052 Z\" fill=\"#000000\" fill-rule=\"evenodd\" fill-opacity=\"1\" /><path clip-path=\"url(#clip940)\" d=\"M1854.68 732.436 Q1851.34 732.436 1849.42 734.218 Q1847.52 736.001 1847.52 739.126 Q1847.52 742.251 1849.42 744.033 Q1851.34 745.815 1854.68 745.815 Q1858.01 745.815 1859.93 744.033 Q1861.85 742.228 1861.85 739.126 Q1861.85 736.001 1859.93 734.218 Q1858.03 732.436 1854.68 732.436 M1850 730.445 Q1846.99 729.704 1845.3 727.644 Q1843.64 725.584 1843.64 722.621 Q1843.64 718.478 1846.58 716.07 Q1849.54 713.663 1854.68 713.663 Q1859.84 713.663 1862.78 716.07 Q1865.72 718.478 1865.72 722.621 Q1865.72 725.584 1864.03 727.644 Q1862.36 729.704 1859.38 730.445 Q1862.76 731.232 1864.63 733.524 Q1866.53 735.816 1866.53 739.126 Q1866.53 744.149 1863.45 746.834 Q1860.39 749.519 1854.68 749.519 Q1848.96 749.519 1845.88 746.834 Q1842.83 744.149 1842.83 739.126 Q1842.83 735.816 1844.72 733.524 Q1846.62 731.232 1850 730.445 M1848.29 723.061 Q1848.29 725.746 1849.95 727.251 Q1851.64 728.755 1854.68 728.755 Q1857.69 728.755 1859.38 727.251 Q1861.09 725.746 1861.09 723.061 Q1861.09 720.376 1859.38 718.871 Q1857.69 717.367 1854.68 717.367 Q1851.64 717.367 1849.95 718.871 Q1848.29 720.376 1848.29 723.061 Z\" fill=\"#000000\" fill-rule=\"evenodd\" fill-opacity=\"1\" /><path clip-path=\"url(#clip940)\" d=\"M1963.62 744.913 L1971.26 744.913 L1971.26 718.547 L1962.95 720.214 L1962.95 715.955 L1971.21 714.288 L1975.89 714.288 L1975.89 744.913 L1983.53 744.913 L1983.53 748.848 L1963.62 748.848 L1963.62 744.913 Z\" fill=\"#000000\" fill-rule=\"evenodd\" fill-opacity=\"1\" /><path clip-path=\"url(#clip940)\" d=\"M2002.97 717.367 Q1999.36 717.367 1997.53 720.931 Q1995.72 724.473 1995.72 731.603 Q1995.72 738.709 1997.53 742.274 Q1999.36 745.815 2002.97 745.815 Q2006.6 745.815 2008.41 742.274 Q2010.24 738.709 2010.24 731.603 Q2010.24 724.473 2008.41 720.931 Q2006.6 717.367 2002.97 717.367 M2002.97 713.663 Q2008.78 713.663 2011.84 718.269 Q2014.91 722.853 2014.91 731.603 Q2014.91 740.329 2011.84 744.936 Q2008.78 749.519 2002.97 749.519 Q1997.16 749.519 1994.08 744.936 Q1991.03 740.329 1991.03 731.603 Q1991.03 722.853 1994.08 718.269 Q1997.16 713.663 2002.97 713.663 Z\" fill=\"#000000\" fill-rule=\"evenodd\" fill-opacity=\"1\" /><path clip-path=\"url(#clip940)\" d=\"M2098.67 744.913 L2106.31 744.913 L2106.31 718.547 L2098 720.214 L2098 715.955 L2106.26 714.288 L2110.94 714.288 L2110.94 744.913 L2118.58 744.913 L2118.58 748.848 L2098.67 748.848 L2098.67 744.913 Z\" fill=\"#000000\" fill-rule=\"evenodd\" fill-opacity=\"1\" /><path clip-path=\"url(#clip940)\" d=\"M2132.05 744.913 L2148.37 744.913 L2148.37 748.848 L2126.42 748.848 L2126.42 744.913 Q2129.09 742.158 2133.67 737.528 Q2138.28 732.876 2139.46 731.533 Q2141.7 729.01 2142.58 727.274 Q2143.48 725.515 2143.48 723.825 Q2143.48 721.07 2141.54 719.334 Q2139.62 717.598 2136.52 717.598 Q2134.32 717.598 2131.86 718.362 Q2129.43 719.126 2126.66 720.677 L2126.66 715.955 Q2129.48 714.82 2131.93 714.242 Q2134.39 713.663 2136.42 713.663 Q2141.79 713.663 2144.99 716.348 Q2148.18 719.033 2148.18 723.524 Q2148.18 725.654 2147.37 727.575 Q2146.59 729.473 2144.48 732.066 Q2143.9 732.737 2140.8 735.954 Q2137.7 739.149 2132.05 744.913 Z\" fill=\"#000000\" fill-rule=\"evenodd\" fill-opacity=\"1\" /><path clip-path=\"url(#clip940)\" d=\"M2231.88 744.913 L2239.52 744.913 L2239.52 718.547 L2231.21 720.214 L2231.21 715.955 L2239.47 714.288 L2244.15 714.288 L2244.15 744.913 L2251.79 744.913 L2251.79 748.848 L2231.88 748.848 L2231.88 744.913 Z\" fill=\"#000000\" fill-rule=\"evenodd\" fill-opacity=\"1\" /><path clip-path=\"url(#clip940)\" d=\"M2274.08 718.362 L2262.27 736.811 L2274.08 736.811 L2274.08 718.362 M2272.85 714.288 L2278.73 714.288 L2278.73 736.811 L2283.66 736.811 L2283.66 740.7 L2278.73 740.7 L2278.73 748.848 L2274.08 748.848 L2274.08 740.7 L2258.48 740.7 L2258.48 736.186 L2272.85 714.288 Z\" fill=\"#000000\" fill-rule=\"evenodd\" fill-opacity=\"1\" /><polyline clip-path=\"url(#clip943)\" style=\"stroke:#000000; stroke-linecap:butt; stroke-linejoin:round; stroke-width:2; stroke-opacity:0.1; fill:none\" points=\"\n",
       "  1356.6,680.682 2352.76,680.682 \n",
       "  \"/>\n",
       "<polyline clip-path=\"url(#clip943)\" style=\"stroke:#000000; stroke-linecap:butt; stroke-linejoin:round; stroke-width:2; stroke-opacity:0.1; fill:none\" points=\"\n",
       "  1356.6,548.816 2352.76,548.816 \n",
       "  \"/>\n",
       "<polyline clip-path=\"url(#clip943)\" style=\"stroke:#000000; stroke-linecap:butt; stroke-linejoin:round; stroke-width:2; stroke-opacity:0.1; fill:none\" points=\"\n",
       "  1356.6,416.951 2352.76,416.951 \n",
       "  \"/>\n",
       "<polyline clip-path=\"url(#clip943)\" style=\"stroke:#000000; stroke-linecap:butt; stroke-linejoin:round; stroke-width:2; stroke-opacity:0.1; fill:none\" points=\"\n",
       "  1356.6,285.085 2352.76,285.085 \n",
       "  \"/>\n",
       "<polyline clip-path=\"url(#clip943)\" style=\"stroke:#000000; stroke-linecap:butt; stroke-linejoin:round; stroke-width:2; stroke-opacity:0.1; fill:none\" points=\"\n",
       "  1356.6,153.22 2352.76,153.22 \n",
       "  \"/>\n",
       "<polyline clip-path=\"url(#clip940)\" style=\"stroke:#000000; stroke-linecap:butt; stroke-linejoin:round; stroke-width:4; stroke-opacity:1; fill:none\" points=\"\n",
       "  1356.6,686.448 1356.6,47.2441 \n",
       "  \"/>\n",
       "<polyline clip-path=\"url(#clip940)\" style=\"stroke:#000000; stroke-linecap:butt; stroke-linejoin:round; stroke-width:4; stroke-opacity:1; fill:none\" points=\"\n",
       "  1356.6,680.682 1375.5,680.682 \n",
       "  \"/>\n",
       "<polyline clip-path=\"url(#clip940)\" style=\"stroke:#000000; stroke-linecap:butt; stroke-linejoin:round; stroke-width:4; stroke-opacity:1; fill:none\" points=\"\n",
       "  1356.6,548.816 1375.5,548.816 \n",
       "  \"/>\n",
       "<polyline clip-path=\"url(#clip940)\" style=\"stroke:#000000; stroke-linecap:butt; stroke-linejoin:round; stroke-width:4; stroke-opacity:1; fill:none\" points=\"\n",
       "  1356.6,416.951 1375.5,416.951 \n",
       "  \"/>\n",
       "<polyline clip-path=\"url(#clip940)\" style=\"stroke:#000000; stroke-linecap:butt; stroke-linejoin:round; stroke-width:4; stroke-opacity:1; fill:none\" points=\"\n",
       "  1356.6,285.085 1375.5,285.085 \n",
       "  \"/>\n",
       "<polyline clip-path=\"url(#clip940)\" style=\"stroke:#000000; stroke-linecap:butt; stroke-linejoin:round; stroke-width:4; stroke-opacity:1; fill:none\" points=\"\n",
       "  1356.6,153.22 1375.5,153.22 \n",
       "  \"/>\n",
       "<path clip-path=\"url(#clip940)\" d=\"M1263.42 666.481 Q1259.81 666.481 1257.98 670.045 Q1256.18 673.587 1256.18 680.717 Q1256.18 687.823 1257.98 691.388 Q1259.81 694.93 1263.42 694.93 Q1267.06 694.93 1268.86 691.388 Q1270.69 687.823 1270.69 680.717 Q1270.69 673.587 1268.86 670.045 Q1267.06 666.481 1263.42 666.481 M1263.42 662.777 Q1269.23 662.777 1272.29 667.383 Q1275.37 671.967 1275.37 680.717 Q1275.37 689.443 1272.29 694.05 Q1269.23 698.633 1263.42 698.633 Q1257.61 698.633 1254.53 694.05 Q1251.48 689.443 1251.48 680.717 Q1251.48 671.967 1254.53 667.383 Q1257.61 662.777 1263.42 662.777 Z\" fill=\"#000000\" fill-rule=\"evenodd\" fill-opacity=\"1\" /><path clip-path=\"url(#clip940)\" d=\"M1283.58 692.082 L1288.47 692.082 L1288.47 697.962 L1283.58 697.962 L1283.58 692.082 Z\" fill=\"#000000\" fill-rule=\"evenodd\" fill-opacity=\"1\" /><path clip-path=\"url(#clip940)\" d=\"M1308.65 666.481 Q1305.04 666.481 1303.21 670.045 Q1301.41 673.587 1301.41 680.717 Q1301.41 687.823 1303.21 691.388 Q1305.04 694.93 1308.65 694.93 Q1312.29 694.93 1314.09 691.388 Q1315.92 687.823 1315.92 680.717 Q1315.92 673.587 1314.09 670.045 Q1312.29 666.481 1308.65 666.481 M1308.65 662.777 Q1314.46 662.777 1317.52 667.383 Q1320.6 671.967 1320.6 680.717 Q1320.6 689.443 1317.52 694.05 Q1314.46 698.633 1308.65 698.633 Q1302.84 698.633 1299.77 694.05 Q1296.71 689.443 1296.71 680.717 Q1296.71 671.967 1299.77 667.383 Q1302.84 662.777 1308.65 662.777 Z\" fill=\"#000000\" fill-rule=\"evenodd\" fill-opacity=\"1\" /><path clip-path=\"url(#clip940)\" d=\"M1265.02 534.615 Q1261.41 534.615 1259.58 538.18 Q1257.77 541.722 1257.77 548.851 Q1257.77 555.958 1259.58 559.522 Q1261.41 563.064 1265.02 563.064 Q1268.65 563.064 1270.46 559.522 Q1272.29 555.958 1272.29 548.851 Q1272.29 541.722 1270.46 538.18 Q1268.65 534.615 1265.02 534.615 M1265.02 530.911 Q1270.83 530.911 1273.89 535.518 Q1276.96 540.101 1276.96 548.851 Q1276.96 557.578 1273.89 562.184 Q1270.83 566.768 1265.02 566.768 Q1259.21 566.768 1256.13 562.184 Q1253.08 557.578 1253.08 548.851 Q1253.08 540.101 1256.13 535.518 Q1259.21 530.911 1265.02 530.911 Z\" fill=\"#000000\" fill-rule=\"evenodd\" fill-opacity=\"1\" /><path clip-path=\"url(#clip940)\" d=\"M1285.18 560.217 L1290.07 560.217 L1290.07 566.096 L1285.18 566.096 L1285.18 560.217 Z\" fill=\"#000000\" fill-rule=\"evenodd\" fill-opacity=\"1\" /><path clip-path=\"url(#clip940)\" d=\"M1304.28 562.161 L1320.6 562.161 L1320.6 566.096 L1298.65 566.096 L1298.65 562.161 Q1301.32 559.407 1305.9 554.777 Q1310.51 550.124 1311.69 548.782 Q1313.93 546.259 1314.81 544.522 Q1315.71 542.763 1315.71 541.073 Q1315.71 538.319 1313.77 536.583 Q1311.85 534.847 1308.75 534.847 Q1306.55 534.847 1304.09 535.61 Q1301.66 536.374 1298.89 537.925 L1298.89 533.203 Q1301.71 532.069 1304.16 531.49 Q1306.62 530.911 1308.65 530.911 Q1314.02 530.911 1317.22 533.597 Q1320.41 536.282 1320.41 540.772 Q1320.41 542.902 1319.6 544.823 Q1318.82 546.721 1316.71 549.314 Q1316.13 549.985 1313.03 553.203 Q1309.93 556.397 1304.28 562.161 Z\" fill=\"#000000\" fill-rule=\"evenodd\" fill-opacity=\"1\" /><path clip-path=\"url(#clip940)\" d=\"M1262.94 402.75 Q1259.33 402.75 1257.5 406.314 Q1255.69 409.856 1255.69 416.986 Q1255.69 424.092 1257.5 427.657 Q1259.33 431.198 1262.94 431.198 Q1266.57 431.198 1268.38 427.657 Q1270.2 424.092 1270.2 416.986 Q1270.2 409.856 1268.38 406.314 Q1266.57 402.75 1262.94 402.75 M1262.94 399.046 Q1268.75 399.046 1271.8 403.652 Q1274.88 408.236 1274.88 416.986 Q1274.88 425.712 1271.8 430.319 Q1268.75 434.902 1262.94 434.902 Q1257.13 434.902 1254.05 430.319 Q1250.99 425.712 1250.99 416.986 Q1250.99 408.236 1254.05 403.652 Q1257.13 399.046 1262.94 399.046 Z\" fill=\"#000000\" fill-rule=\"evenodd\" fill-opacity=\"1\" /><path clip-path=\"url(#clip940)\" d=\"M1283.1 428.351 L1287.98 428.351 L1287.98 434.231 L1283.1 434.231 L1283.1 428.351 Z\" fill=\"#000000\" fill-rule=\"evenodd\" fill-opacity=\"1\" /><path clip-path=\"url(#clip940)\" d=\"M1311.01 403.745 L1299.21 422.194 L1311.01 422.194 L1311.01 403.745 M1309.79 399.671 L1315.67 399.671 L1315.67 422.194 L1320.6 422.194 L1320.6 426.083 L1315.67 426.083 L1315.67 434.231 L1311.01 434.231 L1311.01 426.083 L1295.41 426.083 L1295.41 421.569 L1309.79 399.671 Z\" fill=\"#000000\" fill-rule=\"evenodd\" fill-opacity=\"1\" /><path clip-path=\"url(#clip940)\" d=\"M1263.26 270.884 Q1259.65 270.884 1257.82 274.449 Q1256.02 277.99 1256.02 285.12 Q1256.02 292.226 1257.82 295.791 Q1259.65 299.333 1263.26 299.333 Q1266.89 299.333 1268.7 295.791 Q1270.53 292.226 1270.53 285.12 Q1270.53 277.99 1268.7 274.449 Q1266.89 270.884 1263.26 270.884 M1263.26 267.18 Q1269.07 267.18 1272.13 271.787 Q1275.2 276.37 1275.2 285.12 Q1275.2 293.847 1272.13 298.453 Q1269.07 303.037 1263.26 303.037 Q1257.45 303.037 1254.37 298.453 Q1251.32 293.847 1251.32 285.12 Q1251.32 276.37 1254.37 271.787 Q1257.45 267.18 1263.26 267.18 Z\" fill=\"#000000\" fill-rule=\"evenodd\" fill-opacity=\"1\" /><path clip-path=\"url(#clip940)\" d=\"M1283.42 296.486 L1288.31 296.486 L1288.31 302.365 L1283.42 302.365 L1283.42 296.486 Z\" fill=\"#000000\" fill-rule=\"evenodd\" fill-opacity=\"1\" /><path clip-path=\"url(#clip940)\" d=\"M1309.07 283.222 Q1305.92 283.222 1304.07 285.375 Q1302.24 287.527 1302.24 291.277 Q1302.24 295.004 1304.07 297.18 Q1305.92 299.333 1309.07 299.333 Q1312.22 299.333 1314.05 297.18 Q1315.9 295.004 1315.9 291.277 Q1315.9 287.527 1314.05 285.375 Q1312.22 283.222 1309.07 283.222 M1318.35 268.569 L1318.35 272.828 Q1316.59 271.995 1314.79 271.555 Q1313.01 271.115 1311.25 271.115 Q1306.62 271.115 1304.16 274.24 Q1301.73 277.365 1301.39 283.685 Q1302.75 281.671 1304.81 280.606 Q1306.87 279.518 1309.35 279.518 Q1314.56 279.518 1317.57 282.689 Q1320.6 285.838 1320.6 291.277 Q1320.6 296.601 1317.45 299.819 Q1314.3 303.037 1309.07 303.037 Q1303.08 303.037 1299.9 298.453 Q1296.73 293.847 1296.73 285.12 Q1296.73 276.926 1300.62 272.065 Q1304.51 267.18 1311.06 267.18 Q1312.82 267.18 1314.6 267.528 Q1316.41 267.875 1318.35 268.569 Z\" fill=\"#000000\" fill-rule=\"evenodd\" fill-opacity=\"1\" /><path clip-path=\"url(#clip940)\" d=\"M1263.52 139.018 Q1259.9 139.018 1258.08 142.583 Q1256.27 146.125 1256.27 153.255 Q1256.27 160.361 1258.08 163.926 Q1259.9 167.467 1263.52 167.467 Q1267.15 167.467 1268.95 163.926 Q1270.78 160.361 1270.78 153.255 Q1270.78 146.125 1268.95 142.583 Q1267.15 139.018 1263.52 139.018 M1263.52 135.315 Q1269.33 135.315 1272.38 139.921 Q1275.46 144.505 1275.46 153.255 Q1275.46 161.981 1272.38 166.588 Q1269.33 171.171 1263.52 171.171 Q1257.71 171.171 1254.63 166.588 Q1251.57 161.981 1251.57 153.255 Q1251.57 144.505 1254.63 139.921 Q1257.71 135.315 1263.52 135.315 Z\" fill=\"#000000\" fill-rule=\"evenodd\" fill-opacity=\"1\" /><path clip-path=\"url(#clip940)\" d=\"M1283.68 164.62 L1288.56 164.62 L1288.56 170.5 L1283.68 170.5 L1283.68 164.62 Z\" fill=\"#000000\" fill-rule=\"evenodd\" fill-opacity=\"1\" /><path clip-path=\"url(#clip940)\" d=\"M1308.75 154.088 Q1305.41 154.088 1303.49 155.87 Q1301.59 157.653 1301.59 160.778 Q1301.59 163.903 1303.49 165.685 Q1305.41 167.467 1308.75 167.467 Q1312.08 167.467 1314 165.685 Q1315.92 163.879 1315.92 160.778 Q1315.92 157.653 1314 155.87 Q1312.1 154.088 1308.75 154.088 M1304.07 152.097 Q1301.06 151.356 1299.37 149.296 Q1297.7 147.236 1297.7 144.273 Q1297.7 140.13 1300.64 137.722 Q1303.61 135.315 1308.75 135.315 Q1313.91 135.315 1316.85 137.722 Q1319.79 140.13 1319.79 144.273 Q1319.79 147.236 1318.1 149.296 Q1316.43 151.356 1313.45 152.097 Q1316.83 152.884 1318.7 155.176 Q1320.6 157.467 1320.6 160.778 Q1320.6 165.801 1317.52 168.486 Q1314.46 171.171 1308.75 171.171 Q1303.03 171.171 1299.95 168.486 Q1296.89 165.801 1296.89 160.778 Q1296.89 157.467 1298.79 155.176 Q1300.69 152.884 1304.07 152.097 M1302.36 144.713 Q1302.36 147.398 1304.02 148.903 Q1305.71 150.407 1308.75 150.407 Q1311.76 150.407 1313.45 148.903 Q1315.16 147.398 1315.16 144.713 Q1315.16 142.028 1313.45 140.523 Q1311.76 139.018 1308.75 139.018 Q1305.71 139.018 1304.02 140.523 Q1302.36 142.028 1302.36 144.713 Z\" fill=\"#000000\" fill-rule=\"evenodd\" fill-opacity=\"1\" /><circle clip-path=\"url(#clip943)\" cx=\"1384.79\" cy=\"349.962\" r=\"14\" fill=\"#009af9\" fill-rule=\"evenodd\" fill-opacity=\"1\" stroke=\"#000000\" stroke-opacity=\"1\" stroke-width=\"3.2\"/>\n",
       "<circle clip-path=\"url(#clip943)\" cx=\"1451.92\" cy=\"328.272\" r=\"14\" fill=\"#009af9\" fill-rule=\"evenodd\" fill-opacity=\"1\" stroke=\"#000000\" stroke-opacity=\"1\" stroke-width=\"3.2\"/>\n",
       "<circle clip-path=\"url(#clip943)\" cx=\"1519.04\" cy=\"668.357\" r=\"14\" fill=\"#009af9\" fill-rule=\"evenodd\" fill-opacity=\"1\" stroke=\"#000000\" stroke-opacity=\"1\" stroke-width=\"3.2\"/>\n",
       "<circle clip-path=\"url(#clip943)\" cx=\"1586.17\" cy=\"465.41\" r=\"14\" fill=\"#009af9\" fill-rule=\"evenodd\" fill-opacity=\"1\" stroke=\"#000000\" stroke-opacity=\"1\" stroke-width=\"3.2\"/>\n",
       "<circle clip-path=\"url(#clip943)\" cx=\"1653.3\" cy=\"105.345\" r=\"14\" fill=\"#009af9\" fill-rule=\"evenodd\" fill-opacity=\"1\" stroke=\"#000000\" stroke-opacity=\"1\" stroke-width=\"3.2\"/>\n",
       "<circle clip-path=\"url(#clip943)\" cx=\"1720.42\" cy=\"390.457\" r=\"14\" fill=\"#009af9\" fill-rule=\"evenodd\" fill-opacity=\"1\" stroke=\"#000000\" stroke-opacity=\"1\" stroke-width=\"3.2\"/>\n",
       "<circle clip-path=\"url(#clip943)\" cx=\"1787.55\" cy=\"600.139\" r=\"14\" fill=\"#009af9\" fill-rule=\"evenodd\" fill-opacity=\"1\" stroke=\"#000000\" stroke-opacity=\"1\" stroke-width=\"3.2\"/>\n",
       "<circle clip-path=\"url(#clip943)\" cx=\"1854.68\" cy=\"216.556\" r=\"14\" fill=\"#009af9\" fill-rule=\"evenodd\" fill-opacity=\"1\" stroke=\"#000000\" stroke-opacity=\"1\" stroke-width=\"3.2\"/>\n",
       "<circle clip-path=\"url(#clip943)\" cx=\"1921.8\" cy=\"65.3348\" r=\"14\" fill=\"#009af9\" fill-rule=\"evenodd\" fill-opacity=\"1\" stroke=\"#000000\" stroke-opacity=\"1\" stroke-width=\"3.2\"/>\n",
       "<circle clip-path=\"url(#clip943)\" cx=\"1988.93\" cy=\"455.083\" r=\"14\" fill=\"#009af9\" fill-rule=\"evenodd\" fill-opacity=\"1\" stroke=\"#000000\" stroke-opacity=\"1\" stroke-width=\"3.2\"/>\n",
       "<circle clip-path=\"url(#clip943)\" cx=\"2056.06\" cy=\"615.518\" r=\"14\" fill=\"#009af9\" fill-rule=\"evenodd\" fill-opacity=\"1\" stroke=\"#000000\" stroke-opacity=\"1\" stroke-width=\"3.2\"/>\n",
       "<circle clip-path=\"url(#clip943)\" cx=\"2123.18\" cy=\"347.728\" r=\"14\" fill=\"#009af9\" fill-rule=\"evenodd\" fill-opacity=\"1\" stroke=\"#000000\" stroke-opacity=\"1\" stroke-width=\"3.2\"/>\n",
       "<circle clip-path=\"url(#clip943)\" cx=\"2190.31\" cy=\"75.814\" r=\"14\" fill=\"#009af9\" fill-rule=\"evenodd\" fill-opacity=\"1\" stroke=\"#000000\" stroke-opacity=\"1\" stroke-width=\"3.2\"/>\n",
       "<circle clip-path=\"url(#clip943)\" cx=\"2257.44\" cy=\"348.199\" r=\"14\" fill=\"#009af9\" fill-rule=\"evenodd\" fill-opacity=\"1\" stroke=\"#000000\" stroke-opacity=\"1\" stroke-width=\"3.2\"/>\n",
       "<circle clip-path=\"url(#clip943)\" cx=\"2324.56\" cy=\"585.251\" r=\"14\" fill=\"#009af9\" fill-rule=\"evenodd\" fill-opacity=\"1\" stroke=\"#000000\" stroke-opacity=\"1\" stroke-width=\"3.2\"/>\n",
       "<path clip-path=\"url(#clip940)\" d=\"\n",
       "M2156.44 172.231 L2319.55 172.231 L2319.55 68.5509 L2156.44 68.5509  Z\n",
       "  \" fill=\"#ffffff\" fill-rule=\"evenodd\" fill-opacity=\"1\"/>\n",
       "<polyline clip-path=\"url(#clip940)\" style=\"stroke:#000000; stroke-linecap:butt; stroke-linejoin:round; stroke-width:4; stroke-opacity:1; fill:none\" points=\"\n",
       "  2156.44,172.231 2319.55,172.231 2319.55,68.5509 2156.44,68.5509 2156.44,172.231 \n",
       "  \"/>\n",
       "<circle clip-path=\"url(#clip940)\" cx=\"2200.71\" cy=\"120.391\" r=\"23\" fill=\"#009af9\" fill-rule=\"evenodd\" fill-opacity=\"1\" stroke=\"#000000\" stroke-opacity=\"1\" stroke-width=\"5.12\"/>\n",
       "<path clip-path=\"url(#clip940)\" d=\"M2258.83 140.078 Q2257.02 144.708 2255.31 146.12 Q2253.59 147.532 2250.72 147.532 L2247.32 147.532 L2247.32 143.967 L2249.82 143.967 Q2251.58 143.967 2252.55 143.134 Q2253.53 142.3 2254.71 139.199 L2255.47 137.254 L2244.98 111.745 L2249.5 111.745 L2257.6 132.023 L2265.7 111.745 L2270.21 111.745 L2258.83 140.078 Z\" fill=\"#000000\" fill-rule=\"evenodd\" fill-opacity=\"1\" /><path clip-path=\"url(#clip940)\" d=\"M2277.51 133.736 L2285.15 133.736 L2285.15 107.37 L2276.84 109.037 L2276.84 104.778 L2285.1 103.111 L2289.77 103.111 L2289.77 133.736 L2297.41 133.736 L2297.41 137.671 L2277.51 137.671 L2277.51 133.736 Z\" fill=\"#000000\" fill-rule=\"evenodd\" fill-opacity=\"1\" /><path clip-path=\"url(#clip940)\" d=\"\n",
       "M156.598 1486.45 L1152.76 1486.45 L1152.76 847.244 L156.598 847.244  Z\n",
       "  \" fill=\"#ffffff\" fill-rule=\"evenodd\" fill-opacity=\"1\"/>\n",
       "<defs>\n",
       "  <clipPath id=\"clip944\">\n",
       "    <rect x=\"156\" y=\"847\" width=\"997\" height=\"640\"/>\n",
       "  </clipPath>\n",
       "</defs>\n",
       "<polyline clip-path=\"url(#clip944)\" style=\"stroke:#000000; stroke-linecap:butt; stroke-linejoin:round; stroke-width:2; stroke-opacity:0.1; fill:none\" points=\"\n",
       "  175.446,1486.45 175.446,847.244 \n",
       "  \"/>\n",
       "<polyline clip-path=\"url(#clip944)\" style=\"stroke:#000000; stroke-linecap:butt; stroke-linejoin:round; stroke-width:2; stroke-opacity:0.1; fill:none\" points=\"\n",
       "  474.966,1486.45 474.966,847.244 \n",
       "  \"/>\n",
       "<polyline clip-path=\"url(#clip944)\" style=\"stroke:#000000; stroke-linecap:butt; stroke-linejoin:round; stroke-width:2; stroke-opacity:0.1; fill:none\" points=\"\n",
       "  774.485,1486.45 774.485,847.244 \n",
       "  \"/>\n",
       "<polyline clip-path=\"url(#clip944)\" style=\"stroke:#000000; stroke-linecap:butt; stroke-linejoin:round; stroke-width:2; stroke-opacity:0.1; fill:none\" points=\"\n",
       "  1074,1486.45 1074,847.244 \n",
       "  \"/>\n",
       "<polyline clip-path=\"url(#clip940)\" style=\"stroke:#000000; stroke-linecap:butt; stroke-linejoin:round; stroke-width:4; stroke-opacity:1; fill:none\" points=\"\n",
       "  156.598,1486.45 1152.76,1486.45 \n",
       "  \"/>\n",
       "<polyline clip-path=\"url(#clip940)\" style=\"stroke:#000000; stroke-linecap:butt; stroke-linejoin:round; stroke-width:4; stroke-opacity:1; fill:none\" points=\"\n",
       "  175.446,1486.45 175.446,1467.55 \n",
       "  \"/>\n",
       "<polyline clip-path=\"url(#clip940)\" style=\"stroke:#000000; stroke-linecap:butt; stroke-linejoin:round; stroke-width:4; stroke-opacity:1; fill:none\" points=\"\n",
       "  474.966,1486.45 474.966,1467.55 \n",
       "  \"/>\n",
       "<polyline clip-path=\"url(#clip940)\" style=\"stroke:#000000; stroke-linecap:butt; stroke-linejoin:round; stroke-width:4; stroke-opacity:1; fill:none\" points=\"\n",
       "  774.485,1486.45 774.485,1467.55 \n",
       "  \"/>\n",
       "<polyline clip-path=\"url(#clip940)\" style=\"stroke:#000000; stroke-linecap:butt; stroke-linejoin:round; stroke-width:4; stroke-opacity:1; fill:none\" points=\"\n",
       "  1074,1486.45 1074,1467.55 \n",
       "  \"/>\n",
       "<path clip-path=\"url(#clip940)\" d=\"M175.446 1517.37 Q171.835 1517.37 170.007 1520.93 Q168.201 1524.47 168.201 1531.6 Q168.201 1538.71 170.007 1542.27 Q171.835 1545.82 175.446 1545.82 Q179.081 1545.82 180.886 1542.27 Q182.715 1538.71 182.715 1531.6 Q182.715 1524.47 180.886 1520.93 Q179.081 1517.37 175.446 1517.37 M175.446 1513.66 Q181.257 1513.66 184.312 1518.27 Q187.391 1522.85 187.391 1531.6 Q187.391 1540.33 184.312 1544.94 Q181.257 1549.52 175.446 1549.52 Q169.636 1549.52 166.558 1544.94 Q163.502 1540.33 163.502 1531.6 Q163.502 1522.85 166.558 1518.27 Q169.636 1513.66 175.446 1513.66 Z\" fill=\"#000000\" fill-rule=\"evenodd\" fill-opacity=\"1\" /><path clip-path=\"url(#clip940)\" d=\"M465.243 1514.29 L483.6 1514.29 L483.6 1518.22 L469.526 1518.22 L469.526 1526.7 Q470.544 1526.35 471.563 1526.19 Q472.581 1526 473.6 1526 Q479.387 1526 482.766 1529.17 Q486.146 1532.34 486.146 1537.76 Q486.146 1543.34 482.674 1546.44 Q479.202 1549.52 472.882 1549.52 Q470.706 1549.52 468.438 1549.15 Q466.192 1548.78 463.785 1548.04 L463.785 1543.34 Q465.868 1544.47 468.091 1545.03 Q470.313 1545.58 472.79 1545.58 Q476.794 1545.58 479.132 1543.48 Q481.47 1541.37 481.47 1537.76 Q481.47 1534.15 479.132 1532.04 Q476.794 1529.94 472.79 1529.94 Q470.915 1529.94 469.04 1530.35 Q467.188 1530.77 465.243 1531.65 L465.243 1514.29 Z\" fill=\"#000000\" fill-rule=\"evenodd\" fill-opacity=\"1\" /><path clip-path=\"url(#clip940)\" d=\"M749.172 1544.91 L756.811 1544.91 L756.811 1518.55 L748.501 1520.21 L748.501 1515.95 L756.765 1514.29 L761.441 1514.29 L761.441 1544.91 L769.08 1544.91 L769.08 1548.85 L749.172 1548.85 L749.172 1544.91 Z\" fill=\"#000000\" fill-rule=\"evenodd\" fill-opacity=\"1\" /><path clip-path=\"url(#clip940)\" d=\"M788.524 1517.37 Q784.913 1517.37 783.084 1520.93 Q781.279 1524.47 781.279 1531.6 Q781.279 1538.71 783.084 1542.27 Q784.913 1545.82 788.524 1545.82 Q792.158 1545.82 793.964 1542.27 Q795.792 1538.71 795.792 1531.6 Q795.792 1524.47 793.964 1520.93 Q792.158 1517.37 788.524 1517.37 M788.524 1513.66 Q794.334 1513.66 797.39 1518.27 Q800.468 1522.85 800.468 1531.6 Q800.468 1540.33 797.39 1544.94 Q794.334 1549.52 788.524 1549.52 Q782.714 1549.52 779.635 1544.94 Q776.58 1540.33 776.58 1531.6 Q776.58 1522.85 779.635 1518.27 Q782.714 1513.66 788.524 1513.66 Z\" fill=\"#000000\" fill-rule=\"evenodd\" fill-opacity=\"1\" /><path clip-path=\"url(#clip940)\" d=\"M1049.19 1544.91 L1056.83 1544.91 L1056.83 1518.55 L1048.52 1520.21 L1048.52 1515.95 L1056.78 1514.29 L1061.46 1514.29 L1061.46 1544.91 L1069.1 1544.91 L1069.1 1548.85 L1049.19 1548.85 L1049.19 1544.91 Z\" fill=\"#000000\" fill-rule=\"evenodd\" fill-opacity=\"1\" /><path clip-path=\"url(#clip940)\" d=\"M1078.59 1514.29 L1096.94 1514.29 L1096.94 1518.22 L1082.87 1518.22 L1082.87 1526.7 Q1083.89 1526.35 1084.91 1526.19 Q1085.93 1526 1086.94 1526 Q1092.73 1526 1096.11 1529.17 Q1099.49 1532.34 1099.49 1537.76 Q1099.49 1543.34 1096.02 1546.44 Q1092.55 1549.52 1086.23 1549.52 Q1084.05 1549.52 1081.78 1549.15 Q1079.54 1548.78 1077.13 1548.04 L1077.13 1543.34 Q1079.21 1544.47 1081.43 1545.03 Q1083.66 1545.58 1086.13 1545.58 Q1090.14 1545.58 1092.48 1543.48 Q1094.81 1541.37 1094.81 1537.76 Q1094.81 1534.15 1092.48 1532.04 Q1090.14 1529.94 1086.13 1529.94 Q1084.26 1529.94 1082.38 1530.35 Q1080.53 1530.77 1078.59 1531.65 L1078.59 1514.29 Z\" fill=\"#000000\" fill-rule=\"evenodd\" fill-opacity=\"1\" /><polyline clip-path=\"url(#clip944)\" style=\"stroke:#000000; stroke-linecap:butt; stroke-linejoin:round; stroke-width:2; stroke-opacity:0.1; fill:none\" points=\"\n",
       "  156.598,1468.36 1152.76,1468.36 \n",
       "  \"/>\n",
       "<polyline clip-path=\"url(#clip944)\" style=\"stroke:#000000; stroke-linecap:butt; stroke-linejoin:round; stroke-width:2; stroke-opacity:0.1; fill:none\" points=\"\n",
       "  156.598,1339.13 1152.76,1339.13 \n",
       "  \"/>\n",
       "<polyline clip-path=\"url(#clip944)\" style=\"stroke:#000000; stroke-linecap:butt; stroke-linejoin:round; stroke-width:2; stroke-opacity:0.1; fill:none\" points=\"\n",
       "  156.598,1209.91 1152.76,1209.91 \n",
       "  \"/>\n",
       "<polyline clip-path=\"url(#clip944)\" style=\"stroke:#000000; stroke-linecap:butt; stroke-linejoin:round; stroke-width:2; stroke-opacity:0.1; fill:none\" points=\"\n",
       "  156.598,1080.68 1152.76,1080.68 \n",
       "  \"/>\n",
       "<polyline clip-path=\"url(#clip944)\" style=\"stroke:#000000; stroke-linecap:butt; stroke-linejoin:round; stroke-width:2; stroke-opacity:0.1; fill:none\" points=\"\n",
       "  156.598,951.46 1152.76,951.46 \n",
       "  \"/>\n",
       "<polyline clip-path=\"url(#clip940)\" style=\"stroke:#000000; stroke-linecap:butt; stroke-linejoin:round; stroke-width:4; stroke-opacity:1; fill:none\" points=\"\n",
       "  156.598,1486.45 156.598,847.244 \n",
       "  \"/>\n",
       "<polyline clip-path=\"url(#clip940)\" style=\"stroke:#000000; stroke-linecap:butt; stroke-linejoin:round; stroke-width:4; stroke-opacity:1; fill:none\" points=\"\n",
       "  156.598,1468.36 175.496,1468.36 \n",
       "  \"/>\n",
       "<polyline clip-path=\"url(#clip940)\" style=\"stroke:#000000; stroke-linecap:butt; stroke-linejoin:round; stroke-width:4; stroke-opacity:1; fill:none\" points=\"\n",
       "  156.598,1339.13 175.496,1339.13 \n",
       "  \"/>\n",
       "<polyline clip-path=\"url(#clip940)\" style=\"stroke:#000000; stroke-linecap:butt; stroke-linejoin:round; stroke-width:4; stroke-opacity:1; fill:none\" points=\"\n",
       "  156.598,1209.91 175.496,1209.91 \n",
       "  \"/>\n",
       "<polyline clip-path=\"url(#clip940)\" style=\"stroke:#000000; stroke-linecap:butt; stroke-linejoin:round; stroke-width:4; stroke-opacity:1; fill:none\" points=\"\n",
       "  156.598,1080.68 175.496,1080.68 \n",
       "  \"/>\n",
       "<polyline clip-path=\"url(#clip940)\" style=\"stroke:#000000; stroke-linecap:butt; stroke-linejoin:round; stroke-width:4; stroke-opacity:1; fill:none\" points=\"\n",
       "  156.598,951.46 175.496,951.46 \n",
       "  \"/>\n",
       "<path clip-path=\"url(#clip940)\" d=\"M63.4226 1454.16 Q59.8115 1454.16 57.9828 1457.72 Q56.1773 1461.26 56.1773 1468.39 Q56.1773 1475.5 57.9828 1479.06 Q59.8115 1482.6 63.4226 1482.6 Q67.0569 1482.6 68.8624 1479.06 Q70.6911 1475.5 70.6911 1468.39 Q70.6911 1461.26 68.8624 1457.72 Q67.0569 1454.16 63.4226 1454.16 M63.4226 1450.45 Q69.2328 1450.45 72.2883 1455.06 Q75.367 1459.64 75.367 1468.39 Q75.367 1477.12 72.2883 1481.73 Q69.2328 1486.31 63.4226 1486.31 Q57.6125 1486.31 54.5338 1481.73 Q51.4782 1477.12 51.4782 1468.39 Q51.4782 1459.64 54.5338 1455.06 Q57.6125 1450.45 63.4226 1450.45 Z\" fill=\"#000000\" fill-rule=\"evenodd\" fill-opacity=\"1\" /><path clip-path=\"url(#clip940)\" d=\"M83.5845 1479.76 L88.4688 1479.76 L88.4688 1485.64 L83.5845 1485.64 L83.5845 1479.76 Z\" fill=\"#000000\" fill-rule=\"evenodd\" fill-opacity=\"1\" /><path clip-path=\"url(#clip940)\" d=\"M108.654 1454.16 Q105.043 1454.16 103.214 1457.72 Q101.409 1461.26 101.409 1468.39 Q101.409 1475.5 103.214 1479.06 Q105.043 1482.6 108.654 1482.6 Q112.288 1482.6 114.094 1479.06 Q115.922 1475.5 115.922 1468.39 Q115.922 1461.26 114.094 1457.72 Q112.288 1454.16 108.654 1454.16 M108.654 1450.45 Q114.464 1450.45 117.52 1455.06 Q120.598 1459.64 120.598 1468.39 Q120.598 1477.12 117.52 1481.73 Q114.464 1486.31 108.654 1486.31 Q102.844 1486.31 99.765 1481.73 Q96.7095 1477.12 96.7095 1468.39 Q96.7095 1459.64 99.765 1455.06 Q102.844 1450.45 108.654 1450.45 Z\" fill=\"#000000\" fill-rule=\"evenodd\" fill-opacity=\"1\" /><path clip-path=\"url(#clip940)\" d=\"M65.0198 1324.93 Q61.4087 1324.93 59.58 1328.5 Q57.7745 1332.04 57.7745 1339.17 Q57.7745 1346.27 59.58 1349.84 Q61.4087 1353.38 65.0198 1353.38 Q68.6541 1353.38 70.4596 1349.84 Q72.2883 1346.27 72.2883 1339.17 Q72.2883 1332.04 70.4596 1328.5 Q68.6541 1324.93 65.0198 1324.93 M65.0198 1321.23 Q70.83 1321.23 73.8855 1325.83 Q76.9642 1330.42 76.9642 1339.17 Q76.9642 1347.89 73.8855 1352.5 Q70.83 1357.08 65.0198 1357.08 Q59.2097 1357.08 56.131 1352.5 Q53.0754 1347.89 53.0754 1339.17 Q53.0754 1330.42 56.131 1325.83 Q59.2097 1321.23 65.0198 1321.23 Z\" fill=\"#000000\" fill-rule=\"evenodd\" fill-opacity=\"1\" /><path clip-path=\"url(#clip940)\" d=\"M85.1818 1350.53 L90.066 1350.53 L90.066 1356.41 L85.1818 1356.41 L85.1818 1350.53 Z\" fill=\"#000000\" fill-rule=\"evenodd\" fill-opacity=\"1\" /><path clip-path=\"url(#clip940)\" d=\"M104.279 1352.48 L120.598 1352.48 L120.598 1356.41 L98.6539 1356.41 L98.6539 1352.48 Q101.316 1349.72 105.899 1345.09 Q110.506 1340.44 111.686 1339.1 Q113.932 1336.57 114.811 1334.84 Q115.714 1333.08 115.714 1331.39 Q115.714 1328.64 113.77 1326.9 Q111.848 1325.16 108.746 1325.16 Q106.547 1325.16 104.094 1325.93 Q101.663 1326.69 98.8854 1328.24 L98.8854 1323.52 Q101.709 1322.39 104.163 1321.81 Q106.617 1321.23 108.654 1321.23 Q114.024 1321.23 117.219 1323.91 Q120.413 1326.6 120.413 1331.09 Q120.413 1333.22 119.603 1335.14 Q118.816 1337.04 116.709 1339.63 Q116.131 1340.3 113.029 1343.52 Q109.927 1346.71 104.279 1352.48 Z\" fill=\"#000000\" fill-rule=\"evenodd\" fill-opacity=\"1\" /><path clip-path=\"url(#clip940)\" d=\"M62.9365 1195.71 Q59.3254 1195.71 57.4967 1199.27 Q55.6912 1202.81 55.6912 1209.94 Q55.6912 1217.05 57.4967 1220.61 Q59.3254 1224.16 62.9365 1224.16 Q66.5707 1224.16 68.3763 1220.61 Q70.205 1217.05 70.205 1209.94 Q70.205 1202.81 68.3763 1199.27 Q66.5707 1195.71 62.9365 1195.71 M62.9365 1192 Q68.7467 1192 71.8022 1196.61 Q74.8809 1201.19 74.8809 1209.94 Q74.8809 1218.67 71.8022 1223.28 Q68.7467 1227.86 62.9365 1227.86 Q57.1264 1227.86 54.0477 1223.28 Q50.9921 1218.67 50.9921 1209.94 Q50.9921 1201.19 54.0477 1196.61 Q57.1264 1192 62.9365 1192 Z\" fill=\"#000000\" fill-rule=\"evenodd\" fill-opacity=\"1\" /><path clip-path=\"url(#clip940)\" d=\"M83.0984 1221.31 L87.9827 1221.31 L87.9827 1227.19 L83.0984 1227.19 L83.0984 1221.31 Z\" fill=\"#000000\" fill-rule=\"evenodd\" fill-opacity=\"1\" /><path clip-path=\"url(#clip940)\" d=\"M111.015 1196.7 L99.2095 1215.15 L111.015 1215.15 L111.015 1196.7 M109.788 1192.63 L115.668 1192.63 L115.668 1215.15 L120.598 1215.15 L120.598 1219.04 L115.668 1219.04 L115.668 1227.19 L111.015 1227.19 L111.015 1219.04 L95.4132 1219.04 L95.4132 1214.53 L109.788 1192.63 Z\" fill=\"#000000\" fill-rule=\"evenodd\" fill-opacity=\"1\" /><path clip-path=\"url(#clip940)\" d=\"M63.2606 1066.48 Q59.6495 1066.48 57.8208 1070.05 Q56.0152 1073.59 56.0152 1080.72 Q56.0152 1087.83 57.8208 1091.39 Q59.6495 1094.93 63.2606 1094.93 Q66.8948 1094.93 68.7004 1091.39 Q70.5291 1087.83 70.5291 1080.72 Q70.5291 1073.59 68.7004 1070.05 Q66.8948 1066.48 63.2606 1066.48 M63.2606 1062.78 Q69.0707 1062.78 72.1263 1067.39 Q75.205 1071.97 75.205 1080.72 Q75.205 1089.45 72.1263 1094.05 Q69.0707 1098.64 63.2606 1098.64 Q57.4504 1098.64 54.3717 1094.05 Q51.3162 1089.45 51.3162 1080.72 Q51.3162 1071.97 54.3717 1067.39 Q57.4504 1062.78 63.2606 1062.78 Z\" fill=\"#000000\" fill-rule=\"evenodd\" fill-opacity=\"1\" /><path clip-path=\"url(#clip940)\" d=\"M83.4225 1092.08 L88.3067 1092.08 L88.3067 1097.96 L83.4225 1097.96 L83.4225 1092.08 Z\" fill=\"#000000\" fill-rule=\"evenodd\" fill-opacity=\"1\" /><path clip-path=\"url(#clip940)\" d=\"M109.071 1078.82 Q105.922 1078.82 104.071 1080.97 Q102.242 1083.13 102.242 1086.88 Q102.242 1090.6 104.071 1092.78 Q105.922 1094.93 109.071 1094.93 Q112.219 1094.93 114.047 1092.78 Q115.899 1090.6 115.899 1086.88 Q115.899 1083.13 114.047 1080.97 Q112.219 1078.82 109.071 1078.82 M118.353 1064.17 L118.353 1068.43 Q116.594 1067.59 114.788 1067.15 Q113.006 1066.71 111.246 1066.71 Q106.617 1066.71 104.163 1069.84 Q101.733 1072.96 101.385 1079.28 Q102.751 1077.27 104.811 1076.2 Q106.871 1075.12 109.348 1075.12 Q114.557 1075.12 117.566 1078.29 Q120.598 1081.44 120.598 1086.88 Q120.598 1092.2 117.45 1095.42 Q114.302 1098.64 109.071 1098.64 Q103.075 1098.64 99.9039 1094.05 Q96.7326 1089.45 96.7326 1080.72 Q96.7326 1072.52 100.621 1067.66 Q104.51 1062.78 111.061 1062.78 Q112.82 1062.78 114.603 1063.13 Q116.408 1063.47 118.353 1064.17 Z\" fill=\"#000000\" fill-rule=\"evenodd\" fill-opacity=\"1\" /><path clip-path=\"url(#clip940)\" d=\"M63.5152 937.258 Q59.9041 937.258 58.0754 940.823 Q56.2699 944.365 56.2699 951.494 Q56.2699 958.601 58.0754 962.166 Q59.9041 965.707 63.5152 965.707 Q67.1494 965.707 68.955 962.166 Q70.7837 958.601 70.7837 951.494 Q70.7837 944.365 68.955 940.823 Q67.1494 937.258 63.5152 937.258 M63.5152 933.555 Q69.3254 933.555 72.3809 938.161 Q75.4596 942.744 75.4596 951.494 Q75.4596 960.221 72.3809 964.828 Q69.3254 969.411 63.5152 969.411 Q57.7051 969.411 54.6264 964.828 Q51.5708 960.221 51.5708 951.494 Q51.5708 942.744 54.6264 938.161 Q57.7051 933.555 63.5152 933.555 Z\" fill=\"#000000\" fill-rule=\"evenodd\" fill-opacity=\"1\" /><path clip-path=\"url(#clip940)\" d=\"M83.6771 962.86 L88.5614 962.86 L88.5614 968.74 L83.6771 968.74 L83.6771 962.86 Z\" fill=\"#000000\" fill-rule=\"evenodd\" fill-opacity=\"1\" /><path clip-path=\"url(#clip940)\" d=\"M108.746 952.328 Q105.413 952.328 103.492 954.11 Q101.594 955.892 101.594 959.017 Q101.594 962.142 103.492 963.925 Q105.413 965.707 108.746 965.707 Q112.08 965.707 114.001 963.925 Q115.922 962.119 115.922 959.017 Q115.922 955.892 114.001 954.11 Q112.103 952.328 108.746 952.328 M104.071 950.337 Q101.061 949.596 99.3715 947.536 Q97.7048 945.476 97.7048 942.513 Q97.7048 938.369 100.645 935.962 Q103.608 933.555 108.746 933.555 Q113.908 933.555 116.848 935.962 Q119.788 938.369 119.788 942.513 Q119.788 945.476 118.098 947.536 Q116.432 949.596 113.445 950.337 Q116.825 951.124 118.7 953.416 Q120.598 955.707 120.598 959.017 Q120.598 964.04 117.52 966.726 Q114.464 969.411 108.746 969.411 Q103.029 969.411 99.9502 966.726 Q96.8947 964.04 96.8947 959.017 Q96.8947 955.707 98.7928 953.416 Q100.691 951.124 104.071 950.337 M102.358 942.953 Q102.358 945.638 104.024 947.142 Q105.714 948.647 108.746 948.647 Q111.756 948.647 113.445 947.142 Q115.158 945.638 115.158 942.953 Q115.158 940.267 113.445 938.763 Q111.756 937.258 108.746 937.258 Q105.714 937.258 104.024 938.763 Q102.358 940.267 102.358 942.953 Z\" fill=\"#000000\" fill-rule=\"evenodd\" fill-opacity=\"1\" /><path clip-path=\"url(#clip944)\" d=\"\n",
       "M211.389 1144.26 L211.389 1468.36 L259.312 1468.36 L259.312 1144.26 L211.389 1144.26 L211.389 1144.26  Z\n",
       "  \" fill=\"#009af9\" fill-rule=\"evenodd\" fill-opacity=\"1\"/>\n",
       "<polyline clip-path=\"url(#clip944)\" style=\"stroke:#000000; stroke-linecap:butt; stroke-linejoin:round; stroke-width:4; stroke-opacity:1; fill:none\" points=\"\n",
       "  211.389,1144.26 211.389,1468.36 259.312,1468.36 259.312,1144.26 211.389,1144.26 \n",
       "  \"/>\n",
       "<path clip-path=\"url(#clip944)\" d=\"\n",
       "M271.293 1123.01 L271.293 1468.36 L319.216 1468.36 L319.216 1123.01 L271.293 1123.01 L271.293 1123.01  Z\n",
       "  \" fill=\"#009af9\" fill-rule=\"evenodd\" fill-opacity=\"1\"/>\n",
       "<polyline clip-path=\"url(#clip944)\" style=\"stroke:#000000; stroke-linecap:butt; stroke-linejoin:round; stroke-width:4; stroke-opacity:1; fill:none\" points=\"\n",
       "  271.293,1123.01 271.293,1468.36 319.216,1468.36 319.216,1123.01 271.293,1123.01 \n",
       "  \"/>\n",
       "<path clip-path=\"url(#clip944)\" d=\"\n",
       "M331.196 1456.28 L331.196 1468.36 L379.119 1468.36 L379.119 1456.28 L331.196 1456.28 L331.196 1456.28  Z\n",
       "  \" fill=\"#009af9\" fill-rule=\"evenodd\" fill-opacity=\"1\"/>\n",
       "<polyline clip-path=\"url(#clip944)\" style=\"stroke:#000000; stroke-linecap:butt; stroke-linejoin:round; stroke-width:4; stroke-opacity:1; fill:none\" points=\"\n",
       "  331.196,1456.28 331.196,1468.36 379.119,1468.36 379.119,1456.28 331.196,1456.28 \n",
       "  \"/>\n",
       "<path clip-path=\"url(#clip944)\" d=\"\n",
       "M391.1 1257.4 L391.1 1468.36 L439.023 1468.36 L439.023 1257.4 L391.1 1257.4 L391.1 1257.4  Z\n",
       "  \" fill=\"#009af9\" fill-rule=\"evenodd\" fill-opacity=\"1\"/>\n",
       "<polyline clip-path=\"url(#clip944)\" style=\"stroke:#000000; stroke-linecap:butt; stroke-linejoin:round; stroke-width:4; stroke-opacity:1; fill:none\" points=\"\n",
       "  391.1,1257.4 391.1,1468.36 439.023,1468.36 439.023,1257.4 391.1,1257.4 \n",
       "  \"/>\n",
       "<path clip-path=\"url(#clip944)\" d=\"\n",
       "M451.004 904.544 L451.004 1468.36 L498.927 1468.36 L498.927 904.544 L451.004 904.544 L451.004 904.544  Z\n",
       "  \" fill=\"#009af9\" fill-rule=\"evenodd\" fill-opacity=\"1\"/>\n",
       "<polyline clip-path=\"url(#clip944)\" style=\"stroke:#000000; stroke-linecap:butt; stroke-linejoin:round; stroke-width:4; stroke-opacity:1; fill:none\" points=\"\n",
       "  451.004,904.544 451.004,1468.36 498.927,1468.36 498.927,904.544 451.004,904.544 \n",
       "  \"/>\n",
       "<path clip-path=\"url(#clip944)\" d=\"\n",
       "M510.908 1183.95 L510.908 1468.36 L558.831 1468.36 L558.831 1183.95 L510.908 1183.95 L510.908 1183.95  Z\n",
       "  \" fill=\"#009af9\" fill-rule=\"evenodd\" fill-opacity=\"1\"/>\n",
       "<polyline clip-path=\"url(#clip944)\" style=\"stroke:#000000; stroke-linecap:butt; stroke-linejoin:round; stroke-width:4; stroke-opacity:1; fill:none\" points=\"\n",
       "  510.908,1183.95 510.908,1468.36 558.831,1468.36 558.831,1183.95 510.908,1183.95 \n",
       "  \"/>\n",
       "<path clip-path=\"url(#clip944)\" d=\"\n",
       "M570.812 1389.43 L570.812 1468.36 L618.735 1468.36 L618.735 1389.43 L570.812 1389.43 L570.812 1389.43  Z\n",
       "  \" fill=\"#009af9\" fill-rule=\"evenodd\" fill-opacity=\"1\"/>\n",
       "<polyline clip-path=\"url(#clip944)\" style=\"stroke:#000000; stroke-linecap:butt; stroke-linejoin:round; stroke-width:4; stroke-opacity:1; fill:none\" points=\"\n",
       "  570.812,1389.43 570.812,1468.36 618.735,1468.36 618.735,1389.43 570.812,1389.43 \n",
       "  \"/>\n",
       "<path clip-path=\"url(#clip944)\" d=\"\n",
       "M630.716 1013.53 L630.716 1468.36 L678.639 1468.36 L678.639 1013.53 L630.716 1013.53 L630.716 1013.53  Z\n",
       "  \" fill=\"#009af9\" fill-rule=\"evenodd\" fill-opacity=\"1\"/>\n",
       "<polyline clip-path=\"url(#clip944)\" style=\"stroke:#000000; stroke-linecap:butt; stroke-linejoin:round; stroke-width:4; stroke-opacity:1; fill:none\" points=\"\n",
       "  630.716,1013.53 630.716,1468.36 678.639,1468.36 678.639,1013.53 630.716,1013.53 \n",
       "  \"/>\n",
       "<path clip-path=\"url(#clip944)\" d=\"\n",
       "M690.619 865.335 L690.619 1468.36 L738.542 1468.36 L738.542 865.335 L690.619 865.335 L690.619 865.335  Z\n",
       "  \" fill=\"#009af9\" fill-rule=\"evenodd\" fill-opacity=\"1\"/>\n",
       "<polyline clip-path=\"url(#clip944)\" style=\"stroke:#000000; stroke-linecap:butt; stroke-linejoin:round; stroke-width:4; stroke-opacity:1; fill:none\" points=\"\n",
       "  690.619,865.335 690.619,1468.36 738.542,1468.36 738.542,865.335 690.619,865.335 \n",
       "  \"/>\n",
       "<path clip-path=\"url(#clip944)\" d=\"\n",
       "M750.523 1247.28 L750.523 1468.36 L798.446 1468.36 L798.446 1247.28 L750.523 1247.28 L750.523 1247.28  Z\n",
       "  \" fill=\"#009af9\" fill-rule=\"evenodd\" fill-opacity=\"1\"/>\n",
       "<polyline clip-path=\"url(#clip944)\" style=\"stroke:#000000; stroke-linecap:butt; stroke-linejoin:round; stroke-width:4; stroke-opacity:1; fill:none\" points=\"\n",
       "  750.523,1247.28 750.523,1468.36 798.446,1468.36 798.446,1247.28 750.523,1247.28 \n",
       "  \"/>\n",
       "<path clip-path=\"url(#clip944)\" d=\"\n",
       "M810.427 1404.5 L810.427 1468.36 L858.35 1468.36 L858.35 1404.5 L810.427 1404.5 L810.427 1404.5  Z\n",
       "  \" fill=\"#009af9\" fill-rule=\"evenodd\" fill-opacity=\"1\"/>\n",
       "<polyline clip-path=\"url(#clip944)\" style=\"stroke:#000000; stroke-linecap:butt; stroke-linejoin:round; stroke-width:4; stroke-opacity:1; fill:none\" points=\"\n",
       "  810.427,1404.5 810.427,1468.36 858.35,1468.36 858.35,1404.5 810.427,1404.5 \n",
       "  \"/>\n",
       "<path clip-path=\"url(#clip944)\" d=\"\n",
       "M870.331 1142.07 L870.331 1468.36 L918.254 1468.36 L918.254 1142.07 L870.331 1142.07 L870.331 1142.07  Z\n",
       "  \" fill=\"#009af9\" fill-rule=\"evenodd\" fill-opacity=\"1\"/>\n",
       "<polyline clip-path=\"url(#clip944)\" style=\"stroke:#000000; stroke-linecap:butt; stroke-linejoin:round; stroke-width:4; stroke-opacity:1; fill:none\" points=\"\n",
       "  870.331,1142.07 870.331,1468.36 918.254,1468.36 918.254,1142.07 870.331,1142.07 \n",
       "  \"/>\n",
       "<path clip-path=\"url(#clip944)\" d=\"\n",
       "M930.235 875.604 L930.235 1468.36 L978.158 1468.36 L978.158 875.604 L930.235 875.604 L930.235 875.604  Z\n",
       "  \" fill=\"#009af9\" fill-rule=\"evenodd\" fill-opacity=\"1\"/>\n",
       "<polyline clip-path=\"url(#clip944)\" style=\"stroke:#000000; stroke-linecap:butt; stroke-linejoin:round; stroke-width:4; stroke-opacity:1; fill:none\" points=\"\n",
       "  930.235,875.604 930.235,1468.36 978.158,1468.36 978.158,875.604 930.235,875.604 \n",
       "  \"/>\n",
       "<path clip-path=\"url(#clip944)\" d=\"\n",
       "M990.139 1142.53 L990.139 1468.36 L1038.06 1468.36 L1038.06 1142.53 L990.139 1142.53 L990.139 1142.53  Z\n",
       "  \" fill=\"#009af9\" fill-rule=\"evenodd\" fill-opacity=\"1\"/>\n",
       "<polyline clip-path=\"url(#clip944)\" style=\"stroke:#000000; stroke-linecap:butt; stroke-linejoin:round; stroke-width:4; stroke-opacity:1; fill:none\" points=\"\n",
       "  990.139,1142.53 990.139,1468.36 1038.06,1468.36 1038.06,1142.53 990.139,1142.53 \n",
       "  \"/>\n",
       "<path clip-path=\"url(#clip944)\" d=\"\n",
       "M1050.04 1374.84 L1050.04 1468.36 L1097.97 1468.36 L1097.97 1374.84 L1050.04 1374.84 L1050.04 1374.84  Z\n",
       "  \" fill=\"#009af9\" fill-rule=\"evenodd\" fill-opacity=\"1\"/>\n",
       "<polyline clip-path=\"url(#clip944)\" style=\"stroke:#000000; stroke-linecap:butt; stroke-linejoin:round; stroke-width:4; stroke-opacity:1; fill:none\" points=\"\n",
       "  1050.04,1374.84 1050.04,1468.36 1097.97,1468.36 1097.97,1374.84 1050.04,1374.84 \n",
       "  \"/>\n",
       "<circle clip-path=\"url(#clip944)\" style=\"fill:#009af9; stroke:none; fill-opacity:0\" cx=\"235.35\" cy=\"1144.26\" r=\"2\"/>\n",
       "<circle clip-path=\"url(#clip944)\" style=\"fill:#009af9; stroke:none; fill-opacity:0\" cx=\"295.254\" cy=\"1123.01\" r=\"2\"/>\n",
       "<circle clip-path=\"url(#clip944)\" style=\"fill:#009af9; stroke:none; fill-opacity:0\" cx=\"355.158\" cy=\"1456.28\" r=\"2\"/>\n",
       "<circle clip-path=\"url(#clip944)\" style=\"fill:#009af9; stroke:none; fill-opacity:0\" cx=\"415.062\" cy=\"1257.4\" r=\"2\"/>\n",
       "<circle clip-path=\"url(#clip944)\" style=\"fill:#009af9; stroke:none; fill-opacity:0\" cx=\"474.966\" cy=\"904.544\" r=\"2\"/>\n",
       "<circle clip-path=\"url(#clip944)\" style=\"fill:#009af9; stroke:none; fill-opacity:0\" cx=\"534.869\" cy=\"1183.95\" r=\"2\"/>\n",
       "<circle clip-path=\"url(#clip944)\" style=\"fill:#009af9; stroke:none; fill-opacity:0\" cx=\"594.773\" cy=\"1389.43\" r=\"2\"/>\n",
       "<circle clip-path=\"url(#clip944)\" style=\"fill:#009af9; stroke:none; fill-opacity:0\" cx=\"654.677\" cy=\"1013.53\" r=\"2\"/>\n",
       "<circle clip-path=\"url(#clip944)\" style=\"fill:#009af9; stroke:none; fill-opacity:0\" cx=\"714.581\" cy=\"865.335\" r=\"2\"/>\n",
       "<circle clip-path=\"url(#clip944)\" style=\"fill:#009af9; stroke:none; fill-opacity:0\" cx=\"774.485\" cy=\"1247.28\" r=\"2\"/>\n",
       "<circle clip-path=\"url(#clip944)\" style=\"fill:#009af9; stroke:none; fill-opacity:0\" cx=\"834.389\" cy=\"1404.5\" r=\"2\"/>\n",
       "<circle clip-path=\"url(#clip944)\" style=\"fill:#009af9; stroke:none; fill-opacity:0\" cx=\"894.292\" cy=\"1142.07\" r=\"2\"/>\n",
       "<circle clip-path=\"url(#clip944)\" style=\"fill:#009af9; stroke:none; fill-opacity:0\" cx=\"954.196\" cy=\"875.604\" r=\"2\"/>\n",
       "<circle clip-path=\"url(#clip944)\" style=\"fill:#009af9; stroke:none; fill-opacity:0\" cx=\"1014.1\" cy=\"1142.53\" r=\"2\"/>\n",
       "<circle clip-path=\"url(#clip944)\" style=\"fill:#009af9; stroke:none; fill-opacity:0\" cx=\"1074\" cy=\"1374.84\" r=\"2\"/>\n",
       "<path clip-path=\"url(#clip940)\" d=\"\n",
       "M956.436 972.231 L1119.55 972.231 L1119.55 868.551 L956.436 868.551  Z\n",
       "  \" fill=\"#ffffff\" fill-rule=\"evenodd\" fill-opacity=\"1\"/>\n",
       "<polyline clip-path=\"url(#clip940)\" style=\"stroke:#000000; stroke-linecap:butt; stroke-linejoin:round; stroke-width:4; stroke-opacity:1; fill:none\" points=\"\n",
       "  956.436,972.231 1119.55,972.231 1119.55,868.551 956.436,868.551 956.436,972.231 \n",
       "  \"/>\n",
       "<path clip-path=\"url(#clip940)\" d=\"\n",
       "M967.505 941.127 L1033.92 941.127 L1033.92 899.655 L967.505 899.655 L967.505 941.127  Z\n",
       "  \" fill=\"#009af9\" fill-rule=\"evenodd\" fill-opacity=\"1\"/>\n",
       "<polyline clip-path=\"url(#clip940)\" style=\"stroke:#000000; stroke-linecap:butt; stroke-linejoin:round; stroke-width:4; stroke-opacity:1; fill:none\" points=\"\n",
       "  967.505,941.127 1033.92,941.127 1033.92,899.655 967.505,899.655 967.505,941.127 \n",
       "  \"/>\n",
       "<path clip-path=\"url(#clip940)\" d=\"M1058.83 940.078 Q1057.02 944.708 1055.31 946.12 Q1053.59 947.532 1050.72 947.532 L1047.32 947.532 L1047.32 943.967 L1049.82 943.967 Q1051.58 943.967 1052.55 943.134 Q1053.53 942.3 1054.71 939.199 L1055.47 937.254 L1044.98 911.745 L1049.5 911.745 L1057.6 932.023 L1065.7 911.745 L1070.21 911.745 L1058.83 940.078 Z\" fill=\"#000000\" fill-rule=\"evenodd\" fill-opacity=\"1\" /><path clip-path=\"url(#clip940)\" d=\"M1077.51 933.736 L1085.15 933.736 L1085.15 907.37 L1076.84 909.037 L1076.84 904.778 L1085.1 903.111 L1089.77 903.111 L1089.77 933.736 L1097.41 933.736 L1097.41 937.671 L1077.51 937.671 L1077.51 933.736 Z\" fill=\"#000000\" fill-rule=\"evenodd\" fill-opacity=\"1\" /><path clip-path=\"url(#clip940)\" d=\"\n",
       "M1356.6 1486.45 L2352.76 1486.45 L2352.76 847.244 L1356.6 847.244  Z\n",
       "  \" fill=\"#ffffff\" fill-rule=\"evenodd\" fill-opacity=\"1\"/>\n",
       "<defs>\n",
       "  <clipPath id=\"clip945\">\n",
       "    <rect x=\"1356\" y=\"847\" width=\"997\" height=\"640\"/>\n",
       "  </clipPath>\n",
       "</defs>\n",
       "<polyline clip-path=\"url(#clip945)\" style=\"stroke:#000000; stroke-linecap:butt; stroke-linejoin:round; stroke-width:2; stroke-opacity:0.1; fill:none\" points=\"\n",
       "  1411.39,1486.45 1411.39,847.244 \n",
       "  \"/>\n",
       "<polyline clip-path=\"url(#clip945)\" style=\"stroke:#000000; stroke-linecap:butt; stroke-linejoin:round; stroke-width:2; stroke-opacity:0.1; fill:none\" points=\"\n",
       "  1633.03,1486.45 1633.03,847.244 \n",
       "  \"/>\n",
       "<polyline clip-path=\"url(#clip945)\" style=\"stroke:#000000; stroke-linecap:butt; stroke-linejoin:round; stroke-width:2; stroke-opacity:0.1; fill:none\" points=\"\n",
       "  1854.68,1486.45 1854.68,847.244 \n",
       "  \"/>\n",
       "<polyline clip-path=\"url(#clip945)\" style=\"stroke:#000000; stroke-linecap:butt; stroke-linejoin:round; stroke-width:2; stroke-opacity:0.1; fill:none\" points=\"\n",
       "  2076.32,1486.45 2076.32,847.244 \n",
       "  \"/>\n",
       "<polyline clip-path=\"url(#clip945)\" style=\"stroke:#000000; stroke-linecap:butt; stroke-linejoin:round; stroke-width:2; stroke-opacity:0.1; fill:none\" points=\"\n",
       "  2297.97,1486.45 2297.97,847.244 \n",
       "  \"/>\n",
       "<polyline clip-path=\"url(#clip940)\" style=\"stroke:#000000; stroke-linecap:butt; stroke-linejoin:round; stroke-width:4; stroke-opacity:1; fill:none\" points=\"\n",
       "  1356.6,1486.45 2352.76,1486.45 \n",
       "  \"/>\n",
       "<polyline clip-path=\"url(#clip940)\" style=\"stroke:#000000; stroke-linecap:butt; stroke-linejoin:round; stroke-width:4; stroke-opacity:1; fill:none\" points=\"\n",
       "  1411.39,1486.45 1411.39,1467.55 \n",
       "  \"/>\n",
       "<polyline clip-path=\"url(#clip940)\" style=\"stroke:#000000; stroke-linecap:butt; stroke-linejoin:round; stroke-width:4; stroke-opacity:1; fill:none\" points=\"\n",
       "  1633.03,1486.45 1633.03,1467.55 \n",
       "  \"/>\n",
       "<polyline clip-path=\"url(#clip940)\" style=\"stroke:#000000; stroke-linecap:butt; stroke-linejoin:round; stroke-width:4; stroke-opacity:1; fill:none\" points=\"\n",
       "  1854.68,1486.45 1854.68,1467.55 \n",
       "  \"/>\n",
       "<polyline clip-path=\"url(#clip940)\" style=\"stroke:#000000; stroke-linecap:butt; stroke-linejoin:round; stroke-width:4; stroke-opacity:1; fill:none\" points=\"\n",
       "  2076.32,1486.45 2076.32,1467.55 \n",
       "  \"/>\n",
       "<polyline clip-path=\"url(#clip940)\" style=\"stroke:#000000; stroke-linecap:butt; stroke-linejoin:round; stroke-width:4; stroke-opacity:1; fill:none\" points=\"\n",
       "  2297.97,1486.45 2297.97,1467.55 \n",
       "  \"/>\n",
       "<path clip-path=\"url(#clip940)\" d=\"M1373.69 1517.37 Q1370.08 1517.37 1368.25 1520.93 Q1366.45 1524.47 1366.45 1531.6 Q1366.45 1538.71 1368.25 1542.27 Q1370.08 1545.82 1373.69 1545.82 Q1377.33 1545.82 1379.13 1542.27 Q1380.96 1538.71 1380.96 1531.6 Q1380.96 1524.47 1379.13 1520.93 Q1377.33 1517.37 1373.69 1517.37 M1373.69 1513.66 Q1379.5 1513.66 1382.56 1518.27 Q1385.64 1522.85 1385.64 1531.6 Q1385.64 1540.33 1382.56 1544.94 Q1379.5 1549.52 1373.69 1549.52 Q1367.88 1549.52 1364.8 1544.94 Q1361.75 1540.33 1361.75 1531.6 Q1361.75 1522.85 1364.8 1518.27 Q1367.88 1513.66 1373.69 1513.66 Z\" fill=\"#000000\" fill-rule=\"evenodd\" fill-opacity=\"1\" /><path clip-path=\"url(#clip940)\" d=\"M1393.85 1542.97 L1398.74 1542.97 L1398.74 1548.85 L1393.85 1548.85 L1393.85 1542.97 Z\" fill=\"#000000\" fill-rule=\"evenodd\" fill-opacity=\"1\" /><path clip-path=\"url(#clip940)\" d=\"M1418.92 1517.37 Q1415.31 1517.37 1413.48 1520.93 Q1411.68 1524.47 1411.68 1531.6 Q1411.68 1538.71 1413.48 1542.27 Q1415.31 1545.82 1418.92 1545.82 Q1422.56 1545.82 1424.36 1542.27 Q1426.19 1538.71 1426.19 1531.6 Q1426.19 1524.47 1424.36 1520.93 Q1422.56 1517.37 1418.92 1517.37 M1418.92 1513.66 Q1424.73 1513.66 1427.79 1518.27 Q1430.87 1522.85 1430.87 1531.6 Q1430.87 1540.33 1427.79 1544.94 Q1424.73 1549.52 1418.92 1549.52 Q1413.11 1549.52 1410.03 1544.94 Q1406.98 1540.33 1406.98 1531.6 Q1406.98 1522.85 1410.03 1518.27 Q1413.11 1513.66 1418.92 1513.66 Z\" fill=\"#000000\" fill-rule=\"evenodd\" fill-opacity=\"1\" /><path clip-path=\"url(#clip940)\" d=\"M1449.09 1517.37 Q1445.47 1517.37 1443.65 1520.93 Q1441.84 1524.47 1441.84 1531.6 Q1441.84 1538.71 1443.65 1542.27 Q1445.47 1545.82 1449.09 1545.82 Q1452.72 1545.82 1454.53 1542.27 Q1456.35 1538.71 1456.35 1531.6 Q1456.35 1524.47 1454.53 1520.93 Q1452.72 1517.37 1449.09 1517.37 M1449.09 1513.66 Q1454.9 1513.66 1457.95 1518.27 Q1461.03 1522.85 1461.03 1531.6 Q1461.03 1540.33 1457.95 1544.94 Q1454.9 1549.52 1449.09 1549.52 Q1443.28 1549.52 1440.2 1544.94 Q1437.14 1540.33 1437.14 1531.6 Q1437.14 1522.85 1440.2 1518.27 Q1443.28 1513.66 1449.09 1513.66 Z\" fill=\"#000000\" fill-rule=\"evenodd\" fill-opacity=\"1\" /><path clip-path=\"url(#clip940)\" d=\"M1595.83 1517.37 Q1592.22 1517.37 1590.39 1520.93 Q1588.59 1524.47 1588.59 1531.6 Q1588.59 1538.71 1590.39 1542.27 Q1592.22 1545.82 1595.83 1545.82 Q1599.47 1545.82 1601.27 1542.27 Q1603.1 1538.71 1603.1 1531.6 Q1603.1 1524.47 1601.27 1520.93 Q1599.47 1517.37 1595.83 1517.37 M1595.83 1513.66 Q1601.64 1513.66 1604.7 1518.27 Q1607.78 1522.85 1607.78 1531.6 Q1607.78 1540.33 1604.7 1544.94 Q1601.64 1549.52 1595.83 1549.52 Q1590.02 1549.52 1586.95 1544.94 Q1583.89 1540.33 1583.89 1531.6 Q1583.89 1522.85 1586.95 1518.27 Q1590.02 1513.66 1595.83 1513.66 Z\" fill=\"#000000\" fill-rule=\"evenodd\" fill-opacity=\"1\" /><path clip-path=\"url(#clip940)\" d=\"M1616 1542.97 L1620.88 1542.97 L1620.88 1548.85 L1616 1548.85 L1616 1542.97 Z\" fill=\"#000000\" fill-rule=\"evenodd\" fill-opacity=\"1\" /><path clip-path=\"url(#clip940)\" d=\"M1635.09 1544.91 L1651.41 1544.91 L1651.41 1548.85 L1629.47 1548.85 L1629.47 1544.91 Q1632.13 1542.16 1636.71 1537.53 Q1641.32 1532.88 1642.5 1531.53 Q1644.75 1529.01 1645.63 1527.27 Q1646.53 1525.51 1646.53 1523.82 Q1646.53 1521.07 1644.58 1519.33 Q1642.66 1517.6 1639.56 1517.6 Q1637.36 1517.6 1634.91 1518.36 Q1632.48 1519.13 1629.7 1520.68 L1629.7 1515.95 Q1632.52 1514.82 1634.98 1514.24 Q1637.43 1513.66 1639.47 1513.66 Q1644.84 1513.66 1648.03 1516.35 Q1651.23 1519.03 1651.23 1523.52 Q1651.23 1525.65 1650.42 1527.57 Q1649.63 1529.47 1647.52 1532.07 Q1646.94 1532.74 1643.84 1535.95 Q1640.74 1539.15 1635.09 1544.91 Z\" fill=\"#000000\" fill-rule=\"evenodd\" fill-opacity=\"1\" /><path clip-path=\"url(#clip940)\" d=\"M1661.27 1514.29 L1679.63 1514.29 L1679.63 1518.22 L1665.56 1518.22 L1665.56 1526.7 Q1666.57 1526.35 1667.59 1526.19 Q1668.61 1526 1669.63 1526 Q1675.42 1526 1678.8 1529.17 Q1682.18 1532.34 1682.18 1537.76 Q1682.18 1543.34 1678.7 1546.44 Q1675.23 1549.52 1668.91 1549.52 Q1666.74 1549.52 1664.47 1549.15 Q1662.22 1548.78 1659.82 1548.04 L1659.82 1543.34 Q1661.9 1544.47 1664.12 1545.03 Q1666.34 1545.58 1668.82 1545.58 Q1672.82 1545.58 1675.16 1543.48 Q1677.5 1541.37 1677.5 1537.76 Q1677.5 1534.15 1675.16 1532.04 Q1672.82 1529.94 1668.82 1529.94 Q1666.94 1529.94 1665.07 1530.35 Q1663.22 1530.77 1661.27 1531.65 L1661.27 1514.29 Z\" fill=\"#000000\" fill-rule=\"evenodd\" fill-opacity=\"1\" /><path clip-path=\"url(#clip940)\" d=\"M1816.98 1517.37 Q1813.37 1517.37 1811.54 1520.93 Q1809.74 1524.47 1809.74 1531.6 Q1809.74 1538.71 1811.54 1542.27 Q1813.37 1545.82 1816.98 1545.82 Q1820.61 1545.82 1822.42 1542.27 Q1824.25 1538.71 1824.25 1531.6 Q1824.25 1524.47 1822.42 1520.93 Q1820.61 1517.37 1816.98 1517.37 M1816.98 1513.66 Q1822.79 1513.66 1825.85 1518.27 Q1828.92 1522.85 1828.92 1531.6 Q1828.92 1540.33 1825.85 1544.94 Q1822.79 1549.52 1816.98 1549.52 Q1811.17 1549.52 1808.09 1544.94 Q1805.04 1540.33 1805.04 1531.6 Q1805.04 1522.85 1808.09 1518.27 Q1811.17 1513.66 1816.98 1513.66 Z\" fill=\"#000000\" fill-rule=\"evenodd\" fill-opacity=\"1\" /><path clip-path=\"url(#clip940)\" d=\"M1837.14 1542.97 L1842.03 1542.97 L1842.03 1548.85 L1837.14 1548.85 L1837.14 1542.97 Z\" fill=\"#000000\" fill-rule=\"evenodd\" fill-opacity=\"1\" /><path clip-path=\"url(#clip940)\" d=\"M1852.26 1514.29 L1870.61 1514.29 L1870.61 1518.22 L1856.54 1518.22 L1856.54 1526.7 Q1857.56 1526.35 1858.58 1526.19 Q1859.6 1526 1860.61 1526 Q1866.4 1526 1869.78 1529.17 Q1873.16 1532.34 1873.16 1537.76 Q1873.16 1543.34 1869.69 1546.44 Q1866.22 1549.52 1859.9 1549.52 Q1857.72 1549.52 1855.45 1549.15 Q1853.21 1548.78 1850.8 1548.04 L1850.8 1543.34 Q1852.88 1544.47 1855.11 1545.03 Q1857.33 1545.58 1859.8 1545.58 Q1863.81 1545.58 1866.15 1543.48 Q1868.48 1541.37 1868.48 1537.76 Q1868.48 1534.15 1866.15 1532.04 Q1863.81 1529.94 1859.8 1529.94 Q1857.93 1529.94 1856.05 1530.35 Q1854.2 1530.77 1852.26 1531.65 L1852.26 1514.29 Z\" fill=\"#000000\" fill-rule=\"evenodd\" fill-opacity=\"1\" /><path clip-path=\"url(#clip940)\" d=\"M1892.37 1517.37 Q1888.76 1517.37 1886.93 1520.93 Q1885.13 1524.47 1885.13 1531.6 Q1885.13 1538.71 1886.93 1542.27 Q1888.76 1545.82 1892.37 1545.82 Q1896.01 1545.82 1897.81 1542.27 Q1899.64 1538.71 1899.64 1531.6 Q1899.64 1524.47 1897.81 1520.93 Q1896.01 1517.37 1892.37 1517.37 M1892.37 1513.66 Q1898.18 1513.66 1901.24 1518.27 Q1904.32 1522.85 1904.32 1531.6 Q1904.32 1540.33 1901.24 1544.94 Q1898.18 1549.52 1892.37 1549.52 Q1886.56 1549.52 1883.48 1544.94 Q1880.43 1540.33 1880.43 1531.6 Q1880.43 1522.85 1883.48 1518.27 Q1886.56 1513.66 1892.37 1513.66 Z\" fill=\"#000000\" fill-rule=\"evenodd\" fill-opacity=\"1\" /><path clip-path=\"url(#clip940)\" d=\"M2039.12 1517.37 Q2035.51 1517.37 2033.68 1520.93 Q2031.88 1524.47 2031.88 1531.6 Q2031.88 1538.71 2033.68 1542.27 Q2035.51 1545.82 2039.12 1545.82 Q2042.76 1545.82 2044.56 1542.27 Q2046.39 1538.71 2046.39 1531.6 Q2046.39 1524.47 2044.56 1520.93 Q2042.76 1517.37 2039.12 1517.37 M2039.12 1513.66 Q2044.93 1513.66 2047.99 1518.27 Q2051.07 1522.85 2051.07 1531.6 Q2051.07 1540.33 2047.99 1544.94 Q2044.93 1549.52 2039.12 1549.52 Q2033.31 1549.52 2030.23 1544.94 Q2027.18 1540.33 2027.18 1531.6 Q2027.18 1522.85 2030.23 1518.27 Q2033.31 1513.66 2039.12 1513.66 Z\" fill=\"#000000\" fill-rule=\"evenodd\" fill-opacity=\"1\" /><path clip-path=\"url(#clip940)\" d=\"M2059.28 1542.97 L2064.17 1542.97 L2064.17 1548.85 L2059.28 1548.85 L2059.28 1542.97 Z\" fill=\"#000000\" fill-rule=\"evenodd\" fill-opacity=\"1\" /><path clip-path=\"url(#clip940)\" d=\"M2073.17 1514.29 L2095.4 1514.29 L2095.4 1516.28 L2082.85 1548.85 L2077.96 1548.85 L2089.77 1518.22 L2073.17 1518.22 L2073.17 1514.29 Z\" fill=\"#000000\" fill-rule=\"evenodd\" fill-opacity=\"1\" /><path clip-path=\"url(#clip940)\" d=\"M2104.56 1514.29 L2122.92 1514.29 L2122.92 1518.22 L2108.84 1518.22 L2108.84 1526.7 Q2109.86 1526.35 2110.88 1526.19 Q2111.9 1526 2112.92 1526 Q2118.71 1526 2122.08 1529.17 Q2125.46 1532.34 2125.46 1537.76 Q2125.46 1543.34 2121.99 1546.44 Q2118.52 1549.52 2112.2 1549.52 Q2110.02 1549.52 2107.76 1549.15 Q2105.51 1548.78 2103.1 1548.04 L2103.1 1543.34 Q2105.19 1544.47 2107.41 1545.03 Q2109.63 1545.58 2112.11 1545.58 Q2116.11 1545.58 2118.45 1543.48 Q2120.79 1541.37 2120.79 1537.76 Q2120.79 1534.15 2118.45 1532.04 Q2116.11 1529.94 2112.11 1529.94 Q2110.23 1529.94 2108.36 1530.35 Q2106.51 1530.77 2104.56 1531.65 L2104.56 1514.29 Z\" fill=\"#000000\" fill-rule=\"evenodd\" fill-opacity=\"1\" /><path clip-path=\"url(#clip940)\" d=\"M2250.04 1544.91 L2257.68 1544.91 L2257.68 1518.55 L2249.37 1520.21 L2249.37 1515.95 L2257.63 1514.29 L2262.31 1514.29 L2262.31 1544.91 L2269.94 1544.91 L2269.94 1548.85 L2250.04 1548.85 L2250.04 1544.91 Z\" fill=\"#000000\" fill-rule=\"evenodd\" fill-opacity=\"1\" /><path clip-path=\"url(#clip940)\" d=\"M2279.39 1542.97 L2284.27 1542.97 L2284.27 1548.85 L2279.39 1548.85 L2279.39 1542.97 Z\" fill=\"#000000\" fill-rule=\"evenodd\" fill-opacity=\"1\" /><path clip-path=\"url(#clip940)\" d=\"M2304.46 1517.37 Q2300.85 1517.37 2299.02 1520.93 Q2297.21 1524.47 2297.21 1531.6 Q2297.21 1538.71 2299.02 1542.27 Q2300.85 1545.82 2304.46 1545.82 Q2308.09 1545.82 2309.9 1542.27 Q2311.73 1538.71 2311.73 1531.6 Q2311.73 1524.47 2309.9 1520.93 Q2308.09 1517.37 2304.46 1517.37 M2304.46 1513.66 Q2310.27 1513.66 2313.32 1518.27 Q2316.4 1522.85 2316.4 1531.6 Q2316.4 1540.33 2313.32 1544.94 Q2310.27 1549.52 2304.46 1549.52 Q2298.65 1549.52 2295.57 1544.94 Q2292.51 1540.33 2292.51 1531.6 Q2292.51 1522.85 2295.57 1518.27 Q2298.65 1513.66 2304.46 1513.66 Z\" fill=\"#000000\" fill-rule=\"evenodd\" fill-opacity=\"1\" /><path clip-path=\"url(#clip940)\" d=\"M2334.62 1517.37 Q2331.01 1517.37 2329.18 1520.93 Q2327.38 1524.47 2327.38 1531.6 Q2327.38 1538.71 2329.18 1542.27 Q2331.01 1545.82 2334.62 1545.82 Q2338.25 1545.82 2340.06 1542.27 Q2341.89 1538.71 2341.89 1531.6 Q2341.89 1524.47 2340.06 1520.93 Q2338.25 1517.37 2334.62 1517.37 M2334.62 1513.66 Q2340.43 1513.66 2343.49 1518.27 Q2346.56 1522.85 2346.56 1531.6 Q2346.56 1540.33 2343.49 1544.94 Q2340.43 1549.52 2334.62 1549.52 Q2328.81 1549.52 2325.73 1544.94 Q2322.68 1540.33 2322.68 1531.6 Q2322.68 1522.85 2325.73 1518.27 Q2328.81 1513.66 2334.62 1513.66 Z\" fill=\"#000000\" fill-rule=\"evenodd\" fill-opacity=\"1\" /><polyline clip-path=\"url(#clip945)\" style=\"stroke:#000000; stroke-linecap:butt; stroke-linejoin:round; stroke-width:2; stroke-opacity:0.1; fill:none\" points=\"\n",
       "  1356.6,1468.36 2352.76,1468.36 \n",
       "  \"/>\n",
       "<polyline clip-path=\"url(#clip945)\" style=\"stroke:#000000; stroke-linecap:butt; stroke-linejoin:round; stroke-width:2; stroke-opacity:0.1; fill:none\" points=\"\n",
       "  1356.6,1317.6 2352.76,1317.6 \n",
       "  \"/>\n",
       "<polyline clip-path=\"url(#clip945)\" style=\"stroke:#000000; stroke-linecap:butt; stroke-linejoin:round; stroke-width:2; stroke-opacity:0.1; fill:none\" points=\"\n",
       "  1356.6,1166.85 2352.76,1166.85 \n",
       "  \"/>\n",
       "<polyline clip-path=\"url(#clip945)\" style=\"stroke:#000000; stroke-linecap:butt; stroke-linejoin:round; stroke-width:2; stroke-opacity:0.1; fill:none\" points=\"\n",
       "  1356.6,1016.09 2352.76,1016.09 \n",
       "  \"/>\n",
       "<polyline clip-path=\"url(#clip945)\" style=\"stroke:#000000; stroke-linecap:butt; stroke-linejoin:round; stroke-width:2; stroke-opacity:0.1; fill:none\" points=\"\n",
       "  1356.6,865.335 2352.76,865.335 \n",
       "  \"/>\n",
       "<polyline clip-path=\"url(#clip940)\" style=\"stroke:#000000; stroke-linecap:butt; stroke-linejoin:round; stroke-width:4; stroke-opacity:1; fill:none\" points=\"\n",
       "  1356.6,1486.45 1356.6,847.244 \n",
       "  \"/>\n",
       "<polyline clip-path=\"url(#clip940)\" style=\"stroke:#000000; stroke-linecap:butt; stroke-linejoin:round; stroke-width:4; stroke-opacity:1; fill:none\" points=\"\n",
       "  1356.6,1468.36 1375.5,1468.36 \n",
       "  \"/>\n",
       "<polyline clip-path=\"url(#clip940)\" style=\"stroke:#000000; stroke-linecap:butt; stroke-linejoin:round; stroke-width:4; stroke-opacity:1; fill:none\" points=\"\n",
       "  1356.6,1317.6 1375.5,1317.6 \n",
       "  \"/>\n",
       "<polyline clip-path=\"url(#clip940)\" style=\"stroke:#000000; stroke-linecap:butt; stroke-linejoin:round; stroke-width:4; stroke-opacity:1; fill:none\" points=\"\n",
       "  1356.6,1166.85 1375.5,1166.85 \n",
       "  \"/>\n",
       "<polyline clip-path=\"url(#clip940)\" style=\"stroke:#000000; stroke-linecap:butt; stroke-linejoin:round; stroke-width:4; stroke-opacity:1; fill:none\" points=\"\n",
       "  1356.6,1016.09 1375.5,1016.09 \n",
       "  \"/>\n",
       "<polyline clip-path=\"url(#clip940)\" style=\"stroke:#000000; stroke-linecap:butt; stroke-linejoin:round; stroke-width:4; stroke-opacity:1; fill:none\" points=\"\n",
       "  1356.6,865.335 1375.5,865.335 \n",
       "  \"/>\n",
       "<path clip-path=\"url(#clip940)\" d=\"M1308.65 1454.16 Q1305.04 1454.16 1303.21 1457.72 Q1301.41 1461.26 1301.41 1468.39 Q1301.41 1475.5 1303.21 1479.06 Q1305.04 1482.6 1308.65 1482.6 Q1312.29 1482.6 1314.09 1479.06 Q1315.92 1475.5 1315.92 1468.39 Q1315.92 1461.26 1314.09 1457.72 Q1312.29 1454.16 1308.65 1454.16 M1308.65 1450.45 Q1314.46 1450.45 1317.52 1455.06 Q1320.6 1459.64 1320.6 1468.39 Q1320.6 1477.12 1317.52 1481.73 Q1314.46 1486.31 1308.65 1486.31 Q1302.84 1486.31 1299.77 1481.73 Q1296.71 1477.12 1296.71 1468.39 Q1296.71 1459.64 1299.77 1455.06 Q1302.84 1450.45 1308.65 1450.45 Z\" fill=\"#000000\" fill-rule=\"evenodd\" fill-opacity=\"1\" /><path clip-path=\"url(#clip940)\" d=\"M1304.28 1330.95 L1320.6 1330.95 L1320.6 1334.88 L1298.65 1334.88 L1298.65 1330.95 Q1301.32 1328.19 1305.9 1323.56 Q1310.51 1318.91 1311.69 1317.57 Q1313.93 1315.04 1314.81 1313.31 Q1315.71 1311.55 1315.71 1309.86 Q1315.71 1307.1 1313.77 1305.37 Q1311.85 1303.63 1308.75 1303.63 Q1306.55 1303.63 1304.09 1304.4 Q1301.66 1305.16 1298.89 1306.71 L1298.89 1301.99 Q1301.71 1300.85 1304.16 1300.28 Q1306.62 1299.7 1308.65 1299.7 Q1314.02 1299.7 1317.22 1302.38 Q1320.41 1305.07 1320.41 1309.56 Q1320.41 1311.69 1319.6 1313.61 Q1318.82 1315.51 1316.71 1318.1 Q1316.13 1318.77 1313.03 1321.99 Q1309.93 1325.18 1304.28 1330.95 Z\" fill=\"#000000\" fill-rule=\"evenodd\" fill-opacity=\"1\" /><path clip-path=\"url(#clip940)\" d=\"M1311.01 1153.64 L1299.21 1172.09 L1311.01 1172.09 L1311.01 1153.64 M1309.79 1149.57 L1315.67 1149.57 L1315.67 1172.09 L1320.6 1172.09 L1320.6 1175.98 L1315.67 1175.98 L1315.67 1184.13 L1311.01 1184.13 L1311.01 1175.98 L1295.41 1175.98 L1295.41 1171.46 L1309.79 1149.57 Z\" fill=\"#000000\" fill-rule=\"evenodd\" fill-opacity=\"1\" /><path clip-path=\"url(#clip940)\" d=\"M1309.07 1014.23 Q1305.92 1014.23 1304.07 1016.38 Q1302.24 1018.53 1302.24 1022.28 Q1302.24 1026.01 1304.07 1028.19 Q1305.92 1030.34 1309.07 1030.34 Q1312.22 1030.34 1314.05 1028.19 Q1315.9 1026.01 1315.9 1022.28 Q1315.9 1018.53 1314.05 1016.38 Q1312.22 1014.23 1309.07 1014.23 M1318.35 999.574 L1318.35 1003.83 Q1316.59 1003 1314.79 1002.56 Q1313.01 1002.12 1311.25 1002.12 Q1306.62 1002.12 1304.16 1005.25 Q1301.73 1008.37 1301.39 1014.69 Q1302.75 1012.68 1304.81 1011.61 Q1306.87 1010.52 1309.35 1010.52 Q1314.56 1010.52 1317.57 1013.69 Q1320.6 1016.84 1320.6 1022.28 Q1320.6 1027.61 1317.45 1030.82 Q1314.3 1034.04 1309.07 1034.04 Q1303.08 1034.04 1299.9 1029.46 Q1296.73 1024.85 1296.73 1016.13 Q1296.73 1007.93 1300.62 1003.07 Q1304.51 998.185 1311.06 998.185 Q1312.82 998.185 1314.6 998.533 Q1316.41 998.88 1318.35 999.574 Z\" fill=\"#000000\" fill-rule=\"evenodd\" fill-opacity=\"1\" /><path clip-path=\"url(#clip940)\" d=\"M1308.75 866.203 Q1305.41 866.203 1303.49 867.985 Q1301.59 869.768 1301.59 872.893 Q1301.59 876.018 1303.49 877.8 Q1305.41 879.582 1308.75 879.582 Q1312.08 879.582 1314 877.8 Q1315.92 875.994 1315.92 872.893 Q1315.92 869.768 1314 867.985 Q1312.1 866.203 1308.75 866.203 M1304.07 864.212 Q1301.06 863.471 1299.37 861.411 Q1297.7 859.351 1297.7 856.388 Q1297.7 852.245 1300.64 849.837 Q1303.61 847.43 1308.75 847.43 Q1313.91 847.43 1316.85 849.837 Q1319.79 852.245 1319.79 856.388 Q1319.79 859.351 1318.1 861.411 Q1316.43 863.471 1313.45 864.212 Q1316.83 864.999 1318.7 867.291 Q1320.6 869.582 1320.6 872.893 Q1320.6 877.916 1317.52 880.601 Q1314.46 883.286 1308.75 883.286 Q1303.03 883.286 1299.95 880.601 Q1296.89 877.916 1296.89 872.893 Q1296.89 869.582 1298.79 867.291 Q1300.69 864.999 1304.07 864.212 M1302.36 856.828 Q1302.36 859.513 1304.02 861.018 Q1305.71 862.522 1308.75 862.522 Q1311.76 862.522 1313.45 861.018 Q1315.16 859.513 1315.16 856.828 Q1315.16 854.143 1313.45 852.638 Q1311.76 851.133 1308.75 851.133 Q1305.71 851.133 1304.02 852.638 Q1302.36 854.143 1302.36 856.828 Z\" fill=\"#000000\" fill-rule=\"evenodd\" fill-opacity=\"1\" /><path clip-path=\"url(#clip945)\" d=\"\n",
       "M1411.39 940.713 L1411.39 1468.36 L1854.68 1468.36 L1854.68 940.713 L1411.39 940.713 L1411.39 940.713  Z\n",
       "  \" fill=\"#009af9\" fill-rule=\"evenodd\" fill-opacity=\"1\"/>\n",
       "<polyline clip-path=\"url(#clip945)\" style=\"stroke:#000000; stroke-linecap:butt; stroke-linejoin:round; stroke-width:4; stroke-opacity:1; fill:none\" points=\"\n",
       "  1411.39,940.713 1411.39,1468.36 1854.68,1468.36 1854.68,940.713 1411.39,940.713 \n",
       "  \"/>\n",
       "<path clip-path=\"url(#clip945)\" d=\"\n",
       "M1854.68 865.335 L1854.68 1468.36 L2297.97 1468.36 L2297.97 865.335 L1854.68 865.335 L1854.68 865.335  Z\n",
       "  \" fill=\"#009af9\" fill-rule=\"evenodd\" fill-opacity=\"1\"/>\n",
       "<polyline clip-path=\"url(#clip945)\" style=\"stroke:#000000; stroke-linecap:butt; stroke-linejoin:round; stroke-width:4; stroke-opacity:1; fill:none\" points=\"\n",
       "  1854.68,865.335 1854.68,1468.36 2297.97,1468.36 2297.97,865.335 1854.68,865.335 \n",
       "  \"/>\n",
       "<circle clip-path=\"url(#clip945)\" style=\"fill:#009af9; stroke:none; fill-opacity:0\" cx=\"1633.03\" cy=\"940.713\" r=\"2\"/>\n",
       "<circle clip-path=\"url(#clip945)\" style=\"fill:#009af9; stroke:none; fill-opacity:0\" cx=\"2076.32\" cy=\"865.335\" r=\"2\"/>\n",
       "<path clip-path=\"url(#clip940)\" d=\"\n",
       "M2156.44 972.231 L2319.55 972.231 L2319.55 868.551 L2156.44 868.551  Z\n",
       "  \" fill=\"#ffffff\" fill-rule=\"evenodd\" fill-opacity=\"1\"/>\n",
       "<polyline clip-path=\"url(#clip940)\" style=\"stroke:#000000; stroke-linecap:butt; stroke-linejoin:round; stroke-width:4; stroke-opacity:1; fill:none\" points=\"\n",
       "  2156.44,972.231 2319.55,972.231 2319.55,868.551 2156.44,868.551 2156.44,972.231 \n",
       "  \"/>\n",
       "<path clip-path=\"url(#clip940)\" d=\"\n",
       "M2167.5 941.127 L2233.92 941.127 L2233.92 899.655 L2167.5 899.655 L2167.5 941.127  Z\n",
       "  \" fill=\"#009af9\" fill-rule=\"evenodd\" fill-opacity=\"1\"/>\n",
       "<polyline clip-path=\"url(#clip940)\" style=\"stroke:#000000; stroke-linecap:butt; stroke-linejoin:round; stroke-width:4; stroke-opacity:1; fill:none\" points=\"\n",
       "  2167.5,941.127 2233.92,941.127 2233.92,899.655 2167.5,899.655 2167.5,941.127 \n",
       "  \"/>\n",
       "<path clip-path=\"url(#clip940)\" d=\"M2258.83 940.078 Q2257.02 944.708 2255.31 946.12 Q2253.59 947.532 2250.72 947.532 L2247.32 947.532 L2247.32 943.967 L2249.82 943.967 Q2251.58 943.967 2252.55 943.134 Q2253.53 942.3 2254.71 939.199 L2255.47 937.254 L2244.98 911.745 L2249.5 911.745 L2257.6 932.023 L2265.7 911.745 L2270.21 911.745 L2258.83 940.078 Z\" fill=\"#000000\" fill-rule=\"evenodd\" fill-opacity=\"1\" /><path clip-path=\"url(#clip940)\" d=\"M2277.51 933.736 L2285.15 933.736 L2285.15 907.37 L2276.84 909.037 L2276.84 904.778 L2285.1 903.111 L2289.77 903.111 L2289.77 933.736 L2297.41 933.736 L2297.41 937.671 L2277.51 937.671 L2277.51 933.736 Z\" fill=\"#000000\" fill-rule=\"evenodd\" fill-opacity=\"1\" /></svg>\n"
      ]
     },
     "execution_count": 251,
     "metadata": {},
     "output_type": "execute_result"
    }
   ],
   "source": [
    "p1 = plot(x, y)\n",
    "p2 = scatter(x, y)\n",
    "p3 = bar(x, y)\n",
    "p4 = histogram(y)\n",
    "\n",
    "plot(p1, p2, p3, p4, layout=(2,2), lagend= false)"
   ]
  },
  {
   "cell_type": "code",
   "execution_count": 252,
   "metadata": {},
   "outputs": [
    {
     "data": {
      "image/svg+xml": [
       "<?xml version=\"1.0\" encoding=\"utf-8\"?>\n",
       "<svg xmlns=\"http://www.w3.org/2000/svg\" xmlns:xlink=\"http://www.w3.org/1999/xlink\" width=\"600\" height=\"400\" viewBox=\"0 0 2400 1600\">\n",
       "<defs>\n",
       "  <clipPath id=\"clip980\">\n",
       "    <rect x=\"0\" y=\"0\" width=\"2400\" height=\"1600\"/>\n",
       "  </clipPath>\n",
       "</defs>\n",
       "<path clip-path=\"url(#clip980)\" d=\"\n",
       "M0 1600 L2400 1600 L2400 0 L0 0  Z\n",
       "  \" fill=\"#ffffff\" fill-rule=\"evenodd\" fill-opacity=\"1\"/>\n",
       "<defs>\n",
       "  <clipPath id=\"clip981\">\n",
       "    <rect x=\"480\" y=\"0\" width=\"1681\" height=\"1600\"/>\n",
       "  </clipPath>\n",
       "</defs>\n",
       "<path clip-path=\"url(#clip980)\" d=\"\n",
       "M156.598 286.448 L2352.76 286.448 L2352.76 47.2441 L156.598 47.2441  Z\n",
       "  \" fill=\"#ffffff\" fill-rule=\"evenodd\" fill-opacity=\"1\"/>\n",
       "<defs>\n",
       "  <clipPath id=\"clip982\">\n",
       "    <rect x=\"156\" y=\"47\" width=\"2197\" height=\"240\"/>\n",
       "  </clipPath>\n",
       "</defs>\n",
       "<polyline clip-path=\"url(#clip982)\" style=\"stroke:#000000; stroke-linecap:butt; stroke-linejoin:round; stroke-width:2; stroke-opacity:0.1; fill:none\" points=\"\n",
       "  366.743,286.448 366.743,47.2441 \n",
       "  \"/>\n",
       "<polyline clip-path=\"url(#clip982)\" style=\"stroke:#000000; stroke-linecap:butt; stroke-linejoin:round; stroke-width:2; stroke-opacity:0.1; fill:none\" points=\"\n",
       "  662.721,286.448 662.721,47.2441 \n",
       "  \"/>\n",
       "<polyline clip-path=\"url(#clip982)\" style=\"stroke:#000000; stroke-linecap:butt; stroke-linejoin:round; stroke-width:2; stroke-opacity:0.1; fill:none\" points=\"\n",
       "  958.699,286.448 958.699,47.2441 \n",
       "  \"/>\n",
       "<polyline clip-path=\"url(#clip982)\" style=\"stroke:#000000; stroke-linecap:butt; stroke-linejoin:round; stroke-width:2; stroke-opacity:0.1; fill:none\" points=\"\n",
       "  1254.68,286.448 1254.68,47.2441 \n",
       "  \"/>\n",
       "<polyline clip-path=\"url(#clip982)\" style=\"stroke:#000000; stroke-linecap:butt; stroke-linejoin:round; stroke-width:2; stroke-opacity:0.1; fill:none\" points=\"\n",
       "  1550.66,286.448 1550.66,47.2441 \n",
       "  \"/>\n",
       "<polyline clip-path=\"url(#clip982)\" style=\"stroke:#000000; stroke-linecap:butt; stroke-linejoin:round; stroke-width:2; stroke-opacity:0.1; fill:none\" points=\"\n",
       "  1846.63,286.448 1846.63,47.2441 \n",
       "  \"/>\n",
       "<polyline clip-path=\"url(#clip982)\" style=\"stroke:#000000; stroke-linecap:butt; stroke-linejoin:round; stroke-width:2; stroke-opacity:0.1; fill:none\" points=\"\n",
       "  2142.61,286.448 2142.61,47.2441 \n",
       "  \"/>\n",
       "<polyline clip-path=\"url(#clip980)\" style=\"stroke:#000000; stroke-linecap:butt; stroke-linejoin:round; stroke-width:4; stroke-opacity:1; fill:none\" points=\"\n",
       "  156.598,286.448 2352.76,286.448 \n",
       "  \"/>\n",
       "<polyline clip-path=\"url(#clip980)\" style=\"stroke:#000000; stroke-linecap:butt; stroke-linejoin:round; stroke-width:4; stroke-opacity:1; fill:none\" points=\"\n",
       "  366.743,286.448 366.743,267.55 \n",
       "  \"/>\n",
       "<polyline clip-path=\"url(#clip980)\" style=\"stroke:#000000; stroke-linecap:butt; stroke-linejoin:round; stroke-width:4; stroke-opacity:1; fill:none\" points=\"\n",
       "  662.721,286.448 662.721,267.55 \n",
       "  \"/>\n",
       "<polyline clip-path=\"url(#clip980)\" style=\"stroke:#000000; stroke-linecap:butt; stroke-linejoin:round; stroke-width:4; stroke-opacity:1; fill:none\" points=\"\n",
       "  958.699,286.448 958.699,267.55 \n",
       "  \"/>\n",
       "<polyline clip-path=\"url(#clip980)\" style=\"stroke:#000000; stroke-linecap:butt; stroke-linejoin:round; stroke-width:4; stroke-opacity:1; fill:none\" points=\"\n",
       "  1254.68,286.448 1254.68,267.55 \n",
       "  \"/>\n",
       "<polyline clip-path=\"url(#clip980)\" style=\"stroke:#000000; stroke-linecap:butt; stroke-linejoin:round; stroke-width:4; stroke-opacity:1; fill:none\" points=\"\n",
       "  1550.66,286.448 1550.66,267.55 \n",
       "  \"/>\n",
       "<polyline clip-path=\"url(#clip980)\" style=\"stroke:#000000; stroke-linecap:butt; stroke-linejoin:round; stroke-width:4; stroke-opacity:1; fill:none\" points=\"\n",
       "  1846.63,286.448 1846.63,267.55 \n",
       "  \"/>\n",
       "<polyline clip-path=\"url(#clip980)\" style=\"stroke:#000000; stroke-linecap:butt; stroke-linejoin:round; stroke-width:4; stroke-opacity:1; fill:none\" points=\"\n",
       "  2142.61,286.448 2142.61,267.55 \n",
       "  \"/>\n",
       "<path clip-path=\"url(#clip980)\" d=\"M361.396 344.913 L377.715 344.913 L377.715 348.848 L355.771 348.848 L355.771 344.913 Q358.433 342.158 363.016 337.528 Q367.622 332.876 368.803 331.533 Q371.048 329.01 371.928 327.274 Q372.831 325.515 372.831 323.825 Q372.831 321.07 370.886 319.334 Q368.965 317.598 365.863 317.598 Q363.664 317.598 361.21 318.362 Q358.78 319.126 356.002 320.677 L356.002 315.955 Q358.826 314.82 361.28 314.242 Q363.733 313.663 365.77 313.663 Q371.141 313.663 374.335 316.348 Q377.53 319.033 377.53 323.524 Q377.53 325.654 376.72 327.575 Q375.932 329.473 373.826 332.066 Q373.247 332.737 370.145 335.954 Q367.044 339.149 361.396 344.913 Z\" fill=\"#000000\" fill-rule=\"evenodd\" fill-opacity=\"1\" /><path clip-path=\"url(#clip980)\" d=\"M665.73 318.362 L653.925 336.811 L665.73 336.811 L665.73 318.362 M664.503 314.288 L670.383 314.288 L670.383 336.811 L675.313 336.811 L675.313 340.7 L670.383 340.7 L670.383 348.848 L665.73 348.848 L665.73 340.7 L650.128 340.7 L650.128 336.186 L664.503 314.288 Z\" fill=\"#000000\" fill-rule=\"evenodd\" fill-opacity=\"1\" /><path clip-path=\"url(#clip980)\" d=\"M959.104 329.704 Q955.956 329.704 954.104 331.857 Q952.275 334.01 952.275 337.76 Q952.275 341.487 954.104 343.663 Q955.956 345.815 959.104 345.815 Q962.252 345.815 964.081 343.663 Q965.933 341.487 965.933 337.76 Q965.933 334.01 964.081 331.857 Q962.252 329.704 959.104 329.704 M968.386 315.052 L968.386 319.311 Q966.627 318.478 964.822 318.038 Q963.039 317.598 961.28 317.598 Q956.65 317.598 954.197 320.723 Q951.766 323.848 951.419 330.167 Q952.785 328.154 954.845 327.089 Q956.905 326.001 959.382 326.001 Q964.59 326.001 967.599 329.172 Q970.632 332.32 970.632 337.76 Q970.632 343.084 967.484 346.302 Q964.335 349.519 959.104 349.519 Q953.109 349.519 949.937 344.936 Q946.766 340.329 946.766 331.603 Q946.766 323.408 950.655 318.547 Q954.544 313.663 961.095 313.663 Q962.854 313.663 964.636 314.01 Q966.442 314.357 968.386 315.052 Z\" fill=\"#000000\" fill-rule=\"evenodd\" fill-opacity=\"1\" /><path clip-path=\"url(#clip980)\" d=\"M1254.68 332.436 Q1251.34 332.436 1249.42 334.218 Q1247.52 336.001 1247.52 339.126 Q1247.52 342.251 1249.42 344.033 Q1251.34 345.815 1254.68 345.815 Q1258.01 345.815 1259.93 344.033 Q1261.85 342.228 1261.85 339.126 Q1261.85 336.001 1259.93 334.218 Q1258.03 332.436 1254.68 332.436 M1250 330.445 Q1246.99 329.704 1245.3 327.644 Q1243.64 325.584 1243.64 322.621 Q1243.64 318.478 1246.58 316.07 Q1249.54 313.663 1254.68 313.663 Q1259.84 313.663 1262.78 316.07 Q1265.72 318.478 1265.72 322.621 Q1265.72 325.584 1264.03 327.644 Q1262.36 329.704 1259.38 330.445 Q1262.76 331.232 1264.63 333.524 Q1266.53 335.816 1266.53 339.126 Q1266.53 344.149 1263.45 346.834 Q1260.39 349.519 1254.68 349.519 Q1248.96 349.519 1245.88 346.834 Q1242.83 344.149 1242.83 339.126 Q1242.83 335.816 1244.72 333.524 Q1246.62 331.232 1250 330.445 M1248.29 323.061 Q1248.29 325.746 1249.95 327.251 Q1251.64 328.755 1254.68 328.755 Q1257.69 328.755 1259.38 327.251 Q1261.09 325.746 1261.09 323.061 Q1261.09 320.376 1259.38 318.871 Q1257.69 317.367 1254.68 317.367 Q1251.64 317.367 1249.95 318.871 Q1248.29 320.376 1248.29 323.061 Z\" fill=\"#000000\" fill-rule=\"evenodd\" fill-opacity=\"1\" /><path clip-path=\"url(#clip980)\" d=\"M1525.34 344.913 L1532.98 344.913 L1532.98 318.547 L1524.67 320.214 L1524.67 315.955 L1532.94 314.288 L1537.61 314.288 L1537.61 344.913 L1545.25 344.913 L1545.25 348.848 L1525.34 348.848 L1525.34 344.913 Z\" fill=\"#000000\" fill-rule=\"evenodd\" fill-opacity=\"1\" /><path clip-path=\"url(#clip980)\" d=\"M1564.69 317.367 Q1561.08 317.367 1559.25 320.931 Q1557.45 324.473 1557.45 331.603 Q1557.45 338.709 1559.25 342.274 Q1561.08 345.815 1564.69 345.815 Q1568.33 345.815 1570.13 342.274 Q1571.96 338.709 1571.96 331.603 Q1571.96 324.473 1570.13 320.931 Q1568.33 317.367 1564.69 317.367 M1564.69 313.663 Q1570.5 313.663 1573.56 318.269 Q1576.64 322.853 1576.64 331.603 Q1576.64 340.329 1573.56 344.936 Q1570.5 349.519 1564.69 349.519 Q1558.88 349.519 1555.81 344.936 Q1552.75 340.329 1552.75 331.603 Q1552.75 322.853 1555.81 318.269 Q1558.88 313.663 1564.69 313.663 Z\" fill=\"#000000\" fill-rule=\"evenodd\" fill-opacity=\"1\" /><path clip-path=\"url(#clip980)\" d=\"M1822.12 344.913 L1829.76 344.913 L1829.76 318.547 L1821.45 320.214 L1821.45 315.955 L1829.71 314.288 L1834.39 314.288 L1834.39 344.913 L1842.03 344.913 L1842.03 348.848 L1822.12 348.848 L1822.12 344.913 Z\" fill=\"#000000\" fill-rule=\"evenodd\" fill-opacity=\"1\" /><path clip-path=\"url(#clip980)\" d=\"M1855.5 344.913 L1871.82 344.913 L1871.82 348.848 L1849.87 348.848 L1849.87 344.913 Q1852.54 342.158 1857.12 337.528 Q1861.73 332.876 1862.91 331.533 Q1865.15 329.01 1866.03 327.274 Q1866.93 325.515 1866.93 323.825 Q1866.93 321.07 1864.99 319.334 Q1863.07 317.598 1859.97 317.598 Q1857.77 317.598 1855.31 318.362 Q1852.88 319.126 1850.11 320.677 L1850.11 315.955 Q1852.93 314.82 1855.38 314.242 Q1857.84 313.663 1859.87 313.663 Q1865.24 313.663 1868.44 316.348 Q1871.63 319.033 1871.63 323.524 Q1871.63 325.654 1870.82 327.575 Q1870.04 329.473 1867.93 332.066 Q1867.35 332.737 1864.25 335.954 Q1861.15 339.149 1855.5 344.913 Z\" fill=\"#000000\" fill-rule=\"evenodd\" fill-opacity=\"1\" /><path clip-path=\"url(#clip980)\" d=\"M2117.06 344.913 L2124.69 344.913 L2124.69 318.547 L2116.38 320.214 L2116.38 315.955 L2124.65 314.288 L2129.32 314.288 L2129.32 344.913 L2136.96 344.913 L2136.96 348.848 L2117.06 348.848 L2117.06 344.913 Z\" fill=\"#000000\" fill-rule=\"evenodd\" fill-opacity=\"1\" /><path clip-path=\"url(#clip980)\" d=\"M2159.25 318.362 L2147.45 336.811 L2159.25 336.811 L2159.25 318.362 M2158.03 314.288 L2163.91 314.288 L2163.91 336.811 L2168.84 336.811 L2168.84 340.7 L2163.91 340.7 L2163.91 348.848 L2159.25 348.848 L2159.25 340.7 L2143.65 340.7 L2143.65 336.186 L2158.03 314.288 Z\" fill=\"#000000\" fill-rule=\"evenodd\" fill-opacity=\"1\" /><polyline clip-path=\"url(#clip982)\" style=\"stroke:#000000; stroke-linecap:butt; stroke-linejoin:round; stroke-width:2; stroke-opacity:0.1; fill:none\" points=\"\n",
       "  156.598,254.967 2352.76,254.967 \n",
       "  \"/>\n",
       "<polyline clip-path=\"url(#clip982)\" style=\"stroke:#000000; stroke-linecap:butt; stroke-linejoin:round; stroke-width:2; stroke-opacity:0.1; fill:none\" points=\"\n",
       "  156.598,202.827 2352.76,202.827 \n",
       "  \"/>\n",
       "<polyline clip-path=\"url(#clip982)\" style=\"stroke:#000000; stroke-linecap:butt; stroke-linejoin:round; stroke-width:2; stroke-opacity:0.1; fill:none\" points=\"\n",
       "  156.598,150.688 2352.76,150.688 \n",
       "  \"/>\n",
       "<polyline clip-path=\"url(#clip982)\" style=\"stroke:#000000; stroke-linecap:butt; stroke-linejoin:round; stroke-width:2; stroke-opacity:0.1; fill:none\" points=\"\n",
       "  156.598,98.5476 2352.76,98.5476 \n",
       "  \"/>\n",
       "<polyline clip-path=\"url(#clip980)\" style=\"stroke:#000000; stroke-linecap:butt; stroke-linejoin:round; stroke-width:4; stroke-opacity:1; fill:none\" points=\"\n",
       "  156.598,286.448 156.598,47.2441 \n",
       "  \"/>\n",
       "<polyline clip-path=\"url(#clip980)\" style=\"stroke:#000000; stroke-linecap:butt; stroke-linejoin:round; stroke-width:4; stroke-opacity:1; fill:none\" points=\"\n",
       "  156.598,254.967 175.496,254.967 \n",
       "  \"/>\n",
       "<polyline clip-path=\"url(#clip980)\" style=\"stroke:#000000; stroke-linecap:butt; stroke-linejoin:round; stroke-width:4; stroke-opacity:1; fill:none\" points=\"\n",
       "  156.598,202.827 175.496,202.827 \n",
       "  \"/>\n",
       "<polyline clip-path=\"url(#clip980)\" style=\"stroke:#000000; stroke-linecap:butt; stroke-linejoin:round; stroke-width:4; stroke-opacity:1; fill:none\" points=\"\n",
       "  156.598,150.688 175.496,150.688 \n",
       "  \"/>\n",
       "<polyline clip-path=\"url(#clip980)\" style=\"stroke:#000000; stroke-linecap:butt; stroke-linejoin:round; stroke-width:4; stroke-opacity:1; fill:none\" points=\"\n",
       "  156.598,98.5476 175.496,98.5476 \n",
       "  \"/>\n",
       "<path clip-path=\"url(#clip980)\" d=\"M65.0198 240.766 Q61.4087 240.766 59.58 244.331 Q57.7745 247.873 57.7745 255.002 Q57.7745 262.109 59.58 265.673 Q61.4087 269.215 65.0198 269.215 Q68.6541 269.215 70.4596 265.673 Q72.2883 262.109 72.2883 255.002 Q72.2883 247.873 70.4596 244.331 Q68.6541 240.766 65.0198 240.766 M65.0198 237.062 Q70.83 237.062 73.8855 241.669 Q76.9642 246.252 76.9642 255.002 Q76.9642 263.729 73.8855 268.335 Q70.83 272.919 65.0198 272.919 Q59.2097 272.919 56.131 268.335 Q53.0754 263.729 53.0754 255.002 Q53.0754 246.252 56.131 241.669 Q59.2097 237.062 65.0198 237.062 Z\" fill=\"#000000\" fill-rule=\"evenodd\" fill-opacity=\"1\" /><path clip-path=\"url(#clip980)\" d=\"M85.1818 266.368 L90.066 266.368 L90.066 272.247 L85.1818 272.247 L85.1818 266.368 Z\" fill=\"#000000\" fill-rule=\"evenodd\" fill-opacity=\"1\" /><path clip-path=\"url(#clip980)\" d=\"M104.279 268.312 L120.598 268.312 L120.598 272.247 L98.6539 272.247 L98.6539 268.312 Q101.316 265.558 105.899 260.928 Q110.506 256.275 111.686 254.933 Q113.932 252.41 114.811 250.673 Q115.714 248.914 115.714 247.224 Q115.714 244.47 113.77 242.734 Q111.848 240.998 108.746 240.998 Q106.547 240.998 104.094 241.761 Q101.663 242.525 98.8854 244.076 L98.8854 239.354 Q101.709 238.22 104.163 237.641 Q106.617 237.062 108.654 237.062 Q114.024 237.062 117.219 239.748 Q120.413 242.433 120.413 246.923 Q120.413 249.053 119.603 250.974 Q118.816 252.872 116.709 255.465 Q116.131 256.136 113.029 259.354 Q109.927 262.548 104.279 268.312 Z\" fill=\"#000000\" fill-rule=\"evenodd\" fill-opacity=\"1\" /><path clip-path=\"url(#clip980)\" d=\"M62.9365 188.626 Q59.3254 188.626 57.4967 192.191 Q55.6912 195.733 55.6912 202.862 Q55.6912 209.969 57.4967 213.533 Q59.3254 217.075 62.9365 217.075 Q66.5707 217.075 68.3763 213.533 Q70.205 209.969 70.205 202.862 Q70.205 195.733 68.3763 192.191 Q66.5707 188.626 62.9365 188.626 M62.9365 184.922 Q68.7467 184.922 71.8022 189.529 Q74.8809 194.112 74.8809 202.862 Q74.8809 211.589 71.8022 216.195 Q68.7467 220.779 62.9365 220.779 Q57.1264 220.779 54.0477 216.195 Q50.9921 211.589 50.9921 202.862 Q50.9921 194.112 54.0477 189.529 Q57.1264 184.922 62.9365 184.922 Z\" fill=\"#000000\" fill-rule=\"evenodd\" fill-opacity=\"1\" /><path clip-path=\"url(#clip980)\" d=\"M83.0984 214.228 L87.9827 214.228 L87.9827 220.107 L83.0984 220.107 L83.0984 214.228 Z\" fill=\"#000000\" fill-rule=\"evenodd\" fill-opacity=\"1\" /><path clip-path=\"url(#clip980)\" d=\"M111.015 189.622 L99.2095 208.07 L111.015 208.07 L111.015 189.622 M109.788 185.547 L115.668 185.547 L115.668 208.07 L120.598 208.07 L120.598 211.959 L115.668 211.959 L115.668 220.107 L111.015 220.107 L111.015 211.959 L95.4132 211.959 L95.4132 207.445 L109.788 185.547 Z\" fill=\"#000000\" fill-rule=\"evenodd\" fill-opacity=\"1\" /><path clip-path=\"url(#clip980)\" d=\"M63.2606 136.486 Q59.6495 136.486 57.8208 140.051 Q56.0152 143.593 56.0152 150.722 Q56.0152 157.829 57.8208 161.393 Q59.6495 164.935 63.2606 164.935 Q66.8948 164.935 68.7004 161.393 Q70.5291 157.829 70.5291 150.722 Q70.5291 143.593 68.7004 140.051 Q66.8948 136.486 63.2606 136.486 M63.2606 132.783 Q69.0707 132.783 72.1263 137.389 Q75.205 141.972 75.205 150.722 Q75.205 159.449 72.1263 164.056 Q69.0707 168.639 63.2606 168.639 Q57.4504 168.639 54.3717 164.056 Q51.3162 159.449 51.3162 150.722 Q51.3162 141.972 54.3717 137.389 Q57.4504 132.783 63.2606 132.783 Z\" fill=\"#000000\" fill-rule=\"evenodd\" fill-opacity=\"1\" /><path clip-path=\"url(#clip980)\" d=\"M83.4225 162.088 L88.3067 162.088 L88.3067 167.968 L83.4225 167.968 L83.4225 162.088 Z\" fill=\"#000000\" fill-rule=\"evenodd\" fill-opacity=\"1\" /><path clip-path=\"url(#clip980)\" d=\"M109.071 148.824 Q105.922 148.824 104.071 150.977 Q102.242 153.13 102.242 156.88 Q102.242 160.606 104.071 162.782 Q105.922 164.935 109.071 164.935 Q112.219 164.935 114.047 162.782 Q115.899 160.606 115.899 156.88 Q115.899 153.13 114.047 150.977 Q112.219 148.824 109.071 148.824 M118.353 134.171 L118.353 138.431 Q116.594 137.597 114.788 137.158 Q113.006 136.718 111.246 136.718 Q106.617 136.718 104.163 139.843 Q101.733 142.968 101.385 149.287 Q102.751 147.273 104.811 146.208 Q106.871 145.12 109.348 145.12 Q114.557 145.12 117.566 148.292 Q120.598 151.44 120.598 156.88 Q120.598 162.204 117.45 165.421 Q114.302 168.639 109.071 168.639 Q103.075 168.639 99.9039 164.056 Q96.7326 159.449 96.7326 150.722 Q96.7326 142.528 100.621 137.667 Q104.51 132.783 111.061 132.783 Q112.82 132.783 114.603 133.13 Q116.408 133.477 118.353 134.171 Z\" fill=\"#000000\" fill-rule=\"evenodd\" fill-opacity=\"1\" /><path clip-path=\"url(#clip980)\" d=\"M63.5152 84.3463 Q59.9041 84.3463 58.0754 87.9111 Q56.2699 91.4527 56.2699 98.5823 Q56.2699 105.689 58.0754 109.254 Q59.9041 112.795 63.5152 112.795 Q67.1494 112.795 68.955 109.254 Q70.7837 105.689 70.7837 98.5823 Q70.7837 91.4527 68.955 87.9111 Q67.1494 84.3463 63.5152 84.3463 M63.5152 80.6426 Q69.3254 80.6426 72.3809 85.2491 Q75.4596 89.8324 75.4596 98.5823 Q75.4596 107.309 72.3809 111.916 Q69.3254 116.499 63.5152 116.499 Q57.7051 116.499 54.6264 111.916 Q51.5708 107.309 51.5708 98.5823 Q51.5708 89.8324 54.6264 85.2491 Q57.7051 80.6426 63.5152 80.6426 Z\" fill=\"#000000\" fill-rule=\"evenodd\" fill-opacity=\"1\" /><path clip-path=\"url(#clip980)\" d=\"M83.6771 109.948 L88.5614 109.948 L88.5614 115.828 L83.6771 115.828 L83.6771 109.948 Z\" fill=\"#000000\" fill-rule=\"evenodd\" fill-opacity=\"1\" /><path clip-path=\"url(#clip980)\" d=\"M108.746 99.4157 Q105.413 99.4157 103.492 101.198 Q101.594 102.98 101.594 106.105 Q101.594 109.23 103.492 111.013 Q105.413 112.795 108.746 112.795 Q112.08 112.795 114.001 111.013 Q115.922 109.207 115.922 106.105 Q115.922 102.98 114.001 101.198 Q112.103 99.4157 108.746 99.4157 M104.071 97.4249 Q101.061 96.6842 99.3715 94.624 Q97.7048 92.5638 97.7048 89.6009 Q97.7048 85.4574 100.645 83.05 Q103.608 80.6426 108.746 80.6426 Q113.908 80.6426 116.848 83.05 Q119.788 85.4574 119.788 89.6009 Q119.788 92.5638 118.098 94.624 Q116.432 96.6842 113.445 97.4249 Q116.825 98.212 118.7 100.504 Q120.598 102.795 120.598 106.105 Q120.598 111.129 117.52 113.814 Q114.464 116.499 108.746 116.499 Q103.029 116.499 99.9502 113.814 Q96.8947 111.129 96.8947 106.105 Q96.8947 102.795 98.7928 100.504 Q100.691 98.212 104.071 97.4249 M102.358 90.0407 Q102.358 92.7259 104.024 94.2305 Q105.714 95.7351 108.746 95.7351 Q111.756 95.7351 113.445 94.2305 Q115.158 92.7259 115.158 90.0407 Q115.158 87.3555 113.445 85.8509 Q111.756 84.3463 108.746 84.3463 Q105.714 84.3463 104.024 85.8509 Q102.358 87.3555 102.358 90.0407 Z\" fill=\"#000000\" fill-rule=\"evenodd\" fill-opacity=\"1\" /><polyline clip-path=\"url(#clip982)\" style=\"stroke:#009af9; stroke-linecap:butt; stroke-linejoin:round; stroke-width:4; stroke-opacity:1; fill:none\" points=\"\n",
       "  218.754,83.5866 366.743,217.654 514.732,152.034 662.721,245.668 810.71,64.6435 958.699,54.014 1106.69,173.221 1254.68,57.3593 1402.67,234.297 1550.66,161.871 \n",
       "  1698.64,214.686 1846.63,279.678 1994.62,63.9027 2142.61,196.664 2290.6,168.503 \n",
       "  \"/>\n",
       "<path clip-path=\"url(#clip980)\" d=\"\n",
       "M1983.1 158.898 L2279.55 158.898 L2279.55 55.2176 L1983.1 55.2176  Z\n",
       "  \" fill=\"#ffffff\" fill-rule=\"evenodd\" fill-opacity=\"1\"/>\n",
       "<polyline clip-path=\"url(#clip980)\" style=\"stroke:#000000; stroke-linecap:butt; stroke-linejoin:round; stroke-width:4; stroke-opacity:1; fill:none\" points=\"\n",
       "  1983.1,158.898 2279.55,158.898 2279.55,55.2176 1983.1,55.2176 1983.1,158.898 \n",
       "  \"/>\n",
       "<polyline clip-path=\"url(#clip980)\" style=\"stroke:#009af9; stroke-linecap:butt; stroke-linejoin:round; stroke-width:4; stroke-opacity:1; fill:none\" points=\"\n",
       "  2007.5,107.058 2153.92,107.058 \n",
       "  \"/>\n",
       "<path clip-path=\"url(#clip980)\" d=\"M2192.16 126.745 Q2190.35 131.375 2188.64 132.787 Q2186.93 134.199 2184.06 134.199 L2180.65 134.199 L2180.65 130.634 L2183.15 130.634 Q2184.91 130.634 2185.89 129.8 Q2186.86 128.967 2188.04 125.865 L2188.8 123.921 L2178.32 98.4118 L2182.83 98.4118 L2190.93 118.689 L2199.03 98.4118 L2203.55 98.4118 L2192.16 126.745 Z\" fill=\"#000000\" fill-rule=\"evenodd\" fill-opacity=\"1\" /><path clip-path=\"url(#clip980)\" d=\"M2210.84 120.402 L2218.48 120.402 L2218.48 94.0368 L2210.17 95.7034 L2210.17 91.4442 L2218.43 89.7776 L2223.11 89.7776 L2223.11 120.402 L2230.75 120.402 L2230.75 124.338 L2210.84 124.338 L2210.84 120.402 Z\" fill=\"#000000\" fill-rule=\"evenodd\" fill-opacity=\"1\" /><path clip-path=\"url(#clip980)\" d=\"\n",
       "M156.598 686.448 L2352.76 686.448 L2352.76 447.244 L156.598 447.244  Z\n",
       "  \" fill=\"#ffffff\" fill-rule=\"evenodd\" fill-opacity=\"1\"/>\n",
       "<defs>\n",
       "  <clipPath id=\"clip983\">\n",
       "    <rect x=\"156\" y=\"447\" width=\"2197\" height=\"240\"/>\n",
       "  </clipPath>\n",
       "</defs>\n",
       "<polyline clip-path=\"url(#clip983)\" style=\"stroke:#000000; stroke-linecap:butt; stroke-linejoin:round; stroke-width:2; stroke-opacity:0.1; fill:none\" points=\"\n",
       "  366.743,686.448 366.743,447.244 \n",
       "  \"/>\n",
       "<polyline clip-path=\"url(#clip983)\" style=\"stroke:#000000; stroke-linecap:butt; stroke-linejoin:round; stroke-width:2; stroke-opacity:0.1; fill:none\" points=\"\n",
       "  662.721,686.448 662.721,447.244 \n",
       "  \"/>\n",
       "<polyline clip-path=\"url(#clip983)\" style=\"stroke:#000000; stroke-linecap:butt; stroke-linejoin:round; stroke-width:2; stroke-opacity:0.1; fill:none\" points=\"\n",
       "  958.699,686.448 958.699,447.244 \n",
       "  \"/>\n",
       "<polyline clip-path=\"url(#clip983)\" style=\"stroke:#000000; stroke-linecap:butt; stroke-linejoin:round; stroke-width:2; stroke-opacity:0.1; fill:none\" points=\"\n",
       "  1254.68,686.448 1254.68,447.244 \n",
       "  \"/>\n",
       "<polyline clip-path=\"url(#clip983)\" style=\"stroke:#000000; stroke-linecap:butt; stroke-linejoin:round; stroke-width:2; stroke-opacity:0.1; fill:none\" points=\"\n",
       "  1550.66,686.448 1550.66,447.244 \n",
       "  \"/>\n",
       "<polyline clip-path=\"url(#clip983)\" style=\"stroke:#000000; stroke-linecap:butt; stroke-linejoin:round; stroke-width:2; stroke-opacity:0.1; fill:none\" points=\"\n",
       "  1846.63,686.448 1846.63,447.244 \n",
       "  \"/>\n",
       "<polyline clip-path=\"url(#clip983)\" style=\"stroke:#000000; stroke-linecap:butt; stroke-linejoin:round; stroke-width:2; stroke-opacity:0.1; fill:none\" points=\"\n",
       "  2142.61,686.448 2142.61,447.244 \n",
       "  \"/>\n",
       "<polyline clip-path=\"url(#clip980)\" style=\"stroke:#000000; stroke-linecap:butt; stroke-linejoin:round; stroke-width:4; stroke-opacity:1; fill:none\" points=\"\n",
       "  156.598,686.448 2352.76,686.448 \n",
       "  \"/>\n",
       "<polyline clip-path=\"url(#clip980)\" style=\"stroke:#000000; stroke-linecap:butt; stroke-linejoin:round; stroke-width:4; stroke-opacity:1; fill:none\" points=\"\n",
       "  366.743,686.448 366.743,667.55 \n",
       "  \"/>\n",
       "<polyline clip-path=\"url(#clip980)\" style=\"stroke:#000000; stroke-linecap:butt; stroke-linejoin:round; stroke-width:4; stroke-opacity:1; fill:none\" points=\"\n",
       "  662.721,686.448 662.721,667.55 \n",
       "  \"/>\n",
       "<polyline clip-path=\"url(#clip980)\" style=\"stroke:#000000; stroke-linecap:butt; stroke-linejoin:round; stroke-width:4; stroke-opacity:1; fill:none\" points=\"\n",
       "  958.699,686.448 958.699,667.55 \n",
       "  \"/>\n",
       "<polyline clip-path=\"url(#clip980)\" style=\"stroke:#000000; stroke-linecap:butt; stroke-linejoin:round; stroke-width:4; stroke-opacity:1; fill:none\" points=\"\n",
       "  1254.68,686.448 1254.68,667.55 \n",
       "  \"/>\n",
       "<polyline clip-path=\"url(#clip980)\" style=\"stroke:#000000; stroke-linecap:butt; stroke-linejoin:round; stroke-width:4; stroke-opacity:1; fill:none\" points=\"\n",
       "  1550.66,686.448 1550.66,667.55 \n",
       "  \"/>\n",
       "<polyline clip-path=\"url(#clip980)\" style=\"stroke:#000000; stroke-linecap:butt; stroke-linejoin:round; stroke-width:4; stroke-opacity:1; fill:none\" points=\"\n",
       "  1846.63,686.448 1846.63,667.55 \n",
       "  \"/>\n",
       "<polyline clip-path=\"url(#clip980)\" style=\"stroke:#000000; stroke-linecap:butt; stroke-linejoin:round; stroke-width:4; stroke-opacity:1; fill:none\" points=\"\n",
       "  2142.61,686.448 2142.61,667.55 \n",
       "  \"/>\n",
       "<path clip-path=\"url(#clip980)\" d=\"M361.396 744.913 L377.715 744.913 L377.715 748.848 L355.771 748.848 L355.771 744.913 Q358.433 742.158 363.016 737.528 Q367.622 732.876 368.803 731.533 Q371.048 729.01 371.928 727.274 Q372.831 725.515 372.831 723.825 Q372.831 721.07 370.886 719.334 Q368.965 717.598 365.863 717.598 Q363.664 717.598 361.21 718.362 Q358.78 719.126 356.002 720.677 L356.002 715.955 Q358.826 714.82 361.28 714.242 Q363.733 713.663 365.77 713.663 Q371.141 713.663 374.335 716.348 Q377.53 719.033 377.53 723.524 Q377.53 725.654 376.72 727.575 Q375.932 729.473 373.826 732.066 Q373.247 732.737 370.145 735.954 Q367.044 739.149 361.396 744.913 Z\" fill=\"#000000\" fill-rule=\"evenodd\" fill-opacity=\"1\" /><path clip-path=\"url(#clip980)\" d=\"M665.73 718.362 L653.925 736.811 L665.73 736.811 L665.73 718.362 M664.503 714.288 L670.383 714.288 L670.383 736.811 L675.313 736.811 L675.313 740.7 L670.383 740.7 L670.383 748.848 L665.73 748.848 L665.73 740.7 L650.128 740.7 L650.128 736.186 L664.503 714.288 Z\" fill=\"#000000\" fill-rule=\"evenodd\" fill-opacity=\"1\" /><path clip-path=\"url(#clip980)\" d=\"M959.104 729.704 Q955.956 729.704 954.104 731.857 Q952.275 734.01 952.275 737.76 Q952.275 741.487 954.104 743.663 Q955.956 745.815 959.104 745.815 Q962.252 745.815 964.081 743.663 Q965.933 741.487 965.933 737.76 Q965.933 734.01 964.081 731.857 Q962.252 729.704 959.104 729.704 M968.386 715.052 L968.386 719.311 Q966.627 718.478 964.822 718.038 Q963.039 717.598 961.28 717.598 Q956.65 717.598 954.197 720.723 Q951.766 723.848 951.419 730.167 Q952.785 728.154 954.845 727.089 Q956.905 726.001 959.382 726.001 Q964.59 726.001 967.599 729.172 Q970.632 732.32 970.632 737.76 Q970.632 743.084 967.484 746.302 Q964.335 749.519 959.104 749.519 Q953.109 749.519 949.937 744.936 Q946.766 740.329 946.766 731.603 Q946.766 723.408 950.655 718.547 Q954.544 713.663 961.095 713.663 Q962.854 713.663 964.636 714.01 Q966.442 714.357 968.386 715.052 Z\" fill=\"#000000\" fill-rule=\"evenodd\" fill-opacity=\"1\" /><path clip-path=\"url(#clip980)\" d=\"M1254.68 732.436 Q1251.34 732.436 1249.42 734.218 Q1247.52 736.001 1247.52 739.126 Q1247.52 742.251 1249.42 744.033 Q1251.34 745.815 1254.68 745.815 Q1258.01 745.815 1259.93 744.033 Q1261.85 742.228 1261.85 739.126 Q1261.85 736.001 1259.93 734.218 Q1258.03 732.436 1254.68 732.436 M1250 730.445 Q1246.99 729.704 1245.3 727.644 Q1243.64 725.584 1243.64 722.621 Q1243.64 718.478 1246.58 716.07 Q1249.54 713.663 1254.68 713.663 Q1259.84 713.663 1262.78 716.07 Q1265.72 718.478 1265.72 722.621 Q1265.72 725.584 1264.03 727.644 Q1262.36 729.704 1259.38 730.445 Q1262.76 731.232 1264.63 733.524 Q1266.53 735.816 1266.53 739.126 Q1266.53 744.149 1263.45 746.834 Q1260.39 749.519 1254.68 749.519 Q1248.96 749.519 1245.88 746.834 Q1242.83 744.149 1242.83 739.126 Q1242.83 735.816 1244.72 733.524 Q1246.62 731.232 1250 730.445 M1248.29 723.061 Q1248.29 725.746 1249.95 727.251 Q1251.64 728.755 1254.68 728.755 Q1257.69 728.755 1259.38 727.251 Q1261.09 725.746 1261.09 723.061 Q1261.09 720.376 1259.38 718.871 Q1257.69 717.367 1254.68 717.367 Q1251.64 717.367 1249.95 718.871 Q1248.29 720.376 1248.29 723.061 Z\" fill=\"#000000\" fill-rule=\"evenodd\" fill-opacity=\"1\" /><path clip-path=\"url(#clip980)\" d=\"M1525.34 744.913 L1532.98 744.913 L1532.98 718.547 L1524.67 720.214 L1524.67 715.955 L1532.94 714.288 L1537.61 714.288 L1537.61 744.913 L1545.25 744.913 L1545.25 748.848 L1525.34 748.848 L1525.34 744.913 Z\" fill=\"#000000\" fill-rule=\"evenodd\" fill-opacity=\"1\" /><path clip-path=\"url(#clip980)\" d=\"M1564.69 717.367 Q1561.08 717.367 1559.25 720.931 Q1557.45 724.473 1557.45 731.603 Q1557.45 738.709 1559.25 742.274 Q1561.08 745.815 1564.69 745.815 Q1568.33 745.815 1570.13 742.274 Q1571.96 738.709 1571.96 731.603 Q1571.96 724.473 1570.13 720.931 Q1568.33 717.367 1564.69 717.367 M1564.69 713.663 Q1570.5 713.663 1573.56 718.269 Q1576.64 722.853 1576.64 731.603 Q1576.64 740.329 1573.56 744.936 Q1570.5 749.519 1564.69 749.519 Q1558.88 749.519 1555.81 744.936 Q1552.75 740.329 1552.75 731.603 Q1552.75 722.853 1555.81 718.269 Q1558.88 713.663 1564.69 713.663 Z\" fill=\"#000000\" fill-rule=\"evenodd\" fill-opacity=\"1\" /><path clip-path=\"url(#clip980)\" d=\"M1822.12 744.913 L1829.76 744.913 L1829.76 718.547 L1821.45 720.214 L1821.45 715.955 L1829.71 714.288 L1834.39 714.288 L1834.39 744.913 L1842.03 744.913 L1842.03 748.848 L1822.12 748.848 L1822.12 744.913 Z\" fill=\"#000000\" fill-rule=\"evenodd\" fill-opacity=\"1\" /><path clip-path=\"url(#clip980)\" d=\"M1855.5 744.913 L1871.82 744.913 L1871.82 748.848 L1849.87 748.848 L1849.87 744.913 Q1852.54 742.158 1857.12 737.528 Q1861.73 732.876 1862.91 731.533 Q1865.15 729.01 1866.03 727.274 Q1866.93 725.515 1866.93 723.825 Q1866.93 721.07 1864.99 719.334 Q1863.07 717.598 1859.97 717.598 Q1857.77 717.598 1855.31 718.362 Q1852.88 719.126 1850.11 720.677 L1850.11 715.955 Q1852.93 714.82 1855.38 714.242 Q1857.84 713.663 1859.87 713.663 Q1865.24 713.663 1868.44 716.348 Q1871.63 719.033 1871.63 723.524 Q1871.63 725.654 1870.82 727.575 Q1870.04 729.473 1867.93 732.066 Q1867.35 732.737 1864.25 735.954 Q1861.15 739.149 1855.5 744.913 Z\" fill=\"#000000\" fill-rule=\"evenodd\" fill-opacity=\"1\" /><path clip-path=\"url(#clip980)\" d=\"M2117.06 744.913 L2124.69 744.913 L2124.69 718.547 L2116.38 720.214 L2116.38 715.955 L2124.65 714.288 L2129.32 714.288 L2129.32 744.913 L2136.96 744.913 L2136.96 748.848 L2117.06 748.848 L2117.06 744.913 Z\" fill=\"#000000\" fill-rule=\"evenodd\" fill-opacity=\"1\" /><path clip-path=\"url(#clip980)\" d=\"M2159.25 718.362 L2147.45 736.811 L2159.25 736.811 L2159.25 718.362 M2158.03 714.288 L2163.91 714.288 L2163.91 736.811 L2168.84 736.811 L2168.84 740.7 L2163.91 740.7 L2163.91 748.848 L2159.25 748.848 L2159.25 740.7 L2143.65 740.7 L2143.65 736.186 L2158.03 714.288 Z\" fill=\"#000000\" fill-rule=\"evenodd\" fill-opacity=\"1\" /><polyline clip-path=\"url(#clip983)\" style=\"stroke:#000000; stroke-linecap:butt; stroke-linejoin:round; stroke-width:2; stroke-opacity:0.1; fill:none\" points=\"\n",
       "  156.598,673.207 2352.76,673.207 \n",
       "  \"/>\n",
       "<polyline clip-path=\"url(#clip983)\" style=\"stroke:#000000; stroke-linecap:butt; stroke-linejoin:round; stroke-width:2; stroke-opacity:0.1; fill:none\" points=\"\n",
       "  156.598,640.103 2352.76,640.103 \n",
       "  \"/>\n",
       "<polyline clip-path=\"url(#clip983)\" style=\"stroke:#000000; stroke-linecap:butt; stroke-linejoin:round; stroke-width:2; stroke-opacity:0.1; fill:none\" points=\"\n",
       "  156.598,607 2352.76,607 \n",
       "  \"/>\n",
       "<polyline clip-path=\"url(#clip983)\" style=\"stroke:#000000; stroke-linecap:butt; stroke-linejoin:round; stroke-width:2; stroke-opacity:0.1; fill:none\" points=\"\n",
       "  156.598,573.897 2352.76,573.897 \n",
       "  \"/>\n",
       "<polyline clip-path=\"url(#clip983)\" style=\"stroke:#000000; stroke-linecap:butt; stroke-linejoin:round; stroke-width:2; stroke-opacity:0.1; fill:none\" points=\"\n",
       "  156.598,540.794 2352.76,540.794 \n",
       "  \"/>\n",
       "<polyline clip-path=\"url(#clip983)\" style=\"stroke:#000000; stroke-linecap:butt; stroke-linejoin:round; stroke-width:2; stroke-opacity:0.1; fill:none\" points=\"\n",
       "  156.598,507.69 2352.76,507.69 \n",
       "  \"/>\n",
       "<polyline clip-path=\"url(#clip983)\" style=\"stroke:#000000; stroke-linecap:butt; stroke-linejoin:round; stroke-width:2; stroke-opacity:0.1; fill:none\" points=\"\n",
       "  156.598,474.587 2352.76,474.587 \n",
       "  \"/>\n",
       "<polyline clip-path=\"url(#clip980)\" style=\"stroke:#000000; stroke-linecap:butt; stroke-linejoin:round; stroke-width:4; stroke-opacity:1; fill:none\" points=\"\n",
       "  156.598,686.448 156.598,447.244 \n",
       "  \"/>\n",
       "<polyline clip-path=\"url(#clip980)\" style=\"stroke:#000000; stroke-linecap:butt; stroke-linejoin:round; stroke-width:4; stroke-opacity:1; fill:none\" points=\"\n",
       "  156.598,673.207 175.496,673.207 \n",
       "  \"/>\n",
       "<polyline clip-path=\"url(#clip980)\" style=\"stroke:#000000; stroke-linecap:butt; stroke-linejoin:round; stroke-width:4; stroke-opacity:1; fill:none\" points=\"\n",
       "  156.598,640.103 175.496,640.103 \n",
       "  \"/>\n",
       "<polyline clip-path=\"url(#clip980)\" style=\"stroke:#000000; stroke-linecap:butt; stroke-linejoin:round; stroke-width:4; stroke-opacity:1; fill:none\" points=\"\n",
       "  156.598,607 175.496,607 \n",
       "  \"/>\n",
       "<polyline clip-path=\"url(#clip980)\" style=\"stroke:#000000; stroke-linecap:butt; stroke-linejoin:round; stroke-width:4; stroke-opacity:1; fill:none\" points=\"\n",
       "  156.598,573.897 175.496,573.897 \n",
       "  \"/>\n",
       "<polyline clip-path=\"url(#clip980)\" style=\"stroke:#000000; stroke-linecap:butt; stroke-linejoin:round; stroke-width:4; stroke-opacity:1; fill:none\" points=\"\n",
       "  156.598,540.794 175.496,540.794 \n",
       "  \"/>\n",
       "<polyline clip-path=\"url(#clip980)\" style=\"stroke:#000000; stroke-linecap:butt; stroke-linejoin:round; stroke-width:4; stroke-opacity:1; fill:none\" points=\"\n",
       "  156.598,507.69 175.496,507.69 \n",
       "  \"/>\n",
       "<polyline clip-path=\"url(#clip980)\" style=\"stroke:#000000; stroke-linecap:butt; stroke-linejoin:round; stroke-width:4; stroke-opacity:1; fill:none\" points=\"\n",
       "  156.598,474.587 175.496,474.587 \n",
       "  \"/>\n",
       "<path clip-path=\"url(#clip980)\" d=\"M64.6495 659.005 Q61.0384 659.005 59.2097 662.57 Q57.4041 666.112 57.4041 673.241 Q57.4041 680.348 59.2097 683.912 Q61.0384 687.454 64.6495 687.454 Q68.2837 687.454 70.0892 683.912 Q71.9179 680.348 71.9179 673.241 Q71.9179 666.112 70.0892 662.57 Q68.2837 659.005 64.6495 659.005 M64.6495 655.302 Q70.4596 655.302 73.5152 659.908 Q76.5938 664.491 76.5938 673.241 Q76.5938 681.968 73.5152 686.575 Q70.4596 691.158 64.6495 691.158 Q58.8393 691.158 55.7606 686.575 Q52.7051 681.968 52.7051 673.241 Q52.7051 664.491 55.7606 659.908 Q58.8393 655.302 64.6495 655.302 Z\" fill=\"#000000\" fill-rule=\"evenodd\" fill-opacity=\"1\" /><path clip-path=\"url(#clip980)\" d=\"M84.8114 684.607 L89.6956 684.607 L89.6956 690.487 L84.8114 690.487 L84.8114 684.607 Z\" fill=\"#000000\" fill-rule=\"evenodd\" fill-opacity=\"1\" /><path clip-path=\"url(#clip980)\" d=\"M100.691 686.551 L108.33 686.551 L108.33 660.186 L100.02 661.852 L100.02 657.593 L108.283 655.927 L112.959 655.927 L112.959 686.551 L120.598 686.551 L120.598 690.487 L100.691 690.487 L100.691 686.551 Z\" fill=\"#000000\" fill-rule=\"evenodd\" fill-opacity=\"1\" /><path clip-path=\"url(#clip980)\" d=\"M65.0198 625.902 Q61.4087 625.902 59.58 629.467 Q57.7745 633.008 57.7745 640.138 Q57.7745 647.244 59.58 650.809 Q61.4087 654.351 65.0198 654.351 Q68.6541 654.351 70.4596 650.809 Q72.2883 647.244 72.2883 640.138 Q72.2883 633.008 70.4596 629.467 Q68.6541 625.902 65.0198 625.902 M65.0198 622.198 Q70.83 622.198 73.8855 626.805 Q76.9642 631.388 76.9642 640.138 Q76.9642 648.865 73.8855 653.471 Q70.83 658.055 65.0198 658.055 Q59.2097 658.055 56.131 653.471 Q53.0754 648.865 53.0754 640.138 Q53.0754 631.388 56.131 626.805 Q59.2097 622.198 65.0198 622.198 Z\" fill=\"#000000\" fill-rule=\"evenodd\" fill-opacity=\"1\" /><path clip-path=\"url(#clip980)\" d=\"M85.1818 651.504 L90.066 651.504 L90.066 657.383 L85.1818 657.383 L85.1818 651.504 Z\" fill=\"#000000\" fill-rule=\"evenodd\" fill-opacity=\"1\" /><path clip-path=\"url(#clip980)\" d=\"M104.279 653.448 L120.598 653.448 L120.598 657.383 L98.6539 657.383 L98.6539 653.448 Q101.316 650.694 105.899 646.064 Q110.506 641.411 111.686 640.069 Q113.932 637.545 114.811 635.809 Q115.714 634.05 115.714 632.36 Q115.714 629.606 113.77 627.87 Q111.848 626.133 108.746 626.133 Q106.547 626.133 104.094 626.897 Q101.663 627.661 98.8854 629.212 L98.8854 624.49 Q101.709 623.356 104.163 622.777 Q106.617 622.198 108.654 622.198 Q114.024 622.198 117.219 624.883 Q120.413 627.569 120.413 632.059 Q120.413 634.189 119.603 636.11 Q118.816 638.008 116.709 640.601 Q116.131 641.272 113.029 644.49 Q109.927 647.684 104.279 653.448 Z\" fill=\"#000000\" fill-rule=\"evenodd\" fill-opacity=\"1\" /><path clip-path=\"url(#clip980)\" d=\"M64.0708 592.799 Q60.4597 592.799 58.631 596.364 Q56.8254 599.905 56.8254 607.035 Q56.8254 614.141 58.631 617.706 Q60.4597 621.248 64.0708 621.248 Q67.705 621.248 69.5105 617.706 Q71.3392 614.141 71.3392 607.035 Q71.3392 599.905 69.5105 596.364 Q67.705 592.799 64.0708 592.799 M64.0708 589.095 Q69.8809 589.095 72.9365 593.702 Q76.0151 598.285 76.0151 607.035 Q76.0151 615.762 72.9365 620.368 Q69.8809 624.951 64.0708 624.951 Q58.2606 624.951 55.1819 620.368 Q52.1264 615.762 52.1264 607.035 Q52.1264 598.285 55.1819 593.702 Q58.2606 589.095 64.0708 589.095 Z\" fill=\"#000000\" fill-rule=\"evenodd\" fill-opacity=\"1\" /><path clip-path=\"url(#clip980)\" d=\"M84.2327 618.4 L89.1169 618.4 L89.1169 624.28 L84.2327 624.28 L84.2327 618.4 Z\" fill=\"#000000\" fill-rule=\"evenodd\" fill-opacity=\"1\" /><path clip-path=\"url(#clip980)\" d=\"M113.469 605.646 Q116.825 606.363 118.7 608.632 Q120.598 610.9 120.598 614.234 Q120.598 619.35 117.08 622.15 Q113.561 624.951 107.08 624.951 Q104.904 624.951 102.589 624.512 Q100.297 624.095 97.8437 623.238 L97.8437 618.725 Q99.7882 619.859 102.103 620.437 Q104.418 621.016 106.941 621.016 Q111.339 621.016 113.631 619.28 Q115.945 617.544 115.945 614.234 Q115.945 611.178 113.793 609.465 Q111.663 607.729 107.844 607.729 L103.816 607.729 L103.816 603.887 L108.029 603.887 Q111.478 603.887 113.307 602.521 Q115.135 601.132 115.135 598.539 Q115.135 595.877 113.237 594.465 Q111.362 593.03 107.844 593.03 Q105.922 593.03 103.723 593.447 Q101.524 593.864 98.8854 594.743 L98.8854 590.577 Q101.547 589.836 103.862 589.465 Q106.2 589.095 108.26 589.095 Q113.584 589.095 116.686 591.526 Q119.788 593.933 119.788 598.053 Q119.788 600.924 118.145 602.914 Q116.501 604.882 113.469 605.646 Z\" fill=\"#000000\" fill-rule=\"evenodd\" fill-opacity=\"1\" /><path clip-path=\"url(#clip980)\" d=\"M62.9365 559.696 Q59.3254 559.696 57.4967 563.26 Q55.6912 566.802 55.6912 573.932 Q55.6912 581.038 57.4967 584.603 Q59.3254 588.144 62.9365 588.144 Q66.5707 588.144 68.3763 584.603 Q70.205 581.038 70.205 573.932 Q70.205 566.802 68.3763 563.26 Q66.5707 559.696 62.9365 559.696 M62.9365 555.992 Q68.7467 555.992 71.8022 560.598 Q74.8809 565.182 74.8809 573.932 Q74.8809 582.658 71.8022 587.265 Q68.7467 591.848 62.9365 591.848 Q57.1264 591.848 54.0477 587.265 Q50.9921 582.658 50.9921 573.932 Q50.9921 565.182 54.0477 560.598 Q57.1264 555.992 62.9365 555.992 Z\" fill=\"#000000\" fill-rule=\"evenodd\" fill-opacity=\"1\" /><path clip-path=\"url(#clip980)\" d=\"M83.0984 585.297 L87.9827 585.297 L87.9827 591.177 L83.0984 591.177 L83.0984 585.297 Z\" fill=\"#000000\" fill-rule=\"evenodd\" fill-opacity=\"1\" /><path clip-path=\"url(#clip980)\" d=\"M111.015 560.691 L99.2095 579.14 L111.015 579.14 L111.015 560.691 M109.788 556.617 L115.668 556.617 L115.668 579.14 L120.598 579.14 L120.598 583.029 L115.668 583.029 L115.668 591.177 L111.015 591.177 L111.015 583.029 L95.4132 583.029 L95.4132 578.515 L109.788 556.617 Z\" fill=\"#000000\" fill-rule=\"evenodd\" fill-opacity=\"1\" /><path clip-path=\"url(#clip980)\" d=\"M64.418 526.592 Q60.8069 526.592 58.9782 530.157 Q57.1726 533.699 57.1726 540.828 Q57.1726 547.935 58.9782 551.5 Q60.8069 555.041 64.418 555.041 Q68.0522 555.041 69.8578 551.5 Q71.6865 547.935 71.6865 540.828 Q71.6865 533.699 69.8578 530.157 Q68.0522 526.592 64.418 526.592 M64.418 522.889 Q70.2281 522.889 73.2837 527.495 Q76.3624 532.078 76.3624 540.828 Q76.3624 549.555 73.2837 554.162 Q70.2281 558.745 64.418 558.745 Q58.6078 558.745 55.5291 554.162 Q52.4736 549.555 52.4736 540.828 Q52.4736 532.078 55.5291 527.495 Q58.6078 522.889 64.418 522.889 Z\" fill=\"#000000\" fill-rule=\"evenodd\" fill-opacity=\"1\" /><path clip-path=\"url(#clip980)\" d=\"M84.5799 552.194 L89.4641 552.194 L89.4641 558.074 L84.5799 558.074 L84.5799 552.194 Z\" fill=\"#000000\" fill-rule=\"evenodd\" fill-opacity=\"1\" /><path clip-path=\"url(#clip980)\" d=\"M99.6956 523.514 L118.052 523.514 L118.052 527.449 L103.978 527.449 L103.978 535.921 Q104.996 535.574 106.015 535.412 Q107.033 535.226 108.052 535.226 Q113.839 535.226 117.219 538.398 Q120.598 541.569 120.598 546.986 Q120.598 552.564 117.126 555.666 Q113.654 558.745 107.334 558.745 Q105.159 558.745 102.89 558.374 Q100.645 558.004 98.2372 557.263 L98.2372 552.564 Q100.321 553.699 102.543 554.254 Q104.765 554.81 107.242 554.81 Q111.246 554.81 113.584 552.703 Q115.922 550.597 115.922 546.986 Q115.922 543.375 113.584 541.268 Q111.246 539.162 107.242 539.162 Q105.367 539.162 103.492 539.578 Q101.64 539.995 99.6956 540.875 L99.6956 523.514 Z\" fill=\"#000000\" fill-rule=\"evenodd\" fill-opacity=\"1\" /><path clip-path=\"url(#clip980)\" d=\"M63.2606 493.489 Q59.6495 493.489 57.8208 497.054 Q56.0152 500.595 56.0152 507.725 Q56.0152 514.831 57.8208 518.396 Q59.6495 521.938 63.2606 521.938 Q66.8948 521.938 68.7004 518.396 Q70.5291 514.831 70.5291 507.725 Q70.5291 500.595 68.7004 497.054 Q66.8948 493.489 63.2606 493.489 M63.2606 489.785 Q69.0707 489.785 72.1263 494.392 Q75.205 498.975 75.205 507.725 Q75.205 516.452 72.1263 521.058 Q69.0707 525.642 63.2606 525.642 Q57.4504 525.642 54.3717 521.058 Q51.3162 516.452 51.3162 507.725 Q51.3162 498.975 54.3717 494.392 Q57.4504 489.785 63.2606 489.785 Z\" fill=\"#000000\" fill-rule=\"evenodd\" fill-opacity=\"1\" /><path clip-path=\"url(#clip980)\" d=\"M83.4225 519.091 L88.3067 519.091 L88.3067 524.97 L83.4225 524.97 L83.4225 519.091 Z\" fill=\"#000000\" fill-rule=\"evenodd\" fill-opacity=\"1\" /><path clip-path=\"url(#clip980)\" d=\"M109.071 505.827 Q105.922 505.827 104.071 507.98 Q102.242 510.132 102.242 513.882 Q102.242 517.609 104.071 519.785 Q105.922 521.938 109.071 521.938 Q112.219 521.938 114.047 519.785 Q115.899 517.609 115.899 513.882 Q115.899 510.132 114.047 507.98 Q112.219 505.827 109.071 505.827 M118.353 491.174 L118.353 495.433 Q116.594 494.6 114.788 494.16 Q113.006 493.721 111.246 493.721 Q106.617 493.721 104.163 496.845 Q101.733 499.97 101.385 506.29 Q102.751 504.276 104.811 503.211 Q106.871 502.123 109.348 502.123 Q114.557 502.123 117.566 505.295 Q120.598 508.443 120.598 513.882 Q120.598 519.206 117.45 522.424 Q114.302 525.642 109.071 525.642 Q103.075 525.642 99.9039 521.058 Q96.7326 516.452 96.7326 507.725 Q96.7326 499.531 100.621 494.67 Q104.51 489.785 111.061 489.785 Q112.82 489.785 114.603 490.133 Q116.408 490.48 118.353 491.174 Z\" fill=\"#000000\" fill-rule=\"evenodd\" fill-opacity=\"1\" /><path clip-path=\"url(#clip980)\" d=\"M64.3254 460.386 Q60.7143 460.386 58.8856 463.951 Q57.0801 467.492 57.0801 474.622 Q57.0801 481.728 58.8856 485.293 Q60.7143 488.835 64.3254 488.835 Q67.9596 488.835 69.7652 485.293 Q71.5939 481.728 71.5939 474.622 Q71.5939 467.492 69.7652 463.951 Q67.9596 460.386 64.3254 460.386 M64.3254 456.682 Q70.1355 456.682 73.1911 461.289 Q76.2698 465.872 76.2698 474.622 Q76.2698 483.349 73.1911 487.955 Q70.1355 492.538 64.3254 492.538 Q58.5152 492.538 55.4365 487.955 Q52.381 483.349 52.381 474.622 Q52.381 465.872 55.4365 461.289 Q58.5152 456.682 64.3254 456.682 Z\" fill=\"#000000\" fill-rule=\"evenodd\" fill-opacity=\"1\" /><path clip-path=\"url(#clip980)\" d=\"M84.4873 485.987 L89.3715 485.987 L89.3715 491.867 L84.4873 491.867 L84.4873 485.987 Z\" fill=\"#000000\" fill-rule=\"evenodd\" fill-opacity=\"1\" /><path clip-path=\"url(#clip980)\" d=\"M98.3761 457.307 L120.598 457.307 L120.598 459.298 L108.052 491.867 L103.168 491.867 L114.973 461.242 L98.3761 461.242 L98.3761 457.307 Z\" fill=\"#000000\" fill-rule=\"evenodd\" fill-opacity=\"1\" /><polyline clip-path=\"url(#clip983)\" style=\"stroke:#009af9; stroke-linecap:butt; stroke-linejoin:round; stroke-width:4; stroke-opacity:1; fill:none\" points=\"\n",
       "  218.754,617.621 366.743,582.267 514.732,476.548 662.721,550.357 810.71,454.131 958.699,518.881 1106.69,591.997 1254.68,454.014 1402.67,507.294 1550.66,552.852 \n",
       "  1698.64,462.246 1846.63,547.011 1994.62,566.929 2142.61,608.371 2290.6,679.678 \n",
       "  \"/>\n",
       "<path clip-path=\"url(#clip980)\" d=\"\n",
       "M1983.47 558.898 L2279.55 558.898 L2279.55 455.218 L1983.47 455.218  Z\n",
       "  \" fill=\"#ffffff\" fill-rule=\"evenodd\" fill-opacity=\"1\"/>\n",
       "<polyline clip-path=\"url(#clip980)\" style=\"stroke:#000000; stroke-linecap:butt; stroke-linejoin:round; stroke-width:4; stroke-opacity:1; fill:none\" points=\"\n",
       "  1983.47,558.898 2279.55,558.898 2279.55,455.218 1983.47,455.218 1983.47,558.898 \n",
       "  \"/>\n",
       "<polyline clip-path=\"url(#clip980)\" style=\"stroke:#009af9; stroke-linecap:butt; stroke-linejoin:round; stroke-width:4; stroke-opacity:1; fill:none\" points=\"\n",
       "  2007.87,507.058 2154.29,507.058 \n",
       "  \"/>\n",
       "<path clip-path=\"url(#clip980)\" d=\"M2192.53 526.745 Q2190.72 531.375 2189.01 532.787 Q2187.3 534.199 2184.43 534.199 L2181.03 534.199 L2181.03 530.634 L2183.53 530.634 Q2185.28 530.634 2186.26 529.8 Q2187.23 528.967 2188.41 525.865 L2189.17 523.921 L2178.69 498.412 L2183.2 498.412 L2191.3 518.689 L2199.4 498.412 L2203.92 498.412 L2192.53 526.745 Z\" fill=\"#000000\" fill-rule=\"evenodd\" fill-opacity=\"1\" /><path clip-path=\"url(#clip980)\" d=\"M2214.43 520.402 L2230.75 520.402 L2230.75 524.338 L2208.8 524.338 L2208.8 520.402 Q2211.46 517.648 2216.05 513.018 Q2220.65 508.365 2221.84 507.023 Q2224.08 504.5 2224.96 502.764 Q2225.86 501.004 2225.86 499.315 Q2225.86 496.56 2223.92 494.824 Q2222 493.088 2218.9 493.088 Q2216.7 493.088 2214.24 493.852 Q2211.81 494.615 2209.03 496.166 L2209.03 491.444 Q2211.86 490.31 2214.31 489.731 Q2216.77 489.153 2218.8 489.153 Q2224.17 489.153 2227.37 491.838 Q2230.56 494.523 2230.56 499.014 Q2230.56 501.143 2229.75 503.065 Q2228.96 504.963 2226.86 507.555 Q2226.28 508.227 2223.18 511.444 Q2220.08 514.639 2214.43 520.402 Z\" fill=\"#000000\" fill-rule=\"evenodd\" fill-opacity=\"1\" /><path clip-path=\"url(#clip980)\" d=\"\n",
       "M156.598 1086.45 L2352.76 1086.45 L2352.76 847.244 L156.598 847.244  Z\n",
       "  \" fill=\"#ffffff\" fill-rule=\"evenodd\" fill-opacity=\"1\"/>\n",
       "<defs>\n",
       "  <clipPath id=\"clip984\">\n",
       "    <rect x=\"156\" y=\"847\" width=\"2197\" height=\"240\"/>\n",
       "  </clipPath>\n",
       "</defs>\n",
       "<polyline clip-path=\"url(#clip984)\" style=\"stroke:#000000; stroke-linecap:butt; stroke-linejoin:round; stroke-width:2; stroke-opacity:0.1; fill:none\" points=\"\n",
       "  366.743,1086.45 366.743,847.244 \n",
       "  \"/>\n",
       "<polyline clip-path=\"url(#clip984)\" style=\"stroke:#000000; stroke-linecap:butt; stroke-linejoin:round; stroke-width:2; stroke-opacity:0.1; fill:none\" points=\"\n",
       "  662.721,1086.45 662.721,847.244 \n",
       "  \"/>\n",
       "<polyline clip-path=\"url(#clip984)\" style=\"stroke:#000000; stroke-linecap:butt; stroke-linejoin:round; stroke-width:2; stroke-opacity:0.1; fill:none\" points=\"\n",
       "  958.699,1086.45 958.699,847.244 \n",
       "  \"/>\n",
       "<polyline clip-path=\"url(#clip984)\" style=\"stroke:#000000; stroke-linecap:butt; stroke-linejoin:round; stroke-width:2; stroke-opacity:0.1; fill:none\" points=\"\n",
       "  1254.68,1086.45 1254.68,847.244 \n",
       "  \"/>\n",
       "<polyline clip-path=\"url(#clip984)\" style=\"stroke:#000000; stroke-linecap:butt; stroke-linejoin:round; stroke-width:2; stroke-opacity:0.1; fill:none\" points=\"\n",
       "  1550.66,1086.45 1550.66,847.244 \n",
       "  \"/>\n",
       "<polyline clip-path=\"url(#clip984)\" style=\"stroke:#000000; stroke-linecap:butt; stroke-linejoin:round; stroke-width:2; stroke-opacity:0.1; fill:none\" points=\"\n",
       "  1846.63,1086.45 1846.63,847.244 \n",
       "  \"/>\n",
       "<polyline clip-path=\"url(#clip984)\" style=\"stroke:#000000; stroke-linecap:butt; stroke-linejoin:round; stroke-width:2; stroke-opacity:0.1; fill:none\" points=\"\n",
       "  2142.61,1086.45 2142.61,847.244 \n",
       "  \"/>\n",
       "<polyline clip-path=\"url(#clip980)\" style=\"stroke:#000000; stroke-linecap:butt; stroke-linejoin:round; stroke-width:4; stroke-opacity:1; fill:none\" points=\"\n",
       "  156.598,1086.45 2352.76,1086.45 \n",
       "  \"/>\n",
       "<polyline clip-path=\"url(#clip980)\" style=\"stroke:#000000; stroke-linecap:butt; stroke-linejoin:round; stroke-width:4; stroke-opacity:1; fill:none\" points=\"\n",
       "  366.743,1086.45 366.743,1067.55 \n",
       "  \"/>\n",
       "<polyline clip-path=\"url(#clip980)\" style=\"stroke:#000000; stroke-linecap:butt; stroke-linejoin:round; stroke-width:4; stroke-opacity:1; fill:none\" points=\"\n",
       "  662.721,1086.45 662.721,1067.55 \n",
       "  \"/>\n",
       "<polyline clip-path=\"url(#clip980)\" style=\"stroke:#000000; stroke-linecap:butt; stroke-linejoin:round; stroke-width:4; stroke-opacity:1; fill:none\" points=\"\n",
       "  958.699,1086.45 958.699,1067.55 \n",
       "  \"/>\n",
       "<polyline clip-path=\"url(#clip980)\" style=\"stroke:#000000; stroke-linecap:butt; stroke-linejoin:round; stroke-width:4; stroke-opacity:1; fill:none\" points=\"\n",
       "  1254.68,1086.45 1254.68,1067.55 \n",
       "  \"/>\n",
       "<polyline clip-path=\"url(#clip980)\" style=\"stroke:#000000; stroke-linecap:butt; stroke-linejoin:round; stroke-width:4; stroke-opacity:1; fill:none\" points=\"\n",
       "  1550.66,1086.45 1550.66,1067.55 \n",
       "  \"/>\n",
       "<polyline clip-path=\"url(#clip980)\" style=\"stroke:#000000; stroke-linecap:butt; stroke-linejoin:round; stroke-width:4; stroke-opacity:1; fill:none\" points=\"\n",
       "  1846.63,1086.45 1846.63,1067.55 \n",
       "  \"/>\n",
       "<polyline clip-path=\"url(#clip980)\" style=\"stroke:#000000; stroke-linecap:butt; stroke-linejoin:round; stroke-width:4; stroke-opacity:1; fill:none\" points=\"\n",
       "  2142.61,1086.45 2142.61,1067.55 \n",
       "  \"/>\n",
       "<path clip-path=\"url(#clip980)\" d=\"M361.396 1144.91 L377.715 1144.91 L377.715 1148.85 L355.771 1148.85 L355.771 1144.91 Q358.433 1142.16 363.016 1137.53 Q367.622 1132.88 368.803 1131.53 Q371.048 1129.01 371.928 1127.27 Q372.831 1125.51 372.831 1123.82 Q372.831 1121.07 370.886 1119.33 Q368.965 1117.6 365.863 1117.6 Q363.664 1117.6 361.21 1118.36 Q358.78 1119.13 356.002 1120.68 L356.002 1115.95 Q358.826 1114.82 361.28 1114.24 Q363.733 1113.66 365.77 1113.66 Q371.141 1113.66 374.335 1116.35 Q377.53 1119.03 377.53 1123.52 Q377.53 1125.65 376.72 1127.57 Q375.932 1129.47 373.826 1132.07 Q373.247 1132.74 370.145 1135.95 Q367.044 1139.15 361.396 1144.91 Z\" fill=\"#000000\" fill-rule=\"evenodd\" fill-opacity=\"1\" /><path clip-path=\"url(#clip980)\" d=\"M665.73 1118.36 L653.925 1136.81 L665.73 1136.81 L665.73 1118.36 M664.503 1114.29 L670.383 1114.29 L670.383 1136.81 L675.313 1136.81 L675.313 1140.7 L670.383 1140.7 L670.383 1148.85 L665.73 1148.85 L665.73 1140.7 L650.128 1140.7 L650.128 1136.19 L664.503 1114.29 Z\" fill=\"#000000\" fill-rule=\"evenodd\" fill-opacity=\"1\" /><path clip-path=\"url(#clip980)\" d=\"M959.104 1129.7 Q955.956 1129.7 954.104 1131.86 Q952.275 1134.01 952.275 1137.76 Q952.275 1141.49 954.104 1143.66 Q955.956 1145.82 959.104 1145.82 Q962.252 1145.82 964.081 1143.66 Q965.933 1141.49 965.933 1137.76 Q965.933 1134.01 964.081 1131.86 Q962.252 1129.7 959.104 1129.7 M968.386 1115.05 L968.386 1119.31 Q966.627 1118.48 964.822 1118.04 Q963.039 1117.6 961.28 1117.6 Q956.65 1117.6 954.197 1120.72 Q951.766 1123.85 951.419 1130.17 Q952.785 1128.15 954.845 1127.09 Q956.905 1126 959.382 1126 Q964.59 1126 967.599 1129.17 Q970.632 1132.32 970.632 1137.76 Q970.632 1143.08 967.484 1146.3 Q964.335 1149.52 959.104 1149.52 Q953.109 1149.52 949.937 1144.94 Q946.766 1140.33 946.766 1131.6 Q946.766 1123.41 950.655 1118.55 Q954.544 1113.66 961.095 1113.66 Q962.854 1113.66 964.636 1114.01 Q966.442 1114.36 968.386 1115.05 Z\" fill=\"#000000\" fill-rule=\"evenodd\" fill-opacity=\"1\" /><path clip-path=\"url(#clip980)\" d=\"M1254.68 1132.44 Q1251.34 1132.44 1249.42 1134.22 Q1247.52 1136 1247.52 1139.13 Q1247.52 1142.25 1249.42 1144.03 Q1251.34 1145.82 1254.68 1145.82 Q1258.01 1145.82 1259.93 1144.03 Q1261.85 1142.23 1261.85 1139.13 Q1261.85 1136 1259.93 1134.22 Q1258.03 1132.44 1254.68 1132.44 M1250 1130.45 Q1246.99 1129.7 1245.3 1127.64 Q1243.64 1125.58 1243.64 1122.62 Q1243.64 1118.48 1246.58 1116.07 Q1249.54 1113.66 1254.68 1113.66 Q1259.84 1113.66 1262.78 1116.07 Q1265.72 1118.48 1265.72 1122.62 Q1265.72 1125.58 1264.03 1127.64 Q1262.36 1129.7 1259.38 1130.45 Q1262.76 1131.23 1264.63 1133.52 Q1266.53 1135.82 1266.53 1139.13 Q1266.53 1144.15 1263.45 1146.83 Q1260.39 1149.52 1254.68 1149.52 Q1248.96 1149.52 1245.88 1146.83 Q1242.83 1144.15 1242.83 1139.13 Q1242.83 1135.82 1244.72 1133.52 Q1246.62 1131.23 1250 1130.45 M1248.29 1123.06 Q1248.29 1125.75 1249.95 1127.25 Q1251.64 1128.76 1254.68 1128.76 Q1257.69 1128.76 1259.38 1127.25 Q1261.09 1125.75 1261.09 1123.06 Q1261.09 1120.38 1259.38 1118.87 Q1257.69 1117.37 1254.68 1117.37 Q1251.64 1117.37 1249.95 1118.87 Q1248.29 1120.38 1248.29 1123.06 Z\" fill=\"#000000\" fill-rule=\"evenodd\" fill-opacity=\"1\" /><path clip-path=\"url(#clip980)\" d=\"M1525.34 1144.91 L1532.98 1144.91 L1532.98 1118.55 L1524.67 1120.21 L1524.67 1115.95 L1532.94 1114.29 L1537.61 1114.29 L1537.61 1144.91 L1545.25 1144.91 L1545.25 1148.85 L1525.34 1148.85 L1525.34 1144.91 Z\" fill=\"#000000\" fill-rule=\"evenodd\" fill-opacity=\"1\" /><path clip-path=\"url(#clip980)\" d=\"M1564.69 1117.37 Q1561.08 1117.37 1559.25 1120.93 Q1557.45 1124.47 1557.45 1131.6 Q1557.45 1138.71 1559.25 1142.27 Q1561.08 1145.82 1564.69 1145.82 Q1568.33 1145.82 1570.13 1142.27 Q1571.96 1138.71 1571.96 1131.6 Q1571.96 1124.47 1570.13 1120.93 Q1568.33 1117.37 1564.69 1117.37 M1564.69 1113.66 Q1570.5 1113.66 1573.56 1118.27 Q1576.64 1122.85 1576.64 1131.6 Q1576.64 1140.33 1573.56 1144.94 Q1570.5 1149.52 1564.69 1149.52 Q1558.88 1149.52 1555.81 1144.94 Q1552.75 1140.33 1552.75 1131.6 Q1552.75 1122.85 1555.81 1118.27 Q1558.88 1113.66 1564.69 1113.66 Z\" fill=\"#000000\" fill-rule=\"evenodd\" fill-opacity=\"1\" /><path clip-path=\"url(#clip980)\" d=\"M1822.12 1144.91 L1829.76 1144.91 L1829.76 1118.55 L1821.45 1120.21 L1821.45 1115.95 L1829.71 1114.29 L1834.39 1114.29 L1834.39 1144.91 L1842.03 1144.91 L1842.03 1148.85 L1822.12 1148.85 L1822.12 1144.91 Z\" fill=\"#000000\" fill-rule=\"evenodd\" fill-opacity=\"1\" /><path clip-path=\"url(#clip980)\" d=\"M1855.5 1144.91 L1871.82 1144.91 L1871.82 1148.85 L1849.87 1148.85 L1849.87 1144.91 Q1852.54 1142.16 1857.12 1137.53 Q1861.73 1132.88 1862.91 1131.53 Q1865.15 1129.01 1866.03 1127.27 Q1866.93 1125.51 1866.93 1123.82 Q1866.93 1121.07 1864.99 1119.33 Q1863.07 1117.6 1859.97 1117.6 Q1857.77 1117.6 1855.31 1118.36 Q1852.88 1119.13 1850.11 1120.68 L1850.11 1115.95 Q1852.93 1114.82 1855.38 1114.24 Q1857.84 1113.66 1859.87 1113.66 Q1865.24 1113.66 1868.44 1116.35 Q1871.63 1119.03 1871.63 1123.52 Q1871.63 1125.65 1870.82 1127.57 Q1870.04 1129.47 1867.93 1132.07 Q1867.35 1132.74 1864.25 1135.95 Q1861.15 1139.15 1855.5 1144.91 Z\" fill=\"#000000\" fill-rule=\"evenodd\" fill-opacity=\"1\" /><path clip-path=\"url(#clip980)\" d=\"M2117.06 1144.91 L2124.69 1144.91 L2124.69 1118.55 L2116.38 1120.21 L2116.38 1115.95 L2124.65 1114.29 L2129.32 1114.29 L2129.32 1144.91 L2136.96 1144.91 L2136.96 1148.85 L2117.06 1148.85 L2117.06 1144.91 Z\" fill=\"#000000\" fill-rule=\"evenodd\" fill-opacity=\"1\" /><path clip-path=\"url(#clip980)\" d=\"M2159.25 1118.36 L2147.45 1136.81 L2159.25 1136.81 L2159.25 1118.36 M2158.03 1114.29 L2163.91 1114.29 L2163.91 1136.81 L2168.84 1136.81 L2168.84 1140.7 L2163.91 1140.7 L2163.91 1148.85 L2159.25 1148.85 L2159.25 1140.7 L2143.65 1140.7 L2143.65 1136.19 L2158.03 1114.29 Z\" fill=\"#000000\" fill-rule=\"evenodd\" fill-opacity=\"1\" /><polyline clip-path=\"url(#clip984)\" style=\"stroke:#000000; stroke-linecap:butt; stroke-linejoin:round; stroke-width:2; stroke-opacity:0.1; fill:none\" points=\"\n",
       "  156.598,1055.68 2352.76,1055.68 \n",
       "  \"/>\n",
       "<polyline clip-path=\"url(#clip984)\" style=\"stroke:#000000; stroke-linecap:butt; stroke-linejoin:round; stroke-width:2; stroke-opacity:0.1; fill:none\" points=\"\n",
       "  156.598,1003.74 2352.76,1003.74 \n",
       "  \"/>\n",
       "<polyline clip-path=\"url(#clip984)\" style=\"stroke:#000000; stroke-linecap:butt; stroke-linejoin:round; stroke-width:2; stroke-opacity:0.1; fill:none\" points=\"\n",
       "  156.598,951.806 2352.76,951.806 \n",
       "  \"/>\n",
       "<polyline clip-path=\"url(#clip984)\" style=\"stroke:#000000; stroke-linecap:butt; stroke-linejoin:round; stroke-width:2; stroke-opacity:0.1; fill:none\" points=\"\n",
       "  156.598,899.869 2352.76,899.869 \n",
       "  \"/>\n",
       "<polyline clip-path=\"url(#clip984)\" style=\"stroke:#000000; stroke-linecap:butt; stroke-linejoin:round; stroke-width:2; stroke-opacity:0.1; fill:none\" points=\"\n",
       "  156.598,847.931 2352.76,847.931 \n",
       "  \"/>\n",
       "<polyline clip-path=\"url(#clip980)\" style=\"stroke:#000000; stroke-linecap:butt; stroke-linejoin:round; stroke-width:4; stroke-opacity:1; fill:none\" points=\"\n",
       "  156.598,1086.45 156.598,847.244 \n",
       "  \"/>\n",
       "<polyline clip-path=\"url(#clip980)\" style=\"stroke:#000000; stroke-linecap:butt; stroke-linejoin:round; stroke-width:4; stroke-opacity:1; fill:none\" points=\"\n",
       "  156.598,1055.68 175.496,1055.68 \n",
       "  \"/>\n",
       "<polyline clip-path=\"url(#clip980)\" style=\"stroke:#000000; stroke-linecap:butt; stroke-linejoin:round; stroke-width:4; stroke-opacity:1; fill:none\" points=\"\n",
       "  156.598,1003.74 175.496,1003.74 \n",
       "  \"/>\n",
       "<polyline clip-path=\"url(#clip980)\" style=\"stroke:#000000; stroke-linecap:butt; stroke-linejoin:round; stroke-width:4; stroke-opacity:1; fill:none\" points=\"\n",
       "  156.598,951.806 175.496,951.806 \n",
       "  \"/>\n",
       "<polyline clip-path=\"url(#clip980)\" style=\"stroke:#000000; stroke-linecap:butt; stroke-linejoin:round; stroke-width:4; stroke-opacity:1; fill:none\" points=\"\n",
       "  156.598,899.869 175.496,899.869 \n",
       "  \"/>\n",
       "<polyline clip-path=\"url(#clip980)\" style=\"stroke:#000000; stroke-linecap:butt; stroke-linejoin:round; stroke-width:4; stroke-opacity:1; fill:none\" points=\"\n",
       "  156.598,847.931 175.496,847.931 \n",
       "  \"/>\n",
       "<path clip-path=\"url(#clip980)\" d=\"M65.0198 1041.48 Q61.4087 1041.48 59.58 1045.04 Q57.7745 1048.59 57.7745 1055.72 Q57.7745 1062.82 59.58 1066.39 Q61.4087 1069.93 65.0198 1069.93 Q68.6541 1069.93 70.4596 1066.39 Q72.2883 1062.82 72.2883 1055.72 Q72.2883 1048.59 70.4596 1045.04 Q68.6541 1041.48 65.0198 1041.48 M65.0198 1037.78 Q70.83 1037.78 73.8855 1042.38 Q76.9642 1046.97 76.9642 1055.72 Q76.9642 1064.44 73.8855 1069.05 Q70.83 1073.63 65.0198 1073.63 Q59.2097 1073.63 56.131 1069.05 Q53.0754 1064.44 53.0754 1055.72 Q53.0754 1046.97 56.131 1042.38 Q59.2097 1037.78 65.0198 1037.78 Z\" fill=\"#000000\" fill-rule=\"evenodd\" fill-opacity=\"1\" /><path clip-path=\"url(#clip980)\" d=\"M85.1818 1067.08 L90.066 1067.08 L90.066 1072.96 L85.1818 1072.96 L85.1818 1067.08 Z\" fill=\"#000000\" fill-rule=\"evenodd\" fill-opacity=\"1\" /><path clip-path=\"url(#clip980)\" d=\"M104.279 1069.03 L120.598 1069.03 L120.598 1072.96 L98.6539 1072.96 L98.6539 1069.03 Q101.316 1066.27 105.899 1061.64 Q110.506 1056.99 111.686 1055.65 Q113.932 1053.12 114.811 1051.39 Q115.714 1049.63 115.714 1047.94 Q115.714 1045.18 113.77 1043.45 Q111.848 1041.71 108.746 1041.71 Q106.547 1041.71 104.094 1042.48 Q101.663 1043.24 98.8854 1044.79 L98.8854 1040.07 Q101.709 1038.93 104.163 1038.36 Q106.617 1037.78 108.654 1037.78 Q114.024 1037.78 117.219 1040.46 Q120.413 1043.15 120.413 1047.64 Q120.413 1049.77 119.603 1051.69 Q118.816 1053.59 116.709 1056.18 Q116.131 1056.85 113.029 1060.07 Q109.927 1063.26 104.279 1069.03 Z\" fill=\"#000000\" fill-rule=\"evenodd\" fill-opacity=\"1\" /><path clip-path=\"url(#clip980)\" d=\"M62.9365 989.543 Q59.3254 989.543 57.4967 993.107 Q55.6912 996.649 55.6912 1003.78 Q55.6912 1010.89 57.4967 1014.45 Q59.3254 1017.99 62.9365 1017.99 Q66.5707 1017.99 68.3763 1014.45 Q70.205 1010.89 70.205 1003.78 Q70.205 996.649 68.3763 993.107 Q66.5707 989.543 62.9365 989.543 M62.9365 985.839 Q68.7467 985.839 71.8022 990.445 Q74.8809 995.029 74.8809 1003.78 Q74.8809 1012.51 71.8022 1017.11 Q68.7467 1021.7 62.9365 1021.7 Q57.1264 1021.7 54.0477 1017.11 Q50.9921 1012.51 50.9921 1003.78 Q50.9921 995.029 54.0477 990.445 Q57.1264 985.839 62.9365 985.839 Z\" fill=\"#000000\" fill-rule=\"evenodd\" fill-opacity=\"1\" /><path clip-path=\"url(#clip980)\" d=\"M83.0984 1015.14 L87.9827 1015.14 L87.9827 1021.02 L83.0984 1021.02 L83.0984 1015.14 Z\" fill=\"#000000\" fill-rule=\"evenodd\" fill-opacity=\"1\" /><path clip-path=\"url(#clip980)\" d=\"M111.015 990.538 L99.2095 1008.99 L111.015 1008.99 L111.015 990.538 M109.788 986.464 L115.668 986.464 L115.668 1008.99 L120.598 1008.99 L120.598 1012.88 L115.668 1012.88 L115.668 1021.02 L111.015 1021.02 L111.015 1012.88 L95.4132 1012.88 L95.4132 1008.36 L109.788 986.464 Z\" fill=\"#000000\" fill-rule=\"evenodd\" fill-opacity=\"1\" /><path clip-path=\"url(#clip980)\" d=\"M63.2606 937.605 Q59.6495 937.605 57.8208 941.17 Q56.0152 944.712 56.0152 951.841 Q56.0152 958.948 57.8208 962.512 Q59.6495 966.054 63.2606 966.054 Q66.8948 966.054 68.7004 962.512 Q70.5291 958.948 70.5291 951.841 Q70.5291 944.712 68.7004 941.17 Q66.8948 937.605 63.2606 937.605 M63.2606 933.901 Q69.0707 933.901 72.1263 938.508 Q75.205 943.091 75.205 951.841 Q75.205 960.568 72.1263 965.174 Q69.0707 969.758 63.2606 969.758 Q57.4504 969.758 54.3717 965.174 Q51.3162 960.568 51.3162 951.841 Q51.3162 943.091 54.3717 938.508 Q57.4504 933.901 63.2606 933.901 Z\" fill=\"#000000\" fill-rule=\"evenodd\" fill-opacity=\"1\" /><path clip-path=\"url(#clip980)\" d=\"M83.4225 963.207 L88.3067 963.207 L88.3067 969.086 L83.4225 969.086 L83.4225 963.207 Z\" fill=\"#000000\" fill-rule=\"evenodd\" fill-opacity=\"1\" /><path clip-path=\"url(#clip980)\" d=\"M109.071 949.943 Q105.922 949.943 104.071 952.096 Q102.242 954.249 102.242 957.999 Q102.242 961.725 104.071 963.901 Q105.922 966.054 109.071 966.054 Q112.219 966.054 114.047 963.901 Q115.899 961.725 115.899 957.999 Q115.899 954.249 114.047 952.096 Q112.219 949.943 109.071 949.943 M118.353 935.29 L118.353 939.55 Q116.594 938.716 114.788 938.276 Q113.006 937.837 111.246 937.837 Q106.617 937.837 104.163 940.962 Q101.733 944.087 101.385 950.406 Q102.751 948.392 104.811 947.327 Q106.871 946.239 109.348 946.239 Q114.557 946.239 117.566 949.411 Q120.598 952.559 120.598 957.999 Q120.598 963.323 117.45 966.54 Q114.302 969.758 109.071 969.758 Q103.075 969.758 99.9039 965.174 Q96.7326 960.568 96.7326 951.841 Q96.7326 943.647 100.621 938.786 Q104.51 933.901 111.061 933.901 Q112.82 933.901 114.603 934.249 Q116.408 934.596 118.353 935.29 Z\" fill=\"#000000\" fill-rule=\"evenodd\" fill-opacity=\"1\" /><path clip-path=\"url(#clip980)\" d=\"M63.5152 885.668 Q59.9041 885.668 58.0754 889.232 Q56.2699 892.774 56.2699 899.904 Q56.2699 907.01 58.0754 910.575 Q59.9041 914.117 63.5152 914.117 Q67.1494 914.117 68.955 910.575 Q70.7837 907.01 70.7837 899.904 Q70.7837 892.774 68.955 889.232 Q67.1494 885.668 63.5152 885.668 M63.5152 881.964 Q69.3254 881.964 72.3809 886.57 Q75.4596 891.154 75.4596 899.904 Q75.4596 908.631 72.3809 913.237 Q69.3254 917.82 63.5152 917.82 Q57.7051 917.82 54.6264 913.237 Q51.5708 908.631 51.5708 899.904 Q51.5708 891.154 54.6264 886.57 Q57.7051 881.964 63.5152 881.964 Z\" fill=\"#000000\" fill-rule=\"evenodd\" fill-opacity=\"1\" /><path clip-path=\"url(#clip980)\" d=\"M83.6771 911.269 L88.5614 911.269 L88.5614 917.149 L83.6771 917.149 L83.6771 911.269 Z\" fill=\"#000000\" fill-rule=\"evenodd\" fill-opacity=\"1\" /><path clip-path=\"url(#clip980)\" d=\"M108.746 900.737 Q105.413 900.737 103.492 902.519 Q101.594 904.302 101.594 907.427 Q101.594 910.552 103.492 912.334 Q105.413 914.117 108.746 914.117 Q112.08 914.117 114.001 912.334 Q115.922 910.529 115.922 907.427 Q115.922 904.302 114.001 902.519 Q112.103 900.737 108.746 900.737 M104.071 898.746 Q101.061 898.006 99.3715 895.945 Q97.7048 893.885 97.7048 890.922 Q97.7048 886.779 100.645 884.371 Q103.608 881.964 108.746 881.964 Q113.908 881.964 116.848 884.371 Q119.788 886.779 119.788 890.922 Q119.788 893.885 118.098 895.945 Q116.432 898.006 113.445 898.746 Q116.825 899.533 118.7 901.825 Q120.598 904.117 120.598 907.427 Q120.598 912.45 117.52 915.135 Q114.464 917.82 108.746 917.82 Q103.029 917.82 99.9502 915.135 Q96.8947 912.45 96.8947 907.427 Q96.8947 904.117 98.7928 901.825 Q100.691 899.533 104.071 898.746 M102.358 891.362 Q102.358 894.047 104.024 895.552 Q105.714 897.057 108.746 897.057 Q111.756 897.057 113.445 895.552 Q115.158 894.047 115.158 891.362 Q115.158 888.677 113.445 887.172 Q111.756 885.668 108.746 885.668 Q105.714 885.668 104.024 887.172 Q102.358 888.677 102.358 891.362 Z\" fill=\"#000000\" fill-rule=\"evenodd\" fill-opacity=\"1\" /><path clip-path=\"url(#clip980)\" d=\"M54.2328 861.276 L61.8717 861.276 L61.8717 834.911 L53.5616 836.577 L53.5616 832.318 L61.8254 830.651 L66.5013 830.651 L66.5013 861.276 L74.1402 861.276 L74.1402 865.211 L54.2328 865.211 L54.2328 861.276 Z\" fill=\"#000000\" fill-rule=\"evenodd\" fill-opacity=\"1\" /><path clip-path=\"url(#clip980)\" d=\"M83.5845 859.332 L88.4688 859.332 L88.4688 865.211 L83.5845 865.211 L83.5845 859.332 Z\" fill=\"#000000\" fill-rule=\"evenodd\" fill-opacity=\"1\" /><path clip-path=\"url(#clip980)\" d=\"M108.654 833.73 Q105.043 833.73 103.214 837.295 Q101.409 840.837 101.409 847.966 Q101.409 855.073 103.214 858.637 Q105.043 862.179 108.654 862.179 Q112.288 862.179 114.094 858.637 Q115.922 855.073 115.922 847.966 Q115.922 840.837 114.094 837.295 Q112.288 833.73 108.654 833.73 M108.654 830.026 Q114.464 830.026 117.52 834.633 Q120.598 839.216 120.598 847.966 Q120.598 856.693 117.52 861.299 Q114.464 865.883 108.654 865.883 Q102.844 865.883 99.765 861.299 Q96.7095 856.693 96.7095 847.966 Q96.7095 839.216 99.765 834.633 Q102.844 830.026 108.654 830.026 Z\" fill=\"#000000\" fill-rule=\"evenodd\" fill-opacity=\"1\" /><polyline clip-path=\"url(#clip984)\" style=\"stroke:#009af9; stroke-linecap:butt; stroke-linejoin:round; stroke-width:4; stroke-opacity:1; fill:none\" points=\"\n",
       "  218.754,941.507 366.743,1007.11 514.732,978.461 662.721,854.014 810.71,1028.19 958.699,973.928 1106.69,962.893 1254.68,1077.14 1402.67,933.146 1550.66,982.908 \n",
       "  1698.64,941.213 1846.63,895.435 1994.62,1040.01 2142.61,1079.68 2290.6,925.678 \n",
       "  \"/>\n",
       "<path clip-path=\"url(#clip980)\" d=\"\n",
       "M1982.52 958.898 L2279.55 958.898 L2279.55 855.218 L1982.52 855.218  Z\n",
       "  \" fill=\"#ffffff\" fill-rule=\"evenodd\" fill-opacity=\"1\"/>\n",
       "<polyline clip-path=\"url(#clip980)\" style=\"stroke:#000000; stroke-linecap:butt; stroke-linejoin:round; stroke-width:4; stroke-opacity:1; fill:none\" points=\"\n",
       "  1982.52,958.898 2279.55,958.898 2279.55,855.218 1982.52,855.218 1982.52,958.898 \n",
       "  \"/>\n",
       "<polyline clip-path=\"url(#clip980)\" style=\"stroke:#009af9; stroke-linecap:butt; stroke-linejoin:round; stroke-width:4; stroke-opacity:1; fill:none\" points=\"\n",
       "  2006.93,907.058 2153.34,907.058 \n",
       "  \"/>\n",
       "<path clip-path=\"url(#clip980)\" d=\"M2191.58 926.745 Q2189.78 931.375 2188.06 932.787 Q2186.35 934.199 2183.48 934.199 L2180.08 934.199 L2180.08 930.634 L2182.58 930.634 Q2184.34 930.634 2185.31 929.8 Q2186.28 928.967 2187.46 925.865 L2188.22 923.921 L2177.74 898.412 L2182.25 898.412 L2190.35 918.689 L2198.46 898.412 L2202.97 898.412 L2191.58 926.745 Z\" fill=\"#000000\" fill-rule=\"evenodd\" fill-opacity=\"1\" /><path clip-path=\"url(#clip980)\" d=\"M2223.62 905.703 Q2226.97 906.421 2228.85 908.689 Q2230.75 910.958 2230.75 914.291 Q2230.75 919.407 2227.23 922.208 Q2223.71 925.009 2217.23 925.009 Q2215.05 925.009 2212.74 924.569 Q2210.45 924.152 2207.99 923.296 L2207.99 918.782 Q2209.94 919.916 2212.25 920.495 Q2214.57 921.074 2217.09 921.074 Q2221.49 921.074 2223.78 919.338 Q2226.09 917.601 2226.09 914.291 Q2226.09 911.236 2223.94 909.523 Q2221.81 907.787 2217.99 907.787 L2213.96 907.787 L2213.96 903.944 L2218.18 903.944 Q2221.63 903.944 2223.46 902.578 Q2225.28 901.19 2225.28 898.597 Q2225.28 895.935 2223.39 894.523 Q2221.51 893.088 2217.99 893.088 Q2216.07 893.088 2213.87 893.504 Q2211.67 893.921 2209.03 894.801 L2209.03 890.634 Q2211.7 889.893 2214.01 889.523 Q2216.35 889.153 2218.41 889.153 Q2223.73 889.153 2226.84 891.583 Q2229.94 893.99 2229.94 898.111 Q2229.94 900.981 2228.29 902.972 Q2226.65 904.94 2223.62 905.703 Z\" fill=\"#000000\" fill-rule=\"evenodd\" fill-opacity=\"1\" /><path clip-path=\"url(#clip980)\" d=\"\n",
       "M156.598 1486.45 L2352.76 1486.45 L2352.76 1247.24 L156.598 1247.24  Z\n",
       "  \" fill=\"#ffffff\" fill-rule=\"evenodd\" fill-opacity=\"1\"/>\n",
       "<defs>\n",
       "  <clipPath id=\"clip985\">\n",
       "    <rect x=\"156\" y=\"1247\" width=\"2197\" height=\"240\"/>\n",
       "  </clipPath>\n",
       "</defs>\n",
       "<polyline clip-path=\"url(#clip985)\" style=\"stroke:#000000; stroke-linecap:butt; stroke-linejoin:round; stroke-width:2; stroke-opacity:0.1; fill:none\" points=\"\n",
       "  366.743,1486.45 366.743,1247.24 \n",
       "  \"/>\n",
       "<polyline clip-path=\"url(#clip985)\" style=\"stroke:#000000; stroke-linecap:butt; stroke-linejoin:round; stroke-width:2; stroke-opacity:0.1; fill:none\" points=\"\n",
       "  662.721,1486.45 662.721,1247.24 \n",
       "  \"/>\n",
       "<polyline clip-path=\"url(#clip985)\" style=\"stroke:#000000; stroke-linecap:butt; stroke-linejoin:round; stroke-width:2; stroke-opacity:0.1; fill:none\" points=\"\n",
       "  958.699,1486.45 958.699,1247.24 \n",
       "  \"/>\n",
       "<polyline clip-path=\"url(#clip985)\" style=\"stroke:#000000; stroke-linecap:butt; stroke-linejoin:round; stroke-width:2; stroke-opacity:0.1; fill:none\" points=\"\n",
       "  1254.68,1486.45 1254.68,1247.24 \n",
       "  \"/>\n",
       "<polyline clip-path=\"url(#clip985)\" style=\"stroke:#000000; stroke-linecap:butt; stroke-linejoin:round; stroke-width:2; stroke-opacity:0.1; fill:none\" points=\"\n",
       "  1550.66,1486.45 1550.66,1247.24 \n",
       "  \"/>\n",
       "<polyline clip-path=\"url(#clip985)\" style=\"stroke:#000000; stroke-linecap:butt; stroke-linejoin:round; stroke-width:2; stroke-opacity:0.1; fill:none\" points=\"\n",
       "  1846.63,1486.45 1846.63,1247.24 \n",
       "  \"/>\n",
       "<polyline clip-path=\"url(#clip985)\" style=\"stroke:#000000; stroke-linecap:butt; stroke-linejoin:round; stroke-width:2; stroke-opacity:0.1; fill:none\" points=\"\n",
       "  2142.61,1486.45 2142.61,1247.24 \n",
       "  \"/>\n",
       "<polyline clip-path=\"url(#clip980)\" style=\"stroke:#000000; stroke-linecap:butt; stroke-linejoin:round; stroke-width:4; stroke-opacity:1; fill:none\" points=\"\n",
       "  156.598,1486.45 2352.76,1486.45 \n",
       "  \"/>\n",
       "<polyline clip-path=\"url(#clip980)\" style=\"stroke:#000000; stroke-linecap:butt; stroke-linejoin:round; stroke-width:4; stroke-opacity:1; fill:none\" points=\"\n",
       "  366.743,1486.45 366.743,1467.55 \n",
       "  \"/>\n",
       "<polyline clip-path=\"url(#clip980)\" style=\"stroke:#000000; stroke-linecap:butt; stroke-linejoin:round; stroke-width:4; stroke-opacity:1; fill:none\" points=\"\n",
       "  662.721,1486.45 662.721,1467.55 \n",
       "  \"/>\n",
       "<polyline clip-path=\"url(#clip980)\" style=\"stroke:#000000; stroke-linecap:butt; stroke-linejoin:round; stroke-width:4; stroke-opacity:1; fill:none\" points=\"\n",
       "  958.699,1486.45 958.699,1467.55 \n",
       "  \"/>\n",
       "<polyline clip-path=\"url(#clip980)\" style=\"stroke:#000000; stroke-linecap:butt; stroke-linejoin:round; stroke-width:4; stroke-opacity:1; fill:none\" points=\"\n",
       "  1254.68,1486.45 1254.68,1467.55 \n",
       "  \"/>\n",
       "<polyline clip-path=\"url(#clip980)\" style=\"stroke:#000000; stroke-linecap:butt; stroke-linejoin:round; stroke-width:4; stroke-opacity:1; fill:none\" points=\"\n",
       "  1550.66,1486.45 1550.66,1467.55 \n",
       "  \"/>\n",
       "<polyline clip-path=\"url(#clip980)\" style=\"stroke:#000000; stroke-linecap:butt; stroke-linejoin:round; stroke-width:4; stroke-opacity:1; fill:none\" points=\"\n",
       "  1846.63,1486.45 1846.63,1467.55 \n",
       "  \"/>\n",
       "<polyline clip-path=\"url(#clip980)\" style=\"stroke:#000000; stroke-linecap:butt; stroke-linejoin:round; stroke-width:4; stroke-opacity:1; fill:none\" points=\"\n",
       "  2142.61,1486.45 2142.61,1467.55 \n",
       "  \"/>\n",
       "<path clip-path=\"url(#clip980)\" d=\"M361.396 1544.91 L377.715 1544.91 L377.715 1548.85 L355.771 1548.85 L355.771 1544.91 Q358.433 1542.16 363.016 1537.53 Q367.622 1532.88 368.803 1531.53 Q371.048 1529.01 371.928 1527.27 Q372.831 1525.51 372.831 1523.82 Q372.831 1521.07 370.886 1519.33 Q368.965 1517.6 365.863 1517.6 Q363.664 1517.6 361.21 1518.36 Q358.78 1519.13 356.002 1520.68 L356.002 1515.95 Q358.826 1514.82 361.28 1514.24 Q363.733 1513.66 365.77 1513.66 Q371.141 1513.66 374.335 1516.35 Q377.53 1519.03 377.53 1523.52 Q377.53 1525.65 376.72 1527.57 Q375.932 1529.47 373.826 1532.07 Q373.247 1532.74 370.145 1535.95 Q367.044 1539.15 361.396 1544.91 Z\" fill=\"#000000\" fill-rule=\"evenodd\" fill-opacity=\"1\" /><path clip-path=\"url(#clip980)\" d=\"M665.73 1518.36 L653.925 1536.81 L665.73 1536.81 L665.73 1518.36 M664.503 1514.29 L670.383 1514.29 L670.383 1536.81 L675.313 1536.81 L675.313 1540.7 L670.383 1540.7 L670.383 1548.85 L665.73 1548.85 L665.73 1540.7 L650.128 1540.7 L650.128 1536.19 L664.503 1514.29 Z\" fill=\"#000000\" fill-rule=\"evenodd\" fill-opacity=\"1\" /><path clip-path=\"url(#clip980)\" d=\"M959.104 1529.7 Q955.956 1529.7 954.104 1531.86 Q952.275 1534.01 952.275 1537.76 Q952.275 1541.49 954.104 1543.66 Q955.956 1545.82 959.104 1545.82 Q962.252 1545.82 964.081 1543.66 Q965.933 1541.49 965.933 1537.76 Q965.933 1534.01 964.081 1531.86 Q962.252 1529.7 959.104 1529.7 M968.386 1515.05 L968.386 1519.31 Q966.627 1518.48 964.822 1518.04 Q963.039 1517.6 961.28 1517.6 Q956.65 1517.6 954.197 1520.72 Q951.766 1523.85 951.419 1530.17 Q952.785 1528.15 954.845 1527.09 Q956.905 1526 959.382 1526 Q964.59 1526 967.599 1529.17 Q970.632 1532.32 970.632 1537.76 Q970.632 1543.08 967.484 1546.3 Q964.335 1549.52 959.104 1549.52 Q953.109 1549.52 949.937 1544.94 Q946.766 1540.33 946.766 1531.6 Q946.766 1523.41 950.655 1518.55 Q954.544 1513.66 961.095 1513.66 Q962.854 1513.66 964.636 1514.01 Q966.442 1514.36 968.386 1515.05 Z\" fill=\"#000000\" fill-rule=\"evenodd\" fill-opacity=\"1\" /><path clip-path=\"url(#clip980)\" d=\"M1254.68 1532.44 Q1251.34 1532.44 1249.42 1534.22 Q1247.52 1536 1247.52 1539.13 Q1247.52 1542.25 1249.42 1544.03 Q1251.34 1545.82 1254.68 1545.82 Q1258.01 1545.82 1259.93 1544.03 Q1261.85 1542.23 1261.85 1539.13 Q1261.85 1536 1259.93 1534.22 Q1258.03 1532.44 1254.68 1532.44 M1250 1530.45 Q1246.99 1529.7 1245.3 1527.64 Q1243.64 1525.58 1243.64 1522.62 Q1243.64 1518.48 1246.58 1516.07 Q1249.54 1513.66 1254.68 1513.66 Q1259.84 1513.66 1262.78 1516.07 Q1265.72 1518.48 1265.72 1522.62 Q1265.72 1525.58 1264.03 1527.64 Q1262.36 1529.7 1259.38 1530.45 Q1262.76 1531.23 1264.63 1533.52 Q1266.53 1535.82 1266.53 1539.13 Q1266.53 1544.15 1263.45 1546.83 Q1260.39 1549.52 1254.68 1549.52 Q1248.96 1549.52 1245.88 1546.83 Q1242.83 1544.15 1242.83 1539.13 Q1242.83 1535.82 1244.72 1533.52 Q1246.62 1531.23 1250 1530.45 M1248.29 1523.06 Q1248.29 1525.75 1249.95 1527.25 Q1251.64 1528.76 1254.68 1528.76 Q1257.69 1528.76 1259.38 1527.25 Q1261.09 1525.75 1261.09 1523.06 Q1261.09 1520.38 1259.38 1518.87 Q1257.69 1517.37 1254.68 1517.37 Q1251.64 1517.37 1249.95 1518.87 Q1248.29 1520.38 1248.29 1523.06 Z\" fill=\"#000000\" fill-rule=\"evenodd\" fill-opacity=\"1\" /><path clip-path=\"url(#clip980)\" d=\"M1525.34 1544.91 L1532.98 1544.91 L1532.98 1518.55 L1524.67 1520.21 L1524.67 1515.95 L1532.94 1514.29 L1537.61 1514.29 L1537.61 1544.91 L1545.25 1544.91 L1545.25 1548.85 L1525.34 1548.85 L1525.34 1544.91 Z\" fill=\"#000000\" fill-rule=\"evenodd\" fill-opacity=\"1\" /><path clip-path=\"url(#clip980)\" d=\"M1564.69 1517.37 Q1561.08 1517.37 1559.25 1520.93 Q1557.45 1524.47 1557.45 1531.6 Q1557.45 1538.71 1559.25 1542.27 Q1561.08 1545.82 1564.69 1545.82 Q1568.33 1545.82 1570.13 1542.27 Q1571.96 1538.71 1571.96 1531.6 Q1571.96 1524.47 1570.13 1520.93 Q1568.33 1517.37 1564.69 1517.37 M1564.69 1513.66 Q1570.5 1513.66 1573.56 1518.27 Q1576.64 1522.85 1576.64 1531.6 Q1576.64 1540.33 1573.56 1544.94 Q1570.5 1549.52 1564.69 1549.52 Q1558.88 1549.52 1555.81 1544.94 Q1552.75 1540.33 1552.75 1531.6 Q1552.75 1522.85 1555.81 1518.27 Q1558.88 1513.66 1564.69 1513.66 Z\" fill=\"#000000\" fill-rule=\"evenodd\" fill-opacity=\"1\" /><path clip-path=\"url(#clip980)\" d=\"M1822.12 1544.91 L1829.76 1544.91 L1829.76 1518.55 L1821.45 1520.21 L1821.45 1515.95 L1829.71 1514.29 L1834.39 1514.29 L1834.39 1544.91 L1842.03 1544.91 L1842.03 1548.85 L1822.12 1548.85 L1822.12 1544.91 Z\" fill=\"#000000\" fill-rule=\"evenodd\" fill-opacity=\"1\" /><path clip-path=\"url(#clip980)\" d=\"M1855.5 1544.91 L1871.82 1544.91 L1871.82 1548.85 L1849.87 1548.85 L1849.87 1544.91 Q1852.54 1542.16 1857.12 1537.53 Q1861.73 1532.88 1862.91 1531.53 Q1865.15 1529.01 1866.03 1527.27 Q1866.93 1525.51 1866.93 1523.82 Q1866.93 1521.07 1864.99 1519.33 Q1863.07 1517.6 1859.97 1517.6 Q1857.77 1517.6 1855.31 1518.36 Q1852.88 1519.13 1850.11 1520.68 L1850.11 1515.95 Q1852.93 1514.82 1855.38 1514.24 Q1857.84 1513.66 1859.87 1513.66 Q1865.24 1513.66 1868.44 1516.35 Q1871.63 1519.03 1871.63 1523.52 Q1871.63 1525.65 1870.82 1527.57 Q1870.04 1529.47 1867.93 1532.07 Q1867.35 1532.74 1864.25 1535.95 Q1861.15 1539.15 1855.5 1544.91 Z\" fill=\"#000000\" fill-rule=\"evenodd\" fill-opacity=\"1\" /><path clip-path=\"url(#clip980)\" d=\"M2117.06 1544.91 L2124.69 1544.91 L2124.69 1518.55 L2116.38 1520.21 L2116.38 1515.95 L2124.65 1514.29 L2129.32 1514.29 L2129.32 1544.91 L2136.96 1544.91 L2136.96 1548.85 L2117.06 1548.85 L2117.06 1544.91 Z\" fill=\"#000000\" fill-rule=\"evenodd\" fill-opacity=\"1\" /><path clip-path=\"url(#clip980)\" d=\"M2159.25 1518.36 L2147.45 1536.81 L2159.25 1536.81 L2159.25 1518.36 M2158.03 1514.29 L2163.91 1514.29 L2163.91 1536.81 L2168.84 1536.81 L2168.84 1540.7 L2163.91 1540.7 L2163.91 1548.85 L2159.25 1548.85 L2159.25 1540.7 L2143.65 1540.7 L2143.65 1536.19 L2158.03 1514.29 Z\" fill=\"#000000\" fill-rule=\"evenodd\" fill-opacity=\"1\" /><polyline clip-path=\"url(#clip985)\" style=\"stroke:#000000; stroke-linecap:butt; stroke-linejoin:round; stroke-width:2; stroke-opacity:0.1; fill:none\" points=\"\n",
       "  156.598,1438.94 2352.76,1438.94 \n",
       "  \"/>\n",
       "<polyline clip-path=\"url(#clip985)\" style=\"stroke:#000000; stroke-linecap:butt; stroke-linejoin:round; stroke-width:2; stroke-opacity:0.1; fill:none\" points=\"\n",
       "  156.598,1381.94 2352.76,1381.94 \n",
       "  \"/>\n",
       "<polyline clip-path=\"url(#clip985)\" style=\"stroke:#000000; stroke-linecap:butt; stroke-linejoin:round; stroke-width:2; stroke-opacity:0.1; fill:none\" points=\"\n",
       "  156.598,1324.94 2352.76,1324.94 \n",
       "  \"/>\n",
       "<polyline clip-path=\"url(#clip985)\" style=\"stroke:#000000; stroke-linecap:butt; stroke-linejoin:round; stroke-width:2; stroke-opacity:0.1; fill:none\" points=\"\n",
       "  156.598,1267.93 2352.76,1267.93 \n",
       "  \"/>\n",
       "<polyline clip-path=\"url(#clip980)\" style=\"stroke:#000000; stroke-linecap:butt; stroke-linejoin:round; stroke-width:4; stroke-opacity:1; fill:none\" points=\"\n",
       "  156.598,1486.45 156.598,1247.24 \n",
       "  \"/>\n",
       "<polyline clip-path=\"url(#clip980)\" style=\"stroke:#000000; stroke-linecap:butt; stroke-linejoin:round; stroke-width:4; stroke-opacity:1; fill:none\" points=\"\n",
       "  156.598,1438.94 175.496,1438.94 \n",
       "  \"/>\n",
       "<polyline clip-path=\"url(#clip980)\" style=\"stroke:#000000; stroke-linecap:butt; stroke-linejoin:round; stroke-width:4; stroke-opacity:1; fill:none\" points=\"\n",
       "  156.598,1381.94 175.496,1381.94 \n",
       "  \"/>\n",
       "<polyline clip-path=\"url(#clip980)\" style=\"stroke:#000000; stroke-linecap:butt; stroke-linejoin:round; stroke-width:4; stroke-opacity:1; fill:none\" points=\"\n",
       "  156.598,1324.94 175.496,1324.94 \n",
       "  \"/>\n",
       "<polyline clip-path=\"url(#clip980)\" style=\"stroke:#000000; stroke-linecap:butt; stroke-linejoin:round; stroke-width:4; stroke-opacity:1; fill:none\" points=\"\n",
       "  156.598,1267.93 175.496,1267.93 \n",
       "  \"/>\n",
       "<path clip-path=\"url(#clip980)\" d=\"M65.0198 1424.74 Q61.4087 1424.74 59.58 1428.31 Q57.7745 1431.85 57.7745 1438.98 Q57.7745 1446.09 59.58 1449.65 Q61.4087 1453.19 65.0198 1453.19 Q68.6541 1453.19 70.4596 1449.65 Q72.2883 1446.09 72.2883 1438.98 Q72.2883 1431.85 70.4596 1428.31 Q68.6541 1424.74 65.0198 1424.74 M65.0198 1421.04 Q70.83 1421.04 73.8855 1425.65 Q76.9642 1430.23 76.9642 1438.98 Q76.9642 1447.71 73.8855 1452.31 Q70.83 1456.9 65.0198 1456.9 Q59.2097 1456.9 56.131 1452.31 Q53.0754 1447.71 53.0754 1438.98 Q53.0754 1430.23 56.131 1425.65 Q59.2097 1421.04 65.0198 1421.04 Z\" fill=\"#000000\" fill-rule=\"evenodd\" fill-opacity=\"1\" /><path clip-path=\"url(#clip980)\" d=\"M85.1818 1450.34 L90.066 1450.34 L90.066 1456.22 L85.1818 1456.22 L85.1818 1450.34 Z\" fill=\"#000000\" fill-rule=\"evenodd\" fill-opacity=\"1\" /><path clip-path=\"url(#clip980)\" d=\"M104.279 1452.29 L120.598 1452.29 L120.598 1456.22 L98.6539 1456.22 L98.6539 1452.29 Q101.316 1449.53 105.899 1444.91 Q110.506 1440.25 111.686 1438.91 Q113.932 1436.39 114.811 1434.65 Q115.714 1432.89 115.714 1431.2 Q115.714 1428.45 113.77 1426.71 Q111.848 1424.97 108.746 1424.97 Q106.547 1424.97 104.094 1425.74 Q101.663 1426.5 98.8854 1428.05 L98.8854 1423.33 Q101.709 1422.2 104.163 1421.62 Q106.617 1421.04 108.654 1421.04 Q114.024 1421.04 117.219 1423.72 Q120.413 1426.41 120.413 1430.9 Q120.413 1433.03 119.603 1434.95 Q118.816 1436.85 116.709 1439.44 Q116.131 1440.11 113.029 1443.33 Q109.927 1446.53 104.279 1452.29 Z\" fill=\"#000000\" fill-rule=\"evenodd\" fill-opacity=\"1\" /><path clip-path=\"url(#clip980)\" d=\"M62.9365 1367.74 Q59.3254 1367.74 57.4967 1371.3 Q55.6912 1374.84 55.6912 1381.97 Q55.6912 1389.08 57.4967 1392.65 Q59.3254 1396.19 62.9365 1396.19 Q66.5707 1396.19 68.3763 1392.65 Q70.205 1389.08 70.205 1381.97 Q70.205 1374.84 68.3763 1371.3 Q66.5707 1367.74 62.9365 1367.74 M62.9365 1364.03 Q68.7467 1364.03 71.8022 1368.64 Q74.8809 1373.22 74.8809 1381.97 Q74.8809 1390.7 71.8022 1395.31 Q68.7467 1399.89 62.9365 1399.89 Q57.1264 1399.89 54.0477 1395.31 Q50.9921 1390.7 50.9921 1381.97 Q50.9921 1373.22 54.0477 1368.64 Q57.1264 1364.03 62.9365 1364.03 Z\" fill=\"#000000\" fill-rule=\"evenodd\" fill-opacity=\"1\" /><path clip-path=\"url(#clip980)\" d=\"M83.0984 1393.34 L87.9827 1393.34 L87.9827 1399.22 L83.0984 1399.22 L83.0984 1393.34 Z\" fill=\"#000000\" fill-rule=\"evenodd\" fill-opacity=\"1\" /><path clip-path=\"url(#clip980)\" d=\"M111.015 1368.73 L99.2095 1387.18 L111.015 1387.18 L111.015 1368.73 M109.788 1364.66 L115.668 1364.66 L115.668 1387.18 L120.598 1387.18 L120.598 1391.07 L115.668 1391.07 L115.668 1399.22 L111.015 1399.22 L111.015 1391.07 L95.4132 1391.07 L95.4132 1386.56 L109.788 1364.66 Z\" fill=\"#000000\" fill-rule=\"evenodd\" fill-opacity=\"1\" /><path clip-path=\"url(#clip980)\" d=\"M63.2606 1310.73 Q59.6495 1310.73 57.8208 1314.3 Q56.0152 1317.84 56.0152 1324.97 Q56.0152 1332.08 57.8208 1335.64 Q59.6495 1339.18 63.2606 1339.18 Q66.8948 1339.18 68.7004 1335.64 Q70.5291 1332.08 70.5291 1324.97 Q70.5291 1317.84 68.7004 1314.3 Q66.8948 1310.73 63.2606 1310.73 M63.2606 1307.03 Q69.0707 1307.03 72.1263 1311.64 Q75.205 1316.22 75.205 1324.97 Q75.205 1333.7 72.1263 1338.3 Q69.0707 1342.89 63.2606 1342.89 Q57.4504 1342.89 54.3717 1338.3 Q51.3162 1333.7 51.3162 1324.97 Q51.3162 1316.22 54.3717 1311.64 Q57.4504 1307.03 63.2606 1307.03 Z\" fill=\"#000000\" fill-rule=\"evenodd\" fill-opacity=\"1\" /><path clip-path=\"url(#clip980)\" d=\"M83.4225 1336.34 L88.3067 1336.34 L88.3067 1342.22 L83.4225 1342.22 L83.4225 1336.34 Z\" fill=\"#000000\" fill-rule=\"evenodd\" fill-opacity=\"1\" /><path clip-path=\"url(#clip980)\" d=\"M109.071 1323.07 Q105.922 1323.07 104.071 1325.22 Q102.242 1327.38 102.242 1331.13 Q102.242 1334.85 104.071 1337.03 Q105.922 1339.18 109.071 1339.18 Q112.219 1339.18 114.047 1337.03 Q115.899 1334.85 115.899 1331.13 Q115.899 1327.38 114.047 1325.22 Q112.219 1323.07 109.071 1323.07 M118.353 1308.42 L118.353 1312.68 Q116.594 1311.85 114.788 1311.41 Q113.006 1310.97 111.246 1310.97 Q106.617 1310.97 104.163 1314.09 Q101.733 1317.22 101.385 1323.53 Q102.751 1321.52 104.811 1320.46 Q106.871 1319.37 109.348 1319.37 Q114.557 1319.37 117.566 1322.54 Q120.598 1325.69 120.598 1331.13 Q120.598 1336.45 117.45 1339.67 Q114.302 1342.89 109.071 1342.89 Q103.075 1342.89 99.9039 1338.3 Q96.7326 1333.7 96.7326 1324.97 Q96.7326 1316.78 100.621 1311.91 Q104.51 1307.03 111.061 1307.03 Q112.82 1307.03 114.603 1307.38 Q116.408 1307.72 118.353 1308.42 Z\" fill=\"#000000\" fill-rule=\"evenodd\" fill-opacity=\"1\" /><path clip-path=\"url(#clip980)\" d=\"M63.5152 1253.73 Q59.9041 1253.73 58.0754 1257.29 Q56.2699 1260.84 56.2699 1267.97 Q56.2699 1275.07 58.0754 1278.64 Q59.9041 1282.18 63.5152 1282.18 Q67.1494 1282.18 68.955 1278.64 Q70.7837 1275.07 70.7837 1267.97 Q70.7837 1260.84 68.955 1257.29 Q67.1494 1253.73 63.5152 1253.73 M63.5152 1250.03 Q69.3254 1250.03 72.3809 1254.63 Q75.4596 1259.22 75.4596 1267.97 Q75.4596 1276.69 72.3809 1281.3 Q69.3254 1285.88 63.5152 1285.88 Q57.7051 1285.88 54.6264 1281.3 Q51.5708 1276.69 51.5708 1267.97 Q51.5708 1259.22 54.6264 1254.63 Q57.7051 1250.03 63.5152 1250.03 Z\" fill=\"#000000\" fill-rule=\"evenodd\" fill-opacity=\"1\" /><path clip-path=\"url(#clip980)\" d=\"M83.6771 1279.33 L88.5614 1279.33 L88.5614 1285.21 L83.6771 1285.21 L83.6771 1279.33 Z\" fill=\"#000000\" fill-rule=\"evenodd\" fill-opacity=\"1\" /><path clip-path=\"url(#clip980)\" d=\"M108.746 1268.8 Q105.413 1268.8 103.492 1270.58 Q101.594 1272.36 101.594 1275.49 Q101.594 1278.61 103.492 1280.4 Q105.413 1282.18 108.746 1282.18 Q112.08 1282.18 114.001 1280.4 Q115.922 1278.59 115.922 1275.49 Q115.922 1272.36 114.001 1270.58 Q112.103 1268.8 108.746 1268.8 M104.071 1266.81 Q101.061 1266.07 99.3715 1264.01 Q97.7048 1261.95 97.7048 1258.98 Q97.7048 1254.84 100.645 1252.43 Q103.608 1250.03 108.746 1250.03 Q113.908 1250.03 116.848 1252.43 Q119.788 1254.84 119.788 1258.98 Q119.788 1261.95 118.098 1264.01 Q116.432 1266.07 113.445 1266.81 Q116.825 1267.59 118.7 1269.89 Q120.598 1272.18 120.598 1275.49 Q120.598 1280.51 117.52 1283.2 Q114.464 1285.88 108.746 1285.88 Q103.029 1285.88 99.9502 1283.2 Q96.8947 1280.51 96.8947 1275.49 Q96.8947 1272.18 98.7928 1269.89 Q100.691 1267.59 104.071 1266.81 M102.358 1259.42 Q102.358 1262.11 104.024 1263.61 Q105.714 1265.12 108.746 1265.12 Q111.756 1265.12 113.445 1263.61 Q115.158 1262.11 115.158 1259.42 Q115.158 1256.74 113.445 1255.23 Q111.756 1253.73 108.746 1253.73 Q105.714 1253.73 104.024 1255.23 Q102.358 1256.74 102.358 1259.42 Z\" fill=\"#000000\" fill-rule=\"evenodd\" fill-opacity=\"1\" /><polyline clip-path=\"url(#clip985)\" style=\"stroke:#009af9; stroke-linecap:butt; stroke-linejoin:round; stroke-width:4; stroke-opacity:1; fill:none\" points=\"\n",
       "  218.754,1328.92 366.743,1402.87 514.732,1285.73 662.721,1353.67 810.71,1289.42 958.699,1445.83 1106.69,1463.31 1254.68,1393.44 1402.67,1254.01 1550.66,1328.75 \n",
       "  1698.64,1479.68 1846.63,1281.62 1994.62,1385.37 2142.61,1289.73 2290.6,1296.19 \n",
       "  \"/>\n",
       "<path clip-path=\"url(#clip980)\" d=\"\n",
       "M1981.39 1358.9 L2279.55 1358.9 L2279.55 1255.22 L1981.39 1255.22  Z\n",
       "  \" fill=\"#ffffff\" fill-rule=\"evenodd\" fill-opacity=\"1\"/>\n",
       "<polyline clip-path=\"url(#clip980)\" style=\"stroke:#000000; stroke-linecap:butt; stroke-linejoin:round; stroke-width:4; stroke-opacity:1; fill:none\" points=\"\n",
       "  1981.39,1358.9 2279.55,1358.9 2279.55,1255.22 1981.39,1255.22 1981.39,1358.9 \n",
       "  \"/>\n",
       "<polyline clip-path=\"url(#clip980)\" style=\"stroke:#009af9; stroke-linecap:butt; stroke-linejoin:round; stroke-width:4; stroke-opacity:1; fill:none\" points=\"\n",
       "  2005.79,1307.06 2152.2,1307.06 \n",
       "  \"/>\n",
       "<path clip-path=\"url(#clip980)\" d=\"M2190.45 1326.74 Q2188.64 1331.37 2186.93 1332.79 Q2185.21 1334.2 2182.34 1334.2 L2178.94 1334.2 L2178.94 1330.63 L2181.44 1330.63 Q2183.2 1330.63 2184.17 1329.8 Q2185.15 1328.97 2186.33 1325.87 L2187.09 1323.92 L2176.6 1298.41 L2181.12 1298.41 L2189.22 1318.69 L2197.32 1298.41 L2201.84 1298.41 L2190.45 1326.74 Z\" fill=\"#000000\" fill-rule=\"evenodd\" fill-opacity=\"1\" /><path clip-path=\"url(#clip980)\" d=\"M2221.16 1293.85 L2209.36 1312.3 L2221.16 1312.3 L2221.16 1293.85 M2219.94 1289.78 L2225.82 1289.78 L2225.82 1312.3 L2230.75 1312.3 L2230.75 1316.19 L2225.82 1316.19 L2225.82 1324.34 L2221.16 1324.34 L2221.16 1316.19 L2205.56 1316.19 L2205.56 1311.68 L2219.94 1289.78 Z\" fill=\"#000000\" fill-rule=\"evenodd\" fill-opacity=\"1\" /></svg>\n"
      ]
     },
     "execution_count": 252,
     "metadata": {},
     "output_type": "execute_result"
    }
   ],
   "source": [
    "y = rand(15,4)\n",
    "plot(x,y, layout=(4,1))"
   ]
  },
  {
   "cell_type": "code",
   "execution_count": 253,
   "metadata": {},
   "outputs": [
    {
     "data": {
      "image/svg+xml": [
       "<?xml version=\"1.0\" encoding=\"utf-8\"?>\n",
       "<svg xmlns=\"http://www.w3.org/2000/svg\" xmlns:xlink=\"http://www.w3.org/1999/xlink\" width=\"600\" height=\"400\" viewBox=\"0 0 2400 1600\">\n",
       "<defs>\n",
       "  <clipPath id=\"clip020\">\n",
       "    <rect x=\"0\" y=\"0\" width=\"2400\" height=\"1600\"/>\n",
       "  </clipPath>\n",
       "</defs>\n",
       "<path clip-path=\"url(#clip020)\" d=\"\n",
       "M0 1600 L2400 1600 L2400 0 L0 0  Z\n",
       "  \" fill=\"#ffffff\" fill-rule=\"evenodd\" fill-opacity=\"1\"/>\n",
       "<defs>\n",
       "  <clipPath id=\"clip021\">\n",
       "    <rect x=\"480\" y=\"0\" width=\"1681\" height=\"1600\"/>\n",
       "  </clipPath>\n",
       "</defs>\n",
       "<path clip-path=\"url(#clip020)\" d=\"\n",
       "M110.858 1486.45 L2352.76 1486.45 L2352.76 47.2441 L110.858 47.2441  Z\n",
       "  \" fill=\"#ffffff\" fill-rule=\"evenodd\" fill-opacity=\"1\"/>\n",
       "<defs>\n",
       "  <clipPath id=\"clip022\">\n",
       "    <rect x=\"110\" y=\"47\" width=\"2243\" height=\"1440\"/>\n",
       "  </clipPath>\n",
       "</defs>\n",
       "<polyline clip-path=\"url(#clip022)\" style=\"stroke:#000000; stroke-linecap:butt; stroke-linejoin:round; stroke-width:2; stroke-opacity:0.1; fill:none\" points=\"\n",
       "  160.113,1486.45 160.113,47.2441 \n",
       "  \"/>\n",
       "<polyline clip-path=\"url(#clip022)\" style=\"stroke:#000000; stroke-linecap:butt; stroke-linejoin:round; stroke-width:2; stroke-opacity:0.1; fill:none\" points=\"\n",
       "  869.844,1486.45 869.844,47.2441 \n",
       "  \"/>\n",
       "<polyline clip-path=\"url(#clip022)\" style=\"stroke:#000000; stroke-linecap:butt; stroke-linejoin:round; stroke-width:2; stroke-opacity:0.1; fill:none\" points=\"\n",
       "  1579.57,1486.45 1579.57,47.2441 \n",
       "  \"/>\n",
       "<polyline clip-path=\"url(#clip022)\" style=\"stroke:#000000; stroke-linecap:butt; stroke-linejoin:round; stroke-width:2; stroke-opacity:0.1; fill:none\" points=\"\n",
       "  2289.31,1486.45 2289.31,47.2441 \n",
       "  \"/>\n",
       "<polyline clip-path=\"url(#clip020)\" style=\"stroke:#000000; stroke-linecap:butt; stroke-linejoin:round; stroke-width:4; stroke-opacity:1; fill:none\" points=\"\n",
       "  110.858,1486.45 2352.76,1486.45 \n",
       "  \"/>\n",
       "<polyline clip-path=\"url(#clip020)\" style=\"stroke:#000000; stroke-linecap:butt; stroke-linejoin:round; stroke-width:4; stroke-opacity:1; fill:none\" points=\"\n",
       "  160.113,1486.45 160.113,1467.55 \n",
       "  \"/>\n",
       "<polyline clip-path=\"url(#clip020)\" style=\"stroke:#000000; stroke-linecap:butt; stroke-linejoin:round; stroke-width:4; stroke-opacity:1; fill:none\" points=\"\n",
       "  869.844,1486.45 869.844,1467.55 \n",
       "  \"/>\n",
       "<polyline clip-path=\"url(#clip020)\" style=\"stroke:#000000; stroke-linecap:butt; stroke-linejoin:round; stroke-width:4; stroke-opacity:1; fill:none\" points=\"\n",
       "  1579.57,1486.45 1579.57,1467.55 \n",
       "  \"/>\n",
       "<polyline clip-path=\"url(#clip020)\" style=\"stroke:#000000; stroke-linecap:butt; stroke-linejoin:round; stroke-width:4; stroke-opacity:1; fill:none\" points=\"\n",
       "  2289.31,1486.45 2289.31,1467.55 \n",
       "  \"/>\n",
       "<path clip-path=\"url(#clip020)\" d=\"M160.113 1517.37 Q156.502 1517.37 154.673 1520.93 Q152.868 1524.47 152.868 1531.6 Q152.868 1538.71 154.673 1542.27 Q156.502 1545.82 160.113 1545.82 Q163.747 1545.82 165.553 1542.27 Q167.382 1538.71 167.382 1531.6 Q167.382 1524.47 165.553 1520.93 Q163.747 1517.37 160.113 1517.37 M160.113 1513.66 Q165.923 1513.66 168.979 1518.27 Q172.057 1522.85 172.057 1531.6 Q172.057 1540.33 168.979 1544.94 Q165.923 1549.52 160.113 1549.52 Q154.303 1549.52 151.224 1544.94 Q148.169 1540.33 148.169 1531.6 Q148.169 1522.85 151.224 1518.27 Q154.303 1513.66 160.113 1513.66 Z\" fill=\"#000000\" fill-rule=\"evenodd\" fill-opacity=\"1\" /><path clip-path=\"url(#clip020)\" d=\"M844.543 1514.29 L862.9 1514.29 L862.9 1518.22 L848.826 1518.22 L848.826 1526.7 Q849.844 1526.35 850.863 1526.19 Q851.881 1526 852.9 1526 Q858.687 1526 862.066 1529.17 Q865.446 1532.34 865.446 1537.76 Q865.446 1543.34 861.974 1546.44 Q858.501 1549.52 852.182 1549.52 Q850.006 1549.52 847.738 1549.15 Q845.492 1548.78 843.085 1548.04 L843.085 1543.34 Q845.168 1544.47 847.39 1545.03 Q849.613 1545.58 852.089 1545.58 Q856.094 1545.58 858.432 1543.48 Q860.77 1541.37 860.77 1537.76 Q860.77 1534.15 858.432 1532.04 Q856.094 1529.94 852.089 1529.94 Q850.215 1529.94 848.34 1530.35 Q846.488 1530.77 844.543 1531.65 L844.543 1514.29 Z\" fill=\"#000000\" fill-rule=\"evenodd\" fill-opacity=\"1\" /><path clip-path=\"url(#clip020)\" d=\"M884.659 1517.37 Q881.048 1517.37 879.219 1520.93 Q877.413 1524.47 877.413 1531.6 Q877.413 1538.71 879.219 1542.27 Q881.048 1545.82 884.659 1545.82 Q888.293 1545.82 890.099 1542.27 Q891.927 1538.71 891.927 1531.6 Q891.927 1524.47 890.099 1520.93 Q888.293 1517.37 884.659 1517.37 M884.659 1513.66 Q890.469 1513.66 893.524 1518.27 Q896.603 1522.85 896.603 1531.6 Q896.603 1540.33 893.524 1544.94 Q890.469 1549.52 884.659 1549.52 Q878.849 1549.52 875.77 1544.94 Q872.714 1540.33 872.714 1531.6 Q872.714 1522.85 875.77 1518.27 Q878.849 1513.66 884.659 1513.66 Z\" fill=\"#000000\" fill-rule=\"evenodd\" fill-opacity=\"1\" /><path clip-path=\"url(#clip020)\" d=\"M1539.18 1544.91 L1546.82 1544.91 L1546.82 1518.55 L1538.51 1520.21 L1538.51 1515.95 L1546.77 1514.29 L1551.45 1514.29 L1551.45 1544.91 L1559.09 1544.91 L1559.09 1548.85 L1539.18 1548.85 L1539.18 1544.91 Z\" fill=\"#000000\" fill-rule=\"evenodd\" fill-opacity=\"1\" /><path clip-path=\"url(#clip020)\" d=\"M1578.53 1517.37 Q1574.92 1517.37 1573.09 1520.93 Q1571.29 1524.47 1571.29 1531.6 Q1571.29 1538.71 1573.09 1542.27 Q1574.92 1545.82 1578.53 1545.82 Q1582.17 1545.82 1583.97 1542.27 Q1585.8 1538.71 1585.8 1531.6 Q1585.8 1524.47 1583.97 1520.93 Q1582.17 1517.37 1578.53 1517.37 M1578.53 1513.66 Q1584.34 1513.66 1587.4 1518.27 Q1590.48 1522.85 1590.48 1531.6 Q1590.48 1540.33 1587.4 1544.94 Q1584.34 1549.52 1578.53 1549.52 Q1572.72 1549.52 1569.64 1544.94 Q1566.59 1540.33 1566.59 1531.6 Q1566.59 1522.85 1569.64 1518.27 Q1572.72 1513.66 1578.53 1513.66 Z\" fill=\"#000000\" fill-rule=\"evenodd\" fill-opacity=\"1\" /><path clip-path=\"url(#clip020)\" d=\"M1608.7 1517.37 Q1605.08 1517.37 1603.26 1520.93 Q1601.45 1524.47 1601.45 1531.6 Q1601.45 1538.71 1603.26 1542.27 Q1605.08 1545.82 1608.7 1545.82 Q1612.33 1545.82 1614.13 1542.27 Q1615.96 1538.71 1615.96 1531.6 Q1615.96 1524.47 1614.13 1520.93 Q1612.33 1517.37 1608.7 1517.37 M1608.7 1513.66 Q1614.51 1513.66 1617.56 1518.27 Q1620.64 1522.85 1620.64 1531.6 Q1620.64 1540.33 1617.56 1544.94 Q1614.51 1549.52 1608.7 1549.52 Q1602.89 1549.52 1599.81 1544.94 Q1596.75 1540.33 1596.75 1531.6 Q1596.75 1522.85 1599.81 1518.27 Q1602.89 1513.66 1608.7 1513.66 Z\" fill=\"#000000\" fill-rule=\"evenodd\" fill-opacity=\"1\" /><path clip-path=\"url(#clip020)\" d=\"M2248.91 1544.91 L2256.55 1544.91 L2256.55 1518.55 L2248.24 1520.21 L2248.24 1515.95 L2256.51 1514.29 L2261.18 1514.29 L2261.18 1544.91 L2268.82 1544.91 L2268.82 1548.85 L2248.91 1548.85 L2248.91 1544.91 Z\" fill=\"#000000\" fill-rule=\"evenodd\" fill-opacity=\"1\" /><path clip-path=\"url(#clip020)\" d=\"M2278.31 1514.29 L2296.67 1514.29 L2296.67 1518.22 L2282.59 1518.22 L2282.59 1526.7 Q2283.61 1526.35 2284.63 1526.19 Q2285.65 1526 2286.67 1526 Q2292.45 1526 2295.83 1529.17 Q2299.21 1532.34 2299.21 1537.76 Q2299.21 1543.34 2295.74 1546.44 Q2292.27 1549.52 2285.95 1549.52 Q2283.77 1549.52 2281.51 1549.15 Q2279.26 1548.78 2276.85 1548.04 L2276.85 1543.34 Q2278.94 1544.47 2281.16 1545.03 Q2283.38 1545.58 2285.86 1545.58 Q2289.86 1545.58 2292.2 1543.48 Q2294.54 1541.37 2294.54 1537.76 Q2294.54 1534.15 2292.2 1532.04 Q2289.86 1529.94 2285.86 1529.94 Q2283.98 1529.94 2282.11 1530.35 Q2280.26 1530.77 2278.31 1531.65 L2278.31 1514.29 Z\" fill=\"#000000\" fill-rule=\"evenodd\" fill-opacity=\"1\" /><path clip-path=\"url(#clip020)\" d=\"M2318.43 1517.37 Q2314.82 1517.37 2312.99 1520.93 Q2311.18 1524.47 2311.18 1531.6 Q2311.18 1538.71 2312.99 1542.27 Q2314.82 1545.82 2318.43 1545.82 Q2322.06 1545.82 2323.87 1542.27 Q2325.69 1538.71 2325.69 1531.6 Q2325.69 1524.47 2323.87 1520.93 Q2322.06 1517.37 2318.43 1517.37 M2318.43 1513.66 Q2324.24 1513.66 2327.29 1518.27 Q2330.37 1522.85 2330.37 1531.6 Q2330.37 1540.33 2327.29 1544.94 Q2324.24 1549.52 2318.43 1549.52 Q2312.62 1549.52 2309.54 1544.94 Q2306.48 1540.33 2306.48 1531.6 Q2306.48 1522.85 2309.54 1518.27 Q2312.62 1513.66 2318.43 1513.66 Z\" fill=\"#000000\" fill-rule=\"evenodd\" fill-opacity=\"1\" /><polyline clip-path=\"url(#clip022)\" style=\"stroke:#000000; stroke-linecap:butt; stroke-linejoin:round; stroke-width:2; stroke-opacity:0.1; fill:none\" points=\"\n",
       "  110.858,1181.71 2352.76,1181.71 \n",
       "  \"/>\n",
       "<polyline clip-path=\"url(#clip022)\" style=\"stroke:#000000; stroke-linecap:butt; stroke-linejoin:round; stroke-width:2; stroke-opacity:0.1; fill:none\" points=\"\n",
       "  110.858,804.561 2352.76,804.561 \n",
       "  \"/>\n",
       "<polyline clip-path=\"url(#clip022)\" style=\"stroke:#000000; stroke-linecap:butt; stroke-linejoin:round; stroke-width:2; stroke-opacity:0.1; fill:none\" points=\"\n",
       "  110.858,427.411 2352.76,427.411 \n",
       "  \"/>\n",
       "<polyline clip-path=\"url(#clip022)\" style=\"stroke:#000000; stroke-linecap:butt; stroke-linejoin:round; stroke-width:2; stroke-opacity:0.1; fill:none\" points=\"\n",
       "  110.858,50.2613 2352.76,50.2613 \n",
       "  \"/>\n",
       "<polyline clip-path=\"url(#clip020)\" style=\"stroke:#000000; stroke-linecap:butt; stroke-linejoin:round; stroke-width:4; stroke-opacity:1; fill:none\" points=\"\n",
       "  110.858,1486.45 110.858,47.2441 \n",
       "  \"/>\n",
       "<polyline clip-path=\"url(#clip020)\" style=\"stroke:#000000; stroke-linecap:butt; stroke-linejoin:round; stroke-width:4; stroke-opacity:1; fill:none\" points=\"\n",
       "  110.858,1181.71 129.755,1181.71 \n",
       "  \"/>\n",
       "<polyline clip-path=\"url(#clip020)\" style=\"stroke:#000000; stroke-linecap:butt; stroke-linejoin:round; stroke-width:4; stroke-opacity:1; fill:none\" points=\"\n",
       "  110.858,804.561 129.755,804.561 \n",
       "  \"/>\n",
       "<polyline clip-path=\"url(#clip020)\" style=\"stroke:#000000; stroke-linecap:butt; stroke-linejoin:round; stroke-width:4; stroke-opacity:1; fill:none\" points=\"\n",
       "  110.858,427.411 129.755,427.411 \n",
       "  \"/>\n",
       "<polyline clip-path=\"url(#clip020)\" style=\"stroke:#000000; stroke-linecap:butt; stroke-linejoin:round; stroke-width:4; stroke-opacity:1; fill:none\" points=\"\n",
       "  110.858,50.2613 129.755,50.2613 \n",
       "  \"/>\n",
       "<path clip-path=\"url(#clip020)\" d=\"M53.9551 1164.43 L72.3115 1164.43 L72.3115 1168.37 L58.2375 1168.37 L58.2375 1176.84 Q59.256 1176.49 60.2745 1176.33 Q61.293 1176.14 62.3115 1176.14 Q68.0985 1176.14 71.4781 1179.31 Q74.8577 1182.49 74.8577 1187.9 Q74.8577 1193.48 71.3855 1196.58 Q67.9133 1199.66 61.5939 1199.66 Q59.418 1199.66 57.1495 1199.29 Q54.9041 1198.92 52.4967 1198.18 L52.4967 1193.48 Q54.5801 1194.62 56.8023 1195.17 Q59.0245 1195.73 61.5013 1195.73 Q65.5059 1195.73 67.8439 1193.62 Q70.1818 1191.51 70.1818 1187.9 Q70.1818 1184.29 67.8439 1182.19 Q65.5059 1180.08 61.5013 1180.08 Q59.6263 1180.08 57.7513 1180.5 Q55.8995 1180.91 53.9551 1181.79 L53.9551 1164.43 Z\" fill=\"#000000\" fill-rule=\"evenodd\" fill-opacity=\"1\" /><path clip-path=\"url(#clip020)\" d=\"M63.33 802.698 Q60.1819 802.698 58.33 804.85 Q56.5014 807.003 56.5014 810.753 Q56.5014 814.48 58.33 816.656 Q60.1819 818.809 63.33 818.809 Q66.4782 818.809 68.3068 816.656 Q70.1587 814.48 70.1587 810.753 Q70.1587 807.003 68.3068 804.85 Q66.4782 802.698 63.33 802.698 M72.6124 788.045 L72.6124 792.304 Q70.8531 791.471 69.0476 791.031 Q67.2652 790.591 65.5059 790.591 Q60.8763 790.591 58.4226 793.716 Q55.9921 796.841 55.6449 803.161 Q57.0106 801.147 59.0708 800.082 Q61.131 798.994 63.6078 798.994 Q68.8161 798.994 71.8253 802.165 Q74.8577 805.313 74.8577 810.753 Q74.8577 816.077 71.7096 819.295 Q68.5615 822.512 63.33 822.512 Q57.3347 822.512 54.1634 817.929 Q50.9921 813.322 50.9921 804.596 Q50.9921 796.401 54.881 791.54 Q58.7699 786.656 65.3208 786.656 Q67.08 786.656 68.8624 787.003 Q70.6679 787.35 72.6124 788.045 Z\" fill=\"#000000\" fill-rule=\"evenodd\" fill-opacity=\"1\" /><path clip-path=\"url(#clip020)\" d=\"M52.6356 410.131 L74.8577 410.131 L74.8577 412.122 L62.3115 444.691 L57.4273 444.691 L69.2328 414.066 L52.6356 414.066 L52.6356 410.131 Z\" fill=\"#000000\" fill-rule=\"evenodd\" fill-opacity=\"1\" /><path clip-path=\"url(#clip020)\" d=\"M63.006 51.1293 Q59.6726 51.1293 57.7513 52.9117 Q55.8532 54.6941 55.8532 57.8191 Q55.8532 60.9441 57.7513 62.7265 Q59.6726 64.5089 63.006 64.5089 Q66.3393 64.5089 68.2606 62.7265 Q70.1818 60.921 70.1818 57.8191 Q70.1818 54.6941 68.2606 52.9117 Q66.3624 51.1293 63.006 51.1293 M58.33 49.1386 Q55.3208 48.3979 53.631 46.3377 Q51.9643 44.2775 51.9643 41.3146 Q51.9643 37.1711 54.9041 34.7637 Q57.8671 32.3563 63.006 32.3563 Q68.168 32.3563 71.1078 34.7637 Q74.0476 37.1711 74.0476 41.3146 Q74.0476 44.2775 72.3578 46.3377 Q70.6911 48.3979 67.705 49.1386 Q71.0846 49.9256 72.9596 52.2173 Q74.8577 54.509 74.8577 57.8191 Q74.8577 62.8422 71.7791 65.5274 Q68.7235 68.2126 63.006 68.2126 Q57.2884 68.2126 54.2097 65.5274 Q51.1542 62.8422 51.1542 57.8191 Q51.1542 54.509 53.0523 52.2173 Q54.9504 49.9256 58.33 49.1386 M56.6171 41.7544 Q56.6171 44.4396 58.2838 45.9442 Q59.9736 47.4488 63.006 47.4488 Q66.0152 47.4488 67.705 45.9442 Q69.418 44.4396 69.418 41.7544 Q69.418 39.0692 67.705 37.5646 Q66.0152 36.06 63.006 36.06 Q59.9736 36.06 58.2838 37.5646 Q56.6171 39.0692 56.6171 41.7544 Z\" fill=\"#000000\" fill-rule=\"evenodd\" fill-opacity=\"1\" /><polyline clip-path=\"url(#clip022)\" style=\"stroke:#009af9; stroke-linecap:butt; stroke-linejoin:round; stroke-width:4; stroke-opacity:1; fill:none\" points=\"\n",
       "  174.308,1144 188.502,1219.43 202.697,1294.86 216.892,1332.57 231.086,1181.71 245.281,1030.85 259.475,1332.57 273.67,1181.71 287.865,1408 302.059,1219.43 \n",
       "  316.254,1030.85 330.448,1257.14 344.643,1257.14 358.838,1445.72 373.032,879.991 387.227,917.706 401.422,1030.85 415.616,1144 429.811,917.706 444.005,1144 \n",
       "  458.2,1030.85 472.395,1144 486.589,1332.57 500.784,1144 514.979,1257.14 529.173,1181.71 543.368,1181.71 557.562,1106.28 571.757,1106.28 585.952,1294.86 \n",
       "  600.146,1257.14 614.341,1030.85 628.536,1106.28 642.73,993.136 656.925,1219.43 671.119,1181.71 685.314,993.136 699.509,1219.43 713.703,1408 727.898,1144 \n",
       "  742.092,1181.71 756.287,1370.29 770.482,1408 784.676,1181.71 798.871,1144 813.066,1257.14 827.26,1144 841.455,1332.57 855.649,1068.57 869.844,1181.71 \n",
       "  884.039,427.411 898.233,653.701 912.428,465.126 926.623,993.136 940.817,615.986 955.012,917.706 969.206,691.416 983.401,1219.43 997.596,578.271 1011.79,1106.28 \n",
       "  1025.98,1181.71 1040.18,842.276 1054.37,804.561 1068.57,766.846 1082.76,955.421 1096.96,540.556 1111.15,955.421 1125.35,879.991 1139.54,729.131 1153.74,955.421 \n",
       "  1167.93,842.276 1182.13,766.846 1196.32,691.416 1210.51,766.846 1224.71,653.701 1238.9,578.271 1253.1,502.841 1267.29,540.556 1281.49,804.561 1295.68,917.706 \n",
       "  1309.88,993.136 1324.07,993.136 1338.27,879.991 1352.46,804.561 1366.66,1030.85 1380.85,804.561 1395.04,540.556 1409.24,691.416 1423.43,955.421 1437.63,993.136 \n",
       "  1451.82,993.136 1466.02,766.846 1480.21,879.991 1494.41,1181.71 1508.6,955.421 1522.8,917.706 1536.99,917.706 1551.19,729.131 1565.38,1144 1579.57,917.706 \n",
       "  1593.77,691.416 1607.96,879.991 1622.16,389.696 1636.35,691.416 1650.55,615.986 1664.74,201.121 1678.94,1219.43 1693.13,314.266 1707.33,540.556 1721.52,351.981 \n",
       "  1735.72,615.986 1749.91,653.701 1764.11,502.841 1778.3,917.706 1792.49,879.991 1806.69,653.701 1820.88,615.986 1835.08,163.406 1849.27,163.406 1863.47,804.561 \n",
       "  1877.66,465.126 1891.86,955.421 1906.05,163.406 1920.25,691.416 1934.44,540.556 1948.64,351.981 1962.83,729.131 1977.02,766.846 1991.22,653.701 2005.41,351.981 \n",
       "  2019.61,276.551 2033.8,87.9763 2048,653.701 2062.19,691.416 2076.39,766.846 2090.58,163.406 2104.78,691.416 2118.97,653.701 2133.17,804.561 2147.36,465.126 \n",
       "  2161.55,540.556 2175.75,465.126 2189.94,879.991 2204.14,502.841 2218.33,540.556 2232.53,540.556 2246.72,691.416 2260.92,615.986 2275.11,729.131 2289.31,842.276 \n",
       "  \n",
       "  \"/>\n",
       "<path clip-path=\"url(#clip020)\" d=\"\n",
       "M1976.5 198.898 L2278.03 198.898 L2278.03 95.2176 L1976.5 95.2176  Z\n",
       "  \" fill=\"#ffffff\" fill-rule=\"evenodd\" fill-opacity=\"1\"/>\n",
       "<polyline clip-path=\"url(#clip020)\" style=\"stroke:#000000; stroke-linecap:butt; stroke-linejoin:round; stroke-width:4; stroke-opacity:1; fill:none\" points=\"\n",
       "  1976.5,198.898 2278.03,198.898 2278.03,95.2176 1976.5,95.2176 1976.5,198.898 \n",
       "  \"/>\n",
       "<polyline clip-path=\"url(#clip020)\" style=\"stroke:#009af9; stroke-linecap:butt; stroke-linejoin:round; stroke-width:4; stroke-opacity:1; fill:none\" points=\"\n",
       "  2001.41,147.058 2150.87,147.058 \n",
       "  \"/>\n",
       "<path clip-path=\"url(#clip020)\" d=\"M2189.62 166.745 Q2187.81 171.375 2186.1 172.787 Q2184.39 174.199 2181.52 174.199 L2178.11 174.199 L2178.11 170.634 L2180.61 170.634 Q2182.37 170.634 2183.35 169.8 Q2184.32 168.967 2185.5 165.865 L2186.26 163.921 L2175.78 138.412 L2180.29 138.412 L2188.39 158.689 L2196.49 138.412 L2201.01 138.412 L2189.62 166.745 Z\" fill=\"#000000\" fill-rule=\"evenodd\" fill-opacity=\"1\" /><path clip-path=\"url(#clip020)\" d=\"M2208.3 160.402 L2215.94 160.402 L2215.94 134.037 L2207.63 135.703 L2207.63 131.444 L2215.89 129.778 L2220.57 129.778 L2220.57 160.402 L2228.21 160.402 L2228.21 164.338 L2208.3 164.338 L2208.3 160.402 Z\" fill=\"#000000\" fill-rule=\"evenodd\" fill-opacity=\"1\" /></svg>\n"
      ]
     },
     "execution_count": 253,
     "metadata": {},
     "output_type": "execute_result"
    }
   ],
   "source": [
    "plot(iris.Sepal_Length)"
   ]
  },
  {
   "cell_type": "code",
   "execution_count": 257,
   "metadata": {},
   "outputs": [
    {
     "data": {
      "image/svg+xml": [
       "<?xml version=\"1.0\" encoding=\"utf-8\"?>\n",
       "<svg xmlns=\"http://www.w3.org/2000/svg\" xmlns:xlink=\"http://www.w3.org/1999/xlink\" width=\"600\" height=\"400\" viewBox=\"0 0 2400 1600\">\n",
       "<defs>\n",
       "  <clipPath id=\"clip060\">\n",
       "    <rect x=\"0\" y=\"0\" width=\"2400\" height=\"1600\"/>\n",
       "  </clipPath>\n",
       "</defs>\n",
       "<path clip-path=\"url(#clip060)\" d=\"\n",
       "M0 1600 L2400 1600 L2400 0 L0 0  Z\n",
       "  \" fill=\"#ffffff\" fill-rule=\"evenodd\" fill-opacity=\"1\"/>\n",
       "<defs>\n",
       "  <clipPath id=\"clip061\">\n",
       "    <rect x=\"480\" y=\"0\" width=\"1681\" height=\"1600\"/>\n",
       "  </clipPath>\n",
       "</defs>\n",
       "<path clip-path=\"url(#clip060)\" d=\"\n",
       "M112.177 1486.45 L2352.76 1486.45 L2352.76 47.2441 L112.177 47.2441  Z\n",
       "  \" fill=\"#ffffff\" fill-rule=\"evenodd\" fill-opacity=\"1\"/>\n",
       "<defs>\n",
       "  <clipPath id=\"clip062\">\n",
       "    <rect x=\"112\" y=\"47\" width=\"2242\" height=\"1440\"/>\n",
       "  </clipPath>\n",
       "</defs>\n",
       "<polyline clip-path=\"url(#clip062)\" style=\"stroke:#000000; stroke-linecap:butt; stroke-linejoin:round; stroke-width:2; stroke-opacity:0.1; fill:none\" points=\"\n",
       "  520.285,1486.45 520.285,47.2441 \n",
       "  \"/>\n",
       "<polyline clip-path=\"url(#clip062)\" style=\"stroke:#000000; stroke-linecap:butt; stroke-linejoin:round; stroke-width:2; stroke-opacity:0.1; fill:none\" points=\"\n",
       "  1232.47,1486.45 1232.47,47.2441 \n",
       "  \"/>\n",
       "<polyline clip-path=\"url(#clip062)\" style=\"stroke:#000000; stroke-linecap:butt; stroke-linejoin:round; stroke-width:2; stroke-opacity:0.1; fill:none\" points=\"\n",
       "  1944.65,1486.45 1944.65,47.2441 \n",
       "  \"/>\n",
       "<polyline clip-path=\"url(#clip060)\" style=\"stroke:#000000; stroke-linecap:butt; stroke-linejoin:round; stroke-width:4; stroke-opacity:1; fill:none\" points=\"\n",
       "  112.177,1486.45 2352.76,1486.45 \n",
       "  \"/>\n",
       "<polyline clip-path=\"url(#clip060)\" style=\"stroke:#000000; stroke-linecap:butt; stroke-linejoin:round; stroke-width:4; stroke-opacity:1; fill:none\" points=\"\n",
       "  520.285,1486.45 520.285,1467.55 \n",
       "  \"/>\n",
       "<polyline clip-path=\"url(#clip060)\" style=\"stroke:#000000; stroke-linecap:butt; stroke-linejoin:round; stroke-width:4; stroke-opacity:1; fill:none\" points=\"\n",
       "  1232.47,1486.45 1232.47,1467.55 \n",
       "  \"/>\n",
       "<polyline clip-path=\"url(#clip060)\" style=\"stroke:#000000; stroke-linecap:butt; stroke-linejoin:round; stroke-width:4; stroke-opacity:1; fill:none\" points=\"\n",
       "  1944.65,1486.45 1944.65,1467.55 \n",
       "  \"/>\n",
       "<path clip-path=\"url(#clip060)\" d=\"M464.545 1523.69 L464.545 1527.71 Q462.739 1526.79 460.795 1526.32 Q458.851 1525.86 456.767 1525.86 Q453.596 1525.86 451.999 1526.83 Q450.425 1527.81 450.425 1529.75 Q450.425 1531.23 451.559 1532.09 Q452.693 1532.92 456.119 1533.69 L457.577 1534.01 Q462.114 1534.98 464.013 1536.76 Q465.934 1538.52 465.934 1541.7 Q465.934 1545.31 463.064 1547.41 Q460.216 1549.52 455.216 1549.52 Q453.133 1549.52 450.865 1549.1 Q448.619 1548.71 446.119 1547.9 L446.119 1543.5 Q448.48 1544.73 450.772 1545.35 Q453.064 1545.95 455.309 1545.95 Q458.318 1545.95 459.939 1544.94 Q461.559 1543.89 461.559 1542.02 Q461.559 1540.28 460.378 1539.36 Q459.221 1538.43 455.263 1537.57 L453.781 1537.23 Q449.823 1536.39 448.064 1534.68 Q446.304 1532.95 446.304 1529.94 Q446.304 1526.28 448.897 1524.29 Q451.49 1522.3 456.258 1522.3 Q458.619 1522.3 460.702 1522.64 Q462.786 1522.99 464.545 1523.69 Z\" fill=\"#000000\" fill-rule=\"evenodd\" fill-opacity=\"1\" /><path clip-path=\"url(#clip060)\" d=\"M494.892 1534.82 L494.892 1536.9 L475.309 1536.9 Q475.587 1541.3 477.948 1543.62 Q480.332 1545.91 484.568 1545.91 Q487.022 1545.91 489.313 1545.31 Q491.628 1544.7 493.897 1543.5 L493.897 1547.53 Q491.605 1548.5 489.198 1549.01 Q486.79 1549.52 484.313 1549.52 Q478.11 1549.52 474.475 1545.91 Q470.864 1542.3 470.864 1536.14 Q470.864 1529.77 474.29 1526.05 Q477.739 1522.3 483.573 1522.3 Q488.804 1522.3 491.837 1525.68 Q494.892 1529.03 494.892 1534.82 M490.633 1533.57 Q490.587 1530.07 488.665 1527.99 Q486.767 1525.91 483.619 1525.91 Q480.054 1525.91 477.901 1527.92 Q475.772 1529.94 475.448 1533.59 L490.633 1533.57 Z\" fill=\"#000000\" fill-rule=\"evenodd\" fill-opacity=\"1\" /><path clip-path=\"url(#clip060)\" d=\"M506.096 1515.56 L506.096 1522.92 L514.869 1522.92 L514.869 1526.23 L506.096 1526.23 L506.096 1540.31 Q506.096 1543.48 506.952 1544.38 Q507.832 1545.28 510.494 1545.28 L514.869 1545.28 L514.869 1548.85 L510.494 1548.85 Q505.563 1548.85 503.688 1547.02 Q501.813 1545.17 501.813 1540.31 L501.813 1526.23 L498.688 1526.23 L498.688 1522.92 L501.813 1522.92 L501.813 1515.56 L506.096 1515.56 Z\" fill=\"#000000\" fill-rule=\"evenodd\" fill-opacity=\"1\" /><path clip-path=\"url(#clip060)\" d=\"M530.517 1525.91 Q527.091 1525.91 525.1 1528.59 Q523.109 1531.26 523.109 1535.91 Q523.109 1540.56 525.077 1543.25 Q527.068 1545.91 530.517 1545.91 Q533.92 1545.91 535.91 1543.22 Q537.901 1540.54 537.901 1535.91 Q537.901 1531.3 535.91 1528.62 Q533.92 1525.91 530.517 1525.91 M530.517 1522.3 Q536.072 1522.3 539.244 1525.91 Q542.415 1529.52 542.415 1535.91 Q542.415 1542.27 539.244 1545.91 Q536.072 1549.52 530.517 1549.52 Q524.938 1549.52 521.767 1545.91 Q518.619 1542.27 518.619 1535.91 Q518.619 1529.52 521.767 1525.91 Q524.938 1522.3 530.517 1522.3 Z\" fill=\"#000000\" fill-rule=\"evenodd\" fill-opacity=\"1\" /><path clip-path=\"url(#clip060)\" d=\"M566.003 1523.69 L566.003 1527.71 Q564.197 1526.79 562.253 1526.32 Q560.308 1525.86 558.225 1525.86 Q555.054 1525.86 553.457 1526.83 Q551.882 1527.81 551.882 1529.75 Q551.882 1531.23 553.017 1532.09 Q554.151 1532.92 557.577 1533.69 L559.035 1534.01 Q563.572 1534.98 565.47 1536.76 Q567.392 1538.52 567.392 1541.7 Q567.392 1545.31 564.521 1547.41 Q561.674 1549.52 556.674 1549.52 Q554.591 1549.52 552.322 1549.1 Q550.077 1548.71 547.577 1547.9 L547.577 1543.5 Q549.938 1544.73 552.23 1545.35 Q554.521 1545.95 556.767 1545.95 Q559.776 1545.95 561.396 1544.94 Q563.017 1543.89 563.017 1542.02 Q563.017 1540.28 561.836 1539.36 Q560.679 1538.43 556.72 1537.57 L555.239 1537.23 Q551.281 1536.39 549.521 1534.68 Q547.762 1532.95 547.762 1529.94 Q547.762 1526.28 550.355 1524.29 Q552.947 1522.3 557.716 1522.3 Q560.077 1522.3 562.16 1522.64 Q564.244 1522.99 566.003 1523.69 Z\" fill=\"#000000\" fill-rule=\"evenodd\" fill-opacity=\"1\" /><path clip-path=\"url(#clip060)\" d=\"M585.956 1535.82 Q580.794 1535.82 578.804 1537 Q576.813 1538.18 576.813 1541.02 Q576.813 1543.29 578.294 1544.63 Q579.799 1545.95 582.368 1545.95 Q585.91 1545.95 588.04 1543.45 Q590.192 1540.93 590.192 1536.76 L590.192 1535.82 L585.956 1535.82 M594.452 1534.06 L594.452 1548.85 L590.192 1548.85 L590.192 1544.91 Q588.734 1547.27 586.558 1548.41 Q584.382 1549.52 581.234 1549.52 Q577.253 1549.52 574.892 1547.3 Q572.554 1545.05 572.554 1541.3 Q572.554 1536.93 575.47 1534.7 Q578.41 1532.48 584.22 1532.48 L590.192 1532.48 L590.192 1532.07 Q590.192 1529.13 588.248 1527.53 Q586.327 1525.91 582.831 1525.91 Q580.609 1525.91 578.503 1526.44 Q576.396 1526.97 574.452 1528.04 L574.452 1524.1 Q576.79 1523.2 578.989 1522.76 Q581.188 1522.3 583.271 1522.3 Q588.896 1522.3 591.674 1525.21 Q594.452 1528.13 594.452 1534.06 Z\" fill=\"#000000\" fill-rule=\"evenodd\" fill-opacity=\"1\" /><path clip-path=\"url(#clip060)\" d=\"M1117.51 1522.92 L1122.03 1522.92 L1130.13 1544.68 L1138.23 1522.92 L1142.74 1522.92 L1133.02 1548.85 L1127.24 1548.85 L1117.51 1522.92 Z\" fill=\"#000000\" fill-rule=\"evenodd\" fill-opacity=\"1\" /><path clip-path=\"url(#clip060)\" d=\"M1170.8 1534.82 L1170.8 1536.9 L1151.22 1536.9 Q1151.49 1541.3 1153.86 1543.62 Q1156.24 1545.91 1160.48 1545.91 Q1162.93 1545.91 1165.22 1545.31 Q1167.54 1544.7 1169.8 1543.5 L1169.8 1547.53 Q1167.51 1548.5 1165.11 1549.01 Q1162.7 1549.52 1160.22 1549.52 Q1154.02 1549.52 1150.38 1545.91 Q1146.77 1542.3 1146.77 1536.14 Q1146.77 1529.77 1150.2 1526.05 Q1153.65 1522.3 1159.48 1522.3 Q1164.71 1522.3 1167.74 1525.68 Q1170.8 1529.03 1170.8 1534.82 M1166.54 1533.57 Q1166.49 1530.07 1164.57 1527.99 Q1162.68 1525.91 1159.53 1525.91 Q1155.96 1525.91 1153.81 1527.92 Q1151.68 1529.94 1151.36 1533.59 L1166.54 1533.57 Z\" fill=\"#000000\" fill-rule=\"evenodd\" fill-opacity=\"1\" /><path clip-path=\"url(#clip060)\" d=\"M1192.81 1526.9 Q1192.1 1526.49 1191.24 1526.3 Q1190.41 1526.09 1189.39 1526.09 Q1185.78 1526.09 1183.83 1528.45 Q1181.91 1530.79 1181.91 1535.19 L1181.91 1548.85 L1177.63 1548.85 L1177.63 1522.92 L1181.91 1522.92 L1181.91 1526.95 Q1183.25 1524.59 1185.41 1523.45 Q1187.56 1522.3 1190.64 1522.3 Q1191.08 1522.3 1191.61 1522.37 Q1192.14 1522.41 1192.79 1522.53 L1192.81 1526.9 Z\" fill=\"#000000\" fill-rule=\"evenodd\" fill-opacity=\"1\" /><path clip-path=\"url(#clip060)\" d=\"M1213.81 1523.69 L1213.81 1527.71 Q1212 1526.79 1210.06 1526.32 Q1208.11 1525.86 1206.03 1525.86 Q1202.86 1525.86 1201.26 1526.83 Q1199.69 1527.81 1199.69 1529.75 Q1199.69 1531.23 1200.82 1532.09 Q1201.96 1532.92 1205.38 1533.69 L1206.84 1534.01 Q1211.38 1534.98 1213.28 1536.76 Q1215.2 1538.52 1215.2 1541.7 Q1215.2 1545.31 1212.33 1547.41 Q1209.48 1549.52 1204.48 1549.52 Q1202.4 1549.52 1200.13 1549.1 Q1197.88 1548.71 1195.38 1547.9 L1195.38 1543.5 Q1197.74 1544.73 1200.04 1545.35 Q1202.33 1545.95 1204.57 1545.95 Q1207.58 1545.95 1209.2 1544.94 Q1210.82 1543.89 1210.82 1542.02 Q1210.82 1540.28 1209.64 1539.36 Q1208.49 1538.43 1204.53 1537.57 L1203.05 1537.23 Q1199.09 1536.39 1197.33 1534.68 Q1195.57 1532.95 1195.57 1529.94 Q1195.57 1526.28 1198.16 1524.29 Q1200.75 1522.3 1205.52 1522.3 Q1207.88 1522.3 1209.97 1522.64 Q1212.05 1522.99 1213.81 1523.69 Z\" fill=\"#000000\" fill-rule=\"evenodd\" fill-opacity=\"1\" /><path clip-path=\"url(#clip060)\" d=\"M1221.98 1522.92 L1226.24 1522.92 L1226.24 1548.85 L1221.98 1548.85 L1221.98 1522.92 M1221.98 1512.83 L1226.24 1512.83 L1226.24 1518.22 L1221.98 1518.22 L1221.98 1512.83 Z\" fill=\"#000000\" fill-rule=\"evenodd\" fill-opacity=\"1\" /><path clip-path=\"url(#clip060)\" d=\"M1253.81 1523.92 L1253.81 1527.9 Q1252 1526.9 1250.17 1526.42 Q1248.37 1525.91 1246.52 1525.91 Q1242.37 1525.91 1240.08 1528.55 Q1237.79 1531.16 1237.79 1535.91 Q1237.79 1540.65 1240.08 1543.29 Q1242.37 1545.91 1246.52 1545.91 Q1248.37 1545.91 1250.17 1545.42 Q1252 1544.91 1253.81 1543.92 L1253.81 1547.85 Q1252.03 1548.69 1250.11 1549.1 Q1248.21 1549.52 1246.05 1549.52 Q1240.2 1549.52 1236.75 1545.84 Q1233.3 1542.16 1233.3 1535.91 Q1233.3 1529.57 1236.77 1525.93 Q1240.27 1522.3 1246.33 1522.3 Q1248.3 1522.3 1250.17 1522.71 Q1252.05 1523.11 1253.81 1523.92 Z\" fill=\"#000000\" fill-rule=\"evenodd\" fill-opacity=\"1\" /><path clip-path=\"url(#clip060)\" d=\"M1271.26 1525.91 Q1267.84 1525.91 1265.85 1528.59 Q1263.86 1531.26 1263.86 1535.91 Q1263.86 1540.56 1265.82 1543.25 Q1267.81 1545.91 1271.26 1545.91 Q1274.67 1545.91 1276.66 1543.22 Q1278.65 1540.54 1278.65 1535.91 Q1278.65 1531.3 1276.66 1528.62 Q1274.67 1525.91 1271.26 1525.91 M1271.26 1522.3 Q1276.82 1522.3 1279.99 1525.91 Q1283.16 1529.52 1283.16 1535.91 Q1283.16 1542.27 1279.99 1545.91 Q1276.82 1549.52 1271.26 1549.52 Q1265.68 1549.52 1262.51 1545.91 Q1259.36 1542.27 1259.36 1535.91 Q1259.36 1529.52 1262.51 1525.91 Q1265.68 1522.3 1271.26 1522.3 Z\" fill=\"#000000\" fill-rule=\"evenodd\" fill-opacity=\"1\" /><path clip-path=\"url(#clip060)\" d=\"M1290.22 1512.83 L1294.48 1512.83 L1294.48 1548.85 L1290.22 1548.85 L1290.22 1512.83 Z\" fill=\"#000000\" fill-rule=\"evenodd\" fill-opacity=\"1\" /><path clip-path=\"url(#clip060)\" d=\"M1313.44 1525.91 Q1310.01 1525.91 1308.02 1528.59 Q1306.03 1531.26 1306.03 1535.91 Q1306.03 1540.56 1308 1543.25 Q1309.99 1545.91 1313.44 1545.91 Q1316.84 1545.91 1318.83 1543.22 Q1320.82 1540.54 1320.82 1535.91 Q1320.82 1531.3 1318.83 1528.62 Q1316.84 1525.91 1313.44 1525.91 M1313.44 1522.3 Q1318.99 1522.3 1322.17 1525.91 Q1325.34 1529.52 1325.34 1535.91 Q1325.34 1542.27 1322.17 1545.91 Q1318.99 1549.52 1313.44 1549.52 Q1307.86 1549.52 1304.69 1545.91 Q1301.54 1542.27 1301.54 1535.91 Q1301.54 1529.52 1304.69 1525.91 Q1307.86 1522.3 1313.44 1522.3 Z\" fill=\"#000000\" fill-rule=\"evenodd\" fill-opacity=\"1\" /><path clip-path=\"url(#clip060)\" d=\"M1347.42 1526.9 Q1346.7 1526.49 1345.85 1526.3 Q1345.01 1526.09 1343.99 1526.09 Q1340.38 1526.09 1338.44 1528.45 Q1336.52 1530.79 1336.52 1535.19 L1336.52 1548.85 L1332.23 1548.85 L1332.23 1522.92 L1336.52 1522.92 L1336.52 1526.95 Q1337.86 1524.59 1340.01 1523.45 Q1342.17 1522.3 1345.24 1522.3 Q1345.68 1522.3 1346.22 1522.37 Q1346.75 1522.41 1347.4 1522.53 L1347.42 1526.9 Z\" fill=\"#000000\" fill-rule=\"evenodd\" fill-opacity=\"1\" /><path clip-path=\"url(#clip060)\" d=\"M1846.77 1522.92 L1851.28 1522.92 L1859.38 1544.68 L1867.48 1522.92 L1872 1522.92 L1862.28 1548.85 L1856.49 1548.85 L1846.77 1522.92 Z\" fill=\"#000000\" fill-rule=\"evenodd\" fill-opacity=\"1\" /><path clip-path=\"url(#clip060)\" d=\"M1877.88 1522.92 L1882.14 1522.92 L1882.14 1548.85 L1877.88 1548.85 L1877.88 1522.92 M1877.88 1512.83 L1882.14 1512.83 L1882.14 1518.22 L1877.88 1518.22 L1877.88 1512.83 Z\" fill=\"#000000\" fill-rule=\"evenodd\" fill-opacity=\"1\" /><path clip-path=\"url(#clip060)\" d=\"M1906.07 1526.9 Q1905.35 1526.49 1904.5 1526.3 Q1903.66 1526.09 1902.65 1526.09 Q1899.03 1526.09 1897.09 1528.45 Q1895.17 1530.79 1895.17 1535.19 L1895.17 1548.85 L1890.89 1548.85 L1890.89 1522.92 L1895.17 1522.92 L1895.17 1526.95 Q1896.51 1524.59 1898.66 1523.45 Q1900.82 1522.3 1903.9 1522.3 Q1904.34 1522.3 1904.87 1522.37 Q1905.4 1522.41 1906.05 1522.53 L1906.07 1526.9 Z\" fill=\"#000000\" fill-rule=\"evenodd\" fill-opacity=\"1\" /><path clip-path=\"url(#clip060)\" d=\"M1926.77 1535.58 Q1926.77 1530.95 1924.84 1528.41 Q1922.95 1525.86 1919.5 1525.86 Q1916.07 1525.86 1914.15 1528.41 Q1912.25 1530.95 1912.25 1535.58 Q1912.25 1540.19 1914.15 1542.74 Q1916.07 1545.28 1919.5 1545.28 Q1922.95 1545.28 1924.84 1542.74 Q1926.77 1540.19 1926.77 1535.58 M1931.03 1545.63 Q1931.03 1552.25 1928.09 1555.47 Q1925.15 1558.71 1919.08 1558.71 Q1916.84 1558.71 1914.84 1558.36 Q1912.85 1558.04 1910.98 1557.34 L1910.98 1553.2 Q1912.85 1554.22 1914.68 1554.7 Q1916.51 1555.19 1918.41 1555.19 Q1922.6 1555.19 1924.68 1552.99 Q1926.77 1550.82 1926.77 1546.39 L1926.77 1544.29 Q1925.45 1546.58 1923.39 1547.71 Q1921.33 1548.85 1918.46 1548.85 Q1913.69 1548.85 1910.77 1545.21 Q1907.85 1541.58 1907.85 1535.58 Q1907.85 1529.57 1910.77 1525.93 Q1913.69 1522.3 1918.46 1522.3 Q1921.33 1522.3 1923.39 1523.43 Q1925.45 1524.57 1926.77 1526.86 L1926.77 1522.92 L1931.03 1522.92 L1931.03 1545.63 Z\" fill=\"#000000\" fill-rule=\"evenodd\" fill-opacity=\"1\" /><path clip-path=\"url(#clip060)\" d=\"M1939.8 1522.92 L1944.06 1522.92 L1944.06 1548.85 L1939.8 1548.85 L1939.8 1522.92 M1939.8 1512.83 L1944.06 1512.83 L1944.06 1518.22 L1939.8 1518.22 L1939.8 1512.83 Z\" fill=\"#000000\" fill-rule=\"evenodd\" fill-opacity=\"1\" /><path clip-path=\"url(#clip060)\" d=\"M1974.52 1533.2 L1974.52 1548.85 L1970.26 1548.85 L1970.26 1533.34 Q1970.26 1529.66 1968.83 1527.83 Q1967.39 1526 1964.52 1526 Q1961.07 1526 1959.08 1528.2 Q1957.09 1530.4 1957.09 1534.2 L1957.09 1548.85 L1952.81 1548.85 L1952.81 1522.92 L1957.09 1522.92 L1957.09 1526.95 Q1958.62 1524.61 1960.68 1523.45 Q1962.76 1522.3 1965.47 1522.3 Q1969.94 1522.3 1972.23 1525.07 Q1974.52 1527.83 1974.52 1533.2 Z\" fill=\"#000000\" fill-rule=\"evenodd\" fill-opacity=\"1\" /><path clip-path=\"url(#clip060)\" d=\"M1983.02 1522.92 L1987.27 1522.92 L1987.27 1548.85 L1983.02 1548.85 L1983.02 1522.92 M1983.02 1512.83 L1987.27 1512.83 L1987.27 1518.22 L1983.02 1518.22 L1983.02 1512.83 Z\" fill=\"#000000\" fill-rule=\"evenodd\" fill-opacity=\"1\" /><path clip-path=\"url(#clip060)\" d=\"M2014.84 1523.92 L2014.84 1527.9 Q2013.04 1526.9 2011.21 1526.42 Q2009.4 1525.91 2007.55 1525.91 Q2003.41 1525.91 2001.12 1528.55 Q1998.83 1531.16 1998.83 1535.91 Q1998.83 1540.65 2001.12 1543.29 Q2003.41 1545.91 2007.55 1545.91 Q2009.4 1545.91 2011.21 1545.42 Q2013.04 1544.91 2014.84 1543.92 L2014.84 1547.85 Q2013.06 1548.69 2011.14 1549.1 Q2009.24 1549.52 2007.09 1549.52 Q2001.23 1549.52 1997.78 1545.84 Q1994.33 1542.16 1994.33 1535.91 Q1994.33 1529.57 1997.81 1525.93 Q2001.3 1522.3 2007.37 1522.3 Q2009.33 1522.3 2011.21 1522.71 Q2013.08 1523.11 2014.84 1523.92 Z\" fill=\"#000000\" fill-rule=\"evenodd\" fill-opacity=\"1\" /><path clip-path=\"url(#clip060)\" d=\"M2034.03 1535.82 Q2028.87 1535.82 2026.88 1537 Q2024.89 1538.18 2024.89 1541.02 Q2024.89 1543.29 2026.37 1544.63 Q2027.88 1545.95 2030.45 1545.95 Q2033.99 1545.95 2036.12 1543.45 Q2038.27 1540.93 2038.27 1536.76 L2038.27 1535.82 L2034.03 1535.82 M2042.53 1534.06 L2042.53 1548.85 L2038.27 1548.85 L2038.27 1544.91 Q2036.81 1547.27 2034.64 1548.41 Q2032.46 1549.52 2029.31 1549.52 Q2025.33 1549.52 2022.97 1547.3 Q2020.63 1545.05 2020.63 1541.3 Q2020.63 1536.93 2023.55 1534.7 Q2026.49 1532.48 2032.3 1532.48 L2038.27 1532.48 L2038.27 1532.07 Q2038.27 1529.13 2036.33 1527.53 Q2034.4 1525.91 2030.91 1525.91 Q2028.69 1525.91 2026.58 1526.44 Q2024.47 1526.97 2022.53 1528.04 L2022.53 1524.1 Q2024.87 1523.2 2027.07 1522.76 Q2029.27 1522.3 2031.35 1522.3 Q2036.97 1522.3 2039.75 1525.21 Q2042.53 1528.13 2042.53 1534.06 Z\" fill=\"#000000\" fill-rule=\"evenodd\" fill-opacity=\"1\" /><polyline clip-path=\"url(#clip062)\" style=\"stroke:#000000; stroke-linecap:butt; stroke-linejoin:round; stroke-width:2; stroke-opacity:0.1; fill:none\" points=\"\n",
       "  112.177,1445.72 2352.76,1445.72 \n",
       "  \"/>\n",
       "<polyline clip-path=\"url(#clip062)\" style=\"stroke:#000000; stroke-linecap:butt; stroke-linejoin:round; stroke-width:2; stroke-opacity:0.1; fill:none\" points=\"\n",
       "  112.177,1052.17 2352.76,1052.17 \n",
       "  \"/>\n",
       "<polyline clip-path=\"url(#clip062)\" style=\"stroke:#000000; stroke-linecap:butt; stroke-linejoin:round; stroke-width:2; stroke-opacity:0.1; fill:none\" points=\"\n",
       "  112.177,658.62 2352.76,658.62 \n",
       "  \"/>\n",
       "<polyline clip-path=\"url(#clip062)\" style=\"stroke:#000000; stroke-linecap:butt; stroke-linejoin:round; stroke-width:2; stroke-opacity:0.1; fill:none\" points=\"\n",
       "  112.177,265.073 2352.76,265.073 \n",
       "  \"/>\n",
       "<polyline clip-path=\"url(#clip060)\" style=\"stroke:#000000; stroke-linecap:butt; stroke-linejoin:round; stroke-width:4; stroke-opacity:1; fill:none\" points=\"\n",
       "  112.177,1486.45 112.177,47.2441 \n",
       "  \"/>\n",
       "<polyline clip-path=\"url(#clip060)\" style=\"stroke:#000000; stroke-linecap:butt; stroke-linejoin:round; stroke-width:4; stroke-opacity:1; fill:none\" points=\"\n",
       "  112.177,1445.72 131.075,1445.72 \n",
       "  \"/>\n",
       "<polyline clip-path=\"url(#clip060)\" style=\"stroke:#000000; stroke-linecap:butt; stroke-linejoin:round; stroke-width:4; stroke-opacity:1; fill:none\" points=\"\n",
       "  112.177,1052.17 131.075,1052.17 \n",
       "  \"/>\n",
       "<polyline clip-path=\"url(#clip060)\" style=\"stroke:#000000; stroke-linecap:butt; stroke-linejoin:round; stroke-width:4; stroke-opacity:1; fill:none\" points=\"\n",
       "  112.177,658.62 131.075,658.62 \n",
       "  \"/>\n",
       "<polyline clip-path=\"url(#clip060)\" style=\"stroke:#000000; stroke-linecap:butt; stroke-linejoin:round; stroke-width:4; stroke-opacity:1; fill:none\" points=\"\n",
       "  112.177,265.073 131.075,265.073 \n",
       "  \"/>\n",
       "<path clip-path=\"url(#clip060)\" d=\"M64.2328 1431.51 Q60.6217 1431.51 58.793 1435.08 Q56.9875 1438.62 56.9875 1445.75 Q56.9875 1452.86 58.793 1456.42 Q60.6217 1459.96 64.2328 1459.96 Q67.867 1459.96 69.6726 1456.42 Q71.5013 1452.86 71.5013 1445.75 Q71.5013 1438.62 69.6726 1435.08 Q67.867 1431.51 64.2328 1431.51 M64.2328 1427.81 Q70.0429 1427.81 73.0985 1432.42 Q76.1772 1437 76.1772 1445.75 Q76.1772 1454.48 73.0985 1459.08 Q70.0429 1463.67 64.2328 1463.67 Q58.4226 1463.67 55.344 1459.08 Q52.2884 1454.48 52.2884 1445.75 Q52.2884 1437 55.344 1432.42 Q58.4226 1427.81 64.2328 1427.81 Z\" fill=\"#000000\" fill-rule=\"evenodd\" fill-opacity=\"1\" /><path clip-path=\"url(#clip060)\" d=\"M59.8578 1065.51 L76.1772 1065.51 L76.1772 1069.45 L54.2328 1069.45 L54.2328 1065.51 Q56.8949 1062.76 61.4782 1058.13 Q66.0846 1053.48 67.2652 1052.13 Q69.5105 1049.61 70.3902 1047.87 Q71.2929 1046.11 71.2929 1044.43 Q71.2929 1041.67 69.3485 1039.93 Q67.4272 1038.2 64.3254 1038.2 Q62.1263 1038.2 59.6726 1038.96 Q57.2421 1039.73 54.4643 1041.28 L54.4643 1036.55 Q57.2884 1035.42 59.7421 1034.84 Q62.1958 1034.26 64.2328 1034.26 Q69.6031 1034.26 72.7976 1036.95 Q75.992 1039.63 75.992 1044.12 Q75.992 1046.25 75.1818 1048.18 Q74.3948 1050.07 72.2883 1052.67 Q71.7096 1053.34 68.6078 1056.55 Q65.5059 1059.75 59.8578 1065.51 Z\" fill=\"#000000\" fill-rule=\"evenodd\" fill-opacity=\"1\" /><path clip-path=\"url(#clip060)\" d=\"M66.5939 645.414 L54.7884 663.863 L66.5939 663.863 L66.5939 645.414 M65.367 641.34 L71.2466 641.34 L71.2466 663.863 L76.1772 663.863 L76.1772 667.752 L71.2466 667.752 L71.2466 675.9 L66.5939 675.9 L66.5939 667.752 L50.9921 667.752 L50.9921 663.238 L65.367 641.34 Z\" fill=\"#000000\" fill-rule=\"evenodd\" fill-opacity=\"1\" /><path clip-path=\"url(#clip060)\" d=\"M64.6495 263.209 Q61.5013 263.209 59.6495 265.362 Q57.8208 267.515 57.8208 271.265 Q57.8208 274.992 59.6495 277.168 Q61.5013 279.32 64.6495 279.32 Q67.7976 279.32 69.6263 277.168 Q71.4781 274.992 71.4781 271.265 Q71.4781 267.515 69.6263 265.362 Q67.7976 263.209 64.6495 263.209 M73.9318 248.557 L73.9318 252.816 Q72.1726 251.983 70.367 251.543 Q68.5846 251.103 66.8254 251.103 Q62.1958 251.103 59.7421 254.228 Q57.3115 257.353 56.9643 263.672 Q58.33 261.658 60.3902 260.594 Q62.4504 259.506 64.9272 259.506 Q70.1355 259.506 73.1448 262.677 Q76.1772 265.825 76.1772 271.265 Q76.1772 276.589 73.029 279.806 Q69.8809 283.024 64.6495 283.024 Q58.6541 283.024 55.4828 278.441 Q52.3116 273.834 52.3116 265.107 Q52.3116 256.913 56.2004 252.052 Q60.0893 247.168 66.6402 247.168 Q68.3994 247.168 70.1818 247.515 Q71.9874 247.862 73.9318 248.557 Z\" fill=\"#000000\" fill-rule=\"evenodd\" fill-opacity=\"1\" /><path clip-path=\"url(#clip062)\" d=\"\n",
       "M235.413 1170.23 L235.413 1445.72 L805.158 1445.72 L805.158 1170.23 L235.413 1170.23 L235.413 1170.23  Z\n",
       "  \" fill=\"#009af9\" fill-rule=\"evenodd\" fill-opacity=\"1\"/>\n",
       "<polyline clip-path=\"url(#clip062)\" style=\"stroke:#000000; stroke-linecap:butt; stroke-linejoin:round; stroke-width:4; stroke-opacity:1; fill:none\" points=\"\n",
       "  235.413,1170.23 235.413,1445.72 805.158,1445.72 805.158,1170.23 235.413,1170.23 \n",
       "  \"/>\n",
       "<path clip-path=\"url(#clip062)\" d=\"\n",
       "M235.413 1170.23 L235.413 1445.72 L805.158 1445.72 L805.158 1170.23 L235.413 1170.23 L235.413 1170.23  Z\n",
       "  \" fill=\"#009af9\" fill-rule=\"evenodd\" fill-opacity=\"1\"/>\n",
       "<polyline clip-path=\"url(#clip062)\" style=\"stroke:#000000; stroke-linecap:butt; stroke-linejoin:round; stroke-width:4; stroke-opacity:1; fill:none\" points=\"\n",
       "  235.413,1170.23 235.413,1445.72 805.158,1445.72 805.158,1170.23 235.413,1170.23 \n",
       "  \"/>\n",
       "<path clip-path=\"url(#clip062)\" d=\"\n",
       "M235.413 1189.91 L235.413 1445.72 L805.158 1445.72 L805.158 1189.91 L235.413 1189.91 L235.413 1189.91  Z\n",
       "  \" fill=\"#009af9\" fill-rule=\"evenodd\" fill-opacity=\"1\"/>\n",
       "<polyline clip-path=\"url(#clip062)\" style=\"stroke:#000000; stroke-linecap:butt; stroke-linejoin:round; stroke-width:4; stroke-opacity:1; fill:none\" points=\"\n",
       "  235.413,1189.91 235.413,1445.72 805.158,1445.72 805.158,1189.91 235.413,1189.91 \n",
       "  \"/>\n",
       "<path clip-path=\"url(#clip062)\" d=\"\n",
       "M235.413 1150.55 L235.413 1445.72 L805.158 1445.72 L805.158 1150.55 L235.413 1150.55 L235.413 1150.55  Z\n",
       "  \" fill=\"#009af9\" fill-rule=\"evenodd\" fill-opacity=\"1\"/>\n",
       "<polyline clip-path=\"url(#clip062)\" style=\"stroke:#000000; stroke-linecap:butt; stroke-linejoin:round; stroke-width:4; stroke-opacity:1; fill:none\" points=\"\n",
       "  235.413,1150.55 235.413,1445.72 805.158,1445.72 805.158,1150.55 235.413,1150.55 \n",
       "  \"/>\n",
       "<path clip-path=\"url(#clip062)\" d=\"\n",
       "M235.413 1170.23 L235.413 1445.72 L805.158 1445.72 L805.158 1170.23 L235.413 1170.23 L235.413 1170.23  Z\n",
       "  \" fill=\"#009af9\" fill-rule=\"evenodd\" fill-opacity=\"1\"/>\n",
       "<polyline clip-path=\"url(#clip062)\" style=\"stroke:#000000; stroke-linecap:butt; stroke-linejoin:round; stroke-width:4; stroke-opacity:1; fill:none\" points=\"\n",
       "  235.413,1170.23 235.413,1445.72 805.158,1445.72 805.158,1170.23 235.413,1170.23 \n",
       "  \"/>\n",
       "<path clip-path=\"url(#clip062)\" d=\"\n",
       "M235.413 1111.2 L235.413 1445.72 L805.158 1445.72 L805.158 1111.2 L235.413 1111.2 L235.413 1111.2  Z\n",
       "  \" fill=\"#009af9\" fill-rule=\"evenodd\" fill-opacity=\"1\"/>\n",
       "<polyline clip-path=\"url(#clip062)\" style=\"stroke:#000000; stroke-linecap:butt; stroke-linejoin:round; stroke-width:4; stroke-opacity:1; fill:none\" points=\"\n",
       "  235.413,1111.2 235.413,1445.72 805.158,1445.72 805.158,1111.2 235.413,1111.2 \n",
       "  \"/>\n",
       "<path clip-path=\"url(#clip062)\" d=\"\n",
       "M235.413 1170.23 L235.413 1445.72 L805.158 1445.72 L805.158 1170.23 L235.413 1170.23 L235.413 1170.23  Z\n",
       "  \" fill=\"#009af9\" fill-rule=\"evenodd\" fill-opacity=\"1\"/>\n",
       "<polyline clip-path=\"url(#clip062)\" style=\"stroke:#000000; stroke-linecap:butt; stroke-linejoin:round; stroke-width:4; stroke-opacity:1; fill:none\" points=\"\n",
       "  235.413,1170.23 235.413,1445.72 805.158,1445.72 805.158,1170.23 235.413,1170.23 \n",
       "  \"/>\n",
       "<path clip-path=\"url(#clip062)\" d=\"\n",
       "M235.413 1150.55 L235.413 1445.72 L805.158 1445.72 L805.158 1150.55 L235.413 1150.55 L235.413 1150.55  Z\n",
       "  \" fill=\"#009af9\" fill-rule=\"evenodd\" fill-opacity=\"1\"/>\n",
       "<polyline clip-path=\"url(#clip062)\" style=\"stroke:#000000; stroke-linecap:butt; stroke-linejoin:round; stroke-width:4; stroke-opacity:1; fill:none\" points=\"\n",
       "  235.413,1150.55 235.413,1445.72 805.158,1445.72 805.158,1150.55 235.413,1150.55 \n",
       "  \"/>\n",
       "<path clip-path=\"url(#clip062)\" d=\"\n",
       "M235.413 1170.23 L235.413 1445.72 L805.158 1445.72 L805.158 1170.23 L235.413 1170.23 L235.413 1170.23  Z\n",
       "  \" fill=\"#009af9\" fill-rule=\"evenodd\" fill-opacity=\"1\"/>\n",
       "<polyline clip-path=\"url(#clip062)\" style=\"stroke:#000000; stroke-linecap:butt; stroke-linejoin:round; stroke-width:4; stroke-opacity:1; fill:none\" points=\"\n",
       "  235.413,1170.23 235.413,1445.72 805.158,1445.72 805.158,1170.23 235.413,1170.23 \n",
       "  \"/>\n",
       "<path clip-path=\"url(#clip062)\" d=\"\n",
       "M235.413 1150.55 L235.413 1445.72 L805.158 1445.72 L805.158 1150.55 L235.413 1150.55 L235.413 1150.55  Z\n",
       "  \" fill=\"#009af9\" fill-rule=\"evenodd\" fill-opacity=\"1\"/>\n",
       "<polyline clip-path=\"url(#clip062)\" style=\"stroke:#000000; stroke-linecap:butt; stroke-linejoin:round; stroke-width:4; stroke-opacity:1; fill:none\" points=\"\n",
       "  235.413,1150.55 235.413,1445.72 805.158,1445.72 805.158,1150.55 235.413,1150.55 \n",
       "  \"/>\n",
       "<path clip-path=\"url(#clip062)\" d=\"\n",
       "M235.413 1150.55 L235.413 1445.72 L805.158 1445.72 L805.158 1150.55 L235.413 1150.55 L235.413 1150.55  Z\n",
       "  \" fill=\"#009af9\" fill-rule=\"evenodd\" fill-opacity=\"1\"/>\n",
       "<polyline clip-path=\"url(#clip062)\" style=\"stroke:#000000; stroke-linecap:butt; stroke-linejoin:round; stroke-width:4; stroke-opacity:1; fill:none\" points=\"\n",
       "  235.413,1150.55 235.413,1445.72 805.158,1445.72 805.158,1150.55 235.413,1150.55 \n",
       "  \"/>\n",
       "<path clip-path=\"url(#clip062)\" d=\"\n",
       "M235.413 1130.88 L235.413 1445.72 L805.158 1445.72 L805.158 1130.88 L235.413 1130.88 L235.413 1130.88  Z\n",
       "  \" fill=\"#009af9\" fill-rule=\"evenodd\" fill-opacity=\"1\"/>\n",
       "<polyline clip-path=\"url(#clip062)\" style=\"stroke:#000000; stroke-linecap:butt; stroke-linejoin:round; stroke-width:4; stroke-opacity:1; fill:none\" points=\"\n",
       "  235.413,1130.88 235.413,1445.72 805.158,1445.72 805.158,1130.88 235.413,1130.88 \n",
       "  \"/>\n",
       "<path clip-path=\"url(#clip062)\" d=\"\n",
       "M235.413 1170.23 L235.413 1445.72 L805.158 1445.72 L805.158 1170.23 L235.413 1170.23 L235.413 1170.23  Z\n",
       "  \" fill=\"#009af9\" fill-rule=\"evenodd\" fill-opacity=\"1\"/>\n",
       "<polyline clip-path=\"url(#clip062)\" style=\"stroke:#000000; stroke-linecap:butt; stroke-linejoin:round; stroke-width:4; stroke-opacity:1; fill:none\" points=\"\n",
       "  235.413,1170.23 235.413,1445.72 805.158,1445.72 805.158,1170.23 235.413,1170.23 \n",
       "  \"/>\n",
       "<path clip-path=\"url(#clip062)\" d=\"\n",
       "M235.413 1229.26 L235.413 1445.72 L805.158 1445.72 L805.158 1229.26 L235.413 1229.26 L235.413 1229.26  Z\n",
       "  \" fill=\"#009af9\" fill-rule=\"evenodd\" fill-opacity=\"1\"/>\n",
       "<polyline clip-path=\"url(#clip062)\" style=\"stroke:#000000; stroke-linecap:butt; stroke-linejoin:round; stroke-width:4; stroke-opacity:1; fill:none\" points=\"\n",
       "  235.413,1229.26 235.413,1445.72 805.158,1445.72 805.158,1229.26 235.413,1229.26 \n",
       "  \"/>\n",
       "<path clip-path=\"url(#clip062)\" d=\"\n",
       "M235.413 1209.59 L235.413 1445.72 L805.158 1445.72 L805.158 1209.59 L235.413 1209.59 L235.413 1209.59  Z\n",
       "  \" fill=\"#009af9\" fill-rule=\"evenodd\" fill-opacity=\"1\"/>\n",
       "<polyline clip-path=\"url(#clip062)\" style=\"stroke:#000000; stroke-linecap:butt; stroke-linejoin:round; stroke-width:4; stroke-opacity:1; fill:none\" points=\"\n",
       "  235.413,1209.59 235.413,1445.72 805.158,1445.72 805.158,1209.59 235.413,1209.59 \n",
       "  \"/>\n",
       "<path clip-path=\"url(#clip062)\" d=\"\n",
       "M235.413 1150.55 L235.413 1445.72 L805.158 1445.72 L805.158 1150.55 L235.413 1150.55 L235.413 1150.55  Z\n",
       "  \" fill=\"#009af9\" fill-rule=\"evenodd\" fill-opacity=\"1\"/>\n",
       "<polyline clip-path=\"url(#clip062)\" style=\"stroke:#000000; stroke-linecap:butt; stroke-linejoin:round; stroke-width:4; stroke-opacity:1; fill:none\" points=\"\n",
       "  235.413,1150.55 235.413,1445.72 805.158,1445.72 805.158,1150.55 235.413,1150.55 \n",
       "  \"/>\n",
       "<path clip-path=\"url(#clip062)\" d=\"\n",
       "M235.413 1189.91 L235.413 1445.72 L805.158 1445.72 L805.158 1189.91 L235.413 1189.91 L235.413 1189.91  Z\n",
       "  \" fill=\"#009af9\" fill-rule=\"evenodd\" fill-opacity=\"1\"/>\n",
       "<polyline clip-path=\"url(#clip062)\" style=\"stroke:#000000; stroke-linecap:butt; stroke-linejoin:round; stroke-width:4; stroke-opacity:1; fill:none\" points=\"\n",
       "  235.413,1189.91 235.413,1445.72 805.158,1445.72 805.158,1189.91 235.413,1189.91 \n",
       "  \"/>\n",
       "<path clip-path=\"url(#clip062)\" d=\"\n",
       "M235.413 1170.23 L235.413 1445.72 L805.158 1445.72 L805.158 1170.23 L235.413 1170.23 L235.413 1170.23  Z\n",
       "  \" fill=\"#009af9\" fill-rule=\"evenodd\" fill-opacity=\"1\"/>\n",
       "<polyline clip-path=\"url(#clip062)\" style=\"stroke:#000000; stroke-linecap:butt; stroke-linejoin:round; stroke-width:4; stroke-opacity:1; fill:none\" points=\"\n",
       "  235.413,1170.23 235.413,1445.72 805.158,1445.72 805.158,1170.23 235.413,1170.23 \n",
       "  \"/>\n",
       "<path clip-path=\"url(#clip062)\" d=\"\n",
       "M235.413 1111.2 L235.413 1445.72 L805.158 1445.72 L805.158 1111.2 L235.413 1111.2 L235.413 1111.2  Z\n",
       "  \" fill=\"#009af9\" fill-rule=\"evenodd\" fill-opacity=\"1\"/>\n",
       "<polyline clip-path=\"url(#clip062)\" style=\"stroke:#000000; stroke-linecap:butt; stroke-linejoin:round; stroke-width:4; stroke-opacity:1; fill:none\" points=\"\n",
       "  235.413,1111.2 235.413,1445.72 805.158,1445.72 805.158,1111.2 235.413,1111.2 \n",
       "  \"/>\n",
       "<path clip-path=\"url(#clip062)\" d=\"\n",
       "M235.413 1150.55 L235.413 1445.72 L805.158 1445.72 L805.158 1150.55 L235.413 1150.55 L235.413 1150.55  Z\n",
       "  \" fill=\"#009af9\" fill-rule=\"evenodd\" fill-opacity=\"1\"/>\n",
       "<polyline clip-path=\"url(#clip062)\" style=\"stroke:#000000; stroke-linecap:butt; stroke-linejoin:round; stroke-width:4; stroke-opacity:1; fill:none\" points=\"\n",
       "  235.413,1150.55 235.413,1445.72 805.158,1445.72 805.158,1150.55 235.413,1150.55 \n",
       "  \"/>\n",
       "<path clip-path=\"url(#clip062)\" d=\"\n",
       "M235.413 1111.2 L235.413 1445.72 L805.158 1445.72 L805.158 1111.2 L235.413 1111.2 L235.413 1111.2  Z\n",
       "  \" fill=\"#009af9\" fill-rule=\"evenodd\" fill-opacity=\"1\"/>\n",
       "<polyline clip-path=\"url(#clip062)\" style=\"stroke:#000000; stroke-linecap:butt; stroke-linejoin:round; stroke-width:4; stroke-opacity:1; fill:none\" points=\"\n",
       "  235.413,1111.2 235.413,1445.72 805.158,1445.72 805.158,1111.2 235.413,1111.2 \n",
       "  \"/>\n",
       "<path clip-path=\"url(#clip062)\" d=\"\n",
       "M235.413 1150.55 L235.413 1445.72 L805.158 1445.72 L805.158 1150.55 L235.413 1150.55 L235.413 1150.55  Z\n",
       "  \" fill=\"#009af9\" fill-rule=\"evenodd\" fill-opacity=\"1\"/>\n",
       "<polyline clip-path=\"url(#clip062)\" style=\"stroke:#000000; stroke-linecap:butt; stroke-linejoin:round; stroke-width:4; stroke-opacity:1; fill:none\" points=\"\n",
       "  235.413,1150.55 235.413,1445.72 805.158,1445.72 805.158,1150.55 235.413,1150.55 \n",
       "  \"/>\n",
       "<path clip-path=\"url(#clip062)\" d=\"\n",
       "M235.413 1248.94 L235.413 1445.72 L805.158 1445.72 L805.158 1248.94 L235.413 1248.94 L235.413 1248.94  Z\n",
       "  \" fill=\"#009af9\" fill-rule=\"evenodd\" fill-opacity=\"1\"/>\n",
       "<polyline clip-path=\"url(#clip062)\" style=\"stroke:#000000; stroke-linecap:butt; stroke-linejoin:round; stroke-width:4; stroke-opacity:1; fill:none\" points=\"\n",
       "  235.413,1248.94 235.413,1445.72 805.158,1445.72 805.158,1248.94 235.413,1248.94 \n",
       "  \"/>\n",
       "<path clip-path=\"url(#clip062)\" d=\"\n",
       "M235.413 1111.2 L235.413 1445.72 L805.158 1445.72 L805.158 1111.2 L235.413 1111.2 L235.413 1111.2  Z\n",
       "  \" fill=\"#009af9\" fill-rule=\"evenodd\" fill-opacity=\"1\"/>\n",
       "<polyline clip-path=\"url(#clip062)\" style=\"stroke:#000000; stroke-linecap:butt; stroke-linejoin:round; stroke-width:4; stroke-opacity:1; fill:none\" points=\"\n",
       "  235.413,1111.2 235.413,1445.72 805.158,1445.72 805.158,1111.2 235.413,1111.2 \n",
       "  \"/>\n",
       "<path clip-path=\"url(#clip062)\" d=\"\n",
       "M235.413 1071.85 L235.413 1445.72 L805.158 1445.72 L805.158 1071.85 L235.413 1071.85 L235.413 1071.85  Z\n",
       "  \" fill=\"#009af9\" fill-rule=\"evenodd\" fill-opacity=\"1\"/>\n",
       "<polyline clip-path=\"url(#clip062)\" style=\"stroke:#000000; stroke-linecap:butt; stroke-linejoin:round; stroke-width:4; stroke-opacity:1; fill:none\" points=\"\n",
       "  235.413,1071.85 235.413,1445.72 805.158,1445.72 805.158,1071.85 235.413,1071.85 \n",
       "  \"/>\n",
       "<path clip-path=\"url(#clip062)\" d=\"\n",
       "M235.413 1130.88 L235.413 1445.72 L805.158 1445.72 L805.158 1130.88 L235.413 1130.88 L235.413 1130.88  Z\n",
       "  \" fill=\"#009af9\" fill-rule=\"evenodd\" fill-opacity=\"1\"/>\n",
       "<polyline clip-path=\"url(#clip062)\" style=\"stroke:#000000; stroke-linecap:butt; stroke-linejoin:round; stroke-width:4; stroke-opacity:1; fill:none\" points=\"\n",
       "  235.413,1130.88 235.413,1445.72 805.158,1445.72 805.158,1130.88 235.413,1130.88 \n",
       "  \"/>\n",
       "<path clip-path=\"url(#clip062)\" d=\"\n",
       "M235.413 1130.88 L235.413 1445.72 L805.158 1445.72 L805.158 1130.88 L235.413 1130.88 L235.413 1130.88  Z\n",
       "  \" fill=\"#009af9\" fill-rule=\"evenodd\" fill-opacity=\"1\"/>\n",
       "<polyline clip-path=\"url(#clip062)\" style=\"stroke:#000000; stroke-linecap:butt; stroke-linejoin:round; stroke-width:4; stroke-opacity:1; fill:none\" points=\"\n",
       "  235.413,1130.88 235.413,1445.72 805.158,1445.72 805.158,1130.88 235.413,1130.88 \n",
       "  \"/>\n",
       "<path clip-path=\"url(#clip062)\" d=\"\n",
       "M235.413 1150.55 L235.413 1445.72 L805.158 1445.72 L805.158 1150.55 L235.413 1150.55 L235.413 1150.55  Z\n",
       "  \" fill=\"#009af9\" fill-rule=\"evenodd\" fill-opacity=\"1\"/>\n",
       "<polyline clip-path=\"url(#clip062)\" style=\"stroke:#000000; stroke-linecap:butt; stroke-linejoin:round; stroke-width:4; stroke-opacity:1; fill:none\" points=\"\n",
       "  235.413,1150.55 235.413,1445.72 805.158,1445.72 805.158,1150.55 235.413,1150.55 \n",
       "  \"/>\n",
       "<path clip-path=\"url(#clip062)\" d=\"\n",
       "M235.413 1170.23 L235.413 1445.72 L805.158 1445.72 L805.158 1170.23 L235.413 1170.23 L235.413 1170.23  Z\n",
       "  \" fill=\"#009af9\" fill-rule=\"evenodd\" fill-opacity=\"1\"/>\n",
       "<polyline clip-path=\"url(#clip062)\" style=\"stroke:#000000; stroke-linecap:butt; stroke-linejoin:round; stroke-width:4; stroke-opacity:1; fill:none\" points=\"\n",
       "  235.413,1170.23 235.413,1445.72 805.158,1445.72 805.158,1170.23 235.413,1170.23 \n",
       "  \"/>\n",
       "<path clip-path=\"url(#clip062)\" d=\"\n",
       "M235.413 1130.88 L235.413 1445.72 L805.158 1445.72 L805.158 1130.88 L235.413 1130.88 L235.413 1130.88  Z\n",
       "  \" fill=\"#009af9\" fill-rule=\"evenodd\" fill-opacity=\"1\"/>\n",
       "<polyline clip-path=\"url(#clip062)\" style=\"stroke:#000000; stroke-linecap:butt; stroke-linejoin:round; stroke-width:4; stroke-opacity:1; fill:none\" points=\"\n",
       "  235.413,1130.88 235.413,1445.72 805.158,1445.72 805.158,1130.88 235.413,1130.88 \n",
       "  \"/>\n",
       "<path clip-path=\"url(#clip062)\" d=\"\n",
       "M235.413 1130.88 L235.413 1445.72 L805.158 1445.72 L805.158 1130.88 L235.413 1130.88 L235.413 1130.88  Z\n",
       "  \" fill=\"#009af9\" fill-rule=\"evenodd\" fill-opacity=\"1\"/>\n",
       "<polyline clip-path=\"url(#clip062)\" style=\"stroke:#000000; stroke-linecap:butt; stroke-linejoin:round; stroke-width:4; stroke-opacity:1; fill:none\" points=\"\n",
       "  235.413,1130.88 235.413,1445.72 805.158,1445.72 805.158,1130.88 235.413,1130.88 \n",
       "  \"/>\n",
       "<path clip-path=\"url(#clip062)\" d=\"\n",
       "M235.413 1150.55 L235.413 1445.72 L805.158 1445.72 L805.158 1150.55 L235.413 1150.55 L235.413 1150.55  Z\n",
       "  \" fill=\"#009af9\" fill-rule=\"evenodd\" fill-opacity=\"1\"/>\n",
       "<polyline clip-path=\"url(#clip062)\" style=\"stroke:#000000; stroke-linecap:butt; stroke-linejoin:round; stroke-width:4; stroke-opacity:1; fill:none\" points=\"\n",
       "  235.413,1150.55 235.413,1445.72 805.158,1445.72 805.158,1150.55 235.413,1150.55 \n",
       "  \"/>\n",
       "<path clip-path=\"url(#clip062)\" d=\"\n",
       "M235.413 1150.55 L235.413 1445.72 L805.158 1445.72 L805.158 1150.55 L235.413 1150.55 L235.413 1150.55  Z\n",
       "  \" fill=\"#009af9\" fill-rule=\"evenodd\" fill-opacity=\"1\"/>\n",
       "<polyline clip-path=\"url(#clip062)\" style=\"stroke:#000000; stroke-linecap:butt; stroke-linejoin:round; stroke-width:4; stroke-opacity:1; fill:none\" points=\"\n",
       "  235.413,1150.55 235.413,1445.72 805.158,1445.72 805.158,1150.55 235.413,1150.55 \n",
       "  \"/>\n",
       "<path clip-path=\"url(#clip062)\" d=\"\n",
       "M235.413 1170.23 L235.413 1445.72 L805.158 1445.72 L805.158 1170.23 L235.413 1170.23 L235.413 1170.23  Z\n",
       "  \" fill=\"#009af9\" fill-rule=\"evenodd\" fill-opacity=\"1\"/>\n",
       "<polyline clip-path=\"url(#clip062)\" style=\"stroke:#000000; stroke-linecap:butt; stroke-linejoin:round; stroke-width:4; stroke-opacity:1; fill:none\" points=\"\n",
       "  235.413,1170.23 235.413,1445.72 805.158,1445.72 805.158,1170.23 235.413,1170.23 \n",
       "  \"/>\n",
       "<path clip-path=\"url(#clip062)\" d=\"\n",
       "M235.413 1150.55 L235.413 1445.72 L805.158 1445.72 L805.158 1150.55 L235.413 1150.55 L235.413 1150.55  Z\n",
       "  \" fill=\"#009af9\" fill-rule=\"evenodd\" fill-opacity=\"1\"/>\n",
       "<polyline clip-path=\"url(#clip062)\" style=\"stroke:#000000; stroke-linecap:butt; stroke-linejoin:round; stroke-width:4; stroke-opacity:1; fill:none\" points=\"\n",
       "  235.413,1150.55 235.413,1445.72 805.158,1445.72 805.158,1150.55 235.413,1150.55 \n",
       "  \"/>\n",
       "<path clip-path=\"url(#clip062)\" d=\"\n",
       "M235.413 1209.59 L235.413 1445.72 L805.158 1445.72 L805.158 1209.59 L235.413 1209.59 L235.413 1209.59  Z\n",
       "  \" fill=\"#009af9\" fill-rule=\"evenodd\" fill-opacity=\"1\"/>\n",
       "<polyline clip-path=\"url(#clip062)\" style=\"stroke:#000000; stroke-linecap:butt; stroke-linejoin:round; stroke-width:4; stroke-opacity:1; fill:none\" points=\"\n",
       "  235.413,1209.59 235.413,1445.72 805.158,1445.72 805.158,1209.59 235.413,1209.59 \n",
       "  \"/>\n",
       "<path clip-path=\"url(#clip062)\" d=\"\n",
       "M235.413 1189.91 L235.413 1445.72 L805.158 1445.72 L805.158 1189.91 L235.413 1189.91 L235.413 1189.91  Z\n",
       "  \" fill=\"#009af9\" fill-rule=\"evenodd\" fill-opacity=\"1\"/>\n",
       "<polyline clip-path=\"url(#clip062)\" style=\"stroke:#000000; stroke-linecap:butt; stroke-linejoin:round; stroke-width:4; stroke-opacity:1; fill:none\" points=\"\n",
       "  235.413,1189.91 235.413,1445.72 805.158,1445.72 805.158,1189.91 235.413,1189.91 \n",
       "  \"/>\n",
       "<path clip-path=\"url(#clip062)\" d=\"\n",
       "M235.413 1170.23 L235.413 1445.72 L805.158 1445.72 L805.158 1170.23 L235.413 1170.23 L235.413 1170.23  Z\n",
       "  \" fill=\"#009af9\" fill-rule=\"evenodd\" fill-opacity=\"1\"/>\n",
       "<polyline clip-path=\"url(#clip062)\" style=\"stroke:#000000; stroke-linecap:butt; stroke-linejoin:round; stroke-width:4; stroke-opacity:1; fill:none\" points=\"\n",
       "  235.413,1170.23 235.413,1445.72 805.158,1445.72 805.158,1170.23 235.413,1170.23 \n",
       "  \"/>\n",
       "<path clip-path=\"url(#clip062)\" d=\"\n",
       "M235.413 1189.91 L235.413 1445.72 L805.158 1445.72 L805.158 1189.91 L235.413 1189.91 L235.413 1189.91  Z\n",
       "  \" fill=\"#009af9\" fill-rule=\"evenodd\" fill-opacity=\"1\"/>\n",
       "<polyline clip-path=\"url(#clip062)\" style=\"stroke:#000000; stroke-linecap:butt; stroke-linejoin:round; stroke-width:4; stroke-opacity:1; fill:none\" points=\"\n",
       "  235.413,1189.91 235.413,1445.72 805.158,1445.72 805.158,1189.91 235.413,1189.91 \n",
       "  \"/>\n",
       "<path clip-path=\"url(#clip062)\" d=\"\n",
       "M235.413 1150.55 L235.413 1445.72 L805.158 1445.72 L805.158 1150.55 L235.413 1150.55 L235.413 1150.55  Z\n",
       "  \" fill=\"#009af9\" fill-rule=\"evenodd\" fill-opacity=\"1\"/>\n",
       "<polyline clip-path=\"url(#clip062)\" style=\"stroke:#000000; stroke-linecap:butt; stroke-linejoin:round; stroke-width:4; stroke-opacity:1; fill:none\" points=\"\n",
       "  235.413,1150.55 235.413,1445.72 805.158,1445.72 805.158,1150.55 235.413,1150.55 \n",
       "  \"/>\n",
       "<path clip-path=\"url(#clip062)\" d=\"\n",
       "M235.413 1189.91 L235.413 1445.72 L805.158 1445.72 L805.158 1189.91 L235.413 1189.91 L235.413 1189.91  Z\n",
       "  \" fill=\"#009af9\" fill-rule=\"evenodd\" fill-opacity=\"1\"/>\n",
       "<polyline clip-path=\"url(#clip062)\" style=\"stroke:#000000; stroke-linecap:butt; stroke-linejoin:round; stroke-width:4; stroke-opacity:1; fill:none\" points=\"\n",
       "  235.413,1189.91 235.413,1445.72 805.158,1445.72 805.158,1189.91 235.413,1189.91 \n",
       "  \"/>\n",
       "<path clip-path=\"url(#clip062)\" d=\"\n",
       "M235.413 1189.91 L235.413 1445.72 L805.158 1445.72 L805.158 1189.91 L235.413 1189.91 L235.413 1189.91  Z\n",
       "  \" fill=\"#009af9\" fill-rule=\"evenodd\" fill-opacity=\"1\"/>\n",
       "<polyline clip-path=\"url(#clip062)\" style=\"stroke:#000000; stroke-linecap:butt; stroke-linejoin:round; stroke-width:4; stroke-opacity:1; fill:none\" points=\"\n",
       "  235.413,1189.91 235.413,1445.72 805.158,1445.72 805.158,1189.91 235.413,1189.91 \n",
       "  \"/>\n",
       "<path clip-path=\"url(#clip062)\" d=\"\n",
       "M235.413 1189.91 L235.413 1445.72 L805.158 1445.72 L805.158 1189.91 L235.413 1189.91 L235.413 1189.91  Z\n",
       "  \" fill=\"#009af9\" fill-rule=\"evenodd\" fill-opacity=\"1\"/>\n",
       "<polyline clip-path=\"url(#clip062)\" style=\"stroke:#000000; stroke-linecap:butt; stroke-linejoin:round; stroke-width:4; stroke-opacity:1; fill:none\" points=\"\n",
       "  235.413,1189.91 235.413,1445.72 805.158,1445.72 805.158,1189.91 235.413,1189.91 \n",
       "  \"/>\n",
       "<path clip-path=\"url(#clip062)\" d=\"\n",
       "M235.413 1130.88 L235.413 1445.72 L805.158 1445.72 L805.158 1130.88 L235.413 1130.88 L235.413 1130.88  Z\n",
       "  \" fill=\"#009af9\" fill-rule=\"evenodd\" fill-opacity=\"1\"/>\n",
       "<polyline clip-path=\"url(#clip062)\" style=\"stroke:#000000; stroke-linecap:butt; stroke-linejoin:round; stroke-width:4; stroke-opacity:1; fill:none\" points=\"\n",
       "  235.413,1130.88 235.413,1445.72 805.158,1445.72 805.158,1130.88 235.413,1130.88 \n",
       "  \"/>\n",
       "<path clip-path=\"url(#clip062)\" d=\"\n",
       "M235.413 1071.85 L235.413 1445.72 L805.158 1445.72 L805.158 1071.85 L235.413 1071.85 L235.413 1071.85  Z\n",
       "  \" fill=\"#009af9\" fill-rule=\"evenodd\" fill-opacity=\"1\"/>\n",
       "<polyline clip-path=\"url(#clip062)\" style=\"stroke:#000000; stroke-linecap:butt; stroke-linejoin:round; stroke-width:4; stroke-opacity:1; fill:none\" points=\"\n",
       "  235.413,1071.85 235.413,1445.72 805.158,1445.72 805.158,1071.85 235.413,1071.85 \n",
       "  \"/>\n",
       "<path clip-path=\"url(#clip062)\" d=\"\n",
       "M235.413 1170.23 L235.413 1445.72 L805.158 1445.72 L805.158 1170.23 L235.413 1170.23 L235.413 1170.23  Z\n",
       "  \" fill=\"#009af9\" fill-rule=\"evenodd\" fill-opacity=\"1\"/>\n",
       "<polyline clip-path=\"url(#clip062)\" style=\"stroke:#000000; stroke-linecap:butt; stroke-linejoin:round; stroke-width:4; stroke-opacity:1; fill:none\" points=\"\n",
       "  235.413,1170.23 235.413,1445.72 805.158,1445.72 805.158,1170.23 235.413,1170.23 \n",
       "  \"/>\n",
       "<path clip-path=\"url(#clip062)\" d=\"\n",
       "M235.413 1130.88 L235.413 1445.72 L805.158 1445.72 L805.158 1130.88 L235.413 1130.88 L235.413 1130.88  Z\n",
       "  \" fill=\"#009af9\" fill-rule=\"evenodd\" fill-opacity=\"1\"/>\n",
       "<polyline clip-path=\"url(#clip062)\" style=\"stroke:#000000; stroke-linecap:butt; stroke-linejoin:round; stroke-width:4; stroke-opacity:1; fill:none\" points=\"\n",
       "  235.413,1130.88 235.413,1445.72 805.158,1445.72 805.158,1130.88 235.413,1130.88 \n",
       "  \"/>\n",
       "<path clip-path=\"url(#clip062)\" d=\"\n",
       "M235.413 1170.23 L235.413 1445.72 L805.158 1445.72 L805.158 1170.23 L235.413 1170.23 L235.413 1170.23  Z\n",
       "  \" fill=\"#009af9\" fill-rule=\"evenodd\" fill-opacity=\"1\"/>\n",
       "<polyline clip-path=\"url(#clip062)\" style=\"stroke:#000000; stroke-linecap:butt; stroke-linejoin:round; stroke-width:4; stroke-opacity:1; fill:none\" points=\"\n",
       "  235.413,1170.23 235.413,1445.72 805.158,1445.72 805.158,1170.23 235.413,1170.23 \n",
       "  \"/>\n",
       "<path clip-path=\"url(#clip062)\" d=\"\n",
       "M235.413 1150.55 L235.413 1445.72 L805.158 1445.72 L805.158 1150.55 L235.413 1150.55 L235.413 1150.55  Z\n",
       "  \" fill=\"#009af9\" fill-rule=\"evenodd\" fill-opacity=\"1\"/>\n",
       "<polyline clip-path=\"url(#clip062)\" style=\"stroke:#000000; stroke-linecap:butt; stroke-linejoin:round; stroke-width:4; stroke-opacity:1; fill:none\" points=\"\n",
       "  235.413,1150.55 235.413,1445.72 805.158,1445.72 805.158,1150.55 235.413,1150.55 \n",
       "  \"/>\n",
       "<path clip-path=\"url(#clip062)\" d=\"\n",
       "M235.413 1170.23 L235.413 1445.72 L805.158 1445.72 L805.158 1170.23 L235.413 1170.23 L235.413 1170.23  Z\n",
       "  \" fill=\"#009af9\" fill-rule=\"evenodd\" fill-opacity=\"1\"/>\n",
       "<polyline clip-path=\"url(#clip062)\" style=\"stroke:#000000; stroke-linecap:butt; stroke-linejoin:round; stroke-width:4; stroke-opacity:1; fill:none\" points=\"\n",
       "  235.413,1170.23 235.413,1445.72 805.158,1445.72 805.158,1170.23 235.413,1170.23 \n",
       "  \"/>\n",
       "<path clip-path=\"url(#clip062)\" d=\"\n",
       "M947.594 520.879 L947.594 1445.72 L1517.34 1445.72 L1517.34 520.879 L947.594 520.879 L947.594 520.879  Z\n",
       "  \" fill=\"#009af9\" fill-rule=\"evenodd\" fill-opacity=\"1\"/>\n",
       "<polyline clip-path=\"url(#clip062)\" style=\"stroke:#000000; stroke-linecap:butt; stroke-linejoin:round; stroke-width:4; stroke-opacity:1; fill:none\" points=\"\n",
       "  947.594,520.879 947.594,1445.72 1517.34,1445.72 1517.34,520.879 947.594,520.879 \n",
       "  \"/>\n",
       "<path clip-path=\"url(#clip062)\" d=\"\n",
       "M947.594 560.233 L947.594 1445.72 L1517.34 1445.72 L1517.34 560.233 L947.594 560.233 L947.594 560.233  Z\n",
       "  \" fill=\"#009af9\" fill-rule=\"evenodd\" fill-opacity=\"1\"/>\n",
       "<polyline clip-path=\"url(#clip062)\" style=\"stroke:#000000; stroke-linecap:butt; stroke-linejoin:round; stroke-width:4; stroke-opacity:1; fill:none\" points=\"\n",
       "  947.594,560.233 947.594,1445.72 1517.34,1445.72 1517.34,560.233 947.594,560.233 \n",
       "  \"/>\n",
       "<path clip-path=\"url(#clip062)\" d=\"\n",
       "M947.594 481.524 L947.594 1445.72 L1517.34 1445.72 L1517.34 481.524 L947.594 481.524 L947.594 481.524  Z\n",
       "  \" fill=\"#009af9\" fill-rule=\"evenodd\" fill-opacity=\"1\"/>\n",
       "<polyline clip-path=\"url(#clip062)\" style=\"stroke:#000000; stroke-linecap:butt; stroke-linejoin:round; stroke-width:4; stroke-opacity:1; fill:none\" points=\"\n",
       "  947.594,481.524 947.594,1445.72 1517.34,1445.72 1517.34,481.524 947.594,481.524 \n",
       "  \"/>\n",
       "<path clip-path=\"url(#clip062)\" d=\"\n",
       "M947.594 658.62 L947.594 1445.72 L1517.34 1445.72 L1517.34 658.62 L947.594 658.62 L947.594 658.62  Z\n",
       "  \" fill=\"#009af9\" fill-rule=\"evenodd\" fill-opacity=\"1\"/>\n",
       "<polyline clip-path=\"url(#clip062)\" style=\"stroke:#000000; stroke-linecap:butt; stroke-linejoin:round; stroke-width:4; stroke-opacity:1; fill:none\" points=\"\n",
       "  947.594,658.62 947.594,1445.72 1517.34,1445.72 1517.34,658.62 947.594,658.62 \n",
       "  \"/>\n",
       "<path clip-path=\"url(#clip062)\" d=\"\n",
       "M947.594 540.556 L947.594 1445.72 L1517.34 1445.72 L1517.34 540.556 L947.594 540.556 L947.594 540.556  Z\n",
       "  \" fill=\"#009af9\" fill-rule=\"evenodd\" fill-opacity=\"1\"/>\n",
       "<polyline clip-path=\"url(#clip062)\" style=\"stroke:#000000; stroke-linecap:butt; stroke-linejoin:round; stroke-width:4; stroke-opacity:1; fill:none\" points=\"\n",
       "  947.594,540.556 947.594,1445.72 1517.34,1445.72 1517.34,540.556 947.594,540.556 \n",
       "  \"/>\n",
       "<path clip-path=\"url(#clip062)\" d=\"\n",
       "M947.594 560.233 L947.594 1445.72 L1517.34 1445.72 L1517.34 560.233 L947.594 560.233 L947.594 560.233  Z\n",
       "  \" fill=\"#009af9\" fill-rule=\"evenodd\" fill-opacity=\"1\"/>\n",
       "<polyline clip-path=\"url(#clip062)\" style=\"stroke:#000000; stroke-linecap:butt; stroke-linejoin:round; stroke-width:4; stroke-opacity:1; fill:none\" points=\"\n",
       "  947.594,560.233 947.594,1445.72 1517.34,1445.72 1517.34,560.233 947.594,560.233 \n",
       "  \"/>\n",
       "<path clip-path=\"url(#clip062)\" d=\"\n",
       "M947.594 520.879 L947.594 1445.72 L1517.34 1445.72 L1517.34 520.879 L947.594 520.879 L947.594 520.879  Z\n",
       "  \" fill=\"#009af9\" fill-rule=\"evenodd\" fill-opacity=\"1\"/>\n",
       "<polyline clip-path=\"url(#clip062)\" style=\"stroke:#000000; stroke-linecap:butt; stroke-linejoin:round; stroke-width:4; stroke-opacity:1; fill:none\" points=\"\n",
       "  947.594,520.879 947.594,1445.72 1517.34,1445.72 1517.34,520.879 947.594,520.879 \n",
       "  \"/>\n",
       "<path clip-path=\"url(#clip062)\" d=\"\n",
       "M947.594 796.362 L947.594 1445.72 L1517.34 1445.72 L1517.34 796.362 L947.594 796.362 L947.594 796.362  Z\n",
       "  \" fill=\"#009af9\" fill-rule=\"evenodd\" fill-opacity=\"1\"/>\n",
       "<polyline clip-path=\"url(#clip062)\" style=\"stroke:#000000; stroke-linecap:butt; stroke-linejoin:round; stroke-width:4; stroke-opacity:1; fill:none\" points=\"\n",
       "  947.594,796.362 947.594,1445.72 1517.34,1445.72 1517.34,796.362 947.594,796.362 \n",
       "  \"/>\n",
       "<path clip-path=\"url(#clip062)\" d=\"\n",
       "M947.594 540.556 L947.594 1445.72 L1517.34 1445.72 L1517.34 540.556 L947.594 540.556 L947.594 540.556  Z\n",
       "  \" fill=\"#009af9\" fill-rule=\"evenodd\" fill-opacity=\"1\"/>\n",
       "<polyline clip-path=\"url(#clip062)\" style=\"stroke:#000000; stroke-linecap:butt; stroke-linejoin:round; stroke-width:4; stroke-opacity:1; fill:none\" points=\"\n",
       "  947.594,540.556 947.594,1445.72 1517.34,1445.72 1517.34,540.556 947.594,540.556 \n",
       "  \"/>\n",
       "<path clip-path=\"url(#clip062)\" d=\"\n",
       "M947.594 678.298 L947.594 1445.72 L1517.34 1445.72 L1517.34 678.298 L947.594 678.298 L947.594 678.298  Z\n",
       "  \" fill=\"#009af9\" fill-rule=\"evenodd\" fill-opacity=\"1\"/>\n",
       "<polyline clip-path=\"url(#clip062)\" style=\"stroke:#000000; stroke-linecap:butt; stroke-linejoin:round; stroke-width:4; stroke-opacity:1; fill:none\" points=\"\n",
       "  947.594,678.298 947.594,1445.72 1517.34,1445.72 1517.34,678.298 947.594,678.298 \n",
       "  \"/>\n",
       "<path clip-path=\"url(#clip062)\" d=\"\n",
       "M947.594 757.007 L947.594 1445.72 L1517.34 1445.72 L1517.34 757.007 L947.594 757.007 L947.594 757.007  Z\n",
       "  \" fill=\"#009af9\" fill-rule=\"evenodd\" fill-opacity=\"1\"/>\n",
       "<polyline clip-path=\"url(#clip062)\" style=\"stroke:#000000; stroke-linecap:butt; stroke-linejoin:round; stroke-width:4; stroke-opacity:1; fill:none\" points=\"\n",
       "  947.594,757.007 947.594,1445.72 1517.34,1445.72 1517.34,757.007 947.594,757.007 \n",
       "  \"/>\n",
       "<path clip-path=\"url(#clip062)\" d=\"\n",
       "M947.594 619.266 L947.594 1445.72 L1517.34 1445.72 L1517.34 619.266 L947.594 619.266 L947.594 619.266  Z\n",
       "  \" fill=\"#009af9\" fill-rule=\"evenodd\" fill-opacity=\"1\"/>\n",
       "<polyline clip-path=\"url(#clip062)\" style=\"stroke:#000000; stroke-linecap:butt; stroke-linejoin:round; stroke-width:4; stroke-opacity:1; fill:none\" points=\"\n",
       "  947.594,619.266 947.594,1445.72 1517.34,1445.72 1517.34,619.266 947.594,619.266 \n",
       "  \"/>\n",
       "<path clip-path=\"url(#clip062)\" d=\"\n",
       "M947.594 658.62 L947.594 1445.72 L1517.34 1445.72 L1517.34 658.62 L947.594 658.62 L947.594 658.62  Z\n",
       "  \" fill=\"#009af9\" fill-rule=\"evenodd\" fill-opacity=\"1\"/>\n",
       "<polyline clip-path=\"url(#clip062)\" style=\"stroke:#000000; stroke-linecap:butt; stroke-linejoin:round; stroke-width:4; stroke-opacity:1; fill:none\" points=\"\n",
       "  947.594,658.62 947.594,1445.72 1517.34,1445.72 1517.34,658.62 947.594,658.62 \n",
       "  \"/>\n",
       "<path clip-path=\"url(#clip062)\" d=\"\n",
       "M947.594 520.879 L947.594 1445.72 L1517.34 1445.72 L1517.34 520.879 L947.594 520.879 L947.594 520.879  Z\n",
       "  \" fill=\"#009af9\" fill-rule=\"evenodd\" fill-opacity=\"1\"/>\n",
       "<polyline clip-path=\"url(#clip062)\" style=\"stroke:#000000; stroke-linecap:butt; stroke-linejoin:round; stroke-width:4; stroke-opacity:1; fill:none\" points=\"\n",
       "  947.594,520.879 947.594,1445.72 1517.34,1445.72 1517.34,520.879 947.594,520.879 \n",
       "  \"/>\n",
       "<path clip-path=\"url(#clip062)\" d=\"\n",
       "M947.594 737.33 L947.594 1445.72 L1517.34 1445.72 L1517.34 737.33 L947.594 737.33 L947.594 737.33  Z\n",
       "  \" fill=\"#009af9\" fill-rule=\"evenodd\" fill-opacity=\"1\"/>\n",
       "<polyline clip-path=\"url(#clip062)\" style=\"stroke:#000000; stroke-linecap:butt; stroke-linejoin:round; stroke-width:4; stroke-opacity:1; fill:none\" points=\"\n",
       "  947.594,737.33 947.594,1445.72 1517.34,1445.72 1517.34,737.33 947.594,737.33 \n",
       "  \"/>\n",
       "<path clip-path=\"url(#clip062)\" d=\"\n",
       "M947.594 579.911 L947.594 1445.72 L1517.34 1445.72 L1517.34 579.911 L947.594 579.911 L947.594 579.911  Z\n",
       "  \" fill=\"#009af9\" fill-rule=\"evenodd\" fill-opacity=\"1\"/>\n",
       "<polyline clip-path=\"url(#clip062)\" style=\"stroke:#000000; stroke-linecap:butt; stroke-linejoin:round; stroke-width:4; stroke-opacity:1; fill:none\" points=\"\n",
       "  947.594,579.911 947.594,1445.72 1517.34,1445.72 1517.34,579.911 947.594,579.911 \n",
       "  \"/>\n",
       "<path clip-path=\"url(#clip062)\" d=\"\n",
       "M947.594 560.233 L947.594 1445.72 L1517.34 1445.72 L1517.34 560.233 L947.594 560.233 L947.594 560.233  Z\n",
       "  \" fill=\"#009af9\" fill-rule=\"evenodd\" fill-opacity=\"1\"/>\n",
       "<polyline clip-path=\"url(#clip062)\" style=\"stroke:#000000; stroke-linecap:butt; stroke-linejoin:round; stroke-width:4; stroke-opacity:1; fill:none\" points=\"\n",
       "  947.594,560.233 947.594,1445.72 1517.34,1445.72 1517.34,560.233 947.594,560.233 \n",
       "  \"/>\n",
       "<path clip-path=\"url(#clip062)\" d=\"\n",
       "M947.594 638.943 L947.594 1445.72 L1517.34 1445.72 L1517.34 638.943 L947.594 638.943 L947.594 638.943  Z\n",
       "  \" fill=\"#009af9\" fill-rule=\"evenodd\" fill-opacity=\"1\"/>\n",
       "<polyline clip-path=\"url(#clip062)\" style=\"stroke:#000000; stroke-linecap:butt; stroke-linejoin:round; stroke-width:4; stroke-opacity:1; fill:none\" points=\"\n",
       "  947.594,638.943 947.594,1445.72 1517.34,1445.72 1517.34,638.943 947.594,638.943 \n",
       "  \"/>\n",
       "<path clip-path=\"url(#clip062)\" d=\"\n",
       "M947.594 560.233 L947.594 1445.72 L1517.34 1445.72 L1517.34 560.233 L947.594 560.233 L947.594 560.233  Z\n",
       "  \" fill=\"#009af9\" fill-rule=\"evenodd\" fill-opacity=\"1\"/>\n",
       "<polyline clip-path=\"url(#clip062)\" style=\"stroke:#000000; stroke-linecap:butt; stroke-linejoin:round; stroke-width:4; stroke-opacity:1; fill:none\" points=\"\n",
       "  947.594,560.233 947.594,1445.72 1517.34,1445.72 1517.34,560.233 947.594,560.233 \n",
       "  \"/>\n",
       "<path clip-path=\"url(#clip062)\" d=\"\n",
       "M947.594 678.298 L947.594 1445.72 L1517.34 1445.72 L1517.34 678.298 L947.594 678.298 L947.594 678.298  Z\n",
       "  \" fill=\"#009af9\" fill-rule=\"evenodd\" fill-opacity=\"1\"/>\n",
       "<polyline clip-path=\"url(#clip062)\" style=\"stroke:#000000; stroke-linecap:butt; stroke-linejoin:round; stroke-width:4; stroke-opacity:1; fill:none\" points=\"\n",
       "  947.594,678.298 947.594,1445.72 1517.34,1445.72 1517.34,678.298 947.594,678.298 \n",
       "  \"/>\n",
       "<path clip-path=\"url(#clip062)\" d=\"\n",
       "M947.594 501.201 L947.594 1445.72 L1517.34 1445.72 L1517.34 501.201 L947.594 501.201 L947.594 501.201  Z\n",
       "  \" fill=\"#009af9\" fill-rule=\"evenodd\" fill-opacity=\"1\"/>\n",
       "<polyline clip-path=\"url(#clip062)\" style=\"stroke:#000000; stroke-linecap:butt; stroke-linejoin:round; stroke-width:4; stroke-opacity:1; fill:none\" points=\"\n",
       "  947.594,501.201 947.594,1445.72 1517.34,1445.72 1517.34,501.201 947.594,501.201 \n",
       "  \"/>\n",
       "<path clip-path=\"url(#clip062)\" d=\"\n",
       "M947.594 658.62 L947.594 1445.72 L1517.34 1445.72 L1517.34 658.62 L947.594 658.62 L947.594 658.62  Z\n",
       "  \" fill=\"#009af9\" fill-rule=\"evenodd\" fill-opacity=\"1\"/>\n",
       "<polyline clip-path=\"url(#clip062)\" style=\"stroke:#000000; stroke-linecap:butt; stroke-linejoin:round; stroke-width:4; stroke-opacity:1; fill:none\" points=\"\n",
       "  947.594,658.62 947.594,1445.72 1517.34,1445.72 1517.34,658.62 947.594,658.62 \n",
       "  \"/>\n",
       "<path clip-path=\"url(#clip062)\" d=\"\n",
       "M947.594 481.524 L947.594 1445.72 L1517.34 1445.72 L1517.34 481.524 L947.594 481.524 L947.594 481.524  Z\n",
       "  \" fill=\"#009af9\" fill-rule=\"evenodd\" fill-opacity=\"1\"/>\n",
       "<polyline clip-path=\"url(#clip062)\" style=\"stroke:#000000; stroke-linecap:butt; stroke-linejoin:round; stroke-width:4; stroke-opacity:1; fill:none\" points=\"\n",
       "  947.594,481.524 947.594,1445.72 1517.34,1445.72 1517.34,481.524 947.594,481.524 \n",
       "  \"/>\n",
       "<path clip-path=\"url(#clip062)\" d=\"\n",
       "M947.594 520.879 L947.594 1445.72 L1517.34 1445.72 L1517.34 520.879 L947.594 520.879 L947.594 520.879  Z\n",
       "  \" fill=\"#009af9\" fill-rule=\"evenodd\" fill-opacity=\"1\"/>\n",
       "<polyline clip-path=\"url(#clip062)\" style=\"stroke:#000000; stroke-linecap:butt; stroke-linejoin:round; stroke-width:4; stroke-opacity:1; fill:none\" points=\"\n",
       "  947.594,520.879 947.594,1445.72 1517.34,1445.72 1517.34,520.879 947.594,520.879 \n",
       "  \"/>\n",
       "<path clip-path=\"url(#clip062)\" d=\"\n",
       "M947.594 599.588 L947.594 1445.72 L1517.34 1445.72 L1517.34 599.588 L947.594 599.588 L947.594 599.588  Z\n",
       "  \" fill=\"#009af9\" fill-rule=\"evenodd\" fill-opacity=\"1\"/>\n",
       "<polyline clip-path=\"url(#clip062)\" style=\"stroke:#000000; stroke-linecap:butt; stroke-linejoin:round; stroke-width:4; stroke-opacity:1; fill:none\" points=\"\n",
       "  947.594,599.588 947.594,1445.72 1517.34,1445.72 1517.34,599.588 947.594,599.588 \n",
       "  \"/>\n",
       "<path clip-path=\"url(#clip062)\" d=\"\n",
       "M947.594 579.911 L947.594 1445.72 L1517.34 1445.72 L1517.34 579.911 L947.594 579.911 L947.594 579.911  Z\n",
       "  \" fill=\"#009af9\" fill-rule=\"evenodd\" fill-opacity=\"1\"/>\n",
       "<polyline clip-path=\"url(#clip062)\" style=\"stroke:#000000; stroke-linecap:butt; stroke-linejoin:round; stroke-width:4; stroke-opacity:1; fill:none\" points=\"\n",
       "  947.594,579.911 947.594,1445.72 1517.34,1445.72 1517.34,579.911 947.594,579.911 \n",
       "  \"/>\n",
       "<path clip-path=\"url(#clip062)\" d=\"\n",
       "M947.594 501.201 L947.594 1445.72 L1517.34 1445.72 L1517.34 501.201 L947.594 501.201 L947.594 501.201  Z\n",
       "  \" fill=\"#009af9\" fill-rule=\"evenodd\" fill-opacity=\"1\"/>\n",
       "<polyline clip-path=\"url(#clip062)\" style=\"stroke:#000000; stroke-linecap:butt; stroke-linejoin:round; stroke-width:4; stroke-opacity:1; fill:none\" points=\"\n",
       "  947.594,501.201 947.594,1445.72 1517.34,1445.72 1517.34,501.201 947.594,501.201 \n",
       "  \"/>\n",
       "<path clip-path=\"url(#clip062)\" d=\"\n",
       "M947.594 461.847 L947.594 1445.72 L1517.34 1445.72 L1517.34 461.847 L947.594 461.847 L947.594 461.847  Z\n",
       "  \" fill=\"#009af9\" fill-rule=\"evenodd\" fill-opacity=\"1\"/>\n",
       "<polyline clip-path=\"url(#clip062)\" style=\"stroke:#000000; stroke-linecap:butt; stroke-linejoin:round; stroke-width:4; stroke-opacity:1; fill:none\" points=\"\n",
       "  947.594,461.847 947.594,1445.72 1517.34,1445.72 1517.34,461.847 947.594,461.847 \n",
       "  \"/>\n",
       "<path clip-path=\"url(#clip062)\" d=\"\n",
       "M947.594 560.233 L947.594 1445.72 L1517.34 1445.72 L1517.34 560.233 L947.594 560.233 L947.594 560.233  Z\n",
       "  \" fill=\"#009af9\" fill-rule=\"evenodd\" fill-opacity=\"1\"/>\n",
       "<polyline clip-path=\"url(#clip062)\" style=\"stroke:#000000; stroke-linecap:butt; stroke-linejoin:round; stroke-width:4; stroke-opacity:1; fill:none\" points=\"\n",
       "  947.594,560.233 947.594,1445.72 1517.34,1445.72 1517.34,560.233 947.594,560.233 \n",
       "  \"/>\n",
       "<path clip-path=\"url(#clip062)\" d=\"\n",
       "M947.594 757.007 L947.594 1445.72 L1517.34 1445.72 L1517.34 757.007 L947.594 757.007 L947.594 757.007  Z\n",
       "  \" fill=\"#009af9\" fill-rule=\"evenodd\" fill-opacity=\"1\"/>\n",
       "<polyline clip-path=\"url(#clip062)\" style=\"stroke:#000000; stroke-linecap:butt; stroke-linejoin:round; stroke-width:4; stroke-opacity:1; fill:none\" points=\"\n",
       "  947.594,757.007 947.594,1445.72 1517.34,1445.72 1517.34,757.007 947.594,757.007 \n",
       "  \"/>\n",
       "<path clip-path=\"url(#clip062)\" d=\"\n",
       "M947.594 697.975 L947.594 1445.72 L1517.34 1445.72 L1517.34 697.975 L947.594 697.975 L947.594 697.975  Z\n",
       "  \" fill=\"#009af9\" fill-rule=\"evenodd\" fill-opacity=\"1\"/>\n",
       "<polyline clip-path=\"url(#clip062)\" style=\"stroke:#000000; stroke-linecap:butt; stroke-linejoin:round; stroke-width:4; stroke-opacity:1; fill:none\" points=\"\n",
       "  947.594,697.975 947.594,1445.72 1517.34,1445.72 1517.34,697.975 947.594,697.975 \n",
       "  \"/>\n",
       "<path clip-path=\"url(#clip062)\" d=\"\n",
       "M947.594 717.653 L947.594 1445.72 L1517.34 1445.72 L1517.34 717.653 L947.594 717.653 L947.594 717.653  Z\n",
       "  \" fill=\"#009af9\" fill-rule=\"evenodd\" fill-opacity=\"1\"/>\n",
       "<polyline clip-path=\"url(#clip062)\" style=\"stroke:#000000; stroke-linecap:butt; stroke-linejoin:round; stroke-width:4; stroke-opacity:1; fill:none\" points=\"\n",
       "  947.594,717.653 947.594,1445.72 1517.34,1445.72 1517.34,717.653 947.594,717.653 \n",
       "  \"/>\n",
       "<path clip-path=\"url(#clip062)\" d=\"\n",
       "M947.594 678.298 L947.594 1445.72 L1517.34 1445.72 L1517.34 678.298 L947.594 678.298 L947.594 678.298  Z\n",
       "  \" fill=\"#009af9\" fill-rule=\"evenodd\" fill-opacity=\"1\"/>\n",
       "<polyline clip-path=\"url(#clip062)\" style=\"stroke:#000000; stroke-linecap:butt; stroke-linejoin:round; stroke-width:4; stroke-opacity:1; fill:none\" points=\"\n",
       "  947.594,678.298 947.594,1445.72 1517.34,1445.72 1517.34,678.298 947.594,678.298 \n",
       "  \"/>\n",
       "<path clip-path=\"url(#clip062)\" d=\"\n",
       "M947.594 442.169 L947.594 1445.72 L1517.34 1445.72 L1517.34 442.169 L947.594 442.169 L947.594 442.169  Z\n",
       "  \" fill=\"#009af9\" fill-rule=\"evenodd\" fill-opacity=\"1\"/>\n",
       "<polyline clip-path=\"url(#clip062)\" style=\"stroke:#000000; stroke-linecap:butt; stroke-linejoin:round; stroke-width:4; stroke-opacity:1; fill:none\" points=\"\n",
       "  947.594,442.169 947.594,1445.72 1517.34,1445.72 1517.34,442.169 947.594,442.169 \n",
       "  \"/>\n",
       "<path clip-path=\"url(#clip062)\" d=\"\n",
       "M947.594 560.233 L947.594 1445.72 L1517.34 1445.72 L1517.34 560.233 L947.594 560.233 L947.594 560.233  Z\n",
       "  \" fill=\"#009af9\" fill-rule=\"evenodd\" fill-opacity=\"1\"/>\n",
       "<polyline clip-path=\"url(#clip062)\" style=\"stroke:#000000; stroke-linecap:butt; stroke-linejoin:round; stroke-width:4; stroke-opacity:1; fill:none\" points=\"\n",
       "  947.594,560.233 947.594,1445.72 1517.34,1445.72 1517.34,560.233 947.594,560.233 \n",
       "  \"/>\n",
       "<path clip-path=\"url(#clip062)\" d=\"\n",
       "M947.594 560.233 L947.594 1445.72 L1517.34 1445.72 L1517.34 560.233 L947.594 560.233 L947.594 560.233  Z\n",
       "  \" fill=\"#009af9\" fill-rule=\"evenodd\" fill-opacity=\"1\"/>\n",
       "<polyline clip-path=\"url(#clip062)\" style=\"stroke:#000000; stroke-linecap:butt; stroke-linejoin:round; stroke-width:4; stroke-opacity:1; fill:none\" points=\"\n",
       "  947.594,560.233 947.594,1445.72 1517.34,1445.72 1517.34,560.233 947.594,560.233 \n",
       "  \"/>\n",
       "<path clip-path=\"url(#clip062)\" d=\"\n",
       "M947.594 520.879 L947.594 1445.72 L1517.34 1445.72 L1517.34 520.879 L947.594 520.879 L947.594 520.879  Z\n",
       "  \" fill=\"#009af9\" fill-rule=\"evenodd\" fill-opacity=\"1\"/>\n",
       "<polyline clip-path=\"url(#clip062)\" style=\"stroke:#000000; stroke-linecap:butt; stroke-linejoin:round; stroke-width:4; stroke-opacity:1; fill:none\" points=\"\n",
       "  947.594,520.879 947.594,1445.72 1517.34,1445.72 1517.34,520.879 947.594,520.879 \n",
       "  \"/>\n",
       "<path clip-path=\"url(#clip062)\" d=\"\n",
       "M947.594 579.911 L947.594 1445.72 L1517.34 1445.72 L1517.34 579.911 L947.594 579.911 L947.594 579.911  Z\n",
       "  \" fill=\"#009af9\" fill-rule=\"evenodd\" fill-opacity=\"1\"/>\n",
       "<polyline clip-path=\"url(#clip062)\" style=\"stroke:#000000; stroke-linecap:butt; stroke-linejoin:round; stroke-width:4; stroke-opacity:1; fill:none\" points=\"\n",
       "  947.594,579.911 947.594,1445.72 1517.34,1445.72 1517.34,579.911 947.594,579.911 \n",
       "  \"/>\n",
       "<path clip-path=\"url(#clip062)\" d=\"\n",
       "M947.594 638.943 L947.594 1445.72 L1517.34 1445.72 L1517.34 638.943 L947.594 638.943 L947.594 638.943  Z\n",
       "  \" fill=\"#009af9\" fill-rule=\"evenodd\" fill-opacity=\"1\"/>\n",
       "<polyline clip-path=\"url(#clip062)\" style=\"stroke:#000000; stroke-linecap:butt; stroke-linejoin:round; stroke-width:4; stroke-opacity:1; fill:none\" points=\"\n",
       "  947.594,638.943 947.594,1445.72 1517.34,1445.72 1517.34,638.943 947.594,638.943 \n",
       "  \"/>\n",
       "<path clip-path=\"url(#clip062)\" d=\"\n",
       "M947.594 658.62 L947.594 1445.72 L1517.34 1445.72 L1517.34 658.62 L947.594 658.62 L947.594 658.62  Z\n",
       "  \" fill=\"#009af9\" fill-rule=\"evenodd\" fill-opacity=\"1\"/>\n",
       "<polyline clip-path=\"url(#clip062)\" style=\"stroke:#000000; stroke-linecap:butt; stroke-linejoin:round; stroke-width:4; stroke-opacity:1; fill:none\" points=\"\n",
       "  947.594,658.62 947.594,1445.72 1517.34,1445.72 1517.34,658.62 947.594,658.62 \n",
       "  \"/>\n",
       "<path clip-path=\"url(#clip062)\" d=\"\n",
       "M947.594 579.911 L947.594 1445.72 L1517.34 1445.72 L1517.34 579.911 L947.594 579.911 L947.594 579.911  Z\n",
       "  \" fill=\"#009af9\" fill-rule=\"evenodd\" fill-opacity=\"1\"/>\n",
       "<polyline clip-path=\"url(#clip062)\" style=\"stroke:#000000; stroke-linecap:butt; stroke-linejoin:round; stroke-width:4; stroke-opacity:1; fill:none\" points=\"\n",
       "  947.594,579.911 947.594,1445.72 1517.34,1445.72 1517.34,579.911 947.594,579.911 \n",
       "  \"/>\n",
       "<path clip-path=\"url(#clip062)\" d=\"\n",
       "M947.594 540.556 L947.594 1445.72 L1517.34 1445.72 L1517.34 540.556 L947.594 540.556 L947.594 540.556  Z\n",
       "  \" fill=\"#009af9\" fill-rule=\"evenodd\" fill-opacity=\"1\"/>\n",
       "<polyline clip-path=\"url(#clip062)\" style=\"stroke:#000000; stroke-linecap:butt; stroke-linejoin:round; stroke-width:4; stroke-opacity:1; fill:none\" points=\"\n",
       "  947.594,540.556 947.594,1445.72 1517.34,1445.72 1517.34,540.556 947.594,540.556 \n",
       "  \"/>\n",
       "<path clip-path=\"url(#clip062)\" d=\"\n",
       "M947.594 658.62 L947.594 1445.72 L1517.34 1445.72 L1517.34 658.62 L947.594 658.62 L947.594 658.62  Z\n",
       "  \" fill=\"#009af9\" fill-rule=\"evenodd\" fill-opacity=\"1\"/>\n",
       "<polyline clip-path=\"url(#clip062)\" style=\"stroke:#000000; stroke-linecap:butt; stroke-linejoin:round; stroke-width:4; stroke-opacity:1; fill:none\" points=\"\n",
       "  947.594,658.62 947.594,1445.72 1517.34,1445.72 1517.34,658.62 947.594,658.62 \n",
       "  \"/>\n",
       "<path clip-path=\"url(#clip062)\" d=\"\n",
       "M947.594 796.362 L947.594 1445.72 L1517.34 1445.72 L1517.34 796.362 L947.594 796.362 L947.594 796.362  Z\n",
       "  \" fill=\"#009af9\" fill-rule=\"evenodd\" fill-opacity=\"1\"/>\n",
       "<polyline clip-path=\"url(#clip062)\" style=\"stroke:#000000; stroke-linecap:butt; stroke-linejoin:round; stroke-width:4; stroke-opacity:1; fill:none\" points=\"\n",
       "  947.594,796.362 947.594,1445.72 1517.34,1445.72 1517.34,796.362 947.594,796.362 \n",
       "  \"/>\n",
       "<path clip-path=\"url(#clip062)\" d=\"\n",
       "M947.594 619.266 L947.594 1445.72 L1517.34 1445.72 L1517.34 619.266 L947.594 619.266 L947.594 619.266  Z\n",
       "  \" fill=\"#009af9\" fill-rule=\"evenodd\" fill-opacity=\"1\"/>\n",
       "<polyline clip-path=\"url(#clip062)\" style=\"stroke:#000000; stroke-linecap:butt; stroke-linejoin:round; stroke-width:4; stroke-opacity:1; fill:none\" points=\"\n",
       "  947.594,619.266 947.594,1445.72 1517.34,1445.72 1517.34,619.266 947.594,619.266 \n",
       "  \"/>\n",
       "<path clip-path=\"url(#clip062)\" d=\"\n",
       "M947.594 619.266 L947.594 1445.72 L1517.34 1445.72 L1517.34 619.266 L947.594 619.266 L947.594 619.266  Z\n",
       "  \" fill=\"#009af9\" fill-rule=\"evenodd\" fill-opacity=\"1\"/>\n",
       "<polyline clip-path=\"url(#clip062)\" style=\"stroke:#000000; stroke-linecap:butt; stroke-linejoin:round; stroke-width:4; stroke-opacity:1; fill:none\" points=\"\n",
       "  947.594,619.266 947.594,1445.72 1517.34,1445.72 1517.34,619.266 947.594,619.266 \n",
       "  \"/>\n",
       "<path clip-path=\"url(#clip062)\" d=\"\n",
       "M947.594 619.266 L947.594 1445.72 L1517.34 1445.72 L1517.34 619.266 L947.594 619.266 L947.594 619.266  Z\n",
       "  \" fill=\"#009af9\" fill-rule=\"evenodd\" fill-opacity=\"1\"/>\n",
       "<polyline clip-path=\"url(#clip062)\" style=\"stroke:#000000; stroke-linecap:butt; stroke-linejoin:round; stroke-width:4; stroke-opacity:1; fill:none\" points=\"\n",
       "  947.594,619.266 947.594,1445.72 1517.34,1445.72 1517.34,619.266 947.594,619.266 \n",
       "  \"/>\n",
       "<path clip-path=\"url(#clip062)\" d=\"\n",
       "M947.594 599.588 L947.594 1445.72 L1517.34 1445.72 L1517.34 599.588 L947.594 599.588 L947.594 599.588  Z\n",
       "  \" fill=\"#009af9\" fill-rule=\"evenodd\" fill-opacity=\"1\"/>\n",
       "<polyline clip-path=\"url(#clip062)\" style=\"stroke:#000000; stroke-linecap:butt; stroke-linejoin:round; stroke-width:4; stroke-opacity:1; fill:none\" points=\"\n",
       "  947.594,599.588 947.594,1445.72 1517.34,1445.72 1517.34,599.588 947.594,599.588 \n",
       "  \"/>\n",
       "<path clip-path=\"url(#clip062)\" d=\"\n",
       "M947.594 855.394 L947.594 1445.72 L1517.34 1445.72 L1517.34 855.394 L947.594 855.394 L947.594 855.394  Z\n",
       "  \" fill=\"#009af9\" fill-rule=\"evenodd\" fill-opacity=\"1\"/>\n",
       "<polyline clip-path=\"url(#clip062)\" style=\"stroke:#000000; stroke-linecap:butt; stroke-linejoin:round; stroke-width:4; stroke-opacity:1; fill:none\" points=\"\n",
       "  947.594,855.394 947.594,1445.72 1517.34,1445.72 1517.34,855.394 947.594,855.394 \n",
       "  \"/>\n",
       "<path clip-path=\"url(#clip062)\" d=\"\n",
       "M947.594 638.943 L947.594 1445.72 L1517.34 1445.72 L1517.34 638.943 L947.594 638.943 L947.594 638.943  Z\n",
       "  \" fill=\"#009af9\" fill-rule=\"evenodd\" fill-opacity=\"1\"/>\n",
       "<polyline clip-path=\"url(#clip062)\" style=\"stroke:#000000; stroke-linecap:butt; stroke-linejoin:round; stroke-width:4; stroke-opacity:1; fill:none\" points=\"\n",
       "  947.594,638.943 947.594,1445.72 1517.34,1445.72 1517.34,638.943 947.594,638.943 \n",
       "  \"/>\n",
       "<path clip-path=\"url(#clip062)\" d=\"\n",
       "M1659.78 265.073 L1659.78 1445.72 L2229.52 1445.72 L2229.52 265.073 L1659.78 265.073 L1659.78 265.073  Z\n",
       "  \" fill=\"#009af9\" fill-rule=\"evenodd\" fill-opacity=\"1\"/>\n",
       "<polyline clip-path=\"url(#clip062)\" style=\"stroke:#000000; stroke-linecap:butt; stroke-linejoin:round; stroke-width:4; stroke-opacity:1; fill:none\" points=\"\n",
       "  1659.78,265.073 1659.78,1445.72 2229.52,1445.72 2229.52,265.073 1659.78,265.073 \n",
       "  \"/>\n",
       "<path clip-path=\"url(#clip062)\" d=\"\n",
       "M1659.78 442.169 L1659.78 1445.72 L2229.52 1445.72 L2229.52 442.169 L1659.78 442.169 L1659.78 442.169  Z\n",
       "  \" fill=\"#009af9\" fill-rule=\"evenodd\" fill-opacity=\"1\"/>\n",
       "<polyline clip-path=\"url(#clip062)\" style=\"stroke:#000000; stroke-linecap:butt; stroke-linejoin:round; stroke-width:4; stroke-opacity:1; fill:none\" points=\"\n",
       "  1659.78,442.169 1659.78,1445.72 2229.52,1445.72 2229.52,442.169 1659.78,442.169 \n",
       "  \"/>\n",
       "<path clip-path=\"url(#clip062)\" d=\"\n",
       "M1659.78 284.75 L1659.78 1445.72 L2229.52 1445.72 L2229.52 284.75 L1659.78 284.75 L1659.78 284.75  Z\n",
       "  \" fill=\"#009af9\" fill-rule=\"evenodd\" fill-opacity=\"1\"/>\n",
       "<polyline clip-path=\"url(#clip062)\" style=\"stroke:#000000; stroke-linecap:butt; stroke-linejoin:round; stroke-width:4; stroke-opacity:1; fill:none\" points=\"\n",
       "  1659.78,284.75 1659.78,1445.72 2229.52,1445.72 2229.52,284.75 1659.78,284.75 \n",
       "  \"/>\n",
       "<path clip-path=\"url(#clip062)\" d=\"\n",
       "M1659.78 343.782 L1659.78 1445.72 L2229.52 1445.72 L2229.52 343.782 L1659.78 343.782 L1659.78 343.782  Z\n",
       "  \" fill=\"#009af9\" fill-rule=\"evenodd\" fill-opacity=\"1\"/>\n",
       "<polyline clip-path=\"url(#clip062)\" style=\"stroke:#000000; stroke-linecap:butt; stroke-linejoin:round; stroke-width:4; stroke-opacity:1; fill:none\" points=\"\n",
       "  1659.78,343.782 1659.78,1445.72 2229.52,1445.72 2229.52,343.782 1659.78,343.782 \n",
       "  \"/>\n",
       "<path clip-path=\"url(#clip062)\" d=\"\n",
       "M1659.78 304.427 L1659.78 1445.72 L2229.52 1445.72 L2229.52 304.427 L1659.78 304.427 L1659.78 304.427  Z\n",
       "  \" fill=\"#009af9\" fill-rule=\"evenodd\" fill-opacity=\"1\"/>\n",
       "<polyline clip-path=\"url(#clip062)\" style=\"stroke:#000000; stroke-linecap:butt; stroke-linejoin:round; stroke-width:4; stroke-opacity:1; fill:none\" points=\"\n",
       "  1659.78,304.427 1659.78,1445.72 2229.52,1445.72 2229.52,304.427 1659.78,304.427 \n",
       "  \"/>\n",
       "<path clip-path=\"url(#clip062)\" d=\"\n",
       "M1659.78 147.008 L1659.78 1445.72 L2229.52 1445.72 L2229.52 147.008 L1659.78 147.008 L1659.78 147.008  Z\n",
       "  \" fill=\"#009af9\" fill-rule=\"evenodd\" fill-opacity=\"1\"/>\n",
       "<polyline clip-path=\"url(#clip062)\" style=\"stroke:#000000; stroke-linecap:butt; stroke-linejoin:round; stroke-width:4; stroke-opacity:1; fill:none\" points=\"\n",
       "  1659.78,147.008 1659.78,1445.72 2229.52,1445.72 2229.52,147.008 1659.78,147.008 \n",
       "  \"/>\n",
       "<path clip-path=\"url(#clip062)\" d=\"\n",
       "M1659.78 560.233 L1659.78 1445.72 L2229.52 1445.72 L2229.52 560.233 L1659.78 560.233 L1659.78 560.233  Z\n",
       "  \" fill=\"#009af9\" fill-rule=\"evenodd\" fill-opacity=\"1\"/>\n",
       "<polyline clip-path=\"url(#clip062)\" style=\"stroke:#000000; stroke-linecap:butt; stroke-linejoin:round; stroke-width:4; stroke-opacity:1; fill:none\" points=\"\n",
       "  1659.78,560.233 1659.78,1445.72 2229.52,1445.72 2229.52,560.233 1659.78,560.233 \n",
       "  \"/>\n",
       "<path clip-path=\"url(#clip062)\" d=\"\n",
       "M1659.78 206.041 L1659.78 1445.72 L2229.52 1445.72 L2229.52 206.041 L1659.78 206.041 L1659.78 206.041  Z\n",
       "  \" fill=\"#009af9\" fill-rule=\"evenodd\" fill-opacity=\"1\"/>\n",
       "<polyline clip-path=\"url(#clip062)\" style=\"stroke:#000000; stroke-linecap:butt; stroke-linejoin:round; stroke-width:4; stroke-opacity:1; fill:none\" points=\"\n",
       "  1659.78,206.041 1659.78,1445.72 2229.52,1445.72 2229.52,206.041 1659.78,206.041 \n",
       "  \"/>\n",
       "<path clip-path=\"url(#clip062)\" d=\"\n",
       "M1659.78 304.427 L1659.78 1445.72 L2229.52 1445.72 L2229.52 304.427 L1659.78 304.427 L1659.78 304.427  Z\n",
       "  \" fill=\"#009af9\" fill-rule=\"evenodd\" fill-opacity=\"1\"/>\n",
       "<polyline clip-path=\"url(#clip062)\" style=\"stroke:#000000; stroke-linecap:butt; stroke-linejoin:round; stroke-width:4; stroke-opacity:1; fill:none\" points=\"\n",
       "  1659.78,304.427 1659.78,1445.72 2229.52,1445.72 2229.52,304.427 1659.78,304.427 \n",
       "  \"/>\n",
       "<path clip-path=\"url(#clip062)\" d=\"\n",
       "M1659.78 245.395 L1659.78 1445.72 L2229.52 1445.72 L2229.52 245.395 L1659.78 245.395 L1659.78 245.395  Z\n",
       "  \" fill=\"#009af9\" fill-rule=\"evenodd\" fill-opacity=\"1\"/>\n",
       "<polyline clip-path=\"url(#clip062)\" style=\"stroke:#000000; stroke-linecap:butt; stroke-linejoin:round; stroke-width:4; stroke-opacity:1; fill:none\" points=\"\n",
       "  1659.78,245.395 1659.78,1445.72 2229.52,1445.72 2229.52,245.395 1659.78,245.395 \n",
       "  \"/>\n",
       "<path clip-path=\"url(#clip062)\" d=\"\n",
       "M1659.78 442.169 L1659.78 1445.72 L2229.52 1445.72 L2229.52 442.169 L1659.78 442.169 L1659.78 442.169  Z\n",
       "  \" fill=\"#009af9\" fill-rule=\"evenodd\" fill-opacity=\"1\"/>\n",
       "<polyline clip-path=\"url(#clip062)\" style=\"stroke:#000000; stroke-linecap:butt; stroke-linejoin:round; stroke-width:4; stroke-opacity:1; fill:none\" points=\"\n",
       "  1659.78,442.169 1659.78,1445.72 2229.52,1445.72 2229.52,442.169 1659.78,442.169 \n",
       "  \"/>\n",
       "<path clip-path=\"url(#clip062)\" d=\"\n",
       "M1659.78 402.814 L1659.78 1445.72 L2229.52 1445.72 L2229.52 402.814 L1659.78 402.814 L1659.78 402.814  Z\n",
       "  \" fill=\"#009af9\" fill-rule=\"evenodd\" fill-opacity=\"1\"/>\n",
       "<polyline clip-path=\"url(#clip062)\" style=\"stroke:#000000; stroke-linecap:butt; stroke-linejoin:round; stroke-width:4; stroke-opacity:1; fill:none\" points=\"\n",
       "  1659.78,402.814 1659.78,1445.72 2229.52,1445.72 2229.52,402.814 1659.78,402.814 \n",
       "  \"/>\n",
       "<path clip-path=\"url(#clip062)\" d=\"\n",
       "M1659.78 363.46 L1659.78 1445.72 L2229.52 1445.72 L2229.52 363.46 L1659.78 363.46 L1659.78 363.46  Z\n",
       "  \" fill=\"#009af9\" fill-rule=\"evenodd\" fill-opacity=\"1\"/>\n",
       "<polyline clip-path=\"url(#clip062)\" style=\"stroke:#000000; stroke-linecap:butt; stroke-linejoin:round; stroke-width:4; stroke-opacity:1; fill:none\" points=\"\n",
       "  1659.78,363.46 1659.78,1445.72 2229.52,1445.72 2229.52,363.46 1659.78,363.46 \n",
       "  \"/>\n",
       "<path clip-path=\"url(#clip062)\" d=\"\n",
       "M1659.78 461.847 L1659.78 1445.72 L2229.52 1445.72 L2229.52 461.847 L1659.78 461.847 L1659.78 461.847  Z\n",
       "  \" fill=\"#009af9\" fill-rule=\"evenodd\" fill-opacity=\"1\"/>\n",
       "<polyline clip-path=\"url(#clip062)\" style=\"stroke:#000000; stroke-linecap:butt; stroke-linejoin:round; stroke-width:4; stroke-opacity:1; fill:none\" points=\"\n",
       "  1659.78,461.847 1659.78,1445.72 2229.52,1445.72 2229.52,461.847 1659.78,461.847 \n",
       "  \"/>\n",
       "<path clip-path=\"url(#clip062)\" d=\"\n",
       "M1659.78 442.169 L1659.78 1445.72 L2229.52 1445.72 L2229.52 442.169 L1659.78 442.169 L1659.78 442.169  Z\n",
       "  \" fill=\"#009af9\" fill-rule=\"evenodd\" fill-opacity=\"1\"/>\n",
       "<polyline clip-path=\"url(#clip062)\" style=\"stroke:#000000; stroke-linecap:butt; stroke-linejoin:round; stroke-width:4; stroke-opacity:1; fill:none\" points=\"\n",
       "  1659.78,442.169 1659.78,1445.72 2229.52,1445.72 2229.52,442.169 1659.78,442.169 \n",
       "  \"/>\n",
       "<path clip-path=\"url(#clip062)\" d=\"\n",
       "M1659.78 402.814 L1659.78 1445.72 L2229.52 1445.72 L2229.52 402.814 L1659.78 402.814 L1659.78 402.814  Z\n",
       "  \" fill=\"#009af9\" fill-rule=\"evenodd\" fill-opacity=\"1\"/>\n",
       "<polyline clip-path=\"url(#clip062)\" style=\"stroke:#000000; stroke-linecap:butt; stroke-linejoin:round; stroke-width:4; stroke-opacity:1; fill:none\" points=\"\n",
       "  1659.78,402.814 1659.78,1445.72 2229.52,1445.72 2229.52,402.814 1659.78,402.814 \n",
       "  \"/>\n",
       "<path clip-path=\"url(#clip062)\" d=\"\n",
       "M1659.78 363.46 L1659.78 1445.72 L2229.52 1445.72 L2229.52 363.46 L1659.78 363.46 L1659.78 363.46  Z\n",
       "  \" fill=\"#009af9\" fill-rule=\"evenodd\" fill-opacity=\"1\"/>\n",
       "<polyline clip-path=\"url(#clip062)\" style=\"stroke:#000000; stroke-linecap:butt; stroke-linejoin:round; stroke-width:4; stroke-opacity:1; fill:none\" points=\"\n",
       "  1659.78,363.46 1659.78,1445.72 2229.52,1445.72 2229.52,363.46 1659.78,363.46 \n",
       "  \"/>\n",
       "<path clip-path=\"url(#clip062)\" d=\"\n",
       "M1659.78 127.331 L1659.78 1445.72 L2229.52 1445.72 L2229.52 127.331 L1659.78 127.331 L1659.78 127.331  Z\n",
       "  \" fill=\"#009af9\" fill-rule=\"evenodd\" fill-opacity=\"1\"/>\n",
       "<polyline clip-path=\"url(#clip062)\" style=\"stroke:#000000; stroke-linecap:butt; stroke-linejoin:round; stroke-width:4; stroke-opacity:1; fill:none\" points=\"\n",
       "  1659.78,127.331 1659.78,1445.72 2229.52,1445.72 2229.52,127.331 1659.78,127.331 \n",
       "  \"/>\n",
       "<path clip-path=\"url(#clip062)\" d=\"\n",
       "M1659.78 87.9763 L1659.78 1445.72 L2229.52 1445.72 L2229.52 87.9763 L1659.78 87.9763 L1659.78 87.9763  Z\n",
       "  \" fill=\"#009af9\" fill-rule=\"evenodd\" fill-opacity=\"1\"/>\n",
       "<polyline clip-path=\"url(#clip062)\" style=\"stroke:#000000; stroke-linecap:butt; stroke-linejoin:round; stroke-width:4; stroke-opacity:1; fill:none\" points=\"\n",
       "  1659.78,87.9763 1659.78,1445.72 2229.52,1445.72 2229.52,87.9763 1659.78,87.9763 \n",
       "  \"/>\n",
       "<path clip-path=\"url(#clip062)\" d=\"\n",
       "M1659.78 461.847 L1659.78 1445.72 L2229.52 1445.72 L2229.52 461.847 L1659.78 461.847 L1659.78 461.847  Z\n",
       "  \" fill=\"#009af9\" fill-rule=\"evenodd\" fill-opacity=\"1\"/>\n",
       "<polyline clip-path=\"url(#clip062)\" style=\"stroke:#000000; stroke-linecap:butt; stroke-linejoin:round; stroke-width:4; stroke-opacity:1; fill:none\" points=\"\n",
       "  1659.78,461.847 1659.78,1445.72 2229.52,1445.72 2229.52,461.847 1659.78,461.847 \n",
       "  \"/>\n",
       "<path clip-path=\"url(#clip062)\" d=\"\n",
       "M1659.78 324.105 L1659.78 1445.72 L2229.52 1445.72 L2229.52 324.105 L1659.78 324.105 L1659.78 324.105  Z\n",
       "  \" fill=\"#009af9\" fill-rule=\"evenodd\" fill-opacity=\"1\"/>\n",
       "<polyline clip-path=\"url(#clip062)\" style=\"stroke:#000000; stroke-linecap:butt; stroke-linejoin:round; stroke-width:4; stroke-opacity:1; fill:none\" points=\"\n",
       "  1659.78,324.105 1659.78,1445.72 2229.52,1445.72 2229.52,324.105 1659.78,324.105 \n",
       "  \"/>\n",
       "<path clip-path=\"url(#clip062)\" d=\"\n",
       "M1659.78 481.524 L1659.78 1445.72 L2229.52 1445.72 L2229.52 481.524 L1659.78 481.524 L1659.78 481.524  Z\n",
       "  \" fill=\"#009af9\" fill-rule=\"evenodd\" fill-opacity=\"1\"/>\n",
       "<polyline clip-path=\"url(#clip062)\" style=\"stroke:#000000; stroke-linecap:butt; stroke-linejoin:round; stroke-width:4; stroke-opacity:1; fill:none\" points=\"\n",
       "  1659.78,481.524 1659.78,1445.72 2229.52,1445.72 2229.52,481.524 1659.78,481.524 \n",
       "  \"/>\n",
       "<path clip-path=\"url(#clip062)\" d=\"\n",
       "M1659.78 127.331 L1659.78 1445.72 L2229.52 1445.72 L2229.52 127.331 L1659.78 127.331 L1659.78 127.331  Z\n",
       "  \" fill=\"#009af9\" fill-rule=\"evenodd\" fill-opacity=\"1\"/>\n",
       "<polyline clip-path=\"url(#clip062)\" style=\"stroke:#000000; stroke-linecap:butt; stroke-linejoin:round; stroke-width:4; stroke-opacity:1; fill:none\" points=\"\n",
       "  1659.78,127.331 1659.78,1445.72 2229.52,1445.72 2229.52,127.331 1659.78,127.331 \n",
       "  \"/>\n",
       "<path clip-path=\"url(#clip062)\" d=\"\n",
       "M1659.78 481.524 L1659.78 1445.72 L2229.52 1445.72 L2229.52 481.524 L1659.78 481.524 L1659.78 481.524  Z\n",
       "  \" fill=\"#009af9\" fill-rule=\"evenodd\" fill-opacity=\"1\"/>\n",
       "<polyline clip-path=\"url(#clip062)\" style=\"stroke:#000000; stroke-linecap:butt; stroke-linejoin:round; stroke-width:4; stroke-opacity:1; fill:none\" points=\"\n",
       "  1659.78,481.524 1659.78,1445.72 2229.52,1445.72 2229.52,481.524 1659.78,481.524 \n",
       "  \"/>\n",
       "<path clip-path=\"url(#clip062)\" d=\"\n",
       "M1659.78 324.105 L1659.78 1445.72 L2229.52 1445.72 L2229.52 324.105 L1659.78 324.105 L1659.78 324.105  Z\n",
       "  \" fill=\"#009af9\" fill-rule=\"evenodd\" fill-opacity=\"1\"/>\n",
       "<polyline clip-path=\"url(#clip062)\" style=\"stroke:#000000; stroke-linecap:butt; stroke-linejoin:round; stroke-width:4; stroke-opacity:1; fill:none\" points=\"\n",
       "  1659.78,324.105 1659.78,1445.72 2229.52,1445.72 2229.52,324.105 1659.78,324.105 \n",
       "  \"/>\n",
       "<path clip-path=\"url(#clip062)\" d=\"\n",
       "M1659.78 265.073 L1659.78 1445.72 L2229.52 1445.72 L2229.52 265.073 L1659.78 265.073 L1659.78 265.073  Z\n",
       "  \" fill=\"#009af9\" fill-rule=\"evenodd\" fill-opacity=\"1\"/>\n",
       "<polyline clip-path=\"url(#clip062)\" style=\"stroke:#000000; stroke-linecap:butt; stroke-linejoin:round; stroke-width:4; stroke-opacity:1; fill:none\" points=\"\n",
       "  1659.78,265.073 1659.78,1445.72 2229.52,1445.72 2229.52,265.073 1659.78,265.073 \n",
       "  \"/>\n",
       "<path clip-path=\"url(#clip062)\" d=\"\n",
       "M1659.78 501.201 L1659.78 1445.72 L2229.52 1445.72 L2229.52 501.201 L1659.78 501.201 L1659.78 501.201  Z\n",
       "  \" fill=\"#009af9\" fill-rule=\"evenodd\" fill-opacity=\"1\"/>\n",
       "<polyline clip-path=\"url(#clip062)\" style=\"stroke:#000000; stroke-linecap:butt; stroke-linejoin:round; stroke-width:4; stroke-opacity:1; fill:none\" points=\"\n",
       "  1659.78,501.201 1659.78,1445.72 2229.52,1445.72 2229.52,501.201 1659.78,501.201 \n",
       "  \"/>\n",
       "<path clip-path=\"url(#clip062)\" d=\"\n",
       "M1659.78 481.524 L1659.78 1445.72 L2229.52 1445.72 L2229.52 481.524 L1659.78 481.524 L1659.78 481.524  Z\n",
       "  \" fill=\"#009af9\" fill-rule=\"evenodd\" fill-opacity=\"1\"/>\n",
       "<polyline clip-path=\"url(#clip062)\" style=\"stroke:#000000; stroke-linecap:butt; stroke-linejoin:round; stroke-width:4; stroke-opacity:1; fill:none\" points=\"\n",
       "  1659.78,481.524 1659.78,1445.72 2229.52,1445.72 2229.52,481.524 1659.78,481.524 \n",
       "  \"/>\n",
       "<path clip-path=\"url(#clip062)\" d=\"\n",
       "M1659.78 343.782 L1659.78 1445.72 L2229.52 1445.72 L2229.52 343.782 L1659.78 343.782 L1659.78 343.782  Z\n",
       "  \" fill=\"#009af9\" fill-rule=\"evenodd\" fill-opacity=\"1\"/>\n",
       "<polyline clip-path=\"url(#clip062)\" style=\"stroke:#000000; stroke-linecap:butt; stroke-linejoin:round; stroke-width:4; stroke-opacity:1; fill:none\" points=\"\n",
       "  1659.78,343.782 1659.78,1445.72 2229.52,1445.72 2229.52,343.782 1659.78,343.782 \n",
       "  \"/>\n",
       "<path clip-path=\"url(#clip062)\" d=\"\n",
       "M1659.78 304.427 L1659.78 1445.72 L2229.52 1445.72 L2229.52 304.427 L1659.78 304.427 L1659.78 304.427  Z\n",
       "  \" fill=\"#009af9\" fill-rule=\"evenodd\" fill-opacity=\"1\"/>\n",
       "<polyline clip-path=\"url(#clip062)\" style=\"stroke:#000000; stroke-linecap:butt; stroke-linejoin:round; stroke-width:4; stroke-opacity:1; fill:none\" points=\"\n",
       "  1659.78,304.427 1659.78,1445.72 2229.52,1445.72 2229.52,304.427 1659.78,304.427 \n",
       "  \"/>\n",
       "<path clip-path=\"url(#clip062)\" d=\"\n",
       "M1659.78 245.395 L1659.78 1445.72 L2229.52 1445.72 L2229.52 245.395 L1659.78 245.395 L1659.78 245.395  Z\n",
       "  \" fill=\"#009af9\" fill-rule=\"evenodd\" fill-opacity=\"1\"/>\n",
       "<polyline clip-path=\"url(#clip062)\" style=\"stroke:#000000; stroke-linecap:butt; stroke-linejoin:round; stroke-width:4; stroke-opacity:1; fill:none\" points=\"\n",
       "  1659.78,245.395 1659.78,1445.72 2229.52,1445.72 2229.52,245.395 1659.78,245.395 \n",
       "  \"/>\n",
       "<path clip-path=\"url(#clip062)\" d=\"\n",
       "M1659.78 186.363 L1659.78 1445.72 L2229.52 1445.72 L2229.52 186.363 L1659.78 186.363 L1659.78 186.363  Z\n",
       "  \" fill=\"#009af9\" fill-rule=\"evenodd\" fill-opacity=\"1\"/>\n",
       "<polyline clip-path=\"url(#clip062)\" style=\"stroke:#000000; stroke-linecap:butt; stroke-linejoin:round; stroke-width:4; stroke-opacity:1; fill:none\" points=\"\n",
       "  1659.78,186.363 1659.78,1445.72 2229.52,1445.72 2229.52,186.363 1659.78,186.363 \n",
       "  \"/>\n",
       "<path clip-path=\"url(#clip062)\" d=\"\n",
       "M1659.78 343.782 L1659.78 1445.72 L2229.52 1445.72 L2229.52 343.782 L1659.78 343.782 L1659.78 343.782  Z\n",
       "  \" fill=\"#009af9\" fill-rule=\"evenodd\" fill-opacity=\"1\"/>\n",
       "<polyline clip-path=\"url(#clip062)\" style=\"stroke:#000000; stroke-linecap:butt; stroke-linejoin:round; stroke-width:4; stroke-opacity:1; fill:none\" points=\"\n",
       "  1659.78,343.782 1659.78,1445.72 2229.52,1445.72 2229.52,343.782 1659.78,343.782 \n",
       "  \"/>\n",
       "<path clip-path=\"url(#clip062)\" d=\"\n",
       "M1659.78 442.169 L1659.78 1445.72 L2229.52 1445.72 L2229.52 442.169 L1659.78 442.169 L1659.78 442.169  Z\n",
       "  \" fill=\"#009af9\" fill-rule=\"evenodd\" fill-opacity=\"1\"/>\n",
       "<polyline clip-path=\"url(#clip062)\" style=\"stroke:#000000; stroke-linecap:butt; stroke-linejoin:round; stroke-width:4; stroke-opacity:1; fill:none\" points=\"\n",
       "  1659.78,442.169 1659.78,1445.72 2229.52,1445.72 2229.52,442.169 1659.78,442.169 \n",
       "  \"/>\n",
       "<path clip-path=\"url(#clip062)\" d=\"\n",
       "M1659.78 343.782 L1659.78 1445.72 L2229.52 1445.72 L2229.52 343.782 L1659.78 343.782 L1659.78 343.782  Z\n",
       "  \" fill=\"#009af9\" fill-rule=\"evenodd\" fill-opacity=\"1\"/>\n",
       "<polyline clip-path=\"url(#clip062)\" style=\"stroke:#000000; stroke-linecap:butt; stroke-linejoin:round; stroke-width:4; stroke-opacity:1; fill:none\" points=\"\n",
       "  1659.78,343.782 1659.78,1445.72 2229.52,1445.72 2229.52,343.782 1659.78,343.782 \n",
       "  \"/>\n",
       "<path clip-path=\"url(#clip062)\" d=\"\n",
       "M1659.78 245.395 L1659.78 1445.72 L2229.52 1445.72 L2229.52 245.395 L1659.78 245.395 L1659.78 245.395  Z\n",
       "  \" fill=\"#009af9\" fill-rule=\"evenodd\" fill-opacity=\"1\"/>\n",
       "<polyline clip-path=\"url(#clip062)\" style=\"stroke:#000000; stroke-linecap:butt; stroke-linejoin:round; stroke-width:4; stroke-opacity:1; fill:none\" points=\"\n",
       "  1659.78,245.395 1659.78,1445.72 2229.52,1445.72 2229.52,245.395 1659.78,245.395 \n",
       "  \"/>\n",
       "<path clip-path=\"url(#clip062)\" d=\"\n",
       "M1659.78 343.782 L1659.78 1445.72 L2229.52 1445.72 L2229.52 343.782 L1659.78 343.782 L1659.78 343.782  Z\n",
       "  \" fill=\"#009af9\" fill-rule=\"evenodd\" fill-opacity=\"1\"/>\n",
       "<polyline clip-path=\"url(#clip062)\" style=\"stroke:#000000; stroke-linecap:butt; stroke-linejoin:round; stroke-width:4; stroke-opacity:1; fill:none\" points=\"\n",
       "  1659.78,343.782 1659.78,1445.72 2229.52,1445.72 2229.52,343.782 1659.78,343.782 \n",
       "  \"/>\n",
       "<path clip-path=\"url(#clip062)\" d=\"\n",
       "M1659.78 363.46 L1659.78 1445.72 L2229.52 1445.72 L2229.52 363.46 L1659.78 363.46 L1659.78 363.46  Z\n",
       "  \" fill=\"#009af9\" fill-rule=\"evenodd\" fill-opacity=\"1\"/>\n",
       "<polyline clip-path=\"url(#clip062)\" style=\"stroke:#000000; stroke-linecap:butt; stroke-linejoin:round; stroke-width:4; stroke-opacity:1; fill:none\" points=\"\n",
       "  1659.78,363.46 1659.78,1445.72 2229.52,1445.72 2229.52,363.46 1659.78,363.46 \n",
       "  \"/>\n",
       "<path clip-path=\"url(#clip062)\" d=\"\n",
       "M1659.78 501.201 L1659.78 1445.72 L2229.52 1445.72 L2229.52 501.201 L1659.78 501.201 L1659.78 501.201  Z\n",
       "  \" fill=\"#009af9\" fill-rule=\"evenodd\" fill-opacity=\"1\"/>\n",
       "<polyline clip-path=\"url(#clip062)\" style=\"stroke:#000000; stroke-linecap:butt; stroke-linejoin:round; stroke-width:4; stroke-opacity:1; fill:none\" points=\"\n",
       "  1659.78,501.201 1659.78,1445.72 2229.52,1445.72 2229.52,501.201 1659.78,501.201 \n",
       "  \"/>\n",
       "<path clip-path=\"url(#clip062)\" d=\"\n",
       "M1659.78 383.137 L1659.78 1445.72 L2229.52 1445.72 L2229.52 383.137 L1659.78 383.137 L1659.78 383.137  Z\n",
       "  \" fill=\"#009af9\" fill-rule=\"evenodd\" fill-opacity=\"1\"/>\n",
       "<polyline clip-path=\"url(#clip062)\" style=\"stroke:#000000; stroke-linecap:butt; stroke-linejoin:round; stroke-width:4; stroke-opacity:1; fill:none\" points=\"\n",
       "  1659.78,383.137 1659.78,1445.72 2229.52,1445.72 2229.52,383.137 1659.78,383.137 \n",
       "  \"/>\n",
       "<path clip-path=\"url(#clip062)\" d=\"\n",
       "M1659.78 343.782 L1659.78 1445.72 L2229.52 1445.72 L2229.52 343.782 L1659.78 343.782 L1659.78 343.782  Z\n",
       "  \" fill=\"#009af9\" fill-rule=\"evenodd\" fill-opacity=\"1\"/>\n",
       "<polyline clip-path=\"url(#clip062)\" style=\"stroke:#000000; stroke-linecap:butt; stroke-linejoin:round; stroke-width:4; stroke-opacity:1; fill:none\" points=\"\n",
       "  1659.78,343.782 1659.78,1445.72 2229.52,1445.72 2229.52,343.782 1659.78,343.782 \n",
       "  \"/>\n",
       "<path clip-path=\"url(#clip062)\" d=\"\n",
       "M1659.78 442.169 L1659.78 1445.72 L2229.52 1445.72 L2229.52 442.169 L1659.78 442.169 L1659.78 442.169  Z\n",
       "  \" fill=\"#009af9\" fill-rule=\"evenodd\" fill-opacity=\"1\"/>\n",
       "<polyline clip-path=\"url(#clip062)\" style=\"stroke:#000000; stroke-linecap:butt; stroke-linejoin:round; stroke-width:4; stroke-opacity:1; fill:none\" points=\"\n",
       "  1659.78,442.169 1659.78,1445.72 2229.52,1445.72 2229.52,442.169 1659.78,442.169 \n",
       "  \"/>\n",
       "<path clip-path=\"url(#clip062)\" d=\"\n",
       "M1659.78 442.169 L1659.78 1445.72 L2229.52 1445.72 L2229.52 442.169 L1659.78 442.169 L1659.78 442.169  Z\n",
       "  \" fill=\"#009af9\" fill-rule=\"evenodd\" fill-opacity=\"1\"/>\n",
       "<polyline clip-path=\"url(#clip062)\" style=\"stroke:#000000; stroke-linecap:butt; stroke-linejoin:round; stroke-width:4; stroke-opacity:1; fill:none\" points=\"\n",
       "  1659.78,442.169 1659.78,1445.72 2229.52,1445.72 2229.52,442.169 1659.78,442.169 \n",
       "  \"/>\n",
       "<path clip-path=\"url(#clip062)\" d=\"\n",
       "M1659.78 284.75 L1659.78 1445.72 L2229.52 1445.72 L2229.52 284.75 L1659.78 284.75 L1659.78 284.75  Z\n",
       "  \" fill=\"#009af9\" fill-rule=\"evenodd\" fill-opacity=\"1\"/>\n",
       "<polyline clip-path=\"url(#clip062)\" style=\"stroke:#000000; stroke-linecap:butt; stroke-linejoin:round; stroke-width:4; stroke-opacity:1; fill:none\" points=\"\n",
       "  1659.78,284.75 1659.78,1445.72 2229.52,1445.72 2229.52,284.75 1659.78,284.75 \n",
       "  \"/>\n",
       "<path clip-path=\"url(#clip062)\" d=\"\n",
       "M1659.78 324.105 L1659.78 1445.72 L2229.52 1445.72 L2229.52 324.105 L1659.78 324.105 L1659.78 324.105  Z\n",
       "  \" fill=\"#009af9\" fill-rule=\"evenodd\" fill-opacity=\"1\"/>\n",
       "<polyline clip-path=\"url(#clip062)\" style=\"stroke:#000000; stroke-linecap:butt; stroke-linejoin:round; stroke-width:4; stroke-opacity:1; fill:none\" points=\"\n",
       "  1659.78,324.105 1659.78,1445.72 2229.52,1445.72 2229.52,324.105 1659.78,324.105 \n",
       "  \"/>\n",
       "<path clip-path=\"url(#clip062)\" d=\"\n",
       "M1659.78 422.492 L1659.78 1445.72 L2229.52 1445.72 L2229.52 422.492 L1659.78 422.492 L1659.78 422.492  Z\n",
       "  \" fill=\"#009af9\" fill-rule=\"evenodd\" fill-opacity=\"1\"/>\n",
       "<polyline clip-path=\"url(#clip062)\" style=\"stroke:#000000; stroke-linecap:butt; stroke-linejoin:round; stroke-width:4; stroke-opacity:1; fill:none\" points=\"\n",
       "  1659.78,422.492 1659.78,1445.72 2229.52,1445.72 2229.52,422.492 1659.78,422.492 \n",
       "  \"/>\n",
       "<path clip-path=\"url(#clip062)\" d=\"\n",
       "M1659.78 461.847 L1659.78 1445.72 L2229.52 1445.72 L2229.52 461.847 L1659.78 461.847 L1659.78 461.847  Z\n",
       "  \" fill=\"#009af9\" fill-rule=\"evenodd\" fill-opacity=\"1\"/>\n",
       "<polyline clip-path=\"url(#clip062)\" style=\"stroke:#000000; stroke-linecap:butt; stroke-linejoin:round; stroke-width:4; stroke-opacity:1; fill:none\" points=\"\n",
       "  1659.78,461.847 1659.78,1445.72 2229.52,1445.72 2229.52,461.847 1659.78,461.847 \n",
       "  \"/>\n",
       "<path clip-path=\"url(#clip062)\" d=\"\n",
       "M1659.78 422.492 L1659.78 1445.72 L2229.52 1445.72 L2229.52 422.492 L1659.78 422.492 L1659.78 422.492  Z\n",
       "  \" fill=\"#009af9\" fill-rule=\"evenodd\" fill-opacity=\"1\"/>\n",
       "<polyline clip-path=\"url(#clip062)\" style=\"stroke:#000000; stroke-linecap:butt; stroke-linejoin:round; stroke-width:4; stroke-opacity:1; fill:none\" points=\"\n",
       "  1659.78,422.492 1659.78,1445.72 2229.52,1445.72 2229.52,422.492 1659.78,422.492 \n",
       "  \"/>\n",
       "<path clip-path=\"url(#clip062)\" d=\"\n",
       "M1659.78 383.137 L1659.78 1445.72 L2229.52 1445.72 L2229.52 383.137 L1659.78 383.137 L1659.78 383.137  Z\n",
       "  \" fill=\"#009af9\" fill-rule=\"evenodd\" fill-opacity=\"1\"/>\n",
       "<polyline clip-path=\"url(#clip062)\" style=\"stroke:#000000; stroke-linecap:butt; stroke-linejoin:round; stroke-width:4; stroke-opacity:1; fill:none\" points=\"\n",
       "  1659.78,383.137 1659.78,1445.72 2229.52,1445.72 2229.52,383.137 1659.78,383.137 \n",
       "  \"/>\n",
       "<path clip-path=\"url(#clip062)\" d=\"\n",
       "M1659.78 442.169 L1659.78 1445.72 L2229.52 1445.72 L2229.52 442.169 L1659.78 442.169 L1659.78 442.169  Z\n",
       "  \" fill=\"#009af9\" fill-rule=\"evenodd\" fill-opacity=\"1\"/>\n",
       "<polyline clip-path=\"url(#clip062)\" style=\"stroke:#000000; stroke-linecap:butt; stroke-linejoin:round; stroke-width:4; stroke-opacity:1; fill:none\" points=\"\n",
       "  1659.78,442.169 1659.78,1445.72 2229.52,1445.72 2229.52,442.169 1659.78,442.169 \n",
       "  \"/>\n",
       "<circle clip-path=\"url(#clip062)\" style=\"fill:#009af9; stroke:none; fill-opacity:0\" cx=\"520.285\" cy=\"1170.23\" r=\"2\"/>\n",
       "<circle clip-path=\"url(#clip062)\" style=\"fill:#009af9; stroke:none; fill-opacity:0\" cx=\"520.285\" cy=\"1170.23\" r=\"2\"/>\n",
       "<circle clip-path=\"url(#clip062)\" style=\"fill:#009af9; stroke:none; fill-opacity:0\" cx=\"520.285\" cy=\"1189.91\" r=\"2\"/>\n",
       "<circle clip-path=\"url(#clip062)\" style=\"fill:#009af9; stroke:none; fill-opacity:0\" cx=\"520.285\" cy=\"1150.55\" r=\"2\"/>\n",
       "<circle clip-path=\"url(#clip062)\" style=\"fill:#009af9; stroke:none; fill-opacity:0\" cx=\"520.285\" cy=\"1170.23\" r=\"2\"/>\n",
       "<circle clip-path=\"url(#clip062)\" style=\"fill:#009af9; stroke:none; fill-opacity:0\" cx=\"520.285\" cy=\"1111.2\" r=\"2\"/>\n",
       "<circle clip-path=\"url(#clip062)\" style=\"fill:#009af9; stroke:none; fill-opacity:0\" cx=\"520.285\" cy=\"1170.23\" r=\"2\"/>\n",
       "<circle clip-path=\"url(#clip062)\" style=\"fill:#009af9; stroke:none; fill-opacity:0\" cx=\"520.285\" cy=\"1150.55\" r=\"2\"/>\n",
       "<circle clip-path=\"url(#clip062)\" style=\"fill:#009af9; stroke:none; fill-opacity:0\" cx=\"520.285\" cy=\"1170.23\" r=\"2\"/>\n",
       "<circle clip-path=\"url(#clip062)\" style=\"fill:#009af9; stroke:none; fill-opacity:0\" cx=\"520.285\" cy=\"1150.55\" r=\"2\"/>\n",
       "<circle clip-path=\"url(#clip062)\" style=\"fill:#009af9; stroke:none; fill-opacity:0\" cx=\"520.285\" cy=\"1150.55\" r=\"2\"/>\n",
       "<circle clip-path=\"url(#clip062)\" style=\"fill:#009af9; stroke:none; fill-opacity:0\" cx=\"520.285\" cy=\"1130.88\" r=\"2\"/>\n",
       "<circle clip-path=\"url(#clip062)\" style=\"fill:#009af9; stroke:none; fill-opacity:0\" cx=\"520.285\" cy=\"1170.23\" r=\"2\"/>\n",
       "<circle clip-path=\"url(#clip062)\" style=\"fill:#009af9; stroke:none; fill-opacity:0\" cx=\"520.285\" cy=\"1229.26\" r=\"2\"/>\n",
       "<circle clip-path=\"url(#clip062)\" style=\"fill:#009af9; stroke:none; fill-opacity:0\" cx=\"520.285\" cy=\"1209.59\" r=\"2\"/>\n",
       "<circle clip-path=\"url(#clip062)\" style=\"fill:#009af9; stroke:none; fill-opacity:0\" cx=\"520.285\" cy=\"1150.55\" r=\"2\"/>\n",
       "<circle clip-path=\"url(#clip062)\" style=\"fill:#009af9; stroke:none; fill-opacity:0\" cx=\"520.285\" cy=\"1189.91\" r=\"2\"/>\n",
       "<circle clip-path=\"url(#clip062)\" style=\"fill:#009af9; stroke:none; fill-opacity:0\" cx=\"520.285\" cy=\"1170.23\" r=\"2\"/>\n",
       "<circle clip-path=\"url(#clip062)\" style=\"fill:#009af9; stroke:none; fill-opacity:0\" cx=\"520.285\" cy=\"1111.2\" r=\"2\"/>\n",
       "<circle clip-path=\"url(#clip062)\" style=\"fill:#009af9; stroke:none; fill-opacity:0\" cx=\"520.285\" cy=\"1150.55\" r=\"2\"/>\n",
       "<circle clip-path=\"url(#clip062)\" style=\"fill:#009af9; stroke:none; fill-opacity:0\" cx=\"520.285\" cy=\"1111.2\" r=\"2\"/>\n",
       "<circle clip-path=\"url(#clip062)\" style=\"fill:#009af9; stroke:none; fill-opacity:0\" cx=\"520.285\" cy=\"1150.55\" r=\"2\"/>\n",
       "<circle clip-path=\"url(#clip062)\" style=\"fill:#009af9; stroke:none; fill-opacity:0\" cx=\"520.285\" cy=\"1248.94\" r=\"2\"/>\n",
       "<circle clip-path=\"url(#clip062)\" style=\"fill:#009af9; stroke:none; fill-opacity:0\" cx=\"520.285\" cy=\"1111.2\" r=\"2\"/>\n",
       "<circle clip-path=\"url(#clip062)\" style=\"fill:#009af9; stroke:none; fill-opacity:0\" cx=\"520.285\" cy=\"1071.85\" r=\"2\"/>\n",
       "<circle clip-path=\"url(#clip062)\" style=\"fill:#009af9; stroke:none; fill-opacity:0\" cx=\"520.285\" cy=\"1130.88\" r=\"2\"/>\n",
       "<circle clip-path=\"url(#clip062)\" style=\"fill:#009af9; stroke:none; fill-opacity:0\" cx=\"520.285\" cy=\"1130.88\" r=\"2\"/>\n",
       "<circle clip-path=\"url(#clip062)\" style=\"fill:#009af9; stroke:none; fill-opacity:0\" cx=\"520.285\" cy=\"1150.55\" r=\"2\"/>\n",
       "<circle clip-path=\"url(#clip062)\" style=\"fill:#009af9; stroke:none; fill-opacity:0\" cx=\"520.285\" cy=\"1170.23\" r=\"2\"/>\n",
       "<circle clip-path=\"url(#clip062)\" style=\"fill:#009af9; stroke:none; fill-opacity:0\" cx=\"520.285\" cy=\"1130.88\" r=\"2\"/>\n",
       "<circle clip-path=\"url(#clip062)\" style=\"fill:#009af9; stroke:none; fill-opacity:0\" cx=\"520.285\" cy=\"1130.88\" r=\"2\"/>\n",
       "<circle clip-path=\"url(#clip062)\" style=\"fill:#009af9; stroke:none; fill-opacity:0\" cx=\"520.285\" cy=\"1150.55\" r=\"2\"/>\n",
       "<circle clip-path=\"url(#clip062)\" style=\"fill:#009af9; stroke:none; fill-opacity:0\" cx=\"520.285\" cy=\"1150.55\" r=\"2\"/>\n",
       "<circle clip-path=\"url(#clip062)\" style=\"fill:#009af9; stroke:none; fill-opacity:0\" cx=\"520.285\" cy=\"1170.23\" r=\"2\"/>\n",
       "<circle clip-path=\"url(#clip062)\" style=\"fill:#009af9; stroke:none; fill-opacity:0\" cx=\"520.285\" cy=\"1150.55\" r=\"2\"/>\n",
       "<circle clip-path=\"url(#clip062)\" style=\"fill:#009af9; stroke:none; fill-opacity:0\" cx=\"520.285\" cy=\"1209.59\" r=\"2\"/>\n",
       "<circle clip-path=\"url(#clip062)\" style=\"fill:#009af9; stroke:none; fill-opacity:0\" cx=\"520.285\" cy=\"1189.91\" r=\"2\"/>\n",
       "<circle clip-path=\"url(#clip062)\" style=\"fill:#009af9; stroke:none; fill-opacity:0\" cx=\"520.285\" cy=\"1170.23\" r=\"2\"/>\n",
       "<circle clip-path=\"url(#clip062)\" style=\"fill:#009af9; stroke:none; fill-opacity:0\" cx=\"520.285\" cy=\"1189.91\" r=\"2\"/>\n",
       "<circle clip-path=\"url(#clip062)\" style=\"fill:#009af9; stroke:none; fill-opacity:0\" cx=\"520.285\" cy=\"1150.55\" r=\"2\"/>\n",
       "<circle clip-path=\"url(#clip062)\" style=\"fill:#009af9; stroke:none; fill-opacity:0\" cx=\"520.285\" cy=\"1189.91\" r=\"2\"/>\n",
       "<circle clip-path=\"url(#clip062)\" style=\"fill:#009af9; stroke:none; fill-opacity:0\" cx=\"520.285\" cy=\"1189.91\" r=\"2\"/>\n",
       "<circle clip-path=\"url(#clip062)\" style=\"fill:#009af9; stroke:none; fill-opacity:0\" cx=\"520.285\" cy=\"1189.91\" r=\"2\"/>\n",
       "<circle clip-path=\"url(#clip062)\" style=\"fill:#009af9; stroke:none; fill-opacity:0\" cx=\"520.285\" cy=\"1130.88\" r=\"2\"/>\n",
       "<circle clip-path=\"url(#clip062)\" style=\"fill:#009af9; stroke:none; fill-opacity:0\" cx=\"520.285\" cy=\"1071.85\" r=\"2\"/>\n",
       "<circle clip-path=\"url(#clip062)\" style=\"fill:#009af9; stroke:none; fill-opacity:0\" cx=\"520.285\" cy=\"1170.23\" r=\"2\"/>\n",
       "<circle clip-path=\"url(#clip062)\" style=\"fill:#009af9; stroke:none; fill-opacity:0\" cx=\"520.285\" cy=\"1130.88\" r=\"2\"/>\n",
       "<circle clip-path=\"url(#clip062)\" style=\"fill:#009af9; stroke:none; fill-opacity:0\" cx=\"520.285\" cy=\"1170.23\" r=\"2\"/>\n",
       "<circle clip-path=\"url(#clip062)\" style=\"fill:#009af9; stroke:none; fill-opacity:0\" cx=\"520.285\" cy=\"1150.55\" r=\"2\"/>\n",
       "<circle clip-path=\"url(#clip062)\" style=\"fill:#009af9; stroke:none; fill-opacity:0\" cx=\"520.285\" cy=\"1170.23\" r=\"2\"/>\n",
       "<circle clip-path=\"url(#clip062)\" style=\"fill:#009af9; stroke:none; fill-opacity:0\" cx=\"1232.47\" cy=\"520.879\" r=\"2\"/>\n",
       "<circle clip-path=\"url(#clip062)\" style=\"fill:#009af9; stroke:none; fill-opacity:0\" cx=\"1232.47\" cy=\"560.233\" r=\"2\"/>\n",
       "<circle clip-path=\"url(#clip062)\" style=\"fill:#009af9; stroke:none; fill-opacity:0\" cx=\"1232.47\" cy=\"481.524\" r=\"2\"/>\n",
       "<circle clip-path=\"url(#clip062)\" style=\"fill:#009af9; stroke:none; fill-opacity:0\" cx=\"1232.47\" cy=\"658.62\" r=\"2\"/>\n",
       "<circle clip-path=\"url(#clip062)\" style=\"fill:#009af9; stroke:none; fill-opacity:0\" cx=\"1232.47\" cy=\"540.556\" r=\"2\"/>\n",
       "<circle clip-path=\"url(#clip062)\" style=\"fill:#009af9; stroke:none; fill-opacity:0\" cx=\"1232.47\" cy=\"560.233\" r=\"2\"/>\n",
       "<circle clip-path=\"url(#clip062)\" style=\"fill:#009af9; stroke:none; fill-opacity:0\" cx=\"1232.47\" cy=\"520.879\" r=\"2\"/>\n",
       "<circle clip-path=\"url(#clip062)\" style=\"fill:#009af9; stroke:none; fill-opacity:0\" cx=\"1232.47\" cy=\"796.362\" r=\"2\"/>\n",
       "<circle clip-path=\"url(#clip062)\" style=\"fill:#009af9; stroke:none; fill-opacity:0\" cx=\"1232.47\" cy=\"540.556\" r=\"2\"/>\n",
       "<circle clip-path=\"url(#clip062)\" style=\"fill:#009af9; stroke:none; fill-opacity:0\" cx=\"1232.47\" cy=\"678.298\" r=\"2\"/>\n",
       "<circle clip-path=\"url(#clip062)\" style=\"fill:#009af9; stroke:none; fill-opacity:0\" cx=\"1232.47\" cy=\"757.007\" r=\"2\"/>\n",
       "<circle clip-path=\"url(#clip062)\" style=\"fill:#009af9; stroke:none; fill-opacity:0\" cx=\"1232.47\" cy=\"619.266\" r=\"2\"/>\n",
       "<circle clip-path=\"url(#clip062)\" style=\"fill:#009af9; stroke:none; fill-opacity:0\" cx=\"1232.47\" cy=\"658.62\" r=\"2\"/>\n",
       "<circle clip-path=\"url(#clip062)\" style=\"fill:#009af9; stroke:none; fill-opacity:0\" cx=\"1232.47\" cy=\"520.879\" r=\"2\"/>\n",
       "<circle clip-path=\"url(#clip062)\" style=\"fill:#009af9; stroke:none; fill-opacity:0\" cx=\"1232.47\" cy=\"737.33\" r=\"2\"/>\n",
       "<circle clip-path=\"url(#clip062)\" style=\"fill:#009af9; stroke:none; fill-opacity:0\" cx=\"1232.47\" cy=\"579.911\" r=\"2\"/>\n",
       "<circle clip-path=\"url(#clip062)\" style=\"fill:#009af9; stroke:none; fill-opacity:0\" cx=\"1232.47\" cy=\"560.233\" r=\"2\"/>\n",
       "<circle clip-path=\"url(#clip062)\" style=\"fill:#009af9; stroke:none; fill-opacity:0\" cx=\"1232.47\" cy=\"638.943\" r=\"2\"/>\n",
       "<circle clip-path=\"url(#clip062)\" style=\"fill:#009af9; stroke:none; fill-opacity:0\" cx=\"1232.47\" cy=\"560.233\" r=\"2\"/>\n",
       "<circle clip-path=\"url(#clip062)\" style=\"fill:#009af9; stroke:none; fill-opacity:0\" cx=\"1232.47\" cy=\"678.298\" r=\"2\"/>\n",
       "<circle clip-path=\"url(#clip062)\" style=\"fill:#009af9; stroke:none; fill-opacity:0\" cx=\"1232.47\" cy=\"501.201\" r=\"2\"/>\n",
       "<circle clip-path=\"url(#clip062)\" style=\"fill:#009af9; stroke:none; fill-opacity:0\" cx=\"1232.47\" cy=\"658.62\" r=\"2\"/>\n",
       "<circle clip-path=\"url(#clip062)\" style=\"fill:#009af9; stroke:none; fill-opacity:0\" cx=\"1232.47\" cy=\"481.524\" r=\"2\"/>\n",
       "<circle clip-path=\"url(#clip062)\" style=\"fill:#009af9; stroke:none; fill-opacity:0\" cx=\"1232.47\" cy=\"520.879\" r=\"2\"/>\n",
       "<circle clip-path=\"url(#clip062)\" style=\"fill:#009af9; stroke:none; fill-opacity:0\" cx=\"1232.47\" cy=\"599.588\" r=\"2\"/>\n",
       "<circle clip-path=\"url(#clip062)\" style=\"fill:#009af9; stroke:none; fill-opacity:0\" cx=\"1232.47\" cy=\"579.911\" r=\"2\"/>\n",
       "<circle clip-path=\"url(#clip062)\" style=\"fill:#009af9; stroke:none; fill-opacity:0\" cx=\"1232.47\" cy=\"501.201\" r=\"2\"/>\n",
       "<circle clip-path=\"url(#clip062)\" style=\"fill:#009af9; stroke:none; fill-opacity:0\" cx=\"1232.47\" cy=\"461.847\" r=\"2\"/>\n",
       "<circle clip-path=\"url(#clip062)\" style=\"fill:#009af9; stroke:none; fill-opacity:0\" cx=\"1232.47\" cy=\"560.233\" r=\"2\"/>\n",
       "<circle clip-path=\"url(#clip062)\" style=\"fill:#009af9; stroke:none; fill-opacity:0\" cx=\"1232.47\" cy=\"757.007\" r=\"2\"/>\n",
       "<circle clip-path=\"url(#clip062)\" style=\"fill:#009af9; stroke:none; fill-opacity:0\" cx=\"1232.47\" cy=\"697.975\" r=\"2\"/>\n",
       "<circle clip-path=\"url(#clip062)\" style=\"fill:#009af9; stroke:none; fill-opacity:0\" cx=\"1232.47\" cy=\"717.653\" r=\"2\"/>\n",
       "<circle clip-path=\"url(#clip062)\" style=\"fill:#009af9; stroke:none; fill-opacity:0\" cx=\"1232.47\" cy=\"678.298\" r=\"2\"/>\n",
       "<circle clip-path=\"url(#clip062)\" style=\"fill:#009af9; stroke:none; fill-opacity:0\" cx=\"1232.47\" cy=\"442.169\" r=\"2\"/>\n",
       "<circle clip-path=\"url(#clip062)\" style=\"fill:#009af9; stroke:none; fill-opacity:0\" cx=\"1232.47\" cy=\"560.233\" r=\"2\"/>\n",
       "<circle clip-path=\"url(#clip062)\" style=\"fill:#009af9; stroke:none; fill-opacity:0\" cx=\"1232.47\" cy=\"560.233\" r=\"2\"/>\n",
       "<circle clip-path=\"url(#clip062)\" style=\"fill:#009af9; stroke:none; fill-opacity:0\" cx=\"1232.47\" cy=\"520.879\" r=\"2\"/>\n",
       "<circle clip-path=\"url(#clip062)\" style=\"fill:#009af9; stroke:none; fill-opacity:0\" cx=\"1232.47\" cy=\"579.911\" r=\"2\"/>\n",
       "<circle clip-path=\"url(#clip062)\" style=\"fill:#009af9; stroke:none; fill-opacity:0\" cx=\"1232.47\" cy=\"638.943\" r=\"2\"/>\n",
       "<circle clip-path=\"url(#clip062)\" style=\"fill:#009af9; stroke:none; fill-opacity:0\" cx=\"1232.47\" cy=\"658.62\" r=\"2\"/>\n",
       "<circle clip-path=\"url(#clip062)\" style=\"fill:#009af9; stroke:none; fill-opacity:0\" cx=\"1232.47\" cy=\"579.911\" r=\"2\"/>\n",
       "<circle clip-path=\"url(#clip062)\" style=\"fill:#009af9; stroke:none; fill-opacity:0\" cx=\"1232.47\" cy=\"540.556\" r=\"2\"/>\n",
       "<circle clip-path=\"url(#clip062)\" style=\"fill:#009af9; stroke:none; fill-opacity:0\" cx=\"1232.47\" cy=\"658.62\" r=\"2\"/>\n",
       "<circle clip-path=\"url(#clip062)\" style=\"fill:#009af9; stroke:none; fill-opacity:0\" cx=\"1232.47\" cy=\"796.362\" r=\"2\"/>\n",
       "<circle clip-path=\"url(#clip062)\" style=\"fill:#009af9; stroke:none; fill-opacity:0\" cx=\"1232.47\" cy=\"619.266\" r=\"2\"/>\n",
       "<circle clip-path=\"url(#clip062)\" style=\"fill:#009af9; stroke:none; fill-opacity:0\" cx=\"1232.47\" cy=\"619.266\" r=\"2\"/>\n",
       "<circle clip-path=\"url(#clip062)\" style=\"fill:#009af9; stroke:none; fill-opacity:0\" cx=\"1232.47\" cy=\"619.266\" r=\"2\"/>\n",
       "<circle clip-path=\"url(#clip062)\" style=\"fill:#009af9; stroke:none; fill-opacity:0\" cx=\"1232.47\" cy=\"599.588\" r=\"2\"/>\n",
       "<circle clip-path=\"url(#clip062)\" style=\"fill:#009af9; stroke:none; fill-opacity:0\" cx=\"1232.47\" cy=\"855.394\" r=\"2\"/>\n",
       "<circle clip-path=\"url(#clip062)\" style=\"fill:#009af9; stroke:none; fill-opacity:0\" cx=\"1232.47\" cy=\"638.943\" r=\"2\"/>\n",
       "<circle clip-path=\"url(#clip062)\" style=\"fill:#009af9; stroke:none; fill-opacity:0\" cx=\"1944.65\" cy=\"265.073\" r=\"2\"/>\n",
       "<circle clip-path=\"url(#clip062)\" style=\"fill:#009af9; stroke:none; fill-opacity:0\" cx=\"1944.65\" cy=\"442.169\" r=\"2\"/>\n",
       "<circle clip-path=\"url(#clip062)\" style=\"fill:#009af9; stroke:none; fill-opacity:0\" cx=\"1944.65\" cy=\"284.75\" r=\"2\"/>\n",
       "<circle clip-path=\"url(#clip062)\" style=\"fill:#009af9; stroke:none; fill-opacity:0\" cx=\"1944.65\" cy=\"343.782\" r=\"2\"/>\n",
       "<circle clip-path=\"url(#clip062)\" style=\"fill:#009af9; stroke:none; fill-opacity:0\" cx=\"1944.65\" cy=\"304.427\" r=\"2\"/>\n",
       "<circle clip-path=\"url(#clip062)\" style=\"fill:#009af9; stroke:none; fill-opacity:0\" cx=\"1944.65\" cy=\"147.008\" r=\"2\"/>\n",
       "<circle clip-path=\"url(#clip062)\" style=\"fill:#009af9; stroke:none; fill-opacity:0\" cx=\"1944.65\" cy=\"560.233\" r=\"2\"/>\n",
       "<circle clip-path=\"url(#clip062)\" style=\"fill:#009af9; stroke:none; fill-opacity:0\" cx=\"1944.65\" cy=\"206.041\" r=\"2\"/>\n",
       "<circle clip-path=\"url(#clip062)\" style=\"fill:#009af9; stroke:none; fill-opacity:0\" cx=\"1944.65\" cy=\"304.427\" r=\"2\"/>\n",
       "<circle clip-path=\"url(#clip062)\" style=\"fill:#009af9; stroke:none; fill-opacity:0\" cx=\"1944.65\" cy=\"245.395\" r=\"2\"/>\n",
       "<circle clip-path=\"url(#clip062)\" style=\"fill:#009af9; stroke:none; fill-opacity:0\" cx=\"1944.65\" cy=\"442.169\" r=\"2\"/>\n",
       "<circle clip-path=\"url(#clip062)\" style=\"fill:#009af9; stroke:none; fill-opacity:0\" cx=\"1944.65\" cy=\"402.814\" r=\"2\"/>\n",
       "<circle clip-path=\"url(#clip062)\" style=\"fill:#009af9; stroke:none; fill-opacity:0\" cx=\"1944.65\" cy=\"363.46\" r=\"2\"/>\n",
       "<circle clip-path=\"url(#clip062)\" style=\"fill:#009af9; stroke:none; fill-opacity:0\" cx=\"1944.65\" cy=\"461.847\" r=\"2\"/>\n",
       "<circle clip-path=\"url(#clip062)\" style=\"fill:#009af9; stroke:none; fill-opacity:0\" cx=\"1944.65\" cy=\"442.169\" r=\"2\"/>\n",
       "<circle clip-path=\"url(#clip062)\" style=\"fill:#009af9; stroke:none; fill-opacity:0\" cx=\"1944.65\" cy=\"402.814\" r=\"2\"/>\n",
       "<circle clip-path=\"url(#clip062)\" style=\"fill:#009af9; stroke:none; fill-opacity:0\" cx=\"1944.65\" cy=\"363.46\" r=\"2\"/>\n",
       "<circle clip-path=\"url(#clip062)\" style=\"fill:#009af9; stroke:none; fill-opacity:0\" cx=\"1944.65\" cy=\"127.331\" r=\"2\"/>\n",
       "<circle clip-path=\"url(#clip062)\" style=\"fill:#009af9; stroke:none; fill-opacity:0\" cx=\"1944.65\" cy=\"87.9763\" r=\"2\"/>\n",
       "<circle clip-path=\"url(#clip062)\" style=\"fill:#009af9; stroke:none; fill-opacity:0\" cx=\"1944.65\" cy=\"461.847\" r=\"2\"/>\n",
       "<circle clip-path=\"url(#clip062)\" style=\"fill:#009af9; stroke:none; fill-opacity:0\" cx=\"1944.65\" cy=\"324.105\" r=\"2\"/>\n",
       "<circle clip-path=\"url(#clip062)\" style=\"fill:#009af9; stroke:none; fill-opacity:0\" cx=\"1944.65\" cy=\"481.524\" r=\"2\"/>\n",
       "<circle clip-path=\"url(#clip062)\" style=\"fill:#009af9; stroke:none; fill-opacity:0\" cx=\"1944.65\" cy=\"127.331\" r=\"2\"/>\n",
       "<circle clip-path=\"url(#clip062)\" style=\"fill:#009af9; stroke:none; fill-opacity:0\" cx=\"1944.65\" cy=\"481.524\" r=\"2\"/>\n",
       "<circle clip-path=\"url(#clip062)\" style=\"fill:#009af9; stroke:none; fill-opacity:0\" cx=\"1944.65\" cy=\"324.105\" r=\"2\"/>\n",
       "<circle clip-path=\"url(#clip062)\" style=\"fill:#009af9; stroke:none; fill-opacity:0\" cx=\"1944.65\" cy=\"265.073\" r=\"2\"/>\n",
       "<circle clip-path=\"url(#clip062)\" style=\"fill:#009af9; stroke:none; fill-opacity:0\" cx=\"1944.65\" cy=\"501.201\" r=\"2\"/>\n",
       "<circle clip-path=\"url(#clip062)\" style=\"fill:#009af9; stroke:none; fill-opacity:0\" cx=\"1944.65\" cy=\"481.524\" r=\"2\"/>\n",
       "<circle clip-path=\"url(#clip062)\" style=\"fill:#009af9; stroke:none; fill-opacity:0\" cx=\"1944.65\" cy=\"343.782\" r=\"2\"/>\n",
       "<circle clip-path=\"url(#clip062)\" style=\"fill:#009af9; stroke:none; fill-opacity:0\" cx=\"1944.65\" cy=\"304.427\" r=\"2\"/>\n",
       "<circle clip-path=\"url(#clip062)\" style=\"fill:#009af9; stroke:none; fill-opacity:0\" cx=\"1944.65\" cy=\"245.395\" r=\"2\"/>\n",
       "<circle clip-path=\"url(#clip062)\" style=\"fill:#009af9; stroke:none; fill-opacity:0\" cx=\"1944.65\" cy=\"186.363\" r=\"2\"/>\n",
       "<circle clip-path=\"url(#clip062)\" style=\"fill:#009af9; stroke:none; fill-opacity:0\" cx=\"1944.65\" cy=\"343.782\" r=\"2\"/>\n",
       "<circle clip-path=\"url(#clip062)\" style=\"fill:#009af9; stroke:none; fill-opacity:0\" cx=\"1944.65\" cy=\"442.169\" r=\"2\"/>\n",
       "<circle clip-path=\"url(#clip062)\" style=\"fill:#009af9; stroke:none; fill-opacity:0\" cx=\"1944.65\" cy=\"343.782\" r=\"2\"/>\n",
       "<circle clip-path=\"url(#clip062)\" style=\"fill:#009af9; stroke:none; fill-opacity:0\" cx=\"1944.65\" cy=\"245.395\" r=\"2\"/>\n",
       "<circle clip-path=\"url(#clip062)\" style=\"fill:#009af9; stroke:none; fill-opacity:0\" cx=\"1944.65\" cy=\"343.782\" r=\"2\"/>\n",
       "<circle clip-path=\"url(#clip062)\" style=\"fill:#009af9; stroke:none; fill-opacity:0\" cx=\"1944.65\" cy=\"363.46\" r=\"2\"/>\n",
       "<circle clip-path=\"url(#clip062)\" style=\"fill:#009af9; stroke:none; fill-opacity:0\" cx=\"1944.65\" cy=\"501.201\" r=\"2\"/>\n",
       "<circle clip-path=\"url(#clip062)\" style=\"fill:#009af9; stroke:none; fill-opacity:0\" cx=\"1944.65\" cy=\"383.137\" r=\"2\"/>\n",
       "<circle clip-path=\"url(#clip062)\" style=\"fill:#009af9; stroke:none; fill-opacity:0\" cx=\"1944.65\" cy=\"343.782\" r=\"2\"/>\n",
       "<circle clip-path=\"url(#clip062)\" style=\"fill:#009af9; stroke:none; fill-opacity:0\" cx=\"1944.65\" cy=\"442.169\" r=\"2\"/>\n",
       "<circle clip-path=\"url(#clip062)\" style=\"fill:#009af9; stroke:none; fill-opacity:0\" cx=\"1944.65\" cy=\"442.169\" r=\"2\"/>\n",
       "<circle clip-path=\"url(#clip062)\" style=\"fill:#009af9; stroke:none; fill-opacity:0\" cx=\"1944.65\" cy=\"284.75\" r=\"2\"/>\n",
       "<circle clip-path=\"url(#clip062)\" style=\"fill:#009af9; stroke:none; fill-opacity:0\" cx=\"1944.65\" cy=\"324.105\" r=\"2\"/>\n",
       "<circle clip-path=\"url(#clip062)\" style=\"fill:#009af9; stroke:none; fill-opacity:0\" cx=\"1944.65\" cy=\"422.492\" r=\"2\"/>\n",
       "<circle clip-path=\"url(#clip062)\" style=\"fill:#009af9; stroke:none; fill-opacity:0\" cx=\"1944.65\" cy=\"461.847\" r=\"2\"/>\n",
       "<circle clip-path=\"url(#clip062)\" style=\"fill:#009af9; stroke:none; fill-opacity:0\" cx=\"1944.65\" cy=\"422.492\" r=\"2\"/>\n",
       "<circle clip-path=\"url(#clip062)\" style=\"fill:#009af9; stroke:none; fill-opacity:0\" cx=\"1944.65\" cy=\"383.137\" r=\"2\"/>\n",
       "<circle clip-path=\"url(#clip062)\" style=\"fill:#009af9; stroke:none; fill-opacity:0\" cx=\"1944.65\" cy=\"442.169\" r=\"2\"/>\n",
       "<path clip-path=\"url(#clip060)\" d=\"\n",
       "M1976.69 198.898 L2278.07 198.898 L2278.07 95.2176 L1976.69 95.2176  Z\n",
       "  \" fill=\"#ffffff\" fill-rule=\"evenodd\" fill-opacity=\"1\"/>\n",
       "<polyline clip-path=\"url(#clip060)\" style=\"stroke:#000000; stroke-linecap:butt; stroke-linejoin:round; stroke-width:4; stroke-opacity:1; fill:none\" points=\"\n",
       "  1976.69,198.898 2278.07,198.898 2278.07,95.2176 1976.69,95.2176 1976.69,198.898 \n",
       "  \"/>\n",
       "<path clip-path=\"url(#clip060)\" d=\"\n",
       "M2001.58 167.794 L2150.95 167.794 L2150.95 126.322 L2001.58 126.322 L2001.58 167.794  Z\n",
       "  \" fill=\"#009af9\" fill-rule=\"evenodd\" fill-opacity=\"1\"/>\n",
       "<polyline clip-path=\"url(#clip060)\" style=\"stroke:#000000; stroke-linecap:butt; stroke-linejoin:round; stroke-width:4; stroke-opacity:1; fill:none\" points=\"\n",
       "  2001.58,167.794 2150.95,167.794 2150.95,126.322 2001.58,126.322 2001.58,167.794 \n",
       "  \"/>\n",
       "<path clip-path=\"url(#clip060)\" d=\"M2189.69 166.745 Q2187.89 171.375 2186.17 172.787 Q2184.46 174.199 2181.59 174.199 L2178.19 174.199 L2178.19 170.634 L2180.69 170.634 Q2182.45 170.634 2183.42 169.8 Q2184.39 168.967 2185.57 165.865 L2186.34 163.921 L2175.85 138.412 L2180.36 138.412 L2188.46 158.689 L2196.57 138.412 L2201.08 138.412 L2189.69 166.745 Z\" fill=\"#000000\" fill-rule=\"evenodd\" fill-opacity=\"1\" /><path clip-path=\"url(#clip060)\" d=\"M2208.37 160.402 L2216.01 160.402 L2216.01 134.037 L2207.7 135.703 L2207.7 131.444 L2215.96 129.778 L2220.64 129.778 L2220.64 160.402 L2228.28 160.402 L2228.28 164.338 L2208.37 164.338 L2208.37 160.402 Z\" fill=\"#000000\" fill-rule=\"evenodd\" fill-opacity=\"1\" /></svg>\n"
      ]
     },
     "execution_count": 257,
     "metadata": {},
     "output_type": "execute_result"
    }
   ],
   "source": [
    "bar(iris.Species,iris.Petal_Length)"
   ]
  },
  {
   "cell_type": "code",
   "execution_count": 258,
   "metadata": {},
   "outputs": [
    {
     "data": {
      "image/svg+xml": [
       "<?xml version=\"1.0\" encoding=\"utf-8\"?>\n",
       "<svg xmlns=\"http://www.w3.org/2000/svg\" xmlns:xlink=\"http://www.w3.org/1999/xlink\" width=\"600\" height=\"400\" viewBox=\"0 0 2400 1600\">\n",
       "<defs>\n",
       "  <clipPath id=\"clip100\">\n",
       "    <rect x=\"0\" y=\"0\" width=\"2400\" height=\"1600\"/>\n",
       "  </clipPath>\n",
       "</defs>\n",
       "<path clip-path=\"url(#clip100)\" d=\"\n",
       "M0 1600 L2400 1600 L2400 0 L0 0  Z\n",
       "  \" fill=\"#ffffff\" fill-rule=\"evenodd\" fill-opacity=\"1\"/>\n",
       "<defs>\n",
       "  <clipPath id=\"clip101\">\n",
       "    <rect x=\"480\" y=\"0\" width=\"1681\" height=\"1600\"/>\n",
       "  </clipPath>\n",
       "</defs>\n",
       "<path clip-path=\"url(#clip100)\" d=\"\n",
       "M155.765 1486.45 L2352.76 1486.45 L2352.76 47.2441 L155.765 47.2441  Z\n",
       "  \" fill=\"#ffffff\" fill-rule=\"evenodd\" fill-opacity=\"1\"/>\n",
       "<defs>\n",
       "  <clipPath id=\"clip102\">\n",
       "    <rect x=\"155\" y=\"47\" width=\"2198\" height=\"1440\"/>\n",
       "  </clipPath>\n",
       "</defs>\n",
       "<polyline clip-path=\"url(#clip102)\" style=\"stroke:#000000; stroke-linecap:butt; stroke-linejoin:round; stroke-width:2; stroke-opacity:0.1; fill:none\" points=\"\n",
       "  217.944,1486.45 217.944,47.2441 \n",
       "  \"/>\n",
       "<polyline clip-path=\"url(#clip102)\" style=\"stroke:#000000; stroke-linecap:butt; stroke-linejoin:round; stroke-width:2; stroke-opacity:0.1; fill:none\" points=\"\n",
       "  569.238,1486.45 569.238,47.2441 \n",
       "  \"/>\n",
       "<polyline clip-path=\"url(#clip102)\" style=\"stroke:#000000; stroke-linecap:butt; stroke-linejoin:round; stroke-width:2; stroke-opacity:0.1; fill:none\" points=\"\n",
       "  920.531,1486.45 920.531,47.2441 \n",
       "  \"/>\n",
       "<polyline clip-path=\"url(#clip102)\" style=\"stroke:#000000; stroke-linecap:butt; stroke-linejoin:round; stroke-width:2; stroke-opacity:0.1; fill:none\" points=\"\n",
       "  1271.83,1486.45 1271.83,47.2441 \n",
       "  \"/>\n",
       "<polyline clip-path=\"url(#clip102)\" style=\"stroke:#000000; stroke-linecap:butt; stroke-linejoin:round; stroke-width:2; stroke-opacity:0.1; fill:none\" points=\"\n",
       "  1623.12,1486.45 1623.12,47.2441 \n",
       "  \"/>\n",
       "<polyline clip-path=\"url(#clip102)\" style=\"stroke:#000000; stroke-linecap:butt; stroke-linejoin:round; stroke-width:2; stroke-opacity:0.1; fill:none\" points=\"\n",
       "  1974.41,1486.45 1974.41,47.2441 \n",
       "  \"/>\n",
       "<polyline clip-path=\"url(#clip102)\" style=\"stroke:#000000; stroke-linecap:butt; stroke-linejoin:round; stroke-width:2; stroke-opacity:0.1; fill:none\" points=\"\n",
       "  2325.71,1486.45 2325.71,47.2441 \n",
       "  \"/>\n",
       "<polyline clip-path=\"url(#clip100)\" style=\"stroke:#000000; stroke-linecap:butt; stroke-linejoin:round; stroke-width:4; stroke-opacity:1; fill:none\" points=\"\n",
       "  155.765,1486.45 2352.76,1486.45 \n",
       "  \"/>\n",
       "<polyline clip-path=\"url(#clip100)\" style=\"stroke:#000000; stroke-linecap:butt; stroke-linejoin:round; stroke-width:4; stroke-opacity:1; fill:none\" points=\"\n",
       "  217.944,1486.45 217.944,1467.55 \n",
       "  \"/>\n",
       "<polyline clip-path=\"url(#clip100)\" style=\"stroke:#000000; stroke-linecap:butt; stroke-linejoin:round; stroke-width:4; stroke-opacity:1; fill:none\" points=\"\n",
       "  569.238,1486.45 569.238,1467.55 \n",
       "  \"/>\n",
       "<polyline clip-path=\"url(#clip100)\" style=\"stroke:#000000; stroke-linecap:butt; stroke-linejoin:round; stroke-width:4; stroke-opacity:1; fill:none\" points=\"\n",
       "  920.531,1486.45 920.531,1467.55 \n",
       "  \"/>\n",
       "<polyline clip-path=\"url(#clip100)\" style=\"stroke:#000000; stroke-linecap:butt; stroke-linejoin:round; stroke-width:4; stroke-opacity:1; fill:none\" points=\"\n",
       "  1271.83,1486.45 1271.83,1467.55 \n",
       "  \"/>\n",
       "<polyline clip-path=\"url(#clip100)\" style=\"stroke:#000000; stroke-linecap:butt; stroke-linejoin:round; stroke-width:4; stroke-opacity:1; fill:none\" points=\"\n",
       "  1623.12,1486.45 1623.12,1467.55 \n",
       "  \"/>\n",
       "<polyline clip-path=\"url(#clip100)\" style=\"stroke:#000000; stroke-linecap:butt; stroke-linejoin:round; stroke-width:4; stroke-opacity:1; fill:none\" points=\"\n",
       "  1974.41,1486.45 1974.41,1467.55 \n",
       "  \"/>\n",
       "<polyline clip-path=\"url(#clip100)\" style=\"stroke:#000000; stroke-linecap:butt; stroke-linejoin:round; stroke-width:4; stroke-opacity:1; fill:none\" points=\"\n",
       "  2325.71,1486.45 2325.71,1467.55 \n",
       "  \"/>\n",
       "<path clip-path=\"url(#clip100)\" d=\"M208.326 1544.91 L215.965 1544.91 L215.965 1518.55 L207.655 1520.21 L207.655 1515.95 L215.918 1514.29 L220.594 1514.29 L220.594 1544.91 L228.233 1544.91 L228.233 1548.85 L208.326 1548.85 L208.326 1544.91 Z\" fill=\"#000000\" fill-rule=\"evenodd\" fill-opacity=\"1\" /><path clip-path=\"url(#clip100)\" d=\"M563.89 1544.91 L580.21 1544.91 L580.21 1548.85 L558.265 1548.85 L558.265 1544.91 Q560.927 1542.16 565.511 1537.53 Q570.117 1532.88 571.298 1531.53 Q573.543 1529.01 574.423 1527.27 Q575.326 1525.51 575.326 1523.82 Q575.326 1521.07 573.381 1519.33 Q571.46 1517.6 568.358 1517.6 Q566.159 1517.6 563.705 1518.36 Q561.275 1519.13 558.497 1520.68 L558.497 1515.95 Q561.321 1514.82 563.775 1514.24 Q566.228 1513.66 568.265 1513.66 Q573.636 1513.66 576.83 1516.35 Q580.025 1519.03 580.025 1523.52 Q580.025 1525.65 579.214 1527.57 Q578.427 1529.47 576.321 1532.07 Q575.742 1532.74 572.64 1535.95 Q569.539 1539.15 563.89 1544.91 Z\" fill=\"#000000\" fill-rule=\"evenodd\" fill-opacity=\"1\" /><path clip-path=\"url(#clip100)\" d=\"M924.779 1530.21 Q928.135 1530.93 930.01 1533.2 Q931.909 1535.47 931.909 1538.8 Q931.909 1543.92 928.39 1546.72 Q924.872 1549.52 918.39 1549.52 Q916.214 1549.52 913.899 1549.08 Q911.608 1548.66 909.154 1547.81 L909.154 1543.29 Q911.099 1544.43 913.413 1545.01 Q915.728 1545.58 918.251 1545.58 Q922.649 1545.58 924.941 1543.85 Q927.256 1542.11 927.256 1538.8 Q927.256 1535.75 925.103 1534.03 Q922.973 1532.3 919.154 1532.3 L915.126 1532.3 L915.126 1528.45 L919.339 1528.45 Q922.788 1528.45 924.617 1527.09 Q926.446 1525.7 926.446 1523.11 Q926.446 1520.45 924.548 1519.03 Q922.673 1517.6 919.154 1517.6 Q917.233 1517.6 915.034 1518.01 Q912.835 1518.43 910.196 1519.31 L910.196 1515.14 Q912.858 1514.4 915.173 1514.03 Q917.511 1513.66 919.571 1513.66 Q924.895 1513.66 927.997 1516.09 Q931.098 1518.5 931.098 1522.62 Q931.098 1525.49 929.455 1527.48 Q927.811 1529.45 924.779 1530.21 Z\" fill=\"#000000\" fill-rule=\"evenodd\" fill-opacity=\"1\" /><path clip-path=\"url(#clip100)\" d=\"M1274.83 1518.36 L1263.03 1536.81 L1274.83 1536.81 L1274.83 1518.36 M1273.61 1514.29 L1279.49 1514.29 L1279.49 1536.81 L1284.42 1536.81 L1284.42 1540.7 L1279.49 1540.7 L1279.49 1548.85 L1274.83 1548.85 L1274.83 1540.7 L1259.23 1540.7 L1259.23 1536.19 L1273.61 1514.29 Z\" fill=\"#000000\" fill-rule=\"evenodd\" fill-opacity=\"1\" /><path clip-path=\"url(#clip100)\" d=\"M1613.4 1514.29 L1631.75 1514.29 L1631.75 1518.22 L1617.68 1518.22 L1617.68 1526.7 Q1618.7 1526.35 1619.72 1526.19 Q1620.73 1526 1621.75 1526 Q1627.54 1526 1630.92 1529.17 Q1634.3 1532.34 1634.3 1537.76 Q1634.3 1543.34 1630.83 1546.44 Q1627.35 1549.52 1621.04 1549.52 Q1618.86 1549.52 1616.59 1549.15 Q1614.35 1548.78 1611.94 1548.04 L1611.94 1543.34 Q1614.02 1544.47 1616.24 1545.03 Q1618.47 1545.58 1620.94 1545.58 Q1624.95 1545.58 1627.29 1543.48 Q1629.62 1541.37 1629.62 1537.76 Q1629.62 1534.15 1627.29 1532.04 Q1624.95 1529.94 1620.94 1529.94 Q1619.07 1529.94 1617.19 1530.35 Q1615.34 1530.77 1613.4 1531.65 L1613.4 1514.29 Z\" fill=\"#000000\" fill-rule=\"evenodd\" fill-opacity=\"1\" /><path clip-path=\"url(#clip100)\" d=\"M1974.82 1529.7 Q1971.67 1529.7 1969.82 1531.86 Q1967.99 1534.01 1967.99 1537.76 Q1967.99 1541.49 1969.82 1543.66 Q1971.67 1545.82 1974.82 1545.82 Q1977.97 1545.82 1979.79 1543.66 Q1981.65 1541.49 1981.65 1537.76 Q1981.65 1534.01 1979.79 1531.86 Q1977.97 1529.7 1974.82 1529.7 M1984.1 1515.05 L1984.1 1519.31 Q1982.34 1518.48 1980.54 1518.04 Q1978.75 1517.6 1976.99 1517.6 Q1972.36 1517.6 1969.91 1520.72 Q1967.48 1523.85 1967.13 1530.17 Q1968.5 1528.15 1970.56 1527.09 Q1972.62 1526 1975.1 1526 Q1980.3 1526 1983.31 1529.17 Q1986.35 1532.32 1986.35 1537.76 Q1986.35 1543.08 1983.2 1546.3 Q1980.05 1549.52 1974.82 1549.52 Q1968.82 1549.52 1965.65 1544.94 Q1962.48 1540.33 1962.48 1531.6 Q1962.48 1523.41 1966.37 1518.55 Q1970.26 1513.66 1976.81 1513.66 Q1978.57 1513.66 1980.35 1514.01 Q1982.16 1514.36 1984.1 1515.05 Z\" fill=\"#000000\" fill-rule=\"evenodd\" fill-opacity=\"1\" /><path clip-path=\"url(#clip100)\" d=\"M2314.6 1514.29 L2336.82 1514.29 L2336.82 1516.28 L2324.27 1548.85 L2319.39 1548.85 L2331.19 1518.22 L2314.6 1518.22 L2314.6 1514.29 Z\" fill=\"#000000\" fill-rule=\"evenodd\" fill-opacity=\"1\" /><polyline clip-path=\"url(#clip102)\" style=\"stroke:#000000; stroke-linecap:butt; stroke-linejoin:round; stroke-width:2; stroke-opacity:0.1; fill:none\" points=\"\n",
       "  155.765,1219.43 2352.76,1219.43 \n",
       "  \"/>\n",
       "<polyline clip-path=\"url(#clip102)\" style=\"stroke:#000000; stroke-linecap:butt; stroke-linejoin:round; stroke-width:2; stroke-opacity:0.1; fill:none\" points=\"\n",
       "  155.765,936.563 2352.76,936.563 \n",
       "  \"/>\n",
       "<polyline clip-path=\"url(#clip102)\" style=\"stroke:#000000; stroke-linecap:butt; stroke-linejoin:round; stroke-width:2; stroke-opacity:0.1; fill:none\" points=\"\n",
       "  155.765,653.701 2352.76,653.701 \n",
       "  \"/>\n",
       "<polyline clip-path=\"url(#clip102)\" style=\"stroke:#000000; stroke-linecap:butt; stroke-linejoin:round; stroke-width:2; stroke-opacity:0.1; fill:none\" points=\"\n",
       "  155.765,370.839 2352.76,370.839 \n",
       "  \"/>\n",
       "<polyline clip-path=\"url(#clip102)\" style=\"stroke:#000000; stroke-linecap:butt; stroke-linejoin:round; stroke-width:2; stroke-opacity:0.1; fill:none\" points=\"\n",
       "  155.765,87.9763 2352.76,87.9763 \n",
       "  \"/>\n",
       "<polyline clip-path=\"url(#clip100)\" style=\"stroke:#000000; stroke-linecap:butt; stroke-linejoin:round; stroke-width:4; stroke-opacity:1; fill:none\" points=\"\n",
       "  155.765,1486.45 155.765,47.2441 \n",
       "  \"/>\n",
       "<polyline clip-path=\"url(#clip100)\" style=\"stroke:#000000; stroke-linecap:butt; stroke-linejoin:round; stroke-width:4; stroke-opacity:1; fill:none\" points=\"\n",
       "  155.765,1219.43 174.663,1219.43 \n",
       "  \"/>\n",
       "<polyline clip-path=\"url(#clip100)\" style=\"stroke:#000000; stroke-linecap:butt; stroke-linejoin:round; stroke-width:4; stroke-opacity:1; fill:none\" points=\"\n",
       "  155.765,936.563 174.663,936.563 \n",
       "  \"/>\n",
       "<polyline clip-path=\"url(#clip100)\" style=\"stroke:#000000; stroke-linecap:butt; stroke-linejoin:round; stroke-width:4; stroke-opacity:1; fill:none\" points=\"\n",
       "  155.765,653.701 174.663,653.701 \n",
       "  \"/>\n",
       "<polyline clip-path=\"url(#clip100)\" style=\"stroke:#000000; stroke-linecap:butt; stroke-linejoin:round; stroke-width:4; stroke-opacity:1; fill:none\" points=\"\n",
       "  155.765,370.839 174.663,370.839 \n",
       "  \"/>\n",
       "<polyline clip-path=\"url(#clip100)\" style=\"stroke:#000000; stroke-linecap:butt; stroke-linejoin:round; stroke-width:4; stroke-opacity:1; fill:none\" points=\"\n",
       "  155.765,87.9763 174.663,87.9763 \n",
       "  \"/>\n",
       "<path clip-path=\"url(#clip100)\" d=\"M63.5847 1205.22 Q59.9736 1205.22 58.1449 1208.79 Q56.3393 1212.33 56.3393 1219.46 Q56.3393 1226.57 58.1449 1230.13 Q59.9736 1233.67 63.5847 1233.67 Q67.2189 1233.67 69.0244 1230.13 Q70.8531 1226.57 70.8531 1219.46 Q70.8531 1212.33 69.0244 1208.79 Q67.2189 1205.22 63.5847 1205.22 M63.5847 1201.52 Q69.3948 1201.52 72.4503 1206.13 Q75.529 1210.71 75.529 1219.46 Q75.529 1228.19 72.4503 1232.79 Q69.3948 1237.38 63.5847 1237.38 Q57.7745 1237.38 54.6958 1232.79 Q51.6403 1228.19 51.6403 1219.46 Q51.6403 1210.71 54.6958 1206.13 Q57.7745 1201.52 63.5847 1201.52 Z\" fill=\"#000000\" fill-rule=\"evenodd\" fill-opacity=\"1\" /><path clip-path=\"url(#clip100)\" d=\"M83.7466 1230.83 L88.6308 1230.83 L88.6308 1236.71 L83.7466 1236.71 L83.7466 1230.83 Z\" fill=\"#000000\" fill-rule=\"evenodd\" fill-opacity=\"1\" /><path clip-path=\"url(#clip100)\" d=\"M98.8622 1202.15 L117.219 1202.15 L117.219 1206.08 L103.145 1206.08 L103.145 1214.55 Q104.163 1214.21 105.182 1214.04 Q106.2 1213.86 107.219 1213.86 Q113.006 1213.86 116.385 1217.03 Q119.765 1220.2 119.765 1225.62 Q119.765 1231.2 116.293 1234.3 Q112.82 1237.38 106.501 1237.38 Q104.325 1237.38 102.057 1237.01 Q99.8113 1236.64 97.4039 1235.9 L97.4039 1231.2 Q99.4872 1232.33 101.709 1232.89 Q103.932 1233.44 106.408 1233.44 Q110.413 1233.44 112.751 1231.34 Q115.089 1229.23 115.089 1225.62 Q115.089 1222.01 112.751 1219.9 Q110.413 1217.79 106.408 1217.79 Q104.534 1217.79 102.659 1218.21 Q100.807 1218.63 98.8622 1219.51 L98.8622 1202.15 Z\" fill=\"#000000\" fill-rule=\"evenodd\" fill-opacity=\"1\" /><path clip-path=\"url(#clip100)\" d=\"M53.3995 949.908 L61.0384 949.908 L61.0384 923.543 L52.7282 925.209 L52.7282 920.95 L60.9921 919.283 L65.668 919.283 L65.668 949.908 L73.3068 949.908 L73.3068 953.843 L53.3995 953.843 L53.3995 949.908 Z\" fill=\"#000000\" fill-rule=\"evenodd\" fill-opacity=\"1\" /><path clip-path=\"url(#clip100)\" d=\"M82.7512 947.964 L87.6354 947.964 L87.6354 953.843 L82.7512 953.843 L82.7512 947.964 Z\" fill=\"#000000\" fill-rule=\"evenodd\" fill-opacity=\"1\" /><path clip-path=\"url(#clip100)\" d=\"M107.821 922.362 Q104.209 922.362 102.381 925.927 Q100.575 929.469 100.575 936.598 Q100.575 943.705 102.381 947.269 Q104.209 950.811 107.821 950.811 Q111.455 950.811 113.26 947.269 Q115.089 943.705 115.089 936.598 Q115.089 929.469 113.26 925.927 Q111.455 922.362 107.821 922.362 M107.821 918.658 Q113.631 918.658 116.686 923.265 Q119.765 927.848 119.765 936.598 Q119.765 945.325 116.686 949.931 Q113.631 954.515 107.821 954.515 Q102.01 954.515 98.9317 949.931 Q95.8761 945.325 95.8761 936.598 Q95.8761 927.848 98.9317 923.265 Q102.01 918.658 107.821 918.658 Z\" fill=\"#000000\" fill-rule=\"evenodd\" fill-opacity=\"1\" /><path clip-path=\"url(#clip100)\" d=\"M54.3949 667.046 L62.0337 667.046 L62.0337 640.68 L53.7236 642.347 L53.7236 638.088 L61.9874 636.421 L66.6633 636.421 L66.6633 667.046 L74.3022 667.046 L74.3022 670.981 L54.3949 670.981 L54.3949 667.046 Z\" fill=\"#000000\" fill-rule=\"evenodd\" fill-opacity=\"1\" /><path clip-path=\"url(#clip100)\" d=\"M83.7466 665.101 L88.6308 665.101 L88.6308 670.981 L83.7466 670.981 L83.7466 665.101 Z\" fill=\"#000000\" fill-rule=\"evenodd\" fill-opacity=\"1\" /><path clip-path=\"url(#clip100)\" d=\"M98.8622 636.421 L117.219 636.421 L117.219 640.356 L103.145 640.356 L103.145 648.828 Q104.163 648.481 105.182 648.319 Q106.2 648.134 107.219 648.134 Q113.006 648.134 116.385 651.305 Q119.765 654.476 119.765 659.893 Q119.765 665.472 116.293 668.574 Q112.82 671.652 106.501 671.652 Q104.325 671.652 102.057 671.282 Q99.8113 670.912 97.4039 670.171 L97.4039 665.472 Q99.4872 666.606 101.709 667.162 Q103.932 667.717 106.408 667.717 Q110.413 667.717 112.751 665.611 Q115.089 663.504 115.089 659.893 Q115.089 656.282 112.751 654.176 Q110.413 652.069 106.408 652.069 Q104.534 652.069 102.659 652.486 Q100.807 652.902 98.8622 653.782 L98.8622 636.421 Z\" fill=\"#000000\" fill-rule=\"evenodd\" fill-opacity=\"1\" /><path clip-path=\"url(#clip100)\" d=\"M56.6171 384.183 L72.9365 384.183 L72.9365 388.119 L50.9921 388.119 L50.9921 384.183 Q53.6541 381.429 58.2375 376.799 Q62.8439 372.147 64.0245 370.804 Q66.2698 368.281 67.1494 366.545 Q68.0522 364.785 68.0522 363.096 Q68.0522 360.341 66.1078 358.605 Q64.1865 356.869 61.0847 356.869 Q58.8856 356.869 56.4319 357.633 Q54.0014 358.397 51.2236 359.948 L51.2236 355.225 Q54.0477 354.091 56.5014 353.512 Q58.955 352.934 60.9921 352.934 Q66.3624 352.934 69.5568 355.619 Q72.7513 358.304 72.7513 362.795 Q72.7513 364.924 71.9411 366.846 Q71.1541 368.744 69.0476 371.336 Q68.4689 372.008 65.367 375.225 Q62.2652 378.42 56.6171 384.183 Z\" fill=\"#000000\" fill-rule=\"evenodd\" fill-opacity=\"1\" /><path clip-path=\"url(#clip100)\" d=\"M82.7512 382.239 L87.6354 382.239 L87.6354 388.119 L82.7512 388.119 L82.7512 382.239 Z\" fill=\"#000000\" fill-rule=\"evenodd\" fill-opacity=\"1\" /><path clip-path=\"url(#clip100)\" d=\"M107.821 356.637 Q104.209 356.637 102.381 360.202 Q100.575 363.744 100.575 370.873 Q100.575 377.98 102.381 381.545 Q104.209 385.086 107.821 385.086 Q111.455 385.086 113.26 381.545 Q115.089 377.98 115.089 370.873 Q115.089 363.744 113.26 360.202 Q111.455 356.637 107.821 356.637 M107.821 352.934 Q113.631 352.934 116.686 357.54 Q119.765 362.123 119.765 370.873 Q119.765 379.6 116.686 384.207 Q113.631 388.79 107.821 388.79 Q102.01 388.79 98.9317 384.207 Q95.8761 379.6 95.8761 370.873 Q95.8761 362.123 98.9317 357.54 Q102.01 352.934 107.821 352.934 Z\" fill=\"#000000\" fill-rule=\"evenodd\" fill-opacity=\"1\" /><path clip-path=\"url(#clip100)\" d=\"M57.6125 101.321 L73.9318 101.321 L73.9318 105.256 L51.9875 105.256 L51.9875 101.321 Q54.6495 98.5665 59.2328 93.9369 Q63.8393 89.2841 65.0198 87.9416 Q67.2652 85.4184 68.1448 83.6823 Q69.0476 81.9231 69.0476 80.2333 Q69.0476 77.4786 67.1032 75.7425 Q65.1819 74.0064 62.08 74.0064 Q59.881 74.0064 57.4273 74.7703 Q54.9967 75.5342 52.219 77.0851 L52.219 72.3629 Q55.043 71.2287 57.4967 70.65 Q59.9504 70.0713 61.9874 70.0713 Q67.3578 70.0713 70.5522 72.7565 Q73.7466 75.4416 73.7466 79.9323 Q73.7466 82.062 72.9365 83.9832 Q72.1494 85.8814 70.0429 88.474 Q69.4642 89.1453 66.3624 92.3628 Q63.2606 95.5573 57.6125 101.321 Z\" fill=\"#000000\" fill-rule=\"evenodd\" fill-opacity=\"1\" /><path clip-path=\"url(#clip100)\" d=\"M83.7466 99.3767 L88.6308 99.3767 L88.6308 105.256 L83.7466 105.256 L83.7466 99.3767 Z\" fill=\"#000000\" fill-rule=\"evenodd\" fill-opacity=\"1\" /><path clip-path=\"url(#clip100)\" d=\"M98.8622 70.6963 L117.219 70.6963 L117.219 74.6314 L103.145 74.6314 L103.145 83.1036 Q104.163 82.7564 105.182 82.5944 Q106.2 82.4092 107.219 82.4092 Q113.006 82.4092 116.385 85.5805 Q119.765 88.7517 119.765 94.1684 Q119.765 99.747 116.293 102.849 Q112.82 105.928 106.501 105.928 Q104.325 105.928 102.057 105.557 Q99.8113 105.187 97.4039 104.446 L97.4039 99.747 Q99.4872 100.881 101.709 101.437 Q103.932 101.992 106.408 101.992 Q110.413 101.992 112.751 99.8859 Q115.089 97.7795 115.089 94.1684 Q115.089 90.5573 112.751 88.4508 Q110.413 86.3443 106.408 86.3443 Q104.534 86.3443 102.659 86.761 Q100.807 87.1777 98.8622 88.0573 L98.8622 70.6963 Z\" fill=\"#000000\" fill-rule=\"evenodd\" fill-opacity=\"1\" /><circle clip-path=\"url(#clip102)\" cx=\"358.461\" cy=\"1389.14\" r=\"14\" fill=\"#009af9\" fill-rule=\"evenodd\" fill-opacity=\"1\" stroke=\"#000000\" stroke-opacity=\"1\" stroke-width=\"3.2\"/>\n",
       "<circle clip-path=\"url(#clip102)\" cx=\"358.461\" cy=\"1389.14\" r=\"14\" fill=\"#009af9\" fill-rule=\"evenodd\" fill-opacity=\"1\" stroke=\"#000000\" stroke-opacity=\"1\" stroke-width=\"3.2\"/>\n",
       "<circle clip-path=\"url(#clip102)\" cx=\"323.332\" cy=\"1389.14\" r=\"14\" fill=\"#009af9\" fill-rule=\"evenodd\" fill-opacity=\"1\" stroke=\"#000000\" stroke-opacity=\"1\" stroke-width=\"3.2\"/>\n",
       "<circle clip-path=\"url(#clip102)\" cx=\"393.591\" cy=\"1389.14\" r=\"14\" fill=\"#009af9\" fill-rule=\"evenodd\" fill-opacity=\"1\" stroke=\"#000000\" stroke-opacity=\"1\" stroke-width=\"3.2\"/>\n",
       "<circle clip-path=\"url(#clip102)\" cx=\"358.461\" cy=\"1389.14\" r=\"14\" fill=\"#009af9\" fill-rule=\"evenodd\" fill-opacity=\"1\" stroke=\"#000000\" stroke-opacity=\"1\" stroke-width=\"3.2\"/>\n",
       "<circle clip-path=\"url(#clip102)\" cx=\"463.85\" cy=\"1276\" r=\"14\" fill=\"#009af9\" fill-rule=\"evenodd\" fill-opacity=\"1\" stroke=\"#000000\" stroke-opacity=\"1\" stroke-width=\"3.2\"/>\n",
       "<circle clip-path=\"url(#clip102)\" cx=\"358.461\" cy=\"1332.57\" r=\"14\" fill=\"#009af9\" fill-rule=\"evenodd\" fill-opacity=\"1\" stroke=\"#000000\" stroke-opacity=\"1\" stroke-width=\"3.2\"/>\n",
       "<circle clip-path=\"url(#clip102)\" cx=\"393.591\" cy=\"1389.14\" r=\"14\" fill=\"#009af9\" fill-rule=\"evenodd\" fill-opacity=\"1\" stroke=\"#000000\" stroke-opacity=\"1\" stroke-width=\"3.2\"/>\n",
       "<circle clip-path=\"url(#clip102)\" cx=\"358.461\" cy=\"1389.14\" r=\"14\" fill=\"#009af9\" fill-rule=\"evenodd\" fill-opacity=\"1\" stroke=\"#000000\" stroke-opacity=\"1\" stroke-width=\"3.2\"/>\n",
       "<circle clip-path=\"url(#clip102)\" cx=\"393.591\" cy=\"1445.72\" r=\"14\" fill=\"#009af9\" fill-rule=\"evenodd\" fill-opacity=\"1\" stroke=\"#000000\" stroke-opacity=\"1\" stroke-width=\"3.2\"/>\n",
       "<circle clip-path=\"url(#clip102)\" cx=\"393.591\" cy=\"1389.14\" r=\"14\" fill=\"#009af9\" fill-rule=\"evenodd\" fill-opacity=\"1\" stroke=\"#000000\" stroke-opacity=\"1\" stroke-width=\"3.2\"/>\n",
       "<circle clip-path=\"url(#clip102)\" cx=\"428.72\" cy=\"1389.14\" r=\"14\" fill=\"#009af9\" fill-rule=\"evenodd\" fill-opacity=\"1\" stroke=\"#000000\" stroke-opacity=\"1\" stroke-width=\"3.2\"/>\n",
       "<circle clip-path=\"url(#clip102)\" cx=\"358.461\" cy=\"1445.72\" r=\"14\" fill=\"#009af9\" fill-rule=\"evenodd\" fill-opacity=\"1\" stroke=\"#000000\" stroke-opacity=\"1\" stroke-width=\"3.2\"/>\n",
       "<circle clip-path=\"url(#clip102)\" cx=\"253.073\" cy=\"1445.72\" r=\"14\" fill=\"#009af9\" fill-rule=\"evenodd\" fill-opacity=\"1\" stroke=\"#000000\" stroke-opacity=\"1\" stroke-width=\"3.2\"/>\n",
       "<circle clip-path=\"url(#clip102)\" cx=\"288.203\" cy=\"1389.14\" r=\"14\" fill=\"#009af9\" fill-rule=\"evenodd\" fill-opacity=\"1\" stroke=\"#000000\" stroke-opacity=\"1\" stroke-width=\"3.2\"/>\n",
       "<circle clip-path=\"url(#clip102)\" cx=\"393.591\" cy=\"1276\" r=\"14\" fill=\"#009af9\" fill-rule=\"evenodd\" fill-opacity=\"1\" stroke=\"#000000\" stroke-opacity=\"1\" stroke-width=\"3.2\"/>\n",
       "<circle clip-path=\"url(#clip102)\" cx=\"323.332\" cy=\"1276\" r=\"14\" fill=\"#009af9\" fill-rule=\"evenodd\" fill-opacity=\"1\" stroke=\"#000000\" stroke-opacity=\"1\" stroke-width=\"3.2\"/>\n",
       "<circle clip-path=\"url(#clip102)\" cx=\"358.461\" cy=\"1332.57\" r=\"14\" fill=\"#009af9\" fill-rule=\"evenodd\" fill-opacity=\"1\" stroke=\"#000000\" stroke-opacity=\"1\" stroke-width=\"3.2\"/>\n",
       "<circle clip-path=\"url(#clip102)\" cx=\"463.85\" cy=\"1332.57\" r=\"14\" fill=\"#009af9\" fill-rule=\"evenodd\" fill-opacity=\"1\" stroke=\"#000000\" stroke-opacity=\"1\" stroke-width=\"3.2\"/>\n",
       "<circle clip-path=\"url(#clip102)\" cx=\"393.591\" cy=\"1332.57\" r=\"14\" fill=\"#009af9\" fill-rule=\"evenodd\" fill-opacity=\"1\" stroke=\"#000000\" stroke-opacity=\"1\" stroke-width=\"3.2\"/>\n",
       "<circle clip-path=\"url(#clip102)\" cx=\"463.85\" cy=\"1389.14\" r=\"14\" fill=\"#009af9\" fill-rule=\"evenodd\" fill-opacity=\"1\" stroke=\"#000000\" stroke-opacity=\"1\" stroke-width=\"3.2\"/>\n",
       "<circle clip-path=\"url(#clip102)\" cx=\"393.591\" cy=\"1276\" r=\"14\" fill=\"#009af9\" fill-rule=\"evenodd\" fill-opacity=\"1\" stroke=\"#000000\" stroke-opacity=\"1\" stroke-width=\"3.2\"/>\n",
       "<circle clip-path=\"url(#clip102)\" cx=\"217.944\" cy=\"1389.14\" r=\"14\" fill=\"#009af9\" fill-rule=\"evenodd\" fill-opacity=\"1\" stroke=\"#000000\" stroke-opacity=\"1\" stroke-width=\"3.2\"/>\n",
       "<circle clip-path=\"url(#clip102)\" cx=\"463.85\" cy=\"1219.43\" r=\"14\" fill=\"#009af9\" fill-rule=\"evenodd\" fill-opacity=\"1\" stroke=\"#000000\" stroke-opacity=\"1\" stroke-width=\"3.2\"/>\n",
       "<circle clip-path=\"url(#clip102)\" cx=\"534.108\" cy=\"1389.14\" r=\"14\" fill=\"#009af9\" fill-rule=\"evenodd\" fill-opacity=\"1\" stroke=\"#000000\" stroke-opacity=\"1\" stroke-width=\"3.2\"/>\n",
       "<circle clip-path=\"url(#clip102)\" cx=\"428.72\" cy=\"1389.14\" r=\"14\" fill=\"#009af9\" fill-rule=\"evenodd\" fill-opacity=\"1\" stroke=\"#000000\" stroke-opacity=\"1\" stroke-width=\"3.2\"/>\n",
       "<circle clip-path=\"url(#clip102)\" cx=\"428.72\" cy=\"1276\" r=\"14\" fill=\"#009af9\" fill-rule=\"evenodd\" fill-opacity=\"1\" stroke=\"#000000\" stroke-opacity=\"1\" stroke-width=\"3.2\"/>\n",
       "<circle clip-path=\"url(#clip102)\" cx=\"393.591\" cy=\"1389.14\" r=\"14\" fill=\"#009af9\" fill-rule=\"evenodd\" fill-opacity=\"1\" stroke=\"#000000\" stroke-opacity=\"1\" stroke-width=\"3.2\"/>\n",
       "<circle clip-path=\"url(#clip102)\" cx=\"358.461\" cy=\"1389.14\" r=\"14\" fill=\"#009af9\" fill-rule=\"evenodd\" fill-opacity=\"1\" stroke=\"#000000\" stroke-opacity=\"1\" stroke-width=\"3.2\"/>\n",
       "<circle clip-path=\"url(#clip102)\" cx=\"428.72\" cy=\"1389.14\" r=\"14\" fill=\"#009af9\" fill-rule=\"evenodd\" fill-opacity=\"1\" stroke=\"#000000\" stroke-opacity=\"1\" stroke-width=\"3.2\"/>\n",
       "<circle clip-path=\"url(#clip102)\" cx=\"428.72\" cy=\"1389.14\" r=\"14\" fill=\"#009af9\" fill-rule=\"evenodd\" fill-opacity=\"1\" stroke=\"#000000\" stroke-opacity=\"1\" stroke-width=\"3.2\"/>\n",
       "<circle clip-path=\"url(#clip102)\" cx=\"393.591\" cy=\"1276\" r=\"14\" fill=\"#009af9\" fill-rule=\"evenodd\" fill-opacity=\"1\" stroke=\"#000000\" stroke-opacity=\"1\" stroke-width=\"3.2\"/>\n",
       "<circle clip-path=\"url(#clip102)\" cx=\"393.591\" cy=\"1445.72\" r=\"14\" fill=\"#009af9\" fill-rule=\"evenodd\" fill-opacity=\"1\" stroke=\"#000000\" stroke-opacity=\"1\" stroke-width=\"3.2\"/>\n",
       "<circle clip-path=\"url(#clip102)\" cx=\"358.461\" cy=\"1389.14\" r=\"14\" fill=\"#009af9\" fill-rule=\"evenodd\" fill-opacity=\"1\" stroke=\"#000000\" stroke-opacity=\"1\" stroke-width=\"3.2\"/>\n",
       "<circle clip-path=\"url(#clip102)\" cx=\"393.591\" cy=\"1389.14\" r=\"14\" fill=\"#009af9\" fill-rule=\"evenodd\" fill-opacity=\"1\" stroke=\"#000000\" stroke-opacity=\"1\" stroke-width=\"3.2\"/>\n",
       "<circle clip-path=\"url(#clip102)\" cx=\"288.203\" cy=\"1389.14\" r=\"14\" fill=\"#009af9\" fill-rule=\"evenodd\" fill-opacity=\"1\" stroke=\"#000000\" stroke-opacity=\"1\" stroke-width=\"3.2\"/>\n",
       "<circle clip-path=\"url(#clip102)\" cx=\"323.332\" cy=\"1389.14\" r=\"14\" fill=\"#009af9\" fill-rule=\"evenodd\" fill-opacity=\"1\" stroke=\"#000000\" stroke-opacity=\"1\" stroke-width=\"3.2\"/>\n",
       "<circle clip-path=\"url(#clip102)\" cx=\"358.461\" cy=\"1445.72\" r=\"14\" fill=\"#009af9\" fill-rule=\"evenodd\" fill-opacity=\"1\" stroke=\"#000000\" stroke-opacity=\"1\" stroke-width=\"3.2\"/>\n",
       "<circle clip-path=\"url(#clip102)\" cx=\"323.332\" cy=\"1389.14\" r=\"14\" fill=\"#009af9\" fill-rule=\"evenodd\" fill-opacity=\"1\" stroke=\"#000000\" stroke-opacity=\"1\" stroke-width=\"3.2\"/>\n",
       "<circle clip-path=\"url(#clip102)\" cx=\"393.591\" cy=\"1389.14\" r=\"14\" fill=\"#009af9\" fill-rule=\"evenodd\" fill-opacity=\"1\" stroke=\"#000000\" stroke-opacity=\"1\" stroke-width=\"3.2\"/>\n",
       "<circle clip-path=\"url(#clip102)\" cx=\"323.332\" cy=\"1332.57\" r=\"14\" fill=\"#009af9\" fill-rule=\"evenodd\" fill-opacity=\"1\" stroke=\"#000000\" stroke-opacity=\"1\" stroke-width=\"3.2\"/>\n",
       "<circle clip-path=\"url(#clip102)\" cx=\"323.332\" cy=\"1332.57\" r=\"14\" fill=\"#009af9\" fill-rule=\"evenodd\" fill-opacity=\"1\" stroke=\"#000000\" stroke-opacity=\"1\" stroke-width=\"3.2\"/>\n",
       "<circle clip-path=\"url(#clip102)\" cx=\"323.332\" cy=\"1389.14\" r=\"14\" fill=\"#009af9\" fill-rule=\"evenodd\" fill-opacity=\"1\" stroke=\"#000000\" stroke-opacity=\"1\" stroke-width=\"3.2\"/>\n",
       "<circle clip-path=\"url(#clip102)\" cx=\"428.72\" cy=\"1162.85\" r=\"14\" fill=\"#009af9\" fill-rule=\"evenodd\" fill-opacity=\"1\" stroke=\"#000000\" stroke-opacity=\"1\" stroke-width=\"3.2\"/>\n",
       "<circle clip-path=\"url(#clip102)\" cx=\"534.108\" cy=\"1276\" r=\"14\" fill=\"#009af9\" fill-rule=\"evenodd\" fill-opacity=\"1\" stroke=\"#000000\" stroke-opacity=\"1\" stroke-width=\"3.2\"/>\n",
       "<circle clip-path=\"url(#clip102)\" cx=\"358.461\" cy=\"1332.57\" r=\"14\" fill=\"#009af9\" fill-rule=\"evenodd\" fill-opacity=\"1\" stroke=\"#000000\" stroke-opacity=\"1\" stroke-width=\"3.2\"/>\n",
       "<circle clip-path=\"url(#clip102)\" cx=\"428.72\" cy=\"1389.14\" r=\"14\" fill=\"#009af9\" fill-rule=\"evenodd\" fill-opacity=\"1\" stroke=\"#000000\" stroke-opacity=\"1\" stroke-width=\"3.2\"/>\n",
       "<circle clip-path=\"url(#clip102)\" cx=\"358.461\" cy=\"1389.14\" r=\"14\" fill=\"#009af9\" fill-rule=\"evenodd\" fill-opacity=\"1\" stroke=\"#000000\" stroke-opacity=\"1\" stroke-width=\"3.2\"/>\n",
       "<circle clip-path=\"url(#clip102)\" cx=\"393.591\" cy=\"1389.14\" r=\"14\" fill=\"#009af9\" fill-rule=\"evenodd\" fill-opacity=\"1\" stroke=\"#000000\" stroke-opacity=\"1\" stroke-width=\"3.2\"/>\n",
       "<circle clip-path=\"url(#clip102)\" cx=\"358.461\" cy=\"1389.14\" r=\"14\" fill=\"#009af9\" fill-rule=\"evenodd\" fill-opacity=\"1\" stroke=\"#000000\" stroke-opacity=\"1\" stroke-width=\"3.2\"/>\n",
       "<circle clip-path=\"url(#clip102)\" cx=\"1517.73\" cy=\"710.274\" r=\"14\" fill=\"#009af9\" fill-rule=\"evenodd\" fill-opacity=\"1\" stroke=\"#000000\" stroke-opacity=\"1\" stroke-width=\"3.2\"/>\n",
       "<circle clip-path=\"url(#clip102)\" cx=\"1447.47\" cy=\"653.701\" r=\"14\" fill=\"#009af9\" fill-rule=\"evenodd\" fill-opacity=\"1\" stroke=\"#000000\" stroke-opacity=\"1\" stroke-width=\"3.2\"/>\n",
       "<circle clip-path=\"url(#clip102)\" cx=\"1587.99\" cy=\"653.701\" r=\"14\" fill=\"#009af9\" fill-rule=\"evenodd\" fill-opacity=\"1\" stroke=\"#000000\" stroke-opacity=\"1\" stroke-width=\"3.2\"/>\n",
       "<circle clip-path=\"url(#clip102)\" cx=\"1271.83\" cy=\"766.846\" r=\"14\" fill=\"#009af9\" fill-rule=\"evenodd\" fill-opacity=\"1\" stroke=\"#000000\" stroke-opacity=\"1\" stroke-width=\"3.2\"/>\n",
       "<circle clip-path=\"url(#clip102)\" cx=\"1482.6\" cy=\"653.701\" r=\"14\" fill=\"#009af9\" fill-rule=\"evenodd\" fill-opacity=\"1\" stroke=\"#000000\" stroke-opacity=\"1\" stroke-width=\"3.2\"/>\n",
       "<circle clip-path=\"url(#clip102)\" cx=\"1447.47\" cy=\"766.846\" r=\"14\" fill=\"#009af9\" fill-rule=\"evenodd\" fill-opacity=\"1\" stroke=\"#000000\" stroke-opacity=\"1\" stroke-width=\"3.2\"/>\n",
       "<circle clip-path=\"url(#clip102)\" cx=\"1517.73\" cy=\"597.129\" r=\"14\" fill=\"#009af9\" fill-rule=\"evenodd\" fill-opacity=\"1\" stroke=\"#000000\" stroke-opacity=\"1\" stroke-width=\"3.2\"/>\n",
       "<circle clip-path=\"url(#clip102)\" cx=\"1025.92\" cy=\"936.563\" r=\"14\" fill=\"#009af9\" fill-rule=\"evenodd\" fill-opacity=\"1\" stroke=\"#000000\" stroke-opacity=\"1\" stroke-width=\"3.2\"/>\n",
       "<circle clip-path=\"url(#clip102)\" cx=\"1482.6\" cy=\"766.846\" r=\"14\" fill=\"#009af9\" fill-rule=\"evenodd\" fill-opacity=\"1\" stroke=\"#000000\" stroke-opacity=\"1\" stroke-width=\"3.2\"/>\n",
       "<circle clip-path=\"url(#clip102)\" cx=\"1236.7\" cy=\"710.274\" r=\"14\" fill=\"#009af9\" fill-rule=\"evenodd\" fill-opacity=\"1\" stroke=\"#000000\" stroke-opacity=\"1\" stroke-width=\"3.2\"/>\n",
       "<circle clip-path=\"url(#clip102)\" cx=\"1096.18\" cy=\"936.563\" r=\"14\" fill=\"#009af9\" fill-rule=\"evenodd\" fill-opacity=\"1\" stroke=\"#000000\" stroke-opacity=\"1\" stroke-width=\"3.2\"/>\n",
       "<circle clip-path=\"url(#clip102)\" cx=\"1342.08\" cy=\"653.701\" r=\"14\" fill=\"#009af9\" fill-rule=\"evenodd\" fill-opacity=\"1\" stroke=\"#000000\" stroke-opacity=\"1\" stroke-width=\"3.2\"/>\n",
       "<circle clip-path=\"url(#clip102)\" cx=\"1271.83\" cy=\"936.563\" r=\"14\" fill=\"#009af9\" fill-rule=\"evenodd\" fill-opacity=\"1\" stroke=\"#000000\" stroke-opacity=\"1\" stroke-width=\"3.2\"/>\n",
       "<circle clip-path=\"url(#clip102)\" cx=\"1517.73\" cy=\"710.274\" r=\"14\" fill=\"#009af9\" fill-rule=\"evenodd\" fill-opacity=\"1\" stroke=\"#000000\" stroke-opacity=\"1\" stroke-width=\"3.2\"/>\n",
       "<circle clip-path=\"url(#clip102)\" cx=\"1131.31\" cy=\"766.846\" r=\"14\" fill=\"#009af9\" fill-rule=\"evenodd\" fill-opacity=\"1\" stroke=\"#000000\" stroke-opacity=\"1\" stroke-width=\"3.2\"/>\n",
       "<circle clip-path=\"url(#clip102)\" cx=\"1412.34\" cy=\"710.274\" r=\"14\" fill=\"#009af9\" fill-rule=\"evenodd\" fill-opacity=\"1\" stroke=\"#000000\" stroke-opacity=\"1\" stroke-width=\"3.2\"/>\n",
       "<circle clip-path=\"url(#clip102)\" cx=\"1447.47\" cy=\"653.701\" r=\"14\" fill=\"#009af9\" fill-rule=\"evenodd\" fill-opacity=\"1\" stroke=\"#000000\" stroke-opacity=\"1\" stroke-width=\"3.2\"/>\n",
       "<circle clip-path=\"url(#clip102)\" cx=\"1306.95\" cy=\"936.563\" r=\"14\" fill=\"#009af9\" fill-rule=\"evenodd\" fill-opacity=\"1\" stroke=\"#000000\" stroke-opacity=\"1\" stroke-width=\"3.2\"/>\n",
       "<circle clip-path=\"url(#clip102)\" cx=\"1447.47\" cy=\"653.701\" r=\"14\" fill=\"#009af9\" fill-rule=\"evenodd\" fill-opacity=\"1\" stroke=\"#000000\" stroke-opacity=\"1\" stroke-width=\"3.2\"/>\n",
       "<circle clip-path=\"url(#clip102)\" cx=\"1236.7\" cy=\"879.991\" r=\"14\" fill=\"#009af9\" fill-rule=\"evenodd\" fill-opacity=\"1\" stroke=\"#000000\" stroke-opacity=\"1\" stroke-width=\"3.2\"/>\n",
       "<circle clip-path=\"url(#clip102)\" cx=\"1552.86\" cy=\"483.984\" r=\"14\" fill=\"#009af9\" fill-rule=\"evenodd\" fill-opacity=\"1\" stroke=\"#000000\" stroke-opacity=\"1\" stroke-width=\"3.2\"/>\n",
       "<circle clip-path=\"url(#clip102)\" cx=\"1271.83\" cy=\"766.846\" r=\"14\" fill=\"#009af9\" fill-rule=\"evenodd\" fill-opacity=\"1\" stroke=\"#000000\" stroke-opacity=\"1\" stroke-width=\"3.2\"/>\n",
       "<circle clip-path=\"url(#clip102)\" cx=\"1587.99\" cy=\"653.701\" r=\"14\" fill=\"#009af9\" fill-rule=\"evenodd\" fill-opacity=\"1\" stroke=\"#000000\" stroke-opacity=\"1\" stroke-width=\"3.2\"/>\n",
       "<circle clip-path=\"url(#clip102)\" cx=\"1517.73\" cy=\"823.418\" r=\"14\" fill=\"#009af9\" fill-rule=\"evenodd\" fill-opacity=\"1\" stroke=\"#000000\" stroke-opacity=\"1\" stroke-width=\"3.2\"/>\n",
       "<circle clip-path=\"url(#clip102)\" cx=\"1377.21\" cy=\"766.846\" r=\"14\" fill=\"#009af9\" fill-rule=\"evenodd\" fill-opacity=\"1\" stroke=\"#000000\" stroke-opacity=\"1\" stroke-width=\"3.2\"/>\n",
       "<circle clip-path=\"url(#clip102)\" cx=\"1412.34\" cy=\"710.274\" r=\"14\" fill=\"#009af9\" fill-rule=\"evenodd\" fill-opacity=\"1\" stroke=\"#000000\" stroke-opacity=\"1\" stroke-width=\"3.2\"/>\n",
       "<circle clip-path=\"url(#clip102)\" cx=\"1552.86\" cy=\"710.274\" r=\"14\" fill=\"#009af9\" fill-rule=\"evenodd\" fill-opacity=\"1\" stroke=\"#000000\" stroke-opacity=\"1\" stroke-width=\"3.2\"/>\n",
       "<circle clip-path=\"url(#clip102)\" cx=\"1623.12\" cy=\"540.556\" r=\"14\" fill=\"#009af9\" fill-rule=\"evenodd\" fill-opacity=\"1\" stroke=\"#000000\" stroke-opacity=\"1\" stroke-width=\"3.2\"/>\n",
       "<circle clip-path=\"url(#clip102)\" cx=\"1447.47\" cy=\"653.701\" r=\"14\" fill=\"#009af9\" fill-rule=\"evenodd\" fill-opacity=\"1\" stroke=\"#000000\" stroke-opacity=\"1\" stroke-width=\"3.2\"/>\n",
       "<circle clip-path=\"url(#clip102)\" cx=\"1096.18\" cy=\"936.563\" r=\"14\" fill=\"#009af9\" fill-rule=\"evenodd\" fill-opacity=\"1\" stroke=\"#000000\" stroke-opacity=\"1\" stroke-width=\"3.2\"/>\n",
       "<circle clip-path=\"url(#clip102)\" cx=\"1201.57\" cy=\"879.991\" r=\"14\" fill=\"#009af9\" fill-rule=\"evenodd\" fill-opacity=\"1\" stroke=\"#000000\" stroke-opacity=\"1\" stroke-width=\"3.2\"/>\n",
       "<circle clip-path=\"url(#clip102)\" cx=\"1166.44\" cy=\"936.563\" r=\"14\" fill=\"#009af9\" fill-rule=\"evenodd\" fill-opacity=\"1\" stroke=\"#000000\" stroke-opacity=\"1\" stroke-width=\"3.2\"/>\n",
       "<circle clip-path=\"url(#clip102)\" cx=\"1236.7\" cy=\"823.418\" r=\"14\" fill=\"#009af9\" fill-rule=\"evenodd\" fill-opacity=\"1\" stroke=\"#000000\" stroke-opacity=\"1\" stroke-width=\"3.2\"/>\n",
       "<circle clip-path=\"url(#clip102)\" cx=\"1658.25\" cy=\"597.129\" r=\"14\" fill=\"#009af9\" fill-rule=\"evenodd\" fill-opacity=\"1\" stroke=\"#000000\" stroke-opacity=\"1\" stroke-width=\"3.2\"/>\n",
       "<circle clip-path=\"url(#clip102)\" cx=\"1447.47\" cy=\"653.701\" r=\"14\" fill=\"#009af9\" fill-rule=\"evenodd\" fill-opacity=\"1\" stroke=\"#000000\" stroke-opacity=\"1\" stroke-width=\"3.2\"/>\n",
       "<circle clip-path=\"url(#clip102)\" cx=\"1447.47\" cy=\"597.129\" r=\"14\" fill=\"#009af9\" fill-rule=\"evenodd\" fill-opacity=\"1\" stroke=\"#000000\" stroke-opacity=\"1\" stroke-width=\"3.2\"/>\n",
       "<circle clip-path=\"url(#clip102)\" cx=\"1517.73\" cy=\"653.701\" r=\"14\" fill=\"#009af9\" fill-rule=\"evenodd\" fill-opacity=\"1\" stroke=\"#000000\" stroke-opacity=\"1\" stroke-width=\"3.2\"/>\n",
       "<circle clip-path=\"url(#clip102)\" cx=\"1412.34\" cy=\"766.846\" r=\"14\" fill=\"#009af9\" fill-rule=\"evenodd\" fill-opacity=\"1\" stroke=\"#000000\" stroke-opacity=\"1\" stroke-width=\"3.2\"/>\n",
       "<circle clip-path=\"url(#clip102)\" cx=\"1306.95\" cy=\"766.846\" r=\"14\" fill=\"#009af9\" fill-rule=\"evenodd\" fill-opacity=\"1\" stroke=\"#000000\" stroke-opacity=\"1\" stroke-width=\"3.2\"/>\n",
       "<circle clip-path=\"url(#clip102)\" cx=\"1271.83\" cy=\"766.846\" r=\"14\" fill=\"#009af9\" fill-rule=\"evenodd\" fill-opacity=\"1\" stroke=\"#000000\" stroke-opacity=\"1\" stroke-width=\"3.2\"/>\n",
       "<circle clip-path=\"url(#clip102)\" cx=\"1412.34\" cy=\"823.418\" r=\"14\" fill=\"#009af9\" fill-rule=\"evenodd\" fill-opacity=\"1\" stroke=\"#000000\" stroke-opacity=\"1\" stroke-width=\"3.2\"/>\n",
       "<circle clip-path=\"url(#clip102)\" cx=\"1482.6\" cy=\"710.274\" r=\"14\" fill=\"#009af9\" fill-rule=\"evenodd\" fill-opacity=\"1\" stroke=\"#000000\" stroke-opacity=\"1\" stroke-width=\"3.2\"/>\n",
       "<circle clip-path=\"url(#clip102)\" cx=\"1271.83\" cy=\"823.418\" r=\"14\" fill=\"#009af9\" fill-rule=\"evenodd\" fill-opacity=\"1\" stroke=\"#000000\" stroke-opacity=\"1\" stroke-width=\"3.2\"/>\n",
       "<circle clip-path=\"url(#clip102)\" cx=\"1025.92\" cy=\"936.563\" r=\"14\" fill=\"#009af9\" fill-rule=\"evenodd\" fill-opacity=\"1\" stroke=\"#000000\" stroke-opacity=\"1\" stroke-width=\"3.2\"/>\n",
       "<circle clip-path=\"url(#clip102)\" cx=\"1342.08\" cy=\"766.846\" r=\"14\" fill=\"#009af9\" fill-rule=\"evenodd\" fill-opacity=\"1\" stroke=\"#000000\" stroke-opacity=\"1\" stroke-width=\"3.2\"/>\n",
       "<circle clip-path=\"url(#clip102)\" cx=\"1342.08\" cy=\"823.418\" r=\"14\" fill=\"#009af9\" fill-rule=\"evenodd\" fill-opacity=\"1\" stroke=\"#000000\" stroke-opacity=\"1\" stroke-width=\"3.2\"/>\n",
       "<circle clip-path=\"url(#clip102)\" cx=\"1342.08\" cy=\"766.846\" r=\"14\" fill=\"#009af9\" fill-rule=\"evenodd\" fill-opacity=\"1\" stroke=\"#000000\" stroke-opacity=\"1\" stroke-width=\"3.2\"/>\n",
       "<circle clip-path=\"url(#clip102)\" cx=\"1377.21\" cy=\"766.846\" r=\"14\" fill=\"#009af9\" fill-rule=\"evenodd\" fill-opacity=\"1\" stroke=\"#000000\" stroke-opacity=\"1\" stroke-width=\"3.2\"/>\n",
       "<circle clip-path=\"url(#clip102)\" cx=\"920.531\" cy=\"879.991\" r=\"14\" fill=\"#009af9\" fill-rule=\"evenodd\" fill-opacity=\"1\" stroke=\"#000000\" stroke-opacity=\"1\" stroke-width=\"3.2\"/>\n",
       "<circle clip-path=\"url(#clip102)\" cx=\"1306.95\" cy=\"766.846\" r=\"14\" fill=\"#009af9\" fill-rule=\"evenodd\" fill-opacity=\"1\" stroke=\"#000000\" stroke-opacity=\"1\" stroke-width=\"3.2\"/>\n",
       "<circle clip-path=\"url(#clip102)\" cx=\"1974.41\" cy=\"87.9763\" r=\"14\" fill=\"#009af9\" fill-rule=\"evenodd\" fill-opacity=\"1\" stroke=\"#000000\" stroke-opacity=\"1\" stroke-width=\"3.2\"/>\n",
       "<circle clip-path=\"url(#clip102)\" cx=\"1658.25\" cy=\"427.411\" r=\"14\" fill=\"#009af9\" fill-rule=\"evenodd\" fill-opacity=\"1\" stroke=\"#000000\" stroke-opacity=\"1\" stroke-width=\"3.2\"/>\n",
       "<circle clip-path=\"url(#clip102)\" cx=\"1939.28\" cy=\"314.266\" r=\"14\" fill=\"#009af9\" fill-rule=\"evenodd\" fill-opacity=\"1\" stroke=\"#000000\" stroke-opacity=\"1\" stroke-width=\"3.2\"/>\n",
       "<circle clip-path=\"url(#clip102)\" cx=\"1833.9\" cy=\"483.984\" r=\"14\" fill=\"#009af9\" fill-rule=\"evenodd\" fill-opacity=\"1\" stroke=\"#000000\" stroke-opacity=\"1\" stroke-width=\"3.2\"/>\n",
       "<circle clip-path=\"url(#clip102)\" cx=\"1904.15\" cy=\"257.694\" r=\"14\" fill=\"#009af9\" fill-rule=\"evenodd\" fill-opacity=\"1\" stroke=\"#000000\" stroke-opacity=\"1\" stroke-width=\"3.2\"/>\n",
       "<circle clip-path=\"url(#clip102)\" cx=\"2185.19\" cy=\"314.266\" r=\"14\" fill=\"#009af9\" fill-rule=\"evenodd\" fill-opacity=\"1\" stroke=\"#000000\" stroke-opacity=\"1\" stroke-width=\"3.2\"/>\n",
       "<circle clip-path=\"url(#clip102)\" cx=\"1447.47\" cy=\"540.556\" r=\"14\" fill=\"#009af9\" fill-rule=\"evenodd\" fill-opacity=\"1\" stroke=\"#000000\" stroke-opacity=\"1\" stroke-width=\"3.2\"/>\n",
       "<circle clip-path=\"url(#clip102)\" cx=\"2079.8\" cy=\"483.984\" r=\"14\" fill=\"#009af9\" fill-rule=\"evenodd\" fill-opacity=\"1\" stroke=\"#000000\" stroke-opacity=\"1\" stroke-width=\"3.2\"/>\n",
       "<circle clip-path=\"url(#clip102)\" cx=\"1904.15\" cy=\"483.984\" r=\"14\" fill=\"#009af9\" fill-rule=\"evenodd\" fill-opacity=\"1\" stroke=\"#000000\" stroke-opacity=\"1\" stroke-width=\"3.2\"/>\n",
       "<circle clip-path=\"url(#clip102)\" cx=\"2009.54\" cy=\"87.9763\" r=\"14\" fill=\"#009af9\" fill-rule=\"evenodd\" fill-opacity=\"1\" stroke=\"#000000\" stroke-opacity=\"1\" stroke-width=\"3.2\"/>\n",
       "<circle clip-path=\"url(#clip102)\" cx=\"1658.25\" cy=\"370.839\" r=\"14\" fill=\"#009af9\" fill-rule=\"evenodd\" fill-opacity=\"1\" stroke=\"#000000\" stroke-opacity=\"1\" stroke-width=\"3.2\"/>\n",
       "<circle clip-path=\"url(#clip102)\" cx=\"1728.51\" cy=\"427.411\" r=\"14\" fill=\"#009af9\" fill-rule=\"evenodd\" fill-opacity=\"1\" stroke=\"#000000\" stroke-opacity=\"1\" stroke-width=\"3.2\"/>\n",
       "<circle clip-path=\"url(#clip102)\" cx=\"1798.77\" cy=\"314.266\" r=\"14\" fill=\"#009af9\" fill-rule=\"evenodd\" fill-opacity=\"1\" stroke=\"#000000\" stroke-opacity=\"1\" stroke-width=\"3.2\"/>\n",
       "<circle clip-path=\"url(#clip102)\" cx=\"1623.12\" cy=\"370.839\" r=\"14\" fill=\"#009af9\" fill-rule=\"evenodd\" fill-opacity=\"1\" stroke=\"#000000\" stroke-opacity=\"1\" stroke-width=\"3.2\"/>\n",
       "<circle clip-path=\"url(#clip102)\" cx=\"1658.25\" cy=\"144.549\" r=\"14\" fill=\"#009af9\" fill-rule=\"evenodd\" fill-opacity=\"1\" stroke=\"#000000\" stroke-opacity=\"1\" stroke-width=\"3.2\"/>\n",
       "<circle clip-path=\"url(#clip102)\" cx=\"1728.51\" cy=\"201.121\" r=\"14\" fill=\"#009af9\" fill-rule=\"evenodd\" fill-opacity=\"1\" stroke=\"#000000\" stroke-opacity=\"1\" stroke-width=\"3.2\"/>\n",
       "<circle clip-path=\"url(#clip102)\" cx=\"1798.77\" cy=\"483.984\" r=\"14\" fill=\"#009af9\" fill-rule=\"evenodd\" fill-opacity=\"1\" stroke=\"#000000\" stroke-opacity=\"1\" stroke-width=\"3.2\"/>\n",
       "<circle clip-path=\"url(#clip102)\" cx=\"2220.32\" cy=\"257.694\" r=\"14\" fill=\"#009af9\" fill-rule=\"evenodd\" fill-opacity=\"1\" stroke=\"#000000\" stroke-opacity=\"1\" stroke-width=\"3.2\"/>\n",
       "<circle clip-path=\"url(#clip102)\" cx=\"2290.58\" cy=\"201.121\" r=\"14\" fill=\"#009af9\" fill-rule=\"evenodd\" fill-opacity=\"1\" stroke=\"#000000\" stroke-opacity=\"1\" stroke-width=\"3.2\"/>\n",
       "<circle clip-path=\"url(#clip102)\" cx=\"1623.12\" cy=\"653.701\" r=\"14\" fill=\"#009af9\" fill-rule=\"evenodd\" fill-opacity=\"1\" stroke=\"#000000\" stroke-opacity=\"1\" stroke-width=\"3.2\"/>\n",
       "<circle clip-path=\"url(#clip102)\" cx=\"1869.02\" cy=\"201.121\" r=\"14\" fill=\"#009af9\" fill-rule=\"evenodd\" fill-opacity=\"1\" stroke=\"#000000\" stroke-opacity=\"1\" stroke-width=\"3.2\"/>\n",
       "<circle clip-path=\"url(#clip102)\" cx=\"1587.99\" cy=\"370.839\" r=\"14\" fill=\"#009af9\" fill-rule=\"evenodd\" fill-opacity=\"1\" stroke=\"#000000\" stroke-opacity=\"1\" stroke-width=\"3.2\"/>\n",
       "<circle clip-path=\"url(#clip102)\" cx=\"2220.32\" cy=\"370.839\" r=\"14\" fill=\"#009af9\" fill-rule=\"evenodd\" fill-opacity=\"1\" stroke=\"#000000\" stroke-opacity=\"1\" stroke-width=\"3.2\"/>\n",
       "<circle clip-path=\"url(#clip102)\" cx=\"1587.99\" cy=\"483.984\" r=\"14\" fill=\"#009af9\" fill-rule=\"evenodd\" fill-opacity=\"1\" stroke=\"#000000\" stroke-opacity=\"1\" stroke-width=\"3.2\"/>\n",
       "<circle clip-path=\"url(#clip102)\" cx=\"1869.02\" cy=\"314.266\" r=\"14\" fill=\"#009af9\" fill-rule=\"evenodd\" fill-opacity=\"1\" stroke=\"#000000\" stroke-opacity=\"1\" stroke-width=\"3.2\"/>\n",
       "<circle clip-path=\"url(#clip102)\" cx=\"1974.41\" cy=\"483.984\" r=\"14\" fill=\"#009af9\" fill-rule=\"evenodd\" fill-opacity=\"1\" stroke=\"#000000\" stroke-opacity=\"1\" stroke-width=\"3.2\"/>\n",
       "<circle clip-path=\"url(#clip102)\" cx=\"1552.86\" cy=\"483.984\" r=\"14\" fill=\"#009af9\" fill-rule=\"evenodd\" fill-opacity=\"1\" stroke=\"#000000\" stroke-opacity=\"1\" stroke-width=\"3.2\"/>\n",
       "<circle clip-path=\"url(#clip102)\" cx=\"1587.99\" cy=\"483.984\" r=\"14\" fill=\"#009af9\" fill-rule=\"evenodd\" fill-opacity=\"1\" stroke=\"#000000\" stroke-opacity=\"1\" stroke-width=\"3.2\"/>\n",
       "<circle clip-path=\"url(#clip102)\" cx=\"1833.9\" cy=\"314.266\" r=\"14\" fill=\"#009af9\" fill-rule=\"evenodd\" fill-opacity=\"1\" stroke=\"#000000\" stroke-opacity=\"1\" stroke-width=\"3.2\"/>\n",
       "<circle clip-path=\"url(#clip102)\" cx=\"1904.15\" cy=\"597.129\" r=\"14\" fill=\"#009af9\" fill-rule=\"evenodd\" fill-opacity=\"1\" stroke=\"#000000\" stroke-opacity=\"1\" stroke-width=\"3.2\"/>\n",
       "<circle clip-path=\"url(#clip102)\" cx=\"2009.54\" cy=\"427.411\" r=\"14\" fill=\"#009af9\" fill-rule=\"evenodd\" fill-opacity=\"1\" stroke=\"#000000\" stroke-opacity=\"1\" stroke-width=\"3.2\"/>\n",
       "<circle clip-path=\"url(#clip102)\" cx=\"2114.93\" cy=\"370.839\" r=\"14\" fill=\"#009af9\" fill-rule=\"evenodd\" fill-opacity=\"1\" stroke=\"#000000\" stroke-opacity=\"1\" stroke-width=\"3.2\"/>\n",
       "<circle clip-path=\"url(#clip102)\" cx=\"1833.9\" cy=\"257.694\" r=\"14\" fill=\"#009af9\" fill-rule=\"evenodd\" fill-opacity=\"1\" stroke=\"#000000\" stroke-opacity=\"1\" stroke-width=\"3.2\"/>\n",
       "<circle clip-path=\"url(#clip102)\" cx=\"1658.25\" cy=\"653.701\" r=\"14\" fill=\"#009af9\" fill-rule=\"evenodd\" fill-opacity=\"1\" stroke=\"#000000\" stroke-opacity=\"1\" stroke-width=\"3.2\"/>\n",
       "<circle clip-path=\"url(#clip102)\" cx=\"1833.9\" cy=\"710.274\" r=\"14\" fill=\"#009af9\" fill-rule=\"evenodd\" fill-opacity=\"1\" stroke=\"#000000\" stroke-opacity=\"1\" stroke-width=\"3.2\"/>\n",
       "<circle clip-path=\"url(#clip102)\" cx=\"2009.54\" cy=\"201.121\" r=\"14\" fill=\"#009af9\" fill-rule=\"evenodd\" fill-opacity=\"1\" stroke=\"#000000\" stroke-opacity=\"1\" stroke-width=\"3.2\"/>\n",
       "<circle clip-path=\"url(#clip102)\" cx=\"1833.9\" cy=\"144.549\" r=\"14\" fill=\"#009af9\" fill-rule=\"evenodd\" fill-opacity=\"1\" stroke=\"#000000\" stroke-opacity=\"1\" stroke-width=\"3.2\"/>\n",
       "<circle clip-path=\"url(#clip102)\" cx=\"1798.77\" cy=\"483.984\" r=\"14\" fill=\"#009af9\" fill-rule=\"evenodd\" fill-opacity=\"1\" stroke=\"#000000\" stroke-opacity=\"1\" stroke-width=\"3.2\"/>\n",
       "<circle clip-path=\"url(#clip102)\" cx=\"1552.86\" cy=\"483.984\" r=\"14\" fill=\"#009af9\" fill-rule=\"evenodd\" fill-opacity=\"1\" stroke=\"#000000\" stroke-opacity=\"1\" stroke-width=\"3.2\"/>\n",
       "<circle clip-path=\"url(#clip102)\" cx=\"1763.64\" cy=\"314.266\" r=\"14\" fill=\"#009af9\" fill-rule=\"evenodd\" fill-opacity=\"1\" stroke=\"#000000\" stroke-opacity=\"1\" stroke-width=\"3.2\"/>\n",
       "<circle clip-path=\"url(#clip102)\" cx=\"1833.9\" cy=\"144.549\" r=\"14\" fill=\"#009af9\" fill-rule=\"evenodd\" fill-opacity=\"1\" stroke=\"#000000\" stroke-opacity=\"1\" stroke-width=\"3.2\"/>\n",
       "<circle clip-path=\"url(#clip102)\" cx=\"1658.25\" cy=\"201.121\" r=\"14\" fill=\"#009af9\" fill-rule=\"evenodd\" fill-opacity=\"1\" stroke=\"#000000\" stroke-opacity=\"1\" stroke-width=\"3.2\"/>\n",
       "<circle clip-path=\"url(#clip102)\" cx=\"1658.25\" cy=\"427.411\" r=\"14\" fill=\"#009af9\" fill-rule=\"evenodd\" fill-opacity=\"1\" stroke=\"#000000\" stroke-opacity=\"1\" stroke-width=\"3.2\"/>\n",
       "<circle clip-path=\"url(#clip102)\" cx=\"1939.28\" cy=\"201.121\" r=\"14\" fill=\"#009af9\" fill-rule=\"evenodd\" fill-opacity=\"1\" stroke=\"#000000\" stroke-opacity=\"1\" stroke-width=\"3.2\"/>\n",
       "<circle clip-path=\"url(#clip102)\" cx=\"1869.02\" cy=\"87.9763\" r=\"14\" fill=\"#009af9\" fill-rule=\"evenodd\" fill-opacity=\"1\" stroke=\"#000000\" stroke-opacity=\"1\" stroke-width=\"3.2\"/>\n",
       "<circle clip-path=\"url(#clip102)\" cx=\"1693.38\" cy=\"201.121\" r=\"14\" fill=\"#009af9\" fill-rule=\"evenodd\" fill-opacity=\"1\" stroke=\"#000000\" stroke-opacity=\"1\" stroke-width=\"3.2\"/>\n",
       "<circle clip-path=\"url(#clip102)\" cx=\"1623.12\" cy=\"427.411\" r=\"14\" fill=\"#009af9\" fill-rule=\"evenodd\" fill-opacity=\"1\" stroke=\"#000000\" stroke-opacity=\"1\" stroke-width=\"3.2\"/>\n",
       "<circle clip-path=\"url(#clip102)\" cx=\"1693.38\" cy=\"370.839\" r=\"14\" fill=\"#009af9\" fill-rule=\"evenodd\" fill-opacity=\"1\" stroke=\"#000000\" stroke-opacity=\"1\" stroke-width=\"3.2\"/>\n",
       "<circle clip-path=\"url(#clip102)\" cx=\"1763.64\" cy=\"201.121\" r=\"14\" fill=\"#009af9\" fill-rule=\"evenodd\" fill-opacity=\"1\" stroke=\"#000000\" stroke-opacity=\"1\" stroke-width=\"3.2\"/>\n",
       "<circle clip-path=\"url(#clip102)\" cx=\"1658.25\" cy=\"483.984\" r=\"14\" fill=\"#009af9\" fill-rule=\"evenodd\" fill-opacity=\"1\" stroke=\"#000000\" stroke-opacity=\"1\" stroke-width=\"3.2\"/>\n",
       "<path clip-path=\"url(#clip100)\" d=\"\n",
       "M1982.98 198.898 L2279.52 198.898 L2279.52 95.2176 L1982.98 95.2176  Z\n",
       "  \" fill=\"#ffffff\" fill-rule=\"evenodd\" fill-opacity=\"1\"/>\n",
       "<polyline clip-path=\"url(#clip100)\" style=\"stroke:#000000; stroke-linecap:butt; stroke-linejoin:round; stroke-width:4; stroke-opacity:1; fill:none\" points=\"\n",
       "  1982.98,198.898 2279.52,198.898 2279.52,95.2176 1982.98,95.2176 1982.98,198.898 \n",
       "  \"/>\n",
       "<circle clip-path=\"url(#clip100)\" cx=\"2080.63\" cy=\"147.058\" r=\"23\" fill=\"#009af9\" fill-rule=\"evenodd\" fill-opacity=\"1\" stroke=\"#000000\" stroke-opacity=\"1\" stroke-width=\"5.12\"/>\n",
       "<path clip-path=\"url(#clip100)\" d=\"M2192.11 166.745 Q2190.31 171.375 2188.59 172.787 Q2186.88 174.199 2184.01 174.199 L2180.61 174.199 L2180.61 170.634 L2183.11 170.634 Q2184.87 170.634 2185.84 169.8 Q2186.81 168.967 2187.99 165.865 L2188.76 163.921 L2178.27 138.412 L2182.78 138.412 L2190.89 158.689 L2198.99 138.412 L2203.5 138.412 L2192.11 166.745 Z\" fill=\"#000000\" fill-rule=\"evenodd\" fill-opacity=\"1\" /><path clip-path=\"url(#clip100)\" d=\"M2210.79 160.402 L2218.43 160.402 L2218.43 134.037 L2210.12 135.703 L2210.12 131.444 L2218.39 129.778 L2223.06 129.778 L2223.06 160.402 L2230.7 160.402 L2230.7 164.338 L2210.79 164.338 L2210.79 160.402 Z\" fill=\"#000000\" fill-rule=\"evenodd\" fill-opacity=\"1\" /></svg>\n"
      ]
     },
     "execution_count": 258,
     "metadata": {},
     "output_type": "execute_result"
    }
   ],
   "source": [
    "scatter(iris.Petal_Length,iris.Petal_Width)"
   ]
  },
  {
   "cell_type": "markdown",
   "metadata": {},
   "source": [
    "### working with python package"
   ]
  },
  {
   "cell_type": "code",
   "execution_count": 267,
   "metadata": {},
   "outputs": [
    {
     "name": "stderr",
     "output_type": "stream",
     "text": [
      "\u001b[32m\u001b[1m   Resolving\u001b[22m\u001b[39m package versions...\n",
      "\u001b[32m\u001b[1m   Installed\u001b[22m\u001b[39m PyCall ─ v1.93.0\n",
      "\u001b[32m\u001b[1m    Updating\u001b[22m\u001b[39m `C:\\Users\\SIDDHESH\\.julia\\environments\\v1.7\\Project.toml`\n",
      " \u001b[90m [438e738f] \u001b[39m\u001b[92m+ PyCall v1.93.0\u001b[39m\n",
      "\u001b[32m\u001b[1m    Updating\u001b[22m\u001b[39m `C:\\Users\\SIDDHESH\\.julia\\environments\\v1.7\\Manifest.toml`\n",
      " \u001b[90m [438e738f] \u001b[39m\u001b[92m+ PyCall v1.93.0\u001b[39m\n",
      "\u001b[32m\u001b[1m    Building\u001b[22m\u001b[39m PyCall → `C:\\Users\\SIDDHESH\\.julia\\scratchspaces\\44cfe95a-1eb2-52ea-b672-e2afdf69b78f\\71fd4022ecd0c6d20180e23ff1b3e05a143959c2\\build.log`\n",
      "\u001b[32m\u001b[1mPrecompiling\u001b[22m\u001b[39m project...\n",
      "\u001b[32m  ✓ \u001b[39mPyCall\n",
      "  1 dependency successfully precompiled in 7 seconds (149 already precompiled)\n"
     ]
    }
   ],
   "source": [
    "using Pkg\n",
    "Pkg.add(\"PyCall\")"
   ]
  },
  {
   "cell_type": "code",
   "execution_count": 269,
   "metadata": {},
   "outputs": [
    {
     "data": {
      "text/plain": [
       "PyObject <module 'numpy' from 'C:\\\\Users\\\\SIDDHESH\\\\.julia\\\\conda\\\\3\\\\lib\\\\site-packages\\\\numpy\\\\__init__.py'>"
      ]
     },
     "execution_count": 269,
     "metadata": {},
     "output_type": "execute_result"
    }
   ],
   "source": [
    "using PyCall\n",
    "np = pyimport(\"numpy\")"
   ]
  },
  {
   "cell_type": "code",
   "execution_count": 270,
   "metadata": {},
   "outputs": [
    {
     "name": "stderr",
     "output_type": "stream",
     "text": [
      "┌ Warning: `vendor()` is deprecated, use `BLAS.get_config()` and inspect the output instead\n",
      "│   caller = npyinitialize() at numpy.jl:67\n",
      "└ @ PyCall C:\\Users\\SIDDHESH\\.julia\\packages\\PyCall\\L0fLP\\src\\numpy.jl:67\n"
     ]
    },
    {
     "data": {
      "text/plain": [
       "4-element Vector{Int64}:\n",
       " 1\n",
       " 2\n",
       " 3\n",
       " 4"
      ]
     },
     "execution_count": 270,
     "metadata": {},
     "output_type": "execute_result"
    }
   ],
   "source": [
    "a1 = np.array([1,2,3,4])"
   ]
  },
  {
   "cell_type": "code",
   "execution_count": 271,
   "metadata": {},
   "outputs": [
    {
     "data": {
      "text/plain": [
       "2.5"
      ]
     },
     "execution_count": 271,
     "metadata": {},
     "output_type": "execute_result"
    }
   ],
   "source": [
    "np.mean(a1)"
   ]
  },
  {
   "cell_type": "code",
   "execution_count": 272,
   "metadata": {},
   "outputs": [
    {
     "data": {
      "text/plain": [
       "2.5"
      ]
     },
     "execution_count": 272,
     "metadata": {},
     "output_type": "execute_result"
    }
   ],
   "source": [
    "np.median(a1)"
   ]
  },
  {
   "cell_type": "code",
   "execution_count": 273,
   "metadata": {},
   "outputs": [
    {
     "data": {
      "text/plain": [
       "PyObject <module 'math' (built-in)>"
      ]
     },
     "execution_count": 273,
     "metadata": {},
     "output_type": "execute_result"
    }
   ],
   "source": [
    "math = pyimport(\"math\")"
   ]
  },
  {
   "cell_type": "code",
   "execution_count": 274,
   "metadata": {},
   "outputs": [
    {
     "data": {
      "text/plain": [
       "-0.4161468365471424"
      ]
     },
     "execution_count": 274,
     "metadata": {},
     "output_type": "execute_result"
    }
   ],
   "source": [
    "cos(2)"
   ]
  },
  {
   "cell_type": "code",
   "execution_count": null,
   "metadata": {},
   "outputs": [],
   "source": []
  }
 ],
 "metadata": {
  "kernelspec": {
   "display_name": "Julia 1.7.0",
   "language": "julia",
   "name": "julia-1.7"
  },
  "language_info": {
   "file_extension": ".jl",
   "mimetype": "application/julia",
   "name": "julia",
   "version": "1.7.0"
  }
 },
 "nbformat": 4,
 "nbformat_minor": 4
}
