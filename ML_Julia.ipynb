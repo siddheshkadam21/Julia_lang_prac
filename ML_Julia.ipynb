{
 "cells": [
  {
   "cell_type": "markdown",
   "metadata": {},
   "source": [
    "### Machine learning in julia"
   ]
  },
  {
   "cell_type": "code",
   "execution_count": 95,
   "metadata": {},
   "outputs": [
    {
     "name": "stderr",
     "output_type": "stream",
     "text": [
      "\u001b[32m\u001b[1m   Resolving\u001b[22m\u001b[39m package versions...\n",
      "\u001b[32m\u001b[1m  No Changes\u001b[22m\u001b[39m to `C:\\Users\\SIDDHESH\\.julia\\environments\\v1.7\\Project.toml`\n",
      "\u001b[32m\u001b[1m  No Changes\u001b[22m\u001b[39m to `C:\\Users\\SIDDHESH\\.julia\\environments\\v1.7\\Manifest.toml`\n"
     ]
    }
   ],
   "source": [
    "using Pkg\n",
    "Pkg.add(\"ScikitLearn\")"
   ]
  },
  {
   "cell_type": "code",
   "execution_count": 105,
   "metadata": {},
   "outputs": [],
   "source": [
    "using ScikitLearn, CSV, DataFrames\n",
    "using ScikitLearn: fit!, predict"
   ]
  },
  {
   "cell_type": "code",
   "execution_count": 97,
   "metadata": {},
   "outputs": [],
   "source": [
    "iris = CSV.read(\"iris.csv\",DataFrame, normalizenames = true); # reading data file "
   ]
  },
  {
   "cell_type": "code",
   "execution_count": 98,
   "metadata": {},
   "outputs": [],
   "source": [
    "iris_x =iris[:,[1,2,3,4]];"
   ]
  },
  {
   "cell_type": "code",
   "execution_count": 99,
   "metadata": {},
   "outputs": [],
   "source": [
    "#iris_x = Matrix(iris_x);"
   ]
  },
  {
   "cell_type": "code",
   "execution_count": 100,
   "metadata": {},
   "outputs": [],
   "source": [
    "iris_y =iris[:,5];"
   ]
  },
  {
   "cell_type": "code",
   "execution_count": 108,
   "metadata": {},
   "outputs": [],
   "source": [
    "#typeof(iris_y)"
   ]
  },
  {
   "cell_type": "code",
   "execution_count": 102,
   "metadata": {},
   "outputs": [
    {
     "name": "stderr",
     "output_type": "stream",
     "text": [
      "WARNING: redefinition of constant LogisticRegression. This may fail, cause incorrect answers, or produce other errors.\n"
     ]
    },
    {
     "data": {
      "text/plain": [
       "PyObject <class 'sklearn.linear_model._logistic.LogisticRegression'>"
      ]
     },
     "execution_count": 102,
     "metadata": {},
     "output_type": "execute_result"
    }
   ],
   "source": [
    "@sk_import linear_model: LogisticRegression"
   ]
  },
  {
   "cell_type": "code",
   "execution_count": 103,
   "metadata": {},
   "outputs": [
    {
     "data": {
      "text/plain": [
       "PyObject LogisticRegression()"
      ]
     },
     "execution_count": 103,
     "metadata": {},
     "output_type": "execute_result"
    }
   ],
   "source": [
    "log_reg_model = LogisticRegression()"
   ]
  },
  {
   "cell_type": "code",
   "execution_count": 109,
   "metadata": {},
   "outputs": [
    {
     "name": "stderr",
     "output_type": "stream",
     "text": [
      "C:\\Users\\SIDDHESH\\.julia\\conda\\3\\lib\\site-packages\\sklearn\\utils\\validation.py:1688: FutureWarning: Feature names only support names that are all strings. Got feature names with dtypes: ['ndarray']. An error will be raised in 1.2.\r\n",
      "  warnings.warn(\r\n"
     ]
    },
    {
     "ename": "LoadError",
     "evalue": "PyError ($(Expr(:escape, :(ccall(#= C:\\Users\\SIDDHESH\\.julia\\packages\\PyCall\\L0fLP\\src\\pyfncall.jl:43 =# @pysym(:PyObject_Call), PyPtr, (PyPtr, PyPtr, PyPtr), o, pyargsptr, kw))))) <class 'TypeError'>\nTypeError(\"float() argument must be a string or a number, not 'PyCall.jlwrap'\")\n  File \"C:\\Users\\SIDDHESH\\.julia\\conda\\3\\lib\\site-packages\\sklearn\\linear_model\\_logistic.py\", line 1508, in fit\n    X, y = self._validate_data(\n  File \"C:\\Users\\SIDDHESH\\.julia\\conda\\3\\lib\\site-packages\\sklearn\\base.py\", line 581, in _validate_data\n    X, y = check_X_y(X, y, **check_params)\n  File \"C:\\Users\\SIDDHESH\\.julia\\conda\\3\\lib\\site-packages\\sklearn\\utils\\validation.py\", line 964, in check_X_y\n    X = check_array(\n  File \"C:\\Users\\SIDDHESH\\.julia\\conda\\3\\lib\\site-packages\\sklearn\\utils\\validation.py\", line 746, in check_array\n    array = np.asarray(array, order=order, dtype=dtype)\n",
     "output_type": "error",
     "traceback": [
      "PyError ($(Expr(:escape, :(ccall(#= C:\\Users\\SIDDHESH\\.julia\\packages\\PyCall\\L0fLP\\src\\pyfncall.jl:43 =# @pysym(:PyObject_Call), PyPtr, (PyPtr, PyPtr, PyPtr), o, pyargsptr, kw))))) <class 'TypeError'>\nTypeError(\"float() argument must be a string or a number, not 'PyCall.jlwrap'\")\n  File \"C:\\Users\\SIDDHESH\\.julia\\conda\\3\\lib\\site-packages\\sklearn\\linear_model\\_logistic.py\", line 1508, in fit\n    X, y = self._validate_data(\n  File \"C:\\Users\\SIDDHESH\\.julia\\conda\\3\\lib\\site-packages\\sklearn\\base.py\", line 581, in _validate_data\n    X, y = check_X_y(X, y, **check_params)\n  File \"C:\\Users\\SIDDHESH\\.julia\\conda\\3\\lib\\site-packages\\sklearn\\utils\\validation.py\", line 964, in check_X_y\n    X = check_array(\n  File \"C:\\Users\\SIDDHESH\\.julia\\conda\\3\\lib\\site-packages\\sklearn\\utils\\validation.py\", line 746, in check_array\n    array = np.asarray(array, order=order, dtype=dtype)\n",
      "",
      "Stacktrace:",
      "  [1] pyerr_check",
      "    @ C:\\Users\\SIDDHESH\\.julia\\packages\\PyCall\\L0fLP\\src\\exception.jl:62 [inlined]",
      "  [2] pyerr_check",
      "    @ C:\\Users\\SIDDHESH\\.julia\\packages\\PyCall\\L0fLP\\src\\exception.jl:66 [inlined]",
      "  [3] _handle_error(msg::String)",
      "    @ PyCall C:\\Users\\SIDDHESH\\.julia\\packages\\PyCall\\L0fLP\\src\\exception.jl:83",
      "  [4] macro expansion",
      "    @ C:\\Users\\SIDDHESH\\.julia\\packages\\PyCall\\L0fLP\\src\\exception.jl:97 [inlined]",
      "  [5] #107",
      "    @ C:\\Users\\SIDDHESH\\.julia\\packages\\PyCall\\L0fLP\\src\\pyfncall.jl:43 [inlined]",
      "  [6] disable_sigint",
      "    @ .\\c.jl:458 [inlined]",
      "  [7] __pycall!",
      "    @ C:\\Users\\SIDDHESH\\.julia\\packages\\PyCall\\L0fLP\\src\\pyfncall.jl:42 [inlined]",
      "  [8] _pycall!(ret::PyCall.PyObject, o::PyCall.PyObject, args::Tuple{DataFrame, Vector{Float64}}, nargs::Int64, kw::Ptr{Nothing})",
      "    @ PyCall C:\\Users\\SIDDHESH\\.julia\\packages\\PyCall\\L0fLP\\src\\pyfncall.jl:29",
      "  [9] _pycall!(ret::PyCall.PyObject, o::PyCall.PyObject, args::Tuple{DataFrame, Vector{Float64}}, kwargs::Base.Pairs{Symbol, Union{}, Tuple{}, NamedTuple{(), Tuple{}}})",
      "    @ PyCall C:\\Users\\SIDDHESH\\.julia\\packages\\PyCall\\L0fLP\\src\\pyfncall.jl:11",
      " [10] (::PyCall.PyObject)(::DataFrame, ::Vararg{Any}; kwargs::Base.Pairs{Symbol, Union{}, Tuple{}, NamedTuple{(), Tuple{}}})",
      "    @ PyCall C:\\Users\\SIDDHESH\\.julia\\packages\\PyCall\\L0fLP\\src\\pyfncall.jl:86",
      " [11] (::PyCall.PyObject)(::DataFrame, ::Vararg{Any})",
      "    @ PyCall C:\\Users\\SIDDHESH\\.julia\\packages\\PyCall\\L0fLP\\src\\pyfncall.jl:86",
      " [12] fit!(::PyCall.PyObject, ::DataFrame, ::Vararg{Any}; kwargs::Base.Pairs{Symbol, Union{}, Tuple{}, NamedTuple{(), Tuple{}}})",
      "    @ ScikitLearn.Skcore C:\\Users\\SIDDHESH\\.julia\\packages\\ScikitLearn\\ssekP\\src\\Skcore.jl:102",
      " [13] fit!(::PyCall.PyObject, ::DataFrame, ::Vector{Float64})",
      "    @ ScikitLearn.Skcore C:\\Users\\SIDDHESH\\.julia\\packages\\ScikitLearn\\ssekP\\src\\Skcore.jl:102",
      " [14] top-level scope",
      "    @ In[109]:1",
      " [15] eval",
      "    @ .\\boot.jl:373 [inlined]",
      " [16] include_string(mapexpr::typeof(REPL.softscope), mod::Module, code::String, filename::String)",
      "    @ Base .\\loading.jl:1196"
     ]
    }
   ],
   "source": [
    "fit!(log_reg_model,iris_x,iris_y)"
   ]
  },
  {
   "cell_type": "code",
   "execution_count": null,
   "metadata": {},
   "outputs": [],
   "source": []
  }
 ],
 "metadata": {
  "kernelspec": {
   "display_name": "Julia 1.7.0",
   "language": "julia",
   "name": "julia-1.7"
  },
  "language_info": {
   "file_extension": ".jl",
   "mimetype": "application/julia",
   "name": "julia",
   "version": "1.7.0"
  }
 },
 "nbformat": 4,
 "nbformat_minor": 4
}
