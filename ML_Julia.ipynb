{
 "cells": [
  {
   "cell_type": "markdown",
   "metadata": {},
   "source": [
    "## Machine learning in julia\n",
    "### Importing and Using pakages"
   ]
  },
  {
   "cell_type": "code",
   "execution_count": 26,
   "metadata": {},
   "outputs": [
    {
     "name": "stderr",
     "output_type": "stream",
     "text": [
      "\u001b[32m\u001b[1m   Resolving\u001b[22m\u001b[39m package versions...\n",
      "\u001b[32m\u001b[1m  No Changes\u001b[22m\u001b[39m to `C:\\Users\\SIDDHESH\\.julia\\environments\\v1.7\\Project.toml`\n",
      "\u001b[32m\u001b[1m  No Changes\u001b[22m\u001b[39m to `C:\\Users\\SIDDHESH\\.julia\\environments\\v1.7\\Manifest.toml`\n"
     ]
    }
   ],
   "source": [
    "using Pkg\n",
    "Pkg.add(\"MLBase\")"
   ]
  },
  {
   "cell_type": "code",
   "execution_count": 27,
   "metadata": {},
   "outputs": [],
   "source": [
    "using DataFrames, CSV\n",
    "using MLBase\n",
    "using Plots\n",
    "using DecisionTree\n",
    "using Distances\n",
    "using Random\n",
    "using LinearAlgebra\n",
    "using DataStructures"
   ]
  },
  {
   "cell_type": "markdown",
   "metadata": {},
   "source": [
    "### Reading Data File"
   ]
  },
  {
   "cell_type": "code",
   "execution_count": 28,
   "metadata": {},
   "outputs": [],
   "source": [
    "df = CSV.read(\"iris.csv\",DataFrame, normalizenames = true); # reading data file "
   ]
  },
  {
   "cell_type": "markdown",
   "metadata": {},
   "source": [
    "- First Five rows of dataset"
   ]
  },
  {
   "cell_type": "code",
   "execution_count": 29,
   "metadata": {},
   "outputs": [
    {
     "data": {
      "text/html": [
       "<div class=\"data-frame\"><p>5 rows × 6 columns</p><table class=\"data-frame\"><thead><tr><th></th><th>Column1</th><th>Sepal_Length</th><th>Sepal_Width</th><th>Petal_Length</th><th>Petal_Width</th><th>Species</th></tr><tr><th></th><th title=\"Int64\">Int64</th><th title=\"Float64\">Float64</th><th title=\"Float64\">Float64</th><th title=\"Float64\">Float64</th><th title=\"Float64\">Float64</th><th title=\"String15\">String15</th></tr></thead><tbody><tr><th>1</th><td>1</td><td>5.1</td><td>3.5</td><td>1.4</td><td>0.2</td><td>setosa</td></tr><tr><th>2</th><td>2</td><td>4.9</td><td>3.0</td><td>1.4</td><td>0.2</td><td>setosa</td></tr><tr><th>3</th><td>3</td><td>4.7</td><td>3.2</td><td>1.3</td><td>0.2</td><td>setosa</td></tr><tr><th>4</th><td>4</td><td>4.6</td><td>3.1</td><td>1.5</td><td>0.2</td><td>setosa</td></tr><tr><th>5</th><td>5</td><td>5.0</td><td>3.6</td><td>1.4</td><td>0.2</td><td>setosa</td></tr></tbody></table></div>"
      ],
      "text/latex": [
       "\\begin{tabular}{r|cccccc}\n",
       "\t& Column1 & Sepal\\_Length & Sepal\\_Width & Petal\\_Length & Petal\\_Width & Species\\\\\n",
       "\t\\hline\n",
       "\t& Int64 & Float64 & Float64 & Float64 & Float64 & String15\\\\\n",
       "\t\\hline\n",
       "\t1 & 1 & 5.1 & 3.5 & 1.4 & 0.2 & setosa \\\\\n",
       "\t2 & 2 & 4.9 & 3.0 & 1.4 & 0.2 & setosa \\\\\n",
       "\t3 & 3 & 4.7 & 3.2 & 1.3 & 0.2 & setosa \\\\\n",
       "\t4 & 4 & 4.6 & 3.1 & 1.5 & 0.2 & setosa \\\\\n",
       "\t5 & 5 & 5.0 & 3.6 & 1.4 & 0.2 & setosa \\\\\n",
       "\\end{tabular}\n"
      ],
      "text/plain": [
       "\u001b[1m5×6 DataFrame\u001b[0m\n",
       "\u001b[1m Row \u001b[0m│\u001b[1m Column1 \u001b[0m\u001b[1m Sepal_Length \u001b[0m\u001b[1m Sepal_Width \u001b[0m\u001b[1m Petal_Length \u001b[0m\u001b[1m Petal_Width \u001b[0m\u001b[1m Species \u001b[0m ⋯\n",
       "\u001b[1m     \u001b[0m│\u001b[90m Int64   \u001b[0m\u001b[90m Float64      \u001b[0m\u001b[90m Float64     \u001b[0m\u001b[90m Float64      \u001b[0m\u001b[90m Float64     \u001b[0m\u001b[90m String15\u001b[0m ⋯\n",
       "─────┼──────────────────────────────────────────────────────────────────────────\n",
       "   1 │       1           5.1          3.5           1.4          0.2  setosa   ⋯\n",
       "   2 │       2           4.9          3.0           1.4          0.2  setosa\n",
       "   3 │       3           4.7          3.2           1.3          0.2  setosa\n",
       "   4 │       4           4.6          3.1           1.5          0.2  setosa\n",
       "   5 │       5           5.0          3.6           1.4          0.2  setosa   ⋯"
      ]
     },
     "execution_count": 29,
     "metadata": {},
     "output_type": "execute_result"
    }
   ],
   "source": [
    "df[1:5,:] "
   ]
  },
  {
   "cell_type": "markdown",
   "metadata": {},
   "source": [
    "- Shape of Data or size"
   ]
  },
  {
   "cell_type": "code",
   "execution_count": 30,
   "metadata": {},
   "outputs": [
    {
     "data": {
      "text/plain": [
       "(150, 6)"
      ]
     },
     "execution_count": 30,
     "metadata": {},
     "output_type": "execute_result"
    }
   ],
   "source": [
    "size(df)"
   ]
  },
  {
   "cell_type": "markdown",
   "metadata": {},
   "source": [
    "- Unique values in Species"
   ]
  },
  {
   "cell_type": "code",
   "execution_count": 31,
   "metadata": {},
   "outputs": [
    {
     "data": {
      "text/plain": [
       "3-element Vector{String15}:\n",
       " \"setosa\"\n",
       " \"versicolor\"\n",
       " \"virginica\""
      ]
     },
     "execution_count": 31,
     "metadata": {},
     "output_type": "execute_result"
    }
   ],
   "source": [
    "unique(df.Species)"
   ]
  },
  {
   "cell_type": "markdown",
   "metadata": {},
   "source": [
    "- Descriptive statistical values\n",
    "    - Null vales are also displayed here  (nmissing)"
   ]
  },
  {
   "cell_type": "code",
   "execution_count": 32,
   "metadata": {},
   "outputs": [
    {
     "data": {
      "text/html": [
       "<div class=\"data-frame\"><p>6 rows × 7 columns</p><table class=\"data-frame\"><thead><tr><th></th><th>variable</th><th>mean</th><th>min</th><th>median</th><th>max</th><th>nmissing</th><th>eltype</th></tr><tr><th></th><th title=\"Symbol\">Symbol</th><th title=\"Union{Nothing, Float64}\">Union…</th><th title=\"Any\">Any</th><th title=\"Union{Nothing, Float64}\">Union…</th><th title=\"Any\">Any</th><th title=\"Int64\">Int64</th><th title=\"DataType\">DataType</th></tr></thead><tbody><tr><th>1</th><td>Column1</td><td>75.5</td><td>1</td><td>75.5</td><td>150</td><td>0</td><td>Int64</td></tr><tr><th>2</th><td>Sepal_Length</td><td>5.84333</td><td>4.3</td><td>5.8</td><td>7.9</td><td>0</td><td>Float64</td></tr><tr><th>3</th><td>Sepal_Width</td><td>3.05733</td><td>2.0</td><td>3.0</td><td>4.4</td><td>0</td><td>Float64</td></tr><tr><th>4</th><td>Petal_Length</td><td>3.758</td><td>1.0</td><td>4.35</td><td>6.9</td><td>0</td><td>Float64</td></tr><tr><th>5</th><td>Petal_Width</td><td>1.19933</td><td>0.1</td><td>1.3</td><td>2.5</td><td>0</td><td>Float64</td></tr><tr><th>6</th><td>Species</td><td></td><td>setosa</td><td></td><td>virginica</td><td>0</td><td>String15</td></tr></tbody></table></div>"
      ],
      "text/latex": [
       "\\begin{tabular}{r|ccccccc}\n",
       "\t& variable & mean & min & median & max & nmissing & eltype\\\\\n",
       "\t\\hline\n",
       "\t& Symbol & Union… & Any & Union… & Any & Int64 & DataType\\\\\n",
       "\t\\hline\n",
       "\t1 & Column1 & 75.5 & 1 & 75.5 & 150 & 0 & Int64 \\\\\n",
       "\t2 & Sepal\\_Length & 5.84333 & 4.3 & 5.8 & 7.9 & 0 & Float64 \\\\\n",
       "\t3 & Sepal\\_Width & 3.05733 & 2.0 & 3.0 & 4.4 & 0 & Float64 \\\\\n",
       "\t4 & Petal\\_Length & 3.758 & 1.0 & 4.35 & 6.9 & 0 & Float64 \\\\\n",
       "\t5 & Petal\\_Width & 1.19933 & 0.1 & 1.3 & 2.5 & 0 & Float64 \\\\\n",
       "\t6 & Species &  & setosa &  & virginica & 0 & String15 \\\\\n",
       "\\end{tabular}\n"
      ],
      "text/plain": [
       "\u001b[1m6×7 DataFrame\u001b[0m\n",
       "\u001b[1m Row \u001b[0m│\u001b[1m variable     \u001b[0m\u001b[1m mean    \u001b[0m\u001b[1m min    \u001b[0m\u001b[1m median \u001b[0m\u001b[1m max       \u001b[0m\u001b[1m nmissing \u001b[0m\u001b[1m eltype   \u001b[0m\n",
       "\u001b[1m     \u001b[0m│\u001b[90m Symbol       \u001b[0m\u001b[90m Union…  \u001b[0m\u001b[90m Any    \u001b[0m\u001b[90m Union… \u001b[0m\u001b[90m Any       \u001b[0m\u001b[90m Int64    \u001b[0m\u001b[90m DataType \u001b[0m\n",
       "─────┼──────────────────────────────────────────────────────────────────────\n",
       "   1 │ Column1       75.5     1       75.5    150               0  Int64\n",
       "   2 │ Sepal_Length  5.84333  4.3     5.8     7.9               0  Float64\n",
       "   3 │ Sepal_Width   3.05733  2.0     3.0     4.4               0  Float64\n",
       "   4 │ Petal_Length  3.758    1.0     4.35    6.9               0  Float64\n",
       "   5 │ Petal_Width   1.19933  0.1     1.3     2.5               0  Float64\n",
       "   6 │ Species      \u001b[90m         \u001b[0m setosa \u001b[90m        \u001b[0m virginica         0  String15"
      ]
     },
     "execution_count": 32,
     "metadata": {},
     "output_type": "execute_result"
    }
   ],
   "source": [
    "describe(df)"
   ]
  },
  {
   "cell_type": "markdown",
   "metadata": {},
   "source": [
    "### Visualization\n",
    "- Histogram\n",
    "- Pie chart"
   ]
  },
  {
   "cell_type": "code",
   "execution_count": 33,
   "metadata": {},
   "outputs": [
    {
     "data": {
      "image/svg+xml": [
       "<?xml version=\"1.0\" encoding=\"utf-8\"?>\n",
       "<svg xmlns=\"http://www.w3.org/2000/svg\" xmlns:xlink=\"http://www.w3.org/1999/xlink\" width=\"600\" height=\"400\" viewBox=\"0 0 2400 1600\">\n",
       "<defs>\n",
       "  <clipPath id=\"clip230\">\n",
       "    <rect x=\"0\" y=\"0\" width=\"2400\" height=\"1600\"/>\n",
       "  </clipPath>\n",
       "</defs>\n",
       "<path clip-path=\"url(#clip230)\" d=\"\n",
       "M0 1600 L2400 1600 L2400 0 L0 0  Z\n",
       "  \" fill=\"#ffffff\" fill-rule=\"evenodd\" fill-opacity=\"1\"/>\n",
       "<defs>\n",
       "  <clipPath id=\"clip231\">\n",
       "    <rect x=\"480\" y=\"0\" width=\"1681\" height=\"1600\"/>\n",
       "  </clipPath>\n",
       "</defs>\n",
       "<path clip-path=\"url(#clip230)\" d=\"\n",
       "M141.853 686.448 L1152.76 686.448 L1152.76 123.472 L141.853 123.472  Z\n",
       "  \" fill=\"#ffffff\" fill-rule=\"evenodd\" fill-opacity=\"1\"/>\n",
       "<defs>\n",
       "  <clipPath id=\"clip232\">\n",
       "    <rect x=\"141\" y=\"123\" width=\"1012\" height=\"564\"/>\n",
       "  </clipPath>\n",
       "</defs>\n",
       "<polyline clip-path=\"url(#clip232)\" style=\"stroke:#000000; stroke-linecap:butt; stroke-linejoin:round; stroke-width:2; stroke-opacity:0.1; fill:none\" points=\"\n",
       "  197.454,686.448 197.454,123.472 \n",
       "  \"/>\n",
       "<polyline clip-path=\"url(#clip232)\" style=\"stroke:#000000; stroke-linecap:butt; stroke-linejoin:round; stroke-width:2; stroke-opacity:0.1; fill:none\" points=\"\n",
       "  422.379,686.448 422.379,123.472 \n",
       "  \"/>\n",
       "<polyline clip-path=\"url(#clip232)\" style=\"stroke:#000000; stroke-linecap:butt; stroke-linejoin:round; stroke-width:2; stroke-opacity:0.1; fill:none\" points=\"\n",
       "  647.304,686.448 647.304,123.472 \n",
       "  \"/>\n",
       "<polyline clip-path=\"url(#clip232)\" style=\"stroke:#000000; stroke-linecap:butt; stroke-linejoin:round; stroke-width:2; stroke-opacity:0.1; fill:none\" points=\"\n",
       "  872.229,686.448 872.229,123.472 \n",
       "  \"/>\n",
       "<polyline clip-path=\"url(#clip232)\" style=\"stroke:#000000; stroke-linecap:butt; stroke-linejoin:round; stroke-width:2; stroke-opacity:0.1; fill:none\" points=\"\n",
       "  1097.15,686.448 1097.15,123.472 \n",
       "  \"/>\n",
       "<polyline clip-path=\"url(#clip230)\" style=\"stroke:#000000; stroke-linecap:butt; stroke-linejoin:round; stroke-width:4; stroke-opacity:1; fill:none\" points=\"\n",
       "  141.853,686.448 1152.76,686.448 \n",
       "  \"/>\n",
       "<polyline clip-path=\"url(#clip230)\" style=\"stroke:#000000; stroke-linecap:butt; stroke-linejoin:round; stroke-width:4; stroke-opacity:1; fill:none\" points=\"\n",
       "  197.454,686.448 197.454,667.55 \n",
       "  \"/>\n",
       "<polyline clip-path=\"url(#clip230)\" style=\"stroke:#000000; stroke-linecap:butt; stroke-linejoin:round; stroke-width:4; stroke-opacity:1; fill:none\" points=\"\n",
       "  422.379,686.448 422.379,667.55 \n",
       "  \"/>\n",
       "<polyline clip-path=\"url(#clip230)\" style=\"stroke:#000000; stroke-linecap:butt; stroke-linejoin:round; stroke-width:4; stroke-opacity:1; fill:none\" points=\"\n",
       "  647.304,686.448 647.304,667.55 \n",
       "  \"/>\n",
       "<polyline clip-path=\"url(#clip230)\" style=\"stroke:#000000; stroke-linecap:butt; stroke-linejoin:round; stroke-width:4; stroke-opacity:1; fill:none\" points=\"\n",
       "  872.229,686.448 872.229,667.55 \n",
       "  \"/>\n",
       "<polyline clip-path=\"url(#clip230)\" style=\"stroke:#000000; stroke-linecap:butt; stroke-linejoin:round; stroke-width:4; stroke-opacity:1; fill:none\" points=\"\n",
       "  1097.15,686.448 1097.15,667.55 \n",
       "  \"/>\n",
       "<path clip-path=\"url(#clip230)\" d=\"M200.464 718.362 L188.658 736.811 L200.464 736.811 L200.464 718.362 M199.237 714.288 L205.116 714.288 L205.116 736.811 L210.047 736.811 L210.047 740.7 L205.116 740.7 L205.116 748.848 L200.464 748.848 L200.464 740.7 L184.862 740.7 L184.862 736.186 L199.237 714.288 Z\" fill=\"#000000\" fill-rule=\"evenodd\" fill-opacity=\"1\" /><path clip-path=\"url(#clip230)\" d=\"M412.657 714.288 L431.014 714.288 L431.014 718.223 L416.94 718.223 L416.94 726.695 Q417.958 726.348 418.977 726.186 Q419.995 726.001 421.014 726.001 Q426.801 726.001 430.18 729.172 Q433.56 732.343 433.56 737.76 Q433.56 743.339 430.088 746.44 Q426.616 749.519 420.296 749.519 Q418.12 749.519 415.852 749.149 Q413.606 748.778 411.199 748.038 L411.199 743.339 Q413.282 744.473 415.504 745.028 Q417.727 745.584 420.204 745.584 Q424.208 745.584 426.546 743.478 Q428.884 741.371 428.884 737.76 Q428.884 734.149 426.546 732.042 Q424.208 729.936 420.204 729.936 Q418.329 729.936 416.454 730.353 Q414.602 730.769 412.657 731.649 L412.657 714.288 Z\" fill=\"#000000\" fill-rule=\"evenodd\" fill-opacity=\"1\" /><path clip-path=\"url(#clip230)\" d=\"M647.71 729.704 Q644.561 729.704 642.71 731.857 Q640.881 734.01 640.881 737.76 Q640.881 741.487 642.71 743.663 Q644.561 745.815 647.71 745.815 Q650.858 745.815 652.686 743.663 Q654.538 741.487 654.538 737.76 Q654.538 734.01 652.686 731.857 Q650.858 729.704 647.71 729.704 M656.992 715.052 L656.992 719.311 Q655.233 718.478 653.427 718.038 Q651.645 717.598 649.885 717.598 Q645.256 717.598 642.802 720.723 Q640.372 723.848 640.024 730.167 Q641.39 728.154 643.45 727.089 Q645.51 726.001 647.987 726.001 Q653.196 726.001 656.205 729.172 Q659.237 732.32 659.237 737.76 Q659.237 743.084 656.089 746.302 Q652.941 749.519 647.71 749.519 Q641.714 749.519 638.543 744.936 Q635.372 740.329 635.372 731.603 Q635.372 723.408 639.26 718.547 Q643.149 713.663 649.7 713.663 Q651.459 713.663 653.242 714.01 Q655.047 714.357 656.992 715.052 Z\" fill=\"#000000\" fill-rule=\"evenodd\" fill-opacity=\"1\" /><path clip-path=\"url(#clip230)\" d=\"M861.118 714.288 L883.34 714.288 L883.34 716.279 L870.794 748.848 L865.91 748.848 L877.716 718.223 L861.118 718.223 L861.118 714.288 Z\" fill=\"#000000\" fill-rule=\"evenodd\" fill-opacity=\"1\" /><path clip-path=\"url(#clip230)\" d=\"M1097.15 732.436 Q1093.82 732.436 1091.9 734.218 Q1090 736.001 1090 739.126 Q1090 742.251 1091.9 744.033 Q1093.82 745.815 1097.15 745.815 Q1100.49 745.815 1102.41 744.033 Q1104.33 742.228 1104.33 739.126 Q1104.33 736.001 1102.41 734.218 Q1100.51 732.436 1097.15 732.436 M1092.48 730.445 Q1089.47 729.704 1087.78 727.644 Q1086.11 725.584 1086.11 722.621 Q1086.11 718.478 1089.05 716.07 Q1092.02 713.663 1097.15 713.663 Q1102.32 713.663 1105.26 716.07 Q1108.2 718.478 1108.2 722.621 Q1108.2 725.584 1106.51 727.644 Q1104.84 729.704 1101.85 730.445 Q1105.23 731.232 1107.11 733.524 Q1109.01 735.816 1109.01 739.126 Q1109.01 744.149 1105.93 746.834 Q1102.87 749.519 1097.15 749.519 Q1091.44 749.519 1088.36 746.834 Q1085.3 744.149 1085.3 739.126 Q1085.3 735.816 1087.2 733.524 Q1089.1 731.232 1092.48 730.445 M1090.77 723.061 Q1090.77 725.746 1092.43 727.251 Q1094.12 728.755 1097.15 728.755 Q1100.16 728.755 1101.85 727.251 Q1103.57 725.746 1103.57 723.061 Q1103.57 720.376 1101.85 718.871 Q1100.16 717.367 1097.15 717.367 Q1094.12 717.367 1092.43 718.871 Q1090.77 720.376 1090.77 723.061 Z\" fill=\"#000000\" fill-rule=\"evenodd\" fill-opacity=\"1\" /><polyline clip-path=\"url(#clip232)\" style=\"stroke:#000000; stroke-linecap:butt; stroke-linejoin:round; stroke-width:2; stroke-opacity:0.1; fill:none\" points=\"\n",
       "  141.853,670.515 1152.76,670.515 \n",
       "  \"/>\n",
       "<polyline clip-path=\"url(#clip232)\" style=\"stroke:#000000; stroke-linecap:butt; stroke-linejoin:round; stroke-width:2; stroke-opacity:0.1; fill:none\" points=\"\n",
       "  141.853,504.543 1152.76,504.543 \n",
       "  \"/>\n",
       "<polyline clip-path=\"url(#clip232)\" style=\"stroke:#000000; stroke-linecap:butt; stroke-linejoin:round; stroke-width:2; stroke-opacity:0.1; fill:none\" points=\"\n",
       "  141.853,338.571 1152.76,338.571 \n",
       "  \"/>\n",
       "<polyline clip-path=\"url(#clip232)\" style=\"stroke:#000000; stroke-linecap:butt; stroke-linejoin:round; stroke-width:2; stroke-opacity:0.1; fill:none\" points=\"\n",
       "  141.853,172.6 1152.76,172.6 \n",
       "  \"/>\n",
       "<polyline clip-path=\"url(#clip230)\" style=\"stroke:#000000; stroke-linecap:butt; stroke-linejoin:round; stroke-width:4; stroke-opacity:1; fill:none\" points=\"\n",
       "  141.853,686.448 141.853,123.472 \n",
       "  \"/>\n",
       "<polyline clip-path=\"url(#clip230)\" style=\"stroke:#000000; stroke-linecap:butt; stroke-linejoin:round; stroke-width:4; stroke-opacity:1; fill:none\" points=\"\n",
       "  141.853,670.515 160.751,670.515 \n",
       "  \"/>\n",
       "<polyline clip-path=\"url(#clip230)\" style=\"stroke:#000000; stroke-linecap:butt; stroke-linejoin:round; stroke-width:4; stroke-opacity:1; fill:none\" points=\"\n",
       "  141.853,504.543 160.751,504.543 \n",
       "  \"/>\n",
       "<polyline clip-path=\"url(#clip230)\" style=\"stroke:#000000; stroke-linecap:butt; stroke-linejoin:round; stroke-width:4; stroke-opacity:1; fill:none\" points=\"\n",
       "  141.853,338.571 160.751,338.571 \n",
       "  \"/>\n",
       "<polyline clip-path=\"url(#clip230)\" style=\"stroke:#000000; stroke-linecap:butt; stroke-linejoin:round; stroke-width:4; stroke-opacity:1; fill:none\" points=\"\n",
       "  141.853,172.6 160.751,172.6 \n",
       "  \"/>\n",
       "<path clip-path=\"url(#clip230)\" d=\"M93.9086 656.313 Q90.2975 656.313 88.4688 659.878 Q86.6632 663.42 86.6632 670.549 Q86.6632 677.656 88.4688 681.221 Q90.2975 684.762 93.9086 684.762 Q97.5428 684.762 99.3483 681.221 Q101.177 677.656 101.177 670.549 Q101.177 663.42 99.3483 659.878 Q97.5428 656.313 93.9086 656.313 M93.9086 652.61 Q99.7187 652.61 102.774 657.216 Q105.853 661.799 105.853 670.549 Q105.853 679.276 102.774 683.883 Q99.7187 688.466 93.9086 688.466 Q88.0984 688.466 85.0197 683.883 Q81.9642 679.276 81.9642 670.549 Q81.9642 661.799 85.0197 657.216 Q88.0984 652.61 93.9086 652.61 Z\" fill=\"#000000\" fill-rule=\"evenodd\" fill-opacity=\"1\" /><path clip-path=\"url(#clip230)\" d=\"M54.5569 517.888 L62.1958 517.888 L62.1958 491.522 L53.8856 493.189 L53.8856 488.93 L62.1495 487.263 L66.8254 487.263 L66.8254 517.888 L74.4642 517.888 L74.4642 521.823 L54.5569 521.823 L54.5569 517.888 Z\" fill=\"#000000\" fill-rule=\"evenodd\" fill-opacity=\"1\" /><path clip-path=\"url(#clip230)\" d=\"M93.9086 490.342 Q90.2975 490.342 88.4688 493.906 Q86.6632 497.448 86.6632 504.578 Q86.6632 511.684 88.4688 515.249 Q90.2975 518.791 93.9086 518.791 Q97.5428 518.791 99.3483 515.249 Q101.177 511.684 101.177 504.578 Q101.177 497.448 99.3483 493.906 Q97.5428 490.342 93.9086 490.342 M93.9086 486.638 Q99.7187 486.638 102.774 491.244 Q105.853 495.828 105.853 504.578 Q105.853 513.305 102.774 517.911 Q99.7187 522.494 93.9086 522.494 Q88.0984 522.494 85.0197 517.911 Q81.9642 513.305 81.9642 504.578 Q81.9642 495.828 85.0197 491.244 Q88.0984 486.638 93.9086 486.638 Z\" fill=\"#000000\" fill-rule=\"evenodd\" fill-opacity=\"1\" /><path clip-path=\"url(#clip230)\" d=\"M57.7745 351.916 L74.0939 351.916 L74.0939 355.851 L52.1495 355.851 L52.1495 351.916 Q54.8115 349.162 59.3949 344.532 Q64.0013 339.879 65.1819 338.537 Q67.4272 336.013 68.3068 334.277 Q69.2096 332.518 69.2096 330.828 Q69.2096 328.074 67.2652 326.338 Q65.3439 324.602 62.2421 324.602 Q60.043 324.602 57.5893 325.365 Q55.1588 326.129 52.381 327.68 L52.381 322.958 Q55.2051 321.824 57.6588 321.245 Q60.1124 320.666 62.1495 320.666 Q67.5198 320.666 70.7142 323.352 Q73.9087 326.037 73.9087 330.527 Q73.9087 332.657 73.0985 334.578 Q72.3115 336.476 70.205 339.069 Q69.6263 339.74 66.5245 342.958 Q63.4226 346.152 57.7745 351.916 Z\" fill=\"#000000\" fill-rule=\"evenodd\" fill-opacity=\"1\" /><path clip-path=\"url(#clip230)\" d=\"M93.9086 324.37 Q90.2975 324.37 88.4688 327.935 Q86.6632 331.476 86.6632 338.606 Q86.6632 345.713 88.4688 349.277 Q90.2975 352.819 93.9086 352.819 Q97.5428 352.819 99.3483 349.277 Q101.177 345.713 101.177 338.606 Q101.177 331.476 99.3483 327.935 Q97.5428 324.37 93.9086 324.37 M93.9086 320.666 Q99.7187 320.666 102.774 325.273 Q105.853 329.856 105.853 338.606 Q105.853 347.333 102.774 351.939 Q99.7187 356.523 93.9086 356.523 Q88.0984 356.523 85.0197 351.939 Q81.9642 347.333 81.9642 338.606 Q81.9642 329.856 85.0197 325.273 Q88.0984 320.666 93.9086 320.666 Z\" fill=\"#000000\" fill-rule=\"evenodd\" fill-opacity=\"1\" /><path clip-path=\"url(#clip230)\" d=\"M67.9133 171.246 Q71.2698 171.963 73.1448 174.232 Q75.0429 176.5 75.0429 179.833 Q75.0429 184.949 71.5244 187.75 Q68.0059 190.551 61.5245 190.551 Q59.3486 190.551 57.0338 190.111 Q54.7421 189.695 52.2884 188.838 L52.2884 184.324 Q54.2328 185.458 56.5477 186.037 Q58.8625 186.616 61.3856 186.616 Q65.7837 186.616 68.0754 184.88 Q70.3902 183.144 70.3902 179.833 Q70.3902 176.778 68.2374 175.065 Q66.1078 173.329 62.2884 173.329 L58.2606 173.329 L58.2606 169.486 L62.4735 169.486 Q65.9226 169.486 67.7513 168.121 Q69.58 166.732 69.58 164.139 Q69.58 161.477 67.6819 160.065 Q65.8069 158.63 62.2884 158.63 Q60.3671 158.63 58.168 159.047 Q55.969 159.463 53.3301 160.343 L53.3301 156.176 Q55.9921 155.435 58.3069 155.065 Q60.6449 154.695 62.705 154.695 Q68.0291 154.695 71.1309 157.125 Q74.2327 159.533 74.2327 163.653 Q74.2327 166.523 72.5892 168.514 Q70.9457 170.482 67.9133 171.246 Z\" fill=\"#000000\" fill-rule=\"evenodd\" fill-opacity=\"1\" /><path clip-path=\"url(#clip230)\" d=\"M93.9086 158.398 Q90.2975 158.398 88.4688 161.963 Q86.6632 165.505 86.6632 172.634 Q86.6632 179.741 88.4688 183.306 Q90.2975 186.847 93.9086 186.847 Q97.5428 186.847 99.3483 183.306 Q101.177 179.741 101.177 172.634 Q101.177 165.505 99.3483 161.963 Q97.5428 158.398 93.9086 158.398 M93.9086 154.695 Q99.7187 154.695 102.774 159.301 Q105.853 163.884 105.853 172.634 Q105.853 181.361 102.774 185.968 Q99.7187 190.551 93.9086 190.551 Q88.0984 190.551 85.0197 185.968 Q81.9642 181.361 81.9642 172.634 Q81.9642 163.884 85.0197 159.301 Q88.0984 154.695 93.9086 154.695 Z\" fill=\"#000000\" fill-rule=\"evenodd\" fill-opacity=\"1\" /><path clip-path=\"url(#clip230)\" d=\"M413.547 14.0809 L413.547 22.0612 Q408.888 19.8332 404.757 18.7395 Q400.625 17.6457 396.776 17.6457 Q390.092 17.6457 386.446 20.2383 Q382.841 22.8309 382.841 27.611 Q382.841 31.6214 385.231 33.6873 Q387.662 35.7128 394.386 36.9686 L399.328 37.9813 Q408.483 39.7232 412.818 44.1387 Q417.193 48.5136 417.193 55.8863 Q417.193 64.6767 411.278 69.2137 Q405.405 73.7508 394.022 73.7508 Q389.728 73.7508 384.867 72.7785 Q380.046 71.8063 374.861 69.9024 L374.861 61.4765 Q379.843 64.2716 384.624 65.6895 Q389.404 67.1073 394.022 67.1073 Q401.03 67.1073 404.838 64.3527 Q408.645 61.598 408.645 56.4939 Q408.645 52.0379 405.891 49.5264 Q403.177 47.0148 396.938 45.759 L391.956 44.7868 Q382.801 42.9639 378.709 39.075 Q374.618 35.1862 374.618 28.2591 Q374.618 20.2383 380.249 15.6203 Q385.92 11.0023 395.845 11.0023 Q400.098 11.0023 404.513 11.7719 Q408.929 12.5416 413.547 14.0809 Z\" fill=\"#000000\" fill-rule=\"evenodd\" fill-opacity=\"1\" /><path clip-path=\"url(#clip230)\" d=\"M468.437 48.0275 L468.437 51.6733 L434.166 51.6733 Q434.652 59.3701 438.784 63.421 Q442.957 67.4314 450.37 67.4314 Q454.664 67.4314 458.674 66.3781 Q462.725 65.3249 466.695 63.2184 L466.695 70.267 Q462.684 71.9684 458.472 72.8596 Q454.259 73.7508 449.924 73.7508 Q439.068 73.7508 432.708 67.4314 Q426.388 61.1119 426.388 50.3365 Q426.388 39.1965 432.384 32.6746 Q438.42 26.1121 448.628 26.1121 Q457.783 26.1121 463.09 32.0264 Q468.437 37.9003 468.437 48.0275 M460.983 45.84 Q460.902 39.7232 457.54 36.0774 Q454.218 32.4315 448.709 32.4315 Q442.47 32.4315 438.703 35.9558 Q434.976 39.4801 434.409 45.8805 L460.983 45.84 Z\" fill=\"#000000\" fill-rule=\"evenodd\" fill-opacity=\"1\" /><path clip-path=\"url(#clip230)\" d=\"M487.881 65.7705 L487.881 89.8329 L480.387 89.8329 L480.387 27.2059 L487.881 27.2059 L487.881 34.0924 Q490.231 30.0415 493.795 28.0971 Q497.401 26.1121 502.383 26.1121 Q510.647 26.1121 515.792 32.6746 Q520.977 39.2371 520.977 49.9314 Q520.977 60.6258 515.792 67.1883 Q510.647 73.7508 502.383 73.7508 Q497.401 73.7508 493.795 71.8063 Q490.231 69.8214 487.881 65.7705 M513.24 49.9314 Q513.24 41.7081 509.837 37.0496 Q506.475 32.3505 500.56 32.3505 Q494.646 32.3505 491.243 37.0496 Q487.881 41.7081 487.881 49.9314 Q487.881 58.1548 491.243 62.8538 Q494.646 67.5124 500.56 67.5124 Q506.475 67.5124 509.837 62.8538 Q513.24 58.1548 513.24 49.9314 Z\" fill=\"#000000\" fill-rule=\"evenodd\" fill-opacity=\"1\" /><path clip-path=\"url(#clip230)\" d=\"M553.951 49.7694 Q544.918 49.7694 541.434 51.8354 Q537.95 53.9013 537.95 58.8839 Q537.95 62.8538 540.543 65.2034 Q543.176 67.5124 547.672 67.5124 Q553.87 67.5124 557.597 63.1374 Q561.364 58.7219 561.364 51.4303 L561.364 49.7694 L553.951 49.7694 M568.818 46.6907 L568.818 72.576 L561.364 72.576 L561.364 65.6895 Q558.812 69.8214 555.005 71.8063 Q551.197 73.7508 545.687 73.7508 Q538.72 73.7508 534.588 69.8619 Q530.497 65.9325 530.497 59.3701 Q530.497 51.7138 535.601 47.825 Q540.745 43.9361 550.913 43.9361 L561.364 43.9361 L561.364 43.2069 Q561.364 38.0623 557.962 35.2672 Q554.599 32.4315 548.483 32.4315 Q544.594 32.4315 540.907 33.3632 Q537.221 34.295 533.818 36.1584 L533.818 29.2718 Q537.91 27.692 541.758 26.9223 Q545.606 26.1121 549.252 26.1121 Q559.096 26.1121 563.957 31.2163 Q568.818 36.3204 568.818 46.6907 Z\" fill=\"#000000\" fill-rule=\"evenodd\" fill-opacity=\"1\" /><path clip-path=\"url(#clip230)\" d=\"M584.171 9.54393 L591.625 9.54393 L591.625 72.576 L584.171 72.576 L584.171 9.54393 Z\" fill=\"#000000\" fill-rule=\"evenodd\" fill-opacity=\"1\" /><path clip-path=\"url(#clip230)\" d=\"M641.694 86.3491 L641.694 92.1419 L598.592 92.1419 L598.592 86.3491 L641.694 86.3491 Z\" fill=\"#000000\" fill-rule=\"evenodd\" fill-opacity=\"1\" /><path clip-path=\"url(#clip230)\" d=\"M649.026 12.096 L657.209 12.096 L657.209 65.6895 L686.659 65.6895 L686.659 72.576 L649.026 72.576 L649.026 12.096 Z\" fill=\"#000000\" fill-rule=\"evenodd\" fill-opacity=\"1\" /><path clip-path=\"url(#clip230)\" d=\"M732.272 48.0275 L732.272 51.6733 L698.001 51.6733 Q698.488 59.3701 702.62 63.421 Q706.792 67.4314 714.205 67.4314 Q718.499 67.4314 722.509 66.3781 Q726.56 65.3249 730.53 63.2184 L730.53 70.267 Q726.52 71.9684 722.307 72.8596 Q718.094 73.7508 713.76 73.7508 Q702.903 73.7508 696.543 67.4314 Q690.224 61.1119 690.224 50.3365 Q690.224 39.1965 696.219 32.6746 Q702.255 26.1121 712.463 26.1121 Q721.618 26.1121 726.925 32.0264 Q732.272 37.9003 732.272 48.0275 M724.818 45.84 Q724.737 39.7232 721.375 36.0774 Q718.053 32.4315 712.544 32.4315 Q706.306 32.4315 702.539 35.9558 Q698.812 39.4801 698.245 45.8805 L724.818 45.84 Z\" fill=\"#000000\" fill-rule=\"evenodd\" fill-opacity=\"1\" /><path clip-path=\"url(#clip230)\" d=\"M782.22 45.1919 L782.22 72.576 L774.766 72.576 L774.766 45.4349 Q774.766 38.994 772.255 35.7938 Q769.743 32.5936 764.72 32.5936 Q758.684 32.5936 755.2 36.4419 Q751.716 40.2903 751.716 46.9338 L751.716 72.576 L744.222 72.576 L744.222 27.2059 L751.716 27.2059 L751.716 34.2544 Q754.39 30.163 757.995 28.1376 Q761.641 26.1121 766.381 26.1121 Q774.199 26.1121 778.209 30.9732 Q782.22 35.7938 782.22 45.1919 Z\" fill=\"#000000\" fill-rule=\"evenodd\" fill-opacity=\"1\" /><path clip-path=\"url(#clip230)\" d=\"M826.942 49.3643 Q826.942 41.2625 823.58 36.8065 Q820.258 32.3505 814.222 32.3505 Q808.227 32.3505 804.864 36.8065 Q801.543 41.2625 801.543 49.3643 Q801.543 57.4256 804.864 61.8816 Q808.227 66.3376 814.222 66.3376 Q820.258 66.3376 823.58 61.8816 Q826.942 57.4256 826.942 49.3643 M834.395 66.9452 Q834.395 78.5308 829.251 84.1616 Q824.106 89.8329 813.493 89.8329 Q809.563 89.8329 806.08 89.2252 Q802.596 88.6581 799.315 87.4428 L799.315 80.1917 Q802.596 81.9741 805.796 82.8248 Q808.996 83.6755 812.318 83.6755 Q819.65 83.6755 823.296 79.8271 Q826.942 76.0193 826.942 68.282 L826.942 64.5957 Q824.633 68.6061 821.027 70.5911 Q817.422 72.576 812.399 72.576 Q804.054 72.576 798.95 66.2161 Q793.846 59.8562 793.846 49.3643 Q793.846 38.832 798.95 32.472 Q804.054 26.1121 812.399 26.1121 Q817.422 26.1121 821.027 28.0971 Q824.633 30.082 826.942 34.0924 L826.942 27.2059 L834.395 27.2059 L834.395 66.9452 Z\" fill=\"#000000\" fill-rule=\"evenodd\" fill-opacity=\"1\" /><path clip-path=\"url(#clip230)\" d=\"M857.121 14.324 L857.121 27.2059 L872.474 27.2059 L872.474 32.9987 L857.121 32.9987 L857.121 57.6282 Q857.121 63.1779 858.62 64.7578 Q860.159 66.3376 864.818 66.3376 L872.474 66.3376 L872.474 72.576 L864.818 72.576 Q856.189 72.576 852.908 69.3758 Q849.627 66.1351 849.627 57.6282 L849.627 32.9987 L844.158 32.9987 L844.158 27.2059 L849.627 27.2059 L849.627 14.324 L857.121 14.324 Z\" fill=\"#000000\" fill-rule=\"evenodd\" fill-opacity=\"1\" /><path clip-path=\"url(#clip230)\" d=\"M919.991 45.1919 L919.991 72.576 L912.537 72.576 L912.537 45.4349 Q912.537 38.994 910.026 35.7938 Q907.514 32.5936 902.491 32.5936 Q896.455 32.5936 892.972 36.4419 Q889.488 40.2903 889.488 46.9338 L889.488 72.576 L881.994 72.576 L881.994 9.54393 L889.488 9.54393 L889.488 34.2544 Q892.161 30.163 895.767 28.1376 Q899.412 26.1121 904.152 26.1121 Q911.97 26.1121 915.981 30.9732 Q919.991 35.7938 919.991 45.1919 Z\" fill=\"#000000\" fill-rule=\"evenodd\" fill-opacity=\"1\" /><path clip-path=\"url(#clip232)\" d=\"\n",
       "M197.454 604.126 L197.454 670.515 L309.917 670.515 L309.917 604.126 L197.454 604.126 L197.454 604.126  Z\n",
       "  \" fill=\"#009af9\" fill-rule=\"evenodd\" fill-opacity=\"1\"/>\n",
       "<polyline clip-path=\"url(#clip232)\" style=\"stroke:#000000; stroke-linecap:butt; stroke-linejoin:round; stroke-width:4; stroke-opacity:1; fill:none\" points=\"\n",
       "  197.454,604.126 197.454,670.515 309.917,670.515 309.917,604.126 197.454,604.126 \n",
       "  \"/>\n",
       "<path clip-path=\"url(#clip232)\" d=\"\n",
       "M309.917 371.766 L309.917 670.515 L422.379 670.515 L422.379 371.766 L309.917 371.766 L309.917 371.766  Z\n",
       "  \" fill=\"#009af9\" fill-rule=\"evenodd\" fill-opacity=\"1\"/>\n",
       "<polyline clip-path=\"url(#clip232)\" style=\"stroke:#000000; stroke-linecap:butt; stroke-linejoin:round; stroke-width:4; stroke-opacity:1; fill:none\" points=\"\n",
       "  309.917,371.766 309.917,670.515 422.379,670.515 422.379,371.766 309.917,371.766 \n",
       "  \"/>\n",
       "<path clip-path=\"url(#clip232)\" d=\"\n",
       "M422.379 172.6 L422.379 670.515 L534.842 670.515 L534.842 172.6 L422.379 172.6 L422.379 172.6  Z\n",
       "  \" fill=\"#009af9\" fill-rule=\"evenodd\" fill-opacity=\"1\"/>\n",
       "<polyline clip-path=\"url(#clip232)\" style=\"stroke:#000000; stroke-linecap:butt; stroke-linejoin:round; stroke-width:4; stroke-opacity:1; fill:none\" points=\"\n",
       "  422.379,172.6 422.379,670.515 534.842,670.515 534.842,172.6 422.379,172.6 \n",
       "  \"/>\n",
       "<path clip-path=\"url(#clip232)\" d=\"\n",
       "M534.842 156.003 L534.842 670.515 L647.304 670.515 L647.304 156.003 L534.842 156.003 L534.842 156.003  Z\n",
       "  \" fill=\"#009af9\" fill-rule=\"evenodd\" fill-opacity=\"1\"/>\n",
       "<polyline clip-path=\"url(#clip232)\" style=\"stroke:#000000; stroke-linecap:butt; stroke-linejoin:round; stroke-width:4; stroke-opacity:1; fill:none\" points=\"\n",
       "  534.842,156.003 534.842,670.515 647.304,670.515 647.304,156.003 534.842,156.003 \n",
       "  \"/>\n",
       "<path clip-path=\"url(#clip232)\" d=\"\n",
       "M647.304 139.405 L647.304 670.515 L759.767 670.515 L759.767 139.405 L647.304 139.405 L647.304 139.405  Z\n",
       "  \" fill=\"#009af9\" fill-rule=\"evenodd\" fill-opacity=\"1\"/>\n",
       "<polyline clip-path=\"url(#clip232)\" style=\"stroke:#000000; stroke-linecap:butt; stroke-linejoin:round; stroke-width:4; stroke-opacity:1; fill:none\" points=\"\n",
       "  647.304,139.405 647.304,670.515 759.767,670.515 759.767,139.405 647.304,139.405 \n",
       "  \"/>\n",
       "<path clip-path=\"url(#clip232)\" d=\"\n",
       "M759.767 305.377 L759.767 670.515 L872.229 670.515 L872.229 305.377 L759.767 305.377 L759.767 305.377  Z\n",
       "  \" fill=\"#009af9\" fill-rule=\"evenodd\" fill-opacity=\"1\"/>\n",
       "<polyline clip-path=\"url(#clip232)\" style=\"stroke:#000000; stroke-linecap:butt; stroke-linejoin:round; stroke-width:4; stroke-opacity:1; fill:none\" points=\"\n",
       "  759.767,305.377 759.767,670.515 872.229,670.515 872.229,305.377 759.767,305.377 \n",
       "  \"/>\n",
       "<path clip-path=\"url(#clip232)\" d=\"\n",
       "M872.229 554.334 L872.229 670.515 L984.692 670.515 L984.692 554.334 L872.229 554.334 L872.229 554.334  Z\n",
       "  \" fill=\"#009af9\" fill-rule=\"evenodd\" fill-opacity=\"1\"/>\n",
       "<polyline clip-path=\"url(#clip232)\" style=\"stroke:#000000; stroke-linecap:butt; stroke-linejoin:round; stroke-width:4; stroke-opacity:1; fill:none\" points=\"\n",
       "  872.229,554.334 872.229,670.515 984.692,670.515 984.692,554.334 872.229,554.334 \n",
       "  \"/>\n",
       "<path clip-path=\"url(#clip232)\" d=\"\n",
       "M984.692 570.932 L984.692 670.515 L1097.15 670.515 L1097.15 570.932 L984.692 570.932 L984.692 570.932  Z\n",
       "  \" fill=\"#009af9\" fill-rule=\"evenodd\" fill-opacity=\"1\"/>\n",
       "<polyline clip-path=\"url(#clip232)\" style=\"stroke:#000000; stroke-linecap:butt; stroke-linejoin:round; stroke-width:4; stroke-opacity:1; fill:none\" points=\"\n",
       "  984.692,570.932 984.692,670.515 1097.15,670.515 1097.15,570.932 984.692,570.932 \n",
       "  \"/>\n",
       "<circle clip-path=\"url(#clip232)\" style=\"fill:#009af9; stroke:none; fill-opacity:0\" cx=\"253.686\" cy=\"604.126\" r=\"2\"/>\n",
       "<circle clip-path=\"url(#clip232)\" style=\"fill:#009af9; stroke:none; fill-opacity:0\" cx=\"366.148\" cy=\"371.766\" r=\"2\"/>\n",
       "<circle clip-path=\"url(#clip232)\" style=\"fill:#009af9; stroke:none; fill-opacity:0\" cx=\"478.611\" cy=\"172.6\" r=\"2\"/>\n",
       "<circle clip-path=\"url(#clip232)\" style=\"fill:#009af9; stroke:none; fill-opacity:0\" cx=\"591.073\" cy=\"156.003\" r=\"2\"/>\n",
       "<circle clip-path=\"url(#clip232)\" style=\"fill:#009af9; stroke:none; fill-opacity:0\" cx=\"703.536\" cy=\"139.405\" r=\"2\"/>\n",
       "<circle clip-path=\"url(#clip232)\" style=\"fill:#009af9; stroke:none; fill-opacity:0\" cx=\"815.998\" cy=\"305.377\" r=\"2\"/>\n",
       "<circle clip-path=\"url(#clip232)\" style=\"fill:#009af9; stroke:none; fill-opacity:0\" cx=\"928.461\" cy=\"554.334\" r=\"2\"/>\n",
       "<circle clip-path=\"url(#clip232)\" style=\"fill:#009af9; stroke:none; fill-opacity:0\" cx=\"1040.92\" cy=\"570.932\" r=\"2\"/>\n",
       "<path clip-path=\"url(#clip230)\" d=\"\n",
       "M953.612 245.918 L1119.06 245.918 L1119.06 142.238 L953.612 142.238  Z\n",
       "  \" fill=\"#ffffff\" fill-rule=\"evenodd\" fill-opacity=\"1\"/>\n",
       "<polyline clip-path=\"url(#clip230)\" style=\"stroke:#000000; stroke-linecap:butt; stroke-linejoin:round; stroke-width:4; stroke-opacity:1; fill:none\" points=\"\n",
       "  953.612,245.918 1119.06,245.918 1119.06,142.238 953.612,142.238 953.612,245.918 \n",
       "  \"/>\n",
       "<path clip-path=\"url(#clip230)\" d=\"\n",
       "M964.844 214.814 L1032.24 214.814 L1032.24 173.342 L964.844 173.342 L964.844 214.814  Z\n",
       "  \" fill=\"#009af9\" fill-rule=\"evenodd\" fill-opacity=\"1\"/>\n",
       "<polyline clip-path=\"url(#clip230)\" style=\"stroke:#000000; stroke-linecap:butt; stroke-linejoin:round; stroke-width:4; stroke-opacity:1; fill:none\" points=\"\n",
       "  964.844,214.814 1032.24,214.814 1032.24,173.342 964.844,173.342 964.844,214.814 \n",
       "  \"/>\n",
       "<path clip-path=\"url(#clip230)\" d=\"M1065.72 177.932 L1065.72 182.492 Q1063.05 181.219 1060.69 180.594 Q1058.33 179.969 1056.13 179.969 Q1052.31 179.969 1050.23 181.451 Q1048.17 182.932 1048.17 185.664 Q1048.17 187.955 1049.53 189.136 Q1050.92 190.293 1054.77 191.011 L1057.59 191.59 Q1062.82 192.585 1065.3 195.108 Q1067.8 197.608 1067.8 201.821 Q1067.8 206.844 1064.42 209.437 Q1061.06 212.029 1054.56 212.029 Q1052.1 212.029 1049.33 211.474 Q1046.57 210.918 1043.61 209.83 L1043.61 205.015 Q1046.46 206.613 1049.19 207.423 Q1051.92 208.233 1054.56 208.233 Q1058.56 208.233 1060.74 206.659 Q1062.91 205.085 1062.91 202.168 Q1062.91 199.622 1061.34 198.187 Q1059.79 196.752 1056.22 196.034 L1053.38 195.478 Q1048.15 194.437 1045.81 192.215 Q1043.47 189.992 1043.47 186.034 Q1043.47 181.451 1046.69 178.812 Q1049.93 176.173 1055.6 176.173 Q1058.03 176.173 1060.55 176.613 Q1063.08 177.053 1065.72 177.932 Z\" fill=\"#000000\" fill-rule=\"evenodd\" fill-opacity=\"1\" /><path clip-path=\"url(#clip230)\" d=\"M1075.09 176.798 L1079.77 176.798 L1079.77 207.423 L1096.59 207.423 L1096.59 211.358 L1075.09 211.358 L1075.09 176.798 Z\" fill=\"#000000\" fill-rule=\"evenodd\" fill-opacity=\"1\" /><path clip-path=\"url(#clip230)\" d=\"\n",
       "M1341.85 686.448 L2352.76 686.448 L2352.76 123.472 L1341.85 123.472  Z\n",
       "  \" fill=\"#ffffff\" fill-rule=\"evenodd\" fill-opacity=\"1\"/>\n",
       "<defs>\n",
       "  <clipPath id=\"clip233\">\n",
       "    <rect x=\"1341\" y=\"123\" width=\"1012\" height=\"564\"/>\n",
       "  </clipPath>\n",
       "</defs>\n",
       "<polyline clip-path=\"url(#clip233)\" style=\"stroke:#000000; stroke-linecap:butt; stroke-linejoin:round; stroke-width:2; stroke-opacity:0.1; fill:none\" points=\"\n",
       "  1397.45,686.448 1397.45,123.472 \n",
       "  \"/>\n",
       "<polyline clip-path=\"url(#clip233)\" style=\"stroke:#000000; stroke-linecap:butt; stroke-linejoin:round; stroke-width:2; stroke-opacity:0.1; fill:none\" points=\"\n",
       "  1570.47,686.448 1570.47,123.472 \n",
       "  \"/>\n",
       "<polyline clip-path=\"url(#clip233)\" style=\"stroke:#000000; stroke-linecap:butt; stroke-linejoin:round; stroke-width:2; stroke-opacity:0.1; fill:none\" points=\"\n",
       "  1743.49,686.448 1743.49,123.472 \n",
       "  \"/>\n",
       "<polyline clip-path=\"url(#clip233)\" style=\"stroke:#000000; stroke-linecap:butt; stroke-linejoin:round; stroke-width:2; stroke-opacity:0.1; fill:none\" points=\"\n",
       "  1916.51,686.448 1916.51,123.472 \n",
       "  \"/>\n",
       "<polyline clip-path=\"url(#clip233)\" style=\"stroke:#000000; stroke-linecap:butt; stroke-linejoin:round; stroke-width:2; stroke-opacity:0.1; fill:none\" points=\"\n",
       "  2089.53,686.448 2089.53,123.472 \n",
       "  \"/>\n",
       "<polyline clip-path=\"url(#clip233)\" style=\"stroke:#000000; stroke-linecap:butt; stroke-linejoin:round; stroke-width:2; stroke-opacity:0.1; fill:none\" points=\"\n",
       "  2262.55,686.448 2262.55,123.472 \n",
       "  \"/>\n",
       "<polyline clip-path=\"url(#clip230)\" style=\"stroke:#000000; stroke-linecap:butt; stroke-linejoin:round; stroke-width:4; stroke-opacity:1; fill:none\" points=\"\n",
       "  1341.85,686.448 2352.76,686.448 \n",
       "  \"/>\n",
       "<polyline clip-path=\"url(#clip230)\" style=\"stroke:#000000; stroke-linecap:butt; stroke-linejoin:round; stroke-width:4; stroke-opacity:1; fill:none\" points=\"\n",
       "  1397.45,686.448 1397.45,667.55 \n",
       "  \"/>\n",
       "<polyline clip-path=\"url(#clip230)\" style=\"stroke:#000000; stroke-linecap:butt; stroke-linejoin:round; stroke-width:4; stroke-opacity:1; fill:none\" points=\"\n",
       "  1570.47,686.448 1570.47,667.55 \n",
       "  \"/>\n",
       "<polyline clip-path=\"url(#clip230)\" style=\"stroke:#000000; stroke-linecap:butt; stroke-linejoin:round; stroke-width:4; stroke-opacity:1; fill:none\" points=\"\n",
       "  1743.49,686.448 1743.49,667.55 \n",
       "  \"/>\n",
       "<polyline clip-path=\"url(#clip230)\" style=\"stroke:#000000; stroke-linecap:butt; stroke-linejoin:round; stroke-width:4; stroke-opacity:1; fill:none\" points=\"\n",
       "  1916.51,686.448 1916.51,667.55 \n",
       "  \"/>\n",
       "<polyline clip-path=\"url(#clip230)\" style=\"stroke:#000000; stroke-linecap:butt; stroke-linejoin:round; stroke-width:4; stroke-opacity:1; fill:none\" points=\"\n",
       "  2089.53,686.448 2089.53,667.55 \n",
       "  \"/>\n",
       "<polyline clip-path=\"url(#clip230)\" style=\"stroke:#000000; stroke-linecap:butt; stroke-linejoin:round; stroke-width:4; stroke-opacity:1; fill:none\" points=\"\n",
       "  2262.55,686.448 2262.55,667.55 \n",
       "  \"/>\n",
       "<path clip-path=\"url(#clip230)\" d=\"M1368.69 744.913 L1385.01 744.913 L1385.01 748.848 L1363.07 748.848 L1363.07 744.913 Q1365.73 742.158 1370.31 737.528 Q1374.92 732.876 1376.1 731.533 Q1378.35 729.01 1379.23 727.274 Q1380.13 725.515 1380.13 723.825 Q1380.13 721.07 1378.18 719.334 Q1376.26 717.598 1373.16 717.598 Q1370.96 717.598 1368.51 718.362 Q1366.08 719.126 1363.3 720.677 L1363.3 715.955 Q1366.12 714.82 1368.58 714.242 Q1371.03 713.663 1373.07 713.663 Q1378.44 713.663 1381.63 716.348 Q1384.83 719.033 1384.83 723.524 Q1384.83 725.654 1384.02 727.575 Q1383.23 729.473 1381.12 732.066 Q1380.54 732.737 1377.44 735.954 Q1374.34 739.149 1368.69 744.913 Z\" fill=\"#000000\" fill-rule=\"evenodd\" fill-opacity=\"1\" /><path clip-path=\"url(#clip230)\" d=\"M1394.83 742.968 L1399.71 742.968 L1399.71 748.848 L1394.83 748.848 L1394.83 742.968 Z\" fill=\"#000000\" fill-rule=\"evenodd\" fill-opacity=\"1\" /><path clip-path=\"url(#clip230)\" d=\"M1419.9 717.367 Q1416.29 717.367 1414.46 720.931 Q1412.65 724.473 1412.65 731.603 Q1412.65 738.709 1414.46 742.274 Q1416.29 745.815 1419.9 745.815 Q1423.53 745.815 1425.34 742.274 Q1427.16 738.709 1427.16 731.603 Q1427.16 724.473 1425.34 720.931 Q1423.53 717.367 1419.9 717.367 M1419.9 713.663 Q1425.71 713.663 1428.76 718.269 Q1431.84 722.853 1431.84 731.603 Q1431.84 740.329 1428.76 744.936 Q1425.71 749.519 1419.9 749.519 Q1414.09 749.519 1411.01 744.936 Q1407.95 740.329 1407.95 731.603 Q1407.95 722.853 1411.01 718.269 Q1414.09 713.663 1419.9 713.663 Z\" fill=\"#000000\" fill-rule=\"evenodd\" fill-opacity=\"1\" /><path clip-path=\"url(#clip230)\" d=\"M1542.21 744.913 L1558.53 744.913 L1558.53 748.848 L1536.58 748.848 L1536.58 744.913 Q1539.25 742.158 1543.83 737.528 Q1548.44 732.876 1549.62 731.533 Q1551.86 729.01 1552.74 727.274 Q1553.65 725.515 1553.65 723.825 Q1553.65 721.07 1551.7 719.334 Q1549.78 717.598 1546.68 717.598 Q1544.48 717.598 1542.02 718.362 Q1539.59 719.126 1536.82 720.677 L1536.82 715.955 Q1539.64 714.82 1542.09 714.242 Q1544.55 713.663 1546.58 713.663 Q1551.96 713.663 1555.15 716.348 Q1558.34 719.033 1558.34 723.524 Q1558.34 725.654 1557.53 727.575 Q1556.75 729.473 1554.64 732.066 Q1554.06 732.737 1550.96 735.954 Q1547.86 739.149 1542.21 744.913 Z\" fill=\"#000000\" fill-rule=\"evenodd\" fill-opacity=\"1\" /><path clip-path=\"url(#clip230)\" d=\"M1568.34 742.968 L1573.23 742.968 L1573.23 748.848 L1568.34 748.848 L1568.34 742.968 Z\" fill=\"#000000\" fill-rule=\"evenodd\" fill-opacity=\"1\" /><path clip-path=\"url(#clip230)\" d=\"M1583.46 714.288 L1601.82 714.288 L1601.82 718.223 L1587.74 718.223 L1587.74 726.695 Q1588.76 726.348 1589.78 726.186 Q1590.8 726.001 1591.82 726.001 Q1597.6 726.001 1600.98 729.172 Q1604.36 732.343 1604.36 737.76 Q1604.36 743.339 1600.89 746.44 Q1597.42 749.519 1591.1 749.519 Q1588.92 749.519 1586.65 749.149 Q1584.41 748.778 1582 748.038 L1582 743.339 Q1584.08 744.473 1586.31 745.028 Q1588.53 745.584 1591.01 745.584 Q1595.01 745.584 1597.35 743.478 Q1599.69 741.371 1599.69 737.76 Q1599.69 734.149 1597.35 732.042 Q1595.01 729.936 1591.01 729.936 Q1589.13 729.936 1587.26 730.353 Q1585.4 730.769 1583.46 731.649 L1583.46 714.288 Z\" fill=\"#000000\" fill-rule=\"evenodd\" fill-opacity=\"1\" /><path clip-path=\"url(#clip230)\" d=\"M1724.8 730.214 Q1728.16 730.931 1730.03 733.2 Q1731.93 735.468 1731.93 738.802 Q1731.93 743.917 1728.41 746.718 Q1724.89 749.519 1718.41 749.519 Q1716.24 749.519 1713.92 749.079 Q1711.63 748.663 1709.18 747.806 L1709.18 743.292 Q1711.12 744.427 1713.44 745.005 Q1715.75 745.584 1718.27 745.584 Q1722.67 745.584 1724.96 743.848 Q1727.28 742.112 1727.28 738.802 Q1727.28 735.746 1725.12 734.033 Q1723 732.297 1719.18 732.297 L1715.15 732.297 L1715.15 728.454 L1719.36 728.454 Q1722.81 728.454 1724.64 727.089 Q1726.47 725.7 1726.47 723.107 Q1726.47 720.445 1724.57 719.033 Q1722.69 717.598 1719.18 717.598 Q1717.25 717.598 1715.06 718.015 Q1712.86 718.431 1710.22 719.311 L1710.22 715.144 Q1712.88 714.404 1715.19 714.033 Q1717.53 713.663 1719.59 713.663 Q1724.92 713.663 1728.02 716.093 Q1731.12 718.501 1731.12 722.621 Q1731.12 725.492 1729.48 727.482 Q1727.83 729.45 1724.8 730.214 Z\" fill=\"#000000\" fill-rule=\"evenodd\" fill-opacity=\"1\" /><path clip-path=\"url(#clip230)\" d=\"M1740.8 742.968 L1745.68 742.968 L1745.68 748.848 L1740.8 748.848 L1740.8 742.968 Z\" fill=\"#000000\" fill-rule=\"evenodd\" fill-opacity=\"1\" /><path clip-path=\"url(#clip230)\" d=\"M1765.87 717.367 Q1762.25 717.367 1760.43 720.931 Q1758.62 724.473 1758.62 731.603 Q1758.62 738.709 1760.43 742.274 Q1762.25 745.815 1765.87 745.815 Q1769.5 745.815 1771.31 742.274 Q1773.13 738.709 1773.13 731.603 Q1773.13 724.473 1771.31 720.931 Q1769.5 717.367 1765.87 717.367 M1765.87 713.663 Q1771.68 713.663 1774.73 718.269 Q1777.81 722.853 1777.81 731.603 Q1777.81 740.329 1774.73 744.936 Q1771.68 749.519 1765.87 749.519 Q1760.06 749.519 1756.98 744.936 Q1753.92 740.329 1753.92 731.603 Q1753.92 722.853 1756.98 718.269 Q1760.06 713.663 1765.87 713.663 Z\" fill=\"#000000\" fill-rule=\"evenodd\" fill-opacity=\"1\" /><path clip-path=\"url(#clip230)\" d=\"M1898.32 730.214 Q1901.67 730.931 1903.55 733.2 Q1905.45 735.468 1905.45 738.802 Q1905.45 743.917 1901.93 746.718 Q1898.41 749.519 1891.93 749.519 Q1889.75 749.519 1887.44 749.079 Q1885.15 748.663 1882.69 747.806 L1882.69 743.292 Q1884.64 744.427 1886.95 745.005 Q1889.27 745.584 1891.79 745.584 Q1896.19 745.584 1898.48 743.848 Q1900.79 742.112 1900.79 738.802 Q1900.79 735.746 1898.64 734.033 Q1896.51 732.297 1892.69 732.297 L1888.67 732.297 L1888.67 728.454 L1892.88 728.454 Q1896.33 728.454 1898.16 727.089 Q1899.98 725.7 1899.98 723.107 Q1899.98 720.445 1898.09 719.033 Q1896.21 717.598 1892.69 717.598 Q1890.77 717.598 1888.57 718.015 Q1886.37 718.431 1883.73 719.311 L1883.73 715.144 Q1886.4 714.404 1888.71 714.033 Q1891.05 713.663 1893.11 713.663 Q1898.43 713.663 1901.54 716.093 Q1904.64 718.501 1904.64 722.621 Q1904.64 725.492 1902.99 727.482 Q1901.35 729.45 1898.32 730.214 Z\" fill=\"#000000\" fill-rule=\"evenodd\" fill-opacity=\"1\" /><path clip-path=\"url(#clip230)\" d=\"M1914.31 742.968 L1919.2 742.968 L1919.2 748.848 L1914.31 748.848 L1914.31 742.968 Z\" fill=\"#000000\" fill-rule=\"evenodd\" fill-opacity=\"1\" /><path clip-path=\"url(#clip230)\" d=\"M1929.43 714.288 L1947.79 714.288 L1947.79 718.223 L1933.71 718.223 L1933.71 726.695 Q1934.73 726.348 1935.75 726.186 Q1936.77 726.001 1937.79 726.001 Q1943.57 726.001 1946.95 729.172 Q1950.33 732.343 1950.33 737.76 Q1950.33 743.339 1946.86 746.44 Q1943.39 749.519 1937.07 749.519 Q1934.89 749.519 1932.62 749.149 Q1930.38 748.778 1927.97 748.038 L1927.97 743.339 Q1930.05 744.473 1932.28 745.028 Q1934.5 745.584 1936.97 745.584 Q1940.98 745.584 1943.32 743.478 Q1945.66 741.371 1945.66 737.76 Q1945.66 734.149 1943.32 732.042 Q1940.98 729.936 1936.97 729.936 Q1935.1 729.936 1933.22 730.353 Q1931.37 730.769 1929.43 731.649 L1929.43 714.288 Z\" fill=\"#000000\" fill-rule=\"evenodd\" fill-opacity=\"1\" /><path clip-path=\"url(#clip230)\" d=\"M2070.17 718.362 L2058.36 736.811 L2070.17 736.811 L2070.17 718.362 M2068.94 714.288 L2074.82 714.288 L2074.82 736.811 L2079.75 736.811 L2079.75 740.7 L2074.82 740.7 L2074.82 748.848 L2070.17 748.848 L2070.17 740.7 L2054.57 740.7 L2054.57 736.186 L2068.94 714.288 Z\" fill=\"#000000\" fill-rule=\"evenodd\" fill-opacity=\"1\" /><path clip-path=\"url(#clip230)\" d=\"M2087.48 742.968 L2092.37 742.968 L2092.37 748.848 L2087.48 748.848 L2087.48 742.968 Z\" fill=\"#000000\" fill-rule=\"evenodd\" fill-opacity=\"1\" /><path clip-path=\"url(#clip230)\" d=\"M2112.55 717.367 Q2108.94 717.367 2107.11 720.931 Q2105.31 724.473 2105.31 731.603 Q2105.31 738.709 2107.11 742.274 Q2108.94 745.815 2112.55 745.815 Q2116.19 745.815 2117.99 742.274 Q2119.82 738.709 2119.82 731.603 Q2119.82 724.473 2117.99 720.931 Q2116.19 717.367 2112.55 717.367 M2112.55 713.663 Q2118.36 713.663 2121.42 718.269 Q2124.5 722.853 2124.5 731.603 Q2124.5 740.329 2121.42 744.936 Q2118.36 749.519 2112.55 749.519 Q2106.74 749.519 2103.66 744.936 Q2100.61 740.329 2100.61 731.603 Q2100.61 722.853 2103.66 718.269 Q2106.74 713.663 2112.55 713.663 Z\" fill=\"#000000\" fill-rule=\"evenodd\" fill-opacity=\"1\" /><path clip-path=\"url(#clip230)\" d=\"M2243.68 718.362 L2231.88 736.811 L2243.68 736.811 L2243.68 718.362 M2242.46 714.288 L2248.34 714.288 L2248.34 736.811 L2253.27 736.811 L2253.27 740.7 L2248.34 740.7 L2248.34 748.848 L2243.68 748.848 L2243.68 740.7 L2228.08 740.7 L2228.08 736.186 L2242.46 714.288 Z\" fill=\"#000000\" fill-rule=\"evenodd\" fill-opacity=\"1\" /><path clip-path=\"url(#clip230)\" d=\"M2261 742.968 L2265.88 742.968 L2265.88 748.848 L2261 748.848 L2261 742.968 Z\" fill=\"#000000\" fill-rule=\"evenodd\" fill-opacity=\"1\" /><path clip-path=\"url(#clip230)\" d=\"M2276.12 714.288 L2294.47 714.288 L2294.47 718.223 L2280.4 718.223 L2280.4 726.695 Q2281.42 726.348 2282.43 726.186 Q2283.45 726.001 2284.47 726.001 Q2290.26 726.001 2293.64 729.172 Q2297.02 732.343 2297.02 737.76 Q2297.02 743.339 2293.55 746.44 Q2290.07 749.519 2283.75 749.519 Q2281.58 749.519 2279.31 749.149 Q2277.06 748.778 2274.66 748.038 L2274.66 743.339 Q2276.74 744.473 2278.96 745.028 Q2281.18 745.584 2283.66 745.584 Q2287.67 745.584 2290 743.478 Q2292.34 741.371 2292.34 737.76 Q2292.34 734.149 2290 732.042 Q2287.67 729.936 2283.66 729.936 Q2281.79 729.936 2279.91 730.353 Q2278.06 730.769 2276.12 731.649 L2276.12 714.288 Z\" fill=\"#000000\" fill-rule=\"evenodd\" fill-opacity=\"1\" /><polyline clip-path=\"url(#clip233)\" style=\"stroke:#000000; stroke-linecap:butt; stroke-linejoin:round; stroke-width:2; stroke-opacity:0.1; fill:none\" points=\"\n",
       "  1341.85,670.515 2352.76,670.515 \n",
       "  \"/>\n",
       "<polyline clip-path=\"url(#clip233)\" style=\"stroke:#000000; stroke-linecap:butt; stroke-linejoin:round; stroke-width:2; stroke-opacity:0.1; fill:none\" points=\"\n",
       "  1341.85,526.972 2352.76,526.972 \n",
       "  \"/>\n",
       "<polyline clip-path=\"url(#clip233)\" style=\"stroke:#000000; stroke-linecap:butt; stroke-linejoin:round; stroke-width:2; stroke-opacity:0.1; fill:none\" points=\"\n",
       "  1341.85,383.429 2352.76,383.429 \n",
       "  \"/>\n",
       "<polyline clip-path=\"url(#clip233)\" style=\"stroke:#000000; stroke-linecap:butt; stroke-linejoin:round; stroke-width:2; stroke-opacity:0.1; fill:none\" points=\"\n",
       "  1341.85,239.886 2352.76,239.886 \n",
       "  \"/>\n",
       "<polyline clip-path=\"url(#clip230)\" style=\"stroke:#000000; stroke-linecap:butt; stroke-linejoin:round; stroke-width:4; stroke-opacity:1; fill:none\" points=\"\n",
       "  1341.85,686.448 1341.85,123.472 \n",
       "  \"/>\n",
       "<polyline clip-path=\"url(#clip230)\" style=\"stroke:#000000; stroke-linecap:butt; stroke-linejoin:round; stroke-width:4; stroke-opacity:1; fill:none\" points=\"\n",
       "  1341.85,670.515 1360.75,670.515 \n",
       "  \"/>\n",
       "<polyline clip-path=\"url(#clip230)\" style=\"stroke:#000000; stroke-linecap:butt; stroke-linejoin:round; stroke-width:4; stroke-opacity:1; fill:none\" points=\"\n",
       "  1341.85,526.972 1360.75,526.972 \n",
       "  \"/>\n",
       "<polyline clip-path=\"url(#clip230)\" style=\"stroke:#000000; stroke-linecap:butt; stroke-linejoin:round; stroke-width:4; stroke-opacity:1; fill:none\" points=\"\n",
       "  1341.85,383.429 1360.75,383.429 \n",
       "  \"/>\n",
       "<polyline clip-path=\"url(#clip230)\" style=\"stroke:#000000; stroke-linecap:butt; stroke-linejoin:round; stroke-width:4; stroke-opacity:1; fill:none\" points=\"\n",
       "  1341.85,239.886 1360.75,239.886 \n",
       "  \"/>\n",
       "<path clip-path=\"url(#clip230)\" d=\"M1293.91 656.313 Q1290.3 656.313 1288.47 659.878 Q1286.66 663.42 1286.66 670.549 Q1286.66 677.656 1288.47 681.221 Q1290.3 684.762 1293.91 684.762 Q1297.54 684.762 1299.35 681.221 Q1301.18 677.656 1301.18 670.549 Q1301.18 663.42 1299.35 659.878 Q1297.54 656.313 1293.91 656.313 M1293.91 652.61 Q1299.72 652.61 1302.77 657.216 Q1305.85 661.799 1305.85 670.549 Q1305.85 679.276 1302.77 683.883 Q1299.72 688.466 1293.91 688.466 Q1288.1 688.466 1285.02 683.883 Q1281.96 679.276 1281.96 670.549 Q1281.96 661.799 1285.02 657.216 Q1288.1 652.61 1293.91 652.61 Z\" fill=\"#000000\" fill-rule=\"evenodd\" fill-opacity=\"1\" /><path clip-path=\"url(#clip230)\" d=\"M1254.56 540.316 L1262.2 540.316 L1262.2 513.951 L1253.89 515.617 L1253.89 511.358 L1262.15 509.692 L1266.83 509.692 L1266.83 540.316 L1274.46 540.316 L1274.46 544.252 L1254.56 544.252 L1254.56 540.316 Z\" fill=\"#000000\" fill-rule=\"evenodd\" fill-opacity=\"1\" /><path clip-path=\"url(#clip230)\" d=\"M1293.91 512.77 Q1290.3 512.77 1288.47 516.335 Q1286.66 519.877 1286.66 527.006 Q1286.66 534.113 1288.47 537.678 Q1290.3 541.219 1293.91 541.219 Q1297.54 541.219 1299.35 537.678 Q1301.18 534.113 1301.18 527.006 Q1301.18 519.877 1299.35 516.335 Q1297.54 512.77 1293.91 512.77 M1293.91 509.067 Q1299.72 509.067 1302.77 513.673 Q1305.85 518.256 1305.85 527.006 Q1305.85 535.733 1302.77 540.34 Q1299.72 544.923 1293.91 544.923 Q1288.1 544.923 1285.02 540.34 Q1281.96 535.733 1281.96 527.006 Q1281.96 518.256 1285.02 513.673 Q1288.1 509.067 1293.91 509.067 Z\" fill=\"#000000\" fill-rule=\"evenodd\" fill-opacity=\"1\" /><path clip-path=\"url(#clip230)\" d=\"M1257.77 396.773 L1274.09 396.773 L1274.09 400.709 L1252.15 400.709 L1252.15 396.773 Q1254.81 394.019 1259.39 389.389 Q1264 384.736 1265.18 383.394 Q1267.43 380.871 1268.31 379.135 Q1269.21 377.375 1269.21 375.686 Q1269.21 372.931 1267.27 371.195 Q1265.34 369.459 1262.24 369.459 Q1260.04 369.459 1257.59 370.223 Q1255.16 370.986 1252.38 372.537 L1252.38 367.815 Q1255.21 366.681 1257.66 366.102 Q1260.11 365.524 1262.15 365.524 Q1267.52 365.524 1270.71 368.209 Q1273.91 370.894 1273.91 375.385 Q1273.91 377.514 1273.1 379.436 Q1272.31 381.334 1270.2 383.926 Q1269.63 384.598 1266.52 387.815 Q1263.42 391.01 1257.77 396.773 Z\" fill=\"#000000\" fill-rule=\"evenodd\" fill-opacity=\"1\" /><path clip-path=\"url(#clip230)\" d=\"M1293.91 369.227 Q1290.3 369.227 1288.47 372.792 Q1286.66 376.334 1286.66 383.463 Q1286.66 390.57 1288.47 394.135 Q1290.3 397.676 1293.91 397.676 Q1297.54 397.676 1299.35 394.135 Q1301.18 390.57 1301.18 383.463 Q1301.18 376.334 1299.35 372.792 Q1297.54 369.227 1293.91 369.227 M1293.91 365.524 Q1299.72 365.524 1302.77 370.13 Q1305.85 374.713 1305.85 383.463 Q1305.85 392.19 1302.77 396.797 Q1299.72 401.38 1293.91 401.38 Q1288.1 401.38 1285.02 396.797 Q1281.96 392.19 1281.96 383.463 Q1281.96 374.713 1285.02 370.13 Q1288.1 365.524 1293.91 365.524 Z\" fill=\"#000000\" fill-rule=\"evenodd\" fill-opacity=\"1\" /><path clip-path=\"url(#clip230)\" d=\"M1267.91 238.531 Q1271.27 239.249 1273.14 241.517 Q1275.04 243.786 1275.04 247.119 Q1275.04 252.235 1271.52 255.036 Q1268.01 257.837 1261.52 257.837 Q1259.35 257.837 1257.03 257.397 Q1254.74 256.98 1252.29 256.124 L1252.29 251.61 Q1254.23 252.744 1256.55 253.323 Q1258.86 253.902 1261.39 253.902 Q1265.78 253.902 1268.08 252.166 Q1270.39 250.429 1270.39 247.119 Q1270.39 244.064 1268.24 242.351 Q1266.11 240.615 1262.29 240.615 L1258.26 240.615 L1258.26 236.772 L1262.47 236.772 Q1265.92 236.772 1267.75 235.406 Q1269.58 234.017 1269.58 231.425 Q1269.58 228.763 1267.68 227.351 Q1265.81 225.916 1262.29 225.916 Q1260.37 225.916 1258.17 226.332 Q1255.97 226.749 1253.33 227.629 L1253.33 223.462 Q1255.99 222.721 1258.31 222.351 Q1260.64 221.981 1262.71 221.981 Q1268.03 221.981 1271.13 224.411 Q1274.23 226.818 1274.23 230.939 Q1274.23 233.809 1272.59 235.8 Q1270.95 237.767 1267.91 238.531 Z\" fill=\"#000000\" fill-rule=\"evenodd\" fill-opacity=\"1\" /><path clip-path=\"url(#clip230)\" d=\"M1293.91 225.684 Q1290.3 225.684 1288.47 229.249 Q1286.66 232.791 1286.66 239.92 Q1286.66 247.027 1288.47 250.591 Q1290.3 254.133 1293.91 254.133 Q1297.54 254.133 1299.35 250.591 Q1301.18 247.027 1301.18 239.92 Q1301.18 232.791 1299.35 229.249 Q1297.54 225.684 1293.91 225.684 M1293.91 221.981 Q1299.72 221.981 1302.77 226.587 Q1305.85 231.17 1305.85 239.92 Q1305.85 248.647 1302.77 253.254 Q1299.72 257.837 1293.91 257.837 Q1288.1 257.837 1285.02 253.254 Q1281.96 248.647 1281.96 239.92 Q1281.96 231.17 1285.02 226.587 Q1288.1 221.981 1293.91 221.981 Z\" fill=\"#000000\" fill-rule=\"evenodd\" fill-opacity=\"1\" /><path clip-path=\"url(#clip230)\" d=\"M1636.11 14.0809 L1636.11 22.0612 Q1631.45 19.8332 1627.32 18.7395 Q1623.19 17.6457 1619.34 17.6457 Q1612.66 17.6457 1609.01 20.2383 Q1605.4 22.8309 1605.4 27.611 Q1605.4 31.6214 1607.79 33.6873 Q1610.23 35.7128 1616.95 36.9686 L1621.89 37.9813 Q1631.05 39.7232 1635.38 44.1387 Q1639.76 48.5136 1639.76 55.8863 Q1639.76 64.6767 1633.84 69.2137 Q1627.97 73.7508 1616.59 73.7508 Q1612.29 73.7508 1607.43 72.7785 Q1602.61 71.8063 1597.42 69.9024 L1597.42 61.4765 Q1602.41 64.2716 1607.19 65.6895 Q1611.97 67.1073 1616.59 67.1073 Q1623.59 67.1073 1627.4 64.3527 Q1631.21 61.598 1631.21 56.4939 Q1631.21 52.0379 1628.45 49.5264 Q1625.74 47.0148 1619.5 45.759 L1614.52 44.7868 Q1605.36 42.9639 1601.27 39.075 Q1597.18 35.1862 1597.18 28.2591 Q1597.18 20.2383 1602.81 15.6203 Q1608.48 11.0023 1618.41 11.0023 Q1622.66 11.0023 1627.08 11.7719 Q1631.49 12.5416 1636.11 14.0809 Z\" fill=\"#000000\" fill-rule=\"evenodd\" fill-opacity=\"1\" /><path clip-path=\"url(#clip230)\" d=\"M1691 48.0275 L1691 51.6733 L1656.73 51.6733 Q1657.22 59.3701 1661.35 63.421 Q1665.52 67.4314 1672.93 67.4314 Q1677.23 67.4314 1681.24 66.3781 Q1685.29 65.3249 1689.26 63.2184 L1689.26 70.267 Q1685.25 71.9684 1681.04 72.8596 Q1676.82 73.7508 1672.49 73.7508 Q1661.63 73.7508 1655.27 67.4314 Q1648.95 61.1119 1648.95 50.3365 Q1648.95 39.1965 1654.95 32.6746 Q1660.98 26.1121 1671.19 26.1121 Q1680.35 26.1121 1685.65 32.0264 Q1691 37.9003 1691 48.0275 M1683.55 45.84 Q1683.47 39.7232 1680.1 36.0774 Q1676.78 32.4315 1671.27 32.4315 Q1665.03 32.4315 1661.27 35.9558 Q1657.54 39.4801 1656.97 45.8805 L1683.55 45.84 Z\" fill=\"#000000\" fill-rule=\"evenodd\" fill-opacity=\"1\" /><path clip-path=\"url(#clip230)\" d=\"M1710.44 65.7705 L1710.44 89.8329 L1702.95 89.8329 L1702.95 27.2059 L1710.44 27.2059 L1710.44 34.0924 Q1712.79 30.0415 1716.36 28.0971 Q1719.96 26.1121 1724.95 26.1121 Q1733.21 26.1121 1738.36 32.6746 Q1743.54 39.2371 1743.54 49.9314 Q1743.54 60.6258 1738.36 67.1883 Q1733.21 73.7508 1724.95 73.7508 Q1719.96 73.7508 1716.36 71.8063 Q1712.79 69.8214 1710.44 65.7705 M1735.8 49.9314 Q1735.8 41.7081 1732.4 37.0496 Q1729.04 32.3505 1723.12 32.3505 Q1717.21 32.3505 1713.81 37.0496 Q1710.44 41.7081 1710.44 49.9314 Q1710.44 58.1548 1713.81 62.8538 Q1717.21 67.5124 1723.12 67.5124 Q1729.04 67.5124 1732.4 62.8538 Q1735.8 58.1548 1735.8 49.9314 Z\" fill=\"#000000\" fill-rule=\"evenodd\" fill-opacity=\"1\" /><path clip-path=\"url(#clip230)\" d=\"M1776.51 49.7694 Q1767.48 49.7694 1764 51.8354 Q1760.51 53.9013 1760.51 58.8839 Q1760.51 62.8538 1763.11 65.2034 Q1765.74 67.5124 1770.24 67.5124 Q1776.43 67.5124 1780.16 63.1374 Q1783.93 58.7219 1783.93 51.4303 L1783.93 49.7694 L1776.51 49.7694 M1791.38 46.6907 L1791.38 72.576 L1783.93 72.576 L1783.93 65.6895 Q1781.38 69.8214 1777.57 71.8063 Q1773.76 73.7508 1768.25 73.7508 Q1761.28 73.7508 1757.15 69.8619 Q1753.06 65.9325 1753.06 59.3701 Q1753.06 51.7138 1758.16 47.825 Q1763.31 43.9361 1773.48 43.9361 L1783.93 43.9361 L1783.93 43.2069 Q1783.93 38.0623 1780.53 35.2672 Q1777.16 32.4315 1771.05 32.4315 Q1767.16 32.4315 1763.47 33.3632 Q1759.78 34.295 1756.38 36.1584 L1756.38 29.2718 Q1760.47 27.692 1764.32 26.9223 Q1768.17 26.1121 1771.82 26.1121 Q1781.66 26.1121 1786.52 31.2163 Q1791.38 36.3204 1791.38 46.6907 Z\" fill=\"#000000\" fill-rule=\"evenodd\" fill-opacity=\"1\" /><path clip-path=\"url(#clip230)\" d=\"M1806.73 9.54393 L1814.19 9.54393 L1814.19 72.576 L1806.73 72.576 L1806.73 9.54393 Z\" fill=\"#000000\" fill-rule=\"evenodd\" fill-opacity=\"1\" /><path clip-path=\"url(#clip230)\" d=\"M1864.26 86.3491 L1864.26 92.1419 L1821.16 92.1419 L1821.16 86.3491 L1864.26 86.3491 Z\" fill=\"#000000\" fill-rule=\"evenodd\" fill-opacity=\"1\" /><path clip-path=\"url(#clip230)\" d=\"M1866.2 12.096 L1874.47 12.096 L1887.19 63.2184 L1899.86 12.096 L1909.06 12.096 L1921.78 63.2184 L1934.46 12.096 L1942.76 12.096 L1927.57 72.576 L1917.28 72.576 L1904.52 20.0763 L1891.64 72.576 L1881.35 72.576 L1866.2 12.096 Z\" fill=\"#000000\" fill-rule=\"evenodd\" fill-opacity=\"1\" /><path clip-path=\"url(#clip230)\" d=\"M1951.47 27.2059 L1958.93 27.2059 L1958.93 72.576 L1951.47 72.576 L1951.47 27.2059 M1951.47 9.54393 L1958.93 9.54393 L1958.93 18.9825 L1951.47 18.9825 L1951.47 9.54393 Z\" fill=\"#000000\" fill-rule=\"evenodd\" fill-opacity=\"1\" /><path clip-path=\"url(#clip230)\" d=\"M2004.38 34.0924 L2004.38 9.54393 L2011.83 9.54393 L2011.83 72.576 L2004.38 72.576 L2004.38 65.7705 Q2002.03 69.8214 1998.42 71.8063 Q1994.86 73.7508 1989.84 73.7508 Q1981.61 73.7508 1976.43 67.1883 Q1971.28 60.6258 1971.28 49.9314 Q1971.28 39.2371 1976.43 32.6746 Q1981.61 26.1121 1989.84 26.1121 Q1994.86 26.1121 1998.42 28.0971 Q2002.03 30.0415 2004.38 34.0924 M1978.98 49.9314 Q1978.98 58.1548 1982.34 62.8538 Q1985.74 67.5124 1991.66 67.5124 Q1997.57 67.5124 2000.98 62.8538 Q2004.38 58.1548 2004.38 49.9314 Q2004.38 41.7081 2000.98 37.0496 Q1997.57 32.3505 1991.66 32.3505 Q1985.74 32.3505 1982.34 37.0496 Q1978.98 41.7081 1978.98 49.9314 Z\" fill=\"#000000\" fill-rule=\"evenodd\" fill-opacity=\"1\" /><path clip-path=\"url(#clip230)\" d=\"M2034.56 14.324 L2034.56 27.2059 L2049.91 27.2059 L2049.91 32.9987 L2034.56 32.9987 L2034.56 57.6282 Q2034.56 63.1779 2036.06 64.7578 Q2037.6 66.3376 2042.25 66.3376 L2049.91 66.3376 L2049.91 72.576 L2042.25 72.576 Q2033.63 72.576 2030.34 69.3758 Q2027.06 66.1351 2027.06 57.6282 L2027.06 32.9987 L2021.59 32.9987 L2021.59 27.2059 L2027.06 27.2059 L2027.06 14.324 L2034.56 14.324 Z\" fill=\"#000000\" fill-rule=\"evenodd\" fill-opacity=\"1\" /><path clip-path=\"url(#clip230)\" d=\"M2097.43 45.1919 L2097.43 72.576 L2089.97 72.576 L2089.97 45.4349 Q2089.97 38.994 2087.46 35.7938 Q2084.95 32.5936 2079.93 32.5936 Q2073.89 32.5936 2070.41 36.4419 Q2066.92 40.2903 2066.92 46.9338 L2066.92 72.576 L2059.43 72.576 L2059.43 9.54393 L2066.92 9.54393 L2066.92 34.2544 Q2069.6 30.163 2073.2 28.1376 Q2076.85 26.1121 2081.59 26.1121 Q2089.41 26.1121 2093.42 30.9732 Q2097.43 35.7938 2097.43 45.1919 Z\" fill=\"#000000\" fill-rule=\"evenodd\" fill-opacity=\"1\" /><path clip-path=\"url(#clip233)\" d=\"\n",
       "M1397.45 656.16 L1397.45 670.515 L1466.66 670.515 L1466.66 656.16 L1397.45 656.16 L1397.45 656.16  Z\n",
       "  \" fill=\"#009af9\" fill-rule=\"evenodd\" fill-opacity=\"1\"/>\n",
       "<polyline clip-path=\"url(#clip233)\" style=\"stroke:#000000; stroke-linecap:butt; stroke-linejoin:round; stroke-width:4; stroke-opacity:1; fill:none\" points=\"\n",
       "  1397.45,656.16 1397.45,670.515 1466.66,670.515 1466.66,656.16 1397.45,656.16 \n",
       "  \"/>\n",
       "<path clip-path=\"url(#clip233)\" d=\"\n",
       "M1466.66 570.034 L1466.66 670.515 L1535.87 670.515 L1535.87 570.034 L1466.66 570.034 L1466.66 570.034  Z\n",
       "  \" fill=\"#009af9\" fill-rule=\"evenodd\" fill-opacity=\"1\"/>\n",
       "<polyline clip-path=\"url(#clip233)\" style=\"stroke:#000000; stroke-linecap:butt; stroke-linejoin:round; stroke-width:4; stroke-opacity:1; fill:none\" points=\"\n",
       "  1466.66,570.034 1466.66,670.515 1535.87,670.515 1535.87,570.034 1466.66,570.034 \n",
       "  \"/>\n",
       "<path clip-path=\"url(#clip233)\" d=\"\n",
       "M1535.87 512.617 L1535.87 670.515 L1605.08 670.515 L1605.08 512.617 L1535.87 512.617 L1535.87 512.617  Z\n",
       "  \" fill=\"#009af9\" fill-rule=\"evenodd\" fill-opacity=\"1\"/>\n",
       "<polyline clip-path=\"url(#clip233)\" style=\"stroke:#000000; stroke-linecap:butt; stroke-linejoin:round; stroke-width:4; stroke-opacity:1; fill:none\" points=\"\n",
       "  1535.87,512.617 1535.87,670.515 1605.08,670.515 1605.08,512.617 1535.87,512.617 \n",
       "  \"/>\n",
       "<path clip-path=\"url(#clip233)\" d=\"\n",
       "M1605.08 469.554 L1605.08 670.515 L1674.29 670.515 L1674.29 469.554 L1605.08 469.554 L1605.08 469.554  Z\n",
       "  \" fill=\"#009af9\" fill-rule=\"evenodd\" fill-opacity=\"1\"/>\n",
       "<polyline clip-path=\"url(#clip233)\" style=\"stroke:#000000; stroke-linecap:butt; stroke-linejoin:round; stroke-width:4; stroke-opacity:1; fill:none\" points=\"\n",
       "  1605.08,469.554 1605.08,670.515 1674.29,670.515 1674.29,469.554 1605.08,469.554 \n",
       "  \"/>\n",
       "<path clip-path=\"url(#clip233)\" d=\"\n",
       "M1674.29 326.011 L1674.29 670.515 L1743.49 670.515 L1743.49 326.011 L1674.29 326.011 L1674.29 326.011  Z\n",
       "  \" fill=\"#009af9\" fill-rule=\"evenodd\" fill-opacity=\"1\"/>\n",
       "<polyline clip-path=\"url(#clip233)\" style=\"stroke:#000000; stroke-linecap:butt; stroke-linejoin:round; stroke-width:4; stroke-opacity:1; fill:none\" points=\"\n",
       "  1674.29,326.011 1674.29,670.515 1743.49,670.515 1743.49,326.011 1674.29,326.011 \n",
       "  \"/>\n",
       "<path clip-path=\"url(#clip233)\" d=\"\n",
       "M1743.49 139.405 L1743.49 670.515 L1812.7 670.515 L1812.7 139.405 L1743.49 139.405 L1743.49 139.405  Z\n",
       "  \" fill=\"#009af9\" fill-rule=\"evenodd\" fill-opacity=\"1\"/>\n",
       "<polyline clip-path=\"url(#clip233)\" style=\"stroke:#000000; stroke-linecap:butt; stroke-linejoin:round; stroke-width:4; stroke-opacity:1; fill:none\" points=\"\n",
       "  1743.49,139.405 1743.49,670.515 1812.7,670.515 1812.7,139.405 1743.49,139.405 \n",
       "  \"/>\n",
       "<path clip-path=\"url(#clip233)\" d=\"\n",
       "M1812.7 397.783 L1812.7 670.515 L1881.91 670.515 L1881.91 397.783 L1812.7 397.783 L1812.7 397.783  Z\n",
       "  \" fill=\"#009af9\" fill-rule=\"evenodd\" fill-opacity=\"1\"/>\n",
       "<polyline clip-path=\"url(#clip233)\" style=\"stroke:#000000; stroke-linecap:butt; stroke-linejoin:round; stroke-width:4; stroke-opacity:1; fill:none\" points=\"\n",
       "  1812.7,397.783 1812.7,670.515 1881.91,670.515 1881.91,397.783 1812.7,397.783 \n",
       "  \"/>\n",
       "<path clip-path=\"url(#clip233)\" d=\"\n",
       "M1881.91 412.137 L1881.91 670.515 L1951.12 670.515 L1951.12 412.137 L1881.91 412.137 L1881.91 412.137  Z\n",
       "  \" fill=\"#009af9\" fill-rule=\"evenodd\" fill-opacity=\"1\"/>\n",
       "<polyline clip-path=\"url(#clip233)\" style=\"stroke:#000000; stroke-linecap:butt; stroke-linejoin:round; stroke-width:4; stroke-opacity:1; fill:none\" points=\"\n",
       "  1881.91,412.137 1881.91,670.515 1951.12,670.515 1951.12,412.137 1881.91,412.137 \n",
       "  \"/>\n",
       "<path clip-path=\"url(#clip233)\" d=\"\n",
       "M1951.12 570.034 L1951.12 670.515 L2020.32 670.515 L2020.32 570.034 L1951.12 570.034 L1951.12 570.034  Z\n",
       "  \" fill=\"#009af9\" fill-rule=\"evenodd\" fill-opacity=\"1\"/>\n",
       "<polyline clip-path=\"url(#clip233)\" style=\"stroke:#000000; stroke-linecap:butt; stroke-linejoin:round; stroke-width:4; stroke-opacity:1; fill:none\" points=\"\n",
       "  1951.12,570.034 1951.12,670.515 2020.32,670.515 2020.32,570.034 1951.12,570.034 \n",
       "  \"/>\n",
       "<path clip-path=\"url(#clip233)\" d=\"\n",
       "M2020.32 555.68 L2020.32 670.515 L2089.53 670.515 L2089.53 555.68 L2020.32 555.68 L2020.32 555.68  Z\n",
       "  \" fill=\"#009af9\" fill-rule=\"evenodd\" fill-opacity=\"1\"/>\n",
       "<polyline clip-path=\"url(#clip233)\" style=\"stroke:#000000; stroke-linecap:butt; stroke-linejoin:round; stroke-width:4; stroke-opacity:1; fill:none\" points=\"\n",
       "  2020.32,555.68 2020.32,670.515 2089.53,670.515 2089.53,555.68 2020.32,555.68 \n",
       "  \"/>\n",
       "<path clip-path=\"url(#clip233)\" d=\"\n",
       "M2089.53 641.806 L2089.53 670.515 L2158.74 670.515 L2158.74 641.806 L2089.53 641.806 L2089.53 641.806  Z\n",
       "  \" fill=\"#009af9\" fill-rule=\"evenodd\" fill-opacity=\"1\"/>\n",
       "<polyline clip-path=\"url(#clip233)\" style=\"stroke:#000000; stroke-linecap:butt; stroke-linejoin:round; stroke-width:4; stroke-opacity:1; fill:none\" points=\"\n",
       "  2089.53,641.806 2089.53,670.515 2158.74,670.515 2158.74,641.806 2089.53,641.806 \n",
       "  \"/>\n",
       "<path clip-path=\"url(#clip233)\" d=\"\n",
       "M2158.74 656.16 L2158.74 670.515 L2227.95 670.515 L2227.95 656.16 L2158.74 656.16 L2158.74 656.16  Z\n",
       "  \" fill=\"#009af9\" fill-rule=\"evenodd\" fill-opacity=\"1\"/>\n",
       "<polyline clip-path=\"url(#clip233)\" style=\"stroke:#000000; stroke-linecap:butt; stroke-linejoin:round; stroke-width:4; stroke-opacity:1; fill:none\" points=\"\n",
       "  2158.74,656.16 2158.74,670.515 2227.95,670.515 2227.95,656.16 2158.74,656.16 \n",
       "  \"/>\n",
       "<path clip-path=\"url(#clip233)\" d=\"\n",
       "M2227.95 656.16 L2227.95 670.515 L2297.15 670.515 L2297.15 656.16 L2227.95 656.16 L2227.95 656.16  Z\n",
       "  \" fill=\"#009af9\" fill-rule=\"evenodd\" fill-opacity=\"1\"/>\n",
       "<polyline clip-path=\"url(#clip233)\" style=\"stroke:#000000; stroke-linecap:butt; stroke-linejoin:round; stroke-width:4; stroke-opacity:1; fill:none\" points=\"\n",
       "  2227.95,656.16 2227.95,670.515 2297.15,670.515 2297.15,656.16 2227.95,656.16 \n",
       "  \"/>\n",
       "<circle clip-path=\"url(#clip233)\" style=\"fill:#009af9; stroke:none; fill-opacity:0\" cx=\"1432.06\" cy=\"656.16\" r=\"2\"/>\n",
       "<circle clip-path=\"url(#clip233)\" style=\"fill:#009af9; stroke:none; fill-opacity:0\" cx=\"1501.27\" cy=\"570.034\" r=\"2\"/>\n",
       "<circle clip-path=\"url(#clip233)\" style=\"fill:#009af9; stroke:none; fill-opacity:0\" cx=\"1570.47\" cy=\"512.617\" r=\"2\"/>\n",
       "<circle clip-path=\"url(#clip233)\" style=\"fill:#009af9; stroke:none; fill-opacity:0\" cx=\"1639.68\" cy=\"469.554\" r=\"2\"/>\n",
       "<circle clip-path=\"url(#clip233)\" style=\"fill:#009af9; stroke:none; fill-opacity:0\" cx=\"1708.89\" cy=\"326.011\" r=\"2\"/>\n",
       "<circle clip-path=\"url(#clip233)\" style=\"fill:#009af9; stroke:none; fill-opacity:0\" cx=\"1778.1\" cy=\"139.405\" r=\"2\"/>\n",
       "<circle clip-path=\"url(#clip233)\" style=\"fill:#009af9; stroke:none; fill-opacity:0\" cx=\"1847.3\" cy=\"397.783\" r=\"2\"/>\n",
       "<circle clip-path=\"url(#clip233)\" style=\"fill:#009af9; stroke:none; fill-opacity:0\" cx=\"1916.51\" cy=\"412.137\" r=\"2\"/>\n",
       "<circle clip-path=\"url(#clip233)\" style=\"fill:#009af9; stroke:none; fill-opacity:0\" cx=\"1985.72\" cy=\"570.034\" r=\"2\"/>\n",
       "<circle clip-path=\"url(#clip233)\" style=\"fill:#009af9; stroke:none; fill-opacity:0\" cx=\"2054.93\" cy=\"555.68\" r=\"2\"/>\n",
       "<circle clip-path=\"url(#clip233)\" style=\"fill:#009af9; stroke:none; fill-opacity:0\" cx=\"2124.14\" cy=\"641.806\" r=\"2\"/>\n",
       "<circle clip-path=\"url(#clip233)\" style=\"fill:#009af9; stroke:none; fill-opacity:0\" cx=\"2193.34\" cy=\"656.16\" r=\"2\"/>\n",
       "<circle clip-path=\"url(#clip233)\" style=\"fill:#009af9; stroke:none; fill-opacity:0\" cx=\"2262.55\" cy=\"656.16\" r=\"2\"/>\n",
       "<path clip-path=\"url(#clip230)\" d=\"\n",
       "M2134.45 245.918 L2319.06 245.918 L2319.06 142.238 L2134.45 142.238  Z\n",
       "  \" fill=\"#ffffff\" fill-rule=\"evenodd\" fill-opacity=\"1\"/>\n",
       "<polyline clip-path=\"url(#clip230)\" style=\"stroke:#000000; stroke-linecap:butt; stroke-linejoin:round; stroke-width:4; stroke-opacity:1; fill:none\" points=\"\n",
       "  2134.45,245.918 2319.06,245.918 2319.06,142.238 2134.45,142.238 2134.45,245.918 \n",
       "  \"/>\n",
       "<path clip-path=\"url(#clip230)\" d=\"\n",
       "M2145.68 214.814 L2213.07 214.814 L2213.07 173.342 L2145.68 173.342 L2145.68 214.814  Z\n",
       "  \" fill=\"#009af9\" fill-rule=\"evenodd\" fill-opacity=\"1\"/>\n",
       "<polyline clip-path=\"url(#clip230)\" style=\"stroke:#000000; stroke-linecap:butt; stroke-linejoin:round; stroke-width:4; stroke-opacity:1; fill:none\" points=\"\n",
       "  2145.68,214.814 2213.07,214.814 2213.07,173.342 2145.68,173.342 2145.68,214.814 \n",
       "  \"/>\n",
       "<path clip-path=\"url(#clip230)\" d=\"M2246.55 177.932 L2246.55 182.492 Q2243.89 181.219 2241.53 180.594 Q2239.16 179.969 2236.97 179.969 Q2233.15 179.969 2231.06 181.451 Q2229 182.932 2229 185.664 Q2229 187.955 2230.37 189.136 Q2231.76 190.293 2235.6 191.011 L2238.42 191.59 Q2243.66 192.585 2246.13 195.108 Q2248.63 197.608 2248.63 201.821 Q2248.63 206.844 2245.25 209.437 Q2241.9 212.029 2235.39 212.029 Q2232.94 212.029 2230.16 211.474 Q2227.41 210.918 2224.44 209.83 L2224.44 205.015 Q2227.29 206.613 2230.02 207.423 Q2232.75 208.233 2235.39 208.233 Q2239.4 208.233 2241.57 206.659 Q2243.75 205.085 2243.75 202.168 Q2243.75 199.622 2242.17 198.187 Q2240.62 196.752 2237.06 196.034 L2234.21 195.478 Q2228.98 194.437 2226.64 192.215 Q2224.3 189.992 2224.3 186.034 Q2224.3 181.451 2227.52 178.812 Q2230.76 176.173 2236.43 176.173 Q2238.86 176.173 2241.39 176.613 Q2243.91 177.053 2246.55 177.932 Z\" fill=\"#000000\" fill-rule=\"evenodd\" fill-opacity=\"1\" /><path clip-path=\"url(#clip230)\" d=\"M2252.84 176.798 L2257.57 176.798 L2264.84 206.011 L2272.08 176.798 L2277.34 176.798 L2284.6 206.011 L2291.85 176.798 L2296.59 176.798 L2287.91 211.358 L2282.03 211.358 L2274.74 181.358 L2267.38 211.358 L2261.5 211.358 L2252.84 176.798 Z\" fill=\"#000000\" fill-rule=\"evenodd\" fill-opacity=\"1\" /><path clip-path=\"url(#clip230)\" d=\"\n",
       "M141.853 1486.45 L1152.76 1486.45 L1152.76 923.472 L141.853 923.472  Z\n",
       "  \" fill=\"#ffffff\" fill-rule=\"evenodd\" fill-opacity=\"1\"/>\n",
       "<defs>\n",
       "  <clipPath id=\"clip234\">\n",
       "    <rect x=\"141\" y=\"923\" width=\"1012\" height=\"564\"/>\n",
       "  </clipPath>\n",
       "</defs>\n",
       "<polyline clip-path=\"url(#clip234)\" style=\"stroke:#000000; stroke-linecap:butt; stroke-linejoin:round; stroke-width:2; stroke-opacity:0.1; fill:none\" points=\"\n",
       "  197.454,1486.45 197.454,923.472 \n",
       "  \"/>\n",
       "<polyline clip-path=\"url(#clip234)\" style=\"stroke:#000000; stroke-linecap:butt; stroke-linejoin:round; stroke-width:2; stroke-opacity:0.1; fill:none\" points=\"\n",
       "  422.379,1486.45 422.379,923.472 \n",
       "  \"/>\n",
       "<polyline clip-path=\"url(#clip234)\" style=\"stroke:#000000; stroke-linecap:butt; stroke-linejoin:round; stroke-width:2; stroke-opacity:0.1; fill:none\" points=\"\n",
       "  647.304,1486.45 647.304,923.472 \n",
       "  \"/>\n",
       "<polyline clip-path=\"url(#clip234)\" style=\"stroke:#000000; stroke-linecap:butt; stroke-linejoin:round; stroke-width:2; stroke-opacity:0.1; fill:none\" points=\"\n",
       "  872.229,1486.45 872.229,923.472 \n",
       "  \"/>\n",
       "<polyline clip-path=\"url(#clip234)\" style=\"stroke:#000000; stroke-linecap:butt; stroke-linejoin:round; stroke-width:2; stroke-opacity:0.1; fill:none\" points=\"\n",
       "  1097.15,1486.45 1097.15,923.472 \n",
       "  \"/>\n",
       "<polyline clip-path=\"url(#clip230)\" style=\"stroke:#000000; stroke-linecap:butt; stroke-linejoin:round; stroke-width:4; stroke-opacity:1; fill:none\" points=\"\n",
       "  141.853,1486.45 1152.76,1486.45 \n",
       "  \"/>\n",
       "<polyline clip-path=\"url(#clip230)\" style=\"stroke:#000000; stroke-linecap:butt; stroke-linejoin:round; stroke-width:4; stroke-opacity:1; fill:none\" points=\"\n",
       "  197.454,1486.45 197.454,1467.55 \n",
       "  \"/>\n",
       "<polyline clip-path=\"url(#clip230)\" style=\"stroke:#000000; stroke-linecap:butt; stroke-linejoin:round; stroke-width:4; stroke-opacity:1; fill:none\" points=\"\n",
       "  422.379,1486.45 422.379,1467.55 \n",
       "  \"/>\n",
       "<polyline clip-path=\"url(#clip230)\" style=\"stroke:#000000; stroke-linecap:butt; stroke-linejoin:round; stroke-width:4; stroke-opacity:1; fill:none\" points=\"\n",
       "  647.304,1486.45 647.304,1467.55 \n",
       "  \"/>\n",
       "<polyline clip-path=\"url(#clip230)\" style=\"stroke:#000000; stroke-linecap:butt; stroke-linejoin:round; stroke-width:4; stroke-opacity:1; fill:none\" points=\"\n",
       "  872.229,1486.45 872.229,1467.55 \n",
       "  \"/>\n",
       "<polyline clip-path=\"url(#clip230)\" style=\"stroke:#000000; stroke-linecap:butt; stroke-linejoin:round; stroke-width:4; stroke-opacity:1; fill:none\" points=\"\n",
       "  1097.15,1486.45 1097.15,1467.55 \n",
       "  \"/>\n",
       "<path clip-path=\"url(#clip230)\" d=\"M197.454 1517.37 Q193.843 1517.37 192.015 1520.93 Q190.209 1524.47 190.209 1531.6 Q190.209 1538.71 192.015 1542.27 Q193.843 1545.82 197.454 1545.82 Q201.089 1545.82 202.894 1542.27 Q204.723 1538.71 204.723 1531.6 Q204.723 1524.47 202.894 1520.93 Q201.089 1517.37 197.454 1517.37 M197.454 1513.66 Q203.265 1513.66 206.32 1518.27 Q209.399 1522.85 209.399 1531.6 Q209.399 1540.33 206.32 1544.94 Q203.265 1549.52 197.454 1549.52 Q191.644 1549.52 188.566 1544.94 Q185.51 1540.33 185.51 1531.6 Q185.51 1522.85 188.566 1518.27 Q191.644 1513.66 197.454 1513.66 Z\" fill=\"#000000\" fill-rule=\"evenodd\" fill-opacity=\"1\" /><path clip-path=\"url(#clip230)\" d=\"M417.032 1544.91 L433.352 1544.91 L433.352 1548.85 L411.407 1548.85 L411.407 1544.91 Q414.069 1542.16 418.653 1537.53 Q423.259 1532.88 424.44 1531.53 Q426.685 1529.01 427.565 1527.27 Q428.467 1525.51 428.467 1523.82 Q428.467 1521.07 426.523 1519.33 Q424.602 1517.6 421.5 1517.6 Q419.301 1517.6 416.847 1518.36 Q414.416 1519.13 411.639 1520.68 L411.639 1515.95 Q414.463 1514.82 416.916 1514.24 Q419.37 1513.66 421.407 1513.66 Q426.778 1513.66 429.972 1516.35 Q433.166 1519.03 433.166 1523.52 Q433.166 1525.65 432.356 1527.57 Q431.569 1529.47 429.463 1532.07 Q428.884 1532.74 425.782 1535.95 Q422.68 1539.15 417.032 1544.91 Z\" fill=\"#000000\" fill-rule=\"evenodd\" fill-opacity=\"1\" /><path clip-path=\"url(#clip230)\" d=\"M650.314 1518.36 L638.508 1536.81 L650.314 1536.81 L650.314 1518.36 M649.087 1514.29 L654.966 1514.29 L654.966 1536.81 L659.897 1536.81 L659.897 1540.7 L654.966 1540.7 L654.966 1548.85 L650.314 1548.85 L650.314 1540.7 L634.712 1540.7 L634.712 1536.19 L649.087 1514.29 Z\" fill=\"#000000\" fill-rule=\"evenodd\" fill-opacity=\"1\" /><path clip-path=\"url(#clip230)\" d=\"M872.635 1529.7 Q869.486 1529.7 867.635 1531.86 Q865.806 1534.01 865.806 1537.76 Q865.806 1541.49 867.635 1543.66 Q869.486 1545.82 872.635 1545.82 Q875.783 1545.82 877.611 1543.66 Q879.463 1541.49 879.463 1537.76 Q879.463 1534.01 877.611 1531.86 Q875.783 1529.7 872.635 1529.7 M881.917 1515.05 L881.917 1519.31 Q880.158 1518.48 878.352 1518.04 Q876.57 1517.6 874.81 1517.6 Q870.181 1517.6 867.727 1520.72 Q865.297 1523.85 864.949 1530.17 Q866.315 1528.15 868.375 1527.09 Q870.435 1526 872.912 1526 Q878.121 1526 881.13 1529.17 Q884.162 1532.32 884.162 1537.76 Q884.162 1543.08 881.014 1546.3 Q877.866 1549.52 872.635 1549.52 Q866.639 1549.52 863.468 1544.94 Q860.297 1540.33 860.297 1531.6 Q860.297 1523.41 864.185 1518.55 Q868.074 1513.66 874.625 1513.66 Q876.385 1513.66 878.167 1514.01 Q879.972 1514.36 881.917 1515.05 Z\" fill=\"#000000\" fill-rule=\"evenodd\" fill-opacity=\"1\" /><path clip-path=\"url(#clip230)\" d=\"M1097.15 1532.44 Q1093.82 1532.44 1091.9 1534.22 Q1090 1536 1090 1539.13 Q1090 1542.25 1091.9 1544.03 Q1093.82 1545.82 1097.15 1545.82 Q1100.49 1545.82 1102.41 1544.03 Q1104.33 1542.23 1104.33 1539.13 Q1104.33 1536 1102.41 1534.22 Q1100.51 1532.44 1097.15 1532.44 M1092.48 1530.45 Q1089.47 1529.7 1087.78 1527.64 Q1086.11 1525.58 1086.11 1522.62 Q1086.11 1518.48 1089.05 1516.07 Q1092.02 1513.66 1097.15 1513.66 Q1102.32 1513.66 1105.26 1516.07 Q1108.2 1518.48 1108.2 1522.62 Q1108.2 1525.58 1106.51 1527.64 Q1104.84 1529.7 1101.85 1530.45 Q1105.23 1531.23 1107.11 1533.52 Q1109.01 1535.82 1109.01 1539.13 Q1109.01 1544.15 1105.93 1546.83 Q1102.87 1549.52 1097.15 1549.52 Q1091.44 1549.52 1088.36 1546.83 Q1085.3 1544.15 1085.3 1539.13 Q1085.3 1535.82 1087.2 1533.52 Q1089.1 1531.23 1092.48 1530.45 M1090.77 1523.06 Q1090.77 1525.75 1092.43 1527.25 Q1094.12 1528.76 1097.15 1528.76 Q1100.16 1528.76 1101.85 1527.25 Q1103.57 1525.75 1103.57 1523.06 Q1103.57 1520.38 1101.85 1518.87 Q1100.16 1517.37 1097.15 1517.37 Q1094.12 1517.37 1092.43 1518.87 Q1090.77 1520.38 1090.77 1523.06 Z\" fill=\"#000000\" fill-rule=\"evenodd\" fill-opacity=\"1\" /><polyline clip-path=\"url(#clip234)\" style=\"stroke:#000000; stroke-linecap:butt; stroke-linejoin:round; stroke-width:2; stroke-opacity:0.1; fill:none\" points=\"\n",
       "  141.853,1470.51 1152.76,1470.51 \n",
       "  \"/>\n",
       "<polyline clip-path=\"url(#clip234)\" style=\"stroke:#000000; stroke-linecap:butt; stroke-linejoin:round; stroke-width:2; stroke-opacity:0.1; fill:none\" points=\"\n",
       "  141.853,1334.33 1152.76,1334.33 \n",
       "  \"/>\n",
       "<polyline clip-path=\"url(#clip234)\" style=\"stroke:#000000; stroke-linecap:butt; stroke-linejoin:round; stroke-width:2; stroke-opacity:0.1; fill:none\" points=\"\n",
       "  141.853,1198.15 1152.76,1198.15 \n",
       "  \"/>\n",
       "<polyline clip-path=\"url(#clip234)\" style=\"stroke:#000000; stroke-linecap:butt; stroke-linejoin:round; stroke-width:2; stroke-opacity:0.1; fill:none\" points=\"\n",
       "  141.853,1061.97 1152.76,1061.97 \n",
       "  \"/>\n",
       "<polyline clip-path=\"url(#clip234)\" style=\"stroke:#000000; stroke-linecap:butt; stroke-linejoin:round; stroke-width:2; stroke-opacity:0.1; fill:none\" points=\"\n",
       "  141.853,925.787 1152.76,925.787 \n",
       "  \"/>\n",
       "<polyline clip-path=\"url(#clip230)\" style=\"stroke:#000000; stroke-linecap:butt; stroke-linejoin:round; stroke-width:4; stroke-opacity:1; fill:none\" points=\"\n",
       "  141.853,1486.45 141.853,923.472 \n",
       "  \"/>\n",
       "<polyline clip-path=\"url(#clip230)\" style=\"stroke:#000000; stroke-linecap:butt; stroke-linejoin:round; stroke-width:4; stroke-opacity:1; fill:none\" points=\"\n",
       "  141.853,1470.51 160.751,1470.51 \n",
       "  \"/>\n",
       "<polyline clip-path=\"url(#clip230)\" style=\"stroke:#000000; stroke-linecap:butt; stroke-linejoin:round; stroke-width:4; stroke-opacity:1; fill:none\" points=\"\n",
       "  141.853,1334.33 160.751,1334.33 \n",
       "  \"/>\n",
       "<polyline clip-path=\"url(#clip230)\" style=\"stroke:#000000; stroke-linecap:butt; stroke-linejoin:round; stroke-width:4; stroke-opacity:1; fill:none\" points=\"\n",
       "  141.853,1198.15 160.751,1198.15 \n",
       "  \"/>\n",
       "<polyline clip-path=\"url(#clip230)\" style=\"stroke:#000000; stroke-linecap:butt; stroke-linejoin:round; stroke-width:4; stroke-opacity:1; fill:none\" points=\"\n",
       "  141.853,1061.97 160.751,1061.97 \n",
       "  \"/>\n",
       "<polyline clip-path=\"url(#clip230)\" style=\"stroke:#000000; stroke-linecap:butt; stroke-linejoin:round; stroke-width:4; stroke-opacity:1; fill:none\" points=\"\n",
       "  141.853,925.787 160.751,925.787 \n",
       "  \"/>\n",
       "<path clip-path=\"url(#clip230)\" d=\"M93.9086 1456.31 Q90.2975 1456.31 88.4688 1459.88 Q86.6632 1463.42 86.6632 1470.55 Q86.6632 1477.66 88.4688 1481.22 Q90.2975 1484.76 93.9086 1484.76 Q97.5428 1484.76 99.3483 1481.22 Q101.177 1477.66 101.177 1470.55 Q101.177 1463.42 99.3483 1459.88 Q97.5428 1456.31 93.9086 1456.31 M93.9086 1452.61 Q99.7187 1452.61 102.774 1457.22 Q105.853 1461.8 105.853 1470.55 Q105.853 1479.28 102.774 1483.88 Q99.7187 1488.47 93.9086 1488.47 Q88.0984 1488.47 85.0197 1483.88 Q81.9642 1479.28 81.9642 1470.55 Q81.9642 1461.8 85.0197 1457.22 Q88.0984 1452.61 93.9086 1452.61 Z\" fill=\"#000000\" fill-rule=\"evenodd\" fill-opacity=\"1\" /><path clip-path=\"url(#clip230)\" d=\"M57.7745 1347.68 L74.0939 1347.68 L74.0939 1351.61 L52.1495 1351.61 L52.1495 1347.68 Q54.8115 1344.92 59.3949 1340.29 Q64.0013 1335.64 65.1819 1334.3 Q67.4272 1331.77 68.3068 1330.04 Q69.2096 1328.28 69.2096 1326.59 Q69.2096 1323.84 67.2652 1322.1 Q65.3439 1320.36 62.2421 1320.36 Q60.043 1320.36 57.5893 1321.13 Q55.1588 1321.89 52.381 1323.44 L52.381 1318.72 Q55.2051 1317.59 57.6588 1317.01 Q60.1124 1316.43 62.1495 1316.43 Q67.5198 1316.43 70.7142 1319.11 Q73.9087 1321.8 73.9087 1326.29 Q73.9087 1328.42 73.0985 1330.34 Q72.3115 1332.24 70.205 1334.83 Q69.6263 1335.5 66.5245 1338.72 Q63.4226 1341.91 57.7745 1347.68 Z\" fill=\"#000000\" fill-rule=\"evenodd\" fill-opacity=\"1\" /><path clip-path=\"url(#clip230)\" d=\"M93.9086 1320.13 Q90.2975 1320.13 88.4688 1323.7 Q86.6632 1327.24 86.6632 1334.37 Q86.6632 1341.47 88.4688 1345.04 Q90.2975 1348.58 93.9086 1348.58 Q97.5428 1348.58 99.3483 1345.04 Q101.177 1341.47 101.177 1334.37 Q101.177 1327.24 99.3483 1323.7 Q97.5428 1320.13 93.9086 1320.13 M93.9086 1316.43 Q99.7187 1316.43 102.774 1321.03 Q105.853 1325.62 105.853 1334.37 Q105.853 1343.09 102.774 1347.7 Q99.7187 1352.28 93.9086 1352.28 Q88.0984 1352.28 85.0197 1347.7 Q81.9642 1343.09 81.9642 1334.37 Q81.9642 1325.62 85.0197 1321.03 Q88.0984 1316.43 93.9086 1316.43 Z\" fill=\"#000000\" fill-rule=\"evenodd\" fill-opacity=\"1\" /><path clip-path=\"url(#clip230)\" d=\"M66.5939 1184.94 L54.7884 1203.39 L66.5939 1203.39 L66.5939 1184.94 M65.367 1180.87 L71.2466 1180.87 L71.2466 1203.39 L76.1772 1203.39 L76.1772 1207.28 L71.2466 1207.28 L71.2466 1215.43 L66.5939 1215.43 L66.5939 1207.28 L50.9921 1207.28 L50.9921 1202.77 L65.367 1180.87 Z\" fill=\"#000000\" fill-rule=\"evenodd\" fill-opacity=\"1\" /><path clip-path=\"url(#clip230)\" d=\"M93.9086 1183.95 Q90.2975 1183.95 88.4688 1187.51 Q86.6632 1191.06 86.6632 1198.19 Q86.6632 1205.29 88.4688 1208.86 Q90.2975 1212.4 93.9086 1212.4 Q97.5428 1212.4 99.3483 1208.86 Q101.177 1205.29 101.177 1198.19 Q101.177 1191.06 99.3483 1187.51 Q97.5428 1183.95 93.9086 1183.95 M93.9086 1180.25 Q99.7187 1180.25 102.774 1184.85 Q105.853 1189.44 105.853 1198.19 Q105.853 1206.91 102.774 1211.52 Q99.7187 1216.1 93.9086 1216.1 Q88.0984 1216.1 85.0197 1211.52 Q81.9642 1206.91 81.9642 1198.19 Q81.9642 1189.44 85.0197 1184.85 Q88.0984 1180.25 93.9086 1180.25 Z\" fill=\"#000000\" fill-rule=\"evenodd\" fill-opacity=\"1\" /><path clip-path=\"url(#clip230)\" d=\"M64.3254 1060.11 Q61.1773 1060.11 59.3254 1062.26 Q57.4967 1064.41 57.4967 1068.16 Q57.4967 1071.89 59.3254 1074.06 Q61.1773 1076.22 64.3254 1076.22 Q67.4735 1076.22 69.3022 1074.06 Q71.1541 1071.89 71.1541 1068.16 Q71.1541 1064.41 69.3022 1062.26 Q67.4735 1060.11 64.3254 1060.11 M73.6077 1045.45 L73.6077 1049.71 Q71.8485 1048.88 70.0429 1048.44 Q68.2606 1048 66.5013 1048 Q61.8717 1048 59.418 1051.12 Q56.9875 1054.25 56.6402 1060.57 Q58.006 1058.55 60.0662 1057.49 Q62.1263 1056.4 64.6032 1056.4 Q69.8115 1056.4 72.8207 1059.57 Q75.8531 1062.72 75.8531 1068.16 Q75.8531 1073.49 72.705 1076.7 Q69.5568 1079.92 64.3254 1079.92 Q58.33 1079.92 55.1588 1075.34 Q51.9875 1070.73 51.9875 1062 Q51.9875 1053.81 55.8764 1048.95 Q59.7652 1044.06 66.3161 1044.06 Q68.0754 1044.06 69.8578 1044.41 Q71.6633 1044.76 73.6077 1045.45 Z\" fill=\"#000000\" fill-rule=\"evenodd\" fill-opacity=\"1\" /><path clip-path=\"url(#clip230)\" d=\"M93.9086 1047.77 Q90.2975 1047.77 88.4688 1051.33 Q86.6632 1054.87 86.6632 1062 Q86.6632 1069.11 88.4688 1072.68 Q90.2975 1076.22 93.9086 1076.22 Q97.5428 1076.22 99.3483 1072.68 Q101.177 1069.11 101.177 1062 Q101.177 1054.87 99.3483 1051.33 Q97.5428 1047.77 93.9086 1047.77 M93.9086 1044.06 Q99.7187 1044.06 102.774 1048.67 Q105.853 1053.25 105.853 1062 Q105.853 1070.73 102.774 1075.34 Q99.7187 1079.92 93.9086 1079.92 Q88.0984 1079.92 85.0197 1075.34 Q81.9642 1070.73 81.9642 1062 Q81.9642 1053.25 85.0197 1048.67 Q88.0984 1044.06 93.9086 1044.06 Z\" fill=\"#000000\" fill-rule=\"evenodd\" fill-opacity=\"1\" /><path clip-path=\"url(#clip230)\" d=\"M63.7467 926.655 Q60.4134 926.655 58.4921 928.438 Q56.5939 930.22 56.5939 933.345 Q56.5939 936.47 58.4921 938.252 Q60.4134 940.035 63.7467 940.035 Q67.08 940.035 69.0013 938.252 Q70.9226 936.447 70.9226 933.345 Q70.9226 930.22 69.0013 928.438 Q67.1032 926.655 63.7467 926.655 M59.0708 924.665 Q56.0615 923.924 54.3717 921.864 Q52.7051 919.803 52.7051 916.841 Q52.7051 912.697 55.6449 910.29 Q58.6078 907.882 63.7467 907.882 Q68.9087 907.882 71.8485 910.29 Q74.7883 912.697 74.7883 916.841 Q74.7883 919.803 73.0985 921.864 Q71.4318 923.924 68.4457 924.665 Q71.8253 925.452 73.7003 927.743 Q75.5985 930.035 75.5985 933.345 Q75.5985 938.368 72.5198 941.053 Q69.4642 943.739 63.7467 943.739 Q58.0291 943.739 54.9504 941.053 Q51.8949 938.368 51.8949 933.345 Q51.8949 930.035 53.793 927.743 Q55.6912 925.452 59.0708 924.665 M57.3578 917.28 Q57.3578 919.965 59.0245 921.47 Q60.7143 922.975 63.7467 922.975 Q66.7559 922.975 68.4457 921.47 Q70.1587 919.965 70.1587 917.28 Q70.1587 914.595 68.4457 913.091 Q66.7559 911.586 63.7467 911.586 Q60.7143 911.586 59.0245 913.091 Q57.3578 914.595 57.3578 917.28 Z\" fill=\"#000000\" fill-rule=\"evenodd\" fill-opacity=\"1\" /><path clip-path=\"url(#clip230)\" d=\"M93.9086 911.586 Q90.2975 911.586 88.4688 915.151 Q86.6632 918.692 86.6632 925.822 Q86.6632 932.928 88.4688 936.493 Q90.2975 940.035 93.9086 940.035 Q97.5428 940.035 99.3483 936.493 Q101.177 932.928 101.177 925.822 Q101.177 918.692 99.3483 915.151 Q97.5428 911.586 93.9086 911.586 M93.9086 907.882 Q99.7187 907.882 102.774 912.489 Q105.853 917.072 105.853 925.822 Q105.853 934.549 102.774 939.155 Q99.7187 943.739 93.9086 943.739 Q88.0984 943.739 85.0197 939.155 Q81.9642 934.549 81.9642 925.822 Q81.9642 917.072 85.0197 912.489 Q88.0984 907.882 93.9086 907.882 Z\" fill=\"#000000\" fill-rule=\"evenodd\" fill-opacity=\"1\" /><path clip-path=\"url(#clip230)\" d=\"M396.999 818.821 L396.999 841.546 L407.288 841.546 Q413 841.546 416.119 838.589 Q419.239 835.632 419.239 830.163 Q419.239 824.735 416.119 821.778 Q413 818.821 407.288 818.821 L396.999 818.821 M388.816 812.096 L407.288 812.096 Q417.456 812.096 422.641 816.714 Q427.867 821.292 427.867 830.163 Q427.867 839.116 422.641 843.693 Q417.456 848.271 407.288 848.271 L396.999 848.271 L396.999 872.576 L388.816 872.576 L388.816 812.096 Z\" fill=\"#000000\" fill-rule=\"evenodd\" fill-opacity=\"1\" /><path clip-path=\"url(#clip230)\" d=\"M474.371 848.028 L474.371 851.673 L440.101 851.673 Q440.587 859.37 444.719 863.421 Q448.891 867.431 456.304 867.431 Q460.598 867.431 464.609 866.378 Q468.66 865.325 472.629 863.218 L472.629 870.267 Q468.619 871.968 464.406 872.86 Q460.193 873.751 455.859 873.751 Q445.002 873.751 438.642 867.431 Q432.323 861.112 432.323 850.337 Q432.323 839.197 438.318 832.675 Q444.354 826.112 454.562 826.112 Q463.717 826.112 469.024 832.026 Q474.371 837.9 474.371 848.028 M466.918 845.84 Q466.837 839.723 463.474 836.077 Q460.153 832.432 454.643 832.432 Q448.405 832.432 444.638 835.956 Q440.911 839.48 440.344 845.881 L466.918 845.84 Z\" fill=\"#000000\" fill-rule=\"evenodd\" fill-opacity=\"1\" /><path clip-path=\"url(#clip230)\" d=\"M493.978 814.324 L493.978 827.206 L509.331 827.206 L509.331 832.999 L493.978 832.999 L493.978 857.628 Q493.978 863.178 495.477 864.758 Q497.016 866.338 501.674 866.338 L509.331 866.338 L509.331 872.576 L501.674 872.576 Q493.046 872.576 489.765 869.376 Q486.484 866.135 486.484 857.628 L486.484 832.999 L481.015 832.999 L481.015 827.206 L486.484 827.206 L486.484 814.324 L493.978 814.324 Z\" fill=\"#000000\" fill-rule=\"evenodd\" fill-opacity=\"1\" /><path clip-path=\"url(#clip230)\" d=\"M539.753 849.769 Q530.719 849.769 527.236 851.835 Q523.752 853.901 523.752 858.884 Q523.752 862.854 526.344 865.203 Q528.978 867.512 533.474 867.512 Q539.672 867.512 543.399 863.137 Q547.166 858.722 547.166 851.43 L547.166 849.769 L539.753 849.769 M554.62 846.691 L554.62 872.576 L547.166 872.576 L547.166 865.689 Q544.614 869.821 540.806 871.806 Q536.998 873.751 531.489 873.751 Q524.522 873.751 520.39 869.862 Q516.298 865.933 516.298 859.37 Q516.298 851.714 521.402 847.825 Q526.547 843.936 536.715 843.936 L547.166 843.936 L547.166 843.207 Q547.166 838.062 543.763 835.267 Q540.401 832.432 534.284 832.432 Q530.395 832.432 526.709 833.363 Q523.023 834.295 519.62 836.158 L519.62 829.272 Q523.711 827.692 527.56 826.922 Q531.408 826.112 535.054 826.112 Q544.898 826.112 549.759 831.216 Q554.62 836.32 554.62 846.691 Z\" fill=\"#000000\" fill-rule=\"evenodd\" fill-opacity=\"1\" /><path clip-path=\"url(#clip230)\" d=\"M569.973 809.544 L577.426 809.544 L577.426 872.576 L569.973 872.576 L569.973 809.544 Z\" fill=\"#000000\" fill-rule=\"evenodd\" fill-opacity=\"1\" /><path clip-path=\"url(#clip230)\" d=\"M627.496 886.349 L627.496 892.142 L584.394 892.142 L584.394 886.349 L627.496 886.349 Z\" fill=\"#000000\" fill-rule=\"evenodd\" fill-opacity=\"1\" /><path clip-path=\"url(#clip230)\" d=\"M634.828 812.096 L643.01 812.096 L643.01 865.689 L672.461 865.689 L672.461 872.576 L634.828 872.576 L634.828 812.096 Z\" fill=\"#000000\" fill-rule=\"evenodd\" fill-opacity=\"1\" /><path clip-path=\"url(#clip230)\" d=\"M718.074 848.028 L718.074 851.673 L683.803 851.673 Q684.289 859.37 688.421 863.421 Q692.594 867.431 700.007 867.431 Q704.301 867.431 708.311 866.378 Q712.362 865.325 716.332 863.218 L716.332 870.267 Q712.321 871.968 708.108 872.86 Q703.896 873.751 699.561 873.751 Q688.705 873.751 682.345 867.431 Q676.025 861.112 676.025 850.337 Q676.025 839.197 682.021 832.675 Q688.057 826.112 698.265 826.112 Q707.42 826.112 712.727 832.026 Q718.074 837.9 718.074 848.028 M710.62 845.84 Q710.539 839.723 707.177 836.077 Q703.855 832.432 698.346 832.432 Q692.107 832.432 688.34 835.956 Q684.613 839.48 684.046 845.881 L710.62 845.84 Z\" fill=\"#000000\" fill-rule=\"evenodd\" fill-opacity=\"1\" /><path clip-path=\"url(#clip230)\" d=\"M768.021 845.192 L768.021 872.576 L760.568 872.576 L760.568 845.435 Q760.568 838.994 758.056 835.794 Q755.545 832.594 750.521 832.594 Q744.486 832.594 741.002 836.442 Q737.518 840.29 737.518 846.934 L737.518 872.576 L730.024 872.576 L730.024 827.206 L737.518 827.206 L737.518 834.254 Q740.192 830.163 743.797 828.138 Q747.443 826.112 752.182 826.112 Q760.001 826.112 764.011 830.973 Q768.021 835.794 768.021 845.192 Z\" fill=\"#000000\" fill-rule=\"evenodd\" fill-opacity=\"1\" /><path clip-path=\"url(#clip230)\" d=\"M812.743 849.364 Q812.743 841.263 809.381 836.807 Q806.059 832.351 800.024 832.351 Q794.028 832.351 790.666 836.807 Q787.344 841.263 787.344 849.364 Q787.344 857.426 790.666 861.882 Q794.028 866.338 800.024 866.338 Q806.059 866.338 809.381 861.882 Q812.743 857.426 812.743 849.364 M820.197 866.945 Q820.197 878.531 815.052 884.162 Q809.908 889.833 799.294 889.833 Q795.365 889.833 791.881 889.225 Q788.397 888.658 785.116 887.443 L785.116 880.192 Q788.397 881.974 791.598 882.825 Q794.798 883.675 798.12 883.675 Q805.452 883.675 809.098 879.827 Q812.743 876.019 812.743 868.282 L812.743 864.596 Q810.434 868.606 806.829 870.591 Q803.224 872.576 798.201 872.576 Q789.856 872.576 784.752 866.216 Q779.647 859.856 779.647 849.364 Q779.647 838.832 784.752 832.472 Q789.856 826.112 798.201 826.112 Q803.224 826.112 806.829 828.097 Q810.434 830.082 812.743 834.092 L812.743 827.206 L820.197 827.206 L820.197 866.945 Z\" fill=\"#000000\" fill-rule=\"evenodd\" fill-opacity=\"1\" /><path clip-path=\"url(#clip230)\" d=\"M842.923 814.324 L842.923 827.206 L858.276 827.206 L858.276 832.999 L842.923 832.999 L842.923 857.628 Q842.923 863.178 844.421 864.758 Q845.961 866.338 850.619 866.338 L858.276 866.338 L858.276 872.576 L850.619 872.576 Q841.991 872.576 838.71 869.376 Q835.428 866.135 835.428 857.628 L835.428 832.999 L829.96 832.999 L829.96 827.206 L835.428 827.206 L835.428 814.324 L842.923 814.324 Z\" fill=\"#000000\" fill-rule=\"evenodd\" fill-opacity=\"1\" /><path clip-path=\"url(#clip230)\" d=\"M905.793 845.192 L905.793 872.576 L898.339 872.576 L898.339 845.435 Q898.339 838.994 895.827 835.794 Q893.316 832.594 888.293 832.594 Q882.257 832.594 878.773 836.442 Q875.289 840.29 875.289 846.934 L875.289 872.576 L867.795 872.576 L867.795 809.544 L875.289 809.544 L875.289 834.254 Q877.963 830.163 881.568 828.138 Q885.214 826.112 889.954 826.112 Q897.772 826.112 901.782 830.973 Q905.793 835.794 905.793 845.192 Z\" fill=\"#000000\" fill-rule=\"evenodd\" fill-opacity=\"1\" /><path clip-path=\"url(#clip234)\" d=\"\n",
       "M197.454 1130.06 L197.454 1470.51 L422.379 1470.51 L422.379 1130.06 L197.454 1130.06 L197.454 1130.06  Z\n",
       "  \" fill=\"#009af9\" fill-rule=\"evenodd\" fill-opacity=\"1\"/>\n",
       "<polyline clip-path=\"url(#clip234)\" style=\"stroke:#000000; stroke-linecap:butt; stroke-linejoin:round; stroke-width:4; stroke-opacity:1; fill:none\" points=\"\n",
       "  197.454,1130.06 197.454,1470.51 422.379,1470.51 422.379,1130.06 197.454,1130.06 \n",
       "  \"/>\n",
       "<path clip-path=\"url(#clip234)\" d=\"\n",
       "M422.379 1395.61 L422.379 1470.51 L647.304 1470.51 L647.304 1395.61 L422.379 1395.61 L422.379 1395.61  Z\n",
       "  \" fill=\"#009af9\" fill-rule=\"evenodd\" fill-opacity=\"1\"/>\n",
       "<polyline clip-path=\"url(#clip234)\" style=\"stroke:#000000; stroke-linecap:butt; stroke-linejoin:round; stroke-width:4; stroke-opacity:1; fill:none\" points=\"\n",
       "  422.379,1395.61 422.379,1470.51 647.304,1470.51 647.304,1395.61 422.379,1395.61 \n",
       "  \"/>\n",
       "<path clip-path=\"url(#clip234)\" d=\"\n",
       "M647.304 939.405 L647.304 1470.51 L872.229 1470.51 L872.229 939.405 L647.304 939.405 L647.304 939.405  Z\n",
       "  \" fill=\"#009af9\" fill-rule=\"evenodd\" fill-opacity=\"1\"/>\n",
       "<polyline clip-path=\"url(#clip234)\" style=\"stroke:#000000; stroke-linecap:butt; stroke-linejoin:round; stroke-width:4; stroke-opacity:1; fill:none\" points=\"\n",
       "  647.304,939.405 647.304,1470.51 872.229,1470.51 872.229,939.405 647.304,939.405 \n",
       "  \"/>\n",
       "<path clip-path=\"url(#clip234)\" d=\"\n",
       "M872.229 1395.61 L872.229 1470.51 L1097.15 1470.51 L1097.15 1395.61 L872.229 1395.61 L872.229 1395.61  Z\n",
       "  \" fill=\"#009af9\" fill-rule=\"evenodd\" fill-opacity=\"1\"/>\n",
       "<polyline clip-path=\"url(#clip234)\" style=\"stroke:#000000; stroke-linecap:butt; stroke-linejoin:round; stroke-width:4; stroke-opacity:1; fill:none\" points=\"\n",
       "  872.229,1395.61 872.229,1470.51 1097.15,1470.51 1097.15,1395.61 872.229,1395.61 \n",
       "  \"/>\n",
       "<circle clip-path=\"url(#clip234)\" style=\"fill:#009af9; stroke:none; fill-opacity:0\" cx=\"309.917\" cy=\"1130.06\" r=\"2\"/>\n",
       "<circle clip-path=\"url(#clip234)\" style=\"fill:#009af9; stroke:none; fill-opacity:0\" cx=\"534.842\" cy=\"1395.61\" r=\"2\"/>\n",
       "<circle clip-path=\"url(#clip234)\" style=\"fill:#009af9; stroke:none; fill-opacity:0\" cx=\"759.767\" cy=\"939.405\" r=\"2\"/>\n",
       "<circle clip-path=\"url(#clip234)\" style=\"fill:#009af9; stroke:none; fill-opacity:0\" cx=\"984.692\" cy=\"1395.61\" r=\"2\"/>\n",
       "<path clip-path=\"url(#clip230)\" d=\"\n",
       "M956.644 1045.92 L1119.06 1045.92 L1119.06 942.238 L956.644 942.238  Z\n",
       "  \" fill=\"#ffffff\" fill-rule=\"evenodd\" fill-opacity=\"1\"/>\n",
       "<polyline clip-path=\"url(#clip230)\" style=\"stroke:#000000; stroke-linecap:butt; stroke-linejoin:round; stroke-width:4; stroke-opacity:1; fill:none\" points=\"\n",
       "  956.644,1045.92 1119.06,1045.92 1119.06,942.238 956.644,942.238 956.644,1045.92 \n",
       "  \"/>\n",
       "<path clip-path=\"url(#clip230)\" d=\"\n",
       "M967.877 1014.81 L1035.27 1014.81 L1035.27 973.342 L967.877 973.342 L967.877 1014.81  Z\n",
       "  \" fill=\"#009af9\" fill-rule=\"evenodd\" fill-opacity=\"1\"/>\n",
       "<polyline clip-path=\"url(#clip230)\" style=\"stroke:#000000; stroke-linecap:butt; stroke-linejoin:round; stroke-width:4; stroke-opacity:1; fill:none\" points=\"\n",
       "  967.877,1014.81 1035.27,1014.81 1035.27,973.342 967.877,973.342 967.877,1014.81 \n",
       "  \"/>\n",
       "<path clip-path=\"url(#clip230)\" d=\"M1051.18 980.641 L1051.18 993.627 L1057.06 993.627 Q1060.32 993.627 1062.1 991.937 Q1063.89 990.247 1063.89 987.122 Q1063.89 984.02 1062.1 982.33 Q1060.32 980.641 1057.06 980.641 L1051.18 980.641 M1046.5 976.798 L1057.06 976.798 Q1062.87 976.798 1065.83 979.437 Q1068.82 982.053 1068.82 987.122 Q1068.82 992.238 1065.83 994.853 Q1062.87 997.469 1057.06 997.469 L1051.18 997.469 L1051.18 1011.36 L1046.5 1011.36 L1046.5 976.798 Z\" fill=\"#000000\" fill-rule=\"evenodd\" fill-opacity=\"1\" /><path clip-path=\"url(#clip230)\" d=\"M1075.09 976.798 L1079.77 976.798 L1079.77 1007.42 L1096.59 1007.42 L1096.59 1011.36 L1075.09 1011.36 L1075.09 976.798 Z\" fill=\"#000000\" fill-rule=\"evenodd\" fill-opacity=\"1\" /><path clip-path=\"url(#clip230)\" d=\"\n",
       "M1341.85 1486.45 L2352.76 1486.45 L2352.76 923.472 L1341.85 923.472  Z\n",
       "  \" fill=\"#ffffff\" fill-rule=\"evenodd\" fill-opacity=\"1\"/>\n",
       "<defs>\n",
       "  <clipPath id=\"clip235\">\n",
       "    <rect x=\"1341\" y=\"923\" width=\"1012\" height=\"564\"/>\n",
       "  </clipPath>\n",
       "</defs>\n",
       "<polyline clip-path=\"url(#clip235)\" style=\"stroke:#000000; stroke-linecap:butt; stroke-linejoin:round; stroke-width:2; stroke-opacity:0.1; fill:none\" points=\"\n",
       "  1397.45,1486.45 1397.45,923.472 \n",
       "  \"/>\n",
       "<polyline clip-path=\"url(#clip235)\" style=\"stroke:#000000; stroke-linecap:butt; stroke-linejoin:round; stroke-width:2; stroke-opacity:0.1; fill:none\" points=\"\n",
       "  1697.35,1486.45 1697.35,923.472 \n",
       "  \"/>\n",
       "<polyline clip-path=\"url(#clip235)\" style=\"stroke:#000000; stroke-linecap:butt; stroke-linejoin:round; stroke-width:2; stroke-opacity:0.1; fill:none\" points=\"\n",
       "  1997.25,1486.45 1997.25,923.472 \n",
       "  \"/>\n",
       "<polyline clip-path=\"url(#clip235)\" style=\"stroke:#000000; stroke-linecap:butt; stroke-linejoin:round; stroke-width:2; stroke-opacity:0.1; fill:none\" points=\"\n",
       "  2297.15,1486.45 2297.15,923.472 \n",
       "  \"/>\n",
       "<polyline clip-path=\"url(#clip230)\" style=\"stroke:#000000; stroke-linecap:butt; stroke-linejoin:round; stroke-width:4; stroke-opacity:1; fill:none\" points=\"\n",
       "  1341.85,1486.45 2352.76,1486.45 \n",
       "  \"/>\n",
       "<polyline clip-path=\"url(#clip230)\" style=\"stroke:#000000; stroke-linecap:butt; stroke-linejoin:round; stroke-width:4; stroke-opacity:1; fill:none\" points=\"\n",
       "  1397.45,1486.45 1397.45,1467.55 \n",
       "  \"/>\n",
       "<polyline clip-path=\"url(#clip230)\" style=\"stroke:#000000; stroke-linecap:butt; stroke-linejoin:round; stroke-width:4; stroke-opacity:1; fill:none\" points=\"\n",
       "  1697.35,1486.45 1697.35,1467.55 \n",
       "  \"/>\n",
       "<polyline clip-path=\"url(#clip230)\" style=\"stroke:#000000; stroke-linecap:butt; stroke-linejoin:round; stroke-width:4; stroke-opacity:1; fill:none\" points=\"\n",
       "  1997.25,1486.45 1997.25,1467.55 \n",
       "  \"/>\n",
       "<polyline clip-path=\"url(#clip230)\" style=\"stroke:#000000; stroke-linecap:butt; stroke-linejoin:round; stroke-width:4; stroke-opacity:1; fill:none\" points=\"\n",
       "  2297.15,1486.45 2297.15,1467.55 \n",
       "  \"/>\n",
       "<path clip-path=\"url(#clip230)\" d=\"M1397.45 1517.37 Q1393.84 1517.37 1392.01 1520.93 Q1390.21 1524.47 1390.21 1531.6 Q1390.21 1538.71 1392.01 1542.27 Q1393.84 1545.82 1397.45 1545.82 Q1401.09 1545.82 1402.89 1542.27 Q1404.72 1538.71 1404.72 1531.6 Q1404.72 1524.47 1402.89 1520.93 Q1401.09 1517.37 1397.45 1517.37 M1397.45 1513.66 Q1403.26 1513.66 1406.32 1518.27 Q1409.4 1522.85 1409.4 1531.6 Q1409.4 1540.33 1406.32 1544.94 Q1403.26 1549.52 1397.45 1549.52 Q1391.64 1549.52 1388.57 1544.94 Q1385.51 1540.33 1385.51 1531.6 Q1385.51 1522.85 1388.57 1518.27 Q1391.64 1513.66 1397.45 1513.66 Z\" fill=\"#000000\" fill-rule=\"evenodd\" fill-opacity=\"1\" /><path clip-path=\"url(#clip230)\" d=\"M1687.74 1544.91 L1695.38 1544.91 L1695.38 1518.55 L1687.07 1520.21 L1687.07 1515.95 L1695.33 1514.29 L1700 1514.29 L1700 1544.91 L1707.64 1544.91 L1707.64 1548.85 L1687.74 1548.85 L1687.74 1544.91 Z\" fill=\"#000000\" fill-rule=\"evenodd\" fill-opacity=\"1\" /><path clip-path=\"url(#clip230)\" d=\"M1991.91 1544.91 L2008.23 1544.91 L2008.23 1548.85 L1986.28 1548.85 L1986.28 1544.91 Q1988.94 1542.16 1993.53 1537.53 Q1998.13 1532.88 1999.31 1531.53 Q2001.56 1529.01 2002.44 1527.27 Q2003.34 1525.51 2003.34 1523.82 Q2003.34 1521.07 2001.4 1519.33 Q1999.48 1517.6 1996.37 1517.6 Q1994.18 1517.6 1991.72 1518.36 Q1989.29 1519.13 1986.51 1520.68 L1986.51 1515.95 Q1989.34 1514.82 1991.79 1514.24 Q1994.25 1513.66 1996.28 1513.66 Q2001.65 1513.66 2004.85 1516.35 Q2008.04 1519.03 2008.04 1523.52 Q2008.04 1525.65 2007.23 1527.57 Q2006.44 1529.47 2004.34 1532.07 Q2003.76 1532.74 2000.66 1535.95 Q1997.56 1539.15 1991.91 1544.91 Z\" fill=\"#000000\" fill-rule=\"evenodd\" fill-opacity=\"1\" /><path clip-path=\"url(#clip230)\" d=\"M2301.4 1530.21 Q2304.76 1530.93 2306.63 1533.2 Q2308.53 1535.47 2308.53 1538.8 Q2308.53 1543.92 2305.01 1546.72 Q2301.49 1549.52 2295.01 1549.52 Q2292.84 1549.52 2290.52 1549.08 Q2288.23 1548.66 2285.78 1547.81 L2285.78 1543.29 Q2287.72 1544.43 2290.04 1545.01 Q2292.35 1545.58 2294.87 1545.58 Q2299.27 1545.58 2301.56 1543.85 Q2303.88 1542.11 2303.88 1538.8 Q2303.88 1535.75 2301.73 1534.03 Q2299.6 1532.3 2295.78 1532.3 L2291.75 1532.3 L2291.75 1528.45 L2295.96 1528.45 Q2299.41 1528.45 2301.24 1527.09 Q2303.07 1525.7 2303.07 1523.11 Q2303.07 1520.45 2301.17 1519.03 Q2299.3 1517.6 2295.78 1517.6 Q2293.86 1517.6 2291.66 1518.01 Q2289.46 1518.43 2286.82 1519.31 L2286.82 1515.14 Q2289.48 1514.4 2291.8 1514.03 Q2294.13 1513.66 2296.19 1513.66 Q2301.52 1513.66 2304.62 1516.09 Q2307.72 1518.5 2307.72 1522.62 Q2307.72 1525.49 2306.08 1527.48 Q2304.43 1529.45 2301.4 1530.21 Z\" fill=\"#000000\" fill-rule=\"evenodd\" fill-opacity=\"1\" /><polyline clip-path=\"url(#clip235)\" style=\"stroke:#000000; stroke-linecap:butt; stroke-linejoin:round; stroke-width:2; stroke-opacity:0.1; fill:none\" points=\"\n",
       "  1341.85,1470.51 2352.76,1470.51 \n",
       "  \"/>\n",
       "<polyline clip-path=\"url(#clip235)\" style=\"stroke:#000000; stroke-linecap:butt; stroke-linejoin:round; stroke-width:2; stroke-opacity:0.1; fill:none\" points=\"\n",
       "  1341.85,1359.87 2352.76,1359.87 \n",
       "  \"/>\n",
       "<polyline clip-path=\"url(#clip235)\" style=\"stroke:#000000; stroke-linecap:butt; stroke-linejoin:round; stroke-width:2; stroke-opacity:0.1; fill:none\" points=\"\n",
       "  1341.85,1249.22 2352.76,1249.22 \n",
       "  \"/>\n",
       "<polyline clip-path=\"url(#clip235)\" style=\"stroke:#000000; stroke-linecap:butt; stroke-linejoin:round; stroke-width:2; stroke-opacity:0.1; fill:none\" points=\"\n",
       "  1341.85,1138.57 2352.76,1138.57 \n",
       "  \"/>\n",
       "<polyline clip-path=\"url(#clip235)\" style=\"stroke:#000000; stroke-linecap:butt; stroke-linejoin:round; stroke-width:2; stroke-opacity:0.1; fill:none\" points=\"\n",
       "  1341.85,1027.92 2352.76,1027.92 \n",
       "  \"/>\n",
       "<polyline clip-path=\"url(#clip230)\" style=\"stroke:#000000; stroke-linecap:butt; stroke-linejoin:round; stroke-width:4; stroke-opacity:1; fill:none\" points=\"\n",
       "  1341.85,1486.45 1341.85,923.472 \n",
       "  \"/>\n",
       "<polyline clip-path=\"url(#clip230)\" style=\"stroke:#000000; stroke-linecap:butt; stroke-linejoin:round; stroke-width:4; stroke-opacity:1; fill:none\" points=\"\n",
       "  1341.85,1470.51 1360.75,1470.51 \n",
       "  \"/>\n",
       "<polyline clip-path=\"url(#clip230)\" style=\"stroke:#000000; stroke-linecap:butt; stroke-linejoin:round; stroke-width:4; stroke-opacity:1; fill:none\" points=\"\n",
       "  1341.85,1359.87 1360.75,1359.87 \n",
       "  \"/>\n",
       "<polyline clip-path=\"url(#clip230)\" style=\"stroke:#000000; stroke-linecap:butt; stroke-linejoin:round; stroke-width:4; stroke-opacity:1; fill:none\" points=\"\n",
       "  1341.85,1249.22 1360.75,1249.22 \n",
       "  \"/>\n",
       "<polyline clip-path=\"url(#clip230)\" style=\"stroke:#000000; stroke-linecap:butt; stroke-linejoin:round; stroke-width:4; stroke-opacity:1; fill:none\" points=\"\n",
       "  1341.85,1138.57 1360.75,1138.57 \n",
       "  \"/>\n",
       "<polyline clip-path=\"url(#clip230)\" style=\"stroke:#000000; stroke-linecap:butt; stroke-linejoin:round; stroke-width:4; stroke-opacity:1; fill:none\" points=\"\n",
       "  1341.85,1027.92 1360.75,1027.92 \n",
       "  \"/>\n",
       "<path clip-path=\"url(#clip230)\" d=\"M1293.91 1456.31 Q1290.3 1456.31 1288.47 1459.88 Q1286.66 1463.42 1286.66 1470.55 Q1286.66 1477.66 1288.47 1481.22 Q1290.3 1484.76 1293.91 1484.76 Q1297.54 1484.76 1299.35 1481.22 Q1301.18 1477.66 1301.18 1470.55 Q1301.18 1463.42 1299.35 1459.88 Q1297.54 1456.31 1293.91 1456.31 M1293.91 1452.61 Q1299.72 1452.61 1302.77 1457.22 Q1305.85 1461.8 1305.85 1470.55 Q1305.85 1479.28 1302.77 1483.88 Q1299.72 1488.47 1293.91 1488.47 Q1288.1 1488.47 1285.02 1483.88 Q1281.96 1479.28 1281.96 1470.55 Q1281.96 1461.8 1285.02 1457.22 Q1288.1 1452.61 1293.91 1452.61 Z\" fill=\"#000000\" fill-rule=\"evenodd\" fill-opacity=\"1\" /><path clip-path=\"url(#clip230)\" d=\"M1254.56 1373.21 L1262.2 1373.21 L1262.2 1346.85 L1253.89 1348.51 L1253.89 1344.25 L1262.15 1342.59 L1266.83 1342.59 L1266.83 1373.21 L1274.46 1373.21 L1274.46 1377.15 L1254.56 1377.15 L1254.56 1373.21 Z\" fill=\"#000000\" fill-rule=\"evenodd\" fill-opacity=\"1\" /><path clip-path=\"url(#clip230)\" d=\"M1293.91 1345.67 Q1290.3 1345.67 1288.47 1349.23 Q1286.66 1352.77 1286.66 1359.9 Q1286.66 1367.01 1288.47 1370.57 Q1290.3 1374.11 1293.91 1374.11 Q1297.54 1374.11 1299.35 1370.57 Q1301.18 1367.01 1301.18 1359.9 Q1301.18 1352.77 1299.35 1349.23 Q1297.54 1345.67 1293.91 1345.67 M1293.91 1341.96 Q1299.72 1341.96 1302.77 1346.57 Q1305.85 1351.15 1305.85 1359.9 Q1305.85 1368.63 1302.77 1373.23 Q1299.72 1377.82 1293.91 1377.82 Q1288.1 1377.82 1285.02 1373.23 Q1281.96 1368.63 1281.96 1359.9 Q1281.96 1351.15 1285.02 1346.57 Q1288.1 1341.96 1293.91 1341.96 Z\" fill=\"#000000\" fill-rule=\"evenodd\" fill-opacity=\"1\" /><path clip-path=\"url(#clip230)\" d=\"M1257.77 1262.56 L1274.09 1262.56 L1274.09 1266.5 L1252.15 1266.5 L1252.15 1262.56 Q1254.81 1259.81 1259.39 1255.18 Q1264 1250.53 1265.18 1249.18 Q1267.43 1246.66 1268.31 1244.93 Q1269.21 1243.17 1269.21 1241.48 Q1269.21 1238.72 1267.27 1236.99 Q1265.34 1235.25 1262.24 1235.25 Q1260.04 1235.25 1257.59 1236.01 Q1255.16 1236.78 1252.38 1238.33 L1252.38 1233.61 Q1255.21 1232.47 1257.66 1231.89 Q1260.11 1231.31 1262.15 1231.31 Q1267.52 1231.31 1270.71 1234 Q1273.91 1236.68 1273.91 1241.18 Q1273.91 1243.3 1273.1 1245.23 Q1272.31 1247.12 1270.2 1249.72 Q1269.63 1250.39 1266.52 1253.61 Q1263.42 1256.8 1257.77 1262.56 Z\" fill=\"#000000\" fill-rule=\"evenodd\" fill-opacity=\"1\" /><path clip-path=\"url(#clip230)\" d=\"M1293.91 1235.02 Q1290.3 1235.02 1288.47 1238.58 Q1286.66 1242.12 1286.66 1249.25 Q1286.66 1256.36 1288.47 1259.93 Q1290.3 1263.47 1293.91 1263.47 Q1297.54 1263.47 1299.35 1259.93 Q1301.18 1256.36 1301.18 1249.25 Q1301.18 1242.12 1299.35 1238.58 Q1297.54 1235.02 1293.91 1235.02 M1293.91 1231.31 Q1299.72 1231.31 1302.77 1235.92 Q1305.85 1240.5 1305.85 1249.25 Q1305.85 1257.98 1302.77 1262.59 Q1299.72 1267.17 1293.91 1267.17 Q1288.1 1267.17 1285.02 1262.59 Q1281.96 1257.98 1281.96 1249.25 Q1281.96 1240.5 1285.02 1235.92 Q1288.1 1231.31 1293.91 1231.31 Z\" fill=\"#000000\" fill-rule=\"evenodd\" fill-opacity=\"1\" /><path clip-path=\"url(#clip230)\" d=\"M1267.91 1137.22 Q1271.27 1137.93 1273.14 1140.2 Q1275.04 1142.47 1275.04 1145.81 Q1275.04 1150.92 1271.52 1153.72 Q1268.01 1156.52 1261.52 1156.52 Q1259.35 1156.52 1257.03 1156.08 Q1254.74 1155.67 1252.29 1154.81 L1252.29 1150.3 Q1254.23 1151.43 1256.55 1152.01 Q1258.86 1152.59 1261.39 1152.59 Q1265.78 1152.59 1268.08 1150.85 Q1270.39 1149.12 1270.39 1145.81 Q1270.39 1142.75 1268.24 1141.04 Q1266.11 1139.3 1262.29 1139.3 L1258.26 1139.3 L1258.26 1135.46 L1262.47 1135.46 Q1265.92 1135.46 1267.75 1134.09 Q1269.58 1132.7 1269.58 1130.11 Q1269.58 1127.45 1267.68 1126.04 Q1265.81 1124.6 1262.29 1124.6 Q1260.37 1124.6 1258.17 1125.02 Q1255.97 1125.43 1253.33 1126.31 L1253.33 1122.15 Q1255.99 1121.41 1258.31 1121.04 Q1260.64 1120.67 1262.71 1120.67 Q1268.03 1120.67 1271.13 1123.1 Q1274.23 1125.5 1274.23 1129.62 Q1274.23 1132.49 1272.59 1134.49 Q1270.95 1136.45 1267.91 1137.22 Z\" fill=\"#000000\" fill-rule=\"evenodd\" fill-opacity=\"1\" /><path clip-path=\"url(#clip230)\" d=\"M1293.91 1124.37 Q1290.3 1124.37 1288.47 1127.93 Q1286.66 1131.48 1286.66 1138.61 Q1286.66 1145.71 1288.47 1149.28 Q1290.3 1152.82 1293.91 1152.82 Q1297.54 1152.82 1299.35 1149.28 Q1301.18 1145.71 1301.18 1138.61 Q1301.18 1131.48 1299.35 1127.93 Q1297.54 1124.37 1293.91 1124.37 M1293.91 1120.67 Q1299.72 1120.67 1302.77 1125.27 Q1305.85 1129.86 1305.85 1138.61 Q1305.85 1147.33 1302.77 1151.94 Q1299.72 1156.52 1293.91 1156.52 Q1288.1 1156.52 1285.02 1151.94 Q1281.96 1147.33 1281.96 1138.61 Q1281.96 1129.86 1285.02 1125.27 Q1288.1 1120.67 1293.91 1120.67 Z\" fill=\"#000000\" fill-rule=\"evenodd\" fill-opacity=\"1\" /><path clip-path=\"url(#clip230)\" d=\"M1266.59 1014.72 L1254.79 1033.17 L1266.59 1033.17 L1266.59 1014.72 M1265.37 1010.64 L1271.25 1010.64 L1271.25 1033.17 L1276.18 1033.17 L1276.18 1037.06 L1271.25 1037.06 L1271.25 1045.2 L1266.59 1045.2 L1266.59 1037.06 L1250.99 1037.06 L1250.99 1032.54 L1265.37 1010.64 Z\" fill=\"#000000\" fill-rule=\"evenodd\" fill-opacity=\"1\" /><path clip-path=\"url(#clip230)\" d=\"M1293.91 1013.72 Q1290.3 1013.72 1288.47 1017.29 Q1286.66 1020.83 1286.66 1027.96 Q1286.66 1035.06 1288.47 1038.63 Q1290.3 1042.17 1293.91 1042.17 Q1297.54 1042.17 1299.35 1038.63 Q1301.18 1035.06 1301.18 1027.96 Q1301.18 1020.83 1299.35 1017.29 Q1297.54 1013.72 1293.91 1013.72 M1293.91 1010.02 Q1299.72 1010.02 1302.77 1014.63 Q1305.85 1019.21 1305.85 1027.96 Q1305.85 1036.69 1302.77 1041.29 Q1299.72 1045.87 1293.91 1045.87 Q1288.1 1045.87 1285.02 1041.29 Q1281.96 1036.69 1281.96 1027.96 Q1281.96 1019.21 1285.02 1014.63 Q1288.1 1010.02 1293.91 1010.02 Z\" fill=\"#000000\" fill-rule=\"evenodd\" fill-opacity=\"1\" /><path clip-path=\"url(#clip230)\" d=\"M1619.56 818.821 L1619.56 841.546 L1629.85 841.546 Q1635.56 841.546 1638.68 838.589 Q1641.8 835.632 1641.8 830.163 Q1641.8 824.735 1638.68 821.778 Q1635.56 818.821 1629.85 818.821 L1619.56 818.821 M1611.38 812.096 L1629.85 812.096 Q1640.02 812.096 1645.2 816.714 Q1650.43 821.292 1650.43 830.163 Q1650.43 839.116 1645.2 843.693 Q1640.02 848.271 1629.85 848.271 L1619.56 848.271 L1619.56 872.576 L1611.38 872.576 L1611.38 812.096 Z\" fill=\"#000000\" fill-rule=\"evenodd\" fill-opacity=\"1\" /><path clip-path=\"url(#clip230)\" d=\"M1696.93 848.028 L1696.93 851.673 L1662.66 851.673 Q1663.15 859.37 1667.28 863.421 Q1671.45 867.431 1678.87 867.431 Q1683.16 867.431 1687.17 866.378 Q1691.22 865.325 1695.19 863.218 L1695.19 870.267 Q1691.18 871.968 1686.97 872.86 Q1682.76 873.751 1678.42 873.751 Q1667.57 873.751 1661.21 867.431 Q1654.89 861.112 1654.89 850.337 Q1654.89 839.197 1660.88 832.675 Q1666.92 826.112 1677.13 826.112 Q1686.28 826.112 1691.59 832.026 Q1696.93 837.9 1696.93 848.028 M1689.48 845.84 Q1689.4 839.723 1686.04 836.077 Q1682.72 832.432 1677.21 832.432 Q1670.97 832.432 1667.2 835.956 Q1663.47 839.48 1662.91 845.881 L1689.48 845.84 Z\" fill=\"#000000\" fill-rule=\"evenodd\" fill-opacity=\"1\" /><path clip-path=\"url(#clip230)\" d=\"M1716.54 814.324 L1716.54 827.206 L1731.89 827.206 L1731.89 832.999 L1716.54 832.999 L1716.54 857.628 Q1716.54 863.178 1718.04 864.758 Q1719.58 866.338 1724.24 866.338 L1731.89 866.338 L1731.89 872.576 L1724.24 872.576 Q1715.61 872.576 1712.33 869.376 Q1709.05 866.135 1709.05 857.628 L1709.05 832.999 L1703.58 832.999 L1703.58 827.206 L1709.05 827.206 L1709.05 814.324 L1716.54 814.324 Z\" fill=\"#000000\" fill-rule=\"evenodd\" fill-opacity=\"1\" /><path clip-path=\"url(#clip230)\" d=\"M1762.32 849.769 Q1753.28 849.769 1749.8 851.835 Q1746.32 853.901 1746.32 858.884 Q1746.32 862.854 1748.91 865.203 Q1751.54 867.512 1756.04 867.512 Q1762.24 867.512 1765.96 863.137 Q1769.73 858.722 1769.73 851.43 L1769.73 849.769 L1762.32 849.769 M1777.18 846.691 L1777.18 872.576 L1769.73 872.576 L1769.73 865.689 Q1767.18 869.821 1763.37 871.806 Q1759.56 873.751 1754.05 873.751 Q1747.09 873.751 1742.95 869.862 Q1738.86 865.933 1738.86 859.37 Q1738.86 851.714 1743.97 847.825 Q1749.11 843.936 1759.28 843.936 L1769.73 843.936 L1769.73 843.207 Q1769.73 838.062 1766.33 835.267 Q1762.96 832.432 1756.85 832.432 Q1752.96 832.432 1749.27 833.363 Q1745.59 834.295 1742.18 836.158 L1742.18 829.272 Q1746.27 827.692 1750.12 826.922 Q1753.97 826.112 1757.62 826.112 Q1767.46 826.112 1772.32 831.216 Q1777.18 836.32 1777.18 846.691 Z\" fill=\"#000000\" fill-rule=\"evenodd\" fill-opacity=\"1\" /><path clip-path=\"url(#clip230)\" d=\"M1792.54 809.544 L1799.99 809.544 L1799.99 872.576 L1792.54 872.576 L1792.54 809.544 Z\" fill=\"#000000\" fill-rule=\"evenodd\" fill-opacity=\"1\" /><path clip-path=\"url(#clip230)\" d=\"M1850.06 886.349 L1850.06 892.142 L1806.96 892.142 L1806.96 886.349 L1850.06 886.349 Z\" fill=\"#000000\" fill-rule=\"evenodd\" fill-opacity=\"1\" /><path clip-path=\"url(#clip230)\" d=\"M1852 812.096 L1860.27 812.096 L1872.99 863.218 L1885.67 812.096 L1894.86 812.096 L1907.58 863.218 L1920.26 812.096 L1928.57 812.096 L1913.37 872.576 L1903.09 872.576 L1890.33 820.076 L1877.44 872.576 L1867.15 872.576 L1852 812.096 Z\" fill=\"#000000\" fill-rule=\"evenodd\" fill-opacity=\"1\" /><path clip-path=\"url(#clip230)\" d=\"M1937.28 827.206 L1944.73 827.206 L1944.73 872.576 L1937.28 872.576 L1937.28 827.206 M1937.28 809.544 L1944.73 809.544 L1944.73 818.983 L1937.28 818.983 L1937.28 809.544 Z\" fill=\"#000000\" fill-rule=\"evenodd\" fill-opacity=\"1\" /><path clip-path=\"url(#clip230)\" d=\"M1990.18 834.092 L1990.18 809.544 L1997.63 809.544 L1997.63 872.576 L1990.18 872.576 L1990.18 865.77 Q1987.83 869.821 1984.22 871.806 Q1980.66 873.751 1975.64 873.751 Q1967.41 873.751 1962.23 867.188 Q1957.08 860.626 1957.08 849.931 Q1957.08 839.237 1962.23 832.675 Q1967.41 826.112 1975.64 826.112 Q1980.66 826.112 1984.22 828.097 Q1987.83 830.042 1990.18 834.092 M1964.78 849.931 Q1964.78 858.155 1968.14 862.854 Q1971.55 867.512 1977.46 867.512 Q1983.37 867.512 1986.78 862.854 Q1990.18 858.155 1990.18 849.931 Q1990.18 841.708 1986.78 837.05 Q1983.37 832.351 1977.46 832.351 Q1971.55 832.351 1968.14 837.05 Q1964.78 841.708 1964.78 849.931 Z\" fill=\"#000000\" fill-rule=\"evenodd\" fill-opacity=\"1\" /><path clip-path=\"url(#clip230)\" d=\"M2020.36 814.324 L2020.36 827.206 L2035.71 827.206 L2035.71 832.999 L2020.36 832.999 L2020.36 857.628 Q2020.36 863.178 2021.86 864.758 Q2023.4 866.338 2028.06 866.338 L2035.71 866.338 L2035.71 872.576 L2028.06 872.576 Q2019.43 872.576 2016.15 869.376 Q2012.86 866.135 2012.86 857.628 L2012.86 832.999 L2007.4 832.999 L2007.4 827.206 L2012.86 827.206 L2012.86 814.324 L2020.36 814.324 Z\" fill=\"#000000\" fill-rule=\"evenodd\" fill-opacity=\"1\" /><path clip-path=\"url(#clip230)\" d=\"M2083.23 845.192 L2083.23 872.576 L2075.78 872.576 L2075.78 845.435 Q2075.78 838.994 2073.26 835.794 Q2070.75 832.594 2065.73 832.594 Q2059.69 832.594 2056.21 836.442 Q2052.73 840.29 2052.73 846.934 L2052.73 872.576 L2045.23 872.576 L2045.23 809.544 L2052.73 809.544 L2052.73 834.254 Q2055.4 830.163 2059 828.138 Q2062.65 826.112 2067.39 826.112 Q2075.21 826.112 2079.22 830.973 Q2083.23 835.794 2083.23 845.192 Z\" fill=\"#000000\" fill-rule=\"evenodd\" fill-opacity=\"1\" /><path clip-path=\"url(#clip235)\" d=\"\n",
       "M1397.45 939.405 L1397.45 1470.51 L1547.4 1470.51 L1547.4 939.405 L1397.45 939.405 L1397.45 939.405  Z\n",
       "  \" fill=\"#009af9\" fill-rule=\"evenodd\" fill-opacity=\"1\"/>\n",
       "<polyline clip-path=\"url(#clip235)\" style=\"stroke:#000000; stroke-linecap:butt; stroke-linejoin:round; stroke-width:4; stroke-opacity:1; fill:none\" points=\"\n",
       "  1397.45,939.405 1397.45,1470.51 1547.4,1470.51 1547.4,939.405 1397.45,939.405 \n",
       "  \"/>\n",
       "<path clip-path=\"url(#clip235)\" d=\"\n",
       "M1547.4 1448.39 L1547.4 1470.51 L1697.35 1470.51 L1697.35 1448.39 L1547.4 1448.39 L1547.4 1448.39  Z\n",
       "  \" fill=\"#009af9\" fill-rule=\"evenodd\" fill-opacity=\"1\"/>\n",
       "<polyline clip-path=\"url(#clip235)\" style=\"stroke:#000000; stroke-linecap:butt; stroke-linejoin:round; stroke-width:4; stroke-opacity:1; fill:none\" points=\"\n",
       "  1547.4,1448.39 1547.4,1470.51 1697.35,1470.51 1697.35,1448.39 1547.4,1448.39 \n",
       "  \"/>\n",
       "<path clip-path=\"url(#clip235)\" d=\"\n",
       "M1697.35 1072.18 L1697.35 1470.51 L1847.3 1470.51 L1847.3 1072.18 L1697.35 1072.18 L1697.35 1072.18  Z\n",
       "  \" fill=\"#009af9\" fill-rule=\"evenodd\" fill-opacity=\"1\"/>\n",
       "<polyline clip-path=\"url(#clip235)\" style=\"stroke:#000000; stroke-linecap:butt; stroke-linejoin:round; stroke-width:4; stroke-opacity:1; fill:none\" points=\"\n",
       "  1697.35,1072.18 1697.35,1470.51 1847.3,1470.51 1847.3,1072.18 1697.35,1072.18 \n",
       "  \"/>\n",
       "<path clip-path=\"url(#clip235)\" d=\"\n",
       "M1847.3 1083.25 L1847.3 1470.51 L1997.25 1470.51 L1997.25 1083.25 L1847.3 1083.25 L1847.3 1083.25  Z\n",
       "  \" fill=\"#009af9\" fill-rule=\"evenodd\" fill-opacity=\"1\"/>\n",
       "<polyline clip-path=\"url(#clip235)\" style=\"stroke:#000000; stroke-linecap:butt; stroke-linejoin:round; stroke-width:4; stroke-opacity:1; fill:none\" points=\"\n",
       "  1847.3,1083.25 1847.3,1470.51 1997.25,1470.51 1997.25,1083.25 1847.3,1083.25 \n",
       "  \"/>\n",
       "<path clip-path=\"url(#clip235)\" d=\"\n",
       "M1997.25 1182.83 L1997.25 1470.51 L2147.2 1470.51 L2147.2 1182.83 L1997.25 1182.83 L1997.25 1182.83  Z\n",
       "  \" fill=\"#009af9\" fill-rule=\"evenodd\" fill-opacity=\"1\"/>\n",
       "<polyline clip-path=\"url(#clip235)\" style=\"stroke:#000000; stroke-linecap:butt; stroke-linejoin:round; stroke-width:4; stroke-opacity:1; fill:none\" points=\"\n",
       "  1997.25,1182.83 1997.25,1470.51 2147.2,1470.51 2147.2,1182.83 1997.25,1182.83 \n",
       "  \"/>\n",
       "<path clip-path=\"url(#clip235)\" d=\"\n",
       "M2147.2 1437.32 L2147.2 1470.51 L2297.15 1470.51 L2297.15 1437.32 L2147.2 1437.32 L2147.2 1437.32  Z\n",
       "  \" fill=\"#009af9\" fill-rule=\"evenodd\" fill-opacity=\"1\"/>\n",
       "<polyline clip-path=\"url(#clip235)\" style=\"stroke:#000000; stroke-linecap:butt; stroke-linejoin:round; stroke-width:4; stroke-opacity:1; fill:none\" points=\"\n",
       "  2147.2,1437.32 2147.2,1470.51 2297.15,1470.51 2297.15,1437.32 2147.2,1437.32 \n",
       "  \"/>\n",
       "<circle clip-path=\"url(#clip235)\" style=\"fill:#009af9; stroke:none; fill-opacity:0\" cx=\"1472.43\" cy=\"939.405\" r=\"2\"/>\n",
       "<circle clip-path=\"url(#clip235)\" style=\"fill:#009af9; stroke:none; fill-opacity:0\" cx=\"1622.38\" cy=\"1448.39\" r=\"2\"/>\n",
       "<circle clip-path=\"url(#clip235)\" style=\"fill:#009af9; stroke:none; fill-opacity:0\" cx=\"1772.33\" cy=\"1072.18\" r=\"2\"/>\n",
       "<circle clip-path=\"url(#clip235)\" style=\"fill:#009af9; stroke:none; fill-opacity:0\" cx=\"1922.28\" cy=\"1083.25\" r=\"2\"/>\n",
       "<circle clip-path=\"url(#clip235)\" style=\"fill:#009af9; stroke:none; fill-opacity:0\" cx=\"2072.23\" cy=\"1182.83\" r=\"2\"/>\n",
       "<circle clip-path=\"url(#clip235)\" style=\"fill:#009af9; stroke:none; fill-opacity:0\" cx=\"2222.18\" cy=\"1437.32\" r=\"2\"/>\n",
       "<path clip-path=\"url(#clip230)\" d=\"\n",
       "M2137.48 1045.92 L2319.06 1045.92 L2319.06 942.238 L2137.48 942.238  Z\n",
       "  \" fill=\"#ffffff\" fill-rule=\"evenodd\" fill-opacity=\"1\"/>\n",
       "<polyline clip-path=\"url(#clip230)\" style=\"stroke:#000000; stroke-linecap:butt; stroke-linejoin:round; stroke-width:4; stroke-opacity:1; fill:none\" points=\"\n",
       "  2137.48,1045.92 2319.06,1045.92 2319.06,942.238 2137.48,942.238 2137.48,1045.92 \n",
       "  \"/>\n",
       "<path clip-path=\"url(#clip230)\" d=\"\n",
       "M2148.71 1014.81 L2216.1 1014.81 L2216.1 973.342 L2148.71 973.342 L2148.71 1014.81  Z\n",
       "  \" fill=\"#009af9\" fill-rule=\"evenodd\" fill-opacity=\"1\"/>\n",
       "<polyline clip-path=\"url(#clip230)\" style=\"stroke:#000000; stroke-linecap:butt; stroke-linejoin:round; stroke-width:4; stroke-opacity:1; fill:none\" points=\"\n",
       "  2148.71,1014.81 2216.1,1014.81 2216.1,973.342 2148.71,973.342 2148.71,1014.81 \n",
       "  \"/>\n",
       "<path clip-path=\"url(#clip230)\" d=\"M2232.01 980.641 L2232.01 993.627 L2237.89 993.627 Q2241.16 993.627 2242.94 991.937 Q2244.72 990.247 2244.72 987.122 Q2244.72 984.02 2242.94 982.33 Q2241.16 980.641 2237.89 980.641 L2232.01 980.641 M2227.34 976.798 L2237.89 976.798 Q2243.7 976.798 2246.66 979.437 Q2249.65 982.053 2249.65 987.122 Q2249.65 992.238 2246.66 994.853 Q2243.7 997.469 2237.89 997.469 L2232.01 997.469 L2232.01 1011.36 L2227.34 1011.36 L2227.34 976.798 Z\" fill=\"#000000\" fill-rule=\"evenodd\" fill-opacity=\"1\" /><path clip-path=\"url(#clip230)\" d=\"M2252.84 976.798 L2257.57 976.798 L2264.84 1006.01 L2272.08 976.798 L2277.34 976.798 L2284.6 1006.01 L2291.85 976.798 L2296.59 976.798 L2287.91 1011.36 L2282.03 1011.36 L2274.74 981.358 L2267.38 1011.36 L2261.5 1011.36 L2252.84 976.798 Z\" fill=\"#000000\" fill-rule=\"evenodd\" fill-opacity=\"1\" /></svg>\n"
      ]
     },
     "execution_count": 33,
     "metadata": {},
     "output_type": "execute_result"
    }
   ],
   "source": [
    "p1 = histogram(df.Sepal_Length, title=\"Sepal_Length\", label=\"SL\")\n",
    "p2 = histogram(df.Sepal_Width, title=\"Sepal_Width\", label=\"SW\")\n",
    "p3 = histogram(df.Petal_Length, title=\"Petal_Length\", label=\"PL\")\n",
    "p4 = histogram(df.Petal_Width, title=\"Petal_Width\", label=\"PW\")\n",
    "\n",
    "plot(p1,p2,p3,p4, layout=(2,2))"
   ]
  },
  {
   "cell_type": "code",
   "execution_count": 34,
   "metadata": {},
   "outputs": [
    {
     "name": "stdout",
     "output_type": "stream",
     "text": [
      "Dict{String15, Int64}(\"virginica\" => 50, \"setosa\" => 50, \"versicolor\" => 50)"
     ]
    }
   ],
   "source": [
    "x= countmap(df.Species)\n",
    "print(x)"
   ]
  },
  {
   "cell_type": "code",
   "execution_count": 35,
   "metadata": {},
   "outputs": [
    {
     "data": {
      "text/plain": [
       "3-element Vector{Int64}:\n",
       " 50\n",
       " 50\n",
       " 50"
      ]
     },
     "execution_count": 35,
     "metadata": {},
     "output_type": "execute_result"
    }
   ],
   "source": [
    "a= [\"virginica\", \"setosa\", \"versicolor\"]\n",
    "b= [50, 50, 50]"
   ]
  },
  {
   "cell_type": "code",
   "execution_count": 36,
   "metadata": {},
   "outputs": [
    {
     "data": {
      "image/svg+xml": [
       "<?xml version=\"1.0\" encoding=\"utf-8\"?>\n",
       "<svg xmlns=\"http://www.w3.org/2000/svg\" xmlns:xlink=\"http://www.w3.org/1999/xlink\" width=\"600\" height=\"400\" viewBox=\"0 0 2400 1600\">\n",
       "<defs>\n",
       "  <clipPath id=\"clip270\">\n",
       "    <rect x=\"0\" y=\"0\" width=\"2400\" height=\"1600\"/>\n",
       "  </clipPath>\n",
       "</defs>\n",
       "<path clip-path=\"url(#clip270)\" d=\"\n",
       "M0 1600 L2400 1600 L2400 0 L0 0  Z\n",
       "  \" fill=\"#ffffff\" fill-rule=\"evenodd\" fill-opacity=\"1\"/>\n",
       "<defs>\n",
       "  <clipPath id=\"clip271\">\n",
       "    <rect x=\"480\" y=\"0\" width=\"1681\" height=\"1600\"/>\n",
       "  </clipPath>\n",
       "</defs>\n",
       "<path clip-path=\"url(#clip270)\" d=\"\n",
       "M193.936 1486.45 L2352.76 1486.45 L2352.76 47.2441 L193.936 47.2441  Z\n",
       "  \" fill=\"#ffffff\" fill-rule=\"evenodd\" fill-opacity=\"1\"/>\n",
       "<defs>\n",
       "  <clipPath id=\"clip272\">\n",
       "    <rect x=\"193\" y=\"47\" width=\"2160\" height=\"1440\"/>\n",
       "  </clipPath>\n",
       "</defs>\n",
       "<path clip-path=\"url(#clip272)\" d=\"\n",
       "M1273.27 766.846 L1952.18 766.846 L1951.56 737.836 L1949.7 708.88 L1946.6 680.029 L1942.28 651.337 L1936.73 622.856 L1929.97 594.638 L1922.01 566.734 L1912.87 539.196 \n",
       "  L1902.56 512.074 L1891.1 485.417 L1878.51 459.275 L1864.81 433.694 L1850.04 408.721 L1834.21 384.403 L1817.35 360.784 L1799.51 337.906 L1780.7 315.812 L1760.96 294.541 \n",
       "  L1740.34 274.134 L1718.85 254.626 L1696.56 236.054 L1673.49 218.452 L1649.7 201.851 L1625.21 186.282 L1600.08 171.774 L1574.36 158.353 L1548.08 146.044 L1521.3 134.868 \n",
       "  L1494.07 124.847 L1466.44 115.998 L1438.45 108.339 L1410.16 101.882 L1381.62 96.6399 L1352.89 92.6221 L1324 89.8359 L1295.03 88.2863 L1266.01 87.9763 L1237.01 88.9063 \n",
       "  L1208.08 91.0747 L1179.26 94.4775 L1150.62 99.1085 L1122.2 104.959 L1094.05 112.019 L1066.24 120.275 L1038.8 129.712 L1011.79 140.313 L985.254 152.058 L959.247 164.926 \n",
       "  L933.814 178.894 L1273.27 766.846  Z\n",
       "  \" fill=\"#009af9\" fill-rule=\"evenodd\" fill-opacity=\"1\"/>\n",
       "<polyline clip-path=\"url(#clip272)\" style=\"stroke:#000000; stroke-linecap:butt; stroke-linejoin:round; stroke-width:4; stroke-opacity:1; fill:none\" points=\"\n",
       "  1273.27,766.846 1952.18,766.846 1951.56,737.836 1949.7,708.88 1946.6,680.029 1942.28,651.337 1936.73,622.856 1929.97,594.638 1922.01,566.734 1912.87,539.196 \n",
       "  1902.56,512.074 1891.1,485.417 1878.51,459.275 1864.81,433.694 1850.04,408.721 1834.21,384.403 1817.35,360.784 1799.51,337.906 1780.7,315.812 1760.96,294.541 \n",
       "  1740.34,274.134 1718.85,254.626 1696.56,236.054 1673.49,218.452 1649.7,201.851 1625.21,186.282 1600.08,171.774 1574.36,158.353 1548.08,146.044 1521.3,134.868 \n",
       "  1494.07,124.847 1466.44,115.998 1438.45,108.339 1410.16,101.882 1381.62,96.6399 1352.89,92.6221 1324,89.8359 1295.03,88.2863 1266.01,87.9763 1237.01,88.9063 \n",
       "  1208.08,91.0747 1179.26,94.4775 1150.62,99.1085 1122.2,104.959 1094.05,112.019 1066.24,120.275 1038.8,129.712 1011.79,140.313 985.254,152.058 959.247,164.926 \n",
       "  933.814,178.894 1273.27,766.846 \n",
       "  \"/>\n",
       "<path clip-path=\"url(#clip272)\" d=\"\n",
       "M1273.27 766.846 L933.814 178.894 L909.001 193.936 L884.854 210.024 L861.415 227.13 L838.73 245.221 L816.838 264.265 L795.779 284.227 L775.593 305.071 L756.316 326.758 \n",
       "  L737.984 349.249 L720.629 372.503 L704.283 396.478 L688.977 421.129 L674.738 446.411 L661.593 472.279 L649.565 498.684 L638.676 525.58 L628.946 552.916 L620.394 580.643 \n",
       "  L613.034 608.711 L606.88 637.067 L601.943 665.66 L598.232 694.438 L595.755 723.348 L594.515 752.338 L594.515 781.354 L595.755 810.344 L598.232 839.254 L601.943 868.032 \n",
       "  L606.88 896.625 L613.034 924.981 L620.394 953.049 L628.946 980.776 L638.676 1008.11 L649.565 1035.01 L661.593 1061.41 L674.738 1087.28 L688.977 1112.56 L704.283 1137.21 \n",
       "  L720.629 1161.19 L737.984 1184.44 L756.316 1206.93 L775.593 1228.62 L795.779 1249.46 L816.838 1269.43 L838.73 1288.47 L861.415 1306.56 L884.854 1323.67 L909.001 1339.76 \n",
       "  L933.814 1354.8 L1273.27 766.846  Z\n",
       "  \" fill=\"#e26f46\" fill-rule=\"evenodd\" fill-opacity=\"1\"/>\n",
       "<polyline clip-path=\"url(#clip272)\" style=\"stroke:#000000; stroke-linecap:butt; stroke-linejoin:round; stroke-width:4; stroke-opacity:1; fill:none\" points=\"\n",
       "  1273.27,766.846 933.814,178.894 909.001,193.936 884.854,210.024 861.415,227.13 838.73,245.221 816.838,264.265 795.779,284.227 775.593,305.071 756.316,326.758 \n",
       "  737.984,349.249 720.629,372.503 704.283,396.478 688.977,421.129 674.738,446.411 661.593,472.279 649.565,498.684 638.676,525.58 628.946,552.916 620.394,580.643 \n",
       "  613.034,608.711 606.88,637.067 601.943,665.66 598.232,694.438 595.755,723.348 594.515,752.338 594.515,781.354 595.755,810.344 598.232,839.254 601.943,868.032 \n",
       "  606.88,896.625 613.034,924.981 620.394,953.049 628.946,980.776 638.676,1008.11 649.565,1035.01 661.593,1061.41 674.738,1087.28 688.977,1112.56 704.283,1137.21 \n",
       "  720.629,1161.19 737.984,1184.44 756.316,1206.93 775.593,1228.62 795.779,1249.46 816.838,1269.43 838.73,1288.47 861.415,1306.56 884.854,1323.67 909.001,1339.76 \n",
       "  933.814,1354.8 1273.27,766.846 \n",
       "  \"/>\n",
       "<path clip-path=\"url(#clip272)\" d=\"\n",
       "M1273.27 766.846 L933.814 1354.8 L959.247 1368.77 L985.254 1381.63 L1011.79 1393.38 L1038.8 1403.98 L1066.24 1413.42 L1094.05 1421.67 L1122.2 1428.73 L1150.62 1434.58 \n",
       "  L1179.26 1439.21 L1208.08 1442.62 L1237.01 1444.79 L1266.01 1445.72 L1295.03 1445.41 L1324 1443.86 L1352.89 1441.07 L1381.62 1437.05 L1410.16 1431.81 L1438.45 1425.35 \n",
       "  L1466.44 1417.69 L1494.07 1408.85 L1521.3 1398.82 L1548.08 1387.65 L1574.36 1375.34 L1600.08 1361.92 L1625.21 1347.41 L1649.7 1331.84 L1673.49 1315.24 L1696.56 1297.64 \n",
       "  L1718.85 1279.07 L1740.34 1259.56 L1760.96 1239.15 L1780.7 1217.88 L1799.51 1195.79 L1817.35 1172.91 L1834.21 1149.29 L1850.04 1124.97 L1864.81 1100 L1878.51 1074.42 \n",
       "  L1891.1 1048.27 L1902.56 1021.62 L1912.87 994.496 L1922.01 966.958 L1929.97 939.054 L1936.73 910.836 L1942.28 882.355 L1946.6 853.663 L1949.7 824.812 L1951.56 795.856 \n",
       "  L1952.18 766.846 L1273.27 766.846  Z\n",
       "  \" fill=\"#3da44d\" fill-rule=\"evenodd\" fill-opacity=\"1\"/>\n",
       "<polyline clip-path=\"url(#clip272)\" style=\"stroke:#000000; stroke-linecap:butt; stroke-linejoin:round; stroke-width:4; stroke-opacity:1; fill:none\" points=\"\n",
       "  1273.27,766.846 933.814,1354.8 959.247,1368.77 985.254,1381.63 1011.79,1393.38 1038.8,1403.98 1066.24,1413.42 1094.05,1421.67 1122.2,1428.73 1150.62,1434.58 \n",
       "  1179.26,1439.21 1208.08,1442.62 1237.01,1444.79 1266.01,1445.72 1295.03,1445.41 1324,1443.86 1352.89,1441.07 1381.62,1437.05 1410.16,1431.81 1438.45,1425.35 \n",
       "  1466.44,1417.69 1494.07,1408.85 1521.3,1398.82 1548.08,1387.65 1574.36,1375.34 1600.08,1361.92 1625.21,1347.41 1649.7,1331.84 1673.49,1315.24 1696.56,1297.64 \n",
       "  1718.85,1279.07 1740.34,1259.56 1760.96,1239.15 1780.7,1217.88 1799.51,1195.79 1817.35,1172.91 1834.21,1149.29 1850.04,1124.97 1864.81,1100 1878.51,1074.42 \n",
       "  1891.1,1048.27 1902.56,1021.62 1912.87,994.496 1922.01,966.958 1929.97,939.054 1936.73,910.836 1942.28,882.355 1946.6,853.663 1949.7,824.812 1951.56,795.856 \n",
       "  1952.18,766.846 1273.27,766.846 \n",
       "  \"/>\n",
       "<path clip-path=\"url(#clip270)\" d=\"\n",
       "M1811.02 302.578 L2280.8 302.578 L2280.8 95.2176 L1811.02 95.2176  Z\n",
       "  \" fill=\"#ffffff\" fill-rule=\"evenodd\" fill-opacity=\"1\"/>\n",
       "<polyline clip-path=\"url(#clip270)\" style=\"stroke:#000000; stroke-linecap:butt; stroke-linejoin:round; stroke-width:4; stroke-opacity:1; fill:none\" points=\"\n",
       "  1811.02,302.578 2280.8,302.578 2280.8,95.2176 1811.02,95.2176 1811.02,302.578 \n",
       "  \"/>\n",
       "<path clip-path=\"url(#clip270)\" d=\"\n",
       "M1835.01 167.794 L1978.93 167.794 L1978.93 126.322 L1835.01 126.322 L1835.01 167.794  Z\n",
       "  \" fill=\"#009af9\" fill-rule=\"evenodd\" fill-opacity=\"1\"/>\n",
       "<polyline clip-path=\"url(#clip270)\" style=\"stroke:#000000; stroke-linecap:butt; stroke-linejoin:round; stroke-width:4; stroke-opacity:1; fill:none\" points=\"\n",
       "  1835.01,167.794 1978.93,167.794 1978.93,126.322 1835.01,126.322 1835.01,167.794 \n",
       "  \"/>\n",
       "<path clip-path=\"url(#clip270)\" d=\"M2002.92 138.412 L2007.43 138.412 L2015.53 160.171 L2023.63 138.412 L2028.15 138.412 L2018.42 164.338 L2012.64 164.338 L2002.92 138.412 Z\" fill=\"#000000\" fill-rule=\"evenodd\" fill-opacity=\"1\" /><path clip-path=\"url(#clip270)\" d=\"M2034.03 138.412 L2038.29 138.412 L2038.29 164.338 L2034.03 164.338 L2034.03 138.412 M2034.03 128.319 L2038.29 128.319 L2038.29 133.713 L2034.03 133.713 L2034.03 128.319 Z\" fill=\"#000000\" fill-rule=\"evenodd\" fill-opacity=\"1\" /><path clip-path=\"url(#clip270)\" d=\"M2062.22 142.393 Q2061.5 141.977 2060.65 141.791 Q2059.81 141.583 2058.79 141.583 Q2055.18 141.583 2053.24 143.944 Q2051.32 146.282 2051.32 150.68 L2051.32 164.338 L2047.04 164.338 L2047.04 138.412 L2051.32 138.412 L2051.32 142.44 Q2052.66 140.078 2054.81 138.944 Q2056.97 137.787 2060.04 137.787 Q2060.48 137.787 2061.02 137.856 Q2061.55 137.903 2062.2 138.018 L2062.22 142.393 Z\" fill=\"#000000\" fill-rule=\"evenodd\" fill-opacity=\"1\" /><path clip-path=\"url(#clip270)\" d=\"M2082.91 151.074 Q2082.91 146.444 2080.99 143.898 Q2079.1 141.352 2075.65 141.352 Q2072.22 141.352 2070.3 143.898 Q2068.4 146.444 2068.4 151.074 Q2068.4 155.68 2070.3 158.226 Q2072.22 160.773 2075.65 160.773 Q2079.1 160.773 2080.99 158.226 Q2082.91 155.68 2082.91 151.074 M2087.17 161.12 Q2087.17 167.74 2084.23 170.958 Q2081.29 174.199 2075.23 174.199 Q2072.98 174.199 2070.99 173.851 Q2069 173.527 2067.13 172.833 L2067.13 168.689 Q2069 169.708 2070.83 170.194 Q2072.66 170.68 2074.56 170.68 Q2078.75 170.68 2080.83 168.481 Q2082.91 166.305 2082.91 161.884 L2082.91 159.777 Q2081.6 162.069 2079.54 163.203 Q2077.48 164.338 2074.6 164.338 Q2069.84 164.338 2066.92 160.703 Q2064 157.069 2064 151.074 Q2064 145.055 2066.92 141.421 Q2069.84 137.787 2074.6 137.787 Q2077.48 137.787 2079.54 138.921 Q2081.6 140.055 2082.91 142.347 L2082.91 138.412 L2087.17 138.412 L2087.17 161.12 Z\" fill=\"#000000\" fill-rule=\"evenodd\" fill-opacity=\"1\" /><path clip-path=\"url(#clip270)\" d=\"M2095.95 138.412 L2100.21 138.412 L2100.21 164.338 L2095.95 164.338 L2095.95 138.412 M2095.95 128.319 L2100.21 128.319 L2100.21 133.713 L2095.95 133.713 L2095.95 128.319 Z\" fill=\"#000000\" fill-rule=\"evenodd\" fill-opacity=\"1\" /><path clip-path=\"url(#clip270)\" d=\"M2130.67 148.689 L2130.67 164.338 L2126.41 164.338 L2126.41 148.828 Q2126.41 145.148 2124.97 143.319 Q2123.54 141.49 2120.67 141.49 Q2117.22 141.49 2115.23 143.69 Q2113.24 145.889 2113.24 149.685 L2113.24 164.338 L2108.96 164.338 L2108.96 138.412 L2113.24 138.412 L2113.24 142.44 Q2114.77 140.102 2116.83 138.944 Q2118.91 137.787 2121.62 137.787 Q2126.09 137.787 2128.38 140.565 Q2130.67 143.319 2130.67 148.689 Z\" fill=\"#000000\" fill-rule=\"evenodd\" fill-opacity=\"1\" /><path clip-path=\"url(#clip270)\" d=\"M2139.16 138.412 L2143.42 138.412 L2143.42 164.338 L2139.16 164.338 L2139.16 138.412 M2139.16 128.319 L2143.42 128.319 L2143.42 133.713 L2139.16 133.713 L2139.16 128.319 Z\" fill=\"#000000\" fill-rule=\"evenodd\" fill-opacity=\"1\" /><path clip-path=\"url(#clip270)\" d=\"M2170.99 139.407 L2170.99 143.389 Q2169.19 142.393 2167.36 141.907 Q2165.55 141.398 2163.7 141.398 Q2159.56 141.398 2157.27 144.037 Q2154.97 146.652 2154.97 151.398 Q2154.97 156.143 2157.27 158.782 Q2159.56 161.398 2163.7 161.398 Q2165.55 161.398 2167.36 160.912 Q2169.19 160.402 2170.99 159.407 L2170.99 163.342 Q2169.21 164.176 2167.29 164.592 Q2165.39 165.009 2163.24 165.009 Q2157.38 165.009 2153.93 161.328 Q2150.48 157.648 2150.48 151.398 Q2150.48 145.055 2153.96 141.421 Q2157.45 137.787 2163.52 137.787 Q2165.48 137.787 2167.36 138.203 Q2169.23 138.597 2170.99 139.407 Z\" fill=\"#000000\" fill-rule=\"evenodd\" fill-opacity=\"1\" /><path clip-path=\"url(#clip270)\" d=\"M2190.18 151.305 Q2185.02 151.305 2183.03 152.486 Q2181.04 153.666 2181.04 156.514 Q2181.04 158.782 2182.52 160.125 Q2184.03 161.444 2186.59 161.444 Q2190.14 161.444 2192.27 158.944 Q2194.42 156.421 2194.42 152.254 L2194.42 151.305 L2190.18 151.305 M2198.68 149.546 L2198.68 164.338 L2194.42 164.338 L2194.42 160.402 Q2192.96 162.763 2190.78 163.898 Q2188.61 165.009 2185.46 165.009 Q2181.48 165.009 2179.12 162.787 Q2176.78 160.541 2176.78 156.791 Q2176.78 152.416 2179.7 150.194 Q2182.64 147.972 2188.45 147.972 L2194.42 147.972 L2194.42 147.555 Q2194.42 144.615 2192.47 143.018 Q2190.55 141.398 2187.06 141.398 Q2184.84 141.398 2182.73 141.93 Q2180.62 142.463 2178.68 143.527 L2178.68 139.592 Q2181.02 138.69 2183.22 138.25 Q2185.41 137.787 2187.5 137.787 Q2193.12 137.787 2195.9 140.703 Q2198.68 143.62 2198.68 149.546 Z\" fill=\"#000000\" fill-rule=\"evenodd\" fill-opacity=\"1\" /><path clip-path=\"url(#clip270)\" d=\"\n",
       "M1835.01 219.634 L1978.93 219.634 L1978.93 178.162 L1835.01 178.162 L1835.01 219.634  Z\n",
       "  \" fill=\"#e26f46\" fill-rule=\"evenodd\" fill-opacity=\"1\"/>\n",
       "<polyline clip-path=\"url(#clip270)\" style=\"stroke:#000000; stroke-linecap:butt; stroke-linejoin:round; stroke-width:4; stroke-opacity:1; fill:none\" points=\"\n",
       "  1835.01,219.634 1978.93,219.634 1978.93,178.162 1835.01,178.162 1835.01,219.634 \n",
       "  \"/>\n",
       "<path clip-path=\"url(#clip270)\" d=\"M2021.34 191.016 L2021.34 195.043 Q2019.54 194.117 2017.59 193.655 Q2015.65 193.192 2013.56 193.192 Q2010.39 193.192 2008.79 194.164 Q2007.22 195.136 2007.22 197.08 Q2007.22 198.562 2008.36 199.418 Q2009.49 200.252 2012.92 201.016 L2014.37 201.34 Q2018.91 202.312 2020.81 204.094 Q2022.73 205.854 2022.73 209.025 Q2022.73 212.636 2019.86 214.742 Q2017.01 216.849 2012.01 216.849 Q2009.93 216.849 2007.66 216.432 Q2005.42 216.039 2002.92 215.228 L2002.92 210.83 Q2005.28 212.057 2007.57 212.682 Q2009.86 213.284 2012.11 213.284 Q2015.11 213.284 2016.73 212.266 Q2018.36 211.224 2018.36 209.349 Q2018.36 207.613 2017.17 206.687 Q2016.02 205.761 2012.06 204.904 L2010.58 204.557 Q2006.62 203.724 2004.86 202.011 Q2003.1 200.275 2003.1 197.266 Q2003.1 193.608 2005.69 191.618 Q2008.29 189.627 2013.05 189.627 Q2015.42 189.627 2017.5 189.974 Q2019.58 190.321 2021.34 191.016 Z\" fill=\"#000000\" fill-rule=\"evenodd\" fill-opacity=\"1\" /><path clip-path=\"url(#clip270)\" d=\"M2051.69 202.15 L2051.69 204.233 L2032.1 204.233 Q2032.38 208.631 2034.74 210.946 Q2037.13 213.238 2041.36 213.238 Q2043.82 213.238 2046.11 212.636 Q2048.42 212.034 2050.69 210.83 L2050.69 214.858 Q2048.4 215.83 2045.99 216.34 Q2043.59 216.849 2041.11 216.849 Q2034.91 216.849 2031.27 213.238 Q2027.66 209.627 2027.66 203.469 Q2027.66 197.104 2031.09 193.377 Q2034.54 189.627 2040.37 189.627 Q2045.6 189.627 2048.63 193.006 Q2051.69 196.363 2051.69 202.15 M2047.43 200.9 Q2047.38 197.405 2045.46 195.321 Q2043.56 193.238 2040.42 193.238 Q2036.85 193.238 2034.7 195.252 Q2032.57 197.266 2032.24 200.923 L2047.43 200.9 Z\" fill=\"#000000\" fill-rule=\"evenodd\" fill-opacity=\"1\" /><path clip-path=\"url(#clip270)\" d=\"M2062.89 182.891 L2062.89 190.252 L2071.66 190.252 L2071.66 193.562 L2062.89 193.562 L2062.89 207.636 Q2062.89 210.807 2063.75 211.71 Q2064.63 212.613 2067.29 212.613 L2071.66 212.613 L2071.66 216.178 L2067.29 216.178 Q2062.36 216.178 2060.48 214.349 Q2058.61 212.497 2058.61 207.636 L2058.61 193.562 L2055.48 193.562 L2055.48 190.252 L2058.61 190.252 L2058.61 182.891 L2062.89 182.891 Z\" fill=\"#000000\" fill-rule=\"evenodd\" fill-opacity=\"1\" /><path clip-path=\"url(#clip270)\" d=\"M2087.31 193.238 Q2083.89 193.238 2081.9 195.923 Q2079.91 198.585 2079.91 203.238 Q2079.91 207.891 2081.87 210.576 Q2083.86 213.238 2087.31 213.238 Q2090.72 213.238 2092.71 210.553 Q2094.7 207.867 2094.7 203.238 Q2094.7 198.631 2092.71 195.946 Q2090.72 193.238 2087.31 193.238 M2087.31 189.627 Q2092.87 189.627 2096.04 193.238 Q2099.21 196.849 2099.21 203.238 Q2099.21 209.604 2096.04 213.238 Q2092.87 216.849 2087.31 216.849 Q2081.73 216.849 2078.56 213.238 Q2075.41 209.604 2075.41 203.238 Q2075.41 196.849 2078.56 193.238 Q2081.73 189.627 2087.31 189.627 Z\" fill=\"#000000\" fill-rule=\"evenodd\" fill-opacity=\"1\" /><path clip-path=\"url(#clip270)\" d=\"M2122.8 191.016 L2122.8 195.043 Q2120.99 194.117 2119.05 193.655 Q2117.1 193.192 2115.02 193.192 Q2111.85 193.192 2110.25 194.164 Q2108.68 195.136 2108.68 197.08 Q2108.68 198.562 2109.81 199.418 Q2110.95 200.252 2114.37 201.016 L2115.83 201.34 Q2120.37 202.312 2122.27 204.094 Q2124.19 205.854 2124.19 209.025 Q2124.19 212.636 2121.32 214.742 Q2118.47 216.849 2113.47 216.849 Q2111.39 216.849 2109.12 216.432 Q2106.87 216.039 2104.37 215.228 L2104.37 210.83 Q2106.73 212.057 2109.03 212.682 Q2111.32 213.284 2113.56 213.284 Q2116.57 213.284 2118.19 212.266 Q2119.81 211.224 2119.81 209.349 Q2119.81 207.613 2118.63 206.687 Q2117.47 205.761 2113.52 204.904 L2112.04 204.557 Q2108.08 203.724 2106.32 202.011 Q2104.56 200.275 2104.56 197.266 Q2104.56 193.608 2107.15 191.618 Q2109.74 189.627 2114.51 189.627 Q2116.87 189.627 2118.96 189.974 Q2121.04 190.321 2122.8 191.016 Z\" fill=\"#000000\" fill-rule=\"evenodd\" fill-opacity=\"1\" /><path clip-path=\"url(#clip270)\" d=\"M2142.75 203.145 Q2137.59 203.145 2135.6 204.326 Q2133.61 205.506 2133.61 208.354 Q2133.61 210.622 2135.09 211.965 Q2136.6 213.284 2139.16 213.284 Q2142.71 213.284 2144.84 210.784 Q2146.99 208.261 2146.99 204.094 L2146.99 203.145 L2142.75 203.145 M2151.25 201.386 L2151.25 216.178 L2146.99 216.178 L2146.99 212.242 Q2145.53 214.603 2143.35 215.738 Q2141.18 216.849 2138.03 216.849 Q2134.05 216.849 2131.69 214.627 Q2129.35 212.381 2129.35 208.631 Q2129.35 204.256 2132.27 202.034 Q2135.21 199.812 2141.02 199.812 L2146.99 199.812 L2146.99 199.395 Q2146.99 196.455 2145.04 194.858 Q2143.12 193.238 2139.63 193.238 Q2137.41 193.238 2135.3 193.77 Q2133.19 194.303 2131.25 195.367 L2131.25 191.432 Q2133.59 190.53 2135.78 190.09 Q2137.98 189.627 2140.07 189.627 Q2145.69 189.627 2148.47 192.543 Q2151.25 195.46 2151.25 201.386 Z\" fill=\"#000000\" fill-rule=\"evenodd\" fill-opacity=\"1\" /><path clip-path=\"url(#clip270)\" d=\"\n",
       "M1835.01 271.474 L1978.93 271.474 L1978.93 230.002 L1835.01 230.002 L1835.01 271.474  Z\n",
       "  \" fill=\"#3da44d\" fill-rule=\"evenodd\" fill-opacity=\"1\"/>\n",
       "<polyline clip-path=\"url(#clip270)\" style=\"stroke:#000000; stroke-linecap:butt; stroke-linejoin:round; stroke-width:4; stroke-opacity:1; fill:none\" points=\"\n",
       "  1835.01,271.474 1978.93,271.474 1978.93,230.002 1835.01,230.002 1835.01,271.474 \n",
       "  \"/>\n",
       "<path clip-path=\"url(#clip270)\" d=\"M2002.92 242.092 L2007.43 242.092 L2015.53 263.851 L2023.63 242.092 L2028.15 242.092 L2018.42 268.018 L2012.64 268.018 L2002.92 242.092 Z\" fill=\"#000000\" fill-rule=\"evenodd\" fill-opacity=\"1\" /><path clip-path=\"url(#clip270)\" d=\"M2056.2 253.99 L2056.2 256.073 L2036.62 256.073 Q2036.9 260.471 2039.26 262.786 Q2041.64 265.078 2045.88 265.078 Q2048.33 265.078 2050.62 264.476 Q2052.94 263.874 2055.21 262.67 L2055.21 266.698 Q2052.92 267.67 2050.51 268.18 Q2048.1 268.689 2045.62 268.689 Q2039.42 268.689 2035.79 265.078 Q2032.17 261.467 2032.17 255.309 Q2032.17 248.944 2035.6 245.217 Q2039.05 241.467 2044.88 241.467 Q2050.11 241.467 2053.15 244.846 Q2056.2 248.203 2056.2 253.99 M2051.94 252.74 Q2051.9 249.245 2049.98 247.161 Q2048.08 245.078 2044.93 245.078 Q2041.36 245.078 2039.21 247.092 Q2037.08 249.106 2036.76 252.763 L2051.94 252.74 Z\" fill=\"#000000\" fill-rule=\"evenodd\" fill-opacity=\"1\" /><path clip-path=\"url(#clip270)\" d=\"M2078.22 246.073 Q2077.5 245.657 2076.64 245.471 Q2075.81 245.263 2074.79 245.263 Q2071.18 245.263 2069.23 247.624 Q2067.31 249.962 2067.31 254.36 L2067.31 268.018 L2063.03 268.018 L2063.03 242.092 L2067.31 242.092 L2067.31 246.12 Q2068.66 243.758 2070.81 242.624 Q2072.96 241.467 2076.04 241.467 Q2076.48 241.467 2077.01 241.536 Q2077.54 241.583 2078.19 241.698 L2078.22 246.073 Z\" fill=\"#000000\" fill-rule=\"evenodd\" fill-opacity=\"1\" /><path clip-path=\"url(#clip270)\" d=\"M2099.21 242.856 L2099.21 246.883 Q2097.41 245.957 2095.46 245.495 Q2093.52 245.032 2091.43 245.032 Q2088.26 245.032 2086.66 246.004 Q2085.09 246.976 2085.09 248.92 Q2085.09 250.402 2086.23 251.258 Q2087.36 252.092 2090.79 252.856 L2092.24 253.18 Q2096.78 254.152 2098.68 255.934 Q2100.6 257.694 2100.6 260.865 Q2100.6 264.476 2097.73 266.582 Q2094.88 268.689 2089.88 268.689 Q2087.8 268.689 2085.53 268.272 Q2083.29 267.879 2080.79 267.068 L2080.79 262.67 Q2083.15 263.897 2085.44 264.522 Q2087.73 265.124 2089.98 265.124 Q2092.98 265.124 2094.6 264.106 Q2096.22 263.064 2096.22 261.189 Q2096.22 259.453 2095.04 258.527 Q2093.89 257.601 2089.93 256.744 L2088.45 256.397 Q2084.49 255.564 2082.73 253.851 Q2080.97 252.115 2080.97 249.106 Q2080.97 245.448 2083.56 243.458 Q2086.16 241.467 2090.92 241.467 Q2093.29 241.467 2095.37 241.814 Q2097.45 242.161 2099.21 242.856 Z\" fill=\"#000000\" fill-rule=\"evenodd\" fill-opacity=\"1\" /><path clip-path=\"url(#clip270)\" d=\"M2107.38 242.092 L2111.64 242.092 L2111.64 268.018 L2107.38 268.018 L2107.38 242.092 M2107.38 231.999 L2111.64 231.999 L2111.64 237.393 L2107.38 237.393 L2107.38 231.999 Z\" fill=\"#000000\" fill-rule=\"evenodd\" fill-opacity=\"1\" /><path clip-path=\"url(#clip270)\" d=\"M2139.21 243.087 L2139.21 247.069 Q2137.41 246.073 2135.58 245.587 Q2133.77 245.078 2131.92 245.078 Q2127.78 245.078 2125.48 247.717 Q2123.19 250.332 2123.19 255.078 Q2123.19 259.823 2125.48 262.462 Q2127.78 265.078 2131.92 265.078 Q2133.77 265.078 2135.58 264.592 Q2137.41 264.082 2139.21 263.087 L2139.21 267.022 Q2137.43 267.856 2135.51 268.272 Q2133.61 268.689 2131.46 268.689 Q2125.6 268.689 2122.15 265.008 Q2118.7 261.328 2118.7 255.078 Q2118.7 248.735 2122.17 245.101 Q2125.67 241.467 2131.73 241.467 Q2133.7 241.467 2135.58 241.883 Q2137.45 242.277 2139.21 243.087 Z\" fill=\"#000000\" fill-rule=\"evenodd\" fill-opacity=\"1\" /><path clip-path=\"url(#clip270)\" d=\"M2156.66 245.078 Q2153.24 245.078 2151.25 247.763 Q2149.26 250.425 2149.26 255.078 Q2149.26 259.731 2151.22 262.416 Q2153.22 265.078 2156.66 265.078 Q2160.07 265.078 2162.06 262.393 Q2164.05 259.707 2164.05 255.078 Q2164.05 250.471 2162.06 247.786 Q2160.07 245.078 2156.66 245.078 M2156.66 241.467 Q2162.22 241.467 2165.39 245.078 Q2168.56 248.689 2168.56 255.078 Q2168.56 261.444 2165.39 265.078 Q2162.22 268.689 2156.66 268.689 Q2151.09 268.689 2147.91 265.078 Q2144.77 261.444 2144.77 255.078 Q2144.77 248.689 2147.91 245.078 Q2151.09 241.467 2156.66 241.467 Z\" fill=\"#000000\" fill-rule=\"evenodd\" fill-opacity=\"1\" /><path clip-path=\"url(#clip270)\" d=\"M2175.62 231.999 L2179.88 231.999 L2179.88 268.018 L2175.62 268.018 L2175.62 231.999 Z\" fill=\"#000000\" fill-rule=\"evenodd\" fill-opacity=\"1\" /><path clip-path=\"url(#clip270)\" d=\"M2198.84 245.078 Q2195.41 245.078 2193.42 247.763 Q2191.43 250.425 2191.43 255.078 Q2191.43 259.731 2193.4 262.416 Q2195.39 265.078 2198.84 265.078 Q2202.24 265.078 2204.23 262.393 Q2206.22 259.707 2206.22 255.078 Q2206.22 250.471 2204.23 247.786 Q2202.24 245.078 2198.84 245.078 M2198.84 241.467 Q2204.4 241.467 2207.57 245.078 Q2210.74 248.689 2210.74 255.078 Q2210.74 261.444 2207.57 265.078 Q2204.4 268.689 2198.84 268.689 Q2193.26 268.689 2190.09 265.078 Q2186.94 261.444 2186.94 255.078 Q2186.94 248.689 2190.09 245.078 Q2193.26 241.467 2198.84 241.467 Z\" fill=\"#000000\" fill-rule=\"evenodd\" fill-opacity=\"1\" /><path clip-path=\"url(#clip270)\" d=\"M2232.82 246.073 Q2232.1 245.657 2231.25 245.471 Q2230.41 245.263 2229.4 245.263 Q2225.78 245.263 2223.84 247.624 Q2221.92 249.962 2221.92 254.36 L2221.92 268.018 L2217.64 268.018 L2217.64 242.092 L2221.92 242.092 L2221.92 246.12 Q2223.26 243.758 2225.41 242.624 Q2227.57 241.467 2230.65 241.467 Q2231.09 241.467 2231.62 241.536 Q2232.15 241.583 2232.8 241.698 L2232.82 246.073 Z\" fill=\"#000000\" fill-rule=\"evenodd\" fill-opacity=\"1\" /></svg>\n"
      ]
     },
     "execution_count": 36,
     "metadata": {},
     "output_type": "execute_result"
    }
   ],
   "source": [
    "Plots.gr()\n",
    "pie(a,b)"
   ]
  },
  {
   "cell_type": "markdown",
   "metadata": {},
   "source": [
    "- Count of each class"
   ]
  },
  {
   "cell_type": "code",
   "execution_count": 37,
   "metadata": {},
   "outputs": [
    {
     "data": {
      "text/plain": [
       "Dict{String15, Int64} with 3 entries:\n",
       "  \"virginica\"  => 50\n",
       "  \"setosa\"     => 50\n",
       "  \"versicolor\" => 50"
      ]
     },
     "execution_count": 37,
     "metadata": {},
     "output_type": "execute_result"
    }
   ],
   "source": [
    "countmap(df.Species) # as thing as pie chart"
   ]
  },
  {
   "cell_type": "markdown",
   "metadata": {},
   "source": [
    "### Splitting data \n",
    "- Train and test"
   ]
  },
  {
   "cell_type": "code",
   "execution_count": 38,
   "metadata": {},
   "outputs": [
    {
     "data": {
      "text/plain": [
       "150×4 Matrix{Float64}:\n",
       "   1.0  5.1  3.5  1.4\n",
       "   2.0  4.9  3.0  1.4\n",
       "   3.0  4.7  3.2  1.3\n",
       "   4.0  4.6  3.1  1.5\n",
       "   5.0  5.0  3.6  1.4\n",
       "   6.0  5.4  3.9  1.7\n",
       "   7.0  4.6  3.4  1.4\n",
       "   8.0  5.0  3.4  1.5\n",
       "   9.0  4.4  2.9  1.4\n",
       "  10.0  4.9  3.1  1.5\n",
       "  11.0  5.4  3.7  1.5\n",
       "  12.0  4.8  3.4  1.6\n",
       "  13.0  4.8  3.0  1.4\n",
       "   ⋮              \n",
       " 139.0  6.0  3.0  4.8\n",
       " 140.0  6.9  3.1  5.4\n",
       " 141.0  6.7  3.1  5.6\n",
       " 142.0  6.9  3.1  5.1\n",
       " 143.0  5.8  2.7  5.1\n",
       " 144.0  6.8  3.2  5.9\n",
       " 145.0  6.7  3.3  5.7\n",
       " 146.0  6.7  3.0  5.2\n",
       " 147.0  6.3  2.5  5.0\n",
       " 148.0  6.5  3.0  5.2\n",
       " 149.0  6.2  3.4  5.4\n",
       " 150.0  5.9  3.0  5.1"
      ]
     },
     "execution_count": 38,
     "metadata": {},
     "output_type": "execute_result"
    }
   ],
   "source": [
    "X = Matrix(df[:,1:4])"
   ]
  },
  {
   "cell_type": "code",
   "execution_count": 39,
   "metadata": {},
   "outputs": [
    {
     "data": {
      "text/plain": [
       "150-element PooledArrays.PooledVector{String15, UInt32, Vector{UInt32}}:\n",
       " \"setosa\"\n",
       " \"setosa\"\n",
       " \"setosa\"\n",
       " \"setosa\"\n",
       " \"setosa\"\n",
       " \"setosa\"\n",
       " \"setosa\"\n",
       " \"setosa\"\n",
       " \"setosa\"\n",
       " \"setosa\"\n",
       " \"setosa\"\n",
       " \"setosa\"\n",
       " \"setosa\"\n",
       " ⋮\n",
       " \"virginica\"\n",
       " \"virginica\"\n",
       " \"virginica\"\n",
       " \"virginica\"\n",
       " \"virginica\"\n",
       " \"virginica\"\n",
       " \"virginica\"\n",
       " \"virginica\"\n",
       " \"virginica\"\n",
       " \"virginica\"\n",
       " \"virginica\"\n",
       " \"virginica\""
      ]
     },
     "execution_count": 39,
     "metadata": {},
     "output_type": "execute_result"
    }
   ],
   "source": [
    "irislabels = df.Species"
   ]
  },
  {
   "cell_type": "markdown",
   "metadata": {},
   "source": [
    "#### Label Encoding \n",
    "- Species "
   ]
  },
  {
   "cell_type": "code",
   "execution_count": 40,
   "metadata": {},
   "outputs": [
    {
     "data": {
      "text/plain": [
       "LabelMap (with 3 labels):\n",
       "[1] setosa\n",
       "[2] versicolor\n",
       "[3] virginica\n"
      ]
     },
     "execution_count": 40,
     "metadata": {},
     "output_type": "execute_result"
    }
   ],
   "source": [
    "irislabelsmap = labelmap(irislabels)"
   ]
  },
  {
   "cell_type": "code",
   "execution_count": 41,
   "metadata": {},
   "outputs": [
    {
     "data": {
      "text/plain": [
       "150-element Vector{Int64}:\n",
       " 1\n",
       " 1\n",
       " 1\n",
       " 1\n",
       " 1\n",
       " 1\n",
       " 1\n",
       " 1\n",
       " 1\n",
       " 1\n",
       " 1\n",
       " 1\n",
       " 1\n",
       " ⋮\n",
       " 3\n",
       " 3\n",
       " 3\n",
       " 3\n",
       " 3\n",
       " 3\n",
       " 3\n",
       " 3\n",
       " 3\n",
       " 3\n",
       " 3\n",
       " 3"
      ]
     },
     "execution_count": 41,
     "metadata": {},
     "output_type": "execute_result"
    }
   ],
   "source": [
    "y = labelencode(irislabelsmap, irislabels)"
   ]
  },
  {
   "cell_type": "markdown",
   "metadata": {},
   "source": [
    "- Splitting Data Function\n",
    "- randsubseq same as random in python"
   ]
  },
  {
   "cell_type": "code",
   "execution_count": 42,
   "metadata": {},
   "outputs": [
    {
     "data": {
      "text/plain": [
       "perclass_splits (generic function with 1 method)"
      ]
     },
     "execution_count": 42,
     "metadata": {},
     "output_type": "execute_result"
    }
   ],
   "source": [
    "function perclass_splits(y,at)\n",
    "    uids = unique(y)\n",
    "    keepids = []\n",
    "    for ui in uids\n",
    "        curids = findall(y.==ui)\n",
    "        rowids = randsubseq(curids, at) \n",
    "        push!(keepids,rowids...)\n",
    "    end\n",
    "    return keepids\n",
    "end"
   ]
  },
  {
   "cell_type": "code",
   "execution_count": 43,
   "metadata": {},
   "outputs": [
    {
     "data": {
      "text/plain": [
       "37-element Vector{Int64}:\n",
       "   1\n",
       "   2\n",
       "   7\n",
       "  13\n",
       "  14\n",
       "  19\n",
       "  21\n",
       "  22\n",
       "  26\n",
       "  27\n",
       "  33\n",
       "  41\n",
       "  48\n",
       "   ⋮\n",
       " 108\n",
       " 111\n",
       " 112\n",
       " 116\n",
       " 119\n",
       " 125\n",
       " 128\n",
       " 130\n",
       " 138\n",
       " 139\n",
       " 142\n",
       " 150"
      ]
     },
     "execution_count": 43,
     "metadata": {},
     "output_type": "execute_result"
    }
   ],
   "source": [
    "trainids = perclass_splits(y,0.7)\n",
    "testids = setdiff(1:length(y),trainids)"
   ]
  },
  {
   "cell_type": "markdown",
   "metadata": {},
   "source": [
    "### Random Forest "
   ]
  },
  {
   "cell_type": "code",
   "execution_count": 44,
   "metadata": {},
   "outputs": [
    {
     "data": {
      "text/plain": [
       "RandomForestClassifier\n",
       "n_trees:             20\n",
       "n_subfeatures:       -1\n",
       "partial_sampling:    0.7\n",
       "max_depth:           -1\n",
       "min_samples_leaf:    1\n",
       "min_samples_split:   2\n",
       "min_purity_increase: 0.0\n",
       "classes:             [1, 2, 3]\n",
       "ensemble:            Ensemble of Decision Trees\n",
       "Trees:      20\n",
       "Avg Leaves: 5.3\n",
       "Avg Depth:  3.45"
      ]
     },
     "execution_count": 44,
     "metadata": {},
     "output_type": "execute_result"
    }
   ],
   "source": [
    "model = RandomForestClassifier(n_trees=20)\n",
    "DecisionTree.fit!(model, X, y)"
   ]
  },
  {
   "cell_type": "markdown",
   "metadata": {},
   "source": [
    "- Accuracy "
   ]
  },
  {
   "cell_type": "code",
   "execution_count": 45,
   "metadata": {},
   "outputs": [
    {
     "data": {
      "text/plain": [
       "findaccuracy (generic function with 1 method)"
      ]
     },
     "execution_count": 45,
     "metadata": {},
     "output_type": "execute_result"
    }
   ],
   "source": [
    "findaccuracy(predictedvals,groundtruthvals) = sum(predictedvals.==groundtruthvals)/length(groundtruthvals)"
   ]
  },
  {
   "cell_type": "code",
   "execution_count": 46,
   "metadata": {},
   "outputs": [
    {
     "data": {
      "text/plain": [
       "1.0"
      ]
     },
     "execution_count": 46,
     "metadata": {},
     "output_type": "execute_result"
    }
   ],
   "source": [
    "q = X[testids,:];\n",
    "predictions_RF = DecisionTree.predict(model, q)\n",
    "findaccuracy(predictions_RF,y[testids])"
   ]
  },
  {
   "cell_type": "markdown",
   "metadata": {},
   "source": [
    "### Decision Tree"
   ]
  },
  {
   "cell_type": "code",
   "execution_count": 47,
   "metadata": {},
   "outputs": [
    {
     "data": {
      "text/plain": [
       "DecisionTreeClassifier\n",
       "max_depth:                2\n",
       "min_samples_leaf:         1\n",
       "min_samples_split:        2\n",
       "min_purity_increase:      0.0\n",
       "pruning_purity_threshold: 1.0\n",
       "n_subfeatures:            0\n",
       "classes:                  [1, 2, 3]\n",
       "root:                     Decision Tree\n",
       "Leaves: 3\n",
       "Depth:  2"
      ]
     },
     "execution_count": 47,
     "metadata": {},
     "output_type": "execute_result"
    }
   ],
   "source": [
    "model = DecisionTreeClassifier(max_depth=2)\n",
    "DecisionTree.fit!(model, X[trainids,:], y[trainids])"
   ]
  },
  {
   "cell_type": "markdown",
   "metadata": {
    "scrolled": true
   },
   "source": [
    "- Accuracy"
   ]
  },
  {
   "cell_type": "code",
   "execution_count": 48,
   "metadata": {},
   "outputs": [
    {
     "data": {
      "text/plain": [
       "1.0"
      ]
     },
     "execution_count": 48,
     "metadata": {},
     "output_type": "execute_result"
    }
   ],
   "source": [
    "q = X[testids,:];\n",
    "predictions_DT = DecisionTree.predict(model, q)\n",
    "findaccuracy(predictions_DT,y[testids])"
   ]
  },
  {
   "cell_type": "code",
   "execution_count": null,
   "metadata": {},
   "outputs": [],
   "source": []
  }
 ],
 "metadata": {
  "kernelspec": {
   "display_name": "Julia 1.7.1",
   "language": "julia",
   "name": "julia-1.7"
  },
  "language_info": {
   "file_extension": ".jl",
   "mimetype": "application/julia",
   "name": "julia",
   "version": "1.7.1"
  }
 },
 "nbformat": 4,
 "nbformat_minor": 4
}
